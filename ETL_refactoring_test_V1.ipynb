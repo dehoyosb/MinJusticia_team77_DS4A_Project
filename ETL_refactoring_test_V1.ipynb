{
 "cells": [
  {
   "cell_type": "code",
   "execution_count": 1,
   "metadata": {
    "ExecuteTime": {
     "end_time": "2020-06-27T02:13:27.001013Z",
     "start_time": "2020-06-27T02:13:26.347939Z"
    }
   },
   "outputs": [],
   "source": [
    "#Packages:\n",
    "import pandas as pd\n",
    "import string\n",
    "import os\n",
    "import numpy as np\n",
    "import matplotlib.pyplot as plt\n",
    "import seaborn as sns\n",
    "from sqlalchemy import create_engine, text"
   ]
  },
  {
   "cell_type": "code",
   "execution_count": 2,
   "metadata": {
    "ExecuteTime": {
     "end_time": "2020-06-27T02:13:27.004239Z",
     "start_time": "2020-06-27T02:13:27.002253Z"
    }
   },
   "outputs": [],
   "source": [
    "#maximum number of rows to display\n",
    "pd.options.display.max_rows = 20"
   ]
  },
  {
   "cell_type": "markdown",
   "metadata": {},
   "source": [
    "### Classes"
   ]
  },
  {
   "cell_type": "code",
   "execution_count": 3,
   "metadata": {
    "ExecuteTime": {
     "end_time": "2020-06-27T02:13:27.534202Z",
     "start_time": "2020-06-27T02:13:27.521196Z"
    }
   },
   "outputs": [],
   "source": [
    "class DbEngine():\n",
    "    def __init__(self, user, password, ip, port, db):\n",
    "        self.user = user\n",
    "        self.password = password\n",
    "        self.ip = ip\n",
    "        self.port = port\n",
    "        self.db = db\n",
    "    \n",
    "    def connect(self):\n",
    "        return create_engine('postgresql://{}:{}@{}:{}/{}' \\\n",
    "                                .format(self.user, \n",
    "                                        self.password,\n",
    "                                        self.ip,\n",
    "                                        self.port,\n",
    "                                        self.db), max_overflow=20)"
   ]
  },
  {
   "cell_type": "code",
   "execution_count": 4,
   "metadata": {
    "ExecuteTime": {
     "end_time": "2020-06-27T02:13:28.762766Z",
     "start_time": "2020-06-27T02:13:28.756949Z"
    }
   },
   "outputs": [],
   "source": [
    "class Queries():\n",
    "    def __init__(self, engine):\n",
    "        self.engine = engine\n",
    "    \n",
    "    def run(self, sql):\n",
    "        result = self.engine.connect().execution_options(isolation_level=\"AUTOCOMMIT\").execute((text(sql)))\n",
    "        return pd.DataFrame(result.fetchall(), columns=result.keys())\n",
    "    \n",
    "    def insert(self, sql):\n",
    "        return self.engine.connect().execution_options(isolation_level=\"AUTOCOMMIT\").execute((text(sql)))"
   ]
  },
  {
   "cell_type": "code",
   "execution_count": 5,
   "metadata": {
    "ExecuteTime": {
     "end_time": "2020-06-27T02:13:30.220612Z",
     "start_time": "2020-06-27T02:13:30.199722Z"
    },
    "code_folding": []
   },
   "outputs": [],
   "source": [
    "class ETL():\n",
    "    def __init__(self, query_obj):\n",
    "        self.queries = query_obj\n",
    "        \n",
    "    def inmate_static_info(self, data):\n",
    "        ############## etnic recognition\n",
    "        data_people = data[['INTERNOEN', 'GENERO', 'PAIS_INTERNO', 'REINCIDENTE', \n",
    "                            'ANO_NACIMIENTO', 'ESTADO_CIVIL','NIVEL_EDUCATIVO', 'CONDIC_EXPECIONAL']] \\\n",
    "                      .drop_duplicates(subset = [\"INTERNOEN\"])\n",
    "        data_people = data_people.reset_index(drop=True)\n",
    "        data_people['CONDIC_EXPECIONAL'] = data_people['CONDIC_EXPECIONAL'].fillna('NINGUNO')\n",
    "        \n",
    "        etnic_recognition = self.queries.run(\"\"\"select * from reconocimiento_etnico\"\"\")\n",
    "        data_people['reconocimiento_etnico'] = 'NINGUNO'\n",
    "        for i in etnic_recognition.index:\n",
    "            data_people.loc[(data_people['CONDIC_EXPECIONAL'].str.contains(etnic_recognition['nombre'].values[i])),\n",
    "                            'reconocimiento_etnico'] =  etnic_recognition['nombre'].values[i]\n",
    "            \n",
    "        ############## foreign\n",
    "        data_people['extranjero'] = 'N'\n",
    "        data_people.loc[(data_people['CONDIC_EXPECIONAL'].str.contains('EXTRANJEROS')),'extranjero'] =  'S'\n",
    "        \n",
    "        ############## sexual diversity\n",
    "        sexual_dive = self.queries.run(\"\"\"select * from diversidad_sexual\"\"\")\n",
    "        data_people['diversidad_sexual'] = 'N'\n",
    "        for i in sexual_dive.index:\n",
    "            data_people.loc[(data_people['CONDIC_EXPECIONAL'].str.contains(sexual_dive['nombre'].values[i])),\n",
    "                            'diversidad_sexual'] =  'S'\n",
    "    \n",
    "        personas_genero = self.queries.run(\"\"\"select * from persona where diversidad_sexual = 2\"\"\")\n",
    "        for i in personas_genero.index:\n",
    "            for j in sexual_dive.index:\n",
    "                if sexual_dive['nombre'].values[j] in personas_genero['condicion_exepcional'].values[i]:\n",
    "                    query = str(personas_genero['id_persona'].values[i]) + ', ' \\\n",
    "                                + str(sexual_dive['id_diversidad_sexual'].values[j])\n",
    "                    self.queries.insert('INSERT INTO public.persona_diversidad_sexual (id_persona, id_diversidad_sexual) VALUES('+query+');')\n",
    "        \n",
    "        ############## people\n",
    "        data_people.to_sql('personas_tmp', con=self.queries.engine)\n",
    "        self.queries.run('select * from personas_tmp limit 5')\n",
    "        self.queries.run('SELECT public.tcompararpersonas();')\n",
    "        \n",
    "    def inmate_variable_info(self, data):\n",
    "        data_reg= data[['INTERNOEN', 'GENERO','DELITO','ESTADO_INGRESO','FECHA_CAPTURA',\n",
    "                        'FECHA_INGRESO','ESTABLECIMIENTO','TENTATIVA','SUBTITULO_DELITO',\n",
    "                        'AGRAVADO', 'CALIFICADO','FECHA_SALIDA','EDAD','DEPARTAMENTO', 'CIUDAD',\n",
    "                        'ACTIVIDADES_TRABAJO', 'ACTIVIDADES_ESTUDIO', 'ACTIVIDADES_ENSEÑANZA',\n",
    "                        'HIJOS_MENORES', 'CONDIC_EXPECIONAL','ESTADO','SITUACION_JURIDICA']]\n",
    "        \n",
    "        ############## No exceptional condition\n",
    "        data_reg['CONDIC_EXPECIONAL'] = data_reg['CONDIC_EXPECIONAL'].fillna('NINGUNO')\n",
    "\n",
    "        ############## Madre Gestantes\n",
    "        data_reg['madre_gestante'] = 'NA'\n",
    "        data_reg.loc[(data_reg['GENERO'].str.contains('FEMENINO')),'madre_gestante'] = 'N'\n",
    "        data_reg.loc[(data_reg['CONDIC_EXPECIONAL'].str.contains('MADRE GESTANTE')),'madre_gestante'] =  'S'\n",
    "\n",
    "        data_reg['madre_lactante'] = 'NA'\n",
    "        data_reg.loc[(data_reg['GENERO'].str.contains('FEMENINO')),'madre_lactante'] = 'N'\n",
    "        data_reg.loc[(data_reg['CONDIC_EXPECIONAL'].str.contains('MADRE LACTANTE')),'madre_lactante'] =  'S'\n",
    "\n",
    "        ############## Discapacitad\n",
    "        data_reg['discapacidad'] = 'N'\n",
    "        data_reg.loc[(data_reg['CONDIC_EXPECIONAL'].str.contains('CON DISCAPACIDAD')),'discapacidad'] =  'S'\n",
    "\n",
    "        ############## Adulto Mayor\n",
    "        data_reg['adulto_mayor'] = 'N'\n",
    "        data_reg.loc[(data_reg['CONDIC_EXPECIONAL'].str.contains('ADULTO MAYOR')),'adulto_mayor'] =  'S'\n",
    "        \n",
    "        ############## registro\n",
    "        data_reg.to_sql('registros_tmp', con=self.queries.engine)\n",
    "        self.queries.run('select * from registros_tmp limit 5')\n",
    "        self.queries.run('SELECT public.tcompararreg();')"
   ]
  },
  {
   "cell_type": "markdown",
   "metadata": {},
   "source": [
    "### Insert Data"
   ]
  },
  {
   "cell_type": "markdown",
   "metadata": {},
   "source": [
    "#### Loading Data"
   ]
  },
  {
   "cell_type": "code",
   "execution_count": 6,
   "metadata": {
    "ExecuteTime": {
     "end_time": "2020-06-27T02:14:00.502820Z",
     "start_time": "2020-06-27T02:13:32.552763Z"
    },
    "scrolled": true
   },
   "outputs": [
    {
     "data": {
      "text/plain": [
       "INTERNOEN                142899\n",
       "DELITO                   142899\n",
       "TITULO_DELITO            142899\n",
       "SUBTITULO_DELITO         142899\n",
       "TENTATIVA                142899\n",
       "                          ...  \n",
       "ESTABLECIMIENTO          142899\n",
       "DEPTO_ESTABLECIMIENTO    140108\n",
       "MPIO_ESTABLECIMIENTO     140108\n",
       "REGIONAL                 142899\n",
       "ESTADO                   142899\n",
       "Length: 32, dtype: int64"
      ]
     },
     "execution_count": 6,
     "metadata": {},
     "output_type": "execute_result"
    }
   ],
   "source": [
    "# data reading from excel\n",
    "data = pd.read_excel('data/ReincidenciaPospenadosNal201011Junio2020Rev.xlsx', skiprows = 6)\n",
    "data.count()"
   ]
  },
  {
   "cell_type": "code",
   "execution_count": 7,
   "metadata": {
    "ExecuteTime": {
     "end_time": "2020-06-27T02:14:00.508175Z",
     "start_time": "2020-06-27T02:14:00.504230Z"
    }
   },
   "outputs": [
    {
     "data": {
      "text/plain": [
       "Index(['INTERNOEN', 'DELITO', 'TITULO_DELITO', 'SUBTITULO_DELITO', 'TENTATIVA',\n",
       "       'AGRAVADO', 'CALIFICADO', 'FECHA_INGRESO', 'FECHA_SALIDA',\n",
       "       'FECHA_CAPTURA', 'SITUACION_JURIDICA', 'ANO_NACIMIENTO', 'EDAD',\n",
       "       'GENERO', 'ESTADO_CIVIL', 'PAIS_INTERNO', 'DEPARTAMENTO', 'CIUDAD',\n",
       "       'REINCIDENTE', 'ESTADO_INGRESO', 'ACTIVIDADES_TRABAJO',\n",
       "       'ACTIVIDADES_ESTUDIO', 'ACTIVIDADES_ENSEÑANZA', 'NIVEL_EDUCATIVO',\n",
       "       'HIJOS_MENORES', 'CONDIC_EXPECIONAL', 'CODIGO_ESTABLECIMIENTO',\n",
       "       'ESTABLECIMIENTO', 'DEPTO_ESTABLECIMIENTO', 'MPIO_ESTABLECIMIENTO',\n",
       "       'REGIONAL', 'ESTADO'],\n",
       "      dtype='object')"
      ]
     },
     "execution_count": 7,
     "metadata": {},
     "output_type": "execute_result"
    }
   ],
   "source": [
    "data.columns"
   ]
  },
  {
   "cell_type": "markdown",
   "metadata": {},
   "source": [
    "#### ETL"
   ]
  },
  {
   "cell_type": "code",
   "execution_count": 8,
   "metadata": {
    "ExecuteTime": {
     "end_time": "2020-06-27T02:14:03.566692Z",
     "start_time": "2020-06-27T02:14:03.515245Z"
    }
   },
   "outputs": [],
   "source": [
    "db_engine = DbEngine(user = 'team77', \n",
    "                     password = 'mintic2020.',\n",
    "                     ip = '172.17.0.2', \n",
    "                     port = '5432', \n",
    "                     db = 'minjusticia')\n",
    "engine = db_engine.connect()"
   ]
  },
  {
   "cell_type": "code",
   "execution_count": 9,
   "metadata": {
    "ExecuteTime": {
     "end_time": "2020-06-27T02:14:03.982297Z",
     "start_time": "2020-06-27T02:14:03.977511Z"
    }
   },
   "outputs": [],
   "source": [
    "queries = Queries(engine)"
   ]
  },
  {
   "cell_type": "code",
   "execution_count": 10,
   "metadata": {
    "ExecuteTime": {
     "end_time": "2020-06-27T02:14:04.561148Z",
     "start_time": "2020-06-27T02:14:04.555945Z"
    }
   },
   "outputs": [],
   "source": [
    "etl = ETL(queries)"
   ]
  },
  {
   "cell_type": "code",
   "execution_count": 11,
   "metadata": {
    "ExecuteTime": {
     "end_time": "2020-06-27T02:15:00.898188Z",
     "start_time": "2020-06-27T02:14:06.912087Z"
    }
   },
   "outputs": [
    {
     "name": "stderr",
     "output_type": "stream",
     "text": [
      "/opt/conda/envs/nlp/lib/python3.7/site-packages/ipykernel_launcher.py:51: SettingWithCopyWarning: \n",
      "A value is trying to be set on a copy of a slice from a DataFrame.\n",
      "Try using .loc[row_indexer,col_indexer] = value instead\n",
      "\n",
      "See the caveats in the documentation: https://pandas.pydata.org/pandas-docs/stable/user_guide/indexing.html#returning-a-view-versus-a-copy\n",
      "/opt/conda/envs/nlp/lib/python3.7/site-packages/ipykernel_launcher.py:54: SettingWithCopyWarning: \n",
      "A value is trying to be set on a copy of a slice from a DataFrame.\n",
      "Try using .loc[row_indexer,col_indexer] = value instead\n",
      "\n",
      "See the caveats in the documentation: https://pandas.pydata.org/pandas-docs/stable/user_guide/indexing.html#returning-a-view-versus-a-copy\n",
      "/opt/conda/envs/nlp/lib/python3.7/site-packages/pandas/core/indexing.py:966: SettingWithCopyWarning: \n",
      "A value is trying to be set on a copy of a slice from a DataFrame.\n",
      "Try using .loc[row_indexer,col_indexer] = value instead\n",
      "\n",
      "See the caveats in the documentation: https://pandas.pydata.org/pandas-docs/stable/user_guide/indexing.html#returning-a-view-versus-a-copy\n",
      "  self.obj[item] = s\n",
      "/opt/conda/envs/nlp/lib/python3.7/site-packages/ipykernel_launcher.py:58: SettingWithCopyWarning: \n",
      "A value is trying to be set on a copy of a slice from a DataFrame.\n",
      "Try using .loc[row_indexer,col_indexer] = value instead\n",
      "\n",
      "See the caveats in the documentation: https://pandas.pydata.org/pandas-docs/stable/user_guide/indexing.html#returning-a-view-versus-a-copy\n",
      "/opt/conda/envs/nlp/lib/python3.7/site-packages/ipykernel_launcher.py:63: SettingWithCopyWarning: \n",
      "A value is trying to be set on a copy of a slice from a DataFrame.\n",
      "Try using .loc[row_indexer,col_indexer] = value instead\n",
      "\n",
      "See the caveats in the documentation: https://pandas.pydata.org/pandas-docs/stable/user_guide/indexing.html#returning-a-view-versus-a-copy\n",
      "/opt/conda/envs/nlp/lib/python3.7/site-packages/ipykernel_launcher.py:67: SettingWithCopyWarning: \n",
      "A value is trying to be set on a copy of a slice from a DataFrame.\n",
      "Try using .loc[row_indexer,col_indexer] = value instead\n",
      "\n",
      "See the caveats in the documentation: https://pandas.pydata.org/pandas-docs/stable/user_guide/indexing.html#returning-a-view-versus-a-copy\n"
     ]
    }
   ],
   "source": [
    "etl.inmate_static_info(data)\n",
    "etl.inmate_variable_info(data)"
   ]
  },
  {
   "cell_type": "code",
   "execution_count": null,
   "metadata": {},
   "outputs": [],
   "source": []
  }
 ],
 "metadata": {
  "kernelspec": {
   "display_name": "Python 3",
   "language": "python",
   "name": "python3"
  },
  "language_info": {
   "codemirror_mode": {
    "name": "ipython",
    "version": 3
   },
   "file_extension": ".py",
   "mimetype": "text/x-python",
   "name": "python",
   "nbconvert_exporter": "python",
   "pygments_lexer": "ipython3",
   "version": "3.7.3"
  },
  "toc": {
   "base_numbering": 1,
   "nav_menu": {},
   "number_sections": true,
   "sideBar": true,
   "skip_h1_title": false,
   "title_cell": "Table of Contents",
   "title_sidebar": "Contents",
   "toc_cell": false,
   "toc_position": {},
   "toc_section_display": true,
   "toc_window_display": true
  }
 },
 "nbformat": 4,
 "nbformat_minor": 4
}
