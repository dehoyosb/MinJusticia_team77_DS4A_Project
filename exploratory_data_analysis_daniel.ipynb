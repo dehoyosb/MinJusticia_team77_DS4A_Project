{
 "cells": [
  {
   "cell_type": "code",
   "execution_count": 138,
   "metadata": {
    "ExecuteTime": {
     "end_time": "2020-06-19T02:45:19.694368Z",
     "start_time": "2020-06-19T02:45:19.691855Z"
    }
   },
   "outputs": [],
   "source": [
    "import pandas as pd\n",
    "import numpy as np\n",
    "import re\n",
    "import unidecode\n",
    "import plotly.express as px\n",
    "import plotly.io as pio"
   ]
  },
  {
   "cell_type": "code",
   "execution_count": 2,
   "metadata": {
    "ExecuteTime": {
     "end_time": "2020-06-19T02:35:57.172375Z",
     "start_time": "2020-06-19T02:35:57.170375Z"
    }
   },
   "outputs": [],
   "source": [
    "pd.set_option('display.max_columns', 100)"
   ]
  },
  {
   "cell_type": "code",
   "execution_count": 139,
   "metadata": {
    "ExecuteTime": {
     "end_time": "2020-06-19T02:45:22.490970Z",
     "start_time": "2020-06-19T02:45:22.353756Z"
    }
   },
   "outputs": [],
   "source": [
    "pio.renderers.default='notebook'"
   ]
  },
  {
   "cell_type": "markdown",
   "metadata": {},
   "source": [
    "## Loading Data"
   ]
  },
  {
   "cell_type": "markdown",
   "metadata": {},
   "source": [
    "### File ReincidenciaPospenadosNal201011Junio2020Rev.xlsx"
   ]
  },
  {
   "cell_type": "code",
   "execution_count": 3,
   "metadata": {
    "ExecuteTime": {
     "end_time": "2020-06-19T02:36:27.861618Z",
     "start_time": "2020-06-19T02:35:58.031900Z"
    },
    "scrolled": true
   },
   "outputs": [
    {
     "data": {
      "text/html": [
       "<div>\n",
       "<style scoped>\n",
       "    .dataframe tbody tr th:only-of-type {\n",
       "        vertical-align: middle;\n",
       "    }\n",
       "\n",
       "    .dataframe tbody tr th {\n",
       "        vertical-align: top;\n",
       "    }\n",
       "\n",
       "    .dataframe thead th {\n",
       "        text-align: right;\n",
       "    }\n",
       "</style>\n",
       "<table border=\"1\" class=\"dataframe\">\n",
       "  <thead>\n",
       "    <tr style=\"text-align: right;\">\n",
       "      <th></th>\n",
       "      <th>INTERNOEN</th>\n",
       "      <th>DELITO</th>\n",
       "      <th>TITULO_DELITO</th>\n",
       "      <th>SUBTITULO_DELITO</th>\n",
       "      <th>TENTATIVA</th>\n",
       "      <th>AGRAVADO</th>\n",
       "      <th>CALIFICADO</th>\n",
       "      <th>FECHA_INGRESO</th>\n",
       "      <th>FECHA_SALIDA</th>\n",
       "      <th>FECHA_CAPTURA</th>\n",
       "      <th>SITUACION_JURIDICA</th>\n",
       "      <th>ANO_NACIMIENTO</th>\n",
       "      <th>EDAD</th>\n",
       "      <th>GENERO</th>\n",
       "      <th>ESTADO_CIVIL</th>\n",
       "      <th>PAIS_INTERNO</th>\n",
       "      <th>DEPARTAMENTO</th>\n",
       "      <th>CIUDAD</th>\n",
       "      <th>REINCIDENTE</th>\n",
       "      <th>ESTADO_INGRESO</th>\n",
       "      <th>ACTIVIDADES_TRABAJO</th>\n",
       "      <th>ACTIVIDADES_ESTUDIO</th>\n",
       "      <th>ACTIVIDADES_ENSEÑANZA</th>\n",
       "      <th>NIVEL_EDUCATIVO</th>\n",
       "      <th>HIJOS_MENORES</th>\n",
       "      <th>CONDIC_EXPECIONAL</th>\n",
       "      <th>CODIGO_ESTABLECIMIENTO</th>\n",
       "      <th>ESTABLECIMIENTO</th>\n",
       "      <th>DEPTO_ESTABLECIMIENTO</th>\n",
       "      <th>MPIO_ESTABLECIMIENTO</th>\n",
       "      <th>REGIONAL</th>\n",
       "      <th>ESTADO</th>\n",
       "    </tr>\n",
       "  </thead>\n",
       "  <tbody>\n",
       "    <tr>\n",
       "      <th>6</th>\n",
       "      <td>5496C737C624136DB406CFC6744C684C070A3CD8</td>\n",
       "      <td>FABRICACION TRAFICO Y PORTE DE ARMAS DE FUEGO ...</td>\n",
       "      <td>CONTRA LA SEGURIDAD PUBLICA</td>\n",
       "      <td>DE LOS DELITOS DE PELIGRO COMUN O QUE PUEDEN O...</td>\n",
       "      <td>N</td>\n",
       "      <td>N</td>\n",
       "      <td>N</td>\n",
       "      <td>01/01/10</td>\n",
       "      <td>12/05/11</td>\n",
       "      <td>30/12/09</td>\n",
       "      <td>CO</td>\n",
       "      <td>1972</td>\n",
       "      <td>48</td>\n",
       "      <td>MASCULINO</td>\n",
       "      <td>NaN</td>\n",
       "      <td>REPUBLICA DE COLOMBIA</td>\n",
       "      <td>ANTIOQUIA</td>\n",
       "      <td>ENVIGADO-ANTIOQUIA</td>\n",
       "      <td>SI</td>\n",
       "      <td>Intramuros</td>\n",
       "      <td>SI</td>\n",
       "      <td>SI</td>\n",
       "      <td>NO</td>\n",
       "      <td>CICLO III</td>\n",
       "      <td>SI</td>\n",
       "      <td>NaN</td>\n",
       "      <td>502</td>\n",
       "      <td>EPMSC MEDELLIN</td>\n",
       "      <td>ANTIOQUIA</td>\n",
       "      <td>MEDELLIN</td>\n",
       "      <td>NOROESTE</td>\n",
       "      <td>Baja</td>\n",
       "    </tr>\n",
       "    <tr>\n",
       "      <th>7</th>\n",
       "      <td>1097561F306939C26DB4AC60377063DA7E2B079F</td>\n",
       "      <td>TRAFICO FABRICACION O PORTE DE ESTUPEFACIENTES</td>\n",
       "      <td>CONTRA LA SALUD PUBLICA</td>\n",
       "      <td>DE LAS AFECTACIONES A LA SALUD PUBLICA</td>\n",
       "      <td>N</td>\n",
       "      <td>N</td>\n",
       "      <td>N</td>\n",
       "      <td>01/01/10</td>\n",
       "      <td>05/12/11</td>\n",
       "      <td>30/12/09</td>\n",
       "      <td>CO</td>\n",
       "      <td>1962</td>\n",
       "      <td>58</td>\n",
       "      <td>MASCULINO</td>\n",
       "      <td>NaN</td>\n",
       "      <td>REPUBLICA DE COLOMBIA</td>\n",
       "      <td>ANTIOQUIA</td>\n",
       "      <td>ANORI-ANTIOQUIA</td>\n",
       "      <td>SI</td>\n",
       "      <td>Intramuros</td>\n",
       "      <td>NO</td>\n",
       "      <td>NO</td>\n",
       "      <td>NO</td>\n",
       "      <td>CICLO I</td>\n",
       "      <td>SI</td>\n",
       "      <td>NaN</td>\n",
       "      <td>502</td>\n",
       "      <td>EPMSC MEDELLIN</td>\n",
       "      <td>ANTIOQUIA</td>\n",
       "      <td>MEDELLIN</td>\n",
       "      <td>NOROESTE</td>\n",
       "      <td>Baja</td>\n",
       "    </tr>\n",
       "    <tr>\n",
       "      <th>8</th>\n",
       "      <td>CB7033A707ADE673139F8A17CAD26AD54696C135</td>\n",
       "      <td>FABRICACION TRAFICO Y PORTE DE ARMAS DE FUEGO ...</td>\n",
       "      <td>CONTRA LA SEGURIDAD PUBLICA</td>\n",
       "      <td>DE LOS DELITOS DE PELIGRO COMUN O QUE PUEDEN O...</td>\n",
       "      <td>N</td>\n",
       "      <td>N</td>\n",
       "      <td>N</td>\n",
       "      <td>01/01/10</td>\n",
       "      <td>06/08/13</td>\n",
       "      <td>30/12/09</td>\n",
       "      <td>CO</td>\n",
       "      <td>1982</td>\n",
       "      <td>38</td>\n",
       "      <td>MASCULINO</td>\n",
       "      <td>NaN</td>\n",
       "      <td>REPUBLICA DE COLOMBIA</td>\n",
       "      <td>CAUCA</td>\n",
       "      <td>CAJIBIO-CAUCA</td>\n",
       "      <td>SI</td>\n",
       "      <td>Intramuros</td>\n",
       "      <td>SI</td>\n",
       "      <td>SI</td>\n",
       "      <td>NO</td>\n",
       "      <td>CICLO I</td>\n",
       "      <td>SI</td>\n",
       "      <td>NaN</td>\n",
       "      <td>235</td>\n",
       "      <td>EPAMSCAS POPAYAN (ERE)</td>\n",
       "      <td>CAUCA</td>\n",
       "      <td>POPAYAN</td>\n",
       "      <td>OCCIDENTE</td>\n",
       "      <td>Baja</td>\n",
       "    </tr>\n",
       "    <tr>\n",
       "      <th>9</th>\n",
       "      <td>CB7033A707ADE673139F8A17CAD26AD54696C135</td>\n",
       "      <td>HURTO</td>\n",
       "      <td>CONTRA EL PATRIMONIO ECONOMICO</td>\n",
       "      <td>DE LA ESTAFA</td>\n",
       "      <td>N</td>\n",
       "      <td>S</td>\n",
       "      <td>S</td>\n",
       "      <td>01/01/10</td>\n",
       "      <td>06/08/13</td>\n",
       "      <td>30/12/09</td>\n",
       "      <td>CO</td>\n",
       "      <td>1982</td>\n",
       "      <td>38</td>\n",
       "      <td>MASCULINO</td>\n",
       "      <td>NaN</td>\n",
       "      <td>REPUBLICA DE COLOMBIA</td>\n",
       "      <td>CAUCA</td>\n",
       "      <td>CAJIBIO-CAUCA</td>\n",
       "      <td>SI</td>\n",
       "      <td>Intramuros</td>\n",
       "      <td>SI</td>\n",
       "      <td>SI</td>\n",
       "      <td>NO</td>\n",
       "      <td>CICLO I</td>\n",
       "      <td>SI</td>\n",
       "      <td>NaN</td>\n",
       "      <td>235</td>\n",
       "      <td>EPAMSCAS POPAYAN (ERE)</td>\n",
       "      <td>CAUCA</td>\n",
       "      <td>POPAYAN</td>\n",
       "      <td>OCCIDENTE</td>\n",
       "      <td>Baja</td>\n",
       "    </tr>\n",
       "    <tr>\n",
       "      <th>10</th>\n",
       "      <td>CB7033A707ADE673139F8A17CAD26AD54696C135</td>\n",
       "      <td>UTILIZACION ILEGAL DE UNIFORMES E INSIGNIAS</td>\n",
       "      <td>CONTRA LA SEGURIDAD PUBLICA</td>\n",
       "      <td>DE LOS DELITOS DE PELIGRO COMUN O QUE PUEDEN O...</td>\n",
       "      <td>N</td>\n",
       "      <td>N</td>\n",
       "      <td>N</td>\n",
       "      <td>01/01/10</td>\n",
       "      <td>06/08/13</td>\n",
       "      <td>30/12/09</td>\n",
       "      <td>CO</td>\n",
       "      <td>1982</td>\n",
       "      <td>38</td>\n",
       "      <td>MASCULINO</td>\n",
       "      <td>NaN</td>\n",
       "      <td>REPUBLICA DE COLOMBIA</td>\n",
       "      <td>CAUCA</td>\n",
       "      <td>CAJIBIO-CAUCA</td>\n",
       "      <td>SI</td>\n",
       "      <td>Intramuros</td>\n",
       "      <td>SI</td>\n",
       "      <td>SI</td>\n",
       "      <td>NO</td>\n",
       "      <td>CICLO I</td>\n",
       "      <td>SI</td>\n",
       "      <td>NaN</td>\n",
       "      <td>235</td>\n",
       "      <td>EPAMSCAS POPAYAN (ERE)</td>\n",
       "      <td>CAUCA</td>\n",
       "      <td>POPAYAN</td>\n",
       "      <td>OCCIDENTE</td>\n",
       "      <td>Baja</td>\n",
       "    </tr>\n",
       "    <tr>\n",
       "      <th>...</th>\n",
       "      <td>...</td>\n",
       "      <td>...</td>\n",
       "      <td>...</td>\n",
       "      <td>...</td>\n",
       "      <td>...</td>\n",
       "      <td>...</td>\n",
       "      <td>...</td>\n",
       "      <td>...</td>\n",
       "      <td>...</td>\n",
       "      <td>...</td>\n",
       "      <td>...</td>\n",
       "      <td>...</td>\n",
       "      <td>...</td>\n",
       "      <td>...</td>\n",
       "      <td>...</td>\n",
       "      <td>...</td>\n",
       "      <td>...</td>\n",
       "      <td>...</td>\n",
       "      <td>...</td>\n",
       "      <td>...</td>\n",
       "      <td>...</td>\n",
       "      <td>...</td>\n",
       "      <td>...</td>\n",
       "      <td>...</td>\n",
       "      <td>...</td>\n",
       "      <td>...</td>\n",
       "      <td>...</td>\n",
       "      <td>...</td>\n",
       "      <td>...</td>\n",
       "      <td>...</td>\n",
       "      <td>...</td>\n",
       "      <td>...</td>\n",
       "    </tr>\n",
       "    <tr>\n",
       "      <th>142900</th>\n",
       "      <td>E5551238168C284F73834D203E0EAD0679E5168C</td>\n",
       "      <td>HURTO</td>\n",
       "      <td>CONTRA EL PATRIMONIO ECONOMICO</td>\n",
       "      <td>DE LA ESTAFA</td>\n",
       "      <td>N</td>\n",
       "      <td>S</td>\n",
       "      <td>S</td>\n",
       "      <td>10/06/20</td>\n",
       "      <td>NaN</td>\n",
       "      <td>01/09/19</td>\n",
       "      <td>CO</td>\n",
       "      <td>1997</td>\n",
       "      <td>22</td>\n",
       "      <td>MASCULINO</td>\n",
       "      <td>UNION LIBRE</td>\n",
       "      <td>REPUBLICA DE COLOMBIA</td>\n",
       "      <td>ANTIOQUIA</td>\n",
       "      <td>APARTADO-ANTIOQUIA</td>\n",
       "      <td>SI</td>\n",
       "      <td>Prision Domiciliaria</td>\n",
       "      <td>NO</td>\n",
       "      <td>NO</td>\n",
       "      <td>NO</td>\n",
       "      <td>CICLO III</td>\n",
       "      <td>SI</td>\n",
       "      <td>NaN</td>\n",
       "      <td>502</td>\n",
       "      <td>EPMSC MEDELLIN</td>\n",
       "      <td>ANTIOQUIA</td>\n",
       "      <td>MEDELLIN</td>\n",
       "      <td>NOROESTE</td>\n",
       "      <td>Activo</td>\n",
       "    </tr>\n",
       "    <tr>\n",
       "      <th>142901</th>\n",
       "      <td>A513E93CA6CBAED54CD9B1D165C75A3EF4F11CD4</td>\n",
       "      <td>HURTO</td>\n",
       "      <td>CONTRA EL PATRIMONIO ECONOMICO</td>\n",
       "      <td>DE LA ESTAFA</td>\n",
       "      <td>N</td>\n",
       "      <td>S</td>\n",
       "      <td>S</td>\n",
       "      <td>11/06/20</td>\n",
       "      <td>NaN</td>\n",
       "      <td>10/12/14</td>\n",
       "      <td>CO</td>\n",
       "      <td>1976</td>\n",
       "      <td>44</td>\n",
       "      <td>MASCULINO</td>\n",
       "      <td>SOLTERO(A)</td>\n",
       "      <td>REPUBLICA DE COLOMBIA</td>\n",
       "      <td>CALDAS</td>\n",
       "      <td>LA DORADA-CALDAS</td>\n",
       "      <td>SI</td>\n",
       "      <td>Intramuros</td>\n",
       "      <td>NO</td>\n",
       "      <td>NO</td>\n",
       "      <td>NO</td>\n",
       "      <td>CICLO II</td>\n",
       "      <td>NO</td>\n",
       "      <td>NaN</td>\n",
       "      <td>628</td>\n",
       "      <td>EPMSC HONDA</td>\n",
       "      <td>TOLIMA</td>\n",
       "      <td>HONDA</td>\n",
       "      <td>VIEJO CALDAS</td>\n",
       "      <td>Activo</td>\n",
       "    </tr>\n",
       "    <tr>\n",
       "      <th>142902</th>\n",
       "      <td>856368363834654A5F64534163FE7C7EE6A8A1CA</td>\n",
       "      <td>FABRICACION TRAFICO Y PORTE DE ARMAS DE FUEGO ...</td>\n",
       "      <td>CONTRA LA SEGURIDAD PUBLICA</td>\n",
       "      <td>DE LOS DELITOS DE PELIGRO COMUN O QUE PUEDEN O...</td>\n",
       "      <td>N</td>\n",
       "      <td>N</td>\n",
       "      <td>N</td>\n",
       "      <td>11/06/20</td>\n",
       "      <td>NaN</td>\n",
       "      <td>13/08/16</td>\n",
       "      <td>CO</td>\n",
       "      <td>1985</td>\n",
       "      <td>34</td>\n",
       "      <td>MASCULINO</td>\n",
       "      <td>SOLTERO(A)</td>\n",
       "      <td>REPUBLICA DE COLOMBIA</td>\n",
       "      <td>QUINDIO</td>\n",
       "      <td>ARMENIA-QUINDIO</td>\n",
       "      <td>SI</td>\n",
       "      <td>Intramuros</td>\n",
       "      <td>NO</td>\n",
       "      <td>NO</td>\n",
       "      <td>NO</td>\n",
       "      <td>CICLO I</td>\n",
       "      <td>NO</td>\n",
       "      <td>CON DISCAPACIDAD</td>\n",
       "      <td>613</td>\n",
       "      <td>EPMSC ARMENIA</td>\n",
       "      <td>QUINDIO</td>\n",
       "      <td>ARMENIA</td>\n",
       "      <td>VIEJO CALDAS</td>\n",
       "      <td>Activo</td>\n",
       "    </tr>\n",
       "    <tr>\n",
       "      <th>142903</th>\n",
       "      <td>E5385D722533896751FBF38A2129D97966267AB1</td>\n",
       "      <td>HURTO</td>\n",
       "      <td>CONTRA EL PATRIMONIO ECONOMICO</td>\n",
       "      <td>DE LA ESTAFA</td>\n",
       "      <td>S</td>\n",
       "      <td>N</td>\n",
       "      <td>N</td>\n",
       "      <td>11/06/20</td>\n",
       "      <td>NaN</td>\n",
       "      <td>09/06/20</td>\n",
       "      <td>CO</td>\n",
       "      <td>1981</td>\n",
       "      <td>39</td>\n",
       "      <td>FEMENINO</td>\n",
       "      <td>SOLTERO(A)</td>\n",
       "      <td>REPUBLICA DE COLOMBIA</td>\n",
       "      <td>ANTIOQUIA</td>\n",
       "      <td>APARTADO-ANTIOQUIA</td>\n",
       "      <td>SI</td>\n",
       "      <td>Prision Domiciliaria</td>\n",
       "      <td>NO</td>\n",
       "      <td>NO</td>\n",
       "      <td>NO</td>\n",
       "      <td>CICLO I</td>\n",
       "      <td>SI</td>\n",
       "      <td>AFRO COLOMBIANO</td>\n",
       "      <td>5373</td>\n",
       "      <td>COMPLEJO CARCELARIO Y PENITENCIARIO DE MEDELLI...</td>\n",
       "      <td>ANTIOQUIA</td>\n",
       "      <td>MEDELLIN</td>\n",
       "      <td>NOROESTE</td>\n",
       "      <td>Activo</td>\n",
       "    </tr>\n",
       "    <tr>\n",
       "      <th>142904</th>\n",
       "      <td>FA176CD9955DAF77F313343E29136E87FE8B0056</td>\n",
       "      <td>FABRICACION TRAFICO Y PORTE DE ARMAS DE FUEGO ...</td>\n",
       "      <td>CONTRA LA SEGURIDAD PUBLICA</td>\n",
       "      <td>DE LOS DELITOS DE PELIGRO COMUN O QUE PUEDEN O...</td>\n",
       "      <td>N</td>\n",
       "      <td>N</td>\n",
       "      <td>N</td>\n",
       "      <td>11/06/20</td>\n",
       "      <td>NaN</td>\n",
       "      <td>02/08/18</td>\n",
       "      <td>CO</td>\n",
       "      <td>1989</td>\n",
       "      <td>30</td>\n",
       "      <td>MASCULINO</td>\n",
       "      <td>SOLTERO(A)</td>\n",
       "      <td>REPUBLICA DE COLOMBIA</td>\n",
       "      <td>CAUCA</td>\n",
       "      <td>MERCADERES-CAUCA</td>\n",
       "      <td>SI</td>\n",
       "      <td>Intramuros</td>\n",
       "      <td>NO</td>\n",
       "      <td>NO</td>\n",
       "      <td>NO</td>\n",
       "      <td>CICLO IV</td>\n",
       "      <td>SI</td>\n",
       "      <td>NaN</td>\n",
       "      <td>204</td>\n",
       "      <td>EPMSC EL BORDO</td>\n",
       "      <td>CAUCA</td>\n",
       "      <td>EL BORDO</td>\n",
       "      <td>OCCIDENTE</td>\n",
       "      <td>Activo</td>\n",
       "    </tr>\n",
       "  </tbody>\n",
       "</table>\n",
       "<p>142899 rows × 32 columns</p>\n",
       "</div>"
      ],
      "text/plain": [
       "                                       INTERNOEN  \\\n",
       "6       5496C737C624136DB406CFC6744C684C070A3CD8   \n",
       "7       1097561F306939C26DB4AC60377063DA7E2B079F   \n",
       "8       CB7033A707ADE673139F8A17CAD26AD54696C135   \n",
       "9       CB7033A707ADE673139F8A17CAD26AD54696C135   \n",
       "10      CB7033A707ADE673139F8A17CAD26AD54696C135   \n",
       "...                                          ...   \n",
       "142900  E5551238168C284F73834D203E0EAD0679E5168C   \n",
       "142901  A513E93CA6CBAED54CD9B1D165C75A3EF4F11CD4   \n",
       "142902  856368363834654A5F64534163FE7C7EE6A8A1CA   \n",
       "142903  E5385D722533896751FBF38A2129D97966267AB1   \n",
       "142904  FA176CD9955DAF77F313343E29136E87FE8B0056   \n",
       "\n",
       "                                                   DELITO  \\\n",
       "6       FABRICACION TRAFICO Y PORTE DE ARMAS DE FUEGO ...   \n",
       "7          TRAFICO FABRICACION O PORTE DE ESTUPEFACIENTES   \n",
       "8       FABRICACION TRAFICO Y PORTE DE ARMAS DE FUEGO ...   \n",
       "9                                                   HURTO   \n",
       "10            UTILIZACION ILEGAL DE UNIFORMES E INSIGNIAS   \n",
       "...                                                   ...   \n",
       "142900                                              HURTO   \n",
       "142901                                              HURTO   \n",
       "142902  FABRICACION TRAFICO Y PORTE DE ARMAS DE FUEGO ...   \n",
       "142903                                              HURTO   \n",
       "142904  FABRICACION TRAFICO Y PORTE DE ARMAS DE FUEGO ...   \n",
       "\n",
       "                         TITULO_DELITO  \\\n",
       "6          CONTRA LA SEGURIDAD PUBLICA   \n",
       "7              CONTRA LA SALUD PUBLICA   \n",
       "8          CONTRA LA SEGURIDAD PUBLICA   \n",
       "9       CONTRA EL PATRIMONIO ECONOMICO   \n",
       "10         CONTRA LA SEGURIDAD PUBLICA   \n",
       "...                                ...   \n",
       "142900  CONTRA EL PATRIMONIO ECONOMICO   \n",
       "142901  CONTRA EL PATRIMONIO ECONOMICO   \n",
       "142902     CONTRA LA SEGURIDAD PUBLICA   \n",
       "142903  CONTRA EL PATRIMONIO ECONOMICO   \n",
       "142904     CONTRA LA SEGURIDAD PUBLICA   \n",
       "\n",
       "                                         SUBTITULO_DELITO TENTATIVA AGRAVADO  \\\n",
       "6       DE LOS DELITOS DE PELIGRO COMUN O QUE PUEDEN O...         N        N   \n",
       "7                  DE LAS AFECTACIONES A LA SALUD PUBLICA         N        N   \n",
       "8       DE LOS DELITOS DE PELIGRO COMUN O QUE PUEDEN O...         N        N   \n",
       "9                                            DE LA ESTAFA         N        S   \n",
       "10      DE LOS DELITOS DE PELIGRO COMUN O QUE PUEDEN O...         N        N   \n",
       "...                                                   ...       ...      ...   \n",
       "142900                                       DE LA ESTAFA         N        S   \n",
       "142901                                       DE LA ESTAFA         N        S   \n",
       "142902  DE LOS DELITOS DE PELIGRO COMUN O QUE PUEDEN O...         N        N   \n",
       "142903                                       DE LA ESTAFA         S        N   \n",
       "142904  DE LOS DELITOS DE PELIGRO COMUN O QUE PUEDEN O...         N        N   \n",
       "\n",
       "       CALIFICADO FECHA_INGRESO FECHA_SALIDA FECHA_CAPTURA SITUACION_JURIDICA  \\\n",
       "6               N      01/01/10     12/05/11      30/12/09                 CO   \n",
       "7               N      01/01/10     05/12/11      30/12/09                 CO   \n",
       "8               N      01/01/10     06/08/13      30/12/09                 CO   \n",
       "9               S      01/01/10     06/08/13      30/12/09                 CO   \n",
       "10              N      01/01/10     06/08/13      30/12/09                 CO   \n",
       "...           ...           ...          ...           ...                ...   \n",
       "142900          S      10/06/20          NaN      01/09/19                 CO   \n",
       "142901          S      11/06/20          NaN      10/12/14                 CO   \n",
       "142902          N      11/06/20          NaN      13/08/16                 CO   \n",
       "142903          N      11/06/20          NaN      09/06/20                 CO   \n",
       "142904          N      11/06/20          NaN      02/08/18                 CO   \n",
       "\n",
       "       ANO_NACIMIENTO EDAD     GENERO ESTADO_CIVIL           PAIS_INTERNO  \\\n",
       "6                1972   48  MASCULINO          NaN  REPUBLICA DE COLOMBIA   \n",
       "7                1962   58  MASCULINO          NaN  REPUBLICA DE COLOMBIA   \n",
       "8                1982   38  MASCULINO          NaN  REPUBLICA DE COLOMBIA   \n",
       "9                1982   38  MASCULINO          NaN  REPUBLICA DE COLOMBIA   \n",
       "10               1982   38  MASCULINO          NaN  REPUBLICA DE COLOMBIA   \n",
       "...               ...  ...        ...          ...                    ...   \n",
       "142900           1997   22  MASCULINO  UNION LIBRE  REPUBLICA DE COLOMBIA   \n",
       "142901           1976   44  MASCULINO   SOLTERO(A)  REPUBLICA DE COLOMBIA   \n",
       "142902           1985   34  MASCULINO   SOLTERO(A)  REPUBLICA DE COLOMBIA   \n",
       "142903           1981   39   FEMENINO   SOLTERO(A)  REPUBLICA DE COLOMBIA   \n",
       "142904           1989   30  MASCULINO   SOLTERO(A)  REPUBLICA DE COLOMBIA   \n",
       "\n",
       "       DEPARTAMENTO              CIUDAD REINCIDENTE        ESTADO_INGRESO  \\\n",
       "6         ANTIOQUIA  ENVIGADO-ANTIOQUIA          SI            Intramuros   \n",
       "7         ANTIOQUIA     ANORI-ANTIOQUIA          SI            Intramuros   \n",
       "8             CAUCA       CAJIBIO-CAUCA          SI            Intramuros   \n",
       "9             CAUCA       CAJIBIO-CAUCA          SI            Intramuros   \n",
       "10            CAUCA       CAJIBIO-CAUCA          SI            Intramuros   \n",
       "...             ...                 ...         ...                   ...   \n",
       "142900    ANTIOQUIA  APARTADO-ANTIOQUIA          SI  Prision Domiciliaria   \n",
       "142901       CALDAS    LA DORADA-CALDAS          SI            Intramuros   \n",
       "142902      QUINDIO     ARMENIA-QUINDIO          SI            Intramuros   \n",
       "142903    ANTIOQUIA  APARTADO-ANTIOQUIA          SI  Prision Domiciliaria   \n",
       "142904        CAUCA    MERCADERES-CAUCA          SI            Intramuros   \n",
       "\n",
       "       ACTIVIDADES_TRABAJO ACTIVIDADES_ESTUDIO ACTIVIDADES_ENSEÑANZA  \\\n",
       "6                       SI                  SI                    NO   \n",
       "7                       NO                  NO                    NO   \n",
       "8                       SI                  SI                    NO   \n",
       "9                       SI                  SI                    NO   \n",
       "10                      SI                  SI                    NO   \n",
       "...                    ...                 ...                   ...   \n",
       "142900                  NO                  NO                    NO   \n",
       "142901                  NO                  NO                    NO   \n",
       "142902                  NO                  NO                    NO   \n",
       "142903                  NO                  NO                    NO   \n",
       "142904                  NO                  NO                    NO   \n",
       "\n",
       "       NIVEL_EDUCATIVO HIJOS_MENORES CONDIC_EXPECIONAL CODIGO_ESTABLECIMIENTO  \\\n",
       "6            CICLO III            SI               NaN                    502   \n",
       "7              CICLO I            SI               NaN                    502   \n",
       "8              CICLO I            SI               NaN                    235   \n",
       "9              CICLO I            SI               NaN                    235   \n",
       "10             CICLO I            SI               NaN                    235   \n",
       "...                ...           ...               ...                    ...   \n",
       "142900       CICLO III            SI               NaN                    502   \n",
       "142901        CICLO II            NO               NaN                    628   \n",
       "142902         CICLO I            NO  CON DISCAPACIDAD                    613   \n",
       "142903         CICLO I            SI   AFRO COLOMBIANO                   5373   \n",
       "142904        CICLO IV            SI               NaN                    204   \n",
       "\n",
       "                                          ESTABLECIMIENTO  \\\n",
       "6                                          EPMSC MEDELLIN   \n",
       "7                                          EPMSC MEDELLIN   \n",
       "8                                  EPAMSCAS POPAYAN (ERE)   \n",
       "9                                  EPAMSCAS POPAYAN (ERE)   \n",
       "10                                 EPAMSCAS POPAYAN (ERE)   \n",
       "...                                                   ...   \n",
       "142900                                     EPMSC MEDELLIN   \n",
       "142901                                        EPMSC HONDA   \n",
       "142902                                      EPMSC ARMENIA   \n",
       "142903  COMPLEJO CARCELARIO Y PENITENCIARIO DE MEDELLI...   \n",
       "142904                                     EPMSC EL BORDO   \n",
       "\n",
       "       DEPTO_ESTABLECIMIENTO MPIO_ESTABLECIMIENTO      REGIONAL  ESTADO  \n",
       "6                  ANTIOQUIA             MEDELLIN      NOROESTE    Baja  \n",
       "7                  ANTIOQUIA             MEDELLIN      NOROESTE    Baja  \n",
       "8                      CAUCA              POPAYAN     OCCIDENTE    Baja  \n",
       "9                      CAUCA              POPAYAN     OCCIDENTE    Baja  \n",
       "10                     CAUCA              POPAYAN     OCCIDENTE    Baja  \n",
       "...                      ...                  ...           ...     ...  \n",
       "142900             ANTIOQUIA             MEDELLIN      NOROESTE  Activo  \n",
       "142901                TOLIMA                HONDA  VIEJO CALDAS  Activo  \n",
       "142902               QUINDIO              ARMENIA  VIEJO CALDAS  Activo  \n",
       "142903             ANTIOQUIA             MEDELLIN      NOROESTE  Activo  \n",
       "142904                 CAUCA             EL BORDO     OCCIDENTE  Activo  \n",
       "\n",
       "[142899 rows x 32 columns]"
      ]
     },
     "execution_count": 3,
     "metadata": {},
     "output_type": "execute_result"
    }
   ],
   "source": [
    "data = pd.read_excel('data/ReincidenciaPospenadosNal201011Junio2020Rev.xlsx', sheet_name = 'Reincidencias2010-2020')\n",
    "data.columns = data.iloc[5].values\n",
    "data = data[6:]\n",
    "data"
   ]
  },
  {
   "cell_type": "code",
   "execution_count": 4,
   "metadata": {
    "ExecuteTime": {
     "end_time": "2020-06-19T02:36:28.119590Z",
     "start_time": "2020-06-19T02:36:27.862777Z"
    }
   },
   "outputs": [
    {
     "name": "stdout",
     "output_type": "stream",
     "text": [
      "<class 'pandas.core.frame.DataFrame'>\n",
      "RangeIndex: 142899 entries, 6 to 142904\n",
      "Data columns (total 32 columns):\n",
      " #   Column                  Non-Null Count   Dtype \n",
      "---  ------                  --------------   ----- \n",
      " 0   INTERNOEN               142899 non-null  object\n",
      " 1   DELITO                  142899 non-null  object\n",
      " 2   TITULO_DELITO           142899 non-null  object\n",
      " 3   SUBTITULO_DELITO        142899 non-null  object\n",
      " 4   TENTATIVA               142899 non-null  object\n",
      " 5   AGRAVADO                142899 non-null  object\n",
      " 6   CALIFICADO              142899 non-null  object\n",
      " 7   FECHA_INGRESO           142899 non-null  object\n",
      " 8   FECHA_SALIDA            96345 non-null   object\n",
      " 9   FECHA_CAPTURA           142899 non-null  object\n",
      " 10  SITUACION_JURIDICA      142899 non-null  object\n",
      " 11  ANO_NACIMIENTO          142899 non-null  object\n",
      " 12  EDAD                    142899 non-null  object\n",
      " 13  GENERO                  142899 non-null  object\n",
      " 14  ESTADO_CIVIL            62810 non-null   object\n",
      " 15  PAIS_INTERNO            139737 non-null  object\n",
      " 16  DEPARTAMENTO            142892 non-null  object\n",
      " 17  CIUDAD                  142899 non-null  object\n",
      " 18  REINCIDENTE             142899 non-null  object\n",
      " 19  ESTADO_INGRESO          142869 non-null  object\n",
      " 20  ACTIVIDADES_TRABAJO     142899 non-null  object\n",
      " 21  ACTIVIDADES_ESTUDIO     142899 non-null  object\n",
      " 22  ACTIVIDADES_ENSEÑANZA   142899 non-null  object\n",
      " 23  NIVEL_EDUCATIVO         142899 non-null  object\n",
      " 24  HIJOS_MENORES           142899 non-null  object\n",
      " 25  CONDIC_EXPECIONAL       13314 non-null   object\n",
      " 26  CODIGO_ESTABLECIMIENTO  142899 non-null  object\n",
      " 27  ESTABLECIMIENTO         142899 non-null  object\n",
      " 28  DEPTO_ESTABLECIMIENTO   140108 non-null  object\n",
      " 29  MPIO_ESTABLECIMIENTO    140108 non-null  object\n",
      " 30  REGIONAL                142899 non-null  object\n",
      " 31  ESTADO                  142899 non-null  object\n",
      "dtypes: object(32)\n",
      "memory usage: 34.9+ MB\n"
     ]
    }
   ],
   "source": [
    "data.info()"
   ]
  },
  {
   "cell_type": "markdown",
   "metadata": {},
   "source": [
    "### File ReincidenciaPospenadosNal2010-31Mayo2020Rev_con variables demograficas.xlsx"
   ]
  },
  {
   "cell_type": "code",
   "execution_count": 5,
   "metadata": {
    "ExecuteTime": {
     "end_time": "2020-06-19T02:36:56.632473Z",
     "start_time": "2020-06-19T02:36:28.121020Z"
    },
    "scrolled": true
   },
   "outputs": [
    {
     "data": {
      "text/html": [
       "<div>\n",
       "<style scoped>\n",
       "    .dataframe tbody tr th:only-of-type {\n",
       "        vertical-align: middle;\n",
       "    }\n",
       "\n",
       "    .dataframe tbody tr th {\n",
       "        vertical-align: top;\n",
       "    }\n",
       "\n",
       "    .dataframe thead th {\n",
       "        text-align: right;\n",
       "    }\n",
       "</style>\n",
       "<table border=\"1\" class=\"dataframe\">\n",
       "  <thead>\n",
       "    <tr style=\"text-align: right;\">\n",
       "      <th></th>\n",
       "      <th>INTERNOEN</th>\n",
       "      <th>DELITO</th>\n",
       "      <th>TENTATIVA</th>\n",
       "      <th>AGRAVADO</th>\n",
       "      <th>CALIFICADO</th>\n",
       "      <th>FECHA_INGRESO</th>\n",
       "      <th>FECHA_SALIDA</th>\n",
       "      <th>FECHA_CAPTURA</th>\n",
       "      <th>SITUACION_JURIDICA</th>\n",
       "      <th>ANO_NACIMIENTO</th>\n",
       "      <th>EDAD</th>\n",
       "      <th>GENERO</th>\n",
       "      <th>ESTADO_CIVIL</th>\n",
       "      <th>PAIS_INTERNO</th>\n",
       "      <th>DEPARTAMENTO</th>\n",
       "      <th>CIUDAD</th>\n",
       "      <th>REINCIDENTE</th>\n",
       "      <th>ESTADO_INGRESO</th>\n",
       "      <th>ACTIVIDADES_TRABAJO</th>\n",
       "      <th>ACTIVIDADES_ESTUDIO</th>\n",
       "      <th>ACTIVIDADES_ENSEÑANZA</th>\n",
       "      <th>NIVEL_EDUCATIVO</th>\n",
       "      <th>HIJOS_MENORES</th>\n",
       "      <th>CONDIC_EXPECIONAL</th>\n",
       "      <th>CODIGO_ESTABLECIMIENTO</th>\n",
       "      <th>ESTABLECIMIENTO</th>\n",
       "      <th>DEPTO_ESTABLECIMIENTO</th>\n",
       "      <th>MPIO_ESTABLECIMIENTO</th>\n",
       "      <th>REGIONAL</th>\n",
       "      <th>ESTADO</th>\n",
       "    </tr>\n",
       "  </thead>\n",
       "  <tbody>\n",
       "    <tr>\n",
       "      <th>6</th>\n",
       "      <td>5496C737C624136DB406CFC6744C684C070A3CD8</td>\n",
       "      <td>FABRICACION TRAFICO Y PORTE DE ARMAS DE FUEGO ...</td>\n",
       "      <td>N</td>\n",
       "      <td>N</td>\n",
       "      <td>N</td>\n",
       "      <td>01/01/10</td>\n",
       "      <td>12/05/11</td>\n",
       "      <td>30/12/09</td>\n",
       "      <td>CO</td>\n",
       "      <td>1972</td>\n",
       "      <td>48</td>\n",
       "      <td>MASCULINO</td>\n",
       "      <td>NaN</td>\n",
       "      <td>REPUBLICA DE COLOMBIA</td>\n",
       "      <td>ANTIOQUIA</td>\n",
       "      <td>ENVIGADO-ANTIOQUIA</td>\n",
       "      <td>SI</td>\n",
       "      <td>Intramuros</td>\n",
       "      <td>SI</td>\n",
       "      <td>SI</td>\n",
       "      <td>NO</td>\n",
       "      <td>CICLO III</td>\n",
       "      <td>SI</td>\n",
       "      <td>NaN</td>\n",
       "      <td>502</td>\n",
       "      <td>EPMSC MEDELLIN</td>\n",
       "      <td>ANTIOQUIA</td>\n",
       "      <td>MEDELLIN</td>\n",
       "      <td>NOROESTE</td>\n",
       "      <td>Baja</td>\n",
       "    </tr>\n",
       "    <tr>\n",
       "      <th>7</th>\n",
       "      <td>1097561F306939C26DB4AC60377063DA7E2B079F</td>\n",
       "      <td>TRAFICO FABRICACION O PORTE DE ESTUPEFACIENTES</td>\n",
       "      <td>N</td>\n",
       "      <td>N</td>\n",
       "      <td>N</td>\n",
       "      <td>01/01/10</td>\n",
       "      <td>05/12/11</td>\n",
       "      <td>30/12/09</td>\n",
       "      <td>CO</td>\n",
       "      <td>1962</td>\n",
       "      <td>58</td>\n",
       "      <td>MASCULINO</td>\n",
       "      <td>NaN</td>\n",
       "      <td>REPUBLICA DE COLOMBIA</td>\n",
       "      <td>ANTIOQUIA</td>\n",
       "      <td>ANORI-ANTIOQUIA</td>\n",
       "      <td>SI</td>\n",
       "      <td>Intramuros</td>\n",
       "      <td>NO</td>\n",
       "      <td>NO</td>\n",
       "      <td>NO</td>\n",
       "      <td>CICLO I</td>\n",
       "      <td>SI</td>\n",
       "      <td>NaN</td>\n",
       "      <td>502</td>\n",
       "      <td>EPMSC MEDELLIN</td>\n",
       "      <td>ANTIOQUIA</td>\n",
       "      <td>MEDELLIN</td>\n",
       "      <td>NOROESTE</td>\n",
       "      <td>Baja</td>\n",
       "    </tr>\n",
       "    <tr>\n",
       "      <th>8</th>\n",
       "      <td>CB7033A707ADE673139F8A17CAD26AD54696C135</td>\n",
       "      <td>FABRICACION TRAFICO Y PORTE DE ARMAS DE FUEGO ...</td>\n",
       "      <td>N</td>\n",
       "      <td>N</td>\n",
       "      <td>N</td>\n",
       "      <td>01/01/10</td>\n",
       "      <td>06/08/13</td>\n",
       "      <td>30/12/09</td>\n",
       "      <td>CO</td>\n",
       "      <td>1982</td>\n",
       "      <td>38</td>\n",
       "      <td>MASCULINO</td>\n",
       "      <td>NaN</td>\n",
       "      <td>REPUBLICA DE COLOMBIA</td>\n",
       "      <td>CAUCA</td>\n",
       "      <td>CAJIBIO-CAUCA</td>\n",
       "      <td>SI</td>\n",
       "      <td>Intramuros</td>\n",
       "      <td>SI</td>\n",
       "      <td>SI</td>\n",
       "      <td>NO</td>\n",
       "      <td>CICLO I</td>\n",
       "      <td>SI</td>\n",
       "      <td>NaN</td>\n",
       "      <td>235</td>\n",
       "      <td>EPAMSCAS POPAYAN (ERE)</td>\n",
       "      <td>CAUCA</td>\n",
       "      <td>POPAYAN</td>\n",
       "      <td>OCCIDENTE</td>\n",
       "      <td>Baja</td>\n",
       "    </tr>\n",
       "    <tr>\n",
       "      <th>9</th>\n",
       "      <td>CB7033A707ADE673139F8A17CAD26AD54696C135</td>\n",
       "      <td>HURTO</td>\n",
       "      <td>N</td>\n",
       "      <td>S</td>\n",
       "      <td>S</td>\n",
       "      <td>01/01/10</td>\n",
       "      <td>06/08/13</td>\n",
       "      <td>30/12/09</td>\n",
       "      <td>CO</td>\n",
       "      <td>1982</td>\n",
       "      <td>38</td>\n",
       "      <td>MASCULINO</td>\n",
       "      <td>NaN</td>\n",
       "      <td>REPUBLICA DE COLOMBIA</td>\n",
       "      <td>CAUCA</td>\n",
       "      <td>CAJIBIO-CAUCA</td>\n",
       "      <td>SI</td>\n",
       "      <td>Intramuros</td>\n",
       "      <td>SI</td>\n",
       "      <td>SI</td>\n",
       "      <td>NO</td>\n",
       "      <td>CICLO I</td>\n",
       "      <td>SI</td>\n",
       "      <td>NaN</td>\n",
       "      <td>235</td>\n",
       "      <td>EPAMSCAS POPAYAN (ERE)</td>\n",
       "      <td>CAUCA</td>\n",
       "      <td>POPAYAN</td>\n",
       "      <td>OCCIDENTE</td>\n",
       "      <td>Baja</td>\n",
       "    </tr>\n",
       "    <tr>\n",
       "      <th>10</th>\n",
       "      <td>CB7033A707ADE673139F8A17CAD26AD54696C135</td>\n",
       "      <td>UTILIZACION ILEGAL DE UNIFORMES E INSIGNIAS</td>\n",
       "      <td>N</td>\n",
       "      <td>N</td>\n",
       "      <td>N</td>\n",
       "      <td>01/01/10</td>\n",
       "      <td>06/08/13</td>\n",
       "      <td>30/12/09</td>\n",
       "      <td>CO</td>\n",
       "      <td>1982</td>\n",
       "      <td>38</td>\n",
       "      <td>MASCULINO</td>\n",
       "      <td>NaN</td>\n",
       "      <td>REPUBLICA DE COLOMBIA</td>\n",
       "      <td>CAUCA</td>\n",
       "      <td>CAJIBIO-CAUCA</td>\n",
       "      <td>SI</td>\n",
       "      <td>Intramuros</td>\n",
       "      <td>SI</td>\n",
       "      <td>SI</td>\n",
       "      <td>NO</td>\n",
       "      <td>CICLO I</td>\n",
       "      <td>SI</td>\n",
       "      <td>NaN</td>\n",
       "      <td>235</td>\n",
       "      <td>EPAMSCAS POPAYAN (ERE)</td>\n",
       "      <td>CAUCA</td>\n",
       "      <td>POPAYAN</td>\n",
       "      <td>OCCIDENTE</td>\n",
       "      <td>Baja</td>\n",
       "    </tr>\n",
       "    <tr>\n",
       "      <th>...</th>\n",
       "      <td>...</td>\n",
       "      <td>...</td>\n",
       "      <td>...</td>\n",
       "      <td>...</td>\n",
       "      <td>...</td>\n",
       "      <td>...</td>\n",
       "      <td>...</td>\n",
       "      <td>...</td>\n",
       "      <td>...</td>\n",
       "      <td>...</td>\n",
       "      <td>...</td>\n",
       "      <td>...</td>\n",
       "      <td>...</td>\n",
       "      <td>...</td>\n",
       "      <td>...</td>\n",
       "      <td>...</td>\n",
       "      <td>...</td>\n",
       "      <td>...</td>\n",
       "      <td>...</td>\n",
       "      <td>...</td>\n",
       "      <td>...</td>\n",
       "      <td>...</td>\n",
       "      <td>...</td>\n",
       "      <td>...</td>\n",
       "      <td>...</td>\n",
       "      <td>...</td>\n",
       "      <td>...</td>\n",
       "      <td>...</td>\n",
       "      <td>...</td>\n",
       "      <td>...</td>\n",
       "    </tr>\n",
       "    <tr>\n",
       "      <th>142500</th>\n",
       "      <td>A112E9DC935B0D64DC75852EB0A30D65291F1B64</td>\n",
       "      <td>FABRICACION TRAFICO Y PORTE DE ARMAS DE FUEGO ...</td>\n",
       "      <td>N</td>\n",
       "      <td>N</td>\n",
       "      <td>N</td>\n",
       "      <td>30/05/20</td>\n",
       "      <td>NaN</td>\n",
       "      <td>23/03/03</td>\n",
       "      <td>CO</td>\n",
       "      <td>1978</td>\n",
       "      <td>41</td>\n",
       "      <td>MASCULINO</td>\n",
       "      <td>UNION LIBRE</td>\n",
       "      <td>REPUBLICA DE COLOMBIA</td>\n",
       "      <td>VALLE DEL CAUCA</td>\n",
       "      <td>BUGA-VALLE DEL CAUCA</td>\n",
       "      <td>SI</td>\n",
       "      <td>Intramuros</td>\n",
       "      <td>NO</td>\n",
       "      <td>NO</td>\n",
       "      <td>NO</td>\n",
       "      <td>CICLO II</td>\n",
       "      <td>1</td>\n",
       "      <td>NaN</td>\n",
       "      <td>227</td>\n",
       "      <td>EPMSC BUGA</td>\n",
       "      <td>VALLE DEL CAUCA</td>\n",
       "      <td>BUGA</td>\n",
       "      <td>OCCIDENTE</td>\n",
       "      <td>Activo</td>\n",
       "    </tr>\n",
       "    <tr>\n",
       "      <th>142501</th>\n",
       "      <td>A112E9DC935B0D64DC75852EB0A30D65291F1B64</td>\n",
       "      <td>HOMICIDIO</td>\n",
       "      <td>N</td>\n",
       "      <td>S</td>\n",
       "      <td>N</td>\n",
       "      <td>30/05/20</td>\n",
       "      <td>NaN</td>\n",
       "      <td>23/03/03</td>\n",
       "      <td>CO</td>\n",
       "      <td>1978</td>\n",
       "      <td>41</td>\n",
       "      <td>MASCULINO</td>\n",
       "      <td>UNION LIBRE</td>\n",
       "      <td>REPUBLICA DE COLOMBIA</td>\n",
       "      <td>VALLE DEL CAUCA</td>\n",
       "      <td>BUGA-VALLE DEL CAUCA</td>\n",
       "      <td>SI</td>\n",
       "      <td>Intramuros</td>\n",
       "      <td>NO</td>\n",
       "      <td>NO</td>\n",
       "      <td>NO</td>\n",
       "      <td>CICLO II</td>\n",
       "      <td>1</td>\n",
       "      <td>NaN</td>\n",
       "      <td>227</td>\n",
       "      <td>EPMSC BUGA</td>\n",
       "      <td>VALLE DEL CAUCA</td>\n",
       "      <td>BUGA</td>\n",
       "      <td>OCCIDENTE</td>\n",
       "      <td>Activo</td>\n",
       "    </tr>\n",
       "    <tr>\n",
       "      <th>142502</th>\n",
       "      <td>A112E9DC935B0D64DC75852EB0A30D65291F1B64</td>\n",
       "      <td>HOMICIDIO</td>\n",
       "      <td>S</td>\n",
       "      <td>S</td>\n",
       "      <td>N</td>\n",
       "      <td>30/05/20</td>\n",
       "      <td>NaN</td>\n",
       "      <td>23/03/03</td>\n",
       "      <td>CO</td>\n",
       "      <td>1978</td>\n",
       "      <td>41</td>\n",
       "      <td>MASCULINO</td>\n",
       "      <td>UNION LIBRE</td>\n",
       "      <td>REPUBLICA DE COLOMBIA</td>\n",
       "      <td>VALLE DEL CAUCA</td>\n",
       "      <td>BUGA-VALLE DEL CAUCA</td>\n",
       "      <td>SI</td>\n",
       "      <td>Intramuros</td>\n",
       "      <td>NO</td>\n",
       "      <td>NO</td>\n",
       "      <td>NO</td>\n",
       "      <td>CICLO II</td>\n",
       "      <td>1</td>\n",
       "      <td>NaN</td>\n",
       "      <td>227</td>\n",
       "      <td>EPMSC BUGA</td>\n",
       "      <td>VALLE DEL CAUCA</td>\n",
       "      <td>BUGA</td>\n",
       "      <td>OCCIDENTE</td>\n",
       "      <td>Activo</td>\n",
       "    </tr>\n",
       "    <tr>\n",
       "      <th>142503</th>\n",
       "      <td>A112E9DC935B0D64DC75852EB0A30D65291F1B64</td>\n",
       "      <td>HURTO</td>\n",
       "      <td>N</td>\n",
       "      <td>S</td>\n",
       "      <td>N</td>\n",
       "      <td>30/05/20</td>\n",
       "      <td>NaN</td>\n",
       "      <td>23/03/03</td>\n",
       "      <td>CO</td>\n",
       "      <td>1978</td>\n",
       "      <td>41</td>\n",
       "      <td>MASCULINO</td>\n",
       "      <td>UNION LIBRE</td>\n",
       "      <td>REPUBLICA DE COLOMBIA</td>\n",
       "      <td>VALLE DEL CAUCA</td>\n",
       "      <td>BUGA-VALLE DEL CAUCA</td>\n",
       "      <td>SI</td>\n",
       "      <td>Intramuros</td>\n",
       "      <td>NO</td>\n",
       "      <td>NO</td>\n",
       "      <td>NO</td>\n",
       "      <td>CICLO II</td>\n",
       "      <td>1</td>\n",
       "      <td>NaN</td>\n",
       "      <td>227</td>\n",
       "      <td>EPMSC BUGA</td>\n",
       "      <td>VALLE DEL CAUCA</td>\n",
       "      <td>BUGA</td>\n",
       "      <td>OCCIDENTE</td>\n",
       "      <td>Activo</td>\n",
       "    </tr>\n",
       "    <tr>\n",
       "      <th>142504</th>\n",
       "      <td>73CC98628509EC80173897BB76362B1E42658BB5</td>\n",
       "      <td>TRAFICO FABRICACION O PORTE DE ESTUPEFACIENTES</td>\n",
       "      <td>N</td>\n",
       "      <td>N</td>\n",
       "      <td>N</td>\n",
       "      <td>30/05/20</td>\n",
       "      <td>NaN</td>\n",
       "      <td>19/06/19</td>\n",
       "      <td>CO</td>\n",
       "      <td>1989</td>\n",
       "      <td>31</td>\n",
       "      <td>FEMENINO</td>\n",
       "      <td>UNION LIBRE</td>\n",
       "      <td>REPUBLICA DE COLOMBIA</td>\n",
       "      <td>CAUCA</td>\n",
       "      <td>POPAYAN-CAUCA</td>\n",
       "      <td>SI</td>\n",
       "      <td>Intramuros</td>\n",
       "      <td>NO</td>\n",
       "      <td>NO</td>\n",
       "      <td>NO</td>\n",
       "      <td>CICLO III</td>\n",
       "      <td>0</td>\n",
       "      <td>NaN</td>\n",
       "      <td>209</td>\n",
       "      <td>RM POPAYAN</td>\n",
       "      <td>CAUCA</td>\n",
       "      <td>POPAYAN</td>\n",
       "      <td>OCCIDENTE</td>\n",
       "      <td>Activo</td>\n",
       "    </tr>\n",
       "  </tbody>\n",
       "</table>\n",
       "<p>142499 rows × 30 columns</p>\n",
       "</div>"
      ],
      "text/plain": [
       "                                       INTERNOEN  \\\n",
       "6       5496C737C624136DB406CFC6744C684C070A3CD8   \n",
       "7       1097561F306939C26DB4AC60377063DA7E2B079F   \n",
       "8       CB7033A707ADE673139F8A17CAD26AD54696C135   \n",
       "9       CB7033A707ADE673139F8A17CAD26AD54696C135   \n",
       "10      CB7033A707ADE673139F8A17CAD26AD54696C135   \n",
       "...                                          ...   \n",
       "142500  A112E9DC935B0D64DC75852EB0A30D65291F1B64   \n",
       "142501  A112E9DC935B0D64DC75852EB0A30D65291F1B64   \n",
       "142502  A112E9DC935B0D64DC75852EB0A30D65291F1B64   \n",
       "142503  A112E9DC935B0D64DC75852EB0A30D65291F1B64   \n",
       "142504  73CC98628509EC80173897BB76362B1E42658BB5   \n",
       "\n",
       "                                                   DELITO TENTATIVA AGRAVADO  \\\n",
       "6       FABRICACION TRAFICO Y PORTE DE ARMAS DE FUEGO ...         N        N   \n",
       "7          TRAFICO FABRICACION O PORTE DE ESTUPEFACIENTES         N        N   \n",
       "8       FABRICACION TRAFICO Y PORTE DE ARMAS DE FUEGO ...         N        N   \n",
       "9                                                   HURTO         N        S   \n",
       "10            UTILIZACION ILEGAL DE UNIFORMES E INSIGNIAS         N        N   \n",
       "...                                                   ...       ...      ...   \n",
       "142500  FABRICACION TRAFICO Y PORTE DE ARMAS DE FUEGO ...         N        N   \n",
       "142501                                          HOMICIDIO         N        S   \n",
       "142502                                          HOMICIDIO         S        S   \n",
       "142503                                              HURTO         N        S   \n",
       "142504     TRAFICO FABRICACION O PORTE DE ESTUPEFACIENTES         N        N   \n",
       "\n",
       "       CALIFICADO FECHA_INGRESO FECHA_SALIDA FECHA_CAPTURA SITUACION_JURIDICA  \\\n",
       "6               N      01/01/10     12/05/11      30/12/09                 CO   \n",
       "7               N      01/01/10     05/12/11      30/12/09                 CO   \n",
       "8               N      01/01/10     06/08/13      30/12/09                 CO   \n",
       "9               S      01/01/10     06/08/13      30/12/09                 CO   \n",
       "10              N      01/01/10     06/08/13      30/12/09                 CO   \n",
       "...           ...           ...          ...           ...                ...   \n",
       "142500          N      30/05/20          NaN      23/03/03                 CO   \n",
       "142501          N      30/05/20          NaN      23/03/03                 CO   \n",
       "142502          N      30/05/20          NaN      23/03/03                 CO   \n",
       "142503          N      30/05/20          NaN      23/03/03                 CO   \n",
       "142504          N      30/05/20          NaN      19/06/19                 CO   \n",
       "\n",
       "       ANO_NACIMIENTO EDAD     GENERO ESTADO_CIVIL           PAIS_INTERNO  \\\n",
       "6                1972   48  MASCULINO          NaN  REPUBLICA DE COLOMBIA   \n",
       "7                1962   58  MASCULINO          NaN  REPUBLICA DE COLOMBIA   \n",
       "8                1982   38  MASCULINO          NaN  REPUBLICA DE COLOMBIA   \n",
       "9                1982   38  MASCULINO          NaN  REPUBLICA DE COLOMBIA   \n",
       "10               1982   38  MASCULINO          NaN  REPUBLICA DE COLOMBIA   \n",
       "...               ...  ...        ...          ...                    ...   \n",
       "142500           1978   41  MASCULINO  UNION LIBRE  REPUBLICA DE COLOMBIA   \n",
       "142501           1978   41  MASCULINO  UNION LIBRE  REPUBLICA DE COLOMBIA   \n",
       "142502           1978   41  MASCULINO  UNION LIBRE  REPUBLICA DE COLOMBIA   \n",
       "142503           1978   41  MASCULINO  UNION LIBRE  REPUBLICA DE COLOMBIA   \n",
       "142504           1989   31   FEMENINO  UNION LIBRE  REPUBLICA DE COLOMBIA   \n",
       "\n",
       "           DEPARTAMENTO                CIUDAD REINCIDENTE ESTADO_INGRESO  \\\n",
       "6             ANTIOQUIA    ENVIGADO-ANTIOQUIA          SI     Intramuros   \n",
       "7             ANTIOQUIA       ANORI-ANTIOQUIA          SI     Intramuros   \n",
       "8                 CAUCA         CAJIBIO-CAUCA          SI     Intramuros   \n",
       "9                 CAUCA         CAJIBIO-CAUCA          SI     Intramuros   \n",
       "10                CAUCA         CAJIBIO-CAUCA          SI     Intramuros   \n",
       "...                 ...                   ...         ...            ...   \n",
       "142500  VALLE DEL CAUCA  BUGA-VALLE DEL CAUCA          SI     Intramuros   \n",
       "142501  VALLE DEL CAUCA  BUGA-VALLE DEL CAUCA          SI     Intramuros   \n",
       "142502  VALLE DEL CAUCA  BUGA-VALLE DEL CAUCA          SI     Intramuros   \n",
       "142503  VALLE DEL CAUCA  BUGA-VALLE DEL CAUCA          SI     Intramuros   \n",
       "142504            CAUCA         POPAYAN-CAUCA          SI     Intramuros   \n",
       "\n",
       "       ACTIVIDADES_TRABAJO ACTIVIDADES_ESTUDIO ACTIVIDADES_ENSEÑANZA  \\\n",
       "6                       SI                  SI                    NO   \n",
       "7                       NO                  NO                    NO   \n",
       "8                       SI                  SI                    NO   \n",
       "9                       SI                  SI                    NO   \n",
       "10                      SI                  SI                    NO   \n",
       "...                    ...                 ...                   ...   \n",
       "142500                  NO                  NO                    NO   \n",
       "142501                  NO                  NO                    NO   \n",
       "142502                  NO                  NO                    NO   \n",
       "142503                  NO                  NO                    NO   \n",
       "142504                  NO                  NO                    NO   \n",
       "\n",
       "       NIVEL_EDUCATIVO HIJOS_MENORES CONDIC_EXPECIONAL CODIGO_ESTABLECIMIENTO  \\\n",
       "6            CICLO III            SI               NaN                    502   \n",
       "7              CICLO I            SI               NaN                    502   \n",
       "8              CICLO I            SI               NaN                    235   \n",
       "9              CICLO I            SI               NaN                    235   \n",
       "10             CICLO I            SI               NaN                    235   \n",
       "...                ...           ...               ...                    ...   \n",
       "142500        CICLO II             1               NaN                    227   \n",
       "142501        CICLO II             1               NaN                    227   \n",
       "142502        CICLO II             1               NaN                    227   \n",
       "142503        CICLO II             1               NaN                    227   \n",
       "142504       CICLO III             0               NaN                    209   \n",
       "\n",
       "               ESTABLECIMIENTO DEPTO_ESTABLECIMIENTO MPIO_ESTABLECIMIENTO  \\\n",
       "6               EPMSC MEDELLIN             ANTIOQUIA             MEDELLIN   \n",
       "7               EPMSC MEDELLIN             ANTIOQUIA             MEDELLIN   \n",
       "8       EPAMSCAS POPAYAN (ERE)                 CAUCA              POPAYAN   \n",
       "9       EPAMSCAS POPAYAN (ERE)                 CAUCA              POPAYAN   \n",
       "10      EPAMSCAS POPAYAN (ERE)                 CAUCA              POPAYAN   \n",
       "...                        ...                   ...                  ...   \n",
       "142500              EPMSC BUGA       VALLE DEL CAUCA                 BUGA   \n",
       "142501              EPMSC BUGA       VALLE DEL CAUCA                 BUGA   \n",
       "142502              EPMSC BUGA       VALLE DEL CAUCA                 BUGA   \n",
       "142503              EPMSC BUGA       VALLE DEL CAUCA                 BUGA   \n",
       "142504              RM POPAYAN                 CAUCA              POPAYAN   \n",
       "\n",
       "         REGIONAL  ESTADO  \n",
       "6        NOROESTE    Baja  \n",
       "7        NOROESTE    Baja  \n",
       "8       OCCIDENTE    Baja  \n",
       "9       OCCIDENTE    Baja  \n",
       "10      OCCIDENTE    Baja  \n",
       "...           ...     ...  \n",
       "142500  OCCIDENTE  Activo  \n",
       "142501  OCCIDENTE  Activo  \n",
       "142502  OCCIDENTE  Activo  \n",
       "142503  OCCIDENTE  Activo  \n",
       "142504  OCCIDENTE  Activo  \n",
       "\n",
       "[142499 rows x 30 columns]"
      ]
     },
     "execution_count": 5,
     "metadata": {},
     "output_type": "execute_result"
    }
   ],
   "source": [
    "data_mayo = pd.read_excel('data/ReincidenciaPospenadosNal2010-31Mayo2020Rev_con variables demograficas.xlsx')\n",
    "data_mayo.columns = data_mayo.iloc[5].values\n",
    "data_mayo = data_mayo[6:]\n",
    "data_mayo"
   ]
  },
  {
   "cell_type": "code",
   "execution_count": 6,
   "metadata": {
    "ExecuteTime": {
     "end_time": "2020-06-19T02:36:56.847569Z",
     "start_time": "2020-06-19T02:36:56.634134Z"
    }
   },
   "outputs": [
    {
     "name": "stdout",
     "output_type": "stream",
     "text": [
      "<class 'pandas.core.frame.DataFrame'>\n",
      "RangeIndex: 142499 entries, 6 to 142504\n",
      "Data columns (total 30 columns):\n",
      " #   Column                  Non-Null Count   Dtype \n",
      "---  ------                  --------------   ----- \n",
      " 0   INTERNOEN               142499 non-null  object\n",
      " 1   DELITO                  142499 non-null  object\n",
      " 2   TENTATIVA               142499 non-null  object\n",
      " 3   AGRAVADO                142499 non-null  object\n",
      " 4   CALIFICADO              142499 non-null  object\n",
      " 5   FECHA_INGRESO           142499 non-null  object\n",
      " 6   FECHA_SALIDA            95815 non-null   object\n",
      " 7   FECHA_CAPTURA           142499 non-null  object\n",
      " 8   SITUACION_JURIDICA      142499 non-null  object\n",
      " 9   ANO_NACIMIENTO          142499 non-null  object\n",
      " 10  EDAD                    142499 non-null  object\n",
      " 11  GENERO                  142499 non-null  object\n",
      " 12  ESTADO_CIVIL            63007 non-null   object\n",
      " 13  PAIS_INTERNO            139346 non-null  object\n",
      " 14  DEPARTAMENTO            142492 non-null  object\n",
      " 15  CIUDAD                  142499 non-null  object\n",
      " 16  REINCIDENTE             142499 non-null  object\n",
      " 17  ESTADO_INGRESO          142469 non-null  object\n",
      " 18  ACTIVIDADES_TRABAJO     142499 non-null  object\n",
      " 19  ACTIVIDADES_ESTUDIO     142499 non-null  object\n",
      " 20  ACTIVIDADES_ENSEÑANZA   142499 non-null  object\n",
      " 21  NIVEL_EDUCATIVO         142499 non-null  object\n",
      " 22  HIJOS_MENORES           142499 non-null  object\n",
      " 23  CONDIC_EXPECIONAL       13275 non-null   object\n",
      " 24  CODIGO_ESTABLECIMIENTO  142499 non-null  object\n",
      " 25  ESTABLECIMIENTO         142499 non-null  object\n",
      " 26  DEPTO_ESTABLECIMIENTO   139811 non-null  object\n",
      " 27  MPIO_ESTABLECIMIENTO    139811 non-null  object\n",
      " 28  REGIONAL                142499 non-null  object\n",
      " 29  ESTADO                  142499 non-null  object\n",
      "dtypes: object(30)\n",
      "memory usage: 32.6+ MB\n"
     ]
    }
   ],
   "source": [
    "data_mayo.info()"
   ]
  },
  {
   "cell_type": "markdown",
   "metadata": {},
   "source": [
    "### File SHDI Colombia 4.0.xlsx"
   ]
  },
  {
   "cell_type": "code",
   "execution_count": 7,
   "metadata": {
    "ExecuteTime": {
     "end_time": "2020-06-19T02:36:57.115313Z",
     "start_time": "2020-06-19T02:36:56.848831Z"
    },
    "scrolled": true
   },
   "outputs": [
    {
     "data": {
      "text/html": [
       "<div>\n",
       "<style scoped>\n",
       "    .dataframe tbody tr th:only-of-type {\n",
       "        vertical-align: middle;\n",
       "    }\n",
       "\n",
       "    .dataframe tbody tr th {\n",
       "        vertical-align: top;\n",
       "    }\n",
       "\n",
       "    .dataframe thead th {\n",
       "        text-align: right;\n",
       "    }\n",
       "</style>\n",
       "<table border=\"1\" class=\"dataframe\">\n",
       "  <thead>\n",
       "    <tr style=\"text-align: right;\">\n",
       "      <th></th>\n",
       "      <th>iso_code</th>\n",
       "      <th>country</th>\n",
       "      <th>year</th>\n",
       "      <th>GDLCODE</th>\n",
       "      <th>level</th>\n",
       "      <th>region</th>\n",
       "      <th>continent</th>\n",
       "      <th>shdi</th>\n",
       "      <th>healthindex</th>\n",
       "      <th>incindex</th>\n",
       "      <th>edindex</th>\n",
       "      <th>lifexp</th>\n",
       "      <th>gnic</th>\n",
       "      <th>esch</th>\n",
       "      <th>msch</th>\n",
       "      <th>pop</th>\n",
       "    </tr>\n",
       "  </thead>\n",
       "  <tbody>\n",
       "    <tr>\n",
       "      <th>0</th>\n",
       "      <td>COL</td>\n",
       "      <td>Colombia</td>\n",
       "      <td>1990</td>\n",
       "      <td>COLr101</td>\n",
       "      <td>Subnat</td>\n",
       "      <td>Antioquia (incl Medellin)</td>\n",
       "      <td>America</td>\n",
       "      <td>0.603</td>\n",
       "      <td>0.785</td>\n",
       "      <td>0.675</td>\n",
       "      <td>0.413</td>\n",
       "      <td>71.02</td>\n",
       "      <td>8.719078</td>\n",
       "      <td>8.63</td>\n",
       "      <td>5.20</td>\n",
       "      <td>4.092471</td>\n",
       "    </tr>\n",
       "    <tr>\n",
       "      <th>1</th>\n",
       "      <td>COL</td>\n",
       "      <td>Colombia</td>\n",
       "      <td>1990</td>\n",
       "      <td>COLr102</td>\n",
       "      <td>Subnat</td>\n",
       "      <td>Atlantico (incl Barranquilla)</td>\n",
       "      <td>America</td>\n",
       "      <td>0.631</td>\n",
       "      <td>0.785</td>\n",
       "      <td>0.660</td>\n",
       "      <td>0.484</td>\n",
       "      <td>71.02</td>\n",
       "      <td>7.910401</td>\n",
       "      <td>9.89</td>\n",
       "      <td>6.28</td>\n",
       "      <td>2.315525</td>\n",
       "    </tr>\n",
       "    <tr>\n",
       "      <th>2</th>\n",
       "      <td>COL</td>\n",
       "      <td>Colombia</td>\n",
       "      <td>1990</td>\n",
       "      <td>COLr103</td>\n",
       "      <td>Subnat</td>\n",
       "      <td>Bogota D.C.</td>\n",
       "      <td>America</td>\n",
       "      <td>0.673</td>\n",
       "      <td>0.778</td>\n",
       "      <td>0.709</td>\n",
       "      <td>0.552</td>\n",
       "      <td>70.59</td>\n",
       "      <td>10.950703</td>\n",
       "      <td>10.54</td>\n",
       "      <td>7.78</td>\n",
       "      <td>4.715131</td>\n",
       "    </tr>\n",
       "    <tr>\n",
       "      <th>3</th>\n",
       "      <td>COL</td>\n",
       "      <td>Colombia</td>\n",
       "      <td>1990</td>\n",
       "      <td>COLr104</td>\n",
       "      <td>Subnat</td>\n",
       "      <td>Bolivar (Sur and Norte)</td>\n",
       "      <td>America</td>\n",
       "      <td>0.587</td>\n",
       "      <td>0.724</td>\n",
       "      <td>0.623</td>\n",
       "      <td>0.449</td>\n",
       "      <td>67.06</td>\n",
       "      <td>6.169956</td>\n",
       "      <td>9.39</td>\n",
       "      <td>5.65</td>\n",
       "      <td>1.122177</td>\n",
       "    </tr>\n",
       "    <tr>\n",
       "      <th>4</th>\n",
       "      <td>COL</td>\n",
       "      <td>Colombia</td>\n",
       "      <td>1990</td>\n",
       "      <td>COLr105</td>\n",
       "      <td>Subnat</td>\n",
       "      <td>Boyaca</td>\n",
       "      <td>America</td>\n",
       "      <td>0.567</td>\n",
       "      <td>0.804</td>\n",
       "      <td>0.603</td>\n",
       "      <td>0.375</td>\n",
       "      <td>72.24</td>\n",
       "      <td>5.404022</td>\n",
       "      <td>8.70</td>\n",
       "      <td>4.00</td>\n",
       "      <td>1.556152</td>\n",
       "    </tr>\n",
       "    <tr>\n",
       "      <th>...</th>\n",
       "      <td>...</td>\n",
       "      <td>...</td>\n",
       "      <td>...</td>\n",
       "      <td>...</td>\n",
       "      <td>...</td>\n",
       "      <td>...</td>\n",
       "      <td>...</td>\n",
       "      <td>...</td>\n",
       "      <td>...</td>\n",
       "      <td>...</td>\n",
       "      <td>...</td>\n",
       "      <td>...</td>\n",
       "      <td>...</td>\n",
       "      <td>...</td>\n",
       "      <td>...</td>\n",
       "      <td>...</td>\n",
       "    </tr>\n",
       "    <tr>\n",
       "      <th>981</th>\n",
       "      <td>COL</td>\n",
       "      <td>Colombia</td>\n",
       "      <td>2018</td>\n",
       "      <td>COLr130</td>\n",
       "      <td>Subnat</td>\n",
       "      <td>Guainja</td>\n",
       "      <td>America</td>\n",
       "      <td>0.664</td>\n",
       "      <td>0.884</td>\n",
       "      <td>0.582</td>\n",
       "      <td>0.569</td>\n",
       "      <td>77.48</td>\n",
       "      <td>4.700667</td>\n",
       "      <td>13.20</td>\n",
       "      <td>6.06</td>\n",
       "      <td>0.042698</td>\n",
       "    </tr>\n",
       "    <tr>\n",
       "      <th>982</th>\n",
       "      <td>COL</td>\n",
       "      <td>Colombia</td>\n",
       "      <td>2018</td>\n",
       "      <td>COLr131</td>\n",
       "      <td>Subnat</td>\n",
       "      <td>Guaviare</td>\n",
       "      <td>America</td>\n",
       "      <td>0.749</td>\n",
       "      <td>0.883</td>\n",
       "      <td>0.710</td>\n",
       "      <td>0.671</td>\n",
       "      <td>77.38</td>\n",
       "      <td>10.972033</td>\n",
       "      <td>14.99</td>\n",
       "      <td>7.65</td>\n",
       "      <td>0.067026</td>\n",
       "    </tr>\n",
       "    <tr>\n",
       "      <th>983</th>\n",
       "      <td>COL</td>\n",
       "      <td>Colombia</td>\n",
       "      <td>2018</td>\n",
       "      <td>COLr132</td>\n",
       "      <td>Subnat</td>\n",
       "      <td>Vaupis</td>\n",
       "      <td>America</td>\n",
       "      <td>0.635</td>\n",
       "      <td>0.797</td>\n",
       "      <td>0.527</td>\n",
       "      <td>0.611</td>\n",
       "      <td>71.82</td>\n",
       "      <td>3.283906</td>\n",
       "      <td>14.18</td>\n",
       "      <td>6.50</td>\n",
       "      <td>0.045180</td>\n",
       "    </tr>\n",
       "    <tr>\n",
       "      <th>984</th>\n",
       "      <td>COL</td>\n",
       "      <td>Colombia</td>\n",
       "      <td>2018</td>\n",
       "      <td>COLr133</td>\n",
       "      <td>Subnat</td>\n",
       "      <td>Vichada</td>\n",
       "      <td>America</td>\n",
       "      <td>0.748</td>\n",
       "      <td>0.886</td>\n",
       "      <td>0.722</td>\n",
       "      <td>0.653</td>\n",
       "      <td>77.58</td>\n",
       "      <td>11.945034</td>\n",
       "      <td>13.75</td>\n",
       "      <td>8.13</td>\n",
       "      <td>0.032272</td>\n",
       "    </tr>\n",
       "    <tr>\n",
       "      <th>985</th>\n",
       "      <td>COL</td>\n",
       "      <td>Colombia</td>\n",
       "      <td>2018</td>\n",
       "      <td>COLt</td>\n",
       "      <td>National</td>\n",
       "      <td>Total</td>\n",
       "      <td>America</td>\n",
       "      <td>0.761</td>\n",
       "      <td>0.879</td>\n",
       "      <td>0.734</td>\n",
       "      <td>0.683</td>\n",
       "      <td>77.11</td>\n",
       "      <td>12.895595</td>\n",
       "      <td>14.60</td>\n",
       "      <td>8.33</td>\n",
       "      <td>49.648685</td>\n",
       "    </tr>\n",
       "  </tbody>\n",
       "</table>\n",
       "<p>986 rows × 16 columns</p>\n",
       "</div>"
      ],
      "text/plain": [
       "    iso_code   country  year  GDLCODE     level  \\\n",
       "0        COL  Colombia  1990  COLr101    Subnat   \n",
       "1        COL  Colombia  1990  COLr102    Subnat   \n",
       "2        COL  Colombia  1990  COLr103    Subnat   \n",
       "3        COL  Colombia  1990  COLr104    Subnat   \n",
       "4        COL  Colombia  1990  COLr105    Subnat   \n",
       "..       ...       ...   ...      ...       ...   \n",
       "981      COL  Colombia  2018  COLr130    Subnat   \n",
       "982      COL  Colombia  2018  COLr131    Subnat   \n",
       "983      COL  Colombia  2018  COLr132    Subnat   \n",
       "984      COL  Colombia  2018  COLr133    Subnat   \n",
       "985      COL  Colombia  2018     COLt  National   \n",
       "\n",
       "                            region continent   shdi  healthindex  incindex  \\\n",
       "0        Antioquia (incl Medellin)   America  0.603        0.785     0.675   \n",
       "1    Atlantico (incl Barranquilla)   America  0.631        0.785     0.660   \n",
       "2                      Bogota D.C.   America  0.673        0.778     0.709   \n",
       "3          Bolivar (Sur and Norte)   America  0.587        0.724     0.623   \n",
       "4                           Boyaca   America  0.567        0.804     0.603   \n",
       "..                             ...       ...    ...          ...       ...   \n",
       "981                        Guainja   America  0.664        0.884     0.582   \n",
       "982                       Guaviare   America  0.749        0.883     0.710   \n",
       "983                         Vaupis   America  0.635        0.797     0.527   \n",
       "984                        Vichada   America  0.748        0.886     0.722   \n",
       "985                          Total   America  0.761        0.879     0.734   \n",
       "\n",
       "     edindex  lifexp       gnic   esch  msch        pop  \n",
       "0      0.413   71.02   8.719078   8.63  5.20   4.092471  \n",
       "1      0.484   71.02   7.910401   9.89  6.28   2.315525  \n",
       "2      0.552   70.59  10.950703  10.54  7.78   4.715131  \n",
       "3      0.449   67.06   6.169956   9.39  5.65   1.122177  \n",
       "4      0.375   72.24   5.404022   8.70  4.00   1.556152  \n",
       "..       ...     ...        ...    ...   ...        ...  \n",
       "981    0.569   77.48   4.700667  13.20  6.06   0.042698  \n",
       "982    0.671   77.38  10.972033  14.99  7.65   0.067026  \n",
       "983    0.611   71.82   3.283906  14.18  6.50   0.045180  \n",
       "984    0.653   77.58  11.945034  13.75  8.13   0.032272  \n",
       "985    0.683   77.11  12.895595  14.60  8.33  49.648685  \n",
       "\n",
       "[986 rows x 16 columns]"
      ]
     },
     "execution_count": 7,
     "metadata": {},
     "output_type": "execute_result"
    }
   ],
   "source": [
    "SHDI = pd.read_excel('data/SHDI Colombia 4.0.xlsx')\n",
    "#data2.columns = data2.iloc[5].values\n",
    "#data2 = data2[6:]\n",
    "SHDI"
   ]
  },
  {
   "cell_type": "markdown",
   "metadata": {},
   "source": [
    "### File SHDI-4.0-Vardescription.xlsx"
   ]
  },
  {
   "cell_type": "code",
   "execution_count": 8,
   "metadata": {
    "ExecuteTime": {
     "end_time": "2020-06-19T02:36:57.137365Z",
     "start_time": "2020-06-19T02:36:57.116559Z"
    }
   },
   "outputs": [
    {
     "data": {
      "text/html": [
       "<div>\n",
       "<style scoped>\n",
       "    .dataframe tbody tr th:only-of-type {\n",
       "        vertical-align: middle;\n",
       "    }\n",
       "\n",
       "    .dataframe tbody tr th {\n",
       "        vertical-align: top;\n",
       "    }\n",
       "\n",
       "    .dataframe thead th {\n",
       "        text-align: right;\n",
       "    }\n",
       "</style>\n",
       "<table border=\"1\" class=\"dataframe\">\n",
       "  <thead>\n",
       "    <tr style=\"text-align: right;\">\n",
       "      <th></th>\n",
       "      <th>Variable</th>\n",
       "      <th>Category</th>\n",
       "      <th>Dtype</th>\n",
       "      <th>Decimals</th>\n",
       "      <th>RankOrder</th>\n",
       "      <th>Label</th>\n",
       "      <th>Shortdescr</th>\n",
       "      <th>Longdescr</th>\n",
       "    </tr>\n",
       "  </thead>\n",
       "  <tbody>\n",
       "    <tr>\n",
       "      <th>0</th>\n",
       "      <td>iso_code</td>\n",
       "      <td>System</td>\n",
       "      <td>Str</td>\n",
       "      <td>NaN</td>\n",
       "      <td>NaN</td>\n",
       "      <td>NaN</td>\n",
       "      <td>ISO country code 3 digit</td>\n",
       "      <td>ISO country code 3 digit</td>\n",
       "    </tr>\n",
       "    <tr>\n",
       "      <th>1</th>\n",
       "      <td>country</td>\n",
       "      <td>System</td>\n",
       "      <td>Str</td>\n",
       "      <td>NaN</td>\n",
       "      <td>NaN</td>\n",
       "      <td>NaN</td>\n",
       "      <td>Country name</td>\n",
       "      <td>Country name</td>\n",
       "    </tr>\n",
       "    <tr>\n",
       "      <th>2</th>\n",
       "      <td>year</td>\n",
       "      <td>System</td>\n",
       "      <td>Int</td>\n",
       "      <td>0.0</td>\n",
       "      <td>NaN</td>\n",
       "      <td>NaN</td>\n",
       "      <td>Year of data collection</td>\n",
       "      <td>Year of data collection</td>\n",
       "    </tr>\n",
       "    <tr>\n",
       "      <th>3</th>\n",
       "      <td>GDLCODE</td>\n",
       "      <td>System</td>\n",
       "      <td>Str</td>\n",
       "      <td>NaN</td>\n",
       "      <td>NaN</td>\n",
       "      <td>NaN</td>\n",
       "      <td>Region code Global Data Lab</td>\n",
       "      <td>Iso-code, level (t=total), regional division (...</td>\n",
       "    </tr>\n",
       "    <tr>\n",
       "      <th>4</th>\n",
       "      <td>level</td>\n",
       "      <td>System</td>\n",
       "      <td>Str</td>\n",
       "      <td>NaN</td>\n",
       "      <td>NaN</td>\n",
       "      <td>NaN</td>\n",
       "      <td>Aggregation level</td>\n",
       "      <td>National or sub-national</td>\n",
       "    </tr>\n",
       "    <tr>\n",
       "      <th>5</th>\n",
       "      <td>region</td>\n",
       "      <td>System</td>\n",
       "      <td>Str</td>\n",
       "      <td>NaN</td>\n",
       "      <td>NaN</td>\n",
       "      <td>NaN</td>\n",
       "      <td>Sub-national region name</td>\n",
       "      <td>Name of sub-national region</td>\n",
       "    </tr>\n",
       "    <tr>\n",
       "      <th>6</th>\n",
       "      <td>continent</td>\n",
       "      <td>System</td>\n",
       "      <td>Flt</td>\n",
       "      <td>NaN</td>\n",
       "      <td>NaN</td>\n",
       "      <td>NaN</td>\n",
       "      <td>Continent</td>\n",
       "      <td>Categories: Africa, America, Asia/Pacific, Europe</td>\n",
       "    </tr>\n",
       "    <tr>\n",
       "      <th>7</th>\n",
       "      <td>shdi</td>\n",
       "      <td>Indices</td>\n",
       "      <td>Pos</td>\n",
       "      <td>3.0</td>\n",
       "      <td>A</td>\n",
       "      <td>Sub-national HDI</td>\n",
       "      <td>Sub-national HDI</td>\n",
       "      <td>NaN</td>\n",
       "    </tr>\n",
       "    <tr>\n",
       "      <th>8</th>\n",
       "      <td>healthindex</td>\n",
       "      <td>Indices</td>\n",
       "      <td>Pos</td>\n",
       "      <td>3.0</td>\n",
       "      <td>A</td>\n",
       "      <td>Health index</td>\n",
       "      <td>Health index</td>\n",
       "      <td>NaN</td>\n",
       "    </tr>\n",
       "    <tr>\n",
       "      <th>9</th>\n",
       "      <td>incindex</td>\n",
       "      <td>Indices</td>\n",
       "      <td>Pos</td>\n",
       "      <td>3.0</td>\n",
       "      <td>A</td>\n",
       "      <td>Income index</td>\n",
       "      <td>Income index</td>\n",
       "      <td>NaN</td>\n",
       "    </tr>\n",
       "    <tr>\n",
       "      <th>10</th>\n",
       "      <td>edindex</td>\n",
       "      <td>Indices</td>\n",
       "      <td>Pos</td>\n",
       "      <td>3.0</td>\n",
       "      <td>A</td>\n",
       "      <td>Educational index</td>\n",
       "      <td>Educational index</td>\n",
       "      <td>NaN</td>\n",
       "    </tr>\n",
       "    <tr>\n",
       "      <th>11</th>\n",
       "      <td>lifexp</td>\n",
       "      <td>Indicators</td>\n",
       "      <td>Pos</td>\n",
       "      <td>3.0</td>\n",
       "      <td>A</td>\n",
       "      <td>Life expectancy</td>\n",
       "      <td>Life expectancy</td>\n",
       "      <td>Life expectancy at birth</td>\n",
       "    </tr>\n",
       "    <tr>\n",
       "      <th>12</th>\n",
       "      <td>gnic</td>\n",
       "      <td>Indicators</td>\n",
       "      <td>Pos</td>\n",
       "      <td>3.0</td>\n",
       "      <td>A</td>\n",
       "      <td>GNI per capita in thousands of US$ (2011 PPP)</td>\n",
       "      <td>GNI per capita in thousands of US$ (2011 PPP)</td>\n",
       "      <td>Gross National Income per capita in thousands ...</td>\n",
       "    </tr>\n",
       "    <tr>\n",
       "      <th>13</th>\n",
       "      <td>esch</td>\n",
       "      <td>Indicators</td>\n",
       "      <td>Pos</td>\n",
       "      <td>2.0</td>\n",
       "      <td>A</td>\n",
       "      <td>Expected years schooling</td>\n",
       "      <td>Expected years schooling</td>\n",
       "      <td>Expected years schooling children aged 6</td>\n",
       "    </tr>\n",
       "    <tr>\n",
       "      <th>14</th>\n",
       "      <td>msch</td>\n",
       "      <td>Indicators</td>\n",
       "      <td>Pos</td>\n",
       "      <td>2.0</td>\n",
       "      <td>A</td>\n",
       "      <td>Mean years schooling</td>\n",
       "      <td>Mean years schooling</td>\n",
       "      <td>Mean years schooling population aged 25+</td>\n",
       "    </tr>\n",
       "    <tr>\n",
       "      <th>15</th>\n",
       "      <td>pop</td>\n",
       "      <td>Indicators</td>\n",
       "      <td>Pos</td>\n",
       "      <td>2.0</td>\n",
       "      <td>A</td>\n",
       "      <td>Population size in millions</td>\n",
       "      <td>Population size in millions</td>\n",
       "      <td>Population size in millions</td>\n",
       "    </tr>\n",
       "  </tbody>\n",
       "</table>\n",
       "</div>"
      ],
      "text/plain": [
       "       Variable    Category Dtype  Decimals RankOrder  \\\n",
       "0      iso_code      System   Str       NaN       NaN   \n",
       "1       country      System   Str       NaN       NaN   \n",
       "2          year      System   Int       0.0       NaN   \n",
       "3       GDLCODE      System   Str       NaN       NaN   \n",
       "4         level      System   Str       NaN       NaN   \n",
       "5        region      System   Str       NaN       NaN   \n",
       "6     continent      System   Flt       NaN       NaN   \n",
       "7          shdi     Indices   Pos       3.0         A   \n",
       "8   healthindex     Indices   Pos       3.0         A   \n",
       "9      incindex     Indices   Pos       3.0         A   \n",
       "10      edindex     Indices   Pos       3.0         A   \n",
       "11       lifexp  Indicators   Pos       3.0         A   \n",
       "12         gnic  Indicators   Pos       3.0         A   \n",
       "13         esch  Indicators   Pos       2.0         A   \n",
       "14         msch  Indicators   Pos       2.0         A   \n",
       "15          pop  Indicators   Pos       2.0         A   \n",
       "\n",
       "                                            Label  \\\n",
       "0                                             NaN   \n",
       "1                                             NaN   \n",
       "2                                             NaN   \n",
       "3                                             NaN   \n",
       "4                                             NaN   \n",
       "5                                             NaN   \n",
       "6                                             NaN   \n",
       "7                                Sub-national HDI   \n",
       "8                                    Health index   \n",
       "9                                    Income index   \n",
       "10                             Educational index    \n",
       "11                                Life expectancy   \n",
       "12  GNI per capita in thousands of US$ (2011 PPP)   \n",
       "13                       Expected years schooling   \n",
       "14                           Mean years schooling   \n",
       "15                    Population size in millions   \n",
       "\n",
       "                                       Shortdescr  \\\n",
       "0                        ISO country code 3 digit   \n",
       "1                                    Country name   \n",
       "2                         Year of data collection   \n",
       "3                     Region code Global Data Lab   \n",
       "4                               Aggregation level   \n",
       "5                        Sub-national region name   \n",
       "6                                       Continent   \n",
       "7                                Sub-national HDI   \n",
       "8                                    Health index   \n",
       "9                                    Income index   \n",
       "10                             Educational index    \n",
       "11                                Life expectancy   \n",
       "12  GNI per capita in thousands of US$ (2011 PPP)   \n",
       "13                       Expected years schooling   \n",
       "14                           Mean years schooling   \n",
       "15                    Population size in millions   \n",
       "\n",
       "                                            Longdescr  \n",
       "0                            ISO country code 3 digit  \n",
       "1                                        Country name  \n",
       "2                             Year of data collection  \n",
       "3   Iso-code, level (t=total), regional division (...  \n",
       "4                            National or sub-national  \n",
       "5                         Name of sub-national region  \n",
       "6   Categories: Africa, America, Asia/Pacific, Europe  \n",
       "7                                                 NaN  \n",
       "8                                                 NaN  \n",
       "9                                                 NaN  \n",
       "10                                                NaN  \n",
       "11                           Life expectancy at birth  \n",
       "12  Gross National Income per capita in thousands ...  \n",
       "13           Expected years schooling children aged 6  \n",
       "14           Mean years schooling population aged 25+  \n",
       "15                        Population size in millions  "
      ]
     },
     "execution_count": 8,
     "metadata": {},
     "output_type": "execute_result"
    }
   ],
   "source": [
    "SHDI_vardesc = pd.read_excel('data/SHDI-4.0-Vardescription.xlsx')\n",
    "SHDI_vardesc"
   ]
  },
  {
   "cell_type": "markdown",
   "metadata": {},
   "source": [
    "## Cleaning Data"
   ]
  },
  {
   "cell_type": "code",
   "execution_count": 9,
   "metadata": {
    "ExecuteTime": {
     "end_time": "2020-06-19T02:36:57.386296Z",
     "start_time": "2020-06-19T02:36:57.138412Z"
    },
    "scrolled": true
   },
   "outputs": [
    {
     "name": "stdout",
     "output_type": "stream",
     "text": [
      "<class 'pandas.core.frame.DataFrame'>\n",
      "RangeIndex: 142899 entries, 6 to 142904\n",
      "Data columns (total 32 columns):\n",
      " #   Column                  Non-Null Count   Dtype \n",
      "---  ------                  --------------   ----- \n",
      " 0   INTERNOEN               142899 non-null  object\n",
      " 1   DELITO                  142899 non-null  object\n",
      " 2   TITULO_DELITO           142899 non-null  object\n",
      " 3   SUBTITULO_DELITO        142899 non-null  object\n",
      " 4   TENTATIVA               142899 non-null  object\n",
      " 5   AGRAVADO                142899 non-null  object\n",
      " 6   CALIFICADO              142899 non-null  object\n",
      " 7   FECHA_INGRESO           142899 non-null  object\n",
      " 8   FECHA_SALIDA            96345 non-null   object\n",
      " 9   FECHA_CAPTURA           142899 non-null  object\n",
      " 10  SITUACION_JURIDICA      142899 non-null  object\n",
      " 11  ANO_NACIMIENTO          142899 non-null  object\n",
      " 12  EDAD                    142899 non-null  object\n",
      " 13  GENERO                  142899 non-null  object\n",
      " 14  ESTADO_CIVIL            62810 non-null   object\n",
      " 15  PAIS_INTERNO            139737 non-null  object\n",
      " 16  DEPARTAMENTO            142892 non-null  object\n",
      " 17  CIUDAD                  142899 non-null  object\n",
      " 18  REINCIDENTE             142899 non-null  object\n",
      " 19  ESTADO_INGRESO          142869 non-null  object\n",
      " 20  ACTIVIDADES_TRABAJO     142899 non-null  object\n",
      " 21  ACTIVIDADES_ESTUDIO     142899 non-null  object\n",
      " 22  ACTIVIDADES_ENSEÑANZA   142899 non-null  object\n",
      " 23  NIVEL_EDUCATIVO         142899 non-null  object\n",
      " 24  HIJOS_MENORES           142899 non-null  object\n",
      " 25  CONDIC_EXPECIONAL       13314 non-null   object\n",
      " 26  CODIGO_ESTABLECIMIENTO  142899 non-null  object\n",
      " 27  ESTABLECIMIENTO         142899 non-null  object\n",
      " 28  DEPTO_ESTABLECIMIENTO   140108 non-null  object\n",
      " 29  MPIO_ESTABLECIMIENTO    140108 non-null  object\n",
      " 30  REGIONAL                142899 non-null  object\n",
      " 31  ESTADO                  142899 non-null  object\n",
      "dtypes: object(32)\n",
      "memory usage: 34.9+ MB\n"
     ]
    }
   ],
   "source": [
    "data.info()"
   ]
  },
  {
   "cell_type": "code",
   "execution_count": 10,
   "metadata": {
    "ExecuteTime": {
     "end_time": "2020-06-19T02:36:57.656723Z",
     "start_time": "2020-06-19T02:36:57.388523Z"
    }
   },
   "outputs": [
    {
     "data": {
      "text/html": [
       "<div>\n",
       "<style scoped>\n",
       "    .dataframe tbody tr th:only-of-type {\n",
       "        vertical-align: middle;\n",
       "    }\n",
       "\n",
       "    .dataframe tbody tr th {\n",
       "        vertical-align: top;\n",
       "    }\n",
       "\n",
       "    .dataframe thead th {\n",
       "        text-align: right;\n",
       "    }\n",
       "</style>\n",
       "<table border=\"1\" class=\"dataframe\">\n",
       "  <thead>\n",
       "    <tr style=\"text-align: right;\">\n",
       "      <th></th>\n",
       "      <th>num</th>\n",
       "      <th>total</th>\n",
       "      <th>%</th>\n",
       "    </tr>\n",
       "  </thead>\n",
       "  <tbody>\n",
       "    <tr>\n",
       "      <th>CONDIC_EXPECIONAL</th>\n",
       "      <td>129585</td>\n",
       "      <td>142899</td>\n",
       "      <td>90.682930</td>\n",
       "    </tr>\n",
       "    <tr>\n",
       "      <th>ESTADO_CIVIL</th>\n",
       "      <td>80089</td>\n",
       "      <td>142899</td>\n",
       "      <td>56.045879</td>\n",
       "    </tr>\n",
       "    <tr>\n",
       "      <th>FECHA_SALIDA</th>\n",
       "      <td>46554</td>\n",
       "      <td>142899</td>\n",
       "      <td>32.578255</td>\n",
       "    </tr>\n",
       "    <tr>\n",
       "      <th>PAIS_INTERNO</th>\n",
       "      <td>3162</td>\n",
       "      <td>142899</td>\n",
       "      <td>2.212752</td>\n",
       "    </tr>\n",
       "    <tr>\n",
       "      <th>MPIO_ESTABLECIMIENTO</th>\n",
       "      <td>2791</td>\n",
       "      <td>142899</td>\n",
       "      <td>1.953128</td>\n",
       "    </tr>\n",
       "    <tr>\n",
       "      <th>DEPTO_ESTABLECIMIENTO</th>\n",
       "      <td>2791</td>\n",
       "      <td>142899</td>\n",
       "      <td>1.953128</td>\n",
       "    </tr>\n",
       "    <tr>\n",
       "      <th>ESTADO_INGRESO</th>\n",
       "      <td>30</td>\n",
       "      <td>142899</td>\n",
       "      <td>0.020994</td>\n",
       "    </tr>\n",
       "    <tr>\n",
       "      <th>DEPARTAMENTO</th>\n",
       "      <td>7</td>\n",
       "      <td>142899</td>\n",
       "      <td>0.004899</td>\n",
       "    </tr>\n",
       "    <tr>\n",
       "      <th>CODIGO_ESTABLECIMIENTO</th>\n",
       "      <td>0</td>\n",
       "      <td>142899</td>\n",
       "      <td>0.000000</td>\n",
       "    </tr>\n",
       "    <tr>\n",
       "      <th>REINCIDENTE</th>\n",
       "      <td>0</td>\n",
       "      <td>142899</td>\n",
       "      <td>0.000000</td>\n",
       "    </tr>\n",
       "    <tr>\n",
       "      <th>HIJOS_MENORES</th>\n",
       "      <td>0</td>\n",
       "      <td>142899</td>\n",
       "      <td>0.000000</td>\n",
       "    </tr>\n",
       "    <tr>\n",
       "      <th>NIVEL_EDUCATIVO</th>\n",
       "      <td>0</td>\n",
       "      <td>142899</td>\n",
       "      <td>0.000000</td>\n",
       "    </tr>\n",
       "    <tr>\n",
       "      <th>ACTIVIDADES_ENSEÑANZA</th>\n",
       "      <td>0</td>\n",
       "      <td>142899</td>\n",
       "      <td>0.000000</td>\n",
       "    </tr>\n",
       "    <tr>\n",
       "      <th>ACTIVIDADES_ESTUDIO</th>\n",
       "      <td>0</td>\n",
       "      <td>142899</td>\n",
       "      <td>0.000000</td>\n",
       "    </tr>\n",
       "    <tr>\n",
       "      <th>ACTIVIDADES_TRABAJO</th>\n",
       "      <td>0</td>\n",
       "      <td>142899</td>\n",
       "      <td>0.000000</td>\n",
       "    </tr>\n",
       "    <tr>\n",
       "      <th>ESTABLECIMIENTO</th>\n",
       "      <td>0</td>\n",
       "      <td>142899</td>\n",
       "      <td>0.000000</td>\n",
       "    </tr>\n",
       "    <tr>\n",
       "      <th>REGIONAL</th>\n",
       "      <td>0</td>\n",
       "      <td>142899</td>\n",
       "      <td>0.000000</td>\n",
       "    </tr>\n",
       "    <tr>\n",
       "      <th>INTERNOEN</th>\n",
       "      <td>0</td>\n",
       "      <td>142899</td>\n",
       "      <td>0.000000</td>\n",
       "    </tr>\n",
       "    <tr>\n",
       "      <th>CIUDAD</th>\n",
       "      <td>0</td>\n",
       "      <td>142899</td>\n",
       "      <td>0.000000</td>\n",
       "    </tr>\n",
       "    <tr>\n",
       "      <th>DELITO</th>\n",
       "      <td>0</td>\n",
       "      <td>142899</td>\n",
       "      <td>0.000000</td>\n",
       "    </tr>\n",
       "    <tr>\n",
       "      <th>GENERO</th>\n",
       "      <td>0</td>\n",
       "      <td>142899</td>\n",
       "      <td>0.000000</td>\n",
       "    </tr>\n",
       "    <tr>\n",
       "      <th>EDAD</th>\n",
       "      <td>0</td>\n",
       "      <td>142899</td>\n",
       "      <td>0.000000</td>\n",
       "    </tr>\n",
       "    <tr>\n",
       "      <th>ANO_NACIMIENTO</th>\n",
       "      <td>0</td>\n",
       "      <td>142899</td>\n",
       "      <td>0.000000</td>\n",
       "    </tr>\n",
       "    <tr>\n",
       "      <th>SITUACION_JURIDICA</th>\n",
       "      <td>0</td>\n",
       "      <td>142899</td>\n",
       "      <td>0.000000</td>\n",
       "    </tr>\n",
       "    <tr>\n",
       "      <th>FECHA_CAPTURA</th>\n",
       "      <td>0</td>\n",
       "      <td>142899</td>\n",
       "      <td>0.000000</td>\n",
       "    </tr>\n",
       "    <tr>\n",
       "      <th>FECHA_INGRESO</th>\n",
       "      <td>0</td>\n",
       "      <td>142899</td>\n",
       "      <td>0.000000</td>\n",
       "    </tr>\n",
       "    <tr>\n",
       "      <th>CALIFICADO</th>\n",
       "      <td>0</td>\n",
       "      <td>142899</td>\n",
       "      <td>0.000000</td>\n",
       "    </tr>\n",
       "    <tr>\n",
       "      <th>AGRAVADO</th>\n",
       "      <td>0</td>\n",
       "      <td>142899</td>\n",
       "      <td>0.000000</td>\n",
       "    </tr>\n",
       "    <tr>\n",
       "      <th>TENTATIVA</th>\n",
       "      <td>0</td>\n",
       "      <td>142899</td>\n",
       "      <td>0.000000</td>\n",
       "    </tr>\n",
       "    <tr>\n",
       "      <th>SUBTITULO_DELITO</th>\n",
       "      <td>0</td>\n",
       "      <td>142899</td>\n",
       "      <td>0.000000</td>\n",
       "    </tr>\n",
       "    <tr>\n",
       "      <th>TITULO_DELITO</th>\n",
       "      <td>0</td>\n",
       "      <td>142899</td>\n",
       "      <td>0.000000</td>\n",
       "    </tr>\n",
       "    <tr>\n",
       "      <th>ESTADO</th>\n",
       "      <td>0</td>\n",
       "      <td>142899</td>\n",
       "      <td>0.000000</td>\n",
       "    </tr>\n",
       "  </tbody>\n",
       "</table>\n",
       "</div>"
      ],
      "text/plain": [
       "                           num   total          %\n",
       "CONDIC_EXPECIONAL       129585  142899  90.682930\n",
       "ESTADO_CIVIL             80089  142899  56.045879\n",
       "FECHA_SALIDA             46554  142899  32.578255\n",
       "PAIS_INTERNO              3162  142899   2.212752\n",
       "MPIO_ESTABLECIMIENTO      2791  142899   1.953128\n",
       "DEPTO_ESTABLECIMIENTO     2791  142899   1.953128\n",
       "ESTADO_INGRESO              30  142899   0.020994\n",
       "DEPARTAMENTO                 7  142899   0.004899\n",
       "CODIGO_ESTABLECIMIENTO       0  142899   0.000000\n",
       "REINCIDENTE                  0  142899   0.000000\n",
       "HIJOS_MENORES                0  142899   0.000000\n",
       "NIVEL_EDUCATIVO              0  142899   0.000000\n",
       "ACTIVIDADES_ENSEÑANZA        0  142899   0.000000\n",
       "ACTIVIDADES_ESTUDIO          0  142899   0.000000\n",
       "ACTIVIDADES_TRABAJO          0  142899   0.000000\n",
       "ESTABLECIMIENTO              0  142899   0.000000\n",
       "REGIONAL                     0  142899   0.000000\n",
       "INTERNOEN                    0  142899   0.000000\n",
       "CIUDAD                       0  142899   0.000000\n",
       "DELITO                       0  142899   0.000000\n",
       "GENERO                       0  142899   0.000000\n",
       "EDAD                         0  142899   0.000000\n",
       "ANO_NACIMIENTO               0  142899   0.000000\n",
       "SITUACION_JURIDICA           0  142899   0.000000\n",
       "FECHA_CAPTURA                0  142899   0.000000\n",
       "FECHA_INGRESO                0  142899   0.000000\n",
       "CALIFICADO                   0  142899   0.000000\n",
       "AGRAVADO                     0  142899   0.000000\n",
       "TENTATIVA                    0  142899   0.000000\n",
       "SUBTITULO_DELITO             0  142899   0.000000\n",
       "TITULO_DELITO                0  142899   0.000000\n",
       "ESTADO                       0  142899   0.000000"
      ]
     },
     "execution_count": 10,
     "metadata": {},
     "output_type": "execute_result"
    }
   ],
   "source": [
    "vacios = data.isnull().sum().to_frame()\n",
    "vacios.columns = ['num']\n",
    "vacios['total'] = [len(data)]*len(vacios)\n",
    "vacios['%'] = 100*(vacios['num'] / vacios['total'])\n",
    "vacios = vacios.sort_values(by = '%', ascending = False)\n",
    "vacios"
   ]
  },
  {
   "cell_type": "markdown",
   "metadata": {},
   "source": [
    "### Delito"
   ]
  },
  {
   "cell_type": "code",
   "execution_count": 11,
   "metadata": {
    "ExecuteTime": {
     "end_time": "2020-06-19T02:36:57.665714Z",
     "start_time": "2020-06-19T02:36:57.658117Z"
    }
   },
   "outputs": [
    {
     "data": {
      "text/plain": [
       "0"
      ]
     },
     "execution_count": 11,
     "metadata": {},
     "output_type": "execute_result"
    }
   ],
   "source": [
    "data['DELITO'].isnull().sum()"
   ]
  },
  {
   "cell_type": "code",
   "execution_count": 12,
   "metadata": {
    "ExecuteTime": {
     "end_time": "2020-06-19T02:36:57.689716Z",
     "start_time": "2020-06-19T02:36:57.667424Z"
    }
   },
   "outputs": [
    {
     "data": {
      "text/plain": [
       "(259,)"
      ]
     },
     "execution_count": 12,
     "metadata": {},
     "output_type": "execute_result"
    }
   ],
   "source": [
    "data['DELITO'].unique().shape"
   ]
  },
  {
   "cell_type": "markdown",
   "metadata": {},
   "source": [
    "Cleaning, trying to detect variables that are the same but are written differently. This is also a categorical feature, im converting it to type category"
   ]
  },
  {
   "cell_type": "code",
   "execution_count": 13,
   "metadata": {
    "ExecuteTime": {
     "end_time": "2020-06-19T02:36:58.274744Z",
     "start_time": "2020-06-19T02:36:57.691178Z"
    }
   },
   "outputs": [
    {
     "data": {
      "text/plain": [
       "(259,)"
      ]
     },
     "execution_count": 13,
     "metadata": {},
     "output_type": "execute_result"
    }
   ],
   "source": [
    "data['DELITO'] = data['DELITO'].apply(lambda x: ' '.join(unidecode.unidecode(re.sub(r'[^\\w]', ' ',str(x)).lower()).split()))\n",
    "data['DELITO'] = data['DELITO'].astype('category')\n",
    "data['DELITO'].unique().shape"
   ]
  },
  {
   "cell_type": "markdown",
   "metadata": {},
   "source": [
    "Describing number of words per variable in feature delito"
   ]
  },
  {
   "cell_type": "code",
   "execution_count": 14,
   "metadata": {
    "ExecuteTime": {
     "end_time": "2020-06-19T02:36:58.286156Z",
     "start_time": "2020-06-19T02:36:58.275869Z"
    }
   },
   "outputs": [
    {
     "data": {
      "text/plain": [
       "count    142899.000000\n",
       "mean          3.868425\n",
       "std           3.682333\n",
       "min           1.000000\n",
       "25%           1.000000\n",
       "50%           2.000000\n",
       "75%           6.000000\n",
       "max          20.000000\n",
       "Name: DELITO, dtype: float64"
      ]
     },
     "execution_count": 14,
     "metadata": {},
     "output_type": "execute_result"
    }
   ],
   "source": [
    "data['DELITO'].apply(lambda x: len(x.split())).describe()"
   ]
  },
  {
   "cell_type": "code",
   "execution_count": 15,
   "metadata": {
    "ExecuteTime": {
     "end_time": "2020-06-19T02:36:58.298338Z",
     "start_time": "2020-06-19T02:36:58.287336Z"
    },
    "scrolled": false
   },
   "outputs": [
    {
     "data": {
      "text/html": [
       "<div>\n",
       "<style scoped>\n",
       "    .dataframe tbody tr th:only-of-type {\n",
       "        vertical-align: middle;\n",
       "    }\n",
       "\n",
       "    .dataframe tbody tr th {\n",
       "        vertical-align: top;\n",
       "    }\n",
       "\n",
       "    .dataframe thead th {\n",
       "        text-align: right;\n",
       "    }\n",
       "</style>\n",
       "<table border=\"1\" class=\"dataframe\">\n",
       "  <thead>\n",
       "    <tr style=\"text-align: right;\">\n",
       "      <th></th>\n",
       "      <th>DELITO</th>\n",
       "    </tr>\n",
       "  </thead>\n",
       "  <tbody>\n",
       "    <tr>\n",
       "      <th>hurto</th>\n",
       "      <td>53145</td>\n",
       "    </tr>\n",
       "    <tr>\n",
       "      <th>trafico fabricacion o porte de estupefacientes</th>\n",
       "      <td>23923</td>\n",
       "    </tr>\n",
       "    <tr>\n",
       "      <th>fabricacion trafico y porte de armas de fuego o municiones</th>\n",
       "      <td>16816</td>\n",
       "    </tr>\n",
       "    <tr>\n",
       "      <th>concierto para delinquir</th>\n",
       "      <td>9864</td>\n",
       "    </tr>\n",
       "    <tr>\n",
       "      <th>homicidio</th>\n",
       "      <td>8897</td>\n",
       "    </tr>\n",
       "    <tr>\n",
       "      <th>...</th>\n",
       "      <td>...</td>\n",
       "    </tr>\n",
       "    <tr>\n",
       "      <th>calumnia</th>\n",
       "      <td>1</td>\n",
       "    </tr>\n",
       "    <tr>\n",
       "      <th>atraco a mano armada nota solo para jurisdiccion indigena</th>\n",
       "      <td>1</td>\n",
       "    </tr>\n",
       "    <tr>\n",
       "      <th>danos o agravios a personas o a cosas destinadas al culto</th>\n",
       "      <td>1</td>\n",
       "    </tr>\n",
       "    <tr>\n",
       "      <th>apoderamiento o alteracion de sistemas de identificacion</th>\n",
       "      <td>1</td>\n",
       "    </tr>\n",
       "    <tr>\n",
       "      <th>abandono del puesto</th>\n",
       "      <td>1</td>\n",
       "    </tr>\n",
       "  </tbody>\n",
       "</table>\n",
       "<p>259 rows × 1 columns</p>\n",
       "</div>"
      ],
      "text/plain": [
       "                                                    DELITO\n",
       "hurto                                                53145\n",
       "trafico fabricacion o porte de estupefacientes       23923\n",
       "fabricacion trafico y porte de armas de fuego o...   16816\n",
       "concierto para delinquir                              9864\n",
       "homicidio                                             8897\n",
       "...                                                    ...\n",
       "calumnia                                                 1\n",
       "atraco a mano armada nota solo para jurisdiccio...       1\n",
       "danos o agravios a personas o a cosas destinada...       1\n",
       "apoderamiento o alteracion de sistemas de ident...       1\n",
       "abandono del puesto                                      1\n",
       "\n",
       "[259 rows x 1 columns]"
      ]
     },
     "execution_count": 15,
     "metadata": {},
     "output_type": "execute_result"
    }
   ],
   "source": [
    "data['DELITO'].value_counts().to_frame()"
   ]
  },
  {
   "cell_type": "markdown",
   "metadata": {},
   "source": [
    "### Titulo Delito"
   ]
  },
  {
   "cell_type": "code",
   "execution_count": 16,
   "metadata": {
    "ExecuteTime": {
     "end_time": "2020-06-19T02:36:58.307702Z",
     "start_time": "2020-06-19T02:36:58.300064Z"
    }
   },
   "outputs": [
    {
     "data": {
      "text/plain": [
       "0"
      ]
     },
     "execution_count": 16,
     "metadata": {},
     "output_type": "execute_result"
    }
   ],
   "source": [
    "data['TITULO_DELITO'].isnull().sum()"
   ]
  },
  {
   "cell_type": "code",
   "execution_count": 17,
   "metadata": {
    "ExecuteTime": {
     "end_time": "2020-06-19T02:36:58.321538Z",
     "start_time": "2020-06-19T02:36:58.309269Z"
    }
   },
   "outputs": [
    {
     "data": {
      "text/plain": [
       "(25,)"
      ]
     },
     "execution_count": 17,
     "metadata": {},
     "output_type": "execute_result"
    }
   ],
   "source": [
    "data['TITULO_DELITO'].unique().shape"
   ]
  },
  {
   "cell_type": "markdown",
   "metadata": {},
   "source": [
    "Cleaning, trying to detect variables that are the same but are written differently. This is also a categorical feature, im converting it to type category"
   ]
  },
  {
   "cell_type": "code",
   "execution_count": 18,
   "metadata": {
    "ExecuteTime": {
     "end_time": "2020-06-19T02:36:58.841097Z",
     "start_time": "2020-06-19T02:36:58.322708Z"
    }
   },
   "outputs": [
    {
     "data": {
      "text/plain": [
       "(25,)"
      ]
     },
     "execution_count": 18,
     "metadata": {},
     "output_type": "execute_result"
    }
   ],
   "source": [
    "data['TITULO_DELITO'] = data['TITULO_DELITO'].apply(lambda x: ' '.join(unidecode.unidecode(re.sub(r'[^\\w]', ' ',str(x)).lower()).split()))\n",
    "data['TITULO_DELITO'] = data['TITULO_DELITO'].astype('category')\n",
    "data['TITULO_DELITO'].unique().shape"
   ]
  },
  {
   "cell_type": "markdown",
   "metadata": {},
   "source": [
    "Describing number of words per variable in feature delito"
   ]
  },
  {
   "cell_type": "code",
   "execution_count": 19,
   "metadata": {
    "ExecuteTime": {
     "end_time": "2020-06-19T02:36:58.851202Z",
     "start_time": "2020-06-19T02:36:58.842170Z"
    }
   },
   "outputs": [
    {
     "data": {
      "text/plain": [
       "count    142899.000000\n",
       "mean          4.454244\n",
       "std           1.182478\n",
       "min           2.000000\n",
       "25%           4.000000\n",
       "50%           4.000000\n",
       "75%           4.000000\n",
       "max          10.000000\n",
       "Name: TITULO_DELITO, dtype: float64"
      ]
     },
     "execution_count": 19,
     "metadata": {},
     "output_type": "execute_result"
    }
   ],
   "source": [
    "data['TITULO_DELITO'].apply(lambda x: len(x.split())).describe()"
   ]
  },
  {
   "cell_type": "code",
   "execution_count": 20,
   "metadata": {
    "ExecuteTime": {
     "end_time": "2020-06-19T02:36:58.863577Z",
     "start_time": "2020-06-19T02:36:58.852789Z"
    },
    "scrolled": true
   },
   "outputs": [
    {
     "data": {
      "text/html": [
       "<div>\n",
       "<style scoped>\n",
       "    .dataframe tbody tr th:only-of-type {\n",
       "        vertical-align: middle;\n",
       "    }\n",
       "\n",
       "    .dataframe tbody tr th {\n",
       "        vertical-align: top;\n",
       "    }\n",
       "\n",
       "    .dataframe thead th {\n",
       "        text-align: right;\n",
       "    }\n",
       "</style>\n",
       "<table border=\"1\" class=\"dataframe\">\n",
       "  <thead>\n",
       "    <tr style=\"text-align: right;\">\n",
       "      <th></th>\n",
       "      <th>TITULO_DELITO</th>\n",
       "    </tr>\n",
       "  </thead>\n",
       "  <tbody>\n",
       "    <tr>\n",
       "      <th>contra el patrimonio economico</th>\n",
       "      <td>56860</td>\n",
       "    </tr>\n",
       "    <tr>\n",
       "      <th>contra la seguridad publica</th>\n",
       "      <td>31591</td>\n",
       "    </tr>\n",
       "    <tr>\n",
       "      <th>contra la salud publica</th>\n",
       "      <td>25028</td>\n",
       "    </tr>\n",
       "    <tr>\n",
       "      <th>contra la vida y la integridad personal</th>\n",
       "      <td>11329</td>\n",
       "    </tr>\n",
       "    <tr>\n",
       "      <th>contra la familia</th>\n",
       "      <td>3689</td>\n",
       "    </tr>\n",
       "    <tr>\n",
       "      <th>contra la eficaz y recta imparticion de justicia</th>\n",
       "      <td>3095</td>\n",
       "    </tr>\n",
       "    <tr>\n",
       "      <th>contra la libertad individual y otras garantias</th>\n",
       "      <td>2896</td>\n",
       "    </tr>\n",
       "    <tr>\n",
       "      <th>contra la libertad integridad y formacion sexuales</th>\n",
       "      <td>2847</td>\n",
       "    </tr>\n",
       "    <tr>\n",
       "      <th>contra la fe publica</th>\n",
       "      <td>2361</td>\n",
       "    </tr>\n",
       "    <tr>\n",
       "      <th>contra la administracion publica</th>\n",
       "      <td>1360</td>\n",
       "    </tr>\n",
       "    <tr>\n",
       "      <th>contra el orden economico social</th>\n",
       "      <td>520</td>\n",
       "    </tr>\n",
       "    <tr>\n",
       "      <th>contra el regimen constitucional y legal</th>\n",
       "      <td>366</td>\n",
       "    </tr>\n",
       "    <tr>\n",
       "      <th>de la proteccion de la informacion y de los datos</th>\n",
       "      <td>315</td>\n",
       "    </tr>\n",
       "    <tr>\n",
       "      <th>contra los recursos naturales y el medio ambiente</th>\n",
       "      <td>245</td>\n",
       "    </tr>\n",
       "    <tr>\n",
       "      <th>delitos contra el servicio</th>\n",
       "      <td>153</td>\n",
       "    </tr>\n",
       "    <tr>\n",
       "      <th>contra personas y bienes protegidos por el derecho internacional humanitario</th>\n",
       "      <td>141</td>\n",
       "    </tr>\n",
       "    <tr>\n",
       "      <th>contra los derechos de autor</th>\n",
       "      <td>31</td>\n",
       "    </tr>\n",
       "    <tr>\n",
       "      <th>contra la integridad moral</th>\n",
       "      <td>23</td>\n",
       "    </tr>\n",
       "    <tr>\n",
       "      <th>contra mecanismos de participacion democratica</th>\n",
       "      <td>17</td>\n",
       "    </tr>\n",
       "    <tr>\n",
       "      <th>legislacion indigena</th>\n",
       "      <td>11</td>\n",
       "    </tr>\n",
       "    <tr>\n",
       "      <th>delitos de paramilitarismo y sicariato</th>\n",
       "      <td>9</td>\n",
       "    </tr>\n",
       "    <tr>\n",
       "      <th>delitos contra la disciplina</th>\n",
       "      <td>5</td>\n",
       "    </tr>\n",
       "    <tr>\n",
       "      <th>accion de tutela</th>\n",
       "      <td>4</td>\n",
       "    </tr>\n",
       "    <tr>\n",
       "      <th>delitos contra la administracion publica</th>\n",
       "      <td>2</td>\n",
       "    </tr>\n",
       "    <tr>\n",
       "      <th>contra la existencia y seguridad del estado</th>\n",
       "      <td>1</td>\n",
       "    </tr>\n",
       "  </tbody>\n",
       "</table>\n",
       "</div>"
      ],
      "text/plain": [
       "                                                    TITULO_DELITO\n",
       "contra el patrimonio economico                              56860\n",
       "contra la seguridad publica                                 31591\n",
       "contra la salud publica                                     25028\n",
       "contra la vida y la integridad personal                     11329\n",
       "contra la familia                                            3689\n",
       "contra la eficaz y recta imparticion de justicia             3095\n",
       "contra la libertad individual y otras garantias              2896\n",
       "contra la libertad integridad y formacion sexuales           2847\n",
       "contra la fe publica                                         2361\n",
       "contra la administracion publica                             1360\n",
       "contra el orden economico social                              520\n",
       "contra el regimen constitucional y legal                      366\n",
       "de la proteccion de la informacion y de los datos             315\n",
       "contra los recursos naturales y el medio ambiente             245\n",
       "delitos contra el servicio                                    153\n",
       "contra personas y bienes protegidos por el dere...            141\n",
       "contra los derechos de autor                                   31\n",
       "contra la integridad moral                                     23\n",
       "contra mecanismos de participacion democratica                 17\n",
       "legislacion indigena                                           11\n",
       "delitos de paramilitarismo y sicariato                          9\n",
       "delitos contra la disciplina                                    5\n",
       "accion de tutela                                                4\n",
       "delitos contra la administracion publica                        2\n",
       "contra la existencia y seguridad del estado                     1"
      ]
     },
     "execution_count": 20,
     "metadata": {},
     "output_type": "execute_result"
    }
   ],
   "source": [
    "data['TITULO_DELITO'].value_counts().to_frame()"
   ]
  },
  {
   "cell_type": "markdown",
   "metadata": {},
   "source": [
    "### Subtitulo Delito"
   ]
  },
  {
   "cell_type": "code",
   "execution_count": 21,
   "metadata": {
    "ExecuteTime": {
     "end_time": "2020-06-19T02:36:58.872598Z",
     "start_time": "2020-06-19T02:36:58.864699Z"
    }
   },
   "outputs": [
    {
     "data": {
      "text/plain": [
       "0"
      ]
     },
     "execution_count": 21,
     "metadata": {},
     "output_type": "execute_result"
    }
   ],
   "source": [
    "data['SUBTITULO_DELITO'].isnull().sum()"
   ]
  },
  {
   "cell_type": "code",
   "execution_count": 22,
   "metadata": {
    "ExecuteTime": {
     "end_time": "2020-06-19T02:36:58.886945Z",
     "start_time": "2020-06-19T02:36:58.873921Z"
    }
   },
   "outputs": [
    {
     "data": {
      "text/plain": [
       "(25,)"
      ]
     },
     "execution_count": 22,
     "metadata": {},
     "output_type": "execute_result"
    }
   ],
   "source": [
    "data['SUBTITULO_DELITO'].unique().shape"
   ]
  },
  {
   "cell_type": "markdown",
   "metadata": {},
   "source": [
    "Cleaning, trying to detect variables that are the same but are written differently. This is also a categorical feature, im converting it to type category"
   ]
  },
  {
   "cell_type": "code",
   "execution_count": 23,
   "metadata": {
    "ExecuteTime": {
     "end_time": "2020-06-19T02:36:59.525212Z",
     "start_time": "2020-06-19T02:36:58.888152Z"
    }
   },
   "outputs": [
    {
     "data": {
      "text/plain": [
       "(25,)"
      ]
     },
     "execution_count": 23,
     "metadata": {},
     "output_type": "execute_result"
    }
   ],
   "source": [
    "data['SUBTITULO_DELITO'] = data['SUBTITULO_DELITO'].apply(lambda x: ' '.join(unidecode.unidecode(re.sub(r'[^\\w]', ' ',str(x)).lower()).split()))\n",
    "data['SUBTITULO_DELITO'] = data['SUBTITULO_DELITO'].astype('category')\n",
    "data['SUBTITULO_DELITO'].unique().shape"
   ]
  },
  {
   "cell_type": "markdown",
   "metadata": {},
   "source": [
    "Describing number of words per variable in feature delito"
   ]
  },
  {
   "cell_type": "code",
   "execution_count": 24,
   "metadata": {
    "ExecuteTime": {
     "end_time": "2020-06-19T02:36:59.535847Z",
     "start_time": "2020-06-19T02:36:59.526362Z"
    }
   },
   "outputs": [
    {
     "data": {
      "text/plain": [
       "count    142899.000000\n",
       "mean          7.448946\n",
       "std           5.922536\n",
       "min           2.000000\n",
       "25%           3.000000\n",
       "50%           4.000000\n",
       "75%           7.000000\n",
       "max          19.000000\n",
       "Name: SUBTITULO_DELITO, dtype: float64"
      ]
     },
     "execution_count": 24,
     "metadata": {},
     "output_type": "execute_result"
    }
   ],
   "source": [
    "data['SUBTITULO_DELITO'].apply(lambda x: len(x.split())).describe()"
   ]
  },
  {
   "cell_type": "code",
   "execution_count": 25,
   "metadata": {
    "ExecuteTime": {
     "end_time": "2020-06-19T02:36:59.546988Z",
     "start_time": "2020-06-19T02:36:59.539057Z"
    },
    "scrolled": true
   },
   "outputs": [
    {
     "data": {
      "text/html": [
       "<div>\n",
       "<style scoped>\n",
       "    .dataframe tbody tr th:only-of-type {\n",
       "        vertical-align: middle;\n",
       "    }\n",
       "\n",
       "    .dataframe tbody tr th {\n",
       "        vertical-align: top;\n",
       "    }\n",
       "\n",
       "    .dataframe thead th {\n",
       "        text-align: right;\n",
       "    }\n",
       "</style>\n",
       "<table border=\"1\" class=\"dataframe\">\n",
       "  <thead>\n",
       "    <tr style=\"text-align: right;\">\n",
       "      <th></th>\n",
       "      <th>SUBTITULO_DELITO</th>\n",
       "    </tr>\n",
       "  </thead>\n",
       "  <tbody>\n",
       "    <tr>\n",
       "      <th>de la estafa</th>\n",
       "      <td>56860</td>\n",
       "    </tr>\n",
       "    <tr>\n",
       "      <th>de los delitos de peligro comun o que pueden ocasionar grave perjuicio para la comunidad y otras infracciones</th>\n",
       "      <td>31591</td>\n",
       "    </tr>\n",
       "    <tr>\n",
       "      <th>de las afectaciones a la salud publica</th>\n",
       "      <td>25028</td>\n",
       "    </tr>\n",
       "    <tr>\n",
       "      <th>de la manipulacion genetica</th>\n",
       "      <td>11329</td>\n",
       "    </tr>\n",
       "    <tr>\n",
       "      <th>de la adopcion irregular</th>\n",
       "      <td>3689</td>\n",
       "    </tr>\n",
       "    <tr>\n",
       "      <th>de la fuga de presos</th>\n",
       "      <td>3095</td>\n",
       "    </tr>\n",
       "    <tr>\n",
       "      <th>apoderamiento y desvio de aeronaves naves o medios de transporte colectivo</th>\n",
       "      <td>2896</td>\n",
       "    </tr>\n",
       "    <tr>\n",
       "      <th>de la violacion</th>\n",
       "      <td>2847</td>\n",
       "    </tr>\n",
       "    <tr>\n",
       "      <th>de la falsedad en documentos</th>\n",
       "      <td>2361</td>\n",
       "    </tr>\n",
       "    <tr>\n",
       "      <th>de la celebracion indebida de contratos</th>\n",
       "      <td>1360</td>\n",
       "    </tr>\n",
       "    <tr>\n",
       "      <th>de la urbanizacion ilegal</th>\n",
       "      <td>520</td>\n",
       "    </tr>\n",
       "    <tr>\n",
       "      <th>de la rebelion sedicion y asonada</th>\n",
       "      <td>366</td>\n",
       "    </tr>\n",
       "    <tr>\n",
       "      <th>de los atentados contra la confidencialidad la integridad y la disponibilidad de los datos y de los sistemas informaticos</th>\n",
       "      <td>315</td>\n",
       "    </tr>\n",
       "    <tr>\n",
       "      <th>delitos contra los animales</th>\n",
       "      <td>245</td>\n",
       "    </tr>\n",
       "    <tr>\n",
       "      <th>de la desercion</th>\n",
       "      <td>153</td>\n",
       "    </tr>\n",
       "    <tr>\n",
       "      <th>delitos contra personas y bienes protegidos por el derecho internacional humanitario</th>\n",
       "      <td>141</td>\n",
       "    </tr>\n",
       "    <tr>\n",
       "      <th>de la violacion a los derechos de autor ley 44 de 1993</th>\n",
       "      <td>31</td>\n",
       "    </tr>\n",
       "    <tr>\n",
       "      <th>de la injuria y la calumnia</th>\n",
       "      <td>23</td>\n",
       "    </tr>\n",
       "    <tr>\n",
       "      <th>de la violacion al ejercicio de mecanismos de participacion democratica</th>\n",
       "      <td>17</td>\n",
       "    </tr>\n",
       "    <tr>\n",
       "      <th>de la corrupcion de menores</th>\n",
       "      <td>11</td>\n",
       "    </tr>\n",
       "    <tr>\n",
       "      <th>de la conformacion de grupos armados al margen de la ley</th>\n",
       "      <td>9</td>\n",
       "    </tr>\n",
       "    <tr>\n",
       "      <th>de la desobediencia</th>\n",
       "      <td>5</td>\n",
       "    </tr>\n",
       "    <tr>\n",
       "      <th>accion de tutela</th>\n",
       "      <td>4</td>\n",
       "    </tr>\n",
       "    <tr>\n",
       "      <th>del peculado</th>\n",
       "      <td>2</td>\n",
       "    </tr>\n",
       "    <tr>\n",
       "      <th>de los delitos contra la seguridad del estado</th>\n",
       "      <td>1</td>\n",
       "    </tr>\n",
       "  </tbody>\n",
       "</table>\n",
       "</div>"
      ],
      "text/plain": [
       "                                                    SUBTITULO_DELITO\n",
       "de la estafa                                                   56860\n",
       "de los delitos de peligro comun o que pueden oc...             31591\n",
       "de las afectaciones a la salud publica                         25028\n",
       "de la manipulacion genetica                                    11329\n",
       "de la adopcion irregular                                        3689\n",
       "de la fuga de presos                                            3095\n",
       "apoderamiento y desvio de aeronaves naves o med...              2896\n",
       "de la violacion                                                 2847\n",
       "de la falsedad en documentos                                    2361\n",
       "de la celebracion indebida de contratos                         1360\n",
       "de la urbanizacion ilegal                                        520\n",
       "de la rebelion sedicion y asonada                                366\n",
       "de los atentados contra la confidencialidad la ...               315\n",
       "delitos contra los animales                                      245\n",
       "de la desercion                                                  153\n",
       "delitos contra personas y bienes protegidos por...               141\n",
       "de la violacion a los derechos de autor ley 44 ...                31\n",
       "de la injuria y la calumnia                                       23\n",
       "de la violacion al ejercicio de mecanismos de p...                17\n",
       "de la corrupcion de menores                                       11\n",
       "de la conformacion de grupos armados al margen ...                 9\n",
       "de la desobediencia                                                5\n",
       "accion de tutela                                                   4\n",
       "del peculado                                                       2\n",
       "de los delitos contra la seguridad del estado                      1"
      ]
     },
     "execution_count": 25,
     "metadata": {},
     "output_type": "execute_result"
    }
   ],
   "source": [
    "data['SUBTITULO_DELITO'].value_counts().to_frame()"
   ]
  },
  {
   "cell_type": "markdown",
   "metadata": {},
   "source": [
    "### Tentativa"
   ]
  },
  {
   "cell_type": "code",
   "execution_count": 26,
   "metadata": {
    "ExecuteTime": {
     "end_time": "2020-06-19T02:36:59.558880Z",
     "start_time": "2020-06-19T02:36:59.548997Z"
    }
   },
   "outputs": [
    {
     "data": {
      "text/plain": [
       "0"
      ]
     },
     "execution_count": 26,
     "metadata": {},
     "output_type": "execute_result"
    }
   ],
   "source": [
    "data['TENTATIVA'].isnull().sum()"
   ]
  },
  {
   "cell_type": "code",
   "execution_count": 27,
   "metadata": {
    "ExecuteTime": {
     "end_time": "2020-06-19T02:36:59.571426Z",
     "start_time": "2020-06-19T02:36:59.560059Z"
    }
   },
   "outputs": [
    {
     "data": {
      "text/plain": [
       "(2,)"
      ]
     },
     "execution_count": 27,
     "metadata": {},
     "output_type": "execute_result"
    }
   ],
   "source": [
    "data['TENTATIVA'].unique().shape"
   ]
  },
  {
   "cell_type": "code",
   "execution_count": 28,
   "metadata": {
    "ExecuteTime": {
     "end_time": "2020-06-19T02:36:59.589979Z",
     "start_time": "2020-06-19T02:36:59.572697Z"
    }
   },
   "outputs": [
    {
     "data": {
      "text/html": [
       "<div>\n",
       "<style scoped>\n",
       "    .dataframe tbody tr th:only-of-type {\n",
       "        vertical-align: middle;\n",
       "    }\n",
       "\n",
       "    .dataframe tbody tr th {\n",
       "        vertical-align: top;\n",
       "    }\n",
       "\n",
       "    .dataframe thead th {\n",
       "        text-align: right;\n",
       "    }\n",
       "</style>\n",
       "<table border=\"1\" class=\"dataframe\">\n",
       "  <thead>\n",
       "    <tr style=\"text-align: right;\">\n",
       "      <th></th>\n",
       "      <th>TENTATIVA</th>\n",
       "    </tr>\n",
       "  </thead>\n",
       "  <tbody>\n",
       "    <tr>\n",
       "      <th>N</th>\n",
       "      <td>132604</td>\n",
       "    </tr>\n",
       "    <tr>\n",
       "      <th>S</th>\n",
       "      <td>10295</td>\n",
       "    </tr>\n",
       "  </tbody>\n",
       "</table>\n",
       "</div>"
      ],
      "text/plain": [
       "   TENTATIVA\n",
       "N     132604\n",
       "S      10295"
      ]
     },
     "execution_count": 28,
     "metadata": {},
     "output_type": "execute_result"
    }
   ],
   "source": [
    "data['TENTATIVA'].value_counts().to_frame()"
   ]
  },
  {
   "cell_type": "code",
   "execution_count": 29,
   "metadata": {
    "ExecuteTime": {
     "end_time": "2020-06-19T02:36:59.712666Z",
     "start_time": "2020-06-19T02:36:59.591218Z"
    }
   },
   "outputs": [],
   "source": [
    "data['TENTATIVA'] = data['TENTATIVA'].astype('category')"
   ]
  },
  {
   "cell_type": "markdown",
   "metadata": {},
   "source": [
    "### Agravado"
   ]
  },
  {
   "cell_type": "code",
   "execution_count": 30,
   "metadata": {
    "ExecuteTime": {
     "end_time": "2020-06-19T02:36:59.723100Z",
     "start_time": "2020-06-19T02:36:59.713971Z"
    }
   },
   "outputs": [
    {
     "data": {
      "text/plain": [
       "0"
      ]
     },
     "execution_count": 30,
     "metadata": {},
     "output_type": "execute_result"
    }
   ],
   "source": [
    "data['AGRAVADO'].isnull().sum()"
   ]
  },
  {
   "cell_type": "code",
   "execution_count": 31,
   "metadata": {
    "ExecuteTime": {
     "end_time": "2020-06-19T02:36:59.731496Z",
     "start_time": "2020-06-19T02:36:59.724386Z"
    }
   },
   "outputs": [
    {
     "data": {
      "text/plain": [
       "(2,)"
      ]
     },
     "execution_count": 31,
     "metadata": {},
     "output_type": "execute_result"
    }
   ],
   "source": [
    "data['AGRAVADO'].unique().shape"
   ]
  },
  {
   "cell_type": "code",
   "execution_count": 32,
   "metadata": {
    "ExecuteTime": {
     "end_time": "2020-06-19T02:36:59.748766Z",
     "start_time": "2020-06-19T02:36:59.732796Z"
    }
   },
   "outputs": [
    {
     "data": {
      "text/html": [
       "<div>\n",
       "<style scoped>\n",
       "    .dataframe tbody tr th:only-of-type {\n",
       "        vertical-align: middle;\n",
       "    }\n",
       "\n",
       "    .dataframe tbody tr th {\n",
       "        vertical-align: top;\n",
       "    }\n",
       "\n",
       "    .dataframe thead th {\n",
       "        text-align: right;\n",
       "    }\n",
       "</style>\n",
       "<table border=\"1\" class=\"dataframe\">\n",
       "  <thead>\n",
       "    <tr style=\"text-align: right;\">\n",
       "      <th></th>\n",
       "      <th>AGRAVADO</th>\n",
       "    </tr>\n",
       "  </thead>\n",
       "  <tbody>\n",
       "    <tr>\n",
       "      <th>N</th>\n",
       "      <td>95699</td>\n",
       "    </tr>\n",
       "    <tr>\n",
       "      <th>S</th>\n",
       "      <td>47200</td>\n",
       "    </tr>\n",
       "  </tbody>\n",
       "</table>\n",
       "</div>"
      ],
      "text/plain": [
       "   AGRAVADO\n",
       "N     95699\n",
       "S     47200"
      ]
     },
     "execution_count": 32,
     "metadata": {},
     "output_type": "execute_result"
    }
   ],
   "source": [
    "data['AGRAVADO'].value_counts().to_frame()"
   ]
  },
  {
   "cell_type": "code",
   "execution_count": 33,
   "metadata": {
    "ExecuteTime": {
     "end_time": "2020-06-19T02:36:59.838442Z",
     "start_time": "2020-06-19T02:36:59.750895Z"
    }
   },
   "outputs": [],
   "source": [
    "data['AGRAVADO'] = data['AGRAVADO'].astype('category')"
   ]
  },
  {
   "cell_type": "markdown",
   "metadata": {},
   "source": [
    "### Calificado"
   ]
  },
  {
   "cell_type": "code",
   "execution_count": 34,
   "metadata": {
    "ExecuteTime": {
     "end_time": "2020-06-19T02:36:59.847005Z",
     "start_time": "2020-06-19T02:36:59.839674Z"
    }
   },
   "outputs": [
    {
     "data": {
      "text/plain": [
       "0"
      ]
     },
     "execution_count": 34,
     "metadata": {},
     "output_type": "execute_result"
    }
   ],
   "source": [
    "data['CALIFICADO'].isnull().sum()"
   ]
  },
  {
   "cell_type": "code",
   "execution_count": 35,
   "metadata": {
    "ExecuteTime": {
     "end_time": "2020-06-19T02:36:59.855176Z",
     "start_time": "2020-06-19T02:36:59.848317Z"
    }
   },
   "outputs": [
    {
     "data": {
      "text/plain": [
       "(2,)"
      ]
     },
     "execution_count": 35,
     "metadata": {},
     "output_type": "execute_result"
    }
   ],
   "source": [
    "data['CALIFICADO'].unique().shape"
   ]
  },
  {
   "cell_type": "code",
   "execution_count": 36,
   "metadata": {
    "ExecuteTime": {
     "end_time": "2020-06-19T02:36:59.870642Z",
     "start_time": "2020-06-19T02:36:59.856255Z"
    }
   },
   "outputs": [
    {
     "data": {
      "text/html": [
       "<div>\n",
       "<style scoped>\n",
       "    .dataframe tbody tr th:only-of-type {\n",
       "        vertical-align: middle;\n",
       "    }\n",
       "\n",
       "    .dataframe tbody tr th {\n",
       "        vertical-align: top;\n",
       "    }\n",
       "\n",
       "    .dataframe thead th {\n",
       "        text-align: right;\n",
       "    }\n",
       "</style>\n",
       "<table border=\"1\" class=\"dataframe\">\n",
       "  <thead>\n",
       "    <tr style=\"text-align: right;\">\n",
       "      <th></th>\n",
       "      <th>CALIFICADO</th>\n",
       "    </tr>\n",
       "  </thead>\n",
       "  <tbody>\n",
       "    <tr>\n",
       "      <th>N</th>\n",
       "      <td>102130</td>\n",
       "    </tr>\n",
       "    <tr>\n",
       "      <th>S</th>\n",
       "      <td>40769</td>\n",
       "    </tr>\n",
       "  </tbody>\n",
       "</table>\n",
       "</div>"
      ],
      "text/plain": [
       "   CALIFICADO\n",
       "N      102130\n",
       "S       40769"
      ]
     },
     "execution_count": 36,
     "metadata": {},
     "output_type": "execute_result"
    }
   ],
   "source": [
    "data['CALIFICADO'].value_counts().to_frame()"
   ]
  },
  {
   "cell_type": "code",
   "execution_count": 37,
   "metadata": {
    "ExecuteTime": {
     "end_time": "2020-06-19T02:36:59.947825Z",
     "start_time": "2020-06-19T02:36:59.872165Z"
    }
   },
   "outputs": [],
   "source": [
    "data['CALIFICADO'] = data['CALIFICADO'].astype('category')"
   ]
  },
  {
   "cell_type": "markdown",
   "metadata": {},
   "source": [
    "### Fecha Ingreso"
   ]
  },
  {
   "cell_type": "code",
   "execution_count": 38,
   "metadata": {
    "ExecuteTime": {
     "end_time": "2020-06-19T02:36:59.957531Z",
     "start_time": "2020-06-19T02:36:59.949185Z"
    }
   },
   "outputs": [
    {
     "data": {
      "text/plain": [
       "0"
      ]
     },
     "execution_count": 38,
     "metadata": {},
     "output_type": "execute_result"
    }
   ],
   "source": [
    "data['FECHA_INGRESO'].isnull().sum()"
   ]
  },
  {
   "cell_type": "code",
   "execution_count": 39,
   "metadata": {
    "ExecuteTime": {
     "end_time": "2020-06-19T02:36:59.970352Z",
     "start_time": "2020-06-19T02:36:59.959022Z"
    }
   },
   "outputs": [
    {
     "data": {
      "text/plain": [
       "(3785,)"
      ]
     },
     "execution_count": 39,
     "metadata": {},
     "output_type": "execute_result"
    }
   ],
   "source": [
    "data['FECHA_INGRESO'].unique().shape"
   ]
  },
  {
   "cell_type": "code",
   "execution_count": 40,
   "metadata": {
    "ExecuteTime": {
     "end_time": "2020-06-19T02:37:00.246174Z",
     "start_time": "2020-06-19T02:36:59.971862Z"
    }
   },
   "outputs": [],
   "source": [
    "data['FECHA_INGRESO'] = pd.to_datetime(data['FECHA_INGRESO'])"
   ]
  },
  {
   "cell_type": "markdown",
   "metadata": {},
   "source": [
    "### Fecha Salida - has NaN"
   ]
  },
  {
   "cell_type": "code",
   "execution_count": 41,
   "metadata": {
    "ExecuteTime": {
     "end_time": "2020-06-19T02:37:00.256315Z",
     "start_time": "2020-06-19T02:37:00.247339Z"
    }
   },
   "outputs": [
    {
     "data": {
      "text/plain": [
       "46554"
      ]
     },
     "execution_count": 41,
     "metadata": {},
     "output_type": "execute_result"
    }
   ],
   "source": [
    "data['FECHA_SALIDA'].isnull().sum()"
   ]
  },
  {
   "cell_type": "code",
   "execution_count": 42,
   "metadata": {
    "ExecuteTime": {
     "end_time": "2020-06-19T02:37:00.265355Z",
     "start_time": "2020-06-19T02:37:00.257640Z"
    }
   },
   "outputs": [
    {
     "data": {
      "text/plain": [
       "(3649,)"
      ]
     },
     "execution_count": 42,
     "metadata": {},
     "output_type": "execute_result"
    }
   ],
   "source": [
    "data['FECHA_SALIDA'].unique().shape"
   ]
  },
  {
   "cell_type": "code",
   "execution_count": 43,
   "metadata": {
    "ExecuteTime": {
     "end_time": "2020-06-19T02:37:00.547775Z",
     "start_time": "2020-06-19T02:37:00.267149Z"
    }
   },
   "outputs": [],
   "source": [
    "data['FECHA_SALIDA'] = pd.to_datetime(data['FECHA_SALIDA'])"
   ]
  },
  {
   "cell_type": "markdown",
   "metadata": {},
   "source": [
    "### Fecha Captura"
   ]
  },
  {
   "cell_type": "code",
   "execution_count": 44,
   "metadata": {
    "ExecuteTime": {
     "end_time": "2020-06-19T02:37:00.557378Z",
     "start_time": "2020-06-19T02:37:00.549139Z"
    }
   },
   "outputs": [
    {
     "data": {
      "text/plain": [
       "0"
      ]
     },
     "execution_count": 44,
     "metadata": {},
     "output_type": "execute_result"
    }
   ],
   "source": [
    "data['FECHA_CAPTURA'].isnull().sum()"
   ]
  },
  {
   "cell_type": "code",
   "execution_count": 45,
   "metadata": {
    "ExecuteTime": {
     "end_time": "2020-06-19T02:37:00.566418Z",
     "start_time": "2020-06-19T02:37:00.558722Z"
    }
   },
   "outputs": [
    {
     "data": {
      "text/plain": [
       "(5635,)"
      ]
     },
     "execution_count": 45,
     "metadata": {},
     "output_type": "execute_result"
    }
   ],
   "source": [
    "data['FECHA_CAPTURA'].unique().shape"
   ]
  },
  {
   "cell_type": "code",
   "execution_count": 46,
   "metadata": {
    "ExecuteTime": {
     "end_time": "2020-06-19T02:37:00.941193Z",
     "start_time": "2020-06-19T02:37:00.567728Z"
    }
   },
   "outputs": [],
   "source": [
    "data['FECHA_CAPTURA'] = pd.to_datetime(data['FECHA_CAPTURA'])"
   ]
  },
  {
   "cell_type": "markdown",
   "metadata": {},
   "source": [
    "### Situación Jurídica"
   ]
  },
  {
   "cell_type": "code",
   "execution_count": 47,
   "metadata": {
    "ExecuteTime": {
     "end_time": "2020-06-19T02:37:00.949576Z",
     "start_time": "2020-06-19T02:37:00.942416Z"
    }
   },
   "outputs": [
    {
     "data": {
      "text/plain": [
       "0"
      ]
     },
     "execution_count": 47,
     "metadata": {},
     "output_type": "execute_result"
    }
   ],
   "source": [
    "data['SITUACION_JURIDICA'].isnull().sum()"
   ]
  },
  {
   "cell_type": "code",
   "execution_count": 48,
   "metadata": {
    "ExecuteTime": {
     "end_time": "2020-06-19T02:37:00.957301Z",
     "start_time": "2020-06-19T02:37:00.951095Z"
    }
   },
   "outputs": [
    {
     "data": {
      "text/plain": [
       "(1,)"
      ]
     },
     "execution_count": 48,
     "metadata": {},
     "output_type": "execute_result"
    }
   ],
   "source": [
    "data['SITUACION_JURIDICA'].unique().shape"
   ]
  },
  {
   "cell_type": "code",
   "execution_count": 49,
   "metadata": {
    "ExecuteTime": {
     "end_time": "2020-06-19T02:37:00.971179Z",
     "start_time": "2020-06-19T02:37:00.958523Z"
    }
   },
   "outputs": [
    {
     "data": {
      "text/plain": [
       "CO    142899\n",
       "Name: SITUACION_JURIDICA, dtype: int64"
      ]
     },
     "execution_count": 49,
     "metadata": {},
     "output_type": "execute_result"
    }
   ],
   "source": [
    "data['SITUACION_JURIDICA'].value_counts()"
   ]
  },
  {
   "cell_type": "code",
   "execution_count": 50,
   "metadata": {
    "ExecuteTime": {
     "end_time": "2020-06-19T02:37:01.025737Z",
     "start_time": "2020-06-19T02:37:00.972380Z"
    }
   },
   "outputs": [],
   "source": [
    "data['SITUACION_JURIDICA'] = data['SITUACION_JURIDICA'].astype('category')"
   ]
  },
  {
   "cell_type": "markdown",
   "metadata": {},
   "source": [
    "### Año nacimiento"
   ]
  },
  {
   "cell_type": "code",
   "execution_count": 51,
   "metadata": {
    "ExecuteTime": {
     "end_time": "2020-06-19T02:37:01.034290Z",
     "start_time": "2020-06-19T02:37:01.026857Z"
    }
   },
   "outputs": [
    {
     "data": {
      "text/plain": [
       "0"
      ]
     },
     "execution_count": 51,
     "metadata": {},
     "output_type": "execute_result"
    }
   ],
   "source": [
    "data['ANO_NACIMIENTO'].isnull().sum()"
   ]
  },
  {
   "cell_type": "code",
   "execution_count": 52,
   "metadata": {
    "ExecuteTime": {
     "end_time": "2020-06-19T02:37:01.043045Z",
     "start_time": "2020-06-19T02:37:01.035870Z"
    }
   },
   "outputs": [
    {
     "data": {
      "text/plain": [
       "(76,)"
      ]
     },
     "execution_count": 52,
     "metadata": {},
     "output_type": "execute_result"
    }
   ],
   "source": [
    "data['ANO_NACIMIENTO'].unique().shape"
   ]
  },
  {
   "cell_type": "code",
   "execution_count": 53,
   "metadata": {
    "ExecuteTime": {
     "end_time": "2020-06-19T02:37:01.060482Z",
     "start_time": "2020-06-19T02:37:01.044267Z"
    }
   },
   "outputs": [
    {
     "data": {
      "text/html": [
       "<div>\n",
       "<style scoped>\n",
       "    .dataframe tbody tr th:only-of-type {\n",
       "        vertical-align: middle;\n",
       "    }\n",
       "\n",
       "    .dataframe tbody tr th {\n",
       "        vertical-align: top;\n",
       "    }\n",
       "\n",
       "    .dataframe thead th {\n",
       "        text-align: right;\n",
       "    }\n",
       "</style>\n",
       "<table border=\"1\" class=\"dataframe\">\n",
       "  <thead>\n",
       "    <tr style=\"text-align: right;\">\n",
       "      <th></th>\n",
       "      <th>ANO_NACIMIENTO</th>\n",
       "    </tr>\n",
       "  </thead>\n",
       "  <tbody>\n",
       "    <tr>\n",
       "      <th>1990</th>\n",
       "      <td>6835</td>\n",
       "    </tr>\n",
       "    <tr>\n",
       "      <th>1989</th>\n",
       "      <td>6752</td>\n",
       "    </tr>\n",
       "    <tr>\n",
       "      <th>1985</th>\n",
       "      <td>6664</td>\n",
       "    </tr>\n",
       "    <tr>\n",
       "      <th>1988</th>\n",
       "      <td>6654</td>\n",
       "    </tr>\n",
       "    <tr>\n",
       "      <th>1984</th>\n",
       "      <td>6645</td>\n",
       "    </tr>\n",
       "    <tr>\n",
       "      <th>...</th>\n",
       "      <td>...</td>\n",
       "    </tr>\n",
       "    <tr>\n",
       "      <th>1934</th>\n",
       "      <td>4</td>\n",
       "    </tr>\n",
       "    <tr>\n",
       "      <th>1928</th>\n",
       "      <td>3</td>\n",
       "    </tr>\n",
       "    <tr>\n",
       "      <th>1926</th>\n",
       "      <td>3</td>\n",
       "    </tr>\n",
       "    <tr>\n",
       "      <th>1927</th>\n",
       "      <td>3</td>\n",
       "    </tr>\n",
       "    <tr>\n",
       "      <th>1925</th>\n",
       "      <td>1</td>\n",
       "    </tr>\n",
       "  </tbody>\n",
       "</table>\n",
       "<p>76 rows × 1 columns</p>\n",
       "</div>"
      ],
      "text/plain": [
       "      ANO_NACIMIENTO\n",
       "1990            6835\n",
       "1989            6752\n",
       "1985            6664\n",
       "1988            6654\n",
       "1984            6645\n",
       "...              ...\n",
       "1934               4\n",
       "1928               3\n",
       "1926               3\n",
       "1927               3\n",
       "1925               1\n",
       "\n",
       "[76 rows x 1 columns]"
      ]
     },
     "execution_count": 53,
     "metadata": {},
     "output_type": "execute_result"
    }
   ],
   "source": [
    "data['ANO_NACIMIENTO'].value_counts().to_frame()"
   ]
  },
  {
   "cell_type": "code",
   "execution_count": 54,
   "metadata": {
    "ExecuteTime": {
     "end_time": "2020-06-19T02:37:01.118894Z",
     "start_time": "2020-06-19T02:37:01.061646Z"
    }
   },
   "outputs": [],
   "source": [
    "data['ANO_NACIMIENTO'] = data['ANO_NACIMIENTO'].astype(int)"
   ]
  },
  {
   "cell_type": "markdown",
   "metadata": {},
   "source": [
    "### Edad"
   ]
  },
  {
   "cell_type": "code",
   "execution_count": 55,
   "metadata": {
    "ExecuteTime": {
     "end_time": "2020-06-19T02:37:01.127186Z",
     "start_time": "2020-06-19T02:37:01.120121Z"
    }
   },
   "outputs": [
    {
     "data": {
      "text/plain": [
       "0"
      ]
     },
     "execution_count": 55,
     "metadata": {},
     "output_type": "execute_result"
    }
   ],
   "source": [
    "data['EDAD'].isnull().sum()"
   ]
  },
  {
   "cell_type": "code",
   "execution_count": 56,
   "metadata": {
    "ExecuteTime": {
     "end_time": "2020-06-19T02:37:01.135144Z",
     "start_time": "2020-06-19T02:37:01.128342Z"
    }
   },
   "outputs": [
    {
     "data": {
      "text/plain": [
       "(76,)"
      ]
     },
     "execution_count": 56,
     "metadata": {},
     "output_type": "execute_result"
    }
   ],
   "source": [
    "data['EDAD'].unique().shape"
   ]
  },
  {
   "cell_type": "code",
   "execution_count": 57,
   "metadata": {
    "ExecuteTime": {
     "end_time": "2020-06-19T02:37:01.151048Z",
     "start_time": "2020-06-19T02:37:01.136332Z"
    }
   },
   "outputs": [
    {
     "data": {
      "text/html": [
       "<div>\n",
       "<style scoped>\n",
       "    .dataframe tbody tr th:only-of-type {\n",
       "        vertical-align: middle;\n",
       "    }\n",
       "\n",
       "    .dataframe tbody tr th {\n",
       "        vertical-align: top;\n",
       "    }\n",
       "\n",
       "    .dataframe thead th {\n",
       "        text-align: right;\n",
       "    }\n",
       "</style>\n",
       "<table border=\"1\" class=\"dataframe\">\n",
       "  <thead>\n",
       "    <tr style=\"text-align: right;\">\n",
       "      <th></th>\n",
       "      <th>EDAD</th>\n",
       "    </tr>\n",
       "  </thead>\n",
       "  <tbody>\n",
       "    <tr>\n",
       "      <th>35</th>\n",
       "      <td>6881</td>\n",
       "    </tr>\n",
       "    <tr>\n",
       "      <th>30</th>\n",
       "      <td>6733</td>\n",
       "    </tr>\n",
       "    <tr>\n",
       "      <th>31</th>\n",
       "      <td>6705</td>\n",
       "    </tr>\n",
       "    <tr>\n",
       "      <th>29</th>\n",
       "      <td>6653</td>\n",
       "    </tr>\n",
       "    <tr>\n",
       "      <th>33</th>\n",
       "      <td>6550</td>\n",
       "    </tr>\n",
       "    <tr>\n",
       "      <th>...</th>\n",
       "      <td>...</td>\n",
       "    </tr>\n",
       "    <tr>\n",
       "      <th>92</th>\n",
       "      <td>4</td>\n",
       "    </tr>\n",
       "    <tr>\n",
       "      <th>93</th>\n",
       "      <td>3</td>\n",
       "    </tr>\n",
       "    <tr>\n",
       "      <th>90</th>\n",
       "      <td>2</td>\n",
       "    </tr>\n",
       "    <tr>\n",
       "      <th>91</th>\n",
       "      <td>2</td>\n",
       "    </tr>\n",
       "    <tr>\n",
       "      <th>94</th>\n",
       "      <td>1</td>\n",
       "    </tr>\n",
       "  </tbody>\n",
       "</table>\n",
       "<p>76 rows × 1 columns</p>\n",
       "</div>"
      ],
      "text/plain": [
       "    EDAD\n",
       "35  6881\n",
       "30  6733\n",
       "31  6705\n",
       "29  6653\n",
       "33  6550\n",
       "..   ...\n",
       "92     4\n",
       "93     3\n",
       "90     2\n",
       "91     2\n",
       "94     1\n",
       "\n",
       "[76 rows x 1 columns]"
      ]
     },
     "execution_count": 57,
     "metadata": {},
     "output_type": "execute_result"
    }
   ],
   "source": [
    "data['EDAD'].value_counts().to_frame()"
   ]
  },
  {
   "cell_type": "code",
   "execution_count": 58,
   "metadata": {
    "ExecuteTime": {
     "end_time": "2020-06-19T02:37:01.204514Z",
     "start_time": "2020-06-19T02:37:01.152853Z"
    }
   },
   "outputs": [],
   "source": [
    "data['EDAD'] = data['EDAD'].astype(int)"
   ]
  },
  {
   "cell_type": "markdown",
   "metadata": {},
   "source": [
    "### Genero"
   ]
  },
  {
   "cell_type": "code",
   "execution_count": 59,
   "metadata": {
    "ExecuteTime": {
     "end_time": "2020-06-19T02:37:01.214094Z",
     "start_time": "2020-06-19T02:37:01.205888Z"
    }
   },
   "outputs": [
    {
     "data": {
      "text/plain": [
       "0"
      ]
     },
     "execution_count": 59,
     "metadata": {},
     "output_type": "execute_result"
    }
   ],
   "source": [
    "data['GENERO'].isnull().sum()"
   ]
  },
  {
   "cell_type": "code",
   "execution_count": 60,
   "metadata": {
    "ExecuteTime": {
     "end_time": "2020-06-19T02:37:01.222690Z",
     "start_time": "2020-06-19T02:37:01.215668Z"
    }
   },
   "outputs": [
    {
     "data": {
      "text/plain": [
       "(2,)"
      ]
     },
     "execution_count": 60,
     "metadata": {},
     "output_type": "execute_result"
    }
   ],
   "source": [
    "data['GENERO'].unique().shape"
   ]
  },
  {
   "cell_type": "code",
   "execution_count": 61,
   "metadata": {
    "ExecuteTime": {
     "end_time": "2020-06-19T02:37:01.237328Z",
     "start_time": "2020-06-19T02:37:01.223746Z"
    }
   },
   "outputs": [
    {
     "data": {
      "text/html": [
       "<div>\n",
       "<style scoped>\n",
       "    .dataframe tbody tr th:only-of-type {\n",
       "        vertical-align: middle;\n",
       "    }\n",
       "\n",
       "    .dataframe tbody tr th {\n",
       "        vertical-align: top;\n",
       "    }\n",
       "\n",
       "    .dataframe thead th {\n",
       "        text-align: right;\n",
       "    }\n",
       "</style>\n",
       "<table border=\"1\" class=\"dataframe\">\n",
       "  <thead>\n",
       "    <tr style=\"text-align: right;\">\n",
       "      <th></th>\n",
       "      <th>GENERO</th>\n",
       "    </tr>\n",
       "  </thead>\n",
       "  <tbody>\n",
       "    <tr>\n",
       "      <th>MASCULINO</th>\n",
       "      <td>131485</td>\n",
       "    </tr>\n",
       "    <tr>\n",
       "      <th>FEMENINO</th>\n",
       "      <td>11414</td>\n",
       "    </tr>\n",
       "  </tbody>\n",
       "</table>\n",
       "</div>"
      ],
      "text/plain": [
       "           GENERO\n",
       "MASCULINO  131485\n",
       "FEMENINO    11414"
      ]
     },
     "execution_count": 61,
     "metadata": {},
     "output_type": "execute_result"
    }
   ],
   "source": [
    "data['GENERO'].value_counts().to_frame()"
   ]
  },
  {
   "cell_type": "code",
   "execution_count": 62,
   "metadata": {
    "ExecuteTime": {
     "end_time": "2020-06-19T02:37:01.287261Z",
     "start_time": "2020-06-19T02:37:01.238509Z"
    }
   },
   "outputs": [],
   "source": [
    "data['GENERO'] = data['GENERO'].astype('category')"
   ]
  },
  {
   "cell_type": "markdown",
   "metadata": {},
   "source": [
    "### Estado Civil - has NaN"
   ]
  },
  {
   "cell_type": "code",
   "execution_count": 63,
   "metadata": {
    "ExecuteTime": {
     "end_time": "2020-06-19T02:37:01.295722Z",
     "start_time": "2020-06-19T02:37:01.288439Z"
    }
   },
   "outputs": [
    {
     "data": {
      "text/plain": [
       "80089"
      ]
     },
     "execution_count": 63,
     "metadata": {},
     "output_type": "execute_result"
    }
   ],
   "source": [
    "data['ESTADO_CIVIL'].isnull().sum()"
   ]
  },
  {
   "cell_type": "code",
   "execution_count": 64,
   "metadata": {
    "ExecuteTime": {
     "end_time": "2020-06-19T02:37:01.310176Z",
     "start_time": "2020-06-19T02:37:01.296770Z"
    }
   },
   "outputs": [
    {
     "data": {
      "text/plain": [
       "(9,)"
      ]
     },
     "execution_count": 64,
     "metadata": {},
     "output_type": "execute_result"
    }
   ],
   "source": [
    "data['ESTADO_CIVIL'].unique().shape"
   ]
  },
  {
   "cell_type": "code",
   "execution_count": 65,
   "metadata": {
    "ExecuteTime": {
     "end_time": "2020-06-19T02:37:01.324809Z",
     "start_time": "2020-06-19T02:37:01.311445Z"
    }
   },
   "outputs": [
    {
     "data": {
      "text/html": [
       "<div>\n",
       "<style scoped>\n",
       "    .dataframe tbody tr th:only-of-type {\n",
       "        vertical-align: middle;\n",
       "    }\n",
       "\n",
       "    .dataframe tbody tr th {\n",
       "        vertical-align: top;\n",
       "    }\n",
       "\n",
       "    .dataframe thead th {\n",
       "        text-align: right;\n",
       "    }\n",
       "</style>\n",
       "<table border=\"1\" class=\"dataframe\">\n",
       "  <thead>\n",
       "    <tr style=\"text-align: right;\">\n",
       "      <th></th>\n",
       "      <th>ESTADO_CIVIL</th>\n",
       "    </tr>\n",
       "  </thead>\n",
       "  <tbody>\n",
       "    <tr>\n",
       "      <th>UNION LIBRE</th>\n",
       "      <td>37926</td>\n",
       "    </tr>\n",
       "    <tr>\n",
       "      <th>SOLTERO(A)</th>\n",
       "      <td>20988</td>\n",
       "    </tr>\n",
       "    <tr>\n",
       "      <th>CASADO(A)</th>\n",
       "      <td>2834</td>\n",
       "    </tr>\n",
       "    <tr>\n",
       "      <th>SEPARADO(A)</th>\n",
       "      <td>761</td>\n",
       "    </tr>\n",
       "    <tr>\n",
       "      <th>VIUDO(A)</th>\n",
       "      <td>233</td>\n",
       "    </tr>\n",
       "    <tr>\n",
       "      <th>DIVORCIADO(A)</th>\n",
       "      <td>42</td>\n",
       "    </tr>\n",
       "    <tr>\n",
       "      <th>PENDIENTE POR</th>\n",
       "      <td>25</td>\n",
       "    </tr>\n",
       "    <tr>\n",
       "      <th>RELIGIOSO(A)</th>\n",
       "      <td>1</td>\n",
       "    </tr>\n",
       "  </tbody>\n",
       "</table>\n",
       "</div>"
      ],
      "text/plain": [
       "                ESTADO_CIVIL\n",
       "UNION LIBRE            37926\n",
       "SOLTERO(A)             20988\n",
       "CASADO(A)               2834\n",
       "SEPARADO(A)              761\n",
       "VIUDO(A)                 233\n",
       "DIVORCIADO(A)             42\n",
       "PENDIENTE POR             25\n",
       "RELIGIOSO(A)               1"
      ]
     },
     "execution_count": 65,
     "metadata": {},
     "output_type": "execute_result"
    }
   ],
   "source": [
    "data['ESTADO_CIVIL'].value_counts().to_frame()"
   ]
  },
  {
   "cell_type": "markdown",
   "metadata": {},
   "source": [
    "Making the data categorical but leaving the nan values to try and recover some data"
   ]
  },
  {
   "cell_type": "code",
   "execution_count": 151,
   "metadata": {
    "ExecuteTime": {
     "end_time": "2020-06-19T02:18:48.121542Z",
     "start_time": "2020-06-19T02:18:48.030330Z"
    }
   },
   "outputs": [],
   "source": [
    "data['ESTADO_CIVIL'] = data['ESTADO_CIVIL'].astype('category')\n",
    "data['ESTADO_CIVIL'] = data['ESTADO_CIVIL'].cat.codes.replace(-1, np.nan)"
   ]
  },
  {
   "cell_type": "markdown",
   "metadata": {},
   "source": [
    "Trying to fill the nan data with another rows from the same Intern, it seems that there no neighbors to use and recover. I got the same empty information"
   ]
  },
  {
   "cell_type": "code",
   "execution_count": 161,
   "metadata": {
    "ExecuteTime": {
     "end_time": "2020-06-19T02:25:36.605714Z",
     "start_time": "2020-06-19T02:25:12.599932Z"
    },
    "scrolled": true
   },
   "outputs": [
    {
     "data": {
      "text/plain": [
       "80089"
      ]
     },
     "execution_count": 161,
     "metadata": {},
     "output_type": "execute_result"
    }
   ],
   "source": [
    "data.groupby(['INTERNOEN'])['ESTADO_CIVIL'].transform(lambda x: x.interpolate()).isnull().sum()"
   ]
  },
  {
   "cell_type": "markdown",
   "metadata": {},
   "source": [
    "### Pais Interno - has NaN"
   ]
  },
  {
   "cell_type": "code",
   "execution_count": 66,
   "metadata": {
    "ExecuteTime": {
     "end_time": "2020-06-19T02:37:01.333548Z",
     "start_time": "2020-06-19T02:37:01.325979Z"
    }
   },
   "outputs": [
    {
     "data": {
      "text/plain": [
       "3162"
      ]
     },
     "execution_count": 66,
     "metadata": {},
     "output_type": "execute_result"
    }
   ],
   "source": [
    "data['PAIS_INTERNO'].isnull().sum()"
   ]
  },
  {
   "cell_type": "code",
   "execution_count": 67,
   "metadata": {
    "ExecuteTime": {
     "end_time": "2020-06-19T02:37:01.341915Z",
     "start_time": "2020-06-19T02:37:01.335171Z"
    }
   },
   "outputs": [
    {
     "data": {
      "text/plain": [
       "(26,)"
      ]
     },
     "execution_count": 67,
     "metadata": {},
     "output_type": "execute_result"
    }
   ],
   "source": [
    "data['PAIS_INTERNO'].unique().shape"
   ]
  },
  {
   "cell_type": "code",
   "execution_count": 68,
   "metadata": {
    "ExecuteTime": {
     "end_time": "2020-06-19T02:37:01.357665Z",
     "start_time": "2020-06-19T02:37:01.343104Z"
    },
    "scrolled": true
   },
   "outputs": [
    {
     "data": {
      "text/html": [
       "<div>\n",
       "<style scoped>\n",
       "    .dataframe tbody tr th:only-of-type {\n",
       "        vertical-align: middle;\n",
       "    }\n",
       "\n",
       "    .dataframe tbody tr th {\n",
       "        vertical-align: top;\n",
       "    }\n",
       "\n",
       "    .dataframe thead th {\n",
       "        text-align: right;\n",
       "    }\n",
       "</style>\n",
       "<table border=\"1\" class=\"dataframe\">\n",
       "  <thead>\n",
       "    <tr style=\"text-align: right;\">\n",
       "      <th></th>\n",
       "      <th>PAIS_INTERNO</th>\n",
       "    </tr>\n",
       "  </thead>\n",
       "  <tbody>\n",
       "    <tr>\n",
       "      <th>REPUBLICA DE COLOMBIA</th>\n",
       "      <td>139515</td>\n",
       "    </tr>\n",
       "    <tr>\n",
       "      <th>VENEZUELA</th>\n",
       "      <td>105</td>\n",
       "    </tr>\n",
       "    <tr>\n",
       "      <th>ECUADOR</th>\n",
       "      <td>25</td>\n",
       "    </tr>\n",
       "    <tr>\n",
       "      <th>PERU</th>\n",
       "      <td>16</td>\n",
       "    </tr>\n",
       "    <tr>\n",
       "      <th>ESPAÑA</th>\n",
       "      <td>11</td>\n",
       "    </tr>\n",
       "    <tr>\n",
       "      <th>BRASIL</th>\n",
       "      <td>10</td>\n",
       "    </tr>\n",
       "    <tr>\n",
       "      <th>MEXICO</th>\n",
       "      <td>9</td>\n",
       "    </tr>\n",
       "    <tr>\n",
       "      <th>ESTADOS UNIDOS DE AMERICA</th>\n",
       "      <td>8</td>\n",
       "    </tr>\n",
       "    <tr>\n",
       "      <th>CUBA</th>\n",
       "      <td>5</td>\n",
       "    </tr>\n",
       "    <tr>\n",
       "      <th>ITALIA</th>\n",
       "      <td>4</td>\n",
       "    </tr>\n",
       "    <tr>\n",
       "      <th>AFGANISTAN</th>\n",
       "      <td>4</td>\n",
       "    </tr>\n",
       "    <tr>\n",
       "      <th>HOLANDA</th>\n",
       "      <td>4</td>\n",
       "    </tr>\n",
       "    <tr>\n",
       "      <th>GUATEMALA</th>\n",
       "      <td>3</td>\n",
       "    </tr>\n",
       "    <tr>\n",
       "      <th>REPUBLICA DOMINICANA</th>\n",
       "      <td>3</td>\n",
       "    </tr>\n",
       "    <tr>\n",
       "      <th>URUGUAY</th>\n",
       "      <td>2</td>\n",
       "    </tr>\n",
       "    <tr>\n",
       "      <th>POLONIA</th>\n",
       "      <td>2</td>\n",
       "    </tr>\n",
       "    <tr>\n",
       "      <th>COSTA RICA</th>\n",
       "      <td>2</td>\n",
       "    </tr>\n",
       "    <tr>\n",
       "      <th>ARGENTINA</th>\n",
       "      <td>2</td>\n",
       "    </tr>\n",
       "    <tr>\n",
       "      <th>FRANCIA</th>\n",
       "      <td>1</td>\n",
       "    </tr>\n",
       "    <tr>\n",
       "      <th>PANAMA</th>\n",
       "      <td>1</td>\n",
       "    </tr>\n",
       "    <tr>\n",
       "      <th>CHINA</th>\n",
       "      <td>1</td>\n",
       "    </tr>\n",
       "    <tr>\n",
       "      <th>ALEMANIA</th>\n",
       "      <td>1</td>\n",
       "    </tr>\n",
       "    <tr>\n",
       "      <th>CANADA</th>\n",
       "      <td>1</td>\n",
       "    </tr>\n",
       "    <tr>\n",
       "      <th>LITUANIA</th>\n",
       "      <td>1</td>\n",
       "    </tr>\n",
       "    <tr>\n",
       "      <th>ALBANIA</th>\n",
       "      <td>1</td>\n",
       "    </tr>\n",
       "  </tbody>\n",
       "</table>\n",
       "</div>"
      ],
      "text/plain": [
       "                           PAIS_INTERNO\n",
       "REPUBLICA DE COLOMBIA            139515\n",
       "VENEZUELA                           105\n",
       "ECUADOR                              25\n",
       "PERU                                 16\n",
       "ESPAÑA                               11\n",
       "BRASIL                               10\n",
       "MEXICO                                9\n",
       "ESTADOS UNIDOS DE AMERICA             8\n",
       "CUBA                                  5\n",
       "ITALIA                                4\n",
       "AFGANISTAN                            4\n",
       "HOLANDA                               4\n",
       "GUATEMALA                             3\n",
       "REPUBLICA DOMINICANA                  3\n",
       "URUGUAY                               2\n",
       "POLONIA                               2\n",
       "COSTA RICA                            2\n",
       "ARGENTINA                             2\n",
       "FRANCIA                               1\n",
       "PANAMA                                1\n",
       "CHINA                                 1\n",
       "ALEMANIA                              1\n",
       "CANADA                                1\n",
       "LITUANIA                              1\n",
       "ALBANIA                               1"
      ]
     },
     "execution_count": 68,
     "metadata": {},
     "output_type": "execute_result"
    }
   ],
   "source": [
    "data['PAIS_INTERNO'].value_counts().to_frame()"
   ]
  },
  {
   "cell_type": "markdown",
   "metadata": {},
   "source": [
    "Making the data categorical but leaving the nan values to try and recover some data"
   ]
  },
  {
   "cell_type": "code",
   "execution_count": 157,
   "metadata": {
    "ExecuteTime": {
     "end_time": "2020-06-19T02:23:37.624821Z",
     "start_time": "2020-06-19T02:23:37.529395Z"
    }
   },
   "outputs": [],
   "source": [
    "data['PAIS_INTERNO'] = data['PAIS_INTERNO'].astype('category')\n",
    "data['PAIS_INTERNO'] = data['PAIS_INTERNO'].cat.codes.replace(-1, np.nan)"
   ]
  },
  {
   "cell_type": "markdown",
   "metadata": {},
   "source": [
    "Trying to fill the nan data with another rows from the same Intern, it seems that there no neighbors to use and recover. I got the same empty information"
   ]
  },
  {
   "cell_type": "code",
   "execution_count": 158,
   "metadata": {
    "ExecuteTime": {
     "end_time": "2020-06-19T02:24:11.201689Z",
     "start_time": "2020-06-19T02:23:47.764710Z"
    }
   },
   "outputs": [
    {
     "data": {
      "text/plain": [
       "3162"
      ]
     },
     "execution_count": 158,
     "metadata": {},
     "output_type": "execute_result"
    }
   ],
   "source": [
    "data.groupby(['INTERNOEN'])['PAIS_INTERNO'].transform(lambda x: x.interpolate(limit_direction='both')).isnull().sum()"
   ]
  },
  {
   "cell_type": "markdown",
   "metadata": {},
   "source": [
    "### Departamento - has NaN"
   ]
  },
  {
   "cell_type": "code",
   "execution_count": 69,
   "metadata": {
    "ExecuteTime": {
     "end_time": "2020-06-19T02:37:01.370558Z",
     "start_time": "2020-06-19T02:37:01.359146Z"
    }
   },
   "outputs": [
    {
     "data": {
      "text/plain": [
       "7"
      ]
     },
     "execution_count": 69,
     "metadata": {},
     "output_type": "execute_result"
    }
   ],
   "source": [
    "data['DEPARTAMENTO'].isnull().sum()"
   ]
  },
  {
   "cell_type": "code",
   "execution_count": 70,
   "metadata": {
    "ExecuteTime": {
     "end_time": "2020-06-19T02:37:01.380006Z",
     "start_time": "2020-06-19T02:37:01.373477Z"
    }
   },
   "outputs": [
    {
     "data": {
      "text/plain": [
       "(347,)"
      ]
     },
     "execution_count": 70,
     "metadata": {},
     "output_type": "execute_result"
    }
   ],
   "source": [
    "data['DEPARTAMENTO'].unique().shape"
   ]
  },
  {
   "cell_type": "markdown",
   "metadata": {},
   "source": [
    "Cleaning, trying to detect variables that are the same but are written differently. This is also a categorical feature, im converting it to type category"
   ]
  },
  {
   "cell_type": "code",
   "execution_count": 72,
   "metadata": {
    "ExecuteTime": {
     "end_time": "2020-06-19T02:01:43.829262Z",
     "start_time": "2020-06-19T02:01:43.547097Z"
    }
   },
   "outputs": [
    {
     "data": {
      "text/plain": [
       "(347,)"
      ]
     },
     "execution_count": 72,
     "metadata": {},
     "output_type": "execute_result"
    }
   ],
   "source": [
    "data['DEPARTAMENTO'] = data['DEPARTAMENTO'].apply(lambda x: ' '.join(unidecode.unidecode(re.sub(r'[^\\w]', ' ',str(x)).lower()).split()))\n",
    "data['DEPARTAMENTO'].unique().shape"
   ]
  },
  {
   "cell_type": "code",
   "execution_count": 73,
   "metadata": {
    "ExecuteTime": {
     "end_time": "2020-06-19T02:01:43.851129Z",
     "start_time": "2020-06-19T02:01:43.830409Z"
    }
   },
   "outputs": [
    {
     "data": {
      "text/html": [
       "<div>\n",
       "<style scoped>\n",
       "    .dataframe tbody tr th:only-of-type {\n",
       "        vertical-align: middle;\n",
       "    }\n",
       "\n",
       "    .dataframe tbody tr th {\n",
       "        vertical-align: top;\n",
       "    }\n",
       "\n",
       "    .dataframe thead th {\n",
       "        text-align: right;\n",
       "    }\n",
       "</style>\n",
       "<table border=\"1\" class=\"dataframe\">\n",
       "  <thead>\n",
       "    <tr style=\"text-align: right;\">\n",
       "      <th></th>\n",
       "      <th>DEPARTAMENTO</th>\n",
       "    </tr>\n",
       "  </thead>\n",
       "  <tbody>\n",
       "    <tr>\n",
       "      <th>antioquia</th>\n",
       "      <td>21828</td>\n",
       "    </tr>\n",
       "    <tr>\n",
       "      <th>bogota distrito capital</th>\n",
       "      <td>19298</td>\n",
       "    </tr>\n",
       "    <tr>\n",
       "      <th>valle del cauca</th>\n",
       "      <td>17999</td>\n",
       "    </tr>\n",
       "    <tr>\n",
       "      <th>santander</th>\n",
       "      <td>10101</td>\n",
       "    </tr>\n",
       "    <tr>\n",
       "      <th>tolima</th>\n",
       "      <td>6561</td>\n",
       "    </tr>\n",
       "    <tr>\n",
       "      <th>...</th>\n",
       "      <td>...</td>\n",
       "    </tr>\n",
       "    <tr>\n",
       "      <th>puerto lopez meta</th>\n",
       "      <td>1</td>\n",
       "    </tr>\n",
       "    <tr>\n",
       "      <th>calamar bolivar</th>\n",
       "      <td>1</td>\n",
       "    </tr>\n",
       "    <tr>\n",
       "      <th>arboleda narino</th>\n",
       "      <td>1</td>\n",
       "    </tr>\n",
       "    <tr>\n",
       "      <th>altos del rosario bolivar</th>\n",
       "      <td>1</td>\n",
       "    </tr>\n",
       "    <tr>\n",
       "      <th>cravo norte arauca</th>\n",
       "      <td>1</td>\n",
       "    </tr>\n",
       "  </tbody>\n",
       "</table>\n",
       "<p>347 rows × 1 columns</p>\n",
       "</div>"
      ],
      "text/plain": [
       "                           DEPARTAMENTO\n",
       "antioquia                         21828\n",
       "bogota distrito capital           19298\n",
       "valle del cauca                   17999\n",
       "santander                         10101\n",
       "tolima                             6561\n",
       "...                                 ...\n",
       "puerto lopez meta                     1\n",
       "calamar bolivar                       1\n",
       "arboleda narino                       1\n",
       "altos del rosario bolivar             1\n",
       "cravo norte arauca                    1\n",
       "\n",
       "[347 rows x 1 columns]"
      ]
     },
     "execution_count": 73,
     "metadata": {},
     "output_type": "execute_result"
    }
   ],
   "source": [
    "data['DEPARTAMENTO'].value_counts().to_frame()"
   ]
  },
  {
   "cell_type": "markdown",
   "metadata": {},
   "source": [
    "Making the data categorical but leaving the nan values to try and recover some data"
   ]
  },
  {
   "cell_type": "code",
   "execution_count": 159,
   "metadata": {
    "ExecuteTime": {
     "end_time": "2020-06-19T02:24:44.000052Z",
     "start_time": "2020-06-19T02:24:43.914348Z"
    }
   },
   "outputs": [],
   "source": [
    "data['DEPARTAMENTO'] = data['DEPARTAMENTO'].astype('category')\n",
    "data['DEPARTAMENTO'] = data['DEPARTAMENTO'].cat.codes.replace(-1, np.nan)"
   ]
  },
  {
   "cell_type": "markdown",
   "metadata": {},
   "source": [
    "Trying to fill the nan data with another rows from the same Intern, it seems that there no neighbors to use and recover. I got the same empty information"
   ]
  },
  {
   "cell_type": "code",
   "execution_count": 160,
   "metadata": {
    "ExecuteTime": {
     "end_time": "2020-06-19T02:25:12.598518Z",
     "start_time": "2020-06-19T02:24:48.897097Z"
    }
   },
   "outputs": [
    {
     "data": {
      "text/plain": [
       "7"
      ]
     },
     "execution_count": 160,
     "metadata": {},
     "output_type": "execute_result"
    }
   ],
   "source": [
    "data.groupby(['INTERNOEN'])['DEPARTAMENTO'].transform(lambda x: x.interpolate(limit_direction='both')).isnull().sum()"
   ]
  },
  {
   "cell_type": "markdown",
   "metadata": {},
   "source": [
    "### Ciudad - Decide what to do here"
   ]
  },
  {
   "cell_type": "code",
   "execution_count": 71,
   "metadata": {
    "ExecuteTime": {
     "end_time": "2020-06-19T02:37:31.338697Z",
     "start_time": "2020-06-19T02:37:31.326814Z"
    }
   },
   "outputs": [
    {
     "data": {
      "text/plain": [
       "0"
      ]
     },
     "execution_count": 71,
     "metadata": {},
     "output_type": "execute_result"
    }
   ],
   "source": [
    "data['CIUDAD'].isnull().sum()"
   ]
  },
  {
   "cell_type": "code",
   "execution_count": 72,
   "metadata": {
    "ExecuteTime": {
     "end_time": "2020-06-19T02:37:31.785410Z",
     "start_time": "2020-06-19T02:37:31.775086Z"
    }
   },
   "outputs": [
    {
     "data": {
      "text/plain": [
       "(1631,)"
      ]
     },
     "execution_count": 72,
     "metadata": {},
     "output_type": "execute_result"
    }
   ],
   "source": [
    "data['CIUDAD'].unique().shape"
   ]
  },
  {
   "cell_type": "code",
   "execution_count": 73,
   "metadata": {
    "ExecuteTime": {
     "end_time": "2020-06-19T02:37:35.214538Z",
     "start_time": "2020-06-19T02:37:35.194749Z"
    }
   },
   "outputs": [
    {
     "data": {
      "text/html": [
       "<div>\n",
       "<style scoped>\n",
       "    .dataframe tbody tr th:only-of-type {\n",
       "        vertical-align: middle;\n",
       "    }\n",
       "\n",
       "    .dataframe tbody tr th {\n",
       "        vertical-align: top;\n",
       "    }\n",
       "\n",
       "    .dataframe thead th {\n",
       "        text-align: right;\n",
       "    }\n",
       "</style>\n",
       "<table border=\"1\" class=\"dataframe\">\n",
       "  <thead>\n",
       "    <tr style=\"text-align: right;\">\n",
       "      <th></th>\n",
       "      <th>CIUDAD</th>\n",
       "    </tr>\n",
       "  </thead>\n",
       "  <tbody>\n",
       "    <tr>\n",
       "      <th>BOGOTA DISTRITO CAPITAL</th>\n",
       "      <td>19232</td>\n",
       "    </tr>\n",
       "    <tr>\n",
       "      <th>MEDELLIN-ANTIOQUIA</th>\n",
       "      <td>11054</td>\n",
       "    </tr>\n",
       "    <tr>\n",
       "      <th>SANTIAGO DE CALI-VALLE DEL CAUCA</th>\n",
       "      <td>9037</td>\n",
       "    </tr>\n",
       "    <tr>\n",
       "      <th>BUCARAMANGA-SANTANDER</th>\n",
       "      <td>5559</td>\n",
       "    </tr>\n",
       "    <tr>\n",
       "      <th>BARRANQUILLA-ATLANTICO</th>\n",
       "      <td>3300</td>\n",
       "    </tr>\n",
       "    <tr>\n",
       "      <th>...</th>\n",
       "      <td>...</td>\n",
       "    </tr>\n",
       "    <tr>\n",
       "      <th>PUENTE ARANDA-BOGOTA DC</th>\n",
       "      <td>1</td>\n",
       "    </tr>\n",
       "    <tr>\n",
       "      <th>SAN ANTONIO-SINCELEJO-SUCRE</th>\n",
       "      <td>1</td>\n",
       "    </tr>\n",
       "    <tr>\n",
       "      <th>SAN ANTONIO-JAMUNDI-VALLE DEL CAUCA</th>\n",
       "      <td>1</td>\n",
       "    </tr>\n",
       "    <tr>\n",
       "      <th>EL CARMEN-BOLIVAR-CAUCA</th>\n",
       "      <td>1</td>\n",
       "    </tr>\n",
       "    <tr>\n",
       "      <th>LA ESPERANZA-JAMBALO-CAUCA</th>\n",
       "      <td>1</td>\n",
       "    </tr>\n",
       "  </tbody>\n",
       "</table>\n",
       "<p>1631 rows × 1 columns</p>\n",
       "</div>"
      ],
      "text/plain": [
       "                                     CIUDAD\n",
       "BOGOTA DISTRITO CAPITAL               19232\n",
       "MEDELLIN-ANTIOQUIA                    11054\n",
       "SANTIAGO DE CALI-VALLE DEL CAUCA       9037\n",
       "BUCARAMANGA-SANTANDER                  5559\n",
       "BARRANQUILLA-ATLANTICO                 3300\n",
       "...                                     ...\n",
       "PUENTE ARANDA-BOGOTA DC                   1\n",
       "SAN ANTONIO-SINCELEJO-SUCRE               1\n",
       "SAN ANTONIO-JAMUNDI-VALLE DEL CAUCA       1\n",
       "EL CARMEN-BOLIVAR-CAUCA                   1\n",
       "LA ESPERANZA-JAMBALO-CAUCA                1\n",
       "\n",
       "[1631 rows x 1 columns]"
      ]
     },
     "execution_count": 73,
     "metadata": {},
     "output_type": "execute_result"
    }
   ],
   "source": [
    "data['CIUDAD'].value_counts().to_frame()"
   ]
  },
  {
   "cell_type": "markdown",
   "metadata": {},
   "source": [
    "There are up to 5 strings divided by a hypen in this column, Have to decide what to do here."
   ]
  },
  {
   "cell_type": "code",
   "execution_count": 74,
   "metadata": {
    "ExecuteTime": {
     "end_time": "2020-06-19T02:37:37.692666Z",
     "start_time": "2020-06-19T02:37:37.617188Z"
    }
   },
   "outputs": [
    {
     "data": {
      "text/html": [
       "<div>\n",
       "<style scoped>\n",
       "    .dataframe tbody tr th:only-of-type {\n",
       "        vertical-align: middle;\n",
       "    }\n",
       "\n",
       "    .dataframe tbody tr th {\n",
       "        vertical-align: top;\n",
       "    }\n",
       "\n",
       "    .dataframe thead th {\n",
       "        text-align: right;\n",
       "    }\n",
       "</style>\n",
       "<table border=\"1\" class=\"dataframe\">\n",
       "  <thead>\n",
       "    <tr style=\"text-align: right;\">\n",
       "      <th></th>\n",
       "      <th>CIUDAD</th>\n",
       "    </tr>\n",
       "  </thead>\n",
       "  <tbody>\n",
       "    <tr>\n",
       "      <th>2</th>\n",
       "      <td>118911</td>\n",
       "    </tr>\n",
       "    <tr>\n",
       "      <th>1</th>\n",
       "      <td>22671</td>\n",
       "    </tr>\n",
       "    <tr>\n",
       "      <th>3</th>\n",
       "      <td>1307</td>\n",
       "    </tr>\n",
       "    <tr>\n",
       "      <th>4</th>\n",
       "      <td>7</td>\n",
       "    </tr>\n",
       "    <tr>\n",
       "      <th>5</th>\n",
       "      <td>3</td>\n",
       "    </tr>\n",
       "  </tbody>\n",
       "</table>\n",
       "</div>"
      ],
      "text/plain": [
       "   CIUDAD\n",
       "2  118911\n",
       "1   22671\n",
       "3    1307\n",
       "4       7\n",
       "5       3"
      ]
     },
     "execution_count": 74,
     "metadata": {},
     "output_type": "execute_result"
    }
   ],
   "source": [
    "data['CIUDAD'].apply(lambda x: len(x.split('-'))).value_counts().to_frame()"
   ]
  },
  {
   "cell_type": "markdown",
   "metadata": {},
   "source": [
    "Taking only the first position of the string separated by a hyphen, i was able to reduce the amount of cities by a bit more than 200. Could there be a possibility that there are cities named the same in different parts of the country?, that could be the explanation as to why the number is reduced."
   ]
  },
  {
   "cell_type": "code",
   "execution_count": 75,
   "metadata": {
    "ExecuteTime": {
     "end_time": "2020-06-19T02:37:55.891380Z",
     "start_time": "2020-06-19T02:37:55.830831Z"
    }
   },
   "outputs": [
    {
     "data": {
      "text/html": [
       "<div>\n",
       "<style scoped>\n",
       "    .dataframe tbody tr th:only-of-type {\n",
       "        vertical-align: middle;\n",
       "    }\n",
       "\n",
       "    .dataframe tbody tr th {\n",
       "        vertical-align: top;\n",
       "    }\n",
       "\n",
       "    .dataframe thead th {\n",
       "        text-align: right;\n",
       "    }\n",
       "</style>\n",
       "<table border=\"1\" class=\"dataframe\">\n",
       "  <thead>\n",
       "    <tr style=\"text-align: right;\">\n",
       "      <th></th>\n",
       "      <th>CIUDAD</th>\n",
       "    </tr>\n",
       "  </thead>\n",
       "  <tbody>\n",
       "    <tr>\n",
       "      <th>BOGOTA DISTRITO CAPITAL</th>\n",
       "      <td>19232</td>\n",
       "    </tr>\n",
       "    <tr>\n",
       "      <th>MEDELLIN</th>\n",
       "      <td>11054</td>\n",
       "    </tr>\n",
       "    <tr>\n",
       "      <th>SANTIAGO DE CALI</th>\n",
       "      <td>9037</td>\n",
       "    </tr>\n",
       "    <tr>\n",
       "      <th>BUCARAMANGA</th>\n",
       "      <td>5559</td>\n",
       "    </tr>\n",
       "    <tr>\n",
       "      <th>BARRANQUILLA</th>\n",
       "      <td>3300</td>\n",
       "    </tr>\n",
       "    <tr>\n",
       "      <th>...</th>\n",
       "      <td>...</td>\n",
       "    </tr>\n",
       "    <tr>\n",
       "      <th>SAN ANTERITO</th>\n",
       "      <td>1</td>\n",
       "    </tr>\n",
       "    <tr>\n",
       "      <th>FILIPINAS</th>\n",
       "      <td>1</td>\n",
       "    </tr>\n",
       "    <tr>\n",
       "      <th>MOSOCO</th>\n",
       "      <td>1</td>\n",
       "    </tr>\n",
       "    <tr>\n",
       "      <th>EL CARITO</th>\n",
       "      <td>1</td>\n",
       "    </tr>\n",
       "    <tr>\n",
       "      <th>CUPIAGUA</th>\n",
       "      <td>1</td>\n",
       "    </tr>\n",
       "  </tbody>\n",
       "</table>\n",
       "<p>1406 rows × 1 columns</p>\n",
       "</div>"
      ],
      "text/plain": [
       "                         CIUDAD\n",
       "BOGOTA DISTRITO CAPITAL   19232\n",
       "MEDELLIN                  11054\n",
       "SANTIAGO DE CALI           9037\n",
       "BUCARAMANGA                5559\n",
       "BARRANQUILLA               3300\n",
       "...                         ...\n",
       "SAN ANTERITO                  1\n",
       "FILIPINAS                     1\n",
       "MOSOCO                        1\n",
       "EL CARITO                     1\n",
       "CUPIAGUA                      1\n",
       "\n",
       "[1406 rows x 1 columns]"
      ]
     },
     "execution_count": 75,
     "metadata": {},
     "output_type": "execute_result"
    }
   ],
   "source": [
    "data['CIUDAD'].apply(lambda x: x.split('-')[0]).value_counts().to_frame()"
   ]
  },
  {
   "cell_type": "markdown",
   "metadata": {},
   "source": [
    "### Reincidente"
   ]
  },
  {
   "cell_type": "code",
   "execution_count": 76,
   "metadata": {
    "ExecuteTime": {
     "end_time": "2020-06-19T02:39:39.517367Z",
     "start_time": "2020-06-19T02:39:39.506319Z"
    }
   },
   "outputs": [
    {
     "data": {
      "text/plain": [
       "0"
      ]
     },
     "execution_count": 76,
     "metadata": {},
     "output_type": "execute_result"
    }
   ],
   "source": [
    "data['REINCIDENTE'].isnull().sum()"
   ]
  },
  {
   "cell_type": "code",
   "execution_count": 77,
   "metadata": {
    "ExecuteTime": {
     "end_time": "2020-06-19T02:39:39.727427Z",
     "start_time": "2020-06-19T02:39:39.721091Z"
    }
   },
   "outputs": [
    {
     "data": {
      "text/plain": [
       "(1,)"
      ]
     },
     "execution_count": 77,
     "metadata": {},
     "output_type": "execute_result"
    }
   ],
   "source": [
    "data['REINCIDENTE'].unique().shape"
   ]
  },
  {
   "cell_type": "code",
   "execution_count": 78,
   "metadata": {
    "ExecuteTime": {
     "end_time": "2020-06-19T02:39:39.950742Z",
     "start_time": "2020-06-19T02:39:39.896547Z"
    }
   },
   "outputs": [],
   "source": [
    "data['REINCIDENTE'] = data['REINCIDENTE'].astype('category')"
   ]
  },
  {
   "cell_type": "markdown",
   "metadata": {},
   "source": [
    "### Estado Ingreso - has NaN"
   ]
  },
  {
   "cell_type": "code",
   "execution_count": 79,
   "metadata": {
    "ExecuteTime": {
     "end_time": "2020-06-19T02:39:40.979202Z",
     "start_time": "2020-06-19T02:39:40.968099Z"
    }
   },
   "outputs": [
    {
     "data": {
      "text/plain": [
       "30"
      ]
     },
     "execution_count": 79,
     "metadata": {},
     "output_type": "execute_result"
    }
   ],
   "source": [
    "data['ESTADO_INGRESO'].isnull().sum()"
   ]
  },
  {
   "cell_type": "code",
   "execution_count": 80,
   "metadata": {
    "ExecuteTime": {
     "end_time": "2020-06-19T02:39:41.168714Z",
     "start_time": "2020-06-19T02:39:41.161804Z"
    }
   },
   "outputs": [
    {
     "data": {
      "text/plain": [
       "(7,)"
      ]
     },
     "execution_count": 80,
     "metadata": {},
     "output_type": "execute_result"
    }
   ],
   "source": [
    "data['ESTADO_INGRESO'].unique().shape"
   ]
  },
  {
   "cell_type": "code",
   "execution_count": 81,
   "metadata": {
    "ExecuteTime": {
     "end_time": "2020-06-19T02:39:41.382889Z",
     "start_time": "2020-06-19T02:39:41.369657Z"
    }
   },
   "outputs": [
    {
     "data": {
      "text/html": [
       "<div>\n",
       "<style scoped>\n",
       "    .dataframe tbody tr th:only-of-type {\n",
       "        vertical-align: middle;\n",
       "    }\n",
       "\n",
       "    .dataframe tbody tr th {\n",
       "        vertical-align: top;\n",
       "    }\n",
       "\n",
       "    .dataframe thead th {\n",
       "        text-align: right;\n",
       "    }\n",
       "</style>\n",
       "<table border=\"1\" class=\"dataframe\">\n",
       "  <thead>\n",
       "    <tr style=\"text-align: right;\">\n",
       "      <th></th>\n",
       "      <th>ESTADO_INGRESO</th>\n",
       "    </tr>\n",
       "  </thead>\n",
       "  <tbody>\n",
       "    <tr>\n",
       "      <th>Intramuros</th>\n",
       "      <td>86170</td>\n",
       "    </tr>\n",
       "    <tr>\n",
       "      <th>Prision Domiciliaria</th>\n",
       "      <td>37285</td>\n",
       "    </tr>\n",
       "    <tr>\n",
       "      <th>Detencion Domiciliaria</th>\n",
       "      <td>12177</td>\n",
       "    </tr>\n",
       "    <tr>\n",
       "      <th>Vigilancia Electronica</th>\n",
       "      <td>6927</td>\n",
       "    </tr>\n",
       "    <tr>\n",
       "      <th>Control Electronico</th>\n",
       "      <td>171</td>\n",
       "    </tr>\n",
       "    <tr>\n",
       "      <th>Espera Traslado</th>\n",
       "      <td>139</td>\n",
       "    </tr>\n",
       "  </tbody>\n",
       "</table>\n",
       "</div>"
      ],
      "text/plain": [
       "                        ESTADO_INGRESO\n",
       "Intramuros                       86170\n",
       "Prision Domiciliaria             37285\n",
       "Detencion Domiciliaria           12177\n",
       "Vigilancia Electronica            6927\n",
       "Control Electronico                171\n",
       "Espera Traslado                    139"
      ]
     },
     "execution_count": 81,
     "metadata": {},
     "output_type": "execute_result"
    }
   ],
   "source": [
    "data['ESTADO_INGRESO'].value_counts().to_frame()"
   ]
  },
  {
   "cell_type": "markdown",
   "metadata": {},
   "source": [
    "Making the data categorical but leaving the nan values to try and recover some data"
   ]
  },
  {
   "cell_type": "code",
   "execution_count": 162,
   "metadata": {
    "ExecuteTime": {
     "end_time": "2020-06-19T02:27:13.909235Z",
     "start_time": "2020-06-19T02:27:13.819907Z"
    }
   },
   "outputs": [],
   "source": [
    "data['ESTADO_INGRESO'] = data['ESTADO_INGRESO'].astype('category')\n",
    "data['ESTADO_INGRESO'] = data['ESTADO_INGRESO'].cat.codes.replace(-1, np.nan)"
   ]
  },
  {
   "cell_type": "markdown",
   "metadata": {},
   "source": [
    " Trying to fill the nan data with another rows from the same Intern, I think i am able to recover 2 data points"
   ]
  },
  {
   "cell_type": "code",
   "execution_count": 163,
   "metadata": {
    "ExecuteTime": {
     "end_time": "2020-06-19T02:27:44.246444Z",
     "start_time": "2020-06-19T02:27:20.322837Z"
    }
   },
   "outputs": [
    {
     "data": {
      "text/plain": [
       "28"
      ]
     },
     "execution_count": 163,
     "metadata": {},
     "output_type": "execute_result"
    }
   ],
   "source": [
    "data.groupby(['INTERNOEN'])['ESTADO_INGRESO'].transform(lambda x: x.interpolate(limit_direction='both')).isnull().sum()"
   ]
  },
  {
   "cell_type": "code",
   "execution_count": 164,
   "metadata": {
    "ExecuteTime": {
     "end_time": "2020-06-19T02:30:11.233522Z",
     "start_time": "2020-06-19T02:29:47.654850Z"
    }
   },
   "outputs": [],
   "source": [
    "data['ESTADO_INGRESO'] = data.groupby(['INTERNOEN'])['ESTADO_INGRESO'].transform(lambda x: x.interpolate(limit_direction='both'))"
   ]
  },
  {
   "cell_type": "markdown",
   "metadata": {},
   "source": [
    "### Actividades Trabajo"
   ]
  },
  {
   "cell_type": "code",
   "execution_count": 82,
   "metadata": {
    "ExecuteTime": {
     "end_time": "2020-06-19T02:39:47.492824Z",
     "start_time": "2020-06-19T02:39:47.483459Z"
    }
   },
   "outputs": [
    {
     "data": {
      "text/plain": [
       "0"
      ]
     },
     "execution_count": 82,
     "metadata": {},
     "output_type": "execute_result"
    }
   ],
   "source": [
    "data['ACTIVIDADES_TRABAJO'].isnull().sum()"
   ]
  },
  {
   "cell_type": "code",
   "execution_count": 83,
   "metadata": {
    "ExecuteTime": {
     "end_time": "2020-06-19T02:39:47.647399Z",
     "start_time": "2020-06-19T02:39:47.640813Z"
    }
   },
   "outputs": [
    {
     "data": {
      "text/plain": [
       "(2,)"
      ]
     },
     "execution_count": 83,
     "metadata": {},
     "output_type": "execute_result"
    }
   ],
   "source": [
    "data['ACTIVIDADES_TRABAJO'].unique().shape"
   ]
  },
  {
   "cell_type": "code",
   "execution_count": 84,
   "metadata": {
    "ExecuteTime": {
     "end_time": "2020-06-19T02:39:47.825886Z",
     "start_time": "2020-06-19T02:39:47.810471Z"
    }
   },
   "outputs": [
    {
     "data": {
      "text/html": [
       "<div>\n",
       "<style scoped>\n",
       "    .dataframe tbody tr th:only-of-type {\n",
       "        vertical-align: middle;\n",
       "    }\n",
       "\n",
       "    .dataframe tbody tr th {\n",
       "        vertical-align: top;\n",
       "    }\n",
       "\n",
       "    .dataframe thead th {\n",
       "        text-align: right;\n",
       "    }\n",
       "</style>\n",
       "<table border=\"1\" class=\"dataframe\">\n",
       "  <thead>\n",
       "    <tr style=\"text-align: right;\">\n",
       "      <th></th>\n",
       "      <th>ACTIVIDADES_TRABAJO</th>\n",
       "    </tr>\n",
       "  </thead>\n",
       "  <tbody>\n",
       "    <tr>\n",
       "      <th>SI</th>\n",
       "      <td>77529</td>\n",
       "    </tr>\n",
       "    <tr>\n",
       "      <th>NO</th>\n",
       "      <td>65370</td>\n",
       "    </tr>\n",
       "  </tbody>\n",
       "</table>\n",
       "</div>"
      ],
      "text/plain": [
       "    ACTIVIDADES_TRABAJO\n",
       "SI                77529\n",
       "NO                65370"
      ]
     },
     "execution_count": 84,
     "metadata": {},
     "output_type": "execute_result"
    }
   ],
   "source": [
    "data['ACTIVIDADES_TRABAJO'].value_counts().to_frame()"
   ]
  },
  {
   "cell_type": "code",
   "execution_count": 85,
   "metadata": {
    "ExecuteTime": {
     "end_time": "2020-06-19T02:39:51.884156Z",
     "start_time": "2020-06-19T02:39:51.837144Z"
    }
   },
   "outputs": [],
   "source": [
    "data['ACTIVIDADES_TRABAJO'] = data['ACTIVIDADES_TRABAJO'].astype('category')"
   ]
  },
  {
   "cell_type": "markdown",
   "metadata": {},
   "source": [
    "### Actividades Estudio"
   ]
  },
  {
   "cell_type": "code",
   "execution_count": 86,
   "metadata": {
    "ExecuteTime": {
     "end_time": "2020-06-19T02:39:52.806992Z",
     "start_time": "2020-06-19T02:39:52.797128Z"
    }
   },
   "outputs": [
    {
     "data": {
      "text/plain": [
       "0"
      ]
     },
     "execution_count": 86,
     "metadata": {},
     "output_type": "execute_result"
    }
   ],
   "source": [
    "data['ACTIVIDADES_ESTUDIO'].isnull().sum()"
   ]
  },
  {
   "cell_type": "code",
   "execution_count": 87,
   "metadata": {
    "ExecuteTime": {
     "end_time": "2020-06-19T02:39:52.985909Z",
     "start_time": "2020-06-19T02:39:52.976501Z"
    }
   },
   "outputs": [
    {
     "data": {
      "text/plain": [
       "(2,)"
      ]
     },
     "execution_count": 87,
     "metadata": {},
     "output_type": "execute_result"
    }
   ],
   "source": [
    "data['ACTIVIDADES_ESTUDIO'].unique().shape"
   ]
  },
  {
   "cell_type": "code",
   "execution_count": 88,
   "metadata": {
    "ExecuteTime": {
     "end_time": "2020-06-19T02:39:53.118520Z",
     "start_time": "2020-06-19T02:39:53.105195Z"
    }
   },
   "outputs": [
    {
     "data": {
      "text/html": [
       "<div>\n",
       "<style scoped>\n",
       "    .dataframe tbody tr th:only-of-type {\n",
       "        vertical-align: middle;\n",
       "    }\n",
       "\n",
       "    .dataframe tbody tr th {\n",
       "        vertical-align: top;\n",
       "    }\n",
       "\n",
       "    .dataframe thead th {\n",
       "        text-align: right;\n",
       "    }\n",
       "</style>\n",
       "<table border=\"1\" class=\"dataframe\">\n",
       "  <thead>\n",
       "    <tr style=\"text-align: right;\">\n",
       "      <th></th>\n",
       "      <th>ACTIVIDADES_ESTUDIO</th>\n",
       "    </tr>\n",
       "  </thead>\n",
       "  <tbody>\n",
       "    <tr>\n",
       "      <th>SI</th>\n",
       "      <td>94688</td>\n",
       "    </tr>\n",
       "    <tr>\n",
       "      <th>NO</th>\n",
       "      <td>48211</td>\n",
       "    </tr>\n",
       "  </tbody>\n",
       "</table>\n",
       "</div>"
      ],
      "text/plain": [
       "    ACTIVIDADES_ESTUDIO\n",
       "SI                94688\n",
       "NO                48211"
      ]
     },
     "execution_count": 88,
     "metadata": {},
     "output_type": "execute_result"
    }
   ],
   "source": [
    "data['ACTIVIDADES_ESTUDIO'].value_counts().to_frame()"
   ]
  },
  {
   "cell_type": "code",
   "execution_count": 89,
   "metadata": {
    "ExecuteTime": {
     "end_time": "2020-06-19T02:39:53.308482Z",
     "start_time": "2020-06-19T02:39:53.268224Z"
    }
   },
   "outputs": [],
   "source": [
    "data['ACTIVIDADES_ESTUDIO'] = data['ACTIVIDADES_ESTUDIO'].astype('category')"
   ]
  },
  {
   "cell_type": "markdown",
   "metadata": {},
   "source": [
    "### Activades Enseñanza"
   ]
  },
  {
   "cell_type": "code",
   "execution_count": 90,
   "metadata": {
    "ExecuteTime": {
     "end_time": "2020-06-19T02:39:53.968465Z",
     "start_time": "2020-06-19T02:39:53.960933Z"
    }
   },
   "outputs": [
    {
     "data": {
      "text/plain": [
       "0"
      ]
     },
     "execution_count": 90,
     "metadata": {},
     "output_type": "execute_result"
    }
   ],
   "source": [
    "data['ACTIVIDADES_ENSEÑANZA'].isnull().sum()"
   ]
  },
  {
   "cell_type": "code",
   "execution_count": 91,
   "metadata": {
    "ExecuteTime": {
     "end_time": "2020-06-19T02:39:54.173012Z",
     "start_time": "2020-06-19T02:39:54.162885Z"
    }
   },
   "outputs": [
    {
     "data": {
      "text/plain": [
       "(2,)"
      ]
     },
     "execution_count": 91,
     "metadata": {},
     "output_type": "execute_result"
    }
   ],
   "source": [
    "data['ACTIVIDADES_ENSEÑANZA'].unique().shape"
   ]
  },
  {
   "cell_type": "code",
   "execution_count": 92,
   "metadata": {
    "ExecuteTime": {
     "end_time": "2020-06-19T02:39:54.317937Z",
     "start_time": "2020-06-19T02:39:54.303738Z"
    }
   },
   "outputs": [
    {
     "data": {
      "text/html": [
       "<div>\n",
       "<style scoped>\n",
       "    .dataframe tbody tr th:only-of-type {\n",
       "        vertical-align: middle;\n",
       "    }\n",
       "\n",
       "    .dataframe tbody tr th {\n",
       "        vertical-align: top;\n",
       "    }\n",
       "\n",
       "    .dataframe thead th {\n",
       "        text-align: right;\n",
       "    }\n",
       "</style>\n",
       "<table border=\"1\" class=\"dataframe\">\n",
       "  <thead>\n",
       "    <tr style=\"text-align: right;\">\n",
       "      <th></th>\n",
       "      <th>ACTIVIDADES_ENSEÑANZA</th>\n",
       "    </tr>\n",
       "  </thead>\n",
       "  <tbody>\n",
       "    <tr>\n",
       "      <th>NO</th>\n",
       "      <td>140290</td>\n",
       "    </tr>\n",
       "    <tr>\n",
       "      <th>SI</th>\n",
       "      <td>2609</td>\n",
       "    </tr>\n",
       "  </tbody>\n",
       "</table>\n",
       "</div>"
      ],
      "text/plain": [
       "    ACTIVIDADES_ENSEÑANZA\n",
       "NO                 140290\n",
       "SI                   2609"
      ]
     },
     "execution_count": 92,
     "metadata": {},
     "output_type": "execute_result"
    }
   ],
   "source": [
    "data['ACTIVIDADES_ENSEÑANZA'].value_counts().to_frame()"
   ]
  },
  {
   "cell_type": "code",
   "execution_count": 93,
   "metadata": {
    "ExecuteTime": {
     "end_time": "2020-06-19T02:39:54.503164Z",
     "start_time": "2020-06-19T02:39:54.448720Z"
    }
   },
   "outputs": [],
   "source": [
    "data['ACTIVIDADES_ENSEÑANZA'] = data['ACTIVIDADES_ENSEÑANZA'].astype('category')"
   ]
  },
  {
   "cell_type": "markdown",
   "metadata": {},
   "source": [
    "### Nivel Educativo"
   ]
  },
  {
   "cell_type": "code",
   "execution_count": 94,
   "metadata": {
    "ExecuteTime": {
     "end_time": "2020-06-19T02:39:55.244549Z",
     "start_time": "2020-06-19T02:39:55.235552Z"
    }
   },
   "outputs": [
    {
     "data": {
      "text/plain": [
       "0"
      ]
     },
     "execution_count": 94,
     "metadata": {},
     "output_type": "execute_result"
    }
   ],
   "source": [
    "data['NIVEL_EDUCATIVO'].isnull().sum()"
   ]
  },
  {
   "cell_type": "code",
   "execution_count": 95,
   "metadata": {
    "ExecuteTime": {
     "end_time": "2020-06-19T02:39:55.423823Z",
     "start_time": "2020-06-19T02:39:55.416382Z"
    }
   },
   "outputs": [
    {
     "data": {
      "text/plain": [
       "(12,)"
      ]
     },
     "execution_count": 95,
     "metadata": {},
     "output_type": "execute_result"
    }
   ],
   "source": [
    "data['NIVEL_EDUCATIVO'].unique().shape"
   ]
  },
  {
   "cell_type": "code",
   "execution_count": 96,
   "metadata": {
    "ExecuteTime": {
     "end_time": "2020-06-19T02:39:55.592930Z",
     "start_time": "2020-06-19T02:39:55.577625Z"
    }
   },
   "outputs": [
    {
     "data": {
      "text/html": [
       "<div>\n",
       "<style scoped>\n",
       "    .dataframe tbody tr th:only-of-type {\n",
       "        vertical-align: middle;\n",
       "    }\n",
       "\n",
       "    .dataframe tbody tr th {\n",
       "        vertical-align: top;\n",
       "    }\n",
       "\n",
       "    .dataframe thead th {\n",
       "        text-align: right;\n",
       "    }\n",
       "</style>\n",
       "<table border=\"1\" class=\"dataframe\">\n",
       "  <thead>\n",
       "    <tr style=\"text-align: right;\">\n",
       "      <th></th>\n",
       "      <th>NIVEL_EDUCATIVO</th>\n",
       "    </tr>\n",
       "  </thead>\n",
       "  <tbody>\n",
       "    <tr>\n",
       "      <th>CICLO II</th>\n",
       "      <td>54353</td>\n",
       "    </tr>\n",
       "    <tr>\n",
       "      <th>CICLO I</th>\n",
       "      <td>28198</td>\n",
       "    </tr>\n",
       "    <tr>\n",
       "      <th>CICLO III</th>\n",
       "      <td>27839</td>\n",
       "    </tr>\n",
       "    <tr>\n",
       "      <th>CICLO IV</th>\n",
       "      <td>25109</td>\n",
       "    </tr>\n",
       "    <tr>\n",
       "      <th>ANALFABETA</th>\n",
       "      <td>3717</td>\n",
       "    </tr>\n",
       "    <tr>\n",
       "      <th>PROFESIONAL</th>\n",
       "      <td>1636</td>\n",
       "    </tr>\n",
       "    <tr>\n",
       "      <th>TECNICO</th>\n",
       "      <td>1328</td>\n",
       "    </tr>\n",
       "    <tr>\n",
       "      <th>TECNOLOGICO</th>\n",
       "      <td>460</td>\n",
       "    </tr>\n",
       "    <tr>\n",
       "      <th>ESPECIALIZACION</th>\n",
       "      <td>145</td>\n",
       "    </tr>\n",
       "    <tr>\n",
       "      <th>TECNICO PROFESIONAL</th>\n",
       "      <td>61</td>\n",
       "    </tr>\n",
       "    <tr>\n",
       "      <th>POST GRADO</th>\n",
       "      <td>33</td>\n",
       "    </tr>\n",
       "    <tr>\n",
       "      <th>MAGISTER</th>\n",
       "      <td>20</td>\n",
       "    </tr>\n",
       "  </tbody>\n",
       "</table>\n",
       "</div>"
      ],
      "text/plain": [
       "                     NIVEL_EDUCATIVO\n",
       "CICLO II                       54353\n",
       "CICLO I                        28198\n",
       "CICLO III                      27839\n",
       "CICLO IV                       25109\n",
       "ANALFABETA                      3717\n",
       "PROFESIONAL                     1636\n",
       "TECNICO                         1328\n",
       "TECNOLOGICO                      460\n",
       "ESPECIALIZACION                  145\n",
       "TECNICO PROFESIONAL               61\n",
       "POST GRADO                        33\n",
       "MAGISTER                          20"
      ]
     },
     "execution_count": 96,
     "metadata": {},
     "output_type": "execute_result"
    }
   ],
   "source": [
    "data['NIVEL_EDUCATIVO'].value_counts().to_frame()"
   ]
  },
  {
   "cell_type": "code",
   "execution_count": 97,
   "metadata": {
    "ExecuteTime": {
     "end_time": "2020-06-19T02:39:55.773987Z",
     "start_time": "2020-06-19T02:39:55.729671Z"
    }
   },
   "outputs": [],
   "source": [
    "data['NIVEL_EDUCATIVO'] = data['NIVEL_EDUCATIVO'].astype('category')"
   ]
  },
  {
   "cell_type": "markdown",
   "metadata": {},
   "source": [
    "### Hijos Menores"
   ]
  },
  {
   "cell_type": "code",
   "execution_count": 98,
   "metadata": {
    "ExecuteTime": {
     "end_time": "2020-06-19T02:39:57.141669Z",
     "start_time": "2020-06-19T02:39:57.130034Z"
    }
   },
   "outputs": [
    {
     "data": {
      "text/plain": [
       "0"
      ]
     },
     "execution_count": 98,
     "metadata": {},
     "output_type": "execute_result"
    }
   ],
   "source": [
    "data['HIJOS_MENORES'].isnull().sum()"
   ]
  },
  {
   "cell_type": "code",
   "execution_count": 99,
   "metadata": {
    "ExecuteTime": {
     "end_time": "2020-06-19T02:39:57.487312Z",
     "start_time": "2020-06-19T02:39:57.477704Z"
    }
   },
   "outputs": [
    {
     "data": {
      "text/plain": [
       "(2,)"
      ]
     },
     "execution_count": 99,
     "metadata": {},
     "output_type": "execute_result"
    }
   ],
   "source": [
    "data['HIJOS_MENORES'].unique().shape"
   ]
  },
  {
   "cell_type": "code",
   "execution_count": 100,
   "metadata": {
    "ExecuteTime": {
     "end_time": "2020-06-19T02:39:57.656298Z",
     "start_time": "2020-06-19T02:39:57.641902Z"
    },
    "scrolled": true
   },
   "outputs": [
    {
     "data": {
      "text/html": [
       "<div>\n",
       "<style scoped>\n",
       "    .dataframe tbody tr th:only-of-type {\n",
       "        vertical-align: middle;\n",
       "    }\n",
       "\n",
       "    .dataframe tbody tr th {\n",
       "        vertical-align: top;\n",
       "    }\n",
       "\n",
       "    .dataframe thead th {\n",
       "        text-align: right;\n",
       "    }\n",
       "</style>\n",
       "<table border=\"1\" class=\"dataframe\">\n",
       "  <thead>\n",
       "    <tr style=\"text-align: right;\">\n",
       "      <th></th>\n",
       "      <th>HIJOS_MENORES</th>\n",
       "    </tr>\n",
       "  </thead>\n",
       "  <tbody>\n",
       "    <tr>\n",
       "      <th>SI</th>\n",
       "      <td>112862</td>\n",
       "    </tr>\n",
       "    <tr>\n",
       "      <th>NO</th>\n",
       "      <td>30037</td>\n",
       "    </tr>\n",
       "  </tbody>\n",
       "</table>\n",
       "</div>"
      ],
      "text/plain": [
       "    HIJOS_MENORES\n",
       "SI         112862\n",
       "NO          30037"
      ]
     },
     "execution_count": 100,
     "metadata": {},
     "output_type": "execute_result"
    }
   ],
   "source": [
    "data['HIJOS_MENORES'].value_counts().to_frame()"
   ]
  },
  {
   "cell_type": "code",
   "execution_count": 131,
   "metadata": {
    "ExecuteTime": {
     "end_time": "2020-06-19T02:41:05.142930Z",
     "start_time": "2020-06-19T02:41:05.095020Z"
    }
   },
   "outputs": [],
   "source": [
    "data['HIJOS_MENORES'] = data['HIJOS_MENORES'].astype('category')"
   ]
  },
  {
   "cell_type": "markdown",
   "metadata": {},
   "source": [
    "### Condic Expecional  - has NaN - fixed"
   ]
  },
  {
   "cell_type": "code",
   "execution_count": 101,
   "metadata": {
    "ExecuteTime": {
     "end_time": "2020-06-19T02:40:01.458262Z",
     "start_time": "2020-06-19T02:40:01.449026Z"
    }
   },
   "outputs": [
    {
     "data": {
      "text/plain": [
       "129585"
      ]
     },
     "execution_count": 101,
     "metadata": {},
     "output_type": "execute_result"
    }
   ],
   "source": [
    "data['CONDIC_EXPECIONAL'].isnull().sum()"
   ]
  },
  {
   "cell_type": "code",
   "execution_count": 102,
   "metadata": {
    "ExecuteTime": {
     "end_time": "2020-06-19T02:40:01.629541Z",
     "start_time": "2020-06-19T02:40:01.609568Z"
    }
   },
   "outputs": [
    {
     "data": {
      "text/plain": [
       "(53,)"
      ]
     },
     "execution_count": 102,
     "metadata": {},
     "output_type": "execute_result"
    }
   ],
   "source": [
    "data['CONDIC_EXPECIONAL'].unique().shape"
   ]
  },
  {
   "cell_type": "markdown",
   "metadata": {},
   "source": [
    "According to the Ministry of Justice, the null values here represent the people that dont think they have a exceptional condition"
   ]
  },
  {
   "cell_type": "code",
   "execution_count": 103,
   "metadata": {
    "ExecuteTime": {
     "end_time": "2020-06-19T02:40:02.485343Z",
     "start_time": "2020-06-19T02:40:02.435897Z"
    }
   },
   "outputs": [],
   "source": [
    "data.loc[data[data['CONDIC_EXPECIONAL'].isnull()].index, 'CONDIC_EXPECIONAL'] = 'NO'"
   ]
  },
  {
   "cell_type": "code",
   "execution_count": 104,
   "metadata": {
    "ExecuteTime": {
     "end_time": "2020-06-19T02:40:03.098717Z",
     "start_time": "2020-06-19T02:40:03.082480Z"
    },
    "scrolled": true
   },
   "outputs": [
    {
     "data": {
      "text/html": [
       "<div>\n",
       "<style scoped>\n",
       "    .dataframe tbody tr th:only-of-type {\n",
       "        vertical-align: middle;\n",
       "    }\n",
       "\n",
       "    .dataframe tbody tr th {\n",
       "        vertical-align: top;\n",
       "    }\n",
       "\n",
       "    .dataframe thead th {\n",
       "        text-align: right;\n",
       "    }\n",
       "</style>\n",
       "<table border=\"1\" class=\"dataframe\">\n",
       "  <thead>\n",
       "    <tr style=\"text-align: right;\">\n",
       "      <th></th>\n",
       "      <th>CONDIC_EXPECIONAL</th>\n",
       "    </tr>\n",
       "  </thead>\n",
       "  <tbody>\n",
       "    <tr>\n",
       "      <th>NO</th>\n",
       "      <td>129585</td>\n",
       "    </tr>\n",
       "    <tr>\n",
       "      <th>AFRO COLOMBIANO</th>\n",
       "      <td>5762</td>\n",
       "    </tr>\n",
       "    <tr>\n",
       "      <th>ADULTO MAYOR</th>\n",
       "      <td>2361</td>\n",
       "    </tr>\n",
       "    <tr>\n",
       "      <th>CON DISCAPACIDAD</th>\n",
       "      <td>1845</td>\n",
       "    </tr>\n",
       "    <tr>\n",
       "      <th>INDIGENA</th>\n",
       "      <td>1068</td>\n",
       "    </tr>\n",
       "    <tr>\n",
       "      <th>LESBIANA</th>\n",
       "      <td>452</td>\n",
       "    </tr>\n",
       "    <tr>\n",
       "      <th>BISEXUAL</th>\n",
       "      <td>395</td>\n",
       "    </tr>\n",
       "    <tr>\n",
       "      <th>GAYS</th>\n",
       "      <td>252</td>\n",
       "    </tr>\n",
       "    <tr>\n",
       "      <th>MADRE GESTANTE</th>\n",
       "      <td>250</td>\n",
       "    </tr>\n",
       "    <tr>\n",
       "      <th>EXTRANJEROS</th>\n",
       "      <td>176</td>\n",
       "    </tr>\n",
       "    <tr>\n",
       "      <th>TRANSEXUAL</th>\n",
       "      <td>151</td>\n",
       "    </tr>\n",
       "    <tr>\n",
       "      <th>AFRO COLOMBIANO -CON DISCAPACIDAD</th>\n",
       "      <td>91</td>\n",
       "    </tr>\n",
       "    <tr>\n",
       "      <th>ADULTO MAYOR -AFRO COLOMBIANO</th>\n",
       "      <td>74</td>\n",
       "    </tr>\n",
       "    <tr>\n",
       "      <th>ROM</th>\n",
       "      <td>62</td>\n",
       "    </tr>\n",
       "    <tr>\n",
       "      <th>ADULTO MAYOR -CON DISCAPACIDAD</th>\n",
       "      <td>57</td>\n",
       "    </tr>\n",
       "    <tr>\n",
       "      <th>MADRE LACTANTE</th>\n",
       "      <td>35</td>\n",
       "    </tr>\n",
       "    <tr>\n",
       "      <th>ADULTO MAYOR -INDIGENA</th>\n",
       "      <td>33</td>\n",
       "    </tr>\n",
       "    <tr>\n",
       "      <th>GAYS -TRANSEXUAL</th>\n",
       "      <td>28</td>\n",
       "    </tr>\n",
       "    <tr>\n",
       "      <th>RAIZALES</th>\n",
       "      <td>26</td>\n",
       "    </tr>\n",
       "    <tr>\n",
       "      <th>BISEXUAL -LESBIANA</th>\n",
       "      <td>18</td>\n",
       "    </tr>\n",
       "    <tr>\n",
       "      <th>AFRO COLOMBIANO -INDIGENA</th>\n",
       "      <td>15</td>\n",
       "    </tr>\n",
       "    <tr>\n",
       "      <th>AFRO COLOMBIANO -BISEXUAL</th>\n",
       "      <td>15</td>\n",
       "    </tr>\n",
       "    <tr>\n",
       "      <th>CON DISCAPACIDAD -LESBIANA</th>\n",
       "      <td>12</td>\n",
       "    </tr>\n",
       "    <tr>\n",
       "      <th>CON DISCAPACIDAD -INDIGENA</th>\n",
       "      <td>11</td>\n",
       "    </tr>\n",
       "    <tr>\n",
       "      <th>AFRO COLOMBIANO -EXTRANJEROS</th>\n",
       "      <td>10</td>\n",
       "    </tr>\n",
       "    <tr>\n",
       "      <th>AFRO COLOMBIANO -GAYS</th>\n",
       "      <td>10</td>\n",
       "    </tr>\n",
       "    <tr>\n",
       "      <th>AFRO COLOMBIANO -LESBIANA</th>\n",
       "      <td>9</td>\n",
       "    </tr>\n",
       "    <tr>\n",
       "      <th>ADULTO MAYOR -LESBIANA</th>\n",
       "      <td>9</td>\n",
       "    </tr>\n",
       "    <tr>\n",
       "      <th>INTERSEXUAL</th>\n",
       "      <td>9</td>\n",
       "    </tr>\n",
       "    <tr>\n",
       "      <th>AFRO COLOMBIANO -RAIZALES</th>\n",
       "      <td>8</td>\n",
       "    </tr>\n",
       "    <tr>\n",
       "      <th>BISEXUAL -GAYS</th>\n",
       "      <td>7</td>\n",
       "    </tr>\n",
       "    <tr>\n",
       "      <th>CON DISCAPACIDAD -EXTRANJEROS</th>\n",
       "      <td>6</td>\n",
       "    </tr>\n",
       "    <tr>\n",
       "      <th>LESBIANA -TRANSEXUAL</th>\n",
       "      <td>6</td>\n",
       "    </tr>\n",
       "    <tr>\n",
       "      <th>BISEXUAL -CON DISCAPACIDAD</th>\n",
       "      <td>6</td>\n",
       "    </tr>\n",
       "    <tr>\n",
       "      <th>ADULTO MAYOR -EXTRANJEROS</th>\n",
       "      <td>5</td>\n",
       "    </tr>\n",
       "    <tr>\n",
       "      <th>CON DISCAPACIDAD -GAYS</th>\n",
       "      <td>5</td>\n",
       "    </tr>\n",
       "    <tr>\n",
       "      <th>AFRO COLOMBIANO -MADRE GESTANTE</th>\n",
       "      <td>5</td>\n",
       "    </tr>\n",
       "    <tr>\n",
       "      <th>ADULTO MAYOR -BISEXUAL</th>\n",
       "      <td>4</td>\n",
       "    </tr>\n",
       "    <tr>\n",
       "      <th>GAYS -INDIGENA</th>\n",
       "      <td>3</td>\n",
       "    </tr>\n",
       "    <tr>\n",
       "      <th>CON DISCAPACIDAD -TRANSEXUAL</th>\n",
       "      <td>3</td>\n",
       "    </tr>\n",
       "    <tr>\n",
       "      <th>BISEXUAL -TRANSEXUAL</th>\n",
       "      <td>3</td>\n",
       "    </tr>\n",
       "    <tr>\n",
       "      <th>MADRE GESTANTE -MADRE LACTANTE</th>\n",
       "      <td>2</td>\n",
       "    </tr>\n",
       "    <tr>\n",
       "      <th>GAYS -LESBIANA</th>\n",
       "      <td>2</td>\n",
       "    </tr>\n",
       "    <tr>\n",
       "      <th>AFRO COLOMBIANO -TRANSEXUAL</th>\n",
       "      <td>2</td>\n",
       "    </tr>\n",
       "    <tr>\n",
       "      <th>INDIGENA -LESBIANA</th>\n",
       "      <td>2</td>\n",
       "    </tr>\n",
       "    <tr>\n",
       "      <th>ADULTO MAYOR -LESBIANA -TRANSEXUAL</th>\n",
       "      <td>2</td>\n",
       "    </tr>\n",
       "    <tr>\n",
       "      <th>CON DISCAPACIDAD -ROM</th>\n",
       "      <td>1</td>\n",
       "    </tr>\n",
       "    <tr>\n",
       "      <th>ADULTO MAYOR -CON DISCAPACIDAD -INDIGENA</th>\n",
       "      <td>1</td>\n",
       "    </tr>\n",
       "    <tr>\n",
       "      <th>AFRO COLOMBIANO -EXTRANJEROS -LESBIANA -TRANSEXUAL</th>\n",
       "      <td>1</td>\n",
       "    </tr>\n",
       "    <tr>\n",
       "      <th>AFRO COLOMBIANO -BISEXUAL -TRANSEXUAL</th>\n",
       "      <td>1</td>\n",
       "    </tr>\n",
       "    <tr>\n",
       "      <th>LESBIANA -RAIZALES</th>\n",
       "      <td>1</td>\n",
       "    </tr>\n",
       "    <tr>\n",
       "      <th>ADULTO MAYOR -CON DISCAPACIDAD -MADRE GESTANTE</th>\n",
       "      <td>1</td>\n",
       "    </tr>\n",
       "    <tr>\n",
       "      <th>EXTRANJEROS -INDIGENA</th>\n",
       "      <td>1</td>\n",
       "    </tr>\n",
       "  </tbody>\n",
       "</table>\n",
       "</div>"
      ],
      "text/plain": [
       "                                                    CONDIC_EXPECIONAL\n",
       "NO                                                             129585\n",
       "AFRO COLOMBIANO                                                  5762\n",
       "ADULTO MAYOR                                                     2361\n",
       "CON DISCAPACIDAD                                                 1845\n",
       "INDIGENA                                                         1068\n",
       "LESBIANA                                                          452\n",
       "BISEXUAL                                                          395\n",
       "GAYS                                                              252\n",
       "MADRE GESTANTE                                                    250\n",
       "EXTRANJEROS                                                       176\n",
       "TRANSEXUAL                                                        151\n",
       "AFRO COLOMBIANO -CON DISCAPACIDAD                                  91\n",
       "ADULTO MAYOR -AFRO COLOMBIANO                                      74\n",
       "ROM                                                                62\n",
       "ADULTO MAYOR -CON DISCAPACIDAD                                     57\n",
       "MADRE LACTANTE                                                     35\n",
       "ADULTO MAYOR -INDIGENA                                             33\n",
       "GAYS -TRANSEXUAL                                                   28\n",
       "RAIZALES                                                           26\n",
       "BISEXUAL -LESBIANA                                                 18\n",
       "AFRO COLOMBIANO -INDIGENA                                          15\n",
       "AFRO COLOMBIANO -BISEXUAL                                          15\n",
       "CON DISCAPACIDAD -LESBIANA                                         12\n",
       "CON DISCAPACIDAD -INDIGENA                                         11\n",
       "AFRO COLOMBIANO -EXTRANJEROS                                       10\n",
       "AFRO COLOMBIANO -GAYS                                              10\n",
       "AFRO COLOMBIANO -LESBIANA                                           9\n",
       "ADULTO MAYOR -LESBIANA                                              9\n",
       "INTERSEXUAL                                                         9\n",
       "AFRO COLOMBIANO -RAIZALES                                           8\n",
       "BISEXUAL -GAYS                                                      7\n",
       "CON DISCAPACIDAD -EXTRANJEROS                                       6\n",
       "LESBIANA -TRANSEXUAL                                                6\n",
       "BISEXUAL -CON DISCAPACIDAD                                          6\n",
       "ADULTO MAYOR -EXTRANJEROS                                           5\n",
       "CON DISCAPACIDAD -GAYS                                              5\n",
       "AFRO COLOMBIANO -MADRE GESTANTE                                     5\n",
       "ADULTO MAYOR -BISEXUAL                                              4\n",
       "GAYS -INDIGENA                                                      3\n",
       "CON DISCAPACIDAD -TRANSEXUAL                                        3\n",
       "BISEXUAL -TRANSEXUAL                                                3\n",
       "MADRE GESTANTE -MADRE LACTANTE                                      2\n",
       "GAYS -LESBIANA                                                      2\n",
       "AFRO COLOMBIANO -TRANSEXUAL                                         2\n",
       "INDIGENA -LESBIANA                                                  2\n",
       "ADULTO MAYOR -LESBIANA -TRANSEXUAL                                  2\n",
       "CON DISCAPACIDAD -ROM                                               1\n",
       "ADULTO MAYOR -CON DISCAPACIDAD -INDIGENA                            1\n",
       "AFRO COLOMBIANO -EXTRANJEROS -LESBIANA -TRANSEXUAL                  1\n",
       "AFRO COLOMBIANO -BISEXUAL -TRANSEXUAL                               1\n",
       "LESBIANA -RAIZALES                                                  1\n",
       "ADULTO MAYOR -CON DISCAPACIDAD -MADRE GESTANTE                      1\n",
       "EXTRANJEROS -INDIGENA                                               1"
      ]
     },
     "execution_count": 104,
     "metadata": {},
     "output_type": "execute_result"
    }
   ],
   "source": [
    "data['CONDIC_EXPECIONAL'].value_counts().to_frame()"
   ]
  },
  {
   "cell_type": "code",
   "execution_count": 105,
   "metadata": {
    "ExecuteTime": {
     "end_time": "2020-06-19T02:40:04.040548Z",
     "start_time": "2020-06-19T02:40:04.024855Z"
    }
   },
   "outputs": [
    {
     "data": {
      "text/plain": [
       "0"
      ]
     },
     "execution_count": 105,
     "metadata": {},
     "output_type": "execute_result"
    }
   ],
   "source": [
    "data['CONDIC_EXPECIONAL'].isnull().sum()"
   ]
  },
  {
   "cell_type": "code",
   "execution_count": 106,
   "metadata": {
    "ExecuteTime": {
     "end_time": "2020-06-19T02:40:04.487488Z",
     "start_time": "2020-06-19T02:40:04.446326Z"
    }
   },
   "outputs": [],
   "source": [
    "data['CONDIC_EXPECIONAL'] = data['CONDIC_EXPECIONAL'].astype('category')"
   ]
  },
  {
   "cell_type": "markdown",
   "metadata": {},
   "source": [
    "### Código establecimiento"
   ]
  },
  {
   "cell_type": "code",
   "execution_count": 107,
   "metadata": {
    "ExecuteTime": {
     "end_time": "2020-06-19T02:40:06.187776Z",
     "start_time": "2020-06-19T02:40:06.180260Z"
    }
   },
   "outputs": [
    {
     "data": {
      "text/plain": [
       "0"
      ]
     },
     "execution_count": 107,
     "metadata": {},
     "output_type": "execute_result"
    }
   ],
   "source": [
    "data['CODIGO_ESTABLECIMIENTO'].isnull().sum()"
   ]
  },
  {
   "cell_type": "code",
   "execution_count": 108,
   "metadata": {
    "ExecuteTime": {
     "end_time": "2020-06-19T02:40:06.367650Z",
     "start_time": "2020-06-19T02:40:06.361404Z"
    }
   },
   "outputs": [
    {
     "data": {
      "text/plain": [
       "(160,)"
      ]
     },
     "execution_count": 108,
     "metadata": {},
     "output_type": "execute_result"
    }
   ],
   "source": [
    "data['CODIGO_ESTABLECIMIENTO'].unique().shape"
   ]
  },
  {
   "cell_type": "code",
   "execution_count": 109,
   "metadata": {
    "ExecuteTime": {
     "end_time": "2020-06-19T02:40:06.557987Z",
     "start_time": "2020-06-19T02:40:06.540966Z"
    },
    "scrolled": true
   },
   "outputs": [
    {
     "data": {
      "text/html": [
       "<div>\n",
       "<style scoped>\n",
       "    .dataframe tbody tr th:only-of-type {\n",
       "        vertical-align: middle;\n",
       "    }\n",
       "\n",
       "    .dataframe tbody tr th {\n",
       "        vertical-align: top;\n",
       "    }\n",
       "\n",
       "    .dataframe thead th {\n",
       "        text-align: right;\n",
       "    }\n",
       "</style>\n",
       "<table border=\"1\" class=\"dataframe\">\n",
       "  <thead>\n",
       "    <tr style=\"text-align: right;\">\n",
       "      <th></th>\n",
       "      <th>CODIGO_ESTABLECIMIENTO</th>\n",
       "    </tr>\n",
       "  </thead>\n",
       "  <tbody>\n",
       "    <tr>\n",
       "      <th>113</th>\n",
       "      <td>11528</td>\n",
       "    </tr>\n",
       "    <tr>\n",
       "      <th>502</th>\n",
       "      <td>7641</td>\n",
       "    </tr>\n",
       "    <tr>\n",
       "      <th>226</th>\n",
       "      <td>6328</td>\n",
       "    </tr>\n",
       "    <tr>\n",
       "      <th>410</th>\n",
       "      <td>5336</td>\n",
       "    </tr>\n",
       "    <tr>\n",
       "      <th>114</th>\n",
       "      <td>5029</td>\n",
       "    </tr>\n",
       "    <tr>\n",
       "      <th>...</th>\n",
       "      <td>...</td>\n",
       "    </tr>\n",
       "    <tr>\n",
       "      <th>534</th>\n",
       "      <td>10</td>\n",
       "    </tr>\n",
       "    <tr>\n",
       "      <th>529</th>\n",
       "      <td>3</td>\n",
       "    </tr>\n",
       "    <tr>\n",
       "      <th>155</th>\n",
       "      <td>1</td>\n",
       "    </tr>\n",
       "    <tr>\n",
       "      <th>605</th>\n",
       "      <td>1</td>\n",
       "    </tr>\n",
       "    <tr>\n",
       "      <th>234</th>\n",
       "      <td>1</td>\n",
       "    </tr>\n",
       "  </tbody>\n",
       "</table>\n",
       "<p>160 rows × 1 columns</p>\n",
       "</div>"
      ],
      "text/plain": [
       "     CODIGO_ESTABLECIMIENTO\n",
       "113                   11528\n",
       "502                    7641\n",
       "226                    6328\n",
       "410                    5336\n",
       "114                    5029\n",
       "..                      ...\n",
       "534                      10\n",
       "529                       3\n",
       "155                       1\n",
       "605                       1\n",
       "234                       1\n",
       "\n",
       "[160 rows x 1 columns]"
      ]
     },
     "execution_count": 109,
     "metadata": {},
     "output_type": "execute_result"
    }
   ],
   "source": [
    "data['CODIGO_ESTABLECIMIENTO'].value_counts().to_frame()"
   ]
  },
  {
   "cell_type": "code",
   "execution_count": 110,
   "metadata": {
    "ExecuteTime": {
     "end_time": "2020-06-19T02:40:06.727000Z",
     "start_time": "2020-06-19T02:40:06.686870Z"
    },
    "scrolled": true
   },
   "outputs": [],
   "source": [
    "data['CODIGO_ESTABLECIMIENTO'] = data['CODIGO_ESTABLECIMIENTO'].astype(int)"
   ]
  },
  {
   "cell_type": "markdown",
   "metadata": {},
   "source": [
    "### Establecimiento"
   ]
  },
  {
   "cell_type": "code",
   "execution_count": 111,
   "metadata": {
    "ExecuteTime": {
     "end_time": "2020-06-19T02:40:07.765954Z",
     "start_time": "2020-06-19T02:40:07.756891Z"
    }
   },
   "outputs": [
    {
     "data": {
      "text/plain": [
       "0"
      ]
     },
     "execution_count": 111,
     "metadata": {},
     "output_type": "execute_result"
    }
   ],
   "source": [
    "data['ESTABLECIMIENTO'].isnull().sum()"
   ]
  },
  {
   "cell_type": "code",
   "execution_count": 112,
   "metadata": {
    "ExecuteTime": {
     "end_time": "2020-06-19T02:40:08.320624Z",
     "start_time": "2020-06-19T02:40:08.308860Z"
    }
   },
   "outputs": [
    {
     "data": {
      "text/plain": [
       "(160,)"
      ]
     },
     "execution_count": 112,
     "metadata": {},
     "output_type": "execute_result"
    }
   ],
   "source": [
    "data['ESTABLECIMIENTO'].unique().shape"
   ]
  },
  {
   "cell_type": "code",
   "execution_count": 113,
   "metadata": {
    "ExecuteTime": {
     "end_time": "2020-06-19T02:40:08.497917Z",
     "start_time": "2020-06-19T02:40:08.481982Z"
    }
   },
   "outputs": [
    {
     "data": {
      "text/html": [
       "<div>\n",
       "<style scoped>\n",
       "    .dataframe tbody tr th:only-of-type {\n",
       "        vertical-align: middle;\n",
       "    }\n",
       "\n",
       "    .dataframe tbody tr th {\n",
       "        vertical-align: top;\n",
       "    }\n",
       "\n",
       "    .dataframe thead th {\n",
       "        text-align: right;\n",
       "    }\n",
       "</style>\n",
       "<table border=\"1\" class=\"dataframe\">\n",
       "  <thead>\n",
       "    <tr style=\"text-align: right;\">\n",
       "      <th></th>\n",
       "      <th>ESTABLECIMIENTO</th>\n",
       "    </tr>\n",
       "  </thead>\n",
       "  <tbody>\n",
       "    <tr>\n",
       "      <th>COMPLEJO CARCELARIO Y PENITENCIARIO METROPOLITANO DE BOGOTA</th>\n",
       "      <td>11528</td>\n",
       "    </tr>\n",
       "    <tr>\n",
       "      <th>EPMSC MEDELLIN</th>\n",
       "      <td>7641</td>\n",
       "    </tr>\n",
       "    <tr>\n",
       "      <th>EPMSC CALI (ERE)</th>\n",
       "      <td>6328</td>\n",
       "    </tr>\n",
       "    <tr>\n",
       "      <th>CPMS BUCARAMANGA (ERE)</th>\n",
       "      <td>5336</td>\n",
       "    </tr>\n",
       "    <tr>\n",
       "      <th>EC BOGOTA</th>\n",
       "      <td>5029</td>\n",
       "    </tr>\n",
       "    <tr>\n",
       "      <th>...</th>\n",
       "      <td>...</td>\n",
       "    </tr>\n",
       "    <tr>\n",
       "      <th>EC PEDREGAL MEDELLIN</th>\n",
       "      <td>10</td>\n",
       "    </tr>\n",
       "    <tr>\n",
       "      <th>RM MEDELLIN</th>\n",
       "      <td>3</td>\n",
       "    </tr>\n",
       "    <tr>\n",
       "      <th>EPMSC MANZANARES</th>\n",
       "      <td>1</td>\n",
       "    </tr>\n",
       "    <tr>\n",
       "      <th>RM GUAMO</th>\n",
       "      <td>1</td>\n",
       "    </tr>\n",
       "    <tr>\n",
       "      <th>RM CALI</th>\n",
       "      <td>1</td>\n",
       "    </tr>\n",
       "  </tbody>\n",
       "</table>\n",
       "<p>160 rows × 1 columns</p>\n",
       "</div>"
      ],
      "text/plain": [
       "                                                    ESTABLECIMIENTO\n",
       "COMPLEJO CARCELARIO Y PENITENCIARIO METROPOLITA...            11528\n",
       "EPMSC MEDELLIN                                                 7641\n",
       "EPMSC CALI (ERE)                                               6328\n",
       "CPMS BUCARAMANGA (ERE)                                         5336\n",
       "EC BOGOTA                                                      5029\n",
       "...                                                             ...\n",
       "EC PEDREGAL MEDELLIN                                             10\n",
       "RM MEDELLIN                                                       3\n",
       "EPMSC MANZANARES                                                  1\n",
       "RM GUAMO                                                          1\n",
       "RM CALI                                                           1\n",
       "\n",
       "[160 rows x 1 columns]"
      ]
     },
     "execution_count": 113,
     "metadata": {},
     "output_type": "execute_result"
    }
   ],
   "source": [
    "data['ESTABLECIMIENTO'].value_counts().to_frame()"
   ]
  },
  {
   "cell_type": "code",
   "execution_count": 114,
   "metadata": {
    "ExecuteTime": {
     "end_time": "2020-06-19T02:40:09.080953Z",
     "start_time": "2020-06-19T02:40:08.636777Z"
    }
   },
   "outputs": [
    {
     "data": {
      "text/plain": [
       "(160,)"
      ]
     },
     "execution_count": 114,
     "metadata": {},
     "output_type": "execute_result"
    }
   ],
   "source": [
    "data['ESTABLECIMIENTO'] = data['ESTABLECIMIENTO'].apply(lambda x: ' '.join(unidecode.unidecode(re.sub(r'[^\\w]', ' ',str(x)).lower()).split()))\n",
    "data['ESTABLECIMIENTO'] = data['ESTABLECIMIENTO'].astype('category')\n",
    "data['ESTABLECIMIENTO'].unique().shape"
   ]
  },
  {
   "cell_type": "markdown",
   "metadata": {},
   "source": [
    "### Depto Establecimiento - has Nan"
   ]
  },
  {
   "cell_type": "code",
   "execution_count": 115,
   "metadata": {
    "ExecuteTime": {
     "end_time": "2020-06-19T02:40:13.561087Z",
     "start_time": "2020-06-19T02:40:13.549357Z"
    }
   },
   "outputs": [
    {
     "data": {
      "text/plain": [
       "2791"
      ]
     },
     "execution_count": 115,
     "metadata": {},
     "output_type": "execute_result"
    }
   ],
   "source": [
    "data['DEPTO_ESTABLECIMIENTO'].isnull().sum()"
   ]
  },
  {
   "cell_type": "code",
   "execution_count": 116,
   "metadata": {
    "ExecuteTime": {
     "end_time": "2020-06-19T02:40:13.955888Z",
     "start_time": "2020-06-19T02:40:13.947871Z"
    }
   },
   "outputs": [
    {
     "data": {
      "text/plain": [
       "(30,)"
      ]
     },
     "execution_count": 116,
     "metadata": {},
     "output_type": "execute_result"
    }
   ],
   "source": [
    "data['DEPTO_ESTABLECIMIENTO'].unique().shape"
   ]
  },
  {
   "cell_type": "code",
   "execution_count": 117,
   "metadata": {
    "ExecuteTime": {
     "end_time": "2020-06-19T02:40:14.656765Z",
     "start_time": "2020-06-19T02:40:14.641908Z"
    },
    "scrolled": true
   },
   "outputs": [
    {
     "data": {
      "text/html": [
       "<div>\n",
       "<style scoped>\n",
       "    .dataframe tbody tr th:only-of-type {\n",
       "        vertical-align: middle;\n",
       "    }\n",
       "\n",
       "    .dataframe tbody tr th {\n",
       "        vertical-align: top;\n",
       "    }\n",
       "\n",
       "    .dataframe thead th {\n",
       "        text-align: right;\n",
       "    }\n",
       "</style>\n",
       "<table border=\"1\" class=\"dataframe\">\n",
       "  <thead>\n",
       "    <tr style=\"text-align: right;\">\n",
       "      <th></th>\n",
       "      <th>DEPTO_ESTABLECIMIENTO</th>\n",
       "    </tr>\n",
       "  </thead>\n",
       "  <tbody>\n",
       "    <tr>\n",
       "      <th>BOGOTA D.C.</th>\n",
       "      <td>19008</td>\n",
       "    </tr>\n",
       "    <tr>\n",
       "      <th>ANTIOQUIA</th>\n",
       "      <td>18591</td>\n",
       "    </tr>\n",
       "    <tr>\n",
       "      <th>VALLE DEL CAUCA</th>\n",
       "      <td>17346</td>\n",
       "    </tr>\n",
       "    <tr>\n",
       "      <th>SANTANDER</th>\n",
       "      <td>9274</td>\n",
       "    </tr>\n",
       "    <tr>\n",
       "      <th>META</th>\n",
       "      <td>7996</td>\n",
       "    </tr>\n",
       "    <tr>\n",
       "      <th>BOYACA</th>\n",
       "      <td>7287</td>\n",
       "    </tr>\n",
       "    <tr>\n",
       "      <th>TOLIMA</th>\n",
       "      <td>6006</td>\n",
       "    </tr>\n",
       "    <tr>\n",
       "      <th>CUNDINAMARCA</th>\n",
       "      <td>5767</td>\n",
       "    </tr>\n",
       "    <tr>\n",
       "      <th>CALDAS</th>\n",
       "      <td>5296</td>\n",
       "    </tr>\n",
       "    <tr>\n",
       "      <th>HUILA</th>\n",
       "      <td>5192</td>\n",
       "    </tr>\n",
       "    <tr>\n",
       "      <th>CAUCA</th>\n",
       "      <td>4657</td>\n",
       "    </tr>\n",
       "    <tr>\n",
       "      <th>NORTE DE SANTANDER</th>\n",
       "      <td>4421</td>\n",
       "    </tr>\n",
       "    <tr>\n",
       "      <th>NARIÑO</th>\n",
       "      <td>4156</td>\n",
       "    </tr>\n",
       "    <tr>\n",
       "      <th>RISARALDA</th>\n",
       "      <td>3215</td>\n",
       "    </tr>\n",
       "    <tr>\n",
       "      <th>CORDOBA</th>\n",
       "      <td>3045</td>\n",
       "    </tr>\n",
       "    <tr>\n",
       "      <th>QUINDIO</th>\n",
       "      <td>2604</td>\n",
       "    </tr>\n",
       "    <tr>\n",
       "      <th>ATLANTICO</th>\n",
       "      <td>2564</td>\n",
       "    </tr>\n",
       "    <tr>\n",
       "      <th>CAQUETA</th>\n",
       "      <td>2285</td>\n",
       "    </tr>\n",
       "    <tr>\n",
       "      <th>CESAR</th>\n",
       "      <td>2113</td>\n",
       "    </tr>\n",
       "    <tr>\n",
       "      <th>BOLIVAR</th>\n",
       "      <td>1931</td>\n",
       "    </tr>\n",
       "    <tr>\n",
       "      <th>CASANARE</th>\n",
       "      <td>1841</td>\n",
       "    </tr>\n",
       "    <tr>\n",
       "      <th>SUCRE</th>\n",
       "      <td>1472</td>\n",
       "    </tr>\n",
       "    <tr>\n",
       "      <th>MAGDALENA</th>\n",
       "      <td>1452</td>\n",
       "    </tr>\n",
       "    <tr>\n",
       "      <th>CHOCO</th>\n",
       "      <td>641</td>\n",
       "    </tr>\n",
       "    <tr>\n",
       "      <th>ARAUCA</th>\n",
       "      <td>513</td>\n",
       "    </tr>\n",
       "    <tr>\n",
       "      <th>LA GUAJIRA</th>\n",
       "      <td>456</td>\n",
       "    </tr>\n",
       "    <tr>\n",
       "      <th>PUTUMAYO</th>\n",
       "      <td>378</td>\n",
       "    </tr>\n",
       "    <tr>\n",
       "      <th>AMAZONAS</th>\n",
       "      <td>349</td>\n",
       "    </tr>\n",
       "    <tr>\n",
       "      <th>SAN ANDRES Y PROVIDENCIA</th>\n",
       "      <td>252</td>\n",
       "    </tr>\n",
       "  </tbody>\n",
       "</table>\n",
       "</div>"
      ],
      "text/plain": [
       "                          DEPTO_ESTABLECIMIENTO\n",
       "BOGOTA D.C.                               19008\n",
       "ANTIOQUIA                                 18591\n",
       "VALLE DEL CAUCA                           17346\n",
       "SANTANDER                                  9274\n",
       "META                                       7996\n",
       "BOYACA                                     7287\n",
       "TOLIMA                                     6006\n",
       "CUNDINAMARCA                               5767\n",
       "CALDAS                                     5296\n",
       "HUILA                                      5192\n",
       "CAUCA                                      4657\n",
       "NORTE DE SANTANDER                         4421\n",
       "NARIÑO                                     4156\n",
       "RISARALDA                                  3215\n",
       "CORDOBA                                    3045\n",
       "QUINDIO                                    2604\n",
       "ATLANTICO                                  2564\n",
       "CAQUETA                                    2285\n",
       "CESAR                                      2113\n",
       "BOLIVAR                                    1931\n",
       "CASANARE                                   1841\n",
       "SUCRE                                      1472\n",
       "MAGDALENA                                  1452\n",
       "CHOCO                                       641\n",
       "ARAUCA                                      513\n",
       "LA GUAJIRA                                  456\n",
       "PUTUMAYO                                    378\n",
       "AMAZONAS                                    349\n",
       "SAN ANDRES Y PROVIDENCIA                    252"
      ]
     },
     "execution_count": 117,
     "metadata": {},
     "output_type": "execute_result"
    }
   ],
   "source": [
    "data['DEPTO_ESTABLECIMIENTO'].value_counts().to_frame()"
   ]
  },
  {
   "cell_type": "markdown",
   "metadata": {},
   "source": [
    "Making the data categorical but leaving the nan values to try and recover some data"
   ]
  },
  {
   "cell_type": "code",
   "execution_count": 165,
   "metadata": {
    "ExecuteTime": {
     "end_time": "2020-06-19T02:30:24.990426Z",
     "start_time": "2020-06-19T02:30:24.919961Z"
    }
   },
   "outputs": [],
   "source": [
    "data['DEPTO_ESTABLECIMIENTO'] = data['DEPTO_ESTABLECIMIENTO'].astype('category')\n",
    "data['DEPTO_ESTABLECIMIENTO'] = data['DEPTO_ESTABLECIMIENTO'].cat.codes.replace(-1, np.nan)"
   ]
  },
  {
   "cell_type": "markdown",
   "metadata": {},
   "source": [
    "Trying to fill the nan data with another rows from the same Intern, it seems that there no neighbors to use and recover. I got the same empty information when groupying with fecha_ingreso too. If i group just by INTERNOEN i can recover almost 1000 missing values, which i think belong to the same person being captured in different departamentos in colombia at different times"
   ]
  },
  {
   "cell_type": "code",
   "execution_count": 167,
   "metadata": {
    "ExecuteTime": {
     "end_time": "2020-06-19T02:32:01.225153Z",
     "start_time": "2020-06-19T02:31:29.029432Z"
    }
   },
   "outputs": [
    {
     "data": {
      "text/plain": [
       "2791"
      ]
     },
     "execution_count": 167,
     "metadata": {},
     "output_type": "execute_result"
    }
   ],
   "source": [
    "data.groupby(['INTERNOEN', 'FECHA_INGRESO'])['DEPTO_ESTABLECIMIENTO'].transform(lambda x: x.interpolate(limit_direction='both')).isnull().sum()"
   ]
  },
  {
   "cell_type": "markdown",
   "metadata": {},
   "source": [
    "### Mun Establecimiento - has Nan"
   ]
  },
  {
   "cell_type": "code",
   "execution_count": 119,
   "metadata": {
    "ExecuteTime": {
     "end_time": "2020-06-19T02:40:19.095831Z",
     "start_time": "2020-06-19T02:40:19.085901Z"
    }
   },
   "outputs": [
    {
     "data": {
      "text/plain": [
       "2791"
      ]
     },
     "execution_count": 119,
     "metadata": {},
     "output_type": "execute_result"
    }
   ],
   "source": [
    "data['MPIO_ESTABLECIMIENTO'].isnull().sum()"
   ]
  },
  {
   "cell_type": "code",
   "execution_count": 120,
   "metadata": {
    "ExecuteTime": {
     "end_time": "2020-06-19T02:40:19.308987Z",
     "start_time": "2020-06-19T02:40:19.301301Z"
    }
   },
   "outputs": [
    {
     "data": {
      "text/plain": [
       "(123,)"
      ]
     },
     "execution_count": 120,
     "metadata": {},
     "output_type": "execute_result"
    }
   ],
   "source": [
    "data['MPIO_ESTABLECIMIENTO'].unique().shape"
   ]
  },
  {
   "cell_type": "code",
   "execution_count": 121,
   "metadata": {
    "ExecuteTime": {
     "end_time": "2020-06-19T02:40:20.113741Z",
     "start_time": "2020-06-19T02:40:20.085546Z"
    }
   },
   "outputs": [
    {
     "data": {
      "text/html": [
       "<div>\n",
       "<style scoped>\n",
       "    .dataframe tbody tr th:only-of-type {\n",
       "        vertical-align: middle;\n",
       "    }\n",
       "\n",
       "    .dataframe tbody tr th {\n",
       "        vertical-align: top;\n",
       "    }\n",
       "\n",
       "    .dataframe thead th {\n",
       "        text-align: right;\n",
       "    }\n",
       "</style>\n",
       "<table border=\"1\" class=\"dataframe\">\n",
       "  <thead>\n",
       "    <tr style=\"text-align: right;\">\n",
       "      <th></th>\n",
       "      <th>MPIO_ESTABLECIMIENTO</th>\n",
       "    </tr>\n",
       "  </thead>\n",
       "  <tbody>\n",
       "    <tr>\n",
       "      <th>BOGOTA D.C.</th>\n",
       "      <td>19008</td>\n",
       "    </tr>\n",
       "    <tr>\n",
       "      <th>MEDELLIN</th>\n",
       "      <td>10815</td>\n",
       "    </tr>\n",
       "    <tr>\n",
       "      <th>SANTIAGO DE CALI</th>\n",
       "      <td>6328</td>\n",
       "    </tr>\n",
       "    <tr>\n",
       "      <th>BUCARAMANGA</th>\n",
       "      <td>5919</td>\n",
       "    </tr>\n",
       "    <tr>\n",
       "      <th>ACACIAS</th>\n",
       "      <td>5465</td>\n",
       "    </tr>\n",
       "    <tr>\n",
       "      <th>...</th>\n",
       "      <td>...</td>\n",
       "    </tr>\n",
       "    <tr>\n",
       "      <th>MALAGA</th>\n",
       "      <td>82</td>\n",
       "    </tr>\n",
       "    <tr>\n",
       "      <th>SABANALARGA</th>\n",
       "      <td>68</td>\n",
       "    </tr>\n",
       "    <tr>\n",
       "      <th>SANTAFE DE ANTIOQUIA</th>\n",
       "      <td>65</td>\n",
       "    </tr>\n",
       "    <tr>\n",
       "      <th>SAN VICENTE DE CHUCURI</th>\n",
       "      <td>64</td>\n",
       "    </tr>\n",
       "    <tr>\n",
       "      <th>COROZAL</th>\n",
       "      <td>29</td>\n",
       "    </tr>\n",
       "  </tbody>\n",
       "</table>\n",
       "<p>122 rows × 1 columns</p>\n",
       "</div>"
      ],
      "text/plain": [
       "                        MPIO_ESTABLECIMIENTO\n",
       "BOGOTA D.C.                            19008\n",
       "MEDELLIN                               10815\n",
       "SANTIAGO DE CALI                        6328\n",
       "BUCARAMANGA                             5919\n",
       "ACACIAS                                 5465\n",
       "...                                      ...\n",
       "MALAGA                                    82\n",
       "SABANALARGA                               68\n",
       "SANTAFE DE ANTIOQUIA                      65\n",
       "SAN VICENTE DE CHUCURI                    64\n",
       "COROZAL                                   29\n",
       "\n",
       "[122 rows x 1 columns]"
      ]
     },
     "execution_count": 121,
     "metadata": {},
     "output_type": "execute_result"
    }
   ],
   "source": [
    "data['MPIO_ESTABLECIMIENTO'].value_counts().to_frame()"
   ]
  },
  {
   "cell_type": "markdown",
   "metadata": {},
   "source": [
    "Making the data categorical but leaving the nan values to try and recover some data"
   ]
  },
  {
   "cell_type": "code",
   "execution_count": 169,
   "metadata": {
    "ExecuteTime": {
     "end_time": "2020-06-19T02:33:22.373386Z",
     "start_time": "2020-06-19T02:33:22.294329Z"
    }
   },
   "outputs": [],
   "source": [
    "data['MPIO_ESTABLECIMIENTO'] = data['MPIO_ESTABLECIMIENTO'].astype('category')\n",
    "data['MPIO_ESTABLECIMIENTO'] = data['MPIO_ESTABLECIMIENTO'].cat.codes.replace(-1, np.nan)"
   ]
  },
  {
   "cell_type": "markdown",
   "metadata": {
    "ExecuteTime": {
     "end_time": "2020-06-19T02:33:18.762971Z",
     "start_time": "2020-06-19T02:33:18.757274Z"
    }
   },
   "source": [
    "Trying to fill the nan data with another rows from the same Intern, it seems that there no neighbors to use and recover. I got the same nan information when groupying with fecha_ingreso too. If i group just by INTERNOEN i can recover almost 1000 missing values, which i think belong to the same person being captured in different departamentos in colombia at different times"
   ]
  },
  {
   "cell_type": "code",
   "execution_count": 171,
   "metadata": {
    "ExecuteTime": {
     "end_time": "2020-06-19T02:35:09.529108Z",
     "start_time": "2020-06-19T02:34:45.694738Z"
    }
   },
   "outputs": [
    {
     "data": {
      "text/plain": [
       "1782"
      ]
     },
     "execution_count": 171,
     "metadata": {},
     "output_type": "execute_result"
    }
   ],
   "source": [
    "data.groupby(['INTERNOEN'])['MPIO_ESTABLECIMIENTO'].transform(lambda x: x.interpolate(limit_direction='both')).isnull().sum()"
   ]
  },
  {
   "cell_type": "markdown",
   "metadata": {},
   "source": [
    "### Regional"
   ]
  },
  {
   "cell_type": "code",
   "execution_count": 122,
   "metadata": {
    "ExecuteTime": {
     "end_time": "2020-06-19T02:40:27.683737Z",
     "start_time": "2020-06-19T02:40:27.676502Z"
    }
   },
   "outputs": [
    {
     "data": {
      "text/plain": [
       "0"
      ]
     },
     "execution_count": 122,
     "metadata": {},
     "output_type": "execute_result"
    }
   ],
   "source": [
    "data['REGIONAL'].isnull().sum()"
   ]
  },
  {
   "cell_type": "code",
   "execution_count": 123,
   "metadata": {
    "ExecuteTime": {
     "end_time": "2020-06-19T02:40:27.875960Z",
     "start_time": "2020-06-19T02:40:27.867355Z"
    }
   },
   "outputs": [
    {
     "data": {
      "text/plain": [
       "(6,)"
      ]
     },
     "execution_count": 123,
     "metadata": {},
     "output_type": "execute_result"
    }
   ],
   "source": [
    "data['REGIONAL'].unique().shape"
   ]
  },
  {
   "cell_type": "code",
   "execution_count": 124,
   "metadata": {
    "ExecuteTime": {
     "end_time": "2020-06-19T02:40:28.091522Z",
     "start_time": "2020-06-19T02:40:28.071219Z"
    }
   },
   "outputs": [
    {
     "data": {
      "text/html": [
       "<div>\n",
       "<style scoped>\n",
       "    .dataframe tbody tr th:only-of-type {\n",
       "        vertical-align: middle;\n",
       "    }\n",
       "\n",
       "    .dataframe tbody tr th {\n",
       "        vertical-align: top;\n",
       "    }\n",
       "\n",
       "    .dataframe thead th {\n",
       "        text-align: right;\n",
       "    }\n",
       "</style>\n",
       "<table border=\"1\" class=\"dataframe\">\n",
       "  <thead>\n",
       "    <tr style=\"text-align: right;\">\n",
       "      <th></th>\n",
       "      <th>REGIONAL</th>\n",
       "    </tr>\n",
       "  </thead>\n",
       "  <tbody>\n",
       "    <tr>\n",
       "      <th>CENTRAL</th>\n",
       "      <td>51092</td>\n",
       "    </tr>\n",
       "    <tr>\n",
       "      <th>OCCIDENTE</th>\n",
       "      <td>27146</td>\n",
       "    </tr>\n",
       "    <tr>\n",
       "      <th>NOROESTE</th>\n",
       "      <td>19287</td>\n",
       "    </tr>\n",
       "    <tr>\n",
       "      <th>VIEJO CALDAS</th>\n",
       "      <td>17459</td>\n",
       "    </tr>\n",
       "    <tr>\n",
       "      <th>ORIENTE</th>\n",
       "      <td>14830</td>\n",
       "    </tr>\n",
       "    <tr>\n",
       "      <th>NORTE</th>\n",
       "      <td>13085</td>\n",
       "    </tr>\n",
       "  </tbody>\n",
       "</table>\n",
       "</div>"
      ],
      "text/plain": [
       "              REGIONAL\n",
       "CENTRAL          51092\n",
       "OCCIDENTE        27146\n",
       "NOROESTE         19287\n",
       "VIEJO CALDAS     17459\n",
       "ORIENTE          14830\n",
       "NORTE            13085"
      ]
     },
     "execution_count": 124,
     "metadata": {},
     "output_type": "execute_result"
    }
   ],
   "source": [
    "data['REGIONAL'].value_counts().to_frame()"
   ]
  },
  {
   "cell_type": "code",
   "execution_count": 125,
   "metadata": {
    "ExecuteTime": {
     "end_time": "2020-06-19T02:40:30.039248Z",
     "start_time": "2020-06-19T02:40:30.002840Z"
    }
   },
   "outputs": [],
   "source": [
    "data['REGIONAL'] = data['REGIONAL'].astype('category')"
   ]
  },
  {
   "cell_type": "markdown",
   "metadata": {},
   "source": [
    "### Estado"
   ]
  },
  {
   "cell_type": "code",
   "execution_count": 126,
   "metadata": {
    "ExecuteTime": {
     "end_time": "2020-06-19T02:40:31.260621Z",
     "start_time": "2020-06-19T02:40:31.251003Z"
    }
   },
   "outputs": [
    {
     "data": {
      "text/plain": [
       "0"
      ]
     },
     "execution_count": 126,
     "metadata": {},
     "output_type": "execute_result"
    }
   ],
   "source": [
    "data['ESTADO'].isnull().sum()"
   ]
  },
  {
   "cell_type": "code",
   "execution_count": 127,
   "metadata": {
    "ExecuteTime": {
     "end_time": "2020-06-19T02:40:31.432360Z",
     "start_time": "2020-06-19T02:40:31.423092Z"
    }
   },
   "outputs": [
    {
     "data": {
      "text/plain": [
       "(2,)"
      ]
     },
     "execution_count": 127,
     "metadata": {},
     "output_type": "execute_result"
    }
   ],
   "source": [
    "data['ESTADO'].unique().shape"
   ]
  },
  {
   "cell_type": "code",
   "execution_count": 128,
   "metadata": {
    "ExecuteTime": {
     "end_time": "2020-06-19T02:40:31.610649Z",
     "start_time": "2020-06-19T02:40:31.595594Z"
    }
   },
   "outputs": [
    {
     "data": {
      "text/html": [
       "<div>\n",
       "<style scoped>\n",
       "    .dataframe tbody tr th:only-of-type {\n",
       "        vertical-align: middle;\n",
       "    }\n",
       "\n",
       "    .dataframe tbody tr th {\n",
       "        vertical-align: top;\n",
       "    }\n",
       "\n",
       "    .dataframe thead th {\n",
       "        text-align: right;\n",
       "    }\n",
       "</style>\n",
       "<table border=\"1\" class=\"dataframe\">\n",
       "  <thead>\n",
       "    <tr style=\"text-align: right;\">\n",
       "      <th></th>\n",
       "      <th>ESTADO</th>\n",
       "    </tr>\n",
       "  </thead>\n",
       "  <tbody>\n",
       "    <tr>\n",
       "      <th>Baja</th>\n",
       "      <td>96002</td>\n",
       "    </tr>\n",
       "    <tr>\n",
       "      <th>Activo</th>\n",
       "      <td>46897</td>\n",
       "    </tr>\n",
       "  </tbody>\n",
       "</table>\n",
       "</div>"
      ],
      "text/plain": [
       "        ESTADO\n",
       "Baja     96002\n",
       "Activo   46897"
      ]
     },
     "execution_count": 128,
     "metadata": {},
     "output_type": "execute_result"
    }
   ],
   "source": [
    "data['ESTADO'].value_counts().to_frame()"
   ]
  },
  {
   "cell_type": "code",
   "execution_count": 129,
   "metadata": {
    "ExecuteTime": {
     "end_time": "2020-06-19T02:40:32.331327Z",
     "start_time": "2020-06-19T02:40:32.302127Z"
    }
   },
   "outputs": [],
   "source": [
    "data['ESTADO'] = data['ESTADO'].astype('category')"
   ]
  },
  {
   "cell_type": "markdown",
   "metadata": {},
   "source": [
    "### Empty"
   ]
  },
  {
   "cell_type": "code",
   "execution_count": 132,
   "metadata": {
    "ExecuteTime": {
     "end_time": "2020-06-19T02:41:12.920386Z",
     "start_time": "2020-06-19T02:41:12.858040Z"
    },
    "scrolled": true
   },
   "outputs": [
    {
     "name": "stdout",
     "output_type": "stream",
     "text": [
      "<class 'pandas.core.frame.DataFrame'>\n",
      "RangeIndex: 142899 entries, 6 to 142904\n",
      "Data columns (total 32 columns):\n",
      " #   Column                  Non-Null Count   Dtype         \n",
      "---  ------                  --------------   -----         \n",
      " 0   INTERNOEN               142899 non-null  object        \n",
      " 1   DELITO                  142899 non-null  category      \n",
      " 2   TITULO_DELITO           142899 non-null  category      \n",
      " 3   SUBTITULO_DELITO        142899 non-null  category      \n",
      " 4   TENTATIVA               142899 non-null  category      \n",
      " 5   AGRAVADO                142899 non-null  category      \n",
      " 6   CALIFICADO              142899 non-null  category      \n",
      " 7   FECHA_INGRESO           142899 non-null  datetime64[ns]\n",
      " 8   FECHA_SALIDA            96345 non-null   datetime64[ns]\n",
      " 9   FECHA_CAPTURA           142899 non-null  datetime64[ns]\n",
      " 10  SITUACION_JURIDICA      142899 non-null  category      \n",
      " 11  ANO_NACIMIENTO          142899 non-null  int64         \n",
      " 12  EDAD                    142899 non-null  int64         \n",
      " 13  GENERO                  142899 non-null  category      \n",
      " 14  ESTADO_CIVIL            62810 non-null   object        \n",
      " 15  PAIS_INTERNO            139737 non-null  object        \n",
      " 16  DEPARTAMENTO            142892 non-null  object        \n",
      " 17  CIUDAD                  142899 non-null  object        \n",
      " 18  REINCIDENTE             142899 non-null  category      \n",
      " 19  ESTADO_INGRESO          142869 non-null  object        \n",
      " 20  ACTIVIDADES_TRABAJO     142899 non-null  category      \n",
      " 21  ACTIVIDADES_ESTUDIO     142899 non-null  category      \n",
      " 22  ACTIVIDADES_ENSEÑANZA   142899 non-null  category      \n",
      " 23  NIVEL_EDUCATIVO         142899 non-null  category      \n",
      " 24  HIJOS_MENORES           142899 non-null  category      \n",
      " 25  CONDIC_EXPECIONAL       142899 non-null  category      \n",
      " 26  CODIGO_ESTABLECIMIENTO  142899 non-null  int64         \n",
      " 27  ESTABLECIMIENTO         142899 non-null  category      \n",
      " 28  DEPTO_ESTABLECIMIENTO   140108 non-null  object        \n",
      " 29  MPIO_ESTABLECIMIENTO    140108 non-null  object        \n",
      " 30  REGIONAL                142899 non-null  category      \n",
      " 31  ESTADO                  142899 non-null  category      \n",
      "dtypes: category(18), datetime64[ns](3), int64(3), object(8)\n",
      "memory usage: 18.0+ MB\n"
     ]
    }
   ],
   "source": [
    "data.info()"
   ]
  },
  {
   "cell_type": "code",
   "execution_count": 133,
   "metadata": {
    "ExecuteTime": {
     "end_time": "2020-06-19T02:41:31.230169Z",
     "start_time": "2020-06-19T02:41:31.173621Z"
    }
   },
   "outputs": [
    {
     "data": {
      "text/html": [
       "<div>\n",
       "<style scoped>\n",
       "    .dataframe tbody tr th:only-of-type {\n",
       "        vertical-align: middle;\n",
       "    }\n",
       "\n",
       "    .dataframe tbody tr th {\n",
       "        vertical-align: top;\n",
       "    }\n",
       "\n",
       "    .dataframe thead th {\n",
       "        text-align: right;\n",
       "    }\n",
       "</style>\n",
       "<table border=\"1\" class=\"dataframe\">\n",
       "  <thead>\n",
       "    <tr style=\"text-align: right;\">\n",
       "      <th></th>\n",
       "      <th>num</th>\n",
       "      <th>total</th>\n",
       "      <th>%</th>\n",
       "    </tr>\n",
       "  </thead>\n",
       "  <tbody>\n",
       "    <tr>\n",
       "      <th>ESTADO_CIVIL</th>\n",
       "      <td>80089</td>\n",
       "      <td>142899</td>\n",
       "      <td>56.045879</td>\n",
       "    </tr>\n",
       "    <tr>\n",
       "      <th>FECHA_SALIDA</th>\n",
       "      <td>46554</td>\n",
       "      <td>142899</td>\n",
       "      <td>32.578255</td>\n",
       "    </tr>\n",
       "    <tr>\n",
       "      <th>PAIS_INTERNO</th>\n",
       "      <td>3162</td>\n",
       "      <td>142899</td>\n",
       "      <td>2.212752</td>\n",
       "    </tr>\n",
       "    <tr>\n",
       "      <th>MPIO_ESTABLECIMIENTO</th>\n",
       "      <td>2791</td>\n",
       "      <td>142899</td>\n",
       "      <td>1.953128</td>\n",
       "    </tr>\n",
       "    <tr>\n",
       "      <th>DEPTO_ESTABLECIMIENTO</th>\n",
       "      <td>2791</td>\n",
       "      <td>142899</td>\n",
       "      <td>1.953128</td>\n",
       "    </tr>\n",
       "    <tr>\n",
       "      <th>ESTADO_INGRESO</th>\n",
       "      <td>30</td>\n",
       "      <td>142899</td>\n",
       "      <td>0.020994</td>\n",
       "    </tr>\n",
       "    <tr>\n",
       "      <th>DEPARTAMENTO</th>\n",
       "      <td>7</td>\n",
       "      <td>142899</td>\n",
       "      <td>0.004899</td>\n",
       "    </tr>\n",
       "    <tr>\n",
       "      <th>CODIGO_ESTABLECIMIENTO</th>\n",
       "      <td>0</td>\n",
       "      <td>142899</td>\n",
       "      <td>0.000000</td>\n",
       "    </tr>\n",
       "    <tr>\n",
       "      <th>CONDIC_EXPECIONAL</th>\n",
       "      <td>0</td>\n",
       "      <td>142899</td>\n",
       "      <td>0.000000</td>\n",
       "    </tr>\n",
       "    <tr>\n",
       "      <th>REINCIDENTE</th>\n",
       "      <td>0</td>\n",
       "      <td>142899</td>\n",
       "      <td>0.000000</td>\n",
       "    </tr>\n",
       "    <tr>\n",
       "      <th>HIJOS_MENORES</th>\n",
       "      <td>0</td>\n",
       "      <td>142899</td>\n",
       "      <td>0.000000</td>\n",
       "    </tr>\n",
       "    <tr>\n",
       "      <th>NIVEL_EDUCATIVO</th>\n",
       "      <td>0</td>\n",
       "      <td>142899</td>\n",
       "      <td>0.000000</td>\n",
       "    </tr>\n",
       "    <tr>\n",
       "      <th>ACTIVIDADES_ENSEÑANZA</th>\n",
       "      <td>0</td>\n",
       "      <td>142899</td>\n",
       "      <td>0.000000</td>\n",
       "    </tr>\n",
       "    <tr>\n",
       "      <th>ACTIVIDADES_ESTUDIO</th>\n",
       "      <td>0</td>\n",
       "      <td>142899</td>\n",
       "      <td>0.000000</td>\n",
       "    </tr>\n",
       "    <tr>\n",
       "      <th>ACTIVIDADES_TRABAJO</th>\n",
       "      <td>0</td>\n",
       "      <td>142899</td>\n",
       "      <td>0.000000</td>\n",
       "    </tr>\n",
       "    <tr>\n",
       "      <th>ESTABLECIMIENTO</th>\n",
       "      <td>0</td>\n",
       "      <td>142899</td>\n",
       "      <td>0.000000</td>\n",
       "    </tr>\n",
       "    <tr>\n",
       "      <th>REGIONAL</th>\n",
       "      <td>0</td>\n",
       "      <td>142899</td>\n",
       "      <td>0.000000</td>\n",
       "    </tr>\n",
       "    <tr>\n",
       "      <th>INTERNOEN</th>\n",
       "      <td>0</td>\n",
       "      <td>142899</td>\n",
       "      <td>0.000000</td>\n",
       "    </tr>\n",
       "    <tr>\n",
       "      <th>CIUDAD</th>\n",
       "      <td>0</td>\n",
       "      <td>142899</td>\n",
       "      <td>0.000000</td>\n",
       "    </tr>\n",
       "    <tr>\n",
       "      <th>DELITO</th>\n",
       "      <td>0</td>\n",
       "      <td>142899</td>\n",
       "      <td>0.000000</td>\n",
       "    </tr>\n",
       "    <tr>\n",
       "      <th>GENERO</th>\n",
       "      <td>0</td>\n",
       "      <td>142899</td>\n",
       "      <td>0.000000</td>\n",
       "    </tr>\n",
       "    <tr>\n",
       "      <th>EDAD</th>\n",
       "      <td>0</td>\n",
       "      <td>142899</td>\n",
       "      <td>0.000000</td>\n",
       "    </tr>\n",
       "    <tr>\n",
       "      <th>ANO_NACIMIENTO</th>\n",
       "      <td>0</td>\n",
       "      <td>142899</td>\n",
       "      <td>0.000000</td>\n",
       "    </tr>\n",
       "    <tr>\n",
       "      <th>SITUACION_JURIDICA</th>\n",
       "      <td>0</td>\n",
       "      <td>142899</td>\n",
       "      <td>0.000000</td>\n",
       "    </tr>\n",
       "    <tr>\n",
       "      <th>FECHA_CAPTURA</th>\n",
       "      <td>0</td>\n",
       "      <td>142899</td>\n",
       "      <td>0.000000</td>\n",
       "    </tr>\n",
       "    <tr>\n",
       "      <th>FECHA_INGRESO</th>\n",
       "      <td>0</td>\n",
       "      <td>142899</td>\n",
       "      <td>0.000000</td>\n",
       "    </tr>\n",
       "    <tr>\n",
       "      <th>CALIFICADO</th>\n",
       "      <td>0</td>\n",
       "      <td>142899</td>\n",
       "      <td>0.000000</td>\n",
       "    </tr>\n",
       "    <tr>\n",
       "      <th>AGRAVADO</th>\n",
       "      <td>0</td>\n",
       "      <td>142899</td>\n",
       "      <td>0.000000</td>\n",
       "    </tr>\n",
       "    <tr>\n",
       "      <th>TENTATIVA</th>\n",
       "      <td>0</td>\n",
       "      <td>142899</td>\n",
       "      <td>0.000000</td>\n",
       "    </tr>\n",
       "    <tr>\n",
       "      <th>SUBTITULO_DELITO</th>\n",
       "      <td>0</td>\n",
       "      <td>142899</td>\n",
       "      <td>0.000000</td>\n",
       "    </tr>\n",
       "    <tr>\n",
       "      <th>TITULO_DELITO</th>\n",
       "      <td>0</td>\n",
       "      <td>142899</td>\n",
       "      <td>0.000000</td>\n",
       "    </tr>\n",
       "    <tr>\n",
       "      <th>ESTADO</th>\n",
       "      <td>0</td>\n",
       "      <td>142899</td>\n",
       "      <td>0.000000</td>\n",
       "    </tr>\n",
       "  </tbody>\n",
       "</table>\n",
       "</div>"
      ],
      "text/plain": [
       "                          num   total          %\n",
       "ESTADO_CIVIL            80089  142899  56.045879\n",
       "FECHA_SALIDA            46554  142899  32.578255\n",
       "PAIS_INTERNO             3162  142899   2.212752\n",
       "MPIO_ESTABLECIMIENTO     2791  142899   1.953128\n",
       "DEPTO_ESTABLECIMIENTO    2791  142899   1.953128\n",
       "ESTADO_INGRESO             30  142899   0.020994\n",
       "DEPARTAMENTO                7  142899   0.004899\n",
       "CODIGO_ESTABLECIMIENTO      0  142899   0.000000\n",
       "CONDIC_EXPECIONAL           0  142899   0.000000\n",
       "REINCIDENTE                 0  142899   0.000000\n",
       "HIJOS_MENORES               0  142899   0.000000\n",
       "NIVEL_EDUCATIVO             0  142899   0.000000\n",
       "ACTIVIDADES_ENSEÑANZA       0  142899   0.000000\n",
       "ACTIVIDADES_ESTUDIO         0  142899   0.000000\n",
       "ACTIVIDADES_TRABAJO         0  142899   0.000000\n",
       "ESTABLECIMIENTO             0  142899   0.000000\n",
       "REGIONAL                    0  142899   0.000000\n",
       "INTERNOEN                   0  142899   0.000000\n",
       "CIUDAD                      0  142899   0.000000\n",
       "DELITO                      0  142899   0.000000\n",
       "GENERO                      0  142899   0.000000\n",
       "EDAD                        0  142899   0.000000\n",
       "ANO_NACIMIENTO              0  142899   0.000000\n",
       "SITUACION_JURIDICA          0  142899   0.000000\n",
       "FECHA_CAPTURA               0  142899   0.000000\n",
       "FECHA_INGRESO               0  142899   0.000000\n",
       "CALIFICADO                  0  142899   0.000000\n",
       "AGRAVADO                    0  142899   0.000000\n",
       "TENTATIVA                   0  142899   0.000000\n",
       "SUBTITULO_DELITO            0  142899   0.000000\n",
       "TITULO_DELITO               0  142899   0.000000\n",
       "ESTADO                      0  142899   0.000000"
      ]
     },
     "execution_count": 133,
     "metadata": {},
     "output_type": "execute_result"
    }
   ],
   "source": [
    "vacios = data.isnull().sum().to_frame()\n",
    "vacios.columns = ['num']\n",
    "vacios['total'] = [len(data)]*len(vacios)\n",
    "vacios['%'] = 100*(vacios['num'] / vacios['total'])\n",
    "vacios = vacios.sort_values(by = '%', ascending = False)\n",
    "vacios"
   ]
  },
  {
   "cell_type": "markdown",
   "metadata": {},
   "source": [
    "## EDA"
   ]
  },
  {
   "cell_type": "markdown",
   "metadata": {},
   "source": [
    "### Number of Captures by Inmate"
   ]
  },
  {
   "cell_type": "code",
   "execution_count": 149,
   "metadata": {
    "ExecuteTime": {
     "end_time": "2020-06-19T02:49:48.411050Z",
     "start_time": "2020-06-19T02:49:48.282434Z"
    },
    "scrolled": true
   },
   "outputs": [],
   "source": [
    "number_captures_by_inmate = data.groupby(['INTERNOEN'])['FECHA_INGRESO'].nunique().value_counts() \\\n",
    "                            .reset_index().rename(columns = {'index': 'Unique Fecha Ingreso', \n",
    "                                                             'FECHA_INGRESO': 'Number of Inmates'})"
   ]
  },
  {
   "cell_type": "code",
   "execution_count": 153,
   "metadata": {
    "ExecuteTime": {
     "end_time": "2020-06-19T02:54:21.484987Z",
     "start_time": "2020-06-19T02:54:21.443119Z"
    }
   },
   "outputs": [
    {
     "data": {
      "text/html": [
       "<div>\n",
       "        \n",
       "        \n",
       "            <div id=\"3e1f3bed-40a0-4d5e-99d5-9ce068dfb5c9\" class=\"plotly-graph-div\" style=\"height:525px; width:100%;\"></div>\n",
       "            <script type=\"text/javascript\">\n",
       "                require([\"plotly\"], function(Plotly) {\n",
       "                    window.PLOTLYENV=window.PLOTLYENV || {};\n",
       "                    \n",
       "                if (document.getElementById(\"3e1f3bed-40a0-4d5e-99d5-9ce068dfb5c9\")) {\n",
       "                    Plotly.newPlot(\n",
       "                        '3e1f3bed-40a0-4d5e-99d5-9ce068dfb5c9',\n",
       "                        [{\"alignmentgroup\": \"True\", \"hovertemplate\": \"Unique Fecha Ingreso=%{x}<br>Number of Inmates=%{y}<extra></extra>\", \"legendgroup\": \"\", \"marker\": {\"color\": \"#636efa\"}, \"name\": \"\", \"offsetgroup\": \"\", \"orientation\": \"v\", \"showlegend\": false, \"textposition\": \"auto\", \"type\": \"bar\", \"x\": [1, 2, 3, 4, 5, 6, 7, 9], \"xaxis\": \"x\", \"y\": [58739, 16478, 3023, 497, 91, 10, 2, 1], \"yaxis\": \"y\"}],\n",
       "                        {\"barmode\": \"relative\", \"legend\": {\"tracegroupgap\": 0}, \"template\": {\"data\": {\"bar\": [{\"error_x\": {\"color\": \"#2a3f5f\"}, \"error_y\": {\"color\": \"#2a3f5f\"}, \"marker\": {\"line\": {\"color\": \"#E5ECF6\", \"width\": 0.5}}, \"type\": \"bar\"}], \"barpolar\": [{\"marker\": {\"line\": {\"color\": \"#E5ECF6\", \"width\": 0.5}}, \"type\": \"barpolar\"}], \"carpet\": [{\"aaxis\": {\"endlinecolor\": \"#2a3f5f\", \"gridcolor\": \"white\", \"linecolor\": \"white\", \"minorgridcolor\": \"white\", \"startlinecolor\": \"#2a3f5f\"}, \"baxis\": {\"endlinecolor\": \"#2a3f5f\", \"gridcolor\": \"white\", \"linecolor\": \"white\", \"minorgridcolor\": \"white\", \"startlinecolor\": \"#2a3f5f\"}, \"type\": \"carpet\"}], \"choropleth\": [{\"colorbar\": {\"outlinewidth\": 0, \"ticks\": \"\"}, \"type\": \"choropleth\"}], \"contour\": [{\"colorbar\": {\"outlinewidth\": 0, \"ticks\": \"\"}, \"colorscale\": [[0.0, \"#0d0887\"], [0.1111111111111111, \"#46039f\"], [0.2222222222222222, \"#7201a8\"], [0.3333333333333333, \"#9c179e\"], [0.4444444444444444, \"#bd3786\"], [0.5555555555555556, \"#d8576b\"], [0.6666666666666666, \"#ed7953\"], [0.7777777777777778, \"#fb9f3a\"], [0.8888888888888888, \"#fdca26\"], [1.0, \"#f0f921\"]], \"type\": \"contour\"}], \"contourcarpet\": [{\"colorbar\": {\"outlinewidth\": 0, \"ticks\": \"\"}, \"type\": \"contourcarpet\"}], \"heatmap\": [{\"colorbar\": {\"outlinewidth\": 0, \"ticks\": \"\"}, \"colorscale\": [[0.0, \"#0d0887\"], [0.1111111111111111, \"#46039f\"], [0.2222222222222222, \"#7201a8\"], [0.3333333333333333, \"#9c179e\"], [0.4444444444444444, \"#bd3786\"], [0.5555555555555556, \"#d8576b\"], [0.6666666666666666, \"#ed7953\"], [0.7777777777777778, \"#fb9f3a\"], [0.8888888888888888, \"#fdca26\"], [1.0, \"#f0f921\"]], \"type\": \"heatmap\"}], \"heatmapgl\": [{\"colorbar\": {\"outlinewidth\": 0, \"ticks\": \"\"}, \"colorscale\": [[0.0, \"#0d0887\"], [0.1111111111111111, \"#46039f\"], [0.2222222222222222, \"#7201a8\"], [0.3333333333333333, \"#9c179e\"], [0.4444444444444444, \"#bd3786\"], [0.5555555555555556, \"#d8576b\"], [0.6666666666666666, \"#ed7953\"], [0.7777777777777778, \"#fb9f3a\"], [0.8888888888888888, \"#fdca26\"], [1.0, \"#f0f921\"]], \"type\": \"heatmapgl\"}], \"histogram\": [{\"marker\": {\"colorbar\": {\"outlinewidth\": 0, \"ticks\": \"\"}}, \"type\": \"histogram\"}], \"histogram2d\": [{\"colorbar\": {\"outlinewidth\": 0, \"ticks\": \"\"}, \"colorscale\": [[0.0, \"#0d0887\"], [0.1111111111111111, \"#46039f\"], [0.2222222222222222, \"#7201a8\"], [0.3333333333333333, \"#9c179e\"], [0.4444444444444444, \"#bd3786\"], [0.5555555555555556, \"#d8576b\"], [0.6666666666666666, \"#ed7953\"], [0.7777777777777778, \"#fb9f3a\"], [0.8888888888888888, \"#fdca26\"], [1.0, \"#f0f921\"]], \"type\": \"histogram2d\"}], \"histogram2dcontour\": [{\"colorbar\": {\"outlinewidth\": 0, \"ticks\": \"\"}, \"colorscale\": [[0.0, \"#0d0887\"], [0.1111111111111111, \"#46039f\"], [0.2222222222222222, \"#7201a8\"], [0.3333333333333333, \"#9c179e\"], [0.4444444444444444, \"#bd3786\"], [0.5555555555555556, \"#d8576b\"], [0.6666666666666666, \"#ed7953\"], [0.7777777777777778, \"#fb9f3a\"], [0.8888888888888888, \"#fdca26\"], [1.0, \"#f0f921\"]], \"type\": \"histogram2dcontour\"}], \"mesh3d\": [{\"colorbar\": {\"outlinewidth\": 0, \"ticks\": \"\"}, \"type\": \"mesh3d\"}], \"parcoords\": [{\"line\": {\"colorbar\": {\"outlinewidth\": 0, \"ticks\": \"\"}}, \"type\": \"parcoords\"}], \"pie\": [{\"automargin\": true, \"type\": \"pie\"}], \"scatter\": [{\"marker\": {\"colorbar\": {\"outlinewidth\": 0, \"ticks\": \"\"}}, \"type\": \"scatter\"}], \"scatter3d\": [{\"line\": {\"colorbar\": {\"outlinewidth\": 0, \"ticks\": \"\"}}, \"marker\": {\"colorbar\": {\"outlinewidth\": 0, \"ticks\": \"\"}}, \"type\": \"scatter3d\"}], \"scattercarpet\": [{\"marker\": {\"colorbar\": {\"outlinewidth\": 0, \"ticks\": \"\"}}, \"type\": \"scattercarpet\"}], \"scattergeo\": [{\"marker\": {\"colorbar\": {\"outlinewidth\": 0, \"ticks\": \"\"}}, \"type\": \"scattergeo\"}], \"scattergl\": [{\"marker\": {\"colorbar\": {\"outlinewidth\": 0, \"ticks\": \"\"}}, \"type\": \"scattergl\"}], \"scattermapbox\": [{\"marker\": {\"colorbar\": {\"outlinewidth\": 0, \"ticks\": \"\"}}, \"type\": \"scattermapbox\"}], \"scatterpolar\": [{\"marker\": {\"colorbar\": {\"outlinewidth\": 0, \"ticks\": \"\"}}, \"type\": \"scatterpolar\"}], \"scatterpolargl\": [{\"marker\": {\"colorbar\": {\"outlinewidth\": 0, \"ticks\": \"\"}}, \"type\": \"scatterpolargl\"}], \"scatterternary\": [{\"marker\": {\"colorbar\": {\"outlinewidth\": 0, \"ticks\": \"\"}}, \"type\": \"scatterternary\"}], \"surface\": [{\"colorbar\": {\"outlinewidth\": 0, \"ticks\": \"\"}, \"colorscale\": [[0.0, \"#0d0887\"], [0.1111111111111111, \"#46039f\"], [0.2222222222222222, \"#7201a8\"], [0.3333333333333333, \"#9c179e\"], [0.4444444444444444, \"#bd3786\"], [0.5555555555555556, \"#d8576b\"], [0.6666666666666666, \"#ed7953\"], [0.7777777777777778, \"#fb9f3a\"], [0.8888888888888888, \"#fdca26\"], [1.0, \"#f0f921\"]], \"type\": \"surface\"}], \"table\": [{\"cells\": {\"fill\": {\"color\": \"#EBF0F8\"}, \"line\": {\"color\": \"white\"}}, \"header\": {\"fill\": {\"color\": \"#C8D4E3\"}, \"line\": {\"color\": \"white\"}}, \"type\": \"table\"}]}, \"layout\": {\"annotationdefaults\": {\"arrowcolor\": \"#2a3f5f\", \"arrowhead\": 0, \"arrowwidth\": 1}, \"coloraxis\": {\"colorbar\": {\"outlinewidth\": 0, \"ticks\": \"\"}}, \"colorscale\": {\"diverging\": [[0, \"#8e0152\"], [0.1, \"#c51b7d\"], [0.2, \"#de77ae\"], [0.3, \"#f1b6da\"], [0.4, \"#fde0ef\"], [0.5, \"#f7f7f7\"], [0.6, \"#e6f5d0\"], [0.7, \"#b8e186\"], [0.8, \"#7fbc41\"], [0.9, \"#4d9221\"], [1, \"#276419\"]], \"sequential\": [[0.0, \"#0d0887\"], [0.1111111111111111, \"#46039f\"], [0.2222222222222222, \"#7201a8\"], [0.3333333333333333, \"#9c179e\"], [0.4444444444444444, \"#bd3786\"], [0.5555555555555556, \"#d8576b\"], [0.6666666666666666, \"#ed7953\"], [0.7777777777777778, \"#fb9f3a\"], [0.8888888888888888, \"#fdca26\"], [1.0, \"#f0f921\"]], \"sequentialminus\": [[0.0, \"#0d0887\"], [0.1111111111111111, \"#46039f\"], [0.2222222222222222, \"#7201a8\"], [0.3333333333333333, \"#9c179e\"], [0.4444444444444444, \"#bd3786\"], [0.5555555555555556, \"#d8576b\"], [0.6666666666666666, \"#ed7953\"], [0.7777777777777778, \"#fb9f3a\"], [0.8888888888888888, \"#fdca26\"], [1.0, \"#f0f921\"]]}, \"colorway\": [\"#636efa\", \"#EF553B\", \"#00cc96\", \"#ab63fa\", \"#FFA15A\", \"#19d3f3\", \"#FF6692\", \"#B6E880\", \"#FF97FF\", \"#FECB52\"], \"font\": {\"color\": \"#2a3f5f\"}, \"geo\": {\"bgcolor\": \"white\", \"lakecolor\": \"white\", \"landcolor\": \"#E5ECF6\", \"showlakes\": true, \"showland\": true, \"subunitcolor\": \"white\"}, \"hoverlabel\": {\"align\": \"left\"}, \"hovermode\": \"closest\", \"mapbox\": {\"style\": \"light\"}, \"paper_bgcolor\": \"white\", \"plot_bgcolor\": \"#E5ECF6\", \"polar\": {\"angularaxis\": {\"gridcolor\": \"white\", \"linecolor\": \"white\", \"ticks\": \"\"}, \"bgcolor\": \"#E5ECF6\", \"radialaxis\": {\"gridcolor\": \"white\", \"linecolor\": \"white\", \"ticks\": \"\"}}, \"scene\": {\"xaxis\": {\"backgroundcolor\": \"#E5ECF6\", \"gridcolor\": \"white\", \"gridwidth\": 2, \"linecolor\": \"white\", \"showbackground\": true, \"ticks\": \"\", \"zerolinecolor\": \"white\"}, \"yaxis\": {\"backgroundcolor\": \"#E5ECF6\", \"gridcolor\": \"white\", \"gridwidth\": 2, \"linecolor\": \"white\", \"showbackground\": true, \"ticks\": \"\", \"zerolinecolor\": \"white\"}, \"zaxis\": {\"backgroundcolor\": \"#E5ECF6\", \"gridcolor\": \"white\", \"gridwidth\": 2, \"linecolor\": \"white\", \"showbackground\": true, \"ticks\": \"\", \"zerolinecolor\": \"white\"}}, \"shapedefaults\": {\"line\": {\"color\": \"#2a3f5f\"}}, \"ternary\": {\"aaxis\": {\"gridcolor\": \"white\", \"linecolor\": \"white\", \"ticks\": \"\"}, \"baxis\": {\"gridcolor\": \"white\", \"linecolor\": \"white\", \"ticks\": \"\"}, \"bgcolor\": \"#E5ECF6\", \"caxis\": {\"gridcolor\": \"white\", \"linecolor\": \"white\", \"ticks\": \"\"}}, \"title\": {\"x\": 0.05}, \"xaxis\": {\"automargin\": true, \"gridcolor\": \"white\", \"linecolor\": \"white\", \"ticks\": \"\", \"title\": {\"standoff\": 15}, \"zerolinecolor\": \"white\", \"zerolinewidth\": 2}, \"yaxis\": {\"automargin\": true, \"gridcolor\": \"white\", \"linecolor\": \"white\", \"ticks\": \"\", \"title\": {\"standoff\": 15}, \"zerolinecolor\": \"white\", \"zerolinewidth\": 2}}}, \"title\": {\"text\": \"Inmates recividisim count\"}, \"xaxis\": {\"anchor\": \"y\", \"domain\": [0.0, 1.0], \"title\": {\"text\": \"Unique Fecha Ingreso\"}}, \"yaxis\": {\"anchor\": \"x\", \"domain\": [0.0, 1.0], \"title\": {\"text\": \"Number of Inmates\"}}},\n",
       "                        {\"responsive\": true}\n",
       "                    ).then(function(){\n",
       "                            \n",
       "var gd = document.getElementById('3e1f3bed-40a0-4d5e-99d5-9ce068dfb5c9');\n",
       "var x = new MutationObserver(function (mutations, observer) {{\n",
       "        var display = window.getComputedStyle(gd).display;\n",
       "        if (!display || display === 'none') {{\n",
       "            console.log([gd, 'removed!']);\n",
       "            Plotly.purge(gd);\n",
       "            observer.disconnect();\n",
       "        }}\n",
       "}});\n",
       "\n",
       "// Listen for the removal of the full notebook cells\n",
       "var notebookContainer = gd.closest('#notebook-container');\n",
       "if (notebookContainer) {{\n",
       "    x.observe(notebookContainer, {childList: true});\n",
       "}}\n",
       "\n",
       "// Listen for the clearing of the current output cell\n",
       "var outputEl = gd.closest('.output');\n",
       "if (outputEl) {{\n",
       "    x.observe(outputEl, {childList: true});\n",
       "}}\n",
       "\n",
       "                        })\n",
       "                };\n",
       "                });\n",
       "            </script>\n",
       "        </div>"
      ]
     },
     "metadata": {},
     "output_type": "display_data"
    }
   ],
   "source": [
    "fig = px.bar(number_captures_by_inmate, \n",
    "             x='Unique Fecha Ingreso', \n",
    "             y='Number of Inmates',\n",
    "             title = 'Inmates recividisim count')\n",
    "fig.show()"
   ]
  },
  {
   "cell_type": "markdown",
   "metadata": {},
   "source": [
    "### Number of Crimes per Capture"
   ]
  },
  {
   "cell_type": "code",
   "execution_count": 157,
   "metadata": {
    "ExecuteTime": {
     "end_time": "2020-06-19T03:00:06.517957Z",
     "start_time": "2020-06-19T03:00:06.404270Z"
    },
    "scrolled": true
   },
   "outputs": [
    {
     "data": {
      "text/html": [
       "<div>\n",
       "<style scoped>\n",
       "    .dataframe tbody tr th:only-of-type {\n",
       "        vertical-align: middle;\n",
       "    }\n",
       "\n",
       "    .dataframe tbody tr th {\n",
       "        vertical-align: top;\n",
       "    }\n",
       "\n",
       "    .dataframe thead th {\n",
       "        text-align: right;\n",
       "    }\n",
       "</style>\n",
       "<table border=\"1\" class=\"dataframe\">\n",
       "  <thead>\n",
       "    <tr style=\"text-align: right;\">\n",
       "      <th></th>\n",
       "      <th>Crimes per capture</th>\n",
       "      <th>Number of Inmates</th>\n",
       "    </tr>\n",
       "  </thead>\n",
       "  <tbody>\n",
       "    <tr>\n",
       "      <th>0</th>\n",
       "      <td>1</td>\n",
       "      <td>39684</td>\n",
       "    </tr>\n",
       "    <tr>\n",
       "      <th>1</th>\n",
       "      <td>2</td>\n",
       "      <td>23652</td>\n",
       "    </tr>\n",
       "    <tr>\n",
       "      <th>2</th>\n",
       "      <td>3</td>\n",
       "      <td>9620</td>\n",
       "    </tr>\n",
       "    <tr>\n",
       "      <th>3</th>\n",
       "      <td>4</td>\n",
       "      <td>3724</td>\n",
       "    </tr>\n",
       "    <tr>\n",
       "      <th>4</th>\n",
       "      <td>5</td>\n",
       "      <td>1359</td>\n",
       "    </tr>\n",
       "    <tr>\n",
       "      <th>5</th>\n",
       "      <td>6</td>\n",
       "      <td>487</td>\n",
       "    </tr>\n",
       "    <tr>\n",
       "      <th>6</th>\n",
       "      <td>7</td>\n",
       "      <td>195</td>\n",
       "    </tr>\n",
       "    <tr>\n",
       "      <th>7</th>\n",
       "      <td>8</td>\n",
       "      <td>72</td>\n",
       "    </tr>\n",
       "    <tr>\n",
       "      <th>8</th>\n",
       "      <td>9</td>\n",
       "      <td>21</td>\n",
       "    </tr>\n",
       "    <tr>\n",
       "      <th>9</th>\n",
       "      <td>10</td>\n",
       "      <td>13</td>\n",
       "    </tr>\n",
       "    <tr>\n",
       "      <th>10</th>\n",
       "      <td>12</td>\n",
       "      <td>5</td>\n",
       "    </tr>\n",
       "    <tr>\n",
       "      <th>11</th>\n",
       "      <td>11</td>\n",
       "      <td>3</td>\n",
       "    </tr>\n",
       "    <tr>\n",
       "      <th>12</th>\n",
       "      <td>14</td>\n",
       "      <td>2</td>\n",
       "    </tr>\n",
       "    <tr>\n",
       "      <th>13</th>\n",
       "      <td>13</td>\n",
       "      <td>2</td>\n",
       "    </tr>\n",
       "    <tr>\n",
       "      <th>14</th>\n",
       "      <td>16</td>\n",
       "      <td>1</td>\n",
       "    </tr>\n",
       "    <tr>\n",
       "      <th>15</th>\n",
       "      <td>15</td>\n",
       "      <td>1</td>\n",
       "    </tr>\n",
       "  </tbody>\n",
       "</table>\n",
       "</div>"
      ],
      "text/plain": [
       "    Crimes per capture  Number of Inmates\n",
       "0                    1              39684\n",
       "1                    2              23652\n",
       "2                    3               9620\n",
       "3                    4               3724\n",
       "4                    5               1359\n",
       "5                    6                487\n",
       "6                    7                195\n",
       "7                    8                 72\n",
       "8                    9                 21\n",
       "9                   10                 13\n",
       "10                  12                  5\n",
       "11                  11                  3\n",
       "12                  14                  2\n",
       "13                  13                  2\n",
       "14                  16                  1\n",
       "15                  15                  1"
      ]
     },
     "execution_count": 157,
     "metadata": {},
     "output_type": "execute_result"
    }
   ],
   "source": [
    "number_crimes_per_capture = data.groupby(['INTERNOEN'])['FECHA_INGRESO'].count().value_counts() \\\n",
    "                            .reset_index().rename(columns = {'index': 'Crimes per capture', \n",
    "                                                             'FECHA_INGRESO': 'Number of Inmates'})\n",
    "number_crimes_per_capture"
   ]
  },
  {
   "cell_type": "code",
   "execution_count": 158,
   "metadata": {
    "ExecuteTime": {
     "end_time": "2020-06-19T03:00:12.889602Z",
     "start_time": "2020-06-19T03:00:12.856504Z"
    }
   },
   "outputs": [
    {
     "data": {
      "text/html": [
       "<div>\n",
       "        \n",
       "        \n",
       "            <div id=\"e3e3d4de-5659-4c20-9e21-6d5a83afdc15\" class=\"plotly-graph-div\" style=\"height:525px; width:100%;\"></div>\n",
       "            <script type=\"text/javascript\">\n",
       "                require([\"plotly\"], function(Plotly) {\n",
       "                    window.PLOTLYENV=window.PLOTLYENV || {};\n",
       "                    \n",
       "                if (document.getElementById(\"e3e3d4de-5659-4c20-9e21-6d5a83afdc15\")) {\n",
       "                    Plotly.newPlot(\n",
       "                        'e3e3d4de-5659-4c20-9e21-6d5a83afdc15',\n",
       "                        [{\"alignmentgroup\": \"True\", \"hovertemplate\": \"Crimes per capture=%{x}<br>Number of Inmates=%{y}<extra></extra>\", \"legendgroup\": \"\", \"marker\": {\"color\": \"#636efa\"}, \"name\": \"\", \"offsetgroup\": \"\", \"orientation\": \"v\", \"showlegend\": false, \"textposition\": \"auto\", \"type\": \"bar\", \"x\": [1, 2, 3, 4, 5, 6, 7, 8, 9, 10, 12, 11, 14, 13, 16, 15], \"xaxis\": \"x\", \"y\": [39684, 23652, 9620, 3724, 1359, 487, 195, 72, 21, 13, 5, 3, 2, 2, 1, 1], \"yaxis\": \"y\"}],\n",
       "                        {\"barmode\": \"relative\", \"legend\": {\"tracegroupgap\": 0}, \"template\": {\"data\": {\"bar\": [{\"error_x\": {\"color\": \"#2a3f5f\"}, \"error_y\": {\"color\": \"#2a3f5f\"}, \"marker\": {\"line\": {\"color\": \"#E5ECF6\", \"width\": 0.5}}, \"type\": \"bar\"}], \"barpolar\": [{\"marker\": {\"line\": {\"color\": \"#E5ECF6\", \"width\": 0.5}}, \"type\": \"barpolar\"}], \"carpet\": [{\"aaxis\": {\"endlinecolor\": \"#2a3f5f\", \"gridcolor\": \"white\", \"linecolor\": \"white\", \"minorgridcolor\": \"white\", \"startlinecolor\": \"#2a3f5f\"}, \"baxis\": {\"endlinecolor\": \"#2a3f5f\", \"gridcolor\": \"white\", \"linecolor\": \"white\", \"minorgridcolor\": \"white\", \"startlinecolor\": \"#2a3f5f\"}, \"type\": \"carpet\"}], \"choropleth\": [{\"colorbar\": {\"outlinewidth\": 0, \"ticks\": \"\"}, \"type\": \"choropleth\"}], \"contour\": [{\"colorbar\": {\"outlinewidth\": 0, \"ticks\": \"\"}, \"colorscale\": [[0.0, \"#0d0887\"], [0.1111111111111111, \"#46039f\"], [0.2222222222222222, \"#7201a8\"], [0.3333333333333333, \"#9c179e\"], [0.4444444444444444, \"#bd3786\"], [0.5555555555555556, \"#d8576b\"], [0.6666666666666666, \"#ed7953\"], [0.7777777777777778, \"#fb9f3a\"], [0.8888888888888888, \"#fdca26\"], [1.0, \"#f0f921\"]], \"type\": \"contour\"}], \"contourcarpet\": [{\"colorbar\": {\"outlinewidth\": 0, \"ticks\": \"\"}, \"type\": \"contourcarpet\"}], \"heatmap\": [{\"colorbar\": {\"outlinewidth\": 0, \"ticks\": \"\"}, \"colorscale\": [[0.0, \"#0d0887\"], [0.1111111111111111, \"#46039f\"], [0.2222222222222222, \"#7201a8\"], [0.3333333333333333, \"#9c179e\"], [0.4444444444444444, \"#bd3786\"], [0.5555555555555556, \"#d8576b\"], [0.6666666666666666, \"#ed7953\"], [0.7777777777777778, \"#fb9f3a\"], [0.8888888888888888, \"#fdca26\"], [1.0, \"#f0f921\"]], \"type\": \"heatmap\"}], \"heatmapgl\": [{\"colorbar\": {\"outlinewidth\": 0, \"ticks\": \"\"}, \"colorscale\": [[0.0, \"#0d0887\"], [0.1111111111111111, \"#46039f\"], [0.2222222222222222, \"#7201a8\"], [0.3333333333333333, \"#9c179e\"], [0.4444444444444444, \"#bd3786\"], [0.5555555555555556, \"#d8576b\"], [0.6666666666666666, \"#ed7953\"], [0.7777777777777778, \"#fb9f3a\"], [0.8888888888888888, \"#fdca26\"], [1.0, \"#f0f921\"]], \"type\": \"heatmapgl\"}], \"histogram\": [{\"marker\": {\"colorbar\": {\"outlinewidth\": 0, \"ticks\": \"\"}}, \"type\": \"histogram\"}], \"histogram2d\": [{\"colorbar\": {\"outlinewidth\": 0, \"ticks\": \"\"}, \"colorscale\": [[0.0, \"#0d0887\"], [0.1111111111111111, \"#46039f\"], [0.2222222222222222, \"#7201a8\"], [0.3333333333333333, \"#9c179e\"], [0.4444444444444444, \"#bd3786\"], [0.5555555555555556, \"#d8576b\"], [0.6666666666666666, \"#ed7953\"], [0.7777777777777778, \"#fb9f3a\"], [0.8888888888888888, \"#fdca26\"], [1.0, \"#f0f921\"]], \"type\": \"histogram2d\"}], \"histogram2dcontour\": [{\"colorbar\": {\"outlinewidth\": 0, \"ticks\": \"\"}, \"colorscale\": [[0.0, \"#0d0887\"], [0.1111111111111111, \"#46039f\"], [0.2222222222222222, \"#7201a8\"], [0.3333333333333333, \"#9c179e\"], [0.4444444444444444, \"#bd3786\"], [0.5555555555555556, \"#d8576b\"], [0.6666666666666666, \"#ed7953\"], [0.7777777777777778, \"#fb9f3a\"], [0.8888888888888888, \"#fdca26\"], [1.0, \"#f0f921\"]], \"type\": \"histogram2dcontour\"}], \"mesh3d\": [{\"colorbar\": {\"outlinewidth\": 0, \"ticks\": \"\"}, \"type\": \"mesh3d\"}], \"parcoords\": [{\"line\": {\"colorbar\": {\"outlinewidth\": 0, \"ticks\": \"\"}}, \"type\": \"parcoords\"}], \"pie\": [{\"automargin\": true, \"type\": \"pie\"}], \"scatter\": [{\"marker\": {\"colorbar\": {\"outlinewidth\": 0, \"ticks\": \"\"}}, \"type\": \"scatter\"}], \"scatter3d\": [{\"line\": {\"colorbar\": {\"outlinewidth\": 0, \"ticks\": \"\"}}, \"marker\": {\"colorbar\": {\"outlinewidth\": 0, \"ticks\": \"\"}}, \"type\": \"scatter3d\"}], \"scattercarpet\": [{\"marker\": {\"colorbar\": {\"outlinewidth\": 0, \"ticks\": \"\"}}, \"type\": \"scattercarpet\"}], \"scattergeo\": [{\"marker\": {\"colorbar\": {\"outlinewidth\": 0, \"ticks\": \"\"}}, \"type\": \"scattergeo\"}], \"scattergl\": [{\"marker\": {\"colorbar\": {\"outlinewidth\": 0, \"ticks\": \"\"}}, \"type\": \"scattergl\"}], \"scattermapbox\": [{\"marker\": {\"colorbar\": {\"outlinewidth\": 0, \"ticks\": \"\"}}, \"type\": \"scattermapbox\"}], \"scatterpolar\": [{\"marker\": {\"colorbar\": {\"outlinewidth\": 0, \"ticks\": \"\"}}, \"type\": \"scatterpolar\"}], \"scatterpolargl\": [{\"marker\": {\"colorbar\": {\"outlinewidth\": 0, \"ticks\": \"\"}}, \"type\": \"scatterpolargl\"}], \"scatterternary\": [{\"marker\": {\"colorbar\": {\"outlinewidth\": 0, \"ticks\": \"\"}}, \"type\": \"scatterternary\"}], \"surface\": [{\"colorbar\": {\"outlinewidth\": 0, \"ticks\": \"\"}, \"colorscale\": [[0.0, \"#0d0887\"], [0.1111111111111111, \"#46039f\"], [0.2222222222222222, \"#7201a8\"], [0.3333333333333333, \"#9c179e\"], [0.4444444444444444, \"#bd3786\"], [0.5555555555555556, \"#d8576b\"], [0.6666666666666666, \"#ed7953\"], [0.7777777777777778, \"#fb9f3a\"], [0.8888888888888888, \"#fdca26\"], [1.0, \"#f0f921\"]], \"type\": \"surface\"}], \"table\": [{\"cells\": {\"fill\": {\"color\": \"#EBF0F8\"}, \"line\": {\"color\": \"white\"}}, \"header\": {\"fill\": {\"color\": \"#C8D4E3\"}, \"line\": {\"color\": \"white\"}}, \"type\": \"table\"}]}, \"layout\": {\"annotationdefaults\": {\"arrowcolor\": \"#2a3f5f\", \"arrowhead\": 0, \"arrowwidth\": 1}, \"coloraxis\": {\"colorbar\": {\"outlinewidth\": 0, \"ticks\": \"\"}}, \"colorscale\": {\"diverging\": [[0, \"#8e0152\"], [0.1, \"#c51b7d\"], [0.2, \"#de77ae\"], [0.3, \"#f1b6da\"], [0.4, \"#fde0ef\"], [0.5, \"#f7f7f7\"], [0.6, \"#e6f5d0\"], [0.7, \"#b8e186\"], [0.8, \"#7fbc41\"], [0.9, \"#4d9221\"], [1, \"#276419\"]], \"sequential\": [[0.0, \"#0d0887\"], [0.1111111111111111, \"#46039f\"], [0.2222222222222222, \"#7201a8\"], [0.3333333333333333, \"#9c179e\"], [0.4444444444444444, \"#bd3786\"], [0.5555555555555556, \"#d8576b\"], [0.6666666666666666, \"#ed7953\"], [0.7777777777777778, \"#fb9f3a\"], [0.8888888888888888, \"#fdca26\"], [1.0, \"#f0f921\"]], \"sequentialminus\": [[0.0, \"#0d0887\"], [0.1111111111111111, \"#46039f\"], [0.2222222222222222, \"#7201a8\"], [0.3333333333333333, \"#9c179e\"], [0.4444444444444444, \"#bd3786\"], [0.5555555555555556, \"#d8576b\"], [0.6666666666666666, \"#ed7953\"], [0.7777777777777778, \"#fb9f3a\"], [0.8888888888888888, \"#fdca26\"], [1.0, \"#f0f921\"]]}, \"colorway\": [\"#636efa\", \"#EF553B\", \"#00cc96\", \"#ab63fa\", \"#FFA15A\", \"#19d3f3\", \"#FF6692\", \"#B6E880\", \"#FF97FF\", \"#FECB52\"], \"font\": {\"color\": \"#2a3f5f\"}, \"geo\": {\"bgcolor\": \"white\", \"lakecolor\": \"white\", \"landcolor\": \"#E5ECF6\", \"showlakes\": true, \"showland\": true, \"subunitcolor\": \"white\"}, \"hoverlabel\": {\"align\": \"left\"}, \"hovermode\": \"closest\", \"mapbox\": {\"style\": \"light\"}, \"paper_bgcolor\": \"white\", \"plot_bgcolor\": \"#E5ECF6\", \"polar\": {\"angularaxis\": {\"gridcolor\": \"white\", \"linecolor\": \"white\", \"ticks\": \"\"}, \"bgcolor\": \"#E5ECF6\", \"radialaxis\": {\"gridcolor\": \"white\", \"linecolor\": \"white\", \"ticks\": \"\"}}, \"scene\": {\"xaxis\": {\"backgroundcolor\": \"#E5ECF6\", \"gridcolor\": \"white\", \"gridwidth\": 2, \"linecolor\": \"white\", \"showbackground\": true, \"ticks\": \"\", \"zerolinecolor\": \"white\"}, \"yaxis\": {\"backgroundcolor\": \"#E5ECF6\", \"gridcolor\": \"white\", \"gridwidth\": 2, \"linecolor\": \"white\", \"showbackground\": true, \"ticks\": \"\", \"zerolinecolor\": \"white\"}, \"zaxis\": {\"backgroundcolor\": \"#E5ECF6\", \"gridcolor\": \"white\", \"gridwidth\": 2, \"linecolor\": \"white\", \"showbackground\": true, \"ticks\": \"\", \"zerolinecolor\": \"white\"}}, \"shapedefaults\": {\"line\": {\"color\": \"#2a3f5f\"}}, \"ternary\": {\"aaxis\": {\"gridcolor\": \"white\", \"linecolor\": \"white\", \"ticks\": \"\"}, \"baxis\": {\"gridcolor\": \"white\", \"linecolor\": \"white\", \"ticks\": \"\"}, \"bgcolor\": \"#E5ECF6\", \"caxis\": {\"gridcolor\": \"white\", \"linecolor\": \"white\", \"ticks\": \"\"}}, \"title\": {\"x\": 0.05}, \"xaxis\": {\"automargin\": true, \"gridcolor\": \"white\", \"linecolor\": \"white\", \"ticks\": \"\", \"title\": {\"standoff\": 15}, \"zerolinecolor\": \"white\", \"zerolinewidth\": 2}, \"yaxis\": {\"automargin\": true, \"gridcolor\": \"white\", \"linecolor\": \"white\", \"ticks\": \"\", \"title\": {\"standoff\": 15}, \"zerolinecolor\": \"white\", \"zerolinewidth\": 2}}}, \"title\": {\"text\": \"Inmates crimes per capture\"}, \"xaxis\": {\"anchor\": \"y\", \"domain\": [0.0, 1.0], \"title\": {\"text\": \"Crimes per capture\"}}, \"yaxis\": {\"anchor\": \"x\", \"domain\": [0.0, 1.0], \"title\": {\"text\": \"Number of Inmates\"}}},\n",
       "                        {\"responsive\": true}\n",
       "                    ).then(function(){\n",
       "                            \n",
       "var gd = document.getElementById('e3e3d4de-5659-4c20-9e21-6d5a83afdc15');\n",
       "var x = new MutationObserver(function (mutations, observer) {{\n",
       "        var display = window.getComputedStyle(gd).display;\n",
       "        if (!display || display === 'none') {{\n",
       "            console.log([gd, 'removed!']);\n",
       "            Plotly.purge(gd);\n",
       "            observer.disconnect();\n",
       "        }}\n",
       "}});\n",
       "\n",
       "// Listen for the removal of the full notebook cells\n",
       "var notebookContainer = gd.closest('#notebook-container');\n",
       "if (notebookContainer) {{\n",
       "    x.observe(notebookContainer, {childList: true});\n",
       "}}\n",
       "\n",
       "// Listen for the clearing of the current output cell\n",
       "var outputEl = gd.closest('.output');\n",
       "if (outputEl) {{\n",
       "    x.observe(outputEl, {childList: true});\n",
       "}}\n",
       "\n",
       "                        })\n",
       "                };\n",
       "                });\n",
       "            </script>\n",
       "        </div>"
      ]
     },
     "metadata": {},
     "output_type": "display_data"
    }
   ],
   "source": [
    "fig = px.bar(number_crimes_per_capture, \n",
    "             x='Crimes per capture', \n",
    "             y='Number of Inmates',\n",
    "             title = 'Inmates crimes per capture')\n",
    "fig.show()"
   ]
  },
  {
   "cell_type": "markdown",
   "metadata": {},
   "source": [
    "### Joining the 2 Above plots"
   ]
  },
  {
   "cell_type": "code",
   "execution_count": 188,
   "metadata": {
    "ExecuteTime": {
     "end_time": "2020-06-19T03:13:47.474315Z",
     "start_time": "2020-06-19T03:13:25.771268Z"
    }
   },
   "outputs": [],
   "source": [
    "data['captures_by_inmate'] = data.groupby(['INTERNOEN'])['FECHA_INGRESO'].transform(lambda x: len(x.unique()))\n",
    "data['crimes_per_inmate_capture'] = data.groupby(['INTERNOEN'])['FECHA_INGRESO'].transform('count')"
   ]
  },
  {
   "cell_type": "code",
   "execution_count": 190,
   "metadata": {
    "ExecuteTime": {
     "end_time": "2020-06-19T03:14:00.061478Z",
     "start_time": "2020-06-19T03:13:59.920647Z"
    }
   },
   "outputs": [
    {
     "data": {
      "text/html": [
       "<div>\n",
       "<style scoped>\n",
       "    .dataframe tbody tr th:only-of-type {\n",
       "        vertical-align: middle;\n",
       "    }\n",
       "\n",
       "    .dataframe tbody tr th {\n",
       "        vertical-align: top;\n",
       "    }\n",
       "\n",
       "    .dataframe thead th {\n",
       "        text-align: right;\n",
       "    }\n",
       "</style>\n",
       "<table border=\"1\" class=\"dataframe\">\n",
       "  <thead>\n",
       "    <tr style=\"text-align: right;\">\n",
       "      <th></th>\n",
       "      <th>INTERNOEN</th>\n",
       "      <th>captures_by_inmate</th>\n",
       "      <th>crimes_per_inmate_capture</th>\n",
       "    </tr>\n",
       "  </thead>\n",
       "  <tbody>\n",
       "    <tr>\n",
       "      <th>0</th>\n",
       "      <td>000334541B6B3305CE91761942D7B381248777EA</td>\n",
       "      <td>1</td>\n",
       "      <td>1</td>\n",
       "    </tr>\n",
       "    <tr>\n",
       "      <th>1</th>\n",
       "      <td>000357E4F19E3722BA43488F69A7D7DECFC620C4</td>\n",
       "      <td>1</td>\n",
       "      <td>2</td>\n",
       "    </tr>\n",
       "    <tr>\n",
       "      <th>2</th>\n",
       "      <td>000393AD7FE65FBBE53A61B0EAA1FB9A62F71450</td>\n",
       "      <td>1</td>\n",
       "      <td>2</td>\n",
       "    </tr>\n",
       "    <tr>\n",
       "      <th>3</th>\n",
       "      <td>0003BE212427DF2E9CCB2449B6012EF915B3FAE3</td>\n",
       "      <td>1</td>\n",
       "      <td>1</td>\n",
       "    </tr>\n",
       "    <tr>\n",
       "      <th>4</th>\n",
       "      <td>00043EB254F6E5EFCE77A8C20BC709B63A4BE443</td>\n",
       "      <td>1</td>\n",
       "      <td>1</td>\n",
       "    </tr>\n",
       "    <tr>\n",
       "      <th>...</th>\n",
       "      <td>...</td>\n",
       "      <td>...</td>\n",
       "      <td>...</td>\n",
       "    </tr>\n",
       "    <tr>\n",
       "      <th>78836</th>\n",
       "      <td>FFFC9F1A5227DDD6F78179576170997CAAB63AD7</td>\n",
       "      <td>2</td>\n",
       "      <td>2</td>\n",
       "    </tr>\n",
       "    <tr>\n",
       "      <th>78837</th>\n",
       "      <td>FFFD204514A5DF9EE2F1E36CDBF16F0B79C45590</td>\n",
       "      <td>1</td>\n",
       "      <td>1</td>\n",
       "    </tr>\n",
       "    <tr>\n",
       "      <th>78838</th>\n",
       "      <td>FFFE667F85CF452DB70B955609103CB72ECA3EEB</td>\n",
       "      <td>1</td>\n",
       "      <td>1</td>\n",
       "    </tr>\n",
       "    <tr>\n",
       "      <th>78839</th>\n",
       "      <td>FFFF73D0B7088A0EF0A4B7F3CC26F8CF672C6EC1</td>\n",
       "      <td>1</td>\n",
       "      <td>1</td>\n",
       "    </tr>\n",
       "    <tr>\n",
       "      <th>78840</th>\n",
       "      <td>FFFFB0916FD16C7AF652FF211662005C40F70E33</td>\n",
       "      <td>1</td>\n",
       "      <td>3</td>\n",
       "    </tr>\n",
       "  </tbody>\n",
       "</table>\n",
       "<p>78841 rows × 3 columns</p>\n",
       "</div>"
      ],
      "text/plain": [
       "                                      INTERNOEN  captures_by_inmate  \\\n",
       "0      000334541B6B3305CE91761942D7B381248777EA                   1   \n",
       "1      000357E4F19E3722BA43488F69A7D7DECFC620C4                   1   \n",
       "2      000393AD7FE65FBBE53A61B0EAA1FB9A62F71450                   1   \n",
       "3      0003BE212427DF2E9CCB2449B6012EF915B3FAE3                   1   \n",
       "4      00043EB254F6E5EFCE77A8C20BC709B63A4BE443                   1   \n",
       "...                                         ...                 ...   \n",
       "78836  FFFC9F1A5227DDD6F78179576170997CAAB63AD7                   2   \n",
       "78837  FFFD204514A5DF9EE2F1E36CDBF16F0B79C45590                   1   \n",
       "78838  FFFE667F85CF452DB70B955609103CB72ECA3EEB                   1   \n",
       "78839  FFFF73D0B7088A0EF0A4B7F3CC26F8CF672C6EC1                   1   \n",
       "78840  FFFFB0916FD16C7AF652FF211662005C40F70E33                   1   \n",
       "\n",
       "       crimes_per_inmate_capture  \n",
       "0                              1  \n",
       "1                              2  \n",
       "2                              2  \n",
       "3                              1  \n",
       "4                              1  \n",
       "...                          ...  \n",
       "78836                          2  \n",
       "78837                          1  \n",
       "78838                          1  \n",
       "78839                          1  \n",
       "78840                          3  \n",
       "\n",
       "[78841 rows x 3 columns]"
      ]
     },
     "execution_count": 190,
     "metadata": {},
     "output_type": "execute_result"
    }
   ],
   "source": [
    "temp = data.groupby(['INTERNOEN','captures_by_inmate'])['crimes_per_inmate_capture'].count() \\\n",
    "        .reset_index()\n",
    "temp"
   ]
  },
  {
   "cell_type": "code",
   "execution_count": 205,
   "metadata": {
    "ExecuteTime": {
     "end_time": "2020-06-19T03:19:27.391599Z",
     "start_time": "2020-06-19T03:19:27.357910Z"
    }
   },
   "outputs": [
    {
     "data": {
      "text/html": [
       "<div>\n",
       "<style scoped>\n",
       "    .dataframe tbody tr th:only-of-type {\n",
       "        vertical-align: middle;\n",
       "    }\n",
       "\n",
       "    .dataframe tbody tr th {\n",
       "        vertical-align: top;\n",
       "    }\n",
       "\n",
       "    .dataframe thead tr th {\n",
       "        text-align: left;\n",
       "    }\n",
       "\n",
       "    .dataframe thead tr:last-of-type th {\n",
       "        text-align: right;\n",
       "    }\n",
       "</style>\n",
       "<table border=\"1\" class=\"dataframe\">\n",
       "  <thead>\n",
       "    <tr>\n",
       "      <th></th>\n",
       "      <th colspan=\"16\" halign=\"left\">INTERNOEN</th>\n",
       "    </tr>\n",
       "    <tr>\n",
       "      <th>crimes_per_inmate_capture</th>\n",
       "      <th>1</th>\n",
       "      <th>2</th>\n",
       "      <th>3</th>\n",
       "      <th>4</th>\n",
       "      <th>5</th>\n",
       "      <th>6</th>\n",
       "      <th>7</th>\n",
       "      <th>8</th>\n",
       "      <th>9</th>\n",
       "      <th>10</th>\n",
       "      <th>11</th>\n",
       "      <th>12</th>\n",
       "      <th>13</th>\n",
       "      <th>14</th>\n",
       "      <th>15</th>\n",
       "      <th>16</th>\n",
       "    </tr>\n",
       "    <tr>\n",
       "      <th>captures_by_inmate</th>\n",
       "      <th></th>\n",
       "      <th></th>\n",
       "      <th></th>\n",
       "      <th></th>\n",
       "      <th></th>\n",
       "      <th></th>\n",
       "      <th></th>\n",
       "      <th></th>\n",
       "      <th></th>\n",
       "      <th></th>\n",
       "      <th></th>\n",
       "      <th></th>\n",
       "      <th></th>\n",
       "      <th></th>\n",
       "      <th></th>\n",
       "      <th></th>\n",
       "    </tr>\n",
       "  </thead>\n",
       "  <tbody>\n",
       "    <tr>\n",
       "      <th>1</th>\n",
       "      <td>39684.0000</td>\n",
       "      <td>13413.0000</td>\n",
       "      <td>3928.0000</td>\n",
       "      <td>1158.0000</td>\n",
       "      <td>369.0000</td>\n",
       "      <td>115.0000</td>\n",
       "      <td>43.0000</td>\n",
       "      <td>17.0000</td>\n",
       "      <td>3.0000</td>\n",
       "      <td>3.0000</td>\n",
       "      <td>1.0000</td>\n",
       "      <td>2.0000</td>\n",
       "      <td>1.0000</td>\n",
       "      <td>1.0000</td>\n",
       "      <td>0.0001</td>\n",
       "      <td>1.0000</td>\n",
       "    </tr>\n",
       "    <tr>\n",
       "      <th>2</th>\n",
       "      <td>0.0001</td>\n",
       "      <td>10239.0000</td>\n",
       "      <td>4049.0000</td>\n",
       "      <td>1466.0000</td>\n",
       "      <td>467.0000</td>\n",
       "      <td>167.0000</td>\n",
       "      <td>55.0000</td>\n",
       "      <td>23.0000</td>\n",
       "      <td>6.0000</td>\n",
       "      <td>2.0000</td>\n",
       "      <td>1.0000</td>\n",
       "      <td>1.0000</td>\n",
       "      <td>0.0001</td>\n",
       "      <td>1.0000</td>\n",
       "      <td>1.0000</td>\n",
       "      <td>0.0001</td>\n",
       "    </tr>\n",
       "    <tr>\n",
       "      <th>3</th>\n",
       "      <td>0.0001</td>\n",
       "      <td>0.0001</td>\n",
       "      <td>1643.0000</td>\n",
       "      <td>833.0000</td>\n",
       "      <td>344.0000</td>\n",
       "      <td>127.0000</td>\n",
       "      <td>49.0000</td>\n",
       "      <td>14.0000</td>\n",
       "      <td>8.0000</td>\n",
       "      <td>2.0000</td>\n",
       "      <td>1.0000</td>\n",
       "      <td>2.0000</td>\n",
       "      <td>0.0001</td>\n",
       "      <td>0.0001</td>\n",
       "      <td>0.0001</td>\n",
       "      <td>0.0001</td>\n",
       "    </tr>\n",
       "    <tr>\n",
       "      <th>4</th>\n",
       "      <td>0.0001</td>\n",
       "      <td>0.0001</td>\n",
       "      <td>0.0001</td>\n",
       "      <td>267.0000</td>\n",
       "      <td>134.0000</td>\n",
       "      <td>53.0000</td>\n",
       "      <td>24.0000</td>\n",
       "      <td>12.0000</td>\n",
       "      <td>3.0000</td>\n",
       "      <td>4.0000</td>\n",
       "      <td>0.0001</td>\n",
       "      <td>0.0001</td>\n",
       "      <td>0.0001</td>\n",
       "      <td>0.0001</td>\n",
       "      <td>0.0001</td>\n",
       "      <td>0.0001</td>\n",
       "    </tr>\n",
       "    <tr>\n",
       "      <th>5</th>\n",
       "      <td>0.0001</td>\n",
       "      <td>0.0001</td>\n",
       "      <td>0.0001</td>\n",
       "      <td>0.0001</td>\n",
       "      <td>45.0000</td>\n",
       "      <td>21.0000</td>\n",
       "      <td>18.0000</td>\n",
       "      <td>5.0000</td>\n",
       "      <td>1.0000</td>\n",
       "      <td>0.0001</td>\n",
       "      <td>0.0001</td>\n",
       "      <td>0.0001</td>\n",
       "      <td>1.0000</td>\n",
       "      <td>0.0001</td>\n",
       "      <td>0.0001</td>\n",
       "      <td>0.0001</td>\n",
       "    </tr>\n",
       "    <tr>\n",
       "      <th>6</th>\n",
       "      <td>0.0001</td>\n",
       "      <td>0.0001</td>\n",
       "      <td>0.0001</td>\n",
       "      <td>0.0001</td>\n",
       "      <td>0.0001</td>\n",
       "      <td>4.0000</td>\n",
       "      <td>4.0000</td>\n",
       "      <td>1.0000</td>\n",
       "      <td>0.0001</td>\n",
       "      <td>1.0000</td>\n",
       "      <td>0.0001</td>\n",
       "      <td>0.0001</td>\n",
       "      <td>0.0001</td>\n",
       "      <td>0.0001</td>\n",
       "      <td>0.0001</td>\n",
       "      <td>0.0001</td>\n",
       "    </tr>\n",
       "    <tr>\n",
       "      <th>7</th>\n",
       "      <td>0.0001</td>\n",
       "      <td>0.0001</td>\n",
       "      <td>0.0001</td>\n",
       "      <td>0.0001</td>\n",
       "      <td>0.0001</td>\n",
       "      <td>0.0001</td>\n",
       "      <td>2.0000</td>\n",
       "      <td>0.0001</td>\n",
       "      <td>0.0001</td>\n",
       "      <td>0.0001</td>\n",
       "      <td>0.0001</td>\n",
       "      <td>0.0001</td>\n",
       "      <td>0.0001</td>\n",
       "      <td>0.0001</td>\n",
       "      <td>0.0001</td>\n",
       "      <td>0.0001</td>\n",
       "    </tr>\n",
       "    <tr>\n",
       "      <th>9</th>\n",
       "      <td>0.0001</td>\n",
       "      <td>0.0001</td>\n",
       "      <td>0.0001</td>\n",
       "      <td>0.0001</td>\n",
       "      <td>0.0001</td>\n",
       "      <td>0.0001</td>\n",
       "      <td>0.0001</td>\n",
       "      <td>0.0001</td>\n",
       "      <td>0.0001</td>\n",
       "      <td>1.0000</td>\n",
       "      <td>0.0001</td>\n",
       "      <td>0.0001</td>\n",
       "      <td>0.0001</td>\n",
       "      <td>0.0001</td>\n",
       "      <td>0.0001</td>\n",
       "      <td>0.0001</td>\n",
       "    </tr>\n",
       "  </tbody>\n",
       "</table>\n",
       "</div>"
      ],
      "text/plain": [
       "                            INTERNOEN                                    \\\n",
       "crimes_per_inmate_capture          1           2          3          4    \n",
       "captures_by_inmate                                                        \n",
       "1                          39684.0000  13413.0000  3928.0000  1158.0000   \n",
       "2                              0.0001  10239.0000  4049.0000  1466.0000   \n",
       "3                              0.0001      0.0001  1643.0000   833.0000   \n",
       "4                              0.0001      0.0001     0.0001   267.0000   \n",
       "5                              0.0001      0.0001     0.0001     0.0001   \n",
       "6                              0.0001      0.0001     0.0001     0.0001   \n",
       "7                              0.0001      0.0001     0.0001     0.0001   \n",
       "9                              0.0001      0.0001     0.0001     0.0001   \n",
       "\n",
       "                                                                         \\\n",
       "crimes_per_inmate_capture        5         6        7        8       9    \n",
       "captures_by_inmate                                                        \n",
       "1                          369.0000  115.0000  43.0000  17.0000  3.0000   \n",
       "2                          467.0000  167.0000  55.0000  23.0000  6.0000   \n",
       "3                          344.0000  127.0000  49.0000  14.0000  8.0000   \n",
       "4                          134.0000   53.0000  24.0000  12.0000  3.0000   \n",
       "5                           45.0000   21.0000  18.0000   5.0000  1.0000   \n",
       "6                            0.0001    4.0000   4.0000   1.0000  0.0001   \n",
       "7                            0.0001    0.0001   2.0000   0.0001  0.0001   \n",
       "9                            0.0001    0.0001   0.0001   0.0001  0.0001   \n",
       "\n",
       "                                                                           \\\n",
       "crimes_per_inmate_capture      10      11      12      13      14      15   \n",
       "captures_by_inmate                                                          \n",
       "1                          3.0000  1.0000  2.0000  1.0000  1.0000  0.0001   \n",
       "2                          2.0000  1.0000  1.0000  0.0001  1.0000  1.0000   \n",
       "3                          2.0000  1.0000  2.0000  0.0001  0.0001  0.0001   \n",
       "4                          4.0000  0.0001  0.0001  0.0001  0.0001  0.0001   \n",
       "5                          0.0001  0.0001  0.0001  1.0000  0.0001  0.0001   \n",
       "6                          1.0000  0.0001  0.0001  0.0001  0.0001  0.0001   \n",
       "7                          0.0001  0.0001  0.0001  0.0001  0.0001  0.0001   \n",
       "9                          1.0000  0.0001  0.0001  0.0001  0.0001  0.0001   \n",
       "\n",
       "                                   \n",
       "crimes_per_inmate_capture      16  \n",
       "captures_by_inmate                 \n",
       "1                          1.0000  \n",
       "2                          0.0001  \n",
       "3                          0.0001  \n",
       "4                          0.0001  \n",
       "5                          0.0001  \n",
       "6                          0.0001  \n",
       "7                          0.0001  \n",
       "9                          0.0001  "
      ]
     },
     "execution_count": 205,
     "metadata": {},
     "output_type": "execute_result"
    }
   ],
   "source": [
    "heat_matrix = temp.groupby(['captures_by_inmate','crimes_per_inmate_capture'])[['INTERNOEN']].count().unstack().fillna(0.0001)\n",
    "heat_matrix"
   ]
  },
  {
   "cell_type": "code",
   "execution_count": 208,
   "metadata": {
    "ExecuteTime": {
     "end_time": "2020-06-19T03:20:20.431744Z",
     "start_time": "2020-06-19T03:20:20.407177Z"
    }
   },
   "outputs": [
    {
     "data": {
      "text/html": [
       "<div>\n",
       "        \n",
       "        \n",
       "            <div id=\"6e8b32fb-1765-4b1e-b2d6-eea85108b4b8\" class=\"plotly-graph-div\" style=\"height:525px; width:100%;\"></div>\n",
       "            <script type=\"text/javascript\">\n",
       "                require([\"plotly\"], function(Plotly) {\n",
       "                    window.PLOTLYENV=window.PLOTLYENV || {};\n",
       "                    \n",
       "                if (document.getElementById(\"6e8b32fb-1765-4b1e-b2d6-eea85108b4b8\")) {\n",
       "                    Plotly.newPlot(\n",
       "                        '6e8b32fb-1765-4b1e-b2d6-eea85108b4b8',\n",
       "                        [{\"coloraxis\": \"coloraxis\", \"hovertemplate\": \"Crimes per inmates capture: %{x}<br>Captures by inmate: %{y}<br>color: %{z}<extra></extra>\", \"type\": \"heatmap\", \"x\": [1, 2, 3, 4, 5, 6, 7, 8, 9, 10, 11, 12, 13, 14, 15, 16], \"y\": [1, 2, 3, 4, 5, 6, 7, 9], \"z\": [[10.588703362769794, 9.50397966490209, 8.275885669474356, 7.05444965813294, 5.910796644040527, 4.74493212836325, 3.7612001156935624, 2.833213344056216, 1.0986122886681098, 1.0986122886681098, 0.0, 0.6931471805599453, 0.0, 0.0, -9.210340371976182, 0.0], [-9.210340371976182, 9.233959237574817, 8.30622521603216, 7.290292882446597, 6.1463292576688975, 5.117993812416755, 4.007333185232471, 3.1354942159291497, 1.791759469228055, 0.6931471805599453, 0.0, 0.0, -9.210340371976182, 0.0, 0.0, -9.210340371976182], [-9.210340371976182, -9.210340371976182, 7.404279118037268, 6.725033642166843, 5.840641657373398, 4.844187086458591, 3.8918202981106265, 2.6390573296152584, 2.0794415416798357, 0.6931471805599453, 0.0, 0.6931471805599453, -9.210340371976182, -9.210340371976182, -9.210340371976182, -9.210340371976182], [-9.210340371976182, -9.210340371976182, -9.210340371976182, 5.58724865840025, 4.897839799950911, 3.970291913552122, 3.1780538303479458, 2.4849066497880004, 1.0986122886681098, 1.3862943611198906, -9.210340371976182, -9.210340371976182, -9.210340371976182, -9.210340371976182, -9.210340371976182, -9.210340371976182], [-9.210340371976182, -9.210340371976182, -9.210340371976182, -9.210340371976182, 3.8066624897703196, 3.044522437723423, 2.8903717578961645, 1.6094379124341003, 0.0, -9.210340371976182, -9.210340371976182, -9.210340371976182, 0.0, -9.210340371976182, -9.210340371976182, -9.210340371976182], [-9.210340371976182, -9.210340371976182, -9.210340371976182, -9.210340371976182, -9.210340371976182, 1.3862943611198906, 1.3862943611198906, 0.0, -9.210340371976182, 0.0, -9.210340371976182, -9.210340371976182, -9.210340371976182, -9.210340371976182, -9.210340371976182, -9.210340371976182], [-9.210340371976182, -9.210340371976182, -9.210340371976182, -9.210340371976182, -9.210340371976182, -9.210340371976182, 0.6931471805599453, -9.210340371976182, -9.210340371976182, -9.210340371976182, -9.210340371976182, -9.210340371976182, -9.210340371976182, -9.210340371976182, -9.210340371976182, -9.210340371976182], [-9.210340371976182, -9.210340371976182, -9.210340371976182, -9.210340371976182, -9.210340371976182, -9.210340371976182, -9.210340371976182, -9.210340371976182, -9.210340371976182, 0.0, -9.210340371976182, -9.210340371976182, -9.210340371976182, -9.210340371976182, -9.210340371976182, -9.210340371976182]]}],\n",
       "                        {\"coloraxis\": {\"colorscale\": [[0.0, \"#0d0887\"], [0.1111111111111111, \"#46039f\"], [0.2222222222222222, \"#7201a8\"], [0.3333333333333333, \"#9c179e\"], [0.4444444444444444, \"#bd3786\"], [0.5555555555555556, \"#d8576b\"], [0.6666666666666666, \"#ed7953\"], [0.7777777777777778, \"#fb9f3a\"], [0.8888888888888888, \"#fdca26\"], [1.0, \"#f0f921\"]]}, \"margin\": {\"t\": 60}, \"template\": {\"data\": {\"bar\": [{\"error_x\": {\"color\": \"#2a3f5f\"}, \"error_y\": {\"color\": \"#2a3f5f\"}, \"marker\": {\"line\": {\"color\": \"#E5ECF6\", \"width\": 0.5}}, \"type\": \"bar\"}], \"barpolar\": [{\"marker\": {\"line\": {\"color\": \"#E5ECF6\", \"width\": 0.5}}, \"type\": \"barpolar\"}], \"carpet\": [{\"aaxis\": {\"endlinecolor\": \"#2a3f5f\", \"gridcolor\": \"white\", \"linecolor\": \"white\", \"minorgridcolor\": \"white\", \"startlinecolor\": \"#2a3f5f\"}, \"baxis\": {\"endlinecolor\": \"#2a3f5f\", \"gridcolor\": \"white\", \"linecolor\": \"white\", \"minorgridcolor\": \"white\", \"startlinecolor\": \"#2a3f5f\"}, \"type\": \"carpet\"}], \"choropleth\": [{\"colorbar\": {\"outlinewidth\": 0, \"ticks\": \"\"}, \"type\": \"choropleth\"}], \"contour\": [{\"colorbar\": {\"outlinewidth\": 0, \"ticks\": \"\"}, \"colorscale\": [[0.0, \"#0d0887\"], [0.1111111111111111, \"#46039f\"], [0.2222222222222222, \"#7201a8\"], [0.3333333333333333, \"#9c179e\"], [0.4444444444444444, \"#bd3786\"], [0.5555555555555556, \"#d8576b\"], [0.6666666666666666, \"#ed7953\"], [0.7777777777777778, \"#fb9f3a\"], [0.8888888888888888, \"#fdca26\"], [1.0, \"#f0f921\"]], \"type\": \"contour\"}], \"contourcarpet\": [{\"colorbar\": {\"outlinewidth\": 0, \"ticks\": \"\"}, \"type\": \"contourcarpet\"}], \"heatmap\": [{\"colorbar\": {\"outlinewidth\": 0, \"ticks\": \"\"}, \"colorscale\": [[0.0, \"#0d0887\"], [0.1111111111111111, \"#46039f\"], [0.2222222222222222, \"#7201a8\"], [0.3333333333333333, \"#9c179e\"], [0.4444444444444444, \"#bd3786\"], [0.5555555555555556, \"#d8576b\"], [0.6666666666666666, \"#ed7953\"], [0.7777777777777778, \"#fb9f3a\"], [0.8888888888888888, \"#fdca26\"], [1.0, \"#f0f921\"]], \"type\": \"heatmap\"}], \"heatmapgl\": [{\"colorbar\": {\"outlinewidth\": 0, \"ticks\": \"\"}, \"colorscale\": [[0.0, \"#0d0887\"], [0.1111111111111111, \"#46039f\"], [0.2222222222222222, \"#7201a8\"], [0.3333333333333333, \"#9c179e\"], [0.4444444444444444, \"#bd3786\"], [0.5555555555555556, \"#d8576b\"], [0.6666666666666666, \"#ed7953\"], [0.7777777777777778, \"#fb9f3a\"], [0.8888888888888888, \"#fdca26\"], [1.0, \"#f0f921\"]], \"type\": \"heatmapgl\"}], \"histogram\": [{\"marker\": {\"colorbar\": {\"outlinewidth\": 0, \"ticks\": \"\"}}, \"type\": \"histogram\"}], \"histogram2d\": [{\"colorbar\": {\"outlinewidth\": 0, \"ticks\": \"\"}, \"colorscale\": [[0.0, \"#0d0887\"], [0.1111111111111111, \"#46039f\"], [0.2222222222222222, \"#7201a8\"], [0.3333333333333333, \"#9c179e\"], [0.4444444444444444, \"#bd3786\"], [0.5555555555555556, \"#d8576b\"], [0.6666666666666666, \"#ed7953\"], [0.7777777777777778, \"#fb9f3a\"], [0.8888888888888888, \"#fdca26\"], [1.0, \"#f0f921\"]], \"type\": \"histogram2d\"}], \"histogram2dcontour\": [{\"colorbar\": {\"outlinewidth\": 0, \"ticks\": \"\"}, \"colorscale\": [[0.0, \"#0d0887\"], [0.1111111111111111, \"#46039f\"], [0.2222222222222222, \"#7201a8\"], [0.3333333333333333, \"#9c179e\"], [0.4444444444444444, \"#bd3786\"], [0.5555555555555556, \"#d8576b\"], [0.6666666666666666, \"#ed7953\"], [0.7777777777777778, \"#fb9f3a\"], [0.8888888888888888, \"#fdca26\"], [1.0, \"#f0f921\"]], \"type\": \"histogram2dcontour\"}], \"mesh3d\": [{\"colorbar\": {\"outlinewidth\": 0, \"ticks\": \"\"}, \"type\": \"mesh3d\"}], \"parcoords\": [{\"line\": {\"colorbar\": {\"outlinewidth\": 0, \"ticks\": \"\"}}, \"type\": \"parcoords\"}], \"pie\": [{\"automargin\": true, \"type\": \"pie\"}], \"scatter\": [{\"marker\": {\"colorbar\": {\"outlinewidth\": 0, \"ticks\": \"\"}}, \"type\": \"scatter\"}], \"scatter3d\": [{\"line\": {\"colorbar\": {\"outlinewidth\": 0, \"ticks\": \"\"}}, \"marker\": {\"colorbar\": {\"outlinewidth\": 0, \"ticks\": \"\"}}, \"type\": \"scatter3d\"}], \"scattercarpet\": [{\"marker\": {\"colorbar\": {\"outlinewidth\": 0, \"ticks\": \"\"}}, \"type\": \"scattercarpet\"}], \"scattergeo\": [{\"marker\": {\"colorbar\": {\"outlinewidth\": 0, \"ticks\": \"\"}}, \"type\": \"scattergeo\"}], \"scattergl\": [{\"marker\": {\"colorbar\": {\"outlinewidth\": 0, \"ticks\": \"\"}}, \"type\": \"scattergl\"}], \"scattermapbox\": [{\"marker\": {\"colorbar\": {\"outlinewidth\": 0, \"ticks\": \"\"}}, \"type\": \"scattermapbox\"}], \"scatterpolar\": [{\"marker\": {\"colorbar\": {\"outlinewidth\": 0, \"ticks\": \"\"}}, \"type\": \"scatterpolar\"}], \"scatterpolargl\": [{\"marker\": {\"colorbar\": {\"outlinewidth\": 0, \"ticks\": \"\"}}, \"type\": \"scatterpolargl\"}], \"scatterternary\": [{\"marker\": {\"colorbar\": {\"outlinewidth\": 0, \"ticks\": \"\"}}, \"type\": \"scatterternary\"}], \"surface\": [{\"colorbar\": {\"outlinewidth\": 0, \"ticks\": \"\"}, \"colorscale\": [[0.0, \"#0d0887\"], [0.1111111111111111, \"#46039f\"], [0.2222222222222222, \"#7201a8\"], [0.3333333333333333, \"#9c179e\"], [0.4444444444444444, \"#bd3786\"], [0.5555555555555556, \"#d8576b\"], [0.6666666666666666, \"#ed7953\"], [0.7777777777777778, \"#fb9f3a\"], [0.8888888888888888, \"#fdca26\"], [1.0, \"#f0f921\"]], \"type\": \"surface\"}], \"table\": [{\"cells\": {\"fill\": {\"color\": \"#EBF0F8\"}, \"line\": {\"color\": \"white\"}}, \"header\": {\"fill\": {\"color\": \"#C8D4E3\"}, \"line\": {\"color\": \"white\"}}, \"type\": \"table\"}]}, \"layout\": {\"annotationdefaults\": {\"arrowcolor\": \"#2a3f5f\", \"arrowhead\": 0, \"arrowwidth\": 1}, \"coloraxis\": {\"colorbar\": {\"outlinewidth\": 0, \"ticks\": \"\"}}, \"colorscale\": {\"diverging\": [[0, \"#8e0152\"], [0.1, \"#c51b7d\"], [0.2, \"#de77ae\"], [0.3, \"#f1b6da\"], [0.4, \"#fde0ef\"], [0.5, \"#f7f7f7\"], [0.6, \"#e6f5d0\"], [0.7, \"#b8e186\"], [0.8, \"#7fbc41\"], [0.9, \"#4d9221\"], [1, \"#276419\"]], \"sequential\": [[0.0, \"#0d0887\"], [0.1111111111111111, \"#46039f\"], [0.2222222222222222, \"#7201a8\"], [0.3333333333333333, \"#9c179e\"], [0.4444444444444444, \"#bd3786\"], [0.5555555555555556, \"#d8576b\"], [0.6666666666666666, \"#ed7953\"], [0.7777777777777778, \"#fb9f3a\"], [0.8888888888888888, \"#fdca26\"], [1.0, \"#f0f921\"]], \"sequentialminus\": [[0.0, \"#0d0887\"], [0.1111111111111111, \"#46039f\"], [0.2222222222222222, \"#7201a8\"], [0.3333333333333333, \"#9c179e\"], [0.4444444444444444, \"#bd3786\"], [0.5555555555555556, \"#d8576b\"], [0.6666666666666666, \"#ed7953\"], [0.7777777777777778, \"#fb9f3a\"], [0.8888888888888888, \"#fdca26\"], [1.0, \"#f0f921\"]]}, \"colorway\": [\"#636efa\", \"#EF553B\", \"#00cc96\", \"#ab63fa\", \"#FFA15A\", \"#19d3f3\", \"#FF6692\", \"#B6E880\", \"#FF97FF\", \"#FECB52\"], \"font\": {\"color\": \"#2a3f5f\"}, \"geo\": {\"bgcolor\": \"white\", \"lakecolor\": \"white\", \"landcolor\": \"#E5ECF6\", \"showlakes\": true, \"showland\": true, \"subunitcolor\": \"white\"}, \"hoverlabel\": {\"align\": \"left\"}, \"hovermode\": \"closest\", \"mapbox\": {\"style\": \"light\"}, \"paper_bgcolor\": \"white\", \"plot_bgcolor\": \"#E5ECF6\", \"polar\": {\"angularaxis\": {\"gridcolor\": \"white\", \"linecolor\": \"white\", \"ticks\": \"\"}, \"bgcolor\": \"#E5ECF6\", \"radialaxis\": {\"gridcolor\": \"white\", \"linecolor\": \"white\", \"ticks\": \"\"}}, \"scene\": {\"xaxis\": {\"backgroundcolor\": \"#E5ECF6\", \"gridcolor\": \"white\", \"gridwidth\": 2, \"linecolor\": \"white\", \"showbackground\": true, \"ticks\": \"\", \"zerolinecolor\": \"white\"}, \"yaxis\": {\"backgroundcolor\": \"#E5ECF6\", \"gridcolor\": \"white\", \"gridwidth\": 2, \"linecolor\": \"white\", \"showbackground\": true, \"ticks\": \"\", \"zerolinecolor\": \"white\"}, \"zaxis\": {\"backgroundcolor\": \"#E5ECF6\", \"gridcolor\": \"white\", \"gridwidth\": 2, \"linecolor\": \"white\", \"showbackground\": true, \"ticks\": \"\", \"zerolinecolor\": \"white\"}}, \"shapedefaults\": {\"line\": {\"color\": \"#2a3f5f\"}}, \"ternary\": {\"aaxis\": {\"gridcolor\": \"white\", \"linecolor\": \"white\", \"ticks\": \"\"}, \"baxis\": {\"gridcolor\": \"white\", \"linecolor\": \"white\", \"ticks\": \"\"}, \"bgcolor\": \"#E5ECF6\", \"caxis\": {\"gridcolor\": \"white\", \"linecolor\": \"white\", \"ticks\": \"\"}}, \"title\": {\"x\": 0.05}, \"xaxis\": {\"automargin\": true, \"gridcolor\": \"white\", \"linecolor\": \"white\", \"ticks\": \"\", \"title\": {\"standoff\": 15}, \"zerolinecolor\": \"white\", \"zerolinewidth\": 2}, \"yaxis\": {\"automargin\": true, \"gridcolor\": \"white\", \"linecolor\": \"white\", \"ticks\": \"\", \"title\": {\"standoff\": 15}, \"zerolinecolor\": \"white\", \"zerolinewidth\": 2}}}, \"xaxis\": {\"constrain\": \"domain\", \"scaleanchor\": \"y\", \"side\": \"top\", \"title\": {\"text\": \"Crimes per inmates capture\"}}, \"yaxis\": {\"autorange\": \"reversed\", \"constrain\": \"domain\", \"title\": {\"text\": \"Captures by inmate\"}}},\n",
       "                        {\"responsive\": true}\n",
       "                    ).then(function(){\n",
       "                            \n",
       "var gd = document.getElementById('6e8b32fb-1765-4b1e-b2d6-eea85108b4b8');\n",
       "var x = new MutationObserver(function (mutations, observer) {{\n",
       "        var display = window.getComputedStyle(gd).display;\n",
       "        if (!display || display === 'none') {{\n",
       "            console.log([gd, 'removed!']);\n",
       "            Plotly.purge(gd);\n",
       "            observer.disconnect();\n",
       "        }}\n",
       "}});\n",
       "\n",
       "// Listen for the removal of the full notebook cells\n",
       "var notebookContainer = gd.closest('#notebook-container');\n",
       "if (notebookContainer) {{\n",
       "    x.observe(notebookContainer, {childList: true});\n",
       "}}\n",
       "\n",
       "// Listen for the clearing of the current output cell\n",
       "var outputEl = gd.closest('.output');\n",
       "if (outputEl) {{\n",
       "    x.observe(outputEl, {childList: true});\n",
       "}}\n",
       "\n",
       "                        })\n",
       "                };\n",
       "                });\n",
       "            </script>\n",
       "        </div>"
      ]
     },
     "metadata": {},
     "output_type": "display_data"
    }
   ],
   "source": [
    "fig = px.imshow(\n",
    "                #np.log((heat_matrix.values / heat_matrix.values.max()) * 100),\n",
    "                np.log(heat_matrix.values),\n",
    "                labels=dict(x=\"Crimes per inmates capture\", y=\"Captures by inmate\"),#, color=\"PM2.5_WHO\"),\n",
    "                x=heat_matrix.columns.get_level_values(1),\n",
    "                y=heat_matrix.index.get_level_values(0)\n",
    "               )\n",
    "fig.update_xaxes(side=\"top\")\n",
    "                 #title='Crimes per capture vs Captures by Inmate')\n",
    "fig.show()"
   ]
  },
  {
   "cell_type": "markdown",
   "metadata": {},
   "source": [
    "### Fecha Ingreso Distribution by Year and Month"
   ]
  },
  {
   "cell_type": "code",
   "execution_count": 125,
   "metadata": {
    "ExecuteTime": {
     "end_time": "2020-06-08T22:32:18.037982Z",
     "start_time": "2020-06-08T22:32:18.009751Z"
    },
    "scrolled": true
   },
   "outputs": [
    {
     "data": {
      "text/html": [
       "<div>\n",
       "<style scoped>\n",
       "    .dataframe tbody tr th:only-of-type {\n",
       "        vertical-align: middle;\n",
       "    }\n",
       "\n",
       "    .dataframe tbody tr th {\n",
       "        vertical-align: top;\n",
       "    }\n",
       "\n",
       "    .dataframe thead th {\n",
       "        text-align: right;\n",
       "    }\n",
       "</style>\n",
       "<table border=\"1\" class=\"dataframe\">\n",
       "  <thead>\n",
       "    <tr style=\"text-align: right;\">\n",
       "      <th></th>\n",
       "      <th>año</th>\n",
       "      <th>counts</th>\n",
       "    </tr>\n",
       "  </thead>\n",
       "  <tbody>\n",
       "    <tr>\n",
       "      <th>9</th>\n",
       "      <td>2010</td>\n",
       "      <td>10222</td>\n",
       "    </tr>\n",
       "    <tr>\n",
       "      <th>5</th>\n",
       "      <td>2011</td>\n",
       "      <td>13119</td>\n",
       "    </tr>\n",
       "    <tr>\n",
       "      <th>8</th>\n",
       "      <td>2012</td>\n",
       "      <td>10611</td>\n",
       "    </tr>\n",
       "    <tr>\n",
       "      <th>6</th>\n",
       "      <td>2013</td>\n",
       "      <td>12523</td>\n",
       "    </tr>\n",
       "    <tr>\n",
       "      <th>7</th>\n",
       "      <td>2014</td>\n",
       "      <td>11155</td>\n",
       "    </tr>\n",
       "    <tr>\n",
       "      <th>4</th>\n",
       "      <td>2015</td>\n",
       "      <td>13933</td>\n",
       "    </tr>\n",
       "    <tr>\n",
       "      <th>3</th>\n",
       "      <td>2016</td>\n",
       "      <td>15184</td>\n",
       "    </tr>\n",
       "    <tr>\n",
       "      <th>2</th>\n",
       "      <td>2017</td>\n",
       "      <td>15759</td>\n",
       "    </tr>\n",
       "    <tr>\n",
       "      <th>1</th>\n",
       "      <td>2018</td>\n",
       "      <td>17543</td>\n",
       "    </tr>\n",
       "    <tr>\n",
       "      <th>0</th>\n",
       "      <td>2019</td>\n",
       "      <td>18317</td>\n",
       "    </tr>\n",
       "    <tr>\n",
       "      <th>10</th>\n",
       "      <td>2020</td>\n",
       "      <td>4133</td>\n",
       "    </tr>\n",
       "  </tbody>\n",
       "</table>\n",
       "</div>"
      ],
      "text/plain": [
       "     año  counts\n",
       "9   2010   10222\n",
       "5   2011   13119\n",
       "8   2012   10611\n",
       "6   2013   12523\n",
       "7   2014   11155\n",
       "4   2015   13933\n",
       "3   2016   15184\n",
       "2   2017   15759\n",
       "1   2018   17543\n",
       "0   2019   18317\n",
       "10  2020    4133"
      ]
     },
     "execution_count": 125,
     "metadata": {},
     "output_type": "execute_result"
    }
   ],
   "source": [
    "años_fech_ing = data['FECHA_INGRESO'].dt.year.value_counts().to_frame().reset_index()\n",
    "años_fech_ing.columns = ['año','counts']\n",
    "años_fech_ing.sort_values(by='año')"
   ]
  },
  {
   "cell_type": "code",
   "execution_count": 126,
   "metadata": {
    "ExecuteTime": {
     "end_time": "2020-06-08T22:32:33.490489Z",
     "start_time": "2020-06-08T22:32:33.459508Z"
    },
    "scrolled": true
   },
   "outputs": [
    {
     "data": {
      "text/html": [
       "<div>\n",
       "<style scoped>\n",
       "    .dataframe tbody tr th:only-of-type {\n",
       "        vertical-align: middle;\n",
       "    }\n",
       "\n",
       "    .dataframe tbody tr th {\n",
       "        vertical-align: top;\n",
       "    }\n",
       "\n",
       "    .dataframe thead th {\n",
       "        text-align: right;\n",
       "    }\n",
       "</style>\n",
       "<table border=\"1\" class=\"dataframe\">\n",
       "  <thead>\n",
       "    <tr style=\"text-align: right;\">\n",
       "      <th></th>\n",
       "      <th>año</th>\n",
       "      <th>counts</th>\n",
       "    </tr>\n",
       "  </thead>\n",
       "  <tbody>\n",
       "    <tr>\n",
       "      <th>27</th>\n",
       "      <td>1978</td>\n",
       "      <td>1</td>\n",
       "    </tr>\n",
       "    <tr>\n",
       "      <th>25</th>\n",
       "      <td>1994</td>\n",
       "      <td>5</td>\n",
       "    </tr>\n",
       "    <tr>\n",
       "      <th>26</th>\n",
       "      <td>1995</td>\n",
       "      <td>3</td>\n",
       "    </tr>\n",
       "    <tr>\n",
       "      <th>24</th>\n",
       "      <td>1996</td>\n",
       "      <td>20</td>\n",
       "    </tr>\n",
       "    <tr>\n",
       "      <th>23</th>\n",
       "      <td>1997</td>\n",
       "      <td>28</td>\n",
       "    </tr>\n",
       "    <tr>\n",
       "      <th>22</th>\n",
       "      <td>1998</td>\n",
       "      <td>32</td>\n",
       "    </tr>\n",
       "    <tr>\n",
       "      <th>21</th>\n",
       "      <td>1999</td>\n",
       "      <td>45</td>\n",
       "    </tr>\n",
       "    <tr>\n",
       "      <th>20</th>\n",
       "      <td>2000</td>\n",
       "      <td>93</td>\n",
       "    </tr>\n",
       "    <tr>\n",
       "      <th>19</th>\n",
       "      <td>2001</td>\n",
       "      <td>108</td>\n",
       "    </tr>\n",
       "    <tr>\n",
       "      <th>18</th>\n",
       "      <td>2002</td>\n",
       "      <td>165</td>\n",
       "    </tr>\n",
       "    <tr>\n",
       "      <th>17</th>\n",
       "      <td>2003</td>\n",
       "      <td>212</td>\n",
       "    </tr>\n",
       "    <tr>\n",
       "      <th>16</th>\n",
       "      <td>2004</td>\n",
       "      <td>280</td>\n",
       "    </tr>\n",
       "    <tr>\n",
       "      <th>15</th>\n",
       "      <td>2005</td>\n",
       "      <td>432</td>\n",
       "    </tr>\n",
       "    <tr>\n",
       "      <th>14</th>\n",
       "      <td>2006</td>\n",
       "      <td>619</td>\n",
       "    </tr>\n",
       "    <tr>\n",
       "      <th>13</th>\n",
       "      <td>2007</td>\n",
       "      <td>1471</td>\n",
       "    </tr>\n",
       "    <tr>\n",
       "      <th>11</th>\n",
       "      <td>2008</td>\n",
       "      <td>2754</td>\n",
       "    </tr>\n",
       "    <tr>\n",
       "      <th>10</th>\n",
       "      <td>2009</td>\n",
       "      <td>4565</td>\n",
       "    </tr>\n",
       "    <tr>\n",
       "      <th>8</th>\n",
       "      <td>2010</td>\n",
       "      <td>11203</td>\n",
       "    </tr>\n",
       "    <tr>\n",
       "      <th>4</th>\n",
       "      <td>2011</td>\n",
       "      <td>13221</td>\n",
       "    </tr>\n",
       "    <tr>\n",
       "      <th>6</th>\n",
       "      <td>2012</td>\n",
       "      <td>12482</td>\n",
       "    </tr>\n",
       "    <tr>\n",
       "      <th>7</th>\n",
       "      <td>2013</td>\n",
       "      <td>11738</td>\n",
       "    </tr>\n",
       "    <tr>\n",
       "      <th>5</th>\n",
       "      <td>2014</td>\n",
       "      <td>12680</td>\n",
       "    </tr>\n",
       "    <tr>\n",
       "      <th>3</th>\n",
       "      <td>2015</td>\n",
       "      <td>13228</td>\n",
       "    </tr>\n",
       "    <tr>\n",
       "      <th>2</th>\n",
       "      <td>2016</td>\n",
       "      <td>14057</td>\n",
       "    </tr>\n",
       "    <tr>\n",
       "      <th>1</th>\n",
       "      <td>2017</td>\n",
       "      <td>14979</td>\n",
       "    </tr>\n",
       "    <tr>\n",
       "      <th>0</th>\n",
       "      <td>2018</td>\n",
       "      <td>15097</td>\n",
       "    </tr>\n",
       "    <tr>\n",
       "      <th>9</th>\n",
       "      <td>2019</td>\n",
       "      <td>11043</td>\n",
       "    </tr>\n",
       "    <tr>\n",
       "      <th>12</th>\n",
       "      <td>2020</td>\n",
       "      <td>1938</td>\n",
       "    </tr>\n",
       "  </tbody>\n",
       "</table>\n",
       "</div>"
      ],
      "text/plain": [
       "     año  counts\n",
       "27  1978       1\n",
       "25  1994       5\n",
       "26  1995       3\n",
       "24  1996      20\n",
       "23  1997      28\n",
       "22  1998      32\n",
       "21  1999      45\n",
       "20  2000      93\n",
       "19  2001     108\n",
       "18  2002     165\n",
       "17  2003     212\n",
       "16  2004     280\n",
       "15  2005     432\n",
       "14  2006     619\n",
       "13  2007    1471\n",
       "11  2008    2754\n",
       "10  2009    4565\n",
       "8   2010   11203\n",
       "4   2011   13221\n",
       "6   2012   12482\n",
       "7   2013   11738\n",
       "5   2014   12680\n",
       "3   2015   13228\n",
       "2   2016   14057\n",
       "1   2017   14979\n",
       "0   2018   15097\n",
       "9   2019   11043\n",
       "12  2020    1938"
      ]
     },
     "execution_count": 126,
     "metadata": {},
     "output_type": "execute_result"
    }
   ],
   "source": [
    "años_fech_cap = data['FECHA_CAPTURA'].dt.year.value_counts().to_frame().reset_index()\n",
    "años_fech_cap.columns = ['año','counts']\n",
    "años_fech_cap.sort_values(by='año')"
   ]
  },
  {
   "cell_type": "code",
   "execution_count": 127,
   "metadata": {
    "ExecuteTime": {
     "end_time": "2020-06-08T22:32:49.888875Z",
     "start_time": "2020-06-08T22:32:44.295150Z"
    }
   },
   "outputs": [
    {
     "data": {
      "text/html": [
       "<div>\n",
       "<style scoped>\n",
       "    .dataframe tbody tr th:only-of-type {\n",
       "        vertical-align: middle;\n",
       "    }\n",
       "\n",
       "    .dataframe tbody tr th {\n",
       "        vertical-align: top;\n",
       "    }\n",
       "\n",
       "    .dataframe thead th {\n",
       "        text-align: right;\n",
       "    }\n",
       "</style>\n",
       "<table border=\"1\" class=\"dataframe\">\n",
       "  <thead>\n",
       "    <tr style=\"text-align: right;\">\n",
       "      <th></th>\n",
       "      <th>FECHA_INGRESO</th>\n",
       "      <th>%</th>\n",
       "    </tr>\n",
       "  </thead>\n",
       "  <tbody>\n",
       "    <tr>\n",
       "      <th>1</th>\n",
       "      <td>58682</td>\n",
       "      <td>74.580278</td>\n",
       "    </tr>\n",
       "    <tr>\n",
       "      <th>2</th>\n",
       "      <td>16398</td>\n",
       "      <td>20.840588</td>\n",
       "    </tr>\n",
       "    <tr>\n",
       "      <th>3</th>\n",
       "      <td>3007</td>\n",
       "      <td>3.821664</td>\n",
       "    </tr>\n",
       "    <tr>\n",
       "      <th>4</th>\n",
       "      <td>493</td>\n",
       "      <td>0.626565</td>\n",
       "    </tr>\n",
       "    <tr>\n",
       "      <th>5</th>\n",
       "      <td>90</td>\n",
       "      <td>0.114383</td>\n",
       "    </tr>\n",
       "    <tr>\n",
       "      <th>6</th>\n",
       "      <td>10</td>\n",
       "      <td>0.012709</td>\n",
       "    </tr>\n",
       "    <tr>\n",
       "      <th>7</th>\n",
       "      <td>2</td>\n",
       "      <td>0.002542</td>\n",
       "    </tr>\n",
       "    <tr>\n",
       "      <th>9</th>\n",
       "      <td>1</td>\n",
       "      <td>0.001271</td>\n",
       "    </tr>\n",
       "  </tbody>\n",
       "</table>\n",
       "</div>"
      ],
      "text/plain": [
       "   FECHA_INGRESO          %\n",
       "1          58682  74.580278\n",
       "2          16398  20.840588\n",
       "3           3007   3.821664\n",
       "4            493   0.626565\n",
       "5             90   0.114383\n",
       "6             10   0.012709\n",
       "7              2   0.002542\n",
       "9              1   0.001271"
      ]
     },
     "execution_count": 127,
     "metadata": {},
     "output_type": "execute_result"
    }
   ],
   "source": [
    "fecha_ing_count = data.groupby(['INTERNOEN'])['FECHA_INGRESO'].apply(lambda x: len(np.unique(x))).value_counts().to_frame()\n",
    "fecha_ing_count['%'] = 100*(fecha_ing_count['FECHA_INGRESO'] / fecha_ing_count['FECHA_INGRESO'].sum())\n",
    "fecha_ing_count"
   ]
  },
  {
   "cell_type": "code",
   "execution_count": 128,
   "metadata": {
    "ExecuteTime": {
     "end_time": "2020-06-08T22:32:59.480012Z",
     "start_time": "2020-06-08T22:32:53.768103Z"
    }
   },
   "outputs": [
    {
     "data": {
      "text/html": [
       "<div>\n",
       "<style scoped>\n",
       "    .dataframe tbody tr th:only-of-type {\n",
       "        vertical-align: middle;\n",
       "    }\n",
       "\n",
       "    .dataframe tbody tr th {\n",
       "        vertical-align: top;\n",
       "    }\n",
       "\n",
       "    .dataframe thead th {\n",
       "        text-align: right;\n",
       "    }\n",
       "</style>\n",
       "<table border=\"1\" class=\"dataframe\">\n",
       "  <thead>\n",
       "    <tr style=\"text-align: right;\">\n",
       "      <th></th>\n",
       "      <th>FECHA_CAPTURA</th>\n",
       "      <th>%</th>\n",
       "    </tr>\n",
       "  </thead>\n",
       "  <tbody>\n",
       "    <tr>\n",
       "      <th>1</th>\n",
       "      <td>55415</td>\n",
       "      <td>70.428174</td>\n",
       "    </tr>\n",
       "    <tr>\n",
       "      <th>2</th>\n",
       "      <td>17647</td>\n",
       "      <td>22.427970</td>\n",
       "    </tr>\n",
       "    <tr>\n",
       "      <th>3</th>\n",
       "      <td>4320</td>\n",
       "      <td>5.490385</td>\n",
       "    </tr>\n",
       "    <tr>\n",
       "      <th>4</th>\n",
       "      <td>983</td>\n",
       "      <td>1.249317</td>\n",
       "    </tr>\n",
       "    <tr>\n",
       "      <th>5</th>\n",
       "      <td>230</td>\n",
       "      <td>0.292312</td>\n",
       "    </tr>\n",
       "    <tr>\n",
       "      <th>6</th>\n",
       "      <td>57</td>\n",
       "      <td>0.072443</td>\n",
       "    </tr>\n",
       "    <tr>\n",
       "      <th>7</th>\n",
       "      <td>25</td>\n",
       "      <td>0.031773</td>\n",
       "    </tr>\n",
       "    <tr>\n",
       "      <th>8</th>\n",
       "      <td>3</td>\n",
       "      <td>0.003813</td>\n",
       "    </tr>\n",
       "    <tr>\n",
       "      <th>9</th>\n",
       "      <td>2</td>\n",
       "      <td>0.002542</td>\n",
       "    </tr>\n",
       "    <tr>\n",
       "      <th>13</th>\n",
       "      <td>1</td>\n",
       "      <td>0.001271</td>\n",
       "    </tr>\n",
       "  </tbody>\n",
       "</table>\n",
       "</div>"
      ],
      "text/plain": [
       "    FECHA_CAPTURA          %\n",
       "1           55415  70.428174\n",
       "2           17647  22.427970\n",
       "3            4320   5.490385\n",
       "4             983   1.249317\n",
       "5             230   0.292312\n",
       "6              57   0.072443\n",
       "7              25   0.031773\n",
       "8               3   0.003813\n",
       "9               2   0.002542\n",
       "13              1   0.001271"
      ]
     },
     "execution_count": 128,
     "metadata": {},
     "output_type": "execute_result"
    }
   ],
   "source": [
    "fecha_cap_count = data.groupby(['INTERNOEN'])['FECHA_CAPTURA'].apply(lambda x: len(np.unique(x))).value_counts().to_frame()\n",
    "fecha_cap_count['%'] = 100*(fecha_cap_count['FECHA_CAPTURA'] / fecha_cap_count['FECHA_CAPTURA'].sum())\n",
    "fecha_cap_count"
   ]
  },
  {
   "cell_type": "code",
   "execution_count": 136,
   "metadata": {
    "ExecuteTime": {
     "end_time": "2020-06-08T22:36:14.736978Z",
     "start_time": "2020-06-08T22:36:14.700101Z"
    }
   },
   "outputs": [
    {
     "data": {
      "text/plain": [
       "(78683,)"
      ]
     },
     "execution_count": 136,
     "metadata": {},
     "output_type": "execute_result"
    }
   ],
   "source": [
    "data.INTERNOEN.unique().shape"
   ]
  },
  {
   "cell_type": "code",
   "execution_count": 135,
   "metadata": {
    "ExecuteTime": {
     "end_time": "2020-06-08T22:35:55.532513Z",
     "start_time": "2020-06-08T22:35:55.445877Z"
    }
   },
   "outputs": [
    {
     "data": {
      "text/html": [
       "<div>\n",
       "<style scoped>\n",
       "    .dataframe tbody tr th:only-of-type {\n",
       "        vertical-align: middle;\n",
       "    }\n",
       "\n",
       "    .dataframe tbody tr th {\n",
       "        vertical-align: top;\n",
       "    }\n",
       "\n",
       "    .dataframe thead th {\n",
       "        text-align: right;\n",
       "    }\n",
       "</style>\n",
       "<table border=\"1\" class=\"dataframe\">\n",
       "  <thead>\n",
       "    <tr style=\"text-align: right;\">\n",
       "      <th></th>\n",
       "      <th>DELITO</th>\n",
       "    </tr>\n",
       "  </thead>\n",
       "  <tbody>\n",
       "    <tr>\n",
       "      <th>count</th>\n",
       "      <td>78683.000000</td>\n",
       "    </tr>\n",
       "    <tr>\n",
       "      <th>mean</th>\n",
       "      <td>1.811052</td>\n",
       "    </tr>\n",
       "    <tr>\n",
       "      <th>std</th>\n",
       "      <td>1.080983</td>\n",
       "    </tr>\n",
       "    <tr>\n",
       "      <th>min</th>\n",
       "      <td>1.000000</td>\n",
       "    </tr>\n",
       "    <tr>\n",
       "      <th>25%</th>\n",
       "      <td>1.000000</td>\n",
       "    </tr>\n",
       "    <tr>\n",
       "      <th>50%</th>\n",
       "      <td>1.000000</td>\n",
       "    </tr>\n",
       "    <tr>\n",
       "      <th>75%</th>\n",
       "      <td>2.000000</td>\n",
       "    </tr>\n",
       "    <tr>\n",
       "      <th>90%</th>\n",
       "      <td>3.000000</td>\n",
       "    </tr>\n",
       "    <tr>\n",
       "      <th>95%</th>\n",
       "      <td>4.000000</td>\n",
       "    </tr>\n",
       "    <tr>\n",
       "      <th>max</th>\n",
       "      <td>16.000000</td>\n",
       "    </tr>\n",
       "  </tbody>\n",
       "</table>\n",
       "</div>"
      ],
      "text/plain": [
       "             DELITO\n",
       "count  78683.000000\n",
       "mean       1.811052\n",
       "std        1.080983\n",
       "min        1.000000\n",
       "25%        1.000000\n",
       "50%        1.000000\n",
       "75%        2.000000\n",
       "90%        3.000000\n",
       "95%        4.000000\n",
       "max       16.000000"
      ]
     },
     "execution_count": 135,
     "metadata": {},
     "output_type": "execute_result"
    }
   ],
   "source": [
    "data.groupby(['INTERNOEN'])[['DELITO']].count().describe(percentiles=[0.25, 0.5, 0.75, 0.9, 0.95])"
   ]
  },
  {
   "cell_type": "code",
   "execution_count": null,
   "metadata": {},
   "outputs": [],
   "source": []
  }
 ],
 "metadata": {
  "kernelspec": {
   "display_name": "Python 3",
   "language": "python",
   "name": "python3"
  },
  "language_info": {
   "codemirror_mode": {
    "name": "ipython",
    "version": 3
   },
   "file_extension": ".py",
   "mimetype": "text/x-python",
   "name": "python",
   "nbconvert_exporter": "python",
   "pygments_lexer": "ipython3",
   "version": "3.7.4"
  },
  "toc": {
   "base_numbering": 1,
   "nav_menu": {},
   "number_sections": true,
   "sideBar": true,
   "skip_h1_title": false,
   "title_cell": "Table of Contents",
   "title_sidebar": "Contents",
   "toc_cell": false,
   "toc_position": {
    "height": "calc(100% - 180px)",
    "left": "10px",
    "top": "150px",
    "width": "370.6px"
   },
   "toc_section_display": true,
   "toc_window_display": true
  }
 },
 "nbformat": 4,
 "nbformat_minor": 2
}
