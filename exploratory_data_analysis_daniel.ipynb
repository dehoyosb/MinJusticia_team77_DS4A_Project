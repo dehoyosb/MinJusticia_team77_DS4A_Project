{
 "cells": [
  {
   "cell_type": "code",
   "execution_count": 1,
   "metadata": {
    "ExecuteTime": {
     "end_time": "2020-06-05T17:24:51.564455Z",
     "start_time": "2020-06-05T17:24:51.417781Z"
    }
   },
   "outputs": [],
   "source": [
    "import pandas as pd\n",
    "import numpy as np\n",
    "import re\n",
    "import unidecode"
   ]
  },
  {
   "cell_type": "markdown",
   "metadata": {},
   "source": [
    "## Loading Data"
   ]
  },
  {
   "cell_type": "markdown",
   "metadata": {},
   "source": [
    "### File ReincidenciaPospenadosNal26Mayo2020Rev.csv"
   ]
  },
  {
   "cell_type": "code",
   "execution_count": 18,
   "metadata": {
    "ExecuteTime": {
     "end_time": "2020-06-04T23:21:33.042055Z",
     "start_time": "2020-06-04T23:21:32.750396Z"
    },
    "scrolled": true
   },
   "outputs": [
    {
     "name": "stderr",
     "output_type": "stream",
     "text": [
      "/opt/conda/envs/nlp/lib/python3.7/site-packages/IPython/core/interactiveshell.py:3063: DtypeWarning: Columns (5,8) have mixed types.Specify dtype option on import or set low_memory=False.\n",
      "  interactivity=interactivity, compiler=compiler, result=result)\n"
     ]
    },
    {
     "data": {
      "text/html": [
       "<div>\n",
       "<style scoped>\n",
       "    .dataframe tbody tr th:only-of-type {\n",
       "        vertical-align: middle;\n",
       "    }\n",
       "\n",
       "    .dataframe tbody tr th {\n",
       "        vertical-align: top;\n",
       "    }\n",
       "\n",
       "    .dataframe thead th {\n",
       "        text-align: right;\n",
       "    }\n",
       "</style>\n",
       "<table border=\"1\" class=\"dataframe\">\n",
       "  <thead>\n",
       "    <tr style=\"text-align: right;\">\n",
       "      <th></th>\n",
       "      <th>INTERNOEN</th>\n",
       "      <th>SITUACION_JURIDICA</th>\n",
       "      <th>DELITO</th>\n",
       "      <th>FECHA_CAPTURA</th>\n",
       "      <th>FECHA_INGRESO</th>\n",
       "      <th>AÑO_INGRESO</th>\n",
       "      <th>MES_INGRESO</th>\n",
       "      <th>ESTADO_INGRESO</th>\n",
       "      <th>EDAD</th>\n",
       "      <th>GENERO</th>\n",
       "      <th>REINCIDENTE</th>\n",
       "      <th>ESTABLECIMIENTO</th>\n",
       "      <th>REGIONAL</th>\n",
       "    </tr>\n",
       "  </thead>\n",
       "  <tbody>\n",
       "    <tr>\n",
       "      <th>5</th>\n",
       "      <td>A052606FB2E230AEE364AC216F38510DAA36F1A5</td>\n",
       "      <td>CO</td>\n",
       "      <td>FABRICACION TRAFICO Y PORTE DE ARMAS DE FUEGO ...</td>\n",
       "      <td>30/12/2009</td>\n",
       "      <td>1/01/2010</td>\n",
       "      <td>2010</td>\n",
       "      <td>Ene</td>\n",
       "      <td>Baja</td>\n",
       "      <td>38</td>\n",
       "      <td>MASCULINO</td>\n",
       "      <td>SI</td>\n",
       "      <td>EPAMSCAS POPAYAN (ERE)</td>\n",
       "      <td>OCCIDENTE</td>\n",
       "    </tr>\n",
       "    <tr>\n",
       "      <th>6</th>\n",
       "      <td>A052606FB2E230AEE364AC216F38510DAA36F1A5</td>\n",
       "      <td>CO</td>\n",
       "      <td>UTILIZACION ILEGAL DE UNIFORMES E INSIGNIAS</td>\n",
       "      <td>30/12/2009</td>\n",
       "      <td>1/01/2010</td>\n",
       "      <td>2010</td>\n",
       "      <td>Ene</td>\n",
       "      <td>Baja</td>\n",
       "      <td>38</td>\n",
       "      <td>MASCULINO</td>\n",
       "      <td>SI</td>\n",
       "      <td>EPAMSCAS POPAYAN (ERE)</td>\n",
       "      <td>OCCIDENTE</td>\n",
       "    </tr>\n",
       "    <tr>\n",
       "      <th>7</th>\n",
       "      <td>A052606FB2E230AEE364AC216F38510DAA36F1A5</td>\n",
       "      <td>CO</td>\n",
       "      <td>HURTO</td>\n",
       "      <td>30/12/2009</td>\n",
       "      <td>1/01/2010</td>\n",
       "      <td>2010</td>\n",
       "      <td>Ene</td>\n",
       "      <td>Baja</td>\n",
       "      <td>38</td>\n",
       "      <td>MASCULINO</td>\n",
       "      <td>SI</td>\n",
       "      <td>EPAMSCAS POPAYAN (ERE)</td>\n",
       "      <td>OCCIDENTE</td>\n",
       "    </tr>\n",
       "    <tr>\n",
       "      <th>8</th>\n",
       "      <td>C80AD89EE6C54E9EE17F2455C62B454EC6F541BA</td>\n",
       "      <td>CO</td>\n",
       "      <td>HURTO</td>\n",
       "      <td>1/01/2010</td>\n",
       "      <td>1/01/2010</td>\n",
       "      <td>2010</td>\n",
       "      <td>Ene</td>\n",
       "      <td>Baja</td>\n",
       "      <td>28</td>\n",
       "      <td>MASCULINO</td>\n",
       "      <td>SI</td>\n",
       "      <td>EPMSC PEREIRA (ERE)</td>\n",
       "      <td>VIEJO CALDAS</td>\n",
       "    </tr>\n",
       "    <tr>\n",
       "      <th>9</th>\n",
       "      <td>309BFEF86B45C0D8C6E95E4C28A44EDBE5266003</td>\n",
       "      <td>CO</td>\n",
       "      <td>FABRICACION TRAFICO Y PORTE DE ARMAS DE FUEGO ...</td>\n",
       "      <td>30/12/2009</td>\n",
       "      <td>1/01/2010</td>\n",
       "      <td>2010</td>\n",
       "      <td>Ene</td>\n",
       "      <td>Baja</td>\n",
       "      <td>48</td>\n",
       "      <td>MASCULINO</td>\n",
       "      <td>SI</td>\n",
       "      <td>EPMSC MEDELLIN</td>\n",
       "      <td>NOROESTE</td>\n",
       "    </tr>\n",
       "    <tr>\n",
       "      <th>...</th>\n",
       "      <td>...</td>\n",
       "      <td>...</td>\n",
       "      <td>...</td>\n",
       "      <td>...</td>\n",
       "      <td>...</td>\n",
       "      <td>...</td>\n",
       "      <td>...</td>\n",
       "      <td>...</td>\n",
       "      <td>...</td>\n",
       "      <td>...</td>\n",
       "      <td>...</td>\n",
       "      <td>...</td>\n",
       "      <td>...</td>\n",
       "    </tr>\n",
       "    <tr>\n",
       "      <th>140511</th>\n",
       "      <td>D3E974BD945B13B2DF3CB550482D7836724FD8DB</td>\n",
       "      <td>CO</td>\n",
       "      <td>TRAFICO FABRICACION O PORTE DE ESTUPEFACIENTES</td>\n",
       "      <td>28/11/2019</td>\n",
       "      <td>26/05/2020</td>\n",
       "      <td>2020</td>\n",
       "      <td>May</td>\n",
       "      <td>Intramuros</td>\n",
       "      <td>25</td>\n",
       "      <td>MASCULINO</td>\n",
       "      <td>SI</td>\n",
       "      <td>COMPLEJO IBAGUE - PICALEÑA</td>\n",
       "      <td>VIEJO CALDAS</td>\n",
       "    </tr>\n",
       "    <tr>\n",
       "      <th>140512</th>\n",
       "      <td>69566DF17B66B0C6542048D4806BA1C0BA7D0F4A</td>\n",
       "      <td>CO</td>\n",
       "      <td>HOMICIDIO</td>\n",
       "      <td>24/10/2015</td>\n",
       "      <td>26/05/2020</td>\n",
       "      <td>2020</td>\n",
       "      <td>May</td>\n",
       "      <td>Intramuros</td>\n",
       "      <td>27</td>\n",
       "      <td>MASCULINO</td>\n",
       "      <td>SI</td>\n",
       "      <td>COMPLEJO IBAGUE - PICALEÑA</td>\n",
       "      <td>VIEJO CALDAS</td>\n",
       "    </tr>\n",
       "    <tr>\n",
       "      <th>140513</th>\n",
       "      <td>EBE4A4F2BC1BF886F62393B56E6C0323C130E8A1</td>\n",
       "      <td>CO</td>\n",
       "      <td>ACCESO CARNAL ABUSIVO CON MENOR DE CATORCE AÑOS</td>\n",
       "      <td>22/09/2017</td>\n",
       "      <td>26/05/2020</td>\n",
       "      <td>2020</td>\n",
       "      <td>May</td>\n",
       "      <td>Intramuros</td>\n",
       "      <td>30</td>\n",
       "      <td>MASCULINO</td>\n",
       "      <td>SI</td>\n",
       "      <td>COMPLEJO IBAGUE - PICALEÑA</td>\n",
       "      <td>VIEJO CALDAS</td>\n",
       "    </tr>\n",
       "    <tr>\n",
       "      <th>140514</th>\n",
       "      <td>EBE4A4F2BC1BF886F62393B56E6C0323C130E8A1</td>\n",
       "      <td>CO</td>\n",
       "      <td>ACCESO CARNAL VIOLENTO</td>\n",
       "      <td>22/09/2017</td>\n",
       "      <td>26/05/2020</td>\n",
       "      <td>2020</td>\n",
       "      <td>May</td>\n",
       "      <td>Intramuros</td>\n",
       "      <td>30</td>\n",
       "      <td>MASCULINO</td>\n",
       "      <td>SI</td>\n",
       "      <td>COMPLEJO IBAGUE - PICALEÑA</td>\n",
       "      <td>VIEJO CALDAS</td>\n",
       "    </tr>\n",
       "    <tr>\n",
       "      <th>140515</th>\n",
       "      <td>59204009D6A7621E09832058FE7F2577D04D5EEC</td>\n",
       "      <td>CO</td>\n",
       "      <td>FABRICACION TRAFICO Y PORTE DE ARMAS DE FUEGO ...</td>\n",
       "      <td>2/10/2018</td>\n",
       "      <td>26/05/2020</td>\n",
       "      <td>2020</td>\n",
       "      <td>May</td>\n",
       "      <td>Intramuros</td>\n",
       "      <td>26</td>\n",
       "      <td>MASCULINO</td>\n",
       "      <td>SI</td>\n",
       "      <td>COMPLEJO IBAGUE - PICALEÑA</td>\n",
       "      <td>VIEJO CALDAS</td>\n",
       "    </tr>\n",
       "  </tbody>\n",
       "</table>\n",
       "<p>140511 rows × 13 columns</p>\n",
       "</div>"
      ],
      "text/plain": [
       "                                       INTERNOEN SITUACION_JURIDICA  \\\n",
       "5       A052606FB2E230AEE364AC216F38510DAA36F1A5                 CO   \n",
       "6       A052606FB2E230AEE364AC216F38510DAA36F1A5                 CO   \n",
       "7       A052606FB2E230AEE364AC216F38510DAA36F1A5                 CO   \n",
       "8       C80AD89EE6C54E9EE17F2455C62B454EC6F541BA                 CO   \n",
       "9       309BFEF86B45C0D8C6E95E4C28A44EDBE5266003                 CO   \n",
       "...                                          ...                ...   \n",
       "140511  D3E974BD945B13B2DF3CB550482D7836724FD8DB                 CO   \n",
       "140512  69566DF17B66B0C6542048D4806BA1C0BA7D0F4A                 CO   \n",
       "140513  EBE4A4F2BC1BF886F62393B56E6C0323C130E8A1                 CO   \n",
       "140514  EBE4A4F2BC1BF886F62393B56E6C0323C130E8A1                 CO   \n",
       "140515  59204009D6A7621E09832058FE7F2577D04D5EEC                 CO   \n",
       "\n",
       "                                                   DELITO FECHA_CAPTURA  \\\n",
       "5       FABRICACION TRAFICO Y PORTE DE ARMAS DE FUEGO ...    30/12/2009   \n",
       "6             UTILIZACION ILEGAL DE UNIFORMES E INSIGNIAS    30/12/2009   \n",
       "7                                                   HURTO    30/12/2009   \n",
       "8                                                   HURTO     1/01/2010   \n",
       "9       FABRICACION TRAFICO Y PORTE DE ARMAS DE FUEGO ...    30/12/2009   \n",
       "...                                                   ...           ...   \n",
       "140511     TRAFICO FABRICACION O PORTE DE ESTUPEFACIENTES    28/11/2019   \n",
       "140512                                          HOMICIDIO    24/10/2015   \n",
       "140513    ACCESO CARNAL ABUSIVO CON MENOR DE CATORCE AÑOS    22/09/2017   \n",
       "140514                             ACCESO CARNAL VIOLENTO    22/09/2017   \n",
       "140515  FABRICACION TRAFICO Y PORTE DE ARMAS DE FUEGO ...     2/10/2018   \n",
       "\n",
       "       FECHA_INGRESO AÑO_INGRESO MES_INGRESO ESTADO_INGRESO EDAD     GENERO  \\\n",
       "5          1/01/2010        2010         Ene           Baja   38  MASCULINO   \n",
       "6          1/01/2010        2010         Ene           Baja   38  MASCULINO   \n",
       "7          1/01/2010        2010         Ene           Baja   38  MASCULINO   \n",
       "8          1/01/2010        2010         Ene           Baja   28  MASCULINO   \n",
       "9          1/01/2010        2010         Ene           Baja   48  MASCULINO   \n",
       "...              ...         ...         ...            ...  ...        ...   \n",
       "140511    26/05/2020        2020         May     Intramuros   25  MASCULINO   \n",
       "140512    26/05/2020        2020         May     Intramuros   27  MASCULINO   \n",
       "140513    26/05/2020        2020         May     Intramuros   30  MASCULINO   \n",
       "140514    26/05/2020        2020         May     Intramuros   30  MASCULINO   \n",
       "140515    26/05/2020        2020         May     Intramuros   26  MASCULINO   \n",
       "\n",
       "       REINCIDENTE             ESTABLECIMIENTO      REGIONAL  \n",
       "5               SI      EPAMSCAS POPAYAN (ERE)     OCCIDENTE  \n",
       "6               SI      EPAMSCAS POPAYAN (ERE)     OCCIDENTE  \n",
       "7               SI      EPAMSCAS POPAYAN (ERE)     OCCIDENTE  \n",
       "8               SI         EPMSC PEREIRA (ERE)  VIEJO CALDAS  \n",
       "9               SI              EPMSC MEDELLIN      NOROESTE  \n",
       "...            ...                         ...           ...  \n",
       "140511          SI  COMPLEJO IBAGUE - PICALEÑA  VIEJO CALDAS  \n",
       "140512          SI  COMPLEJO IBAGUE - PICALEÑA  VIEJO CALDAS  \n",
       "140513          SI  COMPLEJO IBAGUE - PICALEÑA  VIEJO CALDAS  \n",
       "140514          SI  COMPLEJO IBAGUE - PICALEÑA  VIEJO CALDAS  \n",
       "140515          SI  COMPLEJO IBAGUE - PICALEÑA  VIEJO CALDAS  \n",
       "\n",
       "[140511 rows x 13 columns]"
      ]
     },
     "execution_count": 18,
     "metadata": {},
     "output_type": "execute_result"
    }
   ],
   "source": [
    "data = pd.read_csv('data/ReincidenciaPospenadosNal26Mayo2020Rev.csv', sep = ';', encoding='latin-1')\n",
    "data.columns = data.iloc[4].values\n",
    "data = data[5:]\n",
    "data"
   ]
  },
  {
   "cell_type": "code",
   "execution_count": 19,
   "metadata": {
    "ExecuteTime": {
     "end_time": "2020-06-04T23:21:33.135506Z",
     "start_time": "2020-06-04T23:21:33.043400Z"
    },
    "scrolled": true
   },
   "outputs": [
    {
     "name": "stdout",
     "output_type": "stream",
     "text": [
      "<class 'pandas.core.frame.DataFrame'>\n",
      "RangeIndex: 140511 entries, 5 to 140515\n",
      "Data columns (total 13 columns):\n",
      " #   Column              Non-Null Count   Dtype \n",
      "---  ------              --------------   ----- \n",
      " 0   INTERNOEN           140511 non-null  object\n",
      " 1   SITUACION_JURIDICA  140511 non-null  object\n",
      " 2   DELITO              140511 non-null  object\n",
      " 3   FECHA_CAPTURA       140511 non-null  object\n",
      " 4   FECHA_INGRESO       140511 non-null  object\n",
      " 5   AÑO_INGRESO         140511 non-null  object\n",
      " 6   MES_INGRESO         140511 non-null  object\n",
      " 7   ESTADO_INGRESO      140511 non-null  object\n",
      " 8   EDAD                140511 non-null  object\n",
      " 9   GENERO              140511 non-null  object\n",
      " 10  REINCIDENTE         140511 non-null  object\n",
      " 11  ESTABLECIMIENTO     140511 non-null  object\n",
      " 12  REGIONAL            140511 non-null  object\n",
      "dtypes: object(13)\n",
      "memory usage: 13.9+ MB\n"
     ]
    }
   ],
   "source": [
    "data.info()"
   ]
  },
  {
   "cell_type": "markdown",
   "metadata": {},
   "source": [
    "### File ReincidenciaPospenadosNal2010-31Mayo2020Rev_con variables demograficas.xlsx"
   ]
  },
  {
   "cell_type": "code",
   "execution_count": 96,
   "metadata": {
    "ExecuteTime": {
     "end_time": "2020-06-05T19:50:10.578253Z",
     "start_time": "2020-06-05T19:49:44.194564Z"
    },
    "scrolled": true
   },
   "outputs": [
    {
     "data": {
      "text/html": [
       "<div>\n",
       "<style scoped>\n",
       "    .dataframe tbody tr th:only-of-type {\n",
       "        vertical-align: middle;\n",
       "    }\n",
       "\n",
       "    .dataframe tbody tr th {\n",
       "        vertical-align: top;\n",
       "    }\n",
       "\n",
       "    .dataframe thead th {\n",
       "        text-align: right;\n",
       "    }\n",
       "</style>\n",
       "<table border=\"1\" class=\"dataframe\">\n",
       "  <thead>\n",
       "    <tr style=\"text-align: right;\">\n",
       "      <th></th>\n",
       "      <th>INTERNOEN</th>\n",
       "      <th>DELITO</th>\n",
       "      <th>TENTATIVA</th>\n",
       "      <th>AGRAVADO</th>\n",
       "      <th>CALIFICADO</th>\n",
       "      <th>FECHA_INGRESO</th>\n",
       "      <th>FECHA_SALIDA</th>\n",
       "      <th>FECHA_CAPTURA</th>\n",
       "      <th>SITUACION_JURIDICA</th>\n",
       "      <th>ANO_NACIMIENTO</th>\n",
       "      <th>...</th>\n",
       "      <th>ACTIVIDADES_ENSEÑANZA</th>\n",
       "      <th>NIVEL_EDUCATIVO</th>\n",
       "      <th>HIJOS_MENORES</th>\n",
       "      <th>CONDIC_EXPECIONAL</th>\n",
       "      <th>CODIGO_ESTABLECIMIENTO</th>\n",
       "      <th>ESTABLECIMIENTO</th>\n",
       "      <th>DEPTO_ESTABLECIMIENTO</th>\n",
       "      <th>MPIO_ESTABLECIMIENTO</th>\n",
       "      <th>REGIONAL</th>\n",
       "      <th>ESTADO</th>\n",
       "    </tr>\n",
       "  </thead>\n",
       "  <tbody>\n",
       "    <tr>\n",
       "      <th>6</th>\n",
       "      <td>5496C737C624136DB406CFC6744C684C070A3CD8</td>\n",
       "      <td>FABRICACION TRAFICO Y PORTE DE ARMAS DE FUEGO ...</td>\n",
       "      <td>N</td>\n",
       "      <td>N</td>\n",
       "      <td>N</td>\n",
       "      <td>01/01/10</td>\n",
       "      <td>12/05/11</td>\n",
       "      <td>30/12/09</td>\n",
       "      <td>CO</td>\n",
       "      <td>1972</td>\n",
       "      <td>...</td>\n",
       "      <td>NO</td>\n",
       "      <td>CICLO III</td>\n",
       "      <td>SI</td>\n",
       "      <td>NaN</td>\n",
       "      <td>502</td>\n",
       "      <td>EPMSC MEDELLIN</td>\n",
       "      <td>ANTIOQUIA</td>\n",
       "      <td>MEDELLIN</td>\n",
       "      <td>NOROESTE</td>\n",
       "      <td>Baja</td>\n",
       "    </tr>\n",
       "    <tr>\n",
       "      <th>7</th>\n",
       "      <td>1097561F306939C26DB4AC60377063DA7E2B079F</td>\n",
       "      <td>TRAFICO FABRICACION O PORTE DE ESTUPEFACIENTES</td>\n",
       "      <td>N</td>\n",
       "      <td>N</td>\n",
       "      <td>N</td>\n",
       "      <td>01/01/10</td>\n",
       "      <td>05/12/11</td>\n",
       "      <td>30/12/09</td>\n",
       "      <td>CO</td>\n",
       "      <td>1962</td>\n",
       "      <td>...</td>\n",
       "      <td>NO</td>\n",
       "      <td>CICLO I</td>\n",
       "      <td>SI</td>\n",
       "      <td>NaN</td>\n",
       "      <td>502</td>\n",
       "      <td>EPMSC MEDELLIN</td>\n",
       "      <td>ANTIOQUIA</td>\n",
       "      <td>MEDELLIN</td>\n",
       "      <td>NOROESTE</td>\n",
       "      <td>Baja</td>\n",
       "    </tr>\n",
       "    <tr>\n",
       "      <th>8</th>\n",
       "      <td>CB7033A707ADE673139F8A17CAD26AD54696C135</td>\n",
       "      <td>FABRICACION TRAFICO Y PORTE DE ARMAS DE FUEGO ...</td>\n",
       "      <td>N</td>\n",
       "      <td>N</td>\n",
       "      <td>N</td>\n",
       "      <td>01/01/10</td>\n",
       "      <td>06/08/13</td>\n",
       "      <td>30/12/09</td>\n",
       "      <td>CO</td>\n",
       "      <td>1982</td>\n",
       "      <td>...</td>\n",
       "      <td>NO</td>\n",
       "      <td>CICLO I</td>\n",
       "      <td>SI</td>\n",
       "      <td>NaN</td>\n",
       "      <td>235</td>\n",
       "      <td>EPAMSCAS POPAYAN (ERE)</td>\n",
       "      <td>CAUCA</td>\n",
       "      <td>POPAYAN</td>\n",
       "      <td>OCCIDENTE</td>\n",
       "      <td>Baja</td>\n",
       "    </tr>\n",
       "    <tr>\n",
       "      <th>9</th>\n",
       "      <td>CB7033A707ADE673139F8A17CAD26AD54696C135</td>\n",
       "      <td>HURTO</td>\n",
       "      <td>N</td>\n",
       "      <td>S</td>\n",
       "      <td>S</td>\n",
       "      <td>01/01/10</td>\n",
       "      <td>06/08/13</td>\n",
       "      <td>30/12/09</td>\n",
       "      <td>CO</td>\n",
       "      <td>1982</td>\n",
       "      <td>...</td>\n",
       "      <td>NO</td>\n",
       "      <td>CICLO I</td>\n",
       "      <td>SI</td>\n",
       "      <td>NaN</td>\n",
       "      <td>235</td>\n",
       "      <td>EPAMSCAS POPAYAN (ERE)</td>\n",
       "      <td>CAUCA</td>\n",
       "      <td>POPAYAN</td>\n",
       "      <td>OCCIDENTE</td>\n",
       "      <td>Baja</td>\n",
       "    </tr>\n",
       "    <tr>\n",
       "      <th>10</th>\n",
       "      <td>CB7033A707ADE673139F8A17CAD26AD54696C135</td>\n",
       "      <td>UTILIZACION ILEGAL DE UNIFORMES E INSIGNIAS</td>\n",
       "      <td>N</td>\n",
       "      <td>N</td>\n",
       "      <td>N</td>\n",
       "      <td>01/01/10</td>\n",
       "      <td>06/08/13</td>\n",
       "      <td>30/12/09</td>\n",
       "      <td>CO</td>\n",
       "      <td>1982</td>\n",
       "      <td>...</td>\n",
       "      <td>NO</td>\n",
       "      <td>CICLO I</td>\n",
       "      <td>SI</td>\n",
       "      <td>NaN</td>\n",
       "      <td>235</td>\n",
       "      <td>EPAMSCAS POPAYAN (ERE)</td>\n",
       "      <td>CAUCA</td>\n",
       "      <td>POPAYAN</td>\n",
       "      <td>OCCIDENTE</td>\n",
       "      <td>Baja</td>\n",
       "    </tr>\n",
       "    <tr>\n",
       "      <th>...</th>\n",
       "      <td>...</td>\n",
       "      <td>...</td>\n",
       "      <td>...</td>\n",
       "      <td>...</td>\n",
       "      <td>...</td>\n",
       "      <td>...</td>\n",
       "      <td>...</td>\n",
       "      <td>...</td>\n",
       "      <td>...</td>\n",
       "      <td>...</td>\n",
       "      <td>...</td>\n",
       "      <td>...</td>\n",
       "      <td>...</td>\n",
       "      <td>...</td>\n",
       "      <td>...</td>\n",
       "      <td>...</td>\n",
       "      <td>...</td>\n",
       "      <td>...</td>\n",
       "      <td>...</td>\n",
       "      <td>...</td>\n",
       "      <td>...</td>\n",
       "    </tr>\n",
       "    <tr>\n",
       "      <th>142500</th>\n",
       "      <td>A112E9DC935B0D64DC75852EB0A30D65291F1B64</td>\n",
       "      <td>FABRICACION TRAFICO Y PORTE DE ARMAS DE FUEGO ...</td>\n",
       "      <td>N</td>\n",
       "      <td>N</td>\n",
       "      <td>N</td>\n",
       "      <td>30/05/20</td>\n",
       "      <td>NaN</td>\n",
       "      <td>23/03/03</td>\n",
       "      <td>CO</td>\n",
       "      <td>1978</td>\n",
       "      <td>...</td>\n",
       "      <td>NO</td>\n",
       "      <td>CICLO II</td>\n",
       "      <td>1</td>\n",
       "      <td>NaN</td>\n",
       "      <td>227</td>\n",
       "      <td>EPMSC BUGA</td>\n",
       "      <td>VALLE DEL CAUCA</td>\n",
       "      <td>BUGA</td>\n",
       "      <td>OCCIDENTE</td>\n",
       "      <td>Activo</td>\n",
       "    </tr>\n",
       "    <tr>\n",
       "      <th>142501</th>\n",
       "      <td>A112E9DC935B0D64DC75852EB0A30D65291F1B64</td>\n",
       "      <td>HOMICIDIO</td>\n",
       "      <td>N</td>\n",
       "      <td>S</td>\n",
       "      <td>N</td>\n",
       "      <td>30/05/20</td>\n",
       "      <td>NaN</td>\n",
       "      <td>23/03/03</td>\n",
       "      <td>CO</td>\n",
       "      <td>1978</td>\n",
       "      <td>...</td>\n",
       "      <td>NO</td>\n",
       "      <td>CICLO II</td>\n",
       "      <td>1</td>\n",
       "      <td>NaN</td>\n",
       "      <td>227</td>\n",
       "      <td>EPMSC BUGA</td>\n",
       "      <td>VALLE DEL CAUCA</td>\n",
       "      <td>BUGA</td>\n",
       "      <td>OCCIDENTE</td>\n",
       "      <td>Activo</td>\n",
       "    </tr>\n",
       "    <tr>\n",
       "      <th>142502</th>\n",
       "      <td>A112E9DC935B0D64DC75852EB0A30D65291F1B64</td>\n",
       "      <td>HOMICIDIO</td>\n",
       "      <td>S</td>\n",
       "      <td>S</td>\n",
       "      <td>N</td>\n",
       "      <td>30/05/20</td>\n",
       "      <td>NaN</td>\n",
       "      <td>23/03/03</td>\n",
       "      <td>CO</td>\n",
       "      <td>1978</td>\n",
       "      <td>...</td>\n",
       "      <td>NO</td>\n",
       "      <td>CICLO II</td>\n",
       "      <td>1</td>\n",
       "      <td>NaN</td>\n",
       "      <td>227</td>\n",
       "      <td>EPMSC BUGA</td>\n",
       "      <td>VALLE DEL CAUCA</td>\n",
       "      <td>BUGA</td>\n",
       "      <td>OCCIDENTE</td>\n",
       "      <td>Activo</td>\n",
       "    </tr>\n",
       "    <tr>\n",
       "      <th>142503</th>\n",
       "      <td>A112E9DC935B0D64DC75852EB0A30D65291F1B64</td>\n",
       "      <td>HURTO</td>\n",
       "      <td>N</td>\n",
       "      <td>S</td>\n",
       "      <td>N</td>\n",
       "      <td>30/05/20</td>\n",
       "      <td>NaN</td>\n",
       "      <td>23/03/03</td>\n",
       "      <td>CO</td>\n",
       "      <td>1978</td>\n",
       "      <td>...</td>\n",
       "      <td>NO</td>\n",
       "      <td>CICLO II</td>\n",
       "      <td>1</td>\n",
       "      <td>NaN</td>\n",
       "      <td>227</td>\n",
       "      <td>EPMSC BUGA</td>\n",
       "      <td>VALLE DEL CAUCA</td>\n",
       "      <td>BUGA</td>\n",
       "      <td>OCCIDENTE</td>\n",
       "      <td>Activo</td>\n",
       "    </tr>\n",
       "    <tr>\n",
       "      <th>142504</th>\n",
       "      <td>73CC98628509EC80173897BB76362B1E42658BB5</td>\n",
       "      <td>TRAFICO FABRICACION O PORTE DE ESTUPEFACIENTES</td>\n",
       "      <td>N</td>\n",
       "      <td>N</td>\n",
       "      <td>N</td>\n",
       "      <td>30/05/20</td>\n",
       "      <td>NaN</td>\n",
       "      <td>19/06/19</td>\n",
       "      <td>CO</td>\n",
       "      <td>1989</td>\n",
       "      <td>...</td>\n",
       "      <td>NO</td>\n",
       "      <td>CICLO III</td>\n",
       "      <td>0</td>\n",
       "      <td>NaN</td>\n",
       "      <td>209</td>\n",
       "      <td>RM POPAYAN</td>\n",
       "      <td>CAUCA</td>\n",
       "      <td>POPAYAN</td>\n",
       "      <td>OCCIDENTE</td>\n",
       "      <td>Activo</td>\n",
       "    </tr>\n",
       "  </tbody>\n",
       "</table>\n",
       "<p>142499 rows × 30 columns</p>\n",
       "</div>"
      ],
      "text/plain": [
       "                                       INTERNOEN  \\\n",
       "6       5496C737C624136DB406CFC6744C684C070A3CD8   \n",
       "7       1097561F306939C26DB4AC60377063DA7E2B079F   \n",
       "8       CB7033A707ADE673139F8A17CAD26AD54696C135   \n",
       "9       CB7033A707ADE673139F8A17CAD26AD54696C135   \n",
       "10      CB7033A707ADE673139F8A17CAD26AD54696C135   \n",
       "...                                          ...   \n",
       "142500  A112E9DC935B0D64DC75852EB0A30D65291F1B64   \n",
       "142501  A112E9DC935B0D64DC75852EB0A30D65291F1B64   \n",
       "142502  A112E9DC935B0D64DC75852EB0A30D65291F1B64   \n",
       "142503  A112E9DC935B0D64DC75852EB0A30D65291F1B64   \n",
       "142504  73CC98628509EC80173897BB76362B1E42658BB5   \n",
       "\n",
       "                                                   DELITO TENTATIVA AGRAVADO  \\\n",
       "6       FABRICACION TRAFICO Y PORTE DE ARMAS DE FUEGO ...         N        N   \n",
       "7          TRAFICO FABRICACION O PORTE DE ESTUPEFACIENTES         N        N   \n",
       "8       FABRICACION TRAFICO Y PORTE DE ARMAS DE FUEGO ...         N        N   \n",
       "9                                                   HURTO         N        S   \n",
       "10            UTILIZACION ILEGAL DE UNIFORMES E INSIGNIAS         N        N   \n",
       "...                                                   ...       ...      ...   \n",
       "142500  FABRICACION TRAFICO Y PORTE DE ARMAS DE FUEGO ...         N        N   \n",
       "142501                                          HOMICIDIO         N        S   \n",
       "142502                                          HOMICIDIO         S        S   \n",
       "142503                                              HURTO         N        S   \n",
       "142504     TRAFICO FABRICACION O PORTE DE ESTUPEFACIENTES         N        N   \n",
       "\n",
       "       CALIFICADO FECHA_INGRESO FECHA_SALIDA FECHA_CAPTURA SITUACION_JURIDICA  \\\n",
       "6               N      01/01/10     12/05/11      30/12/09                 CO   \n",
       "7               N      01/01/10     05/12/11      30/12/09                 CO   \n",
       "8               N      01/01/10     06/08/13      30/12/09                 CO   \n",
       "9               S      01/01/10     06/08/13      30/12/09                 CO   \n",
       "10              N      01/01/10     06/08/13      30/12/09                 CO   \n",
       "...           ...           ...          ...           ...                ...   \n",
       "142500          N      30/05/20          NaN      23/03/03                 CO   \n",
       "142501          N      30/05/20          NaN      23/03/03                 CO   \n",
       "142502          N      30/05/20          NaN      23/03/03                 CO   \n",
       "142503          N      30/05/20          NaN      23/03/03                 CO   \n",
       "142504          N      30/05/20          NaN      19/06/19                 CO   \n",
       "\n",
       "       ANO_NACIMIENTO  ... ACTIVIDADES_ENSEÑANZA NIVEL_EDUCATIVO  \\\n",
       "6                1972  ...                    NO       CICLO III   \n",
       "7                1962  ...                    NO         CICLO I   \n",
       "8                1982  ...                    NO         CICLO I   \n",
       "9                1982  ...                    NO         CICLO I   \n",
       "10               1982  ...                    NO         CICLO I   \n",
       "...               ...  ...                   ...             ...   \n",
       "142500           1978  ...                    NO        CICLO II   \n",
       "142501           1978  ...                    NO        CICLO II   \n",
       "142502           1978  ...                    NO        CICLO II   \n",
       "142503           1978  ...                    NO        CICLO II   \n",
       "142504           1989  ...                    NO       CICLO III   \n",
       "\n",
       "       HIJOS_MENORES CONDIC_EXPECIONAL CODIGO_ESTABLECIMIENTO  \\\n",
       "6                 SI               NaN                    502   \n",
       "7                 SI               NaN                    502   \n",
       "8                 SI               NaN                    235   \n",
       "9                 SI               NaN                    235   \n",
       "10                SI               NaN                    235   \n",
       "...              ...               ...                    ...   \n",
       "142500             1               NaN                    227   \n",
       "142501             1               NaN                    227   \n",
       "142502             1               NaN                    227   \n",
       "142503             1               NaN                    227   \n",
       "142504             0               NaN                    209   \n",
       "\n",
       "               ESTABLECIMIENTO DEPTO_ESTABLECIMIENTO MPIO_ESTABLECIMIENTO  \\\n",
       "6               EPMSC MEDELLIN             ANTIOQUIA             MEDELLIN   \n",
       "7               EPMSC MEDELLIN             ANTIOQUIA             MEDELLIN   \n",
       "8       EPAMSCAS POPAYAN (ERE)                 CAUCA              POPAYAN   \n",
       "9       EPAMSCAS POPAYAN (ERE)                 CAUCA              POPAYAN   \n",
       "10      EPAMSCAS POPAYAN (ERE)                 CAUCA              POPAYAN   \n",
       "...                        ...                   ...                  ...   \n",
       "142500              EPMSC BUGA       VALLE DEL CAUCA                 BUGA   \n",
       "142501              EPMSC BUGA       VALLE DEL CAUCA                 BUGA   \n",
       "142502              EPMSC BUGA       VALLE DEL CAUCA                 BUGA   \n",
       "142503              EPMSC BUGA       VALLE DEL CAUCA                 BUGA   \n",
       "142504              RM POPAYAN                 CAUCA              POPAYAN   \n",
       "\n",
       "         REGIONAL  ESTADO  \n",
       "6        NOROESTE    Baja  \n",
       "7        NOROESTE    Baja  \n",
       "8       OCCIDENTE    Baja  \n",
       "9       OCCIDENTE    Baja  \n",
       "10      OCCIDENTE    Baja  \n",
       "...           ...     ...  \n",
       "142500  OCCIDENTE  Activo  \n",
       "142501  OCCIDENTE  Activo  \n",
       "142502  OCCIDENTE  Activo  \n",
       "142503  OCCIDENTE  Activo  \n",
       "142504  OCCIDENTE  Activo  \n",
       "\n",
       "[142499 rows x 30 columns]"
      ]
     },
     "execution_count": 96,
     "metadata": {},
     "output_type": "execute_result"
    }
   ],
   "source": [
    "data = pd.read_excel('data/ReincidenciaPospenadosNal2010-31Mayo2020Rev_con variables demograficas.xlsx')\n",
    "data.columns = data.iloc[5].values\n",
    "data = data[6:]\n",
    "data"
   ]
  },
  {
   "cell_type": "markdown",
   "metadata": {},
   "source": [
    "### File SHDI Colombia 4.0.xlsx"
   ]
  },
  {
   "cell_type": "code",
   "execution_count": 25,
   "metadata": {
    "ExecuteTime": {
     "end_time": "2020-06-04T23:26:26.300398Z",
     "start_time": "2020-06-04T23:26:26.179405Z"
    }
   },
   "outputs": [
    {
     "data": {
      "text/html": [
       "<div>\n",
       "<style scoped>\n",
       "    .dataframe tbody tr th:only-of-type {\n",
       "        vertical-align: middle;\n",
       "    }\n",
       "\n",
       "    .dataframe tbody tr th {\n",
       "        vertical-align: top;\n",
       "    }\n",
       "\n",
       "    .dataframe thead th {\n",
       "        text-align: right;\n",
       "    }\n",
       "</style>\n",
       "<table border=\"1\" class=\"dataframe\">\n",
       "  <thead>\n",
       "    <tr style=\"text-align: right;\">\n",
       "      <th></th>\n",
       "      <th>iso_code</th>\n",
       "      <th>country</th>\n",
       "      <th>year</th>\n",
       "      <th>GDLCODE</th>\n",
       "      <th>level</th>\n",
       "      <th>region</th>\n",
       "      <th>continent</th>\n",
       "      <th>shdi</th>\n",
       "      <th>healthindex</th>\n",
       "      <th>incindex</th>\n",
       "      <th>edindex</th>\n",
       "      <th>lifexp</th>\n",
       "      <th>gnic</th>\n",
       "      <th>esch</th>\n",
       "      <th>msch</th>\n",
       "      <th>pop</th>\n",
       "    </tr>\n",
       "  </thead>\n",
       "  <tbody>\n",
       "    <tr>\n",
       "      <th>0</th>\n",
       "      <td>COL</td>\n",
       "      <td>Colombia</td>\n",
       "      <td>1990</td>\n",
       "      <td>COLr101</td>\n",
       "      <td>Subnat</td>\n",
       "      <td>Antioquia (incl Medellin)</td>\n",
       "      <td>America</td>\n",
       "      <td>0.603</td>\n",
       "      <td>0.785</td>\n",
       "      <td>0.675</td>\n",
       "      <td>0.413</td>\n",
       "      <td>71.02</td>\n",
       "      <td>8.719078</td>\n",
       "      <td>8.63</td>\n",
       "      <td>5.20</td>\n",
       "      <td>4.092471</td>\n",
       "    </tr>\n",
       "    <tr>\n",
       "      <th>1</th>\n",
       "      <td>COL</td>\n",
       "      <td>Colombia</td>\n",
       "      <td>1990</td>\n",
       "      <td>COLr102</td>\n",
       "      <td>Subnat</td>\n",
       "      <td>Atlantico (incl Barranquilla)</td>\n",
       "      <td>America</td>\n",
       "      <td>0.631</td>\n",
       "      <td>0.785</td>\n",
       "      <td>0.660</td>\n",
       "      <td>0.484</td>\n",
       "      <td>71.02</td>\n",
       "      <td>7.910401</td>\n",
       "      <td>9.89</td>\n",
       "      <td>6.28</td>\n",
       "      <td>2.315525</td>\n",
       "    </tr>\n",
       "    <tr>\n",
       "      <th>2</th>\n",
       "      <td>COL</td>\n",
       "      <td>Colombia</td>\n",
       "      <td>1990</td>\n",
       "      <td>COLr103</td>\n",
       "      <td>Subnat</td>\n",
       "      <td>Bogota D.C.</td>\n",
       "      <td>America</td>\n",
       "      <td>0.673</td>\n",
       "      <td>0.778</td>\n",
       "      <td>0.709</td>\n",
       "      <td>0.552</td>\n",
       "      <td>70.59</td>\n",
       "      <td>10.950703</td>\n",
       "      <td>10.54</td>\n",
       "      <td>7.78</td>\n",
       "      <td>4.715131</td>\n",
       "    </tr>\n",
       "    <tr>\n",
       "      <th>3</th>\n",
       "      <td>COL</td>\n",
       "      <td>Colombia</td>\n",
       "      <td>1990</td>\n",
       "      <td>COLr104</td>\n",
       "      <td>Subnat</td>\n",
       "      <td>Bolivar (Sur and Norte)</td>\n",
       "      <td>America</td>\n",
       "      <td>0.587</td>\n",
       "      <td>0.724</td>\n",
       "      <td>0.623</td>\n",
       "      <td>0.449</td>\n",
       "      <td>67.06</td>\n",
       "      <td>6.169956</td>\n",
       "      <td>9.39</td>\n",
       "      <td>5.65</td>\n",
       "      <td>1.122177</td>\n",
       "    </tr>\n",
       "    <tr>\n",
       "      <th>4</th>\n",
       "      <td>COL</td>\n",
       "      <td>Colombia</td>\n",
       "      <td>1990</td>\n",
       "      <td>COLr105</td>\n",
       "      <td>Subnat</td>\n",
       "      <td>Boyaca</td>\n",
       "      <td>America</td>\n",
       "      <td>0.567</td>\n",
       "      <td>0.804</td>\n",
       "      <td>0.603</td>\n",
       "      <td>0.375</td>\n",
       "      <td>72.24</td>\n",
       "      <td>5.404022</td>\n",
       "      <td>8.70</td>\n",
       "      <td>4.00</td>\n",
       "      <td>1.556152</td>\n",
       "    </tr>\n",
       "    <tr>\n",
       "      <th>...</th>\n",
       "      <td>...</td>\n",
       "      <td>...</td>\n",
       "      <td>...</td>\n",
       "      <td>...</td>\n",
       "      <td>...</td>\n",
       "      <td>...</td>\n",
       "      <td>...</td>\n",
       "      <td>...</td>\n",
       "      <td>...</td>\n",
       "      <td>...</td>\n",
       "      <td>...</td>\n",
       "      <td>...</td>\n",
       "      <td>...</td>\n",
       "      <td>...</td>\n",
       "      <td>...</td>\n",
       "      <td>...</td>\n",
       "    </tr>\n",
       "    <tr>\n",
       "      <th>981</th>\n",
       "      <td>COL</td>\n",
       "      <td>Colombia</td>\n",
       "      <td>2018</td>\n",
       "      <td>COLr130</td>\n",
       "      <td>Subnat</td>\n",
       "      <td>Guainja</td>\n",
       "      <td>America</td>\n",
       "      <td>0.664</td>\n",
       "      <td>0.884</td>\n",
       "      <td>0.582</td>\n",
       "      <td>0.569</td>\n",
       "      <td>77.48</td>\n",
       "      <td>4.700667</td>\n",
       "      <td>13.20</td>\n",
       "      <td>6.06</td>\n",
       "      <td>0.042698</td>\n",
       "    </tr>\n",
       "    <tr>\n",
       "      <th>982</th>\n",
       "      <td>COL</td>\n",
       "      <td>Colombia</td>\n",
       "      <td>2018</td>\n",
       "      <td>COLr131</td>\n",
       "      <td>Subnat</td>\n",
       "      <td>Guaviare</td>\n",
       "      <td>America</td>\n",
       "      <td>0.749</td>\n",
       "      <td>0.883</td>\n",
       "      <td>0.710</td>\n",
       "      <td>0.671</td>\n",
       "      <td>77.38</td>\n",
       "      <td>10.972033</td>\n",
       "      <td>14.99</td>\n",
       "      <td>7.65</td>\n",
       "      <td>0.067026</td>\n",
       "    </tr>\n",
       "    <tr>\n",
       "      <th>983</th>\n",
       "      <td>COL</td>\n",
       "      <td>Colombia</td>\n",
       "      <td>2018</td>\n",
       "      <td>COLr132</td>\n",
       "      <td>Subnat</td>\n",
       "      <td>Vaupis</td>\n",
       "      <td>America</td>\n",
       "      <td>0.635</td>\n",
       "      <td>0.797</td>\n",
       "      <td>0.527</td>\n",
       "      <td>0.611</td>\n",
       "      <td>71.82</td>\n",
       "      <td>3.283906</td>\n",
       "      <td>14.18</td>\n",
       "      <td>6.50</td>\n",
       "      <td>0.045180</td>\n",
       "    </tr>\n",
       "    <tr>\n",
       "      <th>984</th>\n",
       "      <td>COL</td>\n",
       "      <td>Colombia</td>\n",
       "      <td>2018</td>\n",
       "      <td>COLr133</td>\n",
       "      <td>Subnat</td>\n",
       "      <td>Vichada</td>\n",
       "      <td>America</td>\n",
       "      <td>0.748</td>\n",
       "      <td>0.886</td>\n",
       "      <td>0.722</td>\n",
       "      <td>0.653</td>\n",
       "      <td>77.58</td>\n",
       "      <td>11.945034</td>\n",
       "      <td>13.75</td>\n",
       "      <td>8.13</td>\n",
       "      <td>0.032272</td>\n",
       "    </tr>\n",
       "    <tr>\n",
       "      <th>985</th>\n",
       "      <td>COL</td>\n",
       "      <td>Colombia</td>\n",
       "      <td>2018</td>\n",
       "      <td>COLt</td>\n",
       "      <td>National</td>\n",
       "      <td>Total</td>\n",
       "      <td>America</td>\n",
       "      <td>0.761</td>\n",
       "      <td>0.879</td>\n",
       "      <td>0.734</td>\n",
       "      <td>0.683</td>\n",
       "      <td>77.11</td>\n",
       "      <td>12.895595</td>\n",
       "      <td>14.60</td>\n",
       "      <td>8.33</td>\n",
       "      <td>49.648685</td>\n",
       "    </tr>\n",
       "  </tbody>\n",
       "</table>\n",
       "<p>986 rows × 16 columns</p>\n",
       "</div>"
      ],
      "text/plain": [
       "    iso_code   country  year  GDLCODE     level  \\\n",
       "0        COL  Colombia  1990  COLr101    Subnat   \n",
       "1        COL  Colombia  1990  COLr102    Subnat   \n",
       "2        COL  Colombia  1990  COLr103    Subnat   \n",
       "3        COL  Colombia  1990  COLr104    Subnat   \n",
       "4        COL  Colombia  1990  COLr105    Subnat   \n",
       "..       ...       ...   ...      ...       ...   \n",
       "981      COL  Colombia  2018  COLr130    Subnat   \n",
       "982      COL  Colombia  2018  COLr131    Subnat   \n",
       "983      COL  Colombia  2018  COLr132    Subnat   \n",
       "984      COL  Colombia  2018  COLr133    Subnat   \n",
       "985      COL  Colombia  2018     COLt  National   \n",
       "\n",
       "                            region continent   shdi  healthindex  incindex  \\\n",
       "0        Antioquia (incl Medellin)   America  0.603        0.785     0.675   \n",
       "1    Atlantico (incl Barranquilla)   America  0.631        0.785     0.660   \n",
       "2                      Bogota D.C.   America  0.673        0.778     0.709   \n",
       "3          Bolivar (Sur and Norte)   America  0.587        0.724     0.623   \n",
       "4                           Boyaca   America  0.567        0.804     0.603   \n",
       "..                             ...       ...    ...          ...       ...   \n",
       "981                        Guainja   America  0.664        0.884     0.582   \n",
       "982                       Guaviare   America  0.749        0.883     0.710   \n",
       "983                         Vaupis   America  0.635        0.797     0.527   \n",
       "984                        Vichada   America  0.748        0.886     0.722   \n",
       "985                          Total   America  0.761        0.879     0.734   \n",
       "\n",
       "     edindex  lifexp       gnic   esch  msch        pop  \n",
       "0      0.413   71.02   8.719078   8.63  5.20   4.092471  \n",
       "1      0.484   71.02   7.910401   9.89  6.28   2.315525  \n",
       "2      0.552   70.59  10.950703  10.54  7.78   4.715131  \n",
       "3      0.449   67.06   6.169956   9.39  5.65   1.122177  \n",
       "4      0.375   72.24   5.404022   8.70  4.00   1.556152  \n",
       "..       ...     ...        ...    ...   ...        ...  \n",
       "981    0.569   77.48   4.700667  13.20  6.06   0.042698  \n",
       "982    0.671   77.38  10.972033  14.99  7.65   0.067026  \n",
       "983    0.611   71.82   3.283906  14.18  6.50   0.045180  \n",
       "984    0.653   77.58  11.945034  13.75  8.13   0.032272  \n",
       "985    0.683   77.11  12.895595  14.60  8.33  49.648685  \n",
       "\n",
       "[986 rows x 16 columns]"
      ]
     },
     "execution_count": 25,
     "metadata": {},
     "output_type": "execute_result"
    }
   ],
   "source": [
    "SHDI = pd.read_excel('data/SHDI Colombia 4.0.xlsx')\n",
    "#data2.columns = data2.iloc[5].values\n",
    "#data2 = data2[6:]\n",
    "SHDI"
   ]
  },
  {
   "cell_type": "markdown",
   "metadata": {},
   "source": [
    "### File SHDI-4.0-Vardescription.xlsx"
   ]
  },
  {
   "cell_type": "code",
   "execution_count": 27,
   "metadata": {
    "ExecuteTime": {
     "end_time": "2020-06-04T23:27:12.822503Z",
     "start_time": "2020-06-04T23:27:12.806041Z"
    }
   },
   "outputs": [
    {
     "data": {
      "text/html": [
       "<div>\n",
       "<style scoped>\n",
       "    .dataframe tbody tr th:only-of-type {\n",
       "        vertical-align: middle;\n",
       "    }\n",
       "\n",
       "    .dataframe tbody tr th {\n",
       "        vertical-align: top;\n",
       "    }\n",
       "\n",
       "    .dataframe thead th {\n",
       "        text-align: right;\n",
       "    }\n",
       "</style>\n",
       "<table border=\"1\" class=\"dataframe\">\n",
       "  <thead>\n",
       "    <tr style=\"text-align: right;\">\n",
       "      <th></th>\n",
       "      <th>Variable</th>\n",
       "      <th>Category</th>\n",
       "      <th>Dtype</th>\n",
       "      <th>Decimals</th>\n",
       "      <th>RankOrder</th>\n",
       "      <th>Label</th>\n",
       "      <th>Shortdescr</th>\n",
       "      <th>Longdescr</th>\n",
       "    </tr>\n",
       "  </thead>\n",
       "  <tbody>\n",
       "    <tr>\n",
       "      <th>0</th>\n",
       "      <td>iso_code</td>\n",
       "      <td>System</td>\n",
       "      <td>Str</td>\n",
       "      <td>NaN</td>\n",
       "      <td>NaN</td>\n",
       "      <td>NaN</td>\n",
       "      <td>ISO country code 3 digit</td>\n",
       "      <td>ISO country code 3 digit</td>\n",
       "    </tr>\n",
       "    <tr>\n",
       "      <th>1</th>\n",
       "      <td>country</td>\n",
       "      <td>System</td>\n",
       "      <td>Str</td>\n",
       "      <td>NaN</td>\n",
       "      <td>NaN</td>\n",
       "      <td>NaN</td>\n",
       "      <td>Country name</td>\n",
       "      <td>Country name</td>\n",
       "    </tr>\n",
       "    <tr>\n",
       "      <th>2</th>\n",
       "      <td>year</td>\n",
       "      <td>System</td>\n",
       "      <td>Int</td>\n",
       "      <td>0.0</td>\n",
       "      <td>NaN</td>\n",
       "      <td>NaN</td>\n",
       "      <td>Year of data collection</td>\n",
       "      <td>Year of data collection</td>\n",
       "    </tr>\n",
       "    <tr>\n",
       "      <th>3</th>\n",
       "      <td>GDLCODE</td>\n",
       "      <td>System</td>\n",
       "      <td>Str</td>\n",
       "      <td>NaN</td>\n",
       "      <td>NaN</td>\n",
       "      <td>NaN</td>\n",
       "      <td>Region code Global Data Lab</td>\n",
       "      <td>Iso-code, level (t=total), regional division (...</td>\n",
       "    </tr>\n",
       "    <tr>\n",
       "      <th>4</th>\n",
       "      <td>level</td>\n",
       "      <td>System</td>\n",
       "      <td>Str</td>\n",
       "      <td>NaN</td>\n",
       "      <td>NaN</td>\n",
       "      <td>NaN</td>\n",
       "      <td>Aggregation level</td>\n",
       "      <td>National or sub-national</td>\n",
       "    </tr>\n",
       "    <tr>\n",
       "      <th>5</th>\n",
       "      <td>region</td>\n",
       "      <td>System</td>\n",
       "      <td>Str</td>\n",
       "      <td>NaN</td>\n",
       "      <td>NaN</td>\n",
       "      <td>NaN</td>\n",
       "      <td>Sub-national region name</td>\n",
       "      <td>Name of sub-national region</td>\n",
       "    </tr>\n",
       "    <tr>\n",
       "      <th>6</th>\n",
       "      <td>continent</td>\n",
       "      <td>System</td>\n",
       "      <td>Flt</td>\n",
       "      <td>NaN</td>\n",
       "      <td>NaN</td>\n",
       "      <td>NaN</td>\n",
       "      <td>Continent</td>\n",
       "      <td>Categories: Africa, America, Asia/Pacific, Europe</td>\n",
       "    </tr>\n",
       "    <tr>\n",
       "      <th>7</th>\n",
       "      <td>shdi</td>\n",
       "      <td>Indices</td>\n",
       "      <td>Pos</td>\n",
       "      <td>3.0</td>\n",
       "      <td>A</td>\n",
       "      <td>Sub-national HDI</td>\n",
       "      <td>Sub-national HDI</td>\n",
       "      <td>NaN</td>\n",
       "    </tr>\n",
       "    <tr>\n",
       "      <th>8</th>\n",
       "      <td>healthindex</td>\n",
       "      <td>Indices</td>\n",
       "      <td>Pos</td>\n",
       "      <td>3.0</td>\n",
       "      <td>A</td>\n",
       "      <td>Health index</td>\n",
       "      <td>Health index</td>\n",
       "      <td>NaN</td>\n",
       "    </tr>\n",
       "    <tr>\n",
       "      <th>9</th>\n",
       "      <td>incindex</td>\n",
       "      <td>Indices</td>\n",
       "      <td>Pos</td>\n",
       "      <td>3.0</td>\n",
       "      <td>A</td>\n",
       "      <td>Income index</td>\n",
       "      <td>Income index</td>\n",
       "      <td>NaN</td>\n",
       "    </tr>\n",
       "    <tr>\n",
       "      <th>10</th>\n",
       "      <td>edindex</td>\n",
       "      <td>Indices</td>\n",
       "      <td>Pos</td>\n",
       "      <td>3.0</td>\n",
       "      <td>A</td>\n",
       "      <td>Educational index</td>\n",
       "      <td>Educational index</td>\n",
       "      <td>NaN</td>\n",
       "    </tr>\n",
       "    <tr>\n",
       "      <th>11</th>\n",
       "      <td>lifexp</td>\n",
       "      <td>Indicators</td>\n",
       "      <td>Pos</td>\n",
       "      <td>3.0</td>\n",
       "      <td>A</td>\n",
       "      <td>Life expectancy</td>\n",
       "      <td>Life expectancy</td>\n",
       "      <td>Life expectancy at birth</td>\n",
       "    </tr>\n",
       "    <tr>\n",
       "      <th>12</th>\n",
       "      <td>gnic</td>\n",
       "      <td>Indicators</td>\n",
       "      <td>Pos</td>\n",
       "      <td>3.0</td>\n",
       "      <td>A</td>\n",
       "      <td>GNI per capita in thousands of US$ (2011 PPP)</td>\n",
       "      <td>GNI per capita in thousands of US$ (2011 PPP)</td>\n",
       "      <td>Gross National Income per capita in thousands ...</td>\n",
       "    </tr>\n",
       "    <tr>\n",
       "      <th>13</th>\n",
       "      <td>esch</td>\n",
       "      <td>Indicators</td>\n",
       "      <td>Pos</td>\n",
       "      <td>2.0</td>\n",
       "      <td>A</td>\n",
       "      <td>Expected years schooling</td>\n",
       "      <td>Expected years schooling</td>\n",
       "      <td>Expected years schooling children aged 6</td>\n",
       "    </tr>\n",
       "    <tr>\n",
       "      <th>14</th>\n",
       "      <td>msch</td>\n",
       "      <td>Indicators</td>\n",
       "      <td>Pos</td>\n",
       "      <td>2.0</td>\n",
       "      <td>A</td>\n",
       "      <td>Mean years schooling</td>\n",
       "      <td>Mean years schooling</td>\n",
       "      <td>Mean years schooling population aged 25+</td>\n",
       "    </tr>\n",
       "    <tr>\n",
       "      <th>15</th>\n",
       "      <td>pop</td>\n",
       "      <td>Indicators</td>\n",
       "      <td>Pos</td>\n",
       "      <td>2.0</td>\n",
       "      <td>A</td>\n",
       "      <td>Population size in millions</td>\n",
       "      <td>Population size in millions</td>\n",
       "      <td>Population size in millions</td>\n",
       "    </tr>\n",
       "  </tbody>\n",
       "</table>\n",
       "</div>"
      ],
      "text/plain": [
       "       Variable    Category Dtype  Decimals RankOrder  \\\n",
       "0      iso_code      System   Str       NaN       NaN   \n",
       "1       country      System   Str       NaN       NaN   \n",
       "2          year      System   Int       0.0       NaN   \n",
       "3       GDLCODE      System   Str       NaN       NaN   \n",
       "4         level      System   Str       NaN       NaN   \n",
       "5        region      System   Str       NaN       NaN   \n",
       "6     continent      System   Flt       NaN       NaN   \n",
       "7          shdi     Indices   Pos       3.0         A   \n",
       "8   healthindex     Indices   Pos       3.0         A   \n",
       "9      incindex     Indices   Pos       3.0         A   \n",
       "10      edindex     Indices   Pos       3.0         A   \n",
       "11       lifexp  Indicators   Pos       3.0         A   \n",
       "12         gnic  Indicators   Pos       3.0         A   \n",
       "13         esch  Indicators   Pos       2.0         A   \n",
       "14         msch  Indicators   Pos       2.0         A   \n",
       "15          pop  Indicators   Pos       2.0         A   \n",
       "\n",
       "                                            Label  \\\n",
       "0                                             NaN   \n",
       "1                                             NaN   \n",
       "2                                             NaN   \n",
       "3                                             NaN   \n",
       "4                                             NaN   \n",
       "5                                             NaN   \n",
       "6                                             NaN   \n",
       "7                                Sub-national HDI   \n",
       "8                                    Health index   \n",
       "9                                    Income index   \n",
       "10                             Educational index    \n",
       "11                                Life expectancy   \n",
       "12  GNI per capita in thousands of US$ (2011 PPP)   \n",
       "13                       Expected years schooling   \n",
       "14                           Mean years schooling   \n",
       "15                    Population size in millions   \n",
       "\n",
       "                                       Shortdescr  \\\n",
       "0                        ISO country code 3 digit   \n",
       "1                                    Country name   \n",
       "2                         Year of data collection   \n",
       "3                     Region code Global Data Lab   \n",
       "4                               Aggregation level   \n",
       "5                        Sub-national region name   \n",
       "6                                       Continent   \n",
       "7                                Sub-national HDI   \n",
       "8                                    Health index   \n",
       "9                                    Income index   \n",
       "10                             Educational index    \n",
       "11                                Life expectancy   \n",
       "12  GNI per capita in thousands of US$ (2011 PPP)   \n",
       "13                       Expected years schooling   \n",
       "14                           Mean years schooling   \n",
       "15                    Population size in millions   \n",
       "\n",
       "                                            Longdescr  \n",
       "0                            ISO country code 3 digit  \n",
       "1                                        Country name  \n",
       "2                             Year of data collection  \n",
       "3   Iso-code, level (t=total), regional division (...  \n",
       "4                            National or sub-national  \n",
       "5                         Name of sub-national region  \n",
       "6   Categories: Africa, America, Asia/Pacific, Europe  \n",
       "7                                                 NaN  \n",
       "8                                                 NaN  \n",
       "9                                                 NaN  \n",
       "10                                                NaN  \n",
       "11                           Life expectancy at birth  \n",
       "12  Gross National Income per capita in thousands ...  \n",
       "13           Expected years schooling children aged 6  \n",
       "14           Mean years schooling population aged 25+  \n",
       "15                        Population size in millions  "
      ]
     },
     "execution_count": 27,
     "metadata": {},
     "output_type": "execute_result"
    }
   ],
   "source": [
    "SHDI_vardesc = pd.read_excel('data/SHDI-4.0-Vardescription.xlsx')\n",
    "SHDI_vardesc"
   ]
  },
  {
   "cell_type": "markdown",
   "metadata": {},
   "source": [
    "## Cleaning Data"
   ]
  },
  {
   "cell_type": "code",
   "execution_count": 97,
   "metadata": {
    "ExecuteTime": {
     "end_time": "2020-06-05T19:51:00.350335Z",
     "start_time": "2020-06-05T19:51:00.129837Z"
    }
   },
   "outputs": [
    {
     "name": "stdout",
     "output_type": "stream",
     "text": [
      "<class 'pandas.core.frame.DataFrame'>\n",
      "RangeIndex: 142499 entries, 6 to 142504\n",
      "Data columns (total 30 columns):\n",
      " #   Column                  Non-Null Count   Dtype \n",
      "---  ------                  --------------   ----- \n",
      " 0   INTERNOEN               142499 non-null  object\n",
      " 1   DELITO                  142499 non-null  object\n",
      " 2   TENTATIVA               142499 non-null  object\n",
      " 3   AGRAVADO                142499 non-null  object\n",
      " 4   CALIFICADO              142499 non-null  object\n",
      " 5   FECHA_INGRESO           142499 non-null  object\n",
      " 6   FECHA_SALIDA            95815 non-null   object\n",
      " 7   FECHA_CAPTURA           142499 non-null  object\n",
      " 8   SITUACION_JURIDICA      142499 non-null  object\n",
      " 9   ANO_NACIMIENTO          142499 non-null  object\n",
      " 10  EDAD                    142499 non-null  object\n",
      " 11  GENERO                  142499 non-null  object\n",
      " 12  ESTADO_CIVIL            63007 non-null   object\n",
      " 13  PAIS_INTERNO            139346 non-null  object\n",
      " 14  DEPARTAMENTO            142492 non-null  object\n",
      " 15  CIUDAD                  142499 non-null  object\n",
      " 16  REINCIDENTE             142499 non-null  object\n",
      " 17  ESTADO_INGRESO          142469 non-null  object\n",
      " 18  ACTIVIDADES_TRABAJO     142499 non-null  object\n",
      " 19  ACTIVIDADES_ESTUDIO     142499 non-null  object\n",
      " 20  ACTIVIDADES_ENSEÑANZA   142499 non-null  object\n",
      " 21  NIVEL_EDUCATIVO         142499 non-null  object\n",
      " 22  HIJOS_MENORES           142499 non-null  object\n",
      " 23  CONDIC_EXPECIONAL       13275 non-null   object\n",
      " 24  CODIGO_ESTABLECIMIENTO  142499 non-null  object\n",
      " 25  ESTABLECIMIENTO         142499 non-null  object\n",
      " 26  DEPTO_ESTABLECIMIENTO   139811 non-null  object\n",
      " 27  MPIO_ESTABLECIMIENTO    139811 non-null  object\n",
      " 28  REGIONAL                142499 non-null  object\n",
      " 29  ESTADO                  142499 non-null  object\n",
      "dtypes: object(30)\n",
      "memory usage: 32.6+ MB\n"
     ]
    }
   ],
   "source": [
    "data.info()"
   ]
  },
  {
   "cell_type": "code",
   "execution_count": 177,
   "metadata": {
    "ExecuteTime": {
     "end_time": "2020-06-05T20:03:33.602868Z",
     "start_time": "2020-06-05T20:03:33.529388Z"
    }
   },
   "outputs": [
    {
     "data": {
      "text/html": [
       "<div>\n",
       "<style scoped>\n",
       "    .dataframe tbody tr th:only-of-type {\n",
       "        vertical-align: middle;\n",
       "    }\n",
       "\n",
       "    .dataframe tbody tr th {\n",
       "        vertical-align: top;\n",
       "    }\n",
       "\n",
       "    .dataframe thead th {\n",
       "        text-align: right;\n",
       "    }\n",
       "</style>\n",
       "<table border=\"1\" class=\"dataframe\">\n",
       "  <thead>\n",
       "    <tr style=\"text-align: right;\">\n",
       "      <th></th>\n",
       "      <th>num</th>\n",
       "      <th>total</th>\n",
       "      <th>%</th>\n",
       "    </tr>\n",
       "  </thead>\n",
       "  <tbody>\n",
       "    <tr>\n",
       "      <th>INTERNOEN</th>\n",
       "      <td>0</td>\n",
       "      <td>142499</td>\n",
       "      <td>0.000000</td>\n",
       "    </tr>\n",
       "    <tr>\n",
       "      <th>DELITO</th>\n",
       "      <td>0</td>\n",
       "      <td>142499</td>\n",
       "      <td>0.000000</td>\n",
       "    </tr>\n",
       "    <tr>\n",
       "      <th>TENTATIVA</th>\n",
       "      <td>0</td>\n",
       "      <td>142499</td>\n",
       "      <td>0.000000</td>\n",
       "    </tr>\n",
       "    <tr>\n",
       "      <th>AGRAVADO</th>\n",
       "      <td>0</td>\n",
       "      <td>142499</td>\n",
       "      <td>0.000000</td>\n",
       "    </tr>\n",
       "    <tr>\n",
       "      <th>CALIFICADO</th>\n",
       "      <td>0</td>\n",
       "      <td>142499</td>\n",
       "      <td>0.000000</td>\n",
       "    </tr>\n",
       "    <tr>\n",
       "      <th>FECHA_INGRESO</th>\n",
       "      <td>0</td>\n",
       "      <td>142499</td>\n",
       "      <td>0.000000</td>\n",
       "    </tr>\n",
       "    <tr>\n",
       "      <th>FECHA_SALIDA</th>\n",
       "      <td>46684</td>\n",
       "      <td>142499</td>\n",
       "      <td>32.760932</td>\n",
       "    </tr>\n",
       "    <tr>\n",
       "      <th>FECHA_CAPTURA</th>\n",
       "      <td>0</td>\n",
       "      <td>142499</td>\n",
       "      <td>0.000000</td>\n",
       "    </tr>\n",
       "    <tr>\n",
       "      <th>SITUACION_JURIDICA</th>\n",
       "      <td>0</td>\n",
       "      <td>142499</td>\n",
       "      <td>0.000000</td>\n",
       "    </tr>\n",
       "    <tr>\n",
       "      <th>ANO_NACIMIENTO</th>\n",
       "      <td>0</td>\n",
       "      <td>142499</td>\n",
       "      <td>0.000000</td>\n",
       "    </tr>\n",
       "    <tr>\n",
       "      <th>EDAD</th>\n",
       "      <td>0</td>\n",
       "      <td>142499</td>\n",
       "      <td>0.000000</td>\n",
       "    </tr>\n",
       "    <tr>\n",
       "      <th>GENERO</th>\n",
       "      <td>0</td>\n",
       "      <td>142499</td>\n",
       "      <td>0.000000</td>\n",
       "    </tr>\n",
       "    <tr>\n",
       "      <th>ESTADO_CIVIL</th>\n",
       "      <td>79492</td>\n",
       "      <td>142499</td>\n",
       "      <td>55.784251</td>\n",
       "    </tr>\n",
       "    <tr>\n",
       "      <th>PAIS_INTERNO</th>\n",
       "      <td>3153</td>\n",
       "      <td>142499</td>\n",
       "      <td>2.212647</td>\n",
       "    </tr>\n",
       "    <tr>\n",
       "      <th>DEPARTAMENTO</th>\n",
       "      <td>0</td>\n",
       "      <td>142499</td>\n",
       "      <td>0.000000</td>\n",
       "    </tr>\n",
       "    <tr>\n",
       "      <th>CIUDAD</th>\n",
       "      <td>0</td>\n",
       "      <td>142499</td>\n",
       "      <td>0.000000</td>\n",
       "    </tr>\n",
       "    <tr>\n",
       "      <th>REINCIDENTE</th>\n",
       "      <td>0</td>\n",
       "      <td>142499</td>\n",
       "      <td>0.000000</td>\n",
       "    </tr>\n",
       "    <tr>\n",
       "      <th>ESTADO_INGRESO</th>\n",
       "      <td>30</td>\n",
       "      <td>142499</td>\n",
       "      <td>0.021053</td>\n",
       "    </tr>\n",
       "    <tr>\n",
       "      <th>ACTIVIDADES_TRABAJO</th>\n",
       "      <td>0</td>\n",
       "      <td>142499</td>\n",
       "      <td>0.000000</td>\n",
       "    </tr>\n",
       "    <tr>\n",
       "      <th>ACTIVIDADES_ESTUDIO</th>\n",
       "      <td>0</td>\n",
       "      <td>142499</td>\n",
       "      <td>0.000000</td>\n",
       "    </tr>\n",
       "    <tr>\n",
       "      <th>ACTIVIDADES_ENSEÑANZA</th>\n",
       "      <td>0</td>\n",
       "      <td>142499</td>\n",
       "      <td>0.000000</td>\n",
       "    </tr>\n",
       "    <tr>\n",
       "      <th>NIVEL_EDUCATIVO</th>\n",
       "      <td>0</td>\n",
       "      <td>142499</td>\n",
       "      <td>0.000000</td>\n",
       "    </tr>\n",
       "    <tr>\n",
       "      <th>HIJOS_MENORES</th>\n",
       "      <td>0</td>\n",
       "      <td>142499</td>\n",
       "      <td>0.000000</td>\n",
       "    </tr>\n",
       "    <tr>\n",
       "      <th>CONDIC_EXPECIONAL</th>\n",
       "      <td>129224</td>\n",
       "      <td>142499</td>\n",
       "      <td>90.684145</td>\n",
       "    </tr>\n",
       "    <tr>\n",
       "      <th>CODIGO_ESTABLECIMIENTO</th>\n",
       "      <td>0</td>\n",
       "      <td>142499</td>\n",
       "      <td>0.000000</td>\n",
       "    </tr>\n",
       "    <tr>\n",
       "      <th>ESTABLECIMIENTO</th>\n",
       "      <td>0</td>\n",
       "      <td>142499</td>\n",
       "      <td>0.000000</td>\n",
       "    </tr>\n",
       "    <tr>\n",
       "      <th>DEPTO_ESTABLECIMIENTO</th>\n",
       "      <td>2688</td>\n",
       "      <td>142499</td>\n",
       "      <td>1.886329</td>\n",
       "    </tr>\n",
       "    <tr>\n",
       "      <th>MPIO_ESTABLECIMIENTO</th>\n",
       "      <td>2688</td>\n",
       "      <td>142499</td>\n",
       "      <td>1.886329</td>\n",
       "    </tr>\n",
       "    <tr>\n",
       "      <th>REGIONAL</th>\n",
       "      <td>0</td>\n",
       "      <td>142499</td>\n",
       "      <td>0.000000</td>\n",
       "    </tr>\n",
       "    <tr>\n",
       "      <th>ESTADO</th>\n",
       "      <td>0</td>\n",
       "      <td>142499</td>\n",
       "      <td>0.000000</td>\n",
       "    </tr>\n",
       "  </tbody>\n",
       "</table>\n",
       "</div>"
      ],
      "text/plain": [
       "                           num   total          %\n",
       "INTERNOEN                    0  142499   0.000000\n",
       "DELITO                       0  142499   0.000000\n",
       "TENTATIVA                    0  142499   0.000000\n",
       "AGRAVADO                     0  142499   0.000000\n",
       "CALIFICADO                   0  142499   0.000000\n",
       "FECHA_INGRESO                0  142499   0.000000\n",
       "FECHA_SALIDA             46684  142499  32.760932\n",
       "FECHA_CAPTURA                0  142499   0.000000\n",
       "SITUACION_JURIDICA           0  142499   0.000000\n",
       "ANO_NACIMIENTO               0  142499   0.000000\n",
       "EDAD                         0  142499   0.000000\n",
       "GENERO                       0  142499   0.000000\n",
       "ESTADO_CIVIL             79492  142499  55.784251\n",
       "PAIS_INTERNO              3153  142499   2.212647\n",
       "DEPARTAMENTO                 0  142499   0.000000\n",
       "CIUDAD                       0  142499   0.000000\n",
       "REINCIDENTE                  0  142499   0.000000\n",
       "ESTADO_INGRESO              30  142499   0.021053\n",
       "ACTIVIDADES_TRABAJO          0  142499   0.000000\n",
       "ACTIVIDADES_ESTUDIO          0  142499   0.000000\n",
       "ACTIVIDADES_ENSEÑANZA        0  142499   0.000000\n",
       "NIVEL_EDUCATIVO              0  142499   0.000000\n",
       "HIJOS_MENORES                0  142499   0.000000\n",
       "CONDIC_EXPECIONAL       129224  142499  90.684145\n",
       "CODIGO_ESTABLECIMIENTO       0  142499   0.000000\n",
       "ESTABLECIMIENTO              0  142499   0.000000\n",
       "DEPTO_ESTABLECIMIENTO     2688  142499   1.886329\n",
       "MPIO_ESTABLECIMIENTO      2688  142499   1.886329\n",
       "REGIONAL                     0  142499   0.000000\n",
       "ESTADO                       0  142499   0.000000"
      ]
     },
     "execution_count": 177,
     "metadata": {},
     "output_type": "execute_result"
    }
   ],
   "source": [
    "vacios = data.isnull().sum().to_frame()\n",
    "vacios.columns = ['num']\n",
    "vacios['total'] = [len(data)]*len(vacios)\n",
    "vacios['%'] = 100*(vacios['num'] / vacios['total'])\n",
    "vacios"
   ]
  },
  {
   "cell_type": "markdown",
   "metadata": {},
   "source": [
    "### Delito"
   ]
  },
  {
   "cell_type": "code",
   "execution_count": 99,
   "metadata": {
    "ExecuteTime": {
     "end_time": "2020-06-05T19:52:19.986151Z",
     "start_time": "2020-06-05T19:52:19.970956Z"
    }
   },
   "outputs": [
    {
     "data": {
      "text/plain": [
       "(259,)"
      ]
     },
     "execution_count": 99,
     "metadata": {},
     "output_type": "execute_result"
    }
   ],
   "source": [
    "data['DELITO'].unique().shape"
   ]
  },
  {
   "cell_type": "code",
   "execution_count": 100,
   "metadata": {
    "ExecuteTime": {
     "end_time": "2020-06-05T19:52:20.691813Z",
     "start_time": "2020-06-05T19:52:20.197106Z"
    }
   },
   "outputs": [
    {
     "data": {
      "text/plain": [
       "(259,)"
      ]
     },
     "execution_count": 100,
     "metadata": {},
     "output_type": "execute_result"
    }
   ],
   "source": [
    "data['DELITO'] = data['DELITO'].apply(lambda x: ' '.join(unidecode.unidecode(re.sub(r'[^\\w]', ' ',str(x)).lower()).split()))\n",
    "data['DELITO'] = data['DELITO'].astype('category')\n",
    "data['DELITO'].unique().shape"
   ]
  },
  {
   "cell_type": "code",
   "execution_count": 101,
   "metadata": {
    "ExecuteTime": {
     "end_time": "2020-06-05T19:52:20.703092Z",
     "start_time": "2020-06-05T19:52:20.692922Z"
    }
   },
   "outputs": [
    {
     "data": {
      "text/plain": [
       "count    142499.000000\n",
       "mean          3.868343\n",
       "std           3.681905\n",
       "min           1.000000\n",
       "25%           1.000000\n",
       "50%           2.000000\n",
       "75%           6.000000\n",
       "max          20.000000\n",
       "Name: DELITO, dtype: float64"
      ]
     },
     "execution_count": 101,
     "metadata": {},
     "output_type": "execute_result"
    }
   ],
   "source": [
    "data['DELITO'].apply(lambda x: len(x.split())).describe()"
   ]
  },
  {
   "cell_type": "code",
   "execution_count": 102,
   "metadata": {
    "ExecuteTime": {
     "end_time": "2020-06-05T19:52:20.716954Z",
     "start_time": "2020-06-05T19:52:20.704692Z"
    },
    "scrolled": true
   },
   "outputs": [
    {
     "data": {
      "text/html": [
       "<div>\n",
       "<style scoped>\n",
       "    .dataframe tbody tr th:only-of-type {\n",
       "        vertical-align: middle;\n",
       "    }\n",
       "\n",
       "    .dataframe tbody tr th {\n",
       "        vertical-align: top;\n",
       "    }\n",
       "\n",
       "    .dataframe thead th {\n",
       "        text-align: right;\n",
       "    }\n",
       "</style>\n",
       "<table border=\"1\" class=\"dataframe\">\n",
       "  <thead>\n",
       "    <tr style=\"text-align: right;\">\n",
       "      <th></th>\n",
       "      <th>DELITO</th>\n",
       "    </tr>\n",
       "  </thead>\n",
       "  <tbody>\n",
       "    <tr>\n",
       "      <th>hurto</th>\n",
       "      <td>53010</td>\n",
       "    </tr>\n",
       "    <tr>\n",
       "      <th>trafico fabricacion o porte de estupefacientes</th>\n",
       "      <td>23839</td>\n",
       "    </tr>\n",
       "    <tr>\n",
       "      <th>fabricacion trafico y porte de armas de fuego o municiones</th>\n",
       "      <td>16789</td>\n",
       "    </tr>\n",
       "    <tr>\n",
       "      <th>concierto para delinquir</th>\n",
       "      <td>9822</td>\n",
       "    </tr>\n",
       "    <tr>\n",
       "      <th>homicidio</th>\n",
       "      <td>8867</td>\n",
       "    </tr>\n",
       "    <tr>\n",
       "      <th>...</th>\n",
       "      <td>...</td>\n",
       "    </tr>\n",
       "    <tr>\n",
       "      <th>violacion a las normas internas del resguardo nota solo para jurisdiccion indigena</th>\n",
       "      <td>1</td>\n",
       "    </tr>\n",
       "    <tr>\n",
       "      <th>despojo en el campo de batalla</th>\n",
       "      <td>1</td>\n",
       "    </tr>\n",
       "    <tr>\n",
       "      <th>irrespeto a cadaveres</th>\n",
       "      <td>1</td>\n",
       "    </tr>\n",
       "    <tr>\n",
       "      <th>intimidacion nota solo para jurisdiccion indigena</th>\n",
       "      <td>1</td>\n",
       "    </tr>\n",
       "    <tr>\n",
       "      <th>abandono del puesto</th>\n",
       "      <td>1</td>\n",
       "    </tr>\n",
       "  </tbody>\n",
       "</table>\n",
       "<p>259 rows × 1 columns</p>\n",
       "</div>"
      ],
      "text/plain": [
       "                                                    DELITO\n",
       "hurto                                                53010\n",
       "trafico fabricacion o porte de estupefacientes       23839\n",
       "fabricacion trafico y porte de armas de fuego o...   16789\n",
       "concierto para delinquir                              9822\n",
       "homicidio                                             8867\n",
       "...                                                    ...\n",
       "violacion a las normas internas del resguardo n...       1\n",
       "despojo en el campo de batalla                           1\n",
       "irrespeto a cadaveres                                    1\n",
       "intimidacion nota solo para jurisdiccion indigena        1\n",
       "abandono del puesto                                      1\n",
       "\n",
       "[259 rows x 1 columns]"
      ]
     },
     "execution_count": 102,
     "metadata": {},
     "output_type": "execute_result"
    }
   ],
   "source": [
    "data['DELITO'].value_counts().to_frame()"
   ]
  },
  {
   "cell_type": "markdown",
   "metadata": {},
   "source": [
    "### Tentativa"
   ]
  },
  {
   "cell_type": "code",
   "execution_count": 103,
   "metadata": {
    "ExecuteTime": {
     "end_time": "2020-06-05T19:52:22.116175Z",
     "start_time": "2020-06-05T19:52:22.101703Z"
    }
   },
   "outputs": [
    {
     "data": {
      "text/plain": [
       "(2,)"
      ]
     },
     "execution_count": 103,
     "metadata": {},
     "output_type": "execute_result"
    }
   ],
   "source": [
    "data['TENTATIVA'].unique().shape"
   ]
  },
  {
   "cell_type": "code",
   "execution_count": 104,
   "metadata": {
    "ExecuteTime": {
     "end_time": "2020-06-05T19:52:22.299782Z",
     "start_time": "2020-06-05T19:52:22.267205Z"
    }
   },
   "outputs": [
    {
     "data": {
      "text/html": [
       "<div>\n",
       "<style scoped>\n",
       "    .dataframe tbody tr th:only-of-type {\n",
       "        vertical-align: middle;\n",
       "    }\n",
       "\n",
       "    .dataframe tbody tr th {\n",
       "        vertical-align: top;\n",
       "    }\n",
       "\n",
       "    .dataframe thead th {\n",
       "        text-align: right;\n",
       "    }\n",
       "</style>\n",
       "<table border=\"1\" class=\"dataframe\">\n",
       "  <thead>\n",
       "    <tr style=\"text-align: right;\">\n",
       "      <th></th>\n",
       "      <th>TENTATIVA</th>\n",
       "    </tr>\n",
       "  </thead>\n",
       "  <tbody>\n",
       "    <tr>\n",
       "      <th>N</th>\n",
       "      <td>132233</td>\n",
       "    </tr>\n",
       "    <tr>\n",
       "      <th>S</th>\n",
       "      <td>10266</td>\n",
       "    </tr>\n",
       "  </tbody>\n",
       "</table>\n",
       "</div>"
      ],
      "text/plain": [
       "   TENTATIVA\n",
       "N     132233\n",
       "S      10266"
      ]
     },
     "execution_count": 104,
     "metadata": {},
     "output_type": "execute_result"
    }
   ],
   "source": [
    "data['TENTATIVA'].value_counts().to_frame()"
   ]
  },
  {
   "cell_type": "code",
   "execution_count": 105,
   "metadata": {
    "ExecuteTime": {
     "end_time": "2020-06-05T19:52:22.559157Z",
     "start_time": "2020-06-05T19:52:22.470000Z"
    }
   },
   "outputs": [],
   "source": [
    "data['TENTATIVA'] = data['TENTATIVA'].astype('category')"
   ]
  },
  {
   "cell_type": "markdown",
   "metadata": {},
   "source": [
    "### Agravado"
   ]
  },
  {
   "cell_type": "code",
   "execution_count": 106,
   "metadata": {
    "ExecuteTime": {
     "end_time": "2020-06-05T19:52:22.777848Z",
     "start_time": "2020-06-05T19:52:22.769679Z"
    }
   },
   "outputs": [
    {
     "data": {
      "text/plain": [
       "(2,)"
      ]
     },
     "execution_count": 106,
     "metadata": {},
     "output_type": "execute_result"
    }
   ],
   "source": [
    "data['AGRAVADO'].unique().shape"
   ]
  },
  {
   "cell_type": "code",
   "execution_count": 107,
   "metadata": {
    "ExecuteTime": {
     "end_time": "2020-06-05T19:52:22.932562Z",
     "start_time": "2020-06-05T19:52:22.917312Z"
    }
   },
   "outputs": [
    {
     "data": {
      "text/html": [
       "<div>\n",
       "<style scoped>\n",
       "    .dataframe tbody tr th:only-of-type {\n",
       "        vertical-align: middle;\n",
       "    }\n",
       "\n",
       "    .dataframe tbody tr th {\n",
       "        vertical-align: top;\n",
       "    }\n",
       "\n",
       "    .dataframe thead th {\n",
       "        text-align: right;\n",
       "    }\n",
       "</style>\n",
       "<table border=\"1\" class=\"dataframe\">\n",
       "  <thead>\n",
       "    <tr style=\"text-align: right;\">\n",
       "      <th></th>\n",
       "      <th>AGRAVADO</th>\n",
       "    </tr>\n",
       "  </thead>\n",
       "  <tbody>\n",
       "    <tr>\n",
       "      <th>N</th>\n",
       "      <td>95435</td>\n",
       "    </tr>\n",
       "    <tr>\n",
       "      <th>S</th>\n",
       "      <td>47064</td>\n",
       "    </tr>\n",
       "  </tbody>\n",
       "</table>\n",
       "</div>"
      ],
      "text/plain": [
       "   AGRAVADO\n",
       "N     95435\n",
       "S     47064"
      ]
     },
     "execution_count": 107,
     "metadata": {},
     "output_type": "execute_result"
    }
   ],
   "source": [
    "data['AGRAVADO'].value_counts().to_frame()"
   ]
  },
  {
   "cell_type": "code",
   "execution_count": 108,
   "metadata": {
    "ExecuteTime": {
     "end_time": "2020-06-05T19:52:23.146186Z",
     "start_time": "2020-06-05T19:52:23.083386Z"
    }
   },
   "outputs": [],
   "source": [
    "data['AGRAVADO'] = data['AGRAVADO'].astype('category')"
   ]
  },
  {
   "cell_type": "markdown",
   "metadata": {},
   "source": [
    "### Calificado"
   ]
  },
  {
   "cell_type": "code",
   "execution_count": 109,
   "metadata": {
    "ExecuteTime": {
     "end_time": "2020-06-05T19:52:24.147995Z",
     "start_time": "2020-06-05T19:52:24.139264Z"
    }
   },
   "outputs": [
    {
     "data": {
      "text/plain": [
       "(2,)"
      ]
     },
     "execution_count": 109,
     "metadata": {},
     "output_type": "execute_result"
    }
   ],
   "source": [
    "data['CALIFICADO'].unique().shape"
   ]
  },
  {
   "cell_type": "code",
   "execution_count": 110,
   "metadata": {
    "ExecuteTime": {
     "end_time": "2020-06-05T19:52:24.628599Z",
     "start_time": "2020-06-05T19:52:24.594750Z"
    }
   },
   "outputs": [
    {
     "data": {
      "text/html": [
       "<div>\n",
       "<style scoped>\n",
       "    .dataframe tbody tr th:only-of-type {\n",
       "        vertical-align: middle;\n",
       "    }\n",
       "\n",
       "    .dataframe tbody tr th {\n",
       "        vertical-align: top;\n",
       "    }\n",
       "\n",
       "    .dataframe thead th {\n",
       "        text-align: right;\n",
       "    }\n",
       "</style>\n",
       "<table border=\"1\" class=\"dataframe\">\n",
       "  <thead>\n",
       "    <tr style=\"text-align: right;\">\n",
       "      <th></th>\n",
       "      <th>CALIFICADO</th>\n",
       "    </tr>\n",
       "  </thead>\n",
       "  <tbody>\n",
       "    <tr>\n",
       "      <th>N</th>\n",
       "      <td>101834</td>\n",
       "    </tr>\n",
       "    <tr>\n",
       "      <th>S</th>\n",
       "      <td>40665</td>\n",
       "    </tr>\n",
       "  </tbody>\n",
       "</table>\n",
       "</div>"
      ],
      "text/plain": [
       "   CALIFICADO\n",
       "N      101834\n",
       "S       40665"
      ]
     },
     "execution_count": 110,
     "metadata": {},
     "output_type": "execute_result"
    }
   ],
   "source": [
    "data['CALIFICADO'].value_counts().to_frame()"
   ]
  },
  {
   "cell_type": "code",
   "execution_count": 111,
   "metadata": {
    "ExecuteTime": {
     "end_time": "2020-06-05T19:52:25.237199Z",
     "start_time": "2020-06-05T19:52:25.172547Z"
    }
   },
   "outputs": [],
   "source": [
    "data['CALIFICADO'] = data['CALIFICADO'].astype('category')"
   ]
  },
  {
   "cell_type": "markdown",
   "metadata": {},
   "source": [
    "### Fecha Ingreso"
   ]
  },
  {
   "cell_type": "code",
   "execution_count": 112,
   "metadata": {
    "ExecuteTime": {
     "end_time": "2020-06-05T19:52:26.620585Z",
     "start_time": "2020-06-05T19:52:26.607041Z"
    }
   },
   "outputs": [
    {
     "data": {
      "text/plain": [
       "(3774,)"
      ]
     },
     "execution_count": 112,
     "metadata": {},
     "output_type": "execute_result"
    }
   ],
   "source": [
    "data['FECHA_INGRESO'].unique().shape"
   ]
  },
  {
   "cell_type": "code",
   "execution_count": 113,
   "metadata": {
    "ExecuteTime": {
     "end_time": "2020-06-05T19:52:27.113050Z",
     "start_time": "2020-06-05T19:52:26.828158Z"
    }
   },
   "outputs": [],
   "source": [
    "data['FECHA_INGRESO'] = pd.to_datetime(data['FECHA_INGRESO'])"
   ]
  },
  {
   "cell_type": "markdown",
   "metadata": {},
   "source": [
    "### Fecha Salida"
   ]
  },
  {
   "cell_type": "code",
   "execution_count": 114,
   "metadata": {
    "ExecuteTime": {
     "end_time": "2020-06-05T19:52:30.927813Z",
     "start_time": "2020-06-05T19:52:30.917908Z"
    }
   },
   "outputs": [
    {
     "data": {
      "text/plain": [
       "(3638,)"
      ]
     },
     "execution_count": 114,
     "metadata": {},
     "output_type": "execute_result"
    }
   ],
   "source": [
    "data['FECHA_SALIDA'].unique().shape"
   ]
  },
  {
   "cell_type": "code",
   "execution_count": 21,
   "metadata": {
    "ExecuteTime": {
     "end_time": "2020-06-05T17:25:21.535118Z",
     "start_time": "2020-06-05T17:25:21.288440Z"
    }
   },
   "outputs": [],
   "source": [
    "data['FECHA_SALIDA'] = pd.to_datetime(data['FECHA_SALIDA'])"
   ]
  },
  {
   "cell_type": "markdown",
   "metadata": {},
   "source": [
    "### Fecha Captura"
   ]
  },
  {
   "cell_type": "code",
   "execution_count": 115,
   "metadata": {
    "ExecuteTime": {
     "end_time": "2020-06-05T19:52:44.095771Z",
     "start_time": "2020-06-05T19:52:44.082684Z"
    }
   },
   "outputs": [
    {
     "data": {
      "text/plain": [
       "(5621,)"
      ]
     },
     "execution_count": 115,
     "metadata": {},
     "output_type": "execute_result"
    }
   ],
   "source": [
    "data['FECHA_CAPTURA'].unique().shape"
   ]
  },
  {
   "cell_type": "code",
   "execution_count": 116,
   "metadata": {
    "ExecuteTime": {
     "end_time": "2020-06-05T19:52:44.632474Z",
     "start_time": "2020-06-05T19:52:44.276298Z"
    }
   },
   "outputs": [],
   "source": [
    "data['FECHA_CAPTURA'] = pd.to_datetime(data['FECHA_CAPTURA'])"
   ]
  },
  {
   "cell_type": "markdown",
   "metadata": {},
   "source": [
    "### Situación Jurídica"
   ]
  },
  {
   "cell_type": "code",
   "execution_count": 117,
   "metadata": {
    "ExecuteTime": {
     "end_time": "2020-06-05T19:52:44.914859Z",
     "start_time": "2020-06-05T19:52:44.905773Z"
    }
   },
   "outputs": [
    {
     "data": {
      "text/plain": [
       "(1,)"
      ]
     },
     "execution_count": 117,
     "metadata": {},
     "output_type": "execute_result"
    }
   ],
   "source": [
    "data['SITUACION_JURIDICA'].unique().shape"
   ]
  },
  {
   "cell_type": "code",
   "execution_count": 118,
   "metadata": {
    "ExecuteTime": {
     "end_time": "2020-06-05T19:52:45.416809Z",
     "start_time": "2020-06-05T19:52:45.398288Z"
    }
   },
   "outputs": [
    {
     "data": {
      "text/plain": [
       "CO    142499\n",
       "Name: SITUACION_JURIDICA, dtype: int64"
      ]
     },
     "execution_count": 118,
     "metadata": {},
     "output_type": "execute_result"
    }
   ],
   "source": [
    "data['SITUACION_JURIDICA'].value_counts()"
   ]
  },
  {
   "cell_type": "code",
   "execution_count": 119,
   "metadata": {
    "ExecuteTime": {
     "end_time": "2020-06-05T19:52:45.707884Z",
     "start_time": "2020-06-05T19:52:45.651368Z"
    }
   },
   "outputs": [],
   "source": [
    "data['SITUACION_JURIDICA'] = data['SITUACION_JURIDICA'].astype('category')"
   ]
  },
  {
   "cell_type": "markdown",
   "metadata": {},
   "source": [
    "### Año nacimiento"
   ]
  },
  {
   "cell_type": "code",
   "execution_count": 120,
   "metadata": {
    "ExecuteTime": {
     "end_time": "2020-06-05T19:52:46.478847Z",
     "start_time": "2020-06-05T19:52:46.470517Z"
    }
   },
   "outputs": [
    {
     "data": {
      "text/plain": [
       "(76,)"
      ]
     },
     "execution_count": 120,
     "metadata": {},
     "output_type": "execute_result"
    }
   ],
   "source": [
    "data['ANO_NACIMIENTO'].unique().shape"
   ]
  },
  {
   "cell_type": "code",
   "execution_count": 121,
   "metadata": {
    "ExecuteTime": {
     "end_time": "2020-06-05T19:52:46.656270Z",
     "start_time": "2020-06-05T19:52:46.638702Z"
    }
   },
   "outputs": [
    {
     "data": {
      "text/html": [
       "<div>\n",
       "<style scoped>\n",
       "    .dataframe tbody tr th:only-of-type {\n",
       "        vertical-align: middle;\n",
       "    }\n",
       "\n",
       "    .dataframe tbody tr th {\n",
       "        vertical-align: top;\n",
       "    }\n",
       "\n",
       "    .dataframe thead th {\n",
       "        text-align: right;\n",
       "    }\n",
       "</style>\n",
       "<table border=\"1\" class=\"dataframe\">\n",
       "  <thead>\n",
       "    <tr style=\"text-align: right;\">\n",
       "      <th></th>\n",
       "      <th>ANO_NACIMIENTO</th>\n",
       "    </tr>\n",
       "  </thead>\n",
       "  <tbody>\n",
       "    <tr>\n",
       "      <th>1990</th>\n",
       "      <td>6822</td>\n",
       "    </tr>\n",
       "    <tr>\n",
       "      <th>1989</th>\n",
       "      <td>6733</td>\n",
       "    </tr>\n",
       "    <tr>\n",
       "      <th>1985</th>\n",
       "      <td>6654</td>\n",
       "    </tr>\n",
       "    <tr>\n",
       "      <th>1988</th>\n",
       "      <td>6636</td>\n",
       "    </tr>\n",
       "    <tr>\n",
       "      <th>1984</th>\n",
       "      <td>6630</td>\n",
       "    </tr>\n",
       "    <tr>\n",
       "      <th>...</th>\n",
       "      <td>...</td>\n",
       "    </tr>\n",
       "    <tr>\n",
       "      <th>1934</th>\n",
       "      <td>4</td>\n",
       "    </tr>\n",
       "    <tr>\n",
       "      <th>1927</th>\n",
       "      <td>3</td>\n",
       "    </tr>\n",
       "    <tr>\n",
       "      <th>1928</th>\n",
       "      <td>3</td>\n",
       "    </tr>\n",
       "    <tr>\n",
       "      <th>1926</th>\n",
       "      <td>3</td>\n",
       "    </tr>\n",
       "    <tr>\n",
       "      <th>1925</th>\n",
       "      <td>1</td>\n",
       "    </tr>\n",
       "  </tbody>\n",
       "</table>\n",
       "<p>76 rows × 1 columns</p>\n",
       "</div>"
      ],
      "text/plain": [
       "      ANO_NACIMIENTO\n",
       "1990            6822\n",
       "1989            6733\n",
       "1985            6654\n",
       "1988            6636\n",
       "1984            6630\n",
       "...              ...\n",
       "1934               4\n",
       "1927               3\n",
       "1928               3\n",
       "1926               3\n",
       "1925               1\n",
       "\n",
       "[76 rows x 1 columns]"
      ]
     },
     "execution_count": 121,
     "metadata": {},
     "output_type": "execute_result"
    }
   ],
   "source": [
    "data['ANO_NACIMIENTO'].value_counts().to_frame()"
   ]
  },
  {
   "cell_type": "code",
   "execution_count": 122,
   "metadata": {
    "ExecuteTime": {
     "end_time": "2020-06-05T19:52:48.097334Z",
     "start_time": "2020-06-05T19:52:48.033441Z"
    }
   },
   "outputs": [],
   "source": [
    "data['ANO_NACIMIENTO'] = data['ANO_NACIMIENTO'].astype(int)"
   ]
  },
  {
   "cell_type": "markdown",
   "metadata": {},
   "source": [
    "### Edad"
   ]
  },
  {
   "cell_type": "code",
   "execution_count": 123,
   "metadata": {
    "ExecuteTime": {
     "end_time": "2020-06-05T19:52:48.880670Z",
     "start_time": "2020-06-05T19:52:48.868738Z"
    }
   },
   "outputs": [
    {
     "data": {
      "text/plain": [
       "(76,)"
      ]
     },
     "execution_count": 123,
     "metadata": {},
     "output_type": "execute_result"
    }
   ],
   "source": [
    "data['EDAD'].unique().shape"
   ]
  },
  {
   "cell_type": "code",
   "execution_count": 124,
   "metadata": {
    "ExecuteTime": {
     "end_time": "2020-06-05T19:52:49.430836Z",
     "start_time": "2020-06-05T19:52:49.412704Z"
    }
   },
   "outputs": [
    {
     "data": {
      "text/html": [
       "<div>\n",
       "<style scoped>\n",
       "    .dataframe tbody tr th:only-of-type {\n",
       "        vertical-align: middle;\n",
       "    }\n",
       "\n",
       "    .dataframe tbody tr th {\n",
       "        vertical-align: top;\n",
       "    }\n",
       "\n",
       "    .dataframe thead th {\n",
       "        text-align: right;\n",
       "    }\n",
       "</style>\n",
       "<table border=\"1\" class=\"dataframe\">\n",
       "  <thead>\n",
       "    <tr style=\"text-align: right;\">\n",
       "      <th></th>\n",
       "      <th>EDAD</th>\n",
       "    </tr>\n",
       "  </thead>\n",
       "  <tbody>\n",
       "    <tr>\n",
       "      <th>35</th>\n",
       "      <td>6832</td>\n",
       "    </tr>\n",
       "    <tr>\n",
       "      <th>30</th>\n",
       "      <td>6719</td>\n",
       "    </tr>\n",
       "    <tr>\n",
       "      <th>31</th>\n",
       "      <td>6706</td>\n",
       "    </tr>\n",
       "    <tr>\n",
       "      <th>29</th>\n",
       "      <td>6664</td>\n",
       "    </tr>\n",
       "    <tr>\n",
       "      <th>33</th>\n",
       "      <td>6590</td>\n",
       "    </tr>\n",
       "    <tr>\n",
       "      <th>...</th>\n",
       "      <td>...</td>\n",
       "    </tr>\n",
       "    <tr>\n",
       "      <th>92</th>\n",
       "      <td>4</td>\n",
       "    </tr>\n",
       "    <tr>\n",
       "      <th>93</th>\n",
       "      <td>3</td>\n",
       "    </tr>\n",
       "    <tr>\n",
       "      <th>91</th>\n",
       "      <td>2</td>\n",
       "    </tr>\n",
       "    <tr>\n",
       "      <th>90</th>\n",
       "      <td>1</td>\n",
       "    </tr>\n",
       "    <tr>\n",
       "      <th>94</th>\n",
       "      <td>1</td>\n",
       "    </tr>\n",
       "  </tbody>\n",
       "</table>\n",
       "<p>76 rows × 1 columns</p>\n",
       "</div>"
      ],
      "text/plain": [
       "    EDAD\n",
       "35  6832\n",
       "30  6719\n",
       "31  6706\n",
       "29  6664\n",
       "33  6590\n",
       "..   ...\n",
       "92     4\n",
       "93     3\n",
       "91     2\n",
       "90     1\n",
       "94     1\n",
       "\n",
       "[76 rows x 1 columns]"
      ]
     },
     "execution_count": 124,
     "metadata": {},
     "output_type": "execute_result"
    }
   ],
   "source": [
    "data['EDAD'].value_counts().to_frame()"
   ]
  },
  {
   "cell_type": "code",
   "execution_count": 125,
   "metadata": {
    "ExecuteTime": {
     "end_time": "2020-06-05T19:52:50.437349Z",
     "start_time": "2020-06-05T19:52:50.382597Z"
    }
   },
   "outputs": [],
   "source": [
    "data['EDAD'] = data['EDAD'].astype(int)"
   ]
  },
  {
   "cell_type": "markdown",
   "metadata": {},
   "source": [
    "### Genero"
   ]
  },
  {
   "cell_type": "code",
   "execution_count": 126,
   "metadata": {
    "ExecuteTime": {
     "end_time": "2020-06-05T19:52:53.207192Z",
     "start_time": "2020-06-05T19:52:53.193367Z"
    }
   },
   "outputs": [
    {
     "data": {
      "text/plain": [
       "(2,)"
      ]
     },
     "execution_count": 126,
     "metadata": {},
     "output_type": "execute_result"
    }
   ],
   "source": [
    "data['GENERO'].unique().shape"
   ]
  },
  {
   "cell_type": "code",
   "execution_count": 127,
   "metadata": {
    "ExecuteTime": {
     "end_time": "2020-06-05T19:52:53.608784Z",
     "start_time": "2020-06-05T19:52:53.594683Z"
    }
   },
   "outputs": [
    {
     "data": {
      "text/html": [
       "<div>\n",
       "<style scoped>\n",
       "    .dataframe tbody tr th:only-of-type {\n",
       "        vertical-align: middle;\n",
       "    }\n",
       "\n",
       "    .dataframe tbody tr th {\n",
       "        vertical-align: top;\n",
       "    }\n",
       "\n",
       "    .dataframe thead th {\n",
       "        text-align: right;\n",
       "    }\n",
       "</style>\n",
       "<table border=\"1\" class=\"dataframe\">\n",
       "  <thead>\n",
       "    <tr style=\"text-align: right;\">\n",
       "      <th></th>\n",
       "      <th>GENERO</th>\n",
       "    </tr>\n",
       "  </thead>\n",
       "  <tbody>\n",
       "    <tr>\n",
       "      <th>MASCULINO</th>\n",
       "      <td>131119</td>\n",
       "    </tr>\n",
       "    <tr>\n",
       "      <th>FEMENINO</th>\n",
       "      <td>11380</td>\n",
       "    </tr>\n",
       "  </tbody>\n",
       "</table>\n",
       "</div>"
      ],
      "text/plain": [
       "           GENERO\n",
       "MASCULINO  131119\n",
       "FEMENINO    11380"
      ]
     },
     "execution_count": 127,
     "metadata": {},
     "output_type": "execute_result"
    }
   ],
   "source": [
    "data['GENERO'].value_counts().to_frame()"
   ]
  },
  {
   "cell_type": "code",
   "execution_count": 35,
   "metadata": {
    "ExecuteTime": {
     "end_time": "2020-06-05T17:25:22.235302Z",
     "start_time": "2020-06-05T17:25:22.186961Z"
    }
   },
   "outputs": [],
   "source": [
    "data['GENERO'] = data['GENERO'].astype('category')"
   ]
  },
  {
   "cell_type": "markdown",
   "metadata": {},
   "source": [
    "### Estado Civil"
   ]
  },
  {
   "cell_type": "code",
   "execution_count": 128,
   "metadata": {
    "ExecuteTime": {
     "end_time": "2020-06-05T19:53:05.212959Z",
     "start_time": "2020-06-05T19:53:05.200292Z"
    }
   },
   "outputs": [
    {
     "data": {
      "text/plain": [
       "(9,)"
      ]
     },
     "execution_count": 128,
     "metadata": {},
     "output_type": "execute_result"
    }
   ],
   "source": [
    "data['ESTADO_CIVIL'].unique().shape"
   ]
  },
  {
   "cell_type": "code",
   "execution_count": 129,
   "metadata": {
    "ExecuteTime": {
     "end_time": "2020-06-05T19:53:05.404991Z",
     "start_time": "2020-06-05T19:53:05.382498Z"
    }
   },
   "outputs": [
    {
     "data": {
      "text/html": [
       "<div>\n",
       "<style scoped>\n",
       "    .dataframe tbody tr th:only-of-type {\n",
       "        vertical-align: middle;\n",
       "    }\n",
       "\n",
       "    .dataframe tbody tr th {\n",
       "        vertical-align: top;\n",
       "    }\n",
       "\n",
       "    .dataframe thead th {\n",
       "        text-align: right;\n",
       "    }\n",
       "</style>\n",
       "<table border=\"1\" class=\"dataframe\">\n",
       "  <thead>\n",
       "    <tr style=\"text-align: right;\">\n",
       "      <th></th>\n",
       "      <th>ESTADO_CIVIL</th>\n",
       "    </tr>\n",
       "  </thead>\n",
       "  <tbody>\n",
       "    <tr>\n",
       "      <th>UNION LIBRE</th>\n",
       "      <td>38054</td>\n",
       "    </tr>\n",
       "    <tr>\n",
       "      <th>SOLTERO(A)</th>\n",
       "      <td>21049</td>\n",
       "    </tr>\n",
       "    <tr>\n",
       "      <th>CASADO(A)</th>\n",
       "      <td>2840</td>\n",
       "    </tr>\n",
       "    <tr>\n",
       "      <th>SEPARADO(A)</th>\n",
       "      <td>762</td>\n",
       "    </tr>\n",
       "    <tr>\n",
       "      <th>VIUDO(A)</th>\n",
       "      <td>237</td>\n",
       "    </tr>\n",
       "    <tr>\n",
       "      <th>DIVORCIADO(A)</th>\n",
       "      <td>42</td>\n",
       "    </tr>\n",
       "    <tr>\n",
       "      <th>PENDIENTE POR</th>\n",
       "      <td>22</td>\n",
       "    </tr>\n",
       "    <tr>\n",
       "      <th>RELIGIOSO(A)</th>\n",
       "      <td>1</td>\n",
       "    </tr>\n",
       "  </tbody>\n",
       "</table>\n",
       "</div>"
      ],
      "text/plain": [
       "                ESTADO_CIVIL\n",
       "UNION LIBRE            38054\n",
       "SOLTERO(A)             21049\n",
       "CASADO(A)               2840\n",
       "SEPARADO(A)              762\n",
       "VIUDO(A)                 237\n",
       "DIVORCIADO(A)             42\n",
       "PENDIENTE POR             22\n",
       "RELIGIOSO(A)               1"
      ]
     },
     "execution_count": 129,
     "metadata": {},
     "output_type": "execute_result"
    }
   ],
   "source": [
    "data['ESTADO_CIVIL'].value_counts().to_frame()"
   ]
  },
  {
   "cell_type": "code",
   "execution_count": 38,
   "metadata": {
    "ExecuteTime": {
     "end_time": "2020-06-05T17:25:22.306604Z",
     "start_time": "2020-06-05T17:25:22.260538Z"
    }
   },
   "outputs": [],
   "source": [
    "data['ESTADO_CIVIL'] = data['ESTADO_CIVIL'].astype('category')"
   ]
  },
  {
   "cell_type": "markdown",
   "metadata": {},
   "source": [
    "### Pais Interno"
   ]
  },
  {
   "cell_type": "code",
   "execution_count": 130,
   "metadata": {
    "ExecuteTime": {
     "end_time": "2020-06-05T19:53:07.448208Z",
     "start_time": "2020-06-05T19:53:07.437378Z"
    }
   },
   "outputs": [
    {
     "data": {
      "text/plain": [
       "(26,)"
      ]
     },
     "execution_count": 130,
     "metadata": {},
     "output_type": "execute_result"
    }
   ],
   "source": [
    "data['PAIS_INTERNO'].unique().shape"
   ]
  },
  {
   "cell_type": "code",
   "execution_count": 131,
   "metadata": {
    "ExecuteTime": {
     "end_time": "2020-06-05T19:53:07.640602Z",
     "start_time": "2020-06-05T19:53:07.620923Z"
    },
    "scrolled": true
   },
   "outputs": [
    {
     "data": {
      "text/html": [
       "<div>\n",
       "<style scoped>\n",
       "    .dataframe tbody tr th:only-of-type {\n",
       "        vertical-align: middle;\n",
       "    }\n",
       "\n",
       "    .dataframe tbody tr th {\n",
       "        vertical-align: top;\n",
       "    }\n",
       "\n",
       "    .dataframe thead th {\n",
       "        text-align: right;\n",
       "    }\n",
       "</style>\n",
       "<table border=\"1\" class=\"dataframe\">\n",
       "  <thead>\n",
       "    <tr style=\"text-align: right;\">\n",
       "      <th></th>\n",
       "      <th>PAIS_INTERNO</th>\n",
       "    </tr>\n",
       "  </thead>\n",
       "  <tbody>\n",
       "    <tr>\n",
       "      <th>REPUBLICA DE COLOMBIA</th>\n",
       "      <td>139124</td>\n",
       "    </tr>\n",
       "    <tr>\n",
       "      <th>VENEZUELA</th>\n",
       "      <td>105</td>\n",
       "    </tr>\n",
       "    <tr>\n",
       "      <th>ECUADOR</th>\n",
       "      <td>25</td>\n",
       "    </tr>\n",
       "    <tr>\n",
       "      <th>PERU</th>\n",
       "      <td>16</td>\n",
       "    </tr>\n",
       "    <tr>\n",
       "      <th>ESPAÑA</th>\n",
       "      <td>11</td>\n",
       "    </tr>\n",
       "    <tr>\n",
       "      <th>BRASIL</th>\n",
       "      <td>10</td>\n",
       "    </tr>\n",
       "    <tr>\n",
       "      <th>MEXICO</th>\n",
       "      <td>9</td>\n",
       "    </tr>\n",
       "    <tr>\n",
       "      <th>ESTADOS UNIDOS DE AMERICA</th>\n",
       "      <td>8</td>\n",
       "    </tr>\n",
       "    <tr>\n",
       "      <th>CUBA</th>\n",
       "      <td>5</td>\n",
       "    </tr>\n",
       "    <tr>\n",
       "      <th>HOLANDA</th>\n",
       "      <td>4</td>\n",
       "    </tr>\n",
       "    <tr>\n",
       "      <th>AFGANISTAN</th>\n",
       "      <td>4</td>\n",
       "    </tr>\n",
       "    <tr>\n",
       "      <th>ITALIA</th>\n",
       "      <td>4</td>\n",
       "    </tr>\n",
       "    <tr>\n",
       "      <th>REPUBLICA DOMINICANA</th>\n",
       "      <td>3</td>\n",
       "    </tr>\n",
       "    <tr>\n",
       "      <th>GUATEMALA</th>\n",
       "      <td>3</td>\n",
       "    </tr>\n",
       "    <tr>\n",
       "      <th>POLONIA</th>\n",
       "      <td>2</td>\n",
       "    </tr>\n",
       "    <tr>\n",
       "      <th>COSTA RICA</th>\n",
       "      <td>2</td>\n",
       "    </tr>\n",
       "    <tr>\n",
       "      <th>ARGENTINA</th>\n",
       "      <td>2</td>\n",
       "    </tr>\n",
       "    <tr>\n",
       "      <th>URUGUAY</th>\n",
       "      <td>2</td>\n",
       "    </tr>\n",
       "    <tr>\n",
       "      <th>FRANCIA</th>\n",
       "      <td>1</td>\n",
       "    </tr>\n",
       "    <tr>\n",
       "      <th>CANADA</th>\n",
       "      <td>1</td>\n",
       "    </tr>\n",
       "    <tr>\n",
       "      <th>CHINA</th>\n",
       "      <td>1</td>\n",
       "    </tr>\n",
       "    <tr>\n",
       "      <th>ALBANIA</th>\n",
       "      <td>1</td>\n",
       "    </tr>\n",
       "    <tr>\n",
       "      <th>LITUANIA</th>\n",
       "      <td>1</td>\n",
       "    </tr>\n",
       "    <tr>\n",
       "      <th>ALEMANIA</th>\n",
       "      <td>1</td>\n",
       "    </tr>\n",
       "    <tr>\n",
       "      <th>PANAMA</th>\n",
       "      <td>1</td>\n",
       "    </tr>\n",
       "  </tbody>\n",
       "</table>\n",
       "</div>"
      ],
      "text/plain": [
       "                           PAIS_INTERNO\n",
       "REPUBLICA DE COLOMBIA            139124\n",
       "VENEZUELA                           105\n",
       "ECUADOR                              25\n",
       "PERU                                 16\n",
       "ESPAÑA                               11\n",
       "BRASIL                               10\n",
       "MEXICO                                9\n",
       "ESTADOS UNIDOS DE AMERICA             8\n",
       "CUBA                                  5\n",
       "HOLANDA                               4\n",
       "AFGANISTAN                            4\n",
       "ITALIA                                4\n",
       "REPUBLICA DOMINICANA                  3\n",
       "GUATEMALA                             3\n",
       "POLONIA                               2\n",
       "COSTA RICA                            2\n",
       "ARGENTINA                             2\n",
       "URUGUAY                               2\n",
       "FRANCIA                               1\n",
       "CANADA                                1\n",
       "CHINA                                 1\n",
       "ALBANIA                               1\n",
       "LITUANIA                              1\n",
       "ALEMANIA                              1\n",
       "PANAMA                                1"
      ]
     },
     "execution_count": 131,
     "metadata": {},
     "output_type": "execute_result"
    }
   ],
   "source": [
    "data['PAIS_INTERNO'].value_counts().to_frame()"
   ]
  },
  {
   "cell_type": "code",
   "execution_count": 41,
   "metadata": {
    "ExecuteTime": {
     "end_time": "2020-06-05T17:25:22.677656Z",
     "start_time": "2020-06-05T17:25:22.330842Z"
    }
   },
   "outputs": [
    {
     "data": {
      "text/plain": [
       "(26,)"
      ]
     },
     "execution_count": 41,
     "metadata": {},
     "output_type": "execute_result"
    }
   ],
   "source": [
    "data['PAIS_INTERNO'] = data['PAIS_INTERNO'].apply(lambda x: ' '.join(unidecode.unidecode(re.sub(r'[^\\w]', ' ',str(x)).lower()).split()))\n",
    "data['PAIS_INTERNO'] = data['PAIS_INTERNO'].astype('category')\n",
    "data['PAIS_INTERNO'].unique().shape"
   ]
  },
  {
   "cell_type": "markdown",
   "metadata": {},
   "source": [
    "### Departamento"
   ]
  },
  {
   "cell_type": "code",
   "execution_count": 132,
   "metadata": {
    "ExecuteTime": {
     "end_time": "2020-06-05T19:53:18.270066Z",
     "start_time": "2020-06-05T19:53:18.255448Z"
    }
   },
   "outputs": [
    {
     "data": {
      "text/plain": [
       "(347,)"
      ]
     },
     "execution_count": 132,
     "metadata": {},
     "output_type": "execute_result"
    }
   ],
   "source": [
    "data['DEPARTAMENTO'].unique().shape"
   ]
  },
  {
   "cell_type": "code",
   "execution_count": 133,
   "metadata": {
    "ExecuteTime": {
     "end_time": "2020-06-05T19:53:18.842397Z",
     "start_time": "2020-06-05T19:53:18.467355Z"
    }
   },
   "outputs": [
    {
     "data": {
      "text/plain": [
       "(347,)"
      ]
     },
     "execution_count": 133,
     "metadata": {},
     "output_type": "execute_result"
    }
   ],
   "source": [
    "data['DEPARTAMENTO'] = data['DEPARTAMENTO'].apply(lambda x: ' '.join(unidecode.unidecode(re.sub(r'[^\\w]', ' ',str(x)).lower()).split()))\n",
    "data['DEPARTAMENTO'] = data['DEPARTAMENTO'].astype('category')\n",
    "data['DEPARTAMENTO'].unique().shape"
   ]
  },
  {
   "cell_type": "code",
   "execution_count": 134,
   "metadata": {
    "ExecuteTime": {
     "end_time": "2020-06-05T19:53:18.852085Z",
     "start_time": "2020-06-05T19:53:18.843515Z"
    }
   },
   "outputs": [
    {
     "data": {
      "text/html": [
       "<div>\n",
       "<style scoped>\n",
       "    .dataframe tbody tr th:only-of-type {\n",
       "        vertical-align: middle;\n",
       "    }\n",
       "\n",
       "    .dataframe tbody tr th {\n",
       "        vertical-align: top;\n",
       "    }\n",
       "\n",
       "    .dataframe thead th {\n",
       "        text-align: right;\n",
       "    }\n",
       "</style>\n",
       "<table border=\"1\" class=\"dataframe\">\n",
       "  <thead>\n",
       "    <tr style=\"text-align: right;\">\n",
       "      <th></th>\n",
       "      <th>DEPARTAMENTO</th>\n",
       "    </tr>\n",
       "  </thead>\n",
       "  <tbody>\n",
       "    <tr>\n",
       "      <th>antioquia</th>\n",
       "      <td>21784</td>\n",
       "    </tr>\n",
       "    <tr>\n",
       "      <th>bogota distrito capital</th>\n",
       "      <td>19261</td>\n",
       "    </tr>\n",
       "    <tr>\n",
       "      <th>valle del cauca</th>\n",
       "      <td>17946</td>\n",
       "    </tr>\n",
       "    <tr>\n",
       "      <th>santander</th>\n",
       "      <td>10067</td>\n",
       "    </tr>\n",
       "    <tr>\n",
       "      <th>tolima</th>\n",
       "      <td>6545</td>\n",
       "    </tr>\n",
       "    <tr>\n",
       "      <th>...</th>\n",
       "      <td>...</td>\n",
       "    </tr>\n",
       "    <tr>\n",
       "      <th>la paz santander</th>\n",
       "      <td>1</td>\n",
       "    </tr>\n",
       "    <tr>\n",
       "      <th>la montanita caqueta</th>\n",
       "      <td>1</td>\n",
       "    </tr>\n",
       "    <tr>\n",
       "      <th>la mesa cundinamarca</th>\n",
       "      <td>1</td>\n",
       "    </tr>\n",
       "    <tr>\n",
       "      <th>la gloria cesar</th>\n",
       "      <td>1</td>\n",
       "    </tr>\n",
       "    <tr>\n",
       "      <th>abejorral antioquia</th>\n",
       "      <td>1</td>\n",
       "    </tr>\n",
       "  </tbody>\n",
       "</table>\n",
       "<p>347 rows × 1 columns</p>\n",
       "</div>"
      ],
      "text/plain": [
       "                         DEPARTAMENTO\n",
       "antioquia                       21784\n",
       "bogota distrito capital         19261\n",
       "valle del cauca                 17946\n",
       "santander                       10067\n",
       "tolima                           6545\n",
       "...                               ...\n",
       "la paz santander                    1\n",
       "la montanita caqueta                1\n",
       "la mesa cundinamarca                1\n",
       "la gloria cesar                     1\n",
       "abejorral antioquia                 1\n",
       "\n",
       "[347 rows x 1 columns]"
      ]
     },
     "execution_count": 134,
     "metadata": {},
     "output_type": "execute_result"
    }
   ],
   "source": [
    "data['DEPARTAMENTO'].value_counts().to_frame()"
   ]
  },
  {
   "cell_type": "markdown",
   "metadata": {},
   "source": [
    "### Ciudad"
   ]
  },
  {
   "cell_type": "code",
   "execution_count": 135,
   "metadata": {
    "ExecuteTime": {
     "end_time": "2020-06-05T19:53:19.658762Z",
     "start_time": "2020-06-05T19:53:19.641252Z"
    }
   },
   "outputs": [
    {
     "data": {
      "text/plain": [
       "(1629,)"
      ]
     },
     "execution_count": 135,
     "metadata": {},
     "output_type": "execute_result"
    }
   ],
   "source": [
    "data['CIUDAD'].unique().shape"
   ]
  },
  {
   "cell_type": "code",
   "execution_count": 136,
   "metadata": {
    "ExecuteTime": {
     "end_time": "2020-06-05T19:53:20.192389Z",
     "start_time": "2020-06-05T19:53:20.173578Z"
    }
   },
   "outputs": [
    {
     "data": {
      "text/html": [
       "<div>\n",
       "<style scoped>\n",
       "    .dataframe tbody tr th:only-of-type {\n",
       "        vertical-align: middle;\n",
       "    }\n",
       "\n",
       "    .dataframe tbody tr th {\n",
       "        vertical-align: top;\n",
       "    }\n",
       "\n",
       "    .dataframe thead th {\n",
       "        text-align: right;\n",
       "    }\n",
       "</style>\n",
       "<table border=\"1\" class=\"dataframe\">\n",
       "  <thead>\n",
       "    <tr style=\"text-align: right;\">\n",
       "      <th></th>\n",
       "      <th>CIUDAD</th>\n",
       "    </tr>\n",
       "  </thead>\n",
       "  <tbody>\n",
       "    <tr>\n",
       "      <th>BOGOTA DISTRITO CAPITAL</th>\n",
       "      <td>19195</td>\n",
       "    </tr>\n",
       "    <tr>\n",
       "      <th>MEDELLIN-ANTIOQUIA</th>\n",
       "      <td>11040</td>\n",
       "    </tr>\n",
       "    <tr>\n",
       "      <th>SANTIAGO DE CALI-VALLE DEL CAUCA</th>\n",
       "      <td>9018</td>\n",
       "    </tr>\n",
       "    <tr>\n",
       "      <th>BUCARAMANGA-SANTANDER</th>\n",
       "      <td>5542</td>\n",
       "    </tr>\n",
       "    <tr>\n",
       "      <th>BARRANQUILLA-ATLANTICO</th>\n",
       "      <td>3296</td>\n",
       "    </tr>\n",
       "    <tr>\n",
       "      <th>...</th>\n",
       "      <td>...</td>\n",
       "    </tr>\n",
       "    <tr>\n",
       "      <th>SANTIAGO APOSTOL-SAN BENITO ABAD-SUCRE</th>\n",
       "      <td>1</td>\n",
       "    </tr>\n",
       "    <tr>\n",
       "      <th>EL TAMBO-ALBAN-NARIÑO</th>\n",
       "      <td>1</td>\n",
       "    </tr>\n",
       "    <tr>\n",
       "      <th>MORINDO CENTRAL-MONTERIA-CORDOBA</th>\n",
       "      <td>1</td>\n",
       "    </tr>\n",
       "    <tr>\n",
       "      <th>PAVARANDOCITO-MUTATA-ANTIOQUIA</th>\n",
       "      <td>1</td>\n",
       "    </tr>\n",
       "    <tr>\n",
       "      <th>PUERTO NARINO-TAME-ARAUCA</th>\n",
       "      <td>1</td>\n",
       "    </tr>\n",
       "  </tbody>\n",
       "</table>\n",
       "<p>1629 rows × 1 columns</p>\n",
       "</div>"
      ],
      "text/plain": [
       "                                        CIUDAD\n",
       "BOGOTA DISTRITO CAPITAL                  19195\n",
       "MEDELLIN-ANTIOQUIA                       11040\n",
       "SANTIAGO DE CALI-VALLE DEL CAUCA          9018\n",
       "BUCARAMANGA-SANTANDER                     5542\n",
       "BARRANQUILLA-ATLANTICO                    3296\n",
       "...                                        ...\n",
       "SANTIAGO APOSTOL-SAN BENITO ABAD-SUCRE       1\n",
       "EL TAMBO-ALBAN-NARIÑO                        1\n",
       "MORINDO CENTRAL-MONTERIA-CORDOBA             1\n",
       "PAVARANDOCITO-MUTATA-ANTIOQUIA               1\n",
       "PUERTO NARINO-TAME-ARAUCA                    1\n",
       "\n",
       "[1629 rows x 1 columns]"
      ]
     },
     "execution_count": 136,
     "metadata": {},
     "output_type": "execute_result"
    }
   ],
   "source": [
    "data['CIUDAD'].value_counts().to_frame()"
   ]
  },
  {
   "cell_type": "code",
   "execution_count": 137,
   "metadata": {
    "ExecuteTime": {
     "end_time": "2020-06-05T19:53:21.762590Z",
     "start_time": "2020-06-05T19:53:21.367703Z"
    }
   },
   "outputs": [
    {
     "data": {
      "text/plain": [
       "(1629,)"
      ]
     },
     "execution_count": 137,
     "metadata": {},
     "output_type": "execute_result"
    }
   ],
   "source": [
    "data['CIUDAD'] = data['CIUDAD'].apply(lambda x: ' '.join(unidecode.unidecode(re.sub(r'[^\\w]', ' ',str(x)).lower()).split()))\n",
    "data['CIUDAD'] = data['CIUDAD'].astype('category')\n",
    "data['CIUDAD'].unique().shape"
   ]
  },
  {
   "cell_type": "code",
   "execution_count": 138,
   "metadata": {
    "ExecuteTime": {
     "end_time": "2020-06-05T19:53:22.756650Z",
     "start_time": "2020-06-05T19:53:22.742186Z"
    },
    "scrolled": true
   },
   "outputs": [
    {
     "data": {
      "text/html": [
       "<div>\n",
       "<style scoped>\n",
       "    .dataframe tbody tr th:only-of-type {\n",
       "        vertical-align: middle;\n",
       "    }\n",
       "\n",
       "    .dataframe tbody tr th {\n",
       "        vertical-align: top;\n",
       "    }\n",
       "\n",
       "    .dataframe thead th {\n",
       "        text-align: right;\n",
       "    }\n",
       "</style>\n",
       "<table border=\"1\" class=\"dataframe\">\n",
       "  <thead>\n",
       "    <tr style=\"text-align: right;\">\n",
       "      <th></th>\n",
       "      <th>CIUDAD</th>\n",
       "    </tr>\n",
       "  </thead>\n",
       "  <tbody>\n",
       "    <tr>\n",
       "      <th>bogota distrito capital</th>\n",
       "      <td>19195</td>\n",
       "    </tr>\n",
       "    <tr>\n",
       "      <th>medellin antioquia</th>\n",
       "      <td>11040</td>\n",
       "    </tr>\n",
       "    <tr>\n",
       "      <th>santiago de cali valle del cauca</th>\n",
       "      <td>9018</td>\n",
       "    </tr>\n",
       "    <tr>\n",
       "      <th>bucaramanga santander</th>\n",
       "      <td>5542</td>\n",
       "    </tr>\n",
       "    <tr>\n",
       "      <th>barranquilla atlantico</th>\n",
       "      <td>3296</td>\n",
       "    </tr>\n",
       "    <tr>\n",
       "      <th>...</th>\n",
       "      <td>...</td>\n",
       "    </tr>\n",
       "    <tr>\n",
       "      <th>mosoco paez cauca</th>\n",
       "      <td>1</td>\n",
       "    </tr>\n",
       "    <tr>\n",
       "      <th>morindo central monteria cordoba</th>\n",
       "      <td>1</td>\n",
       "    </tr>\n",
       "    <tr>\n",
       "      <th>morcote paya boyaca</th>\n",
       "      <td>1</td>\n",
       "    </tr>\n",
       "    <tr>\n",
       "      <th>monterrey guadalajara de buga valle del cauca</th>\n",
       "      <td>1</td>\n",
       "    </tr>\n",
       "    <tr>\n",
       "      <th>zulia maripi boyaca</th>\n",
       "      <td>1</td>\n",
       "    </tr>\n",
       "  </tbody>\n",
       "</table>\n",
       "<p>1629 rows × 1 columns</p>\n",
       "</div>"
      ],
      "text/plain": [
       "                                               CIUDAD\n",
       "bogota distrito capital                         19195\n",
       "medellin antioquia                              11040\n",
       "santiago de cali valle del cauca                 9018\n",
       "bucaramanga santander                            5542\n",
       "barranquilla atlantico                           3296\n",
       "...                                               ...\n",
       "mosoco paez cauca                                   1\n",
       "morindo central monteria cordoba                    1\n",
       "morcote paya boyaca                                 1\n",
       "monterrey guadalajara de buga valle del cauca       1\n",
       "zulia maripi boyaca                                 1\n",
       "\n",
       "[1629 rows x 1 columns]"
      ]
     },
     "execution_count": 138,
     "metadata": {},
     "output_type": "execute_result"
    }
   ],
   "source": [
    "data['CIUDAD'].value_counts().to_frame()"
   ]
  },
  {
   "cell_type": "markdown",
   "metadata": {},
   "source": [
    "### Reincidente"
   ]
  },
  {
   "cell_type": "code",
   "execution_count": 139,
   "metadata": {
    "ExecuteTime": {
     "end_time": "2020-06-05T19:53:25.790646Z",
     "start_time": "2020-06-05T19:53:25.776141Z"
    }
   },
   "outputs": [
    {
     "data": {
      "text/plain": [
       "(1,)"
      ]
     },
     "execution_count": 139,
     "metadata": {},
     "output_type": "execute_result"
    }
   ],
   "source": [
    "data['REINCIDENTE'].unique().shape"
   ]
  },
  {
   "cell_type": "code",
   "execution_count": 140,
   "metadata": {
    "ExecuteTime": {
     "end_time": "2020-06-05T19:53:26.044823Z",
     "start_time": "2020-06-05T19:53:25.992562Z"
    }
   },
   "outputs": [],
   "source": [
    "data['REINCIDENTE'] = data['REINCIDENTE'].astype('category')"
   ]
  },
  {
   "cell_type": "markdown",
   "metadata": {},
   "source": [
    "### Estado Ingreso"
   ]
  },
  {
   "cell_type": "code",
   "execution_count": 141,
   "metadata": {
    "ExecuteTime": {
     "end_time": "2020-06-05T19:53:27.454866Z",
     "start_time": "2020-06-05T19:53:27.442936Z"
    }
   },
   "outputs": [
    {
     "data": {
      "text/plain": [
       "(7,)"
      ]
     },
     "execution_count": 141,
     "metadata": {},
     "output_type": "execute_result"
    }
   ],
   "source": [
    "data['ESTADO_INGRESO'].unique().shape"
   ]
  },
  {
   "cell_type": "code",
   "execution_count": 142,
   "metadata": {
    "ExecuteTime": {
     "end_time": "2020-06-05T19:53:27.681719Z",
     "start_time": "2020-06-05T19:53:27.663414Z"
    }
   },
   "outputs": [
    {
     "data": {
      "text/html": [
       "<div>\n",
       "<style scoped>\n",
       "    .dataframe tbody tr th:only-of-type {\n",
       "        vertical-align: middle;\n",
       "    }\n",
       "\n",
       "    .dataframe tbody tr th {\n",
       "        vertical-align: top;\n",
       "    }\n",
       "\n",
       "    .dataframe thead th {\n",
       "        text-align: right;\n",
       "    }\n",
       "</style>\n",
       "<table border=\"1\" class=\"dataframe\">\n",
       "  <thead>\n",
       "    <tr style=\"text-align: right;\">\n",
       "      <th></th>\n",
       "      <th>ESTADO_INGRESO</th>\n",
       "    </tr>\n",
       "  </thead>\n",
       "  <tbody>\n",
       "    <tr>\n",
       "      <th>Intramuros</th>\n",
       "      <td>86334</td>\n",
       "    </tr>\n",
       "    <tr>\n",
       "      <th>Prision Domiciliaria</th>\n",
       "      <td>36873</td>\n",
       "    </tr>\n",
       "    <tr>\n",
       "      <th>Detencion Domiciliaria</th>\n",
       "      <td>12097</td>\n",
       "    </tr>\n",
       "    <tr>\n",
       "      <th>Vigilancia Electronica</th>\n",
       "      <td>6863</td>\n",
       "    </tr>\n",
       "    <tr>\n",
       "      <th>Control Electronico</th>\n",
       "      <td>161</td>\n",
       "    </tr>\n",
       "    <tr>\n",
       "      <th>Espera Traslado</th>\n",
       "      <td>141</td>\n",
       "    </tr>\n",
       "  </tbody>\n",
       "</table>\n",
       "</div>"
      ],
      "text/plain": [
       "                        ESTADO_INGRESO\n",
       "Intramuros                       86334\n",
       "Prision Domiciliaria             36873\n",
       "Detencion Domiciliaria           12097\n",
       "Vigilancia Electronica            6863\n",
       "Control Electronico                161\n",
       "Espera Traslado                    141"
      ]
     },
     "execution_count": 142,
     "metadata": {},
     "output_type": "execute_result"
    }
   ],
   "source": [
    "data['ESTADO_INGRESO'].value_counts().to_frame()"
   ]
  },
  {
   "cell_type": "code",
   "execution_count": 143,
   "metadata": {
    "ExecuteTime": {
     "end_time": "2020-06-05T19:53:27.958371Z",
     "start_time": "2020-06-05T19:53:27.908373Z"
    }
   },
   "outputs": [],
   "source": [
    "data['ESTADO_INGRESO'] = data['ESTADO_INGRESO'].astype('category')"
   ]
  },
  {
   "cell_type": "markdown",
   "metadata": {},
   "source": [
    "### Actividades Trabajo"
   ]
  },
  {
   "cell_type": "code",
   "execution_count": 144,
   "metadata": {
    "ExecuteTime": {
     "end_time": "2020-06-05T19:53:28.853330Z",
     "start_time": "2020-06-05T19:53:28.841056Z"
    }
   },
   "outputs": [
    {
     "data": {
      "text/plain": [
       "(2,)"
      ]
     },
     "execution_count": 144,
     "metadata": {},
     "output_type": "execute_result"
    }
   ],
   "source": [
    "data['ACTIVIDADES_TRABAJO'].unique().shape"
   ]
  },
  {
   "cell_type": "code",
   "execution_count": 145,
   "metadata": {
    "ExecuteTime": {
     "end_time": "2020-06-05T19:53:29.412389Z",
     "start_time": "2020-06-05T19:53:29.394509Z"
    }
   },
   "outputs": [
    {
     "data": {
      "text/html": [
       "<div>\n",
       "<style scoped>\n",
       "    .dataframe tbody tr th:only-of-type {\n",
       "        vertical-align: middle;\n",
       "    }\n",
       "\n",
       "    .dataframe tbody tr th {\n",
       "        vertical-align: top;\n",
       "    }\n",
       "\n",
       "    .dataframe thead th {\n",
       "        text-align: right;\n",
       "    }\n",
       "</style>\n",
       "<table border=\"1\" class=\"dataframe\">\n",
       "  <thead>\n",
       "    <tr style=\"text-align: right;\">\n",
       "      <th></th>\n",
       "      <th>ACTIVIDADES_TRABAJO</th>\n",
       "    </tr>\n",
       "  </thead>\n",
       "  <tbody>\n",
       "    <tr>\n",
       "      <th>SI</th>\n",
       "      <td>77321</td>\n",
       "    </tr>\n",
       "    <tr>\n",
       "      <th>NO</th>\n",
       "      <td>65178</td>\n",
       "    </tr>\n",
       "  </tbody>\n",
       "</table>\n",
       "</div>"
      ],
      "text/plain": [
       "    ACTIVIDADES_TRABAJO\n",
       "SI                77321\n",
       "NO                65178"
      ]
     },
     "execution_count": 145,
     "metadata": {},
     "output_type": "execute_result"
    }
   ],
   "source": [
    "data['ACTIVIDADES_TRABAJO'].value_counts().to_frame()"
   ]
  },
  {
   "cell_type": "code",
   "execution_count": 146,
   "metadata": {
    "ExecuteTime": {
     "end_time": "2020-06-05T19:53:30.814628Z",
     "start_time": "2020-06-05T19:53:30.762515Z"
    }
   },
   "outputs": [],
   "source": [
    "data['ACTIVIDADES_TRABAJO'] = data['ACTIVIDADES_TRABAJO'].astype('category')"
   ]
  },
  {
   "cell_type": "markdown",
   "metadata": {},
   "source": [
    "### Actividades Estudio"
   ]
  },
  {
   "cell_type": "code",
   "execution_count": 147,
   "metadata": {
    "ExecuteTime": {
     "end_time": "2020-06-05T19:53:34.440595Z",
     "start_time": "2020-06-05T19:53:34.428739Z"
    }
   },
   "outputs": [
    {
     "data": {
      "text/plain": [
       "(2,)"
      ]
     },
     "execution_count": 147,
     "metadata": {},
     "output_type": "execute_result"
    }
   ],
   "source": [
    "data['ACTIVIDADES_ESTUDIO'].unique().shape"
   ]
  },
  {
   "cell_type": "code",
   "execution_count": 148,
   "metadata": {
    "ExecuteTime": {
     "end_time": "2020-06-05T19:53:34.698111Z",
     "start_time": "2020-06-05T19:53:34.675749Z"
    }
   },
   "outputs": [
    {
     "data": {
      "text/html": [
       "<div>\n",
       "<style scoped>\n",
       "    .dataframe tbody tr th:only-of-type {\n",
       "        vertical-align: middle;\n",
       "    }\n",
       "\n",
       "    .dataframe tbody tr th {\n",
       "        vertical-align: top;\n",
       "    }\n",
       "\n",
       "    .dataframe thead th {\n",
       "        text-align: right;\n",
       "    }\n",
       "</style>\n",
       "<table border=\"1\" class=\"dataframe\">\n",
       "  <thead>\n",
       "    <tr style=\"text-align: right;\">\n",
       "      <th></th>\n",
       "      <th>ACTIVIDADES_ESTUDIO</th>\n",
       "    </tr>\n",
       "  </thead>\n",
       "  <tbody>\n",
       "    <tr>\n",
       "      <th>SI</th>\n",
       "      <td>94432</td>\n",
       "    </tr>\n",
       "    <tr>\n",
       "      <th>NO</th>\n",
       "      <td>48067</td>\n",
       "    </tr>\n",
       "  </tbody>\n",
       "</table>\n",
       "</div>"
      ],
      "text/plain": [
       "    ACTIVIDADES_ESTUDIO\n",
       "SI                94432\n",
       "NO                48067"
      ]
     },
     "execution_count": 148,
     "metadata": {},
     "output_type": "execute_result"
    }
   ],
   "source": [
    "data['ACTIVIDADES_ESTUDIO'].value_counts().to_frame()"
   ]
  },
  {
   "cell_type": "code",
   "execution_count": 149,
   "metadata": {
    "ExecuteTime": {
     "end_time": "2020-06-05T19:53:34.922482Z",
     "start_time": "2020-06-05T19:53:34.872239Z"
    }
   },
   "outputs": [],
   "source": [
    "data['ACTIVIDADES_ESTUDIO'] = data['ACTIVIDADES_ESTUDIO'].astype('category')"
   ]
  },
  {
   "cell_type": "markdown",
   "metadata": {},
   "source": [
    "### Activades Enseñanza"
   ]
  },
  {
   "cell_type": "code",
   "execution_count": 150,
   "metadata": {
    "ExecuteTime": {
     "end_time": "2020-06-05T19:53:35.362534Z",
     "start_time": "2020-06-05T19:53:35.352678Z"
    }
   },
   "outputs": [
    {
     "data": {
      "text/plain": [
       "(2,)"
      ]
     },
     "execution_count": 150,
     "metadata": {},
     "output_type": "execute_result"
    }
   ],
   "source": [
    "data['ACTIVIDADES_ENSEÑANZA'].unique().shape"
   ]
  },
  {
   "cell_type": "code",
   "execution_count": 151,
   "metadata": {
    "ExecuteTime": {
     "end_time": "2020-06-05T19:53:35.943539Z",
     "start_time": "2020-06-05T19:53:35.917125Z"
    }
   },
   "outputs": [
    {
     "data": {
      "text/html": [
       "<div>\n",
       "<style scoped>\n",
       "    .dataframe tbody tr th:only-of-type {\n",
       "        vertical-align: middle;\n",
       "    }\n",
       "\n",
       "    .dataframe tbody tr th {\n",
       "        vertical-align: top;\n",
       "    }\n",
       "\n",
       "    .dataframe thead th {\n",
       "        text-align: right;\n",
       "    }\n",
       "</style>\n",
       "<table border=\"1\" class=\"dataframe\">\n",
       "  <thead>\n",
       "    <tr style=\"text-align: right;\">\n",
       "      <th></th>\n",
       "      <th>ACTIVIDADES_ENSEÑANZA</th>\n",
       "    </tr>\n",
       "  </thead>\n",
       "  <tbody>\n",
       "    <tr>\n",
       "      <th>NO</th>\n",
       "      <td>139900</td>\n",
       "    </tr>\n",
       "    <tr>\n",
       "      <th>SI</th>\n",
       "      <td>2599</td>\n",
       "    </tr>\n",
       "  </tbody>\n",
       "</table>\n",
       "</div>"
      ],
      "text/plain": [
       "    ACTIVIDADES_ENSEÑANZA\n",
       "NO                 139900\n",
       "SI                   2599"
      ]
     },
     "execution_count": 151,
     "metadata": {},
     "output_type": "execute_result"
    }
   ],
   "source": [
    "data['ACTIVIDADES_ENSEÑANZA'].value_counts().to_frame()"
   ]
  },
  {
   "cell_type": "code",
   "execution_count": 152,
   "metadata": {
    "ExecuteTime": {
     "end_time": "2020-06-05T19:53:36.686335Z",
     "start_time": "2020-06-05T19:53:36.640290Z"
    }
   },
   "outputs": [],
   "source": [
    "data['ACTIVIDADES_ENSEÑANZA'] = data['ACTIVIDADES_ENSEÑANZA'].astype('category')"
   ]
  },
  {
   "cell_type": "markdown",
   "metadata": {},
   "source": [
    "### Nivel Educativo"
   ]
  },
  {
   "cell_type": "code",
   "execution_count": 153,
   "metadata": {
    "ExecuteTime": {
     "end_time": "2020-06-05T19:53:39.313491Z",
     "start_time": "2020-06-05T19:53:39.297395Z"
    }
   },
   "outputs": [
    {
     "data": {
      "text/plain": [
       "(12,)"
      ]
     },
     "execution_count": 153,
     "metadata": {},
     "output_type": "execute_result"
    }
   ],
   "source": [
    "data['NIVEL_EDUCATIVO'].unique().shape"
   ]
  },
  {
   "cell_type": "code",
   "execution_count": 154,
   "metadata": {
    "ExecuteTime": {
     "end_time": "2020-06-05T19:53:39.484108Z",
     "start_time": "2020-06-05T19:53:39.452836Z"
    }
   },
   "outputs": [
    {
     "data": {
      "text/html": [
       "<div>\n",
       "<style scoped>\n",
       "    .dataframe tbody tr th:only-of-type {\n",
       "        vertical-align: middle;\n",
       "    }\n",
       "\n",
       "    .dataframe tbody tr th {\n",
       "        vertical-align: top;\n",
       "    }\n",
       "\n",
       "    .dataframe thead th {\n",
       "        text-align: right;\n",
       "    }\n",
       "</style>\n",
       "<table border=\"1\" class=\"dataframe\">\n",
       "  <thead>\n",
       "    <tr style=\"text-align: right;\">\n",
       "      <th></th>\n",
       "      <th>NIVEL_EDUCATIVO</th>\n",
       "    </tr>\n",
       "  </thead>\n",
       "  <tbody>\n",
       "    <tr>\n",
       "      <th>CICLO II</th>\n",
       "      <td>54203</td>\n",
       "    </tr>\n",
       "    <tr>\n",
       "      <th>CICLO I</th>\n",
       "      <td>28110</td>\n",
       "    </tr>\n",
       "    <tr>\n",
       "      <th>CICLO III</th>\n",
       "      <td>27764</td>\n",
       "    </tr>\n",
       "    <tr>\n",
       "      <th>CICLO IV</th>\n",
       "      <td>25037</td>\n",
       "    </tr>\n",
       "    <tr>\n",
       "      <th>ANALFABETA</th>\n",
       "      <td>3713</td>\n",
       "    </tr>\n",
       "    <tr>\n",
       "      <th>PROFESIONAL</th>\n",
       "      <td>1634</td>\n",
       "    </tr>\n",
       "    <tr>\n",
       "      <th>TECNICO</th>\n",
       "      <td>1320</td>\n",
       "    </tr>\n",
       "    <tr>\n",
       "      <th>TECNOLOGICO</th>\n",
       "      <td>461</td>\n",
       "    </tr>\n",
       "    <tr>\n",
       "      <th>ESPECIALIZACION</th>\n",
       "      <td>143</td>\n",
       "    </tr>\n",
       "    <tr>\n",
       "      <th>TECNICO PROFESIONAL</th>\n",
       "      <td>61</td>\n",
       "    </tr>\n",
       "    <tr>\n",
       "      <th>POST GRADO</th>\n",
       "      <td>33</td>\n",
       "    </tr>\n",
       "    <tr>\n",
       "      <th>MAGISTER</th>\n",
       "      <td>20</td>\n",
       "    </tr>\n",
       "  </tbody>\n",
       "</table>\n",
       "</div>"
      ],
      "text/plain": [
       "                     NIVEL_EDUCATIVO\n",
       "CICLO II                       54203\n",
       "CICLO I                        28110\n",
       "CICLO III                      27764\n",
       "CICLO IV                       25037\n",
       "ANALFABETA                      3713\n",
       "PROFESIONAL                     1634\n",
       "TECNICO                         1320\n",
       "TECNOLOGICO                      461\n",
       "ESPECIALIZACION                  143\n",
       "TECNICO PROFESIONAL               61\n",
       "POST GRADO                        33\n",
       "MAGISTER                          20"
      ]
     },
     "execution_count": 154,
     "metadata": {},
     "output_type": "execute_result"
    }
   ],
   "source": [
    "data['NIVEL_EDUCATIVO'].value_counts().to_frame()"
   ]
  },
  {
   "cell_type": "code",
   "execution_count": 155,
   "metadata": {
    "ExecuteTime": {
     "end_time": "2020-06-05T19:53:40.460420Z",
     "start_time": "2020-06-05T19:53:40.413619Z"
    }
   },
   "outputs": [],
   "source": [
    "data['NIVEL_EDUCATIVO'] = data['NIVEL_EDUCATIVO'].astype('category')"
   ]
  },
  {
   "cell_type": "markdown",
   "metadata": {},
   "source": [
    "### Hijos Menores: Decide how to deal with this"
   ]
  },
  {
   "cell_type": "code",
   "execution_count": 156,
   "metadata": {
    "ExecuteTime": {
     "end_time": "2020-06-05T19:53:41.449303Z",
     "start_time": "2020-06-05T19:53:41.435042Z"
    }
   },
   "outputs": [
    {
     "data": {
      "text/plain": [
       "(24,)"
      ]
     },
     "execution_count": 156,
     "metadata": {},
     "output_type": "execute_result"
    }
   ],
   "source": [
    "data['HIJOS_MENORES'].unique().shape"
   ]
  },
  {
   "cell_type": "code",
   "execution_count": 157,
   "metadata": {
    "ExecuteTime": {
     "end_time": "2020-06-05T19:53:41.986083Z",
     "start_time": "2020-06-05T19:53:41.943603Z"
    },
    "scrolled": true
   },
   "outputs": [
    {
     "data": {
      "text/html": [
       "<div>\n",
       "<style scoped>\n",
       "    .dataframe tbody tr th:only-of-type {\n",
       "        vertical-align: middle;\n",
       "    }\n",
       "\n",
       "    .dataframe tbody tr th {\n",
       "        vertical-align: top;\n",
       "    }\n",
       "\n",
       "    .dataframe thead th {\n",
       "        text-align: right;\n",
       "    }\n",
       "</style>\n",
       "<table border=\"1\" class=\"dataframe\">\n",
       "  <thead>\n",
       "    <tr style=\"text-align: right;\">\n",
       "      <th></th>\n",
       "      <th>HIJOS_MENORES</th>\n",
       "    </tr>\n",
       "  </thead>\n",
       "  <tbody>\n",
       "    <tr>\n",
       "      <th>SI</th>\n",
       "      <td>75116</td>\n",
       "    </tr>\n",
       "    <tr>\n",
       "      <th>NO</th>\n",
       "      <td>20354</td>\n",
       "    </tr>\n",
       "    <tr>\n",
       "      <th>0</th>\n",
       "      <td>16224</td>\n",
       "    </tr>\n",
       "    <tr>\n",
       "      <th>1</th>\n",
       "      <td>12251</td>\n",
       "    </tr>\n",
       "    <tr>\n",
       "      <th>2</th>\n",
       "      <td>9145</td>\n",
       "    </tr>\n",
       "    <tr>\n",
       "      <th>3</th>\n",
       "      <td>4912</td>\n",
       "    </tr>\n",
       "    <tr>\n",
       "      <th>4</th>\n",
       "      <td>2294</td>\n",
       "    </tr>\n",
       "    <tr>\n",
       "      <th>5</th>\n",
       "      <td>1059</td>\n",
       "    </tr>\n",
       "    <tr>\n",
       "      <th>6</th>\n",
       "      <td>561</td>\n",
       "    </tr>\n",
       "    <tr>\n",
       "      <th>7</th>\n",
       "      <td>294</td>\n",
       "    </tr>\n",
       "    <tr>\n",
       "      <th>8</th>\n",
       "      <td>129</td>\n",
       "    </tr>\n",
       "    <tr>\n",
       "      <th>9</th>\n",
       "      <td>53</td>\n",
       "    </tr>\n",
       "    <tr>\n",
       "      <th>10</th>\n",
       "      <td>41</td>\n",
       "    </tr>\n",
       "    <tr>\n",
       "      <th>11</th>\n",
       "      <td>25</td>\n",
       "    </tr>\n",
       "    <tr>\n",
       "      <th>12</th>\n",
       "      <td>13</td>\n",
       "    </tr>\n",
       "    <tr>\n",
       "      <th>13</th>\n",
       "      <td>8</td>\n",
       "    </tr>\n",
       "    <tr>\n",
       "      <th>14</th>\n",
       "      <td>5</td>\n",
       "    </tr>\n",
       "    <tr>\n",
       "      <th>17</th>\n",
       "      <td>4</td>\n",
       "    </tr>\n",
       "    <tr>\n",
       "      <th>16</th>\n",
       "      <td>4</td>\n",
       "    </tr>\n",
       "    <tr>\n",
       "      <th>21</th>\n",
       "      <td>2</td>\n",
       "    </tr>\n",
       "    <tr>\n",
       "      <th>24</th>\n",
       "      <td>2</td>\n",
       "    </tr>\n",
       "    <tr>\n",
       "      <th>20</th>\n",
       "      <td>1</td>\n",
       "    </tr>\n",
       "    <tr>\n",
       "      <th>19</th>\n",
       "      <td>1</td>\n",
       "    </tr>\n",
       "    <tr>\n",
       "      <th>23</th>\n",
       "      <td>1</td>\n",
       "    </tr>\n",
       "  </tbody>\n",
       "</table>\n",
       "</div>"
      ],
      "text/plain": [
       "    HIJOS_MENORES\n",
       "SI          75116\n",
       "NO          20354\n",
       "0           16224\n",
       "1           12251\n",
       "2            9145\n",
       "3            4912\n",
       "4            2294\n",
       "5            1059\n",
       "6             561\n",
       "7             294\n",
       "8             129\n",
       "9              53\n",
       "10             41\n",
       "11             25\n",
       "12             13\n",
       "13              8\n",
       "14              5\n",
       "17              4\n",
       "16              4\n",
       "21              2\n",
       "24              2\n",
       "20              1\n",
       "19              1\n",
       "23              1"
      ]
     },
     "execution_count": 157,
     "metadata": {},
     "output_type": "execute_result"
    }
   ],
   "source": [
    "data['HIJOS_MENORES'].value_counts().to_frame()"
   ]
  },
  {
   "cell_type": "markdown",
   "metadata": {},
   "source": [
    "### Condic Expecional: Decide How to deal with this"
   ]
  },
  {
   "cell_type": "code",
   "execution_count": 68,
   "metadata": {
    "ExecuteTime": {
     "end_time": "2020-06-05T17:25:23.781680Z",
     "start_time": "2020-06-05T17:25:23.774490Z"
    }
   },
   "outputs": [
    {
     "data": {
      "text/plain": [
       "(54,)"
      ]
     },
     "execution_count": 68,
     "metadata": {},
     "output_type": "execute_result"
    }
   ],
   "source": [
    "data['CONDIC_EXPECIONAL'].unique().shape"
   ]
  },
  {
   "cell_type": "code",
   "execution_count": 69,
   "metadata": {
    "ExecuteTime": {
     "end_time": "2020-06-05T17:25:23.797073Z",
     "start_time": "2020-06-05T17:25:23.784431Z"
    },
    "scrolled": true
   },
   "outputs": [
    {
     "data": {
      "text/html": [
       "<div>\n",
       "<style scoped>\n",
       "    .dataframe tbody tr th:only-of-type {\n",
       "        vertical-align: middle;\n",
       "    }\n",
       "\n",
       "    .dataframe tbody tr th {\n",
       "        vertical-align: top;\n",
       "    }\n",
       "\n",
       "    .dataframe thead th {\n",
       "        text-align: right;\n",
       "    }\n",
       "</style>\n",
       "<table border=\"1\" class=\"dataframe\">\n",
       "  <thead>\n",
       "    <tr style=\"text-align: right;\">\n",
       "      <th></th>\n",
       "      <th>CONDIC_EXPECIONAL</th>\n",
       "    </tr>\n",
       "  </thead>\n",
       "  <tbody>\n",
       "    <tr>\n",
       "      <th>AFRO COLOMBIANO</th>\n",
       "      <td>5744</td>\n",
       "    </tr>\n",
       "    <tr>\n",
       "      <th>ADULTO MAYOR</th>\n",
       "      <td>2356</td>\n",
       "    </tr>\n",
       "    <tr>\n",
       "      <th>CON DISCAPACIDAD</th>\n",
       "      <td>1842</td>\n",
       "    </tr>\n",
       "    <tr>\n",
       "      <th>INDIGENA</th>\n",
       "      <td>1065</td>\n",
       "    </tr>\n",
       "    <tr>\n",
       "      <th>LESBIANA</th>\n",
       "      <td>443</td>\n",
       "    </tr>\n",
       "    <tr>\n",
       "      <th>BISEXUAL</th>\n",
       "      <td>397</td>\n",
       "    </tr>\n",
       "    <tr>\n",
       "      <th>GAYS</th>\n",
       "      <td>252</td>\n",
       "    </tr>\n",
       "    <tr>\n",
       "      <th>MADRE GESTANTE</th>\n",
       "      <td>249</td>\n",
       "    </tr>\n",
       "    <tr>\n",
       "      <th>EXTRANJEROS</th>\n",
       "      <td>174</td>\n",
       "    </tr>\n",
       "    <tr>\n",
       "      <th>TRANSEXUAL</th>\n",
       "      <td>151</td>\n",
       "    </tr>\n",
       "    <tr>\n",
       "      <th>AFRO COLOMBIANO -CON DISCAPACIDAD</th>\n",
       "      <td>90</td>\n",
       "    </tr>\n",
       "    <tr>\n",
       "      <th>ADULTO MAYOR -AFRO COLOMBIANO</th>\n",
       "      <td>74</td>\n",
       "    </tr>\n",
       "    <tr>\n",
       "      <th>ROM</th>\n",
       "      <td>62</td>\n",
       "    </tr>\n",
       "    <tr>\n",
       "      <th>ADULTO MAYOR -CON DISCAPACIDAD</th>\n",
       "      <td>57</td>\n",
       "    </tr>\n",
       "    <tr>\n",
       "      <th>MADRE LACTANTE</th>\n",
       "      <td>35</td>\n",
       "    </tr>\n",
       "    <tr>\n",
       "      <th>ADULTO MAYOR -INDIGENA</th>\n",
       "      <td>33</td>\n",
       "    </tr>\n",
       "    <tr>\n",
       "      <th>GAYS -TRANSEXUAL</th>\n",
       "      <td>28</td>\n",
       "    </tr>\n",
       "    <tr>\n",
       "      <th>RAIZALES</th>\n",
       "      <td>26</td>\n",
       "    </tr>\n",
       "    <tr>\n",
       "      <th>BISEXUAL -LESBIANA</th>\n",
       "      <td>18</td>\n",
       "    </tr>\n",
       "    <tr>\n",
       "      <th>AFRO COLOMBIANO -BISEXUAL</th>\n",
       "      <td>15</td>\n",
       "    </tr>\n",
       "    <tr>\n",
       "      <th>AFRO COLOMBIANO -INDIGENA</th>\n",
       "      <td>15</td>\n",
       "    </tr>\n",
       "    <tr>\n",
       "      <th>CON DISCAPACIDAD -LESBIANA</th>\n",
       "      <td>12</td>\n",
       "    </tr>\n",
       "    <tr>\n",
       "      <th>CON DISCAPACIDAD -INDIGENA</th>\n",
       "      <td>11</td>\n",
       "    </tr>\n",
       "    <tr>\n",
       "      <th>AFRO COLOMBIANO -GAYS</th>\n",
       "      <td>10</td>\n",
       "    </tr>\n",
       "    <tr>\n",
       "      <th>AFRO COLOMBIANO -EXTRANJEROS</th>\n",
       "      <td>10</td>\n",
       "    </tr>\n",
       "    <tr>\n",
       "      <th>ADULTO MAYOR -LESBIANA</th>\n",
       "      <td>9</td>\n",
       "    </tr>\n",
       "    <tr>\n",
       "      <th>INTERSEXUAL</th>\n",
       "      <td>9</td>\n",
       "    </tr>\n",
       "    <tr>\n",
       "      <th>AFRO COLOMBIANO -LESBIANA</th>\n",
       "      <td>9</td>\n",
       "    </tr>\n",
       "    <tr>\n",
       "      <th>AFRO COLOMBIANO -RAIZALES</th>\n",
       "      <td>8</td>\n",
       "    </tr>\n",
       "    <tr>\n",
       "      <th>BISEXUAL -GAYS</th>\n",
       "      <td>7</td>\n",
       "    </tr>\n",
       "    <tr>\n",
       "      <th>LESBIANA -TRANSEXUAL</th>\n",
       "      <td>6</td>\n",
       "    </tr>\n",
       "    <tr>\n",
       "      <th>CON DISCAPACIDAD -EXTRANJEROS</th>\n",
       "      <td>6</td>\n",
       "    </tr>\n",
       "    <tr>\n",
       "      <th>BISEXUAL -CON DISCAPACIDAD</th>\n",
       "      <td>6</td>\n",
       "    </tr>\n",
       "    <tr>\n",
       "      <th>AFRO COLOMBIANO -MADRE GESTANTE</th>\n",
       "      <td>5</td>\n",
       "    </tr>\n",
       "    <tr>\n",
       "      <th>ADULTO MAYOR -EXTRANJEROS</th>\n",
       "      <td>5</td>\n",
       "    </tr>\n",
       "    <tr>\n",
       "      <th>CON DISCAPACIDAD -GAYS</th>\n",
       "      <td>5</td>\n",
       "    </tr>\n",
       "    <tr>\n",
       "      <th>ADULTO MAYOR -BISEXUAL</th>\n",
       "      <td>4</td>\n",
       "    </tr>\n",
       "    <tr>\n",
       "      <th>GAYS -INDIGENA</th>\n",
       "      <td>3</td>\n",
       "    </tr>\n",
       "    <tr>\n",
       "      <th>CON DISCAPACIDAD -TRANSEXUAL</th>\n",
       "      <td>3</td>\n",
       "    </tr>\n",
       "    <tr>\n",
       "      <th>GAYS -LESBIANA</th>\n",
       "      <td>2</td>\n",
       "    </tr>\n",
       "    <tr>\n",
       "      <th>BISEXUAL -INDIGENA</th>\n",
       "      <td>2</td>\n",
       "    </tr>\n",
       "    <tr>\n",
       "      <th>ADULTO MAYOR -LESBIANA -TRANSEXUAL</th>\n",
       "      <td>2</td>\n",
       "    </tr>\n",
       "    <tr>\n",
       "      <th>INDIGENA -LESBIANA</th>\n",
       "      <td>2</td>\n",
       "    </tr>\n",
       "    <tr>\n",
       "      <th>BISEXUAL -TRANSEXUAL</th>\n",
       "      <td>2</td>\n",
       "    </tr>\n",
       "    <tr>\n",
       "      <th>AFRO COLOMBIANO -TRANSEXUAL</th>\n",
       "      <td>2</td>\n",
       "    </tr>\n",
       "    <tr>\n",
       "      <th>MADRE GESTANTE -MADRE LACTANTE</th>\n",
       "      <td>2</td>\n",
       "    </tr>\n",
       "    <tr>\n",
       "      <th>LESBIANA -RAIZALES</th>\n",
       "      <td>1</td>\n",
       "    </tr>\n",
       "    <tr>\n",
       "      <th>ADULTO MAYOR -CON DISCAPACIDAD -INDIGENA</th>\n",
       "      <td>1</td>\n",
       "    </tr>\n",
       "    <tr>\n",
       "      <th>EXTRANJEROS -INDIGENA</th>\n",
       "      <td>1</td>\n",
       "    </tr>\n",
       "    <tr>\n",
       "      <th>CON DISCAPACIDAD -ROM</th>\n",
       "      <td>1</td>\n",
       "    </tr>\n",
       "    <tr>\n",
       "      <th>AFRO COLOMBIANO -BISEXUAL -TRANSEXUAL</th>\n",
       "      <td>1</td>\n",
       "    </tr>\n",
       "    <tr>\n",
       "      <th>AFRO COLOMBIANO -EXTRANJEROS -LESBIANA -TRANSEXUAL</th>\n",
       "      <td>1</td>\n",
       "    </tr>\n",
       "    <tr>\n",
       "      <th>ADULTO MAYOR -CON DISCAPACIDAD -MADRE GESTANTE</th>\n",
       "      <td>1</td>\n",
       "    </tr>\n",
       "  </tbody>\n",
       "</table>\n",
       "</div>"
      ],
      "text/plain": [
       "                                                    CONDIC_EXPECIONAL\n",
       "AFRO COLOMBIANO                                                  5744\n",
       "ADULTO MAYOR                                                     2356\n",
       "CON DISCAPACIDAD                                                 1842\n",
       "INDIGENA                                                         1065\n",
       "LESBIANA                                                          443\n",
       "BISEXUAL                                                          397\n",
       "GAYS                                                              252\n",
       "MADRE GESTANTE                                                    249\n",
       "EXTRANJEROS                                                       174\n",
       "TRANSEXUAL                                                        151\n",
       "AFRO COLOMBIANO -CON DISCAPACIDAD                                  90\n",
       "ADULTO MAYOR -AFRO COLOMBIANO                                      74\n",
       "ROM                                                                62\n",
       "ADULTO MAYOR -CON DISCAPACIDAD                                     57\n",
       "MADRE LACTANTE                                                     35\n",
       "ADULTO MAYOR -INDIGENA                                             33\n",
       "GAYS -TRANSEXUAL                                                   28\n",
       "RAIZALES                                                           26\n",
       "BISEXUAL -LESBIANA                                                 18\n",
       "AFRO COLOMBIANO -BISEXUAL                                          15\n",
       "AFRO COLOMBIANO -INDIGENA                                          15\n",
       "CON DISCAPACIDAD -LESBIANA                                         12\n",
       "CON DISCAPACIDAD -INDIGENA                                         11\n",
       "AFRO COLOMBIANO -GAYS                                              10\n",
       "AFRO COLOMBIANO -EXTRANJEROS                                       10\n",
       "ADULTO MAYOR -LESBIANA                                              9\n",
       "INTERSEXUAL                                                         9\n",
       "AFRO COLOMBIANO -LESBIANA                                           9\n",
       "AFRO COLOMBIANO -RAIZALES                                           8\n",
       "BISEXUAL -GAYS                                                      7\n",
       "LESBIANA -TRANSEXUAL                                                6\n",
       "CON DISCAPACIDAD -EXTRANJEROS                                       6\n",
       "BISEXUAL -CON DISCAPACIDAD                                          6\n",
       "AFRO COLOMBIANO -MADRE GESTANTE                                     5\n",
       "ADULTO MAYOR -EXTRANJEROS                                           5\n",
       "CON DISCAPACIDAD -GAYS                                              5\n",
       "ADULTO MAYOR -BISEXUAL                                              4\n",
       "GAYS -INDIGENA                                                      3\n",
       "CON DISCAPACIDAD -TRANSEXUAL                                        3\n",
       "GAYS -LESBIANA                                                      2\n",
       "BISEXUAL -INDIGENA                                                  2\n",
       "ADULTO MAYOR -LESBIANA -TRANSEXUAL                                  2\n",
       "INDIGENA -LESBIANA                                                  2\n",
       "BISEXUAL -TRANSEXUAL                                                2\n",
       "AFRO COLOMBIANO -TRANSEXUAL                                         2\n",
       "MADRE GESTANTE -MADRE LACTANTE                                      2\n",
       "LESBIANA -RAIZALES                                                  1\n",
       "ADULTO MAYOR -CON DISCAPACIDAD -INDIGENA                            1\n",
       "EXTRANJEROS -INDIGENA                                               1\n",
       "CON DISCAPACIDAD -ROM                                               1\n",
       "AFRO COLOMBIANO -BISEXUAL -TRANSEXUAL                               1\n",
       "AFRO COLOMBIANO -EXTRANJEROS -LESBIANA -TRANSEXUAL                  1\n",
       "ADULTO MAYOR -CON DISCAPACIDAD -MADRE GESTANTE                      1"
      ]
     },
     "execution_count": 69,
     "metadata": {},
     "output_type": "execute_result"
    }
   ],
   "source": [
    "data['CONDIC_EXPECIONAL'].value_counts().to_frame()"
   ]
  },
  {
   "cell_type": "code",
   "execution_count": 70,
   "metadata": {
    "ExecuteTime": {
     "end_time": "2020-06-05T17:25:24.031317Z",
     "start_time": "2020-06-05T17:25:23.798198Z"
    }
   },
   "outputs": [
    {
     "data": {
      "text/plain": [
       "(54,)"
      ]
     },
     "execution_count": 70,
     "metadata": {},
     "output_type": "execute_result"
    }
   ],
   "source": [
    "data['CONDIC_EXPECIONAL'] = data['CONDIC_EXPECIONAL'].apply(lambda x: ' '.join(unidecode.unidecode(re.sub(r'[^\\w]', ' ',str(x)).lower()).split()))\n",
    "data['CONDIC_EXPECIONAL'] = data['CONDIC_EXPECIONAL'].astype('category')\n",
    "data['CONDIC_EXPECIONAL'].unique().shape"
   ]
  },
  {
   "cell_type": "markdown",
   "metadata": {},
   "source": [
    "### Código establecimiento"
   ]
  },
  {
   "cell_type": "code",
   "execution_count": 158,
   "metadata": {
    "ExecuteTime": {
     "end_time": "2020-06-05T19:54:44.259097Z",
     "start_time": "2020-06-05T19:54:44.248877Z"
    }
   },
   "outputs": [
    {
     "data": {
      "text/plain": [
       "(160,)"
      ]
     },
     "execution_count": 158,
     "metadata": {},
     "output_type": "execute_result"
    }
   ],
   "source": [
    "data['CODIGO_ESTABLECIMIENTO'].unique().shape"
   ]
  },
  {
   "cell_type": "code",
   "execution_count": 159,
   "metadata": {
    "ExecuteTime": {
     "end_time": "2020-06-05T19:54:44.485436Z",
     "start_time": "2020-06-05T19:54:44.463137Z"
    },
    "scrolled": true
   },
   "outputs": [
    {
     "data": {
      "text/html": [
       "<div>\n",
       "<style scoped>\n",
       "    .dataframe tbody tr th:only-of-type {\n",
       "        vertical-align: middle;\n",
       "    }\n",
       "\n",
       "    .dataframe tbody tr th {\n",
       "        vertical-align: top;\n",
       "    }\n",
       "\n",
       "    .dataframe thead th {\n",
       "        text-align: right;\n",
       "    }\n",
       "</style>\n",
       "<table border=\"1\" class=\"dataframe\">\n",
       "  <thead>\n",
       "    <tr style=\"text-align: right;\">\n",
       "      <th></th>\n",
       "      <th>CODIGO_ESTABLECIMIENTO</th>\n",
       "    </tr>\n",
       "  </thead>\n",
       "  <tbody>\n",
       "    <tr>\n",
       "      <th>113</th>\n",
       "      <td>11479</td>\n",
       "    </tr>\n",
       "    <tr>\n",
       "      <th>502</th>\n",
       "      <td>7606</td>\n",
       "    </tr>\n",
       "    <tr>\n",
       "      <th>226</th>\n",
       "      <td>6304</td>\n",
       "    </tr>\n",
       "    <tr>\n",
       "      <th>410</th>\n",
       "      <td>5311</td>\n",
       "    </tr>\n",
       "    <tr>\n",
       "      <th>114</th>\n",
       "      <td>5013</td>\n",
       "    </tr>\n",
       "    <tr>\n",
       "      <th>...</th>\n",
       "      <td>...</td>\n",
       "    </tr>\n",
       "    <tr>\n",
       "      <th>534</th>\n",
       "      <td>10</td>\n",
       "    </tr>\n",
       "    <tr>\n",
       "      <th>529</th>\n",
       "      <td>3</td>\n",
       "    </tr>\n",
       "    <tr>\n",
       "      <th>155</th>\n",
       "      <td>1</td>\n",
       "    </tr>\n",
       "    <tr>\n",
       "      <th>234</th>\n",
       "      <td>1</td>\n",
       "    </tr>\n",
       "    <tr>\n",
       "      <th>605</th>\n",
       "      <td>1</td>\n",
       "    </tr>\n",
       "  </tbody>\n",
       "</table>\n",
       "<p>160 rows × 1 columns</p>\n",
       "</div>"
      ],
      "text/plain": [
       "     CODIGO_ESTABLECIMIENTO\n",
       "113                   11479\n",
       "502                    7606\n",
       "226                    6304\n",
       "410                    5311\n",
       "114                    5013\n",
       "..                      ...\n",
       "534                      10\n",
       "529                       3\n",
       "155                       1\n",
       "234                       1\n",
       "605                       1\n",
       "\n",
       "[160 rows x 1 columns]"
      ]
     },
     "execution_count": 159,
     "metadata": {},
     "output_type": "execute_result"
    }
   ],
   "source": [
    "data['CODIGO_ESTABLECIMIENTO'].value_counts().to_frame()"
   ]
  },
  {
   "cell_type": "code",
   "execution_count": 74,
   "metadata": {
    "ExecuteTime": {
     "end_time": "2020-06-05T18:44:08.788995Z",
     "start_time": "2020-06-05T18:44:08.708332Z"
    },
    "scrolled": true
   },
   "outputs": [
    {
     "ename": "ValueError",
     "evalue": "invalid literal for int() with base 10: 'nan'",
     "output_type": "error",
     "traceback": [
      "\u001b[0;31m---------------------------------------------------------------------------\u001b[0m",
      "\u001b[0;31mValueError\u001b[0m                                Traceback (most recent call last)",
      "\u001b[0;32m<ipython-input-74-de71fa8c7dd9>\u001b[0m in \u001b[0;36m<module>\u001b[0;34m\u001b[0m\n\u001b[0;32m----> 1\u001b[0;31m \u001b[0mdata\u001b[0m\u001b[0;34m[\u001b[0m\u001b[0;34m'CONDIC_EXPECIONAL'\u001b[0m\u001b[0;34m]\u001b[0m \u001b[0;34m=\u001b[0m \u001b[0mdata\u001b[0m\u001b[0;34m[\u001b[0m\u001b[0;34m'CONDIC_EXPECIONAL'\u001b[0m\u001b[0;34m]\u001b[0m\u001b[0;34m.\u001b[0m\u001b[0mastype\u001b[0m\u001b[0;34m(\u001b[0m\u001b[0mint\u001b[0m\u001b[0;34m)\u001b[0m\u001b[0;34m\u001b[0m\u001b[0;34m\u001b[0m\u001b[0m\n\u001b[0m",
      "\u001b[0;32m/opt/conda/envs/nlp/lib/python3.7/site-packages/pandas/core/generic.py\u001b[0m in \u001b[0;36mastype\u001b[0;34m(self, dtype, copy, errors)\u001b[0m\n\u001b[1;32m   5696\u001b[0m         \u001b[0;32melse\u001b[0m\u001b[0;34m:\u001b[0m\u001b[0;34m\u001b[0m\u001b[0;34m\u001b[0m\u001b[0m\n\u001b[1;32m   5697\u001b[0m             \u001b[0;31m# else, only a single dtype is given\u001b[0m\u001b[0;34m\u001b[0m\u001b[0;34m\u001b[0m\u001b[0;34m\u001b[0m\u001b[0m\n\u001b[0;32m-> 5698\u001b[0;31m             \u001b[0mnew_data\u001b[0m \u001b[0;34m=\u001b[0m \u001b[0mself\u001b[0m\u001b[0;34m.\u001b[0m\u001b[0m_data\u001b[0m\u001b[0;34m.\u001b[0m\u001b[0mastype\u001b[0m\u001b[0;34m(\u001b[0m\u001b[0mdtype\u001b[0m\u001b[0;34m=\u001b[0m\u001b[0mdtype\u001b[0m\u001b[0;34m,\u001b[0m \u001b[0mcopy\u001b[0m\u001b[0;34m=\u001b[0m\u001b[0mcopy\u001b[0m\u001b[0;34m,\u001b[0m \u001b[0merrors\u001b[0m\u001b[0;34m=\u001b[0m\u001b[0merrors\u001b[0m\u001b[0;34m)\u001b[0m\u001b[0;34m\u001b[0m\u001b[0;34m\u001b[0m\u001b[0m\n\u001b[0m\u001b[1;32m   5699\u001b[0m             \u001b[0;32mreturn\u001b[0m \u001b[0mself\u001b[0m\u001b[0;34m.\u001b[0m\u001b[0m_constructor\u001b[0m\u001b[0;34m(\u001b[0m\u001b[0mnew_data\u001b[0m\u001b[0;34m)\u001b[0m\u001b[0;34m.\u001b[0m\u001b[0m__finalize__\u001b[0m\u001b[0;34m(\u001b[0m\u001b[0mself\u001b[0m\u001b[0;34m)\u001b[0m\u001b[0;34m\u001b[0m\u001b[0;34m\u001b[0m\u001b[0m\n\u001b[1;32m   5700\u001b[0m \u001b[0;34m\u001b[0m\u001b[0m\n",
      "\u001b[0;32m/opt/conda/envs/nlp/lib/python3.7/site-packages/pandas/core/internals/managers.py\u001b[0m in \u001b[0;36mastype\u001b[0;34m(self, dtype, copy, errors)\u001b[0m\n\u001b[1;32m    580\u001b[0m \u001b[0;34m\u001b[0m\u001b[0m\n\u001b[1;32m    581\u001b[0m     \u001b[0;32mdef\u001b[0m \u001b[0mastype\u001b[0m\u001b[0;34m(\u001b[0m\u001b[0mself\u001b[0m\u001b[0;34m,\u001b[0m \u001b[0mdtype\u001b[0m\u001b[0;34m,\u001b[0m \u001b[0mcopy\u001b[0m\u001b[0;34m:\u001b[0m \u001b[0mbool\u001b[0m \u001b[0;34m=\u001b[0m \u001b[0;32mFalse\u001b[0m\u001b[0;34m,\u001b[0m \u001b[0merrors\u001b[0m\u001b[0;34m:\u001b[0m \u001b[0mstr\u001b[0m \u001b[0;34m=\u001b[0m \u001b[0;34m\"raise\"\u001b[0m\u001b[0;34m)\u001b[0m\u001b[0;34m:\u001b[0m\u001b[0;34m\u001b[0m\u001b[0;34m\u001b[0m\u001b[0m\n\u001b[0;32m--> 582\u001b[0;31m         \u001b[0;32mreturn\u001b[0m \u001b[0mself\u001b[0m\u001b[0;34m.\u001b[0m\u001b[0mapply\u001b[0m\u001b[0;34m(\u001b[0m\u001b[0;34m\"astype\"\u001b[0m\u001b[0;34m,\u001b[0m \u001b[0mdtype\u001b[0m\u001b[0;34m=\u001b[0m\u001b[0mdtype\u001b[0m\u001b[0;34m,\u001b[0m \u001b[0mcopy\u001b[0m\u001b[0;34m=\u001b[0m\u001b[0mcopy\u001b[0m\u001b[0;34m,\u001b[0m \u001b[0merrors\u001b[0m\u001b[0;34m=\u001b[0m\u001b[0merrors\u001b[0m\u001b[0;34m)\u001b[0m\u001b[0;34m\u001b[0m\u001b[0;34m\u001b[0m\u001b[0m\n\u001b[0m\u001b[1;32m    583\u001b[0m \u001b[0;34m\u001b[0m\u001b[0m\n\u001b[1;32m    584\u001b[0m     \u001b[0;32mdef\u001b[0m \u001b[0mconvert\u001b[0m\u001b[0;34m(\u001b[0m\u001b[0mself\u001b[0m\u001b[0;34m,\u001b[0m \u001b[0;34m**\u001b[0m\u001b[0mkwargs\u001b[0m\u001b[0;34m)\u001b[0m\u001b[0;34m:\u001b[0m\u001b[0;34m\u001b[0m\u001b[0;34m\u001b[0m\u001b[0m\n",
      "\u001b[0;32m/opt/conda/envs/nlp/lib/python3.7/site-packages/pandas/core/internals/managers.py\u001b[0m in \u001b[0;36mapply\u001b[0;34m(self, f, filter, **kwargs)\u001b[0m\n\u001b[1;32m    440\u001b[0m                 \u001b[0mapplied\u001b[0m \u001b[0;34m=\u001b[0m \u001b[0mb\u001b[0m\u001b[0;34m.\u001b[0m\u001b[0mapply\u001b[0m\u001b[0;34m(\u001b[0m\u001b[0mf\u001b[0m\u001b[0;34m,\u001b[0m \u001b[0;34m**\u001b[0m\u001b[0mkwargs\u001b[0m\u001b[0;34m)\u001b[0m\u001b[0;34m\u001b[0m\u001b[0;34m\u001b[0m\u001b[0m\n\u001b[1;32m    441\u001b[0m             \u001b[0;32melse\u001b[0m\u001b[0;34m:\u001b[0m\u001b[0;34m\u001b[0m\u001b[0;34m\u001b[0m\u001b[0m\n\u001b[0;32m--> 442\u001b[0;31m                 \u001b[0mapplied\u001b[0m \u001b[0;34m=\u001b[0m \u001b[0mgetattr\u001b[0m\u001b[0;34m(\u001b[0m\u001b[0mb\u001b[0m\u001b[0;34m,\u001b[0m \u001b[0mf\u001b[0m\u001b[0;34m)\u001b[0m\u001b[0;34m(\u001b[0m\u001b[0;34m**\u001b[0m\u001b[0mkwargs\u001b[0m\u001b[0;34m)\u001b[0m\u001b[0;34m\u001b[0m\u001b[0;34m\u001b[0m\u001b[0m\n\u001b[0m\u001b[1;32m    443\u001b[0m             \u001b[0mresult_blocks\u001b[0m \u001b[0;34m=\u001b[0m \u001b[0m_extend_blocks\u001b[0m\u001b[0;34m(\u001b[0m\u001b[0mapplied\u001b[0m\u001b[0;34m,\u001b[0m \u001b[0mresult_blocks\u001b[0m\u001b[0;34m)\u001b[0m\u001b[0;34m\u001b[0m\u001b[0;34m\u001b[0m\u001b[0m\n\u001b[1;32m    444\u001b[0m \u001b[0;34m\u001b[0m\u001b[0m\n",
      "\u001b[0;32m/opt/conda/envs/nlp/lib/python3.7/site-packages/pandas/core/internals/blocks.py\u001b[0m in \u001b[0;36mastype\u001b[0;34m(self, dtype, copy, errors)\u001b[0m\n\u001b[1;32m    605\u001b[0m         \u001b[0;32mif\u001b[0m \u001b[0mself\u001b[0m\u001b[0;34m.\u001b[0m\u001b[0mis_extension\u001b[0m\u001b[0;34m:\u001b[0m\u001b[0;34m\u001b[0m\u001b[0;34m\u001b[0m\u001b[0m\n\u001b[1;32m    606\u001b[0m             \u001b[0;31m# TODO: Should we try/except this astype?\u001b[0m\u001b[0;34m\u001b[0m\u001b[0;34m\u001b[0m\u001b[0;34m\u001b[0m\u001b[0m\n\u001b[0;32m--> 607\u001b[0;31m             \u001b[0mvalues\u001b[0m \u001b[0;34m=\u001b[0m \u001b[0mself\u001b[0m\u001b[0;34m.\u001b[0m\u001b[0mvalues\u001b[0m\u001b[0;34m.\u001b[0m\u001b[0mastype\u001b[0m\u001b[0;34m(\u001b[0m\u001b[0mdtype\u001b[0m\u001b[0;34m)\u001b[0m\u001b[0;34m\u001b[0m\u001b[0;34m\u001b[0m\u001b[0m\n\u001b[0m\u001b[1;32m    608\u001b[0m         \u001b[0;32melse\u001b[0m\u001b[0;34m:\u001b[0m\u001b[0;34m\u001b[0m\u001b[0;34m\u001b[0m\u001b[0m\n\u001b[1;32m    609\u001b[0m             \u001b[0;32mif\u001b[0m \u001b[0missubclass\u001b[0m\u001b[0;34m(\u001b[0m\u001b[0mdtype\u001b[0m\u001b[0;34m.\u001b[0m\u001b[0mtype\u001b[0m\u001b[0;34m,\u001b[0m \u001b[0mstr\u001b[0m\u001b[0;34m)\u001b[0m\u001b[0;34m:\u001b[0m\u001b[0;34m\u001b[0m\u001b[0;34m\u001b[0m\u001b[0m\n",
      "\u001b[0;32m/opt/conda/envs/nlp/lib/python3.7/site-packages/pandas/core/arrays/categorical.py\u001b[0m in \u001b[0;36mastype\u001b[0;34m(self, dtype, copy)\u001b[0m\n\u001b[1;32m    500\u001b[0m         \u001b[0;32mif\u001b[0m \u001b[0mis_integer_dtype\u001b[0m\u001b[0;34m(\u001b[0m\u001b[0mdtype\u001b[0m\u001b[0;34m)\u001b[0m \u001b[0;32mand\u001b[0m \u001b[0mself\u001b[0m\u001b[0;34m.\u001b[0m\u001b[0misna\u001b[0m\u001b[0;34m(\u001b[0m\u001b[0;34m)\u001b[0m\u001b[0;34m.\u001b[0m\u001b[0many\u001b[0m\u001b[0;34m(\u001b[0m\u001b[0;34m)\u001b[0m\u001b[0;34m:\u001b[0m\u001b[0;34m\u001b[0m\u001b[0;34m\u001b[0m\u001b[0m\n\u001b[1;32m    501\u001b[0m             \u001b[0;32mraise\u001b[0m \u001b[0mValueError\u001b[0m\u001b[0;34m(\u001b[0m\u001b[0;34m\"Cannot convert float NaN to integer\"\u001b[0m\u001b[0;34m)\u001b[0m\u001b[0;34m\u001b[0m\u001b[0;34m\u001b[0m\u001b[0m\n\u001b[0;32m--> 502\u001b[0;31m         \u001b[0;32mreturn\u001b[0m \u001b[0mnp\u001b[0m\u001b[0;34m.\u001b[0m\u001b[0marray\u001b[0m\u001b[0;34m(\u001b[0m\u001b[0mself\u001b[0m\u001b[0;34m,\u001b[0m \u001b[0mdtype\u001b[0m\u001b[0;34m=\u001b[0m\u001b[0mdtype\u001b[0m\u001b[0;34m,\u001b[0m \u001b[0mcopy\u001b[0m\u001b[0;34m=\u001b[0m\u001b[0mcopy\u001b[0m\u001b[0;34m)\u001b[0m\u001b[0;34m\u001b[0m\u001b[0;34m\u001b[0m\u001b[0m\n\u001b[0m\u001b[1;32m    503\u001b[0m \u001b[0;34m\u001b[0m\u001b[0m\n\u001b[1;32m    504\u001b[0m     \u001b[0;34m@\u001b[0m\u001b[0mcache_readonly\u001b[0m\u001b[0;34m\u001b[0m\u001b[0;34m\u001b[0m\u001b[0m\n",
      "\u001b[0;32m/opt/conda/envs/nlp/lib/python3.7/site-packages/pandas/core/arrays/categorical.py\u001b[0m in \u001b[0;36m__array__\u001b[0;34m(self, dtype)\u001b[0m\n\u001b[1;32m   1284\u001b[0m         \u001b[0mret\u001b[0m \u001b[0;34m=\u001b[0m \u001b[0mtake_1d\u001b[0m\u001b[0;34m(\u001b[0m\u001b[0mself\u001b[0m\u001b[0;34m.\u001b[0m\u001b[0mcategories\u001b[0m\u001b[0;34m.\u001b[0m\u001b[0mvalues\u001b[0m\u001b[0;34m,\u001b[0m \u001b[0mself\u001b[0m\u001b[0;34m.\u001b[0m\u001b[0m_codes\u001b[0m\u001b[0;34m)\u001b[0m\u001b[0;34m\u001b[0m\u001b[0;34m\u001b[0m\u001b[0m\n\u001b[1;32m   1285\u001b[0m         \u001b[0;32mif\u001b[0m \u001b[0mdtype\u001b[0m \u001b[0;32mand\u001b[0m \u001b[0;32mnot\u001b[0m \u001b[0mis_dtype_equal\u001b[0m\u001b[0;34m(\u001b[0m\u001b[0mdtype\u001b[0m\u001b[0;34m,\u001b[0m \u001b[0mself\u001b[0m\u001b[0;34m.\u001b[0m\u001b[0mcategories\u001b[0m\u001b[0;34m.\u001b[0m\u001b[0mdtype\u001b[0m\u001b[0;34m)\u001b[0m\u001b[0;34m:\u001b[0m\u001b[0;34m\u001b[0m\u001b[0;34m\u001b[0m\u001b[0m\n\u001b[0;32m-> 1286\u001b[0;31m             \u001b[0;32mreturn\u001b[0m \u001b[0mnp\u001b[0m\u001b[0;34m.\u001b[0m\u001b[0masarray\u001b[0m\u001b[0;34m(\u001b[0m\u001b[0mret\u001b[0m\u001b[0;34m,\u001b[0m \u001b[0mdtype\u001b[0m\u001b[0;34m)\u001b[0m\u001b[0;34m\u001b[0m\u001b[0;34m\u001b[0m\u001b[0m\n\u001b[0m\u001b[1;32m   1287\u001b[0m         \u001b[0;32mif\u001b[0m \u001b[0mis_extension_array_dtype\u001b[0m\u001b[0;34m(\u001b[0m\u001b[0mret\u001b[0m\u001b[0;34m)\u001b[0m\u001b[0;34m:\u001b[0m\u001b[0;34m\u001b[0m\u001b[0;34m\u001b[0m\u001b[0m\n\u001b[1;32m   1288\u001b[0m             \u001b[0;31m# When we're a Categorical[ExtensionArray], like Interval,\u001b[0m\u001b[0;34m\u001b[0m\u001b[0;34m\u001b[0m\u001b[0;34m\u001b[0m\u001b[0m\n",
      "\u001b[0;32m/opt/conda/envs/nlp/lib/python3.7/site-packages/numpy/core/numeric.py\u001b[0m in \u001b[0;36masarray\u001b[0;34m(a, dtype, order)\u001b[0m\n\u001b[1;32m    536\u001b[0m \u001b[0;34m\u001b[0m\u001b[0m\n\u001b[1;32m    537\u001b[0m     \"\"\"\n\u001b[0;32m--> 538\u001b[0;31m     \u001b[0;32mreturn\u001b[0m \u001b[0marray\u001b[0m\u001b[0;34m(\u001b[0m\u001b[0ma\u001b[0m\u001b[0;34m,\u001b[0m \u001b[0mdtype\u001b[0m\u001b[0;34m,\u001b[0m \u001b[0mcopy\u001b[0m\u001b[0;34m=\u001b[0m\u001b[0;32mFalse\u001b[0m\u001b[0;34m,\u001b[0m \u001b[0morder\u001b[0m\u001b[0;34m=\u001b[0m\u001b[0morder\u001b[0m\u001b[0;34m)\u001b[0m\u001b[0;34m\u001b[0m\u001b[0;34m\u001b[0m\u001b[0m\n\u001b[0m\u001b[1;32m    539\u001b[0m \u001b[0;34m\u001b[0m\u001b[0m\n\u001b[1;32m    540\u001b[0m \u001b[0;34m\u001b[0m\u001b[0m\n",
      "\u001b[0;31mValueError\u001b[0m: invalid literal for int() with base 10: 'nan'"
     ]
    }
   ],
   "source": [
    "data['CONDIC_EXPECIONAL'] = data['CONDIC_EXPECIONAL'].astype(int)"
   ]
  },
  {
   "cell_type": "markdown",
   "metadata": {},
   "source": [
    "### Establecimiento"
   ]
  },
  {
   "cell_type": "code",
   "execution_count": 160,
   "metadata": {
    "ExecuteTime": {
     "end_time": "2020-06-05T19:54:47.224428Z",
     "start_time": "2020-06-05T19:54:47.211960Z"
    }
   },
   "outputs": [
    {
     "data": {
      "text/plain": [
       "(160,)"
      ]
     },
     "execution_count": 160,
     "metadata": {},
     "output_type": "execute_result"
    }
   ],
   "source": [
    "data['CODIGO_ESTABLECIMIENTO'].unique().shape"
   ]
  },
  {
   "cell_type": "code",
   "execution_count": 161,
   "metadata": {
    "ExecuteTime": {
     "end_time": "2020-06-05T19:54:47.450169Z",
     "start_time": "2020-06-05T19:54:47.429574Z"
    }
   },
   "outputs": [
    {
     "data": {
      "text/html": [
       "<div>\n",
       "<style scoped>\n",
       "    .dataframe tbody tr th:only-of-type {\n",
       "        vertical-align: middle;\n",
       "    }\n",
       "\n",
       "    .dataframe tbody tr th {\n",
       "        vertical-align: top;\n",
       "    }\n",
       "\n",
       "    .dataframe thead th {\n",
       "        text-align: right;\n",
       "    }\n",
       "</style>\n",
       "<table border=\"1\" class=\"dataframe\">\n",
       "  <thead>\n",
       "    <tr style=\"text-align: right;\">\n",
       "      <th></th>\n",
       "      <th>CODIGO_ESTABLECIMIENTO</th>\n",
       "    </tr>\n",
       "  </thead>\n",
       "  <tbody>\n",
       "    <tr>\n",
       "      <th>113</th>\n",
       "      <td>11479</td>\n",
       "    </tr>\n",
       "    <tr>\n",
       "      <th>502</th>\n",
       "      <td>7606</td>\n",
       "    </tr>\n",
       "    <tr>\n",
       "      <th>226</th>\n",
       "      <td>6304</td>\n",
       "    </tr>\n",
       "    <tr>\n",
       "      <th>410</th>\n",
       "      <td>5311</td>\n",
       "    </tr>\n",
       "    <tr>\n",
       "      <th>114</th>\n",
       "      <td>5013</td>\n",
       "    </tr>\n",
       "    <tr>\n",
       "      <th>...</th>\n",
       "      <td>...</td>\n",
       "    </tr>\n",
       "    <tr>\n",
       "      <th>534</th>\n",
       "      <td>10</td>\n",
       "    </tr>\n",
       "    <tr>\n",
       "      <th>529</th>\n",
       "      <td>3</td>\n",
       "    </tr>\n",
       "    <tr>\n",
       "      <th>155</th>\n",
       "      <td>1</td>\n",
       "    </tr>\n",
       "    <tr>\n",
       "      <th>234</th>\n",
       "      <td>1</td>\n",
       "    </tr>\n",
       "    <tr>\n",
       "      <th>605</th>\n",
       "      <td>1</td>\n",
       "    </tr>\n",
       "  </tbody>\n",
       "</table>\n",
       "<p>160 rows × 1 columns</p>\n",
       "</div>"
      ],
      "text/plain": [
       "     CODIGO_ESTABLECIMIENTO\n",
       "113                   11479\n",
       "502                    7606\n",
       "226                    6304\n",
       "410                    5311\n",
       "114                    5013\n",
       "..                      ...\n",
       "534                      10\n",
       "529                       3\n",
       "155                       1\n",
       "234                       1\n",
       "605                       1\n",
       "\n",
       "[160 rows x 1 columns]"
      ]
     },
     "execution_count": 161,
     "metadata": {},
     "output_type": "execute_result"
    }
   ],
   "source": [
    "data['CODIGO_ESTABLECIMIENTO'].value_counts().to_frame()"
   ]
  },
  {
   "cell_type": "code",
   "execution_count": 162,
   "metadata": {
    "ExecuteTime": {
     "end_time": "2020-06-05T19:54:47.821787Z",
     "start_time": "2020-06-05T19:54:47.774790Z"
    }
   },
   "outputs": [],
   "source": [
    "data['CODIGO_ESTABLECIMIENTO'] = data['CODIGO_ESTABLECIMIENTO'].astype(int)"
   ]
  },
  {
   "cell_type": "markdown",
   "metadata": {},
   "source": [
    "### Depto Establecimiento"
   ]
  },
  {
   "cell_type": "code",
   "execution_count": 163,
   "metadata": {
    "ExecuteTime": {
     "end_time": "2020-06-05T19:54:58.124698Z",
     "start_time": "2020-06-05T19:54:58.117435Z"
    }
   },
   "outputs": [
    {
     "data": {
      "text/plain": [
       "(30,)"
      ]
     },
     "execution_count": 163,
     "metadata": {},
     "output_type": "execute_result"
    }
   ],
   "source": [
    "data['DEPTO_ESTABLECIMIENTO'].unique().shape"
   ]
  },
  {
   "cell_type": "code",
   "execution_count": 164,
   "metadata": {
    "ExecuteTime": {
     "end_time": "2020-06-05T19:54:58.326296Z",
     "start_time": "2020-06-05T19:54:58.305968Z"
    },
    "scrolled": true
   },
   "outputs": [
    {
     "data": {
      "text/html": [
       "<div>\n",
       "<style scoped>\n",
       "    .dataframe tbody tr th:only-of-type {\n",
       "        vertical-align: middle;\n",
       "    }\n",
       "\n",
       "    .dataframe tbody tr th {\n",
       "        vertical-align: top;\n",
       "    }\n",
       "\n",
       "    .dataframe thead th {\n",
       "        text-align: right;\n",
       "    }\n",
       "</style>\n",
       "<table border=\"1\" class=\"dataframe\">\n",
       "  <thead>\n",
       "    <tr style=\"text-align: right;\">\n",
       "      <th></th>\n",
       "      <th>DEPTO_ESTABLECIMIENTO</th>\n",
       "    </tr>\n",
       "  </thead>\n",
       "  <tbody>\n",
       "    <tr>\n",
       "      <th>BOGOTA D.C.</th>\n",
       "      <td>18934</td>\n",
       "    </tr>\n",
       "    <tr>\n",
       "      <th>ANTIOQUIA</th>\n",
       "      <td>18538</td>\n",
       "    </tr>\n",
       "    <tr>\n",
       "      <th>VALLE DEL CAUCA</th>\n",
       "      <td>17293</td>\n",
       "    </tr>\n",
       "    <tr>\n",
       "      <th>SANTANDER</th>\n",
       "      <td>9235</td>\n",
       "    </tr>\n",
       "    <tr>\n",
       "      <th>META</th>\n",
       "      <td>7999</td>\n",
       "    </tr>\n",
       "    <tr>\n",
       "      <th>BOYACA</th>\n",
       "      <td>7285</td>\n",
       "    </tr>\n",
       "    <tr>\n",
       "      <th>TOLIMA</th>\n",
       "      <td>6104</td>\n",
       "    </tr>\n",
       "    <tr>\n",
       "      <th>CUNDINAMARCA</th>\n",
       "      <td>5776</td>\n",
       "    </tr>\n",
       "    <tr>\n",
       "      <th>CALDAS</th>\n",
       "      <td>5286</td>\n",
       "    </tr>\n",
       "    <tr>\n",
       "      <th>HUILA</th>\n",
       "      <td>5165</td>\n",
       "    </tr>\n",
       "    <tr>\n",
       "      <th>CAUCA</th>\n",
       "      <td>4628</td>\n",
       "    </tr>\n",
       "    <tr>\n",
       "      <th>NORTE DE SANTANDER</th>\n",
       "      <td>4421</td>\n",
       "    </tr>\n",
       "    <tr>\n",
       "      <th>NARIÑO</th>\n",
       "      <td>4139</td>\n",
       "    </tr>\n",
       "    <tr>\n",
       "      <th>RISARALDA</th>\n",
       "      <td>3204</td>\n",
       "    </tr>\n",
       "    <tr>\n",
       "      <th>CORDOBA</th>\n",
       "      <td>3036</td>\n",
       "    </tr>\n",
       "    <tr>\n",
       "      <th>QUINDIO</th>\n",
       "      <td>2598</td>\n",
       "    </tr>\n",
       "    <tr>\n",
       "      <th>ATLANTICO</th>\n",
       "      <td>2552</td>\n",
       "    </tr>\n",
       "    <tr>\n",
       "      <th>CAQUETA</th>\n",
       "      <td>2272</td>\n",
       "    </tr>\n",
       "    <tr>\n",
       "      <th>CESAR</th>\n",
       "      <td>2110</td>\n",
       "    </tr>\n",
       "    <tr>\n",
       "      <th>BOLIVAR</th>\n",
       "      <td>1925</td>\n",
       "    </tr>\n",
       "    <tr>\n",
       "      <th>CASANARE</th>\n",
       "      <td>1834</td>\n",
       "    </tr>\n",
       "    <tr>\n",
       "      <th>SUCRE</th>\n",
       "      <td>1453</td>\n",
       "    </tr>\n",
       "    <tr>\n",
       "      <th>MAGDALENA</th>\n",
       "      <td>1446</td>\n",
       "    </tr>\n",
       "    <tr>\n",
       "      <th>CHOCO</th>\n",
       "      <td>639</td>\n",
       "    </tr>\n",
       "    <tr>\n",
       "      <th>ARAUCA</th>\n",
       "      <td>512</td>\n",
       "    </tr>\n",
       "    <tr>\n",
       "      <th>LA GUAJIRA</th>\n",
       "      <td>450</td>\n",
       "    </tr>\n",
       "    <tr>\n",
       "      <th>PUTUMAYO</th>\n",
       "      <td>377</td>\n",
       "    </tr>\n",
       "    <tr>\n",
       "      <th>AMAZONAS</th>\n",
       "      <td>347</td>\n",
       "    </tr>\n",
       "    <tr>\n",
       "      <th>SAN ANDRES Y PROVIDENCIA</th>\n",
       "      <td>253</td>\n",
       "    </tr>\n",
       "  </tbody>\n",
       "</table>\n",
       "</div>"
      ],
      "text/plain": [
       "                          DEPTO_ESTABLECIMIENTO\n",
       "BOGOTA D.C.                               18934\n",
       "ANTIOQUIA                                 18538\n",
       "VALLE DEL CAUCA                           17293\n",
       "SANTANDER                                  9235\n",
       "META                                       7999\n",
       "BOYACA                                     7285\n",
       "TOLIMA                                     6104\n",
       "CUNDINAMARCA                               5776\n",
       "CALDAS                                     5286\n",
       "HUILA                                      5165\n",
       "CAUCA                                      4628\n",
       "NORTE DE SANTANDER                         4421\n",
       "NARIÑO                                     4139\n",
       "RISARALDA                                  3204\n",
       "CORDOBA                                    3036\n",
       "QUINDIO                                    2598\n",
       "ATLANTICO                                  2552\n",
       "CAQUETA                                    2272\n",
       "CESAR                                      2110\n",
       "BOLIVAR                                    1925\n",
       "CASANARE                                   1834\n",
       "SUCRE                                      1453\n",
       "MAGDALENA                                  1446\n",
       "CHOCO                                       639\n",
       "ARAUCA                                      512\n",
       "LA GUAJIRA                                  450\n",
       "PUTUMAYO                                    377\n",
       "AMAZONAS                                    347\n",
       "SAN ANDRES Y PROVIDENCIA                    253"
      ]
     },
     "execution_count": 164,
     "metadata": {},
     "output_type": "execute_result"
    }
   ],
   "source": [
    "data['DEPTO_ESTABLECIMIENTO'].value_counts().to_frame()"
   ]
  },
  {
   "cell_type": "code",
   "execution_count": 79,
   "metadata": {
    "ExecuteTime": {
     "end_time": "2020-06-05T19:40:33.829508Z",
     "start_time": "2020-06-05T19:40:33.796498Z"
    }
   },
   "outputs": [],
   "source": [
    "data['DEPTO_ESTABLECIMIENTO'] = data['DEPTO_ESTABLECIMIENTO'].astype('category')"
   ]
  },
  {
   "cell_type": "markdown",
   "metadata": {},
   "source": [
    "### Mun Establecimiento"
   ]
  },
  {
   "cell_type": "code",
   "execution_count": 165,
   "metadata": {
    "ExecuteTime": {
     "end_time": "2020-06-05T19:54:59.880712Z",
     "start_time": "2020-06-05T19:54:59.869772Z"
    }
   },
   "outputs": [
    {
     "data": {
      "text/plain": [
       "(123,)"
      ]
     },
     "execution_count": 165,
     "metadata": {},
     "output_type": "execute_result"
    }
   ],
   "source": [
    "data['MPIO_ESTABLECIMIENTO'].unique().shape"
   ]
  },
  {
   "cell_type": "code",
   "execution_count": 166,
   "metadata": {
    "ExecuteTime": {
     "end_time": "2020-06-05T19:55:00.028116Z",
     "start_time": "2020-06-05T19:55:00.013348Z"
    }
   },
   "outputs": [
    {
     "data": {
      "text/html": [
       "<div>\n",
       "<style scoped>\n",
       "    .dataframe tbody tr th:only-of-type {\n",
       "        vertical-align: middle;\n",
       "    }\n",
       "\n",
       "    .dataframe tbody tr th {\n",
       "        vertical-align: top;\n",
       "    }\n",
       "\n",
       "    .dataframe thead th {\n",
       "        text-align: right;\n",
       "    }\n",
       "</style>\n",
       "<table border=\"1\" class=\"dataframe\">\n",
       "  <thead>\n",
       "    <tr style=\"text-align: right;\">\n",
       "      <th></th>\n",
       "      <th>MPIO_ESTABLECIMIENTO</th>\n",
       "    </tr>\n",
       "  </thead>\n",
       "  <tbody>\n",
       "    <tr>\n",
       "      <th>BOGOTA D.C.</th>\n",
       "      <td>18934</td>\n",
       "    </tr>\n",
       "    <tr>\n",
       "      <th>MEDELLIN</th>\n",
       "      <td>10774</td>\n",
       "    </tr>\n",
       "    <tr>\n",
       "      <th>SANTIAGO DE CALI</th>\n",
       "      <td>6304</td>\n",
       "    </tr>\n",
       "    <tr>\n",
       "      <th>BUCARAMANGA</th>\n",
       "      <td>5893</td>\n",
       "    </tr>\n",
       "    <tr>\n",
       "      <th>ACACIAS</th>\n",
       "      <td>5478</td>\n",
       "    </tr>\n",
       "    <tr>\n",
       "      <th>...</th>\n",
       "      <td>...</td>\n",
       "    </tr>\n",
       "    <tr>\n",
       "      <th>MALAGA</th>\n",
       "      <td>81</td>\n",
       "    </tr>\n",
       "    <tr>\n",
       "      <th>SABANALARGA</th>\n",
       "      <td>70</td>\n",
       "    </tr>\n",
       "    <tr>\n",
       "      <th>SANTAFE DE ANTIOQUIA</th>\n",
       "      <td>66</td>\n",
       "    </tr>\n",
       "    <tr>\n",
       "      <th>SAN VICENTE DE CHUCURI</th>\n",
       "      <td>64</td>\n",
       "    </tr>\n",
       "    <tr>\n",
       "      <th>COROZAL</th>\n",
       "      <td>29</td>\n",
       "    </tr>\n",
       "  </tbody>\n",
       "</table>\n",
       "<p>122 rows × 1 columns</p>\n",
       "</div>"
      ],
      "text/plain": [
       "                        MPIO_ESTABLECIMIENTO\n",
       "BOGOTA D.C.                            18934\n",
       "MEDELLIN                               10774\n",
       "SANTIAGO DE CALI                        6304\n",
       "BUCARAMANGA                             5893\n",
       "ACACIAS                                 5478\n",
       "...                                      ...\n",
       "MALAGA                                    81\n",
       "SABANALARGA                               70\n",
       "SANTAFE DE ANTIOQUIA                      66\n",
       "SAN VICENTE DE CHUCURI                    64\n",
       "COROZAL                                   29\n",
       "\n",
       "[122 rows x 1 columns]"
      ]
     },
     "execution_count": 166,
     "metadata": {},
     "output_type": "execute_result"
    }
   ],
   "source": [
    "data['MPIO_ESTABLECIMIENTO'].value_counts().to_frame()"
   ]
  },
  {
   "cell_type": "code",
   "execution_count": 82,
   "metadata": {
    "ExecuteTime": {
     "end_time": "2020-06-05T19:42:15.355206Z",
     "start_time": "2020-06-05T19:42:15.088561Z"
    }
   },
   "outputs": [
    {
     "data": {
      "text/plain": [
       "(123,)"
      ]
     },
     "execution_count": 82,
     "metadata": {},
     "output_type": "execute_result"
    }
   ],
   "source": [
    "data['MPIO_ESTABLECIMIENTO'] = data['MPIO_ESTABLECIMIENTO'].apply(lambda x: ' '.join(unidecode.unidecode(re.sub(r'[^\\w]', ' ',str(x)).lower()).split()))\n",
    "data['MPIO_ESTABLECIMIENTO'] = data['MPIO_ESTABLECIMIENTO'].astype('category')\n",
    "data['MPIO_ESTABLECIMIENTO'].unique().shape"
   ]
  },
  {
   "cell_type": "markdown",
   "metadata": {},
   "source": [
    "### Regional"
   ]
  },
  {
   "cell_type": "code",
   "execution_count": 167,
   "metadata": {
    "ExecuteTime": {
     "end_time": "2020-06-05T19:55:05.195892Z",
     "start_time": "2020-06-05T19:55:05.180439Z"
    }
   },
   "outputs": [
    {
     "data": {
      "text/plain": [
       "(6,)"
      ]
     },
     "execution_count": 167,
     "metadata": {},
     "output_type": "execute_result"
    }
   ],
   "source": [
    "data['REGIONAL'].unique().shape"
   ]
  },
  {
   "cell_type": "code",
   "execution_count": 168,
   "metadata": {
    "ExecuteTime": {
     "end_time": "2020-06-05T19:55:05.397720Z",
     "start_time": "2020-06-05T19:55:05.377547Z"
    }
   },
   "outputs": [
    {
     "data": {
      "text/html": [
       "<div>\n",
       "<style scoped>\n",
       "    .dataframe tbody tr th:only-of-type {\n",
       "        vertical-align: middle;\n",
       "    }\n",
       "\n",
       "    .dataframe tbody tr th {\n",
       "        vertical-align: top;\n",
       "    }\n",
       "\n",
       "    .dataframe thead th {\n",
       "        text-align: right;\n",
       "    }\n",
       "</style>\n",
       "<table border=\"1\" class=\"dataframe\">\n",
       "  <thead>\n",
       "    <tr style=\"text-align: right;\">\n",
       "      <th></th>\n",
       "      <th>REGIONAL</th>\n",
       "    </tr>\n",
       "  </thead>\n",
       "  <tbody>\n",
       "    <tr>\n",
       "      <th>CENTRAL</th>\n",
       "      <td>50972</td>\n",
       "    </tr>\n",
       "    <tr>\n",
       "      <th>OCCIDENTE</th>\n",
       "      <td>27045</td>\n",
       "    </tr>\n",
       "    <tr>\n",
       "      <th>NOROESTE</th>\n",
       "      <td>19232</td>\n",
       "    </tr>\n",
       "    <tr>\n",
       "      <th>VIEJO CALDAS</th>\n",
       "      <td>17436</td>\n",
       "    </tr>\n",
       "    <tr>\n",
       "      <th>ORIENTE</th>\n",
       "      <td>14792</td>\n",
       "    </tr>\n",
       "    <tr>\n",
       "      <th>NORTE</th>\n",
       "      <td>13022</td>\n",
       "    </tr>\n",
       "  </tbody>\n",
       "</table>\n",
       "</div>"
      ],
      "text/plain": [
       "              REGIONAL\n",
       "CENTRAL          50972\n",
       "OCCIDENTE        27045\n",
       "NOROESTE         19232\n",
       "VIEJO CALDAS     17436\n",
       "ORIENTE          14792\n",
       "NORTE            13022"
      ]
     },
     "execution_count": 168,
     "metadata": {},
     "output_type": "execute_result"
    }
   ],
   "source": [
    "data['REGIONAL'].value_counts().to_frame()"
   ]
  },
  {
   "cell_type": "code",
   "execution_count": 169,
   "metadata": {
    "ExecuteTime": {
     "end_time": "2020-06-05T19:55:05.817233Z",
     "start_time": "2020-06-05T19:55:05.765581Z"
    }
   },
   "outputs": [],
   "source": [
    "data['REGIONAL'] = data['REGIONAL'].astype('category')"
   ]
  },
  {
   "cell_type": "markdown",
   "metadata": {},
   "source": [
    "### Estado"
   ]
  },
  {
   "cell_type": "code",
   "execution_count": 170,
   "metadata": {
    "ExecuteTime": {
     "end_time": "2020-06-05T19:55:06.542733Z",
     "start_time": "2020-06-05T19:55:06.530531Z"
    }
   },
   "outputs": [
    {
     "data": {
      "text/plain": [
       "(2,)"
      ]
     },
     "execution_count": 170,
     "metadata": {},
     "output_type": "execute_result"
    }
   ],
   "source": [
    "data['ESTADO'].unique().shape"
   ]
  },
  {
   "cell_type": "code",
   "execution_count": 171,
   "metadata": {
    "ExecuteTime": {
     "end_time": "2020-06-05T19:55:06.677367Z",
     "start_time": "2020-06-05T19:55:06.661218Z"
    }
   },
   "outputs": [
    {
     "data": {
      "text/html": [
       "<div>\n",
       "<style scoped>\n",
       "    .dataframe tbody tr th:only-of-type {\n",
       "        vertical-align: middle;\n",
       "    }\n",
       "\n",
       "    .dataframe tbody tr th {\n",
       "        vertical-align: top;\n",
       "    }\n",
       "\n",
       "    .dataframe thead th {\n",
       "        text-align: right;\n",
       "    }\n",
       "</style>\n",
       "<table border=\"1\" class=\"dataframe\">\n",
       "  <thead>\n",
       "    <tr style=\"text-align: right;\">\n",
       "      <th></th>\n",
       "      <th>ESTADO</th>\n",
       "    </tr>\n",
       "  </thead>\n",
       "  <tbody>\n",
       "    <tr>\n",
       "      <th>Baja</th>\n",
       "      <td>95470</td>\n",
       "    </tr>\n",
       "    <tr>\n",
       "      <th>Activo</th>\n",
       "      <td>47029</td>\n",
       "    </tr>\n",
       "  </tbody>\n",
       "</table>\n",
       "</div>"
      ],
      "text/plain": [
       "        ESTADO\n",
       "Baja     95470\n",
       "Activo   47029"
      ]
     },
     "execution_count": 171,
     "metadata": {},
     "output_type": "execute_result"
    }
   ],
   "source": [
    "data['ESTADO'].value_counts().to_frame()"
   ]
  },
  {
   "cell_type": "code",
   "execution_count": 172,
   "metadata": {
    "ExecuteTime": {
     "end_time": "2020-06-05T19:55:06.864281Z",
     "start_time": "2020-06-05T19:55:06.828487Z"
    }
   },
   "outputs": [],
   "source": [
    "data['ESTADO'] = data['ESTADO'].astype('category')"
   ]
  },
  {
   "cell_type": "markdown",
   "metadata": {},
   "source": [
    "### Empty"
   ]
  },
  {
   "cell_type": "code",
   "execution_count": 173,
   "metadata": {
    "ExecuteTime": {
     "end_time": "2020-06-05T19:55:08.253571Z",
     "start_time": "2020-06-05T19:55:08.178040Z"
    },
    "scrolled": true
   },
   "outputs": [
    {
     "name": "stdout",
     "output_type": "stream",
     "text": [
      "<class 'pandas.core.frame.DataFrame'>\n",
      "RangeIndex: 142499 entries, 6 to 142504\n",
      "Data columns (total 30 columns):\n",
      " #   Column                  Non-Null Count   Dtype         \n",
      "---  ------                  --------------   -----         \n",
      " 0   INTERNOEN               142499 non-null  object        \n",
      " 1   DELITO                  142499 non-null  category      \n",
      " 2   TENTATIVA               142499 non-null  category      \n",
      " 3   AGRAVADO                142499 non-null  category      \n",
      " 4   CALIFICADO              142499 non-null  category      \n",
      " 5   FECHA_INGRESO           142499 non-null  datetime64[ns]\n",
      " 6   FECHA_SALIDA            95815 non-null   object        \n",
      " 7   FECHA_CAPTURA           142499 non-null  datetime64[ns]\n",
      " 8   SITUACION_JURIDICA      142499 non-null  category      \n",
      " 9   ANO_NACIMIENTO          142499 non-null  int64         \n",
      " 10  EDAD                    142499 non-null  int64         \n",
      " 11  GENERO                  142499 non-null  object        \n",
      " 12  ESTADO_CIVIL            63007 non-null   object        \n",
      " 13  PAIS_INTERNO            139346 non-null  object        \n",
      " 14  DEPARTAMENTO            142499 non-null  category      \n",
      " 15  CIUDAD                  142499 non-null  category      \n",
      " 16  REINCIDENTE             142499 non-null  category      \n",
      " 17  ESTADO_INGRESO          142469 non-null  category      \n",
      " 18  ACTIVIDADES_TRABAJO     142499 non-null  category      \n",
      " 19  ACTIVIDADES_ESTUDIO     142499 non-null  category      \n",
      " 20  ACTIVIDADES_ENSEÑANZA   142499 non-null  category      \n",
      " 21  NIVEL_EDUCATIVO         142499 non-null  category      \n",
      " 22  HIJOS_MENORES           142499 non-null  object        \n",
      " 23  CONDIC_EXPECIONAL       13275 non-null   object        \n",
      " 24  CODIGO_ESTABLECIMIENTO  142499 non-null  int64         \n",
      " 25  ESTABLECIMIENTO         142499 non-null  object        \n",
      " 26  DEPTO_ESTABLECIMIENTO   139811 non-null  object        \n",
      " 27  MPIO_ESTABLECIMIENTO    139811 non-null  object        \n",
      " 28  REGIONAL                142499 non-null  category      \n",
      " 29  ESTADO                  142499 non-null  category      \n",
      "dtypes: category(15), datetime64[ns](2), int64(3), object(10)\n",
      "memory usage: 18.9+ MB\n"
     ]
    }
   ],
   "source": [
    "data.info()"
   ]
  },
  {
   "cell_type": "code",
   "execution_count": 174,
   "metadata": {
    "ExecuteTime": {
     "end_time": "2020-06-05T19:55:11.966740Z",
     "start_time": "2020-06-05T19:55:11.879218Z"
    }
   },
   "outputs": [
    {
     "data": {
      "text/html": [
       "<div>\n",
       "<style scoped>\n",
       "    .dataframe tbody tr th:only-of-type {\n",
       "        vertical-align: middle;\n",
       "    }\n",
       "\n",
       "    .dataframe tbody tr th {\n",
       "        vertical-align: top;\n",
       "    }\n",
       "\n",
       "    .dataframe thead th {\n",
       "        text-align: right;\n",
       "    }\n",
       "</style>\n",
       "<table border=\"1\" class=\"dataframe\">\n",
       "  <thead>\n",
       "    <tr style=\"text-align: right;\">\n",
       "      <th></th>\n",
       "      <th>0</th>\n",
       "    </tr>\n",
       "  </thead>\n",
       "  <tbody>\n",
       "    <tr>\n",
       "      <th>INTERNOEN</th>\n",
       "      <td>0</td>\n",
       "    </tr>\n",
       "    <tr>\n",
       "      <th>DELITO</th>\n",
       "      <td>0</td>\n",
       "    </tr>\n",
       "    <tr>\n",
       "      <th>TENTATIVA</th>\n",
       "      <td>0</td>\n",
       "    </tr>\n",
       "    <tr>\n",
       "      <th>AGRAVADO</th>\n",
       "      <td>0</td>\n",
       "    </tr>\n",
       "    <tr>\n",
       "      <th>CALIFICADO</th>\n",
       "      <td>0</td>\n",
       "    </tr>\n",
       "    <tr>\n",
       "      <th>FECHA_INGRESO</th>\n",
       "      <td>0</td>\n",
       "    </tr>\n",
       "    <tr>\n",
       "      <th>FECHA_SALIDA</th>\n",
       "      <td>46684</td>\n",
       "    </tr>\n",
       "    <tr>\n",
       "      <th>FECHA_CAPTURA</th>\n",
       "      <td>0</td>\n",
       "    </tr>\n",
       "    <tr>\n",
       "      <th>SITUACION_JURIDICA</th>\n",
       "      <td>0</td>\n",
       "    </tr>\n",
       "    <tr>\n",
       "      <th>ANO_NACIMIENTO</th>\n",
       "      <td>0</td>\n",
       "    </tr>\n",
       "    <tr>\n",
       "      <th>EDAD</th>\n",
       "      <td>0</td>\n",
       "    </tr>\n",
       "    <tr>\n",
       "      <th>GENERO</th>\n",
       "      <td>0</td>\n",
       "    </tr>\n",
       "    <tr>\n",
       "      <th>ESTADO_CIVIL</th>\n",
       "      <td>79492</td>\n",
       "    </tr>\n",
       "    <tr>\n",
       "      <th>PAIS_INTERNO</th>\n",
       "      <td>3153</td>\n",
       "    </tr>\n",
       "    <tr>\n",
       "      <th>DEPARTAMENTO</th>\n",
       "      <td>0</td>\n",
       "    </tr>\n",
       "    <tr>\n",
       "      <th>CIUDAD</th>\n",
       "      <td>0</td>\n",
       "    </tr>\n",
       "    <tr>\n",
       "      <th>REINCIDENTE</th>\n",
       "      <td>0</td>\n",
       "    </tr>\n",
       "    <tr>\n",
       "      <th>ESTADO_INGRESO</th>\n",
       "      <td>30</td>\n",
       "    </tr>\n",
       "    <tr>\n",
       "      <th>ACTIVIDADES_TRABAJO</th>\n",
       "      <td>0</td>\n",
       "    </tr>\n",
       "    <tr>\n",
       "      <th>ACTIVIDADES_ESTUDIO</th>\n",
       "      <td>0</td>\n",
       "    </tr>\n",
       "    <tr>\n",
       "      <th>ACTIVIDADES_ENSEÑANZA</th>\n",
       "      <td>0</td>\n",
       "    </tr>\n",
       "    <tr>\n",
       "      <th>NIVEL_EDUCATIVO</th>\n",
       "      <td>0</td>\n",
       "    </tr>\n",
       "    <tr>\n",
       "      <th>HIJOS_MENORES</th>\n",
       "      <td>0</td>\n",
       "    </tr>\n",
       "    <tr>\n",
       "      <th>CONDIC_EXPECIONAL</th>\n",
       "      <td>129224</td>\n",
       "    </tr>\n",
       "    <tr>\n",
       "      <th>CODIGO_ESTABLECIMIENTO</th>\n",
       "      <td>0</td>\n",
       "    </tr>\n",
       "    <tr>\n",
       "      <th>ESTABLECIMIENTO</th>\n",
       "      <td>0</td>\n",
       "    </tr>\n",
       "    <tr>\n",
       "      <th>DEPTO_ESTABLECIMIENTO</th>\n",
       "      <td>2688</td>\n",
       "    </tr>\n",
       "    <tr>\n",
       "      <th>MPIO_ESTABLECIMIENTO</th>\n",
       "      <td>2688</td>\n",
       "    </tr>\n",
       "    <tr>\n",
       "      <th>REGIONAL</th>\n",
       "      <td>0</td>\n",
       "    </tr>\n",
       "    <tr>\n",
       "      <th>ESTADO</th>\n",
       "      <td>0</td>\n",
       "    </tr>\n",
       "  </tbody>\n",
       "</table>\n",
       "</div>"
      ],
      "text/plain": [
       "                             0\n",
       "INTERNOEN                    0\n",
       "DELITO                       0\n",
       "TENTATIVA                    0\n",
       "AGRAVADO                     0\n",
       "CALIFICADO                   0\n",
       "FECHA_INGRESO                0\n",
       "FECHA_SALIDA             46684\n",
       "FECHA_CAPTURA                0\n",
       "SITUACION_JURIDICA           0\n",
       "ANO_NACIMIENTO               0\n",
       "EDAD                         0\n",
       "GENERO                       0\n",
       "ESTADO_CIVIL             79492\n",
       "PAIS_INTERNO              3153\n",
       "DEPARTAMENTO                 0\n",
       "CIUDAD                       0\n",
       "REINCIDENTE                  0\n",
       "ESTADO_INGRESO              30\n",
       "ACTIVIDADES_TRABAJO          0\n",
       "ACTIVIDADES_ESTUDIO          0\n",
       "ACTIVIDADES_ENSEÑANZA        0\n",
       "NIVEL_EDUCATIVO              0\n",
       "HIJOS_MENORES                0\n",
       "CONDIC_EXPECIONAL       129224\n",
       "CODIGO_ESTABLECIMIENTO       0\n",
       "ESTABLECIMIENTO              0\n",
       "DEPTO_ESTABLECIMIENTO     2688\n",
       "MPIO_ESTABLECIMIENTO      2688\n",
       "REGIONAL                     0\n",
       "ESTADO                       0"
      ]
     },
     "execution_count": 174,
     "metadata": {},
     "output_type": "execute_result"
    }
   ],
   "source": [
    "data.isnull().sum().to_frame()"
   ]
  },
  {
   "cell_type": "markdown",
   "metadata": {},
   "source": [
    "## EDA"
   ]
  },
  {
   "cell_type": "markdown",
   "metadata": {},
   "source": [
    "### Data 2"
   ]
  },
  {
   "cell_type": "code",
   "execution_count": 104,
   "metadata": {
    "ExecuteTime": {
     "end_time": "2020-06-05T02:09:31.399475Z",
     "start_time": "2020-06-05T02:09:31.385482Z"
    }
   },
   "outputs": [
    {
     "data": {
      "text/html": [
       "<div>\n",
       "<style scoped>\n",
       "    .dataframe tbody tr th:only-of-type {\n",
       "        vertical-align: middle;\n",
       "    }\n",
       "\n",
       "    .dataframe tbody tr th {\n",
       "        vertical-align: top;\n",
       "    }\n",
       "\n",
       "    .dataframe thead th {\n",
       "        text-align: right;\n",
       "    }\n",
       "</style>\n",
       "<table border=\"1\" class=\"dataframe\">\n",
       "  <thead>\n",
       "    <tr style=\"text-align: right;\">\n",
       "      <th></th>\n",
       "      <th>REINCIDENTE</th>\n",
       "    </tr>\n",
       "  </thead>\n",
       "  <tbody>\n",
       "    <tr>\n",
       "      <th>SI</th>\n",
       "      <td>142499</td>\n",
       "    </tr>\n",
       "  </tbody>\n",
       "</table>\n",
       "</div>"
      ],
      "text/plain": [
       "    REINCIDENTE\n",
       "SI       142499"
      ]
     },
     "execution_count": 104,
     "metadata": {},
     "output_type": "execute_result"
    }
   ],
   "source": [
    "data2['REINCIDENTE'].value_counts().to_frame()"
   ]
  },
  {
   "cell_type": "code",
   "execution_count": null,
   "metadata": {
    "ExecuteTime": {
     "end_time": "2020-06-05T01:38:21.606677Z",
     "start_time": "2020-06-05T01:38:21.327347Z"
    }
   },
   "outputs": [],
   "source": [
    "data2 = data2.sort_values(by = ['INTERNOEN','FECHA_INGRESO'])"
   ]
  },
  {
   "cell_type": "code",
   "execution_count": 55,
   "metadata": {
    "ExecuteTime": {
     "end_time": "2020-06-05T01:38:34.969511Z",
     "start_time": "2020-06-05T01:38:34.966138Z"
    }
   },
   "outputs": [
    {
     "data": {
      "text/plain": [
       "(142499, 30)"
      ]
     },
     "execution_count": 55,
     "metadata": {},
     "output_type": "execute_result"
    }
   ],
   "source": [
    "data2.shape"
   ]
  },
  {
   "cell_type": "code",
   "execution_count": 56,
   "metadata": {
    "ExecuteTime": {
     "end_time": "2020-06-05T01:38:36.464661Z",
     "start_time": "2020-06-05T01:38:36.352206Z"
    },
    "scrolled": true
   },
   "outputs": [
    {
     "data": {
      "text/html": [
       "<div>\n",
       "<style scoped>\n",
       "    .dataframe tbody tr th:only-of-type {\n",
       "        vertical-align: middle;\n",
       "    }\n",
       "\n",
       "    .dataframe tbody tr th {\n",
       "        vertical-align: top;\n",
       "    }\n",
       "\n",
       "    .dataframe thead th {\n",
       "        text-align: right;\n",
       "    }\n",
       "</style>\n",
       "<table border=\"1\" class=\"dataframe\">\n",
       "  <thead>\n",
       "    <tr style=\"text-align: right;\">\n",
       "      <th></th>\n",
       "      <th>INTERNOEN</th>\n",
       "      <th>DELITO</th>\n",
       "      <th>TENTATIVA</th>\n",
       "      <th>AGRAVADO</th>\n",
       "      <th>CALIFICADO</th>\n",
       "      <th>FECHA_INGRESO</th>\n",
       "      <th>FECHA_SALIDA</th>\n",
       "      <th>FECHA_CAPTURA</th>\n",
       "      <th>SITUACION_JURIDICA</th>\n",
       "      <th>ANO_NACIMIENTO</th>\n",
       "      <th>...</th>\n",
       "      <th>ACTIVIDADES_ENSEÑANZA</th>\n",
       "      <th>NIVEL_EDUCATIVO</th>\n",
       "      <th>HIJOS_MENORES</th>\n",
       "      <th>CONDIC_EXPECIONAL</th>\n",
       "      <th>CODIGO_ESTABLECIMIENTO</th>\n",
       "      <th>ESTABLECIMIENTO</th>\n",
       "      <th>DEPTO_ESTABLECIMIENTO</th>\n",
       "      <th>MPIO_ESTABLECIMIENTO</th>\n",
       "      <th>REGIONAL</th>\n",
       "      <th>ESTADO</th>\n",
       "    </tr>\n",
       "  </thead>\n",
       "  <tbody>\n",
       "    <tr>\n",
       "      <th>39655</th>\n",
       "      <td>000393AD7FE65FBBE53A61B0EAA1FB9A62F71450</td>\n",
       "      <td>FABRICACION TRAFICO Y PORTE DE ARMAS DE FUEGO ...</td>\n",
       "      <td>N</td>\n",
       "      <td>N</td>\n",
       "      <td>N</td>\n",
       "      <td>17/05/13</td>\n",
       "      <td>11/08/15</td>\n",
       "      <td>22/04/10</td>\n",
       "      <td>CO</td>\n",
       "      <td>1987</td>\n",
       "      <td>...</td>\n",
       "      <td>NO</td>\n",
       "      <td>CICLO IV</td>\n",
       "      <td>SI</td>\n",
       "      <td>NaN</td>\n",
       "      <td>113</td>\n",
       "      <td>COMPLEJO CARCELARIO Y PENITENCIARIO METROPOLIT...</td>\n",
       "      <td>BOGOTA D.C.</td>\n",
       "      <td>BOGOTA D.C.</td>\n",
       "      <td>CENTRAL</td>\n",
       "      <td>Baja</td>\n",
       "    </tr>\n",
       "    <tr>\n",
       "      <th>39656</th>\n",
       "      <td>000393AD7FE65FBBE53A61B0EAA1FB9A62F71450</td>\n",
       "      <td>HURTO</td>\n",
       "      <td>N</td>\n",
       "      <td>S</td>\n",
       "      <td>S</td>\n",
       "      <td>17/05/13</td>\n",
       "      <td>11/08/15</td>\n",
       "      <td>22/04/10</td>\n",
       "      <td>CO</td>\n",
       "      <td>1987</td>\n",
       "      <td>...</td>\n",
       "      <td>NO</td>\n",
       "      <td>CICLO IV</td>\n",
       "      <td>SI</td>\n",
       "      <td>NaN</td>\n",
       "      <td>113</td>\n",
       "      <td>COMPLEJO CARCELARIO Y PENITENCIARIO METROPOLIT...</td>\n",
       "      <td>BOGOTA D.C.</td>\n",
       "      <td>BOGOTA D.C.</td>\n",
       "      <td>CENTRAL</td>\n",
       "      <td>Baja</td>\n",
       "    </tr>\n",
       "    <tr>\n",
       "      <th>56318</th>\n",
       "      <td>0003BE212427DF2E9CCB2449B6012EF915B3FAE3</td>\n",
       "      <td>TRAFICO FABRICACION O PORTE DE ESTUPEFACIENTES</td>\n",
       "      <td>N</td>\n",
       "      <td>N</td>\n",
       "      <td>N</td>\n",
       "      <td>24/10/14</td>\n",
       "      <td>19/02/16</td>\n",
       "      <td>26/09/14</td>\n",
       "      <td>CO</td>\n",
       "      <td>1979</td>\n",
       "      <td>...</td>\n",
       "      <td>NO</td>\n",
       "      <td>CICLO II</td>\n",
       "      <td>SI</td>\n",
       "      <td>NaN</td>\n",
       "      <td>128</td>\n",
       "      <td>EPMSC ZIPAQUIRA</td>\n",
       "      <td>CUNDINAMARCA</td>\n",
       "      <td>ZIPAQUIRA</td>\n",
       "      <td>CENTRAL</td>\n",
       "      <td>Baja</td>\n",
       "    </tr>\n",
       "    <tr>\n",
       "      <th>72376</th>\n",
       "      <td>0008649DEF36F510807D0AB58A84CF74E6083FBF</td>\n",
       "      <td>CONCIERTO PARA DELINQUIR</td>\n",
       "      <td>N</td>\n",
       "      <td>N</td>\n",
       "      <td>N</td>\n",
       "      <td>29/01/16</td>\n",
       "      <td>02/02/17</td>\n",
       "      <td>22/01/16</td>\n",
       "      <td>CO</td>\n",
       "      <td>1979</td>\n",
       "      <td>...</td>\n",
       "      <td>NO</td>\n",
       "      <td>CICLO I</td>\n",
       "      <td>SI</td>\n",
       "      <td>NaN</td>\n",
       "      <td>4221</td>\n",
       "      <td>COMPLEJO CARCELARIO Y PENITENCIARIO METROPOLIT...</td>\n",
       "      <td>NORTE DE SANTANDER</td>\n",
       "      <td>CUCUTA</td>\n",
       "      <td>ORIENTE</td>\n",
       "      <td>Baja</td>\n",
       "    </tr>\n",
       "    <tr>\n",
       "      <th>72377</th>\n",
       "      <td>0008649DEF36F510807D0AB58A84CF74E6083FBF</td>\n",
       "      <td>HURTO</td>\n",
       "      <td>N</td>\n",
       "      <td>N</td>\n",
       "      <td>N</td>\n",
       "      <td>29/01/16</td>\n",
       "      <td>02/02/17</td>\n",
       "      <td>22/01/16</td>\n",
       "      <td>CO</td>\n",
       "      <td>1979</td>\n",
       "      <td>...</td>\n",
       "      <td>NO</td>\n",
       "      <td>CICLO I</td>\n",
       "      <td>SI</td>\n",
       "      <td>NaN</td>\n",
       "      <td>4221</td>\n",
       "      <td>COMPLEJO CARCELARIO Y PENITENCIARIO METROPOLIT...</td>\n",
       "      <td>NORTE DE SANTANDER</td>\n",
       "      <td>CUCUTA</td>\n",
       "      <td>ORIENTE</td>\n",
       "      <td>Baja</td>\n",
       "    </tr>\n",
       "    <tr>\n",
       "      <th>...</th>\n",
       "      <td>...</td>\n",
       "      <td>...</td>\n",
       "      <td>...</td>\n",
       "      <td>...</td>\n",
       "      <td>...</td>\n",
       "      <td>...</td>\n",
       "      <td>...</td>\n",
       "      <td>...</td>\n",
       "      <td>...</td>\n",
       "      <td>...</td>\n",
       "      <td>...</td>\n",
       "      <td>...</td>\n",
       "      <td>...</td>\n",
       "      <td>...</td>\n",
       "      <td>...</td>\n",
       "      <td>...</td>\n",
       "      <td>...</td>\n",
       "      <td>...</td>\n",
       "      <td>...</td>\n",
       "      <td>...</td>\n",
       "      <td>...</td>\n",
       "    </tr>\n",
       "    <tr>\n",
       "      <th>1745</th>\n",
       "      <td>FFFB827334A4AA5ED01992EA134E9987A08BDD94</td>\n",
       "      <td>HURTO</td>\n",
       "      <td>N</td>\n",
       "      <td>N</td>\n",
       "      <td>N</td>\n",
       "      <td>15/03/10</td>\n",
       "      <td>26/11/10</td>\n",
       "      <td>08/04/09</td>\n",
       "      <td>CO</td>\n",
       "      <td>1985</td>\n",
       "      <td>...</td>\n",
       "      <td>NO</td>\n",
       "      <td>CICLO II</td>\n",
       "      <td>SI</td>\n",
       "      <td>NaN</td>\n",
       "      <td>637</td>\n",
       "      <td>EPAMS LA DORADA</td>\n",
       "      <td>CALDAS</td>\n",
       "      <td>LA DORADA</td>\n",
       "      <td>VIEJO CALDAS</td>\n",
       "      <td>Baja</td>\n",
       "    </tr>\n",
       "    <tr>\n",
       "      <th>109383</th>\n",
       "      <td>FFFBA205C68E761D14A93DE664F82436A94D1B99</td>\n",
       "      <td>FUGA DE PRESOS</td>\n",
       "      <td>N</td>\n",
       "      <td>N</td>\n",
       "      <td>N</td>\n",
       "      <td>23/05/18</td>\n",
       "      <td>02/06/19</td>\n",
       "      <td>01/02/18</td>\n",
       "      <td>CO</td>\n",
       "      <td>1986</td>\n",
       "      <td>...</td>\n",
       "      <td>NO</td>\n",
       "      <td>CICLO III</td>\n",
       "      <td>SI</td>\n",
       "      <td>NaN</td>\n",
       "      <td>505</td>\n",
       "      <td>EPMSC ANDES</td>\n",
       "      <td>ANTIOQUIA</td>\n",
       "      <td>ANDES</td>\n",
       "      <td>NOROESTE</td>\n",
       "      <td>Baja</td>\n",
       "    </tr>\n",
       "    <tr>\n",
       "      <th>75448</th>\n",
       "      <td>FFFC9F1A5227DDD6F78179576170997CAAB63AD7</td>\n",
       "      <td>TRAFICO FABRICACION O PORTE DE ESTUPEFACIENTES</td>\n",
       "      <td>N</td>\n",
       "      <td>N</td>\n",
       "      <td>N</td>\n",
       "      <td>14/04/16</td>\n",
       "      <td>27/07/18</td>\n",
       "      <td>13/04/16</td>\n",
       "      <td>CO</td>\n",
       "      <td>1953</td>\n",
       "      <td>...</td>\n",
       "      <td>NO</td>\n",
       "      <td>CICLO II</td>\n",
       "      <td>SI</td>\n",
       "      <td>ADULTO MAYOR</td>\n",
       "      <td>628</td>\n",
       "      <td>EPMSC HONDA</td>\n",
       "      <td>TOLIMA</td>\n",
       "      <td>HONDA</td>\n",
       "      <td>VIEJO CALDAS</td>\n",
       "      <td>Baja</td>\n",
       "    </tr>\n",
       "    <tr>\n",
       "      <th>15805</th>\n",
       "      <td>FFFC9F1A5227DDD6F78179576170997CAAB63AD7</td>\n",
       "      <td>TRAFICO FABRICACION O PORTE DE ESTUPEFACIENTES</td>\n",
       "      <td>N</td>\n",
       "      <td>N</td>\n",
       "      <td>N</td>\n",
       "      <td>31/05/11</td>\n",
       "      <td>07/11/13</td>\n",
       "      <td>20/07/10</td>\n",
       "      <td>CO</td>\n",
       "      <td>1953</td>\n",
       "      <td>...</td>\n",
       "      <td>NO</td>\n",
       "      <td>CICLO II</td>\n",
       "      <td>SI</td>\n",
       "      <td>ADULTO MAYOR</td>\n",
       "      <td>6392</td>\n",
       "      <td>COMPLEJO CARCELARIO  Y PENITENCIARIO  DE IBAGU...</td>\n",
       "      <td>TOLIMA</td>\n",
       "      <td>IBAGUE</td>\n",
       "      <td>VIEJO CALDAS</td>\n",
       "      <td>Baja</td>\n",
       "    </tr>\n",
       "    <tr>\n",
       "      <th>75093</th>\n",
       "      <td>FFFF73D0B7088A0EF0A4B7F3CC26F8CF672C6EC1</td>\n",
       "      <td>HURTO</td>\n",
       "      <td>N</td>\n",
       "      <td>N</td>\n",
       "      <td>S</td>\n",
       "      <td>05/04/16</td>\n",
       "      <td>09/06/16</td>\n",
       "      <td>11/06/14</td>\n",
       "      <td>CO</td>\n",
       "      <td>1986</td>\n",
       "      <td>...</td>\n",
       "      <td>NO</td>\n",
       "      <td>CICLO IV</td>\n",
       "      <td>SI</td>\n",
       "      <td>NaN</td>\n",
       "      <td>113</td>\n",
       "      <td>COMPLEJO CARCELARIO Y PENITENCIARIO METROPOLIT...</td>\n",
       "      <td>BOGOTA D.C.</td>\n",
       "      <td>BOGOTA D.C.</td>\n",
       "      <td>CENTRAL</td>\n",
       "      <td>Baja</td>\n",
       "    </tr>\n",
       "  </tbody>\n",
       "</table>\n",
       "<p>95815 rows × 30 columns</p>\n",
       "</div>"
      ],
      "text/plain": [
       "                                       INTERNOEN  \\\n",
       "39655   000393AD7FE65FBBE53A61B0EAA1FB9A62F71450   \n",
       "39656   000393AD7FE65FBBE53A61B0EAA1FB9A62F71450   \n",
       "56318   0003BE212427DF2E9CCB2449B6012EF915B3FAE3   \n",
       "72376   0008649DEF36F510807D0AB58A84CF74E6083FBF   \n",
       "72377   0008649DEF36F510807D0AB58A84CF74E6083FBF   \n",
       "...                                          ...   \n",
       "1745    FFFB827334A4AA5ED01992EA134E9987A08BDD94   \n",
       "109383  FFFBA205C68E761D14A93DE664F82436A94D1B99   \n",
       "75448   FFFC9F1A5227DDD6F78179576170997CAAB63AD7   \n",
       "15805   FFFC9F1A5227DDD6F78179576170997CAAB63AD7   \n",
       "75093   FFFF73D0B7088A0EF0A4B7F3CC26F8CF672C6EC1   \n",
       "\n",
       "                                                   DELITO TENTATIVA AGRAVADO  \\\n",
       "39655   FABRICACION TRAFICO Y PORTE DE ARMAS DE FUEGO ...         N        N   \n",
       "39656                                               HURTO         N        S   \n",
       "56318      TRAFICO FABRICACION O PORTE DE ESTUPEFACIENTES         N        N   \n",
       "72376                            CONCIERTO PARA DELINQUIR         N        N   \n",
       "72377                                               HURTO         N        N   \n",
       "...                                                   ...       ...      ...   \n",
       "1745                                                HURTO         N        N   \n",
       "109383                                     FUGA DE PRESOS         N        N   \n",
       "75448      TRAFICO FABRICACION O PORTE DE ESTUPEFACIENTES         N        N   \n",
       "15805      TRAFICO FABRICACION O PORTE DE ESTUPEFACIENTES         N        N   \n",
       "75093                                               HURTO         N        N   \n",
       "\n",
       "       CALIFICADO FECHA_INGRESO FECHA_SALIDA FECHA_CAPTURA SITUACION_JURIDICA  \\\n",
       "39655           N      17/05/13     11/08/15      22/04/10                 CO   \n",
       "39656           S      17/05/13     11/08/15      22/04/10                 CO   \n",
       "56318           N      24/10/14     19/02/16      26/09/14                 CO   \n",
       "72376           N      29/01/16     02/02/17      22/01/16                 CO   \n",
       "72377           N      29/01/16     02/02/17      22/01/16                 CO   \n",
       "...           ...           ...          ...           ...                ...   \n",
       "1745            N      15/03/10     26/11/10      08/04/09                 CO   \n",
       "109383          N      23/05/18     02/06/19      01/02/18                 CO   \n",
       "75448           N      14/04/16     27/07/18      13/04/16                 CO   \n",
       "15805           N      31/05/11     07/11/13      20/07/10                 CO   \n",
       "75093           S      05/04/16     09/06/16      11/06/14                 CO   \n",
       "\n",
       "       ANO_NACIMIENTO  ... ACTIVIDADES_ENSEÑANZA NIVEL_EDUCATIVO  \\\n",
       "39655            1987  ...                    NO        CICLO IV   \n",
       "39656            1987  ...                    NO        CICLO IV   \n",
       "56318            1979  ...                    NO        CICLO II   \n",
       "72376            1979  ...                    NO         CICLO I   \n",
       "72377            1979  ...                    NO         CICLO I   \n",
       "...               ...  ...                   ...             ...   \n",
       "1745             1985  ...                    NO        CICLO II   \n",
       "109383           1986  ...                    NO       CICLO III   \n",
       "75448            1953  ...                    NO        CICLO II   \n",
       "15805            1953  ...                    NO        CICLO II   \n",
       "75093            1986  ...                    NO        CICLO IV   \n",
       "\n",
       "       HIJOS_MENORES CONDIC_EXPECIONAL CODIGO_ESTABLECIMIENTO  \\\n",
       "39655             SI               NaN                    113   \n",
       "39656             SI               NaN                    113   \n",
       "56318             SI               NaN                    128   \n",
       "72376             SI               NaN                   4221   \n",
       "72377             SI               NaN                   4221   \n",
       "...              ...               ...                    ...   \n",
       "1745              SI               NaN                    637   \n",
       "109383            SI               NaN                    505   \n",
       "75448             SI      ADULTO MAYOR                    628   \n",
       "15805             SI      ADULTO MAYOR                   6392   \n",
       "75093             SI               NaN                    113   \n",
       "\n",
       "                                          ESTABLECIMIENTO  \\\n",
       "39655   COMPLEJO CARCELARIO Y PENITENCIARIO METROPOLIT...   \n",
       "39656   COMPLEJO CARCELARIO Y PENITENCIARIO METROPOLIT...   \n",
       "56318                                     EPMSC ZIPAQUIRA   \n",
       "72376   COMPLEJO CARCELARIO Y PENITENCIARIO METROPOLIT...   \n",
       "72377   COMPLEJO CARCELARIO Y PENITENCIARIO METROPOLIT...   \n",
       "...                                                   ...   \n",
       "1745                                      EPAMS LA DORADA   \n",
       "109383                                        EPMSC ANDES   \n",
       "75448                                         EPMSC HONDA   \n",
       "15805   COMPLEJO CARCELARIO  Y PENITENCIARIO  DE IBAGU...   \n",
       "75093   COMPLEJO CARCELARIO Y PENITENCIARIO METROPOLIT...   \n",
       "\n",
       "       DEPTO_ESTABLECIMIENTO MPIO_ESTABLECIMIENTO      REGIONAL ESTADO  \n",
       "39655            BOGOTA D.C.          BOGOTA D.C.       CENTRAL   Baja  \n",
       "39656            BOGOTA D.C.          BOGOTA D.C.       CENTRAL   Baja  \n",
       "56318           CUNDINAMARCA            ZIPAQUIRA       CENTRAL   Baja  \n",
       "72376     NORTE DE SANTANDER               CUCUTA       ORIENTE   Baja  \n",
       "72377     NORTE DE SANTANDER               CUCUTA       ORIENTE   Baja  \n",
       "...                      ...                  ...           ...    ...  \n",
       "1745                  CALDAS            LA DORADA  VIEJO CALDAS   Baja  \n",
       "109383             ANTIOQUIA                ANDES      NOROESTE   Baja  \n",
       "75448                 TOLIMA                HONDA  VIEJO CALDAS   Baja  \n",
       "15805                 TOLIMA               IBAGUE  VIEJO CALDAS   Baja  \n",
       "75093            BOGOTA D.C.          BOGOTA D.C.       CENTRAL   Baja  \n",
       "\n",
       "[95815 rows x 30 columns]"
      ]
     },
     "execution_count": 56,
     "metadata": {},
     "output_type": "execute_result"
    }
   ],
   "source": [
    "with_salida = data2[~data2['FECHA_SALIDA'].isnull()]\n",
    "with_salida"
   ]
  },
  {
   "cell_type": "code",
   "execution_count": 59,
   "metadata": {
    "ExecuteTime": {
     "end_time": "2020-06-05T01:39:39.016529Z",
     "start_time": "2020-06-05T01:39:38.951771Z"
    }
   },
   "outputs": [
    {
     "data": {
      "text/html": [
       "<div>\n",
       "<style scoped>\n",
       "    .dataframe tbody tr th:only-of-type {\n",
       "        vertical-align: middle;\n",
       "    }\n",
       "\n",
       "    .dataframe tbody tr th {\n",
       "        vertical-align: top;\n",
       "    }\n",
       "\n",
       "    .dataframe thead th {\n",
       "        text-align: right;\n",
       "    }\n",
       "</style>\n",
       "<table border=\"1\" class=\"dataframe\">\n",
       "  <thead>\n",
       "    <tr style=\"text-align: right;\">\n",
       "      <th></th>\n",
       "      <th>INTERNOEN</th>\n",
       "    </tr>\n",
       "  </thead>\n",
       "  <tbody>\n",
       "    <tr>\n",
       "      <th>71D8863489582B956956B3E244CF97F629E190F8</th>\n",
       "      <td>16</td>\n",
       "    </tr>\n",
       "    <tr>\n",
       "      <th>85F84CC906246E467ACC8D3CD73B576E0B264556</th>\n",
       "      <td>15</td>\n",
       "    </tr>\n",
       "    <tr>\n",
       "      <th>5F6A19F239D3786924DB4FEAC108F33219BFD205</th>\n",
       "      <td>14</td>\n",
       "    </tr>\n",
       "    <tr>\n",
       "      <th>C6A8D6B8A3433007BDDE0B6A682268EFD0FA16AD</th>\n",
       "      <td>14</td>\n",
       "    </tr>\n",
       "    <tr>\n",
       "      <th>78E5DD972BE11B4BDAA55B55487DBAF7AED55E25</th>\n",
       "      <td>13</td>\n",
       "    </tr>\n",
       "    <tr>\n",
       "      <th>...</th>\n",
       "      <td>...</td>\n",
       "    </tr>\n",
       "    <tr>\n",
       "      <th>599E8C809208E0A7075A2458E1C95623E2B73F23</th>\n",
       "      <td>1</td>\n",
       "    </tr>\n",
       "    <tr>\n",
       "      <th>C92D1A2BF0078478B0713CA44A30D73361DC4D14</th>\n",
       "      <td>1</td>\n",
       "    </tr>\n",
       "    <tr>\n",
       "      <th>5E3EE1FC560926B33EB0A788D50B1F8823D4909D</th>\n",
       "      <td>1</td>\n",
       "    </tr>\n",
       "    <tr>\n",
       "      <th>BE8706DB90586126D390CCA7E6071C1AAF826FA4</th>\n",
       "      <td>1</td>\n",
       "    </tr>\n",
       "    <tr>\n",
       "      <th>E5F87CE3A027C5CA306EC319320DAB327FA8051B</th>\n",
       "      <td>1</td>\n",
       "    </tr>\n",
       "  </tbody>\n",
       "</table>\n",
       "<p>53847 rows × 1 columns</p>\n",
       "</div>"
      ],
      "text/plain": [
       "                                          INTERNOEN\n",
       "71D8863489582B956956B3E244CF97F629E190F8         16\n",
       "85F84CC906246E467ACC8D3CD73B576E0B264556         15\n",
       "5F6A19F239D3786924DB4FEAC108F33219BFD205         14\n",
       "C6A8D6B8A3433007BDDE0B6A682268EFD0FA16AD         14\n",
       "78E5DD972BE11B4BDAA55B55487DBAF7AED55E25         13\n",
       "...                                             ...\n",
       "599E8C809208E0A7075A2458E1C95623E2B73F23          1\n",
       "C92D1A2BF0078478B0713CA44A30D73361DC4D14          1\n",
       "5E3EE1FC560926B33EB0A788D50B1F8823D4909D          1\n",
       "BE8706DB90586126D390CCA7E6071C1AAF826FA4          1\n",
       "E5F87CE3A027C5CA306EC319320DAB327FA8051B          1\n",
       "\n",
       "[53847 rows x 1 columns]"
      ]
     },
     "execution_count": 59,
     "metadata": {},
     "output_type": "execute_result"
    }
   ],
   "source": [
    "with_salida['INTERNOEN'].value_counts().to_frame()"
   ]
  },
  {
   "cell_type": "code",
   "execution_count": 60,
   "metadata": {
    "ExecuteTime": {
     "end_time": "2020-06-05T01:39:54.462528Z",
     "start_time": "2020-06-05T01:39:54.432149Z"
    },
    "scrolled": true
   },
   "outputs": [
    {
     "data": {
      "text/html": [
       "<div>\n",
       "<style scoped>\n",
       "    .dataframe tbody tr th:only-of-type {\n",
       "        vertical-align: middle;\n",
       "    }\n",
       "\n",
       "    .dataframe tbody tr th {\n",
       "        vertical-align: top;\n",
       "    }\n",
       "\n",
       "    .dataframe thead th {\n",
       "        text-align: right;\n",
       "    }\n",
       "</style>\n",
       "<table border=\"1\" class=\"dataframe\">\n",
       "  <thead>\n",
       "    <tr style=\"text-align: right;\">\n",
       "      <th></th>\n",
       "      <th>INTERNOEN</th>\n",
       "      <th>DELITO</th>\n",
       "      <th>TENTATIVA</th>\n",
       "      <th>AGRAVADO</th>\n",
       "      <th>CALIFICADO</th>\n",
       "      <th>FECHA_INGRESO</th>\n",
       "      <th>FECHA_SALIDA</th>\n",
       "      <th>FECHA_CAPTURA</th>\n",
       "      <th>SITUACION_JURIDICA</th>\n",
       "      <th>ANO_NACIMIENTO</th>\n",
       "      <th>...</th>\n",
       "      <th>ACTIVIDADES_ENSEÑANZA</th>\n",
       "      <th>NIVEL_EDUCATIVO</th>\n",
       "      <th>HIJOS_MENORES</th>\n",
       "      <th>CONDIC_EXPECIONAL</th>\n",
       "      <th>CODIGO_ESTABLECIMIENTO</th>\n",
       "      <th>ESTABLECIMIENTO</th>\n",
       "      <th>DEPTO_ESTABLECIMIENTO</th>\n",
       "      <th>MPIO_ESTABLECIMIENTO</th>\n",
       "      <th>REGIONAL</th>\n",
       "      <th>ESTADO</th>\n",
       "    </tr>\n",
       "  </thead>\n",
       "  <tbody>\n",
       "    <tr>\n",
       "      <th>58602</th>\n",
       "      <td>71D8863489582B956956B3E244CF97F629E190F8</td>\n",
       "      <td>CONCIERTO PARA DELINQUIR</td>\n",
       "      <td>N</td>\n",
       "      <td>N</td>\n",
       "      <td>N</td>\n",
       "      <td>22/01/15</td>\n",
       "      <td>05/02/16</td>\n",
       "      <td>11/10/06</td>\n",
       "      <td>CO</td>\n",
       "      <td>1974</td>\n",
       "      <td>...</td>\n",
       "      <td>NO</td>\n",
       "      <td>CICLO IV</td>\n",
       "      <td>SI</td>\n",
       "      <td>NaN</td>\n",
       "      <td>501</td>\n",
       "      <td>CPAMS LA PAZ</td>\n",
       "      <td>ANTIOQUIA</td>\n",
       "      <td>ITAGUI</td>\n",
       "      <td>NOROESTE</td>\n",
       "      <td>Baja</td>\n",
       "    </tr>\n",
       "    <tr>\n",
       "      <th>58603</th>\n",
       "      <td>71D8863489582B956956B3E244CF97F629E190F8</td>\n",
       "      <td>CONCIERTO PARA DELINQUIR</td>\n",
       "      <td>N</td>\n",
       "      <td>N</td>\n",
       "      <td>N</td>\n",
       "      <td>22/01/15</td>\n",
       "      <td>05/02/16</td>\n",
       "      <td>06/05/08</td>\n",
       "      <td>CO</td>\n",
       "      <td>1974</td>\n",
       "      <td>...</td>\n",
       "      <td>NO</td>\n",
       "      <td>CICLO IV</td>\n",
       "      <td>SI</td>\n",
       "      <td>NaN</td>\n",
       "      <td>501</td>\n",
       "      <td>CPAMS LA PAZ</td>\n",
       "      <td>ANTIOQUIA</td>\n",
       "      <td>ITAGUI</td>\n",
       "      <td>NOROESTE</td>\n",
       "      <td>Baja</td>\n",
       "    </tr>\n",
       "    <tr>\n",
       "      <th>58604</th>\n",
       "      <td>71D8863489582B956956B3E244CF97F629E190F8</td>\n",
       "      <td>CONSTREÑIMIENTO ILEGAL</td>\n",
       "      <td>N</td>\n",
       "      <td>N</td>\n",
       "      <td>N</td>\n",
       "      <td>22/01/15</td>\n",
       "      <td>05/02/16</td>\n",
       "      <td>06/05/08</td>\n",
       "      <td>CO</td>\n",
       "      <td>1974</td>\n",
       "      <td>...</td>\n",
       "      <td>NO</td>\n",
       "      <td>CICLO IV</td>\n",
       "      <td>SI</td>\n",
       "      <td>NaN</td>\n",
       "      <td>501</td>\n",
       "      <td>CPAMS LA PAZ</td>\n",
       "      <td>ANTIOQUIA</td>\n",
       "      <td>ITAGUI</td>\n",
       "      <td>NOROESTE</td>\n",
       "      <td>Baja</td>\n",
       "    </tr>\n",
       "    <tr>\n",
       "      <th>58605</th>\n",
       "      <td>71D8863489582B956956B3E244CF97F629E190F8</td>\n",
       "      <td>DESPLAZAMIENTO FORZADO</td>\n",
       "      <td>N</td>\n",
       "      <td>N</td>\n",
       "      <td>N</td>\n",
       "      <td>22/01/15</td>\n",
       "      <td>05/02/16</td>\n",
       "      <td>11/10/06</td>\n",
       "      <td>CO</td>\n",
       "      <td>1974</td>\n",
       "      <td>...</td>\n",
       "      <td>NO</td>\n",
       "      <td>CICLO IV</td>\n",
       "      <td>SI</td>\n",
       "      <td>NaN</td>\n",
       "      <td>501</td>\n",
       "      <td>CPAMS LA PAZ</td>\n",
       "      <td>ANTIOQUIA</td>\n",
       "      <td>ITAGUI</td>\n",
       "      <td>NOROESTE</td>\n",
       "      <td>Baja</td>\n",
       "    </tr>\n",
       "    <tr>\n",
       "      <th>58606</th>\n",
       "      <td>71D8863489582B956956B3E244CF97F629E190F8</td>\n",
       "      <td>DESPLAZAMIENTO FORZADO</td>\n",
       "      <td>N</td>\n",
       "      <td>N</td>\n",
       "      <td>N</td>\n",
       "      <td>22/01/15</td>\n",
       "      <td>05/02/16</td>\n",
       "      <td>06/05/08</td>\n",
       "      <td>CO</td>\n",
       "      <td>1974</td>\n",
       "      <td>...</td>\n",
       "      <td>NO</td>\n",
       "      <td>CICLO IV</td>\n",
       "      <td>SI</td>\n",
       "      <td>NaN</td>\n",
       "      <td>501</td>\n",
       "      <td>CPAMS LA PAZ</td>\n",
       "      <td>ANTIOQUIA</td>\n",
       "      <td>ITAGUI</td>\n",
       "      <td>NOROESTE</td>\n",
       "      <td>Baja</td>\n",
       "    </tr>\n",
       "    <tr>\n",
       "      <th>58607</th>\n",
       "      <td>71D8863489582B956956B3E244CF97F629E190F8</td>\n",
       "      <td>DESTRUCCION Y APROPIACION DE BIENES PROTEGIDOS</td>\n",
       "      <td>N</td>\n",
       "      <td>N</td>\n",
       "      <td>N</td>\n",
       "      <td>22/01/15</td>\n",
       "      <td>05/02/16</td>\n",
       "      <td>06/05/08</td>\n",
       "      <td>CO</td>\n",
       "      <td>1974</td>\n",
       "      <td>...</td>\n",
       "      <td>NO</td>\n",
       "      <td>CICLO IV</td>\n",
       "      <td>SI</td>\n",
       "      <td>NaN</td>\n",
       "      <td>501</td>\n",
       "      <td>CPAMS LA PAZ</td>\n",
       "      <td>ANTIOQUIA</td>\n",
       "      <td>ITAGUI</td>\n",
       "      <td>NOROESTE</td>\n",
       "      <td>Baja</td>\n",
       "    </tr>\n",
       "    <tr>\n",
       "      <th>58608</th>\n",
       "      <td>71D8863489582B956956B3E244CF97F629E190F8</td>\n",
       "      <td>FABRICACION  TRAFICO Y PORTE DE ARMAS Y MUNICI...</td>\n",
       "      <td>N</td>\n",
       "      <td>N</td>\n",
       "      <td>N</td>\n",
       "      <td>22/01/15</td>\n",
       "      <td>05/02/16</td>\n",
       "      <td>06/05/08</td>\n",
       "      <td>CO</td>\n",
       "      <td>1974</td>\n",
       "      <td>...</td>\n",
       "      <td>NO</td>\n",
       "      <td>CICLO IV</td>\n",
       "      <td>SI</td>\n",
       "      <td>NaN</td>\n",
       "      <td>501</td>\n",
       "      <td>CPAMS LA PAZ</td>\n",
       "      <td>ANTIOQUIA</td>\n",
       "      <td>ITAGUI</td>\n",
       "      <td>NOROESTE</td>\n",
       "      <td>Baja</td>\n",
       "    </tr>\n",
       "    <tr>\n",
       "      <th>58609</th>\n",
       "      <td>71D8863489582B956956B3E244CF97F629E190F8</td>\n",
       "      <td>HOMICIDIO</td>\n",
       "      <td>N</td>\n",
       "      <td>N</td>\n",
       "      <td>N</td>\n",
       "      <td>22/01/15</td>\n",
       "      <td>05/02/16</td>\n",
       "      <td>11/10/06</td>\n",
       "      <td>CO</td>\n",
       "      <td>1974</td>\n",
       "      <td>...</td>\n",
       "      <td>NO</td>\n",
       "      <td>CICLO IV</td>\n",
       "      <td>SI</td>\n",
       "      <td>NaN</td>\n",
       "      <td>501</td>\n",
       "      <td>CPAMS LA PAZ</td>\n",
       "      <td>ANTIOQUIA</td>\n",
       "      <td>ITAGUI</td>\n",
       "      <td>NOROESTE</td>\n",
       "      <td>Baja</td>\n",
       "    </tr>\n",
       "    <tr>\n",
       "      <th>58610</th>\n",
       "      <td>71D8863489582B956956B3E244CF97F629E190F8</td>\n",
       "      <td>HOMICIDIO</td>\n",
       "      <td>N</td>\n",
       "      <td>N</td>\n",
       "      <td>N</td>\n",
       "      <td>22/01/15</td>\n",
       "      <td>05/02/16</td>\n",
       "      <td>06/05/08</td>\n",
       "      <td>CO</td>\n",
       "      <td>1974</td>\n",
       "      <td>...</td>\n",
       "      <td>NO</td>\n",
       "      <td>CICLO IV</td>\n",
       "      <td>SI</td>\n",
       "      <td>NaN</td>\n",
       "      <td>501</td>\n",
       "      <td>CPAMS LA PAZ</td>\n",
       "      <td>ANTIOQUIA</td>\n",
       "      <td>ITAGUI</td>\n",
       "      <td>NOROESTE</td>\n",
       "      <td>Baja</td>\n",
       "    </tr>\n",
       "    <tr>\n",
       "      <th>58611</th>\n",
       "      <td>71D8863489582B956956B3E244CF97F629E190F8</td>\n",
       "      <td>HOMICIDIO EN PERSONA PROTEGIDA</td>\n",
       "      <td>N</td>\n",
       "      <td>N</td>\n",
       "      <td>N</td>\n",
       "      <td>22/01/15</td>\n",
       "      <td>05/02/16</td>\n",
       "      <td>06/05/08</td>\n",
       "      <td>CO</td>\n",
       "      <td>1974</td>\n",
       "      <td>...</td>\n",
       "      <td>NO</td>\n",
       "      <td>CICLO IV</td>\n",
       "      <td>SI</td>\n",
       "      <td>NaN</td>\n",
       "      <td>501</td>\n",
       "      <td>CPAMS LA PAZ</td>\n",
       "      <td>ANTIOQUIA</td>\n",
       "      <td>ITAGUI</td>\n",
       "      <td>NOROESTE</td>\n",
       "      <td>Baja</td>\n",
       "    </tr>\n",
       "    <tr>\n",
       "      <th>58612</th>\n",
       "      <td>71D8863489582B956956B3E244CF97F629E190F8</td>\n",
       "      <td>HURTO</td>\n",
       "      <td>N</td>\n",
       "      <td>N</td>\n",
       "      <td>N</td>\n",
       "      <td>22/01/15</td>\n",
       "      <td>05/02/16</td>\n",
       "      <td>11/10/06</td>\n",
       "      <td>CO</td>\n",
       "      <td>1974</td>\n",
       "      <td>...</td>\n",
       "      <td>NO</td>\n",
       "      <td>CICLO IV</td>\n",
       "      <td>SI</td>\n",
       "      <td>NaN</td>\n",
       "      <td>501</td>\n",
       "      <td>CPAMS LA PAZ</td>\n",
       "      <td>ANTIOQUIA</td>\n",
       "      <td>ITAGUI</td>\n",
       "      <td>NOROESTE</td>\n",
       "      <td>Baja</td>\n",
       "    </tr>\n",
       "    <tr>\n",
       "      <th>58613</th>\n",
       "      <td>71D8863489582B956956B3E244CF97F629E190F8</td>\n",
       "      <td>HURTO</td>\n",
       "      <td>N</td>\n",
       "      <td>N</td>\n",
       "      <td>N</td>\n",
       "      <td>22/01/15</td>\n",
       "      <td>05/02/16</td>\n",
       "      <td>06/05/08</td>\n",
       "      <td>CO</td>\n",
       "      <td>1974</td>\n",
       "      <td>...</td>\n",
       "      <td>NO</td>\n",
       "      <td>CICLO IV</td>\n",
       "      <td>SI</td>\n",
       "      <td>NaN</td>\n",
       "      <td>501</td>\n",
       "      <td>CPAMS LA PAZ</td>\n",
       "      <td>ANTIOQUIA</td>\n",
       "      <td>ITAGUI</td>\n",
       "      <td>NOROESTE</td>\n",
       "      <td>Baja</td>\n",
       "    </tr>\n",
       "    <tr>\n",
       "      <th>58614</th>\n",
       "      <td>71D8863489582B956956B3E244CF97F629E190F8</td>\n",
       "      <td>RECLUTAMIENTO ILICITO</td>\n",
       "      <td>N</td>\n",
       "      <td>N</td>\n",
       "      <td>N</td>\n",
       "      <td>22/01/15</td>\n",
       "      <td>05/02/16</td>\n",
       "      <td>06/05/08</td>\n",
       "      <td>CO</td>\n",
       "      <td>1974</td>\n",
       "      <td>...</td>\n",
       "      <td>NO</td>\n",
       "      <td>CICLO IV</td>\n",
       "      <td>SI</td>\n",
       "      <td>NaN</td>\n",
       "      <td>501</td>\n",
       "      <td>CPAMS LA PAZ</td>\n",
       "      <td>ANTIOQUIA</td>\n",
       "      <td>ITAGUI</td>\n",
       "      <td>NOROESTE</td>\n",
       "      <td>Baja</td>\n",
       "    </tr>\n",
       "    <tr>\n",
       "      <th>58615</th>\n",
       "      <td>71D8863489582B956956B3E244CF97F629E190F8</td>\n",
       "      <td>SECUESTRO SIMPLE</td>\n",
       "      <td>N</td>\n",
       "      <td>N</td>\n",
       "      <td>N</td>\n",
       "      <td>22/01/15</td>\n",
       "      <td>05/02/16</td>\n",
       "      <td>06/05/08</td>\n",
       "      <td>CO</td>\n",
       "      <td>1974</td>\n",
       "      <td>...</td>\n",
       "      <td>NO</td>\n",
       "      <td>CICLO IV</td>\n",
       "      <td>SI</td>\n",
       "      <td>NaN</td>\n",
       "      <td>501</td>\n",
       "      <td>CPAMS LA PAZ</td>\n",
       "      <td>ANTIOQUIA</td>\n",
       "      <td>ITAGUI</td>\n",
       "      <td>NOROESTE</td>\n",
       "      <td>Baja</td>\n",
       "    </tr>\n",
       "    <tr>\n",
       "      <th>58616</th>\n",
       "      <td>71D8863489582B956956B3E244CF97F629E190F8</td>\n",
       "      <td>TORTURA EN PERSONA PROTEGIDA</td>\n",
       "      <td>N</td>\n",
       "      <td>N</td>\n",
       "      <td>N</td>\n",
       "      <td>22/01/15</td>\n",
       "      <td>05/02/16</td>\n",
       "      <td>06/05/08</td>\n",
       "      <td>CO</td>\n",
       "      <td>1974</td>\n",
       "      <td>...</td>\n",
       "      <td>NO</td>\n",
       "      <td>CICLO IV</td>\n",
       "      <td>SI</td>\n",
       "      <td>NaN</td>\n",
       "      <td>501</td>\n",
       "      <td>CPAMS LA PAZ</td>\n",
       "      <td>ANTIOQUIA</td>\n",
       "      <td>ITAGUI</td>\n",
       "      <td>NOROESTE</td>\n",
       "      <td>Baja</td>\n",
       "    </tr>\n",
       "    <tr>\n",
       "      <th>58617</th>\n",
       "      <td>71D8863489582B956956B3E244CF97F629E190F8</td>\n",
       "      <td>UTILIZACION ILEGAL DE UNIFORMES E INSIGNIAS</td>\n",
       "      <td>N</td>\n",
       "      <td>N</td>\n",
       "      <td>N</td>\n",
       "      <td>22/01/15</td>\n",
       "      <td>05/02/16</td>\n",
       "      <td>06/05/08</td>\n",
       "      <td>CO</td>\n",
       "      <td>1974</td>\n",
       "      <td>...</td>\n",
       "      <td>NO</td>\n",
       "      <td>CICLO IV</td>\n",
       "      <td>SI</td>\n",
       "      <td>NaN</td>\n",
       "      <td>501</td>\n",
       "      <td>CPAMS LA PAZ</td>\n",
       "      <td>ANTIOQUIA</td>\n",
       "      <td>ITAGUI</td>\n",
       "      <td>NOROESTE</td>\n",
       "      <td>Baja</td>\n",
       "    </tr>\n",
       "  </tbody>\n",
       "</table>\n",
       "<p>16 rows × 30 columns</p>\n",
       "</div>"
      ],
      "text/plain": [
       "                                      INTERNOEN  \\\n",
       "58602  71D8863489582B956956B3E244CF97F629E190F8   \n",
       "58603  71D8863489582B956956B3E244CF97F629E190F8   \n",
       "58604  71D8863489582B956956B3E244CF97F629E190F8   \n",
       "58605  71D8863489582B956956B3E244CF97F629E190F8   \n",
       "58606  71D8863489582B956956B3E244CF97F629E190F8   \n",
       "58607  71D8863489582B956956B3E244CF97F629E190F8   \n",
       "58608  71D8863489582B956956B3E244CF97F629E190F8   \n",
       "58609  71D8863489582B956956B3E244CF97F629E190F8   \n",
       "58610  71D8863489582B956956B3E244CF97F629E190F8   \n",
       "58611  71D8863489582B956956B3E244CF97F629E190F8   \n",
       "58612  71D8863489582B956956B3E244CF97F629E190F8   \n",
       "58613  71D8863489582B956956B3E244CF97F629E190F8   \n",
       "58614  71D8863489582B956956B3E244CF97F629E190F8   \n",
       "58615  71D8863489582B956956B3E244CF97F629E190F8   \n",
       "58616  71D8863489582B956956B3E244CF97F629E190F8   \n",
       "58617  71D8863489582B956956B3E244CF97F629E190F8   \n",
       "\n",
       "                                                  DELITO TENTATIVA AGRAVADO  \\\n",
       "58602                           CONCIERTO PARA DELINQUIR         N        N   \n",
       "58603                           CONCIERTO PARA DELINQUIR         N        N   \n",
       "58604                             CONSTREÑIMIENTO ILEGAL         N        N   \n",
       "58605                             DESPLAZAMIENTO FORZADO         N        N   \n",
       "58606                             DESPLAZAMIENTO FORZADO         N        N   \n",
       "58607     DESTRUCCION Y APROPIACION DE BIENES PROTEGIDOS         N        N   \n",
       "58608  FABRICACION  TRAFICO Y PORTE DE ARMAS Y MUNICI...         N        N   \n",
       "58609                                          HOMICIDIO         N        N   \n",
       "58610                                          HOMICIDIO         N        N   \n",
       "58611                     HOMICIDIO EN PERSONA PROTEGIDA         N        N   \n",
       "58612                                              HURTO         N        N   \n",
       "58613                                              HURTO         N        N   \n",
       "58614                              RECLUTAMIENTO ILICITO         N        N   \n",
       "58615                                   SECUESTRO SIMPLE         N        N   \n",
       "58616                       TORTURA EN PERSONA PROTEGIDA         N        N   \n",
       "58617        UTILIZACION ILEGAL DE UNIFORMES E INSIGNIAS         N        N   \n",
       "\n",
       "      CALIFICADO FECHA_INGRESO FECHA_SALIDA FECHA_CAPTURA SITUACION_JURIDICA  \\\n",
       "58602          N      22/01/15     05/02/16      11/10/06                 CO   \n",
       "58603          N      22/01/15     05/02/16      06/05/08                 CO   \n",
       "58604          N      22/01/15     05/02/16      06/05/08                 CO   \n",
       "58605          N      22/01/15     05/02/16      11/10/06                 CO   \n",
       "58606          N      22/01/15     05/02/16      06/05/08                 CO   \n",
       "58607          N      22/01/15     05/02/16      06/05/08                 CO   \n",
       "58608          N      22/01/15     05/02/16      06/05/08                 CO   \n",
       "58609          N      22/01/15     05/02/16      11/10/06                 CO   \n",
       "58610          N      22/01/15     05/02/16      06/05/08                 CO   \n",
       "58611          N      22/01/15     05/02/16      06/05/08                 CO   \n",
       "58612          N      22/01/15     05/02/16      11/10/06                 CO   \n",
       "58613          N      22/01/15     05/02/16      06/05/08                 CO   \n",
       "58614          N      22/01/15     05/02/16      06/05/08                 CO   \n",
       "58615          N      22/01/15     05/02/16      06/05/08                 CO   \n",
       "58616          N      22/01/15     05/02/16      06/05/08                 CO   \n",
       "58617          N      22/01/15     05/02/16      06/05/08                 CO   \n",
       "\n",
       "      ANO_NACIMIENTO  ... ACTIVIDADES_ENSEÑANZA NIVEL_EDUCATIVO HIJOS_MENORES  \\\n",
       "58602           1974  ...                    NO        CICLO IV            SI   \n",
       "58603           1974  ...                    NO        CICLO IV            SI   \n",
       "58604           1974  ...                    NO        CICLO IV            SI   \n",
       "58605           1974  ...                    NO        CICLO IV            SI   \n",
       "58606           1974  ...                    NO        CICLO IV            SI   \n",
       "58607           1974  ...                    NO        CICLO IV            SI   \n",
       "58608           1974  ...                    NO        CICLO IV            SI   \n",
       "58609           1974  ...                    NO        CICLO IV            SI   \n",
       "58610           1974  ...                    NO        CICLO IV            SI   \n",
       "58611           1974  ...                    NO        CICLO IV            SI   \n",
       "58612           1974  ...                    NO        CICLO IV            SI   \n",
       "58613           1974  ...                    NO        CICLO IV            SI   \n",
       "58614           1974  ...                    NO        CICLO IV            SI   \n",
       "58615           1974  ...                    NO        CICLO IV            SI   \n",
       "58616           1974  ...                    NO        CICLO IV            SI   \n",
       "58617           1974  ...                    NO        CICLO IV            SI   \n",
       "\n",
       "      CONDIC_EXPECIONAL CODIGO_ESTABLECIMIENTO ESTABLECIMIENTO  \\\n",
       "58602               NaN                    501    CPAMS LA PAZ   \n",
       "58603               NaN                    501    CPAMS LA PAZ   \n",
       "58604               NaN                    501    CPAMS LA PAZ   \n",
       "58605               NaN                    501    CPAMS LA PAZ   \n",
       "58606               NaN                    501    CPAMS LA PAZ   \n",
       "58607               NaN                    501    CPAMS LA PAZ   \n",
       "58608               NaN                    501    CPAMS LA PAZ   \n",
       "58609               NaN                    501    CPAMS LA PAZ   \n",
       "58610               NaN                    501    CPAMS LA PAZ   \n",
       "58611               NaN                    501    CPAMS LA PAZ   \n",
       "58612               NaN                    501    CPAMS LA PAZ   \n",
       "58613               NaN                    501    CPAMS LA PAZ   \n",
       "58614               NaN                    501    CPAMS LA PAZ   \n",
       "58615               NaN                    501    CPAMS LA PAZ   \n",
       "58616               NaN                    501    CPAMS LA PAZ   \n",
       "58617               NaN                    501    CPAMS LA PAZ   \n",
       "\n",
       "      DEPTO_ESTABLECIMIENTO MPIO_ESTABLECIMIENTO  REGIONAL ESTADO  \n",
       "58602             ANTIOQUIA               ITAGUI  NOROESTE   Baja  \n",
       "58603             ANTIOQUIA               ITAGUI  NOROESTE   Baja  \n",
       "58604             ANTIOQUIA               ITAGUI  NOROESTE   Baja  \n",
       "58605             ANTIOQUIA               ITAGUI  NOROESTE   Baja  \n",
       "58606             ANTIOQUIA               ITAGUI  NOROESTE   Baja  \n",
       "58607             ANTIOQUIA               ITAGUI  NOROESTE   Baja  \n",
       "58608             ANTIOQUIA               ITAGUI  NOROESTE   Baja  \n",
       "58609             ANTIOQUIA               ITAGUI  NOROESTE   Baja  \n",
       "58610             ANTIOQUIA               ITAGUI  NOROESTE   Baja  \n",
       "58611             ANTIOQUIA               ITAGUI  NOROESTE   Baja  \n",
       "58612             ANTIOQUIA               ITAGUI  NOROESTE   Baja  \n",
       "58613             ANTIOQUIA               ITAGUI  NOROESTE   Baja  \n",
       "58614             ANTIOQUIA               ITAGUI  NOROESTE   Baja  \n",
       "58615             ANTIOQUIA               ITAGUI  NOROESTE   Baja  \n",
       "58616             ANTIOQUIA               ITAGUI  NOROESTE   Baja  \n",
       "58617             ANTIOQUIA               ITAGUI  NOROESTE   Baja  \n",
       "\n",
       "[16 rows x 30 columns]"
      ]
     },
     "execution_count": 60,
     "metadata": {},
     "output_type": "execute_result"
    }
   ],
   "source": [
    "with_salida[with_salida['INTERNOEN'] == '71D8863489582B956956B3E244CF97F629E190F8']"
   ]
  },
  {
   "cell_type": "code",
   "execution_count": 71,
   "metadata": {
    "ExecuteTime": {
     "end_time": "2020-06-05T01:43:40.956254Z",
     "start_time": "2020-06-05T01:43:40.082093Z"
    }
   },
   "outputs": [],
   "source": [
    "data2['num_captura'] = data2['FECHA_INGRESO'].transform(lambda x: len(np.unique(x)))"
   ]
  },
  {
   "cell_type": "code",
   "execution_count": 72,
   "metadata": {
    "ExecuteTime": {
     "end_time": "2020-06-05T01:43:55.210247Z",
     "start_time": "2020-06-05T01:43:55.203147Z"
    }
   },
   "outputs": [
    {
     "data": {
      "text/html": [
       "<div>\n",
       "<style scoped>\n",
       "    .dataframe tbody tr th:only-of-type {\n",
       "        vertical-align: middle;\n",
       "    }\n",
       "\n",
       "    .dataframe tbody tr th {\n",
       "        vertical-align: top;\n",
       "    }\n",
       "\n",
       "    .dataframe thead th {\n",
       "        text-align: right;\n",
       "    }\n",
       "</style>\n",
       "<table border=\"1\" class=\"dataframe\">\n",
       "  <thead>\n",
       "    <tr style=\"text-align: right;\">\n",
       "      <th></th>\n",
       "      <th>num_captura</th>\n",
       "    </tr>\n",
       "  </thead>\n",
       "  <tbody>\n",
       "    <tr>\n",
       "      <th>1</th>\n",
       "      <td>142499</td>\n",
       "    </tr>\n",
       "  </tbody>\n",
       "</table>\n",
       "</div>"
      ],
      "text/plain": [
       "   num_captura\n",
       "1       142499"
      ]
     },
     "execution_count": 72,
     "metadata": {},
     "output_type": "execute_result"
    }
   ],
   "source": [
    "data2['num_captura'].value_counts().to_frame()"
   ]
  },
  {
   "cell_type": "code",
   "execution_count": 117,
   "metadata": {
    "ExecuteTime": {
     "end_time": "2020-06-05T02:18:55.725434Z",
     "start_time": "2020-06-05T02:18:55.690239Z"
    }
   },
   "outputs": [
    {
     "data": {
      "text/html": [
       "<div>\n",
       "<style scoped>\n",
       "    .dataframe tbody tr th:only-of-type {\n",
       "        vertical-align: middle;\n",
       "    }\n",
       "\n",
       "    .dataframe tbody tr th {\n",
       "        vertical-align: top;\n",
       "    }\n",
       "\n",
       "    .dataframe thead th {\n",
       "        text-align: right;\n",
       "    }\n",
       "</style>\n",
       "<table border=\"1\" class=\"dataframe\">\n",
       "  <thead>\n",
       "    <tr style=\"text-align: right;\">\n",
       "      <th></th>\n",
       "      <th>año</th>\n",
       "      <th>counts</th>\n",
       "    </tr>\n",
       "  </thead>\n",
       "  <tbody>\n",
       "    <tr>\n",
       "      <th>9</th>\n",
       "      <td>2010</td>\n",
       "      <td>10222</td>\n",
       "    </tr>\n",
       "    <tr>\n",
       "      <th>5</th>\n",
       "      <td>2011</td>\n",
       "      <td>13119</td>\n",
       "    </tr>\n",
       "    <tr>\n",
       "      <th>8</th>\n",
       "      <td>2012</td>\n",
       "      <td>10611</td>\n",
       "    </tr>\n",
       "    <tr>\n",
       "      <th>6</th>\n",
       "      <td>2013</td>\n",
       "      <td>12523</td>\n",
       "    </tr>\n",
       "    <tr>\n",
       "      <th>7</th>\n",
       "      <td>2014</td>\n",
       "      <td>11155</td>\n",
       "    </tr>\n",
       "    <tr>\n",
       "      <th>4</th>\n",
       "      <td>2015</td>\n",
       "      <td>13933</td>\n",
       "    </tr>\n",
       "    <tr>\n",
       "      <th>3</th>\n",
       "      <td>2016</td>\n",
       "      <td>15184</td>\n",
       "    </tr>\n",
       "    <tr>\n",
       "      <th>2</th>\n",
       "      <td>2017</td>\n",
       "      <td>15759</td>\n",
       "    </tr>\n",
       "    <tr>\n",
       "      <th>1</th>\n",
       "      <td>2018</td>\n",
       "      <td>17543</td>\n",
       "    </tr>\n",
       "    <tr>\n",
       "      <th>0</th>\n",
       "      <td>2019</td>\n",
       "      <td>18317</td>\n",
       "    </tr>\n",
       "    <tr>\n",
       "      <th>10</th>\n",
       "      <td>2020</td>\n",
       "      <td>4133</td>\n",
       "    </tr>\n",
       "  </tbody>\n",
       "</table>\n",
       "</div>"
      ],
      "text/plain": [
       "     año  counts\n",
       "9   2010   10222\n",
       "5   2011   13119\n",
       "8   2012   10611\n",
       "6   2013   12523\n",
       "7   2014   11155\n",
       "4   2015   13933\n",
       "3   2016   15184\n",
       "2   2017   15759\n",
       "1   2018   17543\n",
       "0   2019   18317\n",
       "10  2020    4133"
      ]
     },
     "execution_count": 117,
     "metadata": {},
     "output_type": "execute_result"
    }
   ],
   "source": [
    "data2['FECHA_INGRESO'] = pd.to_datetime(data2['FECHA_INGRESO'])\n",
    "años_fech_ing = data2['FECHA_INGRESO'].dt.year.value_counts().to_frame().reset_index()\n",
    "años_fech_ing.columns = ['año','counts']\n",
    "años_fech_ing.sort_values(by='año')"
   ]
  },
  {
   "cell_type": "code",
   "execution_count": 118,
   "metadata": {
    "ExecuteTime": {
     "end_time": "2020-06-05T02:19:23.801052Z",
     "start_time": "2020-06-05T02:19:16.818212Z"
    }
   },
   "outputs": [
    {
     "data": {
      "text/html": [
       "<div>\n",
       "<style scoped>\n",
       "    .dataframe tbody tr th:only-of-type {\n",
       "        vertical-align: middle;\n",
       "    }\n",
       "\n",
       "    .dataframe tbody tr th {\n",
       "        vertical-align: top;\n",
       "    }\n",
       "\n",
       "    .dataframe thead th {\n",
       "        text-align: right;\n",
       "    }\n",
       "</style>\n",
       "<table border=\"1\" class=\"dataframe\">\n",
       "  <thead>\n",
       "    <tr style=\"text-align: right;\">\n",
       "      <th></th>\n",
       "      <th>año</th>\n",
       "      <th>counts</th>\n",
       "    </tr>\n",
       "  </thead>\n",
       "  <tbody>\n",
       "    <tr>\n",
       "      <th>27</th>\n",
       "      <td>1978</td>\n",
       "      <td>1</td>\n",
       "    </tr>\n",
       "    <tr>\n",
       "      <th>25</th>\n",
       "      <td>1994</td>\n",
       "      <td>5</td>\n",
       "    </tr>\n",
       "    <tr>\n",
       "      <th>26</th>\n",
       "      <td>1995</td>\n",
       "      <td>3</td>\n",
       "    </tr>\n",
       "    <tr>\n",
       "      <th>24</th>\n",
       "      <td>1996</td>\n",
       "      <td>20</td>\n",
       "    </tr>\n",
       "    <tr>\n",
       "      <th>23</th>\n",
       "      <td>1997</td>\n",
       "      <td>28</td>\n",
       "    </tr>\n",
       "    <tr>\n",
       "      <th>22</th>\n",
       "      <td>1998</td>\n",
       "      <td>32</td>\n",
       "    </tr>\n",
       "    <tr>\n",
       "      <th>21</th>\n",
       "      <td>1999</td>\n",
       "      <td>45</td>\n",
       "    </tr>\n",
       "    <tr>\n",
       "      <th>20</th>\n",
       "      <td>2000</td>\n",
       "      <td>93</td>\n",
       "    </tr>\n",
       "    <tr>\n",
       "      <th>19</th>\n",
       "      <td>2001</td>\n",
       "      <td>108</td>\n",
       "    </tr>\n",
       "    <tr>\n",
       "      <th>18</th>\n",
       "      <td>2002</td>\n",
       "      <td>165</td>\n",
       "    </tr>\n",
       "    <tr>\n",
       "      <th>17</th>\n",
       "      <td>2003</td>\n",
       "      <td>212</td>\n",
       "    </tr>\n",
       "    <tr>\n",
       "      <th>16</th>\n",
       "      <td>2004</td>\n",
       "      <td>280</td>\n",
       "    </tr>\n",
       "    <tr>\n",
       "      <th>15</th>\n",
       "      <td>2005</td>\n",
       "      <td>432</td>\n",
       "    </tr>\n",
       "    <tr>\n",
       "      <th>14</th>\n",
       "      <td>2006</td>\n",
       "      <td>619</td>\n",
       "    </tr>\n",
       "    <tr>\n",
       "      <th>13</th>\n",
       "      <td>2007</td>\n",
       "      <td>1471</td>\n",
       "    </tr>\n",
       "    <tr>\n",
       "      <th>11</th>\n",
       "      <td>2008</td>\n",
       "      <td>2754</td>\n",
       "    </tr>\n",
       "    <tr>\n",
       "      <th>10</th>\n",
       "      <td>2009</td>\n",
       "      <td>4565</td>\n",
       "    </tr>\n",
       "    <tr>\n",
       "      <th>8</th>\n",
       "      <td>2010</td>\n",
       "      <td>11203</td>\n",
       "    </tr>\n",
       "    <tr>\n",
       "      <th>4</th>\n",
       "      <td>2011</td>\n",
       "      <td>13221</td>\n",
       "    </tr>\n",
       "    <tr>\n",
       "      <th>6</th>\n",
       "      <td>2012</td>\n",
       "      <td>12482</td>\n",
       "    </tr>\n",
       "    <tr>\n",
       "      <th>7</th>\n",
       "      <td>2013</td>\n",
       "      <td>11738</td>\n",
       "    </tr>\n",
       "    <tr>\n",
       "      <th>5</th>\n",
       "      <td>2014</td>\n",
       "      <td>12680</td>\n",
       "    </tr>\n",
       "    <tr>\n",
       "      <th>3</th>\n",
       "      <td>2015</td>\n",
       "      <td>13228</td>\n",
       "    </tr>\n",
       "    <tr>\n",
       "      <th>2</th>\n",
       "      <td>2016</td>\n",
       "      <td>14057</td>\n",
       "    </tr>\n",
       "    <tr>\n",
       "      <th>1</th>\n",
       "      <td>2017</td>\n",
       "      <td>14979</td>\n",
       "    </tr>\n",
       "    <tr>\n",
       "      <th>0</th>\n",
       "      <td>2018</td>\n",
       "      <td>15097</td>\n",
       "    </tr>\n",
       "    <tr>\n",
       "      <th>9</th>\n",
       "      <td>2019</td>\n",
       "      <td>11043</td>\n",
       "    </tr>\n",
       "    <tr>\n",
       "      <th>12</th>\n",
       "      <td>2020</td>\n",
       "      <td>1938</td>\n",
       "    </tr>\n",
       "  </tbody>\n",
       "</table>\n",
       "</div>"
      ],
      "text/plain": [
       "     año  counts\n",
       "27  1978       1\n",
       "25  1994       5\n",
       "26  1995       3\n",
       "24  1996      20\n",
       "23  1997      28\n",
       "22  1998      32\n",
       "21  1999      45\n",
       "20  2000      93\n",
       "19  2001     108\n",
       "18  2002     165\n",
       "17  2003     212\n",
       "16  2004     280\n",
       "15  2005     432\n",
       "14  2006     619\n",
       "13  2007    1471\n",
       "11  2008    2754\n",
       "10  2009    4565\n",
       "8   2010   11203\n",
       "4   2011   13221\n",
       "6   2012   12482\n",
       "7   2013   11738\n",
       "5   2014   12680\n",
       "3   2015   13228\n",
       "2   2016   14057\n",
       "1   2017   14979\n",
       "0   2018   15097\n",
       "9   2019   11043\n",
       "12  2020    1938"
      ]
     },
     "execution_count": 118,
     "metadata": {},
     "output_type": "execute_result"
    }
   ],
   "source": [
    "data2['FECHA_CAPTURA'] = pd.to_datetime(data2['FECHA_CAPTURA'])\n",
    "años_fech_cap = data2['FECHA_CAPTURA'].dt.year.value_counts().to_frame().reset_index()\n",
    "años_fech_cap.columns = ['año','counts']\n",
    "años_fech_cap.sort_values(by='año')"
   ]
  },
  {
   "cell_type": "code",
   "execution_count": 99,
   "metadata": {
    "ExecuteTime": {
     "end_time": "2020-06-05T02:04:20.407660Z",
     "start_time": "2020-06-05T02:04:14.337141Z"
    }
   },
   "outputs": [
    {
     "data": {
      "text/html": [
       "<div>\n",
       "<style scoped>\n",
       "    .dataframe tbody tr th:only-of-type {\n",
       "        vertical-align: middle;\n",
       "    }\n",
       "\n",
       "    .dataframe tbody tr th {\n",
       "        vertical-align: top;\n",
       "    }\n",
       "\n",
       "    .dataframe thead th {\n",
       "        text-align: right;\n",
       "    }\n",
       "</style>\n",
       "<table border=\"1\" class=\"dataframe\">\n",
       "  <thead>\n",
       "    <tr style=\"text-align: right;\">\n",
       "      <th></th>\n",
       "      <th>FECHA_INGRESO</th>\n",
       "      <th>%</th>\n",
       "    </tr>\n",
       "  </thead>\n",
       "  <tbody>\n",
       "    <tr>\n",
       "      <th>1</th>\n",
       "      <td>58682</td>\n",
       "      <td>74.580278</td>\n",
       "    </tr>\n",
       "    <tr>\n",
       "      <th>2</th>\n",
       "      <td>16398</td>\n",
       "      <td>20.840588</td>\n",
       "    </tr>\n",
       "    <tr>\n",
       "      <th>3</th>\n",
       "      <td>3007</td>\n",
       "      <td>3.821664</td>\n",
       "    </tr>\n",
       "    <tr>\n",
       "      <th>4</th>\n",
       "      <td>493</td>\n",
       "      <td>0.626565</td>\n",
       "    </tr>\n",
       "    <tr>\n",
       "      <th>5</th>\n",
       "      <td>90</td>\n",
       "      <td>0.114383</td>\n",
       "    </tr>\n",
       "    <tr>\n",
       "      <th>6</th>\n",
       "      <td>10</td>\n",
       "      <td>0.012709</td>\n",
       "    </tr>\n",
       "    <tr>\n",
       "      <th>7</th>\n",
       "      <td>2</td>\n",
       "      <td>0.002542</td>\n",
       "    </tr>\n",
       "    <tr>\n",
       "      <th>9</th>\n",
       "      <td>1</td>\n",
       "      <td>0.001271</td>\n",
       "    </tr>\n",
       "  </tbody>\n",
       "</table>\n",
       "</div>"
      ],
      "text/plain": [
       "   FECHA_INGRESO          %\n",
       "1          58682  74.580278\n",
       "2          16398  20.840588\n",
       "3           3007   3.821664\n",
       "4            493   0.626565\n",
       "5             90   0.114383\n",
       "6             10   0.012709\n",
       "7              2   0.002542\n",
       "9              1   0.001271"
      ]
     },
     "execution_count": 99,
     "metadata": {},
     "output_type": "execute_result"
    }
   ],
   "source": [
    "fecha_ing_count = data2.groupby(['INTERNOEN'])['FECHA_INGRESO'].apply(lambda x: len(np.unique(x))).value_counts().to_frame()\n",
    "fecha_ing_count['%'] = 100*(fecha_ing_count['FECHA_INGRESO'] / fecha_ing_count['FECHA_INGRESO'].sum())\n",
    "fecha_ing_count"
   ]
  },
  {
   "cell_type": "code",
   "execution_count": 101,
   "metadata": {
    "ExecuteTime": {
     "end_time": "2020-06-05T02:05:10.627544Z",
     "start_time": "2020-06-05T02:05:04.656153Z"
    }
   },
   "outputs": [
    {
     "data": {
      "text/html": [
       "<div>\n",
       "<style scoped>\n",
       "    .dataframe tbody tr th:only-of-type {\n",
       "        vertical-align: middle;\n",
       "    }\n",
       "\n",
       "    .dataframe tbody tr th {\n",
       "        vertical-align: top;\n",
       "    }\n",
       "\n",
       "    .dataframe thead th {\n",
       "        text-align: right;\n",
       "    }\n",
       "</style>\n",
       "<table border=\"1\" class=\"dataframe\">\n",
       "  <thead>\n",
       "    <tr style=\"text-align: right;\">\n",
       "      <th></th>\n",
       "      <th>FECHA_CAPTURA</th>\n",
       "      <th>%</th>\n",
       "    </tr>\n",
       "  </thead>\n",
       "  <tbody>\n",
       "    <tr>\n",
       "      <th>1</th>\n",
       "      <td>55415</td>\n",
       "      <td>70.428174</td>\n",
       "    </tr>\n",
       "    <tr>\n",
       "      <th>2</th>\n",
       "      <td>17647</td>\n",
       "      <td>22.427970</td>\n",
       "    </tr>\n",
       "    <tr>\n",
       "      <th>3</th>\n",
       "      <td>4320</td>\n",
       "      <td>5.490385</td>\n",
       "    </tr>\n",
       "    <tr>\n",
       "      <th>4</th>\n",
       "      <td>983</td>\n",
       "      <td>1.249317</td>\n",
       "    </tr>\n",
       "    <tr>\n",
       "      <th>5</th>\n",
       "      <td>230</td>\n",
       "      <td>0.292312</td>\n",
       "    </tr>\n",
       "    <tr>\n",
       "      <th>6</th>\n",
       "      <td>57</td>\n",
       "      <td>0.072443</td>\n",
       "    </tr>\n",
       "    <tr>\n",
       "      <th>7</th>\n",
       "      <td>25</td>\n",
       "      <td>0.031773</td>\n",
       "    </tr>\n",
       "    <tr>\n",
       "      <th>8</th>\n",
       "      <td>3</td>\n",
       "      <td>0.003813</td>\n",
       "    </tr>\n",
       "    <tr>\n",
       "      <th>9</th>\n",
       "      <td>2</td>\n",
       "      <td>0.002542</td>\n",
       "    </tr>\n",
       "    <tr>\n",
       "      <th>13</th>\n",
       "      <td>1</td>\n",
       "      <td>0.001271</td>\n",
       "    </tr>\n",
       "  </tbody>\n",
       "</table>\n",
       "</div>"
      ],
      "text/plain": [
       "    FECHA_CAPTURA          %\n",
       "1           55415  70.428174\n",
       "2           17647  22.427970\n",
       "3            4320   5.490385\n",
       "4             983   1.249317\n",
       "5             230   0.292312\n",
       "6              57   0.072443\n",
       "7              25   0.031773\n",
       "8               3   0.003813\n",
       "9               2   0.002542\n",
       "13              1   0.001271"
      ]
     },
     "execution_count": 101,
     "metadata": {},
     "output_type": "execute_result"
    }
   ],
   "source": [
    "fecha_cap_count = data2.groupby(['INTERNOEN'])['FECHA_CAPTURA'].apply(lambda x: len(np.unique(x))).value_counts().to_frame()\n",
    "fecha_cap_count['%'] = 100*(fecha_cap_count['FECHA_CAPTURA'] / fecha_cap_count['FECHA_CAPTURA'].sum())\n",
    "fecha_cap_count"
   ]
  },
  {
   "cell_type": "code",
   "execution_count": 94,
   "metadata": {
    "ExecuteTime": {
     "end_time": "2020-06-05T02:02:27.710170Z",
     "start_time": "2020-06-05T02:02:27.681688Z"
    }
   },
   "outputs": [
    {
     "data": {
      "text/plain": [
       "(78683,)"
      ]
     },
     "execution_count": 94,
     "metadata": {},
     "output_type": "execute_result"
    }
   ],
   "source": [
    "data2.INTERNOEN.unique().shape"
   ]
  },
  {
   "cell_type": "code",
   "execution_count": 85,
   "metadata": {
    "ExecuteTime": {
     "end_time": "2020-06-05T01:58:24.237249Z",
     "start_time": "2020-06-05T01:58:24.188372Z"
    }
   },
   "outputs": [
    {
     "data": {
      "text/html": [
       "<div>\n",
       "<style scoped>\n",
       "    .dataframe tbody tr th:only-of-type {\n",
       "        vertical-align: middle;\n",
       "    }\n",
       "\n",
       "    .dataframe tbody tr th {\n",
       "        vertical-align: top;\n",
       "    }\n",
       "\n",
       "    .dataframe thead th {\n",
       "        text-align: right;\n",
       "    }\n",
       "</style>\n",
       "<table border=\"1\" class=\"dataframe\">\n",
       "  <thead>\n",
       "    <tr style=\"text-align: right;\">\n",
       "      <th></th>\n",
       "      <th>INTERNOEN</th>\n",
       "      <th>DELITO</th>\n",
       "      <th>TENTATIVA</th>\n",
       "      <th>AGRAVADO</th>\n",
       "      <th>CALIFICADO</th>\n",
       "      <th>FECHA_INGRESO</th>\n",
       "      <th>FECHA_SALIDA</th>\n",
       "      <th>FECHA_CAPTURA</th>\n",
       "      <th>SITUACION_JURIDICA</th>\n",
       "      <th>ANO_NACIMIENTO</th>\n",
       "      <th>...</th>\n",
       "      <th>HIJOS_MENORES</th>\n",
       "      <th>CONDIC_EXPECIONAL</th>\n",
       "      <th>CODIGO_ESTABLECIMIENTO</th>\n",
       "      <th>ESTABLECIMIENTO</th>\n",
       "      <th>DEPTO_ESTABLECIMIENTO</th>\n",
       "      <th>MPIO_ESTABLECIMIENTO</th>\n",
       "      <th>REGIONAL</th>\n",
       "      <th>ESTADO</th>\n",
       "      <th>num_captura</th>\n",
       "      <th>num_fecha_ing</th>\n",
       "    </tr>\n",
       "  </thead>\n",
       "  <tbody>\n",
       "    <tr>\n",
       "      <th>129190</th>\n",
       "      <td>00127BA2D79F34EBBB140BAA128F55C96DB2CABC</td>\n",
       "      <td>HURTO</td>\n",
       "      <td>N</td>\n",
       "      <td>N</td>\n",
       "      <td>S</td>\n",
       "      <td>04/07/19</td>\n",
       "      <td>NaN</td>\n",
       "      <td>12/09/16</td>\n",
       "      <td>CO</td>\n",
       "      <td>1980</td>\n",
       "      <td>...</td>\n",
       "      <td>2</td>\n",
       "      <td>NaN</td>\n",
       "      <td>114</td>\n",
       "      <td>EC BOGOTA</td>\n",
       "      <td>BOGOTA D.C.</td>\n",
       "      <td>BOGOTA D.C.</td>\n",
       "      <td>CENTRAL</td>\n",
       "      <td>Activo</td>\n",
       "      <td>3</td>\n",
       "      <td>3</td>\n",
       "    </tr>\n",
       "    <tr>\n",
       "      <th>1479</th>\n",
       "      <td>00127BA2D79F34EBBB140BAA128F55C96DB2CABC</td>\n",
       "      <td>HURTO</td>\n",
       "      <td>S</td>\n",
       "      <td>S</td>\n",
       "      <td>S</td>\n",
       "      <td>05/03/10</td>\n",
       "      <td>02/04/12</td>\n",
       "      <td>02/03/10</td>\n",
       "      <td>CO</td>\n",
       "      <td>1980</td>\n",
       "      <td>...</td>\n",
       "      <td>SI</td>\n",
       "      <td>NaN</td>\n",
       "      <td>114</td>\n",
       "      <td>EC BOGOTA</td>\n",
       "      <td>BOGOTA D.C.</td>\n",
       "      <td>BOGOTA D.C.</td>\n",
       "      <td>CENTRAL</td>\n",
       "      <td>Baja</td>\n",
       "      <td>3</td>\n",
       "      <td>3</td>\n",
       "    </tr>\n",
       "    <tr>\n",
       "      <th>58641</th>\n",
       "      <td>00127BA2D79F34EBBB140BAA128F55C96DB2CABC</td>\n",
       "      <td>HURTO</td>\n",
       "      <td>N</td>\n",
       "      <td>S</td>\n",
       "      <td>N</td>\n",
       "      <td>22/01/15</td>\n",
       "      <td>19/09/16</td>\n",
       "      <td>20/11/14</td>\n",
       "      <td>CO</td>\n",
       "      <td>1980</td>\n",
       "      <td>...</td>\n",
       "      <td>SI</td>\n",
       "      <td>NaN</td>\n",
       "      <td>616</td>\n",
       "      <td>EPMSC PEREIRA (ERE)</td>\n",
       "      <td>RISARALDA</td>\n",
       "      <td>PEREIRA</td>\n",
       "      <td>VIEJO CALDAS</td>\n",
       "      <td>Baja</td>\n",
       "      <td>3</td>\n",
       "      <td>3</td>\n",
       "    </tr>\n",
       "    <tr>\n",
       "      <th>4348</th>\n",
       "      <td>001BBF650DF5791C71643FBAA11235E739CE30F9</td>\n",
       "      <td>HURTO</td>\n",
       "      <td>N</td>\n",
       "      <td>S</td>\n",
       "      <td>S</td>\n",
       "      <td>14/06/10</td>\n",
       "      <td>02/01/11</td>\n",
       "      <td>24/04/10</td>\n",
       "      <td>CO</td>\n",
       "      <td>1985</td>\n",
       "      <td>...</td>\n",
       "      <td>SI</td>\n",
       "      <td>NaN</td>\n",
       "      <td>130</td>\n",
       "      <td>CAMIS ACACIAS</td>\n",
       "      <td>META</td>\n",
       "      <td>ACACIAS</td>\n",
       "      <td>CENTRAL</td>\n",
       "      <td>Baja</td>\n",
       "      <td>4</td>\n",
       "      <td>4</td>\n",
       "    </tr>\n",
       "    <tr>\n",
       "      <th>21323</th>\n",
       "      <td>001BBF650DF5791C71643FBAA11235E739CE30F9</td>\n",
       "      <td>HURTO</td>\n",
       "      <td>N</td>\n",
       "      <td>S</td>\n",
       "      <td>S</td>\n",
       "      <td>22/10/11</td>\n",
       "      <td>04/05/12</td>\n",
       "      <td>20/06/11</td>\n",
       "      <td>CO</td>\n",
       "      <td>1985</td>\n",
       "      <td>...</td>\n",
       "      <td>SI</td>\n",
       "      <td>NaN</td>\n",
       "      <td>130</td>\n",
       "      <td>CAMIS ACACIAS</td>\n",
       "      <td>META</td>\n",
       "      <td>ACACIAS</td>\n",
       "      <td>CENTRAL</td>\n",
       "      <td>Baja</td>\n",
       "      <td>4</td>\n",
       "      <td>4</td>\n",
       "    </tr>\n",
       "    <tr>\n",
       "      <th>...</th>\n",
       "      <td>...</td>\n",
       "      <td>...</td>\n",
       "      <td>...</td>\n",
       "      <td>...</td>\n",
       "      <td>...</td>\n",
       "      <td>...</td>\n",
       "      <td>...</td>\n",
       "      <td>...</td>\n",
       "      <td>...</td>\n",
       "      <td>...</td>\n",
       "      <td>...</td>\n",
       "      <td>...</td>\n",
       "      <td>...</td>\n",
       "      <td>...</td>\n",
       "      <td>...</td>\n",
       "      <td>...</td>\n",
       "      <td>...</td>\n",
       "      <td>...</td>\n",
       "      <td>...</td>\n",
       "      <td>...</td>\n",
       "      <td>...</td>\n",
       "    </tr>\n",
       "    <tr>\n",
       "      <th>29113</th>\n",
       "      <td>FFEDD91C5426CF6C643D26B53F944EAF62975B7E</td>\n",
       "      <td>HURTO</td>\n",
       "      <td>N</td>\n",
       "      <td>N</td>\n",
       "      <td>N</td>\n",
       "      <td>06/07/12</td>\n",
       "      <td>23/12/13</td>\n",
       "      <td>05/06/12</td>\n",
       "      <td>CO</td>\n",
       "      <td>1951</td>\n",
       "      <td>...</td>\n",
       "      <td>SI</td>\n",
       "      <td>ADULTO MAYOR</td>\n",
       "      <td>227</td>\n",
       "      <td>EPMSC BUGA</td>\n",
       "      <td>VALLE DEL CAUCA</td>\n",
       "      <td>BUGA</td>\n",
       "      <td>OCCIDENTE</td>\n",
       "      <td>Baja</td>\n",
       "      <td>5</td>\n",
       "      <td>5</td>\n",
       "    </tr>\n",
       "    <tr>\n",
       "      <th>112897</th>\n",
       "      <td>FFEDD91C5426CF6C643D26B53F944EAF62975B7E</td>\n",
       "      <td>HURTO</td>\n",
       "      <td>N</td>\n",
       "      <td>N</td>\n",
       "      <td>S</td>\n",
       "      <td>06/08/18</td>\n",
       "      <td>NaN</td>\n",
       "      <td>03/08/18</td>\n",
       "      <td>CO</td>\n",
       "      <td>1951</td>\n",
       "      <td>...</td>\n",
       "      <td>0</td>\n",
       "      <td>ADULTO MAYOR</td>\n",
       "      <td>233</td>\n",
       "      <td>CPMS TULUA</td>\n",
       "      <td>VALLE DEL CAUCA</td>\n",
       "      <td>TULUA</td>\n",
       "      <td>OCCIDENTE</td>\n",
       "      <td>Activo</td>\n",
       "      <td>5</td>\n",
       "      <td>5</td>\n",
       "    </tr>\n",
       "    <tr>\n",
       "      <th>57832</th>\n",
       "      <td>FFEDD91C5426CF6C643D26B53F944EAF62975B7E</td>\n",
       "      <td>HURTO</td>\n",
       "      <td>N</td>\n",
       "      <td>N</td>\n",
       "      <td>N</td>\n",
       "      <td>09/01/15</td>\n",
       "      <td>13/04/16</td>\n",
       "      <td>30/12/14</td>\n",
       "      <td>CO</td>\n",
       "      <td>1951</td>\n",
       "      <td>...</td>\n",
       "      <td>SI</td>\n",
       "      <td>ADULTO MAYOR</td>\n",
       "      <td>227</td>\n",
       "      <td>EPMSC BUGA</td>\n",
       "      <td>VALLE DEL CAUCA</td>\n",
       "      <td>BUGA</td>\n",
       "      <td>OCCIDENTE</td>\n",
       "      <td>Baja</td>\n",
       "      <td>5</td>\n",
       "      <td>5</td>\n",
       "    </tr>\n",
       "    <tr>\n",
       "      <th>14910</th>\n",
       "      <td>FFEDD91C5426CF6C643D26B53F944EAF62975B7E</td>\n",
       "      <td>HURTO</td>\n",
       "      <td>N</td>\n",
       "      <td>N</td>\n",
       "      <td>N</td>\n",
       "      <td>19/05/11</td>\n",
       "      <td>21/06/12</td>\n",
       "      <td>04/05/11</td>\n",
       "      <td>CO</td>\n",
       "      <td>1951</td>\n",
       "      <td>...</td>\n",
       "      <td>SI</td>\n",
       "      <td>ADULTO MAYOR</td>\n",
       "      <td>225</td>\n",
       "      <td>CPAMS PALMIRA</td>\n",
       "      <td>VALLE DEL CAUCA</td>\n",
       "      <td>PALMIRA</td>\n",
       "      <td>OCCIDENTE</td>\n",
       "      <td>Baja</td>\n",
       "      <td>5</td>\n",
       "      <td>5</td>\n",
       "    </tr>\n",
       "    <tr>\n",
       "      <th>48033</th>\n",
       "      <td>FFEDD91C5426CF6C643D26B53F944EAF62975B7E</td>\n",
       "      <td>HURTO</td>\n",
       "      <td>N</td>\n",
       "      <td>N</td>\n",
       "      <td>N</td>\n",
       "      <td>21/02/14</td>\n",
       "      <td>18/10/14</td>\n",
       "      <td>19/02/14</td>\n",
       "      <td>CO</td>\n",
       "      <td>1951</td>\n",
       "      <td>...</td>\n",
       "      <td>SI</td>\n",
       "      <td>ADULTO MAYOR</td>\n",
       "      <td>233</td>\n",
       "      <td>CPMS TULUA</td>\n",
       "      <td>VALLE DEL CAUCA</td>\n",
       "      <td>TULUA</td>\n",
       "      <td>OCCIDENTE</td>\n",
       "      <td>Baja</td>\n",
       "      <td>5</td>\n",
       "      <td>5</td>\n",
       "    </tr>\n",
       "  </tbody>\n",
       "</table>\n",
       "<p>14245 rows × 32 columns</p>\n",
       "</div>"
      ],
      "text/plain": [
       "                                       INTERNOEN DELITO TENTATIVA AGRAVADO  \\\n",
       "129190  00127BA2D79F34EBBB140BAA128F55C96DB2CABC  HURTO         N        N   \n",
       "1479    00127BA2D79F34EBBB140BAA128F55C96DB2CABC  HURTO         S        S   \n",
       "58641   00127BA2D79F34EBBB140BAA128F55C96DB2CABC  HURTO         N        S   \n",
       "4348    001BBF650DF5791C71643FBAA11235E739CE30F9  HURTO         N        S   \n",
       "21323   001BBF650DF5791C71643FBAA11235E739CE30F9  HURTO         N        S   \n",
       "...                                          ...    ...       ...      ...   \n",
       "29113   FFEDD91C5426CF6C643D26B53F944EAF62975B7E  HURTO         N        N   \n",
       "112897  FFEDD91C5426CF6C643D26B53F944EAF62975B7E  HURTO         N        N   \n",
       "57832   FFEDD91C5426CF6C643D26B53F944EAF62975B7E  HURTO         N        N   \n",
       "14910   FFEDD91C5426CF6C643D26B53F944EAF62975B7E  HURTO         N        N   \n",
       "48033   FFEDD91C5426CF6C643D26B53F944EAF62975B7E  HURTO         N        N   \n",
       "\n",
       "       CALIFICADO FECHA_INGRESO FECHA_SALIDA FECHA_CAPTURA SITUACION_JURIDICA  \\\n",
       "129190          S      04/07/19          NaN      12/09/16                 CO   \n",
       "1479            S      05/03/10     02/04/12      02/03/10                 CO   \n",
       "58641           N      22/01/15     19/09/16      20/11/14                 CO   \n",
       "4348            S      14/06/10     02/01/11      24/04/10                 CO   \n",
       "21323           S      22/10/11     04/05/12      20/06/11                 CO   \n",
       "...           ...           ...          ...           ...                ...   \n",
       "29113           N      06/07/12     23/12/13      05/06/12                 CO   \n",
       "112897          S      06/08/18          NaN      03/08/18                 CO   \n",
       "57832           N      09/01/15     13/04/16      30/12/14                 CO   \n",
       "14910           N      19/05/11     21/06/12      04/05/11                 CO   \n",
       "48033           N      21/02/14     18/10/14      19/02/14                 CO   \n",
       "\n",
       "       ANO_NACIMIENTO  ... HIJOS_MENORES CONDIC_EXPECIONAL  \\\n",
       "129190           1980  ...             2               NaN   \n",
       "1479             1980  ...            SI               NaN   \n",
       "58641            1980  ...            SI               NaN   \n",
       "4348             1985  ...            SI               NaN   \n",
       "21323            1985  ...            SI               NaN   \n",
       "...               ...  ...           ...               ...   \n",
       "29113            1951  ...            SI      ADULTO MAYOR   \n",
       "112897           1951  ...             0      ADULTO MAYOR   \n",
       "57832            1951  ...            SI      ADULTO MAYOR   \n",
       "14910            1951  ...            SI      ADULTO MAYOR   \n",
       "48033            1951  ...            SI      ADULTO MAYOR   \n",
       "\n",
       "       CODIGO_ESTABLECIMIENTO      ESTABLECIMIENTO DEPTO_ESTABLECIMIENTO  \\\n",
       "129190                    114            EC BOGOTA           BOGOTA D.C.   \n",
       "1479                      114            EC BOGOTA           BOGOTA D.C.   \n",
       "58641                     616  EPMSC PEREIRA (ERE)             RISARALDA   \n",
       "4348                      130        CAMIS ACACIAS                  META   \n",
       "21323                     130        CAMIS ACACIAS                  META   \n",
       "...                       ...                  ...                   ...   \n",
       "29113                     227           EPMSC BUGA       VALLE DEL CAUCA   \n",
       "112897                    233           CPMS TULUA       VALLE DEL CAUCA   \n",
       "57832                     227           EPMSC BUGA       VALLE DEL CAUCA   \n",
       "14910                     225        CPAMS PALMIRA       VALLE DEL CAUCA   \n",
       "48033                     233           CPMS TULUA       VALLE DEL CAUCA   \n",
       "\n",
       "       MPIO_ESTABLECIMIENTO      REGIONAL  ESTADO num_captura num_fecha_ing  \n",
       "129190          BOGOTA D.C.       CENTRAL  Activo           3             3  \n",
       "1479            BOGOTA D.C.       CENTRAL    Baja           3             3  \n",
       "58641               PEREIRA  VIEJO CALDAS    Baja           3             3  \n",
       "4348                ACACIAS       CENTRAL    Baja           4             4  \n",
       "21323               ACACIAS       CENTRAL    Baja           4             4  \n",
       "...                     ...           ...     ...         ...           ...  \n",
       "29113                  BUGA     OCCIDENTE    Baja           5             5  \n",
       "112897                TULUA     OCCIDENTE  Activo           5             5  \n",
       "57832                  BUGA     OCCIDENTE    Baja           5             5  \n",
       "14910               PALMIRA     OCCIDENTE    Baja           5             5  \n",
       "48033                 TULUA     OCCIDENTE    Baja           5             5  \n",
       "\n",
       "[14245 rows x 32 columns]"
      ]
     },
     "execution_count": 85,
     "metadata": {},
     "output_type": "execute_result"
    }
   ],
   "source": [
    "data2[data2.num_fecha_ing > 2].sort_values(by=['INTERNOEN','FECHA_INGRESO'])"
   ]
  },
  {
   "cell_type": "code",
   "execution_count": null,
   "metadata": {},
   "outputs": [],
   "source": []
  }
 ],
 "metadata": {
  "kernelspec": {
   "display_name": "Python [conda env:nlp] *",
   "language": "python",
   "name": "conda-env-nlp-py"
  },
  "language_info": {
   "codemirror_mode": {
    "name": "ipython",
    "version": 3
   },
   "file_extension": ".py",
   "mimetype": "text/x-python",
   "name": "python",
   "nbconvert_exporter": "python",
   "pygments_lexer": "ipython3",
   "version": "3.7.3"
  },
  "toc": {
   "base_numbering": 1,
   "nav_menu": {},
   "number_sections": true,
   "sideBar": true,
   "skip_h1_title": false,
   "title_cell": "Table of Contents",
   "title_sidebar": "Contents",
   "toc_cell": false,
   "toc_position": {
    "height": "calc(100% - 180px)",
    "left": "10px",
    "top": "150px",
    "width": "370.6px"
   },
   "toc_section_display": true,
   "toc_window_display": true
  }
 },
 "nbformat": 4,
 "nbformat_minor": 2
}
