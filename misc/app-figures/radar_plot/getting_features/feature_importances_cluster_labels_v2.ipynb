{
 "cells": [
  {
   "cell_type": "code",
   "execution_count": 1,
   "metadata": {
    "ExecuteTime": {
     "end_time": "2020-07-31T00:18:34.043997Z",
     "start_time": "2020-07-31T00:18:33.032678Z"
    }
   },
   "outputs": [],
   "source": [
    "import os\n",
    "import re\n",
    "import sys\n",
    "import string\n",
    "import itertools\n",
    "import pandas as pd\n",
    "import numpy as np\n",
    "from sqlalchemy import create_engine, text\n",
    "\n",
    "from app.backend.utils import DbEngine, Queries\n",
    "from app.backend.etl import ETL\n",
    "from app.backend.etl_sdhi import ETL_SDHI\n",
    "from app.encoding_module.encoder import Encoding"
   ]
  },
  {
   "cell_type": "code",
   "execution_count": 2,
   "metadata": {
    "ExecuteTime": {
     "end_time": "2020-07-31T00:18:34.168293Z",
     "start_time": "2020-07-31T00:18:34.045834Z"
    }
   },
   "outputs": [],
   "source": [
    "from sklearn.datasets import make_blobs\n",
    "from sklearn.model_selection import train_test_split\n",
    "from sklearn.cluster import KMeans\n",
    "from sklearn.mixture import GaussianMixture, BayesianGaussianMixture\n",
    "from sklearn.preprocessing import LabelEncoder\n",
    "from sklearn.metrics import calinski_harabasz_score, fowlkes_mallows_score, silhouette_score\n",
    "from sklearn.metrics import roc_curve, auc, precision_recall_curve\n",
    "from sklearn.metrics import accuracy_score, average_precision_score, f1_score\n",
    "from sklearn.metrics import classification_report\n",
    "from sklearn.metrics import confusion_matrix, multilabel_confusion_matrix\n",
    "from sklearn.decomposition import PCA\n",
    "from sklearn.linear_model import LogisticRegression\n",
    "from sklearn.ensemble import RandomForestClassifier\n",
    "from sklearn.model_selection import RandomizedSearchCV, GroupKFold, TimeSeriesSplit, StratifiedKFold, cross_validate\n",
    "\n",
    "from sklearn.experimental import enable_iterative_imputer\n",
    "from sklearn.impute import IterativeImputer\n",
    "\n",
    "import lightgbm as lgb\n",
    "\n",
    "from kmodes.kmodes import KModes\n",
    "from scipy.spatial import distance\n",
    "from scipy import stats\n",
    "from scipy.stats import uniform, randint\n",
    "\n",
    "import matplotlib.pyplot as plt\n",
    "import seaborn as sns \n",
    "import plotly.graph_objects as go\n",
    "plt.style.use('seaborn')"
   ]
  },
  {
   "cell_type": "code",
   "execution_count": 3,
   "metadata": {
    "ExecuteTime": {
     "end_time": "2020-07-31T00:18:34.175239Z",
     "start_time": "2020-07-31T00:18:34.171094Z"
    }
   },
   "outputs": [],
   "source": [
    "pd.set_option(\"display.max_columns\", 100)"
   ]
  },
  {
   "cell_type": "markdown",
   "metadata": {
    "code_folding": []
   },
   "source": [
    "### Connect to DB"
   ]
  },
  {
   "cell_type": "code",
   "execution_count": 4,
   "metadata": {
    "ExecuteTime": {
     "end_time": "2020-07-31T00:18:34.209793Z",
     "start_time": "2020-07-31T00:18:34.178299Z"
    },
    "code_folding": []
   },
   "outputs": [],
   "source": [
    "db_engine = DbEngine(user = 'team77', \n",
    "                     password = 'mintic2020.',\n",
    "                     ip = '172.17.0.3', \n",
    "                     port = '5432', \n",
    "                     db = 'minjusticia')\n",
    "engine = db_engine.connect()\n",
    "queries = Queries(engine)"
   ]
  },
  {
   "cell_type": "markdown",
   "metadata": {
    "code_folding": []
   },
   "source": [
    "### Loading original data"
   ]
  },
  {
   "cell_type": "code",
   "execution_count": 5,
   "metadata": {
    "ExecuteTime": {
     "end_time": "2020-07-31T00:11:26.493631Z",
     "start_time": "2020-07-31T00:10:29.960343Z"
    },
    "code_folding": []
   },
   "outputs": [],
   "source": [
    "data = pd.read_excel('data/ReincidenciaPospenadosNal201011Junio2020Rev.xlsx', skiprows = 6)\n",
    "data_shdi = pd.read_excel('data/SHDI Colombia 4.0.xlsx')"
   ]
  },
  {
   "cell_type": "code",
   "execution_count": 6,
   "metadata": {
    "ExecuteTime": {
     "end_time": "2020-07-31T00:11:26.532135Z",
     "start_time": "2020-07-31T00:11:26.496633Z"
    },
    "code_folding": []
   },
   "outputs": [],
   "source": [
    "data2 = data[['INTERNOEN', 'DELITO', 'TITULO_DELITO', 'SUBTITULO_DELITO', 'TENTATIVA',\n",
    "       'AGRAVADO', 'CALIFICADO', 'FECHA_INGRESO', 'FECHA_SALIDA',\n",
    "       'FECHA_CAPTURA', 'SITUACION_JURIDICA', 'ANO_NACIMIENTO', 'EDAD',\n",
    "       'GENERO', 'ESTADO_CIVIL', 'PAIS_INTERNO', 'DEPARTAMENTO', 'CIUDAD',\n",
    "       'REINCIDENTE', 'ESTADO_INGRESO', 'ACTIVIDADES_TRABAJO',\n",
    "       'ACTIVIDADES_ESTUDIO', 'ACTIVIDADES_ENSEÑANZA', 'NIVEL_EDUCATIVO',\n",
    "       'HIJOS_MENORES', 'CONDIC_EXPECIONAL', 'CODIGO_ESTABLECIMIENTO',\n",
    "       'ESTABLECIMIENTO', 'DEPTO_ESTABLECIMIENTO', 'MPIO_ESTABLECIMIENTO',\n",
    "       'REGIONAL', 'ESTADO']]"
   ]
  },
  {
   "cell_type": "markdown",
   "metadata": {
    "code_folding": []
   },
   "source": [
    "### Execute ETL"
   ]
  },
  {
   "cell_type": "code",
   "execution_count": 7,
   "metadata": {
    "ExecuteTime": {
     "end_time": "2020-07-31T00:13:03.133364Z",
     "start_time": "2020-07-31T00:11:26.535497Z"
    },
    "code_folding": []
   },
   "outputs": [
    {
     "name": "stderr",
     "output_type": "stream",
     "text": [
      "/home/jovyan/work/MinJusticia_team77_DS4A_Project/app/backend/etl.py:60: SettingWithCopyWarning: \n",
      "A value is trying to be set on a copy of a slice from a DataFrame.\n",
      "Try using .loc[row_indexer,col_indexer] = value instead\n",
      "\n",
      "See the caveats in the documentation: https://pandas.pydata.org/pandas-docs/stable/user_guide/indexing.html#returning-a-view-versus-a-copy\n",
      "  data_reg['CONDIC_EXPECIONAL'] = data_reg['CONDIC_EXPECIONAL'].fillna('NINGUNO')\n",
      "/home/jovyan/work/MinJusticia_team77_DS4A_Project/app/backend/etl.py:63: SettingWithCopyWarning: \n",
      "A value is trying to be set on a copy of a slice from a DataFrame.\n",
      "Try using .loc[row_indexer,col_indexer] = value instead\n",
      "\n",
      "See the caveats in the documentation: https://pandas.pydata.org/pandas-docs/stable/user_guide/indexing.html#returning-a-view-versus-a-copy\n",
      "  data_reg['madre_gestante'] = 'NA'\n",
      "/opt/conda/lib/python3.7/site-packages/pandas/core/indexing.py:966: SettingWithCopyWarning: \n",
      "A value is trying to be set on a copy of a slice from a DataFrame.\n",
      "Try using .loc[row_indexer,col_indexer] = value instead\n",
      "\n",
      "See the caveats in the documentation: https://pandas.pydata.org/pandas-docs/stable/user_guide/indexing.html#returning-a-view-versus-a-copy\n",
      "  self.obj[item] = s\n",
      "/home/jovyan/work/MinJusticia_team77_DS4A_Project/app/backend/etl.py:67: SettingWithCopyWarning: \n",
      "A value is trying to be set on a copy of a slice from a DataFrame.\n",
      "Try using .loc[row_indexer,col_indexer] = value instead\n",
      "\n",
      "See the caveats in the documentation: https://pandas.pydata.org/pandas-docs/stable/user_guide/indexing.html#returning-a-view-versus-a-copy\n",
      "  data_reg['madre_lactante'] = 'NA'\n",
      "/home/jovyan/work/MinJusticia_team77_DS4A_Project/app/backend/etl.py:72: SettingWithCopyWarning: \n",
      "A value is trying to be set on a copy of a slice from a DataFrame.\n",
      "Try using .loc[row_indexer,col_indexer] = value instead\n",
      "\n",
      "See the caveats in the documentation: https://pandas.pydata.org/pandas-docs/stable/user_guide/indexing.html#returning-a-view-versus-a-copy\n",
      "  data_reg['discapacidad'] = 'N'\n",
      "/home/jovyan/work/MinJusticia_team77_DS4A_Project/app/backend/etl.py:76: SettingWithCopyWarning: \n",
      "A value is trying to be set on a copy of a slice from a DataFrame.\n",
      "Try using .loc[row_indexer,col_indexer] = value instead\n",
      "\n",
      "See the caveats in the documentation: https://pandas.pydata.org/pandas-docs/stable/user_guide/indexing.html#returning-a-view-versus-a-copy\n",
      "  data_reg['adulto_mayor'] = 'N'\n",
      "/home/jovyan/work/MinJusticia_team77_DS4A_Project/app/backend/etl.py:112: SettingWithCopyWarning: \n",
      "A value is trying to be set on a copy of a slice from a DataFrame.\n",
      "Try using .loc[row_indexer,col_indexer] = value instead\n",
      "\n",
      "See the caveats in the documentation: https://pandas.pydata.org/pandas-docs/stable/user_guide/indexing.html#returning-a-view-versus-a-copy\n",
      "  data_reg['crime_score'] = data_reg['DELITO'].apply(lambda x: crime_score[x] if x in top10 else 0)\n"
     ]
    },
    {
     "data": {
      "text/html": [
       "<div>\n",
       "<style scoped>\n",
       "    .dataframe tbody tr th:only-of-type {\n",
       "        vertical-align: middle;\n",
       "    }\n",
       "\n",
       "    .dataframe tbody tr th {\n",
       "        vertical-align: top;\n",
       "    }\n",
       "\n",
       "    .dataframe thead th {\n",
       "        text-align: right;\n",
       "    }\n",
       "</style>\n",
       "<table border=\"1\" class=\"dataframe\">\n",
       "  <thead>\n",
       "    <tr style=\"text-align: right;\">\n",
       "      <th></th>\n",
       "      <th>crime</th>\n",
       "      <th>min_month</th>\n",
       "      <th>max_month</th>\n",
       "      <th>decree</th>\n",
       "    </tr>\n",
       "  </thead>\n",
       "  <tbody>\n",
       "    <tr>\n",
       "      <th>0</th>\n",
       "      <td>HURTO</td>\n",
       "      <td>16</td>\n",
       "      <td>108</td>\n",
       "      <td>239</td>\n",
       "    </tr>\n",
       "    <tr>\n",
       "      <th>1</th>\n",
       "      <td>TRAFICO FABRICACION O PORTE DE ESTUPEFACIENTES</td>\n",
       "      <td>128</td>\n",
       "      <td>360</td>\n",
       "      <td>376</td>\n",
       "    </tr>\n",
       "    <tr>\n",
       "      <th>2</th>\n",
       "      <td>FABRICACION TRAFICO Y PORTE DE ARMAS DE FUEGO ...</td>\n",
       "      <td>132</td>\n",
       "      <td>180</td>\n",
       "      <td>366</td>\n",
       "    </tr>\n",
       "    <tr>\n",
       "      <th>3</th>\n",
       "      <td>CONCIERTO PARA DELINQUIR</td>\n",
       "      <td>48</td>\n",
       "      <td>108</td>\n",
       "      <td>340</td>\n",
       "    </tr>\n",
       "    <tr>\n",
       "      <th>4</th>\n",
       "      <td>HOMICIDIO</td>\n",
       "      <td>208</td>\n",
       "      <td>450</td>\n",
       "      <td>103</td>\n",
       "    </tr>\n",
       "    <tr>\n",
       "      <th>5</th>\n",
       "      <td>EXTORSION</td>\n",
       "      <td>192</td>\n",
       "      <td>288</td>\n",
       "      <td>244</td>\n",
       "    </tr>\n",
       "    <tr>\n",
       "      <th>6</th>\n",
       "      <td>FABRICACIÓN, TRÁFICO, PORTE O TENENCIA DE ARMA...</td>\n",
       "      <td>108</td>\n",
       "      <td>144</td>\n",
       "      <td>365</td>\n",
       "    </tr>\n",
       "    <tr>\n",
       "      <th>7</th>\n",
       "      <td>VIOLENCIA INTRAFAMILIAR</td>\n",
       "      <td>48</td>\n",
       "      <td>720</td>\n",
       "      <td>229</td>\n",
       "    </tr>\n",
       "    <tr>\n",
       "      <th>8</th>\n",
       "      <td>LESIONES PERSONALES</td>\n",
       "      <td>16</td>\n",
       "      <td>360</td>\n",
       "      <td>[111, 112, 113, 114, 115, 116, 117, 118, 119, ...</td>\n",
       "    </tr>\n",
       "    <tr>\n",
       "      <th>9</th>\n",
       "      <td>FABRICACION  TRAFICO Y PORTE DE ARMAS Y MUNICI...</td>\n",
       "      <td>132</td>\n",
       "      <td>180</td>\n",
       "      <td>366</td>\n",
       "    </tr>\n",
       "  </tbody>\n",
       "</table>\n",
       "</div>"
      ],
      "text/plain": [
       "                                               crime min_month max_month  \\\n",
       "0                                              HURTO        16       108   \n",
       "1     TRAFICO FABRICACION O PORTE DE ESTUPEFACIENTES       128       360   \n",
       "2  FABRICACION TRAFICO Y PORTE DE ARMAS DE FUEGO ...       132       180   \n",
       "3                           CONCIERTO PARA DELINQUIR        48       108   \n",
       "4                                          HOMICIDIO       208       450   \n",
       "5                                          EXTORSION       192       288   \n",
       "6  FABRICACIÓN, TRÁFICO, PORTE O TENENCIA DE ARMA...       108       144   \n",
       "7                            VIOLENCIA INTRAFAMILIAR        48       720   \n",
       "8                                LESIONES PERSONALES        16       360   \n",
       "9  FABRICACION  TRAFICO Y PORTE DE ARMAS Y MUNICI...       132       180   \n",
       "\n",
       "                                              decree  \n",
       "0                                                239  \n",
       "1                                                376  \n",
       "2                                                366  \n",
       "3                                                340  \n",
       "4                                                103  \n",
       "5                                                244  \n",
       "6                                                365  \n",
       "7                                                229  \n",
       "8  [111, 112, 113, 114, 115, 116, 117, 118, 119, ...  \n",
       "9                                                366  "
      ]
     },
     "metadata": {},
     "output_type": "display_data"
    },
    {
     "data": {
      "text/html": [
       "<div>\n",
       "<style scoped>\n",
       "    .dataframe tbody tr th:only-of-type {\n",
       "        vertical-align: middle;\n",
       "    }\n",
       "\n",
       "    .dataframe tbody tr th {\n",
       "        vertical-align: top;\n",
       "    }\n",
       "\n",
       "    .dataframe thead th {\n",
       "        text-align: right;\n",
       "    }\n",
       "</style>\n",
       "<table border=\"1\" class=\"dataframe\">\n",
       "  <thead>\n",
       "    <tr style=\"text-align: right;\">\n",
       "      <th></th>\n",
       "      <th>INTERNOEN</th>\n",
       "      <th>GENERO</th>\n",
       "      <th>DELITO</th>\n",
       "      <th>ESTADO_INGRESO</th>\n",
       "      <th>FECHA_CAPTURA</th>\n",
       "      <th>FECHA_INGRESO</th>\n",
       "      <th>ESTABLECIMIENTO</th>\n",
       "      <th>TENTATIVA</th>\n",
       "      <th>SUBTITULO_DELITO</th>\n",
       "      <th>AGRAVADO</th>\n",
       "      <th>CALIFICADO</th>\n",
       "      <th>FECHA_SALIDA</th>\n",
       "      <th>EDAD</th>\n",
       "      <th>DEPARTAMENTO</th>\n",
       "      <th>CIUDAD</th>\n",
       "      <th>ACTIVIDADES_TRABAJO</th>\n",
       "      <th>ACTIVIDADES_ESTUDIO</th>\n",
       "      <th>ACTIVIDADES_ENSEÑANZA</th>\n",
       "      <th>HIJOS_MENORES</th>\n",
       "      <th>CONDIC_EXPECIONAL</th>\n",
       "      <th>ESTADO</th>\n",
       "      <th>SITUACION_JURIDICA</th>\n",
       "      <th>madre_gestante</th>\n",
       "      <th>madre_lactante</th>\n",
       "      <th>discapacidad</th>\n",
       "      <th>adulto_mayor</th>\n",
       "      <th>crime_score</th>\n",
       "    </tr>\n",
       "  </thead>\n",
       "  <tbody>\n",
       "    <tr>\n",
       "      <th>0</th>\n",
       "      <td>5496C737C624136DB406CFC6744C684C070A3CD8</td>\n",
       "      <td>MASCULINO</td>\n",
       "      <td>FABRICACION TRAFICO Y PORTE DE ARMAS DE FUEGO ...</td>\n",
       "      <td>Intramuros</td>\n",
       "      <td>30/12/09</td>\n",
       "      <td>01/01/10</td>\n",
       "      <td>EPMSC MEDELLIN</td>\n",
       "      <td>N</td>\n",
       "      <td>DE LOS DELITOS DE PELIGRO COMUN O QUE PUEDEN O...</td>\n",
       "      <td>N</td>\n",
       "      <td>N</td>\n",
       "      <td>12/05/11</td>\n",
       "      <td>48</td>\n",
       "      <td>ANTIOQUIA</td>\n",
       "      <td>ENVIGADO-ANTIOQUIA</td>\n",
       "      <td>SI</td>\n",
       "      <td>SI</td>\n",
       "      <td>NO</td>\n",
       "      <td>SI</td>\n",
       "      <td>NINGUNO</td>\n",
       "      <td>Baja</td>\n",
       "      <td>CO</td>\n",
       "      <td>NA</td>\n",
       "      <td>NA</td>\n",
       "      <td>N</td>\n",
       "      <td>N</td>\n",
       "      <td>4</td>\n",
       "    </tr>\n",
       "  </tbody>\n",
       "</table>\n",
       "</div>"
      ],
      "text/plain": [
       "                                  INTERNOEN     GENERO  \\\n",
       "0  5496C737C624136DB406CFC6744C684C070A3CD8  MASCULINO   \n",
       "\n",
       "                                              DELITO ESTADO_INGRESO  \\\n",
       "0  FABRICACION TRAFICO Y PORTE DE ARMAS DE FUEGO ...     Intramuros   \n",
       "\n",
       "  FECHA_CAPTURA FECHA_INGRESO ESTABLECIMIENTO TENTATIVA  \\\n",
       "0      30/12/09      01/01/10  EPMSC MEDELLIN         N   \n",
       "\n",
       "                                    SUBTITULO_DELITO AGRAVADO CALIFICADO  \\\n",
       "0  DE LOS DELITOS DE PELIGRO COMUN O QUE PUEDEN O...        N          N   \n",
       "\n",
       "  FECHA_SALIDA  EDAD DEPARTAMENTO              CIUDAD ACTIVIDADES_TRABAJO  \\\n",
       "0     12/05/11    48    ANTIOQUIA  ENVIGADO-ANTIOQUIA                  SI   \n",
       "\n",
       "  ACTIVIDADES_ESTUDIO ACTIVIDADES_ENSEÑANZA HIJOS_MENORES CONDIC_EXPECIONAL  \\\n",
       "0                  SI                    NO            SI           NINGUNO   \n",
       "\n",
       "  ESTADO SITUACION_JURIDICA madre_gestante madre_lactante discapacidad  \\\n",
       "0   Baja                 CO             NA             NA            N   \n",
       "\n",
       "  adulto_mayor  crime_score  \n",
       "0            N            4  "
      ]
     },
     "metadata": {},
     "output_type": "display_data"
    },
    {
     "data": {
      "text/html": [
       "<div>\n",
       "<style scoped>\n",
       "    .dataframe tbody tr th:only-of-type {\n",
       "        vertical-align: middle;\n",
       "    }\n",
       "\n",
       "    .dataframe tbody tr th {\n",
       "        vertical-align: top;\n",
       "    }\n",
       "\n",
       "    .dataframe thead th {\n",
       "        text-align: right;\n",
       "    }\n",
       "</style>\n",
       "<table border=\"1\" class=\"dataframe\">\n",
       "  <thead>\n",
       "    <tr style=\"text-align: right;\">\n",
       "      <th></th>\n",
       "      <th>TENTATIVA</th>\n",
       "      <th>AGRAVADO</th>\n",
       "      <th>CALIFICADO</th>\n",
       "      <th>multiplier</th>\n",
       "    </tr>\n",
       "  </thead>\n",
       "  <tbody>\n",
       "    <tr>\n",
       "      <th>0</th>\n",
       "      <td>N</td>\n",
       "      <td>N</td>\n",
       "      <td>N</td>\n",
       "      <td>2</td>\n",
       "    </tr>\n",
       "    <tr>\n",
       "      <th>1</th>\n",
       "      <td>N</td>\n",
       "      <td>S</td>\n",
       "      <td>S</td>\n",
       "      <td>8</td>\n",
       "    </tr>\n",
       "    <tr>\n",
       "      <th>2</th>\n",
       "      <td>N</td>\n",
       "      <td>N</td>\n",
       "      <td>S</td>\n",
       "      <td>7</td>\n",
       "    </tr>\n",
       "    <tr>\n",
       "      <th>3</th>\n",
       "      <td>N</td>\n",
       "      <td>S</td>\n",
       "      <td>N</td>\n",
       "      <td>6</td>\n",
       "    </tr>\n",
       "    <tr>\n",
       "      <th>4</th>\n",
       "      <td>S</td>\n",
       "      <td>S</td>\n",
       "      <td>N</td>\n",
       "      <td>3</td>\n",
       "    </tr>\n",
       "    <tr>\n",
       "      <th>5</th>\n",
       "      <td>S</td>\n",
       "      <td>N</td>\n",
       "      <td>N</td>\n",
       "      <td>1</td>\n",
       "    </tr>\n",
       "    <tr>\n",
       "      <th>6</th>\n",
       "      <td>S</td>\n",
       "      <td>S</td>\n",
       "      <td>S</td>\n",
       "      <td>5</td>\n",
       "    </tr>\n",
       "    <tr>\n",
       "      <th>7</th>\n",
       "      <td>S</td>\n",
       "      <td>N</td>\n",
       "      <td>S</td>\n",
       "      <td>4</td>\n",
       "    </tr>\n",
       "  </tbody>\n",
       "</table>\n",
       "</div>"
      ],
      "text/plain": [
       "  TENTATIVA AGRAVADO CALIFICADO multiplier\n",
       "0         N        N          N          2\n",
       "1         N        S          S          8\n",
       "2         N        N          S          7\n",
       "3         N        S          N          6\n",
       "4         S        S          N          3\n",
       "5         S        N          N          1\n",
       "6         S        S          S          5\n",
       "7         S        N          S          4"
      ]
     },
     "metadata": {},
     "output_type": "display_data"
    },
    {
     "name": "stderr",
     "output_type": "stream",
     "text": [
      "/home/jovyan/work/MinJusticia_team77_DS4A_Project/app/backend/etl.py:128: SettingWithCopyWarning: \n",
      "A value is trying to be set on a copy of a slice from a DataFrame.\n",
      "Try using .loc[row_indexer,col_indexer] = value instead\n",
      "\n",
      "See the caveats in the documentation: https://pandas.pydata.org/pandas-docs/stable/user_guide/indexing.html#returning-a-view-versus-a-copy\n",
      "  data_reg['CONSUMADO_b']  = data_reg.TENTATIVA.apply(lambda x: 4 if x==\"N\" else 0)\n",
      "/home/jovyan/work/MinJusticia_team77_DS4A_Project/app/backend/etl.py:129: SettingWithCopyWarning: \n",
      "A value is trying to be set on a copy of a slice from a DataFrame.\n",
      "Try using .loc[row_indexer,col_indexer] = value instead\n",
      "\n",
      "See the caveats in the documentation: https://pandas.pydata.org/pandas-docs/stable/user_guide/indexing.html#returning-a-view-versus-a-copy\n",
      "  data_reg['TENTATIVA_b'] = data_reg.TENTATIVA.apply(lambda x: 3 if x==\"S\" else 0)\n",
      "/home/jovyan/work/MinJusticia_team77_DS4A_Project/app/backend/etl.py:130: SettingWithCopyWarning: \n",
      "A value is trying to be set on a copy of a slice from a DataFrame.\n",
      "Try using .loc[row_indexer,col_indexer] = value instead\n",
      "\n",
      "See the caveats in the documentation: https://pandas.pydata.org/pandas-docs/stable/user_guide/indexing.html#returning-a-view-versus-a-copy\n",
      "  data_reg['CALIFICADO_b'] = data_reg.CALIFICADO.apply(lambda x: 2 if x==\"S\" else 0)\n",
      "/home/jovyan/work/MinJusticia_team77_DS4A_Project/app/backend/etl.py:131: SettingWithCopyWarning: \n",
      "A value is trying to be set on a copy of a slice from a DataFrame.\n",
      "Try using .loc[row_indexer,col_indexer] = value instead\n",
      "\n",
      "See the caveats in the documentation: https://pandas.pydata.org/pandas-docs/stable/user_guide/indexing.html#returning-a-view-versus-a-copy\n",
      "  data_reg['AGRAVADO_b']  = data_reg['AGRAVADO'].apply(lambda x: 1 if x==\"S\" else 0)\n"
     ]
    }
   ],
   "source": [
    "etl = ETL(queries)\n",
    "etl.inmate_static_info(data2)\n",
    "etl.inmate_variable_info(data2)"
   ]
  },
  {
   "cell_type": "code",
   "execution_count": 8,
   "metadata": {
    "ExecuteTime": {
     "end_time": "2020-07-31T00:13:05.241132Z",
     "start_time": "2020-07-31T00:13:03.135083Z"
    },
    "code_folding": []
   },
   "outputs": [],
   "source": [
    "etl_sdhi = ETL_SDHI(queries)\n",
    "etl_sdhi.inmate_static_info(data_shdi)"
   ]
  },
  {
   "cell_type": "markdown",
   "metadata": {
    "code_folding": []
   },
   "source": [
    "### Functions"
   ]
  },
  {
   "cell_type": "markdown",
   "metadata": {
    "code_folding": []
   },
   "source": [
    "#### encodings"
   ]
  },
  {
   "cell_type": "code",
   "execution_count": 5,
   "metadata": {
    "ExecuteTime": {
     "end_time": "2020-07-31T00:18:38.359254Z",
     "start_time": "2020-07-31T00:18:38.351846Z"
    },
    "code_folding": [
     0
    ]
   },
   "outputs": [],
   "source": [
    "def encode_transform(data):\n",
    "    encoders = []\n",
    "    encoded_cols = []\n",
    "    for i in range(data.values.shape[1]):\n",
    "        le = LabelEncoder()\n",
    "        le.fit(data.values[:,i])\n",
    "        encoders.append(le)\n",
    "        encoded_cols.append(le.transform(data.values[:,i]).reshape(-1,1))\n",
    "    return np.concatenate(encoded_cols, axis = 1), encoders"
   ]
  },
  {
   "cell_type": "markdown",
   "metadata": {
    "code_folding": []
   },
   "source": [
    "#### metrics-results"
   ]
  },
  {
   "cell_type": "code",
   "execution_count": 6,
   "metadata": {
    "ExecuteTime": {
     "end_time": "2020-07-31T00:18:38.704617Z",
     "start_time": "2020-07-31T00:18:38.674869Z"
    },
    "code_folding": [
     0,
     39,
     52,
     71
    ]
   },
   "outputs": [],
   "source": [
    "def plot_confusion_matrix(labels, prediction, classes, normalize=False,\n",
    "                          title='Confusion matrix', cmap=plt.get_cmap('Blues')):\n",
    "    \"\"\" Dibuja la matriz de confusion de los resultados de clasificacion de un modelo.\n",
    "    Se puede aplicar normalizacion ajustando 'normalize=True'. \"\"\"\n",
    "\n",
    "    n = len(classes)\n",
    "    if len(prediction.shape) != 1:\n",
    "        matrix = multilabel_confusion_matrix(labels, prediction).reshape(n,4)\n",
    "    else:\n",
    "        matrix = confusion_matrix(labels, prediction)\n",
    "\n",
    "    size = 1.4 * len(classes)\n",
    "    plt.figure(figsize=(size, size))\n",
    "    plt.imshow(matrix, interpolation='nearest', cmap=cmap)\n",
    "    plt.title(title)\n",
    "    # plt.colorbar()\n",
    "    tick_marks = np.arange(len(classes))\n",
    "\n",
    "    if len(prediction.shape) != 1:\n",
    "        plt.xticks(tick_marks, ['True Negatives', 'False Negatives', 'False Positives', 'True Positives'], rotation=90)\n",
    "    else:\n",
    "        plt.xticks(tick_marks, classes, rotation=90)\n",
    "\n",
    "    plt.yticks(tick_marks, classes)\n",
    "\n",
    "    if normalize:\n",
    "        matrix = matrix.astype('float') / matrix.sum(axis=1)[:, np.newaxis]\n",
    "\n",
    "    thresh = matrix.max() / 2.\n",
    "    for i, j in itertools.product(range(matrix.shape[0]), range(matrix.shape[1])):\n",
    "        plt.text(j, i, matrix[i, j],\n",
    "                 horizontalalignment='center',\n",
    "                 color='white' if matrix[i, j] > thresh else 'black')\n",
    "\n",
    "    plt.tight_layout()\n",
    "    plt.ylabel('True label')\n",
    "    plt.xlabel('Predicted label')\n",
    "    plt.show()\n",
    "\n",
    "def classifier_results(prediction, labels, classes, show_plots):\n",
    "    \"\"\" Muestra los resultados de accuracy, presenta los resultados de precision, recall y f1-score\n",
    "    y genera la matriz de confusion para el conjunto de datos.\"\"\"\n",
    "\n",
    "    print('\\nAccuracy:\\n{0:.2f}'.format(accuracy_score(labels, prediction)))\n",
    "\n",
    "    print(classification_report(labels, prediction, digits=2, target_names = classes))\n",
    "    \n",
    "    if show_plots:\n",
    "        plot_confusion_matrix(labels, prediction, classes)\n",
    "\n",
    "    return classification_report(labels, prediction, digits=2, output_dict=True)\n",
    "\n",
    "def plot_roc(y_test, y_preds):\n",
    "    \"\"\"\n",
    "    Helper function that plots the roc curve\n",
    "    \"\"\"\n",
    "    plt.figure(figsize=(8,8))\n",
    "    for label in np.unique(y_test):\n",
    "        fpr, tpr, _ = roc_curve(y_test == label, y_preds == label)\n",
    "        roc_auc = auc(fpr, tpr)\n",
    "        plt.plot(fpr, tpr, linewidth=2, label= str(label) + ' AUC = ' + '{0:.2f}'.format(roc_auc))\n",
    "        #plt.plot(fpr, tpr, color='darkorange',lw=2, label='ROC curve (area = %0.2f)' % roc_auc)\n",
    "    plt.plot([0, 1], [0, 1], color='navy', lw=2, linestyle='--')\n",
    "    plt.xlim([0.0, 1.0])\n",
    "    plt.ylim([0.0, 1.05])\n",
    "    plt.xlabel('False Positive Rate')\n",
    "    plt.ylabel('True Positive Rate')\n",
    "    plt.title('Receiver operating characteristic ROC')\n",
    "    plt.legend(loc=\"lower right\")\n",
    "    plt.show()\n",
    "\n",
    "def plot_precision_recall(y_test, y_preds):\n",
    "    #plt.figure(figsize=(8,8))\n",
    "    #for idx, label in enumerate(classes):\n",
    "    #    roc_auc = auc(x[idx], y[idx])\n",
    "    #    plt.plot(x[idx], y[idx], linewidth=2, label=str(label) + ': ' + 'AUC = ' + '{0:.2f}'.format(roc_auc) + ' - ' +\n",
    "    #                                                               'AP = ' + '{0:.2f}'.format(ap[idx]) + ' - ' +\n",
    "    #                                                               'F1 = ' + '{0:.2f}'.format(f1[idx]))\n",
    "    #plt.xlim([0.0, 1.05])\n",
    "    #plt.ylim([0.0, 1.05])\n",
    "    #plt.xlabel('Recall')\n",
    "    #plt.ylabel('Precision')\n",
    "    #plt.title('Precision Recall Curve')\n",
    "    #plt.legend(loc=\"lower right\")\n",
    "    #plt.grid()\n",
    "    #plt.show()\n",
    "    \"\"\"\n",
    "    Helper function that plots the roc precision recall Curve\n",
    "    \"\"\"\n",
    "    plt.figure(figsize=(8,8))\n",
    "    for label in np.unique(y_test):\n",
    "        fpr, tpr, _ = precision_recall_curve(y_test == label, y_preds == label)\n",
    "        roc_auc = auc(fpr, tpr)\n",
    "        plt.plot(fpr, tpr, linewidth=2, label= str(label) + ' AUC = ' + '{0:.2f}'.format(roc_auc))\n",
    "        #plt.plot(fpr, tpr, color='darkorange',lw=2, label='ROC curve (area = %0.2f)' % roc_auc)\n",
    "    plt.plot([0, 1], [0, 1], color='navy', lw=2, linestyle='--')\n",
    "    plt.xlim([0.0, 1.0])\n",
    "    plt.ylim([0.0, 1.05])\n",
    "    plt.xlabel('Recall')\n",
    "    plt.ylabel('Precision')\n",
    "    plt.title('Precision Recall Curve')\n",
    "    plt.legend(loc=\"lower right\")\n",
    "    plt.show()"
   ]
  },
  {
   "cell_type": "code",
   "execution_count": 170,
   "metadata": {
    "ExecuteTime": {
     "end_time": "2020-07-31T02:40:53.673299Z",
     "start_time": "2020-07-31T02:40:53.663183Z"
    },
    "code_folding": []
   },
   "outputs": [],
   "source": [
    "def radar_plot(df):\n",
    "    categories = df['feature_name'].tolist()\n",
    "\n",
    "    fig = go.Figure()\n",
    "    for label in df.label.unique():\n",
    "        fig.add_trace(go.Scatterpolar(\n",
    "              #r=np.log(df[df['label'] == label]['feature_importance'] + 0.00001),\n",
    "              r = df[df['label'] == label]['feature_importance'],\n",
    "              theta=categories,\n",
    "              #fill='toself',\n",
    "              name='Cluster {}'.format(label)\n",
    "        ))\n",
    "\n",
    "    fig.update_layout(\n",
    "      polar=dict(\n",
    "        radialaxis=dict(\n",
    "          visible=True,\n",
    "          #range=[data_plot['feature_importance'].min(), data_plot['feature_importance'].max()]\n",
    "        )),\n",
    "      showlegend=False\n",
    "    )\n",
    "\n",
    "    fig.show()"
   ]
  },
  {
   "cell_type": "markdown",
   "metadata": {
    "code_folding": []
   },
   "source": [
    "#### algorithms"
   ]
  },
  {
   "cell_type": "code",
   "execution_count": 8,
   "metadata": {
    "ExecuteTime": {
     "end_time": "2020-07-31T00:18:39.207770Z",
     "start_time": "2020-07-31T00:18:39.174645Z"
    },
    "code_folding": [
     1,
     30,
     54,
     78,
     125
    ]
   },
   "outputs": [],
   "source": [
    "##### Get closest centroid unoptimized (Prediction Strength)\n",
    "def get_closest_centroid(obs, centroids):\n",
    "    '''\n",
    "    Function for retrieving the closest centroid to the given observation \n",
    "    in terms of the Euclidean distance.\n",
    "    \n",
    "    Parameters\n",
    "    ----------\n",
    "    obs : array\n",
    "        An array containing the observation to be matched to the nearest centroid\n",
    "    centroids : array\n",
    "        An array containing the centroids\n",
    "    \n",
    "    Returns\n",
    "    -------\n",
    "    min_centroid : array\n",
    "        The centroid closes to the obs \n",
    "    '''\n",
    "    min_distance = sys.float_info.max\n",
    "    min_centroid = 0\n",
    "    \n",
    "    for c in centroids:\n",
    "        dist = distance.euclidean(obs, c)\n",
    "        if dist < min_distance:\n",
    "            min_distance = dist\n",
    "            min_centroid = c\n",
    "            \n",
    "    return min_centroid\n",
    "\n",
    "##### Get closest centroid optimized v1 (Prediction Strength)\n",
    "def get_closest_centroid_optim(obs, centroids):\n",
    "    '''\n",
    "    Function for retrieving the closest centroid to the given observation \n",
    "    in terms of the Euclidean distance.\n",
    "    \n",
    "    Parameters\n",
    "    ----------\n",
    "    obs : array\n",
    "        An array containing the observation to be matched to the nearest centroid\n",
    "    centroids : array\n",
    "        An array containing the centroids\n",
    "    \n",
    "    Returns\n",
    "    -------\n",
    "    min_centroid : array\n",
    "        The centroid closes to the obs \n",
    "    '''\n",
    "    \n",
    "    distance = np.sqrt((np.square(centroids[:,np.newaxis]-obs).sum(axis=2)))\n",
    "    idx_min_distance = np.argmin(distance)\n",
    "    \n",
    "    return centroids[idx_min_distance]\n",
    "\n",
    "##### Get closest centroid optimized v2 (Prediction Strength)\n",
    "def get_closest_centroid_optim_vectorized(obs, centroids):\n",
    "    '''\n",
    "    Function for retrieving the closest centroid to the given observation \n",
    "    in terms of the Euclidean distance.\n",
    "    \n",
    "    Parameters\n",
    "    ----------\n",
    "    obs : array\n",
    "        An array containing the observation to be matched to the nearest centroid\n",
    "    centroids : array\n",
    "        An array containing the centroids\n",
    "    \n",
    "    Returns\n",
    "    -------\n",
    "    min_centroid : array\n",
    "        The centroid closes to the obs \n",
    "    '''\n",
    "    \n",
    "    distance = np.sqrt((np.square(centroids[:,np.newaxis]-obs).sum(axis=2)))\n",
    "    idx_min_distance = np.argmin(distance, axis = 0)\n",
    "    \n",
    "    return centroids[idx_min_distance]\n",
    "\n",
    "##### Get prediction strength unoptimized (Prediction Strength)\n",
    "def get_prediction_strength(k, train_centroids, x_test, test_labels):\n",
    "    '''\n",
    "    Function for calculating the prediction strength of clustering\n",
    "    \n",
    "    Parameters\n",
    "    ----------\n",
    "    k : int\n",
    "        The number of clusters\n",
    "    train_centroids : array\n",
    "        Centroids from the clustering on the training set\n",
    "    x_test : array\n",
    "        Test set observations\n",
    "    test_labels : array\n",
    "        Labels predicted for the test set\n",
    "        \n",
    "    Returns\n",
    "    -------\n",
    "    prediction_strength : float\n",
    "        Calculated prediction strength\n",
    "    '''\n",
    "    n_test = len(x_test)\n",
    "    \n",
    "    # populate the co-membership matrix\n",
    "    D = np.zeros(shape=(n_test, n_test))\n",
    "    for x1, l1, c1 in zip(x_test, test_labels, list(range(n_test))):\n",
    "        for x2, l2, c2 in zip(x_test, test_labels, list(range(n_test))):\n",
    "            if tuple(x1) != tuple(x2):\n",
    "                if tuple(get_closest_centroid(x1, train_centroids)) == tuple(get_closest_centroid(x2, train_centroids)):\n",
    "                    D[c1,c2] = 1.0\n",
    "    \n",
    "    # calculate the prediction strengths for each cluster\n",
    "    ss = []\n",
    "    for j in range(k):\n",
    "        s = 0\n",
    "        examples_j = x_test[test_labels == j, :].tolist()\n",
    "        n_examples_j = len(examples_j)\n",
    "        for x1, l1, c1 in zip(x_test, test_labels, list(range(n_test))):\n",
    "            for x2, l2, c2 in zip(x_test, test_labels, list(range(n_test))):\n",
    "                if tuple(x1) != tuple(x2) and l1 == l2 and l1 == j:\n",
    "                    s += D[c1,c2]\n",
    "        ss.append(s / (n_examples_j * (n_examples_j - 1))) \n",
    "\n",
    "    prediction_strength = min(ss)\n",
    "\n",
    "    return prediction_strength\n",
    "\n",
    "##### Get prediction strength optimized (Prediction Strength)\n",
    "def get_prediction_strength_optim(k, train_centroids, x_test, test_labels):\n",
    "    '''\n",
    "    Function for calculating the prediction strength of clustering\n",
    "    \n",
    "    Parameters\n",
    "    ----------\n",
    "    k : int\n",
    "        The number of clusters\n",
    "    train_centroids : array\n",
    "        Centroids from the clustering on the training set\n",
    "    x_test : array\n",
    "        Test set observations\n",
    "    test_labels : array\n",
    "        Labels predicted for the test set\n",
    "        \n",
    "    Returns\n",
    "    -------\n",
    "    prediction_strength : float\n",
    "        Calculated prediction strength\n",
    "    '''\n",
    "    closest_cent = get_closest_centroid_optim_vectorized(x_test, train_centroids)\n",
    "    \n",
    "    co_membership = np.zeros((len(closest_cent), len(closest_cent)))\n",
    "    for i in range(1, len(closest_cent)):\n",
    "        diag = (closest_cent == np.roll(closest_cent, shift = i, axis = 0)).all(1)[i:]\n",
    "        co_membership[range(i,len(closest_cent)),range(len(diag))] = diag\n",
    "    co_membership = co_membership + co_membership.T - np.diag(np.diag(co_membership))\n",
    "    \n",
    "    # calculate the prediction strengths for each cluster\n",
    "    n_test = len(x_test)\n",
    "    ss = []\n",
    "    for j in range(k):\n",
    "        examples_j = x_test[test_labels == j, :].tolist()\n",
    "        n_examples_j = len(examples_j)\n",
    "        test_labels_co_mem = np.zeros((len(test_labels), len(test_labels)))\n",
    "        for i in range(len(test_labels)):\n",
    "            diag = (test_labels == np.roll(test_labels, shift = i)) & (test_labels == j)\n",
    "            diag = diag[i:]\n",
    "            test_labels_co_mem[range(i,len(test_labels)),range(len(diag))] = diag\n",
    "        test_labels_co_mem = test_labels_co_mem + test_labels_co_mem.T - np.diag(np.diag(test_labels_co_mem))\n",
    "        s = (co_membership * test_labels_co_mem).sum()\n",
    "        ss.append(s / (n_examples_j * (n_examples_j - 1))) \n",
    "\n",
    "    prediction_strength = min(ss)\n",
    "\n",
    "    return prediction_strength"
   ]
  },
  {
   "cell_type": "markdown",
   "metadata": {
    "code_folding": []
   },
   "source": [
    "### Encode"
   ]
  },
  {
   "cell_type": "code",
   "execution_count": 9,
   "metadata": {
    "ExecuteTime": {
     "end_time": "2020-07-31T00:18:39.812072Z",
     "start_time": "2020-07-31T00:18:39.799337Z"
    },
    "code_folding": []
   },
   "outputs": [],
   "source": [
    "encoding = Encoding(queries)"
   ]
  },
  {
   "cell_type": "code",
   "execution_count": 10,
   "metadata": {
    "ExecuteTime": {
     "end_time": "2020-07-31T00:18:45.172316Z",
     "start_time": "2020-07-31T00:18:40.218487Z"
    }
   },
   "outputs": [],
   "source": [
    "inmate_sup = encoding.get_data('encoding')"
   ]
  },
  {
   "cell_type": "code",
   "execution_count": 11,
   "metadata": {
    "ExecuteTime": {
     "end_time": "2020-07-31T00:18:46.585029Z",
     "start_time": "2020-07-31T00:18:45.174650Z"
    }
   },
   "outputs": [],
   "source": [
    "data_encoded = encoding.one_hot(inmate_sup)"
   ]
  },
  {
   "cell_type": "code",
   "execution_count": 12,
   "metadata": {
    "ExecuteTime": {
     "end_time": "2020-07-31T00:18:46.597987Z",
     "start_time": "2020-07-31T00:18:46.588175Z"
    }
   },
   "outputs": [
    {
     "data": {
      "text/plain": [
       "(103290, 46)"
      ]
     },
     "execution_count": 12,
     "metadata": {},
     "output_type": "execute_result"
    }
   ],
   "source": [
    "data_encoded.shape"
   ]
  },
  {
   "cell_type": "markdown",
   "metadata": {
    "code_folding": []
   },
   "source": [
    "#### Evaluating remaining Nans"
   ]
  },
  {
   "cell_type": "markdown",
   "metadata": {},
   "source": [
    "Im gonna delete the out dates"
   ]
  },
  {
   "cell_type": "code",
   "execution_count": 13,
   "metadata": {
    "ExecuteTime": {
     "end_time": "2020-07-31T00:18:46.685475Z",
     "start_time": "2020-07-31T00:18:46.601930Z"
    },
    "code_folding": [],
    "scrolled": true
   },
   "outputs": [
    {
     "data": {
      "text/html": [
       "<div>\n",
       "<style scoped>\n",
       "    .dataframe tbody tr th:only-of-type {\n",
       "        vertical-align: middle;\n",
       "    }\n",
       "\n",
       "    .dataframe tbody tr th {\n",
       "        vertical-align: top;\n",
       "    }\n",
       "\n",
       "    .dataframe thead th {\n",
       "        text-align: right;\n",
       "    }\n",
       "</style>\n",
       "<table border=\"1\" class=\"dataframe\">\n",
       "  <thead>\n",
       "    <tr style=\"text-align: right;\">\n",
       "      <th></th>\n",
       "      <th>counts</th>\n",
       "    </tr>\n",
       "  </thead>\n",
       "  <tbody>\n",
       "    <tr>\n",
       "      <th>fecha_salida</th>\n",
       "      <td>30304</td>\n",
       "    </tr>\n",
       "    <tr>\n",
       "      <th>mean_severity</th>\n",
       "      <td>27934</td>\n",
       "    </tr>\n",
       "    <tr>\n",
       "      <th>max_severity</th>\n",
       "      <td>27934</td>\n",
       "    </tr>\n",
       "    <tr>\n",
       "      <th>pop</th>\n",
       "      <td>16513</td>\n",
       "    </tr>\n",
       "    <tr>\n",
       "      <th>msch</th>\n",
       "      <td>16513</td>\n",
       "    </tr>\n",
       "    <tr>\n",
       "      <th>esch</th>\n",
       "      <td>16513</td>\n",
       "    </tr>\n",
       "    <tr>\n",
       "      <th>gnic</th>\n",
       "      <td>16513</td>\n",
       "    </tr>\n",
       "    <tr>\n",
       "      <th>lifexp</th>\n",
       "      <td>16513</td>\n",
       "    </tr>\n",
       "    <tr>\n",
       "      <th>edindex</th>\n",
       "      <td>16513</td>\n",
       "    </tr>\n",
       "    <tr>\n",
       "      <th>healthindex</th>\n",
       "      <td>16513</td>\n",
       "    </tr>\n",
       "    <tr>\n",
       "      <th>shdi</th>\n",
       "      <td>16513</td>\n",
       "    </tr>\n",
       "    <tr>\n",
       "      <th>incindex</th>\n",
       "      <td>16513</td>\n",
       "    </tr>\n",
       "    <tr>\n",
       "      <th>edad</th>\n",
       "      <td>0</td>\n",
       "    </tr>\n",
       "    <tr>\n",
       "      <th>delito_LESIONES PERSONALES</th>\n",
       "      <td>0</td>\n",
       "    </tr>\n",
       "    <tr>\n",
       "      <th>delito_EXTORSION</th>\n",
       "      <td>0</td>\n",
       "    </tr>\n",
       "    <tr>\n",
       "      <th>delito_FABRICACION  TRAFICO Y PORTE DE ARMAS Y MUNICIONES DE USO PRIVATIVO DE LAS FUERZAS ARMADAS</th>\n",
       "      <td>0</td>\n",
       "    </tr>\n",
       "    <tr>\n",
       "      <th>delito_FABRICACION TRAFICO Y PORTE DE ARMAS DE FUEGO O MUNICIONES</th>\n",
       "      <td>0</td>\n",
       "    </tr>\n",
       "    <tr>\n",
       "      <th>delito_FABRICACIÓN, TRÁFICO, PORTE O TENENCIA DE ARMAS DE FUEGO, ACCESORIOS, PARTES O MUNICIONES</th>\n",
       "      <td>0</td>\n",
       "    </tr>\n",
       "    <tr>\n",
       "      <th>delito_HOMICIDIO</th>\n",
       "      <td>0</td>\n",
       "    </tr>\n",
       "    <tr>\n",
       "      <th>delito_HURTO</th>\n",
       "      <td>0</td>\n",
       "    </tr>\n",
       "    <tr>\n",
       "      <th>delito_OTRO</th>\n",
       "      <td>0</td>\n",
       "    </tr>\n",
       "    <tr>\n",
       "      <th>actividades_estudio</th>\n",
       "      <td>0</td>\n",
       "    </tr>\n",
       "    <tr>\n",
       "      <th>delito_TRAFICO FABRICACION O PORTE DE ESTUPEFACIENTES</th>\n",
       "      <td>0</td>\n",
       "    </tr>\n",
       "    <tr>\n",
       "      <th>delito_VIOLENCIA INTRAFAMILIAR</th>\n",
       "      <td>0</td>\n",
       "    </tr>\n",
       "    <tr>\n",
       "      <th>tentativa_2</th>\n",
       "      <td>0</td>\n",
       "    </tr>\n",
       "    <tr>\n",
       "      <th>agravado_2</th>\n",
       "      <td>0</td>\n",
       "    </tr>\n",
       "    <tr>\n",
       "      <th>calificado_2</th>\n",
       "      <td>0</td>\n",
       "    </tr>\n",
       "    <tr>\n",
       "      <th>nacionalidad</th>\n",
       "      <td>0</td>\n",
       "    </tr>\n",
       "    <tr>\n",
       "      <th>delito_CONCIERTO PARA DELINQUIR</th>\n",
       "      <td>0</td>\n",
       "    </tr>\n",
       "    <tr>\n",
       "      <th>estado_civil</th>\n",
       "      <td>0</td>\n",
       "    </tr>\n",
       "    <tr>\n",
       "      <th>nivel_educativo</th>\n",
       "      <td>0</td>\n",
       "    </tr>\n",
       "    <tr>\n",
       "      <th>reconocimiento_etnico</th>\n",
       "      <td>0</td>\n",
       "    </tr>\n",
       "    <tr>\n",
       "      <th>diversidad_sexual</th>\n",
       "      <td>0</td>\n",
       "    </tr>\n",
       "    <tr>\n",
       "      <th>extranjero</th>\n",
       "      <td>0</td>\n",
       "    </tr>\n",
       "    <tr>\n",
       "      <th>estado_ingreso</th>\n",
       "      <td>0</td>\n",
       "    </tr>\n",
       "    <tr>\n",
       "      <th>genero</th>\n",
       "      <td>0</td>\n",
       "    </tr>\n",
       "    <tr>\n",
       "      <th>fecha_ingreso</th>\n",
       "      <td>0</td>\n",
       "    </tr>\n",
       "    <tr>\n",
       "      <th>establecimiento</th>\n",
       "      <td>0</td>\n",
       "    </tr>\n",
       "    <tr>\n",
       "      <th>adulto_mayor</th>\n",
       "      <td>0</td>\n",
       "    </tr>\n",
       "    <tr>\n",
       "      <th>discapacidad</th>\n",
       "      <td>0</td>\n",
       "    </tr>\n",
       "    <tr>\n",
       "      <th>madre_lactante</th>\n",
       "      <td>0</td>\n",
       "    </tr>\n",
       "    <tr>\n",
       "      <th>madre_gestante</th>\n",
       "      <td>0</td>\n",
       "    </tr>\n",
       "    <tr>\n",
       "      <th>hijos_menores</th>\n",
       "      <td>0</td>\n",
       "    </tr>\n",
       "    <tr>\n",
       "      <th>actividades_enseñanza</th>\n",
       "      <td>0</td>\n",
       "    </tr>\n",
       "    <tr>\n",
       "      <th>actividades_trabajo</th>\n",
       "      <td>0</td>\n",
       "    </tr>\n",
       "    <tr>\n",
       "      <th>internoen</th>\n",
       "      <td>0</td>\n",
       "    </tr>\n",
       "  </tbody>\n",
       "</table>\n",
       "</div>"
      ],
      "text/plain": [
       "                                                    counts\n",
       "fecha_salida                                         30304\n",
       "mean_severity                                        27934\n",
       "max_severity                                         27934\n",
       "pop                                                  16513\n",
       "msch                                                 16513\n",
       "esch                                                 16513\n",
       "gnic                                                 16513\n",
       "lifexp                                               16513\n",
       "edindex                                              16513\n",
       "healthindex                                          16513\n",
       "shdi                                                 16513\n",
       "incindex                                             16513\n",
       "edad                                                     0\n",
       "delito_LESIONES PERSONALES                               0\n",
       "delito_EXTORSION                                         0\n",
       "delito_FABRICACION  TRAFICO Y PORTE DE ARMAS Y ...       0\n",
       "delito_FABRICACION TRAFICO Y PORTE DE ARMAS DE ...       0\n",
       "delito_FABRICACIÓN, TRÁFICO, PORTE O TENENCIA D...       0\n",
       "delito_HOMICIDIO                                         0\n",
       "delito_HURTO                                             0\n",
       "delito_OTRO                                              0\n",
       "actividades_estudio                                      0\n",
       "delito_TRAFICO FABRICACION O PORTE DE ESTUPEFAC...       0\n",
       "delito_VIOLENCIA INTRAFAMILIAR                           0\n",
       "tentativa_2                                              0\n",
       "agravado_2                                               0\n",
       "calificado_2                                             0\n",
       "nacionalidad                                             0\n",
       "delito_CONCIERTO PARA DELINQUIR                          0\n",
       "estado_civil                                             0\n",
       "nivel_educativo                                          0\n",
       "reconocimiento_etnico                                    0\n",
       "diversidad_sexual                                        0\n",
       "extranjero                                               0\n",
       "estado_ingreso                                           0\n",
       "genero                                                   0\n",
       "fecha_ingreso                                            0\n",
       "establecimiento                                          0\n",
       "adulto_mayor                                             0\n",
       "discapacidad                                             0\n",
       "madre_lactante                                           0\n",
       "madre_gestante                                           0\n",
       "hijos_menores                                            0\n",
       "actividades_enseñanza                                    0\n",
       "actividades_trabajo                                      0\n",
       "internoen                                                0"
      ]
     },
     "execution_count": 13,
     "metadata": {},
     "output_type": "execute_result"
    }
   ],
   "source": [
    "data_encoded.isnull().sum().to_frame().rename(columns={0:'counts'}).sort_values(by='counts', ascending = False)"
   ]
  },
  {
   "cell_type": "code",
   "execution_count": 14,
   "metadata": {
    "ExecuteTime": {
     "end_time": "2020-07-31T00:18:46.707776Z",
     "start_time": "2020-07-31T00:18:46.687518Z"
    }
   },
   "outputs": [
    {
     "data": {
      "text/plain": [
       "(103290, 34)"
      ]
     },
     "execution_count": 14,
     "metadata": {},
     "output_type": "execute_result"
    }
   ],
   "source": [
    "data_encoded = data_encoded[data_encoded.columns[~data_encoded.columns \\\n",
    "                                                 .isin(['fecha_salida','mean_severity','max_severity',\n",
    "                                                        'pop','msch','esch','gnic','lifexp','edindex',\n",
    "                                                        'shdi','incindex','healthindex'])]]\n",
    "data_encoded.shape"
   ]
  },
  {
   "cell_type": "markdown",
   "metadata": {},
   "source": [
    "#### Deleting not important features for the analysis"
   ]
  },
  {
   "cell_type": "code",
   "execution_count": 15,
   "metadata": {
    "ExecuteTime": {
     "end_time": "2020-07-31T00:18:46.718689Z",
     "start_time": "2020-07-31T00:18:46.710028Z"
    }
   },
   "outputs": [],
   "source": [
    "identity = data_encoded[['internoen','fecha_ingreso']]"
   ]
  },
  {
   "cell_type": "code",
   "execution_count": 16,
   "metadata": {
    "ExecuteTime": {
     "end_time": "2020-07-31T00:18:46.735444Z",
     "start_time": "2020-07-31T00:18:46.721538Z"
    }
   },
   "outputs": [
    {
     "data": {
      "text/plain": [
       "(103290, 32)"
      ]
     },
     "execution_count": 16,
     "metadata": {},
     "output_type": "execute_result"
    }
   ],
   "source": [
    "data_encoded = data_encoded[data_encoded.columns[~data_encoded.columns \\\n",
    "                                                 .isin(['internoen',\n",
    "                                                        'fecha_ingreso',\n",
    "                                                        'fecha_captura'])]]\n",
    "data_encoded.shape"
   ]
  },
  {
   "cell_type": "markdown",
   "metadata": {},
   "source": [
    "#### Fixing non-ASCII characters in colums names."
   ]
  },
  {
   "cell_type": "code",
   "execution_count": 17,
   "metadata": {
    "ExecuteTime": {
     "end_time": "2020-07-31T00:18:46.749964Z",
     "start_time": "2020-07-31T00:18:46.738120Z"
    }
   },
   "outputs": [],
   "source": [
    "data_encoded = data_encoded.rename(columns = lambda x:re.sub('[^A-Za-z0-9_]+', '', x))"
   ]
  },
  {
   "cell_type": "markdown",
   "metadata": {},
   "source": [
    "#### Label Encoder"
   ]
  },
  {
   "cell_type": "code",
   "execution_count": 18,
   "metadata": {
    "ExecuteTime": {
     "end_time": "2020-07-31T00:18:47.067387Z",
     "start_time": "2020-07-31T00:18:46.752285Z"
    }
   },
   "outputs": [
    {
     "data": {
      "text/plain": [
       "(103290, 32)"
      ]
     },
     "execution_count": 18,
     "metadata": {},
     "output_type": "execute_result"
    }
   ],
   "source": [
    "data_encoded_mat, encoders = encode_transform(data_encoded)\n",
    "data_encoded_mat.shape"
   ]
  },
  {
   "cell_type": "markdown",
   "metadata": {},
   "source": [
    "### Supervised Model to check feature importances"
   ]
  },
  {
   "cell_type": "markdown",
   "metadata": {},
   "source": [
    "#### Labels from training GMM with optimal number"
   ]
  },
  {
   "cell_type": "code",
   "execution_count": 23,
   "metadata": {
    "ExecuteTime": {
     "end_time": "2020-07-31T00:20:36.159572Z",
     "start_time": "2020-07-31T00:20:36.057622Z"
    }
   },
   "outputs": [
    {
     "data": {
      "text/html": [
       "<div>\n",
       "<style scoped>\n",
       "    .dataframe tbody tr th:only-of-type {\n",
       "        vertical-align: middle;\n",
       "    }\n",
       "\n",
       "    .dataframe tbody tr th {\n",
       "        vertical-align: top;\n",
       "    }\n",
       "\n",
       "    .dataframe thead th {\n",
       "        text-align: right;\n",
       "    }\n",
       "</style>\n",
       "<table border=\"1\" class=\"dataframe\">\n",
       "  <thead>\n",
       "    <tr style=\"text-align: right;\">\n",
       "      <th></th>\n",
       "      <th>LABEL</th>\n",
       "    </tr>\n",
       "  </thead>\n",
       "  <tbody>\n",
       "    <tr>\n",
       "      <th>4</th>\n",
       "      <td>36692</td>\n",
       "    </tr>\n",
       "    <tr>\n",
       "      <th>3</th>\n",
       "      <td>34391</td>\n",
       "    </tr>\n",
       "    <tr>\n",
       "      <th>1</th>\n",
       "      <td>15722</td>\n",
       "    </tr>\n",
       "    <tr>\n",
       "      <th>2</th>\n",
       "      <td>10112</td>\n",
       "    </tr>\n",
       "    <tr>\n",
       "      <th>0</th>\n",
       "      <td>6299</td>\n",
       "    </tr>\n",
       "  </tbody>\n",
       "</table>\n",
       "</div>"
      ],
      "text/plain": [
       "   LABEL\n",
       "4  36692\n",
       "3  34391\n",
       "1  15722\n",
       "2  10112\n",
       "0   6299"
      ]
     },
     "execution_count": 23,
     "metadata": {},
     "output_type": "execute_result"
    }
   ],
   "source": [
    "cluster_labels = pd.read_csv('./data/cluster_labels.csv')\n",
    "cluster_labels['LABEL'].value_counts().to_frame()"
   ]
  },
  {
   "cell_type": "markdown",
   "metadata": {},
   "source": [
    "#### Data Spliting"
   ]
  },
  {
   "cell_type": "code",
   "execution_count": 107,
   "metadata": {
    "ExecuteTime": {
     "end_time": "2020-07-31T02:19:30.228491Z",
     "start_time": "2020-07-31T02:19:28.308162Z"
    }
   },
   "outputs": [],
   "source": [
    "unique_indices = identity[['internoen','fecha_ingreso']].rename(columns = {'internoen':'INTERNOEN',\n",
    "                                                                           'fecha_ingreso': 'FECHA_INGRESO'})\n",
    "#unique_indices = unique_indices.sort_values(by='INTERNOEN')\n",
    "unique_indices['FECHA_INGRESO'] = unique_indices['FECHA_INGRESO'].astype(str)\n",
    "unique_indices = unique_indices[unique_indices[['INTERNOEN', 'FECHA_INGRESO']].apply(tuple, axis=1) \\\n",
    "                       .isin(cluster_labels[['INTERNOEN','FECHA_INGRESO']].apply(tuple, axis=1).tolist())]\n",
    "#unique_indices = unique_indices.reset_index(drop = True)\n",
    "unique_inmate = unique_indices['INTERNOEN'].unique()"
   ]
  },
  {
   "cell_type": "code",
   "execution_count": 118,
   "metadata": {
    "ExecuteTime": {
     "end_time": "2020-07-31T02:21:41.266818Z",
     "start_time": "2020-07-31T02:21:41.253428Z"
    }
   },
   "outputs": [],
   "source": [
    "inmate_train, inmate_test = train_test_split(unique_inmate, \n",
    "                                             test_size=0.2, \n",
    "                                             shuffle=True, \n",
    "                                             random_state=42)"
   ]
  },
  {
   "cell_type": "code",
   "execution_count": 126,
   "metadata": {
    "ExecuteTime": {
     "end_time": "2020-07-31T02:24:22.874069Z",
     "start_time": "2020-07-31T02:24:22.747129Z"
    }
   },
   "outputs": [],
   "source": [
    "index_train_X = unique_indices[unique_indices['INTERNOEN'].isin(inmate_train)].index.values\n",
    "index_test_X = unique_indices[unique_indices['INTERNOEN'].isin(inmate_test)].index.values\n",
    "index_train_Y = cluster_labels[cluster_labels['INTERNOEN'].isin(inmate_train)].index.values\n",
    "index_test_Y = cluster_labels[cluster_labels['INTERNOEN'].isin(inmate_test)].index.values"
   ]
  },
  {
   "cell_type": "code",
   "execution_count": 127,
   "metadata": {
    "ExecuteTime": {
     "end_time": "2020-07-31T02:24:33.048111Z",
     "start_time": "2020-07-31T02:24:33.030805Z"
    }
   },
   "outputs": [],
   "source": [
    "# train/test split\n",
    "X_train = data_encoded_mat[index_train_X]\n",
    "X_test = data_encoded_mat[index_test_X]\n",
    "Y_train = cluster_labels['LABEL'][index_train_Y].values\n",
    "Y_test = cluster_labels['LABEL'][index_test_Y].values"
   ]
  },
  {
   "cell_type": "code",
   "execution_count": 131,
   "metadata": {
    "ExecuteTime": {
     "end_time": "2020-07-31T02:25:11.087602Z",
     "start_time": "2020-07-31T02:25:11.079504Z"
    }
   },
   "outputs": [
    {
     "data": {
      "text/plain": [
       "((82555, 32), (20661, 32), (82555,), (20661,))"
      ]
     },
     "execution_count": 131,
     "metadata": {},
     "output_type": "execute_result"
    }
   ],
   "source": [
    "X_train.shape, X_test.shape, Y_train.shape, Y_test.shape"
   ]
  },
  {
   "cell_type": "markdown",
   "metadata": {},
   "source": [
    "#### LightGBM Classifier"
   ]
  },
  {
   "cell_type": "markdown",
   "metadata": {},
   "source": [
    "##### Hyperparameter Search"
   ]
  },
  {
   "cell_type": "code",
   "execution_count": 153,
   "metadata": {
    "ExecuteTime": {
     "end_time": "2020-07-31T02:31:04.201540Z",
     "start_time": "2020-07-31T02:31:04.196077Z"
    },
    "code_folding": []
   },
   "outputs": [],
   "source": [
    "model = lgb.LGBMClassifier(objective = \"multiclassova\",\n",
    "                           num_class = 5,\n",
    "                           metric = [\"multi_error\", \"multi_logloss\"],\n",
    "                           is_unbalance = True,\n",
    "                           #scale_pos_weight = sum(Y_train == 0)/sum(Y_train == 1),\n",
    "                           importance_type = 'gain'\n",
    "                          )"
   ]
  },
  {
   "cell_type": "code",
   "execution_count": 154,
   "metadata": {
    "ExecuteTime": {
     "end_time": "2020-07-31T02:33:00.523601Z",
     "start_time": "2020-07-31T02:31:04.706141Z"
    }
   },
   "outputs": [
    {
     "name": "stderr",
     "output_type": "stream",
     "text": [
      "/opt/conda/lib/python3.7/site-packages/lightgbm/engine.py:148: UserWarning: Found `num_iterations` in params. Will use it instead of argument\n",
      "  warnings.warn(\"Found `{}` in params. Will use it instead of argument\".format(alias))\n",
      "/opt/conda/lib/python3.7/site-packages/lightgbm/engine.py:148: UserWarning: Found `num_iterations` in params. Will use it instead of argument\n",
      "  warnings.warn(\"Found `{}` in params. Will use it instead of argument\".format(alias))\n",
      "/opt/conda/lib/python3.7/site-packages/lightgbm/engine.py:148: UserWarning: Found `num_iterations` in params. Will use it instead of argument\n",
      "  warnings.warn(\"Found `{}` in params. Will use it instead of argument\".format(alias))\n",
      "/opt/conda/lib/python3.7/site-packages/lightgbm/engine.py:148: UserWarning: Found `num_iterations` in params. Will use it instead of argument\n",
      "  warnings.warn(\"Found `{}` in params. Will use it instead of argument\".format(alias))\n",
      "/opt/conda/lib/python3.7/site-packages/lightgbm/engine.py:148: UserWarning: Found `num_iterations` in params. Will use it instead of argument\n",
      "  warnings.warn(\"Found `{}` in params. Will use it instead of argument\".format(alias))\n",
      "/opt/conda/lib/python3.7/site-packages/lightgbm/engine.py:148: UserWarning: Found `num_iterations` in params. Will use it instead of argument\n",
      "  warnings.warn(\"Found `{}` in params. Will use it instead of argument\".format(alias))\n",
      "/opt/conda/lib/python3.7/site-packages/lightgbm/engine.py:148: UserWarning: Found `num_iterations` in params. Will use it instead of argument\n",
      "  warnings.warn(\"Found `{}` in params. Will use it instead of argument\".format(alias))\n",
      "/opt/conda/lib/python3.7/site-packages/lightgbm/engine.py:148: UserWarning: Found `num_iterations` in params. Will use it instead of argument\n",
      "  warnings.warn(\"Found `{}` in params. Will use it instead of argument\".format(alias))\n",
      "/opt/conda/lib/python3.7/site-packages/lightgbm/engine.py:148: UserWarning: Found `num_iterations` in params. Will use it instead of argument\n",
      "  warnings.warn(\"Found `{}` in params. Will use it instead of argument\".format(alias))\n",
      "/opt/conda/lib/python3.7/site-packages/lightgbm/engine.py:148: UserWarning: Found `num_iterations` in params. Will use it instead of argument\n",
      "  warnings.warn(\"Found `{}` in params. Will use it instead of argument\".format(alias))\n",
      "/opt/conda/lib/python3.7/site-packages/lightgbm/engine.py:148: UserWarning: Found `num_iterations` in params. Will use it instead of argument\n",
      "  warnings.warn(\"Found `{}` in params. Will use it instead of argument\".format(alias))\n",
      "/opt/conda/lib/python3.7/site-packages/lightgbm/engine.py:148: UserWarning: Found `num_iterations` in params. Will use it instead of argument\n",
      "  warnings.warn(\"Found `{}` in params. Will use it instead of argument\".format(alias))\n",
      "/opt/conda/lib/python3.7/site-packages/lightgbm/engine.py:148: UserWarning: Found `num_iterations` in params. Will use it instead of argument\n",
      "  warnings.warn(\"Found `{}` in params. Will use it instead of argument\".format(alias))\n",
      "/opt/conda/lib/python3.7/site-packages/lightgbm/engine.py:148: UserWarning: Found `num_iterations` in params. Will use it instead of argument\n",
      "  warnings.warn(\"Found `{}` in params. Will use it instead of argument\".format(alias))\n",
      "/opt/conda/lib/python3.7/site-packages/lightgbm/engine.py:148: UserWarning: Found `num_iterations` in params. Will use it instead of argument\n",
      "  warnings.warn(\"Found `{}` in params. Will use it instead of argument\".format(alias))\n",
      "/opt/conda/lib/python3.7/site-packages/lightgbm/engine.py:148: UserWarning: Found `num_iterations` in params. Will use it instead of argument\n",
      "  warnings.warn(\"Found `{}` in params. Will use it instead of argument\".format(alias))\n",
      "/opt/conda/lib/python3.7/site-packages/lightgbm/engine.py:148: UserWarning: Found `num_iterations` in params. Will use it instead of argument\n",
      "  warnings.warn(\"Found `{}` in params. Will use it instead of argument\".format(alias))\n",
      "/opt/conda/lib/python3.7/site-packages/lightgbm/engine.py:148: UserWarning: Found `num_iterations` in params. Will use it instead of argument\n",
      "  warnings.warn(\"Found `{}` in params. Will use it instead of argument\".format(alias))\n",
      "/opt/conda/lib/python3.7/site-packages/lightgbm/engine.py:148: UserWarning: Found `num_iterations` in params. Will use it instead of argument\n",
      "  warnings.warn(\"Found `{}` in params. Will use it instead of argument\".format(alias))\n",
      "/opt/conda/lib/python3.7/site-packages/lightgbm/engine.py:148: UserWarning: Found `num_iterations` in params. Will use it instead of argument\n",
      "  warnings.warn(\"Found `{}` in params. Will use it instead of argument\".format(alias))\n",
      "/opt/conda/lib/python3.7/site-packages/lightgbm/engine.py:148: UserWarning: Found `num_iterations` in params. Will use it instead of argument\n",
      "  warnings.warn(\"Found `{}` in params. Will use it instead of argument\".format(alias))\n",
      "/opt/conda/lib/python3.7/site-packages/lightgbm/engine.py:148: UserWarning: Found `num_iterations` in params. Will use it instead of argument\n",
      "  warnings.warn(\"Found `{}` in params. Will use it instead of argument\".format(alias))\n",
      "/opt/conda/lib/python3.7/site-packages/lightgbm/engine.py:148: UserWarning: Found `num_iterations` in params. Will use it instead of argument\n",
      "  warnings.warn(\"Found `{}` in params. Will use it instead of argument\".format(alias))\n",
      "/opt/conda/lib/python3.7/site-packages/lightgbm/engine.py:148: UserWarning: Found `num_iterations` in params. Will use it instead of argument\n",
      "  warnings.warn(\"Found `{}` in params. Will use it instead of argument\".format(alias))\n",
      "/opt/conda/lib/python3.7/site-packages/lightgbm/engine.py:148: UserWarning: Found `num_iterations` in params. Will use it instead of argument\n",
      "  warnings.warn(\"Found `{}` in params. Will use it instead of argument\".format(alias))\n",
      "/opt/conda/lib/python3.7/site-packages/lightgbm/engine.py:148: UserWarning: Found `num_iterations` in params. Will use it instead of argument\n",
      "  warnings.warn(\"Found `{}` in params. Will use it instead of argument\".format(alias))\n",
      "/opt/conda/lib/python3.7/site-packages/lightgbm/engine.py:148: UserWarning: Found `num_iterations` in params. Will use it instead of argument\n",
      "  warnings.warn(\"Found `{}` in params. Will use it instead of argument\".format(alias))\n",
      "/opt/conda/lib/python3.7/site-packages/lightgbm/engine.py:148: UserWarning: Found `num_iterations` in params. Will use it instead of argument\n",
      "  warnings.warn(\"Found `{}` in params. Will use it instead of argument\".format(alias))\n",
      "/opt/conda/lib/python3.7/site-packages/lightgbm/engine.py:148: UserWarning: Found `num_iterations` in params. Will use it instead of argument\n",
      "  warnings.warn(\"Found `{}` in params. Will use it instead of argument\".format(alias))\n",
      "/opt/conda/lib/python3.7/site-packages/lightgbm/engine.py:148: UserWarning: Found `num_iterations` in params. Will use it instead of argument\n",
      "  warnings.warn(\"Found `{}` in params. Will use it instead of argument\".format(alias))\n",
      "/opt/conda/lib/python3.7/site-packages/lightgbm/engine.py:148: UserWarning: Found `num_iterations` in params. Will use it instead of argument\n",
      "  warnings.warn(\"Found `{}` in params. Will use it instead of argument\".format(alias))\n",
      "/opt/conda/lib/python3.7/site-packages/lightgbm/engine.py:148: UserWarning: Found `num_iterations` in params. Will use it instead of argument\n",
      "  warnings.warn(\"Found `{}` in params. Will use it instead of argument\".format(alias))\n",
      "/opt/conda/lib/python3.7/site-packages/lightgbm/engine.py:148: UserWarning: Found `num_iterations` in params. Will use it instead of argument\n",
      "  warnings.warn(\"Found `{}` in params. Will use it instead of argument\".format(alias))\n",
      "/opt/conda/lib/python3.7/site-packages/lightgbm/engine.py:148: UserWarning: Found `num_iterations` in params. Will use it instead of argument\n",
      "  warnings.warn(\"Found `{}` in params. Will use it instead of argument\".format(alias))\n",
      "/opt/conda/lib/python3.7/site-packages/lightgbm/engine.py:148: UserWarning: Found `num_iterations` in params. Will use it instead of argument\n",
      "  warnings.warn(\"Found `{}` in params. Will use it instead of argument\".format(alias))\n",
      "/opt/conda/lib/python3.7/site-packages/lightgbm/engine.py:148: UserWarning: Found `num_iterations` in params. Will use it instead of argument\n",
      "  warnings.warn(\"Found `{}` in params. Will use it instead of argument\".format(alias))\n"
     ]
    },
    {
     "name": "stderr",
     "output_type": "stream",
     "text": [
      "/opt/conda/lib/python3.7/site-packages/lightgbm/engine.py:148: UserWarning: Found `num_iterations` in params. Will use it instead of argument\n",
      "  warnings.warn(\"Found `{}` in params. Will use it instead of argument\".format(alias))\n",
      "/opt/conda/lib/python3.7/site-packages/lightgbm/engine.py:148: UserWarning: Found `num_iterations` in params. Will use it instead of argument\n",
      "  warnings.warn(\"Found `{}` in params. Will use it instead of argument\".format(alias))\n",
      "/opt/conda/lib/python3.7/site-packages/lightgbm/engine.py:148: UserWarning: Found `num_iterations` in params. Will use it instead of argument\n",
      "  warnings.warn(\"Found `{}` in params. Will use it instead of argument\".format(alias))\n",
      "/opt/conda/lib/python3.7/site-packages/lightgbm/engine.py:148: UserWarning: Found `num_iterations` in params. Will use it instead of argument\n",
      "  warnings.warn(\"Found `{}` in params. Will use it instead of argument\".format(alias))\n",
      "/opt/conda/lib/python3.7/site-packages/lightgbm/engine.py:148: UserWarning: Found `num_iterations` in params. Will use it instead of argument\n",
      "  warnings.warn(\"Found `{}` in params. Will use it instead of argument\".format(alias))\n",
      "/opt/conda/lib/python3.7/site-packages/lightgbm/engine.py:148: UserWarning: Found `num_iterations` in params. Will use it instead of argument\n",
      "  warnings.warn(\"Found `{}` in params. Will use it instead of argument\".format(alias))\n",
      "/opt/conda/lib/python3.7/site-packages/lightgbm/engine.py:148: UserWarning: Found `num_iterations` in params. Will use it instead of argument\n",
      "  warnings.warn(\"Found `{}` in params. Will use it instead of argument\".format(alias))\n",
      "/opt/conda/lib/python3.7/site-packages/lightgbm/engine.py:148: UserWarning: Found `num_iterations` in params. Will use it instead of argument\n",
      "  warnings.warn(\"Found `{}` in params. Will use it instead of argument\".format(alias))\n",
      "/opt/conda/lib/python3.7/site-packages/lightgbm/engine.py:148: UserWarning: Found `num_iterations` in params. Will use it instead of argument\n",
      "  warnings.warn(\"Found `{}` in params. Will use it instead of argument\".format(alias))\n",
      "/opt/conda/lib/python3.7/site-packages/lightgbm/engine.py:148: UserWarning: Found `num_iterations` in params. Will use it instead of argument\n",
      "  warnings.warn(\"Found `{}` in params. Will use it instead of argument\".format(alias))\n",
      "/opt/conda/lib/python3.7/site-packages/lightgbm/engine.py:148: UserWarning: Found `num_iterations` in params. Will use it instead of argument\n",
      "  warnings.warn(\"Found `{}` in params. Will use it instead of argument\".format(alias))\n",
      "/opt/conda/lib/python3.7/site-packages/lightgbm/engine.py:148: UserWarning: Found `num_iterations` in params. Will use it instead of argument\n",
      "  warnings.warn(\"Found `{}` in params. Will use it instead of argument\".format(alias))\n",
      "/opt/conda/lib/python3.7/site-packages/lightgbm/engine.py:148: UserWarning: Found `num_iterations` in params. Will use it instead of argument\n",
      "  warnings.warn(\"Found `{}` in params. Will use it instead of argument\".format(alias))\n",
      "/opt/conda/lib/python3.7/site-packages/lightgbm/engine.py:148: UserWarning: Found `num_iterations` in params. Will use it instead of argument\n",
      "  warnings.warn(\"Found `{}` in params. Will use it instead of argument\".format(alias))\n",
      "/opt/conda/lib/python3.7/site-packages/lightgbm/engine.py:148: UserWarning: Found `num_iterations` in params. Will use it instead of argument\n",
      "  warnings.warn(\"Found `{}` in params. Will use it instead of argument\".format(alias))\n",
      "/opt/conda/lib/python3.7/site-packages/lightgbm/engine.py:148: UserWarning: Found `num_iterations` in params. Will use it instead of argument\n",
      "  warnings.warn(\"Found `{}` in params. Will use it instead of argument\".format(alias))\n",
      "/opt/conda/lib/python3.7/site-packages/lightgbm/engine.py:148: UserWarning: Found `num_iterations` in params. Will use it instead of argument\n",
      "  warnings.warn(\"Found `{}` in params. Will use it instead of argument\".format(alias))\n",
      "/opt/conda/lib/python3.7/site-packages/lightgbm/engine.py:148: UserWarning: Found `num_iterations` in params. Will use it instead of argument\n",
      "  warnings.warn(\"Found `{}` in params. Will use it instead of argument\".format(alias))\n",
      "/opt/conda/lib/python3.7/site-packages/lightgbm/engine.py:148: UserWarning: Found `num_iterations` in params. Will use it instead of argument\n",
      "  warnings.warn(\"Found `{}` in params. Will use it instead of argument\".format(alias))\n",
      "/opt/conda/lib/python3.7/site-packages/lightgbm/engine.py:148: UserWarning: Found `num_iterations` in params. Will use it instead of argument\n",
      "  warnings.warn(\"Found `{}` in params. Will use it instead of argument\".format(alias))\n",
      "/opt/conda/lib/python3.7/site-packages/lightgbm/engine.py:148: UserWarning: Found `num_iterations` in params. Will use it instead of argument\n",
      "  warnings.warn(\"Found `{}` in params. Will use it instead of argument\".format(alias))\n",
      "/opt/conda/lib/python3.7/site-packages/lightgbm/engine.py:148: UserWarning: Found `num_iterations` in params. Will use it instead of argument\n",
      "  warnings.warn(\"Found `{}` in params. Will use it instead of argument\".format(alias))\n",
      "/opt/conda/lib/python3.7/site-packages/lightgbm/engine.py:148: UserWarning: Found `num_iterations` in params. Will use it instead of argument\n",
      "  warnings.warn(\"Found `{}` in params. Will use it instead of argument\".format(alias))\n",
      "/opt/conda/lib/python3.7/site-packages/lightgbm/engine.py:148: UserWarning: Found `num_iterations` in params. Will use it instead of argument\n",
      "  warnings.warn(\"Found `{}` in params. Will use it instead of argument\".format(alias))\n",
      "/opt/conda/lib/python3.7/site-packages/lightgbm/engine.py:148: UserWarning: Found `num_iterations` in params. Will use it instead of argument\n",
      "  warnings.warn(\"Found `{}` in params. Will use it instead of argument\".format(alias))\n",
      "/opt/conda/lib/python3.7/site-packages/lightgbm/engine.py:148: UserWarning: Found `num_iterations` in params. Will use it instead of argument\n",
      "  warnings.warn(\"Found `{}` in params. Will use it instead of argument\".format(alias))\n",
      "/opt/conda/lib/python3.7/site-packages/lightgbm/engine.py:148: UserWarning: Found `num_iterations` in params. Will use it instead of argument\n",
      "  warnings.warn(\"Found `{}` in params. Will use it instead of argument\".format(alias))\n",
      "/opt/conda/lib/python3.7/site-packages/lightgbm/engine.py:148: UserWarning: Found `num_iterations` in params. Will use it instead of argument\n",
      "  warnings.warn(\"Found `{}` in params. Will use it instead of argument\".format(alias))\n",
      "/opt/conda/lib/python3.7/site-packages/lightgbm/engine.py:148: UserWarning: Found `num_iterations` in params. Will use it instead of argument\n",
      "  warnings.warn(\"Found `{}` in params. Will use it instead of argument\".format(alias))\n",
      "/opt/conda/lib/python3.7/site-packages/lightgbm/engine.py:148: UserWarning: Found `num_iterations` in params. Will use it instead of argument\n",
      "  warnings.warn(\"Found `{}` in params. Will use it instead of argument\".format(alias))\n",
      "/opt/conda/lib/python3.7/site-packages/lightgbm/engine.py:148: UserWarning: Found `num_iterations` in params. Will use it instead of argument\n",
      "  warnings.warn(\"Found `{}` in params. Will use it instead of argument\".format(alias))\n",
      "/opt/conda/lib/python3.7/site-packages/lightgbm/engine.py:148: UserWarning: Found `num_iterations` in params. Will use it instead of argument\n",
      "  warnings.warn(\"Found `{}` in params. Will use it instead of argument\".format(alias))\n",
      "/opt/conda/lib/python3.7/site-packages/lightgbm/engine.py:148: UserWarning: Found `num_iterations` in params. Will use it instead of argument\n",
      "  warnings.warn(\"Found `{}` in params. Will use it instead of argument\".format(alias))\n",
      "/opt/conda/lib/python3.7/site-packages/lightgbm/engine.py:148: UserWarning: Found `num_iterations` in params. Will use it instead of argument\n",
      "  warnings.warn(\"Found `{}` in params. Will use it instead of argument\".format(alias))\n",
      "/opt/conda/lib/python3.7/site-packages/lightgbm/engine.py:148: UserWarning: Found `num_iterations` in params. Will use it instead of argument\n",
      "  warnings.warn(\"Found `{}` in params. Will use it instead of argument\".format(alias))\n",
      "/opt/conda/lib/python3.7/site-packages/lightgbm/engine.py:148: UserWarning: Found `num_iterations` in params. Will use it instead of argument\n",
      "  warnings.warn(\"Found `{}` in params. Will use it instead of argument\".format(alias))\n"
     ]
    },
    {
     "name": "stderr",
     "output_type": "stream",
     "text": [
      "/opt/conda/lib/python3.7/site-packages/lightgbm/engine.py:148: UserWarning: Found `num_iterations` in params. Will use it instead of argument\n",
      "  warnings.warn(\"Found `{}` in params. Will use it instead of argument\".format(alias))\n",
      "/opt/conda/lib/python3.7/site-packages/lightgbm/engine.py:148: UserWarning: Found `num_iterations` in params. Will use it instead of argument\n",
      "  warnings.warn(\"Found `{}` in params. Will use it instead of argument\".format(alias))\n",
      "/opt/conda/lib/python3.7/site-packages/lightgbm/engine.py:148: UserWarning: Found `num_iterations` in params. Will use it instead of argument\n",
      "  warnings.warn(\"Found `{}` in params. Will use it instead of argument\".format(alias))\n",
      "/opt/conda/lib/python3.7/site-packages/lightgbm/engine.py:148: UserWarning: Found `num_iterations` in params. Will use it instead of argument\n",
      "  warnings.warn(\"Found `{}` in params. Will use it instead of argument\".format(alias))\n",
      "/opt/conda/lib/python3.7/site-packages/lightgbm/engine.py:148: UserWarning: Found `num_iterations` in params. Will use it instead of argument\n",
      "  warnings.warn(\"Found `{}` in params. Will use it instead of argument\".format(alias))\n",
      "/opt/conda/lib/python3.7/site-packages/lightgbm/engine.py:148: UserWarning: Found `num_iterations` in params. Will use it instead of argument\n",
      "  warnings.warn(\"Found `{}` in params. Will use it instead of argument\".format(alias))\n",
      "/opt/conda/lib/python3.7/site-packages/lightgbm/engine.py:148: UserWarning: Found `num_iterations` in params. Will use it instead of argument\n",
      "  warnings.warn(\"Found `{}` in params. Will use it instead of argument\".format(alias))\n",
      "/opt/conda/lib/python3.7/site-packages/lightgbm/engine.py:148: UserWarning: Found `num_iterations` in params. Will use it instead of argument\n",
      "  warnings.warn(\"Found `{}` in params. Will use it instead of argument\".format(alias))\n",
      "/opt/conda/lib/python3.7/site-packages/lightgbm/engine.py:148: UserWarning: Found `num_iterations` in params. Will use it instead of argument\n",
      "  warnings.warn(\"Found `{}` in params. Will use it instead of argument\".format(alias))\n",
      "/opt/conda/lib/python3.7/site-packages/lightgbm/engine.py:148: UserWarning: Found `num_iterations` in params. Will use it instead of argument\n",
      "  warnings.warn(\"Found `{}` in params. Will use it instead of argument\".format(alias))\n",
      "/opt/conda/lib/python3.7/site-packages/lightgbm/engine.py:148: UserWarning: Found `num_iterations` in params. Will use it instead of argument\n",
      "  warnings.warn(\"Found `{}` in params. Will use it instead of argument\".format(alias))\n",
      "/opt/conda/lib/python3.7/site-packages/lightgbm/engine.py:148: UserWarning: Found `num_iterations` in params. Will use it instead of argument\n",
      "  warnings.warn(\"Found `{}` in params. Will use it instead of argument\".format(alias))\n",
      "/opt/conda/lib/python3.7/site-packages/lightgbm/engine.py:148: UserWarning: Found `num_iterations` in params. Will use it instead of argument\n",
      "  warnings.warn(\"Found `{}` in params. Will use it instead of argument\".format(alias))\n",
      "/opt/conda/lib/python3.7/site-packages/lightgbm/engine.py:148: UserWarning: Found `num_iterations` in params. Will use it instead of argument\n",
      "  warnings.warn(\"Found `{}` in params. Will use it instead of argument\".format(alias))\n",
      "/opt/conda/lib/python3.7/site-packages/lightgbm/engine.py:148: UserWarning: Found `num_iterations` in params. Will use it instead of argument\n",
      "  warnings.warn(\"Found `{}` in params. Will use it instead of argument\".format(alias))\n",
      "/opt/conda/lib/python3.7/site-packages/lightgbm/engine.py:148: UserWarning: Found `num_iterations` in params. Will use it instead of argument\n",
      "  warnings.warn(\"Found `{}` in params. Will use it instead of argument\".format(alias))\n",
      "/opt/conda/lib/python3.7/site-packages/lightgbm/engine.py:148: UserWarning: Found `num_iterations` in params. Will use it instead of argument\n",
      "  warnings.warn(\"Found `{}` in params. Will use it instead of argument\".format(alias))\n",
      "/opt/conda/lib/python3.7/site-packages/lightgbm/engine.py:148: UserWarning: Found `num_iterations` in params. Will use it instead of argument\n",
      "  warnings.warn(\"Found `{}` in params. Will use it instead of argument\".format(alias))\n",
      "/opt/conda/lib/python3.7/site-packages/lightgbm/engine.py:148: UserWarning: Found `num_iterations` in params. Will use it instead of argument\n",
      "  warnings.warn(\"Found `{}` in params. Will use it instead of argument\".format(alias))\n",
      "/opt/conda/lib/python3.7/site-packages/lightgbm/engine.py:148: UserWarning: Found `num_iterations` in params. Will use it instead of argument\n",
      "  warnings.warn(\"Found `{}` in params. Will use it instead of argument\".format(alias))\n",
      "/opt/conda/lib/python3.7/site-packages/lightgbm/engine.py:148: UserWarning: Found `num_iterations` in params. Will use it instead of argument\n",
      "  warnings.warn(\"Found `{}` in params. Will use it instead of argument\".format(alias))\n",
      "/opt/conda/lib/python3.7/site-packages/lightgbm/engine.py:148: UserWarning: Found `num_iterations` in params. Will use it instead of argument\n",
      "  warnings.warn(\"Found `{}` in params. Will use it instead of argument\".format(alias))\n",
      "/opt/conda/lib/python3.7/site-packages/lightgbm/engine.py:148: UserWarning: Found `num_iterations` in params. Will use it instead of argument\n",
      "  warnings.warn(\"Found `{}` in params. Will use it instead of argument\".format(alias))\n",
      "/opt/conda/lib/python3.7/site-packages/lightgbm/engine.py:148: UserWarning: Found `num_iterations` in params. Will use it instead of argument\n",
      "  warnings.warn(\"Found `{}` in params. Will use it instead of argument\".format(alias))\n",
      "/opt/conda/lib/python3.7/site-packages/lightgbm/engine.py:148: UserWarning: Found `num_iterations` in params. Will use it instead of argument\n",
      "  warnings.warn(\"Found `{}` in params. Will use it instead of argument\".format(alias))\n",
      "/opt/conda/lib/python3.7/site-packages/lightgbm/engine.py:148: UserWarning: Found `num_iterations` in params. Will use it instead of argument\n",
      "  warnings.warn(\"Found `{}` in params. Will use it instead of argument\".format(alias))\n",
      "/opt/conda/lib/python3.7/site-packages/lightgbm/engine.py:148: UserWarning: Found `num_iterations` in params. Will use it instead of argument\n",
      "  warnings.warn(\"Found `{}` in params. Will use it instead of argument\".format(alias))\n",
      "/opt/conda/lib/python3.7/site-packages/lightgbm/engine.py:148: UserWarning: Found `num_iterations` in params. Will use it instead of argument\n",
      "  warnings.warn(\"Found `{}` in params. Will use it instead of argument\".format(alias))\n",
      "/opt/conda/lib/python3.7/site-packages/lightgbm/engine.py:148: UserWarning: Found `num_iterations` in params. Will use it instead of argument\n",
      "  warnings.warn(\"Found `{}` in params. Will use it instead of argument\".format(alias))\n"
     ]
    }
   ],
   "source": [
    "distributions_lgb = dict(\n",
    "                     #lambda_l1=uniform(loc=0, scale=50),\n",
    "                     lambda_l2=uniform(loc=0, scale=1),\n",
    "                     min_gain_to_split=uniform(loc=0, scale=50),\n",
    "                     max_depth = randint(1, 2000),\n",
    "                     n_estimators = randint(1, 2000),\n",
    "                     num_iterations = randint(1, 200),\n",
    "                     num_leaves = randint(1, 20000),\n",
    "                     learning_rate = uniform(loc=0, scale=0.2),\n",
    "                     bagging_fraction = uniform(loc=0.2, scale=0.8),\n",
    "                     bagging_freq = randint(0, 5),\n",
    "                     feature_fraction = uniform(loc=0.2, scale=0.8),\n",
    "                     #min_data_in_leaf = randint(1, 30000)\n",
    "                    )\n",
    "clf_lgb = RandomizedSearchCV(\n",
    "                         model, \n",
    "                         distributions_lgb, \n",
    "                         random_state=42, \n",
    "                         cv = StratifiedKFold(n_splits=10),\n",
    "                         scoring = 'f1_weighted'\n",
    "                         #scoring = ['precision','recall','roc_auc'],\n",
    "                         #refit = 'precision'\n",
    "                        )\n",
    "search_lgb = clf_lgb.fit(X_train, Y_train)"
   ]
  },
  {
   "cell_type": "code",
   "execution_count": 155,
   "metadata": {
    "ExecuteTime": {
     "end_time": "2020-07-31T02:33:00.534421Z",
     "start_time": "2020-07-31T02:33:00.526572Z"
    }
   },
   "outputs": [
    {
     "data": {
      "text/plain": [
       "{'bagging_fraction': 0.4433937943676302,\n",
       " 'bagging_freq': 4,\n",
       " 'feature_fraction': 0.5455560149136927,\n",
       " 'lambda_l2': 0.2912291401980419,\n",
       " 'learning_rate': 0.1223705789444759,\n",
       " 'max_depth': 1706,\n",
       " 'min_gain_to_split': 2.3332831606807716,\n",
       " 'n_estimators': 700,\n",
       " 'num_iterations': 15,\n",
       " 'num_leaves': 190}"
      ]
     },
     "execution_count": 155,
     "metadata": {},
     "output_type": "execute_result"
    }
   ],
   "source": [
    "search_lgb.best_params_"
   ]
  },
  {
   "cell_type": "markdown",
   "metadata": {},
   "source": [
    "##### Model Training with tuned hyperparameters"
   ]
  },
  {
   "cell_type": "code",
   "execution_count": 156,
   "metadata": {
    "ExecuteTime": {
     "end_time": "2020-07-31T02:33:00.546578Z",
     "start_time": "2020-07-31T02:33:00.538641Z"
    }
   },
   "outputs": [
    {
     "data": {
      "text/plain": [
       "{'bagging_fraction': 0.4433937943676302,\n",
       " 'bagging_freq': 4,\n",
       " 'feature_fraction': 0.5455560149136927,\n",
       " 'lambda_l2': 0.2912291401980419,\n",
       " 'learning_rate': 0.1223705789444759,\n",
       " 'max_depth': 1706,\n",
       " 'min_gain_to_split': 2.3332831606807716,\n",
       " 'n_estimators': 700,\n",
       " 'num_iterations': 15,\n",
       " 'num_leaves': 190}"
      ]
     },
     "execution_count": 156,
     "metadata": {},
     "output_type": "execute_result"
    }
   ],
   "source": [
    "hyper_params = search_lgb.best_params_.copy()\n",
    "hyper_params"
   ]
  },
  {
   "cell_type": "code",
   "execution_count": 157,
   "metadata": {
    "ExecuteTime": {
     "end_time": "2020-07-31T02:33:00.553837Z",
     "start_time": "2020-07-31T02:33:00.549705Z"
    }
   },
   "outputs": [],
   "source": [
    "metrics_to_eval = [\"multi_error\", \"multi_logloss\"]"
   ]
  },
  {
   "cell_type": "code",
   "execution_count": 158,
   "metadata": {
    "ExecuteTime": {
     "end_time": "2020-07-31T02:33:01.574781Z",
     "start_time": "2020-07-31T02:33:00.557208Z"
    }
   },
   "outputs": [
    {
     "name": "stderr",
     "output_type": "stream",
     "text": [
      "/opt/conda/lib/python3.7/site-packages/lightgbm/engine.py:148: UserWarning: Found `num_iterations` in params. Will use it instead of argument\n",
      "  warnings.warn(\"Found `{}` in params. Will use it instead of argument\".format(alias))\n"
     ]
    },
    {
     "data": {
      "text/plain": [
       "LGBMClassifier(bagging_fraction=0.4433937943676302, bagging_freq=4,\n",
       "               feature_fraction=0.5455560149136927, importance_type='gain',\n",
       "               is_unbalance=True, lambda_l2=0.2912291401980419,\n",
       "               learning_rate=0.1223705789444759, max_depth=1706,\n",
       "               metric=['multi_error', 'multi_logloss'],\n",
       "               min_gain_to_split=2.3332831606807716, n_estimators=700,\n",
       "               num_class=5, num_iterations=15, num_leaves=190,\n",
       "               objective='multiclassova')"
      ]
     },
     "execution_count": 158,
     "metadata": {},
     "output_type": "execute_result"
    }
   ],
   "source": [
    "model = lgb.LGBMClassifier(objective = \"multiclassova\",\n",
    "                                   num_class = 5,\n",
    "                                   metric = metrics_to_eval,\n",
    "                                   learning_rate = hyper_params['learning_rate'],\n",
    "                                   feature_fraction = hyper_params['feature_fraction'],\n",
    "                                   bagging_fraction = hyper_params['bagging_fraction'],\n",
    "                                   bagging_freq = hyper_params['bagging_freq'],\n",
    "                                   num_iterations = hyper_params['num_iterations'],\n",
    "                                   num_leaves = hyper_params['num_leaves'],\n",
    "                                   #min_data_in_leaf = hyper_params['min_data_in_leaf'],\n",
    "                                   max_depth = hyper_params['max_depth'],\n",
    "                                   n_estimators = hyper_params['n_estimators'],\n",
    "                                   #scale_pos_weight = sum(Y_train == 0)/sum(Y_train == 1),\n",
    "                                   is_unbalance = True,\n",
    "                                   importance_type = 'gain',\n",
    "                                   #lambda_l1 = hyper_params['lambda_l1'],\n",
    "                                   lambda_l2 = hyper_params['lambda_l2'],\n",
    "                                   min_gain_to_split = hyper_params['min_gain_to_split']\n",
    "                                  )\n",
    "model.fit(\n",
    "          X_train, Y_train, \n",
    "          eval_set=[\n",
    "                    (X_test, Y_test), \n",
    "                    (X_train, Y_train)],\n",
    "          feature_name = list(data_encoded.columns),\n",
    "          verbose = 0\n",
    "         )"
   ]
  },
  {
   "cell_type": "code",
   "execution_count": 159,
   "metadata": {
    "ExecuteTime": {
     "end_time": "2020-07-31T02:33:01.898510Z",
     "start_time": "2020-07-31T02:33:01.577797Z"
    },
    "scrolled": false
   },
   "outputs": [
    {
     "data": {
      "image/png": "[encoded data removed]",
      "text/plain": [
       "<Figure size 864x576 with 1 Axes>"
      ]
     },
     "metadata": {},
     "output_type": "display_data"
    }
   ],
   "source": [
    "ax = lgb.plot_importance(model, figsize=(12,8), max_num_features = 20)"
   ]
  },
  {
   "cell_type": "code",
   "execution_count": 160,
   "metadata": {
    "ExecuteTime": {
     "end_time": "2020-07-31T02:34:13.269424Z",
     "start_time": "2020-07-31T02:34:13.264286Z"
    }
   },
   "outputs": [],
   "source": [
    "importance_values = model.booster_.feature_importance(importance_type='split')\n",
    "feature_name = model.booster_.feature_name()"
   ]
  },
  {
   "cell_type": "code",
   "execution_count": 161,
   "metadata": {
    "ExecuteTime": {
     "end_time": "2020-07-31T02:34:13.881460Z",
     "start_time": "2020-07-31T02:34:13.861767Z"
    },
    "code_folding": []
   },
   "outputs": [
    {
     "data": {
      "text/html": [
       "<div>\n",
       "<style scoped>\n",
       "    .dataframe tbody tr th:only-of-type {\n",
       "        vertical-align: middle;\n",
       "    }\n",
       "\n",
       "    .dataframe tbody tr th {\n",
       "        vertical-align: top;\n",
       "    }\n",
       "\n",
       "    .dataframe thead th {\n",
       "        text-align: right;\n",
       "    }\n",
       "</style>\n",
       "<table border=\"1\" class=\"dataframe\">\n",
       "  <thead>\n",
       "    <tr style=\"text-align: right;\">\n",
       "      <th></th>\n",
       "      <th>feature_name</th>\n",
       "      <th>feature_importance</th>\n",
       "    </tr>\n",
       "  </thead>\n",
       "  <tbody>\n",
       "    <tr>\n",
       "      <th>8</th>\n",
       "      <td>establecimiento</td>\n",
       "      <td>3100</td>\n",
       "    </tr>\n",
       "    <tr>\n",
       "      <th>9</th>\n",
       "      <td>edad</td>\n",
       "      <td>2218</td>\n",
       "    </tr>\n",
       "    <tr>\n",
       "      <th>3</th>\n",
       "      <td>nivel_educativo</td>\n",
       "      <td>534</td>\n",
       "    </tr>\n",
       "    <tr>\n",
       "      <th>2</th>\n",
       "      <td>estado_civil</td>\n",
       "      <td>204</td>\n",
       "    </tr>\n",
       "    <tr>\n",
       "      <th>7</th>\n",
       "      <td>estado_ingreso</td>\n",
       "      <td>120</td>\n",
       "    </tr>\n",
       "    <tr>\n",
       "      <th>4</th>\n",
       "      <td>reconocimiento_etnico</td>\n",
       "      <td>42</td>\n",
       "    </tr>\n",
       "    <tr>\n",
       "      <th>30</th>\n",
       "      <td>agravado_2</td>\n",
       "      <td>41</td>\n",
       "    </tr>\n",
       "    <tr>\n",
       "      <th>10</th>\n",
       "      <td>actividades_estudio</td>\n",
       "      <td>30</td>\n",
       "    </tr>\n",
       "    <tr>\n",
       "      <th>18</th>\n",
       "      <td>delito_CONCIERTOPARADELINQUIR</td>\n",
       "      <td>26</td>\n",
       "    </tr>\n",
       "    <tr>\n",
       "      <th>19</th>\n",
       "      <td>delito_EXTORSION</td>\n",
       "      <td>22</td>\n",
       "    </tr>\n",
       "    <tr>\n",
       "      <th>22</th>\n",
       "      <td>delito_FABRICACINTRFICOPORTEOTENENCIADEARMASDE...</td>\n",
       "      <td>21</td>\n",
       "    </tr>\n",
       "    <tr>\n",
       "      <th>28</th>\n",
       "      <td>delito_VIOLENCIAINTRAFAMILIAR</td>\n",
       "      <td>19</td>\n",
       "    </tr>\n",
       "    <tr>\n",
       "      <th>0</th>\n",
       "      <td>genero</td>\n",
       "      <td>19</td>\n",
       "    </tr>\n",
       "    <tr>\n",
       "      <th>26</th>\n",
       "      <td>delito_OTRO</td>\n",
       "      <td>18</td>\n",
       "    </tr>\n",
       "    <tr>\n",
       "      <th>21</th>\n",
       "      <td>delito_FABRICACIONTRAFICOYPORTEDEARMASDEFUEGOO...</td>\n",
       "      <td>16</td>\n",
       "    </tr>\n",
       "    <tr>\n",
       "      <th>11</th>\n",
       "      <td>actividades_trabajo</td>\n",
       "      <td>15</td>\n",
       "    </tr>\n",
       "    <tr>\n",
       "      <th>12</th>\n",
       "      <td>actividades_enseanza</td>\n",
       "      <td>15</td>\n",
       "    </tr>\n",
       "    <tr>\n",
       "      <th>24</th>\n",
       "      <td>delito_HURTO</td>\n",
       "      <td>14</td>\n",
       "    </tr>\n",
       "    <tr>\n",
       "      <th>31</th>\n",
       "      <td>calificado_2</td>\n",
       "      <td>14</td>\n",
       "    </tr>\n",
       "    <tr>\n",
       "      <th>27</th>\n",
       "      <td>delito_TRAFICOFABRICACIONOPORTEDEESTUPEFACIENTES</td>\n",
       "      <td>11</td>\n",
       "    </tr>\n",
       "  </tbody>\n",
       "</table>\n",
       "</div>"
      ],
      "text/plain": [
       "                                         feature_name  feature_importance\n",
       "8                                     establecimiento                3100\n",
       "9                                                edad                2218\n",
       "3                                     nivel_educativo                 534\n",
       "2                                        estado_civil                 204\n",
       "7                                      estado_ingreso                 120\n",
       "4                               reconocimiento_etnico                  42\n",
       "30                                         agravado_2                  41\n",
       "10                                actividades_estudio                  30\n",
       "18                      delito_CONCIERTOPARADELINQUIR                  26\n",
       "19                                   delito_EXTORSION                  22\n",
       "22  delito_FABRICACINTRFICOPORTEOTENENCIADEARMASDE...                  21\n",
       "28                      delito_VIOLENCIAINTRAFAMILIAR                  19\n",
       "0                                              genero                  19\n",
       "26                                        delito_OTRO                  18\n",
       "21  delito_FABRICACIONTRAFICOYPORTEDEARMASDEFUEGOO...                  16\n",
       "11                                actividades_trabajo                  15\n",
       "12                               actividades_enseanza                  15\n",
       "24                                       delito_HURTO                  14\n",
       "31                                       calificado_2                  14\n",
       "27   delito_TRAFICOFABRICACIONOPORTEDEESTUPEFACIENTES                  11"
      ]
     },
     "execution_count": 161,
     "metadata": {},
     "output_type": "execute_result"
    }
   ],
   "source": [
    "feature_importance = pd.DataFrame(np.concatenate((np.array(feature_name).reshape(-1,1),\n",
    "                                  importance_values.reshape(-1,1).astype(int)), \n",
    "                            axis = 1), \n",
    "                     columns = ['feature_name', 'feature_importance'])\n",
    "feature_importance['feature_importance'] = feature_importance['feature_importance'].astype(int)\n",
    "feature_importance = feature_importance.sort_values(by=['feature_importance'], ascending = False)[:20]\n",
    "feature_importance"
   ]
  },
  {
   "cell_type": "markdown",
   "metadata": {},
   "source": [
    "#### LightGBM Classifier one vs all"
   ]
  },
  {
   "cell_type": "code",
   "execution_count": 162,
   "metadata": {
    "ExecuteTime": {
     "end_time": "2020-07-31T02:38:42.437575Z",
     "start_time": "2020-07-31T02:35:07.151554Z"
    }
   },
   "outputs": [
    {
     "name": "stdout",
     "output_type": "stream",
     "text": [
      "Label: 0\n"
     ]
    },
    {
     "name": "stderr",
     "output_type": "stream",
     "text": [
      "/opt/conda/lib/python3.7/site-packages/lightgbm/engine.py:148: UserWarning: Found `num_iterations` in params. Will use it instead of argument\n",
      "  warnings.warn(\"Found `{}` in params. Will use it instead of argument\".format(alias))\n",
      "/opt/conda/lib/python3.7/site-packages/lightgbm/engine.py:148: UserWarning: Found `num_iterations` in params. Will use it instead of argument\n",
      "  warnings.warn(\"Found `{}` in params. Will use it instead of argument\".format(alias))\n",
      "/opt/conda/lib/python3.7/site-packages/lightgbm/engine.py:148: UserWarning: Found `num_iterations` in params. Will use it instead of argument\n",
      "  warnings.warn(\"Found `{}` in params. Will use it instead of argument\".format(alias))\n",
      "/opt/conda/lib/python3.7/site-packages/lightgbm/engine.py:148: UserWarning: Found `num_iterations` in params. Will use it instead of argument\n",
      "  warnings.warn(\"Found `{}` in params. Will use it instead of argument\".format(alias))\n",
      "/opt/conda/lib/python3.7/site-packages/lightgbm/engine.py:148: UserWarning: Found `num_iterations` in params. Will use it instead of argument\n",
      "  warnings.warn(\"Found `{}` in params. Will use it instead of argument\".format(alias))\n",
      "/opt/conda/lib/python3.7/site-packages/lightgbm/engine.py:148: UserWarning: Found `num_iterations` in params. Will use it instead of argument\n",
      "  warnings.warn(\"Found `{}` in params. Will use it instead of argument\".format(alias))\n",
      "/opt/conda/lib/python3.7/site-packages/lightgbm/engine.py:148: UserWarning: Found `num_iterations` in params. Will use it instead of argument\n",
      "  warnings.warn(\"Found `{}` in params. Will use it instead of argument\".format(alias))\n",
      "/opt/conda/lib/python3.7/site-packages/lightgbm/engine.py:148: UserWarning: Found `num_iterations` in params. Will use it instead of argument\n",
      "  warnings.warn(\"Found `{}` in params. Will use it instead of argument\".format(alias))\n",
      "/opt/conda/lib/python3.7/site-packages/lightgbm/engine.py:148: UserWarning: Found `num_iterations` in params. Will use it instead of argument\n",
      "  warnings.warn(\"Found `{}` in params. Will use it instead of argument\".format(alias))\n",
      "/opt/conda/lib/python3.7/site-packages/lightgbm/engine.py:148: UserWarning: Found `num_iterations` in params. Will use it instead of argument\n",
      "  warnings.warn(\"Found `{}` in params. Will use it instead of argument\".format(alias))\n",
      "/opt/conda/lib/python3.7/site-packages/lightgbm/engine.py:148: UserWarning: Found `num_iterations` in params. Will use it instead of argument\n",
      "  warnings.warn(\"Found `{}` in params. Will use it instead of argument\".format(alias))\n",
      "/opt/conda/lib/python3.7/site-packages/lightgbm/engine.py:148: UserWarning: Found `num_iterations` in params. Will use it instead of argument\n",
      "  warnings.warn(\"Found `{}` in params. Will use it instead of argument\".format(alias))\n",
      "/opt/conda/lib/python3.7/site-packages/lightgbm/engine.py:148: UserWarning: Found `num_iterations` in params. Will use it instead of argument\n",
      "  warnings.warn(\"Found `{}` in params. Will use it instead of argument\".format(alias))\n",
      "/opt/conda/lib/python3.7/site-packages/lightgbm/engine.py:148: UserWarning: Found `num_iterations` in params. Will use it instead of argument\n",
      "  warnings.warn(\"Found `{}` in params. Will use it instead of argument\".format(alias))\n",
      "/opt/conda/lib/python3.7/site-packages/lightgbm/engine.py:148: UserWarning: Found `num_iterations` in params. Will use it instead of argument\n",
      "  warnings.warn(\"Found `{}` in params. Will use it instead of argument\".format(alias))\n",
      "/opt/conda/lib/python3.7/site-packages/lightgbm/engine.py:148: UserWarning: Found `num_iterations` in params. Will use it instead of argument\n",
      "  warnings.warn(\"Found `{}` in params. Will use it instead of argument\".format(alias))\n",
      "/opt/conda/lib/python3.7/site-packages/lightgbm/engine.py:148: UserWarning: Found `num_iterations` in params. Will use it instead of argument\n",
      "  warnings.warn(\"Found `{}` in params. Will use it instead of argument\".format(alias))\n",
      "/opt/conda/lib/python3.7/site-packages/lightgbm/engine.py:148: UserWarning: Found `num_iterations` in params. Will use it instead of argument\n",
      "  warnings.warn(\"Found `{}` in params. Will use it instead of argument\".format(alias))\n",
      "/opt/conda/lib/python3.7/site-packages/lightgbm/engine.py:148: UserWarning: Found `num_iterations` in params. Will use it instead of argument\n",
      "  warnings.warn(\"Found `{}` in params. Will use it instead of argument\".format(alias))\n",
      "/opt/conda/lib/python3.7/site-packages/lightgbm/engine.py:148: UserWarning: Found `num_iterations` in params. Will use it instead of argument\n",
      "  warnings.warn(\"Found `{}` in params. Will use it instead of argument\".format(alias))\n",
      "/opt/conda/lib/python3.7/site-packages/lightgbm/engine.py:148: UserWarning: Found `num_iterations` in params. Will use it instead of argument\n",
      "  warnings.warn(\"Found `{}` in params. Will use it instead of argument\".format(alias))\n",
      "/opt/conda/lib/python3.7/site-packages/lightgbm/engine.py:148: UserWarning: Found `num_iterations` in params. Will use it instead of argument\n",
      "  warnings.warn(\"Found `{}` in params. Will use it instead of argument\".format(alias))\n",
      "/opt/conda/lib/python3.7/site-packages/lightgbm/engine.py:148: UserWarning: Found `num_iterations` in params. Will use it instead of argument\n",
      "  warnings.warn(\"Found `{}` in params. Will use it instead of argument\".format(alias))\n",
      "/opt/conda/lib/python3.7/site-packages/lightgbm/engine.py:148: UserWarning: Found `num_iterations` in params. Will use it instead of argument\n",
      "  warnings.warn(\"Found `{}` in params. Will use it instead of argument\".format(alias))\n",
      "/opt/conda/lib/python3.7/site-packages/lightgbm/engine.py:148: UserWarning: Found `num_iterations` in params. Will use it instead of argument\n",
      "  warnings.warn(\"Found `{}` in params. Will use it instead of argument\".format(alias))\n",
      "/opt/conda/lib/python3.7/site-packages/lightgbm/engine.py:148: UserWarning: Found `num_iterations` in params. Will use it instead of argument\n",
      "  warnings.warn(\"Found `{}` in params. Will use it instead of argument\".format(alias))\n",
      "/opt/conda/lib/python3.7/site-packages/lightgbm/engine.py:148: UserWarning: Found `num_iterations` in params. Will use it instead of argument\n",
      "  warnings.warn(\"Found `{}` in params. Will use it instead of argument\".format(alias))\n",
      "/opt/conda/lib/python3.7/site-packages/lightgbm/engine.py:148: UserWarning: Found `num_iterations` in params. Will use it instead of argument\n",
      "  warnings.warn(\"Found `{}` in params. Will use it instead of argument\".format(alias))\n",
      "/opt/conda/lib/python3.7/site-packages/lightgbm/engine.py:148: UserWarning: Found `num_iterations` in params. Will use it instead of argument\n",
      "  warnings.warn(\"Found `{}` in params. Will use it instead of argument\".format(alias))\n",
      "/opt/conda/lib/python3.7/site-packages/lightgbm/engine.py:148: UserWarning: Found `num_iterations` in params. Will use it instead of argument\n",
      "  warnings.warn(\"Found `{}` in params. Will use it instead of argument\".format(alias))\n",
      "/opt/conda/lib/python3.7/site-packages/lightgbm/engine.py:148: UserWarning: Found `num_iterations` in params. Will use it instead of argument\n",
      "  warnings.warn(\"Found `{}` in params. Will use it instead of argument\".format(alias))\n",
      "/opt/conda/lib/python3.7/site-packages/lightgbm/engine.py:148: UserWarning: Found `num_iterations` in params. Will use it instead of argument\n",
      "  warnings.warn(\"Found `{}` in params. Will use it instead of argument\".format(alias))\n",
      "/opt/conda/lib/python3.7/site-packages/lightgbm/engine.py:148: UserWarning: Found `num_iterations` in params. Will use it instead of argument\n",
      "  warnings.warn(\"Found `{}` in params. Will use it instead of argument\".format(alias))\n",
      "/opt/conda/lib/python3.7/site-packages/lightgbm/engine.py:148: UserWarning: Found `num_iterations` in params. Will use it instead of argument\n",
      "  warnings.warn(\"Found `{}` in params. Will use it instead of argument\".format(alias))\n",
      "/opt/conda/lib/python3.7/site-packages/lightgbm/engine.py:148: UserWarning: Found `num_iterations` in params. Will use it instead of argument\n",
      "  warnings.warn(\"Found `{}` in params. Will use it instead of argument\".format(alias))\n",
      "/opt/conda/lib/python3.7/site-packages/lightgbm/engine.py:148: UserWarning: Found `num_iterations` in params. Will use it instead of argument\n",
      "  warnings.warn(\"Found `{}` in params. Will use it instead of argument\".format(alias))\n"
     ]
    },
    {
     "name": "stderr",
     "output_type": "stream",
     "text": [
      "/opt/conda/lib/python3.7/site-packages/lightgbm/engine.py:148: UserWarning: Found `num_iterations` in params. Will use it instead of argument\n",
      "  warnings.warn(\"Found `{}` in params. Will use it instead of argument\".format(alias))\n",
      "/opt/conda/lib/python3.7/site-packages/lightgbm/engine.py:148: UserWarning: Found `num_iterations` in params. Will use it instead of argument\n",
      "  warnings.warn(\"Found `{}` in params. Will use it instead of argument\".format(alias))\n",
      "/opt/conda/lib/python3.7/site-packages/lightgbm/engine.py:148: UserWarning: Found `num_iterations` in params. Will use it instead of argument\n",
      "  warnings.warn(\"Found `{}` in params. Will use it instead of argument\".format(alias))\n",
      "/opt/conda/lib/python3.7/site-packages/lightgbm/engine.py:148: UserWarning: Found `num_iterations` in params. Will use it instead of argument\n",
      "  warnings.warn(\"Found `{}` in params. Will use it instead of argument\".format(alias))\n",
      "/opt/conda/lib/python3.7/site-packages/lightgbm/engine.py:148: UserWarning: Found `num_iterations` in params. Will use it instead of argument\n",
      "  warnings.warn(\"Found `{}` in params. Will use it instead of argument\".format(alias))\n",
      "/opt/conda/lib/python3.7/site-packages/lightgbm/engine.py:148: UserWarning: Found `num_iterations` in params. Will use it instead of argument\n",
      "  warnings.warn(\"Found `{}` in params. Will use it instead of argument\".format(alias))\n",
      "/opt/conda/lib/python3.7/site-packages/lightgbm/engine.py:148: UserWarning: Found `num_iterations` in params. Will use it instead of argument\n",
      "  warnings.warn(\"Found `{}` in params. Will use it instead of argument\".format(alias))\n",
      "/opt/conda/lib/python3.7/site-packages/lightgbm/engine.py:148: UserWarning: Found `num_iterations` in params. Will use it instead of argument\n",
      "  warnings.warn(\"Found `{}` in params. Will use it instead of argument\".format(alias))\n",
      "/opt/conda/lib/python3.7/site-packages/lightgbm/engine.py:148: UserWarning: Found `num_iterations` in params. Will use it instead of argument\n",
      "  warnings.warn(\"Found `{}` in params. Will use it instead of argument\".format(alias))\n",
      "/opt/conda/lib/python3.7/site-packages/lightgbm/engine.py:148: UserWarning: Found `num_iterations` in params. Will use it instead of argument\n",
      "  warnings.warn(\"Found `{}` in params. Will use it instead of argument\".format(alias))\n",
      "/opt/conda/lib/python3.7/site-packages/lightgbm/engine.py:148: UserWarning: Found `num_iterations` in params. Will use it instead of argument\n",
      "  warnings.warn(\"Found `{}` in params. Will use it instead of argument\".format(alias))\n",
      "/opt/conda/lib/python3.7/site-packages/lightgbm/engine.py:148: UserWarning: Found `num_iterations` in params. Will use it instead of argument\n",
      "  warnings.warn(\"Found `{}` in params. Will use it instead of argument\".format(alias))\n",
      "/opt/conda/lib/python3.7/site-packages/lightgbm/engine.py:148: UserWarning: Found `num_iterations` in params. Will use it instead of argument\n",
      "  warnings.warn(\"Found `{}` in params. Will use it instead of argument\".format(alias))\n",
      "/opt/conda/lib/python3.7/site-packages/lightgbm/engine.py:148: UserWarning: Found `num_iterations` in params. Will use it instead of argument\n",
      "  warnings.warn(\"Found `{}` in params. Will use it instead of argument\".format(alias))\n",
      "/opt/conda/lib/python3.7/site-packages/lightgbm/engine.py:148: UserWarning: Found `num_iterations` in params. Will use it instead of argument\n",
      "  warnings.warn(\"Found `{}` in params. Will use it instead of argument\".format(alias))\n",
      "/opt/conda/lib/python3.7/site-packages/lightgbm/engine.py:148: UserWarning: Found `num_iterations` in params. Will use it instead of argument\n",
      "  warnings.warn(\"Found `{}` in params. Will use it instead of argument\".format(alias))\n",
      "/opt/conda/lib/python3.7/site-packages/lightgbm/engine.py:148: UserWarning: Found `num_iterations` in params. Will use it instead of argument\n",
      "  warnings.warn(\"Found `{}` in params. Will use it instead of argument\".format(alias))\n",
      "/opt/conda/lib/python3.7/site-packages/lightgbm/engine.py:148: UserWarning: Found `num_iterations` in params. Will use it instead of argument\n",
      "  warnings.warn(\"Found `{}` in params. Will use it instead of argument\".format(alias))\n",
      "/opt/conda/lib/python3.7/site-packages/lightgbm/engine.py:148: UserWarning: Found `num_iterations` in params. Will use it instead of argument\n",
      "  warnings.warn(\"Found `{}` in params. Will use it instead of argument\".format(alias))\n",
      "/opt/conda/lib/python3.7/site-packages/lightgbm/engine.py:148: UserWarning: Found `num_iterations` in params. Will use it instead of argument\n",
      "  warnings.warn(\"Found `{}` in params. Will use it instead of argument\".format(alias))\n",
      "/opt/conda/lib/python3.7/site-packages/lightgbm/engine.py:148: UserWarning: Found `num_iterations` in params. Will use it instead of argument\n",
      "  warnings.warn(\"Found `{}` in params. Will use it instead of argument\".format(alias))\n",
      "/opt/conda/lib/python3.7/site-packages/lightgbm/engine.py:148: UserWarning: Found `num_iterations` in params. Will use it instead of argument\n",
      "  warnings.warn(\"Found `{}` in params. Will use it instead of argument\".format(alias))\n",
      "/opt/conda/lib/python3.7/site-packages/lightgbm/engine.py:148: UserWarning: Found `num_iterations` in params. Will use it instead of argument\n",
      "  warnings.warn(\"Found `{}` in params. Will use it instead of argument\".format(alias))\n",
      "/opt/conda/lib/python3.7/site-packages/lightgbm/engine.py:148: UserWarning: Found `num_iterations` in params. Will use it instead of argument\n",
      "  warnings.warn(\"Found `{}` in params. Will use it instead of argument\".format(alias))\n",
      "/opt/conda/lib/python3.7/site-packages/lightgbm/engine.py:148: UserWarning: Found `num_iterations` in params. Will use it instead of argument\n",
      "  warnings.warn(\"Found `{}` in params. Will use it instead of argument\".format(alias))\n",
      "/opt/conda/lib/python3.7/site-packages/lightgbm/engine.py:148: UserWarning: Found `num_iterations` in params. Will use it instead of argument\n",
      "  warnings.warn(\"Found `{}` in params. Will use it instead of argument\".format(alias))\n",
      "/opt/conda/lib/python3.7/site-packages/lightgbm/engine.py:148: UserWarning: Found `num_iterations` in params. Will use it instead of argument\n",
      "  warnings.warn(\"Found `{}` in params. Will use it instead of argument\".format(alias))\n",
      "/opt/conda/lib/python3.7/site-packages/lightgbm/engine.py:148: UserWarning: Found `num_iterations` in params. Will use it instead of argument\n",
      "  warnings.warn(\"Found `{}` in params. Will use it instead of argument\".format(alias))\n",
      "/opt/conda/lib/python3.7/site-packages/lightgbm/engine.py:148: UserWarning: Found `num_iterations` in params. Will use it instead of argument\n",
      "  warnings.warn(\"Found `{}` in params. Will use it instead of argument\".format(alias))\n",
      "/opt/conda/lib/python3.7/site-packages/lightgbm/engine.py:148: UserWarning: Found `num_iterations` in params. Will use it instead of argument\n",
      "  warnings.warn(\"Found `{}` in params. Will use it instead of argument\".format(alias))\n",
      "/opt/conda/lib/python3.7/site-packages/lightgbm/engine.py:148: UserWarning: Found `num_iterations` in params. Will use it instead of argument\n",
      "  warnings.warn(\"Found `{}` in params. Will use it instead of argument\".format(alias))\n",
      "/opt/conda/lib/python3.7/site-packages/lightgbm/engine.py:148: UserWarning: Found `num_iterations` in params. Will use it instead of argument\n",
      "  warnings.warn(\"Found `{}` in params. Will use it instead of argument\".format(alias))\n",
      "/opt/conda/lib/python3.7/site-packages/lightgbm/engine.py:148: UserWarning: Found `num_iterations` in params. Will use it instead of argument\n",
      "  warnings.warn(\"Found `{}` in params. Will use it instead of argument\".format(alias))\n",
      "/opt/conda/lib/python3.7/site-packages/lightgbm/engine.py:148: UserWarning: Found `num_iterations` in params. Will use it instead of argument\n",
      "  warnings.warn(\"Found `{}` in params. Will use it instead of argument\".format(alias))\n",
      "/opt/conda/lib/python3.7/site-packages/lightgbm/engine.py:148: UserWarning: Found `num_iterations` in params. Will use it instead of argument\n",
      "  warnings.warn(\"Found `{}` in params. Will use it instead of argument\".format(alias))\n",
      "/opt/conda/lib/python3.7/site-packages/lightgbm/engine.py:148: UserWarning: Found `num_iterations` in params. Will use it instead of argument\n",
      "  warnings.warn(\"Found `{}` in params. Will use it instead of argument\".format(alias))\n"
     ]
    },
    {
     "name": "stderr",
     "output_type": "stream",
     "text": [
      "/opt/conda/lib/python3.7/site-packages/lightgbm/engine.py:148: UserWarning: Found `num_iterations` in params. Will use it instead of argument\n",
      "  warnings.warn(\"Found `{}` in params. Will use it instead of argument\".format(alias))\n",
      "/opt/conda/lib/python3.7/site-packages/lightgbm/engine.py:148: UserWarning: Found `num_iterations` in params. Will use it instead of argument\n",
      "  warnings.warn(\"Found `{}` in params. Will use it instead of argument\".format(alias))\n",
      "/opt/conda/lib/python3.7/site-packages/lightgbm/engine.py:148: UserWarning: Found `num_iterations` in params. Will use it instead of argument\n",
      "  warnings.warn(\"Found `{}` in params. Will use it instead of argument\".format(alias))\n",
      "/opt/conda/lib/python3.7/site-packages/lightgbm/engine.py:148: UserWarning: Found `num_iterations` in params. Will use it instead of argument\n",
      "  warnings.warn(\"Found `{}` in params. Will use it instead of argument\".format(alias))\n",
      "/opt/conda/lib/python3.7/site-packages/lightgbm/engine.py:148: UserWarning: Found `num_iterations` in params. Will use it instead of argument\n",
      "  warnings.warn(\"Found `{}` in params. Will use it instead of argument\".format(alias))\n",
      "/opt/conda/lib/python3.7/site-packages/lightgbm/engine.py:148: UserWarning: Found `num_iterations` in params. Will use it instead of argument\n",
      "  warnings.warn(\"Found `{}` in params. Will use it instead of argument\".format(alias))\n",
      "/opt/conda/lib/python3.7/site-packages/lightgbm/engine.py:148: UserWarning: Found `num_iterations` in params. Will use it instead of argument\n",
      "  warnings.warn(\"Found `{}` in params. Will use it instead of argument\".format(alias))\n",
      "/opt/conda/lib/python3.7/site-packages/lightgbm/engine.py:148: UserWarning: Found `num_iterations` in params. Will use it instead of argument\n",
      "  warnings.warn(\"Found `{}` in params. Will use it instead of argument\".format(alias))\n",
      "/opt/conda/lib/python3.7/site-packages/lightgbm/engine.py:148: UserWarning: Found `num_iterations` in params. Will use it instead of argument\n",
      "  warnings.warn(\"Found `{}` in params. Will use it instead of argument\".format(alias))\n",
      "/opt/conda/lib/python3.7/site-packages/lightgbm/engine.py:148: UserWarning: Found `num_iterations` in params. Will use it instead of argument\n",
      "  warnings.warn(\"Found `{}` in params. Will use it instead of argument\".format(alias))\n",
      "/opt/conda/lib/python3.7/site-packages/lightgbm/engine.py:148: UserWarning: Found `num_iterations` in params. Will use it instead of argument\n",
      "  warnings.warn(\"Found `{}` in params. Will use it instead of argument\".format(alias))\n",
      "/opt/conda/lib/python3.7/site-packages/lightgbm/engine.py:148: UserWarning: Found `num_iterations` in params. Will use it instead of argument\n",
      "  warnings.warn(\"Found `{}` in params. Will use it instead of argument\".format(alias))\n",
      "/opt/conda/lib/python3.7/site-packages/lightgbm/engine.py:148: UserWarning: Found `num_iterations` in params. Will use it instead of argument\n",
      "  warnings.warn(\"Found `{}` in params. Will use it instead of argument\".format(alias))\n",
      "/opt/conda/lib/python3.7/site-packages/lightgbm/engine.py:148: UserWarning: Found `num_iterations` in params. Will use it instead of argument\n",
      "  warnings.warn(\"Found `{}` in params. Will use it instead of argument\".format(alias))\n",
      "/opt/conda/lib/python3.7/site-packages/lightgbm/engine.py:148: UserWarning: Found `num_iterations` in params. Will use it instead of argument\n",
      "  warnings.warn(\"Found `{}` in params. Will use it instead of argument\".format(alias))\n",
      "/opt/conda/lib/python3.7/site-packages/lightgbm/engine.py:148: UserWarning: Found `num_iterations` in params. Will use it instead of argument\n",
      "  warnings.warn(\"Found `{}` in params. Will use it instead of argument\".format(alias))\n",
      "/opt/conda/lib/python3.7/site-packages/lightgbm/engine.py:148: UserWarning: Found `num_iterations` in params. Will use it instead of argument\n",
      "  warnings.warn(\"Found `{}` in params. Will use it instead of argument\".format(alias))\n",
      "/opt/conda/lib/python3.7/site-packages/lightgbm/engine.py:148: UserWarning: Found `num_iterations` in params. Will use it instead of argument\n",
      "  warnings.warn(\"Found `{}` in params. Will use it instead of argument\".format(alias))\n",
      "/opt/conda/lib/python3.7/site-packages/lightgbm/engine.py:148: UserWarning: Found `num_iterations` in params. Will use it instead of argument\n",
      "  warnings.warn(\"Found `{}` in params. Will use it instead of argument\".format(alias))\n",
      "/opt/conda/lib/python3.7/site-packages/lightgbm/engine.py:148: UserWarning: Found `num_iterations` in params. Will use it instead of argument\n",
      "  warnings.warn(\"Found `{}` in params. Will use it instead of argument\".format(alias))\n",
      "/opt/conda/lib/python3.7/site-packages/lightgbm/engine.py:148: UserWarning: Found `num_iterations` in params. Will use it instead of argument\n",
      "  warnings.warn(\"Found `{}` in params. Will use it instead of argument\".format(alias))\n",
      "/opt/conda/lib/python3.7/site-packages/lightgbm/engine.py:148: UserWarning: Found `num_iterations` in params. Will use it instead of argument\n",
      "  warnings.warn(\"Found `{}` in params. Will use it instead of argument\".format(alias))\n",
      "/opt/conda/lib/python3.7/site-packages/lightgbm/engine.py:148: UserWarning: Found `num_iterations` in params. Will use it instead of argument\n",
      "  warnings.warn(\"Found `{}` in params. Will use it instead of argument\".format(alias))\n",
      "/opt/conda/lib/python3.7/site-packages/lightgbm/engine.py:148: UserWarning: Found `num_iterations` in params. Will use it instead of argument\n",
      "  warnings.warn(\"Found `{}` in params. Will use it instead of argument\".format(alias))\n",
      "/opt/conda/lib/python3.7/site-packages/lightgbm/engine.py:148: UserWarning: Found `num_iterations` in params. Will use it instead of argument\n",
      "  warnings.warn(\"Found `{}` in params. Will use it instead of argument\".format(alias))\n",
      "/opt/conda/lib/python3.7/site-packages/lightgbm/engine.py:148: UserWarning: Found `num_iterations` in params. Will use it instead of argument\n",
      "  warnings.warn(\"Found `{}` in params. Will use it instead of argument\".format(alias))\n",
      "/opt/conda/lib/python3.7/site-packages/lightgbm/engine.py:148: UserWarning: Found `num_iterations` in params. Will use it instead of argument\n",
      "  warnings.warn(\"Found `{}` in params. Will use it instead of argument\".format(alias))\n",
      "/opt/conda/lib/python3.7/site-packages/lightgbm/engine.py:148: UserWarning: Found `num_iterations` in params. Will use it instead of argument\n",
      "  warnings.warn(\"Found `{}` in params. Will use it instead of argument\".format(alias))\n",
      "/opt/conda/lib/python3.7/site-packages/lightgbm/engine.py:148: UserWarning: Found `num_iterations` in params. Will use it instead of argument\n",
      "  warnings.warn(\"Found `{}` in params. Will use it instead of argument\".format(alias))\n",
      "/opt/conda/lib/python3.7/site-packages/lightgbm/engine.py:148: UserWarning: Found `num_iterations` in params. Will use it instead of argument\n",
      "  warnings.warn(\"Found `{}` in params. Will use it instead of argument\".format(alias))\n"
     ]
    },
    {
     "name": "stdout",
     "output_type": "stream",
     "text": [
      "Label: 1\n"
     ]
    },
    {
     "name": "stderr",
     "output_type": "stream",
     "text": [
      "/opt/conda/lib/python3.7/site-packages/lightgbm/engine.py:148: UserWarning: Found `num_iterations` in params. Will use it instead of argument\n",
      "  warnings.warn(\"Found `{}` in params. Will use it instead of argument\".format(alias))\n",
      "/opt/conda/lib/python3.7/site-packages/lightgbm/engine.py:148: UserWarning: Found `num_iterations` in params. Will use it instead of argument\n",
      "  warnings.warn(\"Found `{}` in params. Will use it instead of argument\".format(alias))\n",
      "/opt/conda/lib/python3.7/site-packages/lightgbm/engine.py:148: UserWarning: Found `num_iterations` in params. Will use it instead of argument\n",
      "  warnings.warn(\"Found `{}` in params. Will use it instead of argument\".format(alias))\n",
      "/opt/conda/lib/python3.7/site-packages/lightgbm/engine.py:148: UserWarning: Found `num_iterations` in params. Will use it instead of argument\n",
      "  warnings.warn(\"Found `{}` in params. Will use it instead of argument\".format(alias))\n",
      "/opt/conda/lib/python3.7/site-packages/lightgbm/engine.py:148: UserWarning: Found `num_iterations` in params. Will use it instead of argument\n",
      "  warnings.warn(\"Found `{}` in params. Will use it instead of argument\".format(alias))\n",
      "/opt/conda/lib/python3.7/site-packages/lightgbm/engine.py:148: UserWarning: Found `num_iterations` in params. Will use it instead of argument\n",
      "  warnings.warn(\"Found `{}` in params. Will use it instead of argument\".format(alias))\n",
      "/opt/conda/lib/python3.7/site-packages/lightgbm/engine.py:148: UserWarning: Found `num_iterations` in params. Will use it instead of argument\n",
      "  warnings.warn(\"Found `{}` in params. Will use it instead of argument\".format(alias))\n",
      "/opt/conda/lib/python3.7/site-packages/lightgbm/engine.py:148: UserWarning: Found `num_iterations` in params. Will use it instead of argument\n",
      "  warnings.warn(\"Found `{}` in params. Will use it instead of argument\".format(alias))\n",
      "/opt/conda/lib/python3.7/site-packages/lightgbm/engine.py:148: UserWarning: Found `num_iterations` in params. Will use it instead of argument\n",
      "  warnings.warn(\"Found `{}` in params. Will use it instead of argument\".format(alias))\n",
      "/opt/conda/lib/python3.7/site-packages/lightgbm/engine.py:148: UserWarning: Found `num_iterations` in params. Will use it instead of argument\n",
      "  warnings.warn(\"Found `{}` in params. Will use it instead of argument\".format(alias))\n",
      "/opt/conda/lib/python3.7/site-packages/lightgbm/engine.py:148: UserWarning: Found `num_iterations` in params. Will use it instead of argument\n",
      "  warnings.warn(\"Found `{}` in params. Will use it instead of argument\".format(alias))\n",
      "/opt/conda/lib/python3.7/site-packages/lightgbm/engine.py:148: UserWarning: Found `num_iterations` in params. Will use it instead of argument\n",
      "  warnings.warn(\"Found `{}` in params. Will use it instead of argument\".format(alias))\n",
      "/opt/conda/lib/python3.7/site-packages/lightgbm/engine.py:148: UserWarning: Found `num_iterations` in params. Will use it instead of argument\n",
      "  warnings.warn(\"Found `{}` in params. Will use it instead of argument\".format(alias))\n",
      "/opt/conda/lib/python3.7/site-packages/lightgbm/engine.py:148: UserWarning: Found `num_iterations` in params. Will use it instead of argument\n",
      "  warnings.warn(\"Found `{}` in params. Will use it instead of argument\".format(alias))\n",
      "/opt/conda/lib/python3.7/site-packages/lightgbm/engine.py:148: UserWarning: Found `num_iterations` in params. Will use it instead of argument\n",
      "  warnings.warn(\"Found `{}` in params. Will use it instead of argument\".format(alias))\n",
      "/opt/conda/lib/python3.7/site-packages/lightgbm/engine.py:148: UserWarning: Found `num_iterations` in params. Will use it instead of argument\n",
      "  warnings.warn(\"Found `{}` in params. Will use it instead of argument\".format(alias))\n",
      "/opt/conda/lib/python3.7/site-packages/lightgbm/engine.py:148: UserWarning: Found `num_iterations` in params. Will use it instead of argument\n",
      "  warnings.warn(\"Found `{}` in params. Will use it instead of argument\".format(alias))\n",
      "/opt/conda/lib/python3.7/site-packages/lightgbm/engine.py:148: UserWarning: Found `num_iterations` in params. Will use it instead of argument\n",
      "  warnings.warn(\"Found `{}` in params. Will use it instead of argument\".format(alias))\n",
      "/opt/conda/lib/python3.7/site-packages/lightgbm/engine.py:148: UserWarning: Found `num_iterations` in params. Will use it instead of argument\n",
      "  warnings.warn(\"Found `{}` in params. Will use it instead of argument\".format(alias))\n",
      "/opt/conda/lib/python3.7/site-packages/lightgbm/engine.py:148: UserWarning: Found `num_iterations` in params. Will use it instead of argument\n",
      "  warnings.warn(\"Found `{}` in params. Will use it instead of argument\".format(alias))\n",
      "/opt/conda/lib/python3.7/site-packages/lightgbm/engine.py:148: UserWarning: Found `num_iterations` in params. Will use it instead of argument\n",
      "  warnings.warn(\"Found `{}` in params. Will use it instead of argument\".format(alias))\n",
      "/opt/conda/lib/python3.7/site-packages/lightgbm/engine.py:148: UserWarning: Found `num_iterations` in params. Will use it instead of argument\n",
      "  warnings.warn(\"Found `{}` in params. Will use it instead of argument\".format(alias))\n",
      "/opt/conda/lib/python3.7/site-packages/lightgbm/engine.py:148: UserWarning: Found `num_iterations` in params. Will use it instead of argument\n",
      "  warnings.warn(\"Found `{}` in params. Will use it instead of argument\".format(alias))\n",
      "/opt/conda/lib/python3.7/site-packages/lightgbm/engine.py:148: UserWarning: Found `num_iterations` in params. Will use it instead of argument\n",
      "  warnings.warn(\"Found `{}` in params. Will use it instead of argument\".format(alias))\n",
      "/opt/conda/lib/python3.7/site-packages/lightgbm/engine.py:148: UserWarning: Found `num_iterations` in params. Will use it instead of argument\n",
      "  warnings.warn(\"Found `{}` in params. Will use it instead of argument\".format(alias))\n",
      "/opt/conda/lib/python3.7/site-packages/lightgbm/engine.py:148: UserWarning: Found `num_iterations` in params. Will use it instead of argument\n",
      "  warnings.warn(\"Found `{}` in params. Will use it instead of argument\".format(alias))\n",
      "/opt/conda/lib/python3.7/site-packages/lightgbm/engine.py:148: UserWarning: Found `num_iterations` in params. Will use it instead of argument\n",
      "  warnings.warn(\"Found `{}` in params. Will use it instead of argument\".format(alias))\n",
      "/opt/conda/lib/python3.7/site-packages/lightgbm/engine.py:148: UserWarning: Found `num_iterations` in params. Will use it instead of argument\n",
      "  warnings.warn(\"Found `{}` in params. Will use it instead of argument\".format(alias))\n",
      "/opt/conda/lib/python3.7/site-packages/lightgbm/engine.py:148: UserWarning: Found `num_iterations` in params. Will use it instead of argument\n",
      "  warnings.warn(\"Found `{}` in params. Will use it instead of argument\".format(alias))\n",
      "/opt/conda/lib/python3.7/site-packages/lightgbm/engine.py:148: UserWarning: Found `num_iterations` in params. Will use it instead of argument\n",
      "  warnings.warn(\"Found `{}` in params. Will use it instead of argument\".format(alias))\n",
      "/opt/conda/lib/python3.7/site-packages/lightgbm/engine.py:148: UserWarning: Found `num_iterations` in params. Will use it instead of argument\n",
      "  warnings.warn(\"Found `{}` in params. Will use it instead of argument\".format(alias))\n",
      "/opt/conda/lib/python3.7/site-packages/lightgbm/engine.py:148: UserWarning: Found `num_iterations` in params. Will use it instead of argument\n",
      "  warnings.warn(\"Found `{}` in params. Will use it instead of argument\".format(alias))\n",
      "/opt/conda/lib/python3.7/site-packages/lightgbm/engine.py:148: UserWarning: Found `num_iterations` in params. Will use it instead of argument\n",
      "  warnings.warn(\"Found `{}` in params. Will use it instead of argument\".format(alias))\n",
      "/opt/conda/lib/python3.7/site-packages/lightgbm/engine.py:148: UserWarning: Found `num_iterations` in params. Will use it instead of argument\n",
      "  warnings.warn(\"Found `{}` in params. Will use it instead of argument\".format(alias))\n",
      "/opt/conda/lib/python3.7/site-packages/lightgbm/engine.py:148: UserWarning: Found `num_iterations` in params. Will use it instead of argument\n",
      "  warnings.warn(\"Found `{}` in params. Will use it instead of argument\".format(alias))\n",
      "/opt/conda/lib/python3.7/site-packages/lightgbm/engine.py:148: UserWarning: Found `num_iterations` in params. Will use it instead of argument\n",
      "  warnings.warn(\"Found `{}` in params. Will use it instead of argument\".format(alias))\n"
     ]
    },
    {
     "name": "stderr",
     "output_type": "stream",
     "text": [
      "/opt/conda/lib/python3.7/site-packages/lightgbm/engine.py:148: UserWarning: Found `num_iterations` in params. Will use it instead of argument\n",
      "  warnings.warn(\"Found `{}` in params. Will use it instead of argument\".format(alias))\n",
      "/opt/conda/lib/python3.7/site-packages/lightgbm/engine.py:148: UserWarning: Found `num_iterations` in params. Will use it instead of argument\n",
      "  warnings.warn(\"Found `{}` in params. Will use it instead of argument\".format(alias))\n",
      "/opt/conda/lib/python3.7/site-packages/lightgbm/engine.py:148: UserWarning: Found `num_iterations` in params. Will use it instead of argument\n",
      "  warnings.warn(\"Found `{}` in params. Will use it instead of argument\".format(alias))\n",
      "/opt/conda/lib/python3.7/site-packages/lightgbm/engine.py:148: UserWarning: Found `num_iterations` in params. Will use it instead of argument\n",
      "  warnings.warn(\"Found `{}` in params. Will use it instead of argument\".format(alias))\n",
      "/opt/conda/lib/python3.7/site-packages/lightgbm/engine.py:148: UserWarning: Found `num_iterations` in params. Will use it instead of argument\n",
      "  warnings.warn(\"Found `{}` in params. Will use it instead of argument\".format(alias))\n",
      "/opt/conda/lib/python3.7/site-packages/lightgbm/engine.py:148: UserWarning: Found `num_iterations` in params. Will use it instead of argument\n",
      "  warnings.warn(\"Found `{}` in params. Will use it instead of argument\".format(alias))\n",
      "/opt/conda/lib/python3.7/site-packages/lightgbm/engine.py:148: UserWarning: Found `num_iterations` in params. Will use it instead of argument\n",
      "  warnings.warn(\"Found `{}` in params. Will use it instead of argument\".format(alias))\n",
      "/opt/conda/lib/python3.7/site-packages/lightgbm/engine.py:148: UserWarning: Found `num_iterations` in params. Will use it instead of argument\n",
      "  warnings.warn(\"Found `{}` in params. Will use it instead of argument\".format(alias))\n",
      "/opt/conda/lib/python3.7/site-packages/lightgbm/engine.py:148: UserWarning: Found `num_iterations` in params. Will use it instead of argument\n",
      "  warnings.warn(\"Found `{}` in params. Will use it instead of argument\".format(alias))\n",
      "/opt/conda/lib/python3.7/site-packages/lightgbm/engine.py:148: UserWarning: Found `num_iterations` in params. Will use it instead of argument\n",
      "  warnings.warn(\"Found `{}` in params. Will use it instead of argument\".format(alias))\n",
      "/opt/conda/lib/python3.7/site-packages/lightgbm/engine.py:148: UserWarning: Found `num_iterations` in params. Will use it instead of argument\n",
      "  warnings.warn(\"Found `{}` in params. Will use it instead of argument\".format(alias))\n",
      "/opt/conda/lib/python3.7/site-packages/lightgbm/engine.py:148: UserWarning: Found `num_iterations` in params. Will use it instead of argument\n",
      "  warnings.warn(\"Found `{}` in params. Will use it instead of argument\".format(alias))\n",
      "/opt/conda/lib/python3.7/site-packages/lightgbm/engine.py:148: UserWarning: Found `num_iterations` in params. Will use it instead of argument\n",
      "  warnings.warn(\"Found `{}` in params. Will use it instead of argument\".format(alias))\n",
      "/opt/conda/lib/python3.7/site-packages/lightgbm/engine.py:148: UserWarning: Found `num_iterations` in params. Will use it instead of argument\n",
      "  warnings.warn(\"Found `{}` in params. Will use it instead of argument\".format(alias))\n",
      "/opt/conda/lib/python3.7/site-packages/lightgbm/engine.py:148: UserWarning: Found `num_iterations` in params. Will use it instead of argument\n",
      "  warnings.warn(\"Found `{}` in params. Will use it instead of argument\".format(alias))\n",
      "/opt/conda/lib/python3.7/site-packages/lightgbm/engine.py:148: UserWarning: Found `num_iterations` in params. Will use it instead of argument\n",
      "  warnings.warn(\"Found `{}` in params. Will use it instead of argument\".format(alias))\n",
      "/opt/conda/lib/python3.7/site-packages/lightgbm/engine.py:148: UserWarning: Found `num_iterations` in params. Will use it instead of argument\n",
      "  warnings.warn(\"Found `{}` in params. Will use it instead of argument\".format(alias))\n",
      "/opt/conda/lib/python3.7/site-packages/lightgbm/engine.py:148: UserWarning: Found `num_iterations` in params. Will use it instead of argument\n",
      "  warnings.warn(\"Found `{}` in params. Will use it instead of argument\".format(alias))\n",
      "/opt/conda/lib/python3.7/site-packages/lightgbm/engine.py:148: UserWarning: Found `num_iterations` in params. Will use it instead of argument\n",
      "  warnings.warn(\"Found `{}` in params. Will use it instead of argument\".format(alias))\n",
      "/opt/conda/lib/python3.7/site-packages/lightgbm/engine.py:148: UserWarning: Found `num_iterations` in params. Will use it instead of argument\n",
      "  warnings.warn(\"Found `{}` in params. Will use it instead of argument\".format(alias))\n",
      "/opt/conda/lib/python3.7/site-packages/lightgbm/engine.py:148: UserWarning: Found `num_iterations` in params. Will use it instead of argument\n",
      "  warnings.warn(\"Found `{}` in params. Will use it instead of argument\".format(alias))\n",
      "/opt/conda/lib/python3.7/site-packages/lightgbm/engine.py:148: UserWarning: Found `num_iterations` in params. Will use it instead of argument\n",
      "  warnings.warn(\"Found `{}` in params. Will use it instead of argument\".format(alias))\n",
      "/opt/conda/lib/python3.7/site-packages/lightgbm/engine.py:148: UserWarning: Found `num_iterations` in params. Will use it instead of argument\n",
      "  warnings.warn(\"Found `{}` in params. Will use it instead of argument\".format(alias))\n",
      "/opt/conda/lib/python3.7/site-packages/lightgbm/engine.py:148: UserWarning: Found `num_iterations` in params. Will use it instead of argument\n",
      "  warnings.warn(\"Found `{}` in params. Will use it instead of argument\".format(alias))\n",
      "/opt/conda/lib/python3.7/site-packages/lightgbm/engine.py:148: UserWarning: Found `num_iterations` in params. Will use it instead of argument\n",
      "  warnings.warn(\"Found `{}` in params. Will use it instead of argument\".format(alias))\n",
      "/opt/conda/lib/python3.7/site-packages/lightgbm/engine.py:148: UserWarning: Found `num_iterations` in params. Will use it instead of argument\n",
      "  warnings.warn(\"Found `{}` in params. Will use it instead of argument\".format(alias))\n",
      "/opt/conda/lib/python3.7/site-packages/lightgbm/engine.py:148: UserWarning: Found `num_iterations` in params. Will use it instead of argument\n",
      "  warnings.warn(\"Found `{}` in params. Will use it instead of argument\".format(alias))\n",
      "/opt/conda/lib/python3.7/site-packages/lightgbm/engine.py:148: UserWarning: Found `num_iterations` in params. Will use it instead of argument\n",
      "  warnings.warn(\"Found `{}` in params. Will use it instead of argument\".format(alias))\n",
      "/opt/conda/lib/python3.7/site-packages/lightgbm/engine.py:148: UserWarning: Found `num_iterations` in params. Will use it instead of argument\n",
      "  warnings.warn(\"Found `{}` in params. Will use it instead of argument\".format(alias))\n",
      "/opt/conda/lib/python3.7/site-packages/lightgbm/engine.py:148: UserWarning: Found `num_iterations` in params. Will use it instead of argument\n",
      "  warnings.warn(\"Found `{}` in params. Will use it instead of argument\".format(alias))\n",
      "/opt/conda/lib/python3.7/site-packages/lightgbm/engine.py:148: UserWarning: Found `num_iterations` in params. Will use it instead of argument\n",
      "  warnings.warn(\"Found `{}` in params. Will use it instead of argument\".format(alias))\n",
      "/opt/conda/lib/python3.7/site-packages/lightgbm/engine.py:148: UserWarning: Found `num_iterations` in params. Will use it instead of argument\n",
      "  warnings.warn(\"Found `{}` in params. Will use it instead of argument\".format(alias))\n",
      "/opt/conda/lib/python3.7/site-packages/lightgbm/engine.py:148: UserWarning: Found `num_iterations` in params. Will use it instead of argument\n",
      "  warnings.warn(\"Found `{}` in params. Will use it instead of argument\".format(alias))\n",
      "/opt/conda/lib/python3.7/site-packages/lightgbm/engine.py:148: UserWarning: Found `num_iterations` in params. Will use it instead of argument\n",
      "  warnings.warn(\"Found `{}` in params. Will use it instead of argument\".format(alias))\n",
      "/opt/conda/lib/python3.7/site-packages/lightgbm/engine.py:148: UserWarning: Found `num_iterations` in params. Will use it instead of argument\n",
      "  warnings.warn(\"Found `{}` in params. Will use it instead of argument\".format(alias))\n",
      "/opt/conda/lib/python3.7/site-packages/lightgbm/engine.py:148: UserWarning: Found `num_iterations` in params. Will use it instead of argument\n",
      "  warnings.warn(\"Found `{}` in params. Will use it instead of argument\".format(alias))\n"
     ]
    },
    {
     "name": "stderr",
     "output_type": "stream",
     "text": [
      "/opt/conda/lib/python3.7/site-packages/lightgbm/engine.py:148: UserWarning: Found `num_iterations` in params. Will use it instead of argument\n",
      "  warnings.warn(\"Found `{}` in params. Will use it instead of argument\".format(alias))\n",
      "/opt/conda/lib/python3.7/site-packages/lightgbm/engine.py:148: UserWarning: Found `num_iterations` in params. Will use it instead of argument\n",
      "  warnings.warn(\"Found `{}` in params. Will use it instead of argument\".format(alias))\n",
      "/opt/conda/lib/python3.7/site-packages/lightgbm/engine.py:148: UserWarning: Found `num_iterations` in params. Will use it instead of argument\n",
      "  warnings.warn(\"Found `{}` in params. Will use it instead of argument\".format(alias))\n",
      "/opt/conda/lib/python3.7/site-packages/lightgbm/engine.py:148: UserWarning: Found `num_iterations` in params. Will use it instead of argument\n",
      "  warnings.warn(\"Found `{}` in params. Will use it instead of argument\".format(alias))\n",
      "/opt/conda/lib/python3.7/site-packages/lightgbm/engine.py:148: UserWarning: Found `num_iterations` in params. Will use it instead of argument\n",
      "  warnings.warn(\"Found `{}` in params. Will use it instead of argument\".format(alias))\n",
      "/opt/conda/lib/python3.7/site-packages/lightgbm/engine.py:148: UserWarning: Found `num_iterations` in params. Will use it instead of argument\n",
      "  warnings.warn(\"Found `{}` in params. Will use it instead of argument\".format(alias))\n",
      "/opt/conda/lib/python3.7/site-packages/lightgbm/engine.py:148: UserWarning: Found `num_iterations` in params. Will use it instead of argument\n",
      "  warnings.warn(\"Found `{}` in params. Will use it instead of argument\".format(alias))\n",
      "/opt/conda/lib/python3.7/site-packages/lightgbm/engine.py:148: UserWarning: Found `num_iterations` in params. Will use it instead of argument\n",
      "  warnings.warn(\"Found `{}` in params. Will use it instead of argument\".format(alias))\n",
      "/opt/conda/lib/python3.7/site-packages/lightgbm/engine.py:148: UserWarning: Found `num_iterations` in params. Will use it instead of argument\n",
      "  warnings.warn(\"Found `{}` in params. Will use it instead of argument\".format(alias))\n",
      "/opt/conda/lib/python3.7/site-packages/lightgbm/engine.py:148: UserWarning: Found `num_iterations` in params. Will use it instead of argument\n",
      "  warnings.warn(\"Found `{}` in params. Will use it instead of argument\".format(alias))\n",
      "/opt/conda/lib/python3.7/site-packages/lightgbm/engine.py:148: UserWarning: Found `num_iterations` in params. Will use it instead of argument\n",
      "  warnings.warn(\"Found `{}` in params. Will use it instead of argument\".format(alias))\n",
      "/opt/conda/lib/python3.7/site-packages/lightgbm/engine.py:148: UserWarning: Found `num_iterations` in params. Will use it instead of argument\n",
      "  warnings.warn(\"Found `{}` in params. Will use it instead of argument\".format(alias))\n",
      "/opt/conda/lib/python3.7/site-packages/lightgbm/engine.py:148: UserWarning: Found `num_iterations` in params. Will use it instead of argument\n",
      "  warnings.warn(\"Found `{}` in params. Will use it instead of argument\".format(alias))\n",
      "/opt/conda/lib/python3.7/site-packages/lightgbm/engine.py:148: UserWarning: Found `num_iterations` in params. Will use it instead of argument\n",
      "  warnings.warn(\"Found `{}` in params. Will use it instead of argument\".format(alias))\n",
      "/opt/conda/lib/python3.7/site-packages/lightgbm/engine.py:148: UserWarning: Found `num_iterations` in params. Will use it instead of argument\n",
      "  warnings.warn(\"Found `{}` in params. Will use it instead of argument\".format(alias))\n",
      "/opt/conda/lib/python3.7/site-packages/lightgbm/engine.py:148: UserWarning: Found `num_iterations` in params. Will use it instead of argument\n",
      "  warnings.warn(\"Found `{}` in params. Will use it instead of argument\".format(alias))\n",
      "/opt/conda/lib/python3.7/site-packages/lightgbm/engine.py:148: UserWarning: Found `num_iterations` in params. Will use it instead of argument\n",
      "  warnings.warn(\"Found `{}` in params. Will use it instead of argument\".format(alias))\n",
      "/opt/conda/lib/python3.7/site-packages/lightgbm/engine.py:148: UserWarning: Found `num_iterations` in params. Will use it instead of argument\n",
      "  warnings.warn(\"Found `{}` in params. Will use it instead of argument\".format(alias))\n",
      "/opt/conda/lib/python3.7/site-packages/lightgbm/engine.py:148: UserWarning: Found `num_iterations` in params. Will use it instead of argument\n",
      "  warnings.warn(\"Found `{}` in params. Will use it instead of argument\".format(alias))\n",
      "/opt/conda/lib/python3.7/site-packages/lightgbm/engine.py:148: UserWarning: Found `num_iterations` in params. Will use it instead of argument\n",
      "  warnings.warn(\"Found `{}` in params. Will use it instead of argument\".format(alias))\n",
      "/opt/conda/lib/python3.7/site-packages/lightgbm/engine.py:148: UserWarning: Found `num_iterations` in params. Will use it instead of argument\n",
      "  warnings.warn(\"Found `{}` in params. Will use it instead of argument\".format(alias))\n",
      "/opt/conda/lib/python3.7/site-packages/lightgbm/engine.py:148: UserWarning: Found `num_iterations` in params. Will use it instead of argument\n",
      "  warnings.warn(\"Found `{}` in params. Will use it instead of argument\".format(alias))\n",
      "/opt/conda/lib/python3.7/site-packages/lightgbm/engine.py:148: UserWarning: Found `num_iterations` in params. Will use it instead of argument\n",
      "  warnings.warn(\"Found `{}` in params. Will use it instead of argument\".format(alias))\n",
      "/opt/conda/lib/python3.7/site-packages/lightgbm/engine.py:148: UserWarning: Found `num_iterations` in params. Will use it instead of argument\n",
      "  warnings.warn(\"Found `{}` in params. Will use it instead of argument\".format(alias))\n",
      "/opt/conda/lib/python3.7/site-packages/lightgbm/engine.py:148: UserWarning: Found `num_iterations` in params. Will use it instead of argument\n",
      "  warnings.warn(\"Found `{}` in params. Will use it instead of argument\".format(alias))\n",
      "/opt/conda/lib/python3.7/site-packages/lightgbm/engine.py:148: UserWarning: Found `num_iterations` in params. Will use it instead of argument\n",
      "  warnings.warn(\"Found `{}` in params. Will use it instead of argument\".format(alias))\n",
      "/opt/conda/lib/python3.7/site-packages/lightgbm/engine.py:148: UserWarning: Found `num_iterations` in params. Will use it instead of argument\n",
      "  warnings.warn(\"Found `{}` in params. Will use it instead of argument\".format(alias))\n",
      "/opt/conda/lib/python3.7/site-packages/lightgbm/engine.py:148: UserWarning: Found `num_iterations` in params. Will use it instead of argument\n",
      "  warnings.warn(\"Found `{}` in params. Will use it instead of argument\".format(alias))\n",
      "/opt/conda/lib/python3.7/site-packages/lightgbm/engine.py:148: UserWarning: Found `num_iterations` in params. Will use it instead of argument\n",
      "  warnings.warn(\"Found `{}` in params. Will use it instead of argument\".format(alias))\n",
      "/opt/conda/lib/python3.7/site-packages/lightgbm/engine.py:148: UserWarning: Found `num_iterations` in params. Will use it instead of argument\n",
      "  warnings.warn(\"Found `{}` in params. Will use it instead of argument\".format(alias))\n"
     ]
    },
    {
     "name": "stdout",
     "output_type": "stream",
     "text": [
      "Label: 2\n"
     ]
    },
    {
     "name": "stderr",
     "output_type": "stream",
     "text": [
      "/opt/conda/lib/python3.7/site-packages/lightgbm/engine.py:148: UserWarning: Found `num_iterations` in params. Will use it instead of argument\n",
      "  warnings.warn(\"Found `{}` in params. Will use it instead of argument\".format(alias))\n",
      "/opt/conda/lib/python3.7/site-packages/lightgbm/engine.py:148: UserWarning: Found `num_iterations` in params. Will use it instead of argument\n",
      "  warnings.warn(\"Found `{}` in params. Will use it instead of argument\".format(alias))\n",
      "/opt/conda/lib/python3.7/site-packages/lightgbm/engine.py:148: UserWarning: Found `num_iterations` in params. Will use it instead of argument\n",
      "  warnings.warn(\"Found `{}` in params. Will use it instead of argument\".format(alias))\n",
      "/opt/conda/lib/python3.7/site-packages/lightgbm/engine.py:148: UserWarning: Found `num_iterations` in params. Will use it instead of argument\n",
      "  warnings.warn(\"Found `{}` in params. Will use it instead of argument\".format(alias))\n",
      "/opt/conda/lib/python3.7/site-packages/lightgbm/engine.py:148: UserWarning: Found `num_iterations` in params. Will use it instead of argument\n",
      "  warnings.warn(\"Found `{}` in params. Will use it instead of argument\".format(alias))\n",
      "/opt/conda/lib/python3.7/site-packages/lightgbm/engine.py:148: UserWarning: Found `num_iterations` in params. Will use it instead of argument\n",
      "  warnings.warn(\"Found `{}` in params. Will use it instead of argument\".format(alias))\n",
      "/opt/conda/lib/python3.7/site-packages/lightgbm/engine.py:148: UserWarning: Found `num_iterations` in params. Will use it instead of argument\n",
      "  warnings.warn(\"Found `{}` in params. Will use it instead of argument\".format(alias))\n",
      "/opt/conda/lib/python3.7/site-packages/lightgbm/engine.py:148: UserWarning: Found `num_iterations` in params. Will use it instead of argument\n",
      "  warnings.warn(\"Found `{}` in params. Will use it instead of argument\".format(alias))\n",
      "/opt/conda/lib/python3.7/site-packages/lightgbm/engine.py:148: UserWarning: Found `num_iterations` in params. Will use it instead of argument\n",
      "  warnings.warn(\"Found `{}` in params. Will use it instead of argument\".format(alias))\n",
      "/opt/conda/lib/python3.7/site-packages/lightgbm/engine.py:148: UserWarning: Found `num_iterations` in params. Will use it instead of argument\n",
      "  warnings.warn(\"Found `{}` in params. Will use it instead of argument\".format(alias))\n",
      "/opt/conda/lib/python3.7/site-packages/lightgbm/engine.py:148: UserWarning: Found `num_iterations` in params. Will use it instead of argument\n",
      "  warnings.warn(\"Found `{}` in params. Will use it instead of argument\".format(alias))\n",
      "/opt/conda/lib/python3.7/site-packages/lightgbm/engine.py:148: UserWarning: Found `num_iterations` in params. Will use it instead of argument\n",
      "  warnings.warn(\"Found `{}` in params. Will use it instead of argument\".format(alias))\n",
      "/opt/conda/lib/python3.7/site-packages/lightgbm/engine.py:148: UserWarning: Found `num_iterations` in params. Will use it instead of argument\n",
      "  warnings.warn(\"Found `{}` in params. Will use it instead of argument\".format(alias))\n",
      "/opt/conda/lib/python3.7/site-packages/lightgbm/engine.py:148: UserWarning: Found `num_iterations` in params. Will use it instead of argument\n",
      "  warnings.warn(\"Found `{}` in params. Will use it instead of argument\".format(alias))\n",
      "/opt/conda/lib/python3.7/site-packages/lightgbm/engine.py:148: UserWarning: Found `num_iterations` in params. Will use it instead of argument\n",
      "  warnings.warn(\"Found `{}` in params. Will use it instead of argument\".format(alias))\n",
      "/opt/conda/lib/python3.7/site-packages/lightgbm/engine.py:148: UserWarning: Found `num_iterations` in params. Will use it instead of argument\n",
      "  warnings.warn(\"Found `{}` in params. Will use it instead of argument\".format(alias))\n",
      "/opt/conda/lib/python3.7/site-packages/lightgbm/engine.py:148: UserWarning: Found `num_iterations` in params. Will use it instead of argument\n",
      "  warnings.warn(\"Found `{}` in params. Will use it instead of argument\".format(alias))\n",
      "/opt/conda/lib/python3.7/site-packages/lightgbm/engine.py:148: UserWarning: Found `num_iterations` in params. Will use it instead of argument\n",
      "  warnings.warn(\"Found `{}` in params. Will use it instead of argument\".format(alias))\n",
      "/opt/conda/lib/python3.7/site-packages/lightgbm/engine.py:148: UserWarning: Found `num_iterations` in params. Will use it instead of argument\n",
      "  warnings.warn(\"Found `{}` in params. Will use it instead of argument\".format(alias))\n",
      "/opt/conda/lib/python3.7/site-packages/lightgbm/engine.py:148: UserWarning: Found `num_iterations` in params. Will use it instead of argument\n",
      "  warnings.warn(\"Found `{}` in params. Will use it instead of argument\".format(alias))\n",
      "/opt/conda/lib/python3.7/site-packages/lightgbm/engine.py:148: UserWarning: Found `num_iterations` in params. Will use it instead of argument\n",
      "  warnings.warn(\"Found `{}` in params. Will use it instead of argument\".format(alias))\n",
      "/opt/conda/lib/python3.7/site-packages/lightgbm/engine.py:148: UserWarning: Found `num_iterations` in params. Will use it instead of argument\n",
      "  warnings.warn(\"Found `{}` in params. Will use it instead of argument\".format(alias))\n",
      "/opt/conda/lib/python3.7/site-packages/lightgbm/engine.py:148: UserWarning: Found `num_iterations` in params. Will use it instead of argument\n",
      "  warnings.warn(\"Found `{}` in params. Will use it instead of argument\".format(alias))\n",
      "/opt/conda/lib/python3.7/site-packages/lightgbm/engine.py:148: UserWarning: Found `num_iterations` in params. Will use it instead of argument\n",
      "  warnings.warn(\"Found `{}` in params. Will use it instead of argument\".format(alias))\n",
      "/opt/conda/lib/python3.7/site-packages/lightgbm/engine.py:148: UserWarning: Found `num_iterations` in params. Will use it instead of argument\n",
      "  warnings.warn(\"Found `{}` in params. Will use it instead of argument\".format(alias))\n",
      "/opt/conda/lib/python3.7/site-packages/lightgbm/engine.py:148: UserWarning: Found `num_iterations` in params. Will use it instead of argument\n",
      "  warnings.warn(\"Found `{}` in params. Will use it instead of argument\".format(alias))\n",
      "/opt/conda/lib/python3.7/site-packages/lightgbm/engine.py:148: UserWarning: Found `num_iterations` in params. Will use it instead of argument\n",
      "  warnings.warn(\"Found `{}` in params. Will use it instead of argument\".format(alias))\n",
      "/opt/conda/lib/python3.7/site-packages/lightgbm/engine.py:148: UserWarning: Found `num_iterations` in params. Will use it instead of argument\n",
      "  warnings.warn(\"Found `{}` in params. Will use it instead of argument\".format(alias))\n",
      "/opt/conda/lib/python3.7/site-packages/lightgbm/engine.py:148: UserWarning: Found `num_iterations` in params. Will use it instead of argument\n",
      "  warnings.warn(\"Found `{}` in params. Will use it instead of argument\".format(alias))\n",
      "/opt/conda/lib/python3.7/site-packages/lightgbm/engine.py:148: UserWarning: Found `num_iterations` in params. Will use it instead of argument\n",
      "  warnings.warn(\"Found `{}` in params. Will use it instead of argument\".format(alias))\n",
      "/opt/conda/lib/python3.7/site-packages/lightgbm/engine.py:148: UserWarning: Found `num_iterations` in params. Will use it instead of argument\n",
      "  warnings.warn(\"Found `{}` in params. Will use it instead of argument\".format(alias))\n",
      "/opt/conda/lib/python3.7/site-packages/lightgbm/engine.py:148: UserWarning: Found `num_iterations` in params. Will use it instead of argument\n",
      "  warnings.warn(\"Found `{}` in params. Will use it instead of argument\".format(alias))\n",
      "/opt/conda/lib/python3.7/site-packages/lightgbm/engine.py:148: UserWarning: Found `num_iterations` in params. Will use it instead of argument\n",
      "  warnings.warn(\"Found `{}` in params. Will use it instead of argument\".format(alias))\n",
      "/opt/conda/lib/python3.7/site-packages/lightgbm/engine.py:148: UserWarning: Found `num_iterations` in params. Will use it instead of argument\n",
      "  warnings.warn(\"Found `{}` in params. Will use it instead of argument\".format(alias))\n",
      "/opt/conda/lib/python3.7/site-packages/lightgbm/engine.py:148: UserWarning: Found `num_iterations` in params. Will use it instead of argument\n",
      "  warnings.warn(\"Found `{}` in params. Will use it instead of argument\".format(alias))\n",
      "/opt/conda/lib/python3.7/site-packages/lightgbm/engine.py:148: UserWarning: Found `num_iterations` in params. Will use it instead of argument\n",
      "  warnings.warn(\"Found `{}` in params. Will use it instead of argument\".format(alias))\n"
     ]
    },
    {
     "name": "stderr",
     "output_type": "stream",
     "text": [
      "/opt/conda/lib/python3.7/site-packages/lightgbm/engine.py:148: UserWarning: Found `num_iterations` in params. Will use it instead of argument\n",
      "  warnings.warn(\"Found `{}` in params. Will use it instead of argument\".format(alias))\n",
      "/opt/conda/lib/python3.7/site-packages/lightgbm/engine.py:148: UserWarning: Found `num_iterations` in params. Will use it instead of argument\n",
      "  warnings.warn(\"Found `{}` in params. Will use it instead of argument\".format(alias))\n",
      "/opt/conda/lib/python3.7/site-packages/lightgbm/engine.py:148: UserWarning: Found `num_iterations` in params. Will use it instead of argument\n",
      "  warnings.warn(\"Found `{}` in params. Will use it instead of argument\".format(alias))\n",
      "/opt/conda/lib/python3.7/site-packages/lightgbm/engine.py:148: UserWarning: Found `num_iterations` in params. Will use it instead of argument\n",
      "  warnings.warn(\"Found `{}` in params. Will use it instead of argument\".format(alias))\n",
      "/opt/conda/lib/python3.7/site-packages/lightgbm/engine.py:148: UserWarning: Found `num_iterations` in params. Will use it instead of argument\n",
      "  warnings.warn(\"Found `{}` in params. Will use it instead of argument\".format(alias))\n",
      "/opt/conda/lib/python3.7/site-packages/lightgbm/engine.py:148: UserWarning: Found `num_iterations` in params. Will use it instead of argument\n",
      "  warnings.warn(\"Found `{}` in params. Will use it instead of argument\".format(alias))\n",
      "/opt/conda/lib/python3.7/site-packages/lightgbm/engine.py:148: UserWarning: Found `num_iterations` in params. Will use it instead of argument\n",
      "  warnings.warn(\"Found `{}` in params. Will use it instead of argument\".format(alias))\n",
      "/opt/conda/lib/python3.7/site-packages/lightgbm/engine.py:148: UserWarning: Found `num_iterations` in params. Will use it instead of argument\n",
      "  warnings.warn(\"Found `{}` in params. Will use it instead of argument\".format(alias))\n",
      "/opt/conda/lib/python3.7/site-packages/lightgbm/engine.py:148: UserWarning: Found `num_iterations` in params. Will use it instead of argument\n",
      "  warnings.warn(\"Found `{}` in params. Will use it instead of argument\".format(alias))\n",
      "/opt/conda/lib/python3.7/site-packages/lightgbm/engine.py:148: UserWarning: Found `num_iterations` in params. Will use it instead of argument\n",
      "  warnings.warn(\"Found `{}` in params. Will use it instead of argument\".format(alias))\n",
      "/opt/conda/lib/python3.7/site-packages/lightgbm/engine.py:148: UserWarning: Found `num_iterations` in params. Will use it instead of argument\n",
      "  warnings.warn(\"Found `{}` in params. Will use it instead of argument\".format(alias))\n",
      "/opt/conda/lib/python3.7/site-packages/lightgbm/engine.py:148: UserWarning: Found `num_iterations` in params. Will use it instead of argument\n",
      "  warnings.warn(\"Found `{}` in params. Will use it instead of argument\".format(alias))\n",
      "/opt/conda/lib/python3.7/site-packages/lightgbm/engine.py:148: UserWarning: Found `num_iterations` in params. Will use it instead of argument\n",
      "  warnings.warn(\"Found `{}` in params. Will use it instead of argument\".format(alias))\n",
      "/opt/conda/lib/python3.7/site-packages/lightgbm/engine.py:148: UserWarning: Found `num_iterations` in params. Will use it instead of argument\n",
      "  warnings.warn(\"Found `{}` in params. Will use it instead of argument\".format(alias))\n",
      "/opt/conda/lib/python3.7/site-packages/lightgbm/engine.py:148: UserWarning: Found `num_iterations` in params. Will use it instead of argument\n",
      "  warnings.warn(\"Found `{}` in params. Will use it instead of argument\".format(alias))\n",
      "/opt/conda/lib/python3.7/site-packages/lightgbm/engine.py:148: UserWarning: Found `num_iterations` in params. Will use it instead of argument\n",
      "  warnings.warn(\"Found `{}` in params. Will use it instead of argument\".format(alias))\n",
      "/opt/conda/lib/python3.7/site-packages/lightgbm/engine.py:148: UserWarning: Found `num_iterations` in params. Will use it instead of argument\n",
      "  warnings.warn(\"Found `{}` in params. Will use it instead of argument\".format(alias))\n",
      "/opt/conda/lib/python3.7/site-packages/lightgbm/engine.py:148: UserWarning: Found `num_iterations` in params. Will use it instead of argument\n",
      "  warnings.warn(\"Found `{}` in params. Will use it instead of argument\".format(alias))\n",
      "/opt/conda/lib/python3.7/site-packages/lightgbm/engine.py:148: UserWarning: Found `num_iterations` in params. Will use it instead of argument\n",
      "  warnings.warn(\"Found `{}` in params. Will use it instead of argument\".format(alias))\n",
      "/opt/conda/lib/python3.7/site-packages/lightgbm/engine.py:148: UserWarning: Found `num_iterations` in params. Will use it instead of argument\n",
      "  warnings.warn(\"Found `{}` in params. Will use it instead of argument\".format(alias))\n",
      "/opt/conda/lib/python3.7/site-packages/lightgbm/engine.py:148: UserWarning: Found `num_iterations` in params. Will use it instead of argument\n",
      "  warnings.warn(\"Found `{}` in params. Will use it instead of argument\".format(alias))\n",
      "/opt/conda/lib/python3.7/site-packages/lightgbm/engine.py:148: UserWarning: Found `num_iterations` in params. Will use it instead of argument\n",
      "  warnings.warn(\"Found `{}` in params. Will use it instead of argument\".format(alias))\n",
      "/opt/conda/lib/python3.7/site-packages/lightgbm/engine.py:148: UserWarning: Found `num_iterations` in params. Will use it instead of argument\n",
      "  warnings.warn(\"Found `{}` in params. Will use it instead of argument\".format(alias))\n",
      "/opt/conda/lib/python3.7/site-packages/lightgbm/engine.py:148: UserWarning: Found `num_iterations` in params. Will use it instead of argument\n",
      "  warnings.warn(\"Found `{}` in params. Will use it instead of argument\".format(alias))\n",
      "/opt/conda/lib/python3.7/site-packages/lightgbm/engine.py:148: UserWarning: Found `num_iterations` in params. Will use it instead of argument\n",
      "  warnings.warn(\"Found `{}` in params. Will use it instead of argument\".format(alias))\n",
      "/opt/conda/lib/python3.7/site-packages/lightgbm/engine.py:148: UserWarning: Found `num_iterations` in params. Will use it instead of argument\n",
      "  warnings.warn(\"Found `{}` in params. Will use it instead of argument\".format(alias))\n",
      "/opt/conda/lib/python3.7/site-packages/lightgbm/engine.py:148: UserWarning: Found `num_iterations` in params. Will use it instead of argument\n",
      "  warnings.warn(\"Found `{}` in params. Will use it instead of argument\".format(alias))\n",
      "/opt/conda/lib/python3.7/site-packages/lightgbm/engine.py:148: UserWarning: Found `num_iterations` in params. Will use it instead of argument\n",
      "  warnings.warn(\"Found `{}` in params. Will use it instead of argument\".format(alias))\n",
      "/opt/conda/lib/python3.7/site-packages/lightgbm/engine.py:148: UserWarning: Found `num_iterations` in params. Will use it instead of argument\n",
      "  warnings.warn(\"Found `{}` in params. Will use it instead of argument\".format(alias))\n",
      "/opt/conda/lib/python3.7/site-packages/lightgbm/engine.py:148: UserWarning: Found `num_iterations` in params. Will use it instead of argument\n",
      "  warnings.warn(\"Found `{}` in params. Will use it instead of argument\".format(alias))\n",
      "/opt/conda/lib/python3.7/site-packages/lightgbm/engine.py:148: UserWarning: Found `num_iterations` in params. Will use it instead of argument\n",
      "  warnings.warn(\"Found `{}` in params. Will use it instead of argument\".format(alias))\n",
      "/opt/conda/lib/python3.7/site-packages/lightgbm/engine.py:148: UserWarning: Found `num_iterations` in params. Will use it instead of argument\n",
      "  warnings.warn(\"Found `{}` in params. Will use it instead of argument\".format(alias))\n",
      "/opt/conda/lib/python3.7/site-packages/lightgbm/engine.py:148: UserWarning: Found `num_iterations` in params. Will use it instead of argument\n",
      "  warnings.warn(\"Found `{}` in params. Will use it instead of argument\".format(alias))\n",
      "/opt/conda/lib/python3.7/site-packages/lightgbm/engine.py:148: UserWarning: Found `num_iterations` in params. Will use it instead of argument\n",
      "  warnings.warn(\"Found `{}` in params. Will use it instead of argument\".format(alias))\n",
      "/opt/conda/lib/python3.7/site-packages/lightgbm/engine.py:148: UserWarning: Found `num_iterations` in params. Will use it instead of argument\n",
      "  warnings.warn(\"Found `{}` in params. Will use it instead of argument\".format(alias))\n",
      "/opt/conda/lib/python3.7/site-packages/lightgbm/engine.py:148: UserWarning: Found `num_iterations` in params. Will use it instead of argument\n",
      "  warnings.warn(\"Found `{}` in params. Will use it instead of argument\".format(alias))\n"
     ]
    },
    {
     "name": "stderr",
     "output_type": "stream",
     "text": [
      "/opt/conda/lib/python3.7/site-packages/lightgbm/engine.py:148: UserWarning: Found `num_iterations` in params. Will use it instead of argument\n",
      "  warnings.warn(\"Found `{}` in params. Will use it instead of argument\".format(alias))\n",
      "/opt/conda/lib/python3.7/site-packages/lightgbm/engine.py:148: UserWarning: Found `num_iterations` in params. Will use it instead of argument\n",
      "  warnings.warn(\"Found `{}` in params. Will use it instead of argument\".format(alias))\n",
      "/opt/conda/lib/python3.7/site-packages/lightgbm/engine.py:148: UserWarning: Found `num_iterations` in params. Will use it instead of argument\n",
      "  warnings.warn(\"Found `{}` in params. Will use it instead of argument\".format(alias))\n",
      "/opt/conda/lib/python3.7/site-packages/lightgbm/engine.py:148: UserWarning: Found `num_iterations` in params. Will use it instead of argument\n",
      "  warnings.warn(\"Found `{}` in params. Will use it instead of argument\".format(alias))\n",
      "/opt/conda/lib/python3.7/site-packages/lightgbm/engine.py:148: UserWarning: Found `num_iterations` in params. Will use it instead of argument\n",
      "  warnings.warn(\"Found `{}` in params. Will use it instead of argument\".format(alias))\n",
      "/opt/conda/lib/python3.7/site-packages/lightgbm/engine.py:148: UserWarning: Found `num_iterations` in params. Will use it instead of argument\n",
      "  warnings.warn(\"Found `{}` in params. Will use it instead of argument\".format(alias))\n",
      "/opt/conda/lib/python3.7/site-packages/lightgbm/engine.py:148: UserWarning: Found `num_iterations` in params. Will use it instead of argument\n",
      "  warnings.warn(\"Found `{}` in params. Will use it instead of argument\".format(alias))\n",
      "/opt/conda/lib/python3.7/site-packages/lightgbm/engine.py:148: UserWarning: Found `num_iterations` in params. Will use it instead of argument\n",
      "  warnings.warn(\"Found `{}` in params. Will use it instead of argument\".format(alias))\n",
      "/opt/conda/lib/python3.7/site-packages/lightgbm/engine.py:148: UserWarning: Found `num_iterations` in params. Will use it instead of argument\n",
      "  warnings.warn(\"Found `{}` in params. Will use it instead of argument\".format(alias))\n",
      "/opt/conda/lib/python3.7/site-packages/lightgbm/engine.py:148: UserWarning: Found `num_iterations` in params. Will use it instead of argument\n",
      "  warnings.warn(\"Found `{}` in params. Will use it instead of argument\".format(alias))\n",
      "/opt/conda/lib/python3.7/site-packages/lightgbm/engine.py:148: UserWarning: Found `num_iterations` in params. Will use it instead of argument\n",
      "  warnings.warn(\"Found `{}` in params. Will use it instead of argument\".format(alias))\n",
      "/opt/conda/lib/python3.7/site-packages/lightgbm/engine.py:148: UserWarning: Found `num_iterations` in params. Will use it instead of argument\n",
      "  warnings.warn(\"Found `{}` in params. Will use it instead of argument\".format(alias))\n",
      "/opt/conda/lib/python3.7/site-packages/lightgbm/engine.py:148: UserWarning: Found `num_iterations` in params. Will use it instead of argument\n",
      "  warnings.warn(\"Found `{}` in params. Will use it instead of argument\".format(alias))\n",
      "/opt/conda/lib/python3.7/site-packages/lightgbm/engine.py:148: UserWarning: Found `num_iterations` in params. Will use it instead of argument\n",
      "  warnings.warn(\"Found `{}` in params. Will use it instead of argument\".format(alias))\n",
      "/opt/conda/lib/python3.7/site-packages/lightgbm/engine.py:148: UserWarning: Found `num_iterations` in params. Will use it instead of argument\n",
      "  warnings.warn(\"Found `{}` in params. Will use it instead of argument\".format(alias))\n",
      "/opt/conda/lib/python3.7/site-packages/lightgbm/engine.py:148: UserWarning: Found `num_iterations` in params. Will use it instead of argument\n",
      "  warnings.warn(\"Found `{}` in params. Will use it instead of argument\".format(alias))\n",
      "/opt/conda/lib/python3.7/site-packages/lightgbm/engine.py:148: UserWarning: Found `num_iterations` in params. Will use it instead of argument\n",
      "  warnings.warn(\"Found `{}` in params. Will use it instead of argument\".format(alias))\n",
      "/opt/conda/lib/python3.7/site-packages/lightgbm/engine.py:148: UserWarning: Found `num_iterations` in params. Will use it instead of argument\n",
      "  warnings.warn(\"Found `{}` in params. Will use it instead of argument\".format(alias))\n",
      "/opt/conda/lib/python3.7/site-packages/lightgbm/engine.py:148: UserWarning: Found `num_iterations` in params. Will use it instead of argument\n",
      "  warnings.warn(\"Found `{}` in params. Will use it instead of argument\".format(alias))\n",
      "/opt/conda/lib/python3.7/site-packages/lightgbm/engine.py:148: UserWarning: Found `num_iterations` in params. Will use it instead of argument\n",
      "  warnings.warn(\"Found `{}` in params. Will use it instead of argument\".format(alias))\n",
      "/opt/conda/lib/python3.7/site-packages/lightgbm/engine.py:148: UserWarning: Found `num_iterations` in params. Will use it instead of argument\n",
      "  warnings.warn(\"Found `{}` in params. Will use it instead of argument\".format(alias))\n",
      "/opt/conda/lib/python3.7/site-packages/lightgbm/engine.py:148: UserWarning: Found `num_iterations` in params. Will use it instead of argument\n",
      "  warnings.warn(\"Found `{}` in params. Will use it instead of argument\".format(alias))\n",
      "/opt/conda/lib/python3.7/site-packages/lightgbm/engine.py:148: UserWarning: Found `num_iterations` in params. Will use it instead of argument\n",
      "  warnings.warn(\"Found `{}` in params. Will use it instead of argument\".format(alias))\n",
      "/opt/conda/lib/python3.7/site-packages/lightgbm/engine.py:148: UserWarning: Found `num_iterations` in params. Will use it instead of argument\n",
      "  warnings.warn(\"Found `{}` in params. Will use it instead of argument\".format(alias))\n",
      "/opt/conda/lib/python3.7/site-packages/lightgbm/engine.py:148: UserWarning: Found `num_iterations` in params. Will use it instead of argument\n",
      "  warnings.warn(\"Found `{}` in params. Will use it instead of argument\".format(alias))\n",
      "/opt/conda/lib/python3.7/site-packages/lightgbm/engine.py:148: UserWarning: Found `num_iterations` in params. Will use it instead of argument\n",
      "  warnings.warn(\"Found `{}` in params. Will use it instead of argument\".format(alias))\n",
      "/opt/conda/lib/python3.7/site-packages/lightgbm/engine.py:148: UserWarning: Found `num_iterations` in params. Will use it instead of argument\n",
      "  warnings.warn(\"Found `{}` in params. Will use it instead of argument\".format(alias))\n",
      "/opt/conda/lib/python3.7/site-packages/lightgbm/engine.py:148: UserWarning: Found `num_iterations` in params. Will use it instead of argument\n",
      "  warnings.warn(\"Found `{}` in params. Will use it instead of argument\".format(alias))\n",
      "/opt/conda/lib/python3.7/site-packages/lightgbm/engine.py:148: UserWarning: Found `num_iterations` in params. Will use it instead of argument\n",
      "  warnings.warn(\"Found `{}` in params. Will use it instead of argument\".format(alias))\n",
      "/opt/conda/lib/python3.7/site-packages/lightgbm/engine.py:148: UserWarning: Found `num_iterations` in params. Will use it instead of argument\n",
      "  warnings.warn(\"Found `{}` in params. Will use it instead of argument\".format(alias))\n"
     ]
    },
    {
     "name": "stdout",
     "output_type": "stream",
     "text": [
      "Label: 3\n"
     ]
    },
    {
     "name": "stderr",
     "output_type": "stream",
     "text": [
      "/opt/conda/lib/python3.7/site-packages/lightgbm/engine.py:148: UserWarning: Found `num_iterations` in params. Will use it instead of argument\n",
      "  warnings.warn(\"Found `{}` in params. Will use it instead of argument\".format(alias))\n",
      "/opt/conda/lib/python3.7/site-packages/lightgbm/engine.py:148: UserWarning: Found `num_iterations` in params. Will use it instead of argument\n",
      "  warnings.warn(\"Found `{}` in params. Will use it instead of argument\".format(alias))\n",
      "/opt/conda/lib/python3.7/site-packages/lightgbm/engine.py:148: UserWarning: Found `num_iterations` in params. Will use it instead of argument\n",
      "  warnings.warn(\"Found `{}` in params. Will use it instead of argument\".format(alias))\n",
      "/opt/conda/lib/python3.7/site-packages/lightgbm/engine.py:148: UserWarning: Found `num_iterations` in params. Will use it instead of argument\n",
      "  warnings.warn(\"Found `{}` in params. Will use it instead of argument\".format(alias))\n",
      "/opt/conda/lib/python3.7/site-packages/lightgbm/engine.py:148: UserWarning: Found `num_iterations` in params. Will use it instead of argument\n",
      "  warnings.warn(\"Found `{}` in params. Will use it instead of argument\".format(alias))\n",
      "/opt/conda/lib/python3.7/site-packages/lightgbm/engine.py:148: UserWarning: Found `num_iterations` in params. Will use it instead of argument\n",
      "  warnings.warn(\"Found `{}` in params. Will use it instead of argument\".format(alias))\n",
      "/opt/conda/lib/python3.7/site-packages/lightgbm/engine.py:148: UserWarning: Found `num_iterations` in params. Will use it instead of argument\n",
      "  warnings.warn(\"Found `{}` in params. Will use it instead of argument\".format(alias))\n",
      "/opt/conda/lib/python3.7/site-packages/lightgbm/engine.py:148: UserWarning: Found `num_iterations` in params. Will use it instead of argument\n",
      "  warnings.warn(\"Found `{}` in params. Will use it instead of argument\".format(alias))\n",
      "/opt/conda/lib/python3.7/site-packages/lightgbm/engine.py:148: UserWarning: Found `num_iterations` in params. Will use it instead of argument\n",
      "  warnings.warn(\"Found `{}` in params. Will use it instead of argument\".format(alias))\n",
      "/opt/conda/lib/python3.7/site-packages/lightgbm/engine.py:148: UserWarning: Found `num_iterations` in params. Will use it instead of argument\n",
      "  warnings.warn(\"Found `{}` in params. Will use it instead of argument\".format(alias))\n",
      "/opt/conda/lib/python3.7/site-packages/lightgbm/engine.py:148: UserWarning: Found `num_iterations` in params. Will use it instead of argument\n",
      "  warnings.warn(\"Found `{}` in params. Will use it instead of argument\".format(alias))\n",
      "/opt/conda/lib/python3.7/site-packages/lightgbm/engine.py:148: UserWarning: Found `num_iterations` in params. Will use it instead of argument\n",
      "  warnings.warn(\"Found `{}` in params. Will use it instead of argument\".format(alias))\n",
      "/opt/conda/lib/python3.7/site-packages/lightgbm/engine.py:148: UserWarning: Found `num_iterations` in params. Will use it instead of argument\n",
      "  warnings.warn(\"Found `{}` in params. Will use it instead of argument\".format(alias))\n",
      "/opt/conda/lib/python3.7/site-packages/lightgbm/engine.py:148: UserWarning: Found `num_iterations` in params. Will use it instead of argument\n",
      "  warnings.warn(\"Found `{}` in params. Will use it instead of argument\".format(alias))\n",
      "/opt/conda/lib/python3.7/site-packages/lightgbm/engine.py:148: UserWarning: Found `num_iterations` in params. Will use it instead of argument\n",
      "  warnings.warn(\"Found `{}` in params. Will use it instead of argument\".format(alias))\n",
      "/opt/conda/lib/python3.7/site-packages/lightgbm/engine.py:148: UserWarning: Found `num_iterations` in params. Will use it instead of argument\n",
      "  warnings.warn(\"Found `{}` in params. Will use it instead of argument\".format(alias))\n",
      "/opt/conda/lib/python3.7/site-packages/lightgbm/engine.py:148: UserWarning: Found `num_iterations` in params. Will use it instead of argument\n",
      "  warnings.warn(\"Found `{}` in params. Will use it instead of argument\".format(alias))\n",
      "/opt/conda/lib/python3.7/site-packages/lightgbm/engine.py:148: UserWarning: Found `num_iterations` in params. Will use it instead of argument\n",
      "  warnings.warn(\"Found `{}` in params. Will use it instead of argument\".format(alias))\n",
      "/opt/conda/lib/python3.7/site-packages/lightgbm/engine.py:148: UserWarning: Found `num_iterations` in params. Will use it instead of argument\n",
      "  warnings.warn(\"Found `{}` in params. Will use it instead of argument\".format(alias))\n",
      "/opt/conda/lib/python3.7/site-packages/lightgbm/engine.py:148: UserWarning: Found `num_iterations` in params. Will use it instead of argument\n",
      "  warnings.warn(\"Found `{}` in params. Will use it instead of argument\".format(alias))\n",
      "/opt/conda/lib/python3.7/site-packages/lightgbm/engine.py:148: UserWarning: Found `num_iterations` in params. Will use it instead of argument\n",
      "  warnings.warn(\"Found `{}` in params. Will use it instead of argument\".format(alias))\n",
      "/opt/conda/lib/python3.7/site-packages/lightgbm/engine.py:148: UserWarning: Found `num_iterations` in params. Will use it instead of argument\n",
      "  warnings.warn(\"Found `{}` in params. Will use it instead of argument\".format(alias))\n",
      "/opt/conda/lib/python3.7/site-packages/lightgbm/engine.py:148: UserWarning: Found `num_iterations` in params. Will use it instead of argument\n",
      "  warnings.warn(\"Found `{}` in params. Will use it instead of argument\".format(alias))\n",
      "/opt/conda/lib/python3.7/site-packages/lightgbm/engine.py:148: UserWarning: Found `num_iterations` in params. Will use it instead of argument\n",
      "  warnings.warn(\"Found `{}` in params. Will use it instead of argument\".format(alias))\n",
      "/opt/conda/lib/python3.7/site-packages/lightgbm/engine.py:148: UserWarning: Found `num_iterations` in params. Will use it instead of argument\n",
      "  warnings.warn(\"Found `{}` in params. Will use it instead of argument\".format(alias))\n",
      "/opt/conda/lib/python3.7/site-packages/lightgbm/engine.py:148: UserWarning: Found `num_iterations` in params. Will use it instead of argument\n",
      "  warnings.warn(\"Found `{}` in params. Will use it instead of argument\".format(alias))\n",
      "/opt/conda/lib/python3.7/site-packages/lightgbm/engine.py:148: UserWarning: Found `num_iterations` in params. Will use it instead of argument\n",
      "  warnings.warn(\"Found `{}` in params. Will use it instead of argument\".format(alias))\n",
      "/opt/conda/lib/python3.7/site-packages/lightgbm/engine.py:148: UserWarning: Found `num_iterations` in params. Will use it instead of argument\n",
      "  warnings.warn(\"Found `{}` in params. Will use it instead of argument\".format(alias))\n",
      "/opt/conda/lib/python3.7/site-packages/lightgbm/engine.py:148: UserWarning: Found `num_iterations` in params. Will use it instead of argument\n",
      "  warnings.warn(\"Found `{}` in params. Will use it instead of argument\".format(alias))\n",
      "/opt/conda/lib/python3.7/site-packages/lightgbm/engine.py:148: UserWarning: Found `num_iterations` in params. Will use it instead of argument\n",
      "  warnings.warn(\"Found `{}` in params. Will use it instead of argument\".format(alias))\n",
      "/opt/conda/lib/python3.7/site-packages/lightgbm/engine.py:148: UserWarning: Found `num_iterations` in params. Will use it instead of argument\n",
      "  warnings.warn(\"Found `{}` in params. Will use it instead of argument\".format(alias))\n",
      "/opt/conda/lib/python3.7/site-packages/lightgbm/engine.py:148: UserWarning: Found `num_iterations` in params. Will use it instead of argument\n",
      "  warnings.warn(\"Found `{}` in params. Will use it instead of argument\".format(alias))\n",
      "/opt/conda/lib/python3.7/site-packages/lightgbm/engine.py:148: UserWarning: Found `num_iterations` in params. Will use it instead of argument\n",
      "  warnings.warn(\"Found `{}` in params. Will use it instead of argument\".format(alias))\n",
      "/opt/conda/lib/python3.7/site-packages/lightgbm/engine.py:148: UserWarning: Found `num_iterations` in params. Will use it instead of argument\n",
      "  warnings.warn(\"Found `{}` in params. Will use it instead of argument\".format(alias))\n",
      "/opt/conda/lib/python3.7/site-packages/lightgbm/engine.py:148: UserWarning: Found `num_iterations` in params. Will use it instead of argument\n",
      "  warnings.warn(\"Found `{}` in params. Will use it instead of argument\".format(alias))\n",
      "/opt/conda/lib/python3.7/site-packages/lightgbm/engine.py:148: UserWarning: Found `num_iterations` in params. Will use it instead of argument\n",
      "  warnings.warn(\"Found `{}` in params. Will use it instead of argument\".format(alias))\n"
     ]
    },
    {
     "name": "stderr",
     "output_type": "stream",
     "text": [
      "/opt/conda/lib/python3.7/site-packages/lightgbm/engine.py:148: UserWarning: Found `num_iterations` in params. Will use it instead of argument\n",
      "  warnings.warn(\"Found `{}` in params. Will use it instead of argument\".format(alias))\n",
      "/opt/conda/lib/python3.7/site-packages/lightgbm/engine.py:148: UserWarning: Found `num_iterations` in params. Will use it instead of argument\n",
      "  warnings.warn(\"Found `{}` in params. Will use it instead of argument\".format(alias))\n",
      "/opt/conda/lib/python3.7/site-packages/lightgbm/engine.py:148: UserWarning: Found `num_iterations` in params. Will use it instead of argument\n",
      "  warnings.warn(\"Found `{}` in params. Will use it instead of argument\".format(alias))\n",
      "/opt/conda/lib/python3.7/site-packages/lightgbm/engine.py:148: UserWarning: Found `num_iterations` in params. Will use it instead of argument\n",
      "  warnings.warn(\"Found `{}` in params. Will use it instead of argument\".format(alias))\n",
      "/opt/conda/lib/python3.7/site-packages/lightgbm/engine.py:148: UserWarning: Found `num_iterations` in params. Will use it instead of argument\n",
      "  warnings.warn(\"Found `{}` in params. Will use it instead of argument\".format(alias))\n",
      "/opt/conda/lib/python3.7/site-packages/lightgbm/engine.py:148: UserWarning: Found `num_iterations` in params. Will use it instead of argument\n",
      "  warnings.warn(\"Found `{}` in params. Will use it instead of argument\".format(alias))\n",
      "/opt/conda/lib/python3.7/site-packages/lightgbm/engine.py:148: UserWarning: Found `num_iterations` in params. Will use it instead of argument\n",
      "  warnings.warn(\"Found `{}` in params. Will use it instead of argument\".format(alias))\n",
      "/opt/conda/lib/python3.7/site-packages/lightgbm/engine.py:148: UserWarning: Found `num_iterations` in params. Will use it instead of argument\n",
      "  warnings.warn(\"Found `{}` in params. Will use it instead of argument\".format(alias))\n",
      "/opt/conda/lib/python3.7/site-packages/lightgbm/engine.py:148: UserWarning: Found `num_iterations` in params. Will use it instead of argument\n",
      "  warnings.warn(\"Found `{}` in params. Will use it instead of argument\".format(alias))\n",
      "/opt/conda/lib/python3.7/site-packages/lightgbm/engine.py:148: UserWarning: Found `num_iterations` in params. Will use it instead of argument\n",
      "  warnings.warn(\"Found `{}` in params. Will use it instead of argument\".format(alias))\n",
      "/opt/conda/lib/python3.7/site-packages/lightgbm/engine.py:148: UserWarning: Found `num_iterations` in params. Will use it instead of argument\n",
      "  warnings.warn(\"Found `{}` in params. Will use it instead of argument\".format(alias))\n",
      "/opt/conda/lib/python3.7/site-packages/lightgbm/engine.py:148: UserWarning: Found `num_iterations` in params. Will use it instead of argument\n",
      "  warnings.warn(\"Found `{}` in params. Will use it instead of argument\".format(alias))\n",
      "/opt/conda/lib/python3.7/site-packages/lightgbm/engine.py:148: UserWarning: Found `num_iterations` in params. Will use it instead of argument\n",
      "  warnings.warn(\"Found `{}` in params. Will use it instead of argument\".format(alias))\n",
      "/opt/conda/lib/python3.7/site-packages/lightgbm/engine.py:148: UserWarning: Found `num_iterations` in params. Will use it instead of argument\n",
      "  warnings.warn(\"Found `{}` in params. Will use it instead of argument\".format(alias))\n",
      "/opt/conda/lib/python3.7/site-packages/lightgbm/engine.py:148: UserWarning: Found `num_iterations` in params. Will use it instead of argument\n",
      "  warnings.warn(\"Found `{}` in params. Will use it instead of argument\".format(alias))\n",
      "/opt/conda/lib/python3.7/site-packages/lightgbm/engine.py:148: UserWarning: Found `num_iterations` in params. Will use it instead of argument\n",
      "  warnings.warn(\"Found `{}` in params. Will use it instead of argument\".format(alias))\n",
      "/opt/conda/lib/python3.7/site-packages/lightgbm/engine.py:148: UserWarning: Found `num_iterations` in params. Will use it instead of argument\n",
      "  warnings.warn(\"Found `{}` in params. Will use it instead of argument\".format(alias))\n",
      "/opt/conda/lib/python3.7/site-packages/lightgbm/engine.py:148: UserWarning: Found `num_iterations` in params. Will use it instead of argument\n",
      "  warnings.warn(\"Found `{}` in params. Will use it instead of argument\".format(alias))\n",
      "/opt/conda/lib/python3.7/site-packages/lightgbm/engine.py:148: UserWarning: Found `num_iterations` in params. Will use it instead of argument\n",
      "  warnings.warn(\"Found `{}` in params. Will use it instead of argument\".format(alias))\n",
      "/opt/conda/lib/python3.7/site-packages/lightgbm/engine.py:148: UserWarning: Found `num_iterations` in params. Will use it instead of argument\n",
      "  warnings.warn(\"Found `{}` in params. Will use it instead of argument\".format(alias))\n",
      "/opt/conda/lib/python3.7/site-packages/lightgbm/engine.py:148: UserWarning: Found `num_iterations` in params. Will use it instead of argument\n",
      "  warnings.warn(\"Found `{}` in params. Will use it instead of argument\".format(alias))\n",
      "/opt/conda/lib/python3.7/site-packages/lightgbm/engine.py:148: UserWarning: Found `num_iterations` in params. Will use it instead of argument\n",
      "  warnings.warn(\"Found `{}` in params. Will use it instead of argument\".format(alias))\n",
      "/opt/conda/lib/python3.7/site-packages/lightgbm/engine.py:148: UserWarning: Found `num_iterations` in params. Will use it instead of argument\n",
      "  warnings.warn(\"Found `{}` in params. Will use it instead of argument\".format(alias))\n",
      "/opt/conda/lib/python3.7/site-packages/lightgbm/engine.py:148: UserWarning: Found `num_iterations` in params. Will use it instead of argument\n",
      "  warnings.warn(\"Found `{}` in params. Will use it instead of argument\".format(alias))\n",
      "/opt/conda/lib/python3.7/site-packages/lightgbm/engine.py:148: UserWarning: Found `num_iterations` in params. Will use it instead of argument\n",
      "  warnings.warn(\"Found `{}` in params. Will use it instead of argument\".format(alias))\n",
      "/opt/conda/lib/python3.7/site-packages/lightgbm/engine.py:148: UserWarning: Found `num_iterations` in params. Will use it instead of argument\n",
      "  warnings.warn(\"Found `{}` in params. Will use it instead of argument\".format(alias))\n",
      "/opt/conda/lib/python3.7/site-packages/lightgbm/engine.py:148: UserWarning: Found `num_iterations` in params. Will use it instead of argument\n",
      "  warnings.warn(\"Found `{}` in params. Will use it instead of argument\".format(alias))\n",
      "/opt/conda/lib/python3.7/site-packages/lightgbm/engine.py:148: UserWarning: Found `num_iterations` in params. Will use it instead of argument\n",
      "  warnings.warn(\"Found `{}` in params. Will use it instead of argument\".format(alias))\n",
      "/opt/conda/lib/python3.7/site-packages/lightgbm/engine.py:148: UserWarning: Found `num_iterations` in params. Will use it instead of argument\n",
      "  warnings.warn(\"Found `{}` in params. Will use it instead of argument\".format(alias))\n",
      "/opt/conda/lib/python3.7/site-packages/lightgbm/engine.py:148: UserWarning: Found `num_iterations` in params. Will use it instead of argument\n",
      "  warnings.warn(\"Found `{}` in params. Will use it instead of argument\".format(alias))\n",
      "/opt/conda/lib/python3.7/site-packages/lightgbm/engine.py:148: UserWarning: Found `num_iterations` in params. Will use it instead of argument\n",
      "  warnings.warn(\"Found `{}` in params. Will use it instead of argument\".format(alias))\n",
      "/opt/conda/lib/python3.7/site-packages/lightgbm/engine.py:148: UserWarning: Found `num_iterations` in params. Will use it instead of argument\n",
      "  warnings.warn(\"Found `{}` in params. Will use it instead of argument\".format(alias))\n",
      "/opt/conda/lib/python3.7/site-packages/lightgbm/engine.py:148: UserWarning: Found `num_iterations` in params. Will use it instead of argument\n",
      "  warnings.warn(\"Found `{}` in params. Will use it instead of argument\".format(alias))\n",
      "/opt/conda/lib/python3.7/site-packages/lightgbm/engine.py:148: UserWarning: Found `num_iterations` in params. Will use it instead of argument\n",
      "  warnings.warn(\"Found `{}` in params. Will use it instead of argument\".format(alias))\n",
      "/opt/conda/lib/python3.7/site-packages/lightgbm/engine.py:148: UserWarning: Found `num_iterations` in params. Will use it instead of argument\n",
      "  warnings.warn(\"Found `{}` in params. Will use it instead of argument\".format(alias))\n",
      "/opt/conda/lib/python3.7/site-packages/lightgbm/engine.py:148: UserWarning: Found `num_iterations` in params. Will use it instead of argument\n",
      "  warnings.warn(\"Found `{}` in params. Will use it instead of argument\".format(alias))\n"
     ]
    },
    {
     "name": "stderr",
     "output_type": "stream",
     "text": [
      "/opt/conda/lib/python3.7/site-packages/lightgbm/engine.py:148: UserWarning: Found `num_iterations` in params. Will use it instead of argument\n",
      "  warnings.warn(\"Found `{}` in params. Will use it instead of argument\".format(alias))\n",
      "/opt/conda/lib/python3.7/site-packages/lightgbm/engine.py:148: UserWarning: Found `num_iterations` in params. Will use it instead of argument\n",
      "  warnings.warn(\"Found `{}` in params. Will use it instead of argument\".format(alias))\n",
      "/opt/conda/lib/python3.7/site-packages/lightgbm/engine.py:148: UserWarning: Found `num_iterations` in params. Will use it instead of argument\n",
      "  warnings.warn(\"Found `{}` in params. Will use it instead of argument\".format(alias))\n",
      "/opt/conda/lib/python3.7/site-packages/lightgbm/engine.py:148: UserWarning: Found `num_iterations` in params. Will use it instead of argument\n",
      "  warnings.warn(\"Found `{}` in params. Will use it instead of argument\".format(alias))\n",
      "/opt/conda/lib/python3.7/site-packages/lightgbm/engine.py:148: UserWarning: Found `num_iterations` in params. Will use it instead of argument\n",
      "  warnings.warn(\"Found `{}` in params. Will use it instead of argument\".format(alias))\n",
      "/opt/conda/lib/python3.7/site-packages/lightgbm/engine.py:148: UserWarning: Found `num_iterations` in params. Will use it instead of argument\n",
      "  warnings.warn(\"Found `{}` in params. Will use it instead of argument\".format(alias))\n",
      "/opt/conda/lib/python3.7/site-packages/lightgbm/engine.py:148: UserWarning: Found `num_iterations` in params. Will use it instead of argument\n",
      "  warnings.warn(\"Found `{}` in params. Will use it instead of argument\".format(alias))\n",
      "/opt/conda/lib/python3.7/site-packages/lightgbm/engine.py:148: UserWarning: Found `num_iterations` in params. Will use it instead of argument\n",
      "  warnings.warn(\"Found `{}` in params. Will use it instead of argument\".format(alias))\n",
      "/opt/conda/lib/python3.7/site-packages/lightgbm/engine.py:148: UserWarning: Found `num_iterations` in params. Will use it instead of argument\n",
      "  warnings.warn(\"Found `{}` in params. Will use it instead of argument\".format(alias))\n",
      "/opt/conda/lib/python3.7/site-packages/lightgbm/engine.py:148: UserWarning: Found `num_iterations` in params. Will use it instead of argument\n",
      "  warnings.warn(\"Found `{}` in params. Will use it instead of argument\".format(alias))\n",
      "/opt/conda/lib/python3.7/site-packages/lightgbm/engine.py:148: UserWarning: Found `num_iterations` in params. Will use it instead of argument\n",
      "  warnings.warn(\"Found `{}` in params. Will use it instead of argument\".format(alias))\n",
      "/opt/conda/lib/python3.7/site-packages/lightgbm/engine.py:148: UserWarning: Found `num_iterations` in params. Will use it instead of argument\n",
      "  warnings.warn(\"Found `{}` in params. Will use it instead of argument\".format(alias))\n",
      "/opt/conda/lib/python3.7/site-packages/lightgbm/engine.py:148: UserWarning: Found `num_iterations` in params. Will use it instead of argument\n",
      "  warnings.warn(\"Found `{}` in params. Will use it instead of argument\".format(alias))\n",
      "/opt/conda/lib/python3.7/site-packages/lightgbm/engine.py:148: UserWarning: Found `num_iterations` in params. Will use it instead of argument\n",
      "  warnings.warn(\"Found `{}` in params. Will use it instead of argument\".format(alias))\n",
      "/opt/conda/lib/python3.7/site-packages/lightgbm/engine.py:148: UserWarning: Found `num_iterations` in params. Will use it instead of argument\n",
      "  warnings.warn(\"Found `{}` in params. Will use it instead of argument\".format(alias))\n",
      "/opt/conda/lib/python3.7/site-packages/lightgbm/engine.py:148: UserWarning: Found `num_iterations` in params. Will use it instead of argument\n",
      "  warnings.warn(\"Found `{}` in params. Will use it instead of argument\".format(alias))\n",
      "/opt/conda/lib/python3.7/site-packages/lightgbm/engine.py:148: UserWarning: Found `num_iterations` in params. Will use it instead of argument\n",
      "  warnings.warn(\"Found `{}` in params. Will use it instead of argument\".format(alias))\n",
      "/opt/conda/lib/python3.7/site-packages/lightgbm/engine.py:148: UserWarning: Found `num_iterations` in params. Will use it instead of argument\n",
      "  warnings.warn(\"Found `{}` in params. Will use it instead of argument\".format(alias))\n",
      "/opt/conda/lib/python3.7/site-packages/lightgbm/engine.py:148: UserWarning: Found `num_iterations` in params. Will use it instead of argument\n",
      "  warnings.warn(\"Found `{}` in params. Will use it instead of argument\".format(alias))\n",
      "/opt/conda/lib/python3.7/site-packages/lightgbm/engine.py:148: UserWarning: Found `num_iterations` in params. Will use it instead of argument\n",
      "  warnings.warn(\"Found `{}` in params. Will use it instead of argument\".format(alias))\n",
      "/opt/conda/lib/python3.7/site-packages/lightgbm/engine.py:148: UserWarning: Found `num_iterations` in params. Will use it instead of argument\n",
      "  warnings.warn(\"Found `{}` in params. Will use it instead of argument\".format(alias))\n",
      "/opt/conda/lib/python3.7/site-packages/lightgbm/engine.py:148: UserWarning: Found `num_iterations` in params. Will use it instead of argument\n",
      "  warnings.warn(\"Found `{}` in params. Will use it instead of argument\".format(alias))\n",
      "/opt/conda/lib/python3.7/site-packages/lightgbm/engine.py:148: UserWarning: Found `num_iterations` in params. Will use it instead of argument\n",
      "  warnings.warn(\"Found `{}` in params. Will use it instead of argument\".format(alias))\n",
      "/opt/conda/lib/python3.7/site-packages/lightgbm/engine.py:148: UserWarning: Found `num_iterations` in params. Will use it instead of argument\n",
      "  warnings.warn(\"Found `{}` in params. Will use it instead of argument\".format(alias))\n",
      "/opt/conda/lib/python3.7/site-packages/lightgbm/engine.py:148: UserWarning: Found `num_iterations` in params. Will use it instead of argument\n",
      "  warnings.warn(\"Found `{}` in params. Will use it instead of argument\".format(alias))\n",
      "/opt/conda/lib/python3.7/site-packages/lightgbm/engine.py:148: UserWarning: Found `num_iterations` in params. Will use it instead of argument\n",
      "  warnings.warn(\"Found `{}` in params. Will use it instead of argument\".format(alias))\n",
      "/opt/conda/lib/python3.7/site-packages/lightgbm/engine.py:148: UserWarning: Found `num_iterations` in params. Will use it instead of argument\n",
      "  warnings.warn(\"Found `{}` in params. Will use it instead of argument\".format(alias))\n",
      "/opt/conda/lib/python3.7/site-packages/lightgbm/engine.py:148: UserWarning: Found `num_iterations` in params. Will use it instead of argument\n",
      "  warnings.warn(\"Found `{}` in params. Will use it instead of argument\".format(alias))\n",
      "/opt/conda/lib/python3.7/site-packages/lightgbm/engine.py:148: UserWarning: Found `num_iterations` in params. Will use it instead of argument\n",
      "  warnings.warn(\"Found `{}` in params. Will use it instead of argument\".format(alias))\n",
      "/opt/conda/lib/python3.7/site-packages/lightgbm/engine.py:148: UserWarning: Found `num_iterations` in params. Will use it instead of argument\n",
      "  warnings.warn(\"Found `{}` in params. Will use it instead of argument\".format(alias))\n"
     ]
    },
    {
     "name": "stdout",
     "output_type": "stream",
     "text": [
      "Label: 4\n"
     ]
    },
    {
     "name": "stderr",
     "output_type": "stream",
     "text": [
      "/opt/conda/lib/python3.7/site-packages/lightgbm/engine.py:148: UserWarning: Found `num_iterations` in params. Will use it instead of argument\n",
      "  warnings.warn(\"Found `{}` in params. Will use it instead of argument\".format(alias))\n",
      "/opt/conda/lib/python3.7/site-packages/lightgbm/engine.py:148: UserWarning: Found `num_iterations` in params. Will use it instead of argument\n",
      "  warnings.warn(\"Found `{}` in params. Will use it instead of argument\".format(alias))\n",
      "/opt/conda/lib/python3.7/site-packages/lightgbm/engine.py:148: UserWarning: Found `num_iterations` in params. Will use it instead of argument\n",
      "  warnings.warn(\"Found `{}` in params. Will use it instead of argument\".format(alias))\n",
      "/opt/conda/lib/python3.7/site-packages/lightgbm/engine.py:148: UserWarning: Found `num_iterations` in params. Will use it instead of argument\n",
      "  warnings.warn(\"Found `{}` in params. Will use it instead of argument\".format(alias))\n",
      "/opt/conda/lib/python3.7/site-packages/lightgbm/engine.py:148: UserWarning: Found `num_iterations` in params. Will use it instead of argument\n",
      "  warnings.warn(\"Found `{}` in params. Will use it instead of argument\".format(alias))\n",
      "/opt/conda/lib/python3.7/site-packages/lightgbm/engine.py:148: UserWarning: Found `num_iterations` in params. Will use it instead of argument\n",
      "  warnings.warn(\"Found `{}` in params. Will use it instead of argument\".format(alias))\n",
      "/opt/conda/lib/python3.7/site-packages/lightgbm/engine.py:148: UserWarning: Found `num_iterations` in params. Will use it instead of argument\n",
      "  warnings.warn(\"Found `{}` in params. Will use it instead of argument\".format(alias))\n",
      "/opt/conda/lib/python3.7/site-packages/lightgbm/engine.py:148: UserWarning: Found `num_iterations` in params. Will use it instead of argument\n",
      "  warnings.warn(\"Found `{}` in params. Will use it instead of argument\".format(alias))\n",
      "/opt/conda/lib/python3.7/site-packages/lightgbm/engine.py:148: UserWarning: Found `num_iterations` in params. Will use it instead of argument\n",
      "  warnings.warn(\"Found `{}` in params. Will use it instead of argument\".format(alias))\n",
      "/opt/conda/lib/python3.7/site-packages/lightgbm/engine.py:148: UserWarning: Found `num_iterations` in params. Will use it instead of argument\n",
      "  warnings.warn(\"Found `{}` in params. Will use it instead of argument\".format(alias))\n",
      "/opt/conda/lib/python3.7/site-packages/lightgbm/engine.py:148: UserWarning: Found `num_iterations` in params. Will use it instead of argument\n",
      "  warnings.warn(\"Found `{}` in params. Will use it instead of argument\".format(alias))\n",
      "/opt/conda/lib/python3.7/site-packages/lightgbm/engine.py:148: UserWarning: Found `num_iterations` in params. Will use it instead of argument\n",
      "  warnings.warn(\"Found `{}` in params. Will use it instead of argument\".format(alias))\n",
      "/opt/conda/lib/python3.7/site-packages/lightgbm/engine.py:148: UserWarning: Found `num_iterations` in params. Will use it instead of argument\n",
      "  warnings.warn(\"Found `{}` in params. Will use it instead of argument\".format(alias))\n",
      "/opt/conda/lib/python3.7/site-packages/lightgbm/engine.py:148: UserWarning: Found `num_iterations` in params. Will use it instead of argument\n",
      "  warnings.warn(\"Found `{}` in params. Will use it instead of argument\".format(alias))\n",
      "/opt/conda/lib/python3.7/site-packages/lightgbm/engine.py:148: UserWarning: Found `num_iterations` in params. Will use it instead of argument\n",
      "  warnings.warn(\"Found `{}` in params. Will use it instead of argument\".format(alias))\n",
      "/opt/conda/lib/python3.7/site-packages/lightgbm/engine.py:148: UserWarning: Found `num_iterations` in params. Will use it instead of argument\n",
      "  warnings.warn(\"Found `{}` in params. Will use it instead of argument\".format(alias))\n",
      "/opt/conda/lib/python3.7/site-packages/lightgbm/engine.py:148: UserWarning: Found `num_iterations` in params. Will use it instead of argument\n",
      "  warnings.warn(\"Found `{}` in params. Will use it instead of argument\".format(alias))\n",
      "/opt/conda/lib/python3.7/site-packages/lightgbm/engine.py:148: UserWarning: Found `num_iterations` in params. Will use it instead of argument\n",
      "  warnings.warn(\"Found `{}` in params. Will use it instead of argument\".format(alias))\n",
      "/opt/conda/lib/python3.7/site-packages/lightgbm/engine.py:148: UserWarning: Found `num_iterations` in params. Will use it instead of argument\n",
      "  warnings.warn(\"Found `{}` in params. Will use it instead of argument\".format(alias))\n",
      "/opt/conda/lib/python3.7/site-packages/lightgbm/engine.py:148: UserWarning: Found `num_iterations` in params. Will use it instead of argument\n",
      "  warnings.warn(\"Found `{}` in params. Will use it instead of argument\".format(alias))\n",
      "/opt/conda/lib/python3.7/site-packages/lightgbm/engine.py:148: UserWarning: Found `num_iterations` in params. Will use it instead of argument\n",
      "  warnings.warn(\"Found `{}` in params. Will use it instead of argument\".format(alias))\n",
      "/opt/conda/lib/python3.7/site-packages/lightgbm/engine.py:148: UserWarning: Found `num_iterations` in params. Will use it instead of argument\n",
      "  warnings.warn(\"Found `{}` in params. Will use it instead of argument\".format(alias))\n",
      "/opt/conda/lib/python3.7/site-packages/lightgbm/engine.py:148: UserWarning: Found `num_iterations` in params. Will use it instead of argument\n",
      "  warnings.warn(\"Found `{}` in params. Will use it instead of argument\".format(alias))\n",
      "/opt/conda/lib/python3.7/site-packages/lightgbm/engine.py:148: UserWarning: Found `num_iterations` in params. Will use it instead of argument\n",
      "  warnings.warn(\"Found `{}` in params. Will use it instead of argument\".format(alias))\n",
      "/opt/conda/lib/python3.7/site-packages/lightgbm/engine.py:148: UserWarning: Found `num_iterations` in params. Will use it instead of argument\n",
      "  warnings.warn(\"Found `{}` in params. Will use it instead of argument\".format(alias))\n",
      "/opt/conda/lib/python3.7/site-packages/lightgbm/engine.py:148: UserWarning: Found `num_iterations` in params. Will use it instead of argument\n",
      "  warnings.warn(\"Found `{}` in params. Will use it instead of argument\".format(alias))\n",
      "/opt/conda/lib/python3.7/site-packages/lightgbm/engine.py:148: UserWarning: Found `num_iterations` in params. Will use it instead of argument\n",
      "  warnings.warn(\"Found `{}` in params. Will use it instead of argument\".format(alias))\n",
      "/opt/conda/lib/python3.7/site-packages/lightgbm/engine.py:148: UserWarning: Found `num_iterations` in params. Will use it instead of argument\n",
      "  warnings.warn(\"Found `{}` in params. Will use it instead of argument\".format(alias))\n",
      "/opt/conda/lib/python3.7/site-packages/lightgbm/engine.py:148: UserWarning: Found `num_iterations` in params. Will use it instead of argument\n",
      "  warnings.warn(\"Found `{}` in params. Will use it instead of argument\".format(alias))\n",
      "/opt/conda/lib/python3.7/site-packages/lightgbm/engine.py:148: UserWarning: Found `num_iterations` in params. Will use it instead of argument\n",
      "  warnings.warn(\"Found `{}` in params. Will use it instead of argument\".format(alias))\n",
      "/opt/conda/lib/python3.7/site-packages/lightgbm/engine.py:148: UserWarning: Found `num_iterations` in params. Will use it instead of argument\n",
      "  warnings.warn(\"Found `{}` in params. Will use it instead of argument\".format(alias))\n",
      "/opt/conda/lib/python3.7/site-packages/lightgbm/engine.py:148: UserWarning: Found `num_iterations` in params. Will use it instead of argument\n",
      "  warnings.warn(\"Found `{}` in params. Will use it instead of argument\".format(alias))\n",
      "/opt/conda/lib/python3.7/site-packages/lightgbm/engine.py:148: UserWarning: Found `num_iterations` in params. Will use it instead of argument\n",
      "  warnings.warn(\"Found `{}` in params. Will use it instead of argument\".format(alias))\n",
      "/opt/conda/lib/python3.7/site-packages/lightgbm/engine.py:148: UserWarning: Found `num_iterations` in params. Will use it instead of argument\n",
      "  warnings.warn(\"Found `{}` in params. Will use it instead of argument\".format(alias))\n",
      "/opt/conda/lib/python3.7/site-packages/lightgbm/engine.py:148: UserWarning: Found `num_iterations` in params. Will use it instead of argument\n",
      "  warnings.warn(\"Found `{}` in params. Will use it instead of argument\".format(alias))\n",
      "/opt/conda/lib/python3.7/site-packages/lightgbm/engine.py:148: UserWarning: Found `num_iterations` in params. Will use it instead of argument\n",
      "  warnings.warn(\"Found `{}` in params. Will use it instead of argument\".format(alias))\n"
     ]
    },
    {
     "name": "stderr",
     "output_type": "stream",
     "text": [
      "/opt/conda/lib/python3.7/site-packages/lightgbm/engine.py:148: UserWarning: Found `num_iterations` in params. Will use it instead of argument\n",
      "  warnings.warn(\"Found `{}` in params. Will use it instead of argument\".format(alias))\n",
      "/opt/conda/lib/python3.7/site-packages/lightgbm/engine.py:148: UserWarning: Found `num_iterations` in params. Will use it instead of argument\n",
      "  warnings.warn(\"Found `{}` in params. Will use it instead of argument\".format(alias))\n",
      "/opt/conda/lib/python3.7/site-packages/lightgbm/engine.py:148: UserWarning: Found `num_iterations` in params. Will use it instead of argument\n",
      "  warnings.warn(\"Found `{}` in params. Will use it instead of argument\".format(alias))\n",
      "/opt/conda/lib/python3.7/site-packages/lightgbm/engine.py:148: UserWarning: Found `num_iterations` in params. Will use it instead of argument\n",
      "  warnings.warn(\"Found `{}` in params. Will use it instead of argument\".format(alias))\n",
      "/opt/conda/lib/python3.7/site-packages/lightgbm/engine.py:148: UserWarning: Found `num_iterations` in params. Will use it instead of argument\n",
      "  warnings.warn(\"Found `{}` in params. Will use it instead of argument\".format(alias))\n",
      "/opt/conda/lib/python3.7/site-packages/lightgbm/engine.py:148: UserWarning: Found `num_iterations` in params. Will use it instead of argument\n",
      "  warnings.warn(\"Found `{}` in params. Will use it instead of argument\".format(alias))\n",
      "/opt/conda/lib/python3.7/site-packages/lightgbm/engine.py:148: UserWarning: Found `num_iterations` in params. Will use it instead of argument\n",
      "  warnings.warn(\"Found `{}` in params. Will use it instead of argument\".format(alias))\n",
      "/opt/conda/lib/python3.7/site-packages/lightgbm/engine.py:148: UserWarning: Found `num_iterations` in params. Will use it instead of argument\n",
      "  warnings.warn(\"Found `{}` in params. Will use it instead of argument\".format(alias))\n",
      "/opt/conda/lib/python3.7/site-packages/lightgbm/engine.py:148: UserWarning: Found `num_iterations` in params. Will use it instead of argument\n",
      "  warnings.warn(\"Found `{}` in params. Will use it instead of argument\".format(alias))\n",
      "/opt/conda/lib/python3.7/site-packages/lightgbm/engine.py:148: UserWarning: Found `num_iterations` in params. Will use it instead of argument\n",
      "  warnings.warn(\"Found `{}` in params. Will use it instead of argument\".format(alias))\n",
      "/opt/conda/lib/python3.7/site-packages/lightgbm/engine.py:148: UserWarning: Found `num_iterations` in params. Will use it instead of argument\n",
      "  warnings.warn(\"Found `{}` in params. Will use it instead of argument\".format(alias))\n",
      "/opt/conda/lib/python3.7/site-packages/lightgbm/engine.py:148: UserWarning: Found `num_iterations` in params. Will use it instead of argument\n",
      "  warnings.warn(\"Found `{}` in params. Will use it instead of argument\".format(alias))\n",
      "/opt/conda/lib/python3.7/site-packages/lightgbm/engine.py:148: UserWarning: Found `num_iterations` in params. Will use it instead of argument\n",
      "  warnings.warn(\"Found `{}` in params. Will use it instead of argument\".format(alias))\n",
      "/opt/conda/lib/python3.7/site-packages/lightgbm/engine.py:148: UserWarning: Found `num_iterations` in params. Will use it instead of argument\n",
      "  warnings.warn(\"Found `{}` in params. Will use it instead of argument\".format(alias))\n",
      "/opt/conda/lib/python3.7/site-packages/lightgbm/engine.py:148: UserWarning: Found `num_iterations` in params. Will use it instead of argument\n",
      "  warnings.warn(\"Found `{}` in params. Will use it instead of argument\".format(alias))\n",
      "/opt/conda/lib/python3.7/site-packages/lightgbm/engine.py:148: UserWarning: Found `num_iterations` in params. Will use it instead of argument\n",
      "  warnings.warn(\"Found `{}` in params. Will use it instead of argument\".format(alias))\n",
      "/opt/conda/lib/python3.7/site-packages/lightgbm/engine.py:148: UserWarning: Found `num_iterations` in params. Will use it instead of argument\n",
      "  warnings.warn(\"Found `{}` in params. Will use it instead of argument\".format(alias))\n",
      "/opt/conda/lib/python3.7/site-packages/lightgbm/engine.py:148: UserWarning: Found `num_iterations` in params. Will use it instead of argument\n",
      "  warnings.warn(\"Found `{}` in params. Will use it instead of argument\".format(alias))\n",
      "/opt/conda/lib/python3.7/site-packages/lightgbm/engine.py:148: UserWarning: Found `num_iterations` in params. Will use it instead of argument\n",
      "  warnings.warn(\"Found `{}` in params. Will use it instead of argument\".format(alias))\n",
      "/opt/conda/lib/python3.7/site-packages/lightgbm/engine.py:148: UserWarning: Found `num_iterations` in params. Will use it instead of argument\n",
      "  warnings.warn(\"Found `{}` in params. Will use it instead of argument\".format(alias))\n",
      "/opt/conda/lib/python3.7/site-packages/lightgbm/engine.py:148: UserWarning: Found `num_iterations` in params. Will use it instead of argument\n",
      "  warnings.warn(\"Found `{}` in params. Will use it instead of argument\".format(alias))\n",
      "/opt/conda/lib/python3.7/site-packages/lightgbm/engine.py:148: UserWarning: Found `num_iterations` in params. Will use it instead of argument\n",
      "  warnings.warn(\"Found `{}` in params. Will use it instead of argument\".format(alias))\n",
      "/opt/conda/lib/python3.7/site-packages/lightgbm/engine.py:148: UserWarning: Found `num_iterations` in params. Will use it instead of argument\n",
      "  warnings.warn(\"Found `{}` in params. Will use it instead of argument\".format(alias))\n",
      "/opt/conda/lib/python3.7/site-packages/lightgbm/engine.py:148: UserWarning: Found `num_iterations` in params. Will use it instead of argument\n",
      "  warnings.warn(\"Found `{}` in params. Will use it instead of argument\".format(alias))\n",
      "/opt/conda/lib/python3.7/site-packages/lightgbm/engine.py:148: UserWarning: Found `num_iterations` in params. Will use it instead of argument\n",
      "  warnings.warn(\"Found `{}` in params. Will use it instead of argument\".format(alias))\n",
      "/opt/conda/lib/python3.7/site-packages/lightgbm/engine.py:148: UserWarning: Found `num_iterations` in params. Will use it instead of argument\n",
      "  warnings.warn(\"Found `{}` in params. Will use it instead of argument\".format(alias))\n",
      "/opt/conda/lib/python3.7/site-packages/lightgbm/engine.py:148: UserWarning: Found `num_iterations` in params. Will use it instead of argument\n",
      "  warnings.warn(\"Found `{}` in params. Will use it instead of argument\".format(alias))\n",
      "/opt/conda/lib/python3.7/site-packages/lightgbm/engine.py:148: UserWarning: Found `num_iterations` in params. Will use it instead of argument\n",
      "  warnings.warn(\"Found `{}` in params. Will use it instead of argument\".format(alias))\n",
      "/opt/conda/lib/python3.7/site-packages/lightgbm/engine.py:148: UserWarning: Found `num_iterations` in params. Will use it instead of argument\n",
      "  warnings.warn(\"Found `{}` in params. Will use it instead of argument\".format(alias))\n",
      "/opt/conda/lib/python3.7/site-packages/lightgbm/engine.py:148: UserWarning: Found `num_iterations` in params. Will use it instead of argument\n",
      "  warnings.warn(\"Found `{}` in params. Will use it instead of argument\".format(alias))\n",
      "/opt/conda/lib/python3.7/site-packages/lightgbm/engine.py:148: UserWarning: Found `num_iterations` in params. Will use it instead of argument\n",
      "  warnings.warn(\"Found `{}` in params. Will use it instead of argument\".format(alias))\n",
      "/opt/conda/lib/python3.7/site-packages/lightgbm/engine.py:148: UserWarning: Found `num_iterations` in params. Will use it instead of argument\n",
      "  warnings.warn(\"Found `{}` in params. Will use it instead of argument\".format(alias))\n",
      "/opt/conda/lib/python3.7/site-packages/lightgbm/engine.py:148: UserWarning: Found `num_iterations` in params. Will use it instead of argument\n",
      "  warnings.warn(\"Found `{}` in params. Will use it instead of argument\".format(alias))\n",
      "/opt/conda/lib/python3.7/site-packages/lightgbm/engine.py:148: UserWarning: Found `num_iterations` in params. Will use it instead of argument\n",
      "  warnings.warn(\"Found `{}` in params. Will use it instead of argument\".format(alias))\n",
      "/opt/conda/lib/python3.7/site-packages/lightgbm/engine.py:148: UserWarning: Found `num_iterations` in params. Will use it instead of argument\n",
      "  warnings.warn(\"Found `{}` in params. Will use it instead of argument\".format(alias))\n",
      "/opt/conda/lib/python3.7/site-packages/lightgbm/engine.py:148: UserWarning: Found `num_iterations` in params. Will use it instead of argument\n",
      "  warnings.warn(\"Found `{}` in params. Will use it instead of argument\".format(alias))\n"
     ]
    },
    {
     "name": "stderr",
     "output_type": "stream",
     "text": [
      "/opt/conda/lib/python3.7/site-packages/lightgbm/engine.py:148: UserWarning: Found `num_iterations` in params. Will use it instead of argument\n",
      "  warnings.warn(\"Found `{}` in params. Will use it instead of argument\".format(alias))\n",
      "/opt/conda/lib/python3.7/site-packages/lightgbm/engine.py:148: UserWarning: Found `num_iterations` in params. Will use it instead of argument\n",
      "  warnings.warn(\"Found `{}` in params. Will use it instead of argument\".format(alias))\n",
      "/opt/conda/lib/python3.7/site-packages/lightgbm/engine.py:148: UserWarning: Found `num_iterations` in params. Will use it instead of argument\n",
      "  warnings.warn(\"Found `{}` in params. Will use it instead of argument\".format(alias))\n",
      "/opt/conda/lib/python3.7/site-packages/lightgbm/engine.py:148: UserWarning: Found `num_iterations` in params. Will use it instead of argument\n",
      "  warnings.warn(\"Found `{}` in params. Will use it instead of argument\".format(alias))\n",
      "/opt/conda/lib/python3.7/site-packages/lightgbm/engine.py:148: UserWarning: Found `num_iterations` in params. Will use it instead of argument\n",
      "  warnings.warn(\"Found `{}` in params. Will use it instead of argument\".format(alias))\n",
      "/opt/conda/lib/python3.7/site-packages/lightgbm/engine.py:148: UserWarning: Found `num_iterations` in params. Will use it instead of argument\n",
      "  warnings.warn(\"Found `{}` in params. Will use it instead of argument\".format(alias))\n",
      "/opt/conda/lib/python3.7/site-packages/lightgbm/engine.py:148: UserWarning: Found `num_iterations` in params. Will use it instead of argument\n",
      "  warnings.warn(\"Found `{}` in params. Will use it instead of argument\".format(alias))\n",
      "/opt/conda/lib/python3.7/site-packages/lightgbm/engine.py:148: UserWarning: Found `num_iterations` in params. Will use it instead of argument\n",
      "  warnings.warn(\"Found `{}` in params. Will use it instead of argument\".format(alias))\n",
      "/opt/conda/lib/python3.7/site-packages/lightgbm/engine.py:148: UserWarning: Found `num_iterations` in params. Will use it instead of argument\n",
      "  warnings.warn(\"Found `{}` in params. Will use it instead of argument\".format(alias))\n",
      "/opt/conda/lib/python3.7/site-packages/lightgbm/engine.py:148: UserWarning: Found `num_iterations` in params. Will use it instead of argument\n",
      "  warnings.warn(\"Found `{}` in params. Will use it instead of argument\".format(alias))\n",
      "/opt/conda/lib/python3.7/site-packages/lightgbm/engine.py:148: UserWarning: Found `num_iterations` in params. Will use it instead of argument\n",
      "  warnings.warn(\"Found `{}` in params. Will use it instead of argument\".format(alias))\n",
      "/opt/conda/lib/python3.7/site-packages/lightgbm/engine.py:148: UserWarning: Found `num_iterations` in params. Will use it instead of argument\n",
      "  warnings.warn(\"Found `{}` in params. Will use it instead of argument\".format(alias))\n",
      "/opt/conda/lib/python3.7/site-packages/lightgbm/engine.py:148: UserWarning: Found `num_iterations` in params. Will use it instead of argument\n",
      "  warnings.warn(\"Found `{}` in params. Will use it instead of argument\".format(alias))\n",
      "/opt/conda/lib/python3.7/site-packages/lightgbm/engine.py:148: UserWarning: Found `num_iterations` in params. Will use it instead of argument\n",
      "  warnings.warn(\"Found `{}` in params. Will use it instead of argument\".format(alias))\n",
      "/opt/conda/lib/python3.7/site-packages/lightgbm/engine.py:148: UserWarning: Found `num_iterations` in params. Will use it instead of argument\n",
      "  warnings.warn(\"Found `{}` in params. Will use it instead of argument\".format(alias))\n",
      "/opt/conda/lib/python3.7/site-packages/lightgbm/engine.py:148: UserWarning: Found `num_iterations` in params. Will use it instead of argument\n",
      "  warnings.warn(\"Found `{}` in params. Will use it instead of argument\".format(alias))\n",
      "/opt/conda/lib/python3.7/site-packages/lightgbm/engine.py:148: UserWarning: Found `num_iterations` in params. Will use it instead of argument\n",
      "  warnings.warn(\"Found `{}` in params. Will use it instead of argument\".format(alias))\n",
      "/opt/conda/lib/python3.7/site-packages/lightgbm/engine.py:148: UserWarning: Found `num_iterations` in params. Will use it instead of argument\n",
      "  warnings.warn(\"Found `{}` in params. Will use it instead of argument\".format(alias))\n",
      "/opt/conda/lib/python3.7/site-packages/lightgbm/engine.py:148: UserWarning: Found `num_iterations` in params. Will use it instead of argument\n",
      "  warnings.warn(\"Found `{}` in params. Will use it instead of argument\".format(alias))\n",
      "/opt/conda/lib/python3.7/site-packages/lightgbm/engine.py:148: UserWarning: Found `num_iterations` in params. Will use it instead of argument\n",
      "  warnings.warn(\"Found `{}` in params. Will use it instead of argument\".format(alias))\n",
      "/opt/conda/lib/python3.7/site-packages/lightgbm/engine.py:148: UserWarning: Found `num_iterations` in params. Will use it instead of argument\n",
      "  warnings.warn(\"Found `{}` in params. Will use it instead of argument\".format(alias))\n",
      "/opt/conda/lib/python3.7/site-packages/lightgbm/engine.py:148: UserWarning: Found `num_iterations` in params. Will use it instead of argument\n",
      "  warnings.warn(\"Found `{}` in params. Will use it instead of argument\".format(alias))\n",
      "/opt/conda/lib/python3.7/site-packages/lightgbm/engine.py:148: UserWarning: Found `num_iterations` in params. Will use it instead of argument\n",
      "  warnings.warn(\"Found `{}` in params. Will use it instead of argument\".format(alias))\n",
      "/opt/conda/lib/python3.7/site-packages/lightgbm/engine.py:148: UserWarning: Found `num_iterations` in params. Will use it instead of argument\n",
      "  warnings.warn(\"Found `{}` in params. Will use it instead of argument\".format(alias))\n",
      "/opt/conda/lib/python3.7/site-packages/lightgbm/engine.py:148: UserWarning: Found `num_iterations` in params. Will use it instead of argument\n",
      "  warnings.warn(\"Found `{}` in params. Will use it instead of argument\".format(alias))\n",
      "/opt/conda/lib/python3.7/site-packages/lightgbm/engine.py:148: UserWarning: Found `num_iterations` in params. Will use it instead of argument\n",
      "  warnings.warn(\"Found `{}` in params. Will use it instead of argument\".format(alias))\n",
      "/opt/conda/lib/python3.7/site-packages/lightgbm/engine.py:148: UserWarning: Found `num_iterations` in params. Will use it instead of argument\n",
      "  warnings.warn(\"Found `{}` in params. Will use it instead of argument\".format(alias))\n",
      "/opt/conda/lib/python3.7/site-packages/lightgbm/engine.py:148: UserWarning: Found `num_iterations` in params. Will use it instead of argument\n",
      "  warnings.warn(\"Found `{}` in params. Will use it instead of argument\".format(alias))\n",
      "/opt/conda/lib/python3.7/site-packages/lightgbm/engine.py:148: UserWarning: Found `num_iterations` in params. Will use it instead of argument\n",
      "  warnings.warn(\"Found `{}` in params. Will use it instead of argument\".format(alias))\n",
      "/opt/conda/lib/python3.7/site-packages/lightgbm/engine.py:148: UserWarning: Found `num_iterations` in params. Will use it instead of argument\n",
      "  warnings.warn(\"Found `{}` in params. Will use it instead of argument\".format(alias))\n"
     ]
    }
   ],
   "source": [
    "grouped_FI = pd.DataFrame()\n",
    "for label in np.unique(Y_train):\n",
    "    print('Label: {}'.format(label))\n",
    "    Y_train_ova = (Y_train == label).astype(int)\n",
    "    Y_test_ova = (Y_test == label).astype(int)\n",
    "    ##### Hyperparameter Search\n",
    "    model = lgb.LGBMClassifier(objective = \"binary\",\n",
    "                               metric = [\"binary_error\",\"auc\", \"cross_entropy\"],\n",
    "                               scale_pos_weight = sum(Y_train_ova == 0)/sum(Y_train_ova == 1), \n",
    "                               #is_unbalance = True,\n",
    "                              )\n",
    "\n",
    "    distributions_lgb = dict(\n",
    "                         #lambda_l1=uniform(loc=0, scale=50),\n",
    "                         lambda_l2=uniform(loc=0, scale=1),\n",
    "                         min_gain_to_split=uniform(loc=0, scale=50),\n",
    "                         max_depth = randint(1, 2000),\n",
    "                         n_estimators = randint(1, 2000),\n",
    "                         num_iterations = randint(1, 200),\n",
    "                         num_leaves = randint(1, 20000),\n",
    "                         learning_rate = uniform(loc=0, scale=0.2),\n",
    "                         bagging_fraction = uniform(loc=0.2, scale=0.8),\n",
    "                         bagging_freq = randint(0, 5),\n",
    "                         feature_fraction = uniform(loc=0.2, scale=0.8),\n",
    "                         #min_data_in_leaf = randint(1, 30000)\n",
    "                        )\n",
    "    clf_lgb = RandomizedSearchCV(\n",
    "                             model, \n",
    "                             distributions_lgb, \n",
    "                             random_state=42, \n",
    "                             cv = StratifiedKFold(n_splits=10),\n",
    "                             scoring = 'f1_weighted'\n",
    "                             #scoring = ['precision','recall','roc_auc'],\n",
    "                             #refit = 'precision'\n",
    "                            )\n",
    "    search_lgb = clf_lgb.fit(X_train, Y_train_ova)\n",
    "    hyper_params = search_lgb.best_params_\n",
    "\n",
    "    ##### Model Training with tuned hyperparameters\n",
    "    model = lgb.LGBMClassifier(objective = \"binary\",\n",
    "                               metric = [\"binary_error\",\"auc\", \"cross_entropy\"],\n",
    "                               learning_rate = hyper_params['learning_rate'],\n",
    "                               feature_fraction = hyper_params['feature_fraction'],\n",
    "                               bagging_fraction = hyper_params['bagging_fraction'],\n",
    "                               bagging_freq = hyper_params['bagging_freq'],\n",
    "                               num_iterations = hyper_params['num_iterations'],\n",
    "                               num_leaves = hyper_params['num_leaves'],\n",
    "                               #min_data_in_leaf = hyper_params['min_data_in_leaf'],\n",
    "                               max_depth = hyper_params['max_depth'],\n",
    "                               n_estimators = hyper_params['n_estimators'],\n",
    "                               scale_pos_weight = sum(Y_train_ova == 0)/sum(Y_train_ova == 1),\n",
    "                               #is_unbalance = True,\n",
    "                               importance_type = 'gain',\n",
    "                               #lambda_l1 = hyper_params['lambda_l1'],\n",
    "                               lambda_l2 = hyper_params['lambda_l2'],\n",
    "                               min_gain_to_split = hyper_params['min_gain_to_split']\n",
    "                              )\n",
    "    model.fit(\n",
    "              X_train, Y_train_ova, \n",
    "              eval_set=[\n",
    "                        (X_test, Y_test_ova), \n",
    "                        (X_train, Y_train_ova)],\n",
    "              feature_name = list(data_encoded.columns),\n",
    "              verbose = 0\n",
    "             )\n",
    "\n",
    "    # Calculating Feature Importances\n",
    "    importance_values = model.booster_.feature_importance(importance_type='split')\n",
    "    feature_name = model.booster_.feature_name()\n",
    "    feature_importance = pd.DataFrame(np.concatenate((np.array(feature_name).reshape(-1,1),\n",
    "                                      importance_values.reshape(-1,1).astype(int)), \n",
    "                                axis = 1), \n",
    "                         columns = ['feature_name', 'feature_importance'])\n",
    "    feature_importance['feature_importance'] = feature_importance['feature_importance'].astype(int)\n",
    "    feature_importance = feature_importance.sort_values(by=['feature_importance'], ascending = False)\n",
    "    feature_importance['label'] = label\n",
    "    grouped_FI = pd.concat([grouped_FI, feature_importance], axis = 0)"
   ]
  },
  {
   "cell_type": "code",
   "execution_count": 163,
   "metadata": {
    "ExecuteTime": {
     "end_time": "2020-07-31T02:38:42.464017Z",
     "start_time": "2020-07-31T02:38:42.440216Z"
    }
   },
   "outputs": [],
   "source": [
    "grouped_FI.to_csv('data/cluster_grouped_FI_no_HDI_one_hot.csv', index = False)"
   ]
  },
  {
   "cell_type": "markdown",
   "metadata": {},
   "source": [
    "#### Radar Chart"
   ]
  },
  {
   "cell_type": "code",
   "execution_count": 164,
   "metadata": {
    "ExecuteTime": {
     "end_time": "2020-07-31T02:39:14.248992Z",
     "start_time": "2020-07-31T02:39:14.242221Z"
    }
   },
   "outputs": [],
   "source": [
    "id_feature_name = grouped_FI[['feature_name']].reset_index()"
   ]
  },
  {
   "cell_type": "code",
   "execution_count": 165,
   "metadata": {
    "ExecuteTime": {
     "end_time": "2020-07-31T02:39:14.683129Z",
     "start_time": "2020-07-31T02:39:14.670022Z"
    },
    "scrolled": true
   },
   "outputs": [],
   "source": [
    "nlargest = grouped_FI.groupby(['label'])['feature_importance'].nlargest(30).reset_index()"
   ]
  },
  {
   "cell_type": "code",
   "execution_count": 166,
   "metadata": {
    "ExecuteTime": {
     "end_time": "2020-07-31T02:39:14.989912Z",
     "start_time": "2020-07-31T02:39:14.973811Z"
    }
   },
   "outputs": [],
   "source": [
    "joined = id_feature_name.merge(nlargest, left_on = 'index', right_on='level_1', how = 'inner')\n",
    "joined = joined.drop(columns = ['index'])\n",
    "joined = joined.drop_duplicates()\n",
    "joined = joined[~joined['feature_name'].str.contains('JAIL')]\n",
    "joined = grouped_FI[grouped_FI['feature_name'].isin(joined['feature_name'].unique())]"
   ]
  },
  {
   "cell_type": "code",
   "execution_count": 171,
   "metadata": {
    "ExecuteTime": {
     "end_time": "2020-07-31T02:40:57.559039Z",
     "start_time": "2020-07-31T02:40:57.528162Z"
    }
   },
   "outputs": [
    {
     "data": {
      "application/vnd.plotly.v1+json": {
       "config": {
        "plotlyServerURL": "https://plot.ly"
       },
       "data": [
        {
         "name": "Cluster 0",
         "r": [
          296,
          222,
          49,
          8,
          4,
          2,
          1,
          1,
          1,
          1,
          1,
          1,
          1,
          0,
          0,
          0,
          0,
          0,
          0,
          0,
          0,
          0,
          0,
          0,
          0,
          0,
          0,
          0,
          0,
          0,
          0,
          0
         ],
         "theta": [
          "establecimiento",
          "edad",
          "nivel_educativo",
          "estado_ingreso",
          "delito_VIOLENCIAINTRAFAMILIAR",
          "reconocimiento_etnico",
          "delito_FABRICACIONTRAFICOYPORTEDEARMASDEFUEGOOMUNICIONES",
          "delito_CONCIERTOPARADELINQUIR",
          "delito_FABRICACINTRFICOPORTEOTENENCIADEARMASDEFUEGOACCESORIOSPARTESOMUNICIONES",
          "hijos_menores",
          "delito_EXTORSION",
          "diversidad_sexual",
          "agravado_2",
          "delito_TRAFICOFABRICACIONOPORTEDEESTUPEFACIENTES",
          "delito_OTRO",
          "tentativa_2",
          "delito_LESIONESPERSONALES",
          "delito_HURTO",
          "delito_HOMICIDIO",
          "genero",
          "discapacidad",
          "delito_FABRICACIONTRAFICOYPORTEDEARMASYMUNICIONESDEUSOPRIVATIVODELASFUERZASARMADAS",
          "adulto_mayor",
          "nacionalidad",
          "madre_lactante",
          "madre_gestante",
          "actividades_enseanza",
          "actividades_trabajo",
          "actividades_estudio",
          "extranjero",
          "estado_civil",
          "calificado_2",
          "edad",
          "estado_civil",
          "establecimiento",
          "diversidad_sexual",
          "delito_LESIONESPERSONALES",
          "delito_FABRICACIONTRAFICOYPORTEDEARMASYMUNICIONESDEUSOPRIVATIVODELASFUERZASARMADAS",
          "delito_FABRICACIONTRAFICOYPORTEDEARMASDEFUEGOOMUNICIONES",
          "delito_FABRICACINTRFICOPORTEOTENENCIADEARMASDEFUEGOACCESORIOSPARTESOMUNICIONES",
          "delito_HOMICIDIO",
          "delito_HURTO",
          "genero",
          "delito_OTRO",
          "delito_CONCIERTOPARADELINQUIR",
          "delito_TRAFICOFABRICACIONOPORTEDEESTUPEFACIENTES",
          "delito_VIOLENCIAINTRAFAMILIAR",
          "tentativa_2",
          "agravado_2",
          "delito_EXTORSION",
          "discapacidad",
          "adulto_mayor",
          "nacionalidad",
          "madre_lactante",
          "madre_gestante",
          "hijos_menores",
          "actividades_enseanza",
          "actividades_trabajo",
          "actividades_estudio",
          "estado_ingreso",
          "extranjero",
          "reconocimiento_etnico",
          "nivel_educativo",
          "calificado_2",
          "nivel_educativo",
          "edad",
          "establecimiento",
          "agravado_2",
          "delito_LESIONESPERSONALES",
          "delito_FABRICACIONTRAFICOYPORTEDEARMASYMUNICIONESDEUSOPRIVATIVODELASFUERZASARMADAS",
          "delito_FABRICACIONTRAFICOYPORTEDEARMASDEFUEGOOMUNICIONES",
          "delito_FABRICACINTRFICOPORTEOTENENCIADEARMASDEFUEGOACCESORIOSPARTESOMUNICIONES",
          "delito_HOMICIDIO",
          "delito_HURTO",
          "genero",
          "delito_CONCIERTOPARADELINQUIR",
          "delito_OTRO",
          "delito_TRAFICOFABRICACIONOPORTEDEESTUPEFACIENTES",
          "delito_VIOLENCIAINTRAFAMILIAR",
          "tentativa_2",
          "delito_EXTORSION",
          "discapacidad",
          "adulto_mayor",
          "nacionalidad",
          "madre_lactante",
          "madre_gestante",
          "hijos_menores",
          "actividades_enseanza",
          "actividades_trabajo",
          "actividades_estudio",
          "estado_ingreso",
          "extranjero",
          "diversidad_sexual",
          "reconocimiento_etnico",
          "estado_civil",
          "calificado_2",
          "establecimiento",
          "edad",
          "estado_civil",
          "nivel_educativo",
          "reconocimiento_etnico",
          "estado_ingreso",
          "delito_FABRICACINTRFICOPORTEOTENENCIADEARMASDEFUEGOACCESORIOSPARTESOMUNICIONES",
          "delito_HURTO",
          "delito_TRAFICOFABRICACIONOPORTEDEESTUPEFACIENTES",
          "delito_VIOLENCIAINTRAFAMILIAR",
          "delito_CONCIERTOPARADELINQUIR",
          "genero",
          "actividades_trabajo",
          "delito_FABRICACIONTRAFICOYPORTEDEARMASDEFUEGOOMUNICIONES",
          "actividades_estudio",
          "delito_OTRO",
          "nacionalidad",
          "delito_LESIONESPERSONALES",
          "tentativa_2",
          "agravado_2",
          "delito_HOMICIDIO",
          "discapacidad",
          "delito_FABRICACIONTRAFICOYPORTEDEARMASYMUNICIONESDEUSOPRIVATIVODELASFUERZASARMADAS",
          "delito_EXTORSION",
          "adulto_mayor",
          "madre_lactante",
          "madre_gestante",
          "hijos_menores",
          "actividades_enseanza",
          "extranjero",
          "diversidad_sexual",
          "calificado_2",
          "establecimiento",
          "edad",
          "nivel_educativo",
          "estado_civil",
          "delito_VIOLENCIAINTRAFAMILIAR",
          "delito_FABRICACIONTRAFICOYPORTEDEARMASDEFUEGOOMUNICIONES",
          "delito_OTRO",
          "delito_LESIONESPERSONALES",
          "actividades_enseanza",
          "reconocimiento_etnico",
          "extranjero",
          "estado_ingreso",
          "nacionalidad",
          "calificado_2",
          "delito_HOMICIDIO",
          "delito_FABRICACINTRFICOPORTEOTENENCIADEARMASDEFUEGOACCESORIOSPARTESOMUNICIONES",
          "actividades_trabajo",
          "delito_TRAFICOFABRICACIONOPORTEDEESTUPEFACIENTES",
          "delito_HURTO",
          "agravado_2",
          "tentativa_2",
          "genero",
          "delito_FABRICACIONTRAFICOYPORTEDEARMASYMUNICIONESDEUSOPRIVATIVODELASFUERZASARMADAS",
          "delito_EXTORSION",
          "delito_CONCIERTOPARADELINQUIR",
          "adulto_mayor",
          "madre_lactante",
          "madre_gestante",
          "hijos_menores",
          "actividades_estudio",
          "diversidad_sexual",
          "discapacidad"
         ],
         "type": "scatterpolar"
        },
        {
         "name": "Cluster 1",
         "r": [
          2,
          2,
          2,
          1,
          0,
          0,
          0,
          0,
          0,
          0,
          0,
          0,
          0,
          0,
          0,
          0,
          0,
          0,
          0,
          0,
          0,
          0,
          0,
          0,
          0,
          0,
          0,
          0,
          0,
          0,
          0,
          0
         ],
         "theta": [
          "establecimiento",
          "edad",
          "nivel_educativo",
          "estado_ingreso",
          "delito_VIOLENCIAINTRAFAMILIAR",
          "reconocimiento_etnico",
          "delito_FABRICACIONTRAFICOYPORTEDEARMASDEFUEGOOMUNICIONES",
          "delito_CONCIERTOPARADELINQUIR",
          "delito_FABRICACINTRFICOPORTEOTENENCIADEARMASDEFUEGOACCESORIOSPARTESOMUNICIONES",
          "hijos_menores",
          "delito_EXTORSION",
          "diversidad_sexual",
          "agravado_2",
          "delito_TRAFICOFABRICACIONOPORTEDEESTUPEFACIENTES",
          "delito_OTRO",
          "tentativa_2",
          "delito_LESIONESPERSONALES",
          "delito_HURTO",
          "delito_HOMICIDIO",
          "genero",
          "discapacidad",
          "delito_FABRICACIONTRAFICOYPORTEDEARMASYMUNICIONESDEUSOPRIVATIVODELASFUERZASARMADAS",
          "adulto_mayor",
          "nacionalidad",
          "madre_lactante",
          "madre_gestante",
          "actividades_enseanza",
          "actividades_trabajo",
          "actividades_estudio",
          "extranjero",
          "estado_civil",
          "calificado_2",
          "edad",
          "estado_civil",
          "establecimiento",
          "diversidad_sexual",
          "delito_LESIONESPERSONALES",
          "delito_FABRICACIONTRAFICOYPORTEDEARMASYMUNICIONESDEUSOPRIVATIVODELASFUERZASARMADAS",
          "delito_FABRICACIONTRAFICOYPORTEDEARMASDEFUEGOOMUNICIONES",
          "delito_FABRICACINTRFICOPORTEOTENENCIADEARMASDEFUEGOACCESORIOSPARTESOMUNICIONES",
          "delito_HOMICIDIO",
          "delito_HURTO",
          "genero",
          "delito_OTRO",
          "delito_CONCIERTOPARADELINQUIR",
          "delito_TRAFICOFABRICACIONOPORTEDEESTUPEFACIENTES",
          "delito_VIOLENCIAINTRAFAMILIAR",
          "tentativa_2",
          "agravado_2",
          "delito_EXTORSION",
          "discapacidad",
          "adulto_mayor",
          "nacionalidad",
          "madre_lactante",
          "madre_gestante",
          "hijos_menores",
          "actividades_enseanza",
          "actividades_trabajo",
          "actividades_estudio",
          "estado_ingreso",
          "extranjero",
          "reconocimiento_etnico",
          "nivel_educativo",
          "calificado_2",
          "nivel_educativo",
          "edad",
          "establecimiento",
          "agravado_2",
          "delito_LESIONESPERSONALES",
          "delito_FABRICACIONTRAFICOYPORTEDEARMASYMUNICIONESDEUSOPRIVATIVODELASFUERZASARMADAS",
          "delito_FABRICACIONTRAFICOYPORTEDEARMASDEFUEGOOMUNICIONES",
          "delito_FABRICACINTRFICOPORTEOTENENCIADEARMASDEFUEGOACCESORIOSPARTESOMUNICIONES",
          "delito_HOMICIDIO",
          "delito_HURTO",
          "genero",
          "delito_CONCIERTOPARADELINQUIR",
          "delito_OTRO",
          "delito_TRAFICOFABRICACIONOPORTEDEESTUPEFACIENTES",
          "delito_VIOLENCIAINTRAFAMILIAR",
          "tentativa_2",
          "delito_EXTORSION",
          "discapacidad",
          "adulto_mayor",
          "nacionalidad",
          "madre_lactante",
          "madre_gestante",
          "hijos_menores",
          "actividades_enseanza",
          "actividades_trabajo",
          "actividades_estudio",
          "estado_ingreso",
          "extranjero",
          "diversidad_sexual",
          "reconocimiento_etnico",
          "estado_civil",
          "calificado_2",
          "establecimiento",
          "edad",
          "estado_civil",
          "nivel_educativo",
          "reconocimiento_etnico",
          "estado_ingreso",
          "delito_FABRICACINTRFICOPORTEOTENENCIADEARMASDEFUEGOACCESORIOSPARTESOMUNICIONES",
          "delito_HURTO",
          "delito_TRAFICOFABRICACIONOPORTEDEESTUPEFACIENTES",
          "delito_VIOLENCIAINTRAFAMILIAR",
          "delito_CONCIERTOPARADELINQUIR",
          "genero",
          "actividades_trabajo",
          "delito_FABRICACIONTRAFICOYPORTEDEARMASDEFUEGOOMUNICIONES",
          "actividades_estudio",
          "delito_OTRO",
          "nacionalidad",
          "delito_LESIONESPERSONALES",
          "tentativa_2",
          "agravado_2",
          "delito_HOMICIDIO",
          "discapacidad",
          "delito_FABRICACIONTRAFICOYPORTEDEARMASYMUNICIONESDEUSOPRIVATIVODELASFUERZASARMADAS",
          "delito_EXTORSION",
          "adulto_mayor",
          "madre_lactante",
          "madre_gestante",
          "hijos_menores",
          "actividades_enseanza",
          "extranjero",
          "diversidad_sexual",
          "calificado_2",
          "establecimiento",
          "edad",
          "nivel_educativo",
          "estado_civil",
          "delito_VIOLENCIAINTRAFAMILIAR",
          "delito_FABRICACIONTRAFICOYPORTEDEARMASDEFUEGOOMUNICIONES",
          "delito_OTRO",
          "delito_LESIONESPERSONALES",
          "actividades_enseanza",
          "reconocimiento_etnico",
          "extranjero",
          "estado_ingreso",
          "nacionalidad",
          "calificado_2",
          "delito_HOMICIDIO",
          "delito_FABRICACINTRFICOPORTEOTENENCIADEARMASDEFUEGOACCESORIOSPARTESOMUNICIONES",
          "actividades_trabajo",
          "delito_TRAFICOFABRICACIONOPORTEDEESTUPEFACIENTES",
          "delito_HURTO",
          "agravado_2",
          "tentativa_2",
          "genero",
          "delito_FABRICACIONTRAFICOYPORTEDEARMASYMUNICIONESDEUSOPRIVATIVODELASFUERZASARMADAS",
          "delito_EXTORSION",
          "delito_CONCIERTOPARADELINQUIR",
          "adulto_mayor",
          "madre_lactante",
          "madre_gestante",
          "hijos_menores",
          "actividades_estudio",
          "diversidad_sexual",
          "discapacidad"
         ],
         "type": "scatterpolar"
        },
        {
         "name": "Cluster 2",
         "r": [
          2,
          2,
          1,
          1,
          0,
          0,
          0,
          0,
          0,
          0,
          0,
          0,
          0,
          0,
          0,
          0,
          0,
          0,
          0,
          0,
          0,
          0,
          0,
          0,
          0,
          0,
          0,
          0,
          0,
          0,
          0,
          0
         ],
         "theta": [
          "establecimiento",
          "edad",
          "nivel_educativo",
          "estado_ingreso",
          "delito_VIOLENCIAINTRAFAMILIAR",
          "reconocimiento_etnico",
          "delito_FABRICACIONTRAFICOYPORTEDEARMASDEFUEGOOMUNICIONES",
          "delito_CONCIERTOPARADELINQUIR",
          "delito_FABRICACINTRFICOPORTEOTENENCIADEARMASDEFUEGOACCESORIOSPARTESOMUNICIONES",
          "hijos_menores",
          "delito_EXTORSION",
          "diversidad_sexual",
          "agravado_2",
          "delito_TRAFICOFABRICACIONOPORTEDEESTUPEFACIENTES",
          "delito_OTRO",
          "tentativa_2",
          "delito_LESIONESPERSONALES",
          "delito_HURTO",
          "delito_HOMICIDIO",
          "genero",
          "discapacidad",
          "delito_FABRICACIONTRAFICOYPORTEDEARMASYMUNICIONESDEUSOPRIVATIVODELASFUERZASARMADAS",
          "adulto_mayor",
          "nacionalidad",
          "madre_lactante",
          "madre_gestante",
          "actividades_enseanza",
          "actividades_trabajo",
          "actividades_estudio",
          "extranjero",
          "estado_civil",
          "calificado_2",
          "edad",
          "estado_civil",
          "establecimiento",
          "diversidad_sexual",
          "delito_LESIONESPERSONALES",
          "delito_FABRICACIONTRAFICOYPORTEDEARMASYMUNICIONESDEUSOPRIVATIVODELASFUERZASARMADAS",
          "delito_FABRICACIONTRAFICOYPORTEDEARMASDEFUEGOOMUNICIONES",
          "delito_FABRICACINTRFICOPORTEOTENENCIADEARMASDEFUEGOACCESORIOSPARTESOMUNICIONES",
          "delito_HOMICIDIO",
          "delito_HURTO",
          "genero",
          "delito_OTRO",
          "delito_CONCIERTOPARADELINQUIR",
          "delito_TRAFICOFABRICACIONOPORTEDEESTUPEFACIENTES",
          "delito_VIOLENCIAINTRAFAMILIAR",
          "tentativa_2",
          "agravado_2",
          "delito_EXTORSION",
          "discapacidad",
          "adulto_mayor",
          "nacionalidad",
          "madre_lactante",
          "madre_gestante",
          "hijos_menores",
          "actividades_enseanza",
          "actividades_trabajo",
          "actividades_estudio",
          "estado_ingreso",
          "extranjero",
          "reconocimiento_etnico",
          "nivel_educativo",
          "calificado_2",
          "nivel_educativo",
          "edad",
          "establecimiento",
          "agravado_2",
          "delito_LESIONESPERSONALES",
          "delito_FABRICACIONTRAFICOYPORTEDEARMASYMUNICIONESDEUSOPRIVATIVODELASFUERZASARMADAS",
          "delito_FABRICACIONTRAFICOYPORTEDEARMASDEFUEGOOMUNICIONES",
          "delito_FABRICACINTRFICOPORTEOTENENCIADEARMASDEFUEGOACCESORIOSPARTESOMUNICIONES",
          "delito_HOMICIDIO",
          "delito_HURTO",
          "genero",
          "delito_CONCIERTOPARADELINQUIR",
          "delito_OTRO",
          "delito_TRAFICOFABRICACIONOPORTEDEESTUPEFACIENTES",
          "delito_VIOLENCIAINTRAFAMILIAR",
          "tentativa_2",
          "delito_EXTORSION",
          "discapacidad",
          "adulto_mayor",
          "nacionalidad",
          "madre_lactante",
          "madre_gestante",
          "hijos_menores",
          "actividades_enseanza",
          "actividades_trabajo",
          "actividades_estudio",
          "estado_ingreso",
          "extranjero",
          "diversidad_sexual",
          "reconocimiento_etnico",
          "estado_civil",
          "calificado_2",
          "establecimiento",
          "edad",
          "estado_civil",
          "nivel_educativo",
          "reconocimiento_etnico",
          "estado_ingreso",
          "delito_FABRICACINTRFICOPORTEOTENENCIADEARMASDEFUEGOACCESORIOSPARTESOMUNICIONES",
          "delito_HURTO",
          "delito_TRAFICOFABRICACIONOPORTEDEESTUPEFACIENTES",
          "delito_VIOLENCIAINTRAFAMILIAR",
          "delito_CONCIERTOPARADELINQUIR",
          "genero",
          "actividades_trabajo",
          "delito_FABRICACIONTRAFICOYPORTEDEARMASDEFUEGOOMUNICIONES",
          "actividades_estudio",
          "delito_OTRO",
          "nacionalidad",
          "delito_LESIONESPERSONALES",
          "tentativa_2",
          "agravado_2",
          "delito_HOMICIDIO",
          "discapacidad",
          "delito_FABRICACIONTRAFICOYPORTEDEARMASYMUNICIONESDEUSOPRIVATIVODELASFUERZASARMADAS",
          "delito_EXTORSION",
          "adulto_mayor",
          "madre_lactante",
          "madre_gestante",
          "hijos_menores",
          "actividades_enseanza",
          "extranjero",
          "diversidad_sexual",
          "calificado_2",
          "establecimiento",
          "edad",
          "nivel_educativo",
          "estado_civil",
          "delito_VIOLENCIAINTRAFAMILIAR",
          "delito_FABRICACIONTRAFICOYPORTEDEARMASDEFUEGOOMUNICIONES",
          "delito_OTRO",
          "delito_LESIONESPERSONALES",
          "actividades_enseanza",
          "reconocimiento_etnico",
          "extranjero",
          "estado_ingreso",
          "nacionalidad",
          "calificado_2",
          "delito_HOMICIDIO",
          "delito_FABRICACINTRFICOPORTEOTENENCIADEARMASDEFUEGOACCESORIOSPARTESOMUNICIONES",
          "actividades_trabajo",
          "delito_TRAFICOFABRICACIONOPORTEDEESTUPEFACIENTES",
          "delito_HURTO",
          "agravado_2",
          "tentativa_2",
          "genero",
          "delito_FABRICACIONTRAFICOYPORTEDEARMASYMUNICIONESDEUSOPRIVATIVODELASFUERZASARMADAS",
          "delito_EXTORSION",
          "delito_CONCIERTOPARADELINQUIR",
          "adulto_mayor",
          "madre_lactante",
          "madre_gestante",
          "hijos_menores",
          "actividades_estudio",
          "diversidad_sexual",
          "discapacidad"
         ],
         "type": "scatterpolar"
        },
        {
         "name": "Cluster 3",
         "r": [
          378,
          323,
          13,
          9,
          8,
          6,
          3,
          3,
          3,
          2,
          2,
          2,
          2,
          2,
          2,
          1,
          1,
          0,
          0,
          0,
          0,
          0,
          0,
          0,
          0,
          0,
          0,
          0,
          0,
          0,
          0,
          0
         ],
         "theta": [
          "establecimiento",
          "edad",
          "nivel_educativo",
          "estado_ingreso",
          "delito_VIOLENCIAINTRAFAMILIAR",
          "reconocimiento_etnico",
          "delito_FABRICACIONTRAFICOYPORTEDEARMASDEFUEGOOMUNICIONES",
          "delito_CONCIERTOPARADELINQUIR",
          "delito_FABRICACINTRFICOPORTEOTENENCIADEARMASDEFUEGOACCESORIOSPARTESOMUNICIONES",
          "hijos_menores",
          "delito_EXTORSION",
          "diversidad_sexual",
          "agravado_2",
          "delito_TRAFICOFABRICACIONOPORTEDEESTUPEFACIENTES",
          "delito_OTRO",
          "tentativa_2",
          "delito_LESIONESPERSONALES",
          "delito_HURTO",
          "delito_HOMICIDIO",
          "genero",
          "discapacidad",
          "delito_FABRICACIONTRAFICOYPORTEDEARMASYMUNICIONESDEUSOPRIVATIVODELASFUERZASARMADAS",
          "adulto_mayor",
          "nacionalidad",
          "madre_lactante",
          "madre_gestante",
          "actividades_enseanza",
          "actividades_trabajo",
          "actividades_estudio",
          "extranjero",
          "estado_civil",
          "calificado_2",
          "edad",
          "estado_civil",
          "establecimiento",
          "diversidad_sexual",
          "delito_LESIONESPERSONALES",
          "delito_FABRICACIONTRAFICOYPORTEDEARMASYMUNICIONESDEUSOPRIVATIVODELASFUERZASARMADAS",
          "delito_FABRICACIONTRAFICOYPORTEDEARMASDEFUEGOOMUNICIONES",
          "delito_FABRICACINTRFICOPORTEOTENENCIADEARMASDEFUEGOACCESORIOSPARTESOMUNICIONES",
          "delito_HOMICIDIO",
          "delito_HURTO",
          "genero",
          "delito_OTRO",
          "delito_CONCIERTOPARADELINQUIR",
          "delito_TRAFICOFABRICACIONOPORTEDEESTUPEFACIENTES",
          "delito_VIOLENCIAINTRAFAMILIAR",
          "tentativa_2",
          "agravado_2",
          "delito_EXTORSION",
          "discapacidad",
          "adulto_mayor",
          "nacionalidad",
          "madre_lactante",
          "madre_gestante",
          "hijos_menores",
          "actividades_enseanza",
          "actividades_trabajo",
          "actividades_estudio",
          "estado_ingreso",
          "extranjero",
          "reconocimiento_etnico",
          "nivel_educativo",
          "calificado_2",
          "nivel_educativo",
          "edad",
          "establecimiento",
          "agravado_2",
          "delito_LESIONESPERSONALES",
          "delito_FABRICACIONTRAFICOYPORTEDEARMASYMUNICIONESDEUSOPRIVATIVODELASFUERZASARMADAS",
          "delito_FABRICACIONTRAFICOYPORTEDEARMASDEFUEGOOMUNICIONES",
          "delito_FABRICACINTRFICOPORTEOTENENCIADEARMASDEFUEGOACCESORIOSPARTESOMUNICIONES",
          "delito_HOMICIDIO",
          "delito_HURTO",
          "genero",
          "delito_CONCIERTOPARADELINQUIR",
          "delito_OTRO",
          "delito_TRAFICOFABRICACIONOPORTEDEESTUPEFACIENTES",
          "delito_VIOLENCIAINTRAFAMILIAR",
          "tentativa_2",
          "delito_EXTORSION",
          "discapacidad",
          "adulto_mayor",
          "nacionalidad",
          "madre_lactante",
          "madre_gestante",
          "hijos_menores",
          "actividades_enseanza",
          "actividades_trabajo",
          "actividades_estudio",
          "estado_ingreso",
          "extranjero",
          "diversidad_sexual",
          "reconocimiento_etnico",
          "estado_civil",
          "calificado_2",
          "establecimiento",
          "edad",
          "estado_civil",
          "nivel_educativo",
          "reconocimiento_etnico",
          "estado_ingreso",
          "delito_FABRICACINTRFICOPORTEOTENENCIADEARMASDEFUEGOACCESORIOSPARTESOMUNICIONES",
          "delito_HURTO",
          "delito_TRAFICOFABRICACIONOPORTEDEESTUPEFACIENTES",
          "delito_VIOLENCIAINTRAFAMILIAR",
          "delito_CONCIERTOPARADELINQUIR",
          "genero",
          "actividades_trabajo",
          "delito_FABRICACIONTRAFICOYPORTEDEARMASDEFUEGOOMUNICIONES",
          "actividades_estudio",
          "delito_OTRO",
          "nacionalidad",
          "delito_LESIONESPERSONALES",
          "tentativa_2",
          "agravado_2",
          "delito_HOMICIDIO",
          "discapacidad",
          "delito_FABRICACIONTRAFICOYPORTEDEARMASYMUNICIONESDEUSOPRIVATIVODELASFUERZASARMADAS",
          "delito_EXTORSION",
          "adulto_mayor",
          "madre_lactante",
          "madre_gestante",
          "hijos_menores",
          "actividades_enseanza",
          "extranjero",
          "diversidad_sexual",
          "calificado_2",
          "establecimiento",
          "edad",
          "nivel_educativo",
          "estado_civil",
          "delito_VIOLENCIAINTRAFAMILIAR",
          "delito_FABRICACIONTRAFICOYPORTEDEARMASDEFUEGOOMUNICIONES",
          "delito_OTRO",
          "delito_LESIONESPERSONALES",
          "actividades_enseanza",
          "reconocimiento_etnico",
          "extranjero",
          "estado_ingreso",
          "nacionalidad",
          "calificado_2",
          "delito_HOMICIDIO",
          "delito_FABRICACINTRFICOPORTEOTENENCIADEARMASDEFUEGOACCESORIOSPARTESOMUNICIONES",
          "actividades_trabajo",
          "delito_TRAFICOFABRICACIONOPORTEDEESTUPEFACIENTES",
          "delito_HURTO",
          "agravado_2",
          "tentativa_2",
          "genero",
          "delito_FABRICACIONTRAFICOYPORTEDEARMASYMUNICIONESDEUSOPRIVATIVODELASFUERZASARMADAS",
          "delito_EXTORSION",
          "delito_CONCIERTOPARADELINQUIR",
          "adulto_mayor",
          "madre_lactante",
          "madre_gestante",
          "hijos_menores",
          "actividades_estudio",
          "diversidad_sexual",
          "discapacidad"
         ],
         "type": "scatterpolar"
        },
        {
         "name": "Cluster 4",
         "r": [
          302,
          187,
          9,
          8,
          5,
          4,
          3,
          3,
          3,
          2,
          2,
          2,
          2,
          1,
          1,
          1,
          1,
          0,
          0,
          0,
          0,
          0,
          0,
          0,
          0,
          0,
          0,
          0,
          0,
          0,
          0,
          0
         ],
         "theta": [
          "establecimiento",
          "edad",
          "nivel_educativo",
          "estado_ingreso",
          "delito_VIOLENCIAINTRAFAMILIAR",
          "reconocimiento_etnico",
          "delito_FABRICACIONTRAFICOYPORTEDEARMASDEFUEGOOMUNICIONES",
          "delito_CONCIERTOPARADELINQUIR",
          "delito_FABRICACINTRFICOPORTEOTENENCIADEARMASDEFUEGOACCESORIOSPARTESOMUNICIONES",
          "hijos_menores",
          "delito_EXTORSION",
          "diversidad_sexual",
          "agravado_2",
          "delito_TRAFICOFABRICACIONOPORTEDEESTUPEFACIENTES",
          "delito_OTRO",
          "tentativa_2",
          "delito_LESIONESPERSONALES",
          "delito_HURTO",
          "delito_HOMICIDIO",
          "genero",
          "discapacidad",
          "delito_FABRICACIONTRAFICOYPORTEDEARMASYMUNICIONESDEUSOPRIVATIVODELASFUERZASARMADAS",
          "adulto_mayor",
          "nacionalidad",
          "madre_lactante",
          "madre_gestante",
          "actividades_enseanza",
          "actividades_trabajo",
          "actividades_estudio",
          "extranjero",
          "estado_civil",
          "calificado_2",
          "edad",
          "estado_civil",
          "establecimiento",
          "diversidad_sexual",
          "delito_LESIONESPERSONALES",
          "delito_FABRICACIONTRAFICOYPORTEDEARMASYMUNICIONESDEUSOPRIVATIVODELASFUERZASARMADAS",
          "delito_FABRICACIONTRAFICOYPORTEDEARMASDEFUEGOOMUNICIONES",
          "delito_FABRICACINTRFICOPORTEOTENENCIADEARMASDEFUEGOACCESORIOSPARTESOMUNICIONES",
          "delito_HOMICIDIO",
          "delito_HURTO",
          "genero",
          "delito_OTRO",
          "delito_CONCIERTOPARADELINQUIR",
          "delito_TRAFICOFABRICACIONOPORTEDEESTUPEFACIENTES",
          "delito_VIOLENCIAINTRAFAMILIAR",
          "tentativa_2",
          "agravado_2",
          "delito_EXTORSION",
          "discapacidad",
          "adulto_mayor",
          "nacionalidad",
          "madre_lactante",
          "madre_gestante",
          "hijos_menores",
          "actividades_enseanza",
          "actividades_trabajo",
          "actividades_estudio",
          "estado_ingreso",
          "extranjero",
          "reconocimiento_etnico",
          "nivel_educativo",
          "calificado_2",
          "nivel_educativo",
          "edad",
          "establecimiento",
          "agravado_2",
          "delito_LESIONESPERSONALES",
          "delito_FABRICACIONTRAFICOYPORTEDEARMASYMUNICIONESDEUSOPRIVATIVODELASFUERZASARMADAS",
          "delito_FABRICACIONTRAFICOYPORTEDEARMASDEFUEGOOMUNICIONES",
          "delito_FABRICACINTRFICOPORTEOTENENCIADEARMASDEFUEGOACCESORIOSPARTESOMUNICIONES",
          "delito_HOMICIDIO",
          "delito_HURTO",
          "genero",
          "delito_CONCIERTOPARADELINQUIR",
          "delito_OTRO",
          "delito_TRAFICOFABRICACIONOPORTEDEESTUPEFACIENTES",
          "delito_VIOLENCIAINTRAFAMILIAR",
          "tentativa_2",
          "delito_EXTORSION",
          "discapacidad",
          "adulto_mayor",
          "nacionalidad",
          "madre_lactante",
          "madre_gestante",
          "hijos_menores",
          "actividades_enseanza",
          "actividades_trabajo",
          "actividades_estudio",
          "estado_ingreso",
          "extranjero",
          "diversidad_sexual",
          "reconocimiento_etnico",
          "estado_civil",
          "calificado_2",
          "establecimiento",
          "edad",
          "estado_civil",
          "nivel_educativo",
          "reconocimiento_etnico",
          "estado_ingreso",
          "delito_FABRICACINTRFICOPORTEOTENENCIADEARMASDEFUEGOACCESORIOSPARTESOMUNICIONES",
          "delito_HURTO",
          "delito_TRAFICOFABRICACIONOPORTEDEESTUPEFACIENTES",
          "delito_VIOLENCIAINTRAFAMILIAR",
          "delito_CONCIERTOPARADELINQUIR",
          "genero",
          "actividades_trabajo",
          "delito_FABRICACIONTRAFICOYPORTEDEARMASDEFUEGOOMUNICIONES",
          "actividades_estudio",
          "delito_OTRO",
          "nacionalidad",
          "delito_LESIONESPERSONALES",
          "tentativa_2",
          "agravado_2",
          "delito_HOMICIDIO",
          "discapacidad",
          "delito_FABRICACIONTRAFICOYPORTEDEARMASYMUNICIONESDEUSOPRIVATIVODELASFUERZASARMADAS",
          "delito_EXTORSION",
          "adulto_mayor",
          "madre_lactante",
          "madre_gestante",
          "hijos_menores",
          "actividades_enseanza",
          "extranjero",
          "diversidad_sexual",
          "calificado_2",
          "establecimiento",
          "edad",
          "nivel_educativo",
          "estado_civil",
          "delito_VIOLENCIAINTRAFAMILIAR",
          "delito_FABRICACIONTRAFICOYPORTEDEARMASDEFUEGOOMUNICIONES",
          "delito_OTRO",
          "delito_LESIONESPERSONALES",
          "actividades_enseanza",
          "reconocimiento_etnico",
          "extranjero",
          "estado_ingreso",
          "nacionalidad",
          "calificado_2",
          "delito_HOMICIDIO",
          "delito_FABRICACINTRFICOPORTEOTENENCIADEARMASDEFUEGOACCESORIOSPARTESOMUNICIONES",
          "actividades_trabajo",
          "delito_TRAFICOFABRICACIONOPORTEDEESTUPEFACIENTES",
          "delito_HURTO",
          "agravado_2",
          "tentativa_2",
          "genero",
          "delito_FABRICACIONTRAFICOYPORTEDEARMASYMUNICIONESDEUSOPRIVATIVODELASFUERZASARMADAS",
          "delito_EXTORSION",
          "delito_CONCIERTOPARADELINQUIR",
          "adulto_mayor",
          "madre_lactante",
          "madre_gestante",
          "hijos_menores",
          "actividades_estudio",
          "diversidad_sexual",
          "discapacidad"
         ],
         "type": "scatterpolar"
        }
       ],
       "layout": {
        "polar": {
         "radialaxis": {
          "visible": true
         }
        },
        "showlegend": false,
        "template": {
         "data": {
          "bar": [
           {
            "error_x": {
             "color": "#2a3f5f"
            },
            "error_y": {
             "color": "#2a3f5f"
            },
            "marker": {
             "line": {
              "color": "#E5ECF6",
              "width": 0.5
             }
            },
            "type": "bar"
           }
          ],
          "barpolar": [
           {
            "marker": {
             "line": {
              "color": "#E5ECF6",
              "width": 0.5
             }
            },
            "type": "barpolar"
           }
          ],
          "carpet": [
           {
            "aaxis": {
             "endlinecolor": "#2a3f5f",
             "gridcolor": "white",
             "linecolor": "white",
             "minorgridcolor": "white",
             "startlinecolor": "#2a3f5f"
            },
            "baxis": {
             "endlinecolor": "#2a3f5f",
             "gridcolor": "white",
             "linecolor": "white",
             "minorgridcolor": "white",
             "startlinecolor": "#2a3f5f"
            },
            "type": "carpet"
           }
          ],
          "choropleth": [
           {
            "colorbar": {
             "outlinewidth": 0,
             "ticks": ""
            },
            "type": "choropleth"
           }
          ],
          "contour": [
           {
            "colorbar": {
             "outlinewidth": 0,
             "ticks": ""
            },
            "colorscale": [
             [
              0,
              "#0d0887"
             ],
             [
              0.1111111111111111,
              "#46039f"
             ],
             [
              0.2222222222222222,
              "#7201a8"
             ],
             [
              0.3333333333333333,
              "#9c179e"
             ],
             [
              0.4444444444444444,
              "#bd3786"
             ],
             [
              0.5555555555555556,
              "#d8576b"
             ],
             [
              0.6666666666666666,
              "#ed7953"
             ],
             [
              0.7777777777777778,
              "#fb9f3a"
             ],
             [
              0.8888888888888888,
              "#fdca26"
             ],
             [
              1,
              "#f0f921"
             ]
            ],
            "type": "contour"
           }
          ],
          "contourcarpet": [
           {
            "colorbar": {
             "outlinewidth": 0,
             "ticks": ""
            },
            "type": "contourcarpet"
           }
          ],
          "heatmap": [
           {
            "colorbar": {
             "outlinewidth": 0,
             "ticks": ""
            },
            "colorscale": [
             [
              0,
              "#0d0887"
             ],
             [
              0.1111111111111111,
              "#46039f"
             ],
             [
              0.2222222222222222,
              "#7201a8"
             ],
             [
              0.3333333333333333,
              "#9c179e"
             ],
             [
              0.4444444444444444,
              "#bd3786"
             ],
             [
              0.5555555555555556,
              "#d8576b"
             ],
             [
              0.6666666666666666,
              "#ed7953"
             ],
             [
              0.7777777777777778,
              "#fb9f3a"
             ],
             [
              0.8888888888888888,
              "#fdca26"
             ],
             [
              1,
              "#f0f921"
             ]
            ],
            "type": "heatmap"
           }
          ],
          "heatmapgl": [
           {
            "colorbar": {
             "outlinewidth": 0,
             "ticks": ""
            },
            "colorscale": [
             [
              0,
              "#0d0887"
             ],
             [
              0.1111111111111111,
              "#46039f"
             ],
             [
              0.2222222222222222,
              "#7201a8"
             ],
             [
              0.3333333333333333,
              "#9c179e"
             ],
             [
              0.4444444444444444,
              "#bd3786"
             ],
             [
              0.5555555555555556,
              "#d8576b"
             ],
             [
              0.6666666666666666,
              "#ed7953"
             ],
             [
              0.7777777777777778,
              "#fb9f3a"
             ],
             [
              0.8888888888888888,
              "#fdca26"
             ],
             [
              1,
              "#f0f921"
             ]
            ],
            "type": "heatmapgl"
           }
          ],
          "histogram": [
           {
            "marker": {
             "colorbar": {
              "outlinewidth": 0,
              "ticks": ""
             }
            },
            "type": "histogram"
           }
          ],
          "histogram2d": [
           {
            "colorbar": {
             "outlinewidth": 0,
             "ticks": ""
            },
            "colorscale": [
             [
              0,
              "#0d0887"
             ],
             [
              0.1111111111111111,
              "#46039f"
             ],
             [
              0.2222222222222222,
              "#7201a8"
             ],
             [
              0.3333333333333333,
              "#9c179e"
             ],
             [
              0.4444444444444444,
              "#bd3786"
             ],
             [
              0.5555555555555556,
              "#d8576b"
             ],
             [
              0.6666666666666666,
              "#ed7953"
             ],
             [
              0.7777777777777778,
              "#fb9f3a"
             ],
             [
              0.8888888888888888,
              "#fdca26"
             ],
             [
              1,
              "#f0f921"
             ]
            ],
            "type": "histogram2d"
           }
          ],
          "histogram2dcontour": [
           {
            "colorbar": {
             "outlinewidth": 0,
             "ticks": ""
            },
            "colorscale": [
             [
              0,
              "#0d0887"
             ],
             [
              0.1111111111111111,
              "#46039f"
             ],
             [
              0.2222222222222222,
              "#7201a8"
             ],
             [
              0.3333333333333333,
              "#9c179e"
             ],
             [
              0.4444444444444444,
              "#bd3786"
             ],
             [
              0.5555555555555556,
              "#d8576b"
             ],
             [
              0.6666666666666666,
              "#ed7953"
             ],
             [
              0.7777777777777778,
              "#fb9f3a"
             ],
             [
              0.8888888888888888,
              "#fdca26"
             ],
             [
              1,
              "#f0f921"
             ]
            ],
            "type": "histogram2dcontour"
           }
          ],
          "mesh3d": [
           {
            "colorbar": {
             "outlinewidth": 0,
             "ticks": ""
            },
            "type": "mesh3d"
           }
          ],
          "parcoords": [
           {
            "line": {
             "colorbar": {
              "outlinewidth": 0,
              "ticks": ""
             }
            },
            "type": "parcoords"
           }
          ],
          "pie": [
           {
            "automargin": true,
            "type": "pie"
           }
          ],
          "scatter": [
           {
            "marker": {
             "colorbar": {
              "outlinewidth": 0,
              "ticks": ""
             }
            },
            "type": "scatter"
           }
          ],
          "scatter3d": [
           {
            "line": {
             "colorbar": {
              "outlinewidth": 0,
              "ticks": ""
             }
            },
            "marker": {
             "colorbar": {
              "outlinewidth": 0,
              "ticks": ""
             }
            },
            "type": "scatter3d"
           }
          ],
          "scattercarpet": [
           {
            "marker": {
             "colorbar": {
              "outlinewidth": 0,
              "ticks": ""
             }
            },
            "type": "scattercarpet"
           }
          ],
          "scattergeo": [
           {
            "marker": {
             "colorbar": {
              "outlinewidth": 0,
              "ticks": ""
             }
            },
            "type": "scattergeo"
           }
          ],
          "scattergl": [
           {
            "marker": {
             "colorbar": {
              "outlinewidth": 0,
              "ticks": ""
             }
            },
            "type": "scattergl"
           }
          ],
          "scattermapbox": [
           {
            "marker": {
             "colorbar": {
              "outlinewidth": 0,
              "ticks": ""
             }
            },
            "type": "scattermapbox"
           }
          ],
          "scatterpolar": [
           {
            "marker": {
             "colorbar": {
              "outlinewidth": 0,
              "ticks": ""
             }
            },
            "type": "scatterpolar"
           }
          ],
          "scatterpolargl": [
           {
            "marker": {
             "colorbar": {
              "outlinewidth": 0,
              "ticks": ""
             }
            },
            "type": "scatterpolargl"
           }
          ],
          "scatterternary": [
           {
            "marker": {
             "colorbar": {
              "outlinewidth": 0,
              "ticks": ""
             }
            },
            "type": "scatterternary"
           }
          ],
          "surface": [
           {
            "colorbar": {
             "outlinewidth": 0,
             "ticks": ""
            },
            "colorscale": [
             [
              0,
              "#0d0887"
             ],
             [
              0.1111111111111111,
              "#46039f"
             ],
             [
              0.2222222222222222,
              "#7201a8"
             ],
             [
              0.3333333333333333,
              "#9c179e"
             ],
             [
              0.4444444444444444,
              "#bd3786"
             ],
             [
              0.5555555555555556,
              "#d8576b"
             ],
             [
              0.6666666666666666,
              "#ed7953"
             ],
             [
              0.7777777777777778,
              "#fb9f3a"
             ],
             [
              0.8888888888888888,
              "#fdca26"
             ],
             [
              1,
              "#f0f921"
             ]
            ],
            "type": "surface"
           }
          ],
          "table": [
           {
            "cells": {
             "fill": {
              "color": "#EBF0F8"
             },
             "line": {
              "color": "white"
             }
            },
            "header": {
             "fill": {
              "color": "#C8D4E3"
             },
             "line": {
              "color": "white"
             }
            },
            "type": "table"
           }
          ]
         },
         "layout": {
          "annotationdefaults": {
           "arrowcolor": "#2a3f5f",
           "arrowhead": 0,
           "arrowwidth": 1
          },
          "coloraxis": {
           "colorbar": {
            "outlinewidth": 0,
            "ticks": ""
           }
          },
          "colorscale": {
           "diverging": [
            [
             0,
             "#8e0152"
            ],
            [
             0.1,
             "#c51b7d"
            ],
            [
             0.2,
             "#de77ae"
            ],
            [
             0.3,
             "#f1b6da"
            ],
            [
             0.4,
             "#fde0ef"
            ],
            [
             0.5,
             "#f7f7f7"
            ],
            [
             0.6,
             "#e6f5d0"
            ],
            [
             0.7,
             "#b8e186"
            ],
            [
             0.8,
             "#7fbc41"
            ],
            [
             0.9,
             "#4d9221"
            ],
            [
             1,
             "#276419"
            ]
           ],
           "sequential": [
            [
             0,
             "#0d0887"
            ],
            [
             0.1111111111111111,
             "#46039f"
            ],
            [
             0.2222222222222222,
             "#7201a8"
            ],
            [
             0.3333333333333333,
             "#9c179e"
            ],
            [
             0.4444444444444444,
             "#bd3786"
            ],
            [
             0.5555555555555556,
             "#d8576b"
            ],
            [
             0.6666666666666666,
             "#ed7953"
            ],
            [
             0.7777777777777778,
             "#fb9f3a"
            ],
            [
             0.8888888888888888,
             "#fdca26"
            ],
            [
             1,
             "#f0f921"
            ]
           ],
           "sequentialminus": [
            [
             0,
             "#0d0887"
            ],
            [
             0.1111111111111111,
             "#46039f"
            ],
            [
             0.2222222222222222,
             "#7201a8"
            ],
            [
             0.3333333333333333,
             "#9c179e"
            ],
            [
             0.4444444444444444,
             "#bd3786"
            ],
            [
             0.5555555555555556,
             "#d8576b"
            ],
            [
             0.6666666666666666,
             "#ed7953"
            ],
            [
             0.7777777777777778,
             "#fb9f3a"
            ],
            [
             0.8888888888888888,
             "#fdca26"
            ],
            [
             1,
             "#f0f921"
            ]
           ]
          },
          "colorway": [
           "#636efa",
           "#EF553B",
           "#00cc96",
           "#ab63fa",
           "#FFA15A",
           "#19d3f3",
           "#FF6692",
           "#B6E880",
           "#FF97FF",
           "#FECB52"
          ],
          "font": {
           "color": "#2a3f5f"
          },
          "geo": {
           "bgcolor": "white",
           "lakecolor": "white",
           "landcolor": "#E5ECF6",
           "showlakes": true,
           "showland": true,
           "subunitcolor": "white"
          },
          "hoverlabel": {
           "align": "left"
          },
          "hovermode": "closest",
          "mapbox": {
           "style": "light"
          },
          "paper_bgcolor": "white",
          "plot_bgcolor": "#E5ECF6",
          "polar": {
           "angularaxis": {
            "gridcolor": "white",
            "linecolor": "white",
            "ticks": ""
           },
           "bgcolor": "#E5ECF6",
           "radialaxis": {
            "gridcolor": "white",
            "linecolor": "white",
            "ticks": ""
           }
          },
          "scene": {
           "xaxis": {
            "backgroundcolor": "#E5ECF6",
            "gridcolor": "white",
            "gridwidth": 2,
            "linecolor": "white",
            "showbackground": true,
            "ticks": "",
            "zerolinecolor": "white"
           },
           "yaxis": {
            "backgroundcolor": "#E5ECF6",
            "gridcolor": "white",
            "gridwidth": 2,
            "linecolor": "white",
            "showbackground": true,
            "ticks": "",
            "zerolinecolor": "white"
           },
           "zaxis": {
            "backgroundcolor": "#E5ECF6",
            "gridcolor": "white",
            "gridwidth": 2,
            "linecolor": "white",
            "showbackground": true,
            "ticks": "",
            "zerolinecolor": "white"
           }
          },
          "shapedefaults": {
           "line": {
            "color": "#2a3f5f"
           }
          },
          "ternary": {
           "aaxis": {
            "gridcolor": "white",
            "linecolor": "white",
            "ticks": ""
           },
           "baxis": {
            "gridcolor": "white",
            "linecolor": "white",
            "ticks": ""
           },
           "bgcolor": "#E5ECF6",
           "caxis": {
            "gridcolor": "white",
            "linecolor": "white",
            "ticks": ""
           }
          },
          "title": {
           "x": 0.05
          },
          "xaxis": {
           "automargin": true,
           "gridcolor": "white",
           "linecolor": "white",
           "ticks": "",
           "title": {
            "standoff": 15
           },
           "zerolinecolor": "white",
           "zerolinewidth": 2
          },
          "yaxis": {
           "automargin": true,
           "gridcolor": "white",
           "linecolor": "white",
           "ticks": "",
           "title": {
            "standoff": 15
           },
           "zerolinecolor": "white",
           "zerolinewidth": 2
          }
         }
        }
       }
      },
      "text/html": [
       "<div>\n",
       "        \n",
       "        \n",
       "            <div id=\"0ef647b3-eb82-4e1e-a787-4050f18dac2c\" class=\"plotly-graph-div\" style=\"height:525px; width:100%;\"></div>\n",
       "            <script type=\"text/javascript\">\n",
       "                require([\"plotly\"], function(Plotly) {\n",
       "                    window.PLOTLYENV=window.PLOTLYENV || {};\n",
       "                    \n",
       "                if (document.getElementById(\"0ef647b3-eb82-4e1e-a787-4050f18dac2c\")) {\n",
       "                    Plotly.newPlot(\n",
       "                        '0ef647b3-eb82-4e1e-a787-4050f18dac2c',\n",
       "                        [{\"name\": \"Cluster 0\", \"r\": [296, 222, 49, 8, 4, 2, 1, 1, 1, 1, 1, 1, 1, 0, 0, 0, 0, 0, 0, 0, 0, 0, 0, 0, 0, 0, 0, 0, 0, 0, 0, 0], \"theta\": [\"establecimiento\", \"edad\", \"nivel_educativo\", \"estado_ingreso\", \"delito_VIOLENCIAINTRAFAMILIAR\", \"reconocimiento_etnico\", \"delito_FABRICACIONTRAFICOYPORTEDEARMASDEFUEGOOMUNICIONES\", \"delito_CONCIERTOPARADELINQUIR\", \"delito_FABRICACINTRFICOPORTEOTENENCIADEARMASDEFUEGOACCESORIOSPARTESOMUNICIONES\", \"hijos_menores\", \"delito_EXTORSION\", \"diversidad_sexual\", \"agravado_2\", \"delito_TRAFICOFABRICACIONOPORTEDEESTUPEFACIENTES\", \"delito_OTRO\", \"tentativa_2\", \"delito_LESIONESPERSONALES\", \"delito_HURTO\", \"delito_HOMICIDIO\", \"genero\", \"discapacidad\", \"delito_FABRICACIONTRAFICOYPORTEDEARMASYMUNICIONESDEUSOPRIVATIVODELASFUERZASARMADAS\", \"adulto_mayor\", \"nacionalidad\", \"madre_lactante\", \"madre_gestante\", \"actividades_enseanza\", \"actividades_trabajo\", \"actividades_estudio\", \"extranjero\", \"estado_civil\", \"calificado_2\", \"edad\", \"estado_civil\", \"establecimiento\", \"diversidad_sexual\", \"delito_LESIONESPERSONALES\", \"delito_FABRICACIONTRAFICOYPORTEDEARMASYMUNICIONESDEUSOPRIVATIVODELASFUERZASARMADAS\", \"delito_FABRICACIONTRAFICOYPORTEDEARMASDEFUEGOOMUNICIONES\", \"delito_FABRICACINTRFICOPORTEOTENENCIADEARMASDEFUEGOACCESORIOSPARTESOMUNICIONES\", \"delito_HOMICIDIO\", \"delito_HURTO\", \"genero\", \"delito_OTRO\", \"delito_CONCIERTOPARADELINQUIR\", \"delito_TRAFICOFABRICACIONOPORTEDEESTUPEFACIENTES\", \"delito_VIOLENCIAINTRAFAMILIAR\", \"tentativa_2\", \"agravado_2\", \"delito_EXTORSION\", \"discapacidad\", \"adulto_mayor\", \"nacionalidad\", \"madre_lactante\", \"madre_gestante\", \"hijos_menores\", \"actividades_enseanza\", \"actividades_trabajo\", \"actividades_estudio\", \"estado_ingreso\", \"extranjero\", \"reconocimiento_etnico\", \"nivel_educativo\", \"calificado_2\", \"nivel_educativo\", \"edad\", \"establecimiento\", \"agravado_2\", \"delito_LESIONESPERSONALES\", \"delito_FABRICACIONTRAFICOYPORTEDEARMASYMUNICIONESDEUSOPRIVATIVODELASFUERZASARMADAS\", \"delito_FABRICACIONTRAFICOYPORTEDEARMASDEFUEGOOMUNICIONES\", \"delito_FABRICACINTRFICOPORTEOTENENCIADEARMASDEFUEGOACCESORIOSPARTESOMUNICIONES\", \"delito_HOMICIDIO\", \"delito_HURTO\", \"genero\", \"delito_CONCIERTOPARADELINQUIR\", \"delito_OTRO\", \"delito_TRAFICOFABRICACIONOPORTEDEESTUPEFACIENTES\", \"delito_VIOLENCIAINTRAFAMILIAR\", \"tentativa_2\", \"delito_EXTORSION\", \"discapacidad\", \"adulto_mayor\", \"nacionalidad\", \"madre_lactante\", \"madre_gestante\", \"hijos_menores\", \"actividades_enseanza\", \"actividades_trabajo\", \"actividades_estudio\", \"estado_ingreso\", \"extranjero\", \"diversidad_sexual\", \"reconocimiento_etnico\", \"estado_civil\", \"calificado_2\", \"establecimiento\", \"edad\", \"estado_civil\", \"nivel_educativo\", \"reconocimiento_etnico\", \"estado_ingreso\", \"delito_FABRICACINTRFICOPORTEOTENENCIADEARMASDEFUEGOACCESORIOSPARTESOMUNICIONES\", \"delito_HURTO\", \"delito_TRAFICOFABRICACIONOPORTEDEESTUPEFACIENTES\", \"delito_VIOLENCIAINTRAFAMILIAR\", \"delito_CONCIERTOPARADELINQUIR\", \"genero\", \"actividades_trabajo\", \"delito_FABRICACIONTRAFICOYPORTEDEARMASDEFUEGOOMUNICIONES\", \"actividades_estudio\", \"delito_OTRO\", \"nacionalidad\", \"delito_LESIONESPERSONALES\", \"tentativa_2\", \"agravado_2\", \"delito_HOMICIDIO\", \"discapacidad\", \"delito_FABRICACIONTRAFICOYPORTEDEARMASYMUNICIONESDEUSOPRIVATIVODELASFUERZASARMADAS\", \"delito_EXTORSION\", \"adulto_mayor\", \"madre_lactante\", \"madre_gestante\", \"hijos_menores\", \"actividades_enseanza\", \"extranjero\", \"diversidad_sexual\", \"calificado_2\", \"establecimiento\", \"edad\", \"nivel_educativo\", \"estado_civil\", \"delito_VIOLENCIAINTRAFAMILIAR\", \"delito_FABRICACIONTRAFICOYPORTEDEARMASDEFUEGOOMUNICIONES\", \"delito_OTRO\", \"delito_LESIONESPERSONALES\", \"actividades_enseanza\", \"reconocimiento_etnico\", \"extranjero\", \"estado_ingreso\", \"nacionalidad\", \"calificado_2\", \"delito_HOMICIDIO\", \"delito_FABRICACINTRFICOPORTEOTENENCIADEARMASDEFUEGOACCESORIOSPARTESOMUNICIONES\", \"actividades_trabajo\", \"delito_TRAFICOFABRICACIONOPORTEDEESTUPEFACIENTES\", \"delito_HURTO\", \"agravado_2\", \"tentativa_2\", \"genero\", \"delito_FABRICACIONTRAFICOYPORTEDEARMASYMUNICIONESDEUSOPRIVATIVODELASFUERZASARMADAS\", \"delito_EXTORSION\", \"delito_CONCIERTOPARADELINQUIR\", \"adulto_mayor\", \"madre_lactante\", \"madre_gestante\", \"hijos_menores\", \"actividades_estudio\", \"diversidad_sexual\", \"discapacidad\"], \"type\": \"scatterpolar\"}, {\"name\": \"Cluster 1\", \"r\": [2, 2, 2, 1, 0, 0, 0, 0, 0, 0, 0, 0, 0, 0, 0, 0, 0, 0, 0, 0, 0, 0, 0, 0, 0, 0, 0, 0, 0, 0, 0, 0], \"theta\": [\"establecimiento\", \"edad\", \"nivel_educativo\", \"estado_ingreso\", \"delito_VIOLENCIAINTRAFAMILIAR\", \"reconocimiento_etnico\", \"delito_FABRICACIONTRAFICOYPORTEDEARMASDEFUEGOOMUNICIONES\", \"delito_CONCIERTOPARADELINQUIR\", \"delito_FABRICACINTRFICOPORTEOTENENCIADEARMASDEFUEGOACCESORIOSPARTESOMUNICIONES\", \"hijos_menores\", \"delito_EXTORSION\", \"diversidad_sexual\", \"agravado_2\", \"delito_TRAFICOFABRICACIONOPORTEDEESTUPEFACIENTES\", \"delito_OTRO\", \"tentativa_2\", \"delito_LESIONESPERSONALES\", \"delito_HURTO\", \"delito_HOMICIDIO\", \"genero\", \"discapacidad\", \"delito_FABRICACIONTRAFICOYPORTEDEARMASYMUNICIONESDEUSOPRIVATIVODELASFUERZASARMADAS\", \"adulto_mayor\", \"nacionalidad\", \"madre_lactante\", \"madre_gestante\", \"actividades_enseanza\", \"actividades_trabajo\", \"actividades_estudio\", \"extranjero\", \"estado_civil\", \"calificado_2\", \"edad\", \"estado_civil\", \"establecimiento\", \"diversidad_sexual\", \"delito_LESIONESPERSONALES\", \"delito_FABRICACIONTRAFICOYPORTEDEARMASYMUNICIONESDEUSOPRIVATIVODELASFUERZASARMADAS\", \"delito_FABRICACIONTRAFICOYPORTEDEARMASDEFUEGOOMUNICIONES\", \"delito_FABRICACINTRFICOPORTEOTENENCIADEARMASDEFUEGOACCESORIOSPARTESOMUNICIONES\", \"delito_HOMICIDIO\", \"delito_HURTO\", \"genero\", \"delito_OTRO\", \"delito_CONCIERTOPARADELINQUIR\", \"delito_TRAFICOFABRICACIONOPORTEDEESTUPEFACIENTES\", \"delito_VIOLENCIAINTRAFAMILIAR\", \"tentativa_2\", \"agravado_2\", \"delito_EXTORSION\", \"discapacidad\", \"adulto_mayor\", \"nacionalidad\", \"madre_lactante\", \"madre_gestante\", \"hijos_menores\", \"actividades_enseanza\", \"actividades_trabajo\", \"actividades_estudio\", \"estado_ingreso\", \"extranjero\", \"reconocimiento_etnico\", \"nivel_educativo\", \"calificado_2\", \"nivel_educativo\", \"edad\", \"establecimiento\", \"agravado_2\", \"delito_LESIONESPERSONALES\", \"delito_FABRICACIONTRAFICOYPORTEDEARMASYMUNICIONESDEUSOPRIVATIVODELASFUERZASARMADAS\", \"delito_FABRICACIONTRAFICOYPORTEDEARMASDEFUEGOOMUNICIONES\", \"delito_FABRICACINTRFICOPORTEOTENENCIADEARMASDEFUEGOACCESORIOSPARTESOMUNICIONES\", \"delito_HOMICIDIO\", \"delito_HURTO\", \"genero\", \"delito_CONCIERTOPARADELINQUIR\", \"delito_OTRO\", \"delito_TRAFICOFABRICACIONOPORTEDEESTUPEFACIENTES\", \"delito_VIOLENCIAINTRAFAMILIAR\", \"tentativa_2\", \"delito_EXTORSION\", \"discapacidad\", \"adulto_mayor\", \"nacionalidad\", \"madre_lactante\", \"madre_gestante\", \"hijos_menores\", \"actividades_enseanza\", \"actividades_trabajo\", \"actividades_estudio\", \"estado_ingreso\", \"extranjero\", \"diversidad_sexual\", \"reconocimiento_etnico\", \"estado_civil\", \"calificado_2\", \"establecimiento\", \"edad\", \"estado_civil\", \"nivel_educativo\", \"reconocimiento_etnico\", \"estado_ingreso\", \"delito_FABRICACINTRFICOPORTEOTENENCIADEARMASDEFUEGOACCESORIOSPARTESOMUNICIONES\", \"delito_HURTO\", \"delito_TRAFICOFABRICACIONOPORTEDEESTUPEFACIENTES\", \"delito_VIOLENCIAINTRAFAMILIAR\", \"delito_CONCIERTOPARADELINQUIR\", \"genero\", \"actividades_trabajo\", \"delito_FABRICACIONTRAFICOYPORTEDEARMASDEFUEGOOMUNICIONES\", \"actividades_estudio\", \"delito_OTRO\", \"nacionalidad\", \"delito_LESIONESPERSONALES\", \"tentativa_2\", \"agravado_2\", \"delito_HOMICIDIO\", \"discapacidad\", \"delito_FABRICACIONTRAFICOYPORTEDEARMASYMUNICIONESDEUSOPRIVATIVODELASFUERZASARMADAS\", \"delito_EXTORSION\", \"adulto_mayor\", \"madre_lactante\", \"madre_gestante\", \"hijos_menores\", \"actividades_enseanza\", \"extranjero\", \"diversidad_sexual\", \"calificado_2\", \"establecimiento\", \"edad\", \"nivel_educativo\", \"estado_civil\", \"delito_VIOLENCIAINTRAFAMILIAR\", \"delito_FABRICACIONTRAFICOYPORTEDEARMASDEFUEGOOMUNICIONES\", \"delito_OTRO\", \"delito_LESIONESPERSONALES\", \"actividades_enseanza\", \"reconocimiento_etnico\", \"extranjero\", \"estado_ingreso\", \"nacionalidad\", \"calificado_2\", \"delito_HOMICIDIO\", \"delito_FABRICACINTRFICOPORTEOTENENCIADEARMASDEFUEGOACCESORIOSPARTESOMUNICIONES\", \"actividades_trabajo\", \"delito_TRAFICOFABRICACIONOPORTEDEESTUPEFACIENTES\", \"delito_HURTO\", \"agravado_2\", \"tentativa_2\", \"genero\", \"delito_FABRICACIONTRAFICOYPORTEDEARMASYMUNICIONESDEUSOPRIVATIVODELASFUERZASARMADAS\", \"delito_EXTORSION\", \"delito_CONCIERTOPARADELINQUIR\", \"adulto_mayor\", \"madre_lactante\", \"madre_gestante\", \"hijos_menores\", \"actividades_estudio\", \"diversidad_sexual\", \"discapacidad\"], \"type\": \"scatterpolar\"}, {\"name\": \"Cluster 2\", \"r\": [2, 2, 1, 1, 0, 0, 0, 0, 0, 0, 0, 0, 0, 0, 0, 0, 0, 0, 0, 0, 0, 0, 0, 0, 0, 0, 0, 0, 0, 0, 0, 0], \"theta\": [\"establecimiento\", \"edad\", \"nivel_educativo\", \"estado_ingreso\", \"delito_VIOLENCIAINTRAFAMILIAR\", \"reconocimiento_etnico\", \"delito_FABRICACIONTRAFICOYPORTEDEARMASDEFUEGOOMUNICIONES\", \"delito_CONCIERTOPARADELINQUIR\", \"delito_FABRICACINTRFICOPORTEOTENENCIADEARMASDEFUEGOACCESORIOSPARTESOMUNICIONES\", \"hijos_menores\", \"delito_EXTORSION\", \"diversidad_sexual\", \"agravado_2\", \"delito_TRAFICOFABRICACIONOPORTEDEESTUPEFACIENTES\", \"delito_OTRO\", \"tentativa_2\", \"delito_LESIONESPERSONALES\", \"delito_HURTO\", \"delito_HOMICIDIO\", \"genero\", \"discapacidad\", \"delito_FABRICACIONTRAFICOYPORTEDEARMASYMUNICIONESDEUSOPRIVATIVODELASFUERZASARMADAS\", \"adulto_mayor\", \"nacionalidad\", \"madre_lactante\", \"madre_gestante\", \"actividades_enseanza\", \"actividades_trabajo\", \"actividades_estudio\", \"extranjero\", \"estado_civil\", \"calificado_2\", \"edad\", \"estado_civil\", \"establecimiento\", \"diversidad_sexual\", \"delito_LESIONESPERSONALES\", \"delito_FABRICACIONTRAFICOYPORTEDEARMASYMUNICIONESDEUSOPRIVATIVODELASFUERZASARMADAS\", \"delito_FABRICACIONTRAFICOYPORTEDEARMASDEFUEGOOMUNICIONES\", \"delito_FABRICACINTRFICOPORTEOTENENCIADEARMASDEFUEGOACCESORIOSPARTESOMUNICIONES\", \"delito_HOMICIDIO\", \"delito_HURTO\", \"genero\", \"delito_OTRO\", \"delito_CONCIERTOPARADELINQUIR\", \"delito_TRAFICOFABRICACIONOPORTEDEESTUPEFACIENTES\", \"delito_VIOLENCIAINTRAFAMILIAR\", \"tentativa_2\", \"agravado_2\", \"delito_EXTORSION\", \"discapacidad\", \"adulto_mayor\", \"nacionalidad\", \"madre_lactante\", \"madre_gestante\", \"hijos_menores\", \"actividades_enseanza\", \"actividades_trabajo\", \"actividades_estudio\", \"estado_ingreso\", \"extranjero\", \"reconocimiento_etnico\", \"nivel_educativo\", \"calificado_2\", \"nivel_educativo\", \"edad\", \"establecimiento\", \"agravado_2\", \"delito_LESIONESPERSONALES\", \"delito_FABRICACIONTRAFICOYPORTEDEARMASYMUNICIONESDEUSOPRIVATIVODELASFUERZASARMADAS\", \"delito_FABRICACIONTRAFICOYPORTEDEARMASDEFUEGOOMUNICIONES\", \"delito_FABRICACINTRFICOPORTEOTENENCIADEARMASDEFUEGOACCESORIOSPARTESOMUNICIONES\", \"delito_HOMICIDIO\", \"delito_HURTO\", \"genero\", \"delito_CONCIERTOPARADELINQUIR\", \"delito_OTRO\", \"delito_TRAFICOFABRICACIONOPORTEDEESTUPEFACIENTES\", \"delito_VIOLENCIAINTRAFAMILIAR\", \"tentativa_2\", \"delito_EXTORSION\", \"discapacidad\", \"adulto_mayor\", \"nacionalidad\", \"madre_lactante\", \"madre_gestante\", \"hijos_menores\", \"actividades_enseanza\", \"actividades_trabajo\", \"actividades_estudio\", \"estado_ingreso\", \"extranjero\", \"diversidad_sexual\", \"reconocimiento_etnico\", \"estado_civil\", \"calificado_2\", \"establecimiento\", \"edad\", \"estado_civil\", \"nivel_educativo\", \"reconocimiento_etnico\", \"estado_ingreso\", \"delito_FABRICACINTRFICOPORTEOTENENCIADEARMASDEFUEGOACCESORIOSPARTESOMUNICIONES\", \"delito_HURTO\", \"delito_TRAFICOFABRICACIONOPORTEDEESTUPEFACIENTES\", \"delito_VIOLENCIAINTRAFAMILIAR\", \"delito_CONCIERTOPARADELINQUIR\", \"genero\", \"actividades_trabajo\", \"delito_FABRICACIONTRAFICOYPORTEDEARMASDEFUEGOOMUNICIONES\", \"actividades_estudio\", \"delito_OTRO\", \"nacionalidad\", \"delito_LESIONESPERSONALES\", \"tentativa_2\", \"agravado_2\", \"delito_HOMICIDIO\", \"discapacidad\", \"delito_FABRICACIONTRAFICOYPORTEDEARMASYMUNICIONESDEUSOPRIVATIVODELASFUERZASARMADAS\", \"delito_EXTORSION\", \"adulto_mayor\", \"madre_lactante\", \"madre_gestante\", \"hijos_menores\", \"actividades_enseanza\", \"extranjero\", \"diversidad_sexual\", \"calificado_2\", \"establecimiento\", \"edad\", \"nivel_educativo\", \"estado_civil\", \"delito_VIOLENCIAINTRAFAMILIAR\", \"delito_FABRICACIONTRAFICOYPORTEDEARMASDEFUEGOOMUNICIONES\", \"delito_OTRO\", \"delito_LESIONESPERSONALES\", \"actividades_enseanza\", \"reconocimiento_etnico\", \"extranjero\", \"estado_ingreso\", \"nacionalidad\", \"calificado_2\", \"delito_HOMICIDIO\", \"delito_FABRICACINTRFICOPORTEOTENENCIADEARMASDEFUEGOACCESORIOSPARTESOMUNICIONES\", \"actividades_trabajo\", \"delito_TRAFICOFABRICACIONOPORTEDEESTUPEFACIENTES\", \"delito_HURTO\", \"agravado_2\", \"tentativa_2\", \"genero\", \"delito_FABRICACIONTRAFICOYPORTEDEARMASYMUNICIONESDEUSOPRIVATIVODELASFUERZASARMADAS\", \"delito_EXTORSION\", \"delito_CONCIERTOPARADELINQUIR\", \"adulto_mayor\", \"madre_lactante\", \"madre_gestante\", \"hijos_menores\", \"actividades_estudio\", \"diversidad_sexual\", \"discapacidad\"], \"type\": \"scatterpolar\"}, {\"name\": \"Cluster 3\", \"r\": [378, 323, 13, 9, 8, 6, 3, 3, 3, 2, 2, 2, 2, 2, 2, 1, 1, 0, 0, 0, 0, 0, 0, 0, 0, 0, 0, 0, 0, 0, 0, 0], \"theta\": [\"establecimiento\", \"edad\", \"nivel_educativo\", \"estado_ingreso\", \"delito_VIOLENCIAINTRAFAMILIAR\", \"reconocimiento_etnico\", \"delito_FABRICACIONTRAFICOYPORTEDEARMASDEFUEGOOMUNICIONES\", \"delito_CONCIERTOPARADELINQUIR\", \"delito_FABRICACINTRFICOPORTEOTENENCIADEARMASDEFUEGOACCESORIOSPARTESOMUNICIONES\", \"hijos_menores\", \"delito_EXTORSION\", \"diversidad_sexual\", \"agravado_2\", \"delito_TRAFICOFABRICACIONOPORTEDEESTUPEFACIENTES\", \"delito_OTRO\", \"tentativa_2\", \"delito_LESIONESPERSONALES\", \"delito_HURTO\", \"delito_HOMICIDIO\", \"genero\", \"discapacidad\", \"delito_FABRICACIONTRAFICOYPORTEDEARMASYMUNICIONESDEUSOPRIVATIVODELASFUERZASARMADAS\", \"adulto_mayor\", \"nacionalidad\", \"madre_lactante\", \"madre_gestante\", \"actividades_enseanza\", \"actividades_trabajo\", \"actividades_estudio\", \"extranjero\", \"estado_civil\", \"calificado_2\", \"edad\", \"estado_civil\", \"establecimiento\", \"diversidad_sexual\", \"delito_LESIONESPERSONALES\", \"delito_FABRICACIONTRAFICOYPORTEDEARMASYMUNICIONESDEUSOPRIVATIVODELASFUERZASARMADAS\", \"delito_FABRICACIONTRAFICOYPORTEDEARMASDEFUEGOOMUNICIONES\", \"delito_FABRICACINTRFICOPORTEOTENENCIADEARMASDEFUEGOACCESORIOSPARTESOMUNICIONES\", \"delito_HOMICIDIO\", \"delito_HURTO\", \"genero\", \"delito_OTRO\", \"delito_CONCIERTOPARADELINQUIR\", \"delito_TRAFICOFABRICACIONOPORTEDEESTUPEFACIENTES\", \"delito_VIOLENCIAINTRAFAMILIAR\", \"tentativa_2\", \"agravado_2\", \"delito_EXTORSION\", \"discapacidad\", \"adulto_mayor\", \"nacionalidad\", \"madre_lactante\", \"madre_gestante\", \"hijos_menores\", \"actividades_enseanza\", \"actividades_trabajo\", \"actividades_estudio\", \"estado_ingreso\", \"extranjero\", \"reconocimiento_etnico\", \"nivel_educativo\", \"calificado_2\", \"nivel_educativo\", \"edad\", \"establecimiento\", \"agravado_2\", \"delito_LESIONESPERSONALES\", \"delito_FABRICACIONTRAFICOYPORTEDEARMASYMUNICIONESDEUSOPRIVATIVODELASFUERZASARMADAS\", \"delito_FABRICACIONTRAFICOYPORTEDEARMASDEFUEGOOMUNICIONES\", \"delito_FABRICACINTRFICOPORTEOTENENCIADEARMASDEFUEGOACCESORIOSPARTESOMUNICIONES\", \"delito_HOMICIDIO\", \"delito_HURTO\", \"genero\", \"delito_CONCIERTOPARADELINQUIR\", \"delito_OTRO\", \"delito_TRAFICOFABRICACIONOPORTEDEESTUPEFACIENTES\", \"delito_VIOLENCIAINTRAFAMILIAR\", \"tentativa_2\", \"delito_EXTORSION\", \"discapacidad\", \"adulto_mayor\", \"nacionalidad\", \"madre_lactante\", \"madre_gestante\", \"hijos_menores\", \"actividades_enseanza\", \"actividades_trabajo\", \"actividades_estudio\", \"estado_ingreso\", \"extranjero\", \"diversidad_sexual\", \"reconocimiento_etnico\", \"estado_civil\", \"calificado_2\", \"establecimiento\", \"edad\", \"estado_civil\", \"nivel_educativo\", \"reconocimiento_etnico\", \"estado_ingreso\", \"delito_FABRICACINTRFICOPORTEOTENENCIADEARMASDEFUEGOACCESORIOSPARTESOMUNICIONES\", \"delito_HURTO\", \"delito_TRAFICOFABRICACIONOPORTEDEESTUPEFACIENTES\", \"delito_VIOLENCIAINTRAFAMILIAR\", \"delito_CONCIERTOPARADELINQUIR\", \"genero\", \"actividades_trabajo\", \"delito_FABRICACIONTRAFICOYPORTEDEARMASDEFUEGOOMUNICIONES\", \"actividades_estudio\", \"delito_OTRO\", \"nacionalidad\", \"delito_LESIONESPERSONALES\", \"tentativa_2\", \"agravado_2\", \"delito_HOMICIDIO\", \"discapacidad\", \"delito_FABRICACIONTRAFICOYPORTEDEARMASYMUNICIONESDEUSOPRIVATIVODELASFUERZASARMADAS\", \"delito_EXTORSION\", \"adulto_mayor\", \"madre_lactante\", \"madre_gestante\", \"hijos_menores\", \"actividades_enseanza\", \"extranjero\", \"diversidad_sexual\", \"calificado_2\", \"establecimiento\", \"edad\", \"nivel_educativo\", \"estado_civil\", \"delito_VIOLENCIAINTRAFAMILIAR\", \"delito_FABRICACIONTRAFICOYPORTEDEARMASDEFUEGOOMUNICIONES\", \"delito_OTRO\", \"delito_LESIONESPERSONALES\", \"actividades_enseanza\", \"reconocimiento_etnico\", \"extranjero\", \"estado_ingreso\", \"nacionalidad\", \"calificado_2\", \"delito_HOMICIDIO\", \"delito_FABRICACINTRFICOPORTEOTENENCIADEARMASDEFUEGOACCESORIOSPARTESOMUNICIONES\", \"actividades_trabajo\", \"delito_TRAFICOFABRICACIONOPORTEDEESTUPEFACIENTES\", \"delito_HURTO\", \"agravado_2\", \"tentativa_2\", \"genero\", \"delito_FABRICACIONTRAFICOYPORTEDEARMASYMUNICIONESDEUSOPRIVATIVODELASFUERZASARMADAS\", \"delito_EXTORSION\", \"delito_CONCIERTOPARADELINQUIR\", \"adulto_mayor\", \"madre_lactante\", \"madre_gestante\", \"hijos_menores\", \"actividades_estudio\", \"diversidad_sexual\", \"discapacidad\"], \"type\": \"scatterpolar\"}, {\"name\": \"Cluster 4\", \"r\": [302, 187, 9, 8, 5, 4, 3, 3, 3, 2, 2, 2, 2, 1, 1, 1, 1, 0, 0, 0, 0, 0, 0, 0, 0, 0, 0, 0, 0, 0, 0, 0], \"theta\": [\"establecimiento\", \"edad\", \"nivel_educativo\", \"estado_ingreso\", \"delito_VIOLENCIAINTRAFAMILIAR\", \"reconocimiento_etnico\", \"delito_FABRICACIONTRAFICOYPORTEDEARMASDEFUEGOOMUNICIONES\", \"delito_CONCIERTOPARADELINQUIR\", \"delito_FABRICACINTRFICOPORTEOTENENCIADEARMASDEFUEGOACCESORIOSPARTESOMUNICIONES\", \"hijos_menores\", \"delito_EXTORSION\", \"diversidad_sexual\", \"agravado_2\", \"delito_TRAFICOFABRICACIONOPORTEDEESTUPEFACIENTES\", \"delito_OTRO\", \"tentativa_2\", \"delito_LESIONESPERSONALES\", \"delito_HURTO\", \"delito_HOMICIDIO\", \"genero\", \"discapacidad\", \"delito_FABRICACIONTRAFICOYPORTEDEARMASYMUNICIONESDEUSOPRIVATIVODELASFUERZASARMADAS\", \"adulto_mayor\", \"nacionalidad\", \"madre_lactante\", \"madre_gestante\", \"actividades_enseanza\", \"actividades_trabajo\", \"actividades_estudio\", \"extranjero\", \"estado_civil\", \"calificado_2\", \"edad\", \"estado_civil\", \"establecimiento\", \"diversidad_sexual\", \"delito_LESIONESPERSONALES\", \"delito_FABRICACIONTRAFICOYPORTEDEARMASYMUNICIONESDEUSOPRIVATIVODELASFUERZASARMADAS\", \"delito_FABRICACIONTRAFICOYPORTEDEARMASDEFUEGOOMUNICIONES\", \"delito_FABRICACINTRFICOPORTEOTENENCIADEARMASDEFUEGOACCESORIOSPARTESOMUNICIONES\", \"delito_HOMICIDIO\", \"delito_HURTO\", \"genero\", \"delito_OTRO\", \"delito_CONCIERTOPARADELINQUIR\", \"delito_TRAFICOFABRICACIONOPORTEDEESTUPEFACIENTES\", \"delito_VIOLENCIAINTRAFAMILIAR\", \"tentativa_2\", \"agravado_2\", \"delito_EXTORSION\", \"discapacidad\", \"adulto_mayor\", \"nacionalidad\", \"madre_lactante\", \"madre_gestante\", \"hijos_menores\", \"actividades_enseanza\", \"actividades_trabajo\", \"actividades_estudio\", \"estado_ingreso\", \"extranjero\", \"reconocimiento_etnico\", \"nivel_educativo\", \"calificado_2\", \"nivel_educativo\", \"edad\", \"establecimiento\", \"agravado_2\", \"delito_LESIONESPERSONALES\", \"delito_FABRICACIONTRAFICOYPORTEDEARMASYMUNICIONESDEUSOPRIVATIVODELASFUERZASARMADAS\", \"delito_FABRICACIONTRAFICOYPORTEDEARMASDEFUEGOOMUNICIONES\", \"delito_FABRICACINTRFICOPORTEOTENENCIADEARMASDEFUEGOACCESORIOSPARTESOMUNICIONES\", \"delito_HOMICIDIO\", \"delito_HURTO\", \"genero\", \"delito_CONCIERTOPARADELINQUIR\", \"delito_OTRO\", \"delito_TRAFICOFABRICACIONOPORTEDEESTUPEFACIENTES\", \"delito_VIOLENCIAINTRAFAMILIAR\", \"tentativa_2\", \"delito_EXTORSION\", \"discapacidad\", \"adulto_mayor\", \"nacionalidad\", \"madre_lactante\", \"madre_gestante\", \"hijos_menores\", \"actividades_enseanza\", \"actividades_trabajo\", \"actividades_estudio\", \"estado_ingreso\", \"extranjero\", \"diversidad_sexual\", \"reconocimiento_etnico\", \"estado_civil\", \"calificado_2\", \"establecimiento\", \"edad\", \"estado_civil\", \"nivel_educativo\", \"reconocimiento_etnico\", \"estado_ingreso\", \"delito_FABRICACINTRFICOPORTEOTENENCIADEARMASDEFUEGOACCESORIOSPARTESOMUNICIONES\", \"delito_HURTO\", \"delito_TRAFICOFABRICACIONOPORTEDEESTUPEFACIENTES\", \"delito_VIOLENCIAINTRAFAMILIAR\", \"delito_CONCIERTOPARADELINQUIR\", \"genero\", \"actividades_trabajo\", \"delito_FABRICACIONTRAFICOYPORTEDEARMASDEFUEGOOMUNICIONES\", \"actividades_estudio\", \"delito_OTRO\", \"nacionalidad\", \"delito_LESIONESPERSONALES\", \"tentativa_2\", \"agravado_2\", \"delito_HOMICIDIO\", \"discapacidad\", \"delito_FABRICACIONTRAFICOYPORTEDEARMASYMUNICIONESDEUSOPRIVATIVODELASFUERZASARMADAS\", \"delito_EXTORSION\", \"adulto_mayor\", \"madre_lactante\", \"madre_gestante\", \"hijos_menores\", \"actividades_enseanza\", \"extranjero\", \"diversidad_sexual\", \"calificado_2\", \"establecimiento\", \"edad\", \"nivel_educativo\", \"estado_civil\", \"delito_VIOLENCIAINTRAFAMILIAR\", \"delito_FABRICACIONTRAFICOYPORTEDEARMASDEFUEGOOMUNICIONES\", \"delito_OTRO\", \"delito_LESIONESPERSONALES\", \"actividades_enseanza\", \"reconocimiento_etnico\", \"extranjero\", \"estado_ingreso\", \"nacionalidad\", \"calificado_2\", \"delito_HOMICIDIO\", \"delito_FABRICACINTRFICOPORTEOTENENCIADEARMASDEFUEGOACCESORIOSPARTESOMUNICIONES\", \"actividades_trabajo\", \"delito_TRAFICOFABRICACIONOPORTEDEESTUPEFACIENTES\", \"delito_HURTO\", \"agravado_2\", \"tentativa_2\", \"genero\", \"delito_FABRICACIONTRAFICOYPORTEDEARMASYMUNICIONESDEUSOPRIVATIVODELASFUERZASARMADAS\", \"delito_EXTORSION\", \"delito_CONCIERTOPARADELINQUIR\", \"adulto_mayor\", \"madre_lactante\", \"madre_gestante\", \"hijos_menores\", \"actividades_estudio\", \"diversidad_sexual\", \"discapacidad\"], \"type\": \"scatterpolar\"}],\n",
       "                        {\"polar\": {\"radialaxis\": {\"visible\": true}}, \"showlegend\": false, \"template\": {\"data\": {\"bar\": [{\"error_x\": {\"color\": \"#2a3f5f\"}, \"error_y\": {\"color\": \"#2a3f5f\"}, \"marker\": {\"line\": {\"color\": \"#E5ECF6\", \"width\": 0.5}}, \"type\": \"bar\"}], \"barpolar\": [{\"marker\": {\"line\": {\"color\": \"#E5ECF6\", \"width\": 0.5}}, \"type\": \"barpolar\"}], \"carpet\": [{\"aaxis\": {\"endlinecolor\": \"#2a3f5f\", \"gridcolor\": \"white\", \"linecolor\": \"white\", \"minorgridcolor\": \"white\", \"startlinecolor\": \"#2a3f5f\"}, \"baxis\": {\"endlinecolor\": \"#2a3f5f\", \"gridcolor\": \"white\", \"linecolor\": \"white\", \"minorgridcolor\": \"white\", \"startlinecolor\": \"#2a3f5f\"}, \"type\": \"carpet\"}], \"choropleth\": [{\"colorbar\": {\"outlinewidth\": 0, \"ticks\": \"\"}, \"type\": \"choropleth\"}], \"contour\": [{\"colorbar\": {\"outlinewidth\": 0, \"ticks\": \"\"}, \"colorscale\": [[0.0, \"#0d0887\"], [0.1111111111111111, \"#46039f\"], [0.2222222222222222, \"#7201a8\"], [0.3333333333333333, \"#9c179e\"], [0.4444444444444444, \"#bd3786\"], [0.5555555555555556, \"#d8576b\"], [0.6666666666666666, \"#ed7953\"], [0.7777777777777778, \"#fb9f3a\"], [0.8888888888888888, \"#fdca26\"], [1.0, \"#f0f921\"]], \"type\": \"contour\"}], \"contourcarpet\": [{\"colorbar\": {\"outlinewidth\": 0, \"ticks\": \"\"}, \"type\": \"contourcarpet\"}], \"heatmap\": [{\"colorbar\": {\"outlinewidth\": 0, \"ticks\": \"\"}, \"colorscale\": [[0.0, \"#0d0887\"], [0.1111111111111111, \"#46039f\"], [0.2222222222222222, \"#7201a8\"], [0.3333333333333333, \"#9c179e\"], [0.4444444444444444, \"#bd3786\"], [0.5555555555555556, \"#d8576b\"], [0.6666666666666666, \"#ed7953\"], [0.7777777777777778, \"#fb9f3a\"], [0.8888888888888888, \"#fdca26\"], [1.0, \"#f0f921\"]], \"type\": \"heatmap\"}], \"heatmapgl\": [{\"colorbar\": {\"outlinewidth\": 0, \"ticks\": \"\"}, \"colorscale\": [[0.0, \"#0d0887\"], [0.1111111111111111, \"#46039f\"], [0.2222222222222222, \"#7201a8\"], [0.3333333333333333, \"#9c179e\"], [0.4444444444444444, \"#bd3786\"], [0.5555555555555556, \"#d8576b\"], [0.6666666666666666, \"#ed7953\"], [0.7777777777777778, \"#fb9f3a\"], [0.8888888888888888, \"#fdca26\"], [1.0, \"#f0f921\"]], \"type\": \"heatmapgl\"}], \"histogram\": [{\"marker\": {\"colorbar\": {\"outlinewidth\": 0, \"ticks\": \"\"}}, \"type\": \"histogram\"}], \"histogram2d\": [{\"colorbar\": {\"outlinewidth\": 0, \"ticks\": \"\"}, \"colorscale\": [[0.0, \"#0d0887\"], [0.1111111111111111, \"#46039f\"], [0.2222222222222222, \"#7201a8\"], [0.3333333333333333, \"#9c179e\"], [0.4444444444444444, \"#bd3786\"], [0.5555555555555556, \"#d8576b\"], [0.6666666666666666, \"#ed7953\"], [0.7777777777777778, \"#fb9f3a\"], [0.8888888888888888, \"#fdca26\"], [1.0, \"#f0f921\"]], \"type\": \"histogram2d\"}], \"histogram2dcontour\": [{\"colorbar\": {\"outlinewidth\": 0, \"ticks\": \"\"}, \"colorscale\": [[0.0, \"#0d0887\"], [0.1111111111111111, \"#46039f\"], [0.2222222222222222, \"#7201a8\"], [0.3333333333333333, \"#9c179e\"], [0.4444444444444444, \"#bd3786\"], [0.5555555555555556, \"#d8576b\"], [0.6666666666666666, \"#ed7953\"], [0.7777777777777778, \"#fb9f3a\"], [0.8888888888888888, \"#fdca26\"], [1.0, \"#f0f921\"]], \"type\": \"histogram2dcontour\"}], \"mesh3d\": [{\"colorbar\": {\"outlinewidth\": 0, \"ticks\": \"\"}, \"type\": \"mesh3d\"}], \"parcoords\": [{\"line\": {\"colorbar\": {\"outlinewidth\": 0, \"ticks\": \"\"}}, \"type\": \"parcoords\"}], \"pie\": [{\"automargin\": true, \"type\": \"pie\"}], \"scatter\": [{\"marker\": {\"colorbar\": {\"outlinewidth\": 0, \"ticks\": \"\"}}, \"type\": \"scatter\"}], \"scatter3d\": [{\"line\": {\"colorbar\": {\"outlinewidth\": 0, \"ticks\": \"\"}}, \"marker\": {\"colorbar\": {\"outlinewidth\": 0, \"ticks\": \"\"}}, \"type\": \"scatter3d\"}], \"scattercarpet\": [{\"marker\": {\"colorbar\": {\"outlinewidth\": 0, \"ticks\": \"\"}}, \"type\": \"scattercarpet\"}], \"scattergeo\": [{\"marker\": {\"colorbar\": {\"outlinewidth\": 0, \"ticks\": \"\"}}, \"type\": \"scattergeo\"}], \"scattergl\": [{\"marker\": {\"colorbar\": {\"outlinewidth\": 0, \"ticks\": \"\"}}, \"type\": \"scattergl\"}], \"scattermapbox\": [{\"marker\": {\"colorbar\": {\"outlinewidth\": 0, \"ticks\": \"\"}}, \"type\": \"scattermapbox\"}], \"scatterpolar\": [{\"marker\": {\"colorbar\": {\"outlinewidth\": 0, \"ticks\": \"\"}}, \"type\": \"scatterpolar\"}], \"scatterpolargl\": [{\"marker\": {\"colorbar\": {\"outlinewidth\": 0, \"ticks\": \"\"}}, \"type\": \"scatterpolargl\"}], \"scatterternary\": [{\"marker\": {\"colorbar\": {\"outlinewidth\": 0, \"ticks\": \"\"}}, \"type\": \"scatterternary\"}], \"surface\": [{\"colorbar\": {\"outlinewidth\": 0, \"ticks\": \"\"}, \"colorscale\": [[0.0, \"#0d0887\"], [0.1111111111111111, \"#46039f\"], [0.2222222222222222, \"#7201a8\"], [0.3333333333333333, \"#9c179e\"], [0.4444444444444444, \"#bd3786\"], [0.5555555555555556, \"#d8576b\"], [0.6666666666666666, \"#ed7953\"], [0.7777777777777778, \"#fb9f3a\"], [0.8888888888888888, \"#fdca26\"], [1.0, \"#f0f921\"]], \"type\": \"surface\"}], \"table\": [{\"cells\": {\"fill\": {\"color\": \"#EBF0F8\"}, \"line\": {\"color\": \"white\"}}, \"header\": {\"fill\": {\"color\": \"#C8D4E3\"}, \"line\": {\"color\": \"white\"}}, \"type\": \"table\"}]}, \"layout\": {\"annotationdefaults\": {\"arrowcolor\": \"#2a3f5f\", \"arrowhead\": 0, \"arrowwidth\": 1}, \"coloraxis\": {\"colorbar\": {\"outlinewidth\": 0, \"ticks\": \"\"}}, \"colorscale\": {\"diverging\": [[0, \"#8e0152\"], [0.1, \"#c51b7d\"], [0.2, \"#de77ae\"], [0.3, \"#f1b6da\"], [0.4, \"#fde0ef\"], [0.5, \"#f7f7f7\"], [0.6, \"#e6f5d0\"], [0.7, \"#b8e186\"], [0.8, \"#7fbc41\"], [0.9, \"#4d9221\"], [1, \"#276419\"]], \"sequential\": [[0.0, \"#0d0887\"], [0.1111111111111111, \"#46039f\"], [0.2222222222222222, \"#7201a8\"], [0.3333333333333333, \"#9c179e\"], [0.4444444444444444, \"#bd3786\"], [0.5555555555555556, \"#d8576b\"], [0.6666666666666666, \"#ed7953\"], [0.7777777777777778, \"#fb9f3a\"], [0.8888888888888888, \"#fdca26\"], [1.0, \"#f0f921\"]], \"sequentialminus\": [[0.0, \"#0d0887\"], [0.1111111111111111, \"#46039f\"], [0.2222222222222222, \"#7201a8\"], [0.3333333333333333, \"#9c179e\"], [0.4444444444444444, \"#bd3786\"], [0.5555555555555556, \"#d8576b\"], [0.6666666666666666, \"#ed7953\"], [0.7777777777777778, \"#fb9f3a\"], [0.8888888888888888, \"#fdca26\"], [1.0, \"#f0f921\"]]}, \"colorway\": [\"#636efa\", \"#EF553B\", \"#00cc96\", \"#ab63fa\", \"#FFA15A\", \"#19d3f3\", \"#FF6692\", \"#B6E880\", \"#FF97FF\", \"#FECB52\"], \"font\": {\"color\": \"#2a3f5f\"}, \"geo\": {\"bgcolor\": \"white\", \"lakecolor\": \"white\", \"landcolor\": \"#E5ECF6\", \"showlakes\": true, \"showland\": true, \"subunitcolor\": \"white\"}, \"hoverlabel\": {\"align\": \"left\"}, \"hovermode\": \"closest\", \"mapbox\": {\"style\": \"light\"}, \"paper_bgcolor\": \"white\", \"plot_bgcolor\": \"#E5ECF6\", \"polar\": {\"angularaxis\": {\"gridcolor\": \"white\", \"linecolor\": \"white\", \"ticks\": \"\"}, \"bgcolor\": \"#E5ECF6\", \"radialaxis\": {\"gridcolor\": \"white\", \"linecolor\": \"white\", \"ticks\": \"\"}}, \"scene\": {\"xaxis\": {\"backgroundcolor\": \"#E5ECF6\", \"gridcolor\": \"white\", \"gridwidth\": 2, \"linecolor\": \"white\", \"showbackground\": true, \"ticks\": \"\", \"zerolinecolor\": \"white\"}, \"yaxis\": {\"backgroundcolor\": \"#E5ECF6\", \"gridcolor\": \"white\", \"gridwidth\": 2, \"linecolor\": \"white\", \"showbackground\": true, \"ticks\": \"\", \"zerolinecolor\": \"white\"}, \"zaxis\": {\"backgroundcolor\": \"#E5ECF6\", \"gridcolor\": \"white\", \"gridwidth\": 2, \"linecolor\": \"white\", \"showbackground\": true, \"ticks\": \"\", \"zerolinecolor\": \"white\"}}, \"shapedefaults\": {\"line\": {\"color\": \"#2a3f5f\"}}, \"ternary\": {\"aaxis\": {\"gridcolor\": \"white\", \"linecolor\": \"white\", \"ticks\": \"\"}, \"baxis\": {\"gridcolor\": \"white\", \"linecolor\": \"white\", \"ticks\": \"\"}, \"bgcolor\": \"#E5ECF6\", \"caxis\": {\"gridcolor\": \"white\", \"linecolor\": \"white\", \"ticks\": \"\"}}, \"title\": {\"x\": 0.05}, \"xaxis\": {\"automargin\": true, \"gridcolor\": \"white\", \"linecolor\": \"white\", \"ticks\": \"\", \"title\": {\"standoff\": 15}, \"zerolinecolor\": \"white\", \"zerolinewidth\": 2}, \"yaxis\": {\"automargin\": true, \"gridcolor\": \"white\", \"linecolor\": \"white\", \"ticks\": \"\", \"title\": {\"standoff\": 15}, \"zerolinecolor\": \"white\", \"zerolinewidth\": 2}}}},\n",
       "                        {\"responsive\": true}\n",
       "                    ).then(function(){\n",
       "                            \n",
       "var gd = document.getElementById('0ef647b3-eb82-4e1e-a787-4050f18dac2c');\n",
       "var x = new MutationObserver(function (mutations, observer) {{\n",
       "        var display = window.getComputedStyle(gd).display;\n",
       "        if (!display || display === 'none') {{\n",
       "            console.log([gd, 'removed!']);\n",
       "            Plotly.purge(gd);\n",
       "            observer.disconnect();\n",
       "        }}\n",
       "}});\n",
       "\n",
       "// Listen for the removal of the full notebook cells\n",
       "var notebookContainer = gd.closest('#notebook-container');\n",
       "if (notebookContainer) {{\n",
       "    x.observe(notebookContainer, {childList: true});\n",
       "}}\n",
       "\n",
       "// Listen for the clearing of the current output cell\n",
       "var outputEl = gd.closest('.output');\n",
       "if (outputEl) {{\n",
       "    x.observe(outputEl, {childList: true});\n",
       "}}\n",
       "\n",
       "                        })\n",
       "                };\n",
       "                });\n",
       "            </script>\n",
       "        </div>"
      ]
     },
     "metadata": {},
     "output_type": "display_data"
    }
   ],
   "source": [
    "radar_plot(joined)"
   ]
  },
  {
   "cell_type": "code",
   "execution_count": 45,
   "metadata": {
    "ExecuteTime": {
     "end_time": "2020-07-30T02:03:19.345668Z",
     "start_time": "2020-07-30T02:03:19.335839Z"
    }
   },
   "outputs": [],
   "source": [
    "belong_to_all = joined[joined.groupby('feature_name')['label'].transform('nunique') == joined['label'].nunique()]['feature_name'].unique()"
   ]
  },
  {
   "cell_type": "code",
   "execution_count": 46,
   "metadata": {
    "ExecuteTime": {
     "end_time": "2020-07-30T02:03:19.734091Z",
     "start_time": "2020-07-30T02:03:19.729318Z"
    }
   },
   "outputs": [],
   "source": [
    "belong_to_all = pd.DataFrame(belong_to_all, columns = ['feature_names'])\n",
    "#belong_to_all = belong_to_all[~belong_to_all['feature_names'].str.contains('JAIL')]"
   ]
  },
  {
   "cell_type": "code",
   "execution_count": 47,
   "metadata": {
    "ExecuteTime": {
     "end_time": "2020-07-30T02:03:20.121641Z",
     "start_time": "2020-07-30T02:03:20.108457Z"
    }
   },
   "outputs": [
    {
     "data": {
      "text/html": [
       "<div>\n",
       "<style scoped>\n",
       "    .dataframe tbody tr th:only-of-type {\n",
       "        vertical-align: middle;\n",
       "    }\n",
       "\n",
       "    .dataframe tbody tr th {\n",
       "        vertical-align: top;\n",
       "    }\n",
       "\n",
       "    .dataframe thead th {\n",
       "        text-align: right;\n",
       "    }\n",
       "</style>\n",
       "<table border=\"1\" class=\"dataframe\">\n",
       "  <thead>\n",
       "    <tr style=\"text-align: right;\">\n",
       "      <th></th>\n",
       "      <th>feature_name</th>\n",
       "      <th>feature_importance</th>\n",
       "      <th>label</th>\n",
       "    </tr>\n",
       "  </thead>\n",
       "  <tbody>\n",
       "    <tr>\n",
       "      <th>222</th>\n",
       "      <td>recidivism_day</td>\n",
       "      <td>24</td>\n",
       "      <td>0</td>\n",
       "    </tr>\n",
       "    <tr>\n",
       "      <th>221</th>\n",
       "      <td>timejail_day</td>\n",
       "      <td>24</td>\n",
       "      <td>0</td>\n",
       "    </tr>\n",
       "    <tr>\n",
       "      <th>10</th>\n",
       "      <td>SEVERITY</td>\n",
       "      <td>10</td>\n",
       "      <td>0</td>\n",
       "    </tr>\n",
       "    <tr>\n",
       "      <th>221</th>\n",
       "      <td>timejail_day</td>\n",
       "      <td>11</td>\n",
       "      <td>1</td>\n",
       "    </tr>\n",
       "    <tr>\n",
       "      <th>222</th>\n",
       "      <td>recidivism_day</td>\n",
       "      <td>0</td>\n",
       "      <td>1</td>\n",
       "    </tr>\n",
       "    <tr>\n",
       "      <th>10</th>\n",
       "      <td>SEVERITY</td>\n",
       "      <td>0</td>\n",
       "      <td>1</td>\n",
       "    </tr>\n",
       "    <tr>\n",
       "      <th>221</th>\n",
       "      <td>timejail_day</td>\n",
       "      <td>167</td>\n",
       "      <td>2</td>\n",
       "    </tr>\n",
       "    <tr>\n",
       "      <th>10</th>\n",
       "      <td>SEVERITY</td>\n",
       "      <td>44</td>\n",
       "      <td>2</td>\n",
       "    </tr>\n",
       "    <tr>\n",
       "      <th>222</th>\n",
       "      <td>recidivism_day</td>\n",
       "      <td>4</td>\n",
       "      <td>2</td>\n",
       "    </tr>\n",
       "    <tr>\n",
       "      <th>10</th>\n",
       "      <td>SEVERITY</td>\n",
       "      <td>31</td>\n",
       "      <td>3</td>\n",
       "    </tr>\n",
       "    <tr>\n",
       "      <th>221</th>\n",
       "      <td>timejail_day</td>\n",
       "      <td>22</td>\n",
       "      <td>3</td>\n",
       "    </tr>\n",
       "    <tr>\n",
       "      <th>222</th>\n",
       "      <td>recidivism_day</td>\n",
       "      <td>4</td>\n",
       "      <td>3</td>\n",
       "    </tr>\n",
       "    <tr>\n",
       "      <th>10</th>\n",
       "      <td>SEVERITY</td>\n",
       "      <td>51</td>\n",
       "      <td>4</td>\n",
       "    </tr>\n",
       "    <tr>\n",
       "      <th>221</th>\n",
       "      <td>timejail_day</td>\n",
       "      <td>6</td>\n",
       "      <td>4</td>\n",
       "    </tr>\n",
       "    <tr>\n",
       "      <th>222</th>\n",
       "      <td>recidivism_day</td>\n",
       "      <td>0</td>\n",
       "      <td>4</td>\n",
       "    </tr>\n",
       "  </tbody>\n",
       "</table>\n",
       "</div>"
      ],
      "text/plain": [
       "       feature_name  feature_importance  label\n",
       "222  recidivism_day                  24      0\n",
       "221    timejail_day                  24      0\n",
       "10         SEVERITY                  10      0\n",
       "221    timejail_day                  11      1\n",
       "222  recidivism_day                   0      1\n",
       "10         SEVERITY                   0      1\n",
       "221    timejail_day                 167      2\n",
       "10         SEVERITY                  44      2\n",
       "222  recidivism_day                   4      2\n",
       "10         SEVERITY                  31      3\n",
       "221    timejail_day                  22      3\n",
       "222  recidivism_day                   4      3\n",
       "10         SEVERITY                  51      4\n",
       "221    timejail_day                   6      4\n",
       "222  recidivism_day                   0      4"
      ]
     },
     "execution_count": 47,
     "metadata": {},
     "output_type": "execute_result"
    }
   ],
   "source": [
    "data_plot = grouped_FI[grouped_FI['feature_name'].isin(belong_to_all['feature_names'].tolist() +\n",
    "                                                       ['SEVERITY','timejail_day','recidivism_day','edad'])]\n",
    "data_plot"
   ]
  },
  {
   "cell_type": "code",
   "execution_count": null,
   "metadata": {},
   "outputs": [],
   "source": []
  }
 ],
 "metadata": {
  "kernelspec": {
   "display_name": "Python 3",
   "language": "python",
   "name": "python3"
  },
  "language_info": {
   "codemirror_mode": {
    "name": "ipython",
    "version": 3
   },
   "file_extension": ".py",
   "mimetype": "text/x-python",
   "name": "python",
   "nbconvert_exporter": "python",
   "pygments_lexer": "ipython3",
   "version": "3.7.6"
  },
  "toc": {
   "base_numbering": 1,
   "nav_menu": {},
   "number_sections": true,
   "sideBar": true,
   "skip_h1_title": false,
   "title_cell": "Table of Contents",
   "title_sidebar": "Contents",
   "toc_cell": false,
   "toc_position": {
    "height": "calc(100% - 180px)",
    "left": "10px",
    "top": "150px",
    "width": "288px"
   },
   "toc_section_display": true,
   "toc_window_display": true
  }
 },
 "nbformat": 4,
 "nbformat_minor": 4
}
