{
 "cells": [
  {
   "cell_type": "markdown",
   "metadata": {},
   "source": [
    "# DS4A: MinJusticia\n",
    "## Reducing the recidivim risk for people released from jail between 2010 and 2019 <br> \n",
    "\n",
    "**Team 77** <br>\n",
    "**Members:** Sergio Bernal, Wilfer Carvajal , Diego Costa, Laura Goyeneche, Esneyder Guerrero, Daniel Hoyos, Katerin Lopez <br>\n",
    "**Date:** July, 2020 "
   ]
  },
  {
   "cell_type": "markdown",
   "metadata": {},
   "source": [
    "## Context\n",
    "\n",
    "The Ministry of Justice leads the development of public policies that guarantee the effective protection of the rights of their citizens. Currently, the penitentiary and prison entities are interested in characterizing the jail population in Colombia and their recidivism risk to ensure an adequate formulation and monitoring of the criminal policy. <br><br>"
   ]
  },
  {
   "cell_type": "markdown",
   "metadata": {},
   "source": [
    "## ML objective\n",
    "\n",
    "Predict the risk of recidivism within X year(s) of their release date for individuals that had been in jail at least once. <br>\n",
    "*This analysis corresponds to a first approach: we prodicted this risk within 1 year* "
   ]
  },
  {
   "cell_type": "markdown",
   "metadata": {},
   "source": [
    "## Basic"
   ]
  },
  {
   "cell_type": "code",
   "execution_count": 1,
   "metadata": {},
   "outputs": [],
   "source": [
    "# Libraries\n",
    "import numpy as np\n",
    "import pandas as pd\n",
    "import seaborn as sns\n",
    "import matplotlib.pyplot as plt\n",
    "\n",
    "from sklearn import preprocessing\n",
    "from sklearn.model_selection import cross_val_score\n",
    "from sklearn.model_selection import GridSearchCV\n",
    "from sklearn.ensemble import RandomForestClassifier\n",
    "from sklearn.metrics import accuracy_score, precision_score, recall_score, precision_recall_curve, confusion_matrix\n",
    "\n",
    "%matplotlib inline\n",
    "plt.style.use('seaborn')"
   ]
  },
  {
   "cell_type": "code",
   "execution_count": 2,
   "metadata": {},
   "outputs": [],
   "source": [
    "# Import data\n",
    "inmate = pd.read_excel('data/ReincidenciaPospenadosNal201011Junio2020Rev.xlsx', skiprows = 6)"
   ]
  },
  {
   "cell_type": "markdown",
   "metadata": {},
   "source": [
    "## Functions"
   ]
  },
  {
   "cell_type": "code",
   "execution_count": 3,
   "metadata": {},
   "outputs": [],
   "source": [
    "# Featurization \n",
    "\n",
    "def reduce_cats(column, max_cat):\n",
    "    cats = column.value_counts().index.tolist()\n",
    "    new  = column.map(lambda x: x if x in cats[:max_cat] else 'OTHER')\n",
    "    return new \n",
    "\n",
    "def dummy_helper(column):\n",
    "    binary = preprocessing.LabelBinarizer()\n",
    "    x      = column.fillna('MISSING').astype(str)\n",
    "    temp   = binary.fit_transform(x.values)\n",
    "    nmes   = [column.name + '_' + i for i in binary.classes_] if temp.shape[1] > 1 else [column.name]\n",
    "    is_bin = temp.shape[1] == 2\n",
    "    data   = pd.DataFrame(data = temp, columns = nmes)\n",
    "    return data, is_bin\n",
    "    \n",
    "def binarize(data, column_nme):\n",
    "    binarized = []\n",
    "    for nme in column_nme:\n",
    "        x, is_bin = dummy_helper(data[nme])\n",
    "        if is_bin:\n",
    "            data.loc[:,nme] = x\n",
    "        else:\n",
    "            data = pd.concat([data, x], axis = 1)\n",
    "        binarized += list(x.columns)\n",
    "    return data, binarized\n",
    "\n",
    "def missing_ind(data, nme_list):\n",
    "    for nme in nme_list:\n",
    "        nme_na = 'na_ind_' + nme\n",
    "        data.loc[:,nme_na] = (data[nme].isnull()).astype(float)\n",
    "    return data"
   ]
  },
  {
   "cell_type": "code",
   "execution_count": 4,
   "metadata": {},
   "outputs": [],
   "source": [
    "# Generate features (X)\n",
    "\n",
    "def recidivism_days(booking, release):\n",
    "    recidivism = booking.shift() - release\n",
    "    recidivism = recidivism.values.astype('timedelta64(D)').astype(float)\n",
    "    return recidivism "
   ]
  },
  {
   "cell_type": "code",
   "execution_count": 5,
   "metadata": {},
   "outputs": [],
   "source": [
    "# Generate outcome variable: \n",
    "# Individuals that came back to jail in a year \n",
    "\n",
    "def outcome(x_recidivism, max_time):\n",
    "    outcome = (x_recidivism <= max_time*30).astype(int)\n",
    "    return outcome"
   ]
  },
  {
   "cell_type": "code",
   "execution_count": 6,
   "metadata": {},
   "outputs": [],
   "source": [
    "# Evaluation \n",
    "# t: threshold \n",
    "\n",
    "def binprob(y_hat, t):\n",
    "    threshold = np.sort(y_hat)[::-1][int(t*len(y_hat))]\n",
    "    binary    = [1 if i >= threshold else 0 for i in y_hat]\n",
    "    y_pred    = np.asarray(binary)\n",
    "    return y_pred\n",
    "\n",
    "def accuracy_t(y, y_hat, t):\n",
    "    y_pred = binprob(y_hat, t)\n",
    "    score  = accuracy_score(y, y_pred)\n",
    "    return score \n",
    "\n",
    "def precision_t(y, y_hat, t):\n",
    "    y_pred = binprob(y_hat, t)\n",
    "    score  = precision_score(y, y_pred)\n",
    "    return score \n",
    "\n",
    "def recall_t(y, y_hat, t):\n",
    "    y_pred = binprob(y_hat, t)\n",
    "    score  = recall_score(y, y_pred)\n",
    "    return score\n",
    "\n",
    "def plot_precision_recall(y, y_hat, title=None):\n",
    "\n",
    "    precision_curve, recall_curve, pr_threshold = precision_recall_curve(y, y_hat)\n",
    "    precision_curve = precision_curve[:-1]\n",
    "    recall_curve    = recall_curve[:-1]\n",
    "    \n",
    "    above_threshold = []\n",
    "    number_scored   = len(y_hat)\n",
    "    \n",
    "    for value in pr_threshold:\n",
    "        num_above_thresh = len(y_hat[y_hat >= value])\n",
    "        pct_above_thresh = num_above_thresh/float(number_scored)\n",
    "        above_threshold.append(pct_above_thresh)\n",
    "    \n",
    "    above_threshold = np.array(above_threshold)\n",
    "    \n",
    "    fig, ax1 = plt.subplots()\n",
    "    ax1.plot(above_threshold, precision_curve, 'b')\n",
    "    ax1.set_xlabel('\\nFraction of Population')\n",
    "    ax1.set(ylim = (0, 1))\n",
    "\n",
    "    ax1.set_ylabel('Precision\\n', color = 'b')\n",
    "    ax2 = ax1.twinx()\n",
    "    ax1.plot(above_threshold, recall_curve, 'r')\n",
    "    ax2.set_ylabel('Recall\\n', color = 'r')\n",
    "    \n",
    "    if title is not None:\n",
    "        plt.title(title + '\\n')\n",
    "    \n",
    "    plt.show()"
   ]
  },
  {
   "cell_type": "markdown",
   "metadata": {},
   "source": [
    "## Feature Engineering"
   ]
  },
  {
   "cell_type": "code",
   "execution_count": 7,
   "metadata": {},
   "outputs": [],
   "source": [
    "# Feature changes\n",
    "# Dates\n",
    "inmate.FECHA_INGRESO = pd.to_datetime(inmate.FECHA_INGRESO)\n",
    "inmate.FECHA_SALIDA  = pd.to_datetime(inmate.FECHA_SALIDA)\n",
    "inmate.FECHA_CAPTURA = pd.to_datetime(inmate.FECHA_CAPTURA)\n",
    "\n",
    "# Crime types\n",
    "inmate.TENTATIVA  = inmate.TENTATIVA .apply(lambda x: 1 if x == 'S' else 0)\n",
    "inmate.AGRAVADO   = inmate.AGRAVADO  .apply(lambda x: 1 if x == 'S' else 0)\n",
    "inmate.CALIFICADO = inmate.CALIFICADO.apply(lambda x: 1 if x == 'S' else 0)\n",
    "\n",
    "inmate.TENTATIVA  = inmate.TENTATIVA .apply(lambda x: 'TENT_' if x == 1 else '')\n",
    "inmate.AGRAVADO   = inmate.AGRAVADO  .apply(lambda x: 'AGRA_' if x == 1 else '')\n",
    "inmate.CALIFICADO = inmate.CALIFICADO.apply(lambda x: 'CALF_' if x == 1 else '')\n",
    "\n",
    "# Activities\n",
    "inmate.ACTIVIDADES_TRABAJO   = inmate.ACTIVIDADES_TRABAJO  .apply(lambda x: 1 if x == 'SI' else 0)\n",
    "inmate.ACTIVIDADES_ESTUDIO   = inmate.ACTIVIDADES_ESTUDIO  .apply(lambda x: 1 if x == 'SI' else 0)\n",
    "inmate.ACTIVIDADES_ENSEÑANZA = inmate.ACTIVIDADES_ENSEÑANZA.apply(lambda x: 1 if x == 'SI' else 0)\n",
    "\n",
    "# Children: Y/N\n",
    "inmate.HIJOS_MENORES = inmate.HIJOS_MENORES.apply(lambda x: 1 if x == 'SI' else 0)\n",
    "\n",
    "# Genero\n",
    "inmate.GENERO = inmate.GENERO.apply(lambda x: 1 if x == 'MASCULINO' else 0)\n",
    "\n",
    "# Crime + crime type\n",
    "inmate['DELITO_COMP'] = inmate.TENTATIVA + inmate.AGRAVADO + inmate.CALIFICADO + inmate.DELITO\n",
    "inmate.DELITO_COMP    = reduce_cats(inmate.DELITO_COMP, 20)\n",
    "\n",
    "# Country \n",
    "inmate.PAIS_INTERNO = reduce_cats(inmate.PAIS_INTERNO, 2)"
   ]
  },
  {
   "cell_type": "code",
   "execution_count": 8,
   "metadata": {},
   "outputs": [],
   "source": [
    "# Select features of interest\n",
    "inmate = inmate[['INTERNOEN',\n",
    "                 'DELITO_COMP',\n",
    "                 'FECHA_INGRESO','FECHA_SALIDA','FECHA_CAPTURA',\n",
    "                 'ANO_NACIMIENTO','GENERO','ESTADO_CIVIL','NIVEL_EDUCATIVO','HIJOS_MENORES',\n",
    "                 'PAIS_INTERNO',\n",
    "                 'ESTADO_INGRESO',\n",
    "                 'ACTIVIDADES_TRABAJO','ACTIVIDADES_ESTUDIO','ACTIVIDADES_ENSEÑANZA',\n",
    "                 'DEPTO_ESTABLECIMIENTO','REGIONAL']]"
   ]
  },
  {
   "cell_type": "code",
   "execution_count": 9,
   "metadata": {},
   "outputs": [],
   "source": [
    "# Intermediate table\n",
    "iscat  = [nme for nme in inmate.columns[inmate.dtypes == 'object'] if nme != 'INTERNOEN']\n",
    "inmate = binarize(inmate, iscat)[0]\n",
    "inmate = inmate.drop(iscat, axis = 1)\n",
    "inmate = inmate.drop(['FECHA_CAPTURA'], axis = 1)"
   ]
  },
  {
   "cell_type": "code",
   "execution_count": 10,
   "metadata": {},
   "outputs": [],
   "source": [
    "# Time in jail \n",
    "inmate['timejail_day'] = (inmate.FECHA_SALIDA - inmate.FECHA_INGRESO)\n",
    "inmate.timejail_day    = inmate.timejail_day.dt.days"
   ]
  },
  {
   "cell_type": "markdown",
   "metadata": {},
   "source": [
    "## Master table"
   ]
  },
  {
   "cell_type": "code",
   "execution_count": 11,
   "metadata": {},
   "outputs": [],
   "source": [
    "# Key: inmate + booking date\n",
    "inmate_booking = inmate.copy().sort_values(by = ['INTERNOEN','FECHA_INGRESO'])\\\n",
    "                              .groupby(['INTERNOEN','FECHA_INGRESO'])\\\n",
    "                              .max()\\\n",
    "                              .reset_index()"
   ]
  },
  {
   "cell_type": "code",
   "execution_count": 12,
   "metadata": {},
   "outputs": [],
   "source": [
    "# Recidivism in days and booking data t-1\n",
    "inmate_booking['FECHA_SALIDA_t_1'] = inmate_booking.groupby('INTERNOEN').FECHA_SALIDA.shift(1)\n",
    "inmate_booking['recidivism_day']   = (inmate_booking.FECHA_INGRESO - inmate_booking.FECHA_SALIDA_t_1).dt.days"
   ]
  },
  {
   "cell_type": "code",
   "execution_count": 13,
   "metadata": {},
   "outputs": [],
   "source": [
    "# Year booking date \n",
    "inmate_booking['year'] = inmate_booking.FECHA_INGRESO.dt.year"
   ]
  },
  {
   "cell_type": "markdown",
   "metadata": {},
   "source": [
    "## Handling NAs and errors"
   ]
  },
  {
   "cell_type": "markdown",
   "metadata": {},
   "source": [
    "Below we can observe that there is a large number of observations without `time in jail` and `recidivism in days`. The main reason is that the ministry of Justice didn't gave the DS4A team access to data of the the first time in jail for all inmates between 2010 and 2019. As well, due to errors in the data, when comparing the release date in t-1 and booking date in t, we have negative values. For this reasons we decided that the best way to deal with NAs is to impute those values based on the distribution of the observables values. We argue that this is plausible given that the literature and the recidivism in other countries present the same trend as the one from our observable values, by imputing those values on the distribution. For negative values of `time in jail` and `recividism in days` we omit them."
   ]
  },
  {
   "cell_type": "code",
   "execution_count": 14,
   "metadata": {},
   "outputs": [
    {
     "name": "stdout",
     "output_type": "stream",
     "text": [
      "Total inmates and booking date 103290\n",
      "Time in jail in days NAs are 30304\n",
      "Recidivism in days NAs are 78857\n"
     ]
    }
   ],
   "source": [
    "# Identify NAs from our features of interest\n",
    "print('Total inmates and booking date {}'.format(inmate_booking.shape[0]))\n",
    "print('Time in jail in days NAs are {}'  .format(inmate_booking.timejail_day.isna().sum()))\n",
    "print('Recidivism in days NAs are {}'    .format(inmate_booking.recidivism_day.isna().sum()))"
   ]
  },
  {
   "cell_type": "code",
   "execution_count": 15,
   "metadata": {},
   "outputs": [
    {
     "data": {
      "image/png": "[encoded data removed]",
      "text/plain": [
       "<Figure size 720x216 with 1 Axes>"
      ]
     },
     "metadata": {
      "needs_background": "light"
     },
     "output_type": "display_data"
    }
   ],
   "source": [
    "# Understand NAs overtime\n",
    "# Time in jail and recidivism in days\n",
    "plt.figure(figsize = (10,3))\n",
    "plt.plot(inmate_booking[inmate_booking.timejail_day   > 0].groupby('year').count().INTERNOEN.to_frame().rename(columns = {'INTERNOEN':'NA_count'}), '-o', label = 'Time in jail')\n",
    "plt.plot(inmate_booking[inmate_booking.recidivism_day > 0].groupby('year').count().INTERNOEN.to_frame().rename(columns = {'INTERNOEN':'NA_count'}), '-o', label = 'Recidivism')\n",
    "plt.title('Missing data overtime')\n",
    "plt.legend()\n",
    "plt.show()"
   ]
  },
  {
   "cell_type": "code",
   "execution_count": 16,
   "metadata": {},
   "outputs": [
    {
     "data": {
      "text/html": [
       "<div>\n",
       "<style scoped>\n",
       "    .dataframe tbody tr th:only-of-type {\n",
       "        vertical-align: middle;\n",
       "    }\n",
       "\n",
       "    .dataframe tbody tr th {\n",
       "        vertical-align: top;\n",
       "    }\n",
       "\n",
       "    .dataframe thead th {\n",
       "        text-align: right;\n",
       "    }\n",
       "</style>\n",
       "<table border=\"1\" class=\"dataframe\">\n",
       "  <thead>\n",
       "    <tr style=\"text-align: right;\">\n",
       "      <th></th>\n",
       "      <th>recidivism_day</th>\n",
       "      <th>timejail_day</th>\n",
       "    </tr>\n",
       "  </thead>\n",
       "  <tbody>\n",
       "    <tr>\n",
       "      <th>count</th>\n",
       "      <td>17263.000000</td>\n",
       "      <td>17263.000000</td>\n",
       "    </tr>\n",
       "    <tr>\n",
       "      <th>mean</th>\n",
       "      <td>758.160517</td>\n",
       "      <td>551.920640</td>\n",
       "    </tr>\n",
       "    <tr>\n",
       "      <th>std</th>\n",
       "      <td>599.162070</td>\n",
       "      <td>415.245575</td>\n",
       "    </tr>\n",
       "    <tr>\n",
       "      <th>min</th>\n",
       "      <td>1.000000</td>\n",
       "      <td>1.000000</td>\n",
       "    </tr>\n",
       "    <tr>\n",
       "      <th>25%</th>\n",
       "      <td>294.000000</td>\n",
       "      <td>246.000000</td>\n",
       "    </tr>\n",
       "    <tr>\n",
       "      <th>50%</th>\n",
       "      <td>605.000000</td>\n",
       "      <td>458.000000</td>\n",
       "    </tr>\n",
       "    <tr>\n",
       "      <th>75%</th>\n",
       "      <td>1085.000000</td>\n",
       "      <td>749.000000</td>\n",
       "    </tr>\n",
       "    <tr>\n",
       "      <th>max</th>\n",
       "      <td>5311.000000</td>\n",
       "      <td>2967.000000</td>\n",
       "    </tr>\n",
       "  </tbody>\n",
       "</table>\n",
       "</div>"
      ],
      "text/plain": [
       "       recidivism_day  timejail_day\n",
       "count    17263.000000  17263.000000\n",
       "mean       758.160517    551.920640\n",
       "std        599.162070    415.245575\n",
       "min          1.000000      1.000000\n",
       "25%        294.000000    246.000000\n",
       "50%        605.000000    458.000000\n",
       "75%       1085.000000    749.000000\n",
       "max       5311.000000   2967.000000"
      ]
     },
     "execution_count": 16,
     "metadata": {},
     "output_type": "execute_result"
    }
   ],
   "source": [
    "# Summary of statistics for time in jail and recividism \n",
    "stats = inmate_booking[(inmate_booking.recidivism_day > 0) & (inmate_booking.timejail_day > 0)][['recidivism_day','timejail_day']].describe()\n",
    "stats"
   ]
  },
  {
   "cell_type": "code",
   "execution_count": 17,
   "metadata": {},
   "outputs": [],
   "source": [
    "# \"Impute\" recidivism\n",
    "vmin = stats.recidivism_day['min']\n",
    "vmax = stats.recidivism_day['max']\n",
    "inmate_booking.recidivism_day = inmate_booking.recidivism_day.apply(lambda x: np.random.uniform(vmin,vmax) if np.isnan(x) else x)"
   ]
  },
  {
   "cell_type": "code",
   "execution_count": 18,
   "metadata": {},
   "outputs": [],
   "source": [
    "# \"Impute\" time in jail\n",
    "vmin = stats.timejail_day['min']\n",
    "vmax = stats.timejail_day['max']\n",
    "inmate_booking.timejail_day = inmate_booking.timejail_day.apply(lambda x: np.random.uniform(vmin,vmax) if np.isnan(x) else x)"
   ]
  },
  {
   "cell_type": "code",
   "execution_count": 19,
   "metadata": {},
   "outputs": [
    {
     "name": "stdout",
     "output_type": "stream",
     "text": [
      "Total inmates and booking date 103290\n",
      "Time in jail in days negative are 3041\n",
      "Recidivism in days negative are 849\n"
     ]
    }
   ],
   "source": [
    "# Identify negative values from our features of interest\n",
    "print('Total inmates and booking date {}'   .format(inmate_booking.shape[0]))\n",
    "print('Time in jail in days negative are {}'.format((inmate_booking.timejail_day < 0).sum()))\n",
    "print('Recidivism in days negative are {}'  .format((inmate_booking.recidivism_day < 0).sum()))"
   ]
  },
  {
   "cell_type": "code",
   "execution_count": 20,
   "metadata": {},
   "outputs": [],
   "source": [
    "# Delete negative values from time in jail and recidivism \n",
    "inmate_booking = inmate_booking[inmate_booking.timejail_day   >= 0] # omit 3041\n",
    "inmate_booking = inmate_booking[inmate_booking.recidivism_day >= 0] # omit 841"
   ]
  },
  {
   "cell_type": "code",
   "execution_count": 21,
   "metadata": {},
   "outputs": [
    {
     "name": "stdout",
     "output_type": "stream",
     "text": [
      "Total inmates and booking date 99447\n"
     ]
    }
   ],
   "source": [
    "# Final master table dimension \n",
    "print('Total inmates and booking date {}'.format(inmate_booking.shape[0]))"
   ]
  },
  {
   "cell_type": "code",
   "execution_count": 22,
   "metadata": {},
   "outputs": [
    {
     "data": {
      "text/plain": [
       "['FECHA_SALIDA', 'FECHA_SALIDA_t_1']"
      ]
     },
     "execution_count": 22,
     "metadata": {},
     "output_type": "execute_result"
    }
   ],
   "source": [
    "# Additional columns with missing values\n",
    "inmate_booking.columns[inmate_booking.isnull().any()].tolist()"
   ]
  },
  {
   "cell_type": "markdown",
   "metadata": {},
   "source": [
    "## Modeling"
   ]
  },
  {
   "cell_type": "markdown",
   "metadata": {},
   "source": [
    "### Training"
   ]
  },
  {
   "cell_type": "code",
   "execution_count": 23,
   "metadata": {},
   "outputs": [],
   "source": [
    "# Split data based on time\n",
    "train_start = 2010\n",
    "train_end   = 2017\n",
    "test_start  = 2018\n",
    "test_end    = 2019"
   ]
  },
  {
   "cell_type": "code",
   "execution_count": 24,
   "metadata": {},
   "outputs": [],
   "source": [
    "# Generate train and test data frames\n",
    "dftrain = inmate_booking.copy()[(inmate_booking.year >= train_start) & (inmate_booking.year <= train_end)]\n",
    "dftest  = inmate_booking.copy()[(inmate_booking.year >= test_start ) & (inmate_booking.year <= test_end )]\n",
    "\n",
    "# Calculate age based on train and test end period\n",
    "dftrain['age'] = train_end - dftrain.ANO_NACIMIENTO\n",
    "dftest['age']  = test_end  - dftest .ANO_NACIMIENTO\n",
    "\n",
    "# Calculate outcome variable = 1 if individual came to jail in less that a year\n",
    "dftrain['outcome'] = (dftrain.recidivism_day <= 12*30).astype(int)\n",
    "dftest['outcome']  = (dftest.recidivism_day  <= 12*30).astype(int)"
   ]
  },
  {
   "cell_type": "code",
   "execution_count": 25,
   "metadata": {},
   "outputs": [
    {
     "name": "stdout",
     "output_type": "stream",
     "text": [
      "Train set: 8540 out of 71359 ~ 12.0%\n",
      "Test  set: 2957 out of 25013 ~ 12.0%\n"
     ]
    }
   ],
   "source": [
    "# Number of individuals that came back to jail in less than a year\n",
    "print('Train set: {} out of {} ~ {}%'.format(dftrain.outcome.sum(),dftrain.shape[0],round(dftrain.outcome.sum()*100/dftrain.shape[0])))\n",
    "print('Test  set: {} out of {} ~ {}%'.format(dftest.outcome.sum(),dftest.shape[0],round(dftest.outcome.sum()*100/dftest.shape[0])))"
   ]
  },
  {
   "cell_type": "code",
   "execution_count": 26,
   "metadata": {},
   "outputs": [],
   "source": [
    "colnmes = dftrain.columns.drop(['ANO_NACIMIENTO','FECHA_SALIDA_t_1','FECHA_INGRESO','FECHA_SALIDA','INTERNOEN','year','recidivism_day','outcome']).tolist()"
   ]
  },
  {
   "cell_type": "code",
   "execution_count": 27,
   "metadata": {},
   "outputs": [],
   "source": [
    "X_train, y_train = dftrain[colnmes], dftrain['outcome']\n",
    "X_test , y_test  = dftest [colnmes], dftest ['outcome']"
   ]
  },
  {
   "cell_type": "code",
   "execution_count": 28,
   "metadata": {},
   "outputs": [],
   "source": [
    "rfc = RandomForestClassifier(random_state = 42)"
   ]
  },
  {
   "cell_type": "code",
   "execution_count": 29,
   "metadata": {},
   "outputs": [],
   "source": [
    "param_grid = {'n_estimators': [20, 50],\n",
    "              #'max_features': ['auto', 'sqrt', 'log2'],\n",
    "              'max_depth'   : [4,5,6,7,8]\n",
    "              #'criterion'   : ['gini', 'entropy']\n",
    "             }"
   ]
  },
  {
   "cell_type": "code",
   "execution_count": 30,
   "metadata": {},
   "outputs": [
    {
     "data": {
      "text/plain": [
       "GridSearchCV(cv=5, error_score=nan,\n",
       "             estimator=RandomForestClassifier(bootstrap=True, ccp_alpha=0.0,\n",
       "                                              class_weight=None,\n",
       "                                              criterion='gini', max_depth=None,\n",
       "                                              max_features='auto',\n",
       "                                              max_leaf_nodes=None,\n",
       "                                              max_samples=None,\n",
       "                                              min_impurity_decrease=0.0,\n",
       "                                              min_impurity_split=None,\n",
       "                                              min_samples_leaf=1,\n",
       "                                              min_samples_split=2,\n",
       "                                              min_weight_fraction_leaf=0.0,\n",
       "                                              n_estimators=100, n_jobs=None,\n",
       "                                              oob_score=False, random_state=42,\n",
       "                                              verbose=0, warm_start=False),\n",
       "             iid='deprecated', n_jobs=None,\n",
       "             param_grid={'max_depth': [4, 5, 6, 7, 8],\n",
       "                         'n_estimators': [20, 50]},\n",
       "             pre_dispatch='2*n_jobs', refit=True, return_train_score=False,\n",
       "             scoring=None, verbose=0)"
      ]
     },
     "execution_count": 30,
     "metadata": {},
     "output_type": "execute_result"
    }
   ],
   "source": [
    "CV_rfc = GridSearchCV(estimator = rfc, param_grid = param_grid, cv = 5)\n",
    "CV_rfc.fit(X_train, y_train)"
   ]
  },
  {
   "cell_type": "code",
   "execution_count": 31,
   "metadata": {},
   "outputs": [],
   "source": [
    "best_model = CV_rfc.best_estimator_"
   ]
  },
  {
   "cell_type": "markdown",
   "metadata": {},
   "source": [
    "### Testing"
   ]
  },
  {
   "cell_type": "code",
   "execution_count": 32,
   "metadata": {},
   "outputs": [],
   "source": [
    "y_true = y_test.values\n",
    "y_pred = best_model.predict_proba(X_test)"
   ]
  },
  {
   "cell_type": "code",
   "execution_count": 37,
   "metadata": {},
   "outputs": [
    {
     "name": "stdout",
     "output_type": "stream",
     "text": [
      "Accuracy at 20% : 0.757965857753968\n",
      "Precision at 20%: 0.19048570857485508\n",
      "Recall at 20%   : 0.32228610077781533\n"
     ]
    }
   ],
   "source": [
    "# Tests metrics on 20% of the population\n",
    "# Assumption: Ministry of Justica with limited resources to implement policies on 100% of the individuals\n",
    "k = 0.2\n",
    "print('Accuracy at 20% :', accuracy_t (y_test, y_pred[:,1], k))\n",
    "print('Precision at 20%:', precision_t(y_test, y_pred[:,1], k))\n",
    "print('Recall at 20%   :', recall_t   (y_test, y_pred[:,1], k))"
   ]
  },
  {
   "cell_type": "code",
   "execution_count": 34,
   "metadata": {},
   "outputs": [
    {
     "data": {
      "image/png": "[encoded data removed]",
      "text/plain": [
       "<Figure size 432x288 with 2 Axes>"
      ]
     },
     "metadata": {
      "needs_background": "light"
     },
     "output_type": "display_data"
    }
   ],
   "source": [
    "plot_precision_recall(y_test, y_pred[:,1], \"Precision-Recall @k\")"
   ]
  },
  {
   "cell_type": "markdown",
   "metadata": {},
   "source": [
    "### Feature importance"
   ]
  },
  {
   "cell_type": "code",
   "execution_count": 35,
   "metadata": {},
   "outputs": [],
   "source": [
    "important = best_model.feature_importances_\n",
    "features  = X_train.columns\n",
    "idxs      = np.argsort(important)[-20:]"
   ]
  },
  {
   "cell_type": "code",
   "execution_count": 36,
   "metadata": {},
   "outputs": [
    {
     "data": {
      "image/png": "[encoded data removed]",
      "text/plain": [
       "<Figure size 720x504 with 1 Axes>"
      ]
     },
     "metadata": {
      "needs_background": "light"
     },
     "output_type": "display_data"
    }
   ],
   "source": [
    "plt.figure(figsize = (10,7))\n",
    "plt.barh(range(len(idxs)), important[idxs])\n",
    "plt.yticks(range(len(idxs)), [features[i] for i in idxs])\n",
    "plt.show()"
   ]
  }
 ],
 "metadata": {
  "kernelspec": {
   "display_name": "Python 3",
   "language": "python",
   "name": "python3"
  },
  "language_info": {
   "codemirror_mode": {
    "name": "ipython",
    "version": 3
   },
   "file_extension": ".py",
   "mimetype": "text/x-python",
   "name": "python",
   "nbconvert_exporter": "python",
   "pygments_lexer": "ipython3",
   "version": "3.7.1"
  }
 },
 "nbformat": 4,
 "nbformat_minor": 2
}
