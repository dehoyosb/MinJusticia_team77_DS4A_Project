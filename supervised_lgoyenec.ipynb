{
 "cells": [
  {
   "cell_type": "markdown",
   "metadata": {},
   "source": [
    "# DS4A: MinJusticia\n",
    "## Reducing the recidivim risk for people released from jail between 2010 and 2019 <br> \n",
    "\n",
    "**Team 77** <br>\n",
    "**Members:** Sergio Bernal, Wilfer Carvajal , Diego Costa, Laura Goyeneche, Esneyder Guerrero, Daniel Hoyos, Katerin Lopez <br>\n",
    "**Date:** July, 2020 "
   ]
  },
  {
   "cell_type": "markdown",
   "metadata": {},
   "source": [
    "## Context\n",
    "\n",
    "The Ministry of Justice leads the development of public policies that guarantee the effective protection of the rights of their citizens. Currently, the penitentiary and prison entities are interested in characterizing the jail population in Colombia and their recidivism risk to ensure an adequate formulation and monitoring of the criminal policy. <br><br>"
   ]
  },
  {
   "cell_type": "markdown",
   "metadata": {},
   "source": [
    "## ML objective\n",
    "\n",
    "Predict the risk of recidivism within X year(s) of their release date for individuals that had been in jail at least once. <br>\n",
    "*This analysis corresponds to a first approach: we prodicted this risk within 1 year* "
   ]
  },
  {
   "cell_type": "markdown",
   "metadata": {},
   "source": [
    "## Basic"
   ]
  },
  {
   "cell_type": "code",
   "execution_count": 1,
   "metadata": {},
   "outputs": [],
   "source": [
    "# Connect db\n",
    "from app.backend.utils import DbEngine, Queries\n",
    "from app.backend.etl import ETL"
   ]
  },
  {
   "cell_type": "code",
   "execution_count": 2,
   "metadata": {},
   "outputs": [],
   "source": [
    "# Enconding\n",
    "from app.encoding_module import encoder"
   ]
  },
  {
   "cell_type": "code",
   "execution_count": 3,
   "metadata": {},
   "outputs": [],
   "source": [
    "# Libraries\n",
    "import numpy as np\n",
    "import pandas as pd\n",
    "import seaborn as sns\n",
    "import matplotlib.pyplot as plt\n",
    "\n",
    "from sklearn.experimental import enable_iterative_imputer\n",
    "from sklearn.impute import IterativeImputer\n",
    "\n",
    "from sklearn import preprocessing\n",
    "from sklearn.model_selection import cross_val_score\n",
    "from sklearn.model_selection import GridSearchCV\n",
    "from sklearn.ensemble import RandomForestClassifier\n",
    "from sklearn.metrics import accuracy_score, precision_score, recall_score, precision_recall_curve, confusion_matrix\n",
    "\n",
    "%matplotlib inline\n",
    "plt.style.use('seaborn')"
   ]
  },
  {
   "cell_type": "code",
   "execution_count": 4,
   "metadata": {},
   "outputs": [],
   "source": [
    "# Import data\n",
    "inmate = pd.read_excel('data/ReincidenciaPospenadosNal201011Junio2020Rev.xlsx', skiprows = 6)"
   ]
  },
  {
   "cell_type": "markdown",
   "metadata": {},
   "source": [
    "### Connect to DB"
   ]
  },
  {
   "cell_type": "code",
   "execution_count": 5,
   "metadata": {},
   "outputs": [],
   "source": [
    "db_engine = DbEngine(user     = 'team77', \n",
    "                     password = 'mintic2020.', \n",
    "                     ip       = 'localhost', \n",
    "                     port     = '5432', \n",
    "                     db       = 'minjusticia') \n",
    "\n",
    "engine    = db_engine.connect()\n",
    "queries   = Queries(engine)"
   ]
  },
  {
   "cell_type": "markdown",
   "metadata": {},
   "source": [
    "### Execute ETL"
   ]
  },
  {
   "cell_type": "code",
   "execution_count": 6,
   "metadata": {
    "scrolled": true
   },
   "outputs": [
    {
     "name": "stderr",
     "output_type": "stream",
     "text": [
      "/Users/lauragoyeneche/GitHub/MinJusticia_team77_DS4A_Project/app/backend/etl.py:60: SettingWithCopyWarning: \n",
      "A value is trying to be set on a copy of a slice from a DataFrame.\n",
      "Try using .loc[row_indexer,col_indexer] = value instead\n",
      "\n",
      "See the caveats in the documentation: http://pandas.pydata.org/pandas-docs/stable/indexing.html#indexing-view-versus-copy\n",
      "  data_reg['CONDIC_EXPECIONAL'] = data_reg['CONDIC_EXPECIONAL'].fillna('NINGUNO')\n",
      "/Users/lauragoyeneche/GitHub/MinJusticia_team77_DS4A_Project/app/backend/etl.py:63: SettingWithCopyWarning: \n",
      "A value is trying to be set on a copy of a slice from a DataFrame.\n",
      "Try using .loc[row_indexer,col_indexer] = value instead\n",
      "\n",
      "See the caveats in the documentation: http://pandas.pydata.org/pandas-docs/stable/indexing.html#indexing-view-versus-copy\n",
      "  data_reg['madre_gestante'] = 'NA'\n",
      "/Users/lauragoyeneche/opt/anaconda3/lib/python3.7/site-packages/pandas/core/indexing.py:543: SettingWithCopyWarning: \n",
      "A value is trying to be set on a copy of a slice from a DataFrame.\n",
      "Try using .loc[row_indexer,col_indexer] = value instead\n",
      "\n",
      "See the caveats in the documentation: http://pandas.pydata.org/pandas-docs/stable/indexing.html#indexing-view-versus-copy\n",
      "  self.obj[item] = s\n",
      "/Users/lauragoyeneche/GitHub/MinJusticia_team77_DS4A_Project/app/backend/etl.py:67: SettingWithCopyWarning: \n",
      "A value is trying to be set on a copy of a slice from a DataFrame.\n",
      "Try using .loc[row_indexer,col_indexer] = value instead\n",
      "\n",
      "See the caveats in the documentation: http://pandas.pydata.org/pandas-docs/stable/indexing.html#indexing-view-versus-copy\n",
      "  data_reg['madre_lactante'] = 'NA'\n",
      "/Users/lauragoyeneche/GitHub/MinJusticia_team77_DS4A_Project/app/backend/etl.py:72: SettingWithCopyWarning: \n",
      "A value is trying to be set on a copy of a slice from a DataFrame.\n",
      "Try using .loc[row_indexer,col_indexer] = value instead\n",
      "\n",
      "See the caveats in the documentation: http://pandas.pydata.org/pandas-docs/stable/indexing.html#indexing-view-versus-copy\n",
      "  data_reg['discapacidad'] = 'N'\n",
      "/Users/lauragoyeneche/GitHub/MinJusticia_team77_DS4A_Project/app/backend/etl.py:76: SettingWithCopyWarning: \n",
      "A value is trying to be set on a copy of a slice from a DataFrame.\n",
      "Try using .loc[row_indexer,col_indexer] = value instead\n",
      "\n",
      "See the caveats in the documentation: http://pandas.pydata.org/pandas-docs/stable/indexing.html#indexing-view-versus-copy\n",
      "  data_reg['adulto_mayor'] = 'N'\n",
      "/Users/lauragoyeneche/GitHub/MinJusticia_team77_DS4A_Project/app/backend/etl.py:112: SettingWithCopyWarning: \n",
      "A value is trying to be set on a copy of a slice from a DataFrame.\n",
      "Try using .loc[row_indexer,col_indexer] = value instead\n",
      "\n",
      "See the caveats in the documentation: http://pandas.pydata.org/pandas-docs/stable/indexing.html#indexing-view-versus-copy\n",
      "  data_reg['crime_score'] = data_reg['DELITO'].apply(lambda x: crime_score[x] if x in top10 else 0)\n"
     ]
    },
    {
     "data": {
      "text/html": [
       "<div>\n",
       "<style scoped>\n",
       "    .dataframe tbody tr th:only-of-type {\n",
       "        vertical-align: middle;\n",
       "    }\n",
       "\n",
       "    .dataframe tbody tr th {\n",
       "        vertical-align: top;\n",
       "    }\n",
       "\n",
       "    .dataframe thead th {\n",
       "        text-align: right;\n",
       "    }\n",
       "</style>\n",
       "<table border=\"1\" class=\"dataframe\">\n",
       "  <thead>\n",
       "    <tr style=\"text-align: right;\">\n",
       "      <th></th>\n",
       "      <th>crime</th>\n",
       "      <th>min_month</th>\n",
       "      <th>max_month</th>\n",
       "      <th>decree</th>\n",
       "    </tr>\n",
       "  </thead>\n",
       "  <tbody>\n",
       "    <tr>\n",
       "      <th>0</th>\n",
       "      <td>HURTO</td>\n",
       "      <td>16</td>\n",
       "      <td>108</td>\n",
       "      <td>239</td>\n",
       "    </tr>\n",
       "    <tr>\n",
       "      <th>1</th>\n",
       "      <td>TRAFICO FABRICACION O PORTE DE ESTUPEFACIENTES</td>\n",
       "      <td>128</td>\n",
       "      <td>360</td>\n",
       "      <td>376</td>\n",
       "    </tr>\n",
       "    <tr>\n",
       "      <th>2</th>\n",
       "      <td>FABRICACION TRAFICO Y PORTE DE ARMAS DE FUEGO ...</td>\n",
       "      <td>132</td>\n",
       "      <td>180</td>\n",
       "      <td>366</td>\n",
       "    </tr>\n",
       "    <tr>\n",
       "      <th>3</th>\n",
       "      <td>CONCIERTO PARA DELINQUIR</td>\n",
       "      <td>48</td>\n",
       "      <td>108</td>\n",
       "      <td>340</td>\n",
       "    </tr>\n",
       "    <tr>\n",
       "      <th>4</th>\n",
       "      <td>HOMICIDIO</td>\n",
       "      <td>208</td>\n",
       "      <td>450</td>\n",
       "      <td>103</td>\n",
       "    </tr>\n",
       "    <tr>\n",
       "      <th>5</th>\n",
       "      <td>EXTORSION</td>\n",
       "      <td>192</td>\n",
       "      <td>288</td>\n",
       "      <td>244</td>\n",
       "    </tr>\n",
       "    <tr>\n",
       "      <th>6</th>\n",
       "      <td>FABRICACIÓN, TRÁFICO, PORTE O TENENCIA DE ARMA...</td>\n",
       "      <td>108</td>\n",
       "      <td>144</td>\n",
       "      <td>365</td>\n",
       "    </tr>\n",
       "    <tr>\n",
       "      <th>7</th>\n",
       "      <td>VIOLENCIA INTRAFAMILIAR</td>\n",
       "      <td>48</td>\n",
       "      <td>720</td>\n",
       "      <td>229</td>\n",
       "    </tr>\n",
       "    <tr>\n",
       "      <th>8</th>\n",
       "      <td>LESIONES PERSONALES</td>\n",
       "      <td>16</td>\n",
       "      <td>360</td>\n",
       "      <td>[111, 112, 113, 114, 115, 116, 117, 118, 119, ...</td>\n",
       "    </tr>\n",
       "    <tr>\n",
       "      <th>9</th>\n",
       "      <td>FABRICACION  TRAFICO Y PORTE DE ARMAS Y MUNICI...</td>\n",
       "      <td>132</td>\n",
       "      <td>180</td>\n",
       "      <td>366</td>\n",
       "    </tr>\n",
       "  </tbody>\n",
       "</table>\n",
       "</div>"
      ],
      "text/plain": [
       "                                               crime min_month max_month  \\\n",
       "0                                              HURTO        16       108   \n",
       "1     TRAFICO FABRICACION O PORTE DE ESTUPEFACIENTES       128       360   \n",
       "2  FABRICACION TRAFICO Y PORTE DE ARMAS DE FUEGO ...       132       180   \n",
       "3                           CONCIERTO PARA DELINQUIR        48       108   \n",
       "4                                          HOMICIDIO       208       450   \n",
       "5                                          EXTORSION       192       288   \n",
       "6  FABRICACIÓN, TRÁFICO, PORTE O TENENCIA DE ARMA...       108       144   \n",
       "7                            VIOLENCIA INTRAFAMILIAR        48       720   \n",
       "8                                LESIONES PERSONALES        16       360   \n",
       "9  FABRICACION  TRAFICO Y PORTE DE ARMAS Y MUNICI...       132       180   \n",
       "\n",
       "                                              decree  \n",
       "0                                                239  \n",
       "1                                                376  \n",
       "2                                                366  \n",
       "3                                                340  \n",
       "4                                                103  \n",
       "5                                                244  \n",
       "6                                                365  \n",
       "7                                                229  \n",
       "8  [111, 112, 113, 114, 115, 116, 117, 118, 119, ...  \n",
       "9                                                366  "
      ]
     },
     "metadata": {},
     "output_type": "display_data"
    },
    {
     "data": {
      "text/html": [
       "<div>\n",
       "<style scoped>\n",
       "    .dataframe tbody tr th:only-of-type {\n",
       "        vertical-align: middle;\n",
       "    }\n",
       "\n",
       "    .dataframe tbody tr th {\n",
       "        vertical-align: top;\n",
       "    }\n",
       "\n",
       "    .dataframe thead th {\n",
       "        text-align: right;\n",
       "    }\n",
       "</style>\n",
       "<table border=\"1\" class=\"dataframe\">\n",
       "  <thead>\n",
       "    <tr style=\"text-align: right;\">\n",
       "      <th></th>\n",
       "      <th>INTERNOEN</th>\n",
       "      <th>GENERO</th>\n",
       "      <th>DELITO</th>\n",
       "      <th>ESTADO_INGRESO</th>\n",
       "      <th>FECHA_CAPTURA</th>\n",
       "      <th>FECHA_INGRESO</th>\n",
       "      <th>ESTABLECIMIENTO</th>\n",
       "      <th>TENTATIVA</th>\n",
       "      <th>SUBTITULO_DELITO</th>\n",
       "      <th>AGRAVADO</th>\n",
       "      <th>...</th>\n",
       "      <th>ACTIVIDADES_ENSEÑANZA</th>\n",
       "      <th>HIJOS_MENORES</th>\n",
       "      <th>CONDIC_EXPECIONAL</th>\n",
       "      <th>ESTADO</th>\n",
       "      <th>SITUACION_JURIDICA</th>\n",
       "      <th>madre_gestante</th>\n",
       "      <th>madre_lactante</th>\n",
       "      <th>discapacidad</th>\n",
       "      <th>adulto_mayor</th>\n",
       "      <th>crime_score</th>\n",
       "    </tr>\n",
       "  </thead>\n",
       "  <tbody>\n",
       "    <tr>\n",
       "      <th>0</th>\n",
       "      <td>5496C737C624136DB406CFC6744C684C070A3CD8</td>\n",
       "      <td>MASCULINO</td>\n",
       "      <td>FABRICACION TRAFICO Y PORTE DE ARMAS DE FUEGO ...</td>\n",
       "      <td>Intramuros</td>\n",
       "      <td>30/12/09</td>\n",
       "      <td>01/01/10</td>\n",
       "      <td>EPMSC MEDELLIN</td>\n",
       "      <td>N</td>\n",
       "      <td>DE LOS DELITOS DE PELIGRO COMUN O QUE PUEDEN O...</td>\n",
       "      <td>N</td>\n",
       "      <td>...</td>\n",
       "      <td>NO</td>\n",
       "      <td>SI</td>\n",
       "      <td>NINGUNO</td>\n",
       "      <td>Baja</td>\n",
       "      <td>CO</td>\n",
       "      <td>NA</td>\n",
       "      <td>NA</td>\n",
       "      <td>N</td>\n",
       "      <td>N</td>\n",
       "      <td>4</td>\n",
       "    </tr>\n",
       "  </tbody>\n",
       "</table>\n",
       "<p>1 rows × 27 columns</p>\n",
       "</div>"
      ],
      "text/plain": [
       "                                  INTERNOEN     GENERO  \\\n",
       "0  5496C737C624136DB406CFC6744C684C070A3CD8  MASCULINO   \n",
       "\n",
       "                                              DELITO ESTADO_INGRESO  \\\n",
       "0  FABRICACION TRAFICO Y PORTE DE ARMAS DE FUEGO ...     Intramuros   \n",
       "\n",
       "  FECHA_CAPTURA FECHA_INGRESO ESTABLECIMIENTO TENTATIVA  \\\n",
       "0      30/12/09      01/01/10  EPMSC MEDELLIN         N   \n",
       "\n",
       "                                    SUBTITULO_DELITO AGRAVADO  ...  \\\n",
       "0  DE LOS DELITOS DE PELIGRO COMUN O QUE PUEDEN O...        N  ...   \n",
       "\n",
       "  ACTIVIDADES_ENSEÑANZA HIJOS_MENORES  CONDIC_EXPECIONAL ESTADO  \\\n",
       "0                    NO            SI            NINGUNO   Baja   \n",
       "\n",
       "  SITUACION_JURIDICA madre_gestante madre_lactante discapacidad adulto_mayor  \\\n",
       "0                 CO             NA             NA            N            N   \n",
       "\n",
       "  crime_score  \n",
       "0           4  \n",
       "\n",
       "[1 rows x 27 columns]"
      ]
     },
     "metadata": {},
     "output_type": "display_data"
    },
    {
     "data": {
      "text/html": [
       "<div>\n",
       "<style scoped>\n",
       "    .dataframe tbody tr th:only-of-type {\n",
       "        vertical-align: middle;\n",
       "    }\n",
       "\n",
       "    .dataframe tbody tr th {\n",
       "        vertical-align: top;\n",
       "    }\n",
       "\n",
       "    .dataframe thead th {\n",
       "        text-align: right;\n",
       "    }\n",
       "</style>\n",
       "<table border=\"1\" class=\"dataframe\">\n",
       "  <thead>\n",
       "    <tr style=\"text-align: right;\">\n",
       "      <th></th>\n",
       "      <th>TENTATIVA</th>\n",
       "      <th>AGRAVADO</th>\n",
       "      <th>CALIFICADO</th>\n",
       "      <th>multiplier</th>\n",
       "    </tr>\n",
       "  </thead>\n",
       "  <tbody>\n",
       "    <tr>\n",
       "      <th>0</th>\n",
       "      <td>N</td>\n",
       "      <td>N</td>\n",
       "      <td>N</td>\n",
       "      <td>2</td>\n",
       "    </tr>\n",
       "    <tr>\n",
       "      <th>1</th>\n",
       "      <td>N</td>\n",
       "      <td>S</td>\n",
       "      <td>S</td>\n",
       "      <td>8</td>\n",
       "    </tr>\n",
       "    <tr>\n",
       "      <th>2</th>\n",
       "      <td>N</td>\n",
       "      <td>N</td>\n",
       "      <td>S</td>\n",
       "      <td>7</td>\n",
       "    </tr>\n",
       "    <tr>\n",
       "      <th>3</th>\n",
       "      <td>N</td>\n",
       "      <td>S</td>\n",
       "      <td>N</td>\n",
       "      <td>6</td>\n",
       "    </tr>\n",
       "    <tr>\n",
       "      <th>4</th>\n",
       "      <td>S</td>\n",
       "      <td>S</td>\n",
       "      <td>N</td>\n",
       "      <td>3</td>\n",
       "    </tr>\n",
       "    <tr>\n",
       "      <th>5</th>\n",
       "      <td>S</td>\n",
       "      <td>N</td>\n",
       "      <td>N</td>\n",
       "      <td>1</td>\n",
       "    </tr>\n",
       "    <tr>\n",
       "      <th>6</th>\n",
       "      <td>S</td>\n",
       "      <td>S</td>\n",
       "      <td>S</td>\n",
       "      <td>5</td>\n",
       "    </tr>\n",
       "    <tr>\n",
       "      <th>7</th>\n",
       "      <td>S</td>\n",
       "      <td>N</td>\n",
       "      <td>S</td>\n",
       "      <td>4</td>\n",
       "    </tr>\n",
       "  </tbody>\n",
       "</table>\n",
       "</div>"
      ],
      "text/plain": [
       "  TENTATIVA AGRAVADO CALIFICADO multiplier\n",
       "0         N        N          N          2\n",
       "1         N        S          S          8\n",
       "2         N        N          S          7\n",
       "3         N        S          N          6\n",
       "4         S        S          N          3\n",
       "5         S        N          N          1\n",
       "6         S        S          S          5\n",
       "7         S        N          S          4"
      ]
     },
     "metadata": {},
     "output_type": "display_data"
    },
    {
     "name": "stderr",
     "output_type": "stream",
     "text": [
      "/Users/lauragoyeneche/GitHub/MinJusticia_team77_DS4A_Project/app/backend/etl.py:128: SettingWithCopyWarning: \n",
      "A value is trying to be set on a copy of a slice from a DataFrame.\n",
      "Try using .loc[row_indexer,col_indexer] = value instead\n",
      "\n",
      "See the caveats in the documentation: http://pandas.pydata.org/pandas-docs/stable/indexing.html#indexing-view-versus-copy\n",
      "  data_reg['CONSUMADO_b']  = data_reg.TENTATIVA.apply(lambda x: 4 if x==\"N\" else 0)\n",
      "/Users/lauragoyeneche/GitHub/MinJusticia_team77_DS4A_Project/app/backend/etl.py:129: SettingWithCopyWarning: \n",
      "A value is trying to be set on a copy of a slice from a DataFrame.\n",
      "Try using .loc[row_indexer,col_indexer] = value instead\n",
      "\n",
      "See the caveats in the documentation: http://pandas.pydata.org/pandas-docs/stable/indexing.html#indexing-view-versus-copy\n",
      "  data_reg['TENTATIVA_b'] = data_reg.TENTATIVA.apply(lambda x: 3 if x==\"S\" else 0)\n",
      "/Users/lauragoyeneche/GitHub/MinJusticia_team77_DS4A_Project/app/backend/etl.py:130: SettingWithCopyWarning: \n",
      "A value is trying to be set on a copy of a slice from a DataFrame.\n",
      "Try using .loc[row_indexer,col_indexer] = value instead\n",
      "\n",
      "See the caveats in the documentation: http://pandas.pydata.org/pandas-docs/stable/indexing.html#indexing-view-versus-copy\n",
      "  data_reg['CALIFICADO_b'] = data_reg.CALIFICADO.apply(lambda x: 2 if x==\"S\" else 0)\n",
      "/Users/lauragoyeneche/GitHub/MinJusticia_team77_DS4A_Project/app/backend/etl.py:131: SettingWithCopyWarning: \n",
      "A value is trying to be set on a copy of a slice from a DataFrame.\n",
      "Try using .loc[row_indexer,col_indexer] = value instead\n",
      "\n",
      "See the caveats in the documentation: http://pandas.pydata.org/pandas-docs/stable/indexing.html#indexing-view-versus-copy\n",
      "  data_reg['AGRAVADO_b']  = data_reg['AGRAVADO'].apply(lambda x: 1 if x==\"S\" else 0)\n"
     ]
    }
   ],
   "source": [
    "etl = ETL(queries)\n",
    "etl.inmate_static_info(inmate)\n",
    "etl.inmate_variable_info(inmate)"
   ]
  },
  {
   "cell_type": "markdown",
   "metadata": {},
   "source": [
    "### Encode"
   ]
  },
  {
   "cell_type": "code",
   "execution_count": null,
   "metadata": {},
   "outputs": [],
   "source": [
    "encoding = Encoding(queries)\n",
    "inmate_df = encoding.get_data()\n",
    "inmate_df.head()"
   ]
  },
  {
   "cell_type": "markdown",
   "metadata": {},
   "source": [
    "## Functions"
   ]
  },
  {
   "cell_type": "code",
   "execution_count": 4,
   "metadata": {},
   "outputs": [],
   "source": [
    "# Featurization \n",
    "\n",
    "def reduce_cats(column, max_cat):\n",
    "    cats = column.value_counts().index.tolist()\n",
    "    new  = column.map(lambda x: x if x in cats[:max_cat] else 'OTHER')\n",
    "    return new \n",
    "\n",
    "def dummy_helper(column):\n",
    "    binary = preprocessing.LabelBinarizer()\n",
    "    x      = column.fillna('MISSING').astype(str)\n",
    "    temp   = binary.fit_transform(x.values)\n",
    "    nmes   = [column.name + '_' + i for i in binary.classes_] if temp.shape[1] > 1 else [column.name]\n",
    "    is_bin = temp.shape[1] == 2\n",
    "    data   = pd.DataFrame(data = temp, columns = nmes)\n",
    "    return data, is_bin\n",
    "    \n",
    "def binarize(data, column_nme):\n",
    "    binarized = []\n",
    "    for nme in column_nme:\n",
    "        x, is_bin = dummy_helper(data[nme])\n",
    "        if is_bin:\n",
    "            data.loc[:,nme] = x\n",
    "        else:\n",
    "            data = pd.concat([data, x], axis = 1)\n",
    "        binarized += list(x.columns)\n",
    "    return data, binarized\n",
    "\n",
    "def missing_ind(data, nme_list):\n",
    "    for nme in nme_list:\n",
    "        nme_na = 'na_ind_' + nme\n",
    "        data.loc[:,nme_na] = (data[nme].isnull()).astype(float)\n",
    "    return data"
   ]
  },
  {
   "cell_type": "code",
   "execution_count": 5,
   "metadata": {},
   "outputs": [],
   "source": [
    "# Evaluation \n",
    "# t: threshold \n",
    "\n",
    "def binprob(y_hat, t):\n",
    "    threshold = np.sort(y_hat)[::-1][int(t*len(y_hat))]\n",
    "    binary    = [1 if i >= threshold else 0 for i in y_hat]\n",
    "    y_pred    = np.asarray(binary)\n",
    "    return y_pred\n",
    "\n",
    "def accuracy_t(y, y_hat, t):\n",
    "    y_pred = binprob(y_hat, t)\n",
    "    score  = accuracy_score(y, y_pred)\n",
    "    return score \n",
    "\n",
    "def precision_t(y, y_hat, t):\n",
    "    y_pred = binprob(y_hat, t)\n",
    "    score  = precision_score(y, y_pred)\n",
    "    return score \n",
    "\n",
    "def recall_t(y, y_hat, t):\n",
    "    y_pred = binprob(y_hat, t)\n",
    "    score  = recall_score(y, y_pred)\n",
    "    return score\n",
    "\n",
    "def plot_precision_recall(y, y_hat, title = None):\n",
    "\n",
    "    precision_curve, recall_curve, pr_threshold = precision_recall_curve(y, y_hat)\n",
    "    precision_curve = precision_curve[:-1]\n",
    "    recall_curve    = recall_curve[:-1]\n",
    "    \n",
    "    above_threshold = []\n",
    "    number_scored   = len(y_hat)\n",
    "    \n",
    "    for value in pr_threshold:\n",
    "        num_above_thresh = len(y_hat[y_hat >= value])\n",
    "        pct_above_thresh = num_above_thresh/float(number_scored)\n",
    "        above_threshold.append(pct_above_thresh)\n",
    "    \n",
    "    above_threshold = np.array(above_threshold)\n",
    "    \n",
    "    fig = plt.figure(figsize = (4,3))\n",
    "    ax1 = fig.add_subplot(111)\n",
    "    ax1.plot(above_threshold, precision_curve, 'b')\n",
    "    ax1.set_xlabel('\\nFraction of Population')\n",
    "    ax1.set(ylim = (0, 1))\n",
    "\n",
    "    ax1.set_ylabel('Precision\\n', color = 'b')\n",
    "    ax2 = ax1.twinx()\n",
    "    ax1.plot(above_threshold, recall_curve, 'r')\n",
    "    ax2.set_ylabel('Recall\\n', color = 'r')\n",
    "    \n",
    "    if title is not None:\n",
    "        plt.title(title + '\\n')\n",
    "    \n",
    "    plt.show()"
   ]
  },
  {
   "cell_type": "markdown",
   "metadata": {},
   "source": [
    "## Feature Engineering"
   ]
  },
  {
   "cell_type": "code",
   "execution_count": 6,
   "metadata": {},
   "outputs": [],
   "source": [
    "# Feature changes\n",
    "# Dates\n",
    "inmate.FECHA_INGRESO = pd.to_datetime(inmate.FECHA_INGRESO)\n",
    "inmate.FECHA_SALIDA  = pd.to_datetime(inmate.FECHA_SALIDA)\n",
    "inmate.FECHA_CAPTURA = pd.to_datetime(inmate.FECHA_CAPTURA)\n",
    "\n",
    "# Crime types\n",
    "inmate.TENTATIVA  = inmate.TENTATIVA .apply(lambda x: 1 if x == 'S' else 0)\n",
    "inmate.AGRAVADO   = inmate.AGRAVADO  .apply(lambda x: 1 if x == 'S' else 0)\n",
    "inmate.CALIFICADO = inmate.CALIFICADO.apply(lambda x: 1 if x == 'S' else 0)\n",
    "\n",
    "inmate.TENTATIVA  = inmate.TENTATIVA .apply(lambda x: 'TENT_' if x == 1 else '')\n",
    "inmate.AGRAVADO   = inmate.AGRAVADO  .apply(lambda x: 'AGRA_' if x == 1 else '')\n",
    "inmate.CALIFICADO = inmate.CALIFICADO.apply(lambda x: 'CALF_' if x == 1 else '')\n",
    "\n",
    "# Activities\n",
    "inmate.ACTIVIDADES_TRABAJO   = inmate.ACTIVIDADES_TRABAJO  .apply(lambda x: 1 if x == 'SI' else 0)\n",
    "inmate.ACTIVIDADES_ESTUDIO   = inmate.ACTIVIDADES_ESTUDIO  .apply(lambda x: 1 if x == 'SI' else 0)\n",
    "inmate.ACTIVIDADES_ENSEÑANZA = inmate.ACTIVIDADES_ENSEÑANZA.apply(lambda x: 1 if x == 'SI' else 0)\n",
    "\n",
    "# Children: Y/N\n",
    "inmate.HIJOS_MENORES = inmate.HIJOS_MENORES.apply(lambda x: 1 if x == 'SI' else 0)\n",
    "\n",
    "# Genero\n",
    "inmate.GENERO = inmate.GENERO.apply(lambda x: 1 if x == 'MASCULINO' else 0)\n",
    "\n",
    "# Crime + crime type\n",
    "inmate['DELITO_COMP'] = inmate.TENTATIVA + inmate.AGRAVADO + inmate.CALIFICADO + inmate.DELITO\n",
    "inmate.DELITO_COMP    = reduce_cats(inmate.DELITO_COMP, 20)\n",
    "\n",
    "# Country \n",
    "inmate.PAIS_INTERNO = reduce_cats(inmate.PAIS_INTERNO, 2)"
   ]
  },
  {
   "cell_type": "code",
   "execution_count": 7,
   "metadata": {},
   "outputs": [],
   "source": [
    "# Select features of interest\n",
    "inmate = inmate[['INTERNOEN',\n",
    "                 'DELITO_COMP',\n",
    "                 'FECHA_INGRESO','FECHA_SALIDA','FECHA_CAPTURA',\n",
    "                 'ANO_NACIMIENTO','GENERO','ESTADO_CIVIL','NIVEL_EDUCATIVO','HIJOS_MENORES',\n",
    "                 'PAIS_INTERNO',\n",
    "                 'ESTADO_INGRESO',\n",
    "                 'ACTIVIDADES_TRABAJO','ACTIVIDADES_ESTUDIO','ACTIVIDADES_ENSEÑANZA',\n",
    "                 'DEPTO_ESTABLECIMIENTO','REGIONAL']]"
   ]
  },
  {
   "cell_type": "code",
   "execution_count": 8,
   "metadata": {},
   "outputs": [],
   "source": [
    "# Intermediate table\n",
    "iscat  = [nme for nme in inmate.columns[inmate.dtypes == 'object'] if nme != 'INTERNOEN']\n",
    "inmate = binarize(inmate, iscat)[0]\n",
    "inmate = inmate.drop(iscat, axis = 1)\n",
    "inmate = inmate.drop(['FECHA_CAPTURA'], axis = 1)"
   ]
  },
  {
   "cell_type": "code",
   "execution_count": 9,
   "metadata": {},
   "outputs": [],
   "source": [
    "# Time in jail \n",
    "inmate['timejail_day'] = (inmate.FECHA_SALIDA - inmate.FECHA_INGRESO)\n",
    "inmate.timejail_day    = inmate.timejail_day.dt.days"
   ]
  },
  {
   "cell_type": "markdown",
   "metadata": {},
   "source": [
    "## Master table"
   ]
  },
  {
   "cell_type": "code",
   "execution_count": 10,
   "metadata": {},
   "outputs": [],
   "source": [
    "# Key: inmate + booking date\n",
    "inmate_booking = inmate.copy().sort_values(by = ['INTERNOEN','FECHA_INGRESO'])\\\n",
    "                              .groupby(['INTERNOEN','FECHA_INGRESO'])\\\n",
    "                              .max()\\\n",
    "                              .reset_index()"
   ]
  },
  {
   "cell_type": "code",
   "execution_count": 11,
   "metadata": {},
   "outputs": [],
   "source": [
    "# Recidivism in days and booking data t-1\n",
    "inmate_booking['FECHA_SALIDA_t_1'] = inmate_booking.groupby('INTERNOEN').FECHA_SALIDA.shift(1)\n",
    "inmate_booking['recidivism_day']   = (inmate_booking.FECHA_INGRESO - inmate_booking.FECHA_SALIDA_t_1).dt.days"
   ]
  },
  {
   "cell_type": "code",
   "execution_count": 12,
   "metadata": {},
   "outputs": [],
   "source": [
    "# Year booking date \n",
    "inmate_booking['year'] = inmate_booking.FECHA_INGRESO.dt.year"
   ]
  },
  {
   "cell_type": "markdown",
   "metadata": {},
   "source": [
    "## Handling NAs and errors"
   ]
  },
  {
   "cell_type": "markdown",
   "metadata": {},
   "source": [
    "Below we can observe that there is a large number of observations without `time in jail` and `recidivism in days`. The main reason is that the ministry of Justice didn't gave the DS4A team access to data of the the first time in jail for all inmates between 2010 and 2019. As well, due to errors in the data, when comparing the release date in t-1 and booking date in t, we have negative values. For this reasons we decided that the best way to deal with NAs is to impute those values based on the distribution of the observables values. We argue that this is plausible given that the literature and the recidivism in other countries present the same trend as the one from our observable values, by imputing those values on the distribution. For negative values of `time in jail` and `recividism in days` we omit them."
   ]
  },
  {
   "cell_type": "code",
   "execution_count": 13,
   "metadata": {},
   "outputs": [
    {
     "data": {
      "text/plain": [
       "['FECHA_SALIDA', 'timejail_day', 'FECHA_SALIDA_t_1', 'recidivism_day']"
      ]
     },
     "execution_count": 13,
     "metadata": {},
     "output_type": "execute_result"
    }
   ],
   "source": [
    "# Columns with NA values\n",
    "inmate_booking.columns[inmate_booking.isna().any()].tolist()"
   ]
  },
  {
   "cell_type": "code",
   "execution_count": 14,
   "metadata": {},
   "outputs": [
    {
     "name": "stdout",
     "output_type": "stream",
     "text": [
      "Total inmates and booking date 103290\n",
      "Time in jail in days NAs are 30304\n",
      "Recidivism in days NAs are 78857\n"
     ]
    }
   ],
   "source": [
    "# Identify NAs from our features of interest\n",
    "print('Total inmates and booking date {}'.format(inmate_booking.shape[0]))\n",
    "print('Time in jail in days NAs are {}'  .format(inmate_booking.timejail_day.isna().sum()))\n",
    "print('Recidivism in days NAs are {}'    .format(inmate_booking.recidivism_day.isna().sum()))"
   ]
  },
  {
   "cell_type": "code",
   "execution_count": 15,
   "metadata": {},
   "outputs": [
    {
     "data": {
      "image/png": "[encoded data removed]",
      "text/plain": [
       "<Figure size 720x216 with 1 Axes>"
      ]
     },
     "metadata": {},
     "output_type": "display_data"
    }
   ],
   "source": [
    "# Understand NAs overtime\n",
    "# Time in jail and recidivism in days\n",
    "plt.figure(figsize = (10,3))\n",
    "plt.plot(inmate_booking[inmate_booking.timejail_day   > 0].groupby('year').count().INTERNOEN.to_frame().rename(columns = {'INTERNOEN':'NA_count'}), '-o', label = 'Time in jail')\n",
    "plt.plot(inmate_booking[inmate_booking.recidivism_day > 0].groupby('year').count().INTERNOEN.to_frame().rename(columns = {'INTERNOEN':'NA_count'}), '-o', label = 'Recidivism')\n",
    "plt.title('Missing data overtime')\n",
    "plt.legend()\n",
    "plt.show()"
   ]
  },
  {
   "cell_type": "code",
   "execution_count": 16,
   "metadata": {},
   "outputs": [
    {
     "data": {
      "text/html": [
       "<div>\n",
       "<style scoped>\n",
       "    .dataframe tbody tr th:only-of-type {\n",
       "        vertical-align: middle;\n",
       "    }\n",
       "\n",
       "    .dataframe tbody tr th {\n",
       "        vertical-align: top;\n",
       "    }\n",
       "\n",
       "    .dataframe thead th {\n",
       "        text-align: right;\n",
       "    }\n",
       "</style>\n",
       "<table border=\"1\" class=\"dataframe\">\n",
       "  <thead>\n",
       "    <tr style=\"text-align: right;\">\n",
       "      <th></th>\n",
       "      <th>recidivism_day</th>\n",
       "      <th>timejail_day</th>\n",
       "    </tr>\n",
       "  </thead>\n",
       "  <tbody>\n",
       "    <tr>\n",
       "      <th>count</th>\n",
       "      <td>17263.000000</td>\n",
       "      <td>17263.000000</td>\n",
       "    </tr>\n",
       "    <tr>\n",
       "      <th>mean</th>\n",
       "      <td>758.160517</td>\n",
       "      <td>551.920640</td>\n",
       "    </tr>\n",
       "    <tr>\n",
       "      <th>std</th>\n",
       "      <td>599.162070</td>\n",
       "      <td>415.245575</td>\n",
       "    </tr>\n",
       "    <tr>\n",
       "      <th>min</th>\n",
       "      <td>1.000000</td>\n",
       "      <td>1.000000</td>\n",
       "    </tr>\n",
       "    <tr>\n",
       "      <th>25%</th>\n",
       "      <td>294.000000</td>\n",
       "      <td>246.000000</td>\n",
       "    </tr>\n",
       "    <tr>\n",
       "      <th>50%</th>\n",
       "      <td>605.000000</td>\n",
       "      <td>458.000000</td>\n",
       "    </tr>\n",
       "    <tr>\n",
       "      <th>75%</th>\n",
       "      <td>1085.000000</td>\n",
       "      <td>749.000000</td>\n",
       "    </tr>\n",
       "    <tr>\n",
       "      <th>max</th>\n",
       "      <td>5311.000000</td>\n",
       "      <td>2967.000000</td>\n",
       "    </tr>\n",
       "  </tbody>\n",
       "</table>\n",
       "</div>"
      ],
      "text/plain": [
       "       recidivism_day  timejail_day\n",
       "count    17263.000000  17263.000000\n",
       "mean       758.160517    551.920640\n",
       "std        599.162070    415.245575\n",
       "min          1.000000      1.000000\n",
       "25%        294.000000    246.000000\n",
       "50%        605.000000    458.000000\n",
       "75%       1085.000000    749.000000\n",
       "max       5311.000000   2967.000000"
      ]
     },
     "execution_count": 16,
     "metadata": {},
     "output_type": "execute_result"
    }
   ],
   "source": [
    "# Summary of statistics for time in jail and recividism \n",
    "stats = inmate_booking[(inmate_booking.recidivism_day > 0) & (inmate_booking.timejail_day > 0)][['recidivism_day','timejail_day']].describe()\n",
    "stats"
   ]
  },
  {
   "cell_type": "code",
   "execution_count": 17,
   "metadata": {},
   "outputs": [],
   "source": [
    "# Impute recidivism and time in jail \n",
    "# Methodology: conditional imputation with 10 iterations (default)\n",
    "df_imp     = inmate_booking.drop(columns = ['FECHA_INGRESO','FECHA_SALIDA','FECHA_SALIDA_t_1','INTERNOEN'])\n",
    "imp_mean   = IterativeImputer(random_state = 0, max_iter = 10, add_indicator = True, skip_complete = True)\n",
    "inmate_imp = imp_mean.fit_transform(df_imp)\n",
    "inmate_imp = pd.DataFrame(inmate_imp, columns = df_imp.columns.tolist() + ['imp_timejail','imp_recidivism'])"
   ]
  },
  {
   "cell_type": "code",
   "execution_count": 18,
   "metadata": {},
   "outputs": [],
   "source": [
    "# Replace imputed values\n",
    "inmate_booking.recidivism_day    = inmate_imp.recidivism_day\n",
    "inmate_booking.timejail_day      = inmate_imp.timejail_day\n",
    "inmate_booking['imp_recidivism'] = inmate_imp.imp_recidivism\n",
    "inmate_booking['imp_timejail']   = inmate_imp.imp_timejail"
   ]
  },
  {
   "cell_type": "code",
   "execution_count": 19,
   "metadata": {},
   "outputs": [
    {
     "name": "stdout",
     "output_type": "stream",
     "text": [
      "Total inmates and booking date 103290\n",
      "Time in jail in days negative are 6656\n",
      "Recidivism in days negative are 5331\n"
     ]
    }
   ],
   "source": [
    "# Identify negative values from our features of interest\n",
    "print('Total inmates and booking date {}'   .format(inmate_booking.shape[0]))\n",
    "print('Time in jail in days negative are {}'.format((inmate_booking.timejail_day < 0).sum()))\n",
    "print('Recidivism in days negative are {}'  .format((inmate_booking.recidivism_day < 0).sum()))"
   ]
  },
  {
   "cell_type": "code",
   "execution_count": 20,
   "metadata": {},
   "outputs": [],
   "source": [
    "# Delete negative values from time in jail and recidivism \n",
    "inmate_booking = inmate_booking[inmate_booking.timejail_day   >= 0] # omit 3041\n",
    "inmate_booking = inmate_booking[inmate_booking.recidivism_day >= 0] # omit 841"
   ]
  },
  {
   "cell_type": "code",
   "execution_count": 21,
   "metadata": {},
   "outputs": [
    {
     "name": "stdout",
     "output_type": "stream",
     "text": [
      "Total inmates and booking date 91350\n"
     ]
    }
   ],
   "source": [
    "# Final master table dimension \n",
    "print('Total inmates and booking date {}'.format(inmate_booking.shape[0]))"
   ]
  },
  {
   "cell_type": "code",
   "execution_count": 22,
   "metadata": {},
   "outputs": [
    {
     "data": {
      "text/plain": [
       "['FECHA_SALIDA', 'FECHA_SALIDA_t_1']"
      ]
     },
     "execution_count": 22,
     "metadata": {},
     "output_type": "execute_result"
    }
   ],
   "source": [
    "# Additional columns with missing values\n",
    "inmate_booking.columns[inmate_booking.isnull().any()].tolist()"
   ]
  },
  {
   "cell_type": "markdown",
   "metadata": {},
   "source": [
    "## Modeling"
   ]
  },
  {
   "cell_type": "markdown",
   "metadata": {},
   "source": [
    "### Train and test sets"
   ]
  },
  {
   "cell_type": "code",
   "execution_count": 23,
   "metadata": {},
   "outputs": [],
   "source": [
    "# Split data based on time\n",
    "train_start = 2010\n",
    "train_end   = 2017\n",
    "test_start  = 2018\n",
    "test_end    = 2019"
   ]
  },
  {
   "cell_type": "code",
   "execution_count": 24,
   "metadata": {},
   "outputs": [],
   "source": [
    "# Generate train and test data frames\n",
    "dftrain = inmate_booking.copy()[(inmate_booking.year >= train_start) & (inmate_booking.year <= train_end)]\n",
    "dftest  = inmate_booking.copy()[(inmate_booking.year >= test_start ) & (inmate_booking.year <= test_end )]\n",
    "\n",
    "# Calculate age based on train and test end period\n",
    "dftrain['age'] = train_end - dftrain.ANO_NACIMIENTO\n",
    "dftest['age']  = test_end  - dftest .ANO_NACIMIENTO\n",
    "\n",
    "# Calculate outcome variable = 1 if individual came to jail in less that a year\n",
    "dftrain['outcome'] = (dftrain.recidivism_day <= 12*30).astype(int)\n",
    "dftest['outcome']  = (dftest.recidivism_day  <= 12*30).astype(int)"
   ]
  },
  {
   "cell_type": "code",
   "execution_count": 25,
   "metadata": {},
   "outputs": [
    {
     "name": "stdout",
     "output_type": "stream",
     "text": [
      "Train set: 16736 out of 66592 ~ 25.0%\n",
      "Test  set: 1746 out of 22846 ~ 8.0%\n"
     ]
    }
   ],
   "source": [
    "# Number of individuals that came back to jail in less than a year\n",
    "print('Train set: {} out of {} ~ {}%'.format(dftrain.outcome.sum(),dftrain.shape[0],round(dftrain.outcome.sum()*100/dftrain.shape[0])))\n",
    "print('Test  set: {} out of {} ~ {}%'.format(dftest.outcome.sum(),dftest.shape[0],round(dftest.outcome.sum()*100/dftest.shape[0])))"
   ]
  },
  {
   "cell_type": "code",
   "execution_count": 26,
   "metadata": {},
   "outputs": [],
   "source": [
    "colnmes = dftrain.columns.drop(['ANO_NACIMIENTO','FECHA_SALIDA_t_1','FECHA_INGRESO','FECHA_SALIDA','INTERNOEN','year','recidivism_day','outcome']).tolist()"
   ]
  },
  {
   "cell_type": "code",
   "execution_count": 27,
   "metadata": {},
   "outputs": [],
   "source": [
    "X_train, y_train = dftrain[colnmes], dftrain['outcome']\n",
    "X_test , y_test  = dftest [colnmes], dftest ['outcome']"
   ]
  },
  {
   "cell_type": "markdown",
   "metadata": {},
   "source": [
    "### Modeling"
   ]
  },
  {
   "cell_type": "code",
   "execution_count": 28,
   "metadata": {},
   "outputs": [],
   "source": [
    "from sklearn.linear_model import LogisticRegression\n",
    "from sklearn.neighbors    import KNeighborsClassifier\n",
    "from sklearn.tree         import DecisionTreeClassifier\n",
    "from sklearn.ensemble     import RandomForestClassifier\n",
    "from sklearn.naive_bayes  import GaussianNB"
   ]
  },
  {
   "cell_type": "code",
   "execution_count": 29,
   "metadata": {},
   "outputs": [],
   "source": [
    "from warnings import filterwarnings\n",
    "filterwarnings('ignore')"
   ]
  },
  {
   "cell_type": "code",
   "execution_count": 30,
   "metadata": {},
   "outputs": [],
   "source": [
    "# Define models\n",
    "models = dict()\n",
    "models['LR' ] = LogisticRegression()\n",
    "models['KNN'] = KNeighborsClassifier()\n",
    "models['DT' ] = DecisionTreeClassifier()\n",
    "models['RF' ] = RandomForestClassifier(random_state = 10)\n",
    "models['NB' ] = GaussianNB()"
   ]
  },
  {
   "cell_type": "code",
   "execution_count": 31,
   "metadata": {},
   "outputs": [],
   "source": [
    "# Define paameters for GridSearch\n",
    "params = dict()\n",
    "params['LR' ] = {'penalty'    : ['l1','l2'], 'C': [0.8, 1.0], 'solver': ['saga']}\n",
    "params['KNN'] = {'n_neighbors': [3, 5, 10], 'weights': ['uniform','distance'], }\n",
    "params['DT' ] = {'max_depth'  : [3, 6 ], 'max_features': [4, 8, 20]}\n",
    "params['RF' ] = {'max_depth'  : [5, 20], 'max_features': ['auto','sqrt','log2'], 'min_samples_leaf': [1,2,4]}\n",
    "params['NB' ] = {}"
   ]
  },
  {
   "cell_type": "code",
   "execution_count": 32,
   "metadata": {},
   "outputs": [
    {
     "name": "stdout",
     "output_type": "stream",
     "text": [
      "LR\n",
      "KNN\n",
      "DT\n",
      "RF\n",
      "NB\n"
     ]
    }
   ],
   "source": [
    "# GridSearch\n",
    "results = dict()\n",
    "for name in models.keys():\n",
    "    mcv = GridSearchCV(estimator = models[name], param_grid = params[name], cv = 5, n_jobs = -1)\n",
    "    mcv.fit(X_train, y_train)\n",
    "    results[name] = mcv.best_estimator_\n",
    "    print(name)"
   ]
  },
  {
   "cell_type": "markdown",
   "metadata": {},
   "source": [
    "### Testing"
   ]
  },
  {
   "cell_type": "code",
   "execution_count": 33,
   "metadata": {},
   "outputs": [],
   "source": [
    "# Yhat for each model\n",
    "y_pred = dict()\n",
    "for name in results.keys():\n",
    "    y_pred[name] = results[name].predict_proba(X_test)\n",
    "    \n",
    "# Values from ytest\n",
    "y_true = y_test.values"
   ]
  },
  {
   "cell_type": "code",
   "execution_count": 34,
   "metadata": {},
   "outputs": [
    {
     "data": {
      "text/html": [
       "<div>\n",
       "<style scoped>\n",
       "    .dataframe tbody tr th:only-of-type {\n",
       "        vertical-align: middle;\n",
       "    }\n",
       "\n",
       "    .dataframe tbody tr th {\n",
       "        vertical-align: top;\n",
       "    }\n",
       "\n",
       "    .dataframe thead th {\n",
       "        text-align: right;\n",
       "    }\n",
       "</style>\n",
       "<table border=\"1\" class=\"dataframe\">\n",
       "  <thead>\n",
       "    <tr style=\"text-align: right;\">\n",
       "      <th></th>\n",
       "      <th>Accuracy</th>\n",
       "      <th>Precision</th>\n",
       "      <th>Recall</th>\n",
       "    </tr>\n",
       "  </thead>\n",
       "  <tbody>\n",
       "    <tr>\n",
       "      <th>LR</th>\n",
       "      <td>0.808194</td>\n",
       "      <td>0.211597</td>\n",
       "      <td>0.553837</td>\n",
       "    </tr>\n",
       "    <tr>\n",
       "      <th>KNN</th>\n",
       "      <td>0.687341</td>\n",
       "      <td>0.156461</td>\n",
       "      <td>0.703895</td>\n",
       "    </tr>\n",
       "    <tr>\n",
       "      <th>DT</th>\n",
       "      <td>0.837346</td>\n",
       "      <td>0.284464</td>\n",
       "      <td>0.744559</td>\n",
       "    </tr>\n",
       "    <tr>\n",
       "      <th>RF</th>\n",
       "      <td>0.858268</td>\n",
       "      <td>0.336761</td>\n",
       "      <td>0.881443</td>\n",
       "    </tr>\n",
       "    <tr>\n",
       "      <th>NB</th>\n",
       "      <td>0.795238</td>\n",
       "      <td>0.179212</td>\n",
       "      <td>0.469072</td>\n",
       "    </tr>\n",
       "  </tbody>\n",
       "</table>\n",
       "</div>"
      ],
      "text/plain": [
       "     Accuracy  Precision    Recall\n",
       "LR   0.808194   0.211597  0.553837\n",
       "KNN  0.687341   0.156461  0.703895\n",
       "DT   0.837346   0.284464  0.744559\n",
       "RF   0.858268   0.336761  0.881443\n",
       "NB   0.795238   0.179212  0.469072"
      ]
     },
     "execution_count": 34,
     "metadata": {},
     "output_type": "execute_result"
    }
   ],
   "source": [
    "# Tests metrics on 20% of the population\n",
    "# Assumption: Ministry of Justica with limited resources to implement policies on 100% of the individuals\n",
    "k = 0.2 \n",
    "\n",
    "pd.DataFrame({'Accuracy' : [accuracy_t (y_test, y_pred[name][:,1], k) for name in y_pred.keys()],\n",
    "              'Precision': [precision_t(y_test, y_pred[name][:,1], k) for name in y_pred.keys()],\n",
    "              'Recall'   : [recall_t   (y_test, y_pred[name][:,1], k) for name in y_pred.keys()]}, \n",
    "            index = models.keys())"
   ]
  },
  {
   "cell_type": "code",
   "execution_count": 35,
   "metadata": {},
   "outputs": [
    {
     "data": {
      "image/png": "[encoded data removed]",
      "text/plain": [
       "<Figure size 288x216 with 2 Axes>"
      ]
     },
     "metadata": {},
     "output_type": "display_data"
    },
    {
     "data": {
      "image/png": "[encoded data removed]",
      "text/plain": [
       "<Figure size 288x216 with 2 Axes>"
      ]
     },
     "metadata": {},
     "output_type": "display_data"
    }
   ],
   "source": [
    "# Precision-Recall @k\n",
    "plot_precision_recall(y_test, y_pred['RF'][:,1], 'PR@k model {}'.format('RF'))\n",
    "plot_precision_recall(y_test, y_pred['LR'][:,1], 'PR@k model {}'.format('LR'))"
   ]
  },
  {
   "cell_type": "markdown",
   "metadata": {},
   "source": [
    "### Feature importance"
   ]
  },
  {
   "cell_type": "code",
   "execution_count": 36,
   "metadata": {},
   "outputs": [
    {
     "data": {
      "image/png": "[encoded data removed]",
      "text/plain": [
       "<Figure size 1440x360 with 3 Axes>"
      ]
     },
     "metadata": {},
     "output_type": "display_data"
    }
   ],
   "source": [
    "# Number of features\n",
    "n = 20\n",
    "\n",
    "# Plot\n",
    "plt.figure(figsize = (20,5))\n",
    "for i, name in enumerate(['LR','DT','RF']):\n",
    "    features  = X_train.columns\n",
    "    \n",
    "    if name == 'LR':\n",
    "        important = results['LR'].coef_[0]\n",
    "        idxs      = np.argsort(abs(important))[-n:]\n",
    "    else: \n",
    "        important = results[name].feature_importances_\n",
    "        idxs      = np.argsort(important)[-n:]\n",
    "\n",
    "    plt.subplot(1,3,i+1)\n",
    "    plt.bar(range(len(idxs)), important[idxs])\n",
    "    plt.xticks(range(len(idxs)), [features[i] for i in idxs], rotation = 90)\n",
    "    plt.title('Feature Importance: {}\\n'.format(name))\n",
    "\n",
    "plt.show()"
   ]
  }
 ],
 "metadata": {
  "kernelspec": {
   "display_name": "Python 3",
   "language": "python",
   "name": "python3"
  },
  "language_info": {
   "codemirror_mode": {
    "name": "ipython",
    "version": 3
   },
   "file_extension": ".py",
   "mimetype": "text/x-python",
   "name": "python",
   "nbconvert_exporter": "python",
   "pygments_lexer": "ipython3",
   "version": "3.7.4"
  },
  "toc": {
   "base_numbering": 1,
   "nav_menu": {},
   "number_sections": true,
   "sideBar": true,
   "skip_h1_title": false,
   "title_cell": "Table of Contents",
   "title_sidebar": "Contents",
   "toc_cell": false,
   "toc_position": {},
   "toc_section_display": true,
   "toc_window_display": false
  }
 },
 "nbformat": 4,
 "nbformat_minor": 2
}
