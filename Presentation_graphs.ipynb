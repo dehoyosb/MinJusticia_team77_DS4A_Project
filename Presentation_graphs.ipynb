{
 "cells": [
  {
   "cell_type": "markdown",
   "metadata": {},
   "source": [
    "# Dependecies and data load"
   ]
  },
  {
   "cell_type": "code",
   "execution_count": 2,
   "metadata": {
    "ExecuteTime": {
     "end_time": "2020-07-24T15:17:14.373004Z",
     "start_time": "2020-07-24T15:17:09.369063Z"
    }
   },
   "outputs": [
    {
     "ename": "ImportError",
     "evalue": "\nThe plotly.plotly module is deprecated,\nplease install the chart-studio package and use the\nchart_studio.plotly module instead. \n",
     "output_type": "error",
     "traceback": [
      "\u001b[0;31m---------------------------------------------------------------------------\u001b[0m",
      "\u001b[0;31mImportError\u001b[0m                               Traceback (most recent call last)",
      "\u001b[0;32m<ipython-input-2-0def2a57d5f5>\u001b[0m in \u001b[0;36m<module>\u001b[0;34m\u001b[0m\n\u001b[1;32m      3\u001b[0m \u001b[0;32mimport\u001b[0m \u001b[0mplotly\u001b[0m\u001b[0;34m.\u001b[0m\u001b[0mgraph_objs\u001b[0m \u001b[0;32mas\u001b[0m \u001b[0mgo\u001b[0m\u001b[0;34m\u001b[0m\u001b[0;34m\u001b[0m\u001b[0m\n\u001b[1;32m      4\u001b[0m \u001b[0;32mimport\u001b[0m \u001b[0mplotly\u001b[0m\u001b[0;34m.\u001b[0m\u001b[0mgraph_objects\u001b[0m \u001b[0;32mas\u001b[0m \u001b[0mgo2\u001b[0m\u001b[0;34m\u001b[0m\u001b[0;34m\u001b[0m\u001b[0m\n\u001b[0;32m----> 5\u001b[0;31m \u001b[0;32mimport\u001b[0m \u001b[0mplotly\u001b[0m\u001b[0;34m.\u001b[0m\u001b[0mplotly\u001b[0m \u001b[0;32mas\u001b[0m \u001b[0mpy\u001b[0m\u001b[0;34m\u001b[0m\u001b[0;34m\u001b[0m\u001b[0m\n\u001b[0m\u001b[1;32m      6\u001b[0m \u001b[0;34m\u001b[0m\u001b[0m\n\u001b[1;32m      7\u001b[0m \u001b[0;31m# conda install -c plotly plotly=4.9.0\u001b[0m\u001b[0;34m\u001b[0m\u001b[0;34m\u001b[0m\u001b[0;34m\u001b[0m\u001b[0m\n",
      "\u001b[0;32m/opt/conda/lib/python3.6/site-packages/plotly/plotly/__init__.py\u001b[0m in \u001b[0;36m<module>\u001b[0;34m\u001b[0m\n\u001b[1;32m      2\u001b[0m \u001b[0;32mfrom\u001b[0m \u001b[0m_plotly_future_\u001b[0m \u001b[0;32mimport\u001b[0m \u001b[0m_chart_studio_error\u001b[0m\u001b[0;34m\u001b[0m\u001b[0;34m\u001b[0m\u001b[0m\n\u001b[1;32m      3\u001b[0m \u001b[0;34m\u001b[0m\u001b[0m\n\u001b[0;32m----> 4\u001b[0;31m \u001b[0m_chart_studio_error\u001b[0m\u001b[0;34m(\u001b[0m\u001b[0;34m\"plotly\"\u001b[0m\u001b[0;34m)\u001b[0m\u001b[0;34m\u001b[0m\u001b[0;34m\u001b[0m\u001b[0m\n\u001b[0m",
      "\u001b[0;32m/opt/conda/lib/python3.6/site-packages/_plotly_future_/__init__.py\u001b[0m in \u001b[0;36m_chart_studio_error\u001b[0;34m(submodule)\u001b[0m\n\u001b[1;32m     47\u001b[0m \u001b[0mchart_studio\u001b[0m\u001b[0;34m.\u001b[0m\u001b[0;34m{\u001b[0m\u001b[0msubmodule\u001b[0m\u001b[0;34m}\u001b[0m \u001b[0mmodule\u001b[0m \u001b[0minstead\u001b[0m\u001b[0;34m.\u001b[0m\u001b[0;34m\u001b[0m\u001b[0;34m\u001b[0m\u001b[0m\n\u001b[1;32m     48\u001b[0m \"\"\".format(\n\u001b[0;32m---> 49\u001b[0;31m             \u001b[0msubmodule\u001b[0m\u001b[0;34m=\u001b[0m\u001b[0msubmodule\u001b[0m\u001b[0;34m\u001b[0m\u001b[0;34m\u001b[0m\u001b[0m\n\u001b[0m\u001b[1;32m     50\u001b[0m         )\n\u001b[1;32m     51\u001b[0m     )\n",
      "\u001b[0;31mImportError\u001b[0m: \nThe plotly.plotly module is deprecated,\nplease install the chart-studio package and use the\nchart_studio.plotly module instead. \n"
     ]
    }
   ],
   "source": [
    "import pandas as pd\n",
    "import plotly\n",
    "import plotly.graph_objs as go\n",
    "import plotly.graph_objects as go2\n",
    "import plotly.plotly as py\n",
    "# conda install -c plotly plotly=4.9.0\n",
    "# conda install \"notebook>=5.3\" \"ipywidgets>=7.2\""
   ]
  },
  {
   "cell_type": "code",
   "execution_count": 6,
   "metadata": {
    "ExecuteTime": {
     "end_time": "2020-07-24T15:23:15.508558Z",
     "start_time": "2020-07-24T15:23:07.842916Z"
    }
   },
   "outputs": [],
   "source": [
    "import os\n",
    "from collections import Counter\n",
    "import matplotlib.pyplot as plt\n",
    "import seaborn             as sns; sns.set() # A package to make Matplotlib visualizations more aesthetic\n",
    "import numpy as np\n",
    "import pandas as pd\n",
    "from pylab import rcParams\n",
    "from wordcloud import WordCloud\n",
    "from nltk import word_tokenize"
   ]
  },
  {
   "cell_type": "code",
   "execution_count": 6,
   "metadata": {
    "ExecuteTime": {
     "end_time": "2020-07-24T17:06:31.220467Z",
     "start_time": "2020-07-24T17:05:08.437078Z"
    }
   },
   "outputs": [],
   "source": [
    "context = pd.read_csv('./data/contextMinJusticia.csv', sep=';')\n",
    "inmate = pd.read_excel('./data/ReincidenciaPospenadosNal201011Junio2020Rev.xlsx', skiprows = 6)"
   ]
  },
  {
   "cell_type": "markdown",
   "metadata": {},
   "source": [
    "# Context plotly graphs"
   ]
  },
  {
   "cell_type": "code",
   "execution_count": 11,
   "metadata": {
    "ExecuteTime": {
     "end_time": "2020-07-20T20:31:46.130750Z",
     "start_time": "2020-07-20T20:31:45.951232Z"
    }
   },
   "outputs": [
    {
     "data": {
      "text/html": [
       "<div>\n",
       "<style scoped>\n",
       "    .dataframe tbody tr th:only-of-type {\n",
       "        vertical-align: middle;\n",
       "    }\n",
       "\n",
       "    .dataframe tbody tr th {\n",
       "        vertical-align: top;\n",
       "    }\n",
       "\n",
       "    .dataframe thead th {\n",
       "        text-align: right;\n",
       "    }\n",
       "</style>\n",
       "<table border=\"1\" class=\"dataframe\">\n",
       "  <thead>\n",
       "    <tr style=\"text-align: right;\">\n",
       "      <th></th>\n",
       "      <th>Year</th>\n",
       "      <th>Capacity</th>\n",
       "      <th>Population</th>\n",
       "    </tr>\n",
       "  </thead>\n",
       "  <tbody>\n",
       "    <tr>\n",
       "      <th>0</th>\n",
       "      <td>1991</td>\n",
       "      <td>28.319</td>\n",
       "      <td>29.355</td>\n",
       "    </tr>\n",
       "    <tr>\n",
       "      <th>1</th>\n",
       "      <td>1992</td>\n",
       "      <td>28.294</td>\n",
       "      <td>27.016</td>\n",
       "    </tr>\n",
       "    <tr>\n",
       "      <th>2</th>\n",
       "      <td>1993</td>\n",
       "      <td>28.084</td>\n",
       "      <td>28.260</td>\n",
       "    </tr>\n",
       "    <tr>\n",
       "      <th>3</th>\n",
       "      <td>1994</td>\n",
       "      <td>NaN</td>\n",
       "      <td>29.338</td>\n",
       "    </tr>\n",
       "    <tr>\n",
       "      <th>4</th>\n",
       "      <td>1995</td>\n",
       "      <td>NaN</td>\n",
       "      <td>31.960</td>\n",
       "    </tr>\n",
       "    <tr>\n",
       "      <th>5</th>\n",
       "      <td>1996</td>\n",
       "      <td>28.332</td>\n",
       "      <td>38.063</td>\n",
       "    </tr>\n",
       "    <tr>\n",
       "      <th>6</th>\n",
       "      <td>1997</td>\n",
       "      <td>29.239</td>\n",
       "      <td>41.405</td>\n",
       "    </tr>\n",
       "    <tr>\n",
       "      <th>7</th>\n",
       "      <td>1998</td>\n",
       "      <td>33.009</td>\n",
       "      <td>43.259</td>\n",
       "    </tr>\n",
       "    <tr>\n",
       "      <th>8</th>\n",
       "      <td>1999</td>\n",
       "      <td>33.090</td>\n",
       "      <td>46.322</td>\n",
       "    </tr>\n",
       "    <tr>\n",
       "      <th>9</th>\n",
       "      <td>2000</td>\n",
       "      <td>35.969</td>\n",
       "      <td>49.816</td>\n",
       "    </tr>\n",
       "    <tr>\n",
       "      <th>10</th>\n",
       "      <td>2001</td>\n",
       "      <td>40.037</td>\n",
       "      <td>52.181</td>\n",
       "    </tr>\n",
       "    <tr>\n",
       "      <th>11</th>\n",
       "      <td>2002</td>\n",
       "      <td>44.373</td>\n",
       "      <td>51.276</td>\n",
       "    </tr>\n",
       "    <tr>\n",
       "      <th>12</th>\n",
       "      <td>2003</td>\n",
       "      <td>46.399</td>\n",
       "      <td>58.894</td>\n",
       "    </tr>\n",
       "    <tr>\n",
       "      <th>13</th>\n",
       "      <td>2004</td>\n",
       "      <td>48.916</td>\n",
       "      <td>66.474</td>\n",
       "    </tr>\n",
       "    <tr>\n",
       "      <th>14</th>\n",
       "      <td>2005</td>\n",
       "      <td>49.763</td>\n",
       "      <td>69.365</td>\n",
       "    </tr>\n",
       "    <tr>\n",
       "      <th>15</th>\n",
       "      <td>2006</td>\n",
       "      <td>52.115</td>\n",
       "      <td>62.906</td>\n",
       "    </tr>\n",
       "    <tr>\n",
       "      <th>16</th>\n",
       "      <td>2007</td>\n",
       "      <td>52.504</td>\n",
       "      <td>61.543</td>\n",
       "    </tr>\n",
       "    <tr>\n",
       "      <th>17</th>\n",
       "      <td>2008</td>\n",
       "      <td>53.784</td>\n",
       "      <td>67.812</td>\n",
       "    </tr>\n",
       "    <tr>\n",
       "      <th>18</th>\n",
       "      <td>2009</td>\n",
       "      <td>55.019</td>\n",
       "      <td>74.277</td>\n",
       "    </tr>\n",
       "    <tr>\n",
       "      <th>19</th>\n",
       "      <td>2010</td>\n",
       "      <td>61.100</td>\n",
       "      <td>81.095</td>\n",
       "    </tr>\n",
       "    <tr>\n",
       "      <th>20</th>\n",
       "      <td>2011</td>\n",
       "      <td>73.451</td>\n",
       "      <td>94.267</td>\n",
       "    </tr>\n",
       "    <tr>\n",
       "      <th>21</th>\n",
       "      <td>2012</td>\n",
       "      <td>75.679</td>\n",
       "      <td>109.822</td>\n",
       "    </tr>\n",
       "    <tr>\n",
       "      <th>22</th>\n",
       "      <td>2013</td>\n",
       "      <td>75.797</td>\n",
       "      <td>117.987</td>\n",
       "    </tr>\n",
       "    <tr>\n",
       "      <th>23</th>\n",
       "      <td>2014</td>\n",
       "      <td>76.677</td>\n",
       "      <td>117.731</td>\n",
       "    </tr>\n",
       "    <tr>\n",
       "      <th>24</th>\n",
       "      <td>2015</td>\n",
       "      <td>78.420</td>\n",
       "      <td>120.444</td>\n",
       "    </tr>\n",
       "    <tr>\n",
       "      <th>25</th>\n",
       "      <td>2016</td>\n",
       "      <td>79.211</td>\n",
       "      <td>118.532</td>\n",
       "    </tr>\n",
       "    <tr>\n",
       "      <th>26</th>\n",
       "      <td>2017</td>\n",
       "      <td>80.227</td>\n",
       "      <td>114.750</td>\n",
       "    </tr>\n",
       "    <tr>\n",
       "      <th>27</th>\n",
       "      <td>2018</td>\n",
       "      <td>80.260</td>\n",
       "      <td>118.513</td>\n",
       "    </tr>\n",
       "    <tr>\n",
       "      <th>28</th>\n",
       "      <td>2019</td>\n",
       "      <td>80.156</td>\n",
       "      <td>118.769</td>\n",
       "    </tr>\n",
       "  </tbody>\n",
       "</table>\n",
       "</div>"
      ],
      "text/plain": [
       "    Year  Capacity  Population\n",
       "0   1991    28.319      29.355\n",
       "1   1992    28.294      27.016\n",
       "2   1993    28.084      28.260\n",
       "3   1994       NaN      29.338\n",
       "4   1995       NaN      31.960\n",
       "5   1996    28.332      38.063\n",
       "6   1997    29.239      41.405\n",
       "7   1998    33.009      43.259\n",
       "8   1999    33.090      46.322\n",
       "9   2000    35.969      49.816\n",
       "10  2001    40.037      52.181\n",
       "11  2002    44.373      51.276\n",
       "12  2003    46.399      58.894\n",
       "13  2004    48.916      66.474\n",
       "14  2005    49.763      69.365\n",
       "15  2006    52.115      62.906\n",
       "16  2007    52.504      61.543\n",
       "17  2008    53.784      67.812\n",
       "18  2009    55.019      74.277\n",
       "19  2010    61.100      81.095\n",
       "20  2011    73.451      94.267\n",
       "21  2012    75.679     109.822\n",
       "22  2013    75.797     117.987\n",
       "23  2014    76.677     117.731\n",
       "24  2015    78.420     120.444\n",
       "25  2016    79.211     118.532\n",
       "26  2017    80.227     114.750\n",
       "27  2018    80.260     118.513\n",
       "28  2019    80.156     118.769"
      ]
     },
     "execution_count": 11,
     "metadata": {},
     "output_type": "execute_result"
    }
   ],
   "source": [
    "context"
   ]
  },
  {
   "cell_type": "code",
   "execution_count": 12,
   "metadata": {
    "ExecuteTime": {
     "end_time": "2020-07-20T20:32:13.255262Z",
     "start_time": "2020-07-20T20:31:46.978435Z"
    }
   },
   "outputs": [
    {
     "data": {
      "text/html": [
       "<div>\n",
       "<style scoped>\n",
       "    .dataframe tbody tr th:only-of-type {\n",
       "        vertical-align: middle;\n",
       "    }\n",
       "\n",
       "    .dataframe tbody tr th {\n",
       "        vertical-align: top;\n",
       "    }\n",
       "\n",
       "    .dataframe thead th {\n",
       "        text-align: right;\n",
       "    }\n",
       "</style>\n",
       "<table border=\"1\" class=\"dataframe\">\n",
       "  <thead>\n",
       "    <tr style=\"text-align: right;\">\n",
       "      <th></th>\n",
       "      <th>reoffenders</th>\n",
       "    </tr>\n",
       "    <tr>\n",
       "      <th>Year</th>\n",
       "      <th></th>\n",
       "    </tr>\n",
       "  </thead>\n",
       "  <tbody>\n",
       "    <tr>\n",
       "      <th>2010</th>\n",
       "      <td>7475</td>\n",
       "    </tr>\n",
       "    <tr>\n",
       "      <th>2011</th>\n",
       "      <td>9584</td>\n",
       "    </tr>\n",
       "    <tr>\n",
       "      <th>2012</th>\n",
       "      <td>7948</td>\n",
       "    </tr>\n",
       "    <tr>\n",
       "      <th>2013</th>\n",
       "      <td>8972</td>\n",
       "    </tr>\n",
       "    <tr>\n",
       "      <th>2014</th>\n",
       "      <td>8232</td>\n",
       "    </tr>\n",
       "    <tr>\n",
       "      <th>2015</th>\n",
       "      <td>10211</td>\n",
       "    </tr>\n",
       "    <tr>\n",
       "      <th>2016</th>\n",
       "      <td>10789</td>\n",
       "    </tr>\n",
       "    <tr>\n",
       "      <th>2017</th>\n",
       "      <td>11133</td>\n",
       "    </tr>\n",
       "    <tr>\n",
       "      <th>2018</th>\n",
       "      <td>12433</td>\n",
       "    </tr>\n",
       "    <tr>\n",
       "      <th>2019</th>\n",
       "      <td>13382</td>\n",
       "    </tr>\n",
       "    <tr>\n",
       "      <th>2020</th>\n",
       "      <td>3131</td>\n",
       "    </tr>\n",
       "  </tbody>\n",
       "</table>\n",
       "</div>"
      ],
      "text/plain": [
       "      reoffenders\n",
       "Year             \n",
       "2010         7475\n",
       "2011         9584\n",
       "2012         7948\n",
       "2013         8972\n",
       "2014         8232\n",
       "2015        10211\n",
       "2016        10789\n",
       "2017        11133\n",
       "2018        12433\n",
       "2019        13382\n",
       "2020         3131"
      ]
     },
     "execution_count": 12,
     "metadata": {},
     "output_type": "execute_result"
    }
   ],
   "source": [
    "people = inmate.groupby(['INTERNOEN','FECHA_INGRESO']).count().reset_index()\n",
    "people.FECHA_INGRESO = pd.to_datetime(people.FECHA_INGRESO)\n",
    "people['Year'] = people.FECHA_INGRESO.dt.year\n",
    "people = people[['INTERNOEN','FECHA_INGRESO','ESTADO','Year']]\n",
    "people.columns = ['INTERNOEN','FECHA_INGRESO','reoffenders','Year']\n",
    "#people.reset_index(inplace=True)\n",
    "people.shape\n",
    "people = people.groupby('Year').count()\n",
    "people = people['reoffenders']\n",
    "people = people.to_frame()\n",
    "people"
   ]
  },
  {
   "cell_type": "code",
   "execution_count": 13,
   "metadata": {
    "ExecuteTime": {
     "end_time": "2020-07-20T20:32:30.094647Z",
     "start_time": "2020-07-20T20:32:29.991177Z"
    }
   },
   "outputs": [
    {
     "data": {
      "text/html": [
       "<div>\n",
       "<style scoped>\n",
       "    .dataframe tbody tr th:only-of-type {\n",
       "        vertical-align: middle;\n",
       "    }\n",
       "\n",
       "    .dataframe tbody tr th {\n",
       "        vertical-align: top;\n",
       "    }\n",
       "\n",
       "    .dataframe thead th {\n",
       "        text-align: right;\n",
       "    }\n",
       "</style>\n",
       "<table border=\"1\" class=\"dataframe\">\n",
       "  <thead>\n",
       "    <tr style=\"text-align: right;\">\n",
       "      <th></th>\n",
       "      <th>Capacity</th>\n",
       "      <th>Population</th>\n",
       "      <th>reoffenders</th>\n",
       "    </tr>\n",
       "    <tr>\n",
       "      <th>Year</th>\n",
       "      <th></th>\n",
       "      <th></th>\n",
       "      <th></th>\n",
       "    </tr>\n",
       "  </thead>\n",
       "  <tbody>\n",
       "    <tr>\n",
       "      <th>1991</th>\n",
       "      <td>28.319</td>\n",
       "      <td>29.355</td>\n",
       "      <td>NaN</td>\n",
       "    </tr>\n",
       "    <tr>\n",
       "      <th>1992</th>\n",
       "      <td>28.294</td>\n",
       "      <td>27.016</td>\n",
       "      <td>NaN</td>\n",
       "    </tr>\n",
       "    <tr>\n",
       "      <th>1993</th>\n",
       "      <td>28.084</td>\n",
       "      <td>28.260</td>\n",
       "      <td>NaN</td>\n",
       "    </tr>\n",
       "    <tr>\n",
       "      <th>1994</th>\n",
       "      <td>NaN</td>\n",
       "      <td>29.338</td>\n",
       "      <td>NaN</td>\n",
       "    </tr>\n",
       "    <tr>\n",
       "      <th>1995</th>\n",
       "      <td>NaN</td>\n",
       "      <td>31.960</td>\n",
       "      <td>NaN</td>\n",
       "    </tr>\n",
       "    <tr>\n",
       "      <th>1996</th>\n",
       "      <td>28.332</td>\n",
       "      <td>38.063</td>\n",
       "      <td>NaN</td>\n",
       "    </tr>\n",
       "    <tr>\n",
       "      <th>1997</th>\n",
       "      <td>29.239</td>\n",
       "      <td>41.405</td>\n",
       "      <td>NaN</td>\n",
       "    </tr>\n",
       "    <tr>\n",
       "      <th>1998</th>\n",
       "      <td>33.009</td>\n",
       "      <td>43.259</td>\n",
       "      <td>NaN</td>\n",
       "    </tr>\n",
       "    <tr>\n",
       "      <th>1999</th>\n",
       "      <td>33.090</td>\n",
       "      <td>46.322</td>\n",
       "      <td>NaN</td>\n",
       "    </tr>\n",
       "    <tr>\n",
       "      <th>2000</th>\n",
       "      <td>35.969</td>\n",
       "      <td>49.816</td>\n",
       "      <td>NaN</td>\n",
       "    </tr>\n",
       "    <tr>\n",
       "      <th>2001</th>\n",
       "      <td>40.037</td>\n",
       "      <td>52.181</td>\n",
       "      <td>NaN</td>\n",
       "    </tr>\n",
       "    <tr>\n",
       "      <th>2002</th>\n",
       "      <td>44.373</td>\n",
       "      <td>51.276</td>\n",
       "      <td>NaN</td>\n",
       "    </tr>\n",
       "    <tr>\n",
       "      <th>2003</th>\n",
       "      <td>46.399</td>\n",
       "      <td>58.894</td>\n",
       "      <td>NaN</td>\n",
       "    </tr>\n",
       "    <tr>\n",
       "      <th>2004</th>\n",
       "      <td>48.916</td>\n",
       "      <td>66.474</td>\n",
       "      <td>NaN</td>\n",
       "    </tr>\n",
       "    <tr>\n",
       "      <th>2005</th>\n",
       "      <td>49.763</td>\n",
       "      <td>69.365</td>\n",
       "      <td>NaN</td>\n",
       "    </tr>\n",
       "    <tr>\n",
       "      <th>2006</th>\n",
       "      <td>52.115</td>\n",
       "      <td>62.906</td>\n",
       "      <td>NaN</td>\n",
       "    </tr>\n",
       "    <tr>\n",
       "      <th>2007</th>\n",
       "      <td>52.504</td>\n",
       "      <td>61.543</td>\n",
       "      <td>NaN</td>\n",
       "    </tr>\n",
       "    <tr>\n",
       "      <th>2008</th>\n",
       "      <td>53.784</td>\n",
       "      <td>67.812</td>\n",
       "      <td>NaN</td>\n",
       "    </tr>\n",
       "    <tr>\n",
       "      <th>2009</th>\n",
       "      <td>55.019</td>\n",
       "      <td>74.277</td>\n",
       "      <td>NaN</td>\n",
       "    </tr>\n",
       "    <tr>\n",
       "      <th>2010</th>\n",
       "      <td>61.100</td>\n",
       "      <td>81.095</td>\n",
       "      <td>7.475</td>\n",
       "    </tr>\n",
       "    <tr>\n",
       "      <th>2011</th>\n",
       "      <td>73.451</td>\n",
       "      <td>94.267</td>\n",
       "      <td>9.584</td>\n",
       "    </tr>\n",
       "    <tr>\n",
       "      <th>2012</th>\n",
       "      <td>75.679</td>\n",
       "      <td>109.822</td>\n",
       "      <td>7.948</td>\n",
       "    </tr>\n",
       "    <tr>\n",
       "      <th>2013</th>\n",
       "      <td>75.797</td>\n",
       "      <td>117.987</td>\n",
       "      <td>8.972</td>\n",
       "    </tr>\n",
       "    <tr>\n",
       "      <th>2014</th>\n",
       "      <td>76.677</td>\n",
       "      <td>117.731</td>\n",
       "      <td>8.232</td>\n",
       "    </tr>\n",
       "    <tr>\n",
       "      <th>2015</th>\n",
       "      <td>78.420</td>\n",
       "      <td>120.444</td>\n",
       "      <td>10.211</td>\n",
       "    </tr>\n",
       "    <tr>\n",
       "      <th>2016</th>\n",
       "      <td>79.211</td>\n",
       "      <td>118.532</td>\n",
       "      <td>10.789</td>\n",
       "    </tr>\n",
       "    <tr>\n",
       "      <th>2017</th>\n",
       "      <td>80.227</td>\n",
       "      <td>114.750</td>\n",
       "      <td>11.133</td>\n",
       "    </tr>\n",
       "    <tr>\n",
       "      <th>2018</th>\n",
       "      <td>80.260</td>\n",
       "      <td>118.513</td>\n",
       "      <td>12.433</td>\n",
       "    </tr>\n",
       "    <tr>\n",
       "      <th>2019</th>\n",
       "      <td>80.156</td>\n",
       "      <td>118.769</td>\n",
       "      <td>13.382</td>\n",
       "    </tr>\n",
       "  </tbody>\n",
       "</table>\n",
       "</div>"
      ],
      "text/plain": [
       "      Capacity  Population  reoffenders\n",
       "Year                                   \n",
       "1991    28.319      29.355          NaN\n",
       "1992    28.294      27.016          NaN\n",
       "1993    28.084      28.260          NaN\n",
       "1994       NaN      29.338          NaN\n",
       "1995       NaN      31.960          NaN\n",
       "1996    28.332      38.063          NaN\n",
       "1997    29.239      41.405          NaN\n",
       "1998    33.009      43.259          NaN\n",
       "1999    33.090      46.322          NaN\n",
       "2000    35.969      49.816          NaN\n",
       "2001    40.037      52.181          NaN\n",
       "2002    44.373      51.276          NaN\n",
       "2003    46.399      58.894          NaN\n",
       "2004    48.916      66.474          NaN\n",
       "2005    49.763      69.365          NaN\n",
       "2006    52.115      62.906          NaN\n",
       "2007    52.504      61.543          NaN\n",
       "2008    53.784      67.812          NaN\n",
       "2009    55.019      74.277          NaN\n",
       "2010    61.100      81.095        7.475\n",
       "2011    73.451      94.267        9.584\n",
       "2012    75.679     109.822        7.948\n",
       "2013    75.797     117.987        8.972\n",
       "2014    76.677     117.731        8.232\n",
       "2015    78.420     120.444       10.211\n",
       "2016    79.211     118.532       10.789\n",
       "2017    80.227     114.750       11.133\n",
       "2018    80.260     118.513       12.433\n",
       "2019    80.156     118.769       13.382"
      ]
     },
     "execution_count": 13,
     "metadata": {},
     "output_type": "execute_result"
    }
   ],
   "source": [
    "df_merge = pd.merge(context,people, how='left',on ='Year')\n",
    "df_merge.set_index('Year',inplace=True)\n",
    "df_merge['reoffenders'] = df_merge['reoffenders']/1000\n",
    "df_merge"
   ]
  },
  {
   "cell_type": "code",
   "execution_count": 14,
   "metadata": {
    "ExecuteTime": {
     "end_time": "2020-07-20T20:32:33.835165Z",
     "start_time": "2020-07-20T20:32:33.200991Z"
    }
   },
   "outputs": [
    {
     "data": {
      "application/vnd.plotly.v1+json": {
       "config": {
        "plotlyServerURL": "https://plot.ly"
       },
       "data": [
        {
         "hovertemplate": "<b>%{hovertext}</b><br><br>variable=Capacity<br>Year=%{x}<br>value=%{y}<extra></extra>",
         "hovertext": [
          "Capacity",
          "Capacity",
          "Capacity",
          "Capacity",
          "Capacity",
          "Capacity",
          "Capacity",
          "Capacity",
          "Capacity",
          "Capacity",
          "Capacity",
          "Capacity",
          "Capacity",
          "Capacity",
          "Capacity",
          "Capacity",
          "Capacity",
          "Capacity",
          "Capacity",
          "Capacity",
          "Capacity",
          "Capacity",
          "Capacity",
          "Capacity",
          "Capacity",
          "Capacity",
          "Capacity",
          "Capacity",
          "Capacity"
         ],
         "legendgroup": "",
         "line": {
          "color": "#636efa",
          "dash": "solid"
         },
         "mode": "lines",
         "name": "",
         "orientation": "v",
         "showlegend": false,
         "type": "scatter",
         "x": [
          1991,
          1992,
          1993,
          1994,
          1995,
          1996,
          1997,
          1998,
          1999,
          2000,
          2001,
          2002,
          2003,
          2004,
          2005,
          2006,
          2007,
          2008,
          2009,
          2010,
          2011,
          2012,
          2013,
          2014,
          2015,
          2016,
          2017,
          2018,
          2019
         ],
         "xaxis": "x",
         "y": [
          28.319000000000003,
          28.294,
          28.084,
          null,
          null,
          28.331999999999997,
          29.239,
          33.009,
          33.09,
          35.969,
          40.037,
          44.373000000000005,
          46.398999999999994,
          48.916000000000004,
          49.763000000000005,
          52.115,
          52.504,
          53.784,
          55.019,
          61.1,
          73.45100000000001,
          75.679,
          75.797,
          76.67699999999999,
          78.42,
          79.211,
          80.227,
          80.26,
          80.156
         ],
         "yaxis": "y"
        },
        {
         "hovertemplate": "<b>%{hovertext}</b><br><br>variable=Population<br>Year=%{x}<br>value=%{y}<extra></extra>",
         "hovertext": [
          "Population",
          "Population",
          "Population",
          "Population",
          "Population",
          "Population",
          "Population",
          "Population",
          "Population",
          "Population",
          "Population",
          "Population",
          "Population",
          "Population",
          "Population",
          "Population",
          "Population",
          "Population",
          "Population",
          "Population",
          "Population",
          "Population",
          "Population",
          "Population",
          "Population",
          "Population",
          "Population",
          "Population",
          "Population"
         ],
         "legendgroup": "",
         "line": {
          "color": "#636efa",
          "dash": "solid"
         },
         "mode": "lines",
         "name": "",
         "orientation": "v",
         "showlegend": false,
         "type": "scatter",
         "x": [
          1991,
          1992,
          1993,
          1994,
          1995,
          1996,
          1997,
          1998,
          1999,
          2000,
          2001,
          2002,
          2003,
          2004,
          2005,
          2006,
          2007,
          2008,
          2009,
          2010,
          2011,
          2012,
          2013,
          2014,
          2015,
          2016,
          2017,
          2018,
          2019
         ],
         "xaxis": "x",
         "y": [
          29.355,
          27.016,
          28.26,
          29.338,
          31.96,
          38.063,
          41.405,
          43.25899999999999,
          46.321999999999996,
          49.816,
          52.181000000000004,
          51.276,
          58.894,
          66.47399999999999,
          69.365,
          62.906000000000006,
          61.543,
          67.812,
          74.277,
          81.095,
          94.26700000000001,
          109.822,
          117.98700000000001,
          117.73100000000001,
          120.444,
          118.53200000000001,
          114.75,
          118.51299999999999,
          118.76899999999999
         ],
         "yaxis": "y"
        },
        {
         "hovertemplate": "<b>%{hovertext}</b><br><br>variable=reoffenders<br>Year=%{x}<br>value=%{y}<extra></extra>",
         "hovertext": [
          "reoffenders",
          "reoffenders",
          "reoffenders",
          "reoffenders",
          "reoffenders",
          "reoffenders",
          "reoffenders",
          "reoffenders",
          "reoffenders",
          "reoffenders",
          "reoffenders",
          "reoffenders",
          "reoffenders",
          "reoffenders",
          "reoffenders",
          "reoffenders",
          "reoffenders",
          "reoffenders",
          "reoffenders",
          "reoffenders",
          "reoffenders",
          "reoffenders",
          "reoffenders",
          "reoffenders",
          "reoffenders",
          "reoffenders",
          "reoffenders",
          "reoffenders",
          "reoffenders"
         ],
         "legendgroup": "",
         "line": {
          "color": "#636efa",
          "dash": "solid"
         },
         "mode": "lines",
         "name": "",
         "orientation": "v",
         "showlegend": false,
         "type": "scatter",
         "x": [
          1991,
          1992,
          1993,
          1994,
          1995,
          1996,
          1997,
          1998,
          1999,
          2000,
          2001,
          2002,
          2003,
          2004,
          2005,
          2006,
          2007,
          2008,
          2009,
          2010,
          2011,
          2012,
          2013,
          2014,
          2015,
          2016,
          2017,
          2018,
          2019
         ],
         "xaxis": "x",
         "y": [
          null,
          null,
          null,
          null,
          null,
          null,
          null,
          null,
          null,
          null,
          null,
          null,
          null,
          null,
          null,
          null,
          null,
          null,
          null,
          7.475,
          9.584,
          7.948,
          8.972,
          8.232,
          10.211,
          10.789,
          11.133,
          12.433,
          13.382
         ],
         "yaxis": "y"
        }
       ],
       "layout": {
        "legend": {
         "tracegroupgap": 0
        },
        "margin": {
         "t": 60
        },
        "template": {
         "data": {
          "bar": [
           {
            "error_x": {
             "color": "#2a3f5f"
            },
            "error_y": {
             "color": "#2a3f5f"
            },
            "marker": {
             "line": {
              "color": "#E5ECF6",
              "width": 0.5
             }
            },
            "type": "bar"
           }
          ],
          "barpolar": [
           {
            "marker": {
             "line": {
              "color": "#E5ECF6",
              "width": 0.5
             }
            },
            "type": "barpolar"
           }
          ],
          "carpet": [
           {
            "aaxis": {
             "endlinecolor": "#2a3f5f",
             "gridcolor": "white",
             "linecolor": "white",
             "minorgridcolor": "white",
             "startlinecolor": "#2a3f5f"
            },
            "baxis": {
             "endlinecolor": "#2a3f5f",
             "gridcolor": "white",
             "linecolor": "white",
             "minorgridcolor": "white",
             "startlinecolor": "#2a3f5f"
            },
            "type": "carpet"
           }
          ],
          "choropleth": [
           {
            "colorbar": {
             "outlinewidth": 0,
             "ticks": ""
            },
            "type": "choropleth"
           }
          ],
          "contour": [
           {
            "colorbar": {
             "outlinewidth": 0,
             "ticks": ""
            },
            "colorscale": [
             [
              0,
              "#0d0887"
             ],
             [
              0.1111111111111111,
              "#46039f"
             ],
             [
              0.2222222222222222,
              "#7201a8"
             ],
             [
              0.3333333333333333,
              "#9c179e"
             ],
             [
              0.4444444444444444,
              "#bd3786"
             ],
             [
              0.5555555555555556,
              "#d8576b"
             ],
             [
              0.6666666666666666,
              "#ed7953"
             ],
             [
              0.7777777777777778,
              "#fb9f3a"
             ],
             [
              0.8888888888888888,
              "#fdca26"
             ],
             [
              1,
              "#f0f921"
             ]
            ],
            "type": "contour"
           }
          ],
          "contourcarpet": [
           {
            "colorbar": {
             "outlinewidth": 0,
             "ticks": ""
            },
            "type": "contourcarpet"
           }
          ],
          "heatmap": [
           {
            "colorbar": {
             "outlinewidth": 0,
             "ticks": ""
            },
            "colorscale": [
             [
              0,
              "#0d0887"
             ],
             [
              0.1111111111111111,
              "#46039f"
             ],
             [
              0.2222222222222222,
              "#7201a8"
             ],
             [
              0.3333333333333333,
              "#9c179e"
             ],
             [
              0.4444444444444444,
              "#bd3786"
             ],
             [
              0.5555555555555556,
              "#d8576b"
             ],
             [
              0.6666666666666666,
              "#ed7953"
             ],
             [
              0.7777777777777778,
              "#fb9f3a"
             ],
             [
              0.8888888888888888,
              "#fdca26"
             ],
             [
              1,
              "#f0f921"
             ]
            ],
            "type": "heatmap"
           }
          ],
          "heatmapgl": [
           {
            "colorbar": {
             "outlinewidth": 0,
             "ticks": ""
            },
            "colorscale": [
             [
              0,
              "#0d0887"
             ],
             [
              0.1111111111111111,
              "#46039f"
             ],
             [
              0.2222222222222222,
              "#7201a8"
             ],
             [
              0.3333333333333333,
              "#9c179e"
             ],
             [
              0.4444444444444444,
              "#bd3786"
             ],
             [
              0.5555555555555556,
              "#d8576b"
             ],
             [
              0.6666666666666666,
              "#ed7953"
             ],
             [
              0.7777777777777778,
              "#fb9f3a"
             ],
             [
              0.8888888888888888,
              "#fdca26"
             ],
             [
              1,
              "#f0f921"
             ]
            ],
            "type": "heatmapgl"
           }
          ],
          "histogram": [
           {
            "marker": {
             "colorbar": {
              "outlinewidth": 0,
              "ticks": ""
             }
            },
            "type": "histogram"
           }
          ],
          "histogram2d": [
           {
            "colorbar": {
             "outlinewidth": 0,
             "ticks": ""
            },
            "colorscale": [
             [
              0,
              "#0d0887"
             ],
             [
              0.1111111111111111,
              "#46039f"
             ],
             [
              0.2222222222222222,
              "#7201a8"
             ],
             [
              0.3333333333333333,
              "#9c179e"
             ],
             [
              0.4444444444444444,
              "#bd3786"
             ],
             [
              0.5555555555555556,
              "#d8576b"
             ],
             [
              0.6666666666666666,
              "#ed7953"
             ],
             [
              0.7777777777777778,
              "#fb9f3a"
             ],
             [
              0.8888888888888888,
              "#fdca26"
             ],
             [
              1,
              "#f0f921"
             ]
            ],
            "type": "histogram2d"
           }
          ],
          "histogram2dcontour": [
           {
            "colorbar": {
             "outlinewidth": 0,
             "ticks": ""
            },
            "colorscale": [
             [
              0,
              "#0d0887"
             ],
             [
              0.1111111111111111,
              "#46039f"
             ],
             [
              0.2222222222222222,
              "#7201a8"
             ],
             [
              0.3333333333333333,
              "#9c179e"
             ],
             [
              0.4444444444444444,
              "#bd3786"
             ],
             [
              0.5555555555555556,
              "#d8576b"
             ],
             [
              0.6666666666666666,
              "#ed7953"
             ],
             [
              0.7777777777777778,
              "#fb9f3a"
             ],
             [
              0.8888888888888888,
              "#fdca26"
             ],
             [
              1,
              "#f0f921"
             ]
            ],
            "type": "histogram2dcontour"
           }
          ],
          "mesh3d": [
           {
            "colorbar": {
             "outlinewidth": 0,
             "ticks": ""
            },
            "type": "mesh3d"
           }
          ],
          "parcoords": [
           {
            "line": {
             "colorbar": {
              "outlinewidth": 0,
              "ticks": ""
             }
            },
            "type": "parcoords"
           }
          ],
          "pie": [
           {
            "automargin": true,
            "type": "pie"
           }
          ],
          "scatter": [
           {
            "marker": {
             "colorbar": {
              "outlinewidth": 0,
              "ticks": ""
             }
            },
            "type": "scatter"
           }
          ],
          "scatter3d": [
           {
            "line": {
             "colorbar": {
              "outlinewidth": 0,
              "ticks": ""
             }
            },
            "marker": {
             "colorbar": {
              "outlinewidth": 0,
              "ticks": ""
             }
            },
            "type": "scatter3d"
           }
          ],
          "scattercarpet": [
           {
            "marker": {
             "colorbar": {
              "outlinewidth": 0,
              "ticks": ""
             }
            },
            "type": "scattercarpet"
           }
          ],
          "scattergeo": [
           {
            "marker": {
             "colorbar": {
              "outlinewidth": 0,
              "ticks": ""
             }
            },
            "type": "scattergeo"
           }
          ],
          "scattergl": [
           {
            "marker": {
             "colorbar": {
              "outlinewidth": 0,
              "ticks": ""
             }
            },
            "type": "scattergl"
           }
          ],
          "scattermapbox": [
           {
            "marker": {
             "colorbar": {
              "outlinewidth": 0,
              "ticks": ""
             }
            },
            "type": "scattermapbox"
           }
          ],
          "scatterpolar": [
           {
            "marker": {
             "colorbar": {
              "outlinewidth": 0,
              "ticks": ""
             }
            },
            "type": "scatterpolar"
           }
          ],
          "scatterpolargl": [
           {
            "marker": {
             "colorbar": {
              "outlinewidth": 0,
              "ticks": ""
             }
            },
            "type": "scatterpolargl"
           }
          ],
          "scatterternary": [
           {
            "marker": {
             "colorbar": {
              "outlinewidth": 0,
              "ticks": ""
             }
            },
            "type": "scatterternary"
           }
          ],
          "surface": [
           {
            "colorbar": {
             "outlinewidth": 0,
             "ticks": ""
            },
            "colorscale": [
             [
              0,
              "#0d0887"
             ],
             [
              0.1111111111111111,
              "#46039f"
             ],
             [
              0.2222222222222222,
              "#7201a8"
             ],
             [
              0.3333333333333333,
              "#9c179e"
             ],
             [
              0.4444444444444444,
              "#bd3786"
             ],
             [
              0.5555555555555556,
              "#d8576b"
             ],
             [
              0.6666666666666666,
              "#ed7953"
             ],
             [
              0.7777777777777778,
              "#fb9f3a"
             ],
             [
              0.8888888888888888,
              "#fdca26"
             ],
             [
              1,
              "#f0f921"
             ]
            ],
            "type": "surface"
           }
          ],
          "table": [
           {
            "cells": {
             "fill": {
              "color": "#EBF0F8"
             },
             "line": {
              "color": "white"
             }
            },
            "header": {
             "fill": {
              "color": "#C8D4E3"
             },
             "line": {
              "color": "white"
             }
            },
            "type": "table"
           }
          ]
         },
         "layout": {
          "annotationdefaults": {
           "arrowcolor": "#2a3f5f",
           "arrowhead": 0,
           "arrowwidth": 1
          },
          "coloraxis": {
           "colorbar": {
            "outlinewidth": 0,
            "ticks": ""
           }
          },
          "colorscale": {
           "diverging": [
            [
             0,
             "#8e0152"
            ],
            [
             0.1,
             "#c51b7d"
            ],
            [
             0.2,
             "#de77ae"
            ],
            [
             0.3,
             "#f1b6da"
            ],
            [
             0.4,
             "#fde0ef"
            ],
            [
             0.5,
             "#f7f7f7"
            ],
            [
             0.6,
             "#e6f5d0"
            ],
            [
             0.7,
             "#b8e186"
            ],
            [
             0.8,
             "#7fbc41"
            ],
            [
             0.9,
             "#4d9221"
            ],
            [
             1,
             "#276419"
            ]
           ],
           "sequential": [
            [
             0,
             "#0d0887"
            ],
            [
             0.1111111111111111,
             "#46039f"
            ],
            [
             0.2222222222222222,
             "#7201a8"
            ],
            [
             0.3333333333333333,
             "#9c179e"
            ],
            [
             0.4444444444444444,
             "#bd3786"
            ],
            [
             0.5555555555555556,
             "#d8576b"
            ],
            [
             0.6666666666666666,
             "#ed7953"
            ],
            [
             0.7777777777777778,
             "#fb9f3a"
            ],
            [
             0.8888888888888888,
             "#fdca26"
            ],
            [
             1,
             "#f0f921"
            ]
           ],
           "sequentialminus": [
            [
             0,
             "#0d0887"
            ],
            [
             0.1111111111111111,
             "#46039f"
            ],
            [
             0.2222222222222222,
             "#7201a8"
            ],
            [
             0.3333333333333333,
             "#9c179e"
            ],
            [
             0.4444444444444444,
             "#bd3786"
            ],
            [
             0.5555555555555556,
             "#d8576b"
            ],
            [
             0.6666666666666666,
             "#ed7953"
            ],
            [
             0.7777777777777778,
             "#fb9f3a"
            ],
            [
             0.8888888888888888,
             "#fdca26"
            ],
            [
             1,
             "#f0f921"
            ]
           ]
          },
          "colorway": [
           "#636efa",
           "#EF553B",
           "#00cc96",
           "#ab63fa",
           "#FFA15A",
           "#19d3f3",
           "#FF6692",
           "#B6E880",
           "#FF97FF",
           "#FECB52"
          ],
          "font": {
           "color": "#2a3f5f"
          },
          "geo": {
           "bgcolor": "white",
           "lakecolor": "white",
           "landcolor": "#E5ECF6",
           "showlakes": true,
           "showland": true,
           "subunitcolor": "white"
          },
          "hoverlabel": {
           "align": "left"
          },
          "hovermode": "closest",
          "mapbox": {
           "style": "light"
          },
          "paper_bgcolor": "white",
          "plot_bgcolor": "#E5ECF6",
          "polar": {
           "angularaxis": {
            "gridcolor": "white",
            "linecolor": "white",
            "ticks": ""
           },
           "bgcolor": "#E5ECF6",
           "radialaxis": {
            "gridcolor": "white",
            "linecolor": "white",
            "ticks": ""
           }
          },
          "scene": {
           "xaxis": {
            "backgroundcolor": "#E5ECF6",
            "gridcolor": "white",
            "gridwidth": 2,
            "linecolor": "white",
            "showbackground": true,
            "ticks": "",
            "zerolinecolor": "white"
           },
           "yaxis": {
            "backgroundcolor": "#E5ECF6",
            "gridcolor": "white",
            "gridwidth": 2,
            "linecolor": "white",
            "showbackground": true,
            "ticks": "",
            "zerolinecolor": "white"
           },
           "zaxis": {
            "backgroundcolor": "#E5ECF6",
            "gridcolor": "white",
            "gridwidth": 2,
            "linecolor": "white",
            "showbackground": true,
            "ticks": "",
            "zerolinecolor": "white"
           }
          },
          "shapedefaults": {
           "line": {
            "color": "#2a3f5f"
           }
          },
          "ternary": {
           "aaxis": {
            "gridcolor": "white",
            "linecolor": "white",
            "ticks": ""
           },
           "baxis": {
            "gridcolor": "white",
            "linecolor": "white",
            "ticks": ""
           },
           "bgcolor": "#E5ECF6",
           "caxis": {
            "gridcolor": "white",
            "linecolor": "white",
            "ticks": ""
           }
          },
          "title": {
           "x": 0.05
          },
          "xaxis": {
           "automargin": true,
           "gridcolor": "white",
           "linecolor": "white",
           "ticks": "",
           "title": {
            "standoff": 15
           },
           "zerolinecolor": "white",
           "zerolinewidth": 2
          },
          "yaxis": {
           "automargin": true,
           "gridcolor": "white",
           "linecolor": "white",
           "ticks": "",
           "title": {
            "standoff": 15
           },
           "zerolinecolor": "white",
           "zerolinewidth": 2
          }
         }
        },
        "xaxis": {
         "anchor": "y",
         "domain": [
          0,
          1
         ],
         "title": {
          "text": "Year"
         }
        },
        "yaxis": {
         "anchor": "x",
         "domain": [
          0,
          1
         ],
         "title": {
          "text": "value"
         }
        }
       }
      },
      "text/html": [
       "<div>\n",
       "        \n",
       "        \n",
       "            <div id=\"8c815b06-79e4-411a-963f-8e5352deef1f\" class=\"plotly-graph-div\" style=\"height:525px; width:100%;\"></div>\n",
       "            <script type=\"text/javascript\">\n",
       "                require([\"plotly\"], function(Plotly) {\n",
       "                    window.PLOTLYENV=window.PLOTLYENV || {};\n",
       "                    \n",
       "                if (document.getElementById(\"8c815b06-79e4-411a-963f-8e5352deef1f\")) {\n",
       "                    Plotly.newPlot(\n",
       "                        '8c815b06-79e4-411a-963f-8e5352deef1f',\n",
       "                        [{\"hovertemplate\": \"<b>%{hovertext}</b><br><br>variable=Capacity<br>Year=%{x}<br>value=%{y}<extra></extra>\", \"hovertext\": [\"Capacity\", \"Capacity\", \"Capacity\", \"Capacity\", \"Capacity\", \"Capacity\", \"Capacity\", \"Capacity\", \"Capacity\", \"Capacity\", \"Capacity\", \"Capacity\", \"Capacity\", \"Capacity\", \"Capacity\", \"Capacity\", \"Capacity\", \"Capacity\", \"Capacity\", \"Capacity\", \"Capacity\", \"Capacity\", \"Capacity\", \"Capacity\", \"Capacity\", \"Capacity\", \"Capacity\", \"Capacity\", \"Capacity\"], \"legendgroup\": \"\", \"line\": {\"color\": \"#636efa\", \"dash\": \"solid\"}, \"mode\": \"lines\", \"name\": \"\", \"orientation\": \"v\", \"showlegend\": false, \"type\": \"scatter\", \"x\": [1991, 1992, 1993, 1994, 1995, 1996, 1997, 1998, 1999, 2000, 2001, 2002, 2003, 2004, 2005, 2006, 2007, 2008, 2009, 2010, 2011, 2012, 2013, 2014, 2015, 2016, 2017, 2018, 2019], \"xaxis\": \"x\", \"y\": [28.319000000000003, 28.294, 28.084, null, null, 28.331999999999997, 29.239, 33.009, 33.09, 35.969, 40.037, 44.373000000000005, 46.398999999999994, 48.916000000000004, 49.763000000000005, 52.115, 52.504, 53.784, 55.019, 61.1, 73.45100000000001, 75.679, 75.797, 76.67699999999999, 78.42, 79.211, 80.227, 80.26, 80.156], \"yaxis\": \"y\"}, {\"hovertemplate\": \"<b>%{hovertext}</b><br><br>variable=Population<br>Year=%{x}<br>value=%{y}<extra></extra>\", \"hovertext\": [\"Population\", \"Population\", \"Population\", \"Population\", \"Population\", \"Population\", \"Population\", \"Population\", \"Population\", \"Population\", \"Population\", \"Population\", \"Population\", \"Population\", \"Population\", \"Population\", \"Population\", \"Population\", \"Population\", \"Population\", \"Population\", \"Population\", \"Population\", \"Population\", \"Population\", \"Population\", \"Population\", \"Population\", \"Population\"], \"legendgroup\": \"\", \"line\": {\"color\": \"#636efa\", \"dash\": \"solid\"}, \"mode\": \"lines\", \"name\": \"\", \"orientation\": \"v\", \"showlegend\": false, \"type\": \"scatter\", \"x\": [1991, 1992, 1993, 1994, 1995, 1996, 1997, 1998, 1999, 2000, 2001, 2002, 2003, 2004, 2005, 2006, 2007, 2008, 2009, 2010, 2011, 2012, 2013, 2014, 2015, 2016, 2017, 2018, 2019], \"xaxis\": \"x\", \"y\": [29.355, 27.016, 28.26, 29.338, 31.96, 38.063, 41.405, 43.25899999999999, 46.321999999999996, 49.816, 52.181000000000004, 51.276, 58.894, 66.47399999999999, 69.365, 62.906000000000006, 61.543, 67.812, 74.277, 81.095, 94.26700000000001, 109.822, 117.98700000000001, 117.73100000000001, 120.444, 118.53200000000001, 114.75, 118.51299999999999, 118.76899999999999], \"yaxis\": \"y\"}, {\"hovertemplate\": \"<b>%{hovertext}</b><br><br>variable=reoffenders<br>Year=%{x}<br>value=%{y}<extra></extra>\", \"hovertext\": [\"reoffenders\", \"reoffenders\", \"reoffenders\", \"reoffenders\", \"reoffenders\", \"reoffenders\", \"reoffenders\", \"reoffenders\", \"reoffenders\", \"reoffenders\", \"reoffenders\", \"reoffenders\", \"reoffenders\", \"reoffenders\", \"reoffenders\", \"reoffenders\", \"reoffenders\", \"reoffenders\", \"reoffenders\", \"reoffenders\", \"reoffenders\", \"reoffenders\", \"reoffenders\", \"reoffenders\", \"reoffenders\", \"reoffenders\", \"reoffenders\", \"reoffenders\", \"reoffenders\"], \"legendgroup\": \"\", \"line\": {\"color\": \"#636efa\", \"dash\": \"solid\"}, \"mode\": \"lines\", \"name\": \"\", \"orientation\": \"v\", \"showlegend\": false, \"type\": \"scatter\", \"x\": [1991, 1992, 1993, 1994, 1995, 1996, 1997, 1998, 1999, 2000, 2001, 2002, 2003, 2004, 2005, 2006, 2007, 2008, 2009, 2010, 2011, 2012, 2013, 2014, 2015, 2016, 2017, 2018, 2019], \"xaxis\": \"x\", \"y\": [null, null, null, null, null, null, null, null, null, null, null, null, null, null, null, null, null, null, null, 7.475, 9.584, 7.948, 8.972, 8.232, 10.211, 10.789, 11.133, 12.433, 13.382], \"yaxis\": \"y\"}],\n",
       "                        {\"legend\": {\"tracegroupgap\": 0}, \"margin\": {\"t\": 60}, \"template\": {\"data\": {\"bar\": [{\"error_x\": {\"color\": \"#2a3f5f\"}, \"error_y\": {\"color\": \"#2a3f5f\"}, \"marker\": {\"line\": {\"color\": \"#E5ECF6\", \"width\": 0.5}}, \"type\": \"bar\"}], \"barpolar\": [{\"marker\": {\"line\": {\"color\": \"#E5ECF6\", \"width\": 0.5}}, \"type\": \"barpolar\"}], \"carpet\": [{\"aaxis\": {\"endlinecolor\": \"#2a3f5f\", \"gridcolor\": \"white\", \"linecolor\": \"white\", \"minorgridcolor\": \"white\", \"startlinecolor\": \"#2a3f5f\"}, \"baxis\": {\"endlinecolor\": \"#2a3f5f\", \"gridcolor\": \"white\", \"linecolor\": \"white\", \"minorgridcolor\": \"white\", \"startlinecolor\": \"#2a3f5f\"}, \"type\": \"carpet\"}], \"choropleth\": [{\"colorbar\": {\"outlinewidth\": 0, \"ticks\": \"\"}, \"type\": \"choropleth\"}], \"contour\": [{\"colorbar\": {\"outlinewidth\": 0, \"ticks\": \"\"}, \"colorscale\": [[0.0, \"#0d0887\"], [0.1111111111111111, \"#46039f\"], [0.2222222222222222, \"#7201a8\"], [0.3333333333333333, \"#9c179e\"], [0.4444444444444444, \"#bd3786\"], [0.5555555555555556, \"#d8576b\"], [0.6666666666666666, \"#ed7953\"], [0.7777777777777778, \"#fb9f3a\"], [0.8888888888888888, \"#fdca26\"], [1.0, \"#f0f921\"]], \"type\": \"contour\"}], \"contourcarpet\": [{\"colorbar\": {\"outlinewidth\": 0, \"ticks\": \"\"}, \"type\": \"contourcarpet\"}], \"heatmap\": [{\"colorbar\": {\"outlinewidth\": 0, \"ticks\": \"\"}, \"colorscale\": [[0.0, \"#0d0887\"], [0.1111111111111111, \"#46039f\"], [0.2222222222222222, \"#7201a8\"], [0.3333333333333333, \"#9c179e\"], [0.4444444444444444, \"#bd3786\"], [0.5555555555555556, \"#d8576b\"], [0.6666666666666666, \"#ed7953\"], [0.7777777777777778, \"#fb9f3a\"], [0.8888888888888888, \"#fdca26\"], [1.0, \"#f0f921\"]], \"type\": \"heatmap\"}], \"heatmapgl\": [{\"colorbar\": {\"outlinewidth\": 0, \"ticks\": \"\"}, \"colorscale\": [[0.0, \"#0d0887\"], [0.1111111111111111, \"#46039f\"], [0.2222222222222222, \"#7201a8\"], [0.3333333333333333, \"#9c179e\"], [0.4444444444444444, \"#bd3786\"], [0.5555555555555556, \"#d8576b\"], [0.6666666666666666, \"#ed7953\"], [0.7777777777777778, \"#fb9f3a\"], [0.8888888888888888, \"#fdca26\"], [1.0, \"#f0f921\"]], \"type\": \"heatmapgl\"}], \"histogram\": [{\"marker\": {\"colorbar\": {\"outlinewidth\": 0, \"ticks\": \"\"}}, \"type\": \"histogram\"}], \"histogram2d\": [{\"colorbar\": {\"outlinewidth\": 0, \"ticks\": \"\"}, \"colorscale\": [[0.0, \"#0d0887\"], [0.1111111111111111, \"#46039f\"], [0.2222222222222222, \"#7201a8\"], [0.3333333333333333, \"#9c179e\"], [0.4444444444444444, \"#bd3786\"], [0.5555555555555556, \"#d8576b\"], [0.6666666666666666, \"#ed7953\"], [0.7777777777777778, \"#fb9f3a\"], [0.8888888888888888, \"#fdca26\"], [1.0, \"#f0f921\"]], \"type\": \"histogram2d\"}], \"histogram2dcontour\": [{\"colorbar\": {\"outlinewidth\": 0, \"ticks\": \"\"}, \"colorscale\": [[0.0, \"#0d0887\"], [0.1111111111111111, \"#46039f\"], [0.2222222222222222, \"#7201a8\"], [0.3333333333333333, \"#9c179e\"], [0.4444444444444444, \"#bd3786\"], [0.5555555555555556, \"#d8576b\"], [0.6666666666666666, \"#ed7953\"], [0.7777777777777778, \"#fb9f3a\"], [0.8888888888888888, \"#fdca26\"], [1.0, \"#f0f921\"]], \"type\": \"histogram2dcontour\"}], \"mesh3d\": [{\"colorbar\": {\"outlinewidth\": 0, \"ticks\": \"\"}, \"type\": \"mesh3d\"}], \"parcoords\": [{\"line\": {\"colorbar\": {\"outlinewidth\": 0, \"ticks\": \"\"}}, \"type\": \"parcoords\"}], \"pie\": [{\"automargin\": true, \"type\": \"pie\"}], \"scatter\": [{\"marker\": {\"colorbar\": {\"outlinewidth\": 0, \"ticks\": \"\"}}, \"type\": \"scatter\"}], \"scatter3d\": [{\"line\": {\"colorbar\": {\"outlinewidth\": 0, \"ticks\": \"\"}}, \"marker\": {\"colorbar\": {\"outlinewidth\": 0, \"ticks\": \"\"}}, \"type\": \"scatter3d\"}], \"scattercarpet\": [{\"marker\": {\"colorbar\": {\"outlinewidth\": 0, \"ticks\": \"\"}}, \"type\": \"scattercarpet\"}], \"scattergeo\": [{\"marker\": {\"colorbar\": {\"outlinewidth\": 0, \"ticks\": \"\"}}, \"type\": \"scattergeo\"}], \"scattergl\": [{\"marker\": {\"colorbar\": {\"outlinewidth\": 0, \"ticks\": \"\"}}, \"type\": \"scattergl\"}], \"scattermapbox\": [{\"marker\": {\"colorbar\": {\"outlinewidth\": 0, \"ticks\": \"\"}}, \"type\": \"scattermapbox\"}], \"scatterpolar\": [{\"marker\": {\"colorbar\": {\"outlinewidth\": 0, \"ticks\": \"\"}}, \"type\": \"scatterpolar\"}], \"scatterpolargl\": [{\"marker\": {\"colorbar\": {\"outlinewidth\": 0, \"ticks\": \"\"}}, \"type\": \"scatterpolargl\"}], \"scatterternary\": [{\"marker\": {\"colorbar\": {\"outlinewidth\": 0, \"ticks\": \"\"}}, \"type\": \"scatterternary\"}], \"surface\": [{\"colorbar\": {\"outlinewidth\": 0, \"ticks\": \"\"}, \"colorscale\": [[0.0, \"#0d0887\"], [0.1111111111111111, \"#46039f\"], [0.2222222222222222, \"#7201a8\"], [0.3333333333333333, \"#9c179e\"], [0.4444444444444444, \"#bd3786\"], [0.5555555555555556, \"#d8576b\"], [0.6666666666666666, \"#ed7953\"], [0.7777777777777778, \"#fb9f3a\"], [0.8888888888888888, \"#fdca26\"], [1.0, \"#f0f921\"]], \"type\": \"surface\"}], \"table\": [{\"cells\": {\"fill\": {\"color\": \"#EBF0F8\"}, \"line\": {\"color\": \"white\"}}, \"header\": {\"fill\": {\"color\": \"#C8D4E3\"}, \"line\": {\"color\": \"white\"}}, \"type\": \"table\"}]}, \"layout\": {\"annotationdefaults\": {\"arrowcolor\": \"#2a3f5f\", \"arrowhead\": 0, \"arrowwidth\": 1}, \"coloraxis\": {\"colorbar\": {\"outlinewidth\": 0, \"ticks\": \"\"}}, \"colorscale\": {\"diverging\": [[0, \"#8e0152\"], [0.1, \"#c51b7d\"], [0.2, \"#de77ae\"], [0.3, \"#f1b6da\"], [0.4, \"#fde0ef\"], [0.5, \"#f7f7f7\"], [0.6, \"#e6f5d0\"], [0.7, \"#b8e186\"], [0.8, \"#7fbc41\"], [0.9, \"#4d9221\"], [1, \"#276419\"]], \"sequential\": [[0.0, \"#0d0887\"], [0.1111111111111111, \"#46039f\"], [0.2222222222222222, \"#7201a8\"], [0.3333333333333333, \"#9c179e\"], [0.4444444444444444, \"#bd3786\"], [0.5555555555555556, \"#d8576b\"], [0.6666666666666666, \"#ed7953\"], [0.7777777777777778, \"#fb9f3a\"], [0.8888888888888888, \"#fdca26\"], [1.0, \"#f0f921\"]], \"sequentialminus\": [[0.0, \"#0d0887\"], [0.1111111111111111, \"#46039f\"], [0.2222222222222222, \"#7201a8\"], [0.3333333333333333, \"#9c179e\"], [0.4444444444444444, \"#bd3786\"], [0.5555555555555556, \"#d8576b\"], [0.6666666666666666, \"#ed7953\"], [0.7777777777777778, \"#fb9f3a\"], [0.8888888888888888, \"#fdca26\"], [1.0, \"#f0f921\"]]}, \"colorway\": [\"#636efa\", \"#EF553B\", \"#00cc96\", \"#ab63fa\", \"#FFA15A\", \"#19d3f3\", \"#FF6692\", \"#B6E880\", \"#FF97FF\", \"#FECB52\"], \"font\": {\"color\": \"#2a3f5f\"}, \"geo\": {\"bgcolor\": \"white\", \"lakecolor\": \"white\", \"landcolor\": \"#E5ECF6\", \"showlakes\": true, \"showland\": true, \"subunitcolor\": \"white\"}, \"hoverlabel\": {\"align\": \"left\"}, \"hovermode\": \"closest\", \"mapbox\": {\"style\": \"light\"}, \"paper_bgcolor\": \"white\", \"plot_bgcolor\": \"#E5ECF6\", \"polar\": {\"angularaxis\": {\"gridcolor\": \"white\", \"linecolor\": \"white\", \"ticks\": \"\"}, \"bgcolor\": \"#E5ECF6\", \"radialaxis\": {\"gridcolor\": \"white\", \"linecolor\": \"white\", \"ticks\": \"\"}}, \"scene\": {\"xaxis\": {\"backgroundcolor\": \"#E5ECF6\", \"gridcolor\": \"white\", \"gridwidth\": 2, \"linecolor\": \"white\", \"showbackground\": true, \"ticks\": \"\", \"zerolinecolor\": \"white\"}, \"yaxis\": {\"backgroundcolor\": \"#E5ECF6\", \"gridcolor\": \"white\", \"gridwidth\": 2, \"linecolor\": \"white\", \"showbackground\": true, \"ticks\": \"\", \"zerolinecolor\": \"white\"}, \"zaxis\": {\"backgroundcolor\": \"#E5ECF6\", \"gridcolor\": \"white\", \"gridwidth\": 2, \"linecolor\": \"white\", \"showbackground\": true, \"ticks\": \"\", \"zerolinecolor\": \"white\"}}, \"shapedefaults\": {\"line\": {\"color\": \"#2a3f5f\"}}, \"ternary\": {\"aaxis\": {\"gridcolor\": \"white\", \"linecolor\": \"white\", \"ticks\": \"\"}, \"baxis\": {\"gridcolor\": \"white\", \"linecolor\": \"white\", \"ticks\": \"\"}, \"bgcolor\": \"#E5ECF6\", \"caxis\": {\"gridcolor\": \"white\", \"linecolor\": \"white\", \"ticks\": \"\"}}, \"title\": {\"x\": 0.05}, \"xaxis\": {\"automargin\": true, \"gridcolor\": \"white\", \"linecolor\": \"white\", \"ticks\": \"\", \"title\": {\"standoff\": 15}, \"zerolinecolor\": \"white\", \"zerolinewidth\": 2}, \"yaxis\": {\"automargin\": true, \"gridcolor\": \"white\", \"linecolor\": \"white\", \"ticks\": \"\", \"title\": {\"standoff\": 15}, \"zerolinecolor\": \"white\", \"zerolinewidth\": 2}}}, \"xaxis\": {\"anchor\": \"y\", \"domain\": [0.0, 1.0], \"title\": {\"text\": \"Year\"}}, \"yaxis\": {\"anchor\": \"x\", \"domain\": [0.0, 1.0], \"title\": {\"text\": \"value\"}}},\n",
       "                        {\"responsive\": true}\n",
       "                    ).then(function(){\n",
       "                            \n",
       "var gd = document.getElementById('8c815b06-79e4-411a-963f-8e5352deef1f');\n",
       "var x = new MutationObserver(function (mutations, observer) {{\n",
       "        var display = window.getComputedStyle(gd).display;\n",
       "        if (!display || display === 'none') {{\n",
       "            console.log([gd, 'removed!']);\n",
       "            Plotly.purge(gd);\n",
       "            observer.disconnect();\n",
       "        }}\n",
       "}});\n",
       "\n",
       "// Listen for the removal of the full notebook cells\n",
       "var notebookContainer = gd.closest('#notebook-container');\n",
       "if (notebookContainer) {{\n",
       "    x.observe(notebookContainer, {childList: true});\n",
       "}}\n",
       "\n",
       "// Listen for the clearing of the current output cell\n",
       "var outputEl = gd.closest('.output');\n",
       "if (outputEl) {{\n",
       "    x.observe(outputEl, {childList: true});\n",
       "}}\n",
       "\n",
       "                        })\n",
       "                };\n",
       "                });\n",
       "            </script>\n",
       "        </div>"
      ]
     },
     "metadata": {},
     "output_type": "display_data"
    }
   ],
   "source": [
    "import plotly.express as px\n",
    "df = df_merge.reset_index()\n",
    "temp = pd.melt(df, id_vars=['Year'], value_vars=['Capacity', 'Population', 'reoffenders'])\n",
    "fig = px.line(temp, x=\"Year\", y=\"value\",line_group=\"variable\", hover_name=\"variable\")\n",
    "fig.show()"
   ]
  },
  {
   "cell_type": "code",
   "execution_count": 15,
   "metadata": {
    "ExecuteTime": {
     "end_time": "2020-07-20T20:32:36.801070Z",
     "start_time": "2020-07-20T20:32:36.768667Z"
    }
   },
   "outputs": [],
   "source": [
    "labels = ['Population', 'Capacity', 'reoffenders']\n",
    "x_data_temp =[]\n",
    "y_data_temp = []\n",
    "for i,var in enumerate(labels):\n",
    "    x_data_temp.append(temp[temp.variable==var]['Year'].values)\n",
    "    y_data_temp.append(temp[temp.variable==var]['value'].values)\n",
    "#Key data\n"
   ]
  },
  {
   "cell_type": "code",
   "execution_count": 90,
   "metadata": {
    "ExecuteTime": {
     "end_time": "2020-07-20T21:20:18.738074Z",
     "start_time": "2020-07-20T21:20:18.653030Z"
    },
    "code_folding": []
   },
   "outputs": [
    {
     "data": {
      "application/vnd.plotly.v1+json": {
       "config": {
        "plotlyServerURL": "https://plot.ly"
       },
       "data": [
        {
         "connectgaps": true,
         "line": {
          "color": "rgb(67,67,67)",
          "width": 3
         },
         "mode": "lines",
         "name": "Population",
         "type": "scatter",
         "x": [
          1991,
          1992,
          1993,
          1994,
          1995,
          1996,
          1997,
          1998,
          1999,
          2000,
          2001,
          2002,
          2003,
          2004,
          2005,
          2006,
          2007,
          2008,
          2009,
          2010,
          2011,
          2012,
          2013,
          2014,
          2015,
          2016,
          2017,
          2018,
          2019
         ],
         "y": [
          29.355,
          27.016,
          28.26,
          29.338,
          31.96,
          38.063,
          41.405,
          43.25899999999999,
          46.321999999999996,
          49.816,
          52.181000000000004,
          51.276,
          58.894,
          66.47399999999999,
          69.365,
          62.906000000000006,
          61.543,
          67.812,
          74.277,
          81.095,
          94.26700000000001,
          109.822,
          117.98700000000001,
          117.73100000000001,
          120.444,
          118.53200000000001,
          114.75,
          118.51299999999999,
          118.76899999999999
         ]
        },
        {
         "marker": {
          "color": "rgb(67,67,67)",
          "size": 10
         },
         "mode": "markers",
         "type": "scatter",
         "x": [
          1991,
          2019
         ],
         "y": [
          29.355,
          118.76899999999999
         ]
        },
        {
         "connectgaps": true,
         "line": {
          "color": "rgb(168, 50, 50)",
          "width": 3
         },
         "mode": "lines",
         "name": "Capacity",
         "type": "scatter",
         "x": [
          1991,
          1992,
          1993,
          1994,
          1995,
          1996,
          1997,
          1998,
          1999,
          2000,
          2001,
          2002,
          2003,
          2004,
          2005,
          2006,
          2007,
          2008,
          2009,
          2010,
          2011,
          2012,
          2013,
          2014,
          2015,
          2016,
          2017,
          2018,
          2019
         ],
         "y": [
          28.319000000000003,
          28.294,
          28.084,
          null,
          null,
          28.331999999999997,
          29.239,
          33.009,
          33.09,
          35.969,
          40.037,
          44.373000000000005,
          46.398999999999994,
          48.916000000000004,
          49.763000000000005,
          52.115,
          52.504,
          53.784,
          55.019,
          61.1,
          73.45100000000001,
          75.679,
          75.797,
          76.67699999999999,
          78.42,
          79.211,
          80.227,
          80.26,
          80.156
         ]
        },
        {
         "marker": {
          "color": "rgb(168, 50, 50)",
          "size": 10
         },
         "mode": "markers",
         "type": "scatter",
         "x": [
          1991,
          2019
         ],
         "y": [
          28.319000000000003,
          80.156
         ]
        },
        {
         "connectgaps": true,
         "line": {
          "color": "rgb(49,130,189)",
          "width": 5
         },
         "mode": "lines",
         "name": "Reoffenders",
         "type": "scatter",
         "x": [
          1991,
          1992,
          1993,
          1994,
          1995,
          1996,
          1997,
          1998,
          1999,
          2000,
          2001,
          2002,
          2003,
          2004,
          2005,
          2006,
          2007,
          2008,
          2009,
          2010,
          2011,
          2012,
          2013,
          2014,
          2015,
          2016,
          2017,
          2018,
          2019
         ],
         "y": [
          null,
          null,
          null,
          null,
          null,
          null,
          null,
          null,
          null,
          null,
          null,
          null,
          null,
          null,
          null,
          null,
          null,
          null,
          null,
          7.475,
          9.584,
          7.948,
          8.972,
          8.232,
          10.211,
          10.789,
          11.133,
          12.433,
          13.382
         ]
        },
        {
         "marker": {
          "color": "rgb(49,130,189)",
          "size": 10
         },
         "mode": "markers",
         "type": "scatter",
         "x": [
          1991,
          2019
         ],
         "y": [
          null,
          13.382
         ]
        }
       ],
       "layout": {
        "annotations": [
         {
          "font": {
           "family": "Work Sans",
           "size": 14.5
          },
          "showarrow": false,
          "text": "Population: 118k, (149%)",
          "x": 0.75,
          "xanchor": "left",
          "xref": "paper",
          "y": 118.76899999999999,
          "yanchor": "bottom"
         },
         {
          "font": {
           "family": "Work Sans",
           "size": 14.5
          },
          "showarrow": false,
          "text": "Capacity: 80k, (100%)",
          "x": 0.75,
          "xanchor": "left",
          "xref": "paper",
          "y": 80.156,
          "yanchor": "bottom"
         },
         {
          "font": {
           "family": "Work Sans",
           "size": 14.5
          },
          "showarrow": false,
          "text": "Reoffenders: 13k, (11%)",
          "x": 0.75,
          "xanchor": "left",
          "xref": "paper",
          "y": 13.382,
          "yanchor": "bottom"
         },
         {
          "font": {
           "color": "rgb(37,37,37)",
           "family": "Work Sans",
           "size": 25
          },
          "showarrow": false,
          "text": "Jail Population in Colombia",
          "x": 0.3,
          "xanchor": "left",
          "xref": "paper",
          "y": 1,
          "yanchor": "bottom",
          "yref": "paper"
         },
         {
          "font": {
           "color": "rgb(150,150,150)",
           "family": "Work Sans",
           "size": 12
          },
          "showarrow": false,
          "text": "Source: INPEC & datos.gov.co",
          "x": 0.5,
          "xanchor": "center",
          "xref": "paper",
          "y": -0.1,
          "yanchor": "top",
          "yref": "paper"
         }
        ],
        "autosize": true,
        "margin": {
         "autoexpand": true,
         "l": 100,
         "r": 20,
         "t": 110
        },
        "plot_bgcolor": "white",
        "showlegend": false,
        "template": {
         "data": {
          "bar": [
           {
            "error_x": {
             "color": "#2a3f5f"
            },
            "error_y": {
             "color": "#2a3f5f"
            },
            "marker": {
             "line": {
              "color": "#E5ECF6",
              "width": 0.5
             }
            },
            "type": "bar"
           }
          ],
          "barpolar": [
           {
            "marker": {
             "line": {
              "color": "#E5ECF6",
              "width": 0.5
             }
            },
            "type": "barpolar"
           }
          ],
          "carpet": [
           {
            "aaxis": {
             "endlinecolor": "#2a3f5f",
             "gridcolor": "white",
             "linecolor": "white",
             "minorgridcolor": "white",
             "startlinecolor": "#2a3f5f"
            },
            "baxis": {
             "endlinecolor": "#2a3f5f",
             "gridcolor": "white",
             "linecolor": "white",
             "minorgridcolor": "white",
             "startlinecolor": "#2a3f5f"
            },
            "type": "carpet"
           }
          ],
          "choropleth": [
           {
            "colorbar": {
             "outlinewidth": 0,
             "ticks": ""
            },
            "type": "choropleth"
           }
          ],
          "contour": [
           {
            "colorbar": {
             "outlinewidth": 0,
             "ticks": ""
            },
            "colorscale": [
             [
              0,
              "#0d0887"
             ],
             [
              0.1111111111111111,
              "#46039f"
             ],
             [
              0.2222222222222222,
              "#7201a8"
             ],
             [
              0.3333333333333333,
              "#9c179e"
             ],
             [
              0.4444444444444444,
              "#bd3786"
             ],
             [
              0.5555555555555556,
              "#d8576b"
             ],
             [
              0.6666666666666666,
              "#ed7953"
             ],
             [
              0.7777777777777778,
              "#fb9f3a"
             ],
             [
              0.8888888888888888,
              "#fdca26"
             ],
             [
              1,
              "#f0f921"
             ]
            ],
            "type": "contour"
           }
          ],
          "contourcarpet": [
           {
            "colorbar": {
             "outlinewidth": 0,
             "ticks": ""
            },
            "type": "contourcarpet"
           }
          ],
          "heatmap": [
           {
            "colorbar": {
             "outlinewidth": 0,
             "ticks": ""
            },
            "colorscale": [
             [
              0,
              "#0d0887"
             ],
             [
              0.1111111111111111,
              "#46039f"
             ],
             [
              0.2222222222222222,
              "#7201a8"
             ],
             [
              0.3333333333333333,
              "#9c179e"
             ],
             [
              0.4444444444444444,
              "#bd3786"
             ],
             [
              0.5555555555555556,
              "#d8576b"
             ],
             [
              0.6666666666666666,
              "#ed7953"
             ],
             [
              0.7777777777777778,
              "#fb9f3a"
             ],
             [
              0.8888888888888888,
              "#fdca26"
             ],
             [
              1,
              "#f0f921"
             ]
            ],
            "type": "heatmap"
           }
          ],
          "heatmapgl": [
           {
            "colorbar": {
             "outlinewidth": 0,
             "ticks": ""
            },
            "colorscale": [
             [
              0,
              "#0d0887"
             ],
             [
              0.1111111111111111,
              "#46039f"
             ],
             [
              0.2222222222222222,
              "#7201a8"
             ],
             [
              0.3333333333333333,
              "#9c179e"
             ],
             [
              0.4444444444444444,
              "#bd3786"
             ],
             [
              0.5555555555555556,
              "#d8576b"
             ],
             [
              0.6666666666666666,
              "#ed7953"
             ],
             [
              0.7777777777777778,
              "#fb9f3a"
             ],
             [
              0.8888888888888888,
              "#fdca26"
             ],
             [
              1,
              "#f0f921"
             ]
            ],
            "type": "heatmapgl"
           }
          ],
          "histogram": [
           {
            "marker": {
             "colorbar": {
              "outlinewidth": 0,
              "ticks": ""
             }
            },
            "type": "histogram"
           }
          ],
          "histogram2d": [
           {
            "colorbar": {
             "outlinewidth": 0,
             "ticks": ""
            },
            "colorscale": [
             [
              0,
              "#0d0887"
             ],
             [
              0.1111111111111111,
              "#46039f"
             ],
             [
              0.2222222222222222,
              "#7201a8"
             ],
             [
              0.3333333333333333,
              "#9c179e"
             ],
             [
              0.4444444444444444,
              "#bd3786"
             ],
             [
              0.5555555555555556,
              "#d8576b"
             ],
             [
              0.6666666666666666,
              "#ed7953"
             ],
             [
              0.7777777777777778,
              "#fb9f3a"
             ],
             [
              0.8888888888888888,
              "#fdca26"
             ],
             [
              1,
              "#f0f921"
             ]
            ],
            "type": "histogram2d"
           }
          ],
          "histogram2dcontour": [
           {
            "colorbar": {
             "outlinewidth": 0,
             "ticks": ""
            },
            "colorscale": [
             [
              0,
              "#0d0887"
             ],
             [
              0.1111111111111111,
              "#46039f"
             ],
             [
              0.2222222222222222,
              "#7201a8"
             ],
             [
              0.3333333333333333,
              "#9c179e"
             ],
             [
              0.4444444444444444,
              "#bd3786"
             ],
             [
              0.5555555555555556,
              "#d8576b"
             ],
             [
              0.6666666666666666,
              "#ed7953"
             ],
             [
              0.7777777777777778,
              "#fb9f3a"
             ],
             [
              0.8888888888888888,
              "#fdca26"
             ],
             [
              1,
              "#f0f921"
             ]
            ],
            "type": "histogram2dcontour"
           }
          ],
          "mesh3d": [
           {
            "colorbar": {
             "outlinewidth": 0,
             "ticks": ""
            },
            "type": "mesh3d"
           }
          ],
          "parcoords": [
           {
            "line": {
             "colorbar": {
              "outlinewidth": 0,
              "ticks": ""
             }
            },
            "type": "parcoords"
           }
          ],
          "pie": [
           {
            "automargin": true,
            "type": "pie"
           }
          ],
          "scatter": [
           {
            "marker": {
             "colorbar": {
              "outlinewidth": 0,
              "ticks": ""
             }
            },
            "type": "scatter"
           }
          ],
          "scatter3d": [
           {
            "line": {
             "colorbar": {
              "outlinewidth": 0,
              "ticks": ""
             }
            },
            "marker": {
             "colorbar": {
              "outlinewidth": 0,
              "ticks": ""
             }
            },
            "type": "scatter3d"
           }
          ],
          "scattercarpet": [
           {
            "marker": {
             "colorbar": {
              "outlinewidth": 0,
              "ticks": ""
             }
            },
            "type": "scattercarpet"
           }
          ],
          "scattergeo": [
           {
            "marker": {
             "colorbar": {
              "outlinewidth": 0,
              "ticks": ""
             }
            },
            "type": "scattergeo"
           }
          ],
          "scattergl": [
           {
            "marker": {
             "colorbar": {
              "outlinewidth": 0,
              "ticks": ""
             }
            },
            "type": "scattergl"
           }
          ],
          "scattermapbox": [
           {
            "marker": {
             "colorbar": {
              "outlinewidth": 0,
              "ticks": ""
             }
            },
            "type": "scattermapbox"
           }
          ],
          "scatterpolar": [
           {
            "marker": {
             "colorbar": {
              "outlinewidth": 0,
              "ticks": ""
             }
            },
            "type": "scatterpolar"
           }
          ],
          "scatterpolargl": [
           {
            "marker": {
             "colorbar": {
              "outlinewidth": 0,
              "ticks": ""
             }
            },
            "type": "scatterpolargl"
           }
          ],
          "scatterternary": [
           {
            "marker": {
             "colorbar": {
              "outlinewidth": 0,
              "ticks": ""
             }
            },
            "type": "scatterternary"
           }
          ],
          "surface": [
           {
            "colorbar": {
             "outlinewidth": 0,
             "ticks": ""
            },
            "colorscale": [
             [
              0,
              "#0d0887"
             ],
             [
              0.1111111111111111,
              "#46039f"
             ],
             [
              0.2222222222222222,
              "#7201a8"
             ],
             [
              0.3333333333333333,
              "#9c179e"
             ],
             [
              0.4444444444444444,
              "#bd3786"
             ],
             [
              0.5555555555555556,
              "#d8576b"
             ],
             [
              0.6666666666666666,
              "#ed7953"
             ],
             [
              0.7777777777777778,
              "#fb9f3a"
             ],
             [
              0.8888888888888888,
              "#fdca26"
             ],
             [
              1,
              "#f0f921"
             ]
            ],
            "type": "surface"
           }
          ],
          "table": [
           {
            "cells": {
             "fill": {
              "color": "#EBF0F8"
             },
             "line": {
              "color": "white"
             }
            },
            "header": {
             "fill": {
              "color": "#C8D4E3"
             },
             "line": {
              "color": "white"
             }
            },
            "type": "table"
           }
          ]
         },
         "layout": {
          "annotationdefaults": {
           "arrowcolor": "#2a3f5f",
           "arrowhead": 0,
           "arrowwidth": 1
          },
          "coloraxis": {
           "colorbar": {
            "outlinewidth": 0,
            "ticks": ""
           }
          },
          "colorscale": {
           "diverging": [
            [
             0,
             "#8e0152"
            ],
            [
             0.1,
             "#c51b7d"
            ],
            [
             0.2,
             "#de77ae"
            ],
            [
             0.3,
             "#f1b6da"
            ],
            [
             0.4,
             "#fde0ef"
            ],
            [
             0.5,
             "#f7f7f7"
            ],
            [
             0.6,
             "#e6f5d0"
            ],
            [
             0.7,
             "#b8e186"
            ],
            [
             0.8,
             "#7fbc41"
            ],
            [
             0.9,
             "#4d9221"
            ],
            [
             1,
             "#276419"
            ]
           ],
           "sequential": [
            [
             0,
             "#0d0887"
            ],
            [
             0.1111111111111111,
             "#46039f"
            ],
            [
             0.2222222222222222,
             "#7201a8"
            ],
            [
             0.3333333333333333,
             "#9c179e"
            ],
            [
             0.4444444444444444,
             "#bd3786"
            ],
            [
             0.5555555555555556,
             "#d8576b"
            ],
            [
             0.6666666666666666,
             "#ed7953"
            ],
            [
             0.7777777777777778,
             "#fb9f3a"
            ],
            [
             0.8888888888888888,
             "#fdca26"
            ],
            [
             1,
             "#f0f921"
            ]
           ],
           "sequentialminus": [
            [
             0,
             "#0d0887"
            ],
            [
             0.1111111111111111,
             "#46039f"
            ],
            [
             0.2222222222222222,
             "#7201a8"
            ],
            [
             0.3333333333333333,
             "#9c179e"
            ],
            [
             0.4444444444444444,
             "#bd3786"
            ],
            [
             0.5555555555555556,
             "#d8576b"
            ],
            [
             0.6666666666666666,
             "#ed7953"
            ],
            [
             0.7777777777777778,
             "#fb9f3a"
            ],
            [
             0.8888888888888888,
             "#fdca26"
            ],
            [
             1,
             "#f0f921"
            ]
           ]
          },
          "colorway": [
           "#636efa",
           "#EF553B",
           "#00cc96",
           "#ab63fa",
           "#FFA15A",
           "#19d3f3",
           "#FF6692",
           "#B6E880",
           "#FF97FF",
           "#FECB52"
          ],
          "font": {
           "color": "#2a3f5f"
          },
          "geo": {
           "bgcolor": "white",
           "lakecolor": "white",
           "landcolor": "#E5ECF6",
           "showlakes": true,
           "showland": true,
           "subunitcolor": "white"
          },
          "hoverlabel": {
           "align": "left"
          },
          "hovermode": "closest",
          "mapbox": {
           "style": "light"
          },
          "paper_bgcolor": "white",
          "plot_bgcolor": "#E5ECF6",
          "polar": {
           "angularaxis": {
            "gridcolor": "white",
            "linecolor": "white",
            "ticks": ""
           },
           "bgcolor": "#E5ECF6",
           "radialaxis": {
            "gridcolor": "white",
            "linecolor": "white",
            "ticks": ""
           }
          },
          "scene": {
           "xaxis": {
            "backgroundcolor": "#E5ECF6",
            "gridcolor": "white",
            "gridwidth": 2,
            "linecolor": "white",
            "showbackground": true,
            "ticks": "",
            "zerolinecolor": "white"
           },
           "yaxis": {
            "backgroundcolor": "#E5ECF6",
            "gridcolor": "white",
            "gridwidth": 2,
            "linecolor": "white",
            "showbackground": true,
            "ticks": "",
            "zerolinecolor": "white"
           },
           "zaxis": {
            "backgroundcolor": "#E5ECF6",
            "gridcolor": "white",
            "gridwidth": 2,
            "linecolor": "white",
            "showbackground": true,
            "ticks": "",
            "zerolinecolor": "white"
           }
          },
          "shapedefaults": {
           "line": {
            "color": "#2a3f5f"
           }
          },
          "ternary": {
           "aaxis": {
            "gridcolor": "white",
            "linecolor": "white",
            "ticks": ""
           },
           "baxis": {
            "gridcolor": "white",
            "linecolor": "white",
            "ticks": ""
           },
           "bgcolor": "#E5ECF6",
           "caxis": {
            "gridcolor": "white",
            "linecolor": "white",
            "ticks": ""
           }
          },
          "title": {
           "x": 0.05
          },
          "xaxis": {
           "automargin": true,
           "gridcolor": "white",
           "linecolor": "white",
           "ticks": "",
           "title": {
            "standoff": 15
           },
           "zerolinecolor": "white",
           "zerolinewidth": 2
          },
          "yaxis": {
           "automargin": true,
           "gridcolor": "white",
           "linecolor": "white",
           "ticks": "",
           "title": {
            "standoff": 15
           },
           "zerolinecolor": "white",
           "zerolinewidth": 2
          }
         }
        },
        "xaxis": {
         "linecolor": "rgb(204, 204, 204)",
         "linewidth": 2,
         "showgrid": false,
         "showline": true,
         "showticklabels": true,
         "tickfont": {
          "color": "rgb(82, 82, 82)",
          "family": "Arial",
          "size": 11
         },
         "ticks": "outside"
        },
        "yaxis": {
         "showgrid": false,
         "showline": false,
         "showticklabels": true,
         "zeroline": false
        }
       }
      },
      "text/html": [
       "<div>\n",
       "        \n",
       "        \n",
       "            <div id=\"32c71702-70a8-452a-90e7-4dbeba8bde5f\" class=\"plotly-graph-div\" style=\"height:525px; width:100%;\"></div>\n",
       "            <script type=\"text/javascript\">\n",
       "                require([\"plotly\"], function(Plotly) {\n",
       "                    window.PLOTLYENV=window.PLOTLYENV || {};\n",
       "                    \n",
       "                if (document.getElementById(\"32c71702-70a8-452a-90e7-4dbeba8bde5f\")) {\n",
       "                    Plotly.newPlot(\n",
       "                        '32c71702-70a8-452a-90e7-4dbeba8bde5f',\n",
       "                        [{\"connectgaps\": true, \"line\": {\"color\": \"rgb(67,67,67)\", \"width\": 3}, \"mode\": \"lines\", \"name\": \"Population\", \"type\": \"scatter\", \"x\": [1991, 1992, 1993, 1994, 1995, 1996, 1997, 1998, 1999, 2000, 2001, 2002, 2003, 2004, 2005, 2006, 2007, 2008, 2009, 2010, 2011, 2012, 2013, 2014, 2015, 2016, 2017, 2018, 2019], \"y\": [29.355, 27.016, 28.26, 29.338, 31.96, 38.063, 41.405, 43.25899999999999, 46.321999999999996, 49.816, 52.181000000000004, 51.276, 58.894, 66.47399999999999, 69.365, 62.906000000000006, 61.543, 67.812, 74.277, 81.095, 94.26700000000001, 109.822, 117.98700000000001, 117.73100000000001, 120.444, 118.53200000000001, 114.75, 118.51299999999999, 118.76899999999999]}, {\"marker\": {\"color\": \"rgb(67,67,67)\", \"size\": 10}, \"mode\": \"markers\", \"type\": \"scatter\", \"x\": [1991, 2019], \"y\": [29.355, 118.76899999999999]}, {\"connectgaps\": true, \"line\": {\"color\": \"rgb(168, 50, 50)\", \"width\": 3}, \"mode\": \"lines\", \"name\": \"Capacity\", \"type\": \"scatter\", \"x\": [1991, 1992, 1993, 1994, 1995, 1996, 1997, 1998, 1999, 2000, 2001, 2002, 2003, 2004, 2005, 2006, 2007, 2008, 2009, 2010, 2011, 2012, 2013, 2014, 2015, 2016, 2017, 2018, 2019], \"y\": [28.319000000000003, 28.294, 28.084, null, null, 28.331999999999997, 29.239, 33.009, 33.09, 35.969, 40.037, 44.373000000000005, 46.398999999999994, 48.916000000000004, 49.763000000000005, 52.115, 52.504, 53.784, 55.019, 61.1, 73.45100000000001, 75.679, 75.797, 76.67699999999999, 78.42, 79.211, 80.227, 80.26, 80.156]}, {\"marker\": {\"color\": \"rgb(168, 50, 50)\", \"size\": 10}, \"mode\": \"markers\", \"type\": \"scatter\", \"x\": [1991, 2019], \"y\": [28.319000000000003, 80.156]}, {\"connectgaps\": true, \"line\": {\"color\": \"rgb(49,130,189)\", \"width\": 5}, \"mode\": \"lines\", \"name\": \"Reoffenders\", \"type\": \"scatter\", \"x\": [1991, 1992, 1993, 1994, 1995, 1996, 1997, 1998, 1999, 2000, 2001, 2002, 2003, 2004, 2005, 2006, 2007, 2008, 2009, 2010, 2011, 2012, 2013, 2014, 2015, 2016, 2017, 2018, 2019], \"y\": [null, null, null, null, null, null, null, null, null, null, null, null, null, null, null, null, null, null, null, 7.475, 9.584, 7.948, 8.972, 8.232, 10.211, 10.789, 11.133, 12.433, 13.382]}, {\"marker\": {\"color\": \"rgb(49,130,189)\", \"size\": 10}, \"mode\": \"markers\", \"type\": \"scatter\", \"x\": [1991, 2019], \"y\": [null, 13.382]}],\n",
       "                        {\"annotations\": [{\"font\": {\"family\": \"Work Sans\", \"size\": 14.5}, \"showarrow\": false, \"text\": \"Population: 118k, (149%)\", \"x\": 0.75, \"xanchor\": \"left\", \"xref\": \"paper\", \"y\": 118.76899999999999, \"yanchor\": \"bottom\"}, {\"font\": {\"family\": \"Work Sans\", \"size\": 14.5}, \"showarrow\": false, \"text\": \"Capacity: 80k, (100%)\", \"x\": 0.75, \"xanchor\": \"left\", \"xref\": \"paper\", \"y\": 80.156, \"yanchor\": \"bottom\"}, {\"font\": {\"family\": \"Work Sans\", \"size\": 14.5}, \"showarrow\": false, \"text\": \"Reoffenders: 13k, (11%)\", \"x\": 0.75, \"xanchor\": \"left\", \"xref\": \"paper\", \"y\": 13.382, \"yanchor\": \"bottom\"}, {\"font\": {\"color\": \"rgb(37,37,37)\", \"family\": \"Work Sans\", \"size\": 25}, \"showarrow\": false, \"text\": \"Jail Population in Colombia\", \"x\": 0.3, \"xanchor\": \"left\", \"xref\": \"paper\", \"y\": 1, \"yanchor\": \"bottom\", \"yref\": \"paper\"}, {\"font\": {\"color\": \"rgb(150,150,150)\", \"family\": \"Work Sans\", \"size\": 12}, \"showarrow\": false, \"text\": \"Source: INPEC & datos.gov.co\", \"x\": 0.5, \"xanchor\": \"center\", \"xref\": \"paper\", \"y\": -0.1, \"yanchor\": \"top\", \"yref\": \"paper\"}], \"autosize\": true, \"margin\": {\"autoexpand\": true, \"l\": 100, \"r\": 20, \"t\": 110}, \"plot_bgcolor\": \"white\", \"showlegend\": false, \"template\": {\"data\": {\"bar\": [{\"error_x\": {\"color\": \"#2a3f5f\"}, \"error_y\": {\"color\": \"#2a3f5f\"}, \"marker\": {\"line\": {\"color\": \"#E5ECF6\", \"width\": 0.5}}, \"type\": \"bar\"}], \"barpolar\": [{\"marker\": {\"line\": {\"color\": \"#E5ECF6\", \"width\": 0.5}}, \"type\": \"barpolar\"}], \"carpet\": [{\"aaxis\": {\"endlinecolor\": \"#2a3f5f\", \"gridcolor\": \"white\", \"linecolor\": \"white\", \"minorgridcolor\": \"white\", \"startlinecolor\": \"#2a3f5f\"}, \"baxis\": {\"endlinecolor\": \"#2a3f5f\", \"gridcolor\": \"white\", \"linecolor\": \"white\", \"minorgridcolor\": \"white\", \"startlinecolor\": \"#2a3f5f\"}, \"type\": \"carpet\"}], \"choropleth\": [{\"colorbar\": {\"outlinewidth\": 0, \"ticks\": \"\"}, \"type\": \"choropleth\"}], \"contour\": [{\"colorbar\": {\"outlinewidth\": 0, \"ticks\": \"\"}, \"colorscale\": [[0.0, \"#0d0887\"], [0.1111111111111111, \"#46039f\"], [0.2222222222222222, \"#7201a8\"], [0.3333333333333333, \"#9c179e\"], [0.4444444444444444, \"#bd3786\"], [0.5555555555555556, \"#d8576b\"], [0.6666666666666666, \"#ed7953\"], [0.7777777777777778, \"#fb9f3a\"], [0.8888888888888888, \"#fdca26\"], [1.0, \"#f0f921\"]], \"type\": \"contour\"}], \"contourcarpet\": [{\"colorbar\": {\"outlinewidth\": 0, \"ticks\": \"\"}, \"type\": \"contourcarpet\"}], \"heatmap\": [{\"colorbar\": {\"outlinewidth\": 0, \"ticks\": \"\"}, \"colorscale\": [[0.0, \"#0d0887\"], [0.1111111111111111, \"#46039f\"], [0.2222222222222222, \"#7201a8\"], [0.3333333333333333, \"#9c179e\"], [0.4444444444444444, \"#bd3786\"], [0.5555555555555556, \"#d8576b\"], [0.6666666666666666, \"#ed7953\"], [0.7777777777777778, \"#fb9f3a\"], [0.8888888888888888, \"#fdca26\"], [1.0, \"#f0f921\"]], \"type\": \"heatmap\"}], \"heatmapgl\": [{\"colorbar\": {\"outlinewidth\": 0, \"ticks\": \"\"}, \"colorscale\": [[0.0, \"#0d0887\"], [0.1111111111111111, \"#46039f\"], [0.2222222222222222, \"#7201a8\"], [0.3333333333333333, \"#9c179e\"], [0.4444444444444444, \"#bd3786\"], [0.5555555555555556, \"#d8576b\"], [0.6666666666666666, \"#ed7953\"], [0.7777777777777778, \"#fb9f3a\"], [0.8888888888888888, \"#fdca26\"], [1.0, \"#f0f921\"]], \"type\": \"heatmapgl\"}], \"histogram\": [{\"marker\": {\"colorbar\": {\"outlinewidth\": 0, \"ticks\": \"\"}}, \"type\": \"histogram\"}], \"histogram2d\": [{\"colorbar\": {\"outlinewidth\": 0, \"ticks\": \"\"}, \"colorscale\": [[0.0, \"#0d0887\"], [0.1111111111111111, \"#46039f\"], [0.2222222222222222, \"#7201a8\"], [0.3333333333333333, \"#9c179e\"], [0.4444444444444444, \"#bd3786\"], [0.5555555555555556, \"#d8576b\"], [0.6666666666666666, \"#ed7953\"], [0.7777777777777778, \"#fb9f3a\"], [0.8888888888888888, \"#fdca26\"], [1.0, \"#f0f921\"]], \"type\": \"histogram2d\"}], \"histogram2dcontour\": [{\"colorbar\": {\"outlinewidth\": 0, \"ticks\": \"\"}, \"colorscale\": [[0.0, \"#0d0887\"], [0.1111111111111111, \"#46039f\"], [0.2222222222222222, \"#7201a8\"], [0.3333333333333333, \"#9c179e\"], [0.4444444444444444, \"#bd3786\"], [0.5555555555555556, \"#d8576b\"], [0.6666666666666666, \"#ed7953\"], [0.7777777777777778, \"#fb9f3a\"], [0.8888888888888888, \"#fdca26\"], [1.0, \"#f0f921\"]], \"type\": \"histogram2dcontour\"}], \"mesh3d\": [{\"colorbar\": {\"outlinewidth\": 0, \"ticks\": \"\"}, \"type\": \"mesh3d\"}], \"parcoords\": [{\"line\": {\"colorbar\": {\"outlinewidth\": 0, \"ticks\": \"\"}}, \"type\": \"parcoords\"}], \"pie\": [{\"automargin\": true, \"type\": \"pie\"}], \"scatter\": [{\"marker\": {\"colorbar\": {\"outlinewidth\": 0, \"ticks\": \"\"}}, \"type\": \"scatter\"}], \"scatter3d\": [{\"line\": {\"colorbar\": {\"outlinewidth\": 0, \"ticks\": \"\"}}, \"marker\": {\"colorbar\": {\"outlinewidth\": 0, \"ticks\": \"\"}}, \"type\": \"scatter3d\"}], \"scattercarpet\": [{\"marker\": {\"colorbar\": {\"outlinewidth\": 0, \"ticks\": \"\"}}, \"type\": \"scattercarpet\"}], \"scattergeo\": [{\"marker\": {\"colorbar\": {\"outlinewidth\": 0, \"ticks\": \"\"}}, \"type\": \"scattergeo\"}], \"scattergl\": [{\"marker\": {\"colorbar\": {\"outlinewidth\": 0, \"ticks\": \"\"}}, \"type\": \"scattergl\"}], \"scattermapbox\": [{\"marker\": {\"colorbar\": {\"outlinewidth\": 0, \"ticks\": \"\"}}, \"type\": \"scattermapbox\"}], \"scatterpolar\": [{\"marker\": {\"colorbar\": {\"outlinewidth\": 0, \"ticks\": \"\"}}, \"type\": \"scatterpolar\"}], \"scatterpolargl\": [{\"marker\": {\"colorbar\": {\"outlinewidth\": 0, \"ticks\": \"\"}}, \"type\": \"scatterpolargl\"}], \"scatterternary\": [{\"marker\": {\"colorbar\": {\"outlinewidth\": 0, \"ticks\": \"\"}}, \"type\": \"scatterternary\"}], \"surface\": [{\"colorbar\": {\"outlinewidth\": 0, \"ticks\": \"\"}, \"colorscale\": [[0.0, \"#0d0887\"], [0.1111111111111111, \"#46039f\"], [0.2222222222222222, \"#7201a8\"], [0.3333333333333333, \"#9c179e\"], [0.4444444444444444, \"#bd3786\"], [0.5555555555555556, \"#d8576b\"], [0.6666666666666666, \"#ed7953\"], [0.7777777777777778, \"#fb9f3a\"], [0.8888888888888888, \"#fdca26\"], [1.0, \"#f0f921\"]], \"type\": \"surface\"}], \"table\": [{\"cells\": {\"fill\": {\"color\": \"#EBF0F8\"}, \"line\": {\"color\": \"white\"}}, \"header\": {\"fill\": {\"color\": \"#C8D4E3\"}, \"line\": {\"color\": \"white\"}}, \"type\": \"table\"}]}, \"layout\": {\"annotationdefaults\": {\"arrowcolor\": \"#2a3f5f\", \"arrowhead\": 0, \"arrowwidth\": 1}, \"coloraxis\": {\"colorbar\": {\"outlinewidth\": 0, \"ticks\": \"\"}}, \"colorscale\": {\"diverging\": [[0, \"#8e0152\"], [0.1, \"#c51b7d\"], [0.2, \"#de77ae\"], [0.3, \"#f1b6da\"], [0.4, \"#fde0ef\"], [0.5, \"#f7f7f7\"], [0.6, \"#e6f5d0\"], [0.7, \"#b8e186\"], [0.8, \"#7fbc41\"], [0.9, \"#4d9221\"], [1, \"#276419\"]], \"sequential\": [[0.0, \"#0d0887\"], [0.1111111111111111, \"#46039f\"], [0.2222222222222222, \"#7201a8\"], [0.3333333333333333, \"#9c179e\"], [0.4444444444444444, \"#bd3786\"], [0.5555555555555556, \"#d8576b\"], [0.6666666666666666, \"#ed7953\"], [0.7777777777777778, \"#fb9f3a\"], [0.8888888888888888, \"#fdca26\"], [1.0, \"#f0f921\"]], \"sequentialminus\": [[0.0, \"#0d0887\"], [0.1111111111111111, \"#46039f\"], [0.2222222222222222, \"#7201a8\"], [0.3333333333333333, \"#9c179e\"], [0.4444444444444444, \"#bd3786\"], [0.5555555555555556, \"#d8576b\"], [0.6666666666666666, \"#ed7953\"], [0.7777777777777778, \"#fb9f3a\"], [0.8888888888888888, \"#fdca26\"], [1.0, \"#f0f921\"]]}, \"colorway\": [\"#636efa\", \"#EF553B\", \"#00cc96\", \"#ab63fa\", \"#FFA15A\", \"#19d3f3\", \"#FF6692\", \"#B6E880\", \"#FF97FF\", \"#FECB52\"], \"font\": {\"color\": \"#2a3f5f\"}, \"geo\": {\"bgcolor\": \"white\", \"lakecolor\": \"white\", \"landcolor\": \"#E5ECF6\", \"showlakes\": true, \"showland\": true, \"subunitcolor\": \"white\"}, \"hoverlabel\": {\"align\": \"left\"}, \"hovermode\": \"closest\", \"mapbox\": {\"style\": \"light\"}, \"paper_bgcolor\": \"white\", \"plot_bgcolor\": \"#E5ECF6\", \"polar\": {\"angularaxis\": {\"gridcolor\": \"white\", \"linecolor\": \"white\", \"ticks\": \"\"}, \"bgcolor\": \"#E5ECF6\", \"radialaxis\": {\"gridcolor\": \"white\", \"linecolor\": \"white\", \"ticks\": \"\"}}, \"scene\": {\"xaxis\": {\"backgroundcolor\": \"#E5ECF6\", \"gridcolor\": \"white\", \"gridwidth\": 2, \"linecolor\": \"white\", \"showbackground\": true, \"ticks\": \"\", \"zerolinecolor\": \"white\"}, \"yaxis\": {\"backgroundcolor\": \"#E5ECF6\", \"gridcolor\": \"white\", \"gridwidth\": 2, \"linecolor\": \"white\", \"showbackground\": true, \"ticks\": \"\", \"zerolinecolor\": \"white\"}, \"zaxis\": {\"backgroundcolor\": \"#E5ECF6\", \"gridcolor\": \"white\", \"gridwidth\": 2, \"linecolor\": \"white\", \"showbackground\": true, \"ticks\": \"\", \"zerolinecolor\": \"white\"}}, \"shapedefaults\": {\"line\": {\"color\": \"#2a3f5f\"}}, \"ternary\": {\"aaxis\": {\"gridcolor\": \"white\", \"linecolor\": \"white\", \"ticks\": \"\"}, \"baxis\": {\"gridcolor\": \"white\", \"linecolor\": \"white\", \"ticks\": \"\"}, \"bgcolor\": \"#E5ECF6\", \"caxis\": {\"gridcolor\": \"white\", \"linecolor\": \"white\", \"ticks\": \"\"}}, \"title\": {\"x\": 0.05}, \"xaxis\": {\"automargin\": true, \"gridcolor\": \"white\", \"linecolor\": \"white\", \"ticks\": \"\", \"title\": {\"standoff\": 15}, \"zerolinecolor\": \"white\", \"zerolinewidth\": 2}, \"yaxis\": {\"automargin\": true, \"gridcolor\": \"white\", \"linecolor\": \"white\", \"ticks\": \"\", \"title\": {\"standoff\": 15}, \"zerolinecolor\": \"white\", \"zerolinewidth\": 2}}}, \"xaxis\": {\"linecolor\": \"rgb(204, 204, 204)\", \"linewidth\": 2, \"showgrid\": false, \"showline\": true, \"showticklabels\": true, \"tickfont\": {\"color\": \"rgb(82, 82, 82)\", \"family\": \"Arial\", \"size\": 11}, \"ticks\": \"outside\"}, \"yaxis\": {\"showgrid\": false, \"showline\": false, \"showticklabels\": true, \"zeroline\": false}},\n",
       "                        {\"responsive\": true}\n",
       "                    ).then(function(){\n",
       "                            \n",
       "var gd = document.getElementById('32c71702-70a8-452a-90e7-4dbeba8bde5f');\n",
       "var x = new MutationObserver(function (mutations, observer) {{\n",
       "        var display = window.getComputedStyle(gd).display;\n",
       "        if (!display || display === 'none') {{\n",
       "            console.log([gd, 'removed!']);\n",
       "            Plotly.purge(gd);\n",
       "            observer.disconnect();\n",
       "        }}\n",
       "}});\n",
       "\n",
       "// Listen for the removal of the full notebook cells\n",
       "var notebookContainer = gd.closest('#notebook-container');\n",
       "if (notebookContainer) {{\n",
       "    x.observe(notebookContainer, {childList: true});\n",
       "}}\n",
       "\n",
       "// Listen for the clearing of the current output cell\n",
       "var outputEl = gd.closest('.output');\n",
       "if (outputEl) {{\n",
       "    x.observe(outputEl, {childList: true});\n",
       "}}\n",
       "\n",
       "                        })\n",
       "                };\n",
       "                });\n",
       "            </script>\n",
       "        </div>"
      ]
     },
     "metadata": {},
     "output_type": "display_data"
    }
   ],
   "source": [
    "import plotly.graph_objects as go\n",
    "import numpy as np\n",
    "title = 'Jail Population in Colombia'\n",
    "labels = ['Population', 'Capacity', 'Reoffenders']\n",
    "colors = ['rgb(67,67,67)', 'rgb(168, 50, 50)', 'rgb(49,130,189)']\n",
    "percentages = ['149','100','11']\n",
    "mode_size = [10, 10, 10]\n",
    "line_size = [3, 3, 5]\n",
    "x_data = x_data_temp\n",
    "y_data = y_data_temp\n",
    "fig = go.Figure()\n",
    "\n",
    "for i in range(0, 3):\n",
    "    fig.add_trace(go.Scatter(x=x_data[i], y=y_data[i], mode='lines',\n",
    "        name=labels[i],\n",
    "        line=dict(color=colors[i], width=line_size[i]),\n",
    "        connectgaps=True,\n",
    "    ))\n",
    "    # endpoints\n",
    "    fig.add_trace(go.Scatter(\n",
    "        x=[x_data[i][0], x_data[i][-1]],\n",
    "        y=[y_data[i][0], y_data[i][-1]],\n",
    "        mode='markers',\n",
    "        marker=dict(color=colors[i], size=mode_size[i])\n",
    "    ))\n",
    "fig.update_layout(\n",
    "    xaxis=dict(\n",
    "        showline=True,\n",
    "        showgrid=False,\n",
    "        showticklabels=True,\n",
    "        linecolor='rgb(204, 204, 204)',\n",
    "        linewidth=2,\n",
    "        ticks='outside',\n",
    "        tickfont=dict(\n",
    "            family='Arial',\n",
    "            size=11,\n",
    "            color='rgb(82, 82, 82)',\n",
    "        ),\n",
    "    ),\n",
    "    yaxis=dict(\n",
    "        showgrid=False,\n",
    "        zeroline=False,\n",
    "        showline=False,\n",
    "        showticklabels=True,\n",
    "    ),\n",
    "    autosize=True,\n",
    "    margin=dict(\n",
    "        autoexpand=True,\n",
    "        l=100,\n",
    "        r=20,\n",
    "        t=110,\n",
    "    ),\n",
    "    showlegend=False,\n",
    "    plot_bgcolor='white'\n",
    ")\n",
    "annotations = []\n",
    "# Adding labels\n",
    "for y_trace, label, color, percentage in zip(y_data, labels, colors, percentages):\n",
    "    annotations.append(dict(xref='paper', x=0.75, y=y_trace[-1],\n",
    "                                  xanchor='left', yanchor='bottom',\n",
    "                                  text=label+': {}k, ({}%)'.format(int(y_trace[-1]),percentage),\n",
    "                                  font=dict(family='Work Sans',\n",
    "                                            size=14.5),\n",
    "                                  showarrow=False))\n",
    "# Title\n",
    "annotations.append(dict(xref='paper', yref='paper', x=0.3, y=1,\n",
    "                              xanchor='left', yanchor='bottom',\n",
    "                              text=title,\n",
    "                              font=dict(family='Work Sans',\n",
    "                                        size=25,\n",
    "                                        color='rgb(37,37,37)'),\n",
    "                              showarrow=False))\n",
    "# Source\n",
    "annotations.append(dict(xref='paper', yref='paper', x=0.5, y=-0.1,\n",
    "                              xanchor='center', yanchor='top',\n",
    "                              text='Source: INPEC & datos.gov.co',\n",
    "                              font=dict(family='Work Sans',\n",
    "                                        size=12,\n",
    "                                        color='rgb(150,150,150)'),\n",
    "                              showarrow=False))\n",
    "fig.update_layout(annotations=annotations)\n",
    "fig.show()"
   ]
  },
  {
   "cell_type": "code",
   "execution_count": 97,
   "metadata": {
    "ExecuteTime": {
     "end_time": "2020-07-20T21:26:33.846489Z",
     "start_time": "2020-07-20T21:26:33.743325Z"
    },
    "code_folding": []
   },
   "outputs": [
    {
     "data": {
      "application/vnd.plotly.v1+json": {
       "config": {
        "plotlyServerURL": "https://plot.ly"
       },
       "data": [
        {
         "connectgaps": true,
         "fill": "tozeroy",
         "line": {
          "color": "rgb(194, 197, 204)",
          "width": 2
         },
         "mode": "lines",
         "name": "Population",
         "type": "scatter",
         "x": [
          1991,
          1992,
          1993,
          1994,
          1995,
          1996,
          1997,
          1998,
          1999,
          2000,
          2001,
          2002,
          2003,
          2004,
          2005,
          2006,
          2007,
          2008,
          2009,
          2010,
          2011,
          2012,
          2013,
          2014,
          2015,
          2016,
          2017,
          2018,
          2019
         ],
         "y": [
          29.355,
          27.016,
          28.26,
          29.338,
          31.96,
          38.063,
          41.405,
          43.25899999999999,
          46.321999999999996,
          49.816,
          52.181000000000004,
          51.276,
          58.894,
          66.47399999999999,
          69.365,
          62.906000000000006,
          61.543,
          67.812,
          74.277,
          81.095,
          94.26700000000001,
          109.822,
          117.98700000000001,
          117.73100000000001,
          120.444,
          118.53200000000001,
          114.75,
          118.51299999999999,
          118.76899999999999
         ]
        },
        {
         "marker": {
          "color": "rgb(194, 197, 204)",
          "size": 10
         },
         "mode": "markers",
         "type": "scatter",
         "x": [
          1991,
          2019
         ],
         "y": [
          29.355,
          118.76899999999999
         ]
        },
        {
         "connectgaps": true,
         "fill": "tozeroy",
         "line": {
          "color": "rgb(194, 197, 204)",
          "width": 2
         },
         "mode": "lines",
         "name": "Capacity",
         "type": "scatter",
         "x": [
          1991,
          1992,
          1993,
          1994,
          1995,
          1996,
          1997,
          1998,
          1999,
          2000,
          2001,
          2002,
          2003,
          2004,
          2005,
          2006,
          2007,
          2008,
          2009,
          2010,
          2011,
          2012,
          2013,
          2014,
          2015,
          2016,
          2017,
          2018,
          2019
         ],
         "y": [
          28.319000000000003,
          28.294,
          28.084,
          null,
          null,
          28.331999999999997,
          29.239,
          33.009,
          33.09,
          35.969,
          40.037,
          44.373000000000005,
          46.398999999999994,
          48.916000000000004,
          49.763000000000005,
          52.115,
          52.504,
          53.784,
          55.019,
          61.1,
          73.45100000000001,
          75.679,
          75.797,
          76.67699999999999,
          78.42,
          79.211,
          80.227,
          80.26,
          80.156
         ]
        },
        {
         "marker": {
          "color": "rgb(194, 197, 204)",
          "size": 10
         },
         "mode": "markers",
         "type": "scatter",
         "x": [
          1991,
          2019
         ],
         "y": [
          28.319000000000003,
          80.156
         ]
        },
        {
         "connectgaps": true,
         "fill": "tozeroy",
         "line": {
          "color": "rgb(102,102,102)",
          "width": 4
         },
         "mode": "lines",
         "name": "Reoffenders",
         "type": "scatter",
         "x": [
          1991,
          1992,
          1993,
          1994,
          1995,
          1996,
          1997,
          1998,
          1999,
          2000,
          2001,
          2002,
          2003,
          2004,
          2005,
          2006,
          2007,
          2008,
          2009,
          2010,
          2011,
          2012,
          2013,
          2014,
          2015,
          2016,
          2017,
          2018,
          2019
         ],
         "y": [
          null,
          null,
          null,
          null,
          null,
          null,
          null,
          null,
          null,
          null,
          null,
          null,
          null,
          null,
          null,
          null,
          null,
          null,
          null,
          7.475,
          9.584,
          7.948,
          8.972,
          8.232,
          10.211,
          10.789,
          11.133,
          12.433,
          13.382
         ]
        },
        {
         "marker": {
          "color": "rgb(102,102,102)",
          "size": 10
         },
         "mode": "markers",
         "type": "scatter",
         "x": [
          1991,
          2019
         ],
         "y": [
          null,
          13.382
         ]
        }
       ],
       "layout": {
        "annotations": [
         {
          "font": {
           "family": "Work Sans",
           "size": 14.5
          },
          "showarrow": false,
          "text": "Population:118k",
          "x": 0.85,
          "xanchor": "left",
          "xref": "paper",
          "y": 118.76899999999999,
          "yanchor": "bottom"
         },
         {
          "font": {
           "family": "Work Sans",
           "size": 14.5
          },
          "showarrow": false,
          "text": "Capacity:80k",
          "x": 0.85,
          "xanchor": "left",
          "xref": "paper",
          "y": 80.156,
          "yanchor": "bottom"
         },
         {
          "font": {
           "family": "Work Sans",
           "size": 14.5
          },
          "showarrow": false,
          "text": "Reoffenders:13k",
          "x": 0.85,
          "xanchor": "left",
          "xref": "paper",
          "y": 13.382,
          "yanchor": "bottom"
         },
         {
          "font": {
           "color": "rgb(37,37,37)",
           "family": "Work Sans",
           "size": 25
          },
          "showarrow": false,
          "text": "",
          "x": 0.3,
          "xanchor": "left",
          "xref": "paper",
          "y": 1,
          "yanchor": "bottom",
          "yref": "paper"
         },
         {
          "font": {
           "color": "rgb(100,100,100)",
           "family": "Arial Sans",
           "size": 12
          },
          "showarrow": false,
          "text": "Source: INPEC & datos.gov.co",
          "x": 0.5,
          "xanchor": "center",
          "xref": "paper",
          "y": -0.1,
          "yanchor": "top",
          "yref": "paper"
         }
        ],
        "autosize": true,
        "margin": {
         "autoexpand": true,
         "l": 100,
         "r": 50,
         "t": 110
        },
        "plot_bgcolor": "white",
        "showlegend": false,
        "template": {
         "data": {
          "bar": [
           {
            "error_x": {
             "color": "#2a3f5f"
            },
            "error_y": {
             "color": "#2a3f5f"
            },
            "marker": {
             "line": {
              "color": "#E5ECF6",
              "width": 0.5
             }
            },
            "type": "bar"
           }
          ],
          "barpolar": [
           {
            "marker": {
             "line": {
              "color": "#E5ECF6",
              "width": 0.5
             }
            },
            "type": "barpolar"
           }
          ],
          "carpet": [
           {
            "aaxis": {
             "endlinecolor": "#2a3f5f",
             "gridcolor": "white",
             "linecolor": "white",
             "minorgridcolor": "white",
             "startlinecolor": "#2a3f5f"
            },
            "baxis": {
             "endlinecolor": "#2a3f5f",
             "gridcolor": "white",
             "linecolor": "white",
             "minorgridcolor": "white",
             "startlinecolor": "#2a3f5f"
            },
            "type": "carpet"
           }
          ],
          "choropleth": [
           {
            "colorbar": {
             "outlinewidth": 0,
             "ticks": ""
            },
            "type": "choropleth"
           }
          ],
          "contour": [
           {
            "colorbar": {
             "outlinewidth": 0,
             "ticks": ""
            },
            "colorscale": [
             [
              0,
              "#0d0887"
             ],
             [
              0.1111111111111111,
              "#46039f"
             ],
             [
              0.2222222222222222,
              "#7201a8"
             ],
             [
              0.3333333333333333,
              "#9c179e"
             ],
             [
              0.4444444444444444,
              "#bd3786"
             ],
             [
              0.5555555555555556,
              "#d8576b"
             ],
             [
              0.6666666666666666,
              "#ed7953"
             ],
             [
              0.7777777777777778,
              "#fb9f3a"
             ],
             [
              0.8888888888888888,
              "#fdca26"
             ],
             [
              1,
              "#f0f921"
             ]
            ],
            "type": "contour"
           }
          ],
          "contourcarpet": [
           {
            "colorbar": {
             "outlinewidth": 0,
             "ticks": ""
            },
            "type": "contourcarpet"
           }
          ],
          "heatmap": [
           {
            "colorbar": {
             "outlinewidth": 0,
             "ticks": ""
            },
            "colorscale": [
             [
              0,
              "#0d0887"
             ],
             [
              0.1111111111111111,
              "#46039f"
             ],
             [
              0.2222222222222222,
              "#7201a8"
             ],
             [
              0.3333333333333333,
              "#9c179e"
             ],
             [
              0.4444444444444444,
              "#bd3786"
             ],
             [
              0.5555555555555556,
              "#d8576b"
             ],
             [
              0.6666666666666666,
              "#ed7953"
             ],
             [
              0.7777777777777778,
              "#fb9f3a"
             ],
             [
              0.8888888888888888,
              "#fdca26"
             ],
             [
              1,
              "#f0f921"
             ]
            ],
            "type": "heatmap"
           }
          ],
          "heatmapgl": [
           {
            "colorbar": {
             "outlinewidth": 0,
             "ticks": ""
            },
            "colorscale": [
             [
              0,
              "#0d0887"
             ],
             [
              0.1111111111111111,
              "#46039f"
             ],
             [
              0.2222222222222222,
              "#7201a8"
             ],
             [
              0.3333333333333333,
              "#9c179e"
             ],
             [
              0.4444444444444444,
              "#bd3786"
             ],
             [
              0.5555555555555556,
              "#d8576b"
             ],
             [
              0.6666666666666666,
              "#ed7953"
             ],
             [
              0.7777777777777778,
              "#fb9f3a"
             ],
             [
              0.8888888888888888,
              "#fdca26"
             ],
             [
              1,
              "#f0f921"
             ]
            ],
            "type": "heatmapgl"
           }
          ],
          "histogram": [
           {
            "marker": {
             "colorbar": {
              "outlinewidth": 0,
              "ticks": ""
             }
            },
            "type": "histogram"
           }
          ],
          "histogram2d": [
           {
            "colorbar": {
             "outlinewidth": 0,
             "ticks": ""
            },
            "colorscale": [
             [
              0,
              "#0d0887"
             ],
             [
              0.1111111111111111,
              "#46039f"
             ],
             [
              0.2222222222222222,
              "#7201a8"
             ],
             [
              0.3333333333333333,
              "#9c179e"
             ],
             [
              0.4444444444444444,
              "#bd3786"
             ],
             [
              0.5555555555555556,
              "#d8576b"
             ],
             [
              0.6666666666666666,
              "#ed7953"
             ],
             [
              0.7777777777777778,
              "#fb9f3a"
             ],
             [
              0.8888888888888888,
              "#fdca26"
             ],
             [
              1,
              "#f0f921"
             ]
            ],
            "type": "histogram2d"
           }
          ],
          "histogram2dcontour": [
           {
            "colorbar": {
             "outlinewidth": 0,
             "ticks": ""
            },
            "colorscale": [
             [
              0,
              "#0d0887"
             ],
             [
              0.1111111111111111,
              "#46039f"
             ],
             [
              0.2222222222222222,
              "#7201a8"
             ],
             [
              0.3333333333333333,
              "#9c179e"
             ],
             [
              0.4444444444444444,
              "#bd3786"
             ],
             [
              0.5555555555555556,
              "#d8576b"
             ],
             [
              0.6666666666666666,
              "#ed7953"
             ],
             [
              0.7777777777777778,
              "#fb9f3a"
             ],
             [
              0.8888888888888888,
              "#fdca26"
             ],
             [
              1,
              "#f0f921"
             ]
            ],
            "type": "histogram2dcontour"
           }
          ],
          "mesh3d": [
           {
            "colorbar": {
             "outlinewidth": 0,
             "ticks": ""
            },
            "type": "mesh3d"
           }
          ],
          "parcoords": [
           {
            "line": {
             "colorbar": {
              "outlinewidth": 0,
              "ticks": ""
             }
            },
            "type": "parcoords"
           }
          ],
          "pie": [
           {
            "automargin": true,
            "type": "pie"
           }
          ],
          "scatter": [
           {
            "marker": {
             "colorbar": {
              "outlinewidth": 0,
              "ticks": ""
             }
            },
            "type": "scatter"
           }
          ],
          "scatter3d": [
           {
            "line": {
             "colorbar": {
              "outlinewidth": 0,
              "ticks": ""
             }
            },
            "marker": {
             "colorbar": {
              "outlinewidth": 0,
              "ticks": ""
             }
            },
            "type": "scatter3d"
           }
          ],
          "scattercarpet": [
           {
            "marker": {
             "colorbar": {
              "outlinewidth": 0,
              "ticks": ""
             }
            },
            "type": "scattercarpet"
           }
          ],
          "scattergeo": [
           {
            "marker": {
             "colorbar": {
              "outlinewidth": 0,
              "ticks": ""
             }
            },
            "type": "scattergeo"
           }
          ],
          "scattergl": [
           {
            "marker": {
             "colorbar": {
              "outlinewidth": 0,
              "ticks": ""
             }
            },
            "type": "scattergl"
           }
          ],
          "scattermapbox": [
           {
            "marker": {
             "colorbar": {
              "outlinewidth": 0,
              "ticks": ""
             }
            },
            "type": "scattermapbox"
           }
          ],
          "scatterpolar": [
           {
            "marker": {
             "colorbar": {
              "outlinewidth": 0,
              "ticks": ""
             }
            },
            "type": "scatterpolar"
           }
          ],
          "scatterpolargl": [
           {
            "marker": {
             "colorbar": {
              "outlinewidth": 0,
              "ticks": ""
             }
            },
            "type": "scatterpolargl"
           }
          ],
          "scatterternary": [
           {
            "marker": {
             "colorbar": {
              "outlinewidth": 0,
              "ticks": ""
             }
            },
            "type": "scatterternary"
           }
          ],
          "surface": [
           {
            "colorbar": {
             "outlinewidth": 0,
             "ticks": ""
            },
            "colorscale": [
             [
              0,
              "#0d0887"
             ],
             [
              0.1111111111111111,
              "#46039f"
             ],
             [
              0.2222222222222222,
              "#7201a8"
             ],
             [
              0.3333333333333333,
              "#9c179e"
             ],
             [
              0.4444444444444444,
              "#bd3786"
             ],
             [
              0.5555555555555556,
              "#d8576b"
             ],
             [
              0.6666666666666666,
              "#ed7953"
             ],
             [
              0.7777777777777778,
              "#fb9f3a"
             ],
             [
              0.8888888888888888,
              "#fdca26"
             ],
             [
              1,
              "#f0f921"
             ]
            ],
            "type": "surface"
           }
          ],
          "table": [
           {
            "cells": {
             "fill": {
              "color": "#EBF0F8"
             },
             "line": {
              "color": "white"
             }
            },
            "header": {
             "fill": {
              "color": "#C8D4E3"
             },
             "line": {
              "color": "white"
             }
            },
            "type": "table"
           }
          ]
         },
         "layout": {
          "annotationdefaults": {
           "arrowcolor": "#2a3f5f",
           "arrowhead": 0,
           "arrowwidth": 1
          },
          "coloraxis": {
           "colorbar": {
            "outlinewidth": 0,
            "ticks": ""
           }
          },
          "colorscale": {
           "diverging": [
            [
             0,
             "#8e0152"
            ],
            [
             0.1,
             "#c51b7d"
            ],
            [
             0.2,
             "#de77ae"
            ],
            [
             0.3,
             "#f1b6da"
            ],
            [
             0.4,
             "#fde0ef"
            ],
            [
             0.5,
             "#f7f7f7"
            ],
            [
             0.6,
             "#e6f5d0"
            ],
            [
             0.7,
             "#b8e186"
            ],
            [
             0.8,
             "#7fbc41"
            ],
            [
             0.9,
             "#4d9221"
            ],
            [
             1,
             "#276419"
            ]
           ],
           "sequential": [
            [
             0,
             "#0d0887"
            ],
            [
             0.1111111111111111,
             "#46039f"
            ],
            [
             0.2222222222222222,
             "#7201a8"
            ],
            [
             0.3333333333333333,
             "#9c179e"
            ],
            [
             0.4444444444444444,
             "#bd3786"
            ],
            [
             0.5555555555555556,
             "#d8576b"
            ],
            [
             0.6666666666666666,
             "#ed7953"
            ],
            [
             0.7777777777777778,
             "#fb9f3a"
            ],
            [
             0.8888888888888888,
             "#fdca26"
            ],
            [
             1,
             "#f0f921"
            ]
           ],
           "sequentialminus": [
            [
             0,
             "#0d0887"
            ],
            [
             0.1111111111111111,
             "#46039f"
            ],
            [
             0.2222222222222222,
             "#7201a8"
            ],
            [
             0.3333333333333333,
             "#9c179e"
            ],
            [
             0.4444444444444444,
             "#bd3786"
            ],
            [
             0.5555555555555556,
             "#d8576b"
            ],
            [
             0.6666666666666666,
             "#ed7953"
            ],
            [
             0.7777777777777778,
             "#fb9f3a"
            ],
            [
             0.8888888888888888,
             "#fdca26"
            ],
            [
             1,
             "#f0f921"
            ]
           ]
          },
          "colorway": [
           "#636efa",
           "#EF553B",
           "#00cc96",
           "#ab63fa",
           "#FFA15A",
           "#19d3f3",
           "#FF6692",
           "#B6E880",
           "#FF97FF",
           "#FECB52"
          ],
          "font": {
           "color": "#2a3f5f"
          },
          "geo": {
           "bgcolor": "white",
           "lakecolor": "white",
           "landcolor": "#E5ECF6",
           "showlakes": true,
           "showland": true,
           "subunitcolor": "white"
          },
          "hoverlabel": {
           "align": "left"
          },
          "hovermode": "closest",
          "mapbox": {
           "style": "light"
          },
          "paper_bgcolor": "white",
          "plot_bgcolor": "#E5ECF6",
          "polar": {
           "angularaxis": {
            "gridcolor": "white",
            "linecolor": "white",
            "ticks": ""
           },
           "bgcolor": "#E5ECF6",
           "radialaxis": {
            "gridcolor": "white",
            "linecolor": "white",
            "ticks": ""
           }
          },
          "scene": {
           "xaxis": {
            "backgroundcolor": "#E5ECF6",
            "gridcolor": "white",
            "gridwidth": 2,
            "linecolor": "white",
            "showbackground": true,
            "ticks": "",
            "zerolinecolor": "white"
           },
           "yaxis": {
            "backgroundcolor": "#E5ECF6",
            "gridcolor": "white",
            "gridwidth": 2,
            "linecolor": "white",
            "showbackground": true,
            "ticks": "",
            "zerolinecolor": "white"
           },
           "zaxis": {
            "backgroundcolor": "#E5ECF6",
            "gridcolor": "white",
            "gridwidth": 2,
            "linecolor": "white",
            "showbackground": true,
            "ticks": "",
            "zerolinecolor": "white"
           }
          },
          "shapedefaults": {
           "line": {
            "color": "#2a3f5f"
           }
          },
          "ternary": {
           "aaxis": {
            "gridcolor": "white",
            "linecolor": "white",
            "ticks": ""
           },
           "baxis": {
            "gridcolor": "white",
            "linecolor": "white",
            "ticks": ""
           },
           "bgcolor": "#E5ECF6",
           "caxis": {
            "gridcolor": "white",
            "linecolor": "white",
            "ticks": ""
           }
          },
          "title": {
           "x": 0.05
          },
          "xaxis": {
           "automargin": true,
           "gridcolor": "white",
           "linecolor": "white",
           "ticks": "",
           "title": {
            "standoff": 15
           },
           "zerolinecolor": "white",
           "zerolinewidth": 2
          },
          "yaxis": {
           "automargin": true,
           "gridcolor": "white",
           "linecolor": "white",
           "ticks": "",
           "title": {
            "standoff": 15
           },
           "zerolinecolor": "white",
           "zerolinewidth": 2
          }
         }
        },
        "xaxis": {
         "linecolor": "rgb(204, 204, 204)",
         "linewidth": 2,
         "showgrid": false,
         "showline": true,
         "showticklabels": true,
         "tickfont": {
          "color": "rgb(82, 82, 82)",
          "family": "Arial",
          "size": 11
         },
         "ticks": "outside"
        },
        "yaxis": {
         "showgrid": true,
         "showline": true,
         "showticklabels": true,
         "zeroline": true
        }
       }
      },
      "text/html": [
       "<div>\n",
       "        \n",
       "        \n",
       "            <div id=\"fda4a687-955c-4629-9aea-1f2481a2c716\" class=\"plotly-graph-div\" style=\"height:525px; width:100%;\"></div>\n",
       "            <script type=\"text/javascript\">\n",
       "                require([\"plotly\"], function(Plotly) {\n",
       "                    window.PLOTLYENV=window.PLOTLYENV || {};\n",
       "                    \n",
       "                if (document.getElementById(\"fda4a687-955c-4629-9aea-1f2481a2c716\")) {\n",
       "                    Plotly.newPlot(\n",
       "                        'fda4a687-955c-4629-9aea-1f2481a2c716',\n",
       "                        [{\"connectgaps\": true, \"fill\": \"tozeroy\", \"line\": {\"color\": \"rgb(194, 197, 204)\", \"width\": 2}, \"mode\": \"lines\", \"name\": \"Population\", \"type\": \"scatter\", \"x\": [1991, 1992, 1993, 1994, 1995, 1996, 1997, 1998, 1999, 2000, 2001, 2002, 2003, 2004, 2005, 2006, 2007, 2008, 2009, 2010, 2011, 2012, 2013, 2014, 2015, 2016, 2017, 2018, 2019], \"y\": [29.355, 27.016, 28.26, 29.338, 31.96, 38.063, 41.405, 43.25899999999999, 46.321999999999996, 49.816, 52.181000000000004, 51.276, 58.894, 66.47399999999999, 69.365, 62.906000000000006, 61.543, 67.812, 74.277, 81.095, 94.26700000000001, 109.822, 117.98700000000001, 117.73100000000001, 120.444, 118.53200000000001, 114.75, 118.51299999999999, 118.76899999999999]}, {\"marker\": {\"color\": \"rgb(194, 197, 204)\", \"size\": 10}, \"mode\": \"markers\", \"type\": \"scatter\", \"x\": [1991, 2019], \"y\": [29.355, 118.76899999999999]}, {\"connectgaps\": true, \"fill\": \"tozeroy\", \"line\": {\"color\": \"rgb(194, 197, 204)\", \"width\": 2}, \"mode\": \"lines\", \"name\": \"Capacity\", \"type\": \"scatter\", \"x\": [1991, 1992, 1993, 1994, 1995, 1996, 1997, 1998, 1999, 2000, 2001, 2002, 2003, 2004, 2005, 2006, 2007, 2008, 2009, 2010, 2011, 2012, 2013, 2014, 2015, 2016, 2017, 2018, 2019], \"y\": [28.319000000000003, 28.294, 28.084, null, null, 28.331999999999997, 29.239, 33.009, 33.09, 35.969, 40.037, 44.373000000000005, 46.398999999999994, 48.916000000000004, 49.763000000000005, 52.115, 52.504, 53.784, 55.019, 61.1, 73.45100000000001, 75.679, 75.797, 76.67699999999999, 78.42, 79.211, 80.227, 80.26, 80.156]}, {\"marker\": {\"color\": \"rgb(194, 197, 204)\", \"size\": 10}, \"mode\": \"markers\", \"type\": \"scatter\", \"x\": [1991, 2019], \"y\": [28.319000000000003, 80.156]}, {\"connectgaps\": true, \"fill\": \"tozeroy\", \"line\": {\"color\": \"rgb(102,102,102)\", \"width\": 4}, \"mode\": \"lines\", \"name\": \"Reoffenders\", \"type\": \"scatter\", \"x\": [1991, 1992, 1993, 1994, 1995, 1996, 1997, 1998, 1999, 2000, 2001, 2002, 2003, 2004, 2005, 2006, 2007, 2008, 2009, 2010, 2011, 2012, 2013, 2014, 2015, 2016, 2017, 2018, 2019], \"y\": [null, null, null, null, null, null, null, null, null, null, null, null, null, null, null, null, null, null, null, 7.475, 9.584, 7.948, 8.972, 8.232, 10.211, 10.789, 11.133, 12.433, 13.382]}, {\"marker\": {\"color\": \"rgb(102,102,102)\", \"size\": 10}, \"mode\": \"markers\", \"type\": \"scatter\", \"x\": [1991, 2019], \"y\": [null, 13.382]}],\n",
       "                        {\"annotations\": [{\"font\": {\"family\": \"Work Sans\", \"size\": 14.5}, \"showarrow\": false, \"text\": \"Population:118k\", \"x\": 0.85, \"xanchor\": \"left\", \"xref\": \"paper\", \"y\": 118.76899999999999, \"yanchor\": \"bottom\"}, {\"font\": {\"family\": \"Work Sans\", \"size\": 14.5}, \"showarrow\": false, \"text\": \"Capacity:80k\", \"x\": 0.85, \"xanchor\": \"left\", \"xref\": \"paper\", \"y\": 80.156, \"yanchor\": \"bottom\"}, {\"font\": {\"family\": \"Work Sans\", \"size\": 14.5}, \"showarrow\": false, \"text\": \"Reoffenders:13k\", \"x\": 0.85, \"xanchor\": \"left\", \"xref\": \"paper\", \"y\": 13.382, \"yanchor\": \"bottom\"}, {\"font\": {\"color\": \"rgb(37,37,37)\", \"family\": \"Work Sans\", \"size\": 25}, \"showarrow\": false, \"text\": \"\", \"x\": 0.3, \"xanchor\": \"left\", \"xref\": \"paper\", \"y\": 1, \"yanchor\": \"bottom\", \"yref\": \"paper\"}, {\"font\": {\"color\": \"rgb(100,100,100)\", \"family\": \"Arial Sans\", \"size\": 12}, \"showarrow\": false, \"text\": \"Source: INPEC & datos.gov.co\", \"x\": 0.5, \"xanchor\": \"center\", \"xref\": \"paper\", \"y\": -0.1, \"yanchor\": \"top\", \"yref\": \"paper\"}], \"autosize\": true, \"margin\": {\"autoexpand\": true, \"l\": 100, \"r\": 50, \"t\": 110}, \"plot_bgcolor\": \"white\", \"showlegend\": false, \"template\": {\"data\": {\"bar\": [{\"error_x\": {\"color\": \"#2a3f5f\"}, \"error_y\": {\"color\": \"#2a3f5f\"}, \"marker\": {\"line\": {\"color\": \"#E5ECF6\", \"width\": 0.5}}, \"type\": \"bar\"}], \"barpolar\": [{\"marker\": {\"line\": {\"color\": \"#E5ECF6\", \"width\": 0.5}}, \"type\": \"barpolar\"}], \"carpet\": [{\"aaxis\": {\"endlinecolor\": \"#2a3f5f\", \"gridcolor\": \"white\", \"linecolor\": \"white\", \"minorgridcolor\": \"white\", \"startlinecolor\": \"#2a3f5f\"}, \"baxis\": {\"endlinecolor\": \"#2a3f5f\", \"gridcolor\": \"white\", \"linecolor\": \"white\", \"minorgridcolor\": \"white\", \"startlinecolor\": \"#2a3f5f\"}, \"type\": \"carpet\"}], \"choropleth\": [{\"colorbar\": {\"outlinewidth\": 0, \"ticks\": \"\"}, \"type\": \"choropleth\"}], \"contour\": [{\"colorbar\": {\"outlinewidth\": 0, \"ticks\": \"\"}, \"colorscale\": [[0.0, \"#0d0887\"], [0.1111111111111111, \"#46039f\"], [0.2222222222222222, \"#7201a8\"], [0.3333333333333333, \"#9c179e\"], [0.4444444444444444, \"#bd3786\"], [0.5555555555555556, \"#d8576b\"], [0.6666666666666666, \"#ed7953\"], [0.7777777777777778, \"#fb9f3a\"], [0.8888888888888888, \"#fdca26\"], [1.0, \"#f0f921\"]], \"type\": \"contour\"}], \"contourcarpet\": [{\"colorbar\": {\"outlinewidth\": 0, \"ticks\": \"\"}, \"type\": \"contourcarpet\"}], \"heatmap\": [{\"colorbar\": {\"outlinewidth\": 0, \"ticks\": \"\"}, \"colorscale\": [[0.0, \"#0d0887\"], [0.1111111111111111, \"#46039f\"], [0.2222222222222222, \"#7201a8\"], [0.3333333333333333, \"#9c179e\"], [0.4444444444444444, \"#bd3786\"], [0.5555555555555556, \"#d8576b\"], [0.6666666666666666, \"#ed7953\"], [0.7777777777777778, \"#fb9f3a\"], [0.8888888888888888, \"#fdca26\"], [1.0, \"#f0f921\"]], \"type\": \"heatmap\"}], \"heatmapgl\": [{\"colorbar\": {\"outlinewidth\": 0, \"ticks\": \"\"}, \"colorscale\": [[0.0, \"#0d0887\"], [0.1111111111111111, \"#46039f\"], [0.2222222222222222, \"#7201a8\"], [0.3333333333333333, \"#9c179e\"], [0.4444444444444444, \"#bd3786\"], [0.5555555555555556, \"#d8576b\"], [0.6666666666666666, \"#ed7953\"], [0.7777777777777778, \"#fb9f3a\"], [0.8888888888888888, \"#fdca26\"], [1.0, \"#f0f921\"]], \"type\": \"heatmapgl\"}], \"histogram\": [{\"marker\": {\"colorbar\": {\"outlinewidth\": 0, \"ticks\": \"\"}}, \"type\": \"histogram\"}], \"histogram2d\": [{\"colorbar\": {\"outlinewidth\": 0, \"ticks\": \"\"}, \"colorscale\": [[0.0, \"#0d0887\"], [0.1111111111111111, \"#46039f\"], [0.2222222222222222, \"#7201a8\"], [0.3333333333333333, \"#9c179e\"], [0.4444444444444444, \"#bd3786\"], [0.5555555555555556, \"#d8576b\"], [0.6666666666666666, \"#ed7953\"], [0.7777777777777778, \"#fb9f3a\"], [0.8888888888888888, \"#fdca26\"], [1.0, \"#f0f921\"]], \"type\": \"histogram2d\"}], \"histogram2dcontour\": [{\"colorbar\": {\"outlinewidth\": 0, \"ticks\": \"\"}, \"colorscale\": [[0.0, \"#0d0887\"], [0.1111111111111111, \"#46039f\"], [0.2222222222222222, \"#7201a8\"], [0.3333333333333333, \"#9c179e\"], [0.4444444444444444, \"#bd3786\"], [0.5555555555555556, \"#d8576b\"], [0.6666666666666666, \"#ed7953\"], [0.7777777777777778, \"#fb9f3a\"], [0.8888888888888888, \"#fdca26\"], [1.0, \"#f0f921\"]], \"type\": \"histogram2dcontour\"}], \"mesh3d\": [{\"colorbar\": {\"outlinewidth\": 0, \"ticks\": \"\"}, \"type\": \"mesh3d\"}], \"parcoords\": [{\"line\": {\"colorbar\": {\"outlinewidth\": 0, \"ticks\": \"\"}}, \"type\": \"parcoords\"}], \"pie\": [{\"automargin\": true, \"type\": \"pie\"}], \"scatter\": [{\"marker\": {\"colorbar\": {\"outlinewidth\": 0, \"ticks\": \"\"}}, \"type\": \"scatter\"}], \"scatter3d\": [{\"line\": {\"colorbar\": {\"outlinewidth\": 0, \"ticks\": \"\"}}, \"marker\": {\"colorbar\": {\"outlinewidth\": 0, \"ticks\": \"\"}}, \"type\": \"scatter3d\"}], \"scattercarpet\": [{\"marker\": {\"colorbar\": {\"outlinewidth\": 0, \"ticks\": \"\"}}, \"type\": \"scattercarpet\"}], \"scattergeo\": [{\"marker\": {\"colorbar\": {\"outlinewidth\": 0, \"ticks\": \"\"}}, \"type\": \"scattergeo\"}], \"scattergl\": [{\"marker\": {\"colorbar\": {\"outlinewidth\": 0, \"ticks\": \"\"}}, \"type\": \"scattergl\"}], \"scattermapbox\": [{\"marker\": {\"colorbar\": {\"outlinewidth\": 0, \"ticks\": \"\"}}, \"type\": \"scattermapbox\"}], \"scatterpolar\": [{\"marker\": {\"colorbar\": {\"outlinewidth\": 0, \"ticks\": \"\"}}, \"type\": \"scatterpolar\"}], \"scatterpolargl\": [{\"marker\": {\"colorbar\": {\"outlinewidth\": 0, \"ticks\": \"\"}}, \"type\": \"scatterpolargl\"}], \"scatterternary\": [{\"marker\": {\"colorbar\": {\"outlinewidth\": 0, \"ticks\": \"\"}}, \"type\": \"scatterternary\"}], \"surface\": [{\"colorbar\": {\"outlinewidth\": 0, \"ticks\": \"\"}, \"colorscale\": [[0.0, \"#0d0887\"], [0.1111111111111111, \"#46039f\"], [0.2222222222222222, \"#7201a8\"], [0.3333333333333333, \"#9c179e\"], [0.4444444444444444, \"#bd3786\"], [0.5555555555555556, \"#d8576b\"], [0.6666666666666666, \"#ed7953\"], [0.7777777777777778, \"#fb9f3a\"], [0.8888888888888888, \"#fdca26\"], [1.0, \"#f0f921\"]], \"type\": \"surface\"}], \"table\": [{\"cells\": {\"fill\": {\"color\": \"#EBF0F8\"}, \"line\": {\"color\": \"white\"}}, \"header\": {\"fill\": {\"color\": \"#C8D4E3\"}, \"line\": {\"color\": \"white\"}}, \"type\": \"table\"}]}, \"layout\": {\"annotationdefaults\": {\"arrowcolor\": \"#2a3f5f\", \"arrowhead\": 0, \"arrowwidth\": 1}, \"coloraxis\": {\"colorbar\": {\"outlinewidth\": 0, \"ticks\": \"\"}}, \"colorscale\": {\"diverging\": [[0, \"#8e0152\"], [0.1, \"#c51b7d\"], [0.2, \"#de77ae\"], [0.3, \"#f1b6da\"], [0.4, \"#fde0ef\"], [0.5, \"#f7f7f7\"], [0.6, \"#e6f5d0\"], [0.7, \"#b8e186\"], [0.8, \"#7fbc41\"], [0.9, \"#4d9221\"], [1, \"#276419\"]], \"sequential\": [[0.0, \"#0d0887\"], [0.1111111111111111, \"#46039f\"], [0.2222222222222222, \"#7201a8\"], [0.3333333333333333, \"#9c179e\"], [0.4444444444444444, \"#bd3786\"], [0.5555555555555556, \"#d8576b\"], [0.6666666666666666, \"#ed7953\"], [0.7777777777777778, \"#fb9f3a\"], [0.8888888888888888, \"#fdca26\"], [1.0, \"#f0f921\"]], \"sequentialminus\": [[0.0, \"#0d0887\"], [0.1111111111111111, \"#46039f\"], [0.2222222222222222, \"#7201a8\"], [0.3333333333333333, \"#9c179e\"], [0.4444444444444444, \"#bd3786\"], [0.5555555555555556, \"#d8576b\"], [0.6666666666666666, \"#ed7953\"], [0.7777777777777778, \"#fb9f3a\"], [0.8888888888888888, \"#fdca26\"], [1.0, \"#f0f921\"]]}, \"colorway\": [\"#636efa\", \"#EF553B\", \"#00cc96\", \"#ab63fa\", \"#FFA15A\", \"#19d3f3\", \"#FF6692\", \"#B6E880\", \"#FF97FF\", \"#FECB52\"], \"font\": {\"color\": \"#2a3f5f\"}, \"geo\": {\"bgcolor\": \"white\", \"lakecolor\": \"white\", \"landcolor\": \"#E5ECF6\", \"showlakes\": true, \"showland\": true, \"subunitcolor\": \"white\"}, \"hoverlabel\": {\"align\": \"left\"}, \"hovermode\": \"closest\", \"mapbox\": {\"style\": \"light\"}, \"paper_bgcolor\": \"white\", \"plot_bgcolor\": \"#E5ECF6\", \"polar\": {\"angularaxis\": {\"gridcolor\": \"white\", \"linecolor\": \"white\", \"ticks\": \"\"}, \"bgcolor\": \"#E5ECF6\", \"radialaxis\": {\"gridcolor\": \"white\", \"linecolor\": \"white\", \"ticks\": \"\"}}, \"scene\": {\"xaxis\": {\"backgroundcolor\": \"#E5ECF6\", \"gridcolor\": \"white\", \"gridwidth\": 2, \"linecolor\": \"white\", \"showbackground\": true, \"ticks\": \"\", \"zerolinecolor\": \"white\"}, \"yaxis\": {\"backgroundcolor\": \"#E5ECF6\", \"gridcolor\": \"white\", \"gridwidth\": 2, \"linecolor\": \"white\", \"showbackground\": true, \"ticks\": \"\", \"zerolinecolor\": \"white\"}, \"zaxis\": {\"backgroundcolor\": \"#E5ECF6\", \"gridcolor\": \"white\", \"gridwidth\": 2, \"linecolor\": \"white\", \"showbackground\": true, \"ticks\": \"\", \"zerolinecolor\": \"white\"}}, \"shapedefaults\": {\"line\": {\"color\": \"#2a3f5f\"}}, \"ternary\": {\"aaxis\": {\"gridcolor\": \"white\", \"linecolor\": \"white\", \"ticks\": \"\"}, \"baxis\": {\"gridcolor\": \"white\", \"linecolor\": \"white\", \"ticks\": \"\"}, \"bgcolor\": \"#E5ECF6\", \"caxis\": {\"gridcolor\": \"white\", \"linecolor\": \"white\", \"ticks\": \"\"}}, \"title\": {\"x\": 0.05}, \"xaxis\": {\"automargin\": true, \"gridcolor\": \"white\", \"linecolor\": \"white\", \"ticks\": \"\", \"title\": {\"standoff\": 15}, \"zerolinecolor\": \"white\", \"zerolinewidth\": 2}, \"yaxis\": {\"automargin\": true, \"gridcolor\": \"white\", \"linecolor\": \"white\", \"ticks\": \"\", \"title\": {\"standoff\": 15}, \"zerolinecolor\": \"white\", \"zerolinewidth\": 2}}}, \"xaxis\": {\"linecolor\": \"rgb(204, 204, 204)\", \"linewidth\": 2, \"showgrid\": false, \"showline\": true, \"showticklabels\": true, \"tickfont\": {\"color\": \"rgb(82, 82, 82)\", \"family\": \"Arial\", \"size\": 11}, \"ticks\": \"outside\"}, \"yaxis\": {\"showgrid\": true, \"showline\": true, \"showticklabels\": true, \"zeroline\": true}},\n",
       "                        {\"responsive\": true}\n",
       "                    ).then(function(){\n",
       "                            \n",
       "var gd = document.getElementById('fda4a687-955c-4629-9aea-1f2481a2c716');\n",
       "var x = new MutationObserver(function (mutations, observer) {{\n",
       "        var display = window.getComputedStyle(gd).display;\n",
       "        if (!display || display === 'none') {{\n",
       "            console.log([gd, 'removed!']);\n",
       "            Plotly.purge(gd);\n",
       "            observer.disconnect();\n",
       "        }}\n",
       "}});\n",
       "\n",
       "// Listen for the removal of the full notebook cells\n",
       "var notebookContainer = gd.closest('#notebook-container');\n",
       "if (notebookContainer) {{\n",
       "    x.observe(notebookContainer, {childList: true});\n",
       "}}\n",
       "\n",
       "// Listen for the clearing of the current output cell\n",
       "var outputEl = gd.closest('.output');\n",
       "if (outputEl) {{\n",
       "    x.observe(outputEl, {childList: true});\n",
       "}}\n",
       "\n",
       "                        })\n",
       "                };\n",
       "                });\n",
       "            </script>\n",
       "        </div>"
      ]
     },
     "metadata": {},
     "output_type": "display_data"
    }
   ],
   "source": [
    "title = 'Jail Population in Colombia'\n",
    "labels = ['Population', 'Capacity', 'Reoffenders']\n",
    "colors = ['rgb(194, 197, 204)', 'rgb(194, 197, 204)', 'rgb(102,102,102)']\n",
    "percentages = ['149','100','11']\n",
    "mode_size = [10, 10, 10]\n",
    "line_size = [2, 2, 4]\n",
    "x_data = x_data_temp\n",
    "y_data = y_data_temp\n",
    "fig = go.Figure()\n",
    "\n",
    "for i in range(0, 3):\n",
    "    fig.add_trace(go.Scatter(x=x_data[i], y=y_data[i], mode='lines',\n",
    "        name=labels[i],\n",
    "        line=dict(color=colors[i], width=line_size[i]),\n",
    "        connectgaps=True,fill='tozeroy',\n",
    "    ))\n",
    "    # endpoints\n",
    "    fig.add_trace(go.Scatter(\n",
    "        x=[x_data[i][0], x_data[i][-1]],\n",
    "        y=[y_data[i][0], y_data[i][-1]],\n",
    "        mode='markers',\n",
    "        marker=dict(color=colors[i], size=mode_size[i])\n",
    "    ))\n",
    "fig.update_layout(\n",
    "    xaxis=dict(\n",
    "        showline=True,\n",
    "        showgrid=False,\n",
    "        showticklabels=True,\n",
    "        linecolor='rgb(204, 204, 204)',\n",
    "        linewidth=2,\n",
    "        ticks='outside',\n",
    "        tickfont=dict(\n",
    "            family='Arial',\n",
    "            size=11,\n",
    "            color='rgb(82, 82, 82)', \n",
    "        ),\n",
    "    ),\n",
    "    yaxis=dict(\n",
    "        showgrid=True,\n",
    "        zeroline=True,\n",
    "        showline=True,\n",
    "        showticklabels=True,\n",
    "    ),\n",
    "    autosize=True,\n",
    "    margin=dict(\n",
    "        autoexpand=True,\n",
    "        l=100,\n",
    "        r=50,\n",
    "        t=110,\n",
    "    ),\n",
    "    showlegend=False,\n",
    "    plot_bgcolor='white'\n",
    ")\n",
    "annotations = []\n",
    "# Adding labels\n",
    "for y_trace, label, color, percentage in zip(y_data, labels, colors, percentages):\n",
    "    annotations.append(dict(xref='paper', x=0.85, y=y_trace[-1],\n",
    "                                  xanchor='left', yanchor='bottom',\n",
    "                                  text=label+':{}k'.format(int(y_trace[-1])),\n",
    "                                  font=dict(family='Work Sans',\n",
    "                                            size=14.5),\n",
    "                                  showarrow=False))\n",
    "# Title\n",
    "annotations.append(dict(xref='paper', yref='paper', x=0.3, y=1,\n",
    "                              xanchor='left', yanchor='bottom',\n",
    "                              text='',\n",
    "                              font=dict(family='Work Sans',\n",
    "                                        size=25,\n",
    "                                        color='rgb(37,37,37)'),\n",
    "                              showarrow=False))\n",
    "# Source\n",
    "annotations.append(dict(xref='paper', yref='paper', x=0.5, y=-0.1,\n",
    "                              xanchor='center', yanchor='top',\n",
    "                              text='Source: INPEC & datos.gov.co',\n",
    "                              font=dict(family='Arial Sans',\n",
    "                                        size=12,\n",
    "                                        color='rgb(100,100,100)'),\n",
    "                              showarrow=False))\n",
    "fig.update_layout(annotations=annotations)\n",
    "fig.show()"
   ]
  },
  {
   "cell_type": "raw",
   "metadata": {},
   "source": []
  },
  {
   "cell_type": "code",
   "execution_count": 17,
   "metadata": {
    "ExecuteTime": {
     "end_time": "2020-07-20T20:32:48.432382Z",
     "start_time": "2020-07-20T20:32:47.827932Z"
    }
   },
   "outputs": [
    {
     "data": {
      "text/html": [
       "<div>\n",
       "<style scoped>\n",
       "    .dataframe tbody tr th:only-of-type {\n",
       "        vertical-align: middle;\n",
       "    }\n",
       "\n",
       "    .dataframe tbody tr th {\n",
       "        vertical-align: top;\n",
       "    }\n",
       "\n",
       "    .dataframe thead th {\n",
       "        text-align: right;\n",
       "    }\n",
       "</style>\n",
       "<table border=\"1\" class=\"dataframe\">\n",
       "  <thead>\n",
       "    <tr style=\"text-align: right;\">\n",
       "      <th></th>\n",
       "      <th>Unique Fecha Ingreso</th>\n",
       "      <th>Number of Inmates</th>\n",
       "    </tr>\n",
       "  </thead>\n",
       "  <tbody>\n",
       "    <tr>\n",
       "      <th>0</th>\n",
       "      <td>1</td>\n",
       "      <td>58739</td>\n",
       "    </tr>\n",
       "    <tr>\n",
       "      <th>1</th>\n",
       "      <td>2</td>\n",
       "      <td>16478</td>\n",
       "    </tr>\n",
       "    <tr>\n",
       "      <th>2</th>\n",
       "      <td>3</td>\n",
       "      <td>3023</td>\n",
       "    </tr>\n",
       "    <tr>\n",
       "      <th>3</th>\n",
       "      <td>4</td>\n",
       "      <td>497</td>\n",
       "    </tr>\n",
       "    <tr>\n",
       "      <th>4</th>\n",
       "      <td>5</td>\n",
       "      <td>91</td>\n",
       "    </tr>\n",
       "    <tr>\n",
       "      <th>5</th>\n",
       "      <td>6</td>\n",
       "      <td>10</td>\n",
       "    </tr>\n",
       "    <tr>\n",
       "      <th>6</th>\n",
       "      <td>7</td>\n",
       "      <td>2</td>\n",
       "    </tr>\n",
       "    <tr>\n",
       "      <th>7</th>\n",
       "      <td>9</td>\n",
       "      <td>1</td>\n",
       "    </tr>\n",
       "  </tbody>\n",
       "</table>\n",
       "</div>"
      ],
      "text/plain": [
       "   Unique Fecha Ingreso  Number of Inmates\n",
       "0                     1              58739\n",
       "1                     2              16478\n",
       "2                     3               3023\n",
       "3                     4                497\n",
       "4                     5                 91\n",
       "5                     6                 10\n",
       "6                     7                  2\n",
       "7                     9                  1"
      ]
     },
     "execution_count": 17,
     "metadata": {},
     "output_type": "execute_result"
    }
   ],
   "source": [
    "number_captures_by_inmate = inmate.groupby(['INTERNOEN'])['FECHA_INGRESO'].nunique().value_counts() \\\n",
    "                            .reset_index().rename(columns = {'index': 'Unique Fecha Ingreso', \n",
    "                                                             'FECHA_INGRESO': 'Number of Inmates'})\n",
    "number_captures_by_inmate"
   ]
  },
  {
   "cell_type": "code",
   "execution_count": 18,
   "metadata": {
    "ExecuteTime": {
     "end_time": "2020-07-20T20:32:49.160500Z",
     "start_time": "2020-07-20T20:32:49.017410Z"
    }
   },
   "outputs": [
    {
     "data": {
      "application/vnd.plotly.v1+json": {
       "config": {
        "plotlyServerURL": "https://plot.ly"
       },
       "data": [
        {
         "alignmentgroup": "True",
         "hovertemplate": "Unique Fecha Ingreso=%{x}<br>Number of Inmates=%{y}<extra></extra>",
         "legendgroup": "",
         "marker": {
          "color": "#636efa"
         },
         "name": "",
         "offsetgroup": "",
         "orientation": "v",
         "showlegend": false,
         "textposition": "auto",
         "type": "bar",
         "x": [
          1,
          2,
          3,
          4,
          5,
          6,
          7,
          9
         ],
         "xaxis": "x",
         "y": [
          58739,
          16478,
          3023,
          497,
          91,
          10,
          2,
          1
         ],
         "yaxis": "y"
        }
       ],
       "layout": {
        "barmode": "relative",
        "legend": {
         "tracegroupgap": 0
        },
        "template": {
         "data": {
          "bar": [
           {
            "error_x": {
             "color": "#2a3f5f"
            },
            "error_y": {
             "color": "#2a3f5f"
            },
            "marker": {
             "line": {
              "color": "#E5ECF6",
              "width": 0.5
             }
            },
            "type": "bar"
           }
          ],
          "barpolar": [
           {
            "marker": {
             "line": {
              "color": "#E5ECF6",
              "width": 0.5
             }
            },
            "type": "barpolar"
           }
          ],
          "carpet": [
           {
            "aaxis": {
             "endlinecolor": "#2a3f5f",
             "gridcolor": "white",
             "linecolor": "white",
             "minorgridcolor": "white",
             "startlinecolor": "#2a3f5f"
            },
            "baxis": {
             "endlinecolor": "#2a3f5f",
             "gridcolor": "white",
             "linecolor": "white",
             "minorgridcolor": "white",
             "startlinecolor": "#2a3f5f"
            },
            "type": "carpet"
           }
          ],
          "choropleth": [
           {
            "colorbar": {
             "outlinewidth": 0,
             "ticks": ""
            },
            "type": "choropleth"
           }
          ],
          "contour": [
           {
            "colorbar": {
             "outlinewidth": 0,
             "ticks": ""
            },
            "colorscale": [
             [
              0,
              "#0d0887"
             ],
             [
              0.1111111111111111,
              "#46039f"
             ],
             [
              0.2222222222222222,
              "#7201a8"
             ],
             [
              0.3333333333333333,
              "#9c179e"
             ],
             [
              0.4444444444444444,
              "#bd3786"
             ],
             [
              0.5555555555555556,
              "#d8576b"
             ],
             [
              0.6666666666666666,
              "#ed7953"
             ],
             [
              0.7777777777777778,
              "#fb9f3a"
             ],
             [
              0.8888888888888888,
              "#fdca26"
             ],
             [
              1,
              "#f0f921"
             ]
            ],
            "type": "contour"
           }
          ],
          "contourcarpet": [
           {
            "colorbar": {
             "outlinewidth": 0,
             "ticks": ""
            },
            "type": "contourcarpet"
           }
          ],
          "heatmap": [
           {
            "colorbar": {
             "outlinewidth": 0,
             "ticks": ""
            },
            "colorscale": [
             [
              0,
              "#0d0887"
             ],
             [
              0.1111111111111111,
              "#46039f"
             ],
             [
              0.2222222222222222,
              "#7201a8"
             ],
             [
              0.3333333333333333,
              "#9c179e"
             ],
             [
              0.4444444444444444,
              "#bd3786"
             ],
             [
              0.5555555555555556,
              "#d8576b"
             ],
             [
              0.6666666666666666,
              "#ed7953"
             ],
             [
              0.7777777777777778,
              "#fb9f3a"
             ],
             [
              0.8888888888888888,
              "#fdca26"
             ],
             [
              1,
              "#f0f921"
             ]
            ],
            "type": "heatmap"
           }
          ],
          "heatmapgl": [
           {
            "colorbar": {
             "outlinewidth": 0,
             "ticks": ""
            },
            "colorscale": [
             [
              0,
              "#0d0887"
             ],
             [
              0.1111111111111111,
              "#46039f"
             ],
             [
              0.2222222222222222,
              "#7201a8"
             ],
             [
              0.3333333333333333,
              "#9c179e"
             ],
             [
              0.4444444444444444,
              "#bd3786"
             ],
             [
              0.5555555555555556,
              "#d8576b"
             ],
             [
              0.6666666666666666,
              "#ed7953"
             ],
             [
              0.7777777777777778,
              "#fb9f3a"
             ],
             [
              0.8888888888888888,
              "#fdca26"
             ],
             [
              1,
              "#f0f921"
             ]
            ],
            "type": "heatmapgl"
           }
          ],
          "histogram": [
           {
            "marker": {
             "colorbar": {
              "outlinewidth": 0,
              "ticks": ""
             }
            },
            "type": "histogram"
           }
          ],
          "histogram2d": [
           {
            "colorbar": {
             "outlinewidth": 0,
             "ticks": ""
            },
            "colorscale": [
             [
              0,
              "#0d0887"
             ],
             [
              0.1111111111111111,
              "#46039f"
             ],
             [
              0.2222222222222222,
              "#7201a8"
             ],
             [
              0.3333333333333333,
              "#9c179e"
             ],
             [
              0.4444444444444444,
              "#bd3786"
             ],
             [
              0.5555555555555556,
              "#d8576b"
             ],
             [
              0.6666666666666666,
              "#ed7953"
             ],
             [
              0.7777777777777778,
              "#fb9f3a"
             ],
             [
              0.8888888888888888,
              "#fdca26"
             ],
             [
              1,
              "#f0f921"
             ]
            ],
            "type": "histogram2d"
           }
          ],
          "histogram2dcontour": [
           {
            "colorbar": {
             "outlinewidth": 0,
             "ticks": ""
            },
            "colorscale": [
             [
              0,
              "#0d0887"
             ],
             [
              0.1111111111111111,
              "#46039f"
             ],
             [
              0.2222222222222222,
              "#7201a8"
             ],
             [
              0.3333333333333333,
              "#9c179e"
             ],
             [
              0.4444444444444444,
              "#bd3786"
             ],
             [
              0.5555555555555556,
              "#d8576b"
             ],
             [
              0.6666666666666666,
              "#ed7953"
             ],
             [
              0.7777777777777778,
              "#fb9f3a"
             ],
             [
              0.8888888888888888,
              "#fdca26"
             ],
             [
              1,
              "#f0f921"
             ]
            ],
            "type": "histogram2dcontour"
           }
          ],
          "mesh3d": [
           {
            "colorbar": {
             "outlinewidth": 0,
             "ticks": ""
            },
            "type": "mesh3d"
           }
          ],
          "parcoords": [
           {
            "line": {
             "colorbar": {
              "outlinewidth": 0,
              "ticks": ""
             }
            },
            "type": "parcoords"
           }
          ],
          "pie": [
           {
            "automargin": true,
            "type": "pie"
           }
          ],
          "scatter": [
           {
            "marker": {
             "colorbar": {
              "outlinewidth": 0,
              "ticks": ""
             }
            },
            "type": "scatter"
           }
          ],
          "scatter3d": [
           {
            "line": {
             "colorbar": {
              "outlinewidth": 0,
              "ticks": ""
             }
            },
            "marker": {
             "colorbar": {
              "outlinewidth": 0,
              "ticks": ""
             }
            },
            "type": "scatter3d"
           }
          ],
          "scattercarpet": [
           {
            "marker": {
             "colorbar": {
              "outlinewidth": 0,
              "ticks": ""
             }
            },
            "type": "scattercarpet"
           }
          ],
          "scattergeo": [
           {
            "marker": {
             "colorbar": {
              "outlinewidth": 0,
              "ticks": ""
             }
            },
            "type": "scattergeo"
           }
          ],
          "scattergl": [
           {
            "marker": {
             "colorbar": {
              "outlinewidth": 0,
              "ticks": ""
             }
            },
            "type": "scattergl"
           }
          ],
          "scattermapbox": [
           {
            "marker": {
             "colorbar": {
              "outlinewidth": 0,
              "ticks": ""
             }
            },
            "type": "scattermapbox"
           }
          ],
          "scatterpolar": [
           {
            "marker": {
             "colorbar": {
              "outlinewidth": 0,
              "ticks": ""
             }
            },
            "type": "scatterpolar"
           }
          ],
          "scatterpolargl": [
           {
            "marker": {
             "colorbar": {
              "outlinewidth": 0,
              "ticks": ""
             }
            },
            "type": "scatterpolargl"
           }
          ],
          "scatterternary": [
           {
            "marker": {
             "colorbar": {
              "outlinewidth": 0,
              "ticks": ""
             }
            },
            "type": "scatterternary"
           }
          ],
          "surface": [
           {
            "colorbar": {
             "outlinewidth": 0,
             "ticks": ""
            },
            "colorscale": [
             [
              0,
              "#0d0887"
             ],
             [
              0.1111111111111111,
              "#46039f"
             ],
             [
              0.2222222222222222,
              "#7201a8"
             ],
             [
              0.3333333333333333,
              "#9c179e"
             ],
             [
              0.4444444444444444,
              "#bd3786"
             ],
             [
              0.5555555555555556,
              "#d8576b"
             ],
             [
              0.6666666666666666,
              "#ed7953"
             ],
             [
              0.7777777777777778,
              "#fb9f3a"
             ],
             [
              0.8888888888888888,
              "#fdca26"
             ],
             [
              1,
              "#f0f921"
             ]
            ],
            "type": "surface"
           }
          ],
          "table": [
           {
            "cells": {
             "fill": {
              "color": "#EBF0F8"
             },
             "line": {
              "color": "white"
             }
            },
            "header": {
             "fill": {
              "color": "#C8D4E3"
             },
             "line": {
              "color": "white"
             }
            },
            "type": "table"
           }
          ]
         },
         "layout": {
          "annotationdefaults": {
           "arrowcolor": "#2a3f5f",
           "arrowhead": 0,
           "arrowwidth": 1
          },
          "coloraxis": {
           "colorbar": {
            "outlinewidth": 0,
            "ticks": ""
           }
          },
          "colorscale": {
           "diverging": [
            [
             0,
             "#8e0152"
            ],
            [
             0.1,
             "#c51b7d"
            ],
            [
             0.2,
             "#de77ae"
            ],
            [
             0.3,
             "#f1b6da"
            ],
            [
             0.4,
             "#fde0ef"
            ],
            [
             0.5,
             "#f7f7f7"
            ],
            [
             0.6,
             "#e6f5d0"
            ],
            [
             0.7,
             "#b8e186"
            ],
            [
             0.8,
             "#7fbc41"
            ],
            [
             0.9,
             "#4d9221"
            ],
            [
             1,
             "#276419"
            ]
           ],
           "sequential": [
            [
             0,
             "#0d0887"
            ],
            [
             0.1111111111111111,
             "#46039f"
            ],
            [
             0.2222222222222222,
             "#7201a8"
            ],
            [
             0.3333333333333333,
             "#9c179e"
            ],
            [
             0.4444444444444444,
             "#bd3786"
            ],
            [
             0.5555555555555556,
             "#d8576b"
            ],
            [
             0.6666666666666666,
             "#ed7953"
            ],
            [
             0.7777777777777778,
             "#fb9f3a"
            ],
            [
             0.8888888888888888,
             "#fdca26"
            ],
            [
             1,
             "#f0f921"
            ]
           ],
           "sequentialminus": [
            [
             0,
             "#0d0887"
            ],
            [
             0.1111111111111111,
             "#46039f"
            ],
            [
             0.2222222222222222,
             "#7201a8"
            ],
            [
             0.3333333333333333,
             "#9c179e"
            ],
            [
             0.4444444444444444,
             "#bd3786"
            ],
            [
             0.5555555555555556,
             "#d8576b"
            ],
            [
             0.6666666666666666,
             "#ed7953"
            ],
            [
             0.7777777777777778,
             "#fb9f3a"
            ],
            [
             0.8888888888888888,
             "#fdca26"
            ],
            [
             1,
             "#f0f921"
            ]
           ]
          },
          "colorway": [
           "#636efa",
           "#EF553B",
           "#00cc96",
           "#ab63fa",
           "#FFA15A",
           "#19d3f3",
           "#FF6692",
           "#B6E880",
           "#FF97FF",
           "#FECB52"
          ],
          "font": {
           "color": "#2a3f5f"
          },
          "geo": {
           "bgcolor": "white",
           "lakecolor": "white",
           "landcolor": "#E5ECF6",
           "showlakes": true,
           "showland": true,
           "subunitcolor": "white"
          },
          "hoverlabel": {
           "align": "left"
          },
          "hovermode": "closest",
          "mapbox": {
           "style": "light"
          },
          "paper_bgcolor": "white",
          "plot_bgcolor": "#E5ECF6",
          "polar": {
           "angularaxis": {
            "gridcolor": "white",
            "linecolor": "white",
            "ticks": ""
           },
           "bgcolor": "#E5ECF6",
           "radialaxis": {
            "gridcolor": "white",
            "linecolor": "white",
            "ticks": ""
           }
          },
          "scene": {
           "xaxis": {
            "backgroundcolor": "#E5ECF6",
            "gridcolor": "white",
            "gridwidth": 2,
            "linecolor": "white",
            "showbackground": true,
            "ticks": "",
            "zerolinecolor": "white"
           },
           "yaxis": {
            "backgroundcolor": "#E5ECF6",
            "gridcolor": "white",
            "gridwidth": 2,
            "linecolor": "white",
            "showbackground": true,
            "ticks": "",
            "zerolinecolor": "white"
           },
           "zaxis": {
            "backgroundcolor": "#E5ECF6",
            "gridcolor": "white",
            "gridwidth": 2,
            "linecolor": "white",
            "showbackground": true,
            "ticks": "",
            "zerolinecolor": "white"
           }
          },
          "shapedefaults": {
           "line": {
            "color": "#2a3f5f"
           }
          },
          "ternary": {
           "aaxis": {
            "gridcolor": "white",
            "linecolor": "white",
            "ticks": ""
           },
           "baxis": {
            "gridcolor": "white",
            "linecolor": "white",
            "ticks": ""
           },
           "bgcolor": "#E5ECF6",
           "caxis": {
            "gridcolor": "white",
            "linecolor": "white",
            "ticks": ""
           }
          },
          "title": {
           "x": 0.05
          },
          "xaxis": {
           "automargin": true,
           "gridcolor": "white",
           "linecolor": "white",
           "ticks": "",
           "title": {
            "standoff": 15
           },
           "zerolinecolor": "white",
           "zerolinewidth": 2
          },
          "yaxis": {
           "automargin": true,
           "gridcolor": "white",
           "linecolor": "white",
           "ticks": "",
           "title": {
            "standoff": 15
           },
           "zerolinecolor": "white",
           "zerolinewidth": 2
          }
         }
        },
        "title": {
         "text": "Inmates recividisim count"
        },
        "xaxis": {
         "anchor": "y",
         "domain": [
          0,
          1
         ],
         "title": {
          "text": "Unique Fecha Ingreso"
         }
        },
        "yaxis": {
         "anchor": "x",
         "domain": [
          0,
          1
         ],
         "title": {
          "text": "Number of Inmates"
         }
        }
       }
      },
      "text/html": [
       "<div>\n",
       "        \n",
       "        \n",
       "            <div id=\"92ec04ab-68de-45ef-aee5-58f76200346a\" class=\"plotly-graph-div\" style=\"height:525px; width:100%;\"></div>\n",
       "            <script type=\"text/javascript\">\n",
       "                require([\"plotly\"], function(Plotly) {\n",
       "                    window.PLOTLYENV=window.PLOTLYENV || {};\n",
       "                    \n",
       "                if (document.getElementById(\"92ec04ab-68de-45ef-aee5-58f76200346a\")) {\n",
       "                    Plotly.newPlot(\n",
       "                        '92ec04ab-68de-45ef-aee5-58f76200346a',\n",
       "                        [{\"alignmentgroup\": \"True\", \"hovertemplate\": \"Unique Fecha Ingreso=%{x}<br>Number of Inmates=%{y}<extra></extra>\", \"legendgroup\": \"\", \"marker\": {\"color\": \"#636efa\"}, \"name\": \"\", \"offsetgroup\": \"\", \"orientation\": \"v\", \"showlegend\": false, \"textposition\": \"auto\", \"type\": \"bar\", \"x\": [1, 2, 3, 4, 5, 6, 7, 9], \"xaxis\": \"x\", \"y\": [58739, 16478, 3023, 497, 91, 10, 2, 1], \"yaxis\": \"y\"}],\n",
       "                        {\"barmode\": \"relative\", \"legend\": {\"tracegroupgap\": 0}, \"template\": {\"data\": {\"bar\": [{\"error_x\": {\"color\": \"#2a3f5f\"}, \"error_y\": {\"color\": \"#2a3f5f\"}, \"marker\": {\"line\": {\"color\": \"#E5ECF6\", \"width\": 0.5}}, \"type\": \"bar\"}], \"barpolar\": [{\"marker\": {\"line\": {\"color\": \"#E5ECF6\", \"width\": 0.5}}, \"type\": \"barpolar\"}], \"carpet\": [{\"aaxis\": {\"endlinecolor\": \"#2a3f5f\", \"gridcolor\": \"white\", \"linecolor\": \"white\", \"minorgridcolor\": \"white\", \"startlinecolor\": \"#2a3f5f\"}, \"baxis\": {\"endlinecolor\": \"#2a3f5f\", \"gridcolor\": \"white\", \"linecolor\": \"white\", \"minorgridcolor\": \"white\", \"startlinecolor\": \"#2a3f5f\"}, \"type\": \"carpet\"}], \"choropleth\": [{\"colorbar\": {\"outlinewidth\": 0, \"ticks\": \"\"}, \"type\": \"choropleth\"}], \"contour\": [{\"colorbar\": {\"outlinewidth\": 0, \"ticks\": \"\"}, \"colorscale\": [[0.0, \"#0d0887\"], [0.1111111111111111, \"#46039f\"], [0.2222222222222222, \"#7201a8\"], [0.3333333333333333, \"#9c179e\"], [0.4444444444444444, \"#bd3786\"], [0.5555555555555556, \"#d8576b\"], [0.6666666666666666, \"#ed7953\"], [0.7777777777777778, \"#fb9f3a\"], [0.8888888888888888, \"#fdca26\"], [1.0, \"#f0f921\"]], \"type\": \"contour\"}], \"contourcarpet\": [{\"colorbar\": {\"outlinewidth\": 0, \"ticks\": \"\"}, \"type\": \"contourcarpet\"}], \"heatmap\": [{\"colorbar\": {\"outlinewidth\": 0, \"ticks\": \"\"}, \"colorscale\": [[0.0, \"#0d0887\"], [0.1111111111111111, \"#46039f\"], [0.2222222222222222, \"#7201a8\"], [0.3333333333333333, \"#9c179e\"], [0.4444444444444444, \"#bd3786\"], [0.5555555555555556, \"#d8576b\"], [0.6666666666666666, \"#ed7953\"], [0.7777777777777778, \"#fb9f3a\"], [0.8888888888888888, \"#fdca26\"], [1.0, \"#f0f921\"]], \"type\": \"heatmap\"}], \"heatmapgl\": [{\"colorbar\": {\"outlinewidth\": 0, \"ticks\": \"\"}, \"colorscale\": [[0.0, \"#0d0887\"], [0.1111111111111111, \"#46039f\"], [0.2222222222222222, \"#7201a8\"], [0.3333333333333333, \"#9c179e\"], [0.4444444444444444, \"#bd3786\"], [0.5555555555555556, \"#d8576b\"], [0.6666666666666666, \"#ed7953\"], [0.7777777777777778, \"#fb9f3a\"], [0.8888888888888888, \"#fdca26\"], [1.0, \"#f0f921\"]], \"type\": \"heatmapgl\"}], \"histogram\": [{\"marker\": {\"colorbar\": {\"outlinewidth\": 0, \"ticks\": \"\"}}, \"type\": \"histogram\"}], \"histogram2d\": [{\"colorbar\": {\"outlinewidth\": 0, \"ticks\": \"\"}, \"colorscale\": [[0.0, \"#0d0887\"], [0.1111111111111111, \"#46039f\"], [0.2222222222222222, \"#7201a8\"], [0.3333333333333333, \"#9c179e\"], [0.4444444444444444, \"#bd3786\"], [0.5555555555555556, \"#d8576b\"], [0.6666666666666666, \"#ed7953\"], [0.7777777777777778, \"#fb9f3a\"], [0.8888888888888888, \"#fdca26\"], [1.0, \"#f0f921\"]], \"type\": \"histogram2d\"}], \"histogram2dcontour\": [{\"colorbar\": {\"outlinewidth\": 0, \"ticks\": \"\"}, \"colorscale\": [[0.0, \"#0d0887\"], [0.1111111111111111, \"#46039f\"], [0.2222222222222222, \"#7201a8\"], [0.3333333333333333, \"#9c179e\"], [0.4444444444444444, \"#bd3786\"], [0.5555555555555556, \"#d8576b\"], [0.6666666666666666, \"#ed7953\"], [0.7777777777777778, \"#fb9f3a\"], [0.8888888888888888, \"#fdca26\"], [1.0, \"#f0f921\"]], \"type\": \"histogram2dcontour\"}], \"mesh3d\": [{\"colorbar\": {\"outlinewidth\": 0, \"ticks\": \"\"}, \"type\": \"mesh3d\"}], \"parcoords\": [{\"line\": {\"colorbar\": {\"outlinewidth\": 0, \"ticks\": \"\"}}, \"type\": \"parcoords\"}], \"pie\": [{\"automargin\": true, \"type\": \"pie\"}], \"scatter\": [{\"marker\": {\"colorbar\": {\"outlinewidth\": 0, \"ticks\": \"\"}}, \"type\": \"scatter\"}], \"scatter3d\": [{\"line\": {\"colorbar\": {\"outlinewidth\": 0, \"ticks\": \"\"}}, \"marker\": {\"colorbar\": {\"outlinewidth\": 0, \"ticks\": \"\"}}, \"type\": \"scatter3d\"}], \"scattercarpet\": [{\"marker\": {\"colorbar\": {\"outlinewidth\": 0, \"ticks\": \"\"}}, \"type\": \"scattercarpet\"}], \"scattergeo\": [{\"marker\": {\"colorbar\": {\"outlinewidth\": 0, \"ticks\": \"\"}}, \"type\": \"scattergeo\"}], \"scattergl\": [{\"marker\": {\"colorbar\": {\"outlinewidth\": 0, \"ticks\": \"\"}}, \"type\": \"scattergl\"}], \"scattermapbox\": [{\"marker\": {\"colorbar\": {\"outlinewidth\": 0, \"ticks\": \"\"}}, \"type\": \"scattermapbox\"}], \"scatterpolar\": [{\"marker\": {\"colorbar\": {\"outlinewidth\": 0, \"ticks\": \"\"}}, \"type\": \"scatterpolar\"}], \"scatterpolargl\": [{\"marker\": {\"colorbar\": {\"outlinewidth\": 0, \"ticks\": \"\"}}, \"type\": \"scatterpolargl\"}], \"scatterternary\": [{\"marker\": {\"colorbar\": {\"outlinewidth\": 0, \"ticks\": \"\"}}, \"type\": \"scatterternary\"}], \"surface\": [{\"colorbar\": {\"outlinewidth\": 0, \"ticks\": \"\"}, \"colorscale\": [[0.0, \"#0d0887\"], [0.1111111111111111, \"#46039f\"], [0.2222222222222222, \"#7201a8\"], [0.3333333333333333, \"#9c179e\"], [0.4444444444444444, \"#bd3786\"], [0.5555555555555556, \"#d8576b\"], [0.6666666666666666, \"#ed7953\"], [0.7777777777777778, \"#fb9f3a\"], [0.8888888888888888, \"#fdca26\"], [1.0, \"#f0f921\"]], \"type\": \"surface\"}], \"table\": [{\"cells\": {\"fill\": {\"color\": \"#EBF0F8\"}, \"line\": {\"color\": \"white\"}}, \"header\": {\"fill\": {\"color\": \"#C8D4E3\"}, \"line\": {\"color\": \"white\"}}, \"type\": \"table\"}]}, \"layout\": {\"annotationdefaults\": {\"arrowcolor\": \"#2a3f5f\", \"arrowhead\": 0, \"arrowwidth\": 1}, \"coloraxis\": {\"colorbar\": {\"outlinewidth\": 0, \"ticks\": \"\"}}, \"colorscale\": {\"diverging\": [[0, \"#8e0152\"], [0.1, \"#c51b7d\"], [0.2, \"#de77ae\"], [0.3, \"#f1b6da\"], [0.4, \"#fde0ef\"], [0.5, \"#f7f7f7\"], [0.6, \"#e6f5d0\"], [0.7, \"#b8e186\"], [0.8, \"#7fbc41\"], [0.9, \"#4d9221\"], [1, \"#276419\"]], \"sequential\": [[0.0, \"#0d0887\"], [0.1111111111111111, \"#46039f\"], [0.2222222222222222, \"#7201a8\"], [0.3333333333333333, \"#9c179e\"], [0.4444444444444444, \"#bd3786\"], [0.5555555555555556, \"#d8576b\"], [0.6666666666666666, \"#ed7953\"], [0.7777777777777778, \"#fb9f3a\"], [0.8888888888888888, \"#fdca26\"], [1.0, \"#f0f921\"]], \"sequentialminus\": [[0.0, \"#0d0887\"], [0.1111111111111111, \"#46039f\"], [0.2222222222222222, \"#7201a8\"], [0.3333333333333333, \"#9c179e\"], [0.4444444444444444, \"#bd3786\"], [0.5555555555555556, \"#d8576b\"], [0.6666666666666666, \"#ed7953\"], [0.7777777777777778, \"#fb9f3a\"], [0.8888888888888888, \"#fdca26\"], [1.0, \"#f0f921\"]]}, \"colorway\": [\"#636efa\", \"#EF553B\", \"#00cc96\", \"#ab63fa\", \"#FFA15A\", \"#19d3f3\", \"#FF6692\", \"#B6E880\", \"#FF97FF\", \"#FECB52\"], \"font\": {\"color\": \"#2a3f5f\"}, \"geo\": {\"bgcolor\": \"white\", \"lakecolor\": \"white\", \"landcolor\": \"#E5ECF6\", \"showlakes\": true, \"showland\": true, \"subunitcolor\": \"white\"}, \"hoverlabel\": {\"align\": \"left\"}, \"hovermode\": \"closest\", \"mapbox\": {\"style\": \"light\"}, \"paper_bgcolor\": \"white\", \"plot_bgcolor\": \"#E5ECF6\", \"polar\": {\"angularaxis\": {\"gridcolor\": \"white\", \"linecolor\": \"white\", \"ticks\": \"\"}, \"bgcolor\": \"#E5ECF6\", \"radialaxis\": {\"gridcolor\": \"white\", \"linecolor\": \"white\", \"ticks\": \"\"}}, \"scene\": {\"xaxis\": {\"backgroundcolor\": \"#E5ECF6\", \"gridcolor\": \"white\", \"gridwidth\": 2, \"linecolor\": \"white\", \"showbackground\": true, \"ticks\": \"\", \"zerolinecolor\": \"white\"}, \"yaxis\": {\"backgroundcolor\": \"#E5ECF6\", \"gridcolor\": \"white\", \"gridwidth\": 2, \"linecolor\": \"white\", \"showbackground\": true, \"ticks\": \"\", \"zerolinecolor\": \"white\"}, \"zaxis\": {\"backgroundcolor\": \"#E5ECF6\", \"gridcolor\": \"white\", \"gridwidth\": 2, \"linecolor\": \"white\", \"showbackground\": true, \"ticks\": \"\", \"zerolinecolor\": \"white\"}}, \"shapedefaults\": {\"line\": {\"color\": \"#2a3f5f\"}}, \"ternary\": {\"aaxis\": {\"gridcolor\": \"white\", \"linecolor\": \"white\", \"ticks\": \"\"}, \"baxis\": {\"gridcolor\": \"white\", \"linecolor\": \"white\", \"ticks\": \"\"}, \"bgcolor\": \"#E5ECF6\", \"caxis\": {\"gridcolor\": \"white\", \"linecolor\": \"white\", \"ticks\": \"\"}}, \"title\": {\"x\": 0.05}, \"xaxis\": {\"automargin\": true, \"gridcolor\": \"white\", \"linecolor\": \"white\", \"ticks\": \"\", \"title\": {\"standoff\": 15}, \"zerolinecolor\": \"white\", \"zerolinewidth\": 2}, \"yaxis\": {\"automargin\": true, \"gridcolor\": \"white\", \"linecolor\": \"white\", \"ticks\": \"\", \"title\": {\"standoff\": 15}, \"zerolinecolor\": \"white\", \"zerolinewidth\": 2}}}, \"title\": {\"text\": \"Inmates recividisim count\"}, \"xaxis\": {\"anchor\": \"y\", \"domain\": [0.0, 1.0], \"title\": {\"text\": \"Unique Fecha Ingreso\"}}, \"yaxis\": {\"anchor\": \"x\", \"domain\": [0.0, 1.0], \"title\": {\"text\": \"Number of Inmates\"}}},\n",
       "                        {\"responsive\": true}\n",
       "                    ).then(function(){\n",
       "                            \n",
       "var gd = document.getElementById('92ec04ab-68de-45ef-aee5-58f76200346a');\n",
       "var x = new MutationObserver(function (mutations, observer) {{\n",
       "        var display = window.getComputedStyle(gd).display;\n",
       "        if (!display || display === 'none') {{\n",
       "            console.log([gd, 'removed!']);\n",
       "            Plotly.purge(gd);\n",
       "            observer.disconnect();\n",
       "        }}\n",
       "}});\n",
       "\n",
       "// Listen for the removal of the full notebook cells\n",
       "var notebookContainer = gd.closest('#notebook-container');\n",
       "if (notebookContainer) {{\n",
       "    x.observe(notebookContainer, {childList: true});\n",
       "}}\n",
       "\n",
       "// Listen for the clearing of the current output cell\n",
       "var outputEl = gd.closest('.output');\n",
       "if (outputEl) {{\n",
       "    x.observe(outputEl, {childList: true});\n",
       "}}\n",
       "\n",
       "                        })\n",
       "                };\n",
       "                });\n",
       "            </script>\n",
       "        </div>"
      ]
     },
     "metadata": {},
     "output_type": "display_data"
    }
   ],
   "source": [
    "import plotly.express as px\n",
    "fig = px.bar(number_captures_by_inmate, \n",
    "             x='Unique Fecha Ingreso', \n",
    "             y='Number of Inmates',\n",
    "             title = 'Inmates recividisim count')\n",
    "fig.show()"
   ]
  },
  {
   "cell_type": "code",
   "execution_count": 4,
   "metadata": {
    "ExecuteTime": {
     "end_time": "2020-07-24T15:20:03.070184Z",
     "start_time": "2020-07-24T15:20:02.952672Z"
    }
   },
   "outputs": [],
   "source": [
    "top10 = list(inmate.DELITO.value_counts().to_frame().reset_index().rename(columns = {'index':'DELITONAME'}).head(10)['DELITONAME'])"
   ]
  },
  {
   "cell_type": "code",
   "execution_count": 38,
   "metadata": {
    "ExecuteTime": {
     "end_time": "2020-07-24T15:56:08.152411Z",
     "start_time": "2020-07-24T15:56:07.929449Z"
    }
   },
   "outputs": [],
   "source": [
    "delitos = inmate.DELITO.unique()\n",
    "inmate['delito_'] = inmate.DELITO.str.replace(' ','_')\n",
    "delitos2_ =inmate['delito_'].unique()"
   ]
  },
  {
   "cell_type": "code",
   "execution_count": 17,
   "metadata": {
    "ExecuteTime": {
     "end_time": "2020-07-24T15:33:38.404673Z",
     "start_time": "2020-07-24T15:33:38.362010Z"
    }
   },
   "outputs": [],
   "source": [
    "not_top10 = np.isin(delitos,top10,invert=True)\n",
    "not_top10_list = delitos[not_top10]"
   ]
  },
  {
   "cell_type": "code",
   "execution_count": 8,
   "metadata": {
    "ExecuteTime": {
     "end_time": "2020-07-24T17:07:11.112749Z",
     "start_time": "2020-07-24T17:07:10.604903Z"
    }
   },
   "outputs": [
    {
     "name": "stdout",
     "output_type": "stream",
     "text": [
      "313\n"
     ]
    },
    {
     "name": "stderr",
     "output_type": "stream",
     "text": [
      "[nltk_data] Downloading package stopwords to /home/jovyan/nltk_data...\n",
      "[nltk_data]   Package stopwords is already up-to-date!\n"
     ]
    }
   ],
   "source": [
    "import nltk\n",
    "nltk.download('stopwords')\n",
    "noise_words = []\n",
    "stopwords_corpus = nltk.corpus.stopwords\n",
    "es_stop_words = stopwords_corpus.words('spanish')\n",
    "noise_words.extend(es_stop_words)\n",
    "print(len(noise_words))"
   ]
  },
  {
   "cell_type": "code",
   "execution_count": 15,
   "metadata": {
    "ExecuteTime": {
     "end_time": "2020-07-24T17:27:11.725360Z",
     "start_time": "2020-07-24T17:27:08.111763Z"
    }
   },
   "outputs": [
    {
     "data": {
      "image/svg+xml": [
       "<?xml version=\"1.0\" encoding=\"utf-8\" standalone=\"no\"?>\n",
       "<!DOCTYPE svg PUBLIC \"-//W3C//DTD SVG 1.1//EN\"\n",
       "  \"http://www.w3.org/Graphics/SVG/1.1/DTD/svg11.dtd\">\n",
       "<!-- Created with matplotlib (http://matplotlib.org/) -->\n",
       "<svg height=\"201.978125pt\" version=\"1.1\" viewBox=\"0 0 385.24975 201.978125\" width=\"385.24975pt\" xmlns=\"http://www.w3.org/2000/svg\" xmlns:xlink=\"http://www.w3.org/1999/xlink\">\n",
       " <defs>\n",
       "  <style type=\"text/css\">\n",
       "*{stroke-linecap:butt;stroke-linejoin:round;}\n",
       "  </style>\n",
       " </defs>\n",
       " <g id=\"figure_1\">\n",
       "  <g id=\"patch_1\">\n",
       "   <path d=\"M 0 201.978125 \n",
       "L 385.24975 201.978125 \n",
       "L 385.24975 0 \n",
       "L 0 0 \n",
       "z\n",
       "\" style=\"fill:none;\"/>\n",
       "  </g>\n",
       "  <g id=\"axes_1\">\n",
       "   <g clip-path=\"url(#pabc6e7764b)\">\n",
       "    <image height=\"168\" id=\"imagede42400303\" transform=\"scale(1 -1)translate(0 -168)\" width=\"335\" x=\"33.2875\" xlink:href=\"data:image/png;base64,\n",
       "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\" y=\"-10.1\"/>\n",
       "   </g>\n",
       "  </g>\n",
       " </g>\n",
       " <defs>\n",
       "  <clipPath id=\"pabc6e7764b\">\n",
       "   <rect height=\"167.4\" width=\"334.8\" x=\"33.2875\" y=\"10.7\"/>\n",
       "  </clipPath>\n",
       " </defs>\n",
       "</svg>\n"
      ],
      "text/plain": [
       "<Figure size 432x288 with 1 Axes>"
      ]
     },
     "metadata": {
      "needs_background": "light"
     },
     "output_type": "display_data"
    }
   ],
   "source": [
    "word_cloud_text = ''.join(inmate.DELITO)\n",
    "wordcloud = WordCloud(\n",
    "    #max_font_size=40,\n",
    "    max_words=260,\n",
    "    background_color=\"white\",\n",
    "    stopwords=noise_words\n",
    ").generate(word_cloud_text)\n",
    "default_color = 'grey'\n",
    "plt.figure()\n",
    "plt.imshow(wordcloud, interpolation=\"bilinear\")\n",
    "plt.axis(\"off\")\n",
    "plt.show()"
   ]
  },
  {
   "cell_type": "code",
   "execution_count": null,
   "metadata": {},
   "outputs": [],
   "source": [
    "import nltk\n",
    "nltk.download('punkt')"
   ]
  },
  {
   "cell_type": "code",
   "execution_count": 171,
   "metadata": {
    "ExecuteTime": {
     "end_time": "2020-07-24T16:51:04.193769Z",
     "start_time": "2020-07-24T16:51:04.180372Z"
    }
   },
   "outputs": [],
   "source": [
    "list_w=[]\n",
    "for delito in top10:\n",
    "    words = nltk.word_tokenize(delito)  \n",
    "    list_w.append(words)"
   ]
  },
  {
   "cell_type": "code",
   "execution_count": 174,
   "metadata": {
    "ExecuteTime": {
     "end_time": "2020-07-24T16:54:17.520779Z",
     "start_time": "2020-07-24T16:54:17.460755Z"
    }
   },
   "outputs": [],
   "source": [
    "flattened = [val for sublist in list_w for val in sublist]"
   ]
  },
  {
   "cell_type": "code",
   "execution_count": 181,
   "metadata": {
    "ExecuteTime": {
     "end_time": "2020-07-24T16:55:51.930573Z",
     "start_time": "2020-07-24T16:55:49.030424Z"
    }
   },
   "outputs": [
    {
     "data": {
      "image/png": "[encoded data removed]",
      "text/plain": [
       "<Figure size 432x288 with 1 Axes>"
      ]
     },
     "metadata": {
      "needs_background": "light"
     },
     "output_type": "display_data"
    }
   ],
   "source": [
    "from wordcloud import (WordCloud, get_single_color_func)\n",
    "word_cloud_text = ''.join(inmate.DELITO)\n",
    "wc = WordCloud(\n",
    "    max_words=260,\n",
    "    background_color=\"white\",\n",
    "    #stopwords=noise_words\n",
    ").generate(word_cloud_text)\n",
    "color_to_words = {'red': flattened}\n",
    "default_color = 'grey'\n",
    "grouped_color_func = GroupedColorFunc(color_to_words, default_color)\n",
    "# Apply our color function\n",
    "wc.recolor(color_func=grouped_color_func)\n",
    "plt.figure()\n",
    "plt.imshow(wc, interpolation=\"bilinear\")\n",
    "plt.axis(\"off\")\n",
    "plt.show()"
   ]
  },
  {
   "cell_type": "code",
   "execution_count": 14,
   "metadata": {
    "ExecuteTime": {
     "end_time": "2020-07-24T17:26:53.764556Z",
     "start_time": "2020-07-24T17:26:53.177842Z"
    }
   },
   "outputs": [],
   "source": [
    "import matplotlib\n",
    "#matplotlib.use('SVG') #set the backend to SVG\n",
    "%config InlineBackend.figure_format = 'svg'\n",
    "%matplotlib inline\n",
    "import matplotlib.pyplot as plt"
   ]
  },
  {
   "cell_type": "code",
   "execution_count": 16,
   "metadata": {
    "ExecuteTime": {
     "end_time": "2020-07-24T17:28:05.954266Z",
     "start_time": "2020-07-24T17:28:05.391643Z"
    }
   },
   "outputs": [
    {
     "data": {
      "image/svg+xml": [
       "<?xml version=\"1.0\" encoding=\"utf-8\" standalone=\"no\"?>\n",
       "<!DOCTYPE svg PUBLIC \"-//W3C//DTD SVG 1.1//EN\"\n",
       "  \"http://www.w3.org/Graphics/SVG/1.1/DTD/svg11.dtd\">\n",
       "<!-- Created with matplotlib (http://matplotlib.org/) -->\n",
       "<svg height=\"201.978125pt\" version=\"1.1\" viewBox=\"0 0 385.24975 201.978125\" width=\"385.24975pt\" xmlns=\"http://www.w3.org/2000/svg\" xmlns:xlink=\"http://www.w3.org/1999/xlink\">\n",
       " <defs>\n",
       "  <style type=\"text/css\">\n",
       "*{stroke-linecap:butt;stroke-linejoin:round;}\n",
       "  </style>\n",
       " </defs>\n",
       " <g id=\"figure_1\">\n",
       "  <g id=\"patch_1\">\n",
       "   <path d=\"M 0 201.978125 \n",
       "L 385.24975 201.978125 \n",
       "L 385.24975 0 \n",
       "L 0 0 \n",
       "z\n",
       "\" style=\"fill:none;\"/>\n",
       "  </g>\n",
       "  <g id=\"axes_1\">\n",
       "   <g clip-path=\"url(#p520e842a2f)\">\n",
       "    <image height=\"168\" id=\"imagefde2d57e58\" transform=\"scale(1 -1)translate(0 -168)\" width=\"335\" x=\"33.2875\" xlink:href=\"data:image/png;base64,\n",
       "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\" y=\"-10.1\"/>\n",
       "   </g>\n",
       "  </g>\n",
       " </g>\n",
       " <defs>\n",
       "  <clipPath id=\"p520e842a2f\">\n",
       "   <rect height=\"167.4\" width=\"334.8\" x=\"33.2875\" y=\"10.7\"/>\n",
       "  </clipPath>\n",
       " </defs>\n",
       "</svg>\n"
      ],
      "text/plain": [
       "<Figure size 432x288 with 1 Axes>"
      ]
     },
     "metadata": {
      "needs_background": "light"
     },
     "output_type": "display_data"
    }
   ],
   "source": [
    "fname = \"cloud_test\"\n",
    "plt.imshow(wordcloud, interpolation=\"bilinear\") \n",
    "plt.axis(\"off\")\n",
    "fig = plt.gcf() #get current figure\n",
    "#fig.set_size_inches(10,10)  \n",
    "plt.savefig(fname)"
   ]
  },
  {
   "cell_type": "code",
   "execution_count": null,
   "metadata": {},
   "outputs": [],
   "source": []
  }
 ],
 "metadata": {
  "kernelspec": {
   "display_name": "Python 3",
   "language": "python",
   "name": "python3"
  },
  "language_info": {
   "codemirror_mode": {
    "name": "ipython",
    "version": 3
   },
   "file_extension": ".py",
   "mimetype": "text/x-python",
   "name": "python",
   "nbconvert_exporter": "python",
   "pygments_lexer": "ipython3",
   "version": "3.6.7"
  },
  "toc": {
   "base_numbering": 1,
   "nav_menu": {},
   "number_sections": true,
   "sideBar": true,
   "skip_h1_title": false,
   "title_cell": "Table of Contents",
   "title_sidebar": "Contents",
   "toc_cell": false,
   "toc_position": {},
   "toc_section_display": true,
   "toc_window_display": false
  },
  "varInspector": {
   "cols": {
    "lenName": 16,
    "lenType": 16,
    "lenVar": 40
   },
   "kernels_config": {
    "python": {
     "delete_cmd_postfix": "",
     "delete_cmd_prefix": "del ",
     "library": "var_list.py",
     "varRefreshCmd": "print(var_dic_list())"
    },
    "r": {
     "delete_cmd_postfix": ") ",
     "delete_cmd_prefix": "rm(",
     "library": "var_list.r",
     "varRefreshCmd": "cat(var_dic_list()) "
    }
   },
   "types_to_exclude": [
    "module",
    "function",
    "builtin_function_or_method",
    "instance",
    "_Feature"
   ],
   "window_display": false
  }
 },
 "nbformat": 4,
 "nbformat_minor": 2
}
