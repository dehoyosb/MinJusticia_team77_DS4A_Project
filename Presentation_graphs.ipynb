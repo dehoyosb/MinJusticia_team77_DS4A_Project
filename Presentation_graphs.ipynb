{
 "cells": [
  {
   "cell_type": "markdown",
   "metadata": {},
   "source": [
    "# Dependecies and data load"
   ]
  },
  {
   "cell_type": "code",
   "execution_count": 18,
   "metadata": {
    "ExecuteTime": {
     "end_time": "2020-07-25T00:11:59.206921Z",
     "start_time": "2020-07-25T00:11:59.191874Z"
    }
   },
   "outputs": [],
   "source": [
    "import pandas as pd\n",
    "import plotly\n",
    "import plotly.graph_objs as go\n",
    "import plotly.graph_objects as go2\n",
    "# conda install -c plotly plotly=4.9.0\n",
    "# conda install \"notebook>=5.3\" \"ipywidgets>=7.2\""
   ]
  },
  {
   "cell_type": "code",
   "execution_count": 19,
   "metadata": {
    "ExecuteTime": {
     "end_time": "2020-07-25T00:12:02.291138Z",
     "start_time": "2020-07-25T00:12:01.953782Z"
    }
   },
   "outputs": [],
   "source": [
    "import os\n",
    "from collections import Counter\n",
    "import matplotlib.pyplot as plt\n",
    "import seaborn             as sns; sns.set() # A package to make Matplotlib visualizations more aesthetic\n",
    "import numpy as np\n",
    "import pandas as pd\n",
    "from pylab import rcParams\n",
    "from wordcloud import WordCloud\n",
    "from nltk import word_tokenize"
   ]
  },
  {
   "cell_type": "code",
   "execution_count": 20,
   "metadata": {
    "ExecuteTime": {
     "end_time": "2020-07-25T00:13:18.599948Z",
     "start_time": "2020-07-25T00:12:04.943832Z"
    }
   },
   "outputs": [],
   "source": [
    "context = pd.read_csv('./data/contextMinJusticia.csv', sep=';')\n",
    "inmate = pd.read_excel('./data/ReincidenciaPospenadosNal201011Junio2020Rev.xlsx', skiprows = 6)"
   ]
  },
  {
   "cell_type": "markdown",
   "metadata": {},
   "source": [
    "# Context plotly graphs"
   ]
  },
  {
   "cell_type": "code",
   "execution_count": 21,
   "metadata": {
    "ExecuteTime": {
     "end_time": "2020-07-25T00:13:19.271896Z",
     "start_time": "2020-07-25T00:13:19.215218Z"
    }
   },
   "outputs": [
    {
     "data": {
      "text/html": [
       "<div>\n",
       "<style scoped>\n",
       "    .dataframe tbody tr th:only-of-type {\n",
       "        vertical-align: middle;\n",
       "    }\n",
       "\n",
       "    .dataframe tbody tr th {\n",
       "        vertical-align: top;\n",
       "    }\n",
       "\n",
       "    .dataframe thead th {\n",
       "        text-align: right;\n",
       "    }\n",
       "</style>\n",
       "<table border=\"1\" class=\"dataframe\">\n",
       "  <thead>\n",
       "    <tr style=\"text-align: right;\">\n",
       "      <th></th>\n",
       "      <th>Year</th>\n",
       "      <th>Capacity</th>\n",
       "      <th>Population</th>\n",
       "    </tr>\n",
       "  </thead>\n",
       "  <tbody>\n",
       "    <tr>\n",
       "      <th>0</th>\n",
       "      <td>1991</td>\n",
       "      <td>28.319</td>\n",
       "      <td>29.355</td>\n",
       "    </tr>\n",
       "  </tbody>\n",
       "</table>\n",
       "</div>"
      ],
      "text/plain": [
       "   Year  Capacity  Population\n",
       "0  1991    28.319      29.355"
      ]
     },
     "execution_count": 21,
     "metadata": {},
     "output_type": "execute_result"
    }
   ],
   "source": [
    "context.head(1)"
   ]
  },
  {
   "cell_type": "code",
   "execution_count": 22,
   "metadata": {
    "ExecuteTime": {
     "end_time": "2020-07-25T00:18:50.221061Z",
     "start_time": "2020-07-25T00:18:32.874817Z"
    }
   },
   "outputs": [
    {
     "data": {
      "text/html": [
       "<div>\n",
       "<style scoped>\n",
       "    .dataframe tbody tr th:only-of-type {\n",
       "        vertical-align: middle;\n",
       "    }\n",
       "\n",
       "    .dataframe tbody tr th {\n",
       "        vertical-align: top;\n",
       "    }\n",
       "\n",
       "    .dataframe thead th {\n",
       "        text-align: right;\n",
       "    }\n",
       "</style>\n",
       "<table border=\"1\" class=\"dataframe\">\n",
       "  <thead>\n",
       "    <tr style=\"text-align: right;\">\n",
       "      <th></th>\n",
       "      <th>reoffenders</th>\n",
       "    </tr>\n",
       "    <tr>\n",
       "      <th>Year</th>\n",
       "      <th></th>\n",
       "    </tr>\n",
       "  </thead>\n",
       "  <tbody>\n",
       "    <tr>\n",
       "      <th>2010</th>\n",
       "      <td>7475</td>\n",
       "    </tr>\n",
       "  </tbody>\n",
       "</table>\n",
       "</div>"
      ],
      "text/plain": [
       "      reoffenders\n",
       "Year             \n",
       "2010         7475"
      ]
     },
     "execution_count": 22,
     "metadata": {},
     "output_type": "execute_result"
    }
   ],
   "source": [
    "people = inmate.groupby(['INTERNOEN','FECHA_INGRESO']).count().reset_index()\n",
    "people.FECHA_INGRESO = pd.to_datetime(people.FECHA_INGRESO)\n",
    "people['Year'] = people.FECHA_INGRESO.dt.year\n",
    "people = people[['INTERNOEN','FECHA_INGRESO','ESTADO','Year']]\n",
    "people.columns = ['INTERNOEN','FECHA_INGRESO','reoffenders','Year']\n",
    "#people.reset_index(inplace=True)\n",
    "people.shape\n",
    "people = people.groupby('Year').count()\n",
    "people = people['reoffenders']\n",
    "people = people.to_frame()\n",
    "people.head(1)"
   ]
  },
  {
   "cell_type": "code",
   "execution_count": 23,
   "metadata": {
    "ExecuteTime": {
     "end_time": "2020-07-25T00:19:07.789838Z",
     "start_time": "2020-07-25T00:19:07.603150Z"
    }
   },
   "outputs": [
    {
     "data": {
      "text/html": [
       "<div>\n",
       "<style scoped>\n",
       "    .dataframe tbody tr th:only-of-type {\n",
       "        vertical-align: middle;\n",
       "    }\n",
       "\n",
       "    .dataframe tbody tr th {\n",
       "        vertical-align: top;\n",
       "    }\n",
       "\n",
       "    .dataframe thead th {\n",
       "        text-align: right;\n",
       "    }\n",
       "</style>\n",
       "<table border=\"1\" class=\"dataframe\">\n",
       "  <thead>\n",
       "    <tr style=\"text-align: right;\">\n",
       "      <th></th>\n",
       "      <th>Capacity</th>\n",
       "      <th>Population</th>\n",
       "      <th>reoffenders</th>\n",
       "    </tr>\n",
       "    <tr>\n",
       "      <th>Year</th>\n",
       "      <th></th>\n",
       "      <th></th>\n",
       "      <th></th>\n",
       "    </tr>\n",
       "  </thead>\n",
       "  <tbody>\n",
       "    <tr>\n",
       "      <th>1991</th>\n",
       "      <td>28.319</td>\n",
       "      <td>29.355</td>\n",
       "      <td>NaN</td>\n",
       "    </tr>\n",
       "    <tr>\n",
       "      <th>1992</th>\n",
       "      <td>28.294</td>\n",
       "      <td>27.016</td>\n",
       "      <td>NaN</td>\n",
       "    </tr>\n",
       "    <tr>\n",
       "      <th>1993</th>\n",
       "      <td>28.084</td>\n",
       "      <td>28.260</td>\n",
       "      <td>NaN</td>\n",
       "    </tr>\n",
       "    <tr>\n",
       "      <th>1994</th>\n",
       "      <td>NaN</td>\n",
       "      <td>29.338</td>\n",
       "      <td>NaN</td>\n",
       "    </tr>\n",
       "    <tr>\n",
       "      <th>1995</th>\n",
       "      <td>NaN</td>\n",
       "      <td>31.960</td>\n",
       "      <td>NaN</td>\n",
       "    </tr>\n",
       "  </tbody>\n",
       "</table>\n",
       "</div>"
      ],
      "text/plain": [
       "      Capacity  Population  reoffenders\n",
       "Year                                   \n",
       "1991    28.319      29.355          NaN\n",
       "1992    28.294      27.016          NaN\n",
       "1993    28.084      28.260          NaN\n",
       "1994       NaN      29.338          NaN\n",
       "1995       NaN      31.960          NaN"
      ]
     },
     "execution_count": 23,
     "metadata": {},
     "output_type": "execute_result"
    }
   ],
   "source": [
    "df_merge = pd.merge(context,people, how='left',on ='Year')\n",
    "df_merge.set_index('Year',inplace=True)\n",
    "df_merge['reoffenders'] = df_merge['reoffenders']/1000\n",
    "df_merge.head(5)"
   ]
  },
  {
   "cell_type": "code",
   "execution_count": 25,
   "metadata": {
    "ExecuteTime": {
     "end_time": "2020-07-25T00:19:38.256371Z",
     "start_time": "2020-07-25T00:19:38.232252Z"
    }
   },
   "outputs": [],
   "source": [
    "labels = ['Population', 'Capacity', 'reoffenders']\n",
    "x_data_temp =[]\n",
    "y_data_temp = []\n",
    "for i,var in enumerate(labels):\n",
    "    x_data_temp.append(temp[temp.variable==var]['Year'].values)\n",
    "    y_data_temp.append(temp[temp.variable==var]['value'].values)"
   ]
  },
  {
   "cell_type": "code",
   "execution_count": 26,
   "metadata": {
    "ExecuteTime": {
     "end_time": "2020-07-25T00:19:39.638128Z",
     "start_time": "2020-07-25T00:19:39.514865Z"
    },
    "code_folding": []
   },
   "outputs": [
    {
     "data": {
      "application/vnd.plotly.v1+json": {
       "config": {
        "plotlyServerURL": "https://plot.ly"
       },
       "data": [
        {
         "connectgaps": true,
         "line": {
          "color": "rgb(67,67,67)",
          "width": 3
         },
         "mode": "lines",
         "name": "Population",
         "type": "scatter",
         "x": [
          1991,
          1992,
          1993,
          1994,
          1995,
          1996,
          1997,
          1998,
          1999,
          2000,
          2001,
          2002,
          2003,
          2004,
          2005,
          2006,
          2007,
          2008,
          2009,
          2010,
          2011,
          2012,
          2013,
          2014,
          2015,
          2016,
          2017,
          2018,
          2019
         ],
         "y": [
          29.355,
          27.016,
          28.26,
          29.338,
          31.96,
          38.063,
          41.405,
          43.25899999999999,
          46.321999999999996,
          49.816,
          52.181000000000004,
          51.276,
          58.894,
          66.47399999999999,
          69.365,
          62.906000000000006,
          61.543,
          67.812,
          74.277,
          81.095,
          94.26700000000001,
          109.822,
          117.98700000000001,
          117.73100000000001,
          120.444,
          118.53200000000001,
          114.75,
          118.51299999999999,
          118.76899999999999
         ]
        },
        {
         "marker": {
          "color": "rgb(67,67,67)",
          "size": 10
         },
         "mode": "markers",
         "type": "scatter",
         "x": [
          1991,
          2019
         ],
         "y": [
          29.355,
          118.76899999999999
         ]
        },
        {
         "connectgaps": true,
         "line": {
          "color": "rgb(168, 50, 50)",
          "width": 3
         },
         "mode": "lines",
         "name": "Capacity",
         "type": "scatter",
         "x": [
          1991,
          1992,
          1993,
          1994,
          1995,
          1996,
          1997,
          1998,
          1999,
          2000,
          2001,
          2002,
          2003,
          2004,
          2005,
          2006,
          2007,
          2008,
          2009,
          2010,
          2011,
          2012,
          2013,
          2014,
          2015,
          2016,
          2017,
          2018,
          2019
         ],
         "y": [
          28.319000000000003,
          28.294,
          28.084,
          null,
          null,
          28.331999999999997,
          29.239,
          33.009,
          33.09,
          35.969,
          40.037,
          44.373000000000005,
          46.398999999999994,
          48.916000000000004,
          49.763000000000005,
          52.115,
          52.504,
          53.784,
          55.019,
          61.1,
          73.45100000000001,
          75.679,
          75.797,
          76.67699999999999,
          78.42,
          79.211,
          80.227,
          80.26,
          80.156
         ]
        },
        {
         "marker": {
          "color": "rgb(168, 50, 50)",
          "size": 10
         },
         "mode": "markers",
         "type": "scatter",
         "x": [
          1991,
          2019
         ],
         "y": [
          28.319000000000003,
          80.156
         ]
        },
        {
         "connectgaps": true,
         "line": {
          "color": "rgb(49,130,189)",
          "width": 5
         },
         "mode": "lines",
         "name": "Reoffenders",
         "type": "scatter",
         "x": [
          1991,
          1992,
          1993,
          1994,
          1995,
          1996,
          1997,
          1998,
          1999,
          2000,
          2001,
          2002,
          2003,
          2004,
          2005,
          2006,
          2007,
          2008,
          2009,
          2010,
          2011,
          2012,
          2013,
          2014,
          2015,
          2016,
          2017,
          2018,
          2019
         ],
         "y": [
          null,
          null,
          null,
          null,
          null,
          null,
          null,
          null,
          null,
          null,
          null,
          null,
          null,
          null,
          null,
          null,
          null,
          null,
          null,
          7.475,
          9.584,
          7.948,
          8.972,
          8.232,
          10.211,
          10.789,
          11.133,
          12.433,
          13.382
         ]
        },
        {
         "marker": {
          "color": "rgb(49,130,189)",
          "size": 10
         },
         "mode": "markers",
         "type": "scatter",
         "x": [
          1991,
          2019
         ],
         "y": [
          null,
          13.382
         ]
        }
       ],
       "layout": {
        "annotations": [
         {
          "font": {
           "family": "Work Sans",
           "size": 14.5
          },
          "showarrow": false,
          "text": "Population: 118k, (149%)",
          "x": 0.75,
          "xanchor": "left",
          "xref": "paper",
          "y": 118.76899999999999,
          "yanchor": "bottom"
         },
         {
          "font": {
           "family": "Work Sans",
           "size": 14.5
          },
          "showarrow": false,
          "text": "Capacity: 80k, (100%)",
          "x": 0.75,
          "xanchor": "left",
          "xref": "paper",
          "y": 80.156,
          "yanchor": "bottom"
         },
         {
          "font": {
           "family": "Work Sans",
           "size": 14.5
          },
          "showarrow": false,
          "text": "Reoffenders: 13k, (11%)",
          "x": 0.75,
          "xanchor": "left",
          "xref": "paper",
          "y": 13.382,
          "yanchor": "bottom"
         },
         {
          "font": {
           "color": "rgb(37,37,37)",
           "family": "Work Sans",
           "size": 25
          },
          "showarrow": false,
          "text": "Jail Population in Colombia",
          "x": 0.3,
          "xanchor": "left",
          "xref": "paper",
          "y": 1,
          "yanchor": "bottom",
          "yref": "paper"
         },
         {
          "font": {
           "color": "rgb(150,150,150)",
           "family": "Work Sans",
           "size": 12
          },
          "showarrow": false,
          "text": "Source: INPEC & datos.gov.co",
          "x": 0.5,
          "xanchor": "center",
          "xref": "paper",
          "y": -0.1,
          "yanchor": "top",
          "yref": "paper"
         }
        ],
        "autosize": true,
        "margin": {
         "autoexpand": true,
         "l": 100,
         "r": 20,
         "t": 110
        },
        "plot_bgcolor": "white",
        "showlegend": false,
        "template": {
         "data": {
          "bar": [
           {
            "error_x": {
             "color": "#2a3f5f"
            },
            "error_y": {
             "color": "#2a3f5f"
            },
            "marker": {
             "line": {
              "color": "#E5ECF6",
              "width": 0.5
             }
            },
            "type": "bar"
           }
          ],
          "barpolar": [
           {
            "marker": {
             "line": {
              "color": "#E5ECF6",
              "width": 0.5
             }
            },
            "type": "barpolar"
           }
          ],
          "carpet": [
           {
            "aaxis": {
             "endlinecolor": "#2a3f5f",
             "gridcolor": "white",
             "linecolor": "white",
             "minorgridcolor": "white",
             "startlinecolor": "#2a3f5f"
            },
            "baxis": {
             "endlinecolor": "#2a3f5f",
             "gridcolor": "white",
             "linecolor": "white",
             "minorgridcolor": "white",
             "startlinecolor": "#2a3f5f"
            },
            "type": "carpet"
           }
          ],
          "choropleth": [
           {
            "colorbar": {
             "outlinewidth": 0,
             "ticks": ""
            },
            "type": "choropleth"
           }
          ],
          "contour": [
           {
            "colorbar": {
             "outlinewidth": 0,
             "ticks": ""
            },
            "colorscale": [
             [
              0,
              "#0d0887"
             ],
             [
              0.1111111111111111,
              "#46039f"
             ],
             [
              0.2222222222222222,
              "#7201a8"
             ],
             [
              0.3333333333333333,
              "#9c179e"
             ],
             [
              0.4444444444444444,
              "#bd3786"
             ],
             [
              0.5555555555555556,
              "#d8576b"
             ],
             [
              0.6666666666666666,
              "#ed7953"
             ],
             [
              0.7777777777777778,
              "#fb9f3a"
             ],
             [
              0.8888888888888888,
              "#fdca26"
             ],
             [
              1,
              "#f0f921"
             ]
            ],
            "type": "contour"
           }
          ],
          "contourcarpet": [
           {
            "colorbar": {
             "outlinewidth": 0,
             "ticks": ""
            },
            "type": "contourcarpet"
           }
          ],
          "heatmap": [
           {
            "colorbar": {
             "outlinewidth": 0,
             "ticks": ""
            },
            "colorscale": [
             [
              0,
              "#0d0887"
             ],
             [
              0.1111111111111111,
              "#46039f"
             ],
             [
              0.2222222222222222,
              "#7201a8"
             ],
             [
              0.3333333333333333,
              "#9c179e"
             ],
             [
              0.4444444444444444,
              "#bd3786"
             ],
             [
              0.5555555555555556,
              "#d8576b"
             ],
             [
              0.6666666666666666,
              "#ed7953"
             ],
             [
              0.7777777777777778,
              "#fb9f3a"
             ],
             [
              0.8888888888888888,
              "#fdca26"
             ],
             [
              1,
              "#f0f921"
             ]
            ],
            "type": "heatmap"
           }
          ],
          "heatmapgl": [
           {
            "colorbar": {
             "outlinewidth": 0,
             "ticks": ""
            },
            "colorscale": [
             [
              0,
              "#0d0887"
             ],
             [
              0.1111111111111111,
              "#46039f"
             ],
             [
              0.2222222222222222,
              "#7201a8"
             ],
             [
              0.3333333333333333,
              "#9c179e"
             ],
             [
              0.4444444444444444,
              "#bd3786"
             ],
             [
              0.5555555555555556,
              "#d8576b"
             ],
             [
              0.6666666666666666,
              "#ed7953"
             ],
             [
              0.7777777777777778,
              "#fb9f3a"
             ],
             [
              0.8888888888888888,
              "#fdca26"
             ],
             [
              1,
              "#f0f921"
             ]
            ],
            "type": "heatmapgl"
           }
          ],
          "histogram": [
           {
            "marker": {
             "colorbar": {
              "outlinewidth": 0,
              "ticks": ""
             }
            },
            "type": "histogram"
           }
          ],
          "histogram2d": [
           {
            "colorbar": {
             "outlinewidth": 0,
             "ticks": ""
            },
            "colorscale": [
             [
              0,
              "#0d0887"
             ],
             [
              0.1111111111111111,
              "#46039f"
             ],
             [
              0.2222222222222222,
              "#7201a8"
             ],
             [
              0.3333333333333333,
              "#9c179e"
             ],
             [
              0.4444444444444444,
              "#bd3786"
             ],
             [
              0.5555555555555556,
              "#d8576b"
             ],
             [
              0.6666666666666666,
              "#ed7953"
             ],
             [
              0.7777777777777778,
              "#fb9f3a"
             ],
             [
              0.8888888888888888,
              "#fdca26"
             ],
             [
              1,
              "#f0f921"
             ]
            ],
            "type": "histogram2d"
           }
          ],
          "histogram2dcontour": [
           {
            "colorbar": {
             "outlinewidth": 0,
             "ticks": ""
            },
            "colorscale": [
             [
              0,
              "#0d0887"
             ],
             [
              0.1111111111111111,
              "#46039f"
             ],
             [
              0.2222222222222222,
              "#7201a8"
             ],
             [
              0.3333333333333333,
              "#9c179e"
             ],
             [
              0.4444444444444444,
              "#bd3786"
             ],
             [
              0.5555555555555556,
              "#d8576b"
             ],
             [
              0.6666666666666666,
              "#ed7953"
             ],
             [
              0.7777777777777778,
              "#fb9f3a"
             ],
             [
              0.8888888888888888,
              "#fdca26"
             ],
             [
              1,
              "#f0f921"
             ]
            ],
            "type": "histogram2dcontour"
           }
          ],
          "mesh3d": [
           {
            "colorbar": {
             "outlinewidth": 0,
             "ticks": ""
            },
            "type": "mesh3d"
           }
          ],
          "parcoords": [
           {
            "line": {
             "colorbar": {
              "outlinewidth": 0,
              "ticks": ""
             }
            },
            "type": "parcoords"
           }
          ],
          "pie": [
           {
            "automargin": true,
            "type": "pie"
           }
          ],
          "scatter": [
           {
            "marker": {
             "colorbar": {
              "outlinewidth": 0,
              "ticks": ""
             }
            },
            "type": "scatter"
           }
          ],
          "scatter3d": [
           {
            "line": {
             "colorbar": {
              "outlinewidth": 0,
              "ticks": ""
             }
            },
            "marker": {
             "colorbar": {
              "outlinewidth": 0,
              "ticks": ""
             }
            },
            "type": "scatter3d"
           }
          ],
          "scattercarpet": [
           {
            "marker": {
             "colorbar": {
              "outlinewidth": 0,
              "ticks": ""
             }
            },
            "type": "scattercarpet"
           }
          ],
          "scattergeo": [
           {
            "marker": {
             "colorbar": {
              "outlinewidth": 0,
              "ticks": ""
             }
            },
            "type": "scattergeo"
           }
          ],
          "scattergl": [
           {
            "marker": {
             "colorbar": {
              "outlinewidth": 0,
              "ticks": ""
             }
            },
            "type": "scattergl"
           }
          ],
          "scattermapbox": [
           {
            "marker": {
             "colorbar": {
              "outlinewidth": 0,
              "ticks": ""
             }
            },
            "type": "scattermapbox"
           }
          ],
          "scatterpolar": [
           {
            "marker": {
             "colorbar": {
              "outlinewidth": 0,
              "ticks": ""
             }
            },
            "type": "scatterpolar"
           }
          ],
          "scatterpolargl": [
           {
            "marker": {
             "colorbar": {
              "outlinewidth": 0,
              "ticks": ""
             }
            },
            "type": "scatterpolargl"
           }
          ],
          "scatterternary": [
           {
            "marker": {
             "colorbar": {
              "outlinewidth": 0,
              "ticks": ""
             }
            },
            "type": "scatterternary"
           }
          ],
          "surface": [
           {
            "colorbar": {
             "outlinewidth": 0,
             "ticks": ""
            },
            "colorscale": [
             [
              0,
              "#0d0887"
             ],
             [
              0.1111111111111111,
              "#46039f"
             ],
             [
              0.2222222222222222,
              "#7201a8"
             ],
             [
              0.3333333333333333,
              "#9c179e"
             ],
             [
              0.4444444444444444,
              "#bd3786"
             ],
             [
              0.5555555555555556,
              "#d8576b"
             ],
             [
              0.6666666666666666,
              "#ed7953"
             ],
             [
              0.7777777777777778,
              "#fb9f3a"
             ],
             [
              0.8888888888888888,
              "#fdca26"
             ],
             [
              1,
              "#f0f921"
             ]
            ],
            "type": "surface"
           }
          ],
          "table": [
           {
            "cells": {
             "fill": {
              "color": "#EBF0F8"
             },
             "line": {
              "color": "white"
             }
            },
            "header": {
             "fill": {
              "color": "#C8D4E3"
             },
             "line": {
              "color": "white"
             }
            },
            "type": "table"
           }
          ]
         },
         "layout": {
          "annotationdefaults": {
           "arrowcolor": "#2a3f5f",
           "arrowhead": 0,
           "arrowwidth": 1
          },
          "coloraxis": {
           "colorbar": {
            "outlinewidth": 0,
            "ticks": ""
           }
          },
          "colorscale": {
           "diverging": [
            [
             0,
             "#8e0152"
            ],
            [
             0.1,
             "#c51b7d"
            ],
            [
             0.2,
             "#de77ae"
            ],
            [
             0.3,
             "#f1b6da"
            ],
            [
             0.4,
             "#fde0ef"
            ],
            [
             0.5,
             "#f7f7f7"
            ],
            [
             0.6,
             "#e6f5d0"
            ],
            [
             0.7,
             "#b8e186"
            ],
            [
             0.8,
             "#7fbc41"
            ],
            [
             0.9,
             "#4d9221"
            ],
            [
             1,
             "#276419"
            ]
           ],
           "sequential": [
            [
             0,
             "#0d0887"
            ],
            [
             0.1111111111111111,
             "#46039f"
            ],
            [
             0.2222222222222222,
             "#7201a8"
            ],
            [
             0.3333333333333333,
             "#9c179e"
            ],
            [
             0.4444444444444444,
             "#bd3786"
            ],
            [
             0.5555555555555556,
             "#d8576b"
            ],
            [
             0.6666666666666666,
             "#ed7953"
            ],
            [
             0.7777777777777778,
             "#fb9f3a"
            ],
            [
             0.8888888888888888,
             "#fdca26"
            ],
            [
             1,
             "#f0f921"
            ]
           ],
           "sequentialminus": [
            [
             0,
             "#0d0887"
            ],
            [
             0.1111111111111111,
             "#46039f"
            ],
            [
             0.2222222222222222,
             "#7201a8"
            ],
            [
             0.3333333333333333,
             "#9c179e"
            ],
            [
             0.4444444444444444,
             "#bd3786"
            ],
            [
             0.5555555555555556,
             "#d8576b"
            ],
            [
             0.6666666666666666,
             "#ed7953"
            ],
            [
             0.7777777777777778,
             "#fb9f3a"
            ],
            [
             0.8888888888888888,
             "#fdca26"
            ],
            [
             1,
             "#f0f921"
            ]
           ]
          },
          "colorway": [
           "#636efa",
           "#EF553B",
           "#00cc96",
           "#ab63fa",
           "#FFA15A",
           "#19d3f3",
           "#FF6692",
           "#B6E880",
           "#FF97FF",
           "#FECB52"
          ],
          "font": {
           "color": "#2a3f5f"
          },
          "geo": {
           "bgcolor": "white",
           "lakecolor": "white",
           "landcolor": "#E5ECF6",
           "showlakes": true,
           "showland": true,
           "subunitcolor": "white"
          },
          "hoverlabel": {
           "align": "left"
          },
          "hovermode": "closest",
          "mapbox": {
           "style": "light"
          },
          "paper_bgcolor": "white",
          "plot_bgcolor": "#E5ECF6",
          "polar": {
           "angularaxis": {
            "gridcolor": "white",
            "linecolor": "white",
            "ticks": ""
           },
           "bgcolor": "#E5ECF6",
           "radialaxis": {
            "gridcolor": "white",
            "linecolor": "white",
            "ticks": ""
           }
          },
          "scene": {
           "xaxis": {
            "backgroundcolor": "#E5ECF6",
            "gridcolor": "white",
            "gridwidth": 2,
            "linecolor": "white",
            "showbackground": true,
            "ticks": "",
            "zerolinecolor": "white"
           },
           "yaxis": {
            "backgroundcolor": "#E5ECF6",
            "gridcolor": "white",
            "gridwidth": 2,
            "linecolor": "white",
            "showbackground": true,
            "ticks": "",
            "zerolinecolor": "white"
           },
           "zaxis": {
            "backgroundcolor": "#E5ECF6",
            "gridcolor": "white",
            "gridwidth": 2,
            "linecolor": "white",
            "showbackground": true,
            "ticks": "",
            "zerolinecolor": "white"
           }
          },
          "shapedefaults": {
           "line": {
            "color": "#2a3f5f"
           }
          },
          "ternary": {
           "aaxis": {
            "gridcolor": "white",
            "linecolor": "white",
            "ticks": ""
           },
           "baxis": {
            "gridcolor": "white",
            "linecolor": "white",
            "ticks": ""
           },
           "bgcolor": "#E5ECF6",
           "caxis": {
            "gridcolor": "white",
            "linecolor": "white",
            "ticks": ""
           }
          },
          "title": {
           "x": 0.05
          },
          "xaxis": {
           "automargin": true,
           "gridcolor": "white",
           "linecolor": "white",
           "ticks": "",
           "title": {
            "standoff": 15
           },
           "zerolinecolor": "white",
           "zerolinewidth": 2
          },
          "yaxis": {
           "automargin": true,
           "gridcolor": "white",
           "linecolor": "white",
           "ticks": "",
           "title": {
            "standoff": 15
           },
           "zerolinecolor": "white",
           "zerolinewidth": 2
          }
         }
        },
        "xaxis": {
         "linecolor": "rgb(204, 204, 204)",
         "linewidth": 2,
         "showgrid": false,
         "showline": true,
         "showticklabels": true,
         "tickfont": {
          "color": "rgb(82, 82, 82)",
          "family": "Arial",
          "size": 11
         },
         "ticks": "outside"
        },
        "yaxis": {
         "showgrid": false,
         "showline": false,
         "showticklabels": true,
         "zeroline": false
        }
       }
      },
      "text/html": [
       "<div>\n",
       "        \n",
       "        \n",
       "            <div id=\"47c29d3b-682e-4a6f-8102-5706998749b1\" class=\"plotly-graph-div\" style=\"height:525px; width:100%;\"></div>\n",
       "            <script type=\"text/javascript\">\n",
       "                require([\"plotly\"], function(Plotly) {\n",
       "                    window.PLOTLYENV=window.PLOTLYENV || {};\n",
       "                    \n",
       "                if (document.getElementById(\"47c29d3b-682e-4a6f-8102-5706998749b1\")) {\n",
       "                    Plotly.newPlot(\n",
       "                        '47c29d3b-682e-4a6f-8102-5706998749b1',\n",
       "                        [{\"connectgaps\": true, \"line\": {\"color\": \"rgb(67,67,67)\", \"width\": 3}, \"mode\": \"lines\", \"name\": \"Population\", \"type\": \"scatter\", \"x\": [1991, 1992, 1993, 1994, 1995, 1996, 1997, 1998, 1999, 2000, 2001, 2002, 2003, 2004, 2005, 2006, 2007, 2008, 2009, 2010, 2011, 2012, 2013, 2014, 2015, 2016, 2017, 2018, 2019], \"y\": [29.355, 27.016, 28.26, 29.338, 31.96, 38.063, 41.405, 43.25899999999999, 46.321999999999996, 49.816, 52.181000000000004, 51.276, 58.894, 66.47399999999999, 69.365, 62.906000000000006, 61.543, 67.812, 74.277, 81.095, 94.26700000000001, 109.822, 117.98700000000001, 117.73100000000001, 120.444, 118.53200000000001, 114.75, 118.51299999999999, 118.76899999999999]}, {\"marker\": {\"color\": \"rgb(67,67,67)\", \"size\": 10}, \"mode\": \"markers\", \"type\": \"scatter\", \"x\": [1991, 2019], \"y\": [29.355, 118.76899999999999]}, {\"connectgaps\": true, \"line\": {\"color\": \"rgb(168, 50, 50)\", \"width\": 3}, \"mode\": \"lines\", \"name\": \"Capacity\", \"type\": \"scatter\", \"x\": [1991, 1992, 1993, 1994, 1995, 1996, 1997, 1998, 1999, 2000, 2001, 2002, 2003, 2004, 2005, 2006, 2007, 2008, 2009, 2010, 2011, 2012, 2013, 2014, 2015, 2016, 2017, 2018, 2019], \"y\": [28.319000000000003, 28.294, 28.084, null, null, 28.331999999999997, 29.239, 33.009, 33.09, 35.969, 40.037, 44.373000000000005, 46.398999999999994, 48.916000000000004, 49.763000000000005, 52.115, 52.504, 53.784, 55.019, 61.1, 73.45100000000001, 75.679, 75.797, 76.67699999999999, 78.42, 79.211, 80.227, 80.26, 80.156]}, {\"marker\": {\"color\": \"rgb(168, 50, 50)\", \"size\": 10}, \"mode\": \"markers\", \"type\": \"scatter\", \"x\": [1991, 2019], \"y\": [28.319000000000003, 80.156]}, {\"connectgaps\": true, \"line\": {\"color\": \"rgb(49,130,189)\", \"width\": 5}, \"mode\": \"lines\", \"name\": \"Reoffenders\", \"type\": \"scatter\", \"x\": [1991, 1992, 1993, 1994, 1995, 1996, 1997, 1998, 1999, 2000, 2001, 2002, 2003, 2004, 2005, 2006, 2007, 2008, 2009, 2010, 2011, 2012, 2013, 2014, 2015, 2016, 2017, 2018, 2019], \"y\": [null, null, null, null, null, null, null, null, null, null, null, null, null, null, null, null, null, null, null, 7.475, 9.584, 7.948, 8.972, 8.232, 10.211, 10.789, 11.133, 12.433, 13.382]}, {\"marker\": {\"color\": \"rgb(49,130,189)\", \"size\": 10}, \"mode\": \"markers\", \"type\": \"scatter\", \"x\": [1991, 2019], \"y\": [null, 13.382]}],\n",
       "                        {\"annotations\": [{\"font\": {\"family\": \"Work Sans\", \"size\": 14.5}, \"showarrow\": false, \"text\": \"Population: 118k, (149%)\", \"x\": 0.75, \"xanchor\": \"left\", \"xref\": \"paper\", \"y\": 118.76899999999999, \"yanchor\": \"bottom\"}, {\"font\": {\"family\": \"Work Sans\", \"size\": 14.5}, \"showarrow\": false, \"text\": \"Capacity: 80k, (100%)\", \"x\": 0.75, \"xanchor\": \"left\", \"xref\": \"paper\", \"y\": 80.156, \"yanchor\": \"bottom\"}, {\"font\": {\"family\": \"Work Sans\", \"size\": 14.5}, \"showarrow\": false, \"text\": \"Reoffenders: 13k, (11%)\", \"x\": 0.75, \"xanchor\": \"left\", \"xref\": \"paper\", \"y\": 13.382, \"yanchor\": \"bottom\"}, {\"font\": {\"color\": \"rgb(37,37,37)\", \"family\": \"Work Sans\", \"size\": 25}, \"showarrow\": false, \"text\": \"Jail Population in Colombia\", \"x\": 0.3, \"xanchor\": \"left\", \"xref\": \"paper\", \"y\": 1, \"yanchor\": \"bottom\", \"yref\": \"paper\"}, {\"font\": {\"color\": \"rgb(150,150,150)\", \"family\": \"Work Sans\", \"size\": 12}, \"showarrow\": false, \"text\": \"Source: INPEC & datos.gov.co\", \"x\": 0.5, \"xanchor\": \"center\", \"xref\": \"paper\", \"y\": -0.1, \"yanchor\": \"top\", \"yref\": \"paper\"}], \"autosize\": true, \"margin\": {\"autoexpand\": true, \"l\": 100, \"r\": 20, \"t\": 110}, \"plot_bgcolor\": \"white\", \"showlegend\": false, \"template\": {\"data\": {\"bar\": [{\"error_x\": {\"color\": \"#2a3f5f\"}, \"error_y\": {\"color\": \"#2a3f5f\"}, \"marker\": {\"line\": {\"color\": \"#E5ECF6\", \"width\": 0.5}}, \"type\": \"bar\"}], \"barpolar\": [{\"marker\": {\"line\": {\"color\": \"#E5ECF6\", \"width\": 0.5}}, \"type\": \"barpolar\"}], \"carpet\": [{\"aaxis\": {\"endlinecolor\": \"#2a3f5f\", \"gridcolor\": \"white\", \"linecolor\": \"white\", \"minorgridcolor\": \"white\", \"startlinecolor\": \"#2a3f5f\"}, \"baxis\": {\"endlinecolor\": \"#2a3f5f\", \"gridcolor\": \"white\", \"linecolor\": \"white\", \"minorgridcolor\": \"white\", \"startlinecolor\": \"#2a3f5f\"}, \"type\": \"carpet\"}], \"choropleth\": [{\"colorbar\": {\"outlinewidth\": 0, \"ticks\": \"\"}, \"type\": \"choropleth\"}], \"contour\": [{\"colorbar\": {\"outlinewidth\": 0, \"ticks\": \"\"}, \"colorscale\": [[0.0, \"#0d0887\"], [0.1111111111111111, \"#46039f\"], [0.2222222222222222, \"#7201a8\"], [0.3333333333333333, \"#9c179e\"], [0.4444444444444444, \"#bd3786\"], [0.5555555555555556, \"#d8576b\"], [0.6666666666666666, \"#ed7953\"], [0.7777777777777778, \"#fb9f3a\"], [0.8888888888888888, \"#fdca26\"], [1.0, \"#f0f921\"]], \"type\": \"contour\"}], \"contourcarpet\": [{\"colorbar\": {\"outlinewidth\": 0, \"ticks\": \"\"}, \"type\": \"contourcarpet\"}], \"heatmap\": [{\"colorbar\": {\"outlinewidth\": 0, \"ticks\": \"\"}, \"colorscale\": [[0.0, \"#0d0887\"], [0.1111111111111111, \"#46039f\"], [0.2222222222222222, \"#7201a8\"], [0.3333333333333333, \"#9c179e\"], [0.4444444444444444, \"#bd3786\"], [0.5555555555555556, \"#d8576b\"], [0.6666666666666666, \"#ed7953\"], [0.7777777777777778, \"#fb9f3a\"], [0.8888888888888888, \"#fdca26\"], [1.0, \"#f0f921\"]], \"type\": \"heatmap\"}], \"heatmapgl\": [{\"colorbar\": {\"outlinewidth\": 0, \"ticks\": \"\"}, \"colorscale\": [[0.0, \"#0d0887\"], [0.1111111111111111, \"#46039f\"], [0.2222222222222222, \"#7201a8\"], [0.3333333333333333, \"#9c179e\"], [0.4444444444444444, \"#bd3786\"], [0.5555555555555556, \"#d8576b\"], [0.6666666666666666, \"#ed7953\"], [0.7777777777777778, \"#fb9f3a\"], [0.8888888888888888, \"#fdca26\"], [1.0, \"#f0f921\"]], \"type\": \"heatmapgl\"}], \"histogram\": [{\"marker\": {\"colorbar\": {\"outlinewidth\": 0, \"ticks\": \"\"}}, \"type\": \"histogram\"}], \"histogram2d\": [{\"colorbar\": {\"outlinewidth\": 0, \"ticks\": \"\"}, \"colorscale\": [[0.0, \"#0d0887\"], [0.1111111111111111, \"#46039f\"], [0.2222222222222222, \"#7201a8\"], [0.3333333333333333, \"#9c179e\"], [0.4444444444444444, \"#bd3786\"], [0.5555555555555556, \"#d8576b\"], [0.6666666666666666, \"#ed7953\"], [0.7777777777777778, \"#fb9f3a\"], [0.8888888888888888, \"#fdca26\"], [1.0, \"#f0f921\"]], \"type\": \"histogram2d\"}], \"histogram2dcontour\": [{\"colorbar\": {\"outlinewidth\": 0, \"ticks\": \"\"}, \"colorscale\": [[0.0, \"#0d0887\"], [0.1111111111111111, \"#46039f\"], [0.2222222222222222, \"#7201a8\"], [0.3333333333333333, \"#9c179e\"], [0.4444444444444444, \"#bd3786\"], [0.5555555555555556, \"#d8576b\"], [0.6666666666666666, \"#ed7953\"], [0.7777777777777778, \"#fb9f3a\"], [0.8888888888888888, \"#fdca26\"], [1.0, \"#f0f921\"]], \"type\": \"histogram2dcontour\"}], \"mesh3d\": [{\"colorbar\": {\"outlinewidth\": 0, \"ticks\": \"\"}, \"type\": \"mesh3d\"}], \"parcoords\": [{\"line\": {\"colorbar\": {\"outlinewidth\": 0, \"ticks\": \"\"}}, \"type\": \"parcoords\"}], \"pie\": [{\"automargin\": true, \"type\": \"pie\"}], \"scatter\": [{\"marker\": {\"colorbar\": {\"outlinewidth\": 0, \"ticks\": \"\"}}, \"type\": \"scatter\"}], \"scatter3d\": [{\"line\": {\"colorbar\": {\"outlinewidth\": 0, \"ticks\": \"\"}}, \"marker\": {\"colorbar\": {\"outlinewidth\": 0, \"ticks\": \"\"}}, \"type\": \"scatter3d\"}], \"scattercarpet\": [{\"marker\": {\"colorbar\": {\"outlinewidth\": 0, \"ticks\": \"\"}}, \"type\": \"scattercarpet\"}], \"scattergeo\": [{\"marker\": {\"colorbar\": {\"outlinewidth\": 0, \"ticks\": \"\"}}, \"type\": \"scattergeo\"}], \"scattergl\": [{\"marker\": {\"colorbar\": {\"outlinewidth\": 0, \"ticks\": \"\"}}, \"type\": \"scattergl\"}], \"scattermapbox\": [{\"marker\": {\"colorbar\": {\"outlinewidth\": 0, \"ticks\": \"\"}}, \"type\": \"scattermapbox\"}], \"scatterpolar\": [{\"marker\": {\"colorbar\": {\"outlinewidth\": 0, \"ticks\": \"\"}}, \"type\": \"scatterpolar\"}], \"scatterpolargl\": [{\"marker\": {\"colorbar\": {\"outlinewidth\": 0, \"ticks\": \"\"}}, \"type\": \"scatterpolargl\"}], \"scatterternary\": [{\"marker\": {\"colorbar\": {\"outlinewidth\": 0, \"ticks\": \"\"}}, \"type\": \"scatterternary\"}], \"surface\": [{\"colorbar\": {\"outlinewidth\": 0, \"ticks\": \"\"}, \"colorscale\": [[0.0, \"#0d0887\"], [0.1111111111111111, \"#46039f\"], [0.2222222222222222, \"#7201a8\"], [0.3333333333333333, \"#9c179e\"], [0.4444444444444444, \"#bd3786\"], [0.5555555555555556, \"#d8576b\"], [0.6666666666666666, \"#ed7953\"], [0.7777777777777778, \"#fb9f3a\"], [0.8888888888888888, \"#fdca26\"], [1.0, \"#f0f921\"]], \"type\": \"surface\"}], \"table\": [{\"cells\": {\"fill\": {\"color\": \"#EBF0F8\"}, \"line\": {\"color\": \"white\"}}, \"header\": {\"fill\": {\"color\": \"#C8D4E3\"}, \"line\": {\"color\": \"white\"}}, \"type\": \"table\"}]}, \"layout\": {\"annotationdefaults\": {\"arrowcolor\": \"#2a3f5f\", \"arrowhead\": 0, \"arrowwidth\": 1}, \"coloraxis\": {\"colorbar\": {\"outlinewidth\": 0, \"ticks\": \"\"}}, \"colorscale\": {\"diverging\": [[0, \"#8e0152\"], [0.1, \"#c51b7d\"], [0.2, \"#de77ae\"], [0.3, \"#f1b6da\"], [0.4, \"#fde0ef\"], [0.5, \"#f7f7f7\"], [0.6, \"#e6f5d0\"], [0.7, \"#b8e186\"], [0.8, \"#7fbc41\"], [0.9, \"#4d9221\"], [1, \"#276419\"]], \"sequential\": [[0.0, \"#0d0887\"], [0.1111111111111111, \"#46039f\"], [0.2222222222222222, \"#7201a8\"], [0.3333333333333333, \"#9c179e\"], [0.4444444444444444, \"#bd3786\"], [0.5555555555555556, \"#d8576b\"], [0.6666666666666666, \"#ed7953\"], [0.7777777777777778, \"#fb9f3a\"], [0.8888888888888888, \"#fdca26\"], [1.0, \"#f0f921\"]], \"sequentialminus\": [[0.0, \"#0d0887\"], [0.1111111111111111, \"#46039f\"], [0.2222222222222222, \"#7201a8\"], [0.3333333333333333, \"#9c179e\"], [0.4444444444444444, \"#bd3786\"], [0.5555555555555556, \"#d8576b\"], [0.6666666666666666, \"#ed7953\"], [0.7777777777777778, \"#fb9f3a\"], [0.8888888888888888, \"#fdca26\"], [1.0, \"#f0f921\"]]}, \"colorway\": [\"#636efa\", \"#EF553B\", \"#00cc96\", \"#ab63fa\", \"#FFA15A\", \"#19d3f3\", \"#FF6692\", \"#B6E880\", \"#FF97FF\", \"#FECB52\"], \"font\": {\"color\": \"#2a3f5f\"}, \"geo\": {\"bgcolor\": \"white\", \"lakecolor\": \"white\", \"landcolor\": \"#E5ECF6\", \"showlakes\": true, \"showland\": true, \"subunitcolor\": \"white\"}, \"hoverlabel\": {\"align\": \"left\"}, \"hovermode\": \"closest\", \"mapbox\": {\"style\": \"light\"}, \"paper_bgcolor\": \"white\", \"plot_bgcolor\": \"#E5ECF6\", \"polar\": {\"angularaxis\": {\"gridcolor\": \"white\", \"linecolor\": \"white\", \"ticks\": \"\"}, \"bgcolor\": \"#E5ECF6\", \"radialaxis\": {\"gridcolor\": \"white\", \"linecolor\": \"white\", \"ticks\": \"\"}}, \"scene\": {\"xaxis\": {\"backgroundcolor\": \"#E5ECF6\", \"gridcolor\": \"white\", \"gridwidth\": 2, \"linecolor\": \"white\", \"showbackground\": true, \"ticks\": \"\", \"zerolinecolor\": \"white\"}, \"yaxis\": {\"backgroundcolor\": \"#E5ECF6\", \"gridcolor\": \"white\", \"gridwidth\": 2, \"linecolor\": \"white\", \"showbackground\": true, \"ticks\": \"\", \"zerolinecolor\": \"white\"}, \"zaxis\": {\"backgroundcolor\": \"#E5ECF6\", \"gridcolor\": \"white\", \"gridwidth\": 2, \"linecolor\": \"white\", \"showbackground\": true, \"ticks\": \"\", \"zerolinecolor\": \"white\"}}, \"shapedefaults\": {\"line\": {\"color\": \"#2a3f5f\"}}, \"ternary\": {\"aaxis\": {\"gridcolor\": \"white\", \"linecolor\": \"white\", \"ticks\": \"\"}, \"baxis\": {\"gridcolor\": \"white\", \"linecolor\": \"white\", \"ticks\": \"\"}, \"bgcolor\": \"#E5ECF6\", \"caxis\": {\"gridcolor\": \"white\", \"linecolor\": \"white\", \"ticks\": \"\"}}, \"title\": {\"x\": 0.05}, \"xaxis\": {\"automargin\": true, \"gridcolor\": \"white\", \"linecolor\": \"white\", \"ticks\": \"\", \"title\": {\"standoff\": 15}, \"zerolinecolor\": \"white\", \"zerolinewidth\": 2}, \"yaxis\": {\"automargin\": true, \"gridcolor\": \"white\", \"linecolor\": \"white\", \"ticks\": \"\", \"title\": {\"standoff\": 15}, \"zerolinecolor\": \"white\", \"zerolinewidth\": 2}}}, \"xaxis\": {\"linecolor\": \"rgb(204, 204, 204)\", \"linewidth\": 2, \"showgrid\": false, \"showline\": true, \"showticklabels\": true, \"tickfont\": {\"color\": \"rgb(82, 82, 82)\", \"family\": \"Arial\", \"size\": 11}, \"ticks\": \"outside\"}, \"yaxis\": {\"showgrid\": false, \"showline\": false, \"showticklabels\": true, \"zeroline\": false}},\n",
       "                        {\"responsive\": true}\n",
       "                    ).then(function(){\n",
       "                            \n",
       "var gd = document.getElementById('47c29d3b-682e-4a6f-8102-5706998749b1');\n",
       "var x = new MutationObserver(function (mutations, observer) {{\n",
       "        var display = window.getComputedStyle(gd).display;\n",
       "        if (!display || display === 'none') {{\n",
       "            console.log([gd, 'removed!']);\n",
       "            Plotly.purge(gd);\n",
       "            observer.disconnect();\n",
       "        }}\n",
       "}});\n",
       "\n",
       "// Listen for the removal of the full notebook cells\n",
       "var notebookContainer = gd.closest('#notebook-container');\n",
       "if (notebookContainer) {{\n",
       "    x.observe(notebookContainer, {childList: true});\n",
       "}}\n",
       "\n",
       "// Listen for the clearing of the current output cell\n",
       "var outputEl = gd.closest('.output');\n",
       "if (outputEl) {{\n",
       "    x.observe(outputEl, {childList: true});\n",
       "}}\n",
       "\n",
       "                        })\n",
       "                };\n",
       "                });\n",
       "            </script>\n",
       "        </div>"
      ]
     },
     "metadata": {},
     "output_type": "display_data"
    }
   ],
   "source": [
    "import plotly.graph_objects as go\n",
    "import numpy as np\n",
    "title = 'Jail Population in Colombia'\n",
    "labels = ['Population', 'Capacity', 'Reoffenders']\n",
    "colors = ['rgb(67,67,67)', 'rgb(168, 50, 50)', 'rgb(49,130,189)']\n",
    "percentages = ['149','100','11']\n",
    "mode_size = [10, 10, 10]\n",
    "line_size = [3, 3, 5]\n",
    "x_data = x_data_temp\n",
    "y_data = y_data_temp\n",
    "fig = go.Figure()\n",
    "\n",
    "for i in range(0, 3):\n",
    "    fig.add_trace(go.Scatter(x=x_data[i], y=y_data[i], mode='lines',\n",
    "        name=labels[i],\n",
    "        line=dict(color=colors[i], width=line_size[i]),\n",
    "        connectgaps=True,\n",
    "    ))\n",
    "    # endpoints\n",
    "    fig.add_trace(go.Scatter(\n",
    "        x=[x_data[i][0], x_data[i][-1]],\n",
    "        y=[y_data[i][0], y_data[i][-1]],\n",
    "        mode='markers',\n",
    "        marker=dict(color=colors[i], size=mode_size[i])\n",
    "    ))\n",
    "fig.update_layout(\n",
    "    xaxis=dict(\n",
    "        showline=True,\n",
    "        showgrid=False,\n",
    "        showticklabels=True,\n",
    "        linecolor='rgb(204, 204, 204)',\n",
    "        linewidth=2,\n",
    "        ticks='outside',\n",
    "        tickfont=dict(\n",
    "            family='Arial',\n",
    "            size=11,\n",
    "            color='rgb(82, 82, 82)',\n",
    "        ),\n",
    "    ),\n",
    "    yaxis=dict(\n",
    "        showgrid=False,\n",
    "        zeroline=False,\n",
    "        showline=False,\n",
    "        showticklabels=True,\n",
    "    ),\n",
    "    autosize=True,\n",
    "    margin=dict(\n",
    "        autoexpand=True,\n",
    "        l=100,\n",
    "        r=20,\n",
    "        t=110,\n",
    "    ),\n",
    "    showlegend=False,\n",
    "    plot_bgcolor='white'\n",
    ")\n",
    "annotations = []\n",
    "# Adding labels\n",
    "for y_trace, label, color, percentage in zip(y_data, labels, colors, percentages):\n",
    "    annotations.append(dict(xref='paper', x=0.75, y=y_trace[-1],\n",
    "                                  xanchor='left', yanchor='bottom',\n",
    "                                  text=label+': {}k, ({}%)'.format(int(y_trace[-1]),percentage),\n",
    "                                  font=dict(family='Work Sans',\n",
    "                                            size=14.5),\n",
    "                                  showarrow=False))\n",
    "# Title\n",
    "annotations.append(dict(xref='paper', yref='paper', x=0.3, y=1,\n",
    "                              xanchor='left', yanchor='bottom',\n",
    "                              text=title,\n",
    "                              font=dict(family='Work Sans',\n",
    "                                        size=25,\n",
    "                                        color='rgb(37,37,37)'),\n",
    "                              showarrow=False))\n",
    "# Source\n",
    "annotations.append(dict(xref='paper', yref='paper', x=0.5, y=-0.1,\n",
    "                              xanchor='center', yanchor='top',\n",
    "                              text='Source: INPEC & datos.gov.co',\n",
    "                              font=dict(family='Work Sans',\n",
    "                                        size=12,\n",
    "                                        color='rgb(150,150,150)'),\n",
    "                              showarrow=False))\n",
    "fig.update_layout(annotations=annotations)\n",
    "fig.show()"
   ]
  },
  {
   "cell_type": "code",
   "execution_count": 143,
   "metadata": {
    "ExecuteTime": {
     "end_time": "2020-07-25T03:21:50.011251Z",
     "start_time": "2020-07-25T03:21:49.887423Z"
    },
    "code_folding": [
     18,
     71
    ]
   },
   "outputs": [
    {
     "data": {
      "application/vnd.plotly.v1+json": {
       "config": {
        "plotlyServerURL": "https://plot.ly"
       },
       "data": [
        {
         "connectgaps": true,
         "line": {
          "color": "rgb(91,139,255)",
          "width": 2
         },
         "mode": "lines",
         "name": "",
         "type": "scatter",
         "x": [
          1991,
          1992,
          1993,
          1994,
          1995,
          1996,
          1997,
          1998,
          1999,
          2000,
          2001,
          2002,
          2003,
          2004,
          2005,
          2006,
          2007,
          2008,
          2009,
          2010,
          2011,
          2012,
          2013,
          2014,
          2015,
          2016,
          2017,
          2018,
          2019
         ],
         "y": [
          29.355,
          27.016,
          28.26,
          29.338,
          31.96,
          38.063,
          41.405,
          43.25899999999999,
          46.321999999999996,
          49.816,
          52.181000000000004,
          51.276,
          58.894,
          66.47399999999999,
          69.365,
          62.906000000000006,
          61.543,
          67.812,
          74.277,
          81.095,
          94.26700000000001,
          109.822,
          117.98700000000001,
          117.73100000000001,
          120.444,
          118.53200000000001,
          114.75,
          118.51299999999999,
          118.76899999999999
         ]
        },
        {
         "marker": {
          "color": "rgb(91,139,255)",
          "size": 10
         },
         "mode": "markers",
         "type": "scatter",
         "x": [
          1991,
          2019
         ],
         "y": [
          29.355,
          118.76899999999999
         ]
        },
        {
         "connectgaps": true,
         "line": {
          "color": "rgb(51,102,204)",
          "width": 2
         },
         "mode": "lines",
         "name": "",
         "type": "scatter",
         "x": [
          1991,
          1992,
          1993,
          1994,
          1995,
          1996,
          1997,
          1998,
          1999,
          2000,
          2001,
          2002,
          2003,
          2004,
          2005,
          2006,
          2007,
          2008,
          2009,
          2010,
          2011,
          2012,
          2013,
          2014,
          2015,
          2016,
          2017,
          2018,
          2019
         ],
         "y": [
          28.319000000000003,
          28.294,
          28.084,
          null,
          null,
          28.331999999999997,
          29.239,
          33.009,
          33.09,
          35.969,
          40.037,
          44.373000000000005,
          46.398999999999994,
          48.916000000000004,
          49.763000000000005,
          52.115,
          52.504,
          53.784,
          55.019,
          61.1,
          73.45100000000001,
          75.679,
          75.797,
          76.67699999999999,
          78.42,
          79.211,
          80.227,
          80.26,
          80.156
         ]
        },
        {
         "marker": {
          "color": "rgb(51,102,204)",
          "size": 10
         },
         "mode": "markers",
         "type": "scatter",
         "x": [
          1991,
          2019
         ],
         "y": [
          28.319000000000003,
          80.156
         ]
        },
        {
         "connectgaps": true,
         "line": {
          "color": "rgb(255,171,0)",
          "width": 4
         },
         "mode": "lines",
         "name": "",
         "type": "scatter",
         "x": [
          1991,
          1992,
          1993,
          1994,
          1995,
          1996,
          1997,
          1998,
          1999,
          2000,
          2001,
          2002,
          2003,
          2004,
          2005,
          2006,
          2007,
          2008,
          2009,
          2010,
          2011,
          2012,
          2013,
          2014,
          2015,
          2016,
          2017,
          2018,
          2019
         ],
         "y": [
          null,
          null,
          null,
          null,
          null,
          null,
          null,
          null,
          null,
          null,
          null,
          null,
          null,
          null,
          null,
          null,
          null,
          null,
          null,
          7.475,
          9.584,
          7.948,
          8.972,
          8.232,
          10.211,
          10.789,
          11.133,
          12.433,
          13.382
         ]
        },
        {
         "marker": {
          "color": "rgb(255,171,0)",
          "size": 10
         },
         "mode": "markers",
         "type": "scatter",
         "x": [
          1991,
          2019
         ],
         "y": [
          null,
          13.382
         ]
        }
       ],
       "layout": {
        "annotations": [
         {
          "font": {
           "family": "Arial",
           "size": 14
          },
          "showarrow": false,
          "text": "118k",
          "x": 0.95,
          "xanchor": "left",
          "xref": "paper",
          "y": 118.76899999999999,
          "yanchor": "bottom"
         },
         {
          "font": {
           "family": "Arial",
           "size": 14
          },
          "showarrow": false,
          "text": "80k",
          "x": 0.95,
          "xanchor": "left",
          "xref": "paper",
          "y": 80.156,
          "yanchor": "bottom"
         },
         {
          "font": {
           "family": "Arial",
           "size": 14
          },
          "showarrow": false,
          "text": "13k",
          "x": 0.95,
          "xanchor": "left",
          "xref": "paper",
          "y": 13.382,
          "yanchor": "bottom"
         },
         {
          "font": {
           "color": "rgb(37,37,37)",
           "family": "Work Sans",
           "size": 25
          },
          "showarrow": false,
          "text": "",
          "x": 0.3,
          "xanchor": "left",
          "xref": "paper",
          "y": 1,
          "yanchor": "bottom",
          "yref": "paper"
         },
         {
          "font": {
           "color": "rgb(100,100,100)",
           "family": "Arial",
           "size": 12
          },
          "showarrow": false,
          "text": "Source: INPEC & datos.gov.co",
          "x": 0.5,
          "xanchor": "center",
          "xref": "paper",
          "y": -0.1,
          "yanchor": "top",
          "yref": "paper"
         }
        ],
        "autosize": true,
        "margin": {
         "autoexpand": true,
         "l": 50,
         "r": 50,
         "t": 0
        },
        "plot_bgcolor": "white",
        "showlegend": false,
        "template": {
         "data": {
          "bar": [
           {
            "error_x": {
             "color": "#2a3f5f"
            },
            "error_y": {
             "color": "#2a3f5f"
            },
            "marker": {
             "line": {
              "color": "#E5ECF6",
              "width": 0.5
             }
            },
            "type": "bar"
           }
          ],
          "barpolar": [
           {
            "marker": {
             "line": {
              "color": "#E5ECF6",
              "width": 0.5
             }
            },
            "type": "barpolar"
           }
          ],
          "carpet": [
           {
            "aaxis": {
             "endlinecolor": "#2a3f5f",
             "gridcolor": "white",
             "linecolor": "white",
             "minorgridcolor": "white",
             "startlinecolor": "#2a3f5f"
            },
            "baxis": {
             "endlinecolor": "#2a3f5f",
             "gridcolor": "white",
             "linecolor": "white",
             "minorgridcolor": "white",
             "startlinecolor": "#2a3f5f"
            },
            "type": "carpet"
           }
          ],
          "choropleth": [
           {
            "colorbar": {
             "outlinewidth": 0,
             "ticks": ""
            },
            "type": "choropleth"
           }
          ],
          "contour": [
           {
            "colorbar": {
             "outlinewidth": 0,
             "ticks": ""
            },
            "colorscale": [
             [
              0,
              "#0d0887"
             ],
             [
              0.1111111111111111,
              "#46039f"
             ],
             [
              0.2222222222222222,
              "#7201a8"
             ],
             [
              0.3333333333333333,
              "#9c179e"
             ],
             [
              0.4444444444444444,
              "#bd3786"
             ],
             [
              0.5555555555555556,
              "#d8576b"
             ],
             [
              0.6666666666666666,
              "#ed7953"
             ],
             [
              0.7777777777777778,
              "#fb9f3a"
             ],
             [
              0.8888888888888888,
              "#fdca26"
             ],
             [
              1,
              "#f0f921"
             ]
            ],
            "type": "contour"
           }
          ],
          "contourcarpet": [
           {
            "colorbar": {
             "outlinewidth": 0,
             "ticks": ""
            },
            "type": "contourcarpet"
           }
          ],
          "heatmap": [
           {
            "colorbar": {
             "outlinewidth": 0,
             "ticks": ""
            },
            "colorscale": [
             [
              0,
              "#0d0887"
             ],
             [
              0.1111111111111111,
              "#46039f"
             ],
             [
              0.2222222222222222,
              "#7201a8"
             ],
             [
              0.3333333333333333,
              "#9c179e"
             ],
             [
              0.4444444444444444,
              "#bd3786"
             ],
             [
              0.5555555555555556,
              "#d8576b"
             ],
             [
              0.6666666666666666,
              "#ed7953"
             ],
             [
              0.7777777777777778,
              "#fb9f3a"
             ],
             [
              0.8888888888888888,
              "#fdca26"
             ],
             [
              1,
              "#f0f921"
             ]
            ],
            "type": "heatmap"
           }
          ],
          "heatmapgl": [
           {
            "colorbar": {
             "outlinewidth": 0,
             "ticks": ""
            },
            "colorscale": [
             [
              0,
              "#0d0887"
             ],
             [
              0.1111111111111111,
              "#46039f"
             ],
             [
              0.2222222222222222,
              "#7201a8"
             ],
             [
              0.3333333333333333,
              "#9c179e"
             ],
             [
              0.4444444444444444,
              "#bd3786"
             ],
             [
              0.5555555555555556,
              "#d8576b"
             ],
             [
              0.6666666666666666,
              "#ed7953"
             ],
             [
              0.7777777777777778,
              "#fb9f3a"
             ],
             [
              0.8888888888888888,
              "#fdca26"
             ],
             [
              1,
              "#f0f921"
             ]
            ],
            "type": "heatmapgl"
           }
          ],
          "histogram": [
           {
            "marker": {
             "colorbar": {
              "outlinewidth": 0,
              "ticks": ""
             }
            },
            "type": "histogram"
           }
          ],
          "histogram2d": [
           {
            "colorbar": {
             "outlinewidth": 0,
             "ticks": ""
            },
            "colorscale": [
             [
              0,
              "#0d0887"
             ],
             [
              0.1111111111111111,
              "#46039f"
             ],
             [
              0.2222222222222222,
              "#7201a8"
             ],
             [
              0.3333333333333333,
              "#9c179e"
             ],
             [
              0.4444444444444444,
              "#bd3786"
             ],
             [
              0.5555555555555556,
              "#d8576b"
             ],
             [
              0.6666666666666666,
              "#ed7953"
             ],
             [
              0.7777777777777778,
              "#fb9f3a"
             ],
             [
              0.8888888888888888,
              "#fdca26"
             ],
             [
              1,
              "#f0f921"
             ]
            ],
            "type": "histogram2d"
           }
          ],
          "histogram2dcontour": [
           {
            "colorbar": {
             "outlinewidth": 0,
             "ticks": ""
            },
            "colorscale": [
             [
              0,
              "#0d0887"
             ],
             [
              0.1111111111111111,
              "#46039f"
             ],
             [
              0.2222222222222222,
              "#7201a8"
             ],
             [
              0.3333333333333333,
              "#9c179e"
             ],
             [
              0.4444444444444444,
              "#bd3786"
             ],
             [
              0.5555555555555556,
              "#d8576b"
             ],
             [
              0.6666666666666666,
              "#ed7953"
             ],
             [
              0.7777777777777778,
              "#fb9f3a"
             ],
             [
              0.8888888888888888,
              "#fdca26"
             ],
             [
              1,
              "#f0f921"
             ]
            ],
            "type": "histogram2dcontour"
           }
          ],
          "mesh3d": [
           {
            "colorbar": {
             "outlinewidth": 0,
             "ticks": ""
            },
            "type": "mesh3d"
           }
          ],
          "parcoords": [
           {
            "line": {
             "colorbar": {
              "outlinewidth": 0,
              "ticks": ""
             }
            },
            "type": "parcoords"
           }
          ],
          "pie": [
           {
            "automargin": true,
            "type": "pie"
           }
          ],
          "scatter": [
           {
            "marker": {
             "colorbar": {
              "outlinewidth": 0,
              "ticks": ""
             }
            },
            "type": "scatter"
           }
          ],
          "scatter3d": [
           {
            "line": {
             "colorbar": {
              "outlinewidth": 0,
              "ticks": ""
             }
            },
            "marker": {
             "colorbar": {
              "outlinewidth": 0,
              "ticks": ""
             }
            },
            "type": "scatter3d"
           }
          ],
          "scattercarpet": [
           {
            "marker": {
             "colorbar": {
              "outlinewidth": 0,
              "ticks": ""
             }
            },
            "type": "scattercarpet"
           }
          ],
          "scattergeo": [
           {
            "marker": {
             "colorbar": {
              "outlinewidth": 0,
              "ticks": ""
             }
            },
            "type": "scattergeo"
           }
          ],
          "scattergl": [
           {
            "marker": {
             "colorbar": {
              "outlinewidth": 0,
              "ticks": ""
             }
            },
            "type": "scattergl"
           }
          ],
          "scattermapbox": [
           {
            "marker": {
             "colorbar": {
              "outlinewidth": 0,
              "ticks": ""
             }
            },
            "type": "scattermapbox"
           }
          ],
          "scatterpolar": [
           {
            "marker": {
             "colorbar": {
              "outlinewidth": 0,
              "ticks": ""
             }
            },
            "type": "scatterpolar"
           }
          ],
          "scatterpolargl": [
           {
            "marker": {
             "colorbar": {
              "outlinewidth": 0,
              "ticks": ""
             }
            },
            "type": "scatterpolargl"
           }
          ],
          "scatterternary": [
           {
            "marker": {
             "colorbar": {
              "outlinewidth": 0,
              "ticks": ""
             }
            },
            "type": "scatterternary"
           }
          ],
          "surface": [
           {
            "colorbar": {
             "outlinewidth": 0,
             "ticks": ""
            },
            "colorscale": [
             [
              0,
              "#0d0887"
             ],
             [
              0.1111111111111111,
              "#46039f"
             ],
             [
              0.2222222222222222,
              "#7201a8"
             ],
             [
              0.3333333333333333,
              "#9c179e"
             ],
             [
              0.4444444444444444,
              "#bd3786"
             ],
             [
              0.5555555555555556,
              "#d8576b"
             ],
             [
              0.6666666666666666,
              "#ed7953"
             ],
             [
              0.7777777777777778,
              "#fb9f3a"
             ],
             [
              0.8888888888888888,
              "#fdca26"
             ],
             [
              1,
              "#f0f921"
             ]
            ],
            "type": "surface"
           }
          ],
          "table": [
           {
            "cells": {
             "fill": {
              "color": "#EBF0F8"
             },
             "line": {
              "color": "white"
             }
            },
            "header": {
             "fill": {
              "color": "#C8D4E3"
             },
             "line": {
              "color": "white"
             }
            },
            "type": "table"
           }
          ]
         },
         "layout": {
          "annotationdefaults": {
           "arrowcolor": "#2a3f5f",
           "arrowhead": 0,
           "arrowwidth": 1
          },
          "coloraxis": {
           "colorbar": {
            "outlinewidth": 0,
            "ticks": ""
           }
          },
          "colorscale": {
           "diverging": [
            [
             0,
             "#8e0152"
            ],
            [
             0.1,
             "#c51b7d"
            ],
            [
             0.2,
             "#de77ae"
            ],
            [
             0.3,
             "#f1b6da"
            ],
            [
             0.4,
             "#fde0ef"
            ],
            [
             0.5,
             "#f7f7f7"
            ],
            [
             0.6,
             "#e6f5d0"
            ],
            [
             0.7,
             "#b8e186"
            ],
            [
             0.8,
             "#7fbc41"
            ],
            [
             0.9,
             "#4d9221"
            ],
            [
             1,
             "#276419"
            ]
           ],
           "sequential": [
            [
             0,
             "#0d0887"
            ],
            [
             0.1111111111111111,
             "#46039f"
            ],
            [
             0.2222222222222222,
             "#7201a8"
            ],
            [
             0.3333333333333333,
             "#9c179e"
            ],
            [
             0.4444444444444444,
             "#bd3786"
            ],
            [
             0.5555555555555556,
             "#d8576b"
            ],
            [
             0.6666666666666666,
             "#ed7953"
            ],
            [
             0.7777777777777778,
             "#fb9f3a"
            ],
            [
             0.8888888888888888,
             "#fdca26"
            ],
            [
             1,
             "#f0f921"
            ]
           ],
           "sequentialminus": [
            [
             0,
             "#0d0887"
            ],
            [
             0.1111111111111111,
             "#46039f"
            ],
            [
             0.2222222222222222,
             "#7201a8"
            ],
            [
             0.3333333333333333,
             "#9c179e"
            ],
            [
             0.4444444444444444,
             "#bd3786"
            ],
            [
             0.5555555555555556,
             "#d8576b"
            ],
            [
             0.6666666666666666,
             "#ed7953"
            ],
            [
             0.7777777777777778,
             "#fb9f3a"
            ],
            [
             0.8888888888888888,
             "#fdca26"
            ],
            [
             1,
             "#f0f921"
            ]
           ]
          },
          "colorway": [
           "#636efa",
           "#EF553B",
           "#00cc96",
           "#ab63fa",
           "#FFA15A",
           "#19d3f3",
           "#FF6692",
           "#B6E880",
           "#FF97FF",
           "#FECB52"
          ],
          "font": {
           "color": "#2a3f5f"
          },
          "geo": {
           "bgcolor": "white",
           "lakecolor": "white",
           "landcolor": "#E5ECF6",
           "showlakes": true,
           "showland": true,
           "subunitcolor": "white"
          },
          "hoverlabel": {
           "align": "left"
          },
          "hovermode": "closest",
          "mapbox": {
           "style": "light"
          },
          "paper_bgcolor": "white",
          "plot_bgcolor": "#E5ECF6",
          "polar": {
           "angularaxis": {
            "gridcolor": "white",
            "linecolor": "white",
            "ticks": ""
           },
           "bgcolor": "#E5ECF6",
           "radialaxis": {
            "gridcolor": "white",
            "linecolor": "white",
            "ticks": ""
           }
          },
          "scene": {
           "xaxis": {
            "backgroundcolor": "#E5ECF6",
            "gridcolor": "white",
            "gridwidth": 2,
            "linecolor": "white",
            "showbackground": true,
            "ticks": "",
            "zerolinecolor": "white"
           },
           "yaxis": {
            "backgroundcolor": "#E5ECF6",
            "gridcolor": "white",
            "gridwidth": 2,
            "linecolor": "white",
            "showbackground": true,
            "ticks": "",
            "zerolinecolor": "white"
           },
           "zaxis": {
            "backgroundcolor": "#E5ECF6",
            "gridcolor": "white",
            "gridwidth": 2,
            "linecolor": "white",
            "showbackground": true,
            "ticks": "",
            "zerolinecolor": "white"
           }
          },
          "shapedefaults": {
           "line": {
            "color": "#2a3f5f"
           }
          },
          "ternary": {
           "aaxis": {
            "gridcolor": "white",
            "linecolor": "white",
            "ticks": ""
           },
           "baxis": {
            "gridcolor": "white",
            "linecolor": "white",
            "ticks": ""
           },
           "bgcolor": "#E5ECF6",
           "caxis": {
            "gridcolor": "white",
            "linecolor": "white",
            "ticks": ""
           }
          },
          "title": {
           "x": 0.05
          },
          "xaxis": {
           "automargin": true,
           "gridcolor": "white",
           "linecolor": "white",
           "ticks": "",
           "title": {
            "standoff": 15
           },
           "zerolinecolor": "white",
           "zerolinewidth": 2
          },
          "yaxis": {
           "automargin": true,
           "gridcolor": "white",
           "linecolor": "white",
           "ticks": "",
           "title": {
            "standoff": 15
           },
           "zerolinecolor": "white",
           "zerolinewidth": 2
          }
         }
        },
        "xaxis": {
         "linecolor": "rgb(204, 204, 204)",
         "linewidth": 2,
         "showgrid": false,
         "showline": true,
         "showticklabels": true,
         "tickfont": {
          "color": "rgb(0, 0, 0)",
          "family": "Arial",
          "size": 12
         },
         "ticks": ""
        },
        "yaxis": {
         "anchor": "free",
         "position": 0.05,
         "showgrid": true,
         "showline": true,
         "showticklabels": true,
         "tickfont": {
          "color": "rgb(0, 0, 0)",
          "family": "Arial",
          "size": 12
         },
         "ticks": "inside"
        }
       }
      },
      "text/html": [
       "<div>\n",
       "        \n",
       "        \n",
       "            <div id=\"89c7ee30-3572-41c7-96e8-fea5bc59eabc\" class=\"plotly-graph-div\" style=\"height:525px; width:100%;\"></div>\n",
       "            <script type=\"text/javascript\">\n",
       "                require([\"plotly\"], function(Plotly) {\n",
       "                    window.PLOTLYENV=window.PLOTLYENV || {};\n",
       "                    \n",
       "                if (document.getElementById(\"89c7ee30-3572-41c7-96e8-fea5bc59eabc\")) {\n",
       "                    Plotly.newPlot(\n",
       "                        '89c7ee30-3572-41c7-96e8-fea5bc59eabc',\n",
       "                        [{\"connectgaps\": true, \"line\": {\"color\": \"rgb(91,139,255)\", \"width\": 2}, \"mode\": \"lines\", \"name\": \"\", \"type\": \"scatter\", \"x\": [1991, 1992, 1993, 1994, 1995, 1996, 1997, 1998, 1999, 2000, 2001, 2002, 2003, 2004, 2005, 2006, 2007, 2008, 2009, 2010, 2011, 2012, 2013, 2014, 2015, 2016, 2017, 2018, 2019], \"y\": [29.355, 27.016, 28.26, 29.338, 31.96, 38.063, 41.405, 43.25899999999999, 46.321999999999996, 49.816, 52.181000000000004, 51.276, 58.894, 66.47399999999999, 69.365, 62.906000000000006, 61.543, 67.812, 74.277, 81.095, 94.26700000000001, 109.822, 117.98700000000001, 117.73100000000001, 120.444, 118.53200000000001, 114.75, 118.51299999999999, 118.76899999999999]}, {\"marker\": {\"color\": \"rgb(91,139,255)\", \"size\": 10}, \"mode\": \"markers\", \"type\": \"scatter\", \"x\": [1991, 2019], \"y\": [29.355, 118.76899999999999]}, {\"connectgaps\": true, \"line\": {\"color\": \"rgb(51,102,204)\", \"width\": 2}, \"mode\": \"lines\", \"name\": \"\", \"type\": \"scatter\", \"x\": [1991, 1992, 1993, 1994, 1995, 1996, 1997, 1998, 1999, 2000, 2001, 2002, 2003, 2004, 2005, 2006, 2007, 2008, 2009, 2010, 2011, 2012, 2013, 2014, 2015, 2016, 2017, 2018, 2019], \"y\": [28.319000000000003, 28.294, 28.084, null, null, 28.331999999999997, 29.239, 33.009, 33.09, 35.969, 40.037, 44.373000000000005, 46.398999999999994, 48.916000000000004, 49.763000000000005, 52.115, 52.504, 53.784, 55.019, 61.1, 73.45100000000001, 75.679, 75.797, 76.67699999999999, 78.42, 79.211, 80.227, 80.26, 80.156]}, {\"marker\": {\"color\": \"rgb(51,102,204)\", \"size\": 10}, \"mode\": \"markers\", \"type\": \"scatter\", \"x\": [1991, 2019], \"y\": [28.319000000000003, 80.156]}, {\"connectgaps\": true, \"line\": {\"color\": \"rgb(255,171,0)\", \"width\": 4}, \"mode\": \"lines\", \"name\": \"\", \"type\": \"scatter\", \"x\": [1991, 1992, 1993, 1994, 1995, 1996, 1997, 1998, 1999, 2000, 2001, 2002, 2003, 2004, 2005, 2006, 2007, 2008, 2009, 2010, 2011, 2012, 2013, 2014, 2015, 2016, 2017, 2018, 2019], \"y\": [null, null, null, null, null, null, null, null, null, null, null, null, null, null, null, null, null, null, null, 7.475, 9.584, 7.948, 8.972, 8.232, 10.211, 10.789, 11.133, 12.433, 13.382]}, {\"marker\": {\"color\": \"rgb(255,171,0)\", \"size\": 10}, \"mode\": \"markers\", \"type\": \"scatter\", \"x\": [1991, 2019], \"y\": [null, 13.382]}],\n",
       "                        {\"annotations\": [{\"font\": {\"family\": \"Arial\", \"size\": 14}, \"showarrow\": false, \"text\": \"118k\", \"x\": 0.95, \"xanchor\": \"left\", \"xref\": \"paper\", \"y\": 118.76899999999999, \"yanchor\": \"bottom\"}, {\"font\": {\"family\": \"Arial\", \"size\": 14}, \"showarrow\": false, \"text\": \"80k\", \"x\": 0.95, \"xanchor\": \"left\", \"xref\": \"paper\", \"y\": 80.156, \"yanchor\": \"bottom\"}, {\"font\": {\"family\": \"Arial\", \"size\": 14}, \"showarrow\": false, \"text\": \"13k\", \"x\": 0.95, \"xanchor\": \"left\", \"xref\": \"paper\", \"y\": 13.382, \"yanchor\": \"bottom\"}, {\"font\": {\"color\": \"rgb(37,37,37)\", \"family\": \"Work Sans\", \"size\": 25}, \"showarrow\": false, \"text\": \"\", \"x\": 0.3, \"xanchor\": \"left\", \"xref\": \"paper\", \"y\": 1, \"yanchor\": \"bottom\", \"yref\": \"paper\"}, {\"font\": {\"color\": \"rgb(100,100,100)\", \"family\": \"Arial\", \"size\": 12}, \"showarrow\": false, \"text\": \"Source: INPEC & datos.gov.co\", \"x\": 0.5, \"xanchor\": \"center\", \"xref\": \"paper\", \"y\": -0.1, \"yanchor\": \"top\", \"yref\": \"paper\"}], \"autosize\": true, \"margin\": {\"autoexpand\": true, \"l\": 50, \"r\": 50, \"t\": 0}, \"plot_bgcolor\": \"white\", \"showlegend\": false, \"template\": {\"data\": {\"bar\": [{\"error_x\": {\"color\": \"#2a3f5f\"}, \"error_y\": {\"color\": \"#2a3f5f\"}, \"marker\": {\"line\": {\"color\": \"#E5ECF6\", \"width\": 0.5}}, \"type\": \"bar\"}], \"barpolar\": [{\"marker\": {\"line\": {\"color\": \"#E5ECF6\", \"width\": 0.5}}, \"type\": \"barpolar\"}], \"carpet\": [{\"aaxis\": {\"endlinecolor\": \"#2a3f5f\", \"gridcolor\": \"white\", \"linecolor\": \"white\", \"minorgridcolor\": \"white\", \"startlinecolor\": \"#2a3f5f\"}, \"baxis\": {\"endlinecolor\": \"#2a3f5f\", \"gridcolor\": \"white\", \"linecolor\": \"white\", \"minorgridcolor\": \"white\", \"startlinecolor\": \"#2a3f5f\"}, \"type\": \"carpet\"}], \"choropleth\": [{\"colorbar\": {\"outlinewidth\": 0, \"ticks\": \"\"}, \"type\": \"choropleth\"}], \"contour\": [{\"colorbar\": {\"outlinewidth\": 0, \"ticks\": \"\"}, \"colorscale\": [[0.0, \"#0d0887\"], [0.1111111111111111, \"#46039f\"], [0.2222222222222222, \"#7201a8\"], [0.3333333333333333, \"#9c179e\"], [0.4444444444444444, \"#bd3786\"], [0.5555555555555556, \"#d8576b\"], [0.6666666666666666, \"#ed7953\"], [0.7777777777777778, \"#fb9f3a\"], [0.8888888888888888, \"#fdca26\"], [1.0, \"#f0f921\"]], \"type\": \"contour\"}], \"contourcarpet\": [{\"colorbar\": {\"outlinewidth\": 0, \"ticks\": \"\"}, \"type\": \"contourcarpet\"}], \"heatmap\": [{\"colorbar\": {\"outlinewidth\": 0, \"ticks\": \"\"}, \"colorscale\": [[0.0, \"#0d0887\"], [0.1111111111111111, \"#46039f\"], [0.2222222222222222, \"#7201a8\"], [0.3333333333333333, \"#9c179e\"], [0.4444444444444444, \"#bd3786\"], [0.5555555555555556, \"#d8576b\"], [0.6666666666666666, \"#ed7953\"], [0.7777777777777778, \"#fb9f3a\"], [0.8888888888888888, \"#fdca26\"], [1.0, \"#f0f921\"]], \"type\": \"heatmap\"}], \"heatmapgl\": [{\"colorbar\": {\"outlinewidth\": 0, \"ticks\": \"\"}, \"colorscale\": [[0.0, \"#0d0887\"], [0.1111111111111111, \"#46039f\"], [0.2222222222222222, \"#7201a8\"], [0.3333333333333333, \"#9c179e\"], [0.4444444444444444, \"#bd3786\"], [0.5555555555555556, \"#d8576b\"], [0.6666666666666666, \"#ed7953\"], [0.7777777777777778, \"#fb9f3a\"], [0.8888888888888888, \"#fdca26\"], [1.0, \"#f0f921\"]], \"type\": \"heatmapgl\"}], \"histogram\": [{\"marker\": {\"colorbar\": {\"outlinewidth\": 0, \"ticks\": \"\"}}, \"type\": \"histogram\"}], \"histogram2d\": [{\"colorbar\": {\"outlinewidth\": 0, \"ticks\": \"\"}, \"colorscale\": [[0.0, \"#0d0887\"], [0.1111111111111111, \"#46039f\"], [0.2222222222222222, \"#7201a8\"], [0.3333333333333333, \"#9c179e\"], [0.4444444444444444, \"#bd3786\"], [0.5555555555555556, \"#d8576b\"], [0.6666666666666666, \"#ed7953\"], [0.7777777777777778, \"#fb9f3a\"], [0.8888888888888888, \"#fdca26\"], [1.0, \"#f0f921\"]], \"type\": \"histogram2d\"}], \"histogram2dcontour\": [{\"colorbar\": {\"outlinewidth\": 0, \"ticks\": \"\"}, \"colorscale\": [[0.0, \"#0d0887\"], [0.1111111111111111, \"#46039f\"], [0.2222222222222222, \"#7201a8\"], [0.3333333333333333, \"#9c179e\"], [0.4444444444444444, \"#bd3786\"], [0.5555555555555556, \"#d8576b\"], [0.6666666666666666, \"#ed7953\"], [0.7777777777777778, \"#fb9f3a\"], [0.8888888888888888, \"#fdca26\"], [1.0, \"#f0f921\"]], \"type\": \"histogram2dcontour\"}], \"mesh3d\": [{\"colorbar\": {\"outlinewidth\": 0, \"ticks\": \"\"}, \"type\": \"mesh3d\"}], \"parcoords\": [{\"line\": {\"colorbar\": {\"outlinewidth\": 0, \"ticks\": \"\"}}, \"type\": \"parcoords\"}], \"pie\": [{\"automargin\": true, \"type\": \"pie\"}], \"scatter\": [{\"marker\": {\"colorbar\": {\"outlinewidth\": 0, \"ticks\": \"\"}}, \"type\": \"scatter\"}], \"scatter3d\": [{\"line\": {\"colorbar\": {\"outlinewidth\": 0, \"ticks\": \"\"}}, \"marker\": {\"colorbar\": {\"outlinewidth\": 0, \"ticks\": \"\"}}, \"type\": \"scatter3d\"}], \"scattercarpet\": [{\"marker\": {\"colorbar\": {\"outlinewidth\": 0, \"ticks\": \"\"}}, \"type\": \"scattercarpet\"}], \"scattergeo\": [{\"marker\": {\"colorbar\": {\"outlinewidth\": 0, \"ticks\": \"\"}}, \"type\": \"scattergeo\"}], \"scattergl\": [{\"marker\": {\"colorbar\": {\"outlinewidth\": 0, \"ticks\": \"\"}}, \"type\": \"scattergl\"}], \"scattermapbox\": [{\"marker\": {\"colorbar\": {\"outlinewidth\": 0, \"ticks\": \"\"}}, \"type\": \"scattermapbox\"}], \"scatterpolar\": [{\"marker\": {\"colorbar\": {\"outlinewidth\": 0, \"ticks\": \"\"}}, \"type\": \"scatterpolar\"}], \"scatterpolargl\": [{\"marker\": {\"colorbar\": {\"outlinewidth\": 0, \"ticks\": \"\"}}, \"type\": \"scatterpolargl\"}], \"scatterternary\": [{\"marker\": {\"colorbar\": {\"outlinewidth\": 0, \"ticks\": \"\"}}, \"type\": \"scatterternary\"}], \"surface\": [{\"colorbar\": {\"outlinewidth\": 0, \"ticks\": \"\"}, \"colorscale\": [[0.0, \"#0d0887\"], [0.1111111111111111, \"#46039f\"], [0.2222222222222222, \"#7201a8\"], [0.3333333333333333, \"#9c179e\"], [0.4444444444444444, \"#bd3786\"], [0.5555555555555556, \"#d8576b\"], [0.6666666666666666, \"#ed7953\"], [0.7777777777777778, \"#fb9f3a\"], [0.8888888888888888, \"#fdca26\"], [1.0, \"#f0f921\"]], \"type\": \"surface\"}], \"table\": [{\"cells\": {\"fill\": {\"color\": \"#EBF0F8\"}, \"line\": {\"color\": \"white\"}}, \"header\": {\"fill\": {\"color\": \"#C8D4E3\"}, \"line\": {\"color\": \"white\"}}, \"type\": \"table\"}]}, \"layout\": {\"annotationdefaults\": {\"arrowcolor\": \"#2a3f5f\", \"arrowhead\": 0, \"arrowwidth\": 1}, \"coloraxis\": {\"colorbar\": {\"outlinewidth\": 0, \"ticks\": \"\"}}, \"colorscale\": {\"diverging\": [[0, \"#8e0152\"], [0.1, \"#c51b7d\"], [0.2, \"#de77ae\"], [0.3, \"#f1b6da\"], [0.4, \"#fde0ef\"], [0.5, \"#f7f7f7\"], [0.6, \"#e6f5d0\"], [0.7, \"#b8e186\"], [0.8, \"#7fbc41\"], [0.9, \"#4d9221\"], [1, \"#276419\"]], \"sequential\": [[0.0, \"#0d0887\"], [0.1111111111111111, \"#46039f\"], [0.2222222222222222, \"#7201a8\"], [0.3333333333333333, \"#9c179e\"], [0.4444444444444444, \"#bd3786\"], [0.5555555555555556, \"#d8576b\"], [0.6666666666666666, \"#ed7953\"], [0.7777777777777778, \"#fb9f3a\"], [0.8888888888888888, \"#fdca26\"], [1.0, \"#f0f921\"]], \"sequentialminus\": [[0.0, \"#0d0887\"], [0.1111111111111111, \"#46039f\"], [0.2222222222222222, \"#7201a8\"], [0.3333333333333333, \"#9c179e\"], [0.4444444444444444, \"#bd3786\"], [0.5555555555555556, \"#d8576b\"], [0.6666666666666666, \"#ed7953\"], [0.7777777777777778, \"#fb9f3a\"], [0.8888888888888888, \"#fdca26\"], [1.0, \"#f0f921\"]]}, \"colorway\": [\"#636efa\", \"#EF553B\", \"#00cc96\", \"#ab63fa\", \"#FFA15A\", \"#19d3f3\", \"#FF6692\", \"#B6E880\", \"#FF97FF\", \"#FECB52\"], \"font\": {\"color\": \"#2a3f5f\"}, \"geo\": {\"bgcolor\": \"white\", \"lakecolor\": \"white\", \"landcolor\": \"#E5ECF6\", \"showlakes\": true, \"showland\": true, \"subunitcolor\": \"white\"}, \"hoverlabel\": {\"align\": \"left\"}, \"hovermode\": \"closest\", \"mapbox\": {\"style\": \"light\"}, \"paper_bgcolor\": \"white\", \"plot_bgcolor\": \"#E5ECF6\", \"polar\": {\"angularaxis\": {\"gridcolor\": \"white\", \"linecolor\": \"white\", \"ticks\": \"\"}, \"bgcolor\": \"#E5ECF6\", \"radialaxis\": {\"gridcolor\": \"white\", \"linecolor\": \"white\", \"ticks\": \"\"}}, \"scene\": {\"xaxis\": {\"backgroundcolor\": \"#E5ECF6\", \"gridcolor\": \"white\", \"gridwidth\": 2, \"linecolor\": \"white\", \"showbackground\": true, \"ticks\": \"\", \"zerolinecolor\": \"white\"}, \"yaxis\": {\"backgroundcolor\": \"#E5ECF6\", \"gridcolor\": \"white\", \"gridwidth\": 2, \"linecolor\": \"white\", \"showbackground\": true, \"ticks\": \"\", \"zerolinecolor\": \"white\"}, \"zaxis\": {\"backgroundcolor\": \"#E5ECF6\", \"gridcolor\": \"white\", \"gridwidth\": 2, \"linecolor\": \"white\", \"showbackground\": true, \"ticks\": \"\", \"zerolinecolor\": \"white\"}}, \"shapedefaults\": {\"line\": {\"color\": \"#2a3f5f\"}}, \"ternary\": {\"aaxis\": {\"gridcolor\": \"white\", \"linecolor\": \"white\", \"ticks\": \"\"}, \"baxis\": {\"gridcolor\": \"white\", \"linecolor\": \"white\", \"ticks\": \"\"}, \"bgcolor\": \"#E5ECF6\", \"caxis\": {\"gridcolor\": \"white\", \"linecolor\": \"white\", \"ticks\": \"\"}}, \"title\": {\"x\": 0.05}, \"xaxis\": {\"automargin\": true, \"gridcolor\": \"white\", \"linecolor\": \"white\", \"ticks\": \"\", \"title\": {\"standoff\": 15}, \"zerolinecolor\": \"white\", \"zerolinewidth\": 2}, \"yaxis\": {\"automargin\": true, \"gridcolor\": \"white\", \"linecolor\": \"white\", \"ticks\": \"\", \"title\": {\"standoff\": 15}, \"zerolinecolor\": \"white\", \"zerolinewidth\": 2}}}, \"xaxis\": {\"linecolor\": \"rgb(204, 204, 204)\", \"linewidth\": 2, \"showgrid\": false, \"showline\": true, \"showticklabels\": true, \"tickfont\": {\"color\": \"rgb(0, 0, 0)\", \"family\": \"Arial\", \"size\": 12}, \"ticks\": \"\"}, \"yaxis\": {\"anchor\": \"free\", \"position\": 0.05, \"showgrid\": true, \"showline\": true, \"showticklabels\": true, \"tickfont\": {\"color\": \"rgb(0, 0, 0)\", \"family\": \"Arial\", \"size\": 12}, \"ticks\": \"inside\"}},\n",
       "                        {\"responsive\": true}\n",
       "                    ).then(function(){\n",
       "                            \n",
       "var gd = document.getElementById('89c7ee30-3572-41c7-96e8-fea5bc59eabc');\n",
       "var x = new MutationObserver(function (mutations, observer) {{\n",
       "        var display = window.getComputedStyle(gd).display;\n",
       "        if (!display || display === 'none') {{\n",
       "            console.log([gd, 'removed!']);\n",
       "            Plotly.purge(gd);\n",
       "            observer.disconnect();\n",
       "        }}\n",
       "}});\n",
       "\n",
       "// Listen for the removal of the full notebook cells\n",
       "var notebookContainer = gd.closest('#notebook-container');\n",
       "if (notebookContainer) {{\n",
       "    x.observe(notebookContainer, {childList: true});\n",
       "}}\n",
       "\n",
       "// Listen for the clearing of the current output cell\n",
       "var outputEl = gd.closest('.output');\n",
       "if (outputEl) {{\n",
       "    x.observe(outputEl, {childList: true});\n",
       "}}\n",
       "\n",
       "                        })\n",
       "                };\n",
       "                });\n",
       "            </script>\n",
       "        </div>"
      ]
     },
     "metadata": {},
     "output_type": "display_data"
    }
   ],
   "source": [
    "title = 'Jail Population in Colombia'\n",
    "labels = ['', '', '']\n",
    "colors = ['rgb(91,139,255)', 'rgb(51,102,204)', 'rgb(255,171,0)']\n",
    "percentages = ['149','100','11']\n",
    "boundsx =[1990,2020]\n",
    "mode_size = [10, 10, 10]\n",
    "line_size = [2, 2, 4]\n",
    "x_data = x_data_temp\n",
    "y_data = y_data_temp\n",
    "fig = go.Figure()\n",
    "\n",
    "for i in range(0, 3):\n",
    "    fig.add_trace(go.Scatter(x=x_data[i], y=y_data[i], mode='lines',\n",
    "        name=labels[i],\n",
    "        line=dict(color=colors[i], width=line_size[i]),\n",
    "        connectgaps=True,\n",
    "    ))\n",
    "    # endpoints\n",
    "    fig.add_trace(go.Scatter(\n",
    "        x=[x_data[i][0], x_data[i][-1]],\n",
    "        y=[y_data[i][0], y_data[i][-1]],\n",
    "        mode='markers',\n",
    "        marker=dict(color=colors[i], size=mode_size[i])\n",
    "    ))\n",
    "fig.update_layout(\n",
    "    xaxis=dict(\n",
    "        showline=True,\n",
    "        showgrid=False,\n",
    "        showticklabels=True,\n",
    "        linecolor='rgb(204, 204, 204)',\n",
    "        linewidth=2,\n",
    "        ticks='',\n",
    "        tickfont=dict(\n",
    "            family='Arial',\n",
    "            size=12,\n",
    "            color='rgb(0, 0, 0)', \n",
    "        )\n",
    "    ),\n",
    "    yaxis=dict(\n",
    "        ticks='inside',\n",
    "        tickfont=dict(\n",
    "            family='Arial',\n",
    "            size=12,\n",
    "            color='rgb(0, 0, 0)', \n",
    "        ),\n",
    "        showgrid=True,\n",
    "        showline=True,\n",
    "        showticklabels=True,\n",
    "        anchor='free',\n",
    "        position=0.05\n",
    "    ),\n",
    "    autosize=True,\n",
    "    margin=dict(\n",
    "        autoexpand=True,\n",
    "        l=50,\n",
    "        r=50,\n",
    "        t=0,\n",
    "    ),\n",
    "    showlegend=False,\n",
    "    plot_bgcolor='white'\n",
    ")\n",
    "annotations = []\n",
    "# Adding labels\n",
    "for y_trace, label, color, percentage in zip(y_data, labels, colors, percentages):\n",
    "    annotations.append(dict(xref='paper', x=0.95, y=y_trace[-1],\n",
    "                                  xanchor='left', yanchor='bottom',\n",
    "                                  text=label+'{}k'.format(int(y_trace[-1])),\n",
    "                                  font=dict(family='Arial',\n",
    "                                            size=14),\n",
    "                                  showarrow=False))\n",
    "# Title\n",
    "annotations.append(dict(xref='paper', yref='paper', x=0.3, y=1,\n",
    "                              xanchor='left', yanchor='bottom',\n",
    "                              text='',\n",
    "                              font=dict(family='Work Sans',\n",
    "                                        size=25,\n",
    "                                        color='rgb(37,37,37)'),\n",
    "                              showarrow=False))\n",
    "# Source\n",
    "annotations.append(dict(xref='paper', yref='paper', x=0.5, y=-0.1,\n",
    "                              xanchor='center', yanchor='top',\n",
    "                              text='Source: INPEC & datos.gov.co',\n",
    "                              font=dict(family='Arial',\n",
    "                                        size=12,\n",
    "                                        color='rgb(100,100,100)'),\n",
    "                              showarrow=False))\n",
    "fig.update_layout(annotations=annotations)\n",
    "fig.show()"
   ]
  },
  {
   "cell_type": "code",
   "execution_count": 28,
   "metadata": {
    "ExecuteTime": {
     "end_time": "2020-07-25T00:19:57.929484Z",
     "start_time": "2020-07-25T00:19:57.399938Z"
    }
   },
   "outputs": [
    {
     "data": {
      "text/html": [
       "<div>\n",
       "<style scoped>\n",
       "    .dataframe tbody tr th:only-of-type {\n",
       "        vertical-align: middle;\n",
       "    }\n",
       "\n",
       "    .dataframe tbody tr th {\n",
       "        vertical-align: top;\n",
       "    }\n",
       "\n",
       "    .dataframe thead th {\n",
       "        text-align: right;\n",
       "    }\n",
       "</style>\n",
       "<table border=\"1\" class=\"dataframe\">\n",
       "  <thead>\n",
       "    <tr style=\"text-align: right;\">\n",
       "      <th></th>\n",
       "      <th>Unique Fecha Ingreso</th>\n",
       "      <th>Number of Inmates</th>\n",
       "    </tr>\n",
       "  </thead>\n",
       "  <tbody>\n",
       "    <tr>\n",
       "      <th>0</th>\n",
       "      <td>1</td>\n",
       "      <td>58739</td>\n",
       "    </tr>\n",
       "    <tr>\n",
       "      <th>1</th>\n",
       "      <td>2</td>\n",
       "      <td>16478</td>\n",
       "    </tr>\n",
       "    <tr>\n",
       "      <th>2</th>\n",
       "      <td>3</td>\n",
       "      <td>3023</td>\n",
       "    </tr>\n",
       "    <tr>\n",
       "      <th>3</th>\n",
       "      <td>4</td>\n",
       "      <td>497</td>\n",
       "    </tr>\n",
       "    <tr>\n",
       "      <th>4</th>\n",
       "      <td>5</td>\n",
       "      <td>91</td>\n",
       "    </tr>\n",
       "    <tr>\n",
       "      <th>5</th>\n",
       "      <td>6</td>\n",
       "      <td>10</td>\n",
       "    </tr>\n",
       "    <tr>\n",
       "      <th>6</th>\n",
       "      <td>7</td>\n",
       "      <td>2</td>\n",
       "    </tr>\n",
       "    <tr>\n",
       "      <th>7</th>\n",
       "      <td>9</td>\n",
       "      <td>1</td>\n",
       "    </tr>\n",
       "  </tbody>\n",
       "</table>\n",
       "</div>"
      ],
      "text/plain": [
       "   Unique Fecha Ingreso  Number of Inmates\n",
       "0                     1              58739\n",
       "1                     2              16478\n",
       "2                     3               3023\n",
       "3                     4                497\n",
       "4                     5                 91\n",
       "5                     6                 10\n",
       "6                     7                  2\n",
       "7                     9                  1"
      ]
     },
     "execution_count": 28,
     "metadata": {},
     "output_type": "execute_result"
    }
   ],
   "source": [
    "number_captures_by_inmate = inmate.groupby(['INTERNOEN'])['FECHA_INGRESO'].nunique().value_counts() \\\n",
    "                            .reset_index().rename(columns = {'index': 'Unique Fecha Ingreso', \n",
    "                                                             'FECHA_INGRESO': 'Number of Inmates'})\n",
    "number_captures_by_inmate"
   ]
  },
  {
   "cell_type": "code",
   "execution_count": 30,
   "metadata": {
    "ExecuteTime": {
     "end_time": "2020-07-25T00:20:08.014071Z",
     "start_time": "2020-07-25T00:20:07.934782Z"
    }
   },
   "outputs": [],
   "source": [
    "top10 = list(inmate.DELITO.value_counts().to_frame().reset_index().rename(columns = {'index':'DELITONAME'}).head(10)['DELITONAME'])"
   ]
  },
  {
   "cell_type": "code",
   "execution_count": 32,
   "metadata": {
    "ExecuteTime": {
     "end_time": "2020-07-25T00:20:13.682274Z",
     "start_time": "2020-07-25T00:20:13.642720Z"
    }
   },
   "outputs": [],
   "source": [
    "delitos = inmate.DELITO.unique()"
   ]
  },
  {
   "cell_type": "code",
   "execution_count": 33,
   "metadata": {
    "ExecuteTime": {
     "end_time": "2020-07-25T00:20:15.735476Z",
     "start_time": "2020-07-25T00:20:15.699728Z"
    }
   },
   "outputs": [],
   "source": [
    "not_top10 = np.isin(delitos,top10,invert=True)\n",
    "not_top10_list = delitos[not_top10]"
   ]
  },
  {
   "cell_type": "code",
   "execution_count": 34,
   "metadata": {
    "ExecuteTime": {
     "end_time": "2020-07-25T00:20:19.118749Z",
     "start_time": "2020-07-25T00:20:18.015409Z"
    }
   },
   "outputs": [
    {
     "name": "stdout",
     "output_type": "stream",
     "text": [
      "313\n"
     ]
    },
    {
     "name": "stderr",
     "output_type": "stream",
     "text": [
      "[nltk_data] Downloading package stopwords to /home/jovyan/nltk_data...\n",
      "[nltk_data]   Package stopwords is already up-to-date!\n"
     ]
    }
   ],
   "source": [
    "import nltk\n",
    "nltk.download('stopwords')\n",
    "noise_words = []\n",
    "stopwords_corpus = nltk.corpus.stopwords\n",
    "es_stop_words = stopwords_corpus.words('spanish')\n",
    "noise_words.extend(es_stop_words)\n",
    "print(len(noise_words))"
   ]
  },
  {
   "cell_type": "code",
   "execution_count": 35,
   "metadata": {
    "ExecuteTime": {
     "end_time": "2020-07-25T00:20:23.431553Z",
     "start_time": "2020-07-25T00:20:19.822661Z"
    }
   },
   "outputs": [
    {
     "data": {
      "image/svg+xml": [
       "<?xml version=\"1.0\" encoding=\"utf-8\" standalone=\"no\"?>\n",
       "<!DOCTYPE svg PUBLIC \"-//W3C//DTD SVG 1.1//EN\"\n",
       "  \"http://www.w3.org/Graphics/SVG/1.1/DTD/svg11.dtd\">\n",
       "<!-- Created with matplotlib (http://matplotlib.org/) -->\n",
       "<svg height=\"207.945938pt\" version=\"1.1\" viewBox=\"0 0 390.612875 207.945938\" width=\"390.612875pt\" xmlns=\"http://www.w3.org/2000/svg\" xmlns:xlink=\"http://www.w3.org/1999/xlink\">\n",
       " <defs>\n",
       "  <style type=\"text/css\">\n",
       "*{stroke-linecap:butt;stroke-linejoin:round;}\n",
       "  </style>\n",
       " </defs>\n",
       " <g id=\"figure_1\">\n",
       "  <g id=\"patch_1\">\n",
       "   <path d=\"M 0 207.945938 \n",
       "L 390.612875 207.945938 \n",
       "L 390.612875 0 \n",
       "L 0 0 \n",
       "z\n",
       "\" style=\"fill:#ffffff;\"/>\n",
       "  </g>\n",
       "  <g id=\"axes_1\">\n",
       "   <g clip-path=\"url(#p8f03d18628)\">\n",
       "    <image height=\"168\" id=\"image744956e94b\" transform=\"scale(1 -1)translate(0 -168)\" width=\"335\" x=\"37.69625\" xlink:href=\"data:image/png;base64,\n",
       "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\" y=\"-12.6\"/>\n",
       "   </g>\n",
       "  </g>\n",
       " </g>\n",
       " <defs>\n",
       "  <clipPath id=\"p8f03d18628\">\n",
       "   <rect height=\"167.4\" width=\"334.8\" x=\"37.69625\" y=\"13.2\"/>\n",
       "  </clipPath>\n",
       " </defs>\n",
       "</svg>\n"
      ],
      "text/plain": [
       "<Figure size 432x288 with 1 Axes>"
      ]
     },
     "metadata": {},
     "output_type": "display_data"
    }
   ],
   "source": [
    "word_cloud_text = ''.join(inmate.DELITO)\n",
    "wordcloud = WordCloud(\n",
    "    #max_font_size=40,\n",
    "    max_words=260,\n",
    "    background_color=\"white\",\n",
    "    stopwords=noise_words\n",
    ").generate(word_cloud_text)\n",
    "default_color = 'grey'\n",
    "plt.figure()\n",
    "plt.imshow(wordcloud, interpolation=\"bilinear\")\n",
    "plt.axis(\"off\")\n",
    "plt.show()"
   ]
  },
  {
   "cell_type": "code",
   "execution_count": 36,
   "metadata": {
    "ExecuteTime": {
     "end_time": "2020-07-25T00:20:42.113148Z",
     "start_time": "2020-07-25T00:20:41.507027Z"
    }
   },
   "outputs": [
    {
     "name": "stderr",
     "output_type": "stream",
     "text": [
      "[nltk_data] Downloading package punkt to /home/jovyan/nltk_data...\n",
      "[nltk_data]   Package punkt is already up-to-date!\n"
     ]
    },
    {
     "data": {
      "text/plain": [
       "True"
      ]
     },
     "execution_count": 36,
     "metadata": {},
     "output_type": "execute_result"
    }
   ],
   "source": [
    "import nltk\n",
    "nltk.download('punkt')"
   ]
  },
  {
   "cell_type": "code",
   "execution_count": 39,
   "metadata": {
    "ExecuteTime": {
     "end_time": "2020-07-25T00:21:19.989829Z",
     "start_time": "2020-07-25T00:21:16.391875Z"
    }
   },
   "outputs": [
    {
     "ename": "NameError",
     "evalue": "name 'GroupedColorFunc' is not defined",
     "output_type": "error",
     "traceback": [
      "\u001b[0;31m---------------------------------------------------------------------------\u001b[0m",
      "\u001b[0;31mNameError\u001b[0m                                 Traceback (most recent call last)",
      "\u001b[0;32m<ipython-input-39-f0c14546ba4d>\u001b[0m in \u001b[0;36m<module>\u001b[0;34m\u001b[0m\n\u001b[1;32m      8\u001b[0m \u001b[0mcolor_to_words\u001b[0m \u001b[0;34m=\u001b[0m \u001b[0;34m{\u001b[0m\u001b[0;34m'red'\u001b[0m\u001b[0;34m:\u001b[0m \u001b[0mtop10\u001b[0m\u001b[0;34m}\u001b[0m\u001b[0;34m\u001b[0m\u001b[0;34m\u001b[0m\u001b[0m\n\u001b[1;32m      9\u001b[0m \u001b[0mdefault_color\u001b[0m \u001b[0;34m=\u001b[0m \u001b[0;34m'grey'\u001b[0m\u001b[0;34m\u001b[0m\u001b[0;34m\u001b[0m\u001b[0m\n\u001b[0;32m---> 10\u001b[0;31m \u001b[0mgrouped_color_func\u001b[0m \u001b[0;34m=\u001b[0m \u001b[0mGroupedColorFunc\u001b[0m\u001b[0;34m(\u001b[0m\u001b[0mcolor_to_words\u001b[0m\u001b[0;34m,\u001b[0m \u001b[0mdefault_color\u001b[0m\u001b[0;34m)\u001b[0m\u001b[0;34m\u001b[0m\u001b[0;34m\u001b[0m\u001b[0m\n\u001b[0m\u001b[1;32m     11\u001b[0m \u001b[0;31m# Apply our color function\u001b[0m\u001b[0;34m\u001b[0m\u001b[0;34m\u001b[0m\u001b[0;34m\u001b[0m\u001b[0m\n\u001b[1;32m     12\u001b[0m \u001b[0mwc\u001b[0m\u001b[0;34m.\u001b[0m\u001b[0mrecolor\u001b[0m\u001b[0;34m(\u001b[0m\u001b[0mcolor_func\u001b[0m\u001b[0;34m=\u001b[0m\u001b[0mgrouped_color_func\u001b[0m\u001b[0;34m)\u001b[0m\u001b[0;34m\u001b[0m\u001b[0;34m\u001b[0m\u001b[0m\n",
      "\u001b[0;31mNameError\u001b[0m: name 'GroupedColorFunc' is not defined"
     ]
    }
   ],
   "source": [
    "from wordcloud import (WordCloud, get_single_color_func)\n",
    "word_cloud_text = ''.join(inmate.DELITO)\n",
    "wc = WordCloud(\n",
    "    max_words=260,\n",
    "    background_color=\"white\",\n",
    "    #stopwords=noise_words\n",
    ").generate(word_cloud_text)\n",
    "color_to_words = {'red': top10}\n",
    "default_color = 'grey'\n",
    "grouped_color_func = GroupedColorFunc(color_to_words, default_color)\n",
    "# Apply our color function\n",
    "wc.recolor(color_func=grouped_color_func)\n",
    "plt.figure()\n",
    "plt.imshow(wc, interpolation=\"bilinear\")\n",
    "plt.axis(\"off\")\n",
    "plt.show()"
   ]
  },
  {
   "cell_type": "code",
   "execution_count": 14,
   "metadata": {
    "ExecuteTime": {
     "end_time": "2020-07-24T17:26:53.764556Z",
     "start_time": "2020-07-24T17:26:53.177842Z"
    }
   },
   "outputs": [],
   "source": [
    "import matplotlib\n",
    "#matplotlib.use('SVG') #set the backend to SVG\n",
    "%config InlineBackend.figure_format = 'svg'\n",
    "%matplotlib inline\n",
    "import matplotlib.pyplot as plt"
   ]
  },
  {
   "cell_type": "code",
   "execution_count": 16,
   "metadata": {
    "ExecuteTime": {
     "end_time": "2020-07-24T17:28:05.954266Z",
     "start_time": "2020-07-24T17:28:05.391643Z"
    }
   },
   "outputs": [
    {
     "data": {
      "image/svg+xml": [
       "<?xml version=\"1.0\" encoding=\"utf-8\" standalone=\"no\"?>\n",
       "<!DOCTYPE svg PUBLIC \"-//W3C//DTD SVG 1.1//EN\"\n",
       "  \"http://www.w3.org/Graphics/SVG/1.1/DTD/svg11.dtd\">\n",
       "<!-- Created with matplotlib (http://matplotlib.org/) -->\n",
       "<svg height=\"201.978125pt\" version=\"1.1\" viewBox=\"0 0 385.24975 201.978125\" width=\"385.24975pt\" xmlns=\"http://www.w3.org/2000/svg\" xmlns:xlink=\"http://www.w3.org/1999/xlink\">\n",
       " <defs>\n",
       "  <style type=\"text/css\">\n",
       "*{stroke-linecap:butt;stroke-linejoin:round;}\n",
       "  </style>\n",
       " </defs>\n",
       " <g id=\"figure_1\">\n",
       "  <g id=\"patch_1\">\n",
       "   <path d=\"M 0 201.978125 \n",
       "L 385.24975 201.978125 \n",
       "L 385.24975 0 \n",
       "L 0 0 \n",
       "z\n",
       "\" style=\"fill:none;\"/>\n",
       "  </g>\n",
       "  <g id=\"axes_1\">\n",
       "   <g clip-path=\"url(#p520e842a2f)\">\n",
       "    <image height=\"168\" id=\"imagefde2d57e58\" transform=\"scale(1 -1)translate(0 -168)\" width=\"335\" x=\"33.2875\" xlink:href=\"data:image/png;base64,\n",
       "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\" y=\"-10.1\"/>\n",
       "   </g>\n",
       "  </g>\n",
       " </g>\n",
       " <defs>\n",
       "  <clipPath id=\"p520e842a2f\">\n",
       "   <rect height=\"167.4\" width=\"334.8\" x=\"33.2875\" y=\"10.7\"/>\n",
       "  </clipPath>\n",
       " </defs>\n",
       "</svg>\n"
      ],
      "text/plain": [
       "<Figure size 432x288 with 1 Axes>"
      ]
     },
     "metadata": {
      "needs_background": "light"
     },
     "output_type": "display_data"
    }
   ],
   "source": [
    "fname = \"cloud_test\"\n",
    "plt.imshow(wordcloud, interpolation=\"bilinear\") \n",
    "plt.axis(\"off\")\n",
    "fig = plt.gcf() #get current figure\n",
    "#fig.set_size_inches(10,10)  \n",
    "plt.savefig(fname)"
   ]
  },
  {
   "cell_type": "code",
   "execution_count": null,
   "metadata": {},
   "outputs": [],
   "source": []
  }
 ],
 "metadata": {
  "kernelspec": {
   "display_name": "Python 3",
   "language": "python",
   "name": "python3"
  },
  "language_info": {
   "codemirror_mode": {
    "name": "ipython",
    "version": 3
   },
   "file_extension": ".py",
   "mimetype": "text/x-python",
   "name": "python",
   "nbconvert_exporter": "python",
   "pygments_lexer": "ipython3",
   "version": "3.6.7"
  },
  "toc": {
   "base_numbering": 1,
   "nav_menu": {},
   "number_sections": true,
   "sideBar": true,
   "skip_h1_title": false,
   "title_cell": "Table of Contents",
   "title_sidebar": "Contents",
   "toc_cell": false,
   "toc_position": {},
   "toc_section_display": true,
   "toc_window_display": false
  },
  "varInspector": {
   "cols": {
    "lenName": 16,
    "lenType": 16,
    "lenVar": 40
   },
   "kernels_config": {
    "python": {
     "delete_cmd_postfix": "",
     "delete_cmd_prefix": "del ",
     "library": "var_list.py",
     "varRefreshCmd": "print(var_dic_list())"
    },
    "r": {
     "delete_cmd_postfix": ") ",
     "delete_cmd_prefix": "rm(",
     "library": "var_list.r",
     "varRefreshCmd": "cat(var_dic_list()) "
    }
   },
   "types_to_exclude": [
    "module",
    "function",
    "builtin_function_or_method",
    "instance",
    "_Feature"
   ],
   "window_display": false
  }
 },
 "nbformat": 4,
 "nbformat_minor": 2
}
