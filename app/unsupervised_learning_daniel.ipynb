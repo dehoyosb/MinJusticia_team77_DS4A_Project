{
 "cells": [
  {
   "cell_type": "code",
   "execution_count": 90,
   "metadata": {
    "ExecuteTime": {
     "end_time": "2020-07-04T15:57:48.024521Z",
     "start_time": "2020-07-04T15:57:48.014844Z"
    }
   },
   "outputs": [],
   "source": [
    "import pandas as pd\n",
    "import string\n",
    "import os\n",
    "import itertools\n",
    "import numpy as np\n",
    "from sqlalchemy import create_engine, text\n",
    "\n",
    "from utils import DbEngine, Queries\n",
    "from etl import ETL\n",
    "from encoder import Encoding"
   ]
  },
  {
   "cell_type": "code",
   "execution_count": 74,
   "metadata": {
    "ExecuteTime": {
     "end_time": "2020-07-04T15:51:38.546309Z",
     "start_time": "2020-07-04T15:51:38.533770Z"
    }
   },
   "outputs": [],
   "source": [
    "import numpy as np\n",
    "import sys\n",
    "\n",
    "from sklearn.datasets import make_blobs\n",
    "from sklearn.model_selection import train_test_split\n",
    "from sklearn.cluster import KMeans\n",
    "from sklearn.preprocessing import LabelEncoder\n",
    "from sklearn.metrics import calinski_harabasz_score, fowlkes_mallows_score\n",
    "from sklearn.linear_model import LogisticRegression\n",
    "from sklearn.metrics import roc_curve, auc, precision_recall_curve\n",
    "from sklearn.metrics import accuracy_score, average_precision_score, f1_score\n",
    "from sklearn.metrics import classification_report\n",
    "from sklearn.metrics import confusion_matrix, multilabel_confusion_matrix\n",
    "\n",
    "from scipy.spatial import distance\n",
    "\n",
    "import matplotlib.pyplot as plt\n",
    "import seaborn as sns \n",
    "plt.style.use('seaborn')"
   ]
  },
  {
   "cell_type": "markdown",
   "metadata": {},
   "source": [
    "### Connect to DB"
   ]
  },
  {
   "cell_type": "code",
   "execution_count": 3,
   "metadata": {
    "ExecuteTime": {
     "end_time": "2020-07-04T13:30:51.816926Z",
     "start_time": "2020-07-04T13:30:51.727149Z"
    }
   },
   "outputs": [],
   "source": [
    "db_engine = DbEngine(user = 'team77', \n",
    "                     password = 'mintic2020.',\n",
    "                     ip = '172.17.0.3', \n",
    "                     port = '5432', \n",
    "                     db = 'minjusticia')\n",
    "engine = db_engine.connect()\n",
    "queries = Queries(engine)"
   ]
  },
  {
   "cell_type": "markdown",
   "metadata": {},
   "source": [
    "### Loading original data"
   ]
  },
  {
   "cell_type": "code",
   "execution_count": 3,
   "metadata": {
    "ExecuteTime": {
     "end_time": "2020-07-03T02:03:27.314732Z",
     "start_time": "2020-07-03T02:02:29.731126Z"
    }
   },
   "outputs": [],
   "source": [
    "data = pd.read_excel('../data/ReincidenciaPospenadosNal201011Junio2020Rev.xlsx', skiprows = 6)"
   ]
  },
  {
   "cell_type": "markdown",
   "metadata": {},
   "source": [
    "### Execute ETL"
   ]
  },
  {
   "cell_type": "code",
   "execution_count": 6,
   "metadata": {
    "ExecuteTime": {
     "end_time": "2020-07-03T02:06:09.026144Z",
     "start_time": "2020-07-03T02:04:37.894461Z"
    }
   },
   "outputs": [
    {
     "name": "stderr",
     "output_type": "stream",
     "text": [
      "/home/jovyan/work/MinJusticia_team77_DS4A_Project/app/etl.py:60: SettingWithCopyWarning: \n",
      "A value is trying to be set on a copy of a slice from a DataFrame.\n",
      "Try using .loc[row_indexer,col_indexer] = value instead\n",
      "\n",
      "See the caveats in the documentation: https://pandas.pydata.org/pandas-docs/stable/user_guide/indexing.html#returning-a-view-versus-a-copy\n",
      "  data_reg['CONDIC_EXPECIONAL'] = data_reg['CONDIC_EXPECIONAL'].fillna('NINGUNO')\n",
      "/home/jovyan/work/MinJusticia_team77_DS4A_Project/app/etl.py:63: SettingWithCopyWarning: \n",
      "A value is trying to be set on a copy of a slice from a DataFrame.\n",
      "Try using .loc[row_indexer,col_indexer] = value instead\n",
      "\n",
      "See the caveats in the documentation: https://pandas.pydata.org/pandas-docs/stable/user_guide/indexing.html#returning-a-view-versus-a-copy\n",
      "  data_reg['madre_gestante'] = 'NA'\n",
      "/opt/conda/lib/python3.7/site-packages/pandas/core/indexing.py:966: SettingWithCopyWarning: \n",
      "A value is trying to be set on a copy of a slice from a DataFrame.\n",
      "Try using .loc[row_indexer,col_indexer] = value instead\n",
      "\n",
      "See the caveats in the documentation: https://pandas.pydata.org/pandas-docs/stable/user_guide/indexing.html#returning-a-view-versus-a-copy\n",
      "  self.obj[item] = s\n",
      "/home/jovyan/work/MinJusticia_team77_DS4A_Project/app/etl.py:67: SettingWithCopyWarning: \n",
      "A value is trying to be set on a copy of a slice from a DataFrame.\n",
      "Try using .loc[row_indexer,col_indexer] = value instead\n",
      "\n",
      "See the caveats in the documentation: https://pandas.pydata.org/pandas-docs/stable/user_guide/indexing.html#returning-a-view-versus-a-copy\n",
      "  data_reg['madre_lactante'] = 'NA'\n",
      "/home/jovyan/work/MinJusticia_team77_DS4A_Project/app/etl.py:72: SettingWithCopyWarning: \n",
      "A value is trying to be set on a copy of a slice from a DataFrame.\n",
      "Try using .loc[row_indexer,col_indexer] = value instead\n",
      "\n",
      "See the caveats in the documentation: https://pandas.pydata.org/pandas-docs/stable/user_guide/indexing.html#returning-a-view-versus-a-copy\n",
      "  data_reg['discapacidad'] = 'N'\n",
      "/home/jovyan/work/MinJusticia_team77_DS4A_Project/app/etl.py:76: SettingWithCopyWarning: \n",
      "A value is trying to be set on a copy of a slice from a DataFrame.\n",
      "Try using .loc[row_indexer,col_indexer] = value instead\n",
      "\n",
      "See the caveats in the documentation: https://pandas.pydata.org/pandas-docs/stable/user_guide/indexing.html#returning-a-view-versus-a-copy\n",
      "  data_reg['adulto_mayor'] = 'N'\n"
     ]
    }
   ],
   "source": [
    "etl = ETL(queries)\n",
    "etl.inmate_static_info(data)\n",
    "etl.inmate_variable_info(data)"
   ]
  },
  {
   "cell_type": "markdown",
   "metadata": {},
   "source": [
    "### Encode"
   ]
  },
  {
   "cell_type": "code",
   "execution_count": 4,
   "metadata": {
    "ExecuteTime": {
     "end_time": "2020-07-04T13:31:02.597172Z",
     "start_time": "2020-07-04T13:30:56.668894Z"
    }
   },
   "outputs": [
    {
     "data": {
      "text/html": [
       "<div>\n",
       "<style scoped>\n",
       "    .dataframe tbody tr th:only-of-type {\n",
       "        vertical-align: middle;\n",
       "    }\n",
       "\n",
       "    .dataframe tbody tr th {\n",
       "        vertical-align: top;\n",
       "    }\n",
       "\n",
       "    .dataframe thead th {\n",
       "        text-align: right;\n",
       "    }\n",
       "</style>\n",
       "<table border=\"1\" class=\"dataframe\">\n",
       "  <thead>\n",
       "    <tr style=\"text-align: right;\">\n",
       "      <th></th>\n",
       "      <th>internoen</th>\n",
       "      <th>genero</th>\n",
       "      <th>nacionalidad</th>\n",
       "      <th>reincidente</th>\n",
       "      <th>anio_nacimiento</th>\n",
       "      <th>estado_civil</th>\n",
       "      <th>nivel_educativo</th>\n",
       "      <th>reconocimiento_etnico</th>\n",
       "      <th>diversidad_sexual</th>\n",
       "      <th>extranjero</th>\n",
       "      <th>...</th>\n",
       "      <th>delito_id_delito_172</th>\n",
       "      <th>delito_id_delito_232</th>\n",
       "      <th>delito_id_delito_262</th>\n",
       "      <th>delito_id_delito_other</th>\n",
       "      <th>tentativa_1</th>\n",
       "      <th>tentativa_2</th>\n",
       "      <th>agravado_1</th>\n",
       "      <th>agravado_2</th>\n",
       "      <th>calificado_1</th>\n",
       "      <th>calificado_2</th>\n",
       "    </tr>\n",
       "  </thead>\n",
       "  <tbody>\n",
       "    <tr>\n",
       "      <th>0</th>\n",
       "      <td>FD8EB8482F09C3F5FD085E4CAD29122368A5937B</td>\n",
       "      <td>2</td>\n",
       "      <td>22</td>\n",
       "      <td>2</td>\n",
       "      <td>1985</td>\n",
       "      <td>3</td>\n",
       "      <td>2</td>\n",
       "      <td>5</td>\n",
       "      <td>1</td>\n",
       "      <td>1</td>\n",
       "      <td>...</td>\n",
       "      <td>0</td>\n",
       "      <td>0</td>\n",
       "      <td>0</td>\n",
       "      <td>0</td>\n",
       "      <td>1</td>\n",
       "      <td>0</td>\n",
       "      <td>0</td>\n",
       "      <td>1</td>\n",
       "      <td>0</td>\n",
       "      <td>1</td>\n",
       "    </tr>\n",
       "    <tr>\n",
       "      <th>1</th>\n",
       "      <td>7624E0648E28D778D1EE4581998B00C3ABC061DA</td>\n",
       "      <td>2</td>\n",
       "      <td>22</td>\n",
       "      <td>2</td>\n",
       "      <td>1987</td>\n",
       "      <td>3</td>\n",
       "      <td>4</td>\n",
       "      <td>1</td>\n",
       "      <td>1</td>\n",
       "      <td>1</td>\n",
       "      <td>...</td>\n",
       "      <td>0</td>\n",
       "      <td>0</td>\n",
       "      <td>0</td>\n",
       "      <td>1</td>\n",
       "      <td>1</td>\n",
       "      <td>0</td>\n",
       "      <td>1</td>\n",
       "      <td>0</td>\n",
       "      <td>1</td>\n",
       "      <td>0</td>\n",
       "    </tr>\n",
       "    <tr>\n",
       "      <th>2</th>\n",
       "      <td>2660D0E0F43523200EF105604266F18D6CA396E5</td>\n",
       "      <td>2</td>\n",
       "      <td>22</td>\n",
       "      <td>2</td>\n",
       "      <td>1973</td>\n",
       "      <td>3</td>\n",
       "      <td>3</td>\n",
       "      <td>5</td>\n",
       "      <td>1</td>\n",
       "      <td>1</td>\n",
       "      <td>...</td>\n",
       "      <td>0</td>\n",
       "      <td>1</td>\n",
       "      <td>0</td>\n",
       "      <td>0</td>\n",
       "      <td>1</td>\n",
       "      <td>0</td>\n",
       "      <td>1</td>\n",
       "      <td>0</td>\n",
       "      <td>1</td>\n",
       "      <td>0</td>\n",
       "    </tr>\n",
       "    <tr>\n",
       "      <th>3</th>\n",
       "      <td>00CD632E133B134F4CD3659080F8E5E7C1C7330A</td>\n",
       "      <td>2</td>\n",
       "      <td>22</td>\n",
       "      <td>2</td>\n",
       "      <td>1970</td>\n",
       "      <td>3</td>\n",
       "      <td>3</td>\n",
       "      <td>5</td>\n",
       "      <td>1</td>\n",
       "      <td>1</td>\n",
       "      <td>...</td>\n",
       "      <td>0</td>\n",
       "      <td>0</td>\n",
       "      <td>1</td>\n",
       "      <td>0</td>\n",
       "      <td>1</td>\n",
       "      <td>0</td>\n",
       "      <td>1</td>\n",
       "      <td>0</td>\n",
       "      <td>1</td>\n",
       "      <td>0</td>\n",
       "    </tr>\n",
       "    <tr>\n",
       "      <th>4</th>\n",
       "      <td>7790E7531D616FDA7825C9CBB5502DD82DF35EB5</td>\n",
       "      <td>2</td>\n",
       "      <td>22</td>\n",
       "      <td>2</td>\n",
       "      <td>1988</td>\n",
       "      <td>1</td>\n",
       "      <td>5</td>\n",
       "      <td>5</td>\n",
       "      <td>1</td>\n",
       "      <td>1</td>\n",
       "      <td>...</td>\n",
       "      <td>0</td>\n",
       "      <td>0</td>\n",
       "      <td>0</td>\n",
       "      <td>0</td>\n",
       "      <td>1</td>\n",
       "      <td>0</td>\n",
       "      <td>0</td>\n",
       "      <td>1</td>\n",
       "      <td>0</td>\n",
       "      <td>1</td>\n",
       "    </tr>\n",
       "    <tr>\n",
       "      <th>...</th>\n",
       "      <td>...</td>\n",
       "      <td>...</td>\n",
       "      <td>...</td>\n",
       "      <td>...</td>\n",
       "      <td>...</td>\n",
       "      <td>...</td>\n",
       "      <td>...</td>\n",
       "      <td>...</td>\n",
       "      <td>...</td>\n",
       "      <td>...</td>\n",
       "      <td>...</td>\n",
       "      <td>...</td>\n",
       "      <td>...</td>\n",
       "      <td>...</td>\n",
       "      <td>...</td>\n",
       "      <td>...</td>\n",
       "      <td>...</td>\n",
       "      <td>...</td>\n",
       "      <td>...</td>\n",
       "      <td>...</td>\n",
       "      <td>...</td>\n",
       "    </tr>\n",
       "    <tr>\n",
       "      <th>103285</th>\n",
       "      <td>C476DC9C78CBC61BC5A3D27699595E916D90E3E2</td>\n",
       "      <td>2</td>\n",
       "      <td>22</td>\n",
       "      <td>2</td>\n",
       "      <td>1985</td>\n",
       "      <td>6</td>\n",
       "      <td>2</td>\n",
       "      <td>5</td>\n",
       "      <td>1</td>\n",
       "      <td>1</td>\n",
       "      <td>...</td>\n",
       "      <td>0</td>\n",
       "      <td>1</td>\n",
       "      <td>0</td>\n",
       "      <td>0</td>\n",
       "      <td>1</td>\n",
       "      <td>0</td>\n",
       "      <td>1</td>\n",
       "      <td>0</td>\n",
       "      <td>1</td>\n",
       "      <td>0</td>\n",
       "    </tr>\n",
       "    <tr>\n",
       "      <th>103286</th>\n",
       "      <td>AEB9E4C6773CBBE7C8424A52AB686E9F14101E73</td>\n",
       "      <td>2</td>\n",
       "      <td>22</td>\n",
       "      <td>2</td>\n",
       "      <td>1985</td>\n",
       "      <td>7</td>\n",
       "      <td>10</td>\n",
       "      <td>5</td>\n",
       "      <td>1</td>\n",
       "      <td>1</td>\n",
       "      <td>...</td>\n",
       "      <td>0</td>\n",
       "      <td>0</td>\n",
       "      <td>0</td>\n",
       "      <td>1</td>\n",
       "      <td>1</td>\n",
       "      <td>0</td>\n",
       "      <td>1</td>\n",
       "      <td>0</td>\n",
       "      <td>1</td>\n",
       "      <td>0</td>\n",
       "    </tr>\n",
       "    <tr>\n",
       "      <th>103287</th>\n",
       "      <td>92FBC965E9DE8CE7CD6AF95F4C460AF9A788CF59</td>\n",
       "      <td>2</td>\n",
       "      <td>22</td>\n",
       "      <td>2</td>\n",
       "      <td>1999</td>\n",
       "      <td>6</td>\n",
       "      <td>4</td>\n",
       "      <td>5</td>\n",
       "      <td>1</td>\n",
       "      <td>1</td>\n",
       "      <td>...</td>\n",
       "      <td>0</td>\n",
       "      <td>0</td>\n",
       "      <td>0</td>\n",
       "      <td>0</td>\n",
       "      <td>1</td>\n",
       "      <td>0</td>\n",
       "      <td>0</td>\n",
       "      <td>1</td>\n",
       "      <td>0</td>\n",
       "      <td>1</td>\n",
       "    </tr>\n",
       "    <tr>\n",
       "      <th>103288</th>\n",
       "      <td>BE6DD3C2939188AAFE3CD16E971D7F6C2BCEBC73</td>\n",
       "      <td>2</td>\n",
       "      <td>22</td>\n",
       "      <td>2</td>\n",
       "      <td>1978</td>\n",
       "      <td>7</td>\n",
       "      <td>2</td>\n",
       "      <td>5</td>\n",
       "      <td>1</td>\n",
       "      <td>1</td>\n",
       "      <td>...</td>\n",
       "      <td>0</td>\n",
       "      <td>0</td>\n",
       "      <td>0</td>\n",
       "      <td>0</td>\n",
       "      <td>2</td>\n",
       "      <td>0</td>\n",
       "      <td>1</td>\n",
       "      <td>1</td>\n",
       "      <td>1</td>\n",
       "      <td>1</td>\n",
       "    </tr>\n",
       "    <tr>\n",
       "      <th>103289</th>\n",
       "      <td>1A4F3BABA5D10E8E62C3381AB18C5082B66D6BAD</td>\n",
       "      <td>2</td>\n",
       "      <td>22</td>\n",
       "      <td>2</td>\n",
       "      <td>1980</td>\n",
       "      <td>6</td>\n",
       "      <td>3</td>\n",
       "      <td>5</td>\n",
       "      <td>1</td>\n",
       "      <td>1</td>\n",
       "      <td>...</td>\n",
       "      <td>0</td>\n",
       "      <td>0</td>\n",
       "      <td>0</td>\n",
       "      <td>0</td>\n",
       "      <td>1</td>\n",
       "      <td>0</td>\n",
       "      <td>1</td>\n",
       "      <td>0</td>\n",
       "      <td>1</td>\n",
       "      <td>0</td>\n",
       "    </tr>\n",
       "  </tbody>\n",
       "</table>\n",
       "<p>103290 rows × 44 columns</p>\n",
       "</div>"
      ],
      "text/plain": [
       "                                       internoen  genero  nacionalidad  \\\n",
       "0       FD8EB8482F09C3F5FD085E4CAD29122368A5937B       2            22   \n",
       "1       7624E0648E28D778D1EE4581998B00C3ABC061DA       2            22   \n",
       "2       2660D0E0F43523200EF105604266F18D6CA396E5       2            22   \n",
       "3       00CD632E133B134F4CD3659080F8E5E7C1C7330A       2            22   \n",
       "4       7790E7531D616FDA7825C9CBB5502DD82DF35EB5       2            22   \n",
       "...                                          ...     ...           ...   \n",
       "103285  C476DC9C78CBC61BC5A3D27699595E916D90E3E2       2            22   \n",
       "103286  AEB9E4C6773CBBE7C8424A52AB686E9F14101E73       2            22   \n",
       "103287  92FBC965E9DE8CE7CD6AF95F4C460AF9A788CF59       2            22   \n",
       "103288  BE6DD3C2939188AAFE3CD16E971D7F6C2BCEBC73       2            22   \n",
       "103289  1A4F3BABA5D10E8E62C3381AB18C5082B66D6BAD       2            22   \n",
       "\n",
       "        reincidente  anio_nacimiento  estado_civil  nivel_educativo  \\\n",
       "0                 2             1985             3                2   \n",
       "1                 2             1987             3                4   \n",
       "2                 2             1973             3                3   \n",
       "3                 2             1970             3                3   \n",
       "4                 2             1988             1                5   \n",
       "...             ...              ...           ...              ...   \n",
       "103285            2             1985             6                2   \n",
       "103286            2             1985             7               10   \n",
       "103287            2             1999             6                4   \n",
       "103288            2             1978             7                2   \n",
       "103289            2             1980             6                3   \n",
       "\n",
       "        reconocimiento_etnico  diversidad_sexual  extranjero  ...  \\\n",
       "0                           5                  1           1  ...   \n",
       "1                           1                  1           1  ...   \n",
       "2                           5                  1           1  ...   \n",
       "3                           5                  1           1  ...   \n",
       "4                           5                  1           1  ...   \n",
       "...                       ...                ...         ...  ...   \n",
       "103285                      5                  1           1  ...   \n",
       "103286                      5                  1           1  ...   \n",
       "103287                      5                  1           1  ...   \n",
       "103288                      5                  1           1  ...   \n",
       "103289                      5                  1           1  ...   \n",
       "\n",
       "        delito_id_delito_172 delito_id_delito_232  delito_id_delito_262  \\\n",
       "0                          0                    0                     0   \n",
       "1                          0                    0                     0   \n",
       "2                          0                    1                     0   \n",
       "3                          0                    0                     1   \n",
       "4                          0                    0                     0   \n",
       "...                      ...                  ...                   ...   \n",
       "103285                     0                    1                     0   \n",
       "103286                     0                    0                     0   \n",
       "103287                     0                    0                     0   \n",
       "103288                     0                    0                     0   \n",
       "103289                     0                    0                     0   \n",
       "\n",
       "       delito_id_delito_other  tentativa_1  tentativa_2  agravado_1  \\\n",
       "0                           0            1            0           0   \n",
       "1                           1            1            0           1   \n",
       "2                           0            1            0           1   \n",
       "3                           0            1            0           1   \n",
       "4                           0            1            0           0   \n",
       "...                       ...          ...          ...         ...   \n",
       "103285                      0            1            0           1   \n",
       "103286                      1            1            0           1   \n",
       "103287                      0            1            0           0   \n",
       "103288                      0            2            0           1   \n",
       "103289                      0            1            0           1   \n",
       "\n",
       "        agravado_2  calificado_1  calificado_2  \n",
       "0                1             0             1  \n",
       "1                0             1             0  \n",
       "2                0             1             0  \n",
       "3                0             1             0  \n",
       "4                1             0             1  \n",
       "...            ...           ...           ...  \n",
       "103285           0             1             0  \n",
       "103286           0             1             0  \n",
       "103287           1             0             1  \n",
       "103288           1             1             1  \n",
       "103289           0             1             0  \n",
       "\n",
       "[103290 rows x 44 columns]"
      ]
     },
     "execution_count": 4,
     "metadata": {},
     "output_type": "execute_result"
    }
   ],
   "source": [
    "encoding = Encoding(queries)\n",
    "data_2_encode = encoding.get_data()\n",
    "data_encoded = encoding.one_hot(data_2_encode)\n",
    "data_encoded"
   ]
  },
  {
   "cell_type": "markdown",
   "metadata": {},
   "source": [
    "### Unsupervised Learning with Kmeans"
   ]
  },
  {
   "cell_type": "markdown",
   "metadata": {},
   "source": [
    "#### Fixing dataset lasts issues"
   ]
  },
  {
   "cell_type": "markdown",
   "metadata": {},
   "source": [
    "Evaluando cantidad de columnas vacias aún"
   ]
  },
  {
   "cell_type": "code",
   "execution_count": 5,
   "metadata": {
    "ExecuteTime": {
     "end_time": "2020-07-04T13:31:05.821168Z",
     "start_time": "2020-07-04T13:31:05.723601Z"
    },
    "scrolled": true
   },
   "outputs": [
    {
     "data": {
      "text/html": [
       "<div>\n",
       "<style scoped>\n",
       "    .dataframe tbody tr th:only-of-type {\n",
       "        vertical-align: middle;\n",
       "    }\n",
       "\n",
       "    .dataframe tbody tr th {\n",
       "        vertical-align: top;\n",
       "    }\n",
       "\n",
       "    .dataframe thead th {\n",
       "        text-align: right;\n",
       "    }\n",
       "</style>\n",
       "<table border=\"1\" class=\"dataframe\">\n",
       "  <thead>\n",
       "    <tr style=\"text-align: right;\">\n",
       "      <th></th>\n",
       "      <th>counts</th>\n",
       "    </tr>\n",
       "  </thead>\n",
       "  <tbody>\n",
       "    <tr>\n",
       "      <th>fecha_salida</th>\n",
       "      <td>30304</td>\n",
       "    </tr>\n",
       "    <tr>\n",
       "      <th>internoen</th>\n",
       "      <td>0</td>\n",
       "    </tr>\n",
       "    <tr>\n",
       "      <th>madre_gestante</th>\n",
       "      <td>0</td>\n",
       "    </tr>\n",
       "    <tr>\n",
       "      <th>discapacidad</th>\n",
       "      <td>0</td>\n",
       "    </tr>\n",
       "    <tr>\n",
       "      <th>adulto_mayor</th>\n",
       "      <td>0</td>\n",
       "    </tr>\n",
       "    <tr>\n",
       "      <th>delito_id_delito_42</th>\n",
       "      <td>0</td>\n",
       "    </tr>\n",
       "    <tr>\n",
       "      <th>delito_id_delito_102</th>\n",
       "      <td>0</td>\n",
       "    </tr>\n",
       "    <tr>\n",
       "      <th>delito_id_delito_103</th>\n",
       "      <td>0</td>\n",
       "    </tr>\n",
       "    <tr>\n",
       "      <th>delito_id_delito_105</th>\n",
       "      <td>0</td>\n",
       "    </tr>\n",
       "    <tr>\n",
       "      <th>delito_id_delito_109</th>\n",
       "      <td>0</td>\n",
       "    </tr>\n",
       "    <tr>\n",
       "      <th>delito_id_delito_141</th>\n",
       "      <td>0</td>\n",
       "    </tr>\n",
       "    <tr>\n",
       "      <th>delito_id_delito_145</th>\n",
       "      <td>0</td>\n",
       "    </tr>\n",
       "    <tr>\n",
       "      <th>delito_id_delito_172</th>\n",
       "      <td>0</td>\n",
       "    </tr>\n",
       "    <tr>\n",
       "      <th>delito_id_delito_232</th>\n",
       "      <td>0</td>\n",
       "    </tr>\n",
       "    <tr>\n",
       "      <th>delito_id_delito_262</th>\n",
       "      <td>0</td>\n",
       "    </tr>\n",
       "    <tr>\n",
       "      <th>delito_id_delito_other</th>\n",
       "      <td>0</td>\n",
       "    </tr>\n",
       "    <tr>\n",
       "      <th>tentativa_1</th>\n",
       "      <td>0</td>\n",
       "    </tr>\n",
       "    <tr>\n",
       "      <th>tentativa_2</th>\n",
       "      <td>0</td>\n",
       "    </tr>\n",
       "    <tr>\n",
       "      <th>agravado_1</th>\n",
       "      <td>0</td>\n",
       "    </tr>\n",
       "    <tr>\n",
       "      <th>agravado_2</th>\n",
       "      <td>0</td>\n",
       "    </tr>\n",
       "    <tr>\n",
       "      <th>calificado_1</th>\n",
       "      <td>0</td>\n",
       "    </tr>\n",
       "    <tr>\n",
       "      <th>madre_lactante</th>\n",
       "      <td>0</td>\n",
       "    </tr>\n",
       "    <tr>\n",
       "      <th>situacion_juridica</th>\n",
       "      <td>0</td>\n",
       "    </tr>\n",
       "    <tr>\n",
       "      <th>genero</th>\n",
       "      <td>0</td>\n",
       "    </tr>\n",
       "    <tr>\n",
       "      <th>estado_ingreso</th>\n",
       "      <td>0</td>\n",
       "    </tr>\n",
       "    <tr>\n",
       "      <th>nacionalidad</th>\n",
       "      <td>0</td>\n",
       "    </tr>\n",
       "    <tr>\n",
       "      <th>reincidente</th>\n",
       "      <td>0</td>\n",
       "    </tr>\n",
       "    <tr>\n",
       "      <th>anio_nacimiento</th>\n",
       "      <td>0</td>\n",
       "    </tr>\n",
       "    <tr>\n",
       "      <th>estado_civil</th>\n",
       "      <td>0</td>\n",
       "    </tr>\n",
       "    <tr>\n",
       "      <th>nivel_educativo</th>\n",
       "      <td>0</td>\n",
       "    </tr>\n",
       "    <tr>\n",
       "      <th>reconocimiento_etnico</th>\n",
       "      <td>0</td>\n",
       "    </tr>\n",
       "    <tr>\n",
       "      <th>diversidad_sexual</th>\n",
       "      <td>0</td>\n",
       "    </tr>\n",
       "    <tr>\n",
       "      <th>extranjero</th>\n",
       "      <td>0</td>\n",
       "    </tr>\n",
       "    <tr>\n",
       "      <th>fecha_ingreso</th>\n",
       "      <td>0</td>\n",
       "    </tr>\n",
       "    <tr>\n",
       "      <th>estado_id_estado</th>\n",
       "      <td>0</td>\n",
       "    </tr>\n",
       "    <tr>\n",
       "      <th>establecimiento</th>\n",
       "      <td>0</td>\n",
       "    </tr>\n",
       "    <tr>\n",
       "      <th>edad</th>\n",
       "      <td>0</td>\n",
       "    </tr>\n",
       "    <tr>\n",
       "      <th>municipio_id_municipio</th>\n",
       "      <td>0</td>\n",
       "    </tr>\n",
       "    <tr>\n",
       "      <th>actividades_estudio</th>\n",
       "      <td>0</td>\n",
       "    </tr>\n",
       "    <tr>\n",
       "      <th>actividades_trabajo</th>\n",
       "      <td>0</td>\n",
       "    </tr>\n",
       "    <tr>\n",
       "      <th>actividades_enseñanza</th>\n",
       "      <td>0</td>\n",
       "    </tr>\n",
       "    <tr>\n",
       "      <th>hijos_menores</th>\n",
       "      <td>0</td>\n",
       "    </tr>\n",
       "    <tr>\n",
       "      <th>condicion_excepcional</th>\n",
       "      <td>0</td>\n",
       "    </tr>\n",
       "    <tr>\n",
       "      <th>calificado_2</th>\n",
       "      <td>0</td>\n",
       "    </tr>\n",
       "  </tbody>\n",
       "</table>\n",
       "</div>"
      ],
      "text/plain": [
       "                        counts\n",
       "fecha_salida             30304\n",
       "internoen                    0\n",
       "madre_gestante               0\n",
       "discapacidad                 0\n",
       "adulto_mayor                 0\n",
       "delito_id_delito_42          0\n",
       "delito_id_delito_102         0\n",
       "delito_id_delito_103         0\n",
       "delito_id_delito_105         0\n",
       "delito_id_delito_109         0\n",
       "delito_id_delito_141         0\n",
       "delito_id_delito_145         0\n",
       "delito_id_delito_172         0\n",
       "delito_id_delito_232         0\n",
       "delito_id_delito_262         0\n",
       "delito_id_delito_other       0\n",
       "tentativa_1                  0\n",
       "tentativa_2                  0\n",
       "agravado_1                   0\n",
       "agravado_2                   0\n",
       "calificado_1                 0\n",
       "madre_lactante               0\n",
       "situacion_juridica           0\n",
       "genero                       0\n",
       "estado_ingreso               0\n",
       "nacionalidad                 0\n",
       "reincidente                  0\n",
       "anio_nacimiento              0\n",
       "estado_civil                 0\n",
       "nivel_educativo              0\n",
       "reconocimiento_etnico        0\n",
       "diversidad_sexual            0\n",
       "extranjero                   0\n",
       "fecha_ingreso                0\n",
       "estado_id_estado             0\n",
       "establecimiento              0\n",
       "edad                         0\n",
       "municipio_id_municipio       0\n",
       "actividades_estudio          0\n",
       "actividades_trabajo          0\n",
       "actividades_enseñanza        0\n",
       "hijos_menores                0\n",
       "condicion_excepcional        0\n",
       "calificado_2                 0"
      ]
     },
     "execution_count": 5,
     "metadata": {},
     "output_type": "execute_result"
    }
   ],
   "source": [
    "data_encoded.isnull().sum().to_frame().rename(columns={0:'counts'}).sort_values(by='counts', ascending = False)"
   ]
  },
  {
   "cell_type": "markdown",
   "metadata": {},
   "source": [
    "Evaluando qué columnas colo tienen un valor, pues de deben eliminar para el modelin"
   ]
  },
  {
   "cell_type": "code",
   "execution_count": 6,
   "metadata": {
    "ExecuteTime": {
     "end_time": "2020-07-04T13:31:08.460071Z",
     "start_time": "2020-07-04T13:31:07.929650Z"
    },
    "scrolled": true
   },
   "outputs": [
    {
     "data": {
      "text/plain": [
       "situacion_juridica            1\n",
       "reincidente                   1\n",
       "municipio_id_municipio        1\n",
       "estado_id_estado              2\n",
       "hijos_menores                 2\n",
       "actividades_enseñanza         2\n",
       "actividades_trabajo           2\n",
       "actividades_estudio           2\n",
       "discapacidad                  2\n",
       "adulto_mayor                  2\n",
       "diversidad_sexual             2\n",
       "genero                        2\n",
       "extranjero                    2\n",
       "madre_lactante                3\n",
       "delito_id_delito_109          3\n",
       "delito_id_delito_103          3\n",
       "madre_gestante                3\n",
       "delito_id_delito_172          3\n",
       "delito_id_delito_262          4\n",
       "delito_id_delito_42           4\n",
       "delito_id_delito_102          4\n",
       "delito_id_delito_105          5\n",
       "reconocimiento_etnico         5\n",
       "delito_id_delito_141          5\n",
       "delito_id_delito_232          6\n",
       "estado_ingreso                6\n",
       "tentativa_2                   7\n",
       "calificado_2                  7\n",
       "delito_id_delito_145          8\n",
       "estado_civil                  8\n",
       "agravado_2                    8\n",
       "delito_id_delito_other       11\n",
       "nivel_educativo              12\n",
       "agravado_1                   13\n",
       "tentativa_1                  14\n",
       "calificado_1                 16\n",
       "nacionalidad                 25\n",
       "condicion_excepcional        53\n",
       "edad                         76\n",
       "anio_nacimiento              76\n",
       "establecimiento             160\n",
       "fecha_salida               3648\n",
       "fecha_ingreso              3785\n",
       "internoen                 78841\n",
       "dtype: int64"
      ]
     },
     "execution_count": 6,
     "metadata": {},
     "output_type": "execute_result"
    }
   ],
   "source": [
    "data_encoded.nunique().sort_values()"
   ]
  },
  {
   "cell_type": "code",
   "execution_count": 7,
   "metadata": {
    "ExecuteTime": {
     "end_time": "2020-07-04T13:31:08.471474Z",
     "start_time": "2020-07-04T13:31:08.461957Z"
    }
   },
   "outputs": [
    {
     "data": {
      "text/plain": [
       "array([0, 1, 2], dtype=uint8)"
      ]
     },
     "execution_count": 7,
     "metadata": {},
     "output_type": "execute_result"
    }
   ],
   "source": [
    "data_encoded['delito_id_delito_172'].unique()"
   ]
  },
  {
   "cell_type": "markdown",
   "metadata": {},
   "source": [
    "Eliminando columnas de fechas por ahora, id de inmate y columnas con menos de 2 variables únicas"
   ]
  },
  {
   "cell_type": "code",
   "execution_count": 8,
   "metadata": {
    "ExecuteTime": {
     "end_time": "2020-07-04T13:31:11.613430Z",
     "start_time": "2020-07-04T13:31:11.601013Z"
    }
   },
   "outputs": [],
   "source": [
    "data = data_encoded.drop(columns = ['internoen',\n",
    "                                    'fecha_ingreso',\n",
    "                                    'fecha_salida',\n",
    "                                    'situacion_juridica',\n",
    "                                    'reincidente',\n",
    "                                    'municipio_id_municipio'])"
   ]
  },
  {
   "cell_type": "markdown",
   "metadata": {},
   "source": [
    "Creando función para llevar a cabo un encoding nuevo, dado que aún hay variables no numéricas en los datos"
   ]
  },
  {
   "cell_type": "code",
   "execution_count": 9,
   "metadata": {
    "ExecuteTime": {
     "end_time": "2020-07-04T13:31:12.298264Z",
     "start_time": "2020-07-04T13:31:12.288854Z"
    },
    "code_folding": []
   },
   "outputs": [],
   "source": [
    "def encode_transform(data):\n",
    "    encoders = []\n",
    "    encoded_cols = []\n",
    "    for i in range(data.values.shape[1]):\n",
    "        le = LabelEncoder()\n",
    "        le.fit(data.values[:,i])\n",
    "        encoders.append(le)\n",
    "        encoded_cols.append(le.transform(data.values[:,i]).reshape(-1,1))\n",
    "    return np.concatenate(encoded_cols, axis = 1), encoders"
   ]
  },
  {
   "cell_type": "code",
   "execution_count": 10,
   "metadata": {
    "ExecuteTime": {
     "end_time": "2020-07-04T13:31:19.930327Z",
     "start_time": "2020-07-04T13:31:12.558113Z"
    },
    "scrolled": true
   },
   "outputs": [
    {
     "data": {
      "text/plain": [
       "array([[ 1, 21, 59, ...,  1,  0,  1],\n",
       "       [ 1, 21, 61, ...,  0,  1,  0],\n",
       "       [ 1, 21, 47, ...,  0,  1,  0],\n",
       "       ...,\n",
       "       [ 1, 21, 73, ...,  1,  0,  1],\n",
       "       [ 1, 21, 52, ...,  1,  1,  1],\n",
       "       [ 1, 21, 54, ...,  0,  1,  0]])"
      ]
     },
     "execution_count": 10,
     "metadata": {},
     "output_type": "execute_result"
    }
   ],
   "source": [
    "data_enc, encoders = encode_transform(data)\n",
    "data_enc"
   ]
  },
  {
   "cell_type": "markdown",
   "metadata": {},
   "source": [
    "#### Elbow Plot (Within sum of squares distance)"
   ]
  },
  {
   "cell_type": "code",
   "execution_count": 22,
   "metadata": {
    "ExecuteTime": {
     "end_time": "2020-07-04T15:06:33.555357Z",
     "start_time": "2020-07-04T15:04:15.309128Z"
    }
   },
   "outputs": [
    {
     "data": {
      "image/png": "[encoded data removed]",
      "text/plain": [
       "<Figure size 576x396 with 1 Axes>"
      ]
     },
     "metadata": {},
     "output_type": "display_data"
    }
   ],
   "source": [
    "# setting the range of k\n",
    "clusters = range(1, 20)\n",
    "\n",
    "# running the clustering \n",
    "wss_list = []\n",
    "\n",
    "for k in clusters:\n",
    "    model = KMeans(n_clusters=k, random_state=42)\n",
    "    model.fit(data_enc)\n",
    "    wss_list.append(model.inertia_)\n",
    "\n",
    "# plotting\n",
    "_, ax = plt.subplots()\n",
    "ax.plot(clusters, wss_list, '-o', color='black')\n",
    "ax.set(title='Elbow plot', \n",
    "       xlabel='number of clusters', \n",
    "       ylabel='WSS');"
   ]
  },
  {
   "cell_type": "markdown",
   "metadata": {},
   "source": [
    "#### Prediction Strength"
   ]
  },
  {
   "cell_type": "markdown",
   "metadata": {},
   "source": [
    "##### Data split"
   ]
  },
  {
   "cell_type": "code",
   "execution_count": 108,
   "metadata": {
    "ExecuteTime": {
     "end_time": "2020-07-04T17:09:25.379535Z",
     "start_time": "2020-07-04T17:09:25.350684Z"
    }
   },
   "outputs": [],
   "source": [
    "# train/test split\n",
    "X_train, X_test = train_test_split(data_enc, \n",
    "                                   test_size=0.1, \n",
    "                                   shuffle=True, \n",
    "                                   random_state=42)"
   ]
  },
  {
   "cell_type": "markdown",
   "metadata": {},
   "source": [
    "##### Get closest centroid unoptimized"
   ]
  },
  {
   "cell_type": "code",
   "execution_count": 12,
   "metadata": {
    "ExecuteTime": {
     "end_time": "2020-07-04T13:31:25.910651Z",
     "start_time": "2020-07-04T13:31:25.902539Z"
    }
   },
   "outputs": [],
   "source": [
    "def get_closest_centroid(obs, centroids):\n",
    "    '''\n",
    "    Function for retrieving the closest centroid to the given observation \n",
    "    in terms of the Euclidean distance.\n",
    "    \n",
    "    Parameters\n",
    "    ----------\n",
    "    obs : array\n",
    "        An array containing the observation to be matched to the nearest centroid\n",
    "    centroids : array\n",
    "        An array containing the centroids\n",
    "    \n",
    "    Returns\n",
    "    -------\n",
    "    min_centroid : array\n",
    "        The centroid closes to the obs \n",
    "    '''\n",
    "    min_distance = sys.float_info.max\n",
    "    min_centroid = 0\n",
    "    \n",
    "    for c in centroids:\n",
    "        dist = distance.euclidean(obs, c)\n",
    "        if dist < min_distance:\n",
    "            min_distance = dist\n",
    "            min_centroid = c\n",
    "            \n",
    "    return min_centroid"
   ]
  },
  {
   "cell_type": "markdown",
   "metadata": {},
   "source": [
    "##### Get closest centroid iptimized v1"
   ]
  },
  {
   "cell_type": "code",
   "execution_count": 13,
   "metadata": {
    "ExecuteTime": {
     "end_time": "2020-07-04T13:31:28.803522Z",
     "start_time": "2020-07-04T13:31:28.795537Z"
    }
   },
   "outputs": [],
   "source": [
    "def get_closest_centroid_optim(obs, centroids):\n",
    "    '''\n",
    "    Function for retrieving the closest centroid to the given observation \n",
    "    in terms of the Euclidean distance.\n",
    "    \n",
    "    Parameters\n",
    "    ----------\n",
    "    obs : array\n",
    "        An array containing the observation to be matched to the nearest centroid\n",
    "    centroids : array\n",
    "        An array containing the centroids\n",
    "    \n",
    "    Returns\n",
    "    -------\n",
    "    min_centroid : array\n",
    "        The centroid closes to the obs \n",
    "    '''\n",
    "    \n",
    "    distance = np.sqrt((np.square(centroids[:,np.newaxis]-obs).sum(axis=2)))\n",
    "    idx_min_distance = np.argmin(distance)\n",
    "    \n",
    "    return centroids[idx_min_distance]"
   ]
  },
  {
   "cell_type": "markdown",
   "metadata": {},
   "source": [
    "##### Get closest centroid optimized v2"
   ]
  },
  {
   "cell_type": "code",
   "execution_count": 14,
   "metadata": {
    "ExecuteTime": {
     "end_time": "2020-07-04T13:31:30.656854Z",
     "start_time": "2020-07-04T13:31:30.650089Z"
    }
   },
   "outputs": [],
   "source": [
    "def get_closest_centroid_optim_vectorized(obs, centroids):\n",
    "    '''\n",
    "    Function for retrieving the closest centroid to the given observation \n",
    "    in terms of the Euclidean distance.\n",
    "    \n",
    "    Parameters\n",
    "    ----------\n",
    "    obs : array\n",
    "        An array containing the observation to be matched to the nearest centroid\n",
    "    centroids : array\n",
    "        An array containing the centroids\n",
    "    \n",
    "    Returns\n",
    "    -------\n",
    "    min_centroid : array\n",
    "        The centroid closes to the obs \n",
    "    '''\n",
    "    \n",
    "    distance = np.sqrt((np.square(centroids[:,np.newaxis]-obs).sum(axis=2)))\n",
    "    idx_min_distance = np.argmin(distance, axis = 0)\n",
    "    \n",
    "    return centroids[idx_min_distance]"
   ]
  },
  {
   "cell_type": "markdown",
   "metadata": {},
   "source": [
    "##### Get prediction strength unoptimized"
   ]
  },
  {
   "cell_type": "code",
   "execution_count": 15,
   "metadata": {
    "ExecuteTime": {
     "end_time": "2020-07-04T13:31:35.385452Z",
     "start_time": "2020-07-04T13:31:35.371163Z"
    }
   },
   "outputs": [],
   "source": [
    "def get_prediction_strength(k, train_centroids, x_test, test_labels):\n",
    "    '''\n",
    "    Function for calculating the prediction strength of clustering\n",
    "    \n",
    "    Parameters\n",
    "    ----------\n",
    "    k : int\n",
    "        The number of clusters\n",
    "    train_centroids : array\n",
    "        Centroids from the clustering on the training set\n",
    "    x_test : array\n",
    "        Test set observations\n",
    "    test_labels : array\n",
    "        Labels predicted for the test set\n",
    "        \n",
    "    Returns\n",
    "    -------\n",
    "    prediction_strength : float\n",
    "        Calculated prediction strength\n",
    "    '''\n",
    "    n_test = len(x_test)\n",
    "    \n",
    "    # populate the co-membership matrix\n",
    "    D = np.zeros(shape=(n_test, n_test))\n",
    "    for x1, l1, c1 in zip(x_test, test_labels, list(range(n_test))):\n",
    "        for x2, l2, c2 in zip(x_test, test_labels, list(range(n_test))):\n",
    "            if tuple(x1) != tuple(x2):\n",
    "                if tuple(get_closest_centroid(x1, train_centroids)) == tuple(get_closest_centroid(x2, train_centroids)):\n",
    "                    D[c1,c2] = 1.0\n",
    "    \n",
    "    # calculate the prediction strengths for each cluster\n",
    "    ss = []\n",
    "    for j in range(k):\n",
    "        s = 0\n",
    "        examples_j = x_test[test_labels == j, :].tolist()\n",
    "        n_examples_j = len(examples_j)\n",
    "        for x1, l1, c1 in zip(x_test, test_labels, list(range(n_test))):\n",
    "            for x2, l2, c2 in zip(x_test, test_labels, list(range(n_test))):\n",
    "                if tuple(x1) != tuple(x2) and l1 == l2 and l1 == j:\n",
    "                    s += D[c1,c2]\n",
    "        ss.append(s / (n_examples_j * (n_examples_j - 1))) \n",
    "\n",
    "    prediction_strength = min(ss)\n",
    "\n",
    "    return prediction_strength"
   ]
  },
  {
   "cell_type": "markdown",
   "metadata": {},
   "source": [
    "##### Get prediction strength optimized"
   ]
  },
  {
   "cell_type": "code",
   "execution_count": 107,
   "metadata": {
    "ExecuteTime": {
     "end_time": "2020-07-04T17:09:19.321529Z",
     "start_time": "2020-07-04T17:09:19.306898Z"
    }
   },
   "outputs": [],
   "source": [
    "def get_prediction_strength_optim(k, train_centroids, x_test, test_labels):\n",
    "    '''\n",
    "    Function for calculating the prediction strength of clustering\n",
    "    \n",
    "    Parameters\n",
    "    ----------\n",
    "    k : int\n",
    "        The number of clusters\n",
    "    train_centroids : array\n",
    "        Centroids from the clustering on the training set\n",
    "    x_test : array\n",
    "        Test set observations\n",
    "    test_labels : array\n",
    "        Labels predicted for the test set\n",
    "        \n",
    "    Returns\n",
    "    -------\n",
    "    prediction_strength : float\n",
    "        Calculated prediction strength\n",
    "    '''\n",
    "    closest_cent = get_closest_centroid_optim_vectorized(x_test, train_centroids)\n",
    "    \n",
    "    co_membership = np.zeros((len(closest_cent), len(closest_cent)))\n",
    "    for i in range(1, len(closest_cent)):\n",
    "        diag = (closest_cent == np.roll(closest_cent, shift = i, axis = 0)).all(1)[i:]\n",
    "        co_membership[range(i,len(closest_cent)),range(len(diag))] = diag\n",
    "    co_membership = co_membership + co_membership.T - np.diag(np.diag(co_membership))\n",
    "    \n",
    "    # calculate the prediction strengths for each cluster\n",
    "    n_test = len(x_test)\n",
    "    ss = []\n",
    "    for j in range(k):\n",
    "        examples_j = x_test[test_labels == j, :].tolist()\n",
    "        n_examples_j = len(examples_j)\n",
    "        test_labels_co_mem = np.zeros((len(test_labels), len(test_labels)))\n",
    "        for i in range(len(test_labels)):\n",
    "            diag = (test_labels == np.roll(test_labels, shift = i)) & (test_labels == j)\n",
    "            diag = diag[i:]\n",
    "            test_labels_co_mem[range(i,len(test_labels)),range(len(diag))] = diag\n",
    "        test_labels_co_mem = test_labels_co_mem + test_labels_co_mem.T - np.diag(np.diag(test_labels_co_mem))\n",
    "        s = (co_membership * test_labels_co_mem).sum()\n",
    "        ss.append(s / (n_examples_j * (n_examples_j - 1))) \n",
    "\n",
    "    prediction_strength = min(ss)\n",
    "\n",
    "    return prediction_strength"
   ]
  },
  {
   "cell_type": "markdown",
   "metadata": {},
   "source": [
    "##### Running Optimized Implementation"
   ]
  },
  {
   "cell_type": "code",
   "execution_count": 109,
   "metadata": {
    "ExecuteTime": {
     "end_time": "2020-07-04T18:01:26.134748Z",
     "start_time": "2020-07-04T17:09:36.267506Z"
    }
   },
   "outputs": [
    {
     "name": "stdout",
     "output_type": "stream",
     "text": [
      "2\n",
      "3\n",
      "4\n",
      "5\n",
      "6\n",
      "7\n",
      "8\n",
      "9\n",
      "10\n",
      "11\n",
      "12\n",
      "13\n",
      "14\n"
     ]
    }
   ],
   "source": [
    "# running the clustering \n",
    "strengths = []\n",
    "clusters = range(2, 15)\n",
    "for k in clusters:\n",
    "    model_train = KMeans(n_clusters=k, random_state=42).fit(X_train)\n",
    "    model_test = KMeans(n_clusters=k, random_state=42).fit(X_test)\n",
    "    \n",
    "    pred_str = get_prediction_strength_optim(k, model_train.cluster_centers_, X_test, model_test.labels_)\n",
    "    strengths.append(pred_str)"
   ]
  },
  {
   "cell_type": "code",
   "execution_count": 431,
   "metadata": {
    "ExecuteTime": {
     "end_time": "2020-07-04T05:18:44.378105Z",
     "start_time": "2020-07-04T05:03:53.386021Z"
    },
    "scrolled": false
   },
   "outputs": [
    {
     "name": "stdout",
     "output_type": "stream",
     "text": [
      "2\n",
      "3\n",
      "4\n",
      "5\n",
      "6\n",
      "7\n",
      "8\n",
      "9\n",
      "10\n",
      "11\n",
      "12\n",
      "13\n",
      "14\n"
     ]
    },
    {
     "data": {
      "image/png": "[encoded data removed]",
      "text/plain": [
       "<Figure size 576x396 with 1 Axes>"
      ]
     },
     "metadata": {},
     "output_type": "display_data"
    }
   ],
   "source": [
    "# plotting\n",
    "### With 5% split for the testing data\n",
    "_, ax = plt.subplots()\n",
    "ax.plot(clusters, strengths, '-o', color='black')\n",
    "ax.axhline(y=0.8, c='red');\n",
    "ax.set(title='Determining the optimal number of clusters', \n",
    "       xlabel='number of clusters', \n",
    "       ylabel='prediction strength');"
   ]
  },
  {
   "cell_type": "code",
   "execution_count": 19,
   "metadata": {
    "ExecuteTime": {
     "end_time": "2020-07-04T14:27:35.989726Z",
     "start_time": "2020-07-04T14:27:35.809033Z"
    },
    "code_folding": []
   },
   "outputs": [
    {
     "data": {
      "image/png": "[encoded data removed]",
      "text/plain": [
       "<Figure size 576x396 with 1 Axes>"
      ]
     },
     "metadata": {},
     "output_type": "display_data"
    }
   ],
   "source": [
    "# plotting\n",
    "### With 10% split for the testing data\n",
    "_, ax = plt.subplots()\n",
    "ax.plot(clusters, strengths, '-o', color='black')\n",
    "ax.axhline(y=0.8, c='red');\n",
    "ax.set(title='Determining the optimal number of clusters', \n",
    "       xlabel='number of clusters', \n",
    "       ylabel='prediction strength');"
   ]
  },
  {
   "cell_type": "markdown",
   "metadata": {},
   "source": [
    "#### Fowlkes Mallows Score"
   ]
  },
  {
   "cell_type": "code",
   "execution_count": null,
   "metadata": {},
   "outputs": [],
   "source": [
    "# setting the range of k\n",
    "clusters = range(2, 20)\n",
    "k_fowlkes_mallows = []\n",
    "for k in clusters:\n",
    "    model = KMeans(n_clusters = k, n_init = 100, random_state = 0)\n",
    "    model.fit(data_enc)\n",
    "    \n",
    "    cluster = model.predict(data_enc)\n",
    "    score   = fowlkes_mallows_score(data_enc, cluster)\n",
    "    \n",
    "    k_fowlkes_mallows.append(round(score,2))"
   ]
  },
  {
   "cell_type": "code",
   "execution_count": null,
   "metadata": {
    "code_folding": []
   },
   "outputs": [],
   "source": [
    "# plotting\n",
    "_, ax = plt.subplots()\n",
    "ax.plot(clusters, k_fowlkes_mallows, '-o', color='black')\n",
    "ax.set(title='Calinski Harabaz Score over k clusters', \n",
    "       xlabel='number of clusters', \n",
    "       ylabel='Calinski Harabaz Score');"
   ]
  },
  {
   "cell_type": "markdown",
   "metadata": {},
   "source": [
    "#### Calinski Harabaz Score"
   ]
  },
  {
   "cell_type": "code",
   "execution_count": 20,
   "metadata": {
    "ExecuteTime": {
     "end_time": "2020-07-04T14:49:05.837522Z",
     "start_time": "2020-07-04T14:47:01.290190Z"
    },
    "scrolled": true
   },
   "outputs": [],
   "source": [
    "# setting the range of k\n",
    "clusters = range(2, 20)\n",
    "k_calinski_harabasz = []\n",
    "for k in clusters:\n",
    "    model = KMeans(n_clusters = k, random_state=42)\n",
    "    model.fit(data_enc)\n",
    "    \n",
    "    cluster = model.predict(data_enc)\n",
    "    score   = calinski_harabasz_score(data_enc, cluster)\n",
    "    \n",
    "    k_calinski_harabasz.append(round(score,2))"
   ]
  },
  {
   "cell_type": "code",
   "execution_count": 21,
   "metadata": {
    "ExecuteTime": {
     "end_time": "2020-07-04T14:49:06.007726Z",
     "start_time": "2020-07-04T14:49:05.840345Z"
    }
   },
   "outputs": [
    {
     "data": {
      "image/png": "[encoded data removed]",
      "text/plain": [
       "<Figure size 576x396 with 1 Axes>"
      ]
     },
     "metadata": {},
     "output_type": "display_data"
    }
   ],
   "source": [
    "# plotting\n",
    "_, ax = plt.subplots()\n",
    "ax.plot(clusters, k_calinski_harabasz, '-o', color='black')\n",
    "ax.set(title='Calinski Harabaz Score over k clusters', \n",
    "       xlabel='number of clusters', \n",
    "       ylabel='Calinski Harabaz Score');"
   ]
  },
  {
   "cell_type": "markdown",
   "metadata": {},
   "source": [
    "#### Training Kmeans optimal Number of Clusters"
   ]
  },
  {
   "cell_type": "code",
   "execution_count": 24,
   "metadata": {
    "ExecuteTime": {
     "end_time": "2020-07-04T15:09:16.150856Z",
     "start_time": "2020-07-04T15:09:13.800433Z"
    }
   },
   "outputs": [],
   "source": [
    "final_kmeas = KMeans(n_clusters=4, random_state=42).fit(data_enc)\n",
    "cluster_labels = final_kmeas.predict(data_enc)"
   ]
  },
  {
   "cell_type": "markdown",
   "metadata": {},
   "source": [
    "#### Supervised Model to check feature importances"
   ]
  },
  {
   "cell_type": "markdown",
   "metadata": {},
   "source": [
    "##### Results Functions"
   ]
  },
  {
   "cell_type": "code",
   "execution_count": 75,
   "metadata": {
    "ExecuteTime": {
     "end_time": "2020-07-04T15:53:13.050591Z",
     "start_time": "2020-07-04T15:53:13.031567Z"
    },
    "code_folding": [
     0
    ]
   },
   "outputs": [],
   "source": [
    "def plot_confusion_matrix(labels, prediction, classes, normalize=False,\n",
    "                          title='Confusion matrix', cmap=plt.get_cmap('Blues')):\n",
    "    \"\"\" Dibuja la matriz de confusion de los resultados de clasificacion de un modelo.\n",
    "    Se puede aplicar normalizacion ajustando 'normalize=True'. \"\"\"\n",
    "\n",
    "    n = len(classes)\n",
    "    if len(prediction.shape) != 1:\n",
    "        matrix = multilabel_confusion_matrix(labels, prediction).reshape(n,4)\n",
    "    else:\n",
    "        matrix = confusion_matrix(labels, prediction)\n",
    "\n",
    "    size = 1.4 * len(classes)\n",
    "    plt.figure(figsize=(size, size))\n",
    "    plt.imshow(matrix, interpolation='nearest', cmap=cmap)\n",
    "    plt.title(title)\n",
    "    # plt.colorbar()\n",
    "    tick_marks = np.arange(len(classes))\n",
    "\n",
    "    if len(prediction.shape) != 1:\n",
    "        plt.xticks(tick_marks, ['True Negatives', 'False Negatives', 'False Positives', 'True Positives'], rotation=90)\n",
    "    else:\n",
    "        plt.xticks(tick_marks, classes, rotation=90)\n",
    "\n",
    "    plt.yticks(tick_marks, classes)\n",
    "\n",
    "    if normalize:\n",
    "        matrix = matrix.astype('float') / matrix.sum(axis=1)[:, np.newaxis]\n",
    "\n",
    "    thresh = matrix.max() / 2.\n",
    "    for i, j in itertools.product(range(matrix.shape[0]), range(matrix.shape[1])):\n",
    "        plt.text(j, i, matrix[i, j],\n",
    "                 horizontalalignment='center',\n",
    "                 color='white' if matrix[i, j] > thresh else 'black')\n",
    "\n",
    "    plt.tight_layout()\n",
    "    plt.ylabel('True label')\n",
    "    plt.xlabel('Predicted label')\n",
    "    plt.show()"
   ]
  },
  {
   "cell_type": "code",
   "execution_count": 76,
   "metadata": {
    "ExecuteTime": {
     "end_time": "2020-07-04T15:53:31.988396Z",
     "start_time": "2020-07-04T15:53:31.980101Z"
    },
    "code_folding": [
     0
    ]
   },
   "outputs": [],
   "source": [
    "def classifier_results(prediction, labels, classes, show_plots):\n",
    "    \"\"\" Muestra los resultados de accuracy, presenta los resultados de precision, recall y f1-score\n",
    "    y genera la matriz de confusion para el conjunto de datos.\"\"\"\n",
    "\n",
    "    print('\\nAccuracy:\\n{0:.2f}'.format(accuracy_score(labels, prediction)))\n",
    "\n",
    "    print(classification_report(labels, prediction, digits=2, target_names = classes))\n",
    "    \n",
    "    if show_plots:\n",
    "        plot_confusion_matrix(labels, prediction, classes)\n",
    "\n",
    "    return classification_report(labels, prediction, digits=2, output_dict=True)"
   ]
  },
  {
   "cell_type": "code",
   "execution_count": 102,
   "metadata": {
    "ExecuteTime": {
     "end_time": "2020-07-04T16:15:53.488541Z",
     "start_time": "2020-07-04T16:15:53.476684Z"
    },
    "code_folding": [
     0
    ]
   },
   "outputs": [],
   "source": [
    "def plot_roc(classes, x, y):\n",
    "    plt.figure(figsize=(8,8))\n",
    "    for idx, label in enumerate(classes):\n",
    "        roc_auc = auc(x[idx], y[idx])\n",
    "        plt.plot(x[idx], y[idx], linewidth=2, label= str(label) + ' AUC = ' + '{0:.2f}'.format(roc_auc))\n",
    "    plt.plot([0, 1], [0, 1], color='navy', linewidth=2, linestyle='--')\n",
    "    plt.xlim([0.0, 1.05])\n",
    "    plt.ylim([0.0, 1.05])\n",
    "    plt.xlabel('False Positive Rate')\n",
    "    plt.ylabel('True Positive Rate')\n",
    "    plt.title('Receiver operating characteristic ROC')\n",
    "    plt.legend(loc=\"lower right\")\n",
    "    plt.grid()\n",
    "    plt.show()"
   ]
  },
  {
   "cell_type": "code",
   "execution_count": 104,
   "metadata": {
    "ExecuteTime": {
     "end_time": "2020-07-04T16:18:21.838001Z",
     "start_time": "2020-07-04T16:18:21.826049Z"
    },
    "code_folding": [
     0
    ]
   },
   "outputs": [],
   "source": [
    "def plot_precision_recall(classes, x, y, ap, f1):\n",
    "    plt.figure(figsize=(8,8))\n",
    "    for idx, label in enumerate(classes):\n",
    "        roc_auc = auc(x[idx], y[idx])\n",
    "        plt.plot(x[idx], y[idx], linewidth=2, label=str(label) + ': ' + 'AUC = ' + '{0:.2f}'.format(roc_auc) + ' - ' +\n",
    "                                                                   'AP = ' + '{0:.2f}'.format(ap[idx]) + ' - ' +\n",
    "                                                                   'F1 = ' + '{0:.2f}'.format(f1[idx]))\n",
    "    plt.xlim([0.0, 1.05])\n",
    "    plt.ylim([0.0, 1.05])\n",
    "    plt.xlabel('Recall')\n",
    "    plt.ylabel('Precision')\n",
    "    plt.title('Precision Recall Curve')\n",
    "    plt.legend(loc=\"lower right\")\n",
    "    plt.grid()\n",
    "    plt.show()"
   ]
  },
  {
   "cell_type": "code",
   "execution_count": 106,
   "metadata": {
    "ExecuteTime": {
     "end_time": "2020-07-04T16:20:48.088889Z",
     "start_time": "2020-07-04T16:20:48.049641Z"
    },
    "code_folding": [
     0
    ]
   },
   "outputs": [],
   "source": [
    "def set_proba_thresh(classes, classifier, validation_set, test_set, label_column, selected_chars, criterion, show_plots):\n",
    "    fpr = {}\n",
    "    tpr = {}\n",
    "    thr_roc = {}\n",
    "    precision = {}\n",
    "    recall = {}\n",
    "    thr_pr = {}\n",
    "    ap = {}\n",
    "    f1 = {}\n",
    "\n",
    "    # Calculating ROC and Precision - Recall Plots\n",
    "    features = validation_set\n",
    "\n",
    "    validation_labels = np.array(validation_set[label_column].values.tolist())\n",
    "    validation_predictions = classifier.predict(features)\n",
    "    validation_probas = classifier.predict_proba(features)\n",
    "    for idx, label in enumerate(classes):\n",
    "        if len(validation_labels.shape) != 1:\n",
    "            binary_labels = validation_labels[:,idx]\n",
    "            f1[idx] = f1_score(binary_labels, validation_predictions[:, idx])\n",
    "        else:\n",
    "            binary_labels = np.array([label_validation == label\n",
    "                                    for label_validation in validation_labels])\n",
    "            f1[idx] = f1_score(binary_labels, validation_predictions == label)\n",
    "\n",
    "        fpr[idx], tpr[idx], thr_roc[idx] = roc_curve(binary_labels, validation_probas[:, idx]) # ++++\n",
    "        precision[idx], recall[idx], thr_pr[idx] = precision_recall_curve(binary_labels, validation_probas[:, idx])\n",
    "        ap[idx] = average_precision_score(binary_labels, validation_probas[:, idx])\n",
    "\n",
    "\n",
    "    if show_plots:\n",
    "        plot_roc(classes, fpr, tpr)\n",
    "        plot_precision_recall(classes, recall, precision, ap, f1)\n",
    "\n",
    "    # Validation Data Results\n",
    "    validation_result = []\n",
    "    if criterion and isinstance(criterion, float):\n",
    "        for lb_idx in thr_roc:\n",
    "            for idx, value in enumerate(fpr[lb_idx]):\n",
    "                if value >= criterion:\n",
    "                    validation_result.append((classes[lb_idx],\n",
    "                                              fpr[lb_idx][idx], tpr[lb_idx][idx], thr_roc[lb_idx][idx]))\n",
    "                    break\n",
    "    elif criterion and isinstance(criterion, dict):\n",
    "        class_index_criterion = [classes.index(i) for i in criterion['clases']]\n",
    "        for lb_idx in thr_roc:\n",
    "            if lb_idx in class_index_criterion:\n",
    "                for idx, value in enumerate(fpr[lb_idx]):\n",
    "                    if value >= criterion['threshold'][class_index_criterion.index(lb_idx)]:\n",
    "                        validation_result.append((classes[lb_idx],\n",
    "                                                  fpr[lb_idx][idx], tpr[lb_idx][idx], thr_roc[lb_idx][idx]))\n",
    "                        break\n",
    "            else:\n",
    "                j_scores = np.array(tpr[lb_idx]) - np.array(fpr[lb_idx])\n",
    "                j_ordered = sorted(zip(j_scores.tolist(), fpr[lb_idx], tpr[lb_idx], thr_roc[lb_idx]))\n",
    "                validation_result.append((classes[lb_idx],\n",
    "                                          j_ordered[-1][1], j_ordered[-1][2], j_ordered[-1][3]))\n",
    "    else:\n",
    "        for lb_idx in thr_roc:\n",
    "            j_scores = np.array(tpr[lb_idx]) - np.array(fpr[lb_idx])\n",
    "            j_ordered = sorted(zip(j_scores.tolist(), fpr[lb_idx], tpr[lb_idx], thr_roc[lb_idx]))\n",
    "            validation_result.append((classes[lb_idx],\n",
    "                                      j_ordered[-1][1], j_ordered[-1][2], j_ordered[-1][3]))\n",
    "\n",
    "    validation_result = pd.DataFrame(validation_result,\n",
    "                                     columns=['class', 'false positive rate', 'true positive rate', 'threshold'])\n",
    "    thresh = validation_result['threshold'].values\n",
    "\n",
    "    # Testing Data Results\n",
    "    if selected_chars:\n",
    "        features = test_set\n",
    "    else:\n",
    "        features = test_set\n",
    "\n",
    "    scores = classifier.predict_proba(features) # +++++\n",
    "    prediction = classifier.predict(features)\n",
    "    is_sure = np.sum(scores > thresh, axis=1) == 1\n",
    "    prediction = np.array([label if sure else 'otro' for label, sure in zip(prediction, is_sure)], dtype=object)\n",
    "\n",
    "    test_result = []\n",
    "    test_labels = np.array(test_set[label_column].values.tolist())\n",
    "    for idx, label in enumerate(classes):\n",
    "        if len(test_labels.shape) != 1:\n",
    "            binary_ground_truth = test_labels[:,idx]\n",
    "        else:\n",
    "            binary_ground_truth = [lb == label for lb in test_labels]\n",
    "        binary_prediction = [lb == label for lb in prediction]\n",
    "        tn = sum(np.logical_and(np.logical_not(binary_ground_truth), np.logical_not(binary_prediction)))\n",
    "        fp = sum(np.logical_and(np.logical_not(binary_ground_truth), binary_prediction))\n",
    "        fn = sum(np.logical_and(binary_ground_truth, np.logical_not(binary_prediction)))\n",
    "        tp = sum(np.logical_and(binary_ground_truth, binary_prediction))\n",
    "        test_result.append((label, fp/(fp+tn), tp/(tp+fn)))\n",
    "    test_result = pd.DataFrame(test_result, columns=['class', 'false positive rate', 'true positive rate'])\n",
    "\n",
    "    if show_plots:\n",
    "\n",
    "        print('\\n\\033[1mVALIDATION RESULTS\\n\\033[0m')\n",
    "        print('Threshold\\n{}'.format(np.round(thresh, 2).tolist()))\n",
    "        display(validation_result.drop('threshold', axis=1))\n",
    "\n",
    "        print('\\n\\033[1mTESTING RESULTS\\n\\033[0m')\n",
    "        display(test_result)\n",
    "\n",
    "    return thresh"
   ]
  },
  {
   "cell_type": "markdown",
   "metadata": {},
   "source": [
    "##### Data Spliting"
   ]
  },
  {
   "cell_type": "code",
   "execution_count": 93,
   "metadata": {
    "ExecuteTime": {
     "end_time": "2020-07-04T16:00:22.235109Z",
     "start_time": "2020-07-04T16:00:22.183392Z"
    }
   },
   "outputs": [],
   "source": [
    "# train/test split\n",
    "X_train, X_test, Y_train, Y_test = train_test_split(data_enc, \n",
    "                                                    cluster_labels,\n",
    "                                                    test_size=0.2, \n",
    "                                                    shuffle=True, \n",
    "                                                    random_state=42)"
   ]
  },
  {
   "cell_type": "markdown",
   "metadata": {},
   "source": [
    "##### Training Model"
   ]
  },
  {
   "cell_type": "code",
   "execution_count": 30,
   "metadata": {
    "ExecuteTime": {
     "end_time": "2020-07-04T15:11:29.183182Z",
     "start_time": "2020-07-04T15:11:29.175799Z"
    }
   },
   "outputs": [
    {
     "data": {
      "text/plain": [
       "((103290, 38), (103290,))"
      ]
     },
     "execution_count": 30,
     "metadata": {},
     "output_type": "execute_result"
    }
   ],
   "source": [
    "data_enc.shape, cluster_labels.shape"
   ]
  },
  {
   "cell_type": "code",
   "execution_count": 40,
   "metadata": {
    "ExecuteTime": {
     "end_time": "2020-07-04T15:22:03.677117Z",
     "start_time": "2020-07-04T15:22:03.664267Z"
    }
   },
   "outputs": [
    {
     "data": {
      "text/html": [
       "<div>\n",
       "<style scoped>\n",
       "    .dataframe tbody tr th:only-of-type {\n",
       "        vertical-align: middle;\n",
       "    }\n",
       "\n",
       "    .dataframe tbody tr th {\n",
       "        vertical-align: top;\n",
       "    }\n",
       "\n",
       "    .dataframe thead th {\n",
       "        text-align: right;\n",
       "    }\n",
       "</style>\n",
       "<table border=\"1\" class=\"dataframe\">\n",
       "  <thead>\n",
       "    <tr style=\"text-align: right;\">\n",
       "      <th></th>\n",
       "      <th>Label</th>\n",
       "    </tr>\n",
       "  </thead>\n",
       "  <tbody>\n",
       "    <tr>\n",
       "      <th>0</th>\n",
       "      <td>33780</td>\n",
       "    </tr>\n",
       "    <tr>\n",
       "      <th>2</th>\n",
       "      <td>29590</td>\n",
       "    </tr>\n",
       "    <tr>\n",
       "      <th>1</th>\n",
       "      <td>23461</td>\n",
       "    </tr>\n",
       "    <tr>\n",
       "      <th>3</th>\n",
       "      <td>16459</td>\n",
       "    </tr>\n",
       "  </tbody>\n",
       "</table>\n",
       "</div>"
      ],
      "text/plain": [
       "   Label\n",
       "0  33780\n",
       "2  29590\n",
       "1  23461\n",
       "3  16459"
      ]
     },
     "execution_count": 40,
     "metadata": {},
     "output_type": "execute_result"
    }
   ],
   "source": [
    "pd.DataFrame(cluster_labels, columns = ['Label'])['Label'].value_counts().to_frame()"
   ]
  },
  {
   "cell_type": "code",
   "execution_count": 95,
   "metadata": {
    "ExecuteTime": {
     "end_time": "2020-07-04T16:01:31.367862Z",
     "start_time": "2020-07-04T16:01:03.477373Z"
    }
   },
   "outputs": [],
   "source": [
    "clf = LogisticRegression(random_state=42,\n",
    "                         max_iter = 100, \n",
    "                         solver = 'sag',\n",
    "                         class_weight = 'balanced',\n",
    "                         tol = 1e-4,\n",
    "                         C = ).fit(X_train, Y_train)"
   ]
  },
  {
   "cell_type": "markdown",
   "metadata": {},
   "source": [
    "##### Evaluating training results"
   ]
  },
  {
   "cell_type": "code",
   "execution_count": 98,
   "metadata": {
    "ExecuteTime": {
     "end_time": "2020-07-04T16:04:31.608643Z",
     "start_time": "2020-07-04T16:04:16.853124Z"
    }
   },
   "outputs": [
    {
     "name": "stdout",
     "output_type": "stream",
     "text": [
      "\n",
      "Accuracy:\n",
      "1.00\n",
      "              precision    recall  f1-score   support\n",
      "\n",
      "           0       1.00      1.00      1.00     27043\n",
      "           1       1.00      1.00      1.00     18778\n",
      "           2       1.00      1.00      1.00     23590\n",
      "           3       1.00      1.00      1.00     13221\n",
      "\n",
      "    accuracy                           1.00     82632\n",
      "   macro avg       1.00      1.00      1.00     82632\n",
      "weighted avg       1.00      1.00      1.00     82632\n",
      "\n"
     ]
    },
    {
     "data": {
      "image/png": "[encoded data removed]",
      "text/plain": [
       "<Figure size 403.2x403.2 with 1 Axes>"
      ]
     },
     "metadata": {},
     "output_type": "display_data"
    }
   ],
   "source": [
    "cr_train = classifier_results(prediction = pd.DataFrame(clf.predict(X_train))[0].astype(str).values, \n",
    "                               labels = pd.DataFrame(Y_train)[0].astype(str).values, \n",
    "                               classes = [str(cl) for cl in clf.classes_], \n",
    "                               show_plots = True)"
   ]
  },
  {
   "cell_type": "markdown",
   "metadata": {},
   "source": [
    "##### Evaluating testing results"
   ]
  },
  {
   "cell_type": "code",
   "execution_count": 99,
   "metadata": {
    "ExecuteTime": {
     "end_time": "2020-07-04T16:04:36.882982Z",
     "start_time": "2020-07-04T16:04:33.462000Z"
    }
   },
   "outputs": [
    {
     "name": "stdout",
     "output_type": "stream",
     "text": [
      "\n",
      "Accuracy:\n",
      "1.00\n",
      "              precision    recall  f1-score   support\n",
      "\n",
      "           0       1.00      1.00      1.00      6737\n",
      "           1       1.00      1.00      1.00      4683\n",
      "           2       1.00      1.00      1.00      6000\n",
      "           3       1.00      1.00      1.00      3238\n",
      "\n",
      "    accuracy                           1.00     20658\n",
      "   macro avg       1.00      1.00      1.00     20658\n",
      "weighted avg       1.00      1.00      1.00     20658\n",
      "\n"
     ]
    },
    {
     "data": {
      "image/png": "[encoded data removed]",
      "text/plain": [
       "<Figure size 403.2x403.2 with 1 Axes>"
      ]
     },
     "metadata": {},
     "output_type": "display_data"
    }
   ],
   "source": [
    "cr_test = classifier_results(prediction = pd.DataFrame(clf.predict(X_test))[0].astype(str).values, \n",
    "                           labels = pd.DataFrame(Y_test)[0].astype(str).values, \n",
    "                           classes = [str(cl) for cl in clf.classes_], \n",
    "                           show_plots = True)"
   ]
  },
  {
   "cell_type": "markdown",
   "metadata": {},
   "source": [
    "##### Feature Importances"
   ]
  },
  {
   "cell_type": "code",
   "execution_count": 100,
   "metadata": {
    "ExecuteTime": {
     "end_time": "2020-07-04T16:05:06.356123Z",
     "start_time": "2020-07-04T16:05:06.330252Z"
    },
    "scrolled": true
   },
   "outputs": [
    {
     "data": {
      "text/html": [
       "<div>\n",
       "<style scoped>\n",
       "    .dataframe tbody tr th:only-of-type {\n",
       "        vertical-align: middle;\n",
       "    }\n",
       "\n",
       "    .dataframe tbody tr th {\n",
       "        vertical-align: top;\n",
       "    }\n",
       "\n",
       "    .dataframe thead th {\n",
       "        text-align: right;\n",
       "    }\n",
       "</style>\n",
       "<table border=\"1\" class=\"dataframe\">\n",
       "  <thead>\n",
       "    <tr style=\"text-align: right;\">\n",
       "      <th></th>\n",
       "      <th>feature</th>\n",
       "      <th>0</th>\n",
       "      <th>1</th>\n",
       "      <th>2</th>\n",
       "      <th>3</th>\n",
       "    </tr>\n",
       "  </thead>\n",
       "  <tbody>\n",
       "    <tr>\n",
       "      <th>0</th>\n",
       "      <td>genero</td>\n",
       "      <td>0.040859</td>\n",
       "      <td>-0.013834</td>\n",
       "      <td>0.018275</td>\n",
       "      <td>-0.045301</td>\n",
       "    </tr>\n",
       "    <tr>\n",
       "      <th>1</th>\n",
       "      <td>nacionalidad</td>\n",
       "      <td>1.461913</td>\n",
       "      <td>-0.198362</td>\n",
       "      <td>0.151015</td>\n",
       "      <td>-1.414566</td>\n",
       "    </tr>\n",
       "    <tr>\n",
       "      <th>2</th>\n",
       "      <td>anio_nacimiento</td>\n",
       "      <td>2.163814</td>\n",
       "      <td>-0.506110</td>\n",
       "      <td>1.204373</td>\n",
       "      <td>-2.862078</td>\n",
       "    </tr>\n",
       "    <tr>\n",
       "      <th>3</th>\n",
       "      <td>estado_civil</td>\n",
       "      <td>-0.009685</td>\n",
       "      <td>0.003584</td>\n",
       "      <td>0.032965</td>\n",
       "      <td>-0.026864</td>\n",
       "    </tr>\n",
       "    <tr>\n",
       "      <th>4</th>\n",
       "      <td>nivel_educativo</td>\n",
       "      <td>-0.004413</td>\n",
       "      <td>0.003537</td>\n",
       "      <td>-0.016689</td>\n",
       "      <td>0.017566</td>\n",
       "    </tr>\n",
       "    <tr>\n",
       "      <th>5</th>\n",
       "      <td>reconocimiento_etnico</td>\n",
       "      <td>0.421411</td>\n",
       "      <td>-0.400879</td>\n",
       "      <td>-0.026145</td>\n",
       "      <td>0.005613</td>\n",
       "    </tr>\n",
       "    <tr>\n",
       "      <th>6</th>\n",
       "      <td>diversidad_sexual</td>\n",
       "      <td>0.020536</td>\n",
       "      <td>0.021237</td>\n",
       "      <td>-0.028523</td>\n",
       "      <td>-0.013251</td>\n",
       "    </tr>\n",
       "    <tr>\n",
       "      <th>7</th>\n",
       "      <td>extranjero</td>\n",
       "      <td>0.000689</td>\n",
       "      <td>-0.000261</td>\n",
       "      <td>-0.000111</td>\n",
       "      <td>-0.000317</td>\n",
       "    </tr>\n",
       "    <tr>\n",
       "      <th>8</th>\n",
       "      <td>estado_ingreso</td>\n",
       "      <td>0.083131</td>\n",
       "      <td>-0.027792</td>\n",
       "      <td>0.035067</td>\n",
       "      <td>-0.090405</td>\n",
       "    </tr>\n",
       "    <tr>\n",
       "      <th>9</th>\n",
       "      <td>establecimiento</td>\n",
       "      <td>-3.546751</td>\n",
       "      <td>1.187094</td>\n",
       "      <td>-0.507795</td>\n",
       "      <td>2.867452</td>\n",
       "    </tr>\n",
       "    <tr>\n",
       "      <th>10</th>\n",
       "      <td>edad</td>\n",
       "      <td>2.210814</td>\n",
       "      <td>-0.557179</td>\n",
       "      <td>1.149392</td>\n",
       "      <td>-2.803027</td>\n",
       "    </tr>\n",
       "    <tr>\n",
       "      <th>11</th>\n",
       "      <td>actividades_estudio</td>\n",
       "      <td>0.008111</td>\n",
       "      <td>-0.132664</td>\n",
       "      <td>0.063989</td>\n",
       "      <td>0.060564</td>\n",
       "    </tr>\n",
       "    <tr>\n",
       "      <th>12</th>\n",
       "      <td>actividades_trabajo</td>\n",
       "      <td>-0.210196</td>\n",
       "      <td>0.093997</td>\n",
       "      <td>0.003220</td>\n",
       "      <td>0.112980</td>\n",
       "    </tr>\n",
       "    <tr>\n",
       "      <th>13</th>\n",
       "      <td>actividades_enseñanza</td>\n",
       "      <td>-0.035757</td>\n",
       "      <td>-0.040238</td>\n",
       "      <td>0.021515</td>\n",
       "      <td>0.054480</td>\n",
       "    </tr>\n",
       "    <tr>\n",
       "      <th>14</th>\n",
       "      <td>hijos_menores</td>\n",
       "      <td>-0.078433</td>\n",
       "      <td>-0.015760</td>\n",
       "      <td>0.274648</td>\n",
       "      <td>-0.180455</td>\n",
       "    </tr>\n",
       "    <tr>\n",
       "      <th>15</th>\n",
       "      <td>condicion_excepcional</td>\n",
       "      <td>0.015817</td>\n",
       "      <td>0.046023</td>\n",
       "      <td>-0.056984</td>\n",
       "      <td>-0.004857</td>\n",
       "    </tr>\n",
       "    <tr>\n",
       "      <th>16</th>\n",
       "      <td>estado_id_estado</td>\n",
       "      <td>-0.056797</td>\n",
       "      <td>0.118160</td>\n",
       "      <td>-0.017135</td>\n",
       "      <td>-0.044229</td>\n",
       "    </tr>\n",
       "    <tr>\n",
       "      <th>17</th>\n",
       "      <td>madre_gestante</td>\n",
       "      <td>0.082566</td>\n",
       "      <td>-0.027987</td>\n",
       "      <td>0.035180</td>\n",
       "      <td>-0.089759</td>\n",
       "    </tr>\n",
       "    <tr>\n",
       "      <th>18</th>\n",
       "      <td>madre_lactante</td>\n",
       "      <td>0.081719</td>\n",
       "      <td>-0.027918</td>\n",
       "      <td>0.036525</td>\n",
       "      <td>-0.090326</td>\n",
       "    </tr>\n",
       "    <tr>\n",
       "      <th>19</th>\n",
       "      <td>discapacidad</td>\n",
       "      <td>0.004086</td>\n",
       "      <td>-0.003822</td>\n",
       "      <td>0.048766</td>\n",
       "      <td>-0.049030</td>\n",
       "    </tr>\n",
       "    <tr>\n",
       "      <th>20</th>\n",
       "      <td>adulto_mayor</td>\n",
       "      <td>0.119018</td>\n",
       "      <td>-0.060527</td>\n",
       "      <td>-0.037989</td>\n",
       "      <td>-0.020502</td>\n",
       "    </tr>\n",
       "    <tr>\n",
       "      <th>21</th>\n",
       "      <td>delito_id_delito_42</td>\n",
       "      <td>0.072854</td>\n",
       "      <td>-0.002676</td>\n",
       "      <td>-0.050217</td>\n",
       "      <td>-0.019961</td>\n",
       "    </tr>\n",
       "    <tr>\n",
       "      <th>22</th>\n",
       "      <td>delito_id_delito_102</td>\n",
       "      <td>0.027754</td>\n",
       "      <td>0.019689</td>\n",
       "      <td>0.019158</td>\n",
       "      <td>-0.066602</td>\n",
       "    </tr>\n",
       "    <tr>\n",
       "      <th>23</th>\n",
       "      <td>delito_id_delito_103</td>\n",
       "      <td>0.021768</td>\n",
       "      <td>0.016715</td>\n",
       "      <td>0.008980</td>\n",
       "      <td>-0.047463</td>\n",
       "    </tr>\n",
       "    <tr>\n",
       "      <th>24</th>\n",
       "      <td>delito_id_delito_105</td>\n",
       "      <td>0.050230</td>\n",
       "      <td>-0.033426</td>\n",
       "      <td>-0.063099</td>\n",
       "      <td>0.046295</td>\n",
       "    </tr>\n",
       "    <tr>\n",
       "      <th>25</th>\n",
       "      <td>delito_id_delito_109</td>\n",
       "      <td>-0.010970</td>\n",
       "      <td>0.006065</td>\n",
       "      <td>0.055568</td>\n",
       "      <td>-0.050663</td>\n",
       "    </tr>\n",
       "    <tr>\n",
       "      <th>26</th>\n",
       "      <td>delito_id_delito_141</td>\n",
       "      <td>-0.003085</td>\n",
       "      <td>0.117332</td>\n",
       "      <td>0.038237</td>\n",
       "      <td>-0.152484</td>\n",
       "    </tr>\n",
       "    <tr>\n",
       "      <th>27</th>\n",
       "      <td>delito_id_delito_145</td>\n",
       "      <td>-0.237221</td>\n",
       "      <td>0.060057</td>\n",
       "      <td>0.021427</td>\n",
       "      <td>0.155737</td>\n",
       "    </tr>\n",
       "    <tr>\n",
       "      <th>28</th>\n",
       "      <td>delito_id_delito_172</td>\n",
       "      <td>-0.004293</td>\n",
       "      <td>-0.027328</td>\n",
       "      <td>0.013178</td>\n",
       "      <td>0.018442</td>\n",
       "    </tr>\n",
       "    <tr>\n",
       "      <th>29</th>\n",
       "      <td>delito_id_delito_232</td>\n",
       "      <td>0.104583</td>\n",
       "      <td>-0.072171</td>\n",
       "      <td>-0.021557</td>\n",
       "      <td>-0.010855</td>\n",
       "    </tr>\n",
       "    <tr>\n",
       "      <th>30</th>\n",
       "      <td>delito_id_delito_262</td>\n",
       "      <td>-0.029754</td>\n",
       "      <td>-0.007242</td>\n",
       "      <td>0.061617</td>\n",
       "      <td>-0.024621</td>\n",
       "    </tr>\n",
       "    <tr>\n",
       "      <th>31</th>\n",
       "      <td>delito_id_delito_other</td>\n",
       "      <td>0.020449</td>\n",
       "      <td>-0.064727</td>\n",
       "      <td>-0.037224</td>\n",
       "      <td>0.081501</td>\n",
       "    </tr>\n",
       "    <tr>\n",
       "      <th>32</th>\n",
       "      <td>tentativa_1</td>\n",
       "      <td>0.016633</td>\n",
       "      <td>-0.030879</td>\n",
       "      <td>-0.048023</td>\n",
       "      <td>0.062269</td>\n",
       "    </tr>\n",
       "    <tr>\n",
       "      <th>33</th>\n",
       "      <td>tentativa_2</td>\n",
       "      <td>-0.004345</td>\n",
       "      <td>0.043168</td>\n",
       "      <td>0.094119</td>\n",
       "      <td>-0.132943</td>\n",
       "    </tr>\n",
       "    <tr>\n",
       "      <th>34</th>\n",
       "      <td>agravado_1</td>\n",
       "      <td>0.021402</td>\n",
       "      <td>0.053076</td>\n",
       "      <td>0.062214</td>\n",
       "      <td>-0.136692</td>\n",
       "    </tr>\n",
       "    <tr>\n",
       "      <th>35</th>\n",
       "      <td>agravado_2</td>\n",
       "      <td>-0.009128</td>\n",
       "      <td>-0.040787</td>\n",
       "      <td>-0.016103</td>\n",
       "      <td>0.066018</td>\n",
       "    </tr>\n",
       "    <tr>\n",
       "      <th>36</th>\n",
       "      <td>calificado_1</td>\n",
       "      <td>0.093630</td>\n",
       "      <td>-0.074222</td>\n",
       "      <td>0.094655</td>\n",
       "      <td>-0.114064</td>\n",
       "    </tr>\n",
       "    <tr>\n",
       "      <th>37</th>\n",
       "      <td>calificado_2</td>\n",
       "      <td>-0.081356</td>\n",
       "      <td>0.086510</td>\n",
       "      <td>-0.048544</td>\n",
       "      <td>0.043390</td>\n",
       "    </tr>\n",
       "  </tbody>\n",
       "</table>\n",
       "</div>"
      ],
      "text/plain": [
       "                   feature         0         1         2         3\n",
       "0                   genero  0.040859 -0.013834  0.018275 -0.045301\n",
       "1             nacionalidad  1.461913 -0.198362  0.151015 -1.414566\n",
       "2          anio_nacimiento  2.163814 -0.506110  1.204373 -2.862078\n",
       "3             estado_civil -0.009685  0.003584  0.032965 -0.026864\n",
       "4          nivel_educativo -0.004413  0.003537 -0.016689  0.017566\n",
       "5    reconocimiento_etnico  0.421411 -0.400879 -0.026145  0.005613\n",
       "6        diversidad_sexual  0.020536  0.021237 -0.028523 -0.013251\n",
       "7               extranjero  0.000689 -0.000261 -0.000111 -0.000317\n",
       "8           estado_ingreso  0.083131 -0.027792  0.035067 -0.090405\n",
       "9          establecimiento -3.546751  1.187094 -0.507795  2.867452\n",
       "10                    edad  2.210814 -0.557179  1.149392 -2.803027\n",
       "11     actividades_estudio  0.008111 -0.132664  0.063989  0.060564\n",
       "12     actividades_trabajo -0.210196  0.093997  0.003220  0.112980\n",
       "13   actividades_enseñanza -0.035757 -0.040238  0.021515  0.054480\n",
       "14           hijos_menores -0.078433 -0.015760  0.274648 -0.180455\n",
       "15   condicion_excepcional  0.015817  0.046023 -0.056984 -0.004857\n",
       "16        estado_id_estado -0.056797  0.118160 -0.017135 -0.044229\n",
       "17          madre_gestante  0.082566 -0.027987  0.035180 -0.089759\n",
       "18          madre_lactante  0.081719 -0.027918  0.036525 -0.090326\n",
       "19            discapacidad  0.004086 -0.003822  0.048766 -0.049030\n",
       "20            adulto_mayor  0.119018 -0.060527 -0.037989 -0.020502\n",
       "21     delito_id_delito_42  0.072854 -0.002676 -0.050217 -0.019961\n",
       "22    delito_id_delito_102  0.027754  0.019689  0.019158 -0.066602\n",
       "23    delito_id_delito_103  0.021768  0.016715  0.008980 -0.047463\n",
       "24    delito_id_delito_105  0.050230 -0.033426 -0.063099  0.046295\n",
       "25    delito_id_delito_109 -0.010970  0.006065  0.055568 -0.050663\n",
       "26    delito_id_delito_141 -0.003085  0.117332  0.038237 -0.152484\n",
       "27    delito_id_delito_145 -0.237221  0.060057  0.021427  0.155737\n",
       "28    delito_id_delito_172 -0.004293 -0.027328  0.013178  0.018442\n",
       "29    delito_id_delito_232  0.104583 -0.072171 -0.021557 -0.010855\n",
       "30    delito_id_delito_262 -0.029754 -0.007242  0.061617 -0.024621\n",
       "31  delito_id_delito_other  0.020449 -0.064727 -0.037224  0.081501\n",
       "32             tentativa_1  0.016633 -0.030879 -0.048023  0.062269\n",
       "33             tentativa_2 -0.004345  0.043168  0.094119 -0.132943\n",
       "34              agravado_1  0.021402  0.053076  0.062214 -0.136692\n",
       "35              agravado_2 -0.009128 -0.040787 -0.016103  0.066018\n",
       "36            calificado_1  0.093630 -0.074222  0.094655 -0.114064\n",
       "37            calificado_2 -0.081356  0.086510 -0.048544  0.043390"
      ]
     },
     "execution_count": 100,
     "metadata": {},
     "output_type": "execute_result"
    }
   ],
   "source": [
    "lg_coeffs = pd.DataFrame(clf.coef_, columns = data.columns).T.reset_index().rename(columns = {'index':'feature'})\n",
    "lg_coeffs"
   ]
  },
  {
   "cell_type": "code",
   "execution_count": 101,
   "metadata": {
    "ExecuteTime": {
     "end_time": "2020-07-04T16:05:09.680688Z",
     "start_time": "2020-07-04T16:05:08.556971Z"
    }
   },
   "outputs": [
    {
     "data": {
      "image/png": "[encoded data removed]",
      "text/plain": [
       "<Figure size 576x396 with 1 Axes>"
      ]
     },
     "metadata": {},
     "output_type": "display_data"
    },
    {
     "data": {
      "image/png": "[encoded data removed]",
      "text/plain": [
       "<Figure size 576x396 with 1 Axes>"
      ]
     },
     "metadata": {},
     "output_type": "display_data"
    },
    {
     "data": {
      "image/png": "[encoded data removed]",
      "text/plain": [
       "<Figure size 576x396 with 1 Axes>"
      ]
     },
     "metadata": {},
     "output_type": "display_data"
    },
    {
     "data": {
      "image/png": "[encoded data removed]",
      "text/plain": [
       "<Figure size 576x396 with 1 Axes>"
      ]
     },
     "metadata": {},
     "output_type": "display_data"
    }
   ],
   "source": [
    "for i in range(4):\n",
    "    d_cluster = lg_coeffs.sort_values(by=i, ascending = False)\n",
    "    d_cluster = d_cluster[d_cluster[i] > 0]\n",
    "    plt.figure(i)\n",
    "    sns.barplot(x=i, y=\"feature\" , data=d_cluster)"
   ]
  }
 ],
 "metadata": {
  "kernelspec": {
   "display_name": "Python 3",
   "language": "python",
   "name": "python3"
  },
  "language_info": {
   "codemirror_mode": {
    "name": "ipython",
    "version": 3
   },
   "file_extension": ".py",
   "mimetype": "text/x-python",
   "name": "python",
   "nbconvert_exporter": "python",
   "pygments_lexer": "ipython3",
   "version": "3.7.6"
  },
  "toc": {
   "base_numbering": 1,
   "nav_menu": {},
   "number_sections": true,
   "sideBar": true,
   "skip_h1_title": false,
   "title_cell": "Table of Contents",
   "title_sidebar": "Contents",
   "toc_cell": false,
   "toc_position": {
    "height": "calc(100% - 180px)",
    "left": "10px",
    "top": "150px",
    "width": "287px"
   },
   "toc_section_display": true,
   "toc_window_display": true
  }
 },
 "nbformat": 4,
 "nbformat_minor": 2
}
