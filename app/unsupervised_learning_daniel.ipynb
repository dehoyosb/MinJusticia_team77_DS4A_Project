{
 "cells": [
  {
   "cell_type": "code",
   "execution_count": 1,
   "metadata": {
    "ExecuteTime": {
     "end_time": "2020-07-04T15:57:48.024521Z",
     "start_time": "2020-07-04T15:57:48.014844Z"
    }
   },
   "outputs": [],
   "source": [
    "import pandas as pd\n",
    "import string\n",
    "import os\n",
    "import itertools\n",
    "import numpy as np\n",
    "from sqlalchemy import create_engine, text\n",
    "\n",
    "from utils import DbEngine, Queries\n",
    "from etl import ETL\n",
    "from encoder import Encoding"
   ]
  },
  {
   "cell_type": "code",
   "execution_count": 121,
   "metadata": {
    "ExecuteTime": {
     "end_time": "2020-07-10T12:51:44.251470Z",
     "start_time": "2020-07-10T12:51:44.125253Z"
    }
   },
   "outputs": [],
   "source": [
    "import numpy as np\n",
    "import sys\n",
    "\n",
    "from sklearn.datasets import make_blobs\n",
    "from sklearn.model_selection import train_test_split\n",
    "from sklearn.cluster import KMeans\n",
    "from sklearn.mixture import GaussianMixture\n",
    "from sklearn.preprocessing import LabelEncoder\n",
    "from sklearn.metrics import calinski_harabasz_score, fowlkes_mallows_score\n",
    "from sklearn.linear_model import LogisticRegression\n",
    "from sklearn.ensemble import RandomForestClassifier\n",
    "from sklearn.metrics import roc_curve, auc, precision_recall_curve\n",
    "from sklearn.metrics import accuracy_score, average_precision_score, f1_score\n",
    "from sklearn.metrics import classification_report\n",
    "from sklearn.metrics import confusion_matrix, multilabel_confusion_matrix\n",
    "\n",
    "from scipy.spatial import distance\n",
    "\n",
    "import matplotlib.pyplot as plt\n",
    "import seaborn as sns \n",
    "plt.style.use('seaborn')"
   ]
  },
  {
   "cell_type": "code",
   "execution_count": 3,
   "metadata": {},
   "outputs": [],
   "source": [
    "pd.set_option(\"display.max_columns\", 100)"
   ]
  },
  {
   "cell_type": "markdown",
   "metadata": {},
   "source": [
    "### Connect to DB"
   ]
  },
  {
   "cell_type": "code",
   "execution_count": 4,
   "metadata": {
    "ExecuteTime": {
     "end_time": "2020-07-04T13:30:51.816926Z",
     "start_time": "2020-07-04T13:30:51.727149Z"
    }
   },
   "outputs": [],
   "source": [
    "db_engine = DbEngine(user = 'team77', \n",
    "                     password = 'mintic2020.',\n",
    "                     ip = '172.17.0.3', \n",
    "                     port = '5432', \n",
    "                     db = 'minjusticia')\n",
    "engine = db_engine.connect()\n",
    "queries = Queries(engine)"
   ]
  },
  {
   "cell_type": "markdown",
   "metadata": {},
   "source": [
    "### Loading original data"
   ]
  },
  {
   "cell_type": "code",
   "execution_count": 5,
   "metadata": {
    "ExecuteTime": {
     "end_time": "2020-07-03T02:03:27.314732Z",
     "start_time": "2020-07-03T02:02:29.731126Z"
    }
   },
   "outputs": [],
   "source": [
    "data = pd.read_excel('../data/ReincidenciaPospenadosNal201011Junio2020Rev.xlsx', skiprows = 6)"
   ]
  },
  {
   "cell_type": "markdown",
   "metadata": {},
   "source": [
    "### Execute ETL"
   ]
  },
  {
   "cell_type": "code",
   "execution_count": 5,
   "metadata": {
    "ExecuteTime": {
     "end_time": "2020-07-03T02:06:09.026144Z",
     "start_time": "2020-07-03T02:04:37.894461Z"
    }
   },
   "outputs": [
    {
     "name": "stderr",
     "output_type": "stream",
     "text": [
      "/home/jovyan/work/MinJusticia_team77_DS4A_Project/app/etl.py:60: SettingWithCopyWarning: \n",
      "A value is trying to be set on a copy of a slice from a DataFrame.\n",
      "Try using .loc[row_indexer,col_indexer] = value instead\n",
      "\n",
      "See the caveats in the documentation: https://pandas.pydata.org/pandas-docs/stable/user_guide/indexing.html#returning-a-view-versus-a-copy\n",
      "  data_reg['CONDIC_EXPECIONAL'] = data_reg['CONDIC_EXPECIONAL'].fillna('NINGUNO')\n",
      "/home/jovyan/work/MinJusticia_team77_DS4A_Project/app/etl.py:63: SettingWithCopyWarning: \n",
      "A value is trying to be set on a copy of a slice from a DataFrame.\n",
      "Try using .loc[row_indexer,col_indexer] = value instead\n",
      "\n",
      "See the caveats in the documentation: https://pandas.pydata.org/pandas-docs/stable/user_guide/indexing.html#returning-a-view-versus-a-copy\n",
      "  data_reg['madre_gestante'] = 'NA'\n",
      "/opt/conda/lib/python3.7/site-packages/pandas/core/indexing.py:966: SettingWithCopyWarning: \n",
      "A value is trying to be set on a copy of a slice from a DataFrame.\n",
      "Try using .loc[row_indexer,col_indexer] = value instead\n",
      "\n",
      "See the caveats in the documentation: https://pandas.pydata.org/pandas-docs/stable/user_guide/indexing.html#returning-a-view-versus-a-copy\n",
      "  self.obj[item] = s\n",
      "/home/jovyan/work/MinJusticia_team77_DS4A_Project/app/etl.py:67: SettingWithCopyWarning: \n",
      "A value is trying to be set on a copy of a slice from a DataFrame.\n",
      "Try using .loc[row_indexer,col_indexer] = value instead\n",
      "\n",
      "See the caveats in the documentation: https://pandas.pydata.org/pandas-docs/stable/user_guide/indexing.html#returning-a-view-versus-a-copy\n",
      "  data_reg['madre_lactante'] = 'NA'\n",
      "/home/jovyan/work/MinJusticia_team77_DS4A_Project/app/etl.py:72: SettingWithCopyWarning: \n",
      "A value is trying to be set on a copy of a slice from a DataFrame.\n",
      "Try using .loc[row_indexer,col_indexer] = value instead\n",
      "\n",
      "See the caveats in the documentation: https://pandas.pydata.org/pandas-docs/stable/user_guide/indexing.html#returning-a-view-versus-a-copy\n",
      "  data_reg['discapacidad'] = 'N'\n",
      "/home/jovyan/work/MinJusticia_team77_DS4A_Project/app/etl.py:76: SettingWithCopyWarning: \n",
      "A value is trying to be set on a copy of a slice from a DataFrame.\n",
      "Try using .loc[row_indexer,col_indexer] = value instead\n",
      "\n",
      "See the caveats in the documentation: https://pandas.pydata.org/pandas-docs/stable/user_guide/indexing.html#returning-a-view-versus-a-copy\n",
      "  data_reg['adulto_mayor'] = 'N'\n"
     ]
    }
   ],
   "source": [
    "etl = ETL(queries)\n",
    "etl.inmate_static_info(data)\n",
    "etl.inmate_variable_info(data)"
   ]
  },
  {
   "cell_type": "markdown",
   "metadata": {},
   "source": [
    "### Functions"
   ]
  },
  {
   "cell_type": "markdown",
   "metadata": {},
   "source": [
    "#### encodings"
   ]
  },
  {
   "cell_type": "code",
   "execution_count": 203,
   "metadata": {
    "ExecuteTime": {
     "end_time": "2020-07-10T15:40:27.938018Z",
     "start_time": "2020-07-10T15:40:27.930242Z"
    },
    "code_folding": [
     0
    ]
   },
   "outputs": [],
   "source": [
    "def encode_transform(data):\n",
    "    encoders = []\n",
    "    encoded_cols = []\n",
    "    for i in range(data.values.shape[1]):\n",
    "        le = LabelEncoder()\n",
    "        le.fit(data.values[:,i])\n",
    "        encoders.append(le)\n",
    "        encoded_cols.append(le.transform(data.values[:,i]).reshape(-1,1))\n",
    "    return np.concatenate(encoded_cols, axis = 1), encoders"
   ]
  },
  {
   "cell_type": "markdown",
   "metadata": {},
   "source": [
    "#### metrics-results"
   ]
  },
  {
   "cell_type": "code",
   "execution_count": 205,
   "metadata": {
    "ExecuteTime": {
     "end_time": "2020-07-10T15:41:52.109152Z",
     "start_time": "2020-07-10T15:41:52.091718Z"
    },
    "code_folding": [
     0
    ]
   },
   "outputs": [],
   "source": [
    "def plot_confusion_matrix(labels, prediction, classes, normalize=False,\n",
    "                          title='Confusion matrix', cmap=plt.get_cmap('Blues')):\n",
    "    \"\"\" Dibuja la matriz de confusion de los resultados de clasificacion de un modelo.\n",
    "    Se puede aplicar normalizacion ajustando 'normalize=True'. \"\"\"\n",
    "\n",
    "    n = len(classes)\n",
    "    if len(prediction.shape) != 1:\n",
    "        matrix = multilabel_confusion_matrix(labels, prediction).reshape(n,4)\n",
    "    else:\n",
    "        matrix = confusion_matrix(labels, prediction)\n",
    "\n",
    "    size = 1.4 * len(classes)\n",
    "    plt.figure(figsize=(size, size))\n",
    "    plt.imshow(matrix, interpolation='nearest', cmap=cmap)\n",
    "    plt.title(title)\n",
    "    # plt.colorbar()\n",
    "    tick_marks = np.arange(len(classes))\n",
    "\n",
    "    if len(prediction.shape) != 1:\n",
    "        plt.xticks(tick_marks, ['True Negatives', 'False Negatives', 'False Positives', 'True Positives'], rotation=90)\n",
    "    else:\n",
    "        plt.xticks(tick_marks, classes, rotation=90)\n",
    "\n",
    "    plt.yticks(tick_marks, classes)\n",
    "\n",
    "    if normalize:\n",
    "        matrix = matrix.astype('float') / matrix.sum(axis=1)[:, np.newaxis]\n",
    "\n",
    "    thresh = matrix.max() / 2.\n",
    "    for i, j in itertools.product(range(matrix.shape[0]), range(matrix.shape[1])):\n",
    "        plt.text(j, i, matrix[i, j],\n",
    "                 horizontalalignment='center',\n",
    "                 color='white' if matrix[i, j] > thresh else 'black')\n",
    "\n",
    "    plt.tight_layout()\n",
    "    plt.ylabel('True label')\n",
    "    plt.xlabel('Predicted label')\n",
    "    plt.show()"
   ]
  },
  {
   "cell_type": "code",
   "execution_count": 206,
   "metadata": {
    "ExecuteTime": {
     "end_time": "2020-07-10T15:42:03.832961Z",
     "start_time": "2020-07-10T15:42:03.825936Z"
    },
    "code_folding": [
     0
    ]
   },
   "outputs": [],
   "source": [
    "def classifier_results(prediction, labels, classes, show_plots):\n",
    "    \"\"\" Muestra los resultados de accuracy, presenta los resultados de precision, recall y f1-score\n",
    "    y genera la matriz de confusion para el conjunto de datos.\"\"\"\n",
    "\n",
    "    print('\\nAccuracy:\\n{0:.2f}'.format(accuracy_score(labels, prediction)))\n",
    "\n",
    "    print(classification_report(labels, prediction, digits=2, target_names = classes))\n",
    "    \n",
    "    if show_plots:\n",
    "        plot_confusion_matrix(labels, prediction, classes)\n",
    "\n",
    "    return classification_report(labels, prediction, digits=2, output_dict=True)"
   ]
  },
  {
   "cell_type": "code",
   "execution_count": 207,
   "metadata": {
    "ExecuteTime": {
     "end_time": "2020-07-10T15:42:04.320187Z",
     "start_time": "2020-07-10T15:42:04.309560Z"
    },
    "code_folding": [
     0
    ]
   },
   "outputs": [],
   "source": [
    "def plot_roc(y_test, y_preds):\n",
    "    \"\"\"\n",
    "    Helper function that plots the roc curve\n",
    "    \"\"\"\n",
    "    plt.figure(figsize=(8,8))\n",
    "    for label in np.unique(y_test):\n",
    "        fpr, tpr, _ = roc_curve(y_test == label, y_preds == label)\n",
    "        roc_auc = auc(fpr, tpr)\n",
    "        plt.plot(fpr, tpr, linewidth=2, label= str(label) + ' AUC = ' + '{0:.2f}'.format(roc_auc))\n",
    "        #plt.plot(fpr, tpr, color='darkorange',lw=2, label='ROC curve (area = %0.2f)' % roc_auc)\n",
    "    plt.plot([0, 1], [0, 1], color='navy', lw=2, linestyle='--')\n",
    "    plt.xlim([0.0, 1.0])\n",
    "    plt.ylim([0.0, 1.05])\n",
    "    plt.xlabel('False Positive Rate')\n",
    "    plt.ylabel('True Positive Rate')\n",
    "    plt.title('Receiver operating characteristic ROC')\n",
    "    plt.legend(loc=\"lower right\")\n",
    "    plt.show()"
   ]
  },
  {
   "cell_type": "code",
   "execution_count": 208,
   "metadata": {
    "ExecuteTime": {
     "end_time": "2020-07-10T15:42:06.909111Z",
     "start_time": "2020-07-10T15:42:06.898289Z"
    },
    "code_folding": [
     0
    ]
   },
   "outputs": [],
   "source": [
    "def plot_precision_recall(classes, x, y, ap, f1):\n",
    "    plt.figure(figsize=(8,8))\n",
    "    for idx, label in enumerate(classes):\n",
    "        roc_auc = auc(x[idx], y[idx])\n",
    "        plt.plot(x[idx], y[idx], linewidth=2, label=str(label) + ': ' + 'AUC = ' + '{0:.2f}'.format(roc_auc) + ' - ' +\n",
    "                                                                   'AP = ' + '{0:.2f}'.format(ap[idx]) + ' - ' +\n",
    "                                                                   'F1 = ' + '{0:.2f}'.format(f1[idx]))\n",
    "    plt.xlim([0.0, 1.05])\n",
    "    plt.ylim([0.0, 1.05])\n",
    "    plt.xlabel('Recall')\n",
    "    plt.ylabel('Precision')\n",
    "    plt.title('Precision Recall Curve')\n",
    "    plt.legend(loc=\"lower right\")\n",
    "    plt.grid()\n",
    "    plt.show()"
   ]
  },
  {
   "cell_type": "markdown",
   "metadata": {},
   "source": [
    "#### algorithms"
   ]
  },
  {
   "cell_type": "code",
   "execution_count": 210,
   "metadata": {
    "ExecuteTime": {
     "end_time": "2020-07-10T15:47:11.442753Z",
     "start_time": "2020-07-10T15:47:11.436085Z"
    },
    "code_folding": [
     1
    ]
   },
   "outputs": [],
   "source": [
    "##### Get closest centroid unoptimized (Prediction Strength)\n",
    "def get_closest_centroid(obs, centroids):\n",
    "    '''\n",
    "    Function for retrieving the closest centroid to the given observation \n",
    "    in terms of the Euclidean distance.\n",
    "    \n",
    "    Parameters\n",
    "    ----------\n",
    "    obs : array\n",
    "        An array containing the observation to be matched to the nearest centroid\n",
    "    centroids : array\n",
    "        An array containing the centroids\n",
    "    \n",
    "    Returns\n",
    "    -------\n",
    "    min_centroid : array\n",
    "        The centroid closes to the obs \n",
    "    '''\n",
    "    min_distance = sys.float_info.max\n",
    "    min_centroid = 0\n",
    "    \n",
    "    for c in centroids:\n",
    "        dist = distance.euclidean(obs, c)\n",
    "        if dist < min_distance:\n",
    "            min_distance = dist\n",
    "            min_centroid = c\n",
    "            \n",
    "    return min_centroid"
   ]
  },
  {
   "cell_type": "code",
   "execution_count": 211,
   "metadata": {
    "ExecuteTime": {
     "end_time": "2020-07-10T15:47:11.581975Z",
     "start_time": "2020-07-10T15:47:11.573027Z"
    },
    "code_folding": [
     1
    ]
   },
   "outputs": [],
   "source": [
    "##### Get closest centroid optimized v1 (Prediction Strength)\n",
    "def get_closest_centroid_optim(obs, centroids):\n",
    "    '''\n",
    "    Function for retrieving the closest centroid to the given observation \n",
    "    in terms of the Euclidean distance.\n",
    "    \n",
    "    Parameters\n",
    "    ----------\n",
    "    obs : array\n",
    "        An array containing the observation to be matched to the nearest centroid\n",
    "    centroids : array\n",
    "        An array containing the centroids\n",
    "    \n",
    "    Returns\n",
    "    -------\n",
    "    min_centroid : array\n",
    "        The centroid closes to the obs \n",
    "    '''\n",
    "    \n",
    "    distance = np.sqrt((np.square(centroids[:,np.newaxis]-obs).sum(axis=2)))\n",
    "    idx_min_distance = np.argmin(distance)\n",
    "    \n",
    "    return centroids[idx_min_distance]"
   ]
  },
  {
   "cell_type": "code",
   "execution_count": 212,
   "metadata": {
    "ExecuteTime": {
     "end_time": "2020-07-10T15:47:11.743554Z",
     "start_time": "2020-07-10T15:47:11.734309Z"
    },
    "code_folding": [
     1
    ]
   },
   "outputs": [],
   "source": [
    "##### Get closest centroid optimized v2 (Prediction Strength)\n",
    "def get_closest_centroid_optim_vectorized(obs, centroids):\n",
    "    '''\n",
    "    Function for retrieving the closest centroid to the given observation \n",
    "    in terms of the Euclidean distance.\n",
    "    \n",
    "    Parameters\n",
    "    ----------\n",
    "    obs : array\n",
    "        An array containing the observation to be matched to the nearest centroid\n",
    "    centroids : array\n",
    "        An array containing the centroids\n",
    "    \n",
    "    Returns\n",
    "    -------\n",
    "    min_centroid : array\n",
    "        The centroid closes to the obs \n",
    "    '''\n",
    "    \n",
    "    distance = np.sqrt((np.square(centroids[:,np.newaxis]-obs).sum(axis=2)))\n",
    "    idx_min_distance = np.argmin(distance, axis = 0)\n",
    "    \n",
    "    return centroids[idx_min_distance]"
   ]
  },
  {
   "cell_type": "code",
   "execution_count": 213,
   "metadata": {
    "ExecuteTime": {
     "end_time": "2020-07-10T15:47:11.910292Z",
     "start_time": "2020-07-10T15:47:11.893872Z"
    },
    "code_folding": [
     1
    ]
   },
   "outputs": [],
   "source": [
    "##### Get prediction strength unoptimized (Prediction Strength)\n",
    "def get_prediction_strength(k, train_centroids, x_test, test_labels):\n",
    "    '''\n",
    "    Function for calculating the prediction strength of clustering\n",
    "    \n",
    "    Parameters\n",
    "    ----------\n",
    "    k : int\n",
    "        The number of clusters\n",
    "    train_centroids : array\n",
    "        Centroids from the clustering on the training set\n",
    "    x_test : array\n",
    "        Test set observations\n",
    "    test_labels : array\n",
    "        Labels predicted for the test set\n",
    "        \n",
    "    Returns\n",
    "    -------\n",
    "    prediction_strength : float\n",
    "        Calculated prediction strength\n",
    "    '''\n",
    "    n_test = len(x_test)\n",
    "    \n",
    "    # populate the co-membership matrix\n",
    "    D = np.zeros(shape=(n_test, n_test))\n",
    "    for x1, l1, c1 in zip(x_test, test_labels, list(range(n_test))):\n",
    "        for x2, l2, c2 in zip(x_test, test_labels, list(range(n_test))):\n",
    "            if tuple(x1) != tuple(x2):\n",
    "                if tuple(get_closest_centroid(x1, train_centroids)) == tuple(get_closest_centroid(x2, train_centroids)):\n",
    "                    D[c1,c2] = 1.0\n",
    "    \n",
    "    # calculate the prediction strengths for each cluster\n",
    "    ss = []\n",
    "    for j in range(k):\n",
    "        s = 0\n",
    "        examples_j = x_test[test_labels == j, :].tolist()\n",
    "        n_examples_j = len(examples_j)\n",
    "        for x1, l1, c1 in zip(x_test, test_labels, list(range(n_test))):\n",
    "            for x2, l2, c2 in zip(x_test, test_labels, list(range(n_test))):\n",
    "                if tuple(x1) != tuple(x2) and l1 == l2 and l1 == j:\n",
    "                    s += D[c1,c2]\n",
    "        ss.append(s / (n_examples_j * (n_examples_j - 1))) \n",
    "\n",
    "    prediction_strength = min(ss)\n",
    "\n",
    "    return prediction_strength"
   ]
  },
  {
   "cell_type": "code",
   "execution_count": 214,
   "metadata": {
    "ExecuteTime": {
     "end_time": "2020-07-10T15:47:12.207682Z",
     "start_time": "2020-07-10T15:47:12.189726Z"
    },
    "code_folding": [
     1
    ]
   },
   "outputs": [],
   "source": [
    "##### Get prediction strength optimized (Prediction Strength)\n",
    "def get_prediction_strength_optim(k, train_centroids, x_test, test_labels):\n",
    "    '''\n",
    "    Function for calculating the prediction strength of clustering\n",
    "    \n",
    "    Parameters\n",
    "    ----------\n",
    "    k : int\n",
    "        The number of clusters\n",
    "    train_centroids : array\n",
    "        Centroids from the clustering on the training set\n",
    "    x_test : array\n",
    "        Test set observations\n",
    "    test_labels : array\n",
    "        Labels predicted for the test set\n",
    "        \n",
    "    Returns\n",
    "    -------\n",
    "    prediction_strength : float\n",
    "        Calculated prediction strength\n",
    "    '''\n",
    "    closest_cent = get_closest_centroid_optim_vectorized(x_test, train_centroids)\n",
    "    \n",
    "    co_membership = np.zeros((len(closest_cent), len(closest_cent)))\n",
    "    for i in range(1, len(closest_cent)):\n",
    "        diag = (closest_cent == np.roll(closest_cent, shift = i, axis = 0)).all(1)[i:]\n",
    "        co_membership[range(i,len(closest_cent)),range(len(diag))] = diag\n",
    "    co_membership = co_membership + co_membership.T - np.diag(np.diag(co_membership))\n",
    "    \n",
    "    # calculate the prediction strengths for each cluster\n",
    "    n_test = len(x_test)\n",
    "    ss = []\n",
    "    for j in range(k):\n",
    "        examples_j = x_test[test_labels == j, :].tolist()\n",
    "        n_examples_j = len(examples_j)\n",
    "        test_labels_co_mem = np.zeros((len(test_labels), len(test_labels)))\n",
    "        for i in range(len(test_labels)):\n",
    "            diag = (test_labels == np.roll(test_labels, shift = i)) & (test_labels == j)\n",
    "            diag = diag[i:]\n",
    "            test_labels_co_mem[range(i,len(test_labels)),range(len(diag))] = diag\n",
    "        test_labels_co_mem = test_labels_co_mem + test_labels_co_mem.T - np.diag(np.diag(test_labels_co_mem))\n",
    "        s = (co_membership * test_labels_co_mem).sum()\n",
    "        ss.append(s / (n_examples_j * (n_examples_j - 1))) \n",
    "\n",
    "    prediction_strength = min(ss)\n",
    "\n",
    "    return prediction_strength"
   ]
  },
  {
   "cell_type": "markdown",
   "metadata": {},
   "source": [
    "### Encode"
   ]
  },
  {
   "cell_type": "code",
   "execution_count": 6,
   "metadata": {
    "ExecuteTime": {
     "end_time": "2020-07-04T13:31:02.597172Z",
     "start_time": "2020-07-04T13:30:56.668894Z"
    }
   },
   "outputs": [],
   "source": [
    "encoding = Encoding(queries)\n",
    "data_2_encode = encoding.get_data()\n",
    "data_encoded = encoding.one_hot(data_2_encode)"
   ]
  },
  {
   "cell_type": "code",
   "execution_count": 41,
   "metadata": {
    "ExecuteTime": {
     "end_time": "2020-07-10T02:52:02.743177Z",
     "start_time": "2020-07-10T02:52:02.687025Z"
    }
   },
   "outputs": [
    {
     "data": {
      "text/html": [
       "<div>\n",
       "<style scoped>\n",
       "    .dataframe tbody tr th:only-of-type {\n",
       "        vertical-align: middle;\n",
       "    }\n",
       "\n",
       "    .dataframe tbody tr th {\n",
       "        vertical-align: top;\n",
       "    }\n",
       "\n",
       "    .dataframe thead th {\n",
       "        text-align: right;\n",
       "    }\n",
       "</style>\n",
       "<table border=\"1\" class=\"dataframe\">\n",
       "  <thead>\n",
       "    <tr style=\"text-align: right;\">\n",
       "      <th></th>\n",
       "      <th>internoen</th>\n",
       "      <th>genero</th>\n",
       "      <th>nacionalidad</th>\n",
       "      <th>estado_civil</th>\n",
       "      <th>nivel_educativo</th>\n",
       "      <th>reconocimiento_etnico</th>\n",
       "      <th>diversidad_sexual</th>\n",
       "      <th>extranjero</th>\n",
       "      <th>estado_ingreso</th>\n",
       "      <th>fecha_ingreso</th>\n",
       "      <th>establecimiento</th>\n",
       "      <th>fecha_salida</th>\n",
       "      <th>edad</th>\n",
       "      <th>actividades_estudio</th>\n",
       "      <th>actividades_trabajo</th>\n",
       "      <th>actividades_enseñanza</th>\n",
       "      <th>hijos_menores</th>\n",
       "      <th>condicion_excepcional</th>\n",
       "      <th>estado_id_estado</th>\n",
       "      <th>madre_gestante</th>\n",
       "      <th>madre_lactante</th>\n",
       "      <th>discapacidad</th>\n",
       "      <th>adulto_mayor</th>\n",
       "      <th>delito_CONCIERTO PARA DELINQUIR</th>\n",
       "      <th>delito_EXTORSION</th>\n",
       "      <th>delito_FABRICACION  TRAFICO Y PORTE DE ARMAS Y MUNICIONES DE USO PRIVATIVO DE LAS FUERZAS ARMADAS</th>\n",
       "      <th>delito_FABRICACION TRAFICO Y PORTE DE ARMAS DE FUEGO O MUNICIONES</th>\n",
       "      <th>delito_FABRICACIÓN, TRÁFICO, PORTE O TENENCIA DE ARMAS DE FUEGO, ACCESORIOS, PARTES O MUNICIONES</th>\n",
       "      <th>delito_HOMICIDIO</th>\n",
       "      <th>delito_HURTO</th>\n",
       "      <th>delito_LESIONES PERSONALES</th>\n",
       "      <th>delito_OTRO</th>\n",
       "      <th>delito_TRAFICO FABRICACION O PORTE DE ESTUPEFACIENTES</th>\n",
       "      <th>delito_VIOLENCIA INTRAFAMILIAR</th>\n",
       "      <th>tentativa_1</th>\n",
       "      <th>tentativa_2</th>\n",
       "      <th>agravado_1</th>\n",
       "      <th>agravado_2</th>\n",
       "      <th>calificado_1</th>\n",
       "      <th>calificado_2</th>\n",
       "    </tr>\n",
       "  </thead>\n",
       "  <tbody>\n",
       "    <tr>\n",
       "      <th>0</th>\n",
       "      <td>FD8EB8482F09C3F5FD085E4CAD29122368A5937B</td>\n",
       "      <td>2</td>\n",
       "      <td>22</td>\n",
       "      <td>3</td>\n",
       "      <td>2</td>\n",
       "      <td>5</td>\n",
       "      <td>1</td>\n",
       "      <td>1</td>\n",
       "      <td>4</td>\n",
       "      <td>2010-01-02</td>\n",
       "      <td>46</td>\n",
       "      <td>2011-07-01</td>\n",
       "      <td>35</td>\n",
       "      <td>2</td>\n",
       "      <td>1</td>\n",
       "      <td>1</td>\n",
       "      <td>2</td>\n",
       "      <td>NINGUNO</td>\n",
       "      <td>2</td>\n",
       "      <td>3</td>\n",
       "      <td>3</td>\n",
       "      <td>1</td>\n",
       "      <td>1</td>\n",
       "      <td>0</td>\n",
       "      <td>0</td>\n",
       "      <td>0</td>\n",
       "      <td>0</td>\n",
       "      <td>0</td>\n",
       "      <td>0</td>\n",
       "      <td>1</td>\n",
       "      <td>0</td>\n",
       "      <td>0</td>\n",
       "      <td>0</td>\n",
       "      <td>0</td>\n",
       "      <td>1</td>\n",
       "      <td>0</td>\n",
       "      <td>0</td>\n",
       "      <td>1</td>\n",
       "      <td>0</td>\n",
       "      <td>1</td>\n",
       "    </tr>\n",
       "    <tr>\n",
       "      <th>1</th>\n",
       "      <td>7624E0648E28D778D1EE4581998B00C3ABC061DA</td>\n",
       "      <td>2</td>\n",
       "      <td>22</td>\n",
       "      <td>3</td>\n",
       "      <td>4</td>\n",
       "      <td>1</td>\n",
       "      <td>1</td>\n",
       "      <td>1</td>\n",
       "      <td>4</td>\n",
       "      <td>2010-01-02</td>\n",
       "      <td>113</td>\n",
       "      <td>2012-03-13</td>\n",
       "      <td>32</td>\n",
       "      <td>2</td>\n",
       "      <td>2</td>\n",
       "      <td>1</td>\n",
       "      <td>1</td>\n",
       "      <td>AFRO COLOMBIANO</td>\n",
       "      <td>2</td>\n",
       "      <td>3</td>\n",
       "      <td>3</td>\n",
       "      <td>1</td>\n",
       "      <td>1</td>\n",
       "      <td>0</td>\n",
       "      <td>0</td>\n",
       "      <td>0</td>\n",
       "      <td>0</td>\n",
       "      <td>0</td>\n",
       "      <td>0</td>\n",
       "      <td>0</td>\n",
       "      <td>0</td>\n",
       "      <td>1</td>\n",
       "      <td>0</td>\n",
       "      <td>0</td>\n",
       "      <td>1</td>\n",
       "      <td>0</td>\n",
       "      <td>1</td>\n",
       "      <td>0</td>\n",
       "      <td>1</td>\n",
       "      <td>0</td>\n",
       "    </tr>\n",
       "    <tr>\n",
       "      <th>2</th>\n",
       "      <td>2660D0E0F43523200EF105604266F18D6CA396E5</td>\n",
       "      <td>2</td>\n",
       "      <td>22</td>\n",
       "      <td>3</td>\n",
       "      <td>3</td>\n",
       "      <td>5</td>\n",
       "      <td>1</td>\n",
       "      <td>1</td>\n",
       "      <td>4</td>\n",
       "      <td>2010-01-03</td>\n",
       "      <td>98</td>\n",
       "      <td>2013-04-01</td>\n",
       "      <td>46</td>\n",
       "      <td>2</td>\n",
       "      <td>2</td>\n",
       "      <td>1</td>\n",
       "      <td>2</td>\n",
       "      <td>NINGUNO</td>\n",
       "      <td>2</td>\n",
       "      <td>3</td>\n",
       "      <td>3</td>\n",
       "      <td>1</td>\n",
       "      <td>1</td>\n",
       "      <td>0</td>\n",
       "      <td>0</td>\n",
       "      <td>0</td>\n",
       "      <td>0</td>\n",
       "      <td>0</td>\n",
       "      <td>0</td>\n",
       "      <td>0</td>\n",
       "      <td>0</td>\n",
       "      <td>0</td>\n",
       "      <td>1</td>\n",
       "      <td>0</td>\n",
       "      <td>1</td>\n",
       "      <td>0</td>\n",
       "      <td>1</td>\n",
       "      <td>0</td>\n",
       "      <td>1</td>\n",
       "      <td>0</td>\n",
       "    </tr>\n",
       "    <tr>\n",
       "      <th>3</th>\n",
       "      <td>00CD632E133B134F4CD3659080F8E5E7C1C7330A</td>\n",
       "      <td>2</td>\n",
       "      <td>22</td>\n",
       "      <td>3</td>\n",
       "      <td>3</td>\n",
       "      <td>5</td>\n",
       "      <td>1</td>\n",
       "      <td>1</td>\n",
       "      <td>4</td>\n",
       "      <td>2010-01-04</td>\n",
       "      <td>80</td>\n",
       "      <td>2010-01-29</td>\n",
       "      <td>50</td>\n",
       "      <td>1</td>\n",
       "      <td>1</td>\n",
       "      <td>1</td>\n",
       "      <td>2</td>\n",
       "      <td>NINGUNO</td>\n",
       "      <td>2</td>\n",
       "      <td>3</td>\n",
       "      <td>3</td>\n",
       "      <td>1</td>\n",
       "      <td>1</td>\n",
       "      <td>0</td>\n",
       "      <td>0</td>\n",
       "      <td>0</td>\n",
       "      <td>0</td>\n",
       "      <td>0</td>\n",
       "      <td>0</td>\n",
       "      <td>0</td>\n",
       "      <td>0</td>\n",
       "      <td>0</td>\n",
       "      <td>0</td>\n",
       "      <td>1</td>\n",
       "      <td>1</td>\n",
       "      <td>0</td>\n",
       "      <td>1</td>\n",
       "      <td>0</td>\n",
       "      <td>1</td>\n",
       "      <td>0</td>\n",
       "    </tr>\n",
       "    <tr>\n",
       "      <th>4</th>\n",
       "      <td>7790E7531D616FDA7825C9CBB5502DD82DF35EB5</td>\n",
       "      <td>2</td>\n",
       "      <td>22</td>\n",
       "      <td>1</td>\n",
       "      <td>5</td>\n",
       "      <td>5</td>\n",
       "      <td>1</td>\n",
       "      <td>1</td>\n",
       "      <td>2</td>\n",
       "      <td>2010-01-05</td>\n",
       "      <td>146</td>\n",
       "      <td>2013-10-04</td>\n",
       "      <td>31</td>\n",
       "      <td>2</td>\n",
       "      <td>2</td>\n",
       "      <td>1</td>\n",
       "      <td>2</td>\n",
       "      <td>NINGUNO</td>\n",
       "      <td>2</td>\n",
       "      <td>3</td>\n",
       "      <td>3</td>\n",
       "      <td>1</td>\n",
       "      <td>1</td>\n",
       "      <td>0</td>\n",
       "      <td>0</td>\n",
       "      <td>0</td>\n",
       "      <td>0</td>\n",
       "      <td>0</td>\n",
       "      <td>0</td>\n",
       "      <td>1</td>\n",
       "      <td>0</td>\n",
       "      <td>0</td>\n",
       "      <td>0</td>\n",
       "      <td>0</td>\n",
       "      <td>1</td>\n",
       "      <td>0</td>\n",
       "      <td>0</td>\n",
       "      <td>1</td>\n",
       "      <td>0</td>\n",
       "      <td>1</td>\n",
       "    </tr>\n",
       "    <tr>\n",
       "      <th>...</th>\n",
       "      <td>...</td>\n",
       "      <td>...</td>\n",
       "      <td>...</td>\n",
       "      <td>...</td>\n",
       "      <td>...</td>\n",
       "      <td>...</td>\n",
       "      <td>...</td>\n",
       "      <td>...</td>\n",
       "      <td>...</td>\n",
       "      <td>...</td>\n",
       "      <td>...</td>\n",
       "      <td>...</td>\n",
       "      <td>...</td>\n",
       "      <td>...</td>\n",
       "      <td>...</td>\n",
       "      <td>...</td>\n",
       "      <td>...</td>\n",
       "      <td>...</td>\n",
       "      <td>...</td>\n",
       "      <td>...</td>\n",
       "      <td>...</td>\n",
       "      <td>...</td>\n",
       "      <td>...</td>\n",
       "      <td>...</td>\n",
       "      <td>...</td>\n",
       "      <td>...</td>\n",
       "      <td>...</td>\n",
       "      <td>...</td>\n",
       "      <td>...</td>\n",
       "      <td>...</td>\n",
       "      <td>...</td>\n",
       "      <td>...</td>\n",
       "      <td>...</td>\n",
       "      <td>...</td>\n",
       "      <td>...</td>\n",
       "      <td>...</td>\n",
       "      <td>...</td>\n",
       "      <td>...</td>\n",
       "      <td>...</td>\n",
       "      <td>...</td>\n",
       "    </tr>\n",
       "    <tr>\n",
       "      <th>103285</th>\n",
       "      <td>C476DC9C78CBC61BC5A3D27699595E916D90E3E2</td>\n",
       "      <td>2</td>\n",
       "      <td>22</td>\n",
       "      <td>6</td>\n",
       "      <td>2</td>\n",
       "      <td>5</td>\n",
       "      <td>1</td>\n",
       "      <td>1</td>\n",
       "      <td>5</td>\n",
       "      <td>2020-06-05</td>\n",
       "      <td>123</td>\n",
       "      <td>None</td>\n",
       "      <td>35</td>\n",
       "      <td>1</td>\n",
       "      <td>1</td>\n",
       "      <td>1</td>\n",
       "      <td>2</td>\n",
       "      <td>NINGUNO</td>\n",
       "      <td>1</td>\n",
       "      <td>3</td>\n",
       "      <td>3</td>\n",
       "      <td>1</td>\n",
       "      <td>1</td>\n",
       "      <td>0</td>\n",
       "      <td>0</td>\n",
       "      <td>0</td>\n",
       "      <td>0</td>\n",
       "      <td>0</td>\n",
       "      <td>0</td>\n",
       "      <td>0</td>\n",
       "      <td>0</td>\n",
       "      <td>0</td>\n",
       "      <td>1</td>\n",
       "      <td>0</td>\n",
       "      <td>1</td>\n",
       "      <td>0</td>\n",
       "      <td>1</td>\n",
       "      <td>0</td>\n",
       "      <td>1</td>\n",
       "      <td>0</td>\n",
       "    </tr>\n",
       "    <tr>\n",
       "      <th>103286</th>\n",
       "      <td>AEB9E4C6773CBBE7C8424A52AB686E9F14101E73</td>\n",
       "      <td>2</td>\n",
       "      <td>22</td>\n",
       "      <td>7</td>\n",
       "      <td>10</td>\n",
       "      <td>5</td>\n",
       "      <td>1</td>\n",
       "      <td>1</td>\n",
       "      <td>4</td>\n",
       "      <td>2020-06-07</td>\n",
       "      <td>14</td>\n",
       "      <td>None</td>\n",
       "      <td>35</td>\n",
       "      <td>1</td>\n",
       "      <td>1</td>\n",
       "      <td>1</td>\n",
       "      <td>2</td>\n",
       "      <td>NINGUNO</td>\n",
       "      <td>1</td>\n",
       "      <td>3</td>\n",
       "      <td>3</td>\n",
       "      <td>1</td>\n",
       "      <td>1</td>\n",
       "      <td>0</td>\n",
       "      <td>0</td>\n",
       "      <td>0</td>\n",
       "      <td>0</td>\n",
       "      <td>0</td>\n",
       "      <td>0</td>\n",
       "      <td>0</td>\n",
       "      <td>0</td>\n",
       "      <td>1</td>\n",
       "      <td>0</td>\n",
       "      <td>0</td>\n",
       "      <td>1</td>\n",
       "      <td>0</td>\n",
       "      <td>1</td>\n",
       "      <td>0</td>\n",
       "      <td>1</td>\n",
       "      <td>0</td>\n",
       "    </tr>\n",
       "    <tr>\n",
       "      <th>103287</th>\n",
       "      <td>92FBC965E9DE8CE7CD6AF95F4C460AF9A788CF59</td>\n",
       "      <td>2</td>\n",
       "      <td>22</td>\n",
       "      <td>6</td>\n",
       "      <td>4</td>\n",
       "      <td>5</td>\n",
       "      <td>1</td>\n",
       "      <td>1</td>\n",
       "      <td>4</td>\n",
       "      <td>2020-06-07</td>\n",
       "      <td>14</td>\n",
       "      <td>None</td>\n",
       "      <td>21</td>\n",
       "      <td>1</td>\n",
       "      <td>1</td>\n",
       "      <td>1</td>\n",
       "      <td>2</td>\n",
       "      <td>NINGUNO</td>\n",
       "      <td>1</td>\n",
       "      <td>3</td>\n",
       "      <td>3</td>\n",
       "      <td>1</td>\n",
       "      <td>1</td>\n",
       "      <td>0</td>\n",
       "      <td>0</td>\n",
       "      <td>0</td>\n",
       "      <td>0</td>\n",
       "      <td>0</td>\n",
       "      <td>0</td>\n",
       "      <td>1</td>\n",
       "      <td>0</td>\n",
       "      <td>0</td>\n",
       "      <td>0</td>\n",
       "      <td>0</td>\n",
       "      <td>1</td>\n",
       "      <td>0</td>\n",
       "      <td>0</td>\n",
       "      <td>1</td>\n",
       "      <td>0</td>\n",
       "      <td>1</td>\n",
       "    </tr>\n",
       "    <tr>\n",
       "      <th>103288</th>\n",
       "      <td>BE6DD3C2939188AAFE3CD16E971D7F6C2BCEBC73</td>\n",
       "      <td>2</td>\n",
       "      <td>22</td>\n",
       "      <td>7</td>\n",
       "      <td>2</td>\n",
       "      <td>5</td>\n",
       "      <td>1</td>\n",
       "      <td>1</td>\n",
       "      <td>5</td>\n",
       "      <td>2020-06-08</td>\n",
       "      <td>46</td>\n",
       "      <td>None</td>\n",
       "      <td>42</td>\n",
       "      <td>1</td>\n",
       "      <td>1</td>\n",
       "      <td>1</td>\n",
       "      <td>2</td>\n",
       "      <td>NINGUNO</td>\n",
       "      <td>1</td>\n",
       "      <td>3</td>\n",
       "      <td>3</td>\n",
       "      <td>1</td>\n",
       "      <td>1</td>\n",
       "      <td>0</td>\n",
       "      <td>0</td>\n",
       "      <td>0</td>\n",
       "      <td>0</td>\n",
       "      <td>0</td>\n",
       "      <td>1</td>\n",
       "      <td>1</td>\n",
       "      <td>0</td>\n",
       "      <td>0</td>\n",
       "      <td>0</td>\n",
       "      <td>0</td>\n",
       "      <td>1</td>\n",
       "      <td>0</td>\n",
       "      <td>1</td>\n",
       "      <td>1</td>\n",
       "      <td>1</td>\n",
       "      <td>1</td>\n",
       "    </tr>\n",
       "    <tr>\n",
       "      <th>103289</th>\n",
       "      <td>1A4F3BABA5D10E8E62C3381AB18C5082B66D6BAD</td>\n",
       "      <td>2</td>\n",
       "      <td>22</td>\n",
       "      <td>6</td>\n",
       "      <td>3</td>\n",
       "      <td>5</td>\n",
       "      <td>1</td>\n",
       "      <td>1</td>\n",
       "      <td>5</td>\n",
       "      <td>2020-06-08</td>\n",
       "      <td>104</td>\n",
       "      <td>None</td>\n",
       "      <td>40</td>\n",
       "      <td>1</td>\n",
       "      <td>1</td>\n",
       "      <td>1</td>\n",
       "      <td>2</td>\n",
       "      <td>NINGUNO</td>\n",
       "      <td>1</td>\n",
       "      <td>3</td>\n",
       "      <td>3</td>\n",
       "      <td>1</td>\n",
       "      <td>1</td>\n",
       "      <td>0</td>\n",
       "      <td>0</td>\n",
       "      <td>0</td>\n",
       "      <td>0</td>\n",
       "      <td>0</td>\n",
       "      <td>1</td>\n",
       "      <td>0</td>\n",
       "      <td>0</td>\n",
       "      <td>0</td>\n",
       "      <td>0</td>\n",
       "      <td>0</td>\n",
       "      <td>1</td>\n",
       "      <td>0</td>\n",
       "      <td>1</td>\n",
       "      <td>0</td>\n",
       "      <td>1</td>\n",
       "      <td>0</td>\n",
       "    </tr>\n",
       "  </tbody>\n",
       "</table>\n",
       "<p>103290 rows × 40 columns</p>\n",
       "</div>"
      ],
      "text/plain": [
       "                                       internoen  genero  nacionalidad  \\\n",
       "0       FD8EB8482F09C3F5FD085E4CAD29122368A5937B       2            22   \n",
       "1       7624E0648E28D778D1EE4581998B00C3ABC061DA       2            22   \n",
       "2       2660D0E0F43523200EF105604266F18D6CA396E5       2            22   \n",
       "3       00CD632E133B134F4CD3659080F8E5E7C1C7330A       2            22   \n",
       "4       7790E7531D616FDA7825C9CBB5502DD82DF35EB5       2            22   \n",
       "...                                          ...     ...           ...   \n",
       "103285  C476DC9C78CBC61BC5A3D27699595E916D90E3E2       2            22   \n",
       "103286  AEB9E4C6773CBBE7C8424A52AB686E9F14101E73       2            22   \n",
       "103287  92FBC965E9DE8CE7CD6AF95F4C460AF9A788CF59       2            22   \n",
       "103288  BE6DD3C2939188AAFE3CD16E971D7F6C2BCEBC73       2            22   \n",
       "103289  1A4F3BABA5D10E8E62C3381AB18C5082B66D6BAD       2            22   \n",
       "\n",
       "        estado_civil  nivel_educativo  reconocimiento_etnico  \\\n",
       "0                  3                2                      5   \n",
       "1                  3                4                      1   \n",
       "2                  3                3                      5   \n",
       "3                  3                3                      5   \n",
       "4                  1                5                      5   \n",
       "...              ...              ...                    ...   \n",
       "103285             6                2                      5   \n",
       "103286             7               10                      5   \n",
       "103287             6                4                      5   \n",
       "103288             7                2                      5   \n",
       "103289             6                3                      5   \n",
       "\n",
       "        diversidad_sexual  extranjero  estado_ingreso fecha_ingreso  \\\n",
       "0                       1           1               4    2010-01-02   \n",
       "1                       1           1               4    2010-01-02   \n",
       "2                       1           1               4    2010-01-03   \n",
       "3                       1           1               4    2010-01-04   \n",
       "4                       1           1               2    2010-01-05   \n",
       "...                   ...         ...             ...           ...   \n",
       "103285                  1           1               5    2020-06-05   \n",
       "103286                  1           1               4    2020-06-07   \n",
       "103287                  1           1               4    2020-06-07   \n",
       "103288                  1           1               5    2020-06-08   \n",
       "103289                  1           1               5    2020-06-08   \n",
       "\n",
       "        establecimiento fecha_salida  edad  actividades_estudio  \\\n",
       "0                    46   2011-07-01    35                    2   \n",
       "1                   113   2012-03-13    32                    2   \n",
       "2                    98   2013-04-01    46                    2   \n",
       "3                    80   2010-01-29    50                    1   \n",
       "4                   146   2013-10-04    31                    2   \n",
       "...                 ...          ...   ...                  ...   \n",
       "103285              123         None    35                    1   \n",
       "103286               14         None    35                    1   \n",
       "103287               14         None    21                    1   \n",
       "103288               46         None    42                    1   \n",
       "103289              104         None    40                    1   \n",
       "\n",
       "        actividades_trabajo  actividades_enseñanza  hijos_menores  \\\n",
       "0                         1                      1              2   \n",
       "1                         2                      1              1   \n",
       "2                         2                      1              2   \n",
       "3                         1                      1              2   \n",
       "4                         2                      1              2   \n",
       "...                     ...                    ...            ...   \n",
       "103285                    1                      1              2   \n",
       "103286                    1                      1              2   \n",
       "103287                    1                      1              2   \n",
       "103288                    1                      1              2   \n",
       "103289                    1                      1              2   \n",
       "\n",
       "       condicion_excepcional  estado_id_estado  madre_gestante  \\\n",
       "0                    NINGUNO                 2               3   \n",
       "1            AFRO COLOMBIANO                 2               3   \n",
       "2                    NINGUNO                 2               3   \n",
       "3                    NINGUNO                 2               3   \n",
       "4                    NINGUNO                 2               3   \n",
       "...                      ...               ...             ...   \n",
       "103285               NINGUNO                 1               3   \n",
       "103286               NINGUNO                 1               3   \n",
       "103287               NINGUNO                 1               3   \n",
       "103288               NINGUNO                 1               3   \n",
       "103289               NINGUNO                 1               3   \n",
       "\n",
       "        madre_lactante  discapacidad  adulto_mayor  \\\n",
       "0                    3             1             1   \n",
       "1                    3             1             1   \n",
       "2                    3             1             1   \n",
       "3                    3             1             1   \n",
       "4                    3             1             1   \n",
       "...                ...           ...           ...   \n",
       "103285               3             1             1   \n",
       "103286               3             1             1   \n",
       "103287               3             1             1   \n",
       "103288               3             1             1   \n",
       "103289               3             1             1   \n",
       "\n",
       "        delito_CONCIERTO PARA DELINQUIR  delito_EXTORSION  \\\n",
       "0                                     0                 0   \n",
       "1                                     0                 0   \n",
       "2                                     0                 0   \n",
       "3                                     0                 0   \n",
       "4                                     0                 0   \n",
       "...                                 ...               ...   \n",
       "103285                                0                 0   \n",
       "103286                                0                 0   \n",
       "103287                                0                 0   \n",
       "103288                                0                 0   \n",
       "103289                                0                 0   \n",
       "\n",
       "        delito_FABRICACION  TRAFICO Y PORTE DE ARMAS Y MUNICIONES DE USO PRIVATIVO DE LAS FUERZAS ARMADAS  \\\n",
       "0                                                       0                                                   \n",
       "1                                                       0                                                   \n",
       "2                                                       0                                                   \n",
       "3                                                       0                                                   \n",
       "4                                                       0                                                   \n",
       "...                                                   ...                                                   \n",
       "103285                                                  0                                                   \n",
       "103286                                                  0                                                   \n",
       "103287                                                  0                                                   \n",
       "103288                                                  0                                                   \n",
       "103289                                                  0                                                   \n",
       "\n",
       "        delito_FABRICACION TRAFICO Y PORTE DE ARMAS DE FUEGO O MUNICIONES  \\\n",
       "0                                                       0                   \n",
       "1                                                       0                   \n",
       "2                                                       0                   \n",
       "3                                                       0                   \n",
       "4                                                       0                   \n",
       "...                                                   ...                   \n",
       "103285                                                  0                   \n",
       "103286                                                  0                   \n",
       "103287                                                  0                   \n",
       "103288                                                  0                   \n",
       "103289                                                  0                   \n",
       "\n",
       "        delito_FABRICACIÓN, TRÁFICO, PORTE O TENENCIA DE ARMAS DE FUEGO, ACCESORIOS, PARTES O MUNICIONES  \\\n",
       "0                                                       0                                                  \n",
       "1                                                       0                                                  \n",
       "2                                                       0                                                  \n",
       "3                                                       0                                                  \n",
       "4                                                       0                                                  \n",
       "...                                                   ...                                                  \n",
       "103285                                                  0                                                  \n",
       "103286                                                  0                                                  \n",
       "103287                                                  0                                                  \n",
       "103288                                                  0                                                  \n",
       "103289                                                  0                                                  \n",
       "\n",
       "        delito_HOMICIDIO  delito_HURTO  delito_LESIONES PERSONALES  \\\n",
       "0                      0             1                           0   \n",
       "1                      0             0                           0   \n",
       "2                      0             0                           0   \n",
       "3                      0             0                           0   \n",
       "4                      0             1                           0   \n",
       "...                  ...           ...                         ...   \n",
       "103285                 0             0                           0   \n",
       "103286                 0             0                           0   \n",
       "103287                 0             1                           0   \n",
       "103288                 1             1                           0   \n",
       "103289                 1             0                           0   \n",
       "\n",
       "        delito_OTRO  delito_TRAFICO FABRICACION O PORTE DE ESTUPEFACIENTES  \\\n",
       "0                 0                                                  0       \n",
       "1                 1                                                  0       \n",
       "2                 0                                                  1       \n",
       "3                 0                                                  0       \n",
       "4                 0                                                  0       \n",
       "...             ...                                                ...       \n",
       "103285            0                                                  1       \n",
       "103286            1                                                  0       \n",
       "103287            0                                                  0       \n",
       "103288            0                                                  0       \n",
       "103289            0                                                  0       \n",
       "\n",
       "        delito_VIOLENCIA INTRAFAMILIAR  tentativa_1  tentativa_2  agravado_1  \\\n",
       "0                                    0            1            0           0   \n",
       "1                                    0            1            0           1   \n",
       "2                                    0            1            0           1   \n",
       "3                                    1            1            0           1   \n",
       "4                                    0            1            0           0   \n",
       "...                                ...          ...          ...         ...   \n",
       "103285                               0            1            0           1   \n",
       "103286                               0            1            0           1   \n",
       "103287                               0            1            0           0   \n",
       "103288                               0            1            0           1   \n",
       "103289                               0            1            0           1   \n",
       "\n",
       "        agravado_2  calificado_1  calificado_2  \n",
       "0                1             0             1  \n",
       "1                0             1             0  \n",
       "2                0             1             0  \n",
       "3                0             1             0  \n",
       "4                1             0             1  \n",
       "...            ...           ...           ...  \n",
       "103285           0             1             0  \n",
       "103286           0             1             0  \n",
       "103287           1             0             1  \n",
       "103288           1             1             1  \n",
       "103289           0             1             0  \n",
       "\n",
       "[103290 rows x 40 columns]"
      ]
     },
     "execution_count": 41,
     "metadata": {},
     "output_type": "execute_result"
    }
   ],
   "source": [
    "data_encoded"
   ]
  },
  {
   "cell_type": "markdown",
   "metadata": {},
   "source": [
    "#### Fixing dataset lasts issues"
   ]
  },
  {
   "cell_type": "markdown",
   "metadata": {},
   "source": [
    "Evaluando cantidad de columnas vacias aún"
   ]
  },
  {
   "cell_type": "code",
   "execution_count": 200,
   "metadata": {
    "ExecuteTime": {
     "end_time": "2020-07-10T15:38:49.421565Z",
     "start_time": "2020-07-10T15:38:48.465727Z"
    },
    "scrolled": true
   },
   "outputs": [
    {
     "data": {
      "text/html": [
       "<div>\n",
       "<style scoped>\n",
       "    .dataframe tbody tr th:only-of-type {\n",
       "        vertical-align: middle;\n",
       "    }\n",
       "\n",
       "    .dataframe tbody tr th {\n",
       "        vertical-align: top;\n",
       "    }\n",
       "\n",
       "    .dataframe thead th {\n",
       "        text-align: right;\n",
       "    }\n",
       "</style>\n",
       "<table border=\"1\" class=\"dataframe\">\n",
       "  <thead>\n",
       "    <tr style=\"text-align: right;\">\n",
       "      <th></th>\n",
       "      <th>counts</th>\n",
       "    </tr>\n",
       "  </thead>\n",
       "  <tbody>\n",
       "    <tr>\n",
       "      <th>fecha_salida</th>\n",
       "      <td>30304</td>\n",
       "    </tr>\n",
       "    <tr>\n",
       "      <th>internoen</th>\n",
       "      <td>0</td>\n",
       "    </tr>\n",
       "    <tr>\n",
       "      <th>discapacidad</th>\n",
       "      <td>0</td>\n",
       "    </tr>\n",
       "    <tr>\n",
       "      <th>delito_CONCIERTO PARA DELINQUIR</th>\n",
       "      <td>0</td>\n",
       "    </tr>\n",
       "    <tr>\n",
       "      <th>delito_EXTORSION</th>\n",
       "      <td>0</td>\n",
       "    </tr>\n",
       "    <tr>\n",
       "      <th>delito_FABRICACION  TRAFICO Y PORTE DE ARMAS Y MUNICIONES DE USO PRIVATIVO DE LAS FUERZAS ARMADAS</th>\n",
       "      <td>0</td>\n",
       "    </tr>\n",
       "    <tr>\n",
       "      <th>delito_FABRICACION TRAFICO Y PORTE DE ARMAS DE FUEGO O MUNICIONES</th>\n",
       "      <td>0</td>\n",
       "    </tr>\n",
       "    <tr>\n",
       "      <th>delito_FABRICACIÓN, TRÁFICO, PORTE O TENENCIA DE ARMAS DE FUEGO, ACCESORIOS, PARTES O MUNICIONES</th>\n",
       "      <td>0</td>\n",
       "    </tr>\n",
       "    <tr>\n",
       "      <th>delito_HOMICIDIO</th>\n",
       "      <td>0</td>\n",
       "    </tr>\n",
       "    <tr>\n",
       "      <th>delito_HURTO</th>\n",
       "      <td>0</td>\n",
       "    </tr>\n",
       "    <tr>\n",
       "      <th>delito_LESIONES PERSONALES</th>\n",
       "      <td>0</td>\n",
       "    </tr>\n",
       "    <tr>\n",
       "      <th>delito_OTRO</th>\n",
       "      <td>0</td>\n",
       "    </tr>\n",
       "    <tr>\n",
       "      <th>delito_TRAFICO FABRICACION O PORTE DE ESTUPEFACIENTES</th>\n",
       "      <td>0</td>\n",
       "    </tr>\n",
       "    <tr>\n",
       "      <th>delito_VIOLENCIA INTRAFAMILIAR</th>\n",
       "      <td>0</td>\n",
       "    </tr>\n",
       "    <tr>\n",
       "      <th>tentativa_1</th>\n",
       "      <td>0</td>\n",
       "    </tr>\n",
       "    <tr>\n",
       "      <th>tentativa_2</th>\n",
       "      <td>0</td>\n",
       "    </tr>\n",
       "    <tr>\n",
       "      <th>agravado_1</th>\n",
       "      <td>0</td>\n",
       "    </tr>\n",
       "    <tr>\n",
       "      <th>agravado_2</th>\n",
       "      <td>0</td>\n",
       "    </tr>\n",
       "    <tr>\n",
       "      <th>calificado_1</th>\n",
       "      <td>0</td>\n",
       "    </tr>\n",
       "    <tr>\n",
       "      <th>adulto_mayor</th>\n",
       "      <td>0</td>\n",
       "    </tr>\n",
       "    <tr>\n",
       "      <th>madre_lactante</th>\n",
       "      <td>0</td>\n",
       "    </tr>\n",
       "    <tr>\n",
       "      <th>genero</th>\n",
       "      <td>0</td>\n",
       "    </tr>\n",
       "    <tr>\n",
       "      <th>fecha_ingreso</th>\n",
       "      <td>0</td>\n",
       "    </tr>\n",
       "    <tr>\n",
       "      <th>nacionalidad</th>\n",
       "      <td>0</td>\n",
       "    </tr>\n",
       "    <tr>\n",
       "      <th>estado_civil</th>\n",
       "      <td>0</td>\n",
       "    </tr>\n",
       "    <tr>\n",
       "      <th>nivel_educativo</th>\n",
       "      <td>0</td>\n",
       "    </tr>\n",
       "    <tr>\n",
       "      <th>reconocimiento_etnico</th>\n",
       "      <td>0</td>\n",
       "    </tr>\n",
       "    <tr>\n",
       "      <th>diversidad_sexual</th>\n",
       "      <td>0</td>\n",
       "    </tr>\n",
       "    <tr>\n",
       "      <th>extranjero</th>\n",
       "      <td>0</td>\n",
       "    </tr>\n",
       "    <tr>\n",
       "      <th>estado_ingreso</th>\n",
       "      <td>0</td>\n",
       "    </tr>\n",
       "    <tr>\n",
       "      <th>establecimiento</th>\n",
       "      <td>0</td>\n",
       "    </tr>\n",
       "    <tr>\n",
       "      <th>madre_gestante</th>\n",
       "      <td>0</td>\n",
       "    </tr>\n",
       "    <tr>\n",
       "      <th>edad</th>\n",
       "      <td>0</td>\n",
       "    </tr>\n",
       "    <tr>\n",
       "      <th>actividades_estudio</th>\n",
       "      <td>0</td>\n",
       "    </tr>\n",
       "    <tr>\n",
       "      <th>actividades_trabajo</th>\n",
       "      <td>0</td>\n",
       "    </tr>\n",
       "    <tr>\n",
       "      <th>actividades_enseñanza</th>\n",
       "      <td>0</td>\n",
       "    </tr>\n",
       "    <tr>\n",
       "      <th>hijos_menores</th>\n",
       "      <td>0</td>\n",
       "    </tr>\n",
       "    <tr>\n",
       "      <th>condicion_excepcional</th>\n",
       "      <td>0</td>\n",
       "    </tr>\n",
       "    <tr>\n",
       "      <th>estado_id_estado</th>\n",
       "      <td>0</td>\n",
       "    </tr>\n",
       "    <tr>\n",
       "      <th>calificado_2</th>\n",
       "      <td>0</td>\n",
       "    </tr>\n",
       "  </tbody>\n",
       "</table>\n",
       "</div>"
      ],
      "text/plain": [
       "                                                    counts\n",
       "fecha_salida                                         30304\n",
       "internoen                                                0\n",
       "discapacidad                                             0\n",
       "delito_CONCIERTO PARA DELINQUIR                          0\n",
       "delito_EXTORSION                                         0\n",
       "delito_FABRICACION  TRAFICO Y PORTE DE ARMAS Y ...       0\n",
       "delito_FABRICACION TRAFICO Y PORTE DE ARMAS DE ...       0\n",
       "delito_FABRICACIÓN, TRÁFICO, PORTE O TENENCIA D...       0\n",
       "delito_HOMICIDIO                                         0\n",
       "delito_HURTO                                             0\n",
       "delito_LESIONES PERSONALES                               0\n",
       "delito_OTRO                                              0\n",
       "delito_TRAFICO FABRICACION O PORTE DE ESTUPEFAC...       0\n",
       "delito_VIOLENCIA INTRAFAMILIAR                           0\n",
       "tentativa_1                                              0\n",
       "tentativa_2                                              0\n",
       "agravado_1                                               0\n",
       "agravado_2                                               0\n",
       "calificado_1                                             0\n",
       "adulto_mayor                                             0\n",
       "madre_lactante                                           0\n",
       "genero                                                   0\n",
       "fecha_ingreso                                            0\n",
       "nacionalidad                                             0\n",
       "estado_civil                                             0\n",
       "nivel_educativo                                          0\n",
       "reconocimiento_etnico                                    0\n",
       "diversidad_sexual                                        0\n",
       "extranjero                                               0\n",
       "estado_ingreso                                           0\n",
       "establecimiento                                          0\n",
       "madre_gestante                                           0\n",
       "edad                                                     0\n",
       "actividades_estudio                                      0\n",
       "actividades_trabajo                                      0\n",
       "actividades_enseñanza                                    0\n",
       "hijos_menores                                            0\n",
       "condicion_excepcional                                    0\n",
       "estado_id_estado                                         0\n",
       "calificado_2                                             0"
      ]
     },
     "execution_count": 200,
     "metadata": {},
     "output_type": "execute_result"
    }
   ],
   "source": [
    "data_encoded.isnull().sum().to_frame().rename(columns={0:'counts'}).sort_values(by='counts', ascending = False)"
   ]
  },
  {
   "cell_type": "markdown",
   "metadata": {},
   "source": [
    "Evaluando qué columnas colo tienen un valor, pues de deben eliminar para el modelin"
   ]
  },
  {
   "cell_type": "code",
   "execution_count": 201,
   "metadata": {
    "ExecuteTime": {
     "end_time": "2020-07-10T15:39:08.402101Z",
     "start_time": "2020-07-10T15:39:07.864400Z"
    }
   },
   "outputs": [
    {
     "data": {
      "text/plain": [
       "calificado_2                                                                                             2\n",
       "delito_EXTORSION                                                                                         2\n",
       "delito_CONCIERTO PARA DELINQUIR                                                                          2\n",
       "adulto_mayor                                                                                             2\n",
       "discapacidad                                                                                             2\n",
       "delito_FABRICACIÓN, TRÁFICO, PORTE O TENENCIA DE ARMAS DE FUEGO, ACCESORIOS, PARTES O MUNICIONES         2\n",
       "calificado_1                                                                                             2\n",
       "estado_id_estado                                                                                         2\n",
       "delito_HOMICIDIO                                                                                         2\n",
       "hijos_menores                                                                                            2\n",
       "actividades_enseñanza                                                                                    2\n",
       "actividades_trabajo                                                                                      2\n",
       "delito_FABRICACION  TRAFICO Y PORTE DE ARMAS Y MUNICIONES DE USO PRIVATIVO DE LAS FUERZAS ARMADAS        2\n",
       "actividades_estudio                                                                                      2\n",
       "delito_LESIONES PERSONALES                                                                               2\n",
       "delito_OTRO                                                                                              2\n",
       "delito_TRAFICO FABRICACION O PORTE DE ESTUPEFACIENTES                                                    2\n",
       "delito_VIOLENCIA INTRAFAMILIAR                                                                           2\n",
       "extranjero                                                                                               2\n",
       "diversidad_sexual                                                                                        2\n",
       "tentativa_1                                                                                              2\n",
       "tentativa_2                                                                                              2\n",
       "agravado_1                                                                                               2\n",
       "agravado_2                                                                                               2\n",
       "genero                                                                                                   2\n",
       "delito_HURTO                                                                                             2\n",
       "delito_FABRICACION TRAFICO Y PORTE DE ARMAS DE FUEGO O MUNICIONES                                        2\n",
       "madre_gestante                                                                                           3\n",
       "madre_lactante                                                                                           3\n",
       "reconocimiento_etnico                                                                                    5\n",
       "estado_ingreso                                                                                           6\n",
       "estado_civil                                                                                             8\n",
       "nivel_educativo                                                                                         12\n",
       "nacionalidad                                                                                            25\n",
       "condicion_excepcional                                                                                   53\n",
       "edad                                                                                                    76\n",
       "establecimiento                                                                                        160\n",
       "fecha_salida                                                                                          3648\n",
       "fecha_ingreso                                                                                         3785\n",
       "internoen                                                                                            78841\n",
       "dtype: int64"
      ]
     },
     "execution_count": 201,
     "metadata": {},
     "output_type": "execute_result"
    }
   ],
   "source": [
    "data_encoded.nunique().sort_values()"
   ]
  },
  {
   "cell_type": "markdown",
   "metadata": {},
   "source": [
    "Eliminando columnas de fechas por ahora, id de inmate y columnas con menos de 2 variables únicas"
   ]
  },
  {
   "cell_type": "code",
   "execution_count": 202,
   "metadata": {
    "ExecuteTime": {
     "end_time": "2020-07-10T15:39:17.281732Z",
     "start_time": "2020-07-10T15:39:17.245681Z"
    }
   },
   "outputs": [],
   "source": [
    "data = data_encoded.drop(columns = ['internoen',\n",
    "                                    'fecha_ingreso',\n",
    "                                    'fecha_salida'])"
   ]
  },
  {
   "cell_type": "markdown",
   "metadata": {},
   "source": [
    "Creando función para llevar a cabo un encoding nuevo, dado que aún hay variables no numéricas en los datos"
   ]
  },
  {
   "cell_type": "code",
   "execution_count": 204,
   "metadata": {
    "ExecuteTime": {
     "end_time": "2020-07-10T15:41:08.547489Z",
     "start_time": "2020-07-10T15:41:01.765144Z"
    }
   },
   "outputs": [
    {
     "data": {
      "text/plain": [
       "array([[ 1, 21,  2, ...,  1,  0,  1],\n",
       "       [ 1, 21,  2, ...,  0,  1,  0],\n",
       "       [ 1, 21,  2, ...,  0,  1,  0],\n",
       "       ...,\n",
       "       [ 1, 21,  5, ...,  1,  0,  1],\n",
       "       [ 1, 21,  6, ...,  1,  1,  1],\n",
       "       [ 1, 21,  5, ...,  0,  1,  0]])"
      ]
     },
     "execution_count": 204,
     "metadata": {},
     "output_type": "execute_result"
    }
   ],
   "source": [
    "data_enc, encoders = encode_transform(data)\n",
    "data_enc"
   ]
  },
  {
   "cell_type": "markdown",
   "metadata": {},
   "source": [
    "### Unsupervised Learning with Kmeans"
   ]
  },
  {
   "cell_type": "markdown",
   "metadata": {},
   "source": [
    "#### Elbow Plot (Within sum of squares distance)"
   ]
  },
  {
   "cell_type": "code",
   "execution_count": 13,
   "metadata": {
    "ExecuteTime": {
     "end_time": "2020-07-10T02:17:51.086956Z",
     "start_time": "2020-07-10T02:15:06.839453Z"
    }
   },
   "outputs": [
    {
     "data": {
      "image/png": "[encoded data removed]",
      "text/plain": [
       "<Figure size 576x396 with 1 Axes>"
      ]
     },
     "metadata": {},
     "output_type": "display_data"
    }
   ],
   "source": [
    "# setting the range of k\n",
    "clusters = range(1, 20)\n",
    "\n",
    "# running the clustering \n",
    "wss_list = []\n",
    "\n",
    "for k in clusters:\n",
    "    model = KMeans(n_clusters=k, random_state=42)\n",
    "    model.fit(data_enc)\n",
    "    wss_list.append(model.inertia_)\n",
    "\n",
    "# plotting\n",
    "_, ax = plt.subplots()\n",
    "ax.plot(clusters, wss_list, '-o', color='black')\n",
    "ax.set(title='Elbow plot', \n",
    "       xlabel='number of clusters', \n",
    "       ylabel='WSS');"
   ]
  },
  {
   "cell_type": "markdown",
   "metadata": {},
   "source": [
    "#### Prediction Strength"
   ]
  },
  {
   "cell_type": "markdown",
   "metadata": {},
   "source": [
    "##### Data split"
   ]
  },
  {
   "cell_type": "code",
   "execution_count": 14,
   "metadata": {
    "ExecuteTime": {
     "end_time": "2020-07-10T02:20:50.805621Z",
     "start_time": "2020-07-10T02:20:50.770533Z"
    }
   },
   "outputs": [],
   "source": [
    "# train/test split\n",
    "X_train, X_test = train_test_split(data_enc, \n",
    "                                   test_size=0.1, \n",
    "                                   shuffle=True, \n",
    "                                   random_state=42)"
   ]
  },
  {
   "cell_type": "markdown",
   "metadata": {},
   "source": [
    "##### Running Optimized Implementation"
   ]
  },
  {
   "cell_type": "code",
   "execution_count": 20,
   "metadata": {
    "ExecuteTime": {
     "end_time": "2020-07-10T02:42:49.921628Z",
     "start_time": "2020-07-10T02:21:35.857930Z"
    }
   },
   "outputs": [],
   "source": [
    "# running the clustering \n",
    "strengths = []\n",
    "clusters = range(2, 10)\n",
    "for k in clusters:\n",
    "    model_train = KMeans(n_clusters=k, random_state=42).fit(X_train)\n",
    "    model_test = KMeans(n_clusters=k, random_state=42).fit(X_test)\n",
    "    \n",
    "    pred_str = get_prediction_strength_optim(k, model_train.cluster_centers_, X_test, model_test.labels_)\n",
    "    strengths.append(pred_str)"
   ]
  },
  {
   "cell_type": "code",
   "execution_count": null,
   "metadata": {},
   "outputs": [],
   "source": [
    "# plotting\n",
    "### With 5% split for the testing data\n",
    "_, ax = plt.subplots()\n",
    "ax.plot(clusters, strengths, '-o', color='black')\n",
    "ax.axhline(y=0.8, c='red');\n",
    "ax.set(title='Determining the optimal number of clusters', \n",
    "       xlabel='number of clusters', \n",
    "       ylabel='prediction strength');"
   ]
  },
  {
   "cell_type": "code",
   "execution_count": 21,
   "metadata": {
    "ExecuteTime": {
     "end_time": "2020-07-10T02:42:50.080476Z",
     "start_time": "2020-07-10T02:42:49.924196Z"
    },
    "code_folding": []
   },
   "outputs": [
    {
     "data": {
      "image/png": "[encoded data removed]",
      "text/plain": [
       "<Figure size 576x396 with 1 Axes>"
      ]
     },
     "metadata": {},
     "output_type": "display_data"
    }
   ],
   "source": [
    "# plotting\n",
    "### With 10% split for the testing data\n",
    "_, ax = plt.subplots()\n",
    "ax.plot(clusters, strengths, '-o', color='black')\n",
    "ax.axhline(y=0.8, c='red');\n",
    "ax.set(title='Determining the optimal number of clusters', \n",
    "       xlabel='number of clusters', \n",
    "       ylabel='prediction strength');"
   ]
  },
  {
   "cell_type": "markdown",
   "metadata": {},
   "source": [
    "#### Fowlkes Mallows Score"
   ]
  },
  {
   "cell_type": "code",
   "execution_count": null,
   "metadata": {},
   "outputs": [],
   "source": [
    "# setting the range of k\n",
    "clusters = range(2, 20)\n",
    "k_fowlkes_mallows = []\n",
    "for k in clusters:\n",
    "    model = KMeans(n_clusters = k, n_init = 100, random_state = 0)\n",
    "    model.fit(data_enc)\n",
    "    \n",
    "    cluster = model.predict(data_enc)\n",
    "    score   = fowlkes_mallows_score(data_enc, cluster)\n",
    "    \n",
    "    k_fowlkes_mallows.append(round(score,2))"
   ]
  },
  {
   "cell_type": "code",
   "execution_count": null,
   "metadata": {
    "code_folding": []
   },
   "outputs": [],
   "source": [
    "# plotting\n",
    "_, ax = plt.subplots()\n",
    "ax.plot(clusters, k_fowlkes_mallows, '-o', color='black')\n",
    "ax.set(title='Calinski Harabaz Score over k clusters', \n",
    "       xlabel='number of clusters', \n",
    "       ylabel='Calinski Harabaz Score');"
   ]
  },
  {
   "cell_type": "markdown",
   "metadata": {},
   "source": [
    "#### Calinski Harabaz Score"
   ]
  },
  {
   "cell_type": "code",
   "execution_count": 22,
   "metadata": {
    "ExecuteTime": {
     "end_time": "2020-07-10T02:46:24.556838Z",
     "start_time": "2020-07-10T02:43:54.096517Z"
    },
    "scrolled": true
   },
   "outputs": [],
   "source": [
    "# setting the range of k\n",
    "clusters = range(2, 20)\n",
    "k_calinski_harabasz = []\n",
    "for k in clusters:\n",
    "    model = KMeans(n_clusters = k, random_state=42)\n",
    "    model.fit(data_enc)\n",
    "    \n",
    "    cluster = model.predict(data_enc)\n",
    "    score   = calinski_harabasz_score(data_enc, cluster)\n",
    "    \n",
    "    k_calinski_harabasz.append(round(score,2))"
   ]
  },
  {
   "cell_type": "code",
   "execution_count": 23,
   "metadata": {
    "ExecuteTime": {
     "end_time": "2020-07-10T02:46:24.757763Z",
     "start_time": "2020-07-10T02:46:24.560130Z"
    }
   },
   "outputs": [
    {
     "data": {
      "image/png": "[encoded data removed]",
      "text/plain": [
       "<Figure size 576x396 with 1 Axes>"
      ]
     },
     "metadata": {},
     "output_type": "display_data"
    }
   ],
   "source": [
    "# plotting\n",
    "_, ax = plt.subplots()\n",
    "ax.plot(clusters, k_calinski_harabasz, '-o', color='black')\n",
    "ax.set(title='Calinski Harabaz Score over k clusters', \n",
    "       xlabel='number of clusters', \n",
    "       ylabel='Calinski Harabaz Score');"
   ]
  },
  {
   "cell_type": "markdown",
   "metadata": {},
   "source": [
    "#### Training Kmeans optimal Number of Clusters"
   ]
  },
  {
   "cell_type": "code",
   "execution_count": 159,
   "metadata": {
    "ExecuteTime": {
     "end_time": "2020-07-10T14:55:32.157539Z",
     "start_time": "2020-07-10T14:55:29.335686Z"
    }
   },
   "outputs": [],
   "source": [
    "final_kmeas = KMeans(n_clusters=4, random_state=42).fit(data_enc)\n",
    "cluster_labels = final_kmeas.predict(data_enc)"
   ]
  },
  {
   "cell_type": "markdown",
   "metadata": {},
   "source": [
    "#### Supervised Model to check feature importances"
   ]
  },
  {
   "cell_type": "markdown",
   "metadata": {},
   "source": [
    "##### Data Spliting"
   ]
  },
  {
   "cell_type": "code",
   "execution_count": 160,
   "metadata": {
    "ExecuteTime": {
     "end_time": "2020-07-10T14:55:35.270357Z",
     "start_time": "2020-07-10T14:55:35.239229Z"
    }
   },
   "outputs": [],
   "source": [
    "# train/test split\n",
    "X_train, X_test, Y_train, Y_test = train_test_split(data_enc, \n",
    "                                                    cluster_labels,\n",
    "                                                    test_size=0.3, \n",
    "                                                    shuffle=True, \n",
    "                                                    random_state=42)"
   ]
  },
  {
   "cell_type": "markdown",
   "metadata": {},
   "source": [
    "##### Training Model"
   ]
  },
  {
   "cell_type": "code",
   "execution_count": 161,
   "metadata": {
    "ExecuteTime": {
     "end_time": "2020-07-10T14:55:38.714063Z",
     "start_time": "2020-07-10T14:55:38.705512Z"
    }
   },
   "outputs": [
    {
     "data": {
      "text/plain": [
       "((103290, 37), (103290,))"
      ]
     },
     "execution_count": 161,
     "metadata": {},
     "output_type": "execute_result"
    }
   ],
   "source": [
    "data_enc.shape, cluster_labels.shape"
   ]
  },
  {
   "cell_type": "code",
   "execution_count": 162,
   "metadata": {
    "ExecuteTime": {
     "end_time": "2020-07-10T14:55:38.973282Z",
     "start_time": "2020-07-10T14:55:38.919609Z"
    }
   },
   "outputs": [
    {
     "data": {
      "text/html": [
       "<div>\n",
       "<style scoped>\n",
       "    .dataframe tbody tr th:only-of-type {\n",
       "        vertical-align: middle;\n",
       "    }\n",
       "\n",
       "    .dataframe tbody tr th {\n",
       "        vertical-align: top;\n",
       "    }\n",
       "\n",
       "    .dataframe thead th {\n",
       "        text-align: right;\n",
       "    }\n",
       "</style>\n",
       "<table border=\"1\" class=\"dataframe\">\n",
       "  <thead>\n",
       "    <tr style=\"text-align: right;\">\n",
       "      <th></th>\n",
       "      <th>Label</th>\n",
       "    </tr>\n",
       "  </thead>\n",
       "  <tbody>\n",
       "    <tr>\n",
       "      <th>0</th>\n",
       "      <td>33693</td>\n",
       "    </tr>\n",
       "    <tr>\n",
       "      <th>2</th>\n",
       "      <td>29677</td>\n",
       "    </tr>\n",
       "    <tr>\n",
       "      <th>3</th>\n",
       "      <td>23424</td>\n",
       "    </tr>\n",
       "    <tr>\n",
       "      <th>1</th>\n",
       "      <td>16496</td>\n",
       "    </tr>\n",
       "  </tbody>\n",
       "</table>\n",
       "</div>"
      ],
      "text/plain": [
       "   Label\n",
       "0  33693\n",
       "2  29677\n",
       "3  23424\n",
       "1  16496"
      ]
     },
     "execution_count": 162,
     "metadata": {},
     "output_type": "execute_result"
    }
   ],
   "source": [
    "pd.DataFrame(cluster_labels, columns = ['Label'])['Label'].value_counts().to_frame()"
   ]
  },
  {
   "cell_type": "markdown",
   "metadata": {},
   "source": [
    "##### Logistic Regression"
   ]
  },
  {
   "cell_type": "code",
   "execution_count": 163,
   "metadata": {
    "ExecuteTime": {
     "end_time": "2020-07-10T14:55:44.005139Z",
     "start_time": "2020-07-10T14:55:39.936013Z"
    }
   },
   "outputs": [],
   "source": [
    "clf_logistic = LogisticRegression(random_state=42,\n",
    "                         max_iter = 100, \n",
    "                         solver = 'sag',\n",
    "                         class_weight = 'balanced',\n",
    "                         tol = 1e-3,\n",
    "                         C = 0.01).fit(X_train, Y_train)"
   ]
  },
  {
   "cell_type": "markdown",
   "metadata": {},
   "source": [
    "###### Evaluating training results"
   ]
  },
  {
   "cell_type": "code",
   "execution_count": 164,
   "metadata": {
    "ExecuteTime": {
     "end_time": "2020-07-10T14:55:57.064739Z",
     "start_time": "2020-07-10T14:55:44.007896Z"
    }
   },
   "outputs": [
    {
     "name": "stdout",
     "output_type": "stream",
     "text": [
      "\n",
      "Accuracy:\n",
      "1.00\n",
      "              precision    recall  f1-score   support\n",
      "\n",
      "           0       1.00      1.00      1.00     23538\n",
      "           1       0.99      1.00      1.00     11613\n",
      "           2       1.00      1.00      1.00     20713\n",
      "           3       1.00      0.99      1.00     16439\n",
      "\n",
      "    accuracy                           1.00     72303\n",
      "   macro avg       1.00      1.00      1.00     72303\n",
      "weighted avg       1.00      1.00      1.00     72303\n",
      "\n"
     ]
    },
    {
     "data": {
      "image/png": "[encoded data removed]",
      "text/plain": [
       "<Figure size 403.2x403.2 with 1 Axes>"
      ]
     },
     "metadata": {},
     "output_type": "display_data"
    }
   ],
   "source": [
    "cr_train = classifier_results(prediction = pd.DataFrame(clf_logistic.predict(X_train))[0].astype(str).values, \n",
    "                               labels = pd.DataFrame(Y_train)[0].astype(str).values, \n",
    "                               classes = [str(cl) for cl in clf_logistic.classes_], \n",
    "                               show_plots = True)"
   ]
  },
  {
   "cell_type": "markdown",
   "metadata": {},
   "source": [
    "###### Evaluating testing results"
   ]
  },
  {
   "cell_type": "code",
   "execution_count": 165,
   "metadata": {
    "ExecuteTime": {
     "end_time": "2020-07-10T14:56:02.451482Z",
     "start_time": "2020-07-10T14:55:57.067038Z"
    }
   },
   "outputs": [
    {
     "name": "stdout",
     "output_type": "stream",
     "text": [
      "\n",
      "Accuracy:\n",
      "1.00\n",
      "              precision    recall  f1-score   support\n",
      "\n",
      "           0       1.00      1.00      1.00     10155\n",
      "           1       0.99      1.00      1.00      4883\n",
      "           2       1.00      1.00      1.00      8964\n",
      "           3       1.00      0.99      1.00      6985\n",
      "\n",
      "    accuracy                           1.00     30987\n",
      "   macro avg       1.00      1.00      1.00     30987\n",
      "weighted avg       1.00      1.00      1.00     30987\n",
      "\n"
     ]
    },
    {
     "data": {
      "image/png": "[encoded data removed]",
      "text/plain": [
       "<Figure size 403.2x403.2 with 1 Axes>"
      ]
     },
     "metadata": {},
     "output_type": "display_data"
    }
   ],
   "source": [
    "cr_test = classifier_results(prediction = pd.DataFrame(clf_logistic.predict(X_test))[0].astype(str).values, \n",
    "                           labels = pd.DataFrame(Y_test)[0].astype(str).values, \n",
    "                           classes = [str(cl) for cl in clf_logistic.classes_], \n",
    "                           show_plots = True)"
   ]
  },
  {
   "cell_type": "code",
   "execution_count": 193,
   "metadata": {
    "ExecuteTime": {
     "end_time": "2020-07-10T15:36:49.479514Z",
     "start_time": "2020-07-10T15:36:49.237230Z"
    }
   },
   "outputs": [
    {
     "data": {
      "image/png": "[encoded data removed]",
      "text/plain": [
       "<Figure size 576x576 with 1 Axes>"
      ]
     },
     "metadata": {},
     "output_type": "display_data"
    }
   ],
   "source": [
    "plot_roc(Y_test, clf_logistic.predict(X_test))"
   ]
  },
  {
   "cell_type": "markdown",
   "metadata": {},
   "source": [
    "###### Feature Importances"
   ]
  },
  {
   "cell_type": "code",
   "execution_count": 114,
   "metadata": {
    "ExecuteTime": {
     "end_time": "2020-07-10T03:46:40.466679Z",
     "start_time": "2020-07-10T03:46:40.439233Z"
    },
    "scrolled": true
   },
   "outputs": [
    {
     "data": {
      "text/html": [
       "<div>\n",
       "<style scoped>\n",
       "    .dataframe tbody tr th:only-of-type {\n",
       "        vertical-align: middle;\n",
       "    }\n",
       "\n",
       "    .dataframe tbody tr th {\n",
       "        vertical-align: top;\n",
       "    }\n",
       "\n",
       "    .dataframe thead th {\n",
       "        text-align: right;\n",
       "    }\n",
       "</style>\n",
       "<table border=\"1\" class=\"dataframe\">\n",
       "  <thead>\n",
       "    <tr style=\"text-align: right;\">\n",
       "      <th></th>\n",
       "      <th>feature</th>\n",
       "      <th>0</th>\n",
       "      <th>1</th>\n",
       "      <th>2</th>\n",
       "      <th>3</th>\n",
       "    </tr>\n",
       "  </thead>\n",
       "  <tbody>\n",
       "    <tr>\n",
       "      <th>0</th>\n",
       "      <td>genero</td>\n",
       "      <td>0.102897</td>\n",
       "      <td>-0.121861</td>\n",
       "      <td>0.074360</td>\n",
       "      <td>-0.055396</td>\n",
       "    </tr>\n",
       "    <tr>\n",
       "      <th>1</th>\n",
       "      <td>nacionalidad</td>\n",
       "      <td>2.489234</td>\n",
       "      <td>-3.081846</td>\n",
       "      <td>1.190948</td>\n",
       "      <td>-0.598336</td>\n",
       "    </tr>\n",
       "    <tr>\n",
       "      <th>2</th>\n",
       "      <td>estado_civil</td>\n",
       "      <td>0.119735</td>\n",
       "      <td>-0.129572</td>\n",
       "      <td>0.050569</td>\n",
       "      <td>-0.040733</td>\n",
       "    </tr>\n",
       "    <tr>\n",
       "      <th>3</th>\n",
       "      <td>nivel_educativo</td>\n",
       "      <td>0.075550</td>\n",
       "      <td>-0.083122</td>\n",
       "      <td>0.037719</td>\n",
       "      <td>-0.030147</td>\n",
       "    </tr>\n",
       "    <tr>\n",
       "      <th>4</th>\n",
       "      <td>reconocimiento_etnico</td>\n",
       "      <td>0.151103</td>\n",
       "      <td>0.051227</td>\n",
       "      <td>-0.065298</td>\n",
       "      <td>-0.137031</td>\n",
       "    </tr>\n",
       "    <tr>\n",
       "      <th>5</th>\n",
       "      <td>diversidad_sexual</td>\n",
       "      <td>0.007991</td>\n",
       "      <td>-0.001849</td>\n",
       "      <td>-0.007755</td>\n",
       "      <td>0.001613</td>\n",
       "    </tr>\n",
       "    <tr>\n",
       "      <th>6</th>\n",
       "      <td>extranjero</td>\n",
       "      <td>0.006776</td>\n",
       "      <td>-0.055000</td>\n",
       "      <td>0.016932</td>\n",
       "      <td>0.031291</td>\n",
       "    </tr>\n",
       "    <tr>\n",
       "      <th>7</th>\n",
       "      <td>estado_ingreso</td>\n",
       "      <td>0.241487</td>\n",
       "      <td>-0.261183</td>\n",
       "      <td>0.078972</td>\n",
       "      <td>-0.059277</td>\n",
       "    </tr>\n",
       "    <tr>\n",
       "      <th>8</th>\n",
       "      <td>establecimiento</td>\n",
       "      <td>-1.094450</td>\n",
       "      <td>0.846167</td>\n",
       "      <td>-0.133636</td>\n",
       "      <td>0.381919</td>\n",
       "    </tr>\n",
       "    <tr>\n",
       "      <th>9</th>\n",
       "      <td>edad</td>\n",
       "      <td>0.023314</td>\n",
       "      <td>-0.014689</td>\n",
       "      <td>0.004731</td>\n",
       "      <td>-0.013355</td>\n",
       "    </tr>\n",
       "    <tr>\n",
       "      <th>10</th>\n",
       "      <td>actividades_estudio</td>\n",
       "      <td>0.147713</td>\n",
       "      <td>-0.079291</td>\n",
       "      <td>-0.037040</td>\n",
       "      <td>-0.031382</td>\n",
       "    </tr>\n",
       "    <tr>\n",
       "      <th>11</th>\n",
       "      <td>actividades_trabajo</td>\n",
       "      <td>-0.035455</td>\n",
       "      <td>0.062331</td>\n",
       "      <td>-0.063543</td>\n",
       "      <td>0.036666</td>\n",
       "    </tr>\n",
       "    <tr>\n",
       "      <th>12</th>\n",
       "      <td>actividades_enseñanza</td>\n",
       "      <td>-0.005452</td>\n",
       "      <td>-0.017016</td>\n",
       "      <td>-0.006501</td>\n",
       "      <td>0.028969</td>\n",
       "    </tr>\n",
       "    <tr>\n",
       "      <th>13</th>\n",
       "      <td>hijos_menores</td>\n",
       "      <td>0.047165</td>\n",
       "      <td>-0.151776</td>\n",
       "      <td>0.028762</td>\n",
       "      <td>0.075850</td>\n",
       "    </tr>\n",
       "    <tr>\n",
       "      <th>14</th>\n",
       "      <td>condicion_excepcional</td>\n",
       "      <td>0.054614</td>\n",
       "      <td>-0.032309</td>\n",
       "      <td>-0.012037</td>\n",
       "      <td>-0.010268</td>\n",
       "    </tr>\n",
       "    <tr>\n",
       "      <th>15</th>\n",
       "      <td>estado_id_estado</td>\n",
       "      <td>0.112364</td>\n",
       "      <td>-0.137017</td>\n",
       "      <td>-0.011230</td>\n",
       "      <td>0.035883</td>\n",
       "    </tr>\n",
       "    <tr>\n",
       "      <th>16</th>\n",
       "      <td>madre_gestante</td>\n",
       "      <td>0.206625</td>\n",
       "      <td>-0.242637</td>\n",
       "      <td>0.147107</td>\n",
       "      <td>-0.111095</td>\n",
       "    </tr>\n",
       "    <tr>\n",
       "      <th>17</th>\n",
       "      <td>madre_lactante</td>\n",
       "      <td>0.205795</td>\n",
       "      <td>-0.243414</td>\n",
       "      <td>0.148693</td>\n",
       "      <td>-0.111073</td>\n",
       "    </tr>\n",
       "    <tr>\n",
       "      <th>18</th>\n",
       "      <td>discapacidad</td>\n",
       "      <td>0.036811</td>\n",
       "      <td>-0.015272</td>\n",
       "      <td>-0.013892</td>\n",
       "      <td>-0.007647</td>\n",
       "    </tr>\n",
       "    <tr>\n",
       "      <th>19</th>\n",
       "      <td>adulto_mayor</td>\n",
       "      <td>0.041165</td>\n",
       "      <td>-0.017383</td>\n",
       "      <td>0.009582</td>\n",
       "      <td>-0.033364</td>\n",
       "    </tr>\n",
       "    <tr>\n",
       "      <th>20</th>\n",
       "      <td>delito_CONCIERTO PARA DELINQUIR</td>\n",
       "      <td>0.041874</td>\n",
       "      <td>0.026603</td>\n",
       "      <td>0.012606</td>\n",
       "      <td>-0.081083</td>\n",
       "    </tr>\n",
       "    <tr>\n",
       "      <th>21</th>\n",
       "      <td>delito_EXTORSION</td>\n",
       "      <td>0.038673</td>\n",
       "      <td>-0.052530</td>\n",
       "      <td>0.012982</td>\n",
       "      <td>0.000875</td>\n",
       "    </tr>\n",
       "    <tr>\n",
       "      <th>22</th>\n",
       "      <td>delito_FABRICACION  TRAFICO Y PORTE DE ARMAS Y...</td>\n",
       "      <td>0.010045</td>\n",
       "      <td>0.002954</td>\n",
       "      <td>0.001850</td>\n",
       "      <td>-0.014849</td>\n",
       "    </tr>\n",
       "    <tr>\n",
       "      <th>23</th>\n",
       "      <td>delito_FABRICACION TRAFICO Y PORTE DE ARMAS DE...</td>\n",
       "      <td>0.036170</td>\n",
       "      <td>-0.022766</td>\n",
       "      <td>0.065002</td>\n",
       "      <td>-0.078407</td>\n",
       "    </tr>\n",
       "    <tr>\n",
       "      <th>24</th>\n",
       "      <td>delito_FABRICACIÓN, TRÁFICO, PORTE O TENENCIA ...</td>\n",
       "      <td>0.002122</td>\n",
       "      <td>-0.037257</td>\n",
       "      <td>0.028902</td>\n",
       "      <td>0.006234</td>\n",
       "    </tr>\n",
       "    <tr>\n",
       "      <th>25</th>\n",
       "      <td>delito_HOMICIDIO</td>\n",
       "      <td>0.002730</td>\n",
       "      <td>-0.015458</td>\n",
       "      <td>0.026349</td>\n",
       "      <td>-0.013621</td>\n",
       "    </tr>\n",
       "    <tr>\n",
       "      <th>26</th>\n",
       "      <td>delito_HURTO</td>\n",
       "      <td>-0.095997</td>\n",
       "      <td>-0.035823</td>\n",
       "      <td>0.089635</td>\n",
       "      <td>0.042185</td>\n",
       "    </tr>\n",
       "    <tr>\n",
       "      <th>27</th>\n",
       "      <td>delito_LESIONES PERSONALES</td>\n",
       "      <td>-0.014499</td>\n",
       "      <td>0.006034</td>\n",
       "      <td>0.013571</td>\n",
       "      <td>-0.005106</td>\n",
       "    </tr>\n",
       "    <tr>\n",
       "      <th>28</th>\n",
       "      <td>delito_OTRO</td>\n",
       "      <td>-0.008185</td>\n",
       "      <td>-0.037619</td>\n",
       "      <td>-0.045663</td>\n",
       "      <td>0.091467</td>\n",
       "    </tr>\n",
       "    <tr>\n",
       "      <th>29</th>\n",
       "      <td>delito_TRAFICO FABRICACION O PORTE DE ESTUPEFA...</td>\n",
       "      <td>0.133699</td>\n",
       "      <td>-0.020818</td>\n",
       "      <td>-0.053254</td>\n",
       "      <td>-0.059627</td>\n",
       "    </tr>\n",
       "    <tr>\n",
       "      <th>30</th>\n",
       "      <td>delito_VIOLENCIA INTRAFAMILIAR</td>\n",
       "      <td>0.014222</td>\n",
       "      <td>0.006079</td>\n",
       "      <td>0.001294</td>\n",
       "      <td>-0.021596</td>\n",
       "    </tr>\n",
       "    <tr>\n",
       "      <th>31</th>\n",
       "      <td>tentativa_1</td>\n",
       "      <td>0.146478</td>\n",
       "      <td>-0.145978</td>\n",
       "      <td>0.014943</td>\n",
       "      <td>-0.015442</td>\n",
       "    </tr>\n",
       "    <tr>\n",
       "      <th>32</th>\n",
       "      <td>tentativa_2</td>\n",
       "      <td>-0.027527</td>\n",
       "      <td>-0.067131</td>\n",
       "      <td>0.074119</td>\n",
       "      <td>0.020539</td>\n",
       "    </tr>\n",
       "    <tr>\n",
       "      <th>33</th>\n",
       "      <td>agravado_1</td>\n",
       "      <td>0.141318</td>\n",
       "      <td>-0.136119</td>\n",
       "      <td>0.017186</td>\n",
       "      <td>-0.022386</td>\n",
       "    </tr>\n",
       "    <tr>\n",
       "      <th>34</th>\n",
       "      <td>agravado_2</td>\n",
       "      <td>0.000135</td>\n",
       "      <td>-0.025938</td>\n",
       "      <td>0.041442</td>\n",
       "      <td>-0.015639</td>\n",
       "    </tr>\n",
       "    <tr>\n",
       "      <th>35</th>\n",
       "      <td>calificado_1</td>\n",
       "      <td>0.178402</td>\n",
       "      <td>-0.141346</td>\n",
       "      <td>0.047914</td>\n",
       "      <td>-0.084970</td>\n",
       "    </tr>\n",
       "    <tr>\n",
       "      <th>36</th>\n",
       "      <td>calificado_2</td>\n",
       "      <td>-0.081451</td>\n",
       "      <td>-0.034432</td>\n",
       "      <td>0.040480</td>\n",
       "      <td>0.075403</td>\n",
       "    </tr>\n",
       "  </tbody>\n",
       "</table>\n",
       "</div>"
      ],
      "text/plain": [
       "                                              feature         0         1  \\\n",
       "0                                              genero  0.102897 -0.121861   \n",
       "1                                        nacionalidad  2.489234 -3.081846   \n",
       "2                                        estado_civil  0.119735 -0.129572   \n",
       "3                                     nivel_educativo  0.075550 -0.083122   \n",
       "4                               reconocimiento_etnico  0.151103  0.051227   \n",
       "5                                   diversidad_sexual  0.007991 -0.001849   \n",
       "6                                          extranjero  0.006776 -0.055000   \n",
       "7                                      estado_ingreso  0.241487 -0.261183   \n",
       "8                                     establecimiento -1.094450  0.846167   \n",
       "9                                                edad  0.023314 -0.014689   \n",
       "10                                actividades_estudio  0.147713 -0.079291   \n",
       "11                                actividades_trabajo -0.035455  0.062331   \n",
       "12                              actividades_enseñanza -0.005452 -0.017016   \n",
       "13                                      hijos_menores  0.047165 -0.151776   \n",
       "14                              condicion_excepcional  0.054614 -0.032309   \n",
       "15                                   estado_id_estado  0.112364 -0.137017   \n",
       "16                                     madre_gestante  0.206625 -0.242637   \n",
       "17                                     madre_lactante  0.205795 -0.243414   \n",
       "18                                       discapacidad  0.036811 -0.015272   \n",
       "19                                       adulto_mayor  0.041165 -0.017383   \n",
       "20                    delito_CONCIERTO PARA DELINQUIR  0.041874  0.026603   \n",
       "21                                   delito_EXTORSION  0.038673 -0.052530   \n",
       "22  delito_FABRICACION  TRAFICO Y PORTE DE ARMAS Y...  0.010045  0.002954   \n",
       "23  delito_FABRICACION TRAFICO Y PORTE DE ARMAS DE...  0.036170 -0.022766   \n",
       "24  delito_FABRICACIÓN, TRÁFICO, PORTE O TENENCIA ...  0.002122 -0.037257   \n",
       "25                                   delito_HOMICIDIO  0.002730 -0.015458   \n",
       "26                                       delito_HURTO -0.095997 -0.035823   \n",
       "27                         delito_LESIONES PERSONALES -0.014499  0.006034   \n",
       "28                                        delito_OTRO -0.008185 -0.037619   \n",
       "29  delito_TRAFICO FABRICACION O PORTE DE ESTUPEFA...  0.133699 -0.020818   \n",
       "30                     delito_VIOLENCIA INTRAFAMILIAR  0.014222  0.006079   \n",
       "31                                        tentativa_1  0.146478 -0.145978   \n",
       "32                                        tentativa_2 -0.027527 -0.067131   \n",
       "33                                         agravado_1  0.141318 -0.136119   \n",
       "34                                         agravado_2  0.000135 -0.025938   \n",
       "35                                       calificado_1  0.178402 -0.141346   \n",
       "36                                       calificado_2 -0.081451 -0.034432   \n",
       "\n",
       "           2         3  \n",
       "0   0.074360 -0.055396  \n",
       "1   1.190948 -0.598336  \n",
       "2   0.050569 -0.040733  \n",
       "3   0.037719 -0.030147  \n",
       "4  -0.065298 -0.137031  \n",
       "5  -0.007755  0.001613  \n",
       "6   0.016932  0.031291  \n",
       "7   0.078972 -0.059277  \n",
       "8  -0.133636  0.381919  \n",
       "9   0.004731 -0.013355  \n",
       "10 -0.037040 -0.031382  \n",
       "11 -0.063543  0.036666  \n",
       "12 -0.006501  0.028969  \n",
       "13  0.028762  0.075850  \n",
       "14 -0.012037 -0.010268  \n",
       "15 -0.011230  0.035883  \n",
       "16  0.147107 -0.111095  \n",
       "17  0.148693 -0.111073  \n",
       "18 -0.013892 -0.007647  \n",
       "19  0.009582 -0.033364  \n",
       "20  0.012606 -0.081083  \n",
       "21  0.012982  0.000875  \n",
       "22  0.001850 -0.014849  \n",
       "23  0.065002 -0.078407  \n",
       "24  0.028902  0.006234  \n",
       "25  0.026349 -0.013621  \n",
       "26  0.089635  0.042185  \n",
       "27  0.013571 -0.005106  \n",
       "28 -0.045663  0.091467  \n",
       "29 -0.053254 -0.059627  \n",
       "30  0.001294 -0.021596  \n",
       "31  0.014943 -0.015442  \n",
       "32  0.074119  0.020539  \n",
       "33  0.017186 -0.022386  \n",
       "34  0.041442 -0.015639  \n",
       "35  0.047914 -0.084970  \n",
       "36  0.040480  0.075403  "
      ]
     },
     "execution_count": 114,
     "metadata": {},
     "output_type": "execute_result"
    }
   ],
   "source": [
    "lg_coeffs = pd.DataFrame(clf_logistic.coef_, columns = data.columns) \\\n",
    "                        .T.reset_index().rename(columns = {'index':'feature'})\n",
    "lg_coeffs"
   ]
  },
  {
   "cell_type": "code",
   "execution_count": 115,
   "metadata": {
    "ExecuteTime": {
     "end_time": "2020-07-10T03:46:55.541826Z",
     "start_time": "2020-07-10T03:46:54.526507Z"
    }
   },
   "outputs": [
    {
     "data": {
      "image/png": "[encoded data removed]",
      "text/plain": [
       "<Figure size 576x396 with 1 Axes>"
      ]
     },
     "metadata": {},
     "output_type": "display_data"
    },
    {
     "data": {
      "image/png": "[encoded data removed]",
      "text/plain": [
       "<Figure size 576x396 with 1 Axes>"
      ]
     },
     "metadata": {},
     "output_type": "display_data"
    },
    {
     "data": {
      "image/png": "[encoded data removed]",
      "text/plain": [
       "<Figure size 576x396 with 1 Axes>"
      ]
     },
     "metadata": {},
     "output_type": "display_data"
    },
    {
     "data": {
      "image/png": "[encoded data removed]",
      "text/plain": [
       "<Figure size 576x396 with 1 Axes>"
      ]
     },
     "metadata": {},
     "output_type": "display_data"
    }
   ],
   "source": [
    "for i in range(4):\n",
    "    d_cluster = lg_coeffs.sort_values(by=i, ascending = False)\n",
    "    d_cluster = d_cluster[d_cluster[i] > 0]\n",
    "    plt.figure(i)\n",
    "    sns.barplot(x=i, y=\"feature\" , data=d_cluster)"
   ]
  },
  {
   "cell_type": "markdown",
   "metadata": {},
   "source": [
    "##### Random Forest Classifier"
   ]
  },
  {
   "cell_type": "code",
   "execution_count": 194,
   "metadata": {
    "ExecuteTime": {
     "end_time": "2020-07-10T15:37:25.094723Z",
     "start_time": "2020-07-10T15:37:18.832494Z"
    }
   },
   "outputs": [],
   "source": [
    "clf_randomf = RandomForestClassifier(random_state=42,\n",
    "                                     class_weight = 'balanced',\n",
    "                                     oob_score = True).fit(X_train, Y_train)"
   ]
  },
  {
   "cell_type": "markdown",
   "metadata": {},
   "source": [
    "###### Evaluating training results"
   ]
  },
  {
   "cell_type": "code",
   "execution_count": 195,
   "metadata": {
    "ExecuteTime": {
     "end_time": "2020-07-10T15:37:39.596289Z",
     "start_time": "2020-07-10T15:37:25.096417Z"
    }
   },
   "outputs": [
    {
     "name": "stdout",
     "output_type": "stream",
     "text": [
      "\n",
      "Accuracy:\n",
      "1.00\n",
      "              precision    recall  f1-score   support\n",
      "\n",
      "           0       1.00      1.00      1.00     23538\n",
      "           1       1.00      1.00      1.00     11613\n",
      "           2       1.00      1.00      1.00     20713\n",
      "           3       1.00      1.00      1.00     16439\n",
      "\n",
      "    accuracy                           1.00     72303\n",
      "   macro avg       1.00      1.00      1.00     72303\n",
      "weighted avg       1.00      1.00      1.00     72303\n",
      "\n"
     ]
    },
    {
     "data": {
      "image/png": "[encoded data removed]",
      "text/plain": [
       "<Figure size 403.2x403.2 with 1 Axes>"
      ]
     },
     "metadata": {},
     "output_type": "display_data"
    }
   ],
   "source": [
    "cr_train = classifier_results(prediction = pd.DataFrame(clf_randomf.predict(X_train))[0].astype(str).values, \n",
    "                               labels = pd.DataFrame(Y_train)[0].astype(str).values, \n",
    "                               classes = [str(cl) for cl in clf_randomf.classes_], \n",
    "                               show_plots = True)"
   ]
  },
  {
   "cell_type": "markdown",
   "metadata": {},
   "source": [
    "###### Evaluating testing results"
   ]
  },
  {
   "cell_type": "code",
   "execution_count": 196,
   "metadata": {
    "ExecuteTime": {
     "end_time": "2020-07-10T15:37:45.644693Z",
     "start_time": "2020-07-10T15:37:39.599097Z"
    }
   },
   "outputs": [
    {
     "name": "stdout",
     "output_type": "stream",
     "text": [
      "\n",
      "Accuracy:\n",
      "1.00\n",
      "              precision    recall  f1-score   support\n",
      "\n",
      "           0       1.00      1.00      1.00     10155\n",
      "           1       1.00      1.00      1.00      4883\n",
      "           2       1.00      1.00      1.00      8964\n",
      "           3       1.00      1.00      1.00      6985\n",
      "\n",
      "    accuracy                           1.00     30987\n",
      "   macro avg       1.00      1.00      1.00     30987\n",
      "weighted avg       1.00      1.00      1.00     30987\n",
      "\n"
     ]
    },
    {
     "data": {
      "image/png": "[encoded data removed]",
      "text/plain": [
       "<Figure size 403.2x403.2 with 1 Axes>"
      ]
     },
     "metadata": {},
     "output_type": "display_data"
    }
   ],
   "source": [
    "cr_test = classifier_results(prediction = pd.DataFrame(clf_randomf.predict(X_test))[0].astype(str).values, \n",
    "                           labels = pd.DataFrame(Y_test)[0].astype(str).values, \n",
    "                           classes = [str(cl) for cl in clf_randomf.classes_], \n",
    "                           show_plots = True)"
   ]
  },
  {
   "cell_type": "code",
   "execution_count": 197,
   "metadata": {
    "ExecuteTime": {
     "end_time": "2020-07-10T15:37:49.796038Z",
     "start_time": "2020-07-10T15:37:49.572924Z"
    }
   },
   "outputs": [
    {
     "data": {
      "image/png": "[encoded data removed]",
      "text/plain": [
       "<Figure size 576x576 with 1 Axes>"
      ]
     },
     "metadata": {},
     "output_type": "display_data"
    }
   ],
   "source": [
    "plot_roc(Y_test, clf_logistic.predict(X_test))"
   ]
  },
  {
   "cell_type": "markdown",
   "metadata": {},
   "source": [
    "###### Feature Importances"
   ]
  },
  {
   "cell_type": "code",
   "execution_count": 198,
   "metadata": {
    "ExecuteTime": {
     "end_time": "2020-07-10T15:37:56.787892Z",
     "start_time": "2020-07-10T15:37:55.882026Z"
    },
    "scrolled": true
   },
   "outputs": [
    {
     "data": {
      "text/html": [
       "<div>\n",
       "<style scoped>\n",
       "    .dataframe tbody tr th:only-of-type {\n",
       "        vertical-align: middle;\n",
       "    }\n",
       "\n",
       "    .dataframe tbody tr th {\n",
       "        vertical-align: top;\n",
       "    }\n",
       "\n",
       "    .dataframe thead th {\n",
       "        text-align: right;\n",
       "    }\n",
       "</style>\n",
       "<table border=\"1\" class=\"dataframe\">\n",
       "  <thead>\n",
       "    <tr style=\"text-align: right;\">\n",
       "      <th></th>\n",
       "      <th>feature</th>\n",
       "      <th>feature_importance</th>\n",
       "    </tr>\n",
       "  </thead>\n",
       "  <tbody>\n",
       "    <tr>\n",
       "      <th>8</th>\n",
       "      <td>establecimiento</td>\n",
       "      <td>0.863703</td>\n",
       "    </tr>\n",
       "    <tr>\n",
       "      <th>9</th>\n",
       "      <td>edad</td>\n",
       "      <td>0.026565</td>\n",
       "    </tr>\n",
       "    <tr>\n",
       "      <th>16</th>\n",
       "      <td>madre_gestante</td>\n",
       "      <td>0.012604</td>\n",
       "    </tr>\n",
       "    <tr>\n",
       "      <th>3</th>\n",
       "      <td>nivel_educativo</td>\n",
       "      <td>0.012488</td>\n",
       "    </tr>\n",
       "    <tr>\n",
       "      <th>0</th>\n",
       "      <td>genero</td>\n",
       "      <td>0.010739</td>\n",
       "    </tr>\n",
       "    <tr>\n",
       "      <th>7</th>\n",
       "      <td>estado_ingreso</td>\n",
       "      <td>0.009658</td>\n",
       "    </tr>\n",
       "    <tr>\n",
       "      <th>17</th>\n",
       "      <td>madre_lactante</td>\n",
       "      <td>0.007612</td>\n",
       "    </tr>\n",
       "    <tr>\n",
       "      <th>2</th>\n",
       "      <td>estado_civil</td>\n",
       "      <td>0.006272</td>\n",
       "    </tr>\n",
       "    <tr>\n",
       "      <th>10</th>\n",
       "      <td>actividades_estudio</td>\n",
       "      <td>0.003637</td>\n",
       "    </tr>\n",
       "    <tr>\n",
       "      <th>11</th>\n",
       "      <td>actividades_trabajo</td>\n",
       "      <td>0.003542</td>\n",
       "    </tr>\n",
       "    <tr>\n",
       "      <th>13</th>\n",
       "      <td>hijos_menores</td>\n",
       "      <td>0.003295</td>\n",
       "    </tr>\n",
       "    <tr>\n",
       "      <th>14</th>\n",
       "      <td>condicion_excepcional</td>\n",
       "      <td>0.003084</td>\n",
       "    </tr>\n",
       "    <tr>\n",
       "      <th>25</th>\n",
       "      <td>delito_HOMICIDIO</td>\n",
       "      <td>0.002976</td>\n",
       "    </tr>\n",
       "    <tr>\n",
       "      <th>15</th>\n",
       "      <td>estado_id_estado</td>\n",
       "      <td>0.002862</td>\n",
       "    </tr>\n",
       "    <tr>\n",
       "      <th>34</th>\n",
       "      <td>agravado_2</td>\n",
       "      <td>0.002652</td>\n",
       "    </tr>\n",
       "    <tr>\n",
       "      <th>28</th>\n",
       "      <td>delito_OTRO</td>\n",
       "      <td>0.002429</td>\n",
       "    </tr>\n",
       "    <tr>\n",
       "      <th>23</th>\n",
       "      <td>delito_FABRICACION TRAFICO Y PORTE DE ARMAS DE...</td>\n",
       "      <td>0.002142</td>\n",
       "    </tr>\n",
       "    <tr>\n",
       "      <th>20</th>\n",
       "      <td>delito_CONCIERTO PARA DELINQUIR</td>\n",
       "      <td>0.002128</td>\n",
       "    </tr>\n",
       "    <tr>\n",
       "      <th>26</th>\n",
       "      <td>delito_HURTO</td>\n",
       "      <td>0.002113</td>\n",
       "    </tr>\n",
       "    <tr>\n",
       "      <th>29</th>\n",
       "      <td>delito_TRAFICO FABRICACION O PORTE DE ESTUPEFA...</td>\n",
       "      <td>0.002070</td>\n",
       "    </tr>\n",
       "    <tr>\n",
       "      <th>4</th>\n",
       "      <td>reconocimiento_etnico</td>\n",
       "      <td>0.002069</td>\n",
       "    </tr>\n",
       "    <tr>\n",
       "      <th>33</th>\n",
       "      <td>agravado_1</td>\n",
       "      <td>0.001958</td>\n",
       "    </tr>\n",
       "    <tr>\n",
       "      <th>36</th>\n",
       "      <td>calificado_2</td>\n",
       "      <td>0.001806</td>\n",
       "    </tr>\n",
       "    <tr>\n",
       "      <th>32</th>\n",
       "      <td>tentativa_2</td>\n",
       "      <td>0.001755</td>\n",
       "    </tr>\n",
       "    <tr>\n",
       "      <th>35</th>\n",
       "      <td>calificado_1</td>\n",
       "      <td>0.001327</td>\n",
       "    </tr>\n",
       "    <tr>\n",
       "      <th>31</th>\n",
       "      <td>tentativa_1</td>\n",
       "      <td>0.001119</td>\n",
       "    </tr>\n",
       "    <tr>\n",
       "      <th>27</th>\n",
       "      <td>delito_LESIONES PERSONALES</td>\n",
       "      <td>0.001004</td>\n",
       "    </tr>\n",
       "    <tr>\n",
       "      <th>12</th>\n",
       "      <td>actividades_enseñanza</td>\n",
       "      <td>0.000954</td>\n",
       "    </tr>\n",
       "    <tr>\n",
       "      <th>21</th>\n",
       "      <td>delito_EXTORSION</td>\n",
       "      <td>0.000897</td>\n",
       "    </tr>\n",
       "    <tr>\n",
       "      <th>22</th>\n",
       "      <td>delito_FABRICACION  TRAFICO Y PORTE DE ARMAS Y...</td>\n",
       "      <td>0.000859</td>\n",
       "    </tr>\n",
       "    <tr>\n",
       "      <th>24</th>\n",
       "      <td>delito_FABRICACIÓN, TRÁFICO, PORTE O TENENCIA ...</td>\n",
       "      <td>0.000857</td>\n",
       "    </tr>\n",
       "    <tr>\n",
       "      <th>30</th>\n",
       "      <td>delito_VIOLENCIA INTRAFAMILIAR</td>\n",
       "      <td>0.000791</td>\n",
       "    </tr>\n",
       "    <tr>\n",
       "      <th>18</th>\n",
       "      <td>discapacidad</td>\n",
       "      <td>0.000729</td>\n",
       "    </tr>\n",
       "    <tr>\n",
       "      <th>5</th>\n",
       "      <td>diversidad_sexual</td>\n",
       "      <td>0.000567</td>\n",
       "    </tr>\n",
       "    <tr>\n",
       "      <th>19</th>\n",
       "      <td>adulto_mayor</td>\n",
       "      <td>0.000481</td>\n",
       "    </tr>\n",
       "    <tr>\n",
       "      <th>1</th>\n",
       "      <td>nacionalidad</td>\n",
       "      <td>0.000144</td>\n",
       "    </tr>\n",
       "    <tr>\n",
       "      <th>6</th>\n",
       "      <td>extranjero</td>\n",
       "      <td>0.000113</td>\n",
       "    </tr>\n",
       "  </tbody>\n",
       "</table>\n",
       "</div>"
      ],
      "text/plain": [
       "                                              feature  feature_importance\n",
       "8                                     establecimiento            0.863703\n",
       "9                                                edad            0.026565\n",
       "16                                     madre_gestante            0.012604\n",
       "3                                     nivel_educativo            0.012488\n",
       "0                                              genero            0.010739\n",
       "7                                      estado_ingreso            0.009658\n",
       "17                                     madre_lactante            0.007612\n",
       "2                                        estado_civil            0.006272\n",
       "10                                actividades_estudio            0.003637\n",
       "11                                actividades_trabajo            0.003542\n",
       "13                                      hijos_menores            0.003295\n",
       "14                              condicion_excepcional            0.003084\n",
       "25                                   delito_HOMICIDIO            0.002976\n",
       "15                                   estado_id_estado            0.002862\n",
       "34                                         agravado_2            0.002652\n",
       "28                                        delito_OTRO            0.002429\n",
       "23  delito_FABRICACION TRAFICO Y PORTE DE ARMAS DE...            0.002142\n",
       "20                    delito_CONCIERTO PARA DELINQUIR            0.002128\n",
       "26                                       delito_HURTO            0.002113\n",
       "29  delito_TRAFICO FABRICACION O PORTE DE ESTUPEFA...            0.002070\n",
       "4                               reconocimiento_etnico            0.002069\n",
       "33                                         agravado_1            0.001958\n",
       "36                                       calificado_2            0.001806\n",
       "32                                        tentativa_2            0.001755\n",
       "35                                       calificado_1            0.001327\n",
       "31                                        tentativa_1            0.001119\n",
       "27                         delito_LESIONES PERSONALES            0.001004\n",
       "12                              actividades_enseñanza            0.000954\n",
       "21                                   delito_EXTORSION            0.000897\n",
       "22  delito_FABRICACION  TRAFICO Y PORTE DE ARMAS Y...            0.000859\n",
       "24  delito_FABRICACIÓN, TRÁFICO, PORTE O TENENCIA ...            0.000857\n",
       "30                     delito_VIOLENCIA INTRAFAMILIAR            0.000791\n",
       "18                                       discapacidad            0.000729\n",
       "5                                   diversidad_sexual            0.000567\n",
       "19                                       adulto_mayor            0.000481\n",
       "1                                        nacionalidad            0.000144\n",
       "6                                          extranjero            0.000113"
      ]
     },
     "execution_count": 198,
     "metadata": {},
     "output_type": "execute_result"
    }
   ],
   "source": [
    "lg_coeffs = pd.DataFrame(clf.feature_importances_.reshape(1,-1), columns = data.columns) \\\n",
    "            .T.reset_index().rename(columns = {'index':'feature',\n",
    "                                                0: 'feature_importance'}).sort_values(by=['feature_importance'], \n",
    "                                                                                      ascending = False)\n",
    "lg_coeffs"
   ]
  },
  {
   "cell_type": "code",
   "execution_count": 199,
   "metadata": {
    "ExecuteTime": {
     "end_time": "2020-07-10T15:37:57.424419Z",
     "start_time": "2020-07-10T15:37:56.791654Z"
    }
   },
   "outputs": [
    {
     "data": {
      "text/plain": [
       "<matplotlib.axes._subplots.AxesSubplot at 0x7f9462e697d0>"
      ]
     },
     "execution_count": 199,
     "metadata": {},
     "output_type": "execute_result"
    },
    {
     "data": {
      "image/png": "[encoded data removed]",
      "text/plain": [
       "<Figure size 576x396 with 1 Axes>"
      ]
     },
     "metadata": {},
     "output_type": "display_data"
    }
   ],
   "source": [
    "sns.barplot(x='feature_importance', y=\"feature\", data=lg_coeffs)"
   ]
  },
  {
   "cell_type": "markdown",
   "metadata": {},
   "source": [
    "### Unsupervised Learning with GMM"
   ]
  },
  {
   "cell_type": "markdown",
   "metadata": {},
   "source": [
    "#### Elbow Plot (Within sum of squares distance)"
   ]
  },
  {
   "cell_type": "code",
   "execution_count": 128,
   "metadata": {
    "ExecuteTime": {
     "end_time": "2020-07-10T13:08:28.350802Z",
     "start_time": "2020-07-10T13:08:27.162448Z"
    }
   },
   "outputs": [],
   "source": [
    "gmm = GaussianMixture(n_components=5, covariance_type = 'diag', random_state=42)\n",
    "gmm.fit(data_enc)\n",
    "c_labels = gmm.predict(data_enc)"
   ]
  },
  {
   "cell_type": "code",
   "execution_count": 149,
   "metadata": {
    "ExecuteTime": {
     "end_time": "2020-07-10T13:30:12.363659Z",
     "start_time": "2020-07-10T13:30:12.227781Z"
    }
   },
   "outputs": [],
   "source": [
    "wss = 0\n",
    "for k in np.unique(c_labels):\n",
    "    c_idx = c_labels == k\n",
    "    d_ck = data_enc[c_idx]\n",
    "    center = gmm.means_[k]\n",
    "    wss += ((d_ck - center) ** 2).sum()"
   ]
  },
  {
   "cell_type": "code",
   "execution_count": null,
   "metadata": {},
   "outputs": [],
   "source": [
    "wss_list.append(model.means_.mean())"
   ]
  },
  {
   "cell_type": "code",
   "execution_count": 151,
   "metadata": {
    "ExecuteTime": {
     "end_time": "2020-07-10T13:34:48.825942Z",
     "start_time": "2020-07-10T13:34:30.242610Z"
    }
   },
   "outputs": [
    {
     "data": {
      "image/png": "[encoded data removed]",
      "text/plain": [
       "<Figure size 576x396 with 1 Axes>"
      ]
     },
     "metadata": {},
     "output_type": "display_data"
    }
   ],
   "source": [
    "# setting the range of k\n",
    "clusters = range(1, 15)\n",
    "\n",
    "# running the clustering \n",
    "wss_list = []\n",
    "\n",
    "for k in clusters:\n",
    "    gmm = GaussianMixture(n_components=5, covariance_type = 'diag', random_state=42)\n",
    "    gmm.fit(data_enc)\n",
    "    c_labels = gmm.predict(data_enc)\n",
    "    wss = 0\n",
    "    for k in np.unique(c_labels):\n",
    "        c_idx = c_labels == k\n",
    "        d_ck = data_enc[c_idx]\n",
    "        center = gmm.means_[k]\n",
    "        wss += ((d_ck - center) ** 2).sum()\n",
    "    wss_list.append(wss)\n",
    "\n",
    "# plotting\n",
    "_, ax = plt.subplots()\n",
    "ax.plot(clusters, wss_list, '-o', color='black')\n",
    "ax.set(title='Elbow plot', \n",
    "       xlabel='number of clusters', \n",
    "       ylabel='WSS');"
   ]
  },
  {
   "cell_type": "markdown",
   "metadata": {},
   "source": [
    "#### Prediction Strength"
   ]
  },
  {
   "cell_type": "markdown",
   "metadata": {},
   "source": [
    "##### Data split"
   ]
  },
  {
   "cell_type": "code",
   "execution_count": 153,
   "metadata": {
    "ExecuteTime": {
     "end_time": "2020-07-10T14:13:14.182720Z",
     "start_time": "2020-07-10T14:13:14.144832Z"
    }
   },
   "outputs": [],
   "source": [
    "# train/test split\n",
    "X_train, X_test = train_test_split(data_enc, \n",
    "                                   test_size=0.1, \n",
    "                                   shuffle=True, \n",
    "                                   random_state=42)"
   ]
  },
  {
   "cell_type": "markdown",
   "metadata": {},
   "source": [
    "##### Running Optimized Implementation"
   ]
  },
  {
   "cell_type": "code",
   "execution_count": 154,
   "metadata": {
    "ExecuteTime": {
     "end_time": "2020-07-10T14:37:47.287341Z",
     "start_time": "2020-07-10T14:13:18.125560Z"
    }
   },
   "outputs": [],
   "source": [
    "# running the clustering \n",
    "strengths = []\n",
    "clusters = range(2, 10)\n",
    "for k in clusters:\n",
    "    model_train = GaussianMixture(n_components=k, covariance_type = 'diag', random_state=42).fit(X_train)\n",
    "    model_test = GaussianMixture(n_components=k, covariance_type = 'diag', random_state=42).fit(X_test)\n",
    "    \n",
    "    pred_str = get_prediction_strength_optim(k, model_train.means_, X_test, model_test.predict(X_test))\n",
    "    strengths.append(pred_str)"
   ]
  },
  {
   "cell_type": "code",
   "execution_count": 155,
   "metadata": {
    "ExecuteTime": {
     "end_time": "2020-07-10T14:37:47.481740Z",
     "start_time": "2020-07-10T14:37:47.290696Z"
    }
   },
   "outputs": [
    {
     "data": {
      "image/png": "[encoded data removed]",
      "text/plain": [
       "<Figure size 576x396 with 1 Axes>"
      ]
     },
     "metadata": {},
     "output_type": "display_data"
    }
   ],
   "source": [
    "# plotting\n",
    "### With 10% split for the testing data\n",
    "_, ax = plt.subplots()\n",
    "ax.plot(clusters, strengths, '-o', color='black')\n",
    "ax.axhline(y=0.8, c='red');\n",
    "ax.set(title='Determining the optimal number of clusters', \n",
    "       xlabel='number of clusters', \n",
    "       ylabel='prediction strength');"
   ]
  },
  {
   "cell_type": "markdown",
   "metadata": {},
   "source": [
    "#### Calinski Harabaz Score"
   ]
  },
  {
   "cell_type": "code",
   "execution_count": 156,
   "metadata": {
    "ExecuteTime": {
     "end_time": "2020-07-10T14:41:40.235601Z",
     "start_time": "2020-07-10T14:40:40.650458Z"
    }
   },
   "outputs": [],
   "source": [
    "# setting the range of k\n",
    "clusters = range(2, 20)\n",
    "k_calinski_harabasz = []\n",
    "for k in clusters:\n",
    "    model = GaussianMixture(n_components=k, covariance_type = 'diag', random_state=42)\n",
    "    model.fit(data_enc)\n",
    "    \n",
    "    cluster = model.predict(data_enc)\n",
    "    score   = calinski_harabasz_score(data_enc, cluster)\n",
    "    \n",
    "    k_calinski_harabasz.append(round(score,2))"
   ]
  },
  {
   "cell_type": "code",
   "execution_count": 157,
   "metadata": {
    "ExecuteTime": {
     "end_time": "2020-07-10T14:41:40.411728Z",
     "start_time": "2020-07-10T14:41:40.238147Z"
    }
   },
   "outputs": [
    {
     "data": {
      "image/png": "[encoded data removed]",
      "text/plain": [
       "<Figure size 576x396 with 1 Axes>"
      ]
     },
     "metadata": {},
     "output_type": "display_data"
    }
   ],
   "source": [
    "# plotting\n",
    "_, ax = plt.subplots()\n",
    "ax.plot(clusters, k_calinski_harabasz, '-o', color='black')\n",
    "ax.set(title='Calinski Harabaz Score over k clusters', \n",
    "       xlabel='number of clusters', \n",
    "       ylabel='Calinski Harabaz Score');"
   ]
  },
  {
   "cell_type": "markdown",
   "metadata": {},
   "source": [
    "#### Training GMM optimal Number of Clusters"
   ]
  },
  {
   "cell_type": "code",
   "execution_count": null,
   "metadata": {},
   "outputs": [],
   "source": [
    "final_kmeas = KMeans(n_clusters=4, random_state=42).fit(data_enc)\n",
    "cluster_labels = final_kmeas.predict(data_enc)"
   ]
  },
  {
   "cell_type": "markdown",
   "metadata": {},
   "source": [
    "#### Supervised Model to check feature importances"
   ]
  },
  {
   "cell_type": "markdown",
   "metadata": {},
   "source": [
    "##### Data Spliting"
   ]
  },
  {
   "cell_type": "code",
   "execution_count": null,
   "metadata": {},
   "outputs": [],
   "source": [
    "# train/test split\n",
    "X_train, X_test, Y_train, Y_test = train_test_split(data_enc, \n",
    "                                                    cluster_labels,\n",
    "                                                    test_size=0.3, \n",
    "                                                    shuffle=True, \n",
    "                                                    random_state=42)"
   ]
  },
  {
   "cell_type": "markdown",
   "metadata": {},
   "source": [
    "##### Training Model"
   ]
  },
  {
   "cell_type": "code",
   "execution_count": null,
   "metadata": {},
   "outputs": [],
   "source": [
    "data_enc.shape, cluster_labels.shape\n",
    "\n",
    "pd.DataFrame(cluster_labels, columns = ['Label'])['Label'].value_counts().to_frame()"
   ]
  },
  {
   "cell_type": "markdown",
   "metadata": {
    "ExecuteTime": {
     "end_time": "2020-07-10T15:43:53.924142Z",
     "start_time": "2020-07-10T15:43:53.909870Z"
    }
   },
   "source": [
    "##### Logistic Regression"
   ]
  },
  {
   "cell_type": "code",
   "execution_count": null,
   "metadata": {},
   "outputs": [],
   "source": [
    "clf_logistic = LogisticRegression(random_state=42,\n",
    "                         max_iter = 100, \n",
    "                         solver = 'sag',\n",
    "                         class_weight = 'balanced',\n",
    "                         tol = 1e-3,\n",
    "                         C = 0.01).fit(X_train, Y_train)"
   ]
  },
  {
   "cell_type": "markdown",
   "metadata": {},
   "source": [
    "###### Evaluating training results"
   ]
  },
  {
   "cell_type": "code",
   "execution_count": null,
   "metadata": {},
   "outputs": [],
   "source": [
    "cr_train = classifier_results(prediction = pd.DataFrame(clf_logistic.predict(X_train))[0].astype(str).values, \n",
    "                               labels = pd.DataFrame(Y_train)[0].astype(str).values, \n",
    "                               classes = [str(cl) for cl in clf_logistic.classes_], \n",
    "                               show_plots = True)"
   ]
  },
  {
   "cell_type": "markdown",
   "metadata": {},
   "source": [
    "###### Evaluating testing results"
   ]
  },
  {
   "cell_type": "code",
   "execution_count": null,
   "metadata": {},
   "outputs": [],
   "source": [
    "cr_test = classifier_results(prediction = pd.DataFrame(clf_logistic.predict(X_test))[0].astype(str).values, \n",
    "                           labels = pd.DataFrame(Y_test)[0].astype(str).values, \n",
    "                           classes = [str(cl) for cl in clf_logistic.classes_], \n",
    "                           show_plots = True)"
   ]
  },
  {
   "cell_type": "markdown",
   "metadata": {},
   "source": [
    "###### Feature Importances"
   ]
  },
  {
   "cell_type": "code",
   "execution_count": null,
   "metadata": {},
   "outputs": [],
   "source": [
    "lg_coeffs = pd.DataFrame(clf_logistic.coef_, columns = data.columns) \\\n",
    "                        .T.reset_index().rename(columns = {'index':'feature'})\n",
    "lg_coeffs\n",
    "\n",
    "for i in range(4):\n",
    "    d_cluster = lg_coeffs.sort_values(by=i, ascending = False)\n",
    "    d_cluster = d_cluster[d_cluster[i] > 0]\n",
    "    plt.figure(i)\n",
    "    sns.barplot(x=i, y=\"feature\" , data=d_cluster)"
   ]
  },
  {
   "cell_type": "markdown",
   "metadata": {},
   "source": [
    "##### Random Forest Classifier"
   ]
  },
  {
   "cell_type": "code",
   "execution_count": null,
   "metadata": {},
   "outputs": [],
   "source": [
    "clf_randomf = RandomForestClassifier(random_state=42,\n",
    "                                     class_weight = 'balanced',\n",
    "                                     oob_score = True).fit(X_train, Y_train)"
   ]
  },
  {
   "cell_type": "markdown",
   "metadata": {},
   "source": [
    "###### Evaluating training results"
   ]
  },
  {
   "cell_type": "code",
   "execution_count": null,
   "metadata": {},
   "outputs": [],
   "source": [
    "cr_train = classifier_results(prediction = pd.DataFrame(clf_randomf.predict(X_train))[0].astype(str).values, \n",
    "                               labels = pd.DataFrame(Y_train)[0].astype(str).values, \n",
    "                               classes = [str(cl) for cl in clf_randomf.classes_], \n",
    "                               show_plots = True)"
   ]
  },
  {
   "cell_type": "markdown",
   "metadata": {},
   "source": [
    "###### Evaluating testing results"
   ]
  },
  {
   "cell_type": "code",
   "execution_count": null,
   "metadata": {},
   "outputs": [],
   "source": [
    "cr_test = classifier_results(prediction = pd.DataFrame(clf_randomf.predict(X_test))[0].astype(str).values, \n",
    "                           labels = pd.DataFrame(Y_test)[0].astype(str).values, \n",
    "                           classes = [str(cl) for cl in clf_randomf.classes_], \n",
    "                           show_plots = True)"
   ]
  },
  {
   "cell_type": "markdown",
   "metadata": {},
   "source": [
    "###### Feature Importances"
   ]
  },
  {
   "cell_type": "code",
   "execution_count": null,
   "metadata": {},
   "outputs": [],
   "source": [
    "lg_coeffs = pd.DataFrame(clf.feature_importances_.reshape(1,-1), columns = data.columns) \\\n",
    "            .T.reset_index().rename(columns = {'index':'feature',\n",
    "                                                0: 'feature_importance'}).sort_values(by=['feature_importance'], \n",
    "                                                                                      ascending = False)\n",
    "lg_coeffs"
   ]
  },
  {
   "cell_type": "code",
   "execution_count": null,
   "metadata": {},
   "outputs": [],
   "source": [
    "sns.barplot(x='feature_importance', y=\"feature\", data=lg_coeffs)"
   ]
  }
 ],
 "metadata": {
  "kernelspec": {
   "display_name": "Python 3",
   "language": "python",
   "name": "python3"
  },
  "language_info": {
   "codemirror_mode": {
    "name": "ipython",
    "version": 3
   },
   "file_extension": ".py",
   "mimetype": "text/x-python",
   "name": "python",
   "nbconvert_exporter": "python",
   "pygments_lexer": "ipython3",
   "version": "3.7.6"
  },
  "toc": {
   "base_numbering": 1,
   "nav_menu": {},
   "number_sections": true,
   "sideBar": true,
   "skip_h1_title": false,
   "title_cell": "Table of Contents",
   "title_sidebar": "Contents",
   "toc_cell": false,
   "toc_position": {
    "height": "calc(100% - 180px)",
    "left": "10px",
    "top": "150px",
    "width": "287px"
   },
   "toc_section_display": true,
   "toc_window_display": true
  }
 },
 "nbformat": 4,
 "nbformat_minor": 2
}
