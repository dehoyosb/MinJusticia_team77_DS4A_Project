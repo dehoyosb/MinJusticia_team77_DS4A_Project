{
 "cells": [
  {
   "cell_type": "code",
   "execution_count": 1,
   "metadata": {
    "ExecuteTime": {
     "end_time": "2020-07-04T13:30:49.351372Z",
     "start_time": "2020-07-04T13:30:47.107600Z"
    }
   },
   "outputs": [],
   "source": [
    "import pandas as pd\n",
    "import string\n",
    "import os\n",
    "import numpy as np\n",
    "from sqlalchemy import create_engine, text\n",
    "\n",
    "from utils import DbEngine, Queries\n",
    "from etl import ETL\n",
    "from encoder import Encoding"
   ]
  },
  {
   "cell_type": "code",
   "execution_count": 2,
   "metadata": {
    "ExecuteTime": {
     "end_time": "2020-07-04T13:30:49.722541Z",
     "start_time": "2020-07-04T13:30:49.357560Z"
    }
   },
   "outputs": [],
   "source": [
    "import numpy as np\n",
    "import sys\n",
    "\n",
    "from sklearn.datasets import make_blobs\n",
    "from sklearn.model_selection import train_test_split\n",
    "from sklearn.cluster import KMeans\n",
    "from sklearn.preprocessing import LabelEncoder\n",
    "from sklearn.metrics import calinski_harabasz_score, fowlkes_mallows_score\n",
    "\n",
    "from scipy.spatial import distance\n",
    "\n",
    "import matplotlib.pyplot as plt\n",
    "import seaborn as sns \n",
    "plt.style.use('seaborn')"
   ]
  },
  {
   "cell_type": "markdown",
   "metadata": {},
   "source": [
    "### Connect to DB"
   ]
  },
  {
   "cell_type": "code",
   "execution_count": 3,
   "metadata": {
    "ExecuteTime": {
     "end_time": "2020-07-04T13:30:51.816926Z",
     "start_time": "2020-07-04T13:30:51.727149Z"
    }
   },
   "outputs": [],
   "source": [
    "db_engine = DbEngine(user = 'team77', \n",
    "                     password = 'mintic2020.',\n",
    "                     ip = '172.17.0.3', \n",
    "                     port = '5432', \n",
    "                     db = 'minjusticia')\n",
    "engine = db_engine.connect()\n",
    "queries = Queries(engine)"
   ]
  },
  {
   "cell_type": "markdown",
   "metadata": {},
   "source": [
    "### Loading original data"
   ]
  },
  {
   "cell_type": "code",
   "execution_count": 3,
   "metadata": {
    "ExecuteTime": {
     "end_time": "2020-07-03T02:03:27.314732Z",
     "start_time": "2020-07-03T02:02:29.731126Z"
    }
   },
   "outputs": [],
   "source": [
    "data = pd.read_excel('../data/ReincidenciaPospenadosNal201011Junio2020Rev.xlsx', skiprows = 6)"
   ]
  },
  {
   "cell_type": "markdown",
   "metadata": {},
   "source": [
    "### Execute ETL"
   ]
  },
  {
   "cell_type": "code",
   "execution_count": 6,
   "metadata": {
    "ExecuteTime": {
     "end_time": "2020-07-03T02:06:09.026144Z",
     "start_time": "2020-07-03T02:04:37.894461Z"
    }
   },
   "outputs": [
    {
     "name": "stderr",
     "output_type": "stream",
     "text": [
      "/home/jovyan/work/MinJusticia_team77_DS4A_Project/app/etl.py:60: SettingWithCopyWarning: \n",
      "A value is trying to be set on a copy of a slice from a DataFrame.\n",
      "Try using .loc[row_indexer,col_indexer] = value instead\n",
      "\n",
      "See the caveats in the documentation: https://pandas.pydata.org/pandas-docs/stable/user_guide/indexing.html#returning-a-view-versus-a-copy\n",
      "  data_reg['CONDIC_EXPECIONAL'] = data_reg['CONDIC_EXPECIONAL'].fillna('NINGUNO')\n",
      "/home/jovyan/work/MinJusticia_team77_DS4A_Project/app/etl.py:63: SettingWithCopyWarning: \n",
      "A value is trying to be set on a copy of a slice from a DataFrame.\n",
      "Try using .loc[row_indexer,col_indexer] = value instead\n",
      "\n",
      "See the caveats in the documentation: https://pandas.pydata.org/pandas-docs/stable/user_guide/indexing.html#returning-a-view-versus-a-copy\n",
      "  data_reg['madre_gestante'] = 'NA'\n",
      "/opt/conda/lib/python3.7/site-packages/pandas/core/indexing.py:966: SettingWithCopyWarning: \n",
      "A value is trying to be set on a copy of a slice from a DataFrame.\n",
      "Try using .loc[row_indexer,col_indexer] = value instead\n",
      "\n",
      "See the caveats in the documentation: https://pandas.pydata.org/pandas-docs/stable/user_guide/indexing.html#returning-a-view-versus-a-copy\n",
      "  self.obj[item] = s\n",
      "/home/jovyan/work/MinJusticia_team77_DS4A_Project/app/etl.py:67: SettingWithCopyWarning: \n",
      "A value is trying to be set on a copy of a slice from a DataFrame.\n",
      "Try using .loc[row_indexer,col_indexer] = value instead\n",
      "\n",
      "See the caveats in the documentation: https://pandas.pydata.org/pandas-docs/stable/user_guide/indexing.html#returning-a-view-versus-a-copy\n",
      "  data_reg['madre_lactante'] = 'NA'\n",
      "/home/jovyan/work/MinJusticia_team77_DS4A_Project/app/etl.py:72: SettingWithCopyWarning: \n",
      "A value is trying to be set on a copy of a slice from a DataFrame.\n",
      "Try using .loc[row_indexer,col_indexer] = value instead\n",
      "\n",
      "See the caveats in the documentation: https://pandas.pydata.org/pandas-docs/stable/user_guide/indexing.html#returning-a-view-versus-a-copy\n",
      "  data_reg['discapacidad'] = 'N'\n",
      "/home/jovyan/work/MinJusticia_team77_DS4A_Project/app/etl.py:76: SettingWithCopyWarning: \n",
      "A value is trying to be set on a copy of a slice from a DataFrame.\n",
      "Try using .loc[row_indexer,col_indexer] = value instead\n",
      "\n",
      "See the caveats in the documentation: https://pandas.pydata.org/pandas-docs/stable/user_guide/indexing.html#returning-a-view-versus-a-copy\n",
      "  data_reg['adulto_mayor'] = 'N'\n"
     ]
    }
   ],
   "source": [
    "etl = ETL(queries)\n",
    "etl.inmate_static_info(data)\n",
    "etl.inmate_variable_info(data)"
   ]
  },
  {
   "cell_type": "markdown",
   "metadata": {},
   "source": [
    "### Encode"
   ]
  },
  {
   "cell_type": "code",
   "execution_count": 4,
   "metadata": {
    "ExecuteTime": {
     "end_time": "2020-07-04T13:31:02.597172Z",
     "start_time": "2020-07-04T13:30:56.668894Z"
    }
   },
   "outputs": [
    {
     "data": {
      "text/html": [
       "<div>\n",
       "<style scoped>\n",
       "    .dataframe tbody tr th:only-of-type {\n",
       "        vertical-align: middle;\n",
       "    }\n",
       "\n",
       "    .dataframe tbody tr th {\n",
       "        vertical-align: top;\n",
       "    }\n",
       "\n",
       "    .dataframe thead th {\n",
       "        text-align: right;\n",
       "    }\n",
       "</style>\n",
       "<table border=\"1\" class=\"dataframe\">\n",
       "  <thead>\n",
       "    <tr style=\"text-align: right;\">\n",
       "      <th></th>\n",
       "      <th>internoen</th>\n",
       "      <th>genero</th>\n",
       "      <th>nacionalidad</th>\n",
       "      <th>reincidente</th>\n",
       "      <th>anio_nacimiento</th>\n",
       "      <th>estado_civil</th>\n",
       "      <th>nivel_educativo</th>\n",
       "      <th>reconocimiento_etnico</th>\n",
       "      <th>diversidad_sexual</th>\n",
       "      <th>extranjero</th>\n",
       "      <th>...</th>\n",
       "      <th>delito_id_delito_172</th>\n",
       "      <th>delito_id_delito_232</th>\n",
       "      <th>delito_id_delito_262</th>\n",
       "      <th>delito_id_delito_other</th>\n",
       "      <th>tentativa_1</th>\n",
       "      <th>tentativa_2</th>\n",
       "      <th>agravado_1</th>\n",
       "      <th>agravado_2</th>\n",
       "      <th>calificado_1</th>\n",
       "      <th>calificado_2</th>\n",
       "    </tr>\n",
       "  </thead>\n",
       "  <tbody>\n",
       "    <tr>\n",
       "      <th>0</th>\n",
       "      <td>FD8EB8482F09C3F5FD085E4CAD29122368A5937B</td>\n",
       "      <td>2</td>\n",
       "      <td>22</td>\n",
       "      <td>2</td>\n",
       "      <td>1985</td>\n",
       "      <td>3</td>\n",
       "      <td>2</td>\n",
       "      <td>5</td>\n",
       "      <td>1</td>\n",
       "      <td>1</td>\n",
       "      <td>...</td>\n",
       "      <td>0</td>\n",
       "      <td>0</td>\n",
       "      <td>0</td>\n",
       "      <td>0</td>\n",
       "      <td>1</td>\n",
       "      <td>0</td>\n",
       "      <td>0</td>\n",
       "      <td>1</td>\n",
       "      <td>0</td>\n",
       "      <td>1</td>\n",
       "    </tr>\n",
       "    <tr>\n",
       "      <th>1</th>\n",
       "      <td>7624E0648E28D778D1EE4581998B00C3ABC061DA</td>\n",
       "      <td>2</td>\n",
       "      <td>22</td>\n",
       "      <td>2</td>\n",
       "      <td>1987</td>\n",
       "      <td>3</td>\n",
       "      <td>4</td>\n",
       "      <td>1</td>\n",
       "      <td>1</td>\n",
       "      <td>1</td>\n",
       "      <td>...</td>\n",
       "      <td>0</td>\n",
       "      <td>0</td>\n",
       "      <td>0</td>\n",
       "      <td>1</td>\n",
       "      <td>1</td>\n",
       "      <td>0</td>\n",
       "      <td>1</td>\n",
       "      <td>0</td>\n",
       "      <td>1</td>\n",
       "      <td>0</td>\n",
       "    </tr>\n",
       "    <tr>\n",
       "      <th>2</th>\n",
       "      <td>2660D0E0F43523200EF105604266F18D6CA396E5</td>\n",
       "      <td>2</td>\n",
       "      <td>22</td>\n",
       "      <td>2</td>\n",
       "      <td>1973</td>\n",
       "      <td>3</td>\n",
       "      <td>3</td>\n",
       "      <td>5</td>\n",
       "      <td>1</td>\n",
       "      <td>1</td>\n",
       "      <td>...</td>\n",
       "      <td>0</td>\n",
       "      <td>1</td>\n",
       "      <td>0</td>\n",
       "      <td>0</td>\n",
       "      <td>1</td>\n",
       "      <td>0</td>\n",
       "      <td>1</td>\n",
       "      <td>0</td>\n",
       "      <td>1</td>\n",
       "      <td>0</td>\n",
       "    </tr>\n",
       "    <tr>\n",
       "      <th>3</th>\n",
       "      <td>00CD632E133B134F4CD3659080F8E5E7C1C7330A</td>\n",
       "      <td>2</td>\n",
       "      <td>22</td>\n",
       "      <td>2</td>\n",
       "      <td>1970</td>\n",
       "      <td>3</td>\n",
       "      <td>3</td>\n",
       "      <td>5</td>\n",
       "      <td>1</td>\n",
       "      <td>1</td>\n",
       "      <td>...</td>\n",
       "      <td>0</td>\n",
       "      <td>0</td>\n",
       "      <td>1</td>\n",
       "      <td>0</td>\n",
       "      <td>1</td>\n",
       "      <td>0</td>\n",
       "      <td>1</td>\n",
       "      <td>0</td>\n",
       "      <td>1</td>\n",
       "      <td>0</td>\n",
       "    </tr>\n",
       "    <tr>\n",
       "      <th>4</th>\n",
       "      <td>7790E7531D616FDA7825C9CBB5502DD82DF35EB5</td>\n",
       "      <td>2</td>\n",
       "      <td>22</td>\n",
       "      <td>2</td>\n",
       "      <td>1988</td>\n",
       "      <td>1</td>\n",
       "      <td>5</td>\n",
       "      <td>5</td>\n",
       "      <td>1</td>\n",
       "      <td>1</td>\n",
       "      <td>...</td>\n",
       "      <td>0</td>\n",
       "      <td>0</td>\n",
       "      <td>0</td>\n",
       "      <td>0</td>\n",
       "      <td>1</td>\n",
       "      <td>0</td>\n",
       "      <td>0</td>\n",
       "      <td>1</td>\n",
       "      <td>0</td>\n",
       "      <td>1</td>\n",
       "    </tr>\n",
       "    <tr>\n",
       "      <th>...</th>\n",
       "      <td>...</td>\n",
       "      <td>...</td>\n",
       "      <td>...</td>\n",
       "      <td>...</td>\n",
       "      <td>...</td>\n",
       "      <td>...</td>\n",
       "      <td>...</td>\n",
       "      <td>...</td>\n",
       "      <td>...</td>\n",
       "      <td>...</td>\n",
       "      <td>...</td>\n",
       "      <td>...</td>\n",
       "      <td>...</td>\n",
       "      <td>...</td>\n",
       "      <td>...</td>\n",
       "      <td>...</td>\n",
       "      <td>...</td>\n",
       "      <td>...</td>\n",
       "      <td>...</td>\n",
       "      <td>...</td>\n",
       "      <td>...</td>\n",
       "    </tr>\n",
       "    <tr>\n",
       "      <th>103285</th>\n",
       "      <td>C476DC9C78CBC61BC5A3D27699595E916D90E3E2</td>\n",
       "      <td>2</td>\n",
       "      <td>22</td>\n",
       "      <td>2</td>\n",
       "      <td>1985</td>\n",
       "      <td>6</td>\n",
       "      <td>2</td>\n",
       "      <td>5</td>\n",
       "      <td>1</td>\n",
       "      <td>1</td>\n",
       "      <td>...</td>\n",
       "      <td>0</td>\n",
       "      <td>1</td>\n",
       "      <td>0</td>\n",
       "      <td>0</td>\n",
       "      <td>1</td>\n",
       "      <td>0</td>\n",
       "      <td>1</td>\n",
       "      <td>0</td>\n",
       "      <td>1</td>\n",
       "      <td>0</td>\n",
       "    </tr>\n",
       "    <tr>\n",
       "      <th>103286</th>\n",
       "      <td>AEB9E4C6773CBBE7C8424A52AB686E9F14101E73</td>\n",
       "      <td>2</td>\n",
       "      <td>22</td>\n",
       "      <td>2</td>\n",
       "      <td>1985</td>\n",
       "      <td>7</td>\n",
       "      <td>10</td>\n",
       "      <td>5</td>\n",
       "      <td>1</td>\n",
       "      <td>1</td>\n",
       "      <td>...</td>\n",
       "      <td>0</td>\n",
       "      <td>0</td>\n",
       "      <td>0</td>\n",
       "      <td>1</td>\n",
       "      <td>1</td>\n",
       "      <td>0</td>\n",
       "      <td>1</td>\n",
       "      <td>0</td>\n",
       "      <td>1</td>\n",
       "      <td>0</td>\n",
       "    </tr>\n",
       "    <tr>\n",
       "      <th>103287</th>\n",
       "      <td>92FBC965E9DE8CE7CD6AF95F4C460AF9A788CF59</td>\n",
       "      <td>2</td>\n",
       "      <td>22</td>\n",
       "      <td>2</td>\n",
       "      <td>1999</td>\n",
       "      <td>6</td>\n",
       "      <td>4</td>\n",
       "      <td>5</td>\n",
       "      <td>1</td>\n",
       "      <td>1</td>\n",
       "      <td>...</td>\n",
       "      <td>0</td>\n",
       "      <td>0</td>\n",
       "      <td>0</td>\n",
       "      <td>0</td>\n",
       "      <td>1</td>\n",
       "      <td>0</td>\n",
       "      <td>0</td>\n",
       "      <td>1</td>\n",
       "      <td>0</td>\n",
       "      <td>1</td>\n",
       "    </tr>\n",
       "    <tr>\n",
       "      <th>103288</th>\n",
       "      <td>BE6DD3C2939188AAFE3CD16E971D7F6C2BCEBC73</td>\n",
       "      <td>2</td>\n",
       "      <td>22</td>\n",
       "      <td>2</td>\n",
       "      <td>1978</td>\n",
       "      <td>7</td>\n",
       "      <td>2</td>\n",
       "      <td>5</td>\n",
       "      <td>1</td>\n",
       "      <td>1</td>\n",
       "      <td>...</td>\n",
       "      <td>0</td>\n",
       "      <td>0</td>\n",
       "      <td>0</td>\n",
       "      <td>0</td>\n",
       "      <td>2</td>\n",
       "      <td>0</td>\n",
       "      <td>1</td>\n",
       "      <td>1</td>\n",
       "      <td>1</td>\n",
       "      <td>1</td>\n",
       "    </tr>\n",
       "    <tr>\n",
       "      <th>103289</th>\n",
       "      <td>1A4F3BABA5D10E8E62C3381AB18C5082B66D6BAD</td>\n",
       "      <td>2</td>\n",
       "      <td>22</td>\n",
       "      <td>2</td>\n",
       "      <td>1980</td>\n",
       "      <td>6</td>\n",
       "      <td>3</td>\n",
       "      <td>5</td>\n",
       "      <td>1</td>\n",
       "      <td>1</td>\n",
       "      <td>...</td>\n",
       "      <td>0</td>\n",
       "      <td>0</td>\n",
       "      <td>0</td>\n",
       "      <td>0</td>\n",
       "      <td>1</td>\n",
       "      <td>0</td>\n",
       "      <td>1</td>\n",
       "      <td>0</td>\n",
       "      <td>1</td>\n",
       "      <td>0</td>\n",
       "    </tr>\n",
       "  </tbody>\n",
       "</table>\n",
       "<p>103290 rows × 44 columns</p>\n",
       "</div>"
      ],
      "text/plain": [
       "                                       internoen  genero  nacionalidad  \\\n",
       "0       FD8EB8482F09C3F5FD085E4CAD29122368A5937B       2            22   \n",
       "1       7624E0648E28D778D1EE4581998B00C3ABC061DA       2            22   \n",
       "2       2660D0E0F43523200EF105604266F18D6CA396E5       2            22   \n",
       "3       00CD632E133B134F4CD3659080F8E5E7C1C7330A       2            22   \n",
       "4       7790E7531D616FDA7825C9CBB5502DD82DF35EB5       2            22   \n",
       "...                                          ...     ...           ...   \n",
       "103285  C476DC9C78CBC61BC5A3D27699595E916D90E3E2       2            22   \n",
       "103286  AEB9E4C6773CBBE7C8424A52AB686E9F14101E73       2            22   \n",
       "103287  92FBC965E9DE8CE7CD6AF95F4C460AF9A788CF59       2            22   \n",
       "103288  BE6DD3C2939188AAFE3CD16E971D7F6C2BCEBC73       2            22   \n",
       "103289  1A4F3BABA5D10E8E62C3381AB18C5082B66D6BAD       2            22   \n",
       "\n",
       "        reincidente  anio_nacimiento  estado_civil  nivel_educativo  \\\n",
       "0                 2             1985             3                2   \n",
       "1                 2             1987             3                4   \n",
       "2                 2             1973             3                3   \n",
       "3                 2             1970             3                3   \n",
       "4                 2             1988             1                5   \n",
       "...             ...              ...           ...              ...   \n",
       "103285            2             1985             6                2   \n",
       "103286            2             1985             7               10   \n",
       "103287            2             1999             6                4   \n",
       "103288            2             1978             7                2   \n",
       "103289            2             1980             6                3   \n",
       "\n",
       "        reconocimiento_etnico  diversidad_sexual  extranjero  ...  \\\n",
       "0                           5                  1           1  ...   \n",
       "1                           1                  1           1  ...   \n",
       "2                           5                  1           1  ...   \n",
       "3                           5                  1           1  ...   \n",
       "4                           5                  1           1  ...   \n",
       "...                       ...                ...         ...  ...   \n",
       "103285                      5                  1           1  ...   \n",
       "103286                      5                  1           1  ...   \n",
       "103287                      5                  1           1  ...   \n",
       "103288                      5                  1           1  ...   \n",
       "103289                      5                  1           1  ...   \n",
       "\n",
       "        delito_id_delito_172 delito_id_delito_232  delito_id_delito_262  \\\n",
       "0                          0                    0                     0   \n",
       "1                          0                    0                     0   \n",
       "2                          0                    1                     0   \n",
       "3                          0                    0                     1   \n",
       "4                          0                    0                     0   \n",
       "...                      ...                  ...                   ...   \n",
       "103285                     0                    1                     0   \n",
       "103286                     0                    0                     0   \n",
       "103287                     0                    0                     0   \n",
       "103288                     0                    0                     0   \n",
       "103289                     0                    0                     0   \n",
       "\n",
       "       delito_id_delito_other  tentativa_1  tentativa_2  agravado_1  \\\n",
       "0                           0            1            0           0   \n",
       "1                           1            1            0           1   \n",
       "2                           0            1            0           1   \n",
       "3                           0            1            0           1   \n",
       "4                           0            1            0           0   \n",
       "...                       ...          ...          ...         ...   \n",
       "103285                      0            1            0           1   \n",
       "103286                      1            1            0           1   \n",
       "103287                      0            1            0           0   \n",
       "103288                      0            2            0           1   \n",
       "103289                      0            1            0           1   \n",
       "\n",
       "        agravado_2  calificado_1  calificado_2  \n",
       "0                1             0             1  \n",
       "1                0             1             0  \n",
       "2                0             1             0  \n",
       "3                0             1             0  \n",
       "4                1             0             1  \n",
       "...            ...           ...           ...  \n",
       "103285           0             1             0  \n",
       "103286           0             1             0  \n",
       "103287           1             0             1  \n",
       "103288           1             1             1  \n",
       "103289           0             1             0  \n",
       "\n",
       "[103290 rows x 44 columns]"
      ]
     },
     "execution_count": 4,
     "metadata": {},
     "output_type": "execute_result"
    }
   ],
   "source": [
    "encoding = Encoding(queries)\n",
    "data_2_encode = encoding.get_data()\n",
    "data_encoded = encoding.one_hot(data_2_encode)\n",
    "data_encoded"
   ]
  },
  {
   "cell_type": "markdown",
   "metadata": {},
   "source": [
    "### Unsupervised Learning with Kmeans"
   ]
  },
  {
   "cell_type": "markdown",
   "metadata": {},
   "source": [
    "#### Fixing dataset lasts issues"
   ]
  },
  {
   "cell_type": "markdown",
   "metadata": {},
   "source": [
    "Evaluando cantidad de columnas vacias aún"
   ]
  },
  {
   "cell_type": "code",
   "execution_count": 5,
   "metadata": {
    "ExecuteTime": {
     "end_time": "2020-07-04T13:31:05.821168Z",
     "start_time": "2020-07-04T13:31:05.723601Z"
    },
    "scrolled": true
   },
   "outputs": [
    {
     "data": {
      "text/html": [
       "<div>\n",
       "<style scoped>\n",
       "    .dataframe tbody tr th:only-of-type {\n",
       "        vertical-align: middle;\n",
       "    }\n",
       "\n",
       "    .dataframe tbody tr th {\n",
       "        vertical-align: top;\n",
       "    }\n",
       "\n",
       "    .dataframe thead th {\n",
       "        text-align: right;\n",
       "    }\n",
       "</style>\n",
       "<table border=\"1\" class=\"dataframe\">\n",
       "  <thead>\n",
       "    <tr style=\"text-align: right;\">\n",
       "      <th></th>\n",
       "      <th>counts</th>\n",
       "    </tr>\n",
       "  </thead>\n",
       "  <tbody>\n",
       "    <tr>\n",
       "      <th>fecha_salida</th>\n",
       "      <td>30304</td>\n",
       "    </tr>\n",
       "    <tr>\n",
       "      <th>internoen</th>\n",
       "      <td>0</td>\n",
       "    </tr>\n",
       "    <tr>\n",
       "      <th>madre_gestante</th>\n",
       "      <td>0</td>\n",
       "    </tr>\n",
       "    <tr>\n",
       "      <th>discapacidad</th>\n",
       "      <td>0</td>\n",
       "    </tr>\n",
       "    <tr>\n",
       "      <th>adulto_mayor</th>\n",
       "      <td>0</td>\n",
       "    </tr>\n",
       "    <tr>\n",
       "      <th>delito_id_delito_42</th>\n",
       "      <td>0</td>\n",
       "    </tr>\n",
       "    <tr>\n",
       "      <th>delito_id_delito_102</th>\n",
       "      <td>0</td>\n",
       "    </tr>\n",
       "    <tr>\n",
       "      <th>delito_id_delito_103</th>\n",
       "      <td>0</td>\n",
       "    </tr>\n",
       "    <tr>\n",
       "      <th>delito_id_delito_105</th>\n",
       "      <td>0</td>\n",
       "    </tr>\n",
       "    <tr>\n",
       "      <th>delito_id_delito_109</th>\n",
       "      <td>0</td>\n",
       "    </tr>\n",
       "    <tr>\n",
       "      <th>delito_id_delito_141</th>\n",
       "      <td>0</td>\n",
       "    </tr>\n",
       "    <tr>\n",
       "      <th>delito_id_delito_145</th>\n",
       "      <td>0</td>\n",
       "    </tr>\n",
       "    <tr>\n",
       "      <th>delito_id_delito_172</th>\n",
       "      <td>0</td>\n",
       "    </tr>\n",
       "    <tr>\n",
       "      <th>delito_id_delito_232</th>\n",
       "      <td>0</td>\n",
       "    </tr>\n",
       "    <tr>\n",
       "      <th>delito_id_delito_262</th>\n",
       "      <td>0</td>\n",
       "    </tr>\n",
       "    <tr>\n",
       "      <th>delito_id_delito_other</th>\n",
       "      <td>0</td>\n",
       "    </tr>\n",
       "    <tr>\n",
       "      <th>tentativa_1</th>\n",
       "      <td>0</td>\n",
       "    </tr>\n",
       "    <tr>\n",
       "      <th>tentativa_2</th>\n",
       "      <td>0</td>\n",
       "    </tr>\n",
       "    <tr>\n",
       "      <th>agravado_1</th>\n",
       "      <td>0</td>\n",
       "    </tr>\n",
       "    <tr>\n",
       "      <th>agravado_2</th>\n",
       "      <td>0</td>\n",
       "    </tr>\n",
       "    <tr>\n",
       "      <th>calificado_1</th>\n",
       "      <td>0</td>\n",
       "    </tr>\n",
       "    <tr>\n",
       "      <th>madre_lactante</th>\n",
       "      <td>0</td>\n",
       "    </tr>\n",
       "    <tr>\n",
       "      <th>situacion_juridica</th>\n",
       "      <td>0</td>\n",
       "    </tr>\n",
       "    <tr>\n",
       "      <th>genero</th>\n",
       "      <td>0</td>\n",
       "    </tr>\n",
       "    <tr>\n",
       "      <th>estado_ingreso</th>\n",
       "      <td>0</td>\n",
       "    </tr>\n",
       "    <tr>\n",
       "      <th>nacionalidad</th>\n",
       "      <td>0</td>\n",
       "    </tr>\n",
       "    <tr>\n",
       "      <th>reincidente</th>\n",
       "      <td>0</td>\n",
       "    </tr>\n",
       "    <tr>\n",
       "      <th>anio_nacimiento</th>\n",
       "      <td>0</td>\n",
       "    </tr>\n",
       "    <tr>\n",
       "      <th>estado_civil</th>\n",
       "      <td>0</td>\n",
       "    </tr>\n",
       "    <tr>\n",
       "      <th>nivel_educativo</th>\n",
       "      <td>0</td>\n",
       "    </tr>\n",
       "    <tr>\n",
       "      <th>reconocimiento_etnico</th>\n",
       "      <td>0</td>\n",
       "    </tr>\n",
       "    <tr>\n",
       "      <th>diversidad_sexual</th>\n",
       "      <td>0</td>\n",
       "    </tr>\n",
       "    <tr>\n",
       "      <th>extranjero</th>\n",
       "      <td>0</td>\n",
       "    </tr>\n",
       "    <tr>\n",
       "      <th>fecha_ingreso</th>\n",
       "      <td>0</td>\n",
       "    </tr>\n",
       "    <tr>\n",
       "      <th>estado_id_estado</th>\n",
       "      <td>0</td>\n",
       "    </tr>\n",
       "    <tr>\n",
       "      <th>establecimiento</th>\n",
       "      <td>0</td>\n",
       "    </tr>\n",
       "    <tr>\n",
       "      <th>edad</th>\n",
       "      <td>0</td>\n",
       "    </tr>\n",
       "    <tr>\n",
       "      <th>municipio_id_municipio</th>\n",
       "      <td>0</td>\n",
       "    </tr>\n",
       "    <tr>\n",
       "      <th>actividades_estudio</th>\n",
       "      <td>0</td>\n",
       "    </tr>\n",
       "    <tr>\n",
       "      <th>actividades_trabajo</th>\n",
       "      <td>0</td>\n",
       "    </tr>\n",
       "    <tr>\n",
       "      <th>actividades_enseñanza</th>\n",
       "      <td>0</td>\n",
       "    </tr>\n",
       "    <tr>\n",
       "      <th>hijos_menores</th>\n",
       "      <td>0</td>\n",
       "    </tr>\n",
       "    <tr>\n",
       "      <th>condicion_excepcional</th>\n",
       "      <td>0</td>\n",
       "    </tr>\n",
       "    <tr>\n",
       "      <th>calificado_2</th>\n",
       "      <td>0</td>\n",
       "    </tr>\n",
       "  </tbody>\n",
       "</table>\n",
       "</div>"
      ],
      "text/plain": [
       "                        counts\n",
       "fecha_salida             30304\n",
       "internoen                    0\n",
       "madre_gestante               0\n",
       "discapacidad                 0\n",
       "adulto_mayor                 0\n",
       "delito_id_delito_42          0\n",
       "delito_id_delito_102         0\n",
       "delito_id_delito_103         0\n",
       "delito_id_delito_105         0\n",
       "delito_id_delito_109         0\n",
       "delito_id_delito_141         0\n",
       "delito_id_delito_145         0\n",
       "delito_id_delito_172         0\n",
       "delito_id_delito_232         0\n",
       "delito_id_delito_262         0\n",
       "delito_id_delito_other       0\n",
       "tentativa_1                  0\n",
       "tentativa_2                  0\n",
       "agravado_1                   0\n",
       "agravado_2                   0\n",
       "calificado_1                 0\n",
       "madre_lactante               0\n",
       "situacion_juridica           0\n",
       "genero                       0\n",
       "estado_ingreso               0\n",
       "nacionalidad                 0\n",
       "reincidente                  0\n",
       "anio_nacimiento              0\n",
       "estado_civil                 0\n",
       "nivel_educativo              0\n",
       "reconocimiento_etnico        0\n",
       "diversidad_sexual            0\n",
       "extranjero                   0\n",
       "fecha_ingreso                0\n",
       "estado_id_estado             0\n",
       "establecimiento              0\n",
       "edad                         0\n",
       "municipio_id_municipio       0\n",
       "actividades_estudio          0\n",
       "actividades_trabajo          0\n",
       "actividades_enseñanza        0\n",
       "hijos_menores                0\n",
       "condicion_excepcional        0\n",
       "calificado_2                 0"
      ]
     },
     "execution_count": 5,
     "metadata": {},
     "output_type": "execute_result"
    }
   ],
   "source": [
    "data_encoded.isnull().sum().to_frame().rename(columns={0:'counts'}).sort_values(by='counts', ascending = False)"
   ]
  },
  {
   "cell_type": "markdown",
   "metadata": {},
   "source": [
    "Evaluando qué columnas colo tienen un valor, pues de deben eliminar para el modelin"
   ]
  },
  {
   "cell_type": "code",
   "execution_count": 6,
   "metadata": {
    "ExecuteTime": {
     "end_time": "2020-07-04T13:31:08.460071Z",
     "start_time": "2020-07-04T13:31:07.929650Z"
    },
    "scrolled": true
   },
   "outputs": [
    {
     "data": {
      "text/plain": [
       "situacion_juridica            1\n",
       "reincidente                   1\n",
       "municipio_id_municipio        1\n",
       "estado_id_estado              2\n",
       "hijos_menores                 2\n",
       "actividades_enseñanza         2\n",
       "actividades_trabajo           2\n",
       "actividades_estudio           2\n",
       "discapacidad                  2\n",
       "adulto_mayor                  2\n",
       "diversidad_sexual             2\n",
       "genero                        2\n",
       "extranjero                    2\n",
       "madre_lactante                3\n",
       "delito_id_delito_109          3\n",
       "delito_id_delito_103          3\n",
       "madre_gestante                3\n",
       "delito_id_delito_172          3\n",
       "delito_id_delito_262          4\n",
       "delito_id_delito_42           4\n",
       "delito_id_delito_102          4\n",
       "delito_id_delito_105          5\n",
       "reconocimiento_etnico         5\n",
       "delito_id_delito_141          5\n",
       "delito_id_delito_232          6\n",
       "estado_ingreso                6\n",
       "tentativa_2                   7\n",
       "calificado_2                  7\n",
       "delito_id_delito_145          8\n",
       "estado_civil                  8\n",
       "agravado_2                    8\n",
       "delito_id_delito_other       11\n",
       "nivel_educativo              12\n",
       "agravado_1                   13\n",
       "tentativa_1                  14\n",
       "calificado_1                 16\n",
       "nacionalidad                 25\n",
       "condicion_excepcional        53\n",
       "edad                         76\n",
       "anio_nacimiento              76\n",
       "establecimiento             160\n",
       "fecha_salida               3648\n",
       "fecha_ingreso              3785\n",
       "internoen                 78841\n",
       "dtype: int64"
      ]
     },
     "execution_count": 6,
     "metadata": {},
     "output_type": "execute_result"
    }
   ],
   "source": [
    "data_encoded.nunique().sort_values()"
   ]
  },
  {
   "cell_type": "code",
   "execution_count": 7,
   "metadata": {
    "ExecuteTime": {
     "end_time": "2020-07-04T13:31:08.471474Z",
     "start_time": "2020-07-04T13:31:08.461957Z"
    }
   },
   "outputs": [
    {
     "data": {
      "text/plain": [
       "array([0, 1, 2], dtype=uint8)"
      ]
     },
     "execution_count": 7,
     "metadata": {},
     "output_type": "execute_result"
    }
   ],
   "source": [
    "data_encoded['delito_id_delito_172'].unique()"
   ]
  },
  {
   "cell_type": "markdown",
   "metadata": {},
   "source": [
    "Eliminando columnas de fechas por ahora, id de inmate y columnas con menos de 2 variables únicas"
   ]
  },
  {
   "cell_type": "code",
   "execution_count": 8,
   "metadata": {
    "ExecuteTime": {
     "end_time": "2020-07-04T13:31:11.613430Z",
     "start_time": "2020-07-04T13:31:11.601013Z"
    }
   },
   "outputs": [],
   "source": [
    "data = data_encoded.drop(columns = ['internoen',\n",
    "                                    'fecha_ingreso',\n",
    "                                    'fecha_salida',\n",
    "                                    'situacion_juridica',\n",
    "                                    'reincidente',\n",
    "                                    'municipio_id_municipio'])"
   ]
  },
  {
   "cell_type": "markdown",
   "metadata": {},
   "source": [
    "Creando función para llevar a cabo un encoding nuevo, dado que aún hay variables no numéricas en los datos"
   ]
  },
  {
   "cell_type": "code",
   "execution_count": 9,
   "metadata": {
    "ExecuteTime": {
     "end_time": "2020-07-04T13:31:12.298264Z",
     "start_time": "2020-07-04T13:31:12.288854Z"
    }
   },
   "outputs": [],
   "source": [
    "def encode_transform(data):\n",
    "    encoders = []\n",
    "    encoded_cols = []\n",
    "    for i in range(data.values.shape[1]):\n",
    "        le = LabelEncoder()\n",
    "        le.fit(data.values[:,i])\n",
    "        encoders.append(le)\n",
    "        encoded_cols.append(le.transform(data.values[:,i]).reshape(-1,1))\n",
    "    return np.concatenate(encoded_cols, axis = 1), encoders"
   ]
  },
  {
   "cell_type": "code",
   "execution_count": 10,
   "metadata": {
    "ExecuteTime": {
     "end_time": "2020-07-04T13:31:19.930327Z",
     "start_time": "2020-07-04T13:31:12.558113Z"
    },
    "scrolled": true
   },
   "outputs": [
    {
     "data": {
      "text/plain": [
       "array([[ 1, 21, 59, ...,  1,  0,  1],\n",
       "       [ 1, 21, 61, ...,  0,  1,  0],\n",
       "       [ 1, 21, 47, ...,  0,  1,  0],\n",
       "       ...,\n",
       "       [ 1, 21, 73, ...,  1,  0,  1],\n",
       "       [ 1, 21, 52, ...,  1,  1,  1],\n",
       "       [ 1, 21, 54, ...,  0,  1,  0]])"
      ]
     },
     "execution_count": 10,
     "metadata": {},
     "output_type": "execute_result"
    }
   ],
   "source": [
    "data_enc, encoders = encode_transform(data)\n",
    "data_enc"
   ]
  },
  {
   "cell_type": "markdown",
   "metadata": {},
   "source": [
    "#### Elbow Plot (Within sum of squares distance)"
   ]
  },
  {
   "cell_type": "code",
   "execution_count": 71,
   "metadata": {
    "ExecuteTime": {
     "end_time": "2020-07-03T02:43:02.180178Z",
     "start_time": "2020-07-03T02:41:12.479045Z"
    }
   },
   "outputs": [
    {
     "data": {
      "image/png": "[encoded data removed]",
      "text/plain": [
       "<Figure size 576x396 with 1 Axes>"
      ]
     },
     "metadata": {},
     "output_type": "display_data"
    }
   ],
   "source": [
    "# setting the range of k\n",
    "clusters = range(1, 20)\n",
    "\n",
    "# running the clustering \n",
    "wss_list = []\n",
    "\n",
    "for k in clusters:\n",
    "    model = KMeans(n_clusters=k)\n",
    "    model.fit(data_enc)\n",
    "    wss_list.append(model.inertia_)\n",
    "\n",
    "# plotting\n",
    "_, ax = plt.subplots()\n",
    "ax.plot(clusters, wss_list, '-o', color='black')\n",
    "ax.set(title='Elbow plot', \n",
    "       xlabel='number of clusters', \n",
    "       ylabel='WSS');"
   ]
  },
  {
   "cell_type": "markdown",
   "metadata": {},
   "source": [
    "#### Prediction Strength"
   ]
  },
  {
   "cell_type": "markdown",
   "metadata": {},
   "source": [
    "##### Data split"
   ]
  },
  {
   "cell_type": "code",
   "execution_count": 17,
   "metadata": {
    "ExecuteTime": {
     "end_time": "2020-07-04T13:31:52.489055Z",
     "start_time": "2020-07-04T13:31:52.444152Z"
    }
   },
   "outputs": [],
   "source": [
    "# train/test split\n",
    "X_train, X_test = train_test_split(data_enc, \n",
    "                                   test_size=0.1, \n",
    "                                   shuffle=True, \n",
    "                                   random_state=42)"
   ]
  },
  {
   "cell_type": "markdown",
   "metadata": {},
   "source": [
    "##### Get closest centroid unoptimized"
   ]
  },
  {
   "cell_type": "code",
   "execution_count": 12,
   "metadata": {
    "ExecuteTime": {
     "end_time": "2020-07-04T13:31:25.910651Z",
     "start_time": "2020-07-04T13:31:25.902539Z"
    }
   },
   "outputs": [],
   "source": [
    "def get_closest_centroid(obs, centroids):\n",
    "    '''\n",
    "    Function for retrieving the closest centroid to the given observation \n",
    "    in terms of the Euclidean distance.\n",
    "    \n",
    "    Parameters\n",
    "    ----------\n",
    "    obs : array\n",
    "        An array containing the observation to be matched to the nearest centroid\n",
    "    centroids : array\n",
    "        An array containing the centroids\n",
    "    \n",
    "    Returns\n",
    "    -------\n",
    "    min_centroid : array\n",
    "        The centroid closes to the obs \n",
    "    '''\n",
    "    min_distance = sys.float_info.max\n",
    "    min_centroid = 0\n",
    "    \n",
    "    for c in centroids:\n",
    "        dist = distance.euclidean(obs, c)\n",
    "        if dist < min_distance:\n",
    "            min_distance = dist\n",
    "            min_centroid = c\n",
    "            \n",
    "    return min_centroid"
   ]
  },
  {
   "cell_type": "markdown",
   "metadata": {},
   "source": [
    "##### Get closest centroid iptimized v1"
   ]
  },
  {
   "cell_type": "code",
   "execution_count": 13,
   "metadata": {
    "ExecuteTime": {
     "end_time": "2020-07-04T13:31:28.803522Z",
     "start_time": "2020-07-04T13:31:28.795537Z"
    }
   },
   "outputs": [],
   "source": [
    "def get_closest_centroid_optim(obs, centroids):\n",
    "    '''\n",
    "    Function for retrieving the closest centroid to the given observation \n",
    "    in terms of the Euclidean distance.\n",
    "    \n",
    "    Parameters\n",
    "    ----------\n",
    "    obs : array\n",
    "        An array containing the observation to be matched to the nearest centroid\n",
    "    centroids : array\n",
    "        An array containing the centroids\n",
    "    \n",
    "    Returns\n",
    "    -------\n",
    "    min_centroid : array\n",
    "        The centroid closes to the obs \n",
    "    '''\n",
    "    \n",
    "    distance = np.sqrt((np.square(centroids[:,np.newaxis]-obs).sum(axis=2)))\n",
    "    idx_min_distance = np.argmin(distance)\n",
    "    \n",
    "    return centroids[idx_min_distance]"
   ]
  },
  {
   "cell_type": "markdown",
   "metadata": {},
   "source": [
    "##### Get closest centroid optimized v2"
   ]
  },
  {
   "cell_type": "code",
   "execution_count": 14,
   "metadata": {
    "ExecuteTime": {
     "end_time": "2020-07-04T13:31:30.656854Z",
     "start_time": "2020-07-04T13:31:30.650089Z"
    }
   },
   "outputs": [],
   "source": [
    "def get_closest_centroid_optim_vectorized(obs, centroids):\n",
    "    '''\n",
    "    Function for retrieving the closest centroid to the given observation \n",
    "    in terms of the Euclidean distance.\n",
    "    \n",
    "    Parameters\n",
    "    ----------\n",
    "    obs : array\n",
    "        An array containing the observation to be matched to the nearest centroid\n",
    "    centroids : array\n",
    "        An array containing the centroids\n",
    "    \n",
    "    Returns\n",
    "    -------\n",
    "    min_centroid : array\n",
    "        The centroid closes to the obs \n",
    "    '''\n",
    "    \n",
    "    distance = np.sqrt((np.square(centroids[:,np.newaxis]-obs).sum(axis=2)))\n",
    "    idx_min_distance = np.argmin(distance, axis = 0)\n",
    "    \n",
    "    return centroids[idx_min_distance]"
   ]
  },
  {
   "cell_type": "markdown",
   "metadata": {},
   "source": [
    "##### Testing get_prediction_strength optimizations"
   ]
  },
  {
   "cell_type": "code",
   "execution_count": 360,
   "metadata": {
    "ExecuteTime": {
     "end_time": "2020-07-04T04:23:33.666494Z",
     "start_time": "2020-07-04T04:23:28.432362Z"
    }
   },
   "outputs": [],
   "source": [
    "model_train = KMeans(n_clusters=5, random_state=42).fit(X_train)\n",
    "model_test = KMeans(n_clusters=5, random_state=42).fit(X_test)"
   ]
  },
  {
   "cell_type": "code",
   "execution_count": 361,
   "metadata": {
    "ExecuteTime": {
     "end_time": "2020-07-04T04:23:33.675072Z",
     "start_time": "2020-07-04T04:23:33.668512Z"
    }
   },
   "outputs": [
    {
     "data": {
      "text/plain": [
       "((5165, 38), (5, 38))"
      ]
     },
     "execution_count": 361,
     "metadata": {},
     "output_type": "execute_result"
    }
   ],
   "source": [
    "X_test.shape, model_train.cluster_centers_.shape"
   ]
  },
  {
   "cell_type": "code",
   "execution_count": 362,
   "metadata": {
    "ExecuteTime": {
     "end_time": "2020-07-04T04:23:33.698501Z",
     "start_time": "2020-07-04T04:23:33.680552Z"
    }
   },
   "outputs": [
    {
     "data": {
      "text/plain": [
       "(5165, 38)"
      ]
     },
     "execution_count": 362,
     "metadata": {},
     "output_type": "execute_result"
    }
   ],
   "source": [
    "closest_cent = get_closest_centroid_optim_vectorized(X_test, model_train.cluster_centers_)\n",
    "closest_cent.shape"
   ]
  },
  {
   "cell_type": "code",
   "execution_count": 341,
   "metadata": {
    "ExecuteTime": {
     "end_time": "2020-07-04T03:57:34.277424Z",
     "start_time": "2020-07-04T03:57:34.266898Z"
    }
   },
   "outputs": [
    {
     "data": {
      "text/plain": [
       "array([[1, 2, 3, 4],\n",
       "       [2, 3, 4, 5],\n",
       "       [1, 2, 3, 4],\n",
       "       [3, 4, 5, 6]])"
      ]
     },
     "execution_count": 341,
     "metadata": {},
     "output_type": "execute_result"
    }
   ],
   "source": [
    "a = np.array([[1,2,3,4],\n",
    "              [2,3,4,5],\n",
    "              [1,2,3,4],\n",
    "              [3,4,5,6]])\n",
    "a"
   ]
  },
  {
   "cell_type": "code",
   "execution_count": 369,
   "metadata": {
    "ExecuteTime": {
     "end_time": "2020-07-04T04:28:01.225166Z",
     "start_time": "2020-07-04T04:28:01.218228Z"
    }
   },
   "outputs": [
    {
     "data": {
      "text/plain": [
       "(5165, 38)"
      ]
     },
     "execution_count": 369,
     "metadata": {},
     "output_type": "execute_result"
    }
   ],
   "source": [
    "closest_cent.shape"
   ]
  },
  {
   "cell_type": "code",
   "execution_count": 363,
   "metadata": {
    "ExecuteTime": {
     "end_time": "2020-07-04T04:23:41.545887Z",
     "start_time": "2020-07-04T04:23:33.701667Z"
    },
    "scrolled": true
   },
   "outputs": [
    {
     "name": "stdout",
     "output_type": "stream",
     "text": [
      "CPU times: user 0 ns, sys: 0 ns, total: 0 ns\n",
      "Wall time: 21.9 µs\n"
     ]
    }
   ],
   "source": [
    "%time\n",
    "co_membership = np.zeros((len(closest_cent), len(closest_cent)))\n",
    "for i in range(1,len(closest_cent)):\n",
    "    diag = (closest_cent == np.roll(closest_cent, shift = i, axis = 0)).all(1)[i:]\n",
    "    co_membership[range(i,len(closest_cent)),range(len(diag))] = diag\n",
    "co_membership = co_membership + co_membership.T - np.diag(np.diag(co_membership))"
   ]
  },
  {
   "cell_type": "code",
   "execution_count": 364,
   "metadata": {
    "ExecuteTime": {
     "end_time": "2020-07-04T04:24:49.228857Z",
     "start_time": "2020-07-04T04:24:49.223788Z"
    }
   },
   "outputs": [],
   "source": [
    "x_test = X_test\n",
    "test_labels = model_test.labels_"
   ]
  },
  {
   "cell_type": "code",
   "execution_count": 371,
   "metadata": {
    "ExecuteTime": {
     "end_time": "2020-07-04T04:28:28.121852Z",
     "start_time": "2020-07-04T04:28:28.112739Z"
    }
   },
   "outputs": [
    {
     "data": {
      "text/plain": [
       "array([3, 1, 0, ..., 2, 2, 1], dtype=int32)"
      ]
     },
     "execution_count": 371,
     "metadata": {},
     "output_type": "execute_result"
    }
   ],
   "source": [
    "test_labels"
   ]
  },
  {
   "cell_type": "code",
   "execution_count": 373,
   "metadata": {
    "ExecuteTime": {
     "end_time": "2020-07-04T04:28:49.098072Z",
     "start_time": "2020-07-04T04:28:49.091492Z"
    }
   },
   "outputs": [
    {
     "data": {
      "text/plain": [
       "array([1, 3, 1, ..., 4, 2, 2], dtype=int32)"
      ]
     },
     "execution_count": 373,
     "metadata": {},
     "output_type": "execute_result"
    }
   ],
   "source": [
    "np.roll(test_labels, shift = i)"
   ]
  },
  {
   "cell_type": "code",
   "execution_count": 374,
   "metadata": {
    "ExecuteTime": {
     "end_time": "2020-07-04T04:29:16.219625Z",
     "start_time": "2020-07-04T04:29:16.212027Z"
    }
   },
   "outputs": [
    {
     "data": {
      "text/plain": [
       "array([False, False, False, ..., False,  True, False])"
      ]
     },
     "execution_count": 374,
     "metadata": {},
     "output_type": "execute_result"
    }
   ],
   "source": [
    "test_labels == np.roll(test_labels, shift = i)"
   ]
  },
  {
   "cell_type": "code",
   "execution_count": 382,
   "metadata": {
    "ExecuteTime": {
     "end_time": "2020-07-04T04:35:02.537507Z",
     "start_time": "2020-07-04T04:35:02.513699Z"
    }
   },
   "outputs": [
    {
     "data": {
      "text/plain": [
       "1031"
      ]
     },
     "execution_count": 382,
     "metadata": {},
     "output_type": "execute_result"
    }
   ],
   "source": [
    "test_labels == 4"
   ]
  },
  {
   "cell_type": "code",
   "execution_count": 404,
   "metadata": {
    "ExecuteTime": {
     "end_time": "2020-07-04T04:43:26.386090Z",
     "start_time": "2020-07-04T04:43:20.370055Z"
    }
   },
   "outputs": [
    {
     "name": "stdout",
     "output_type": "stream",
     "text": [
      "CPU times: user 4 µs, sys: 0 ns, total: 4 µs\n",
      "Wall time: 17.2 µs\n"
     ]
    }
   ],
   "source": [
    "%time\n",
    "test_labels_co_mem = np.zeros((len(test_labels), len(test_labels)))\n",
    "for i in range(len(test_labels)):\n",
    "    diag = (test_labels == np.roll(test_labels, shift = i))# & (test_labels == 4)\n",
    "    diag = diag[i:]\n",
    "    test_labels_co_mem[range(i,len(test_labels)),range(len(diag))] = diag\n",
    "test_labels_co_mem = test_labels_co_mem + test_labels_co_mem.T - np.diag(np.diag(test_labels_co_mem))"
   ]
  },
  {
   "cell_type": "code",
   "execution_count": 392,
   "metadata": {
    "ExecuteTime": {
     "end_time": "2020-07-04T04:40:23.911858Z",
     "start_time": "2020-07-04T04:40:23.904313Z"
    }
   },
   "outputs": [
    {
     "data": {
      "text/plain": [
       "array([4, 4, 1, 1, 1, 4])"
      ]
     },
     "execution_count": 392,
     "metadata": {},
     "output_type": "execute_result"
    }
   ],
   "source": [
    "b = np.array([4,4,1,1,1,4])\n",
    "b"
   ]
  },
  {
   "cell_type": "code",
   "execution_count": 396,
   "metadata": {
    "ExecuteTime": {
     "end_time": "2020-07-04T04:41:00.575725Z",
     "start_time": "2020-07-04T04:41:00.568687Z"
    }
   },
   "outputs": [
    {
     "data": {
      "text/plain": [
       "array([False, False, False,  True,  True, False])"
      ]
     },
     "execution_count": 396,
     "metadata": {},
     "output_type": "execute_result"
    }
   ],
   "source": [
    "(b == np.roll(b, shift = 1)) & (b == 1)"
   ]
  },
  {
   "cell_type": "code",
   "execution_count": 405,
   "metadata": {
    "ExecuteTime": {
     "end_time": "2020-07-04T04:43:31.421865Z",
     "start_time": "2020-07-04T04:43:31.410977Z"
    }
   },
   "outputs": [
    {
     "data": {
      "text/plain": [
       "array([[1., 0., 0., 0., 0., 0., 0., 0., 0., 0., 0., 0., 0., 0., 0.],\n",
       "       [0., 1., 0., 0., 1., 1., 0., 0., 0., 1., 1., 0., 0., 0., 1.],\n",
       "       [0., 0., 1., 0., 0., 0., 0., 0., 0., 0., 0., 1., 1., 0., 0.],\n",
       "       [0., 0., 0., 1., 0., 0., 1., 0., 1., 0., 0., 0., 0., 1., 0.],\n",
       "       [0., 1., 0., 0., 1., 1., 0., 0., 0., 1., 1., 0., 0., 0., 1.],\n",
       "       [0., 1., 0., 0., 1., 1., 0., 0., 0., 1., 1., 0., 0., 0., 1.],\n",
       "       [0., 0., 0., 1., 0., 0., 1., 0., 1., 0., 0., 0., 0., 1., 0.],\n",
       "       [0., 0., 0., 0., 0., 0., 0., 1., 0., 0., 0., 0., 0., 0., 0.],\n",
       "       [0., 0., 0., 1., 0., 0., 1., 0., 1., 0., 0., 0., 0., 1., 0.],\n",
       "       [0., 1., 0., 0., 1., 1., 0., 0., 0., 1., 1., 0., 0., 0., 1.],\n",
       "       [0., 1., 0., 0., 1., 1., 0., 0., 0., 1., 1., 0., 0., 0., 1.],\n",
       "       [0., 0., 1., 0., 0., 0., 0., 0., 0., 0., 0., 1., 1., 0., 0.],\n",
       "       [0., 0., 1., 0., 0., 0., 0., 0., 0., 0., 0., 1., 1., 0., 0.],\n",
       "       [0., 0., 0., 1., 0., 0., 1., 0., 1., 0., 0., 0., 0., 1., 0.],\n",
       "       [0., 1., 0., 0., 1., 1., 0., 0., 0., 1., 1., 0., 0., 0., 1.]])"
      ]
     },
     "execution_count": 405,
     "metadata": {},
     "output_type": "execute_result"
    }
   ],
   "source": [
    "test_labels_co_mem[:15,:15]"
   ]
  },
  {
   "cell_type": "code",
   "execution_count": 403,
   "metadata": {
    "ExecuteTime": {
     "end_time": "2020-07-04T04:42:54.346569Z",
     "start_time": "2020-07-04T04:42:54.332593Z"
    }
   },
   "outputs": [
    {
     "data": {
      "text/plain": [
       "array([[0., 0., 0., 0., 0., 0., 0., 0., 0., 0., 0., 0., 0., 0., 0.],\n",
       "       [0., 0., 0., 0., 0., 0., 0., 0., 0., 0., 0., 0., 0., 0., 0.],\n",
       "       [0., 0., 0., 0., 0., 0., 0., 0., 0., 0., 0., 0., 0., 0., 0.],\n",
       "       [0., 0., 0., 1., 0., 0., 1., 0., 1., 0., 0., 0., 0., 1., 0.],\n",
       "       [0., 0., 0., 0., 0., 0., 0., 0., 0., 0., 0., 0., 0., 0., 0.],\n",
       "       [0., 0., 0., 0., 0., 0., 0., 0., 0., 0., 0., 0., 0., 0., 0.],\n",
       "       [0., 0., 0., 1., 0., 0., 1., 0., 1., 0., 0., 0., 0., 1., 0.],\n",
       "       [0., 0., 0., 0., 0., 0., 0., 0., 0., 0., 0., 0., 0., 0., 0.],\n",
       "       [0., 0., 0., 1., 0., 0., 1., 0., 1., 0., 0., 0., 0., 1., 0.],\n",
       "       [0., 0., 0., 0., 0., 0., 0., 0., 0., 0., 0., 0., 0., 0., 0.],\n",
       "       [0., 0., 0., 0., 0., 0., 0., 0., 0., 0., 0., 0., 0., 0., 0.],\n",
       "       [0., 0., 0., 0., 0., 0., 0., 0., 0., 0., 0., 0., 0., 0., 0.],\n",
       "       [0., 0., 0., 0., 0., 0., 0., 0., 0., 0., 0., 0., 0., 0., 0.],\n",
       "       [0., 0., 0., 1., 0., 0., 1., 0., 1., 0., 0., 0., 0., 1., 0.],\n",
       "       [0., 0., 0., 0., 0., 0., 0., 0., 0., 0., 0., 0., 0., 0., 0.]])"
      ]
     },
     "execution_count": 403,
     "metadata": {},
     "output_type": "execute_result"
    }
   ],
   "source": [
    "test_labels_co_mem[:15,:15]"
   ]
  },
  {
   "cell_type": "code",
   "execution_count": 380,
   "metadata": {
    "ExecuteTime": {
     "end_time": "2020-07-04T04:32:13.545258Z",
     "start_time": "2020-07-04T04:32:13.536961Z"
    }
   },
   "outputs": [
    {
     "data": {
      "text/plain": [
       "array([[0., 0., 0., ..., 0., 0., 0.],\n",
       "       [0., 0., 0., ..., 0., 0., 1.],\n",
       "       [0., 0., 0., ..., 0., 0., 0.],\n",
       "       ...,\n",
       "       [0., 0., 0., ..., 0., 1., 0.],\n",
       "       [0., 0., 0., ..., 1., 0., 0.],\n",
       "       [0., 1., 0., ..., 0., 0., 0.]])"
      ]
     },
     "execution_count": 380,
     "metadata": {},
     "output_type": "execute_result"
    }
   ],
   "source": [
    "co_membership"
   ]
  },
  {
   "cell_type": "code",
   "execution_count": 409,
   "metadata": {
    "ExecuteTime": {
     "end_time": "2020-07-04T04:47:53.529710Z",
     "start_time": "2020-07-04T04:47:53.525137Z"
    }
   },
   "outputs": [],
   "source": [
    "k = 5"
   ]
  },
  {
   "cell_type": "code",
   "execution_count": 419,
   "metadata": {
    "ExecuteTime": {
     "end_time": "2020-07-04T04:52:57.115889Z",
     "start_time": "2020-07-04T04:52:26.560043Z"
    }
   },
   "outputs": [],
   "source": [
    "ss = []\n",
    "for j in range(k):\n",
    "    examples_j = x_test[test_labels == j, :].tolist()\n",
    "    n_examples_j = len(examples_j)\n",
    "    test_labels_co_mem = np.zeros((len(test_labels), len(test_labels)))\n",
    "    for i in range(len(test_labels)):\n",
    "        diag = (test_labels == np.roll(test_labels, shift = i)) & (test_labels == j)\n",
    "        diag = diag[i:]\n",
    "        test_labels_co_mem[range(i,len(test_labels)),range(len(diag))] = diag\n",
    "    test_labels_co_mem = test_labels_co_mem + test_labels_co_mem.T - np.diag(np.diag(test_labels_co_mem))\n",
    "    s = (co_membership * test_labels_co_mem).sum()\n",
    "    ss.append(s / (n_examples_j * (n_examples_j - 1))) "
   ]
  },
  {
   "cell_type": "code",
   "execution_count": 421,
   "metadata": {
    "ExecuteTime": {
     "end_time": "2020-07-04T04:53:00.014176Z",
     "start_time": "2020-07-04T04:53:00.004301Z"
    }
   },
   "outputs": [
    {
     "data": {
      "text/plain": [
       "0.9748147752606496"
      ]
     },
     "execution_count": 421,
     "metadata": {},
     "output_type": "execute_result"
    }
   ],
   "source": [
    "min(ss)"
   ]
  },
  {
   "cell_type": "code",
   "execution_count": 418,
   "metadata": {
    "ExecuteTime": {
     "end_time": "2020-07-04T04:52:09.859056Z",
     "start_time": "2020-07-04T04:52:09.850832Z"
    }
   },
   "outputs": [
    {
     "data": {
      "text/plain": [
       "1061930"
      ]
     },
     "execution_count": 418,
     "metadata": {},
     "output_type": "execute_result"
    }
   ],
   "source": [
    "(n_examples_j * (n_examples_j - 1))"
   ]
  },
  {
   "cell_type": "code",
   "execution_count": 416,
   "metadata": {
    "ExecuteTime": {
     "end_time": "2020-07-04T04:51:46.778306Z",
     "start_time": "2020-07-04T04:51:45.995198Z"
    }
   },
   "outputs": [
    {
     "data": {
      "text/plain": [
       "1051662.0"
      ]
     },
     "execution_count": 416,
     "metadata": {},
     "output_type": "execute_result"
    }
   ],
   "source": [
    "(co_membership * test_labels_co_mem).sum()"
   ]
  },
  {
   "cell_type": "code",
   "execution_count": 355,
   "metadata": {
    "ExecuteTime": {
     "end_time": "2020-07-04T04:19:32.676002Z",
     "start_time": "2020-07-04T04:19:32.668632Z"
    }
   },
   "outputs": [
    {
     "data": {
      "text/plain": [
       "(5165,)"
      ]
     },
     "execution_count": 355,
     "metadata": {},
     "output_type": "execute_result"
    }
   ],
   "source": [
    "model_test.labels_.shape"
   ]
  },
  {
   "cell_type": "markdown",
   "metadata": {},
   "source": [
    "##### Get prediction strength unoptimized"
   ]
  },
  {
   "cell_type": "code",
   "execution_count": 15,
   "metadata": {
    "ExecuteTime": {
     "end_time": "2020-07-04T13:31:35.385452Z",
     "start_time": "2020-07-04T13:31:35.371163Z"
    }
   },
   "outputs": [],
   "source": [
    "def get_prediction_strength(k, train_centroids, x_test, test_labels):\n",
    "    '''\n",
    "    Function for calculating the prediction strength of clustering\n",
    "    \n",
    "    Parameters\n",
    "    ----------\n",
    "    k : int\n",
    "        The number of clusters\n",
    "    train_centroids : array\n",
    "        Centroids from the clustering on the training set\n",
    "    x_test : array\n",
    "        Test set observations\n",
    "    test_labels : array\n",
    "        Labels predicted for the test set\n",
    "        \n",
    "    Returns\n",
    "    -------\n",
    "    prediction_strength : float\n",
    "        Calculated prediction strength\n",
    "    '''\n",
    "    n_test = len(x_test)\n",
    "    \n",
    "    # populate the co-membership matrix\n",
    "    D = np.zeros(shape=(n_test, n_test))\n",
    "    for x1, l1, c1 in zip(x_test, test_labels, list(range(n_test))):\n",
    "        for x2, l2, c2 in zip(x_test, test_labels, list(range(n_test))):\n",
    "            if tuple(x1) != tuple(x2):\n",
    "                if tuple(get_closest_centroid(x1, train_centroids)) == tuple(get_closest_centroid(x2, train_centroids)):\n",
    "                    D[c1,c2] = 1.0\n",
    "    \n",
    "    # calculate the prediction strengths for each cluster\n",
    "    ss = []\n",
    "    for j in range(k):\n",
    "        s = 0\n",
    "        examples_j = x_test[test_labels == j, :].tolist()\n",
    "        n_examples_j = len(examples_j)\n",
    "        for x1, l1, c1 in zip(x_test, test_labels, list(range(n_test))):\n",
    "            for x2, l2, c2 in zip(x_test, test_labels, list(range(n_test))):\n",
    "                if tuple(x1) != tuple(x2) and l1 == l2 and l1 == j:\n",
    "                    s += D[c1,c2]\n",
    "        ss.append(s / (n_examples_j * (n_examples_j - 1))) \n",
    "\n",
    "    prediction_strength = min(ss)\n",
    "\n",
    "    return prediction_strength"
   ]
  },
  {
   "cell_type": "markdown",
   "metadata": {},
   "source": [
    "##### Get prediction strength optimized"
   ]
  },
  {
   "cell_type": "code",
   "execution_count": 16,
   "metadata": {
    "ExecuteTime": {
     "end_time": "2020-07-04T13:31:41.939773Z",
     "start_time": "2020-07-04T13:31:41.922447Z"
    }
   },
   "outputs": [],
   "source": [
    "def get_prediction_strength_optim(k, train_centroids, x_test, test_labels):\n",
    "    '''\n",
    "    Function for calculating the prediction strength of clustering\n",
    "    \n",
    "    Parameters\n",
    "    ----------\n",
    "    k : int\n",
    "        The number of clusters\n",
    "    train_centroids : array\n",
    "        Centroids from the clustering on the training set\n",
    "    x_test : array\n",
    "        Test set observations\n",
    "    test_labels : array\n",
    "        Labels predicted for the test set\n",
    "        \n",
    "    Returns\n",
    "    -------\n",
    "    prediction_strength : float\n",
    "        Calculated prediction strength\n",
    "    '''\n",
    "    closest_cent = get_closest_centroid_optim_vectorized(x_test, train_centroids)\n",
    "    \n",
    "    co_membership = np.zeros((len(closest_cent), len(closest_cent)))\n",
    "    for i in range(len(closest_cent)):\n",
    "        diag = (closest_cent == np.roll(closest_cent, shift = i, axis = 0)).all(1)[i:]\n",
    "        co_membership[range(i,len(closest_cent)),range(len(diag))] = diag\n",
    "    co_membership = co_membership + co_membership.T - np.diag(np.diag(co_membership))\n",
    "    \n",
    "    # calculate the prediction strengths for each cluster\n",
    "    n_test = len(x_test)\n",
    "    ss = []\n",
    "    for j in range(k):\n",
    "        examples_j = x_test[test_labels == j, :].tolist()\n",
    "        n_examples_j = len(examples_j)\n",
    "        test_labels_co_mem = np.zeros((len(test_labels), len(test_labels)))\n",
    "        for i in range(len(test_labels)):\n",
    "            diag = (test_labels == np.roll(test_labels, shift = i)) & (test_labels == j)\n",
    "            diag = diag[i:]\n",
    "            test_labels_co_mem[range(i,len(test_labels)),range(len(diag))] = diag\n",
    "        test_labels_co_mem = test_labels_co_mem + test_labels_co_mem.T - np.diag(np.diag(test_labels_co_mem))\n",
    "        s = (co_membership * test_labels_co_mem).sum()\n",
    "        ss.append(s / (n_examples_j * (n_examples_j - 1))) \n",
    "\n",
    "    prediction_strength = min(ss)\n",
    "\n",
    "    return prediction_strength"
   ]
  },
  {
   "cell_type": "markdown",
   "metadata": {},
   "source": [
    "##### Running Optimized Implementation"
   ]
  },
  {
   "cell_type": "code",
   "execution_count": 18,
   "metadata": {
    "ExecuteTime": {
     "end_time": "2020-07-04T14:27:35.806427Z",
     "start_time": "2020-07-04T13:32:00.840216Z"
    }
   },
   "outputs": [
    {
     "name": "stdout",
     "output_type": "stream",
     "text": [
      "2\n",
      "3\n",
      "4\n",
      "5\n",
      "6\n",
      "7\n",
      "8\n",
      "9\n",
      "10\n",
      "11\n",
      "12\n",
      "13\n",
      "14\n"
     ]
    }
   ],
   "source": [
    "# running the clustering \n",
    "strengths = []\n",
    "clusters = range(2, 15)\n",
    "for k in clusters:\n",
    "    print(k)\n",
    "    model_train = KMeans(n_clusters=k, random_state=42).fit(X_train)\n",
    "    model_test = KMeans(n_clusters=k, random_state=42).fit(X_test)\n",
    "    \n",
    "    pred_str = get_prediction_strength_optim(k, model_train.cluster_centers_, X_test, model_test.labels_)\n",
    "    strengths.append(pred_str)"
   ]
  },
  {
   "cell_type": "code",
   "execution_count": 431,
   "metadata": {
    "ExecuteTime": {
     "end_time": "2020-07-04T05:18:44.378105Z",
     "start_time": "2020-07-04T05:03:53.386021Z"
    }
   },
   "outputs": [
    {
     "name": "stdout",
     "output_type": "stream",
     "text": [
      "2\n",
      "3\n",
      "4\n",
      "5\n",
      "6\n",
      "7\n",
      "8\n",
      "9\n",
      "10\n",
      "11\n",
      "12\n",
      "13\n",
      "14\n"
     ]
    },
    {
     "data": {
      "image/png": "[encoded data removed]",
      "text/plain": [
       "<Figure size 576x396 with 1 Axes>"
      ]
     },
     "metadata": {},
     "output_type": "display_data"
    }
   ],
   "source": [
    "# plotting\n",
    "### With 5% split for the testing data\n",
    "_, ax = plt.subplots()\n",
    "ax.plot(clusters, strengths, '-o', color='black')\n",
    "ax.axhline(y=0.8, c='red');\n",
    "ax.set(title='Determining the optimal number of clusters', \n",
    "       xlabel='number of clusters', \n",
    "       ylabel='prediction strength');"
   ]
  },
  {
   "cell_type": "code",
   "execution_count": 19,
   "metadata": {
    "ExecuteTime": {
     "end_time": "2020-07-04T14:27:35.989726Z",
     "start_time": "2020-07-04T14:27:35.809033Z"
    }
   },
   "outputs": [
    {
     "data": {
      "image/png": "[encoded data removed]",
      "text/plain": [
       "<Figure size 576x396 with 1 Axes>"
      ]
     },
     "metadata": {},
     "output_type": "display_data"
    }
   ],
   "source": [
    "# plotting\n",
    "### With 10% split for the testing data\n",
    "_, ax = plt.subplots()\n",
    "ax.plot(clusters, strengths, '-o', color='black')\n",
    "ax.axhline(y=0.8, c='red');\n",
    "ax.set(title='Determining the optimal number of clusters', \n",
    "       xlabel='number of clusters', \n",
    "       ylabel='prediction strength');"
   ]
  },
  {
   "cell_type": "markdown",
   "metadata": {},
   "source": [
    "##### Reproducing article with optimized implementation"
   ]
  },
  {
   "cell_type": "code",
   "execution_count": 438,
   "metadata": {
    "ExecuteTime": {
     "end_time": "2020-07-04T05:23:17.003693Z",
     "start_time": "2020-07-04T05:23:16.774927Z"
    }
   },
   "outputs": [
    {
     "data": {
      "image/png": "[encoded data removed]",
      "text/plain": [
       "<Figure size 576x396 with 1 Axes>"
      ]
     },
     "metadata": {},
     "output_type": "display_data"
    }
   ],
   "source": [
    "X, y = make_blobs(n_samples=600, centers=3, cluster_std=0.6, random_state=42)\n",
    "ax = sns.scatterplot(x=X[:, 0], y=X[:, 1], hue=y)\n",
    "ax.set_title('Generated Data', fontsize=16);"
   ]
  },
  {
   "cell_type": "code",
   "execution_count": 439,
   "metadata": {
    "ExecuteTime": {
     "end_time": "2020-07-04T05:23:19.626671Z",
     "start_time": "2020-07-04T05:23:19.618577Z"
    }
   },
   "outputs": [],
   "source": [
    "# train/test split\n",
    "X_train, X_test, y_train, y_test = train_test_split(X, y, test_size=0.2, shuffle=True, stratify=y, random_state=42)"
   ]
  },
  {
   "cell_type": "code",
   "execution_count": 434,
   "metadata": {
    "ExecuteTime": {
     "end_time": "2020-07-04T05:19:36.204447Z",
     "start_time": "2020-07-04T05:19:34.091005Z"
    }
   },
   "outputs": [
    {
     "name": "stderr",
     "output_type": "stream",
     "text": [
      "/opt/conda/lib/python3.7/site-packages/ipykernel_launcher.py:42: RuntimeWarning: divide by zero encountered in double_scalars\n"
     ]
    },
    {
     "data": {
      "image/png": "[encoded data removed]",
      "text/plain": [
       "<Figure size 576x396 with 1 Axes>"
      ]
     },
     "metadata": {},
     "output_type": "display_data"
    }
   ],
   "source": [
    "# running the clustering \n",
    "strengths = []\n",
    "for k in clusters:\n",
    "    model_train = KMeans(n_clusters=k, random_state=42).fit(X_train)\n",
    "    model_test = KMeans(n_clusters=k, random_state=42).fit(X_test)\n",
    "    \n",
    "    pred_str = get_prediction_strength_optim(k, model_train.cluster_centers_, X_test, model_test.labels_)\n",
    "    strengths.append(pred_str)\n",
    "\n",
    "# plotting\n",
    "_, ax = plt.subplots()\n",
    "ax.plot(clusters, strengths, '-o', color='black')\n",
    "ax.axhline(y=0.8, c='red');\n",
    "ax.set(title='Determining the optimal number of clusters', \n",
    "       xlabel='number of clusters', \n",
    "       ylabel='prediction strength');"
   ]
  },
  {
   "cell_type": "markdown",
   "metadata": {},
   "source": [
    "##### Reproducing article with unpptimized implementation"
   ]
  },
  {
   "cell_type": "code",
   "execution_count": 440,
   "metadata": {
    "ExecuteTime": {
     "end_time": "2020-07-04T05:24:32.152769Z",
     "start_time": "2020-07-04T05:23:42.461619Z"
    },
    "scrolled": true
   },
   "outputs": [
    {
     "ename": "ZeroDivisionError",
     "evalue": "division by zero",
     "output_type": "error",
     "traceback": [
      "\u001b[0;31m---------------------------------------------------------------------------\u001b[0m",
      "\u001b[0;31mZeroDivisionError\u001b[0m                         Traceback (most recent call last)",
      "\u001b[0;32m<ipython-input-440-0d0b8c2fd548>\u001b[0m in \u001b[0;36m<module>\u001b[0;34m\u001b[0m\n\u001b[1;32m      5\u001b[0m     \u001b[0mmodel_test\u001b[0m \u001b[0;34m=\u001b[0m \u001b[0mKMeans\u001b[0m\u001b[0;34m(\u001b[0m\u001b[0mn_clusters\u001b[0m\u001b[0;34m=\u001b[0m\u001b[0mk\u001b[0m\u001b[0;34m,\u001b[0m \u001b[0mrandom_state\u001b[0m\u001b[0;34m=\u001b[0m\u001b[0;36m42\u001b[0m\u001b[0;34m)\u001b[0m\u001b[0;34m.\u001b[0m\u001b[0mfit\u001b[0m\u001b[0;34m(\u001b[0m\u001b[0mX_test\u001b[0m\u001b[0;34m)\u001b[0m\u001b[0;34m\u001b[0m\u001b[0;34m\u001b[0m\u001b[0m\n\u001b[1;32m      6\u001b[0m \u001b[0;34m\u001b[0m\u001b[0m\n\u001b[0;32m----> 7\u001b[0;31m     \u001b[0mpred_str\u001b[0m \u001b[0;34m=\u001b[0m \u001b[0mget_prediction_strength\u001b[0m\u001b[0;34m(\u001b[0m\u001b[0mk\u001b[0m\u001b[0;34m,\u001b[0m \u001b[0mmodel_train\u001b[0m\u001b[0;34m.\u001b[0m\u001b[0mcluster_centers_\u001b[0m\u001b[0;34m,\u001b[0m \u001b[0mX_test\u001b[0m\u001b[0;34m,\u001b[0m \u001b[0mmodel_test\u001b[0m\u001b[0;34m.\u001b[0m\u001b[0mlabels_\u001b[0m\u001b[0;34m)\u001b[0m\u001b[0;34m\u001b[0m\u001b[0;34m\u001b[0m\u001b[0m\n\u001b[0m\u001b[1;32m      8\u001b[0m     \u001b[0mstrengths\u001b[0m\u001b[0;34m.\u001b[0m\u001b[0mappend\u001b[0m\u001b[0;34m(\u001b[0m\u001b[0mpred_str\u001b[0m\u001b[0;34m)\u001b[0m\u001b[0;34m\u001b[0m\u001b[0;34m\u001b[0m\u001b[0m\n\u001b[1;32m      9\u001b[0m \u001b[0;34m\u001b[0m\u001b[0m\n",
      "\u001b[0;32m<ipython-input-429-dea2d00d8d3d>\u001b[0m in \u001b[0;36mget_prediction_strength\u001b[0;34m(k, train_centroids, x_test, test_labels)\u001b[0m\n\u001b[1;32m     39\u001b[0m                 \u001b[0;32mif\u001b[0m \u001b[0mtuple\u001b[0m\u001b[0;34m(\u001b[0m\u001b[0mx1\u001b[0m\u001b[0;34m)\u001b[0m \u001b[0;34m!=\u001b[0m \u001b[0mtuple\u001b[0m\u001b[0;34m(\u001b[0m\u001b[0mx2\u001b[0m\u001b[0;34m)\u001b[0m \u001b[0;32mand\u001b[0m \u001b[0ml1\u001b[0m \u001b[0;34m==\u001b[0m \u001b[0ml2\u001b[0m \u001b[0;32mand\u001b[0m \u001b[0ml1\u001b[0m \u001b[0;34m==\u001b[0m \u001b[0mj\u001b[0m\u001b[0;34m:\u001b[0m\u001b[0;34m\u001b[0m\u001b[0;34m\u001b[0m\u001b[0m\n\u001b[1;32m     40\u001b[0m                     \u001b[0ms\u001b[0m \u001b[0;34m+=\u001b[0m \u001b[0mD\u001b[0m\u001b[0;34m[\u001b[0m\u001b[0mc1\u001b[0m\u001b[0;34m,\u001b[0m\u001b[0mc2\u001b[0m\u001b[0;34m]\u001b[0m\u001b[0;34m\u001b[0m\u001b[0;34m\u001b[0m\u001b[0m\n\u001b[0;32m---> 41\u001b[0;31m         \u001b[0mss\u001b[0m\u001b[0;34m.\u001b[0m\u001b[0mappend\u001b[0m\u001b[0;34m(\u001b[0m\u001b[0ms\u001b[0m \u001b[0;34m/\u001b[0m \u001b[0;34m(\u001b[0m\u001b[0mn_examples_j\u001b[0m \u001b[0;34m*\u001b[0m \u001b[0;34m(\u001b[0m\u001b[0mn_examples_j\u001b[0m \u001b[0;34m-\u001b[0m \u001b[0;36m1\u001b[0m\u001b[0;34m)\u001b[0m\u001b[0;34m)\u001b[0m\u001b[0;34m)\u001b[0m\u001b[0;34m\u001b[0m\u001b[0;34m\u001b[0m\u001b[0m\n\u001b[0m\u001b[1;32m     42\u001b[0m \u001b[0;34m\u001b[0m\u001b[0m\n\u001b[1;32m     43\u001b[0m     \u001b[0mprediction_strength\u001b[0m \u001b[0;34m=\u001b[0m \u001b[0mmin\u001b[0m\u001b[0;34m(\u001b[0m\u001b[0mss\u001b[0m\u001b[0;34m)\u001b[0m\u001b[0;34m\u001b[0m\u001b[0;34m\u001b[0m\u001b[0m\n",
      "\u001b[0;31mZeroDivisionError\u001b[0m: division by zero"
     ]
    }
   ],
   "source": [
    "# running the clustering \n",
    "strengths = []\n",
    "for k in clusters:\n",
    "    model_train = KMeans(n_clusters=k, random_state=42).fit(X_train)\n",
    "    model_test = KMeans(n_clusters=k, random_state=42).fit(X_test)\n",
    "    \n",
    "    pred_str = get_prediction_strength(k, model_train.cluster_centers_, X_test, model_test.labels_)\n",
    "    strengths.append(pred_str)\n",
    "\n",
    "# plotting\n",
    "_, ax = plt.subplots()\n",
    "ax.plot(clusters, strengths, '-o', color='black')\n",
    "ax.axhline(y=0.8, c='red');\n",
    "ax.set(title='Determining the optimal number of clusters', \n",
    "       xlabel='number of clusters', \n",
    "       ylabel='prediction strength');"
   ]
  },
  {
   "cell_type": "markdown",
   "metadata": {},
   "source": [
    "#### Fowlkes Mallows Score"
   ]
  },
  {
   "cell_type": "code",
   "execution_count": null,
   "metadata": {},
   "outputs": [],
   "source": [
    "# setting the range of k\n",
    "clusters = range(2, 20)\n",
    "k_fowlkes_mallows = []\n",
    "for k in clusters:\n",
    "    model = KMeans(n_clusters = k, n_init = 100, random_state = 0)\n",
    "    model.fit(data_enc)\n",
    "    \n",
    "    cluster = model.predict(data_enc)\n",
    "    score   = fowlkes_mallows_score(data_enc, cluster)\n",
    "    \n",
    "    k_fowlkes_mallows.append(round(score,2))"
   ]
  },
  {
   "cell_type": "code",
   "execution_count": null,
   "metadata": {},
   "outputs": [],
   "source": [
    "# plotting\n",
    "_, ax = plt.subplots()\n",
    "ax.plot(clusters, k_fowlkes_mallows, '-o', color='black')\n",
    "ax.set(title='Calinski Harabaz Score over k clusters', \n",
    "       xlabel='number of clusters', \n",
    "       ylabel='Calinski Harabaz Score');"
   ]
  },
  {
   "cell_type": "markdown",
   "metadata": {},
   "source": [
    "#### Calinski Harabaz Score"
   ]
  },
  {
   "cell_type": "code",
   "execution_count": 20,
   "metadata": {
    "ExecuteTime": {
     "end_time": "2020-07-04T14:49:05.837522Z",
     "start_time": "2020-07-04T14:47:01.290190Z"
    },
    "scrolled": true
   },
   "outputs": [],
   "source": [
    "# setting the range of k\n",
    "clusters = range(2, 20)\n",
    "k_calinski_harabasz = []\n",
    "for k in clusters:\n",
    "    model = KMeans(n_clusters = k, random_state=42)\n",
    "    model.fit(data_enc)\n",
    "    \n",
    "    cluster = model.predict(data_enc)\n",
    "    score   = calinski_harabasz_score(data_enc, cluster)\n",
    "    \n",
    "    k_calinski_harabasz.append(round(score,2))"
   ]
  },
  {
   "cell_type": "code",
   "execution_count": 21,
   "metadata": {
    "ExecuteTime": {
     "end_time": "2020-07-04T14:49:06.007726Z",
     "start_time": "2020-07-04T14:49:05.840345Z"
    }
   },
   "outputs": [
    {
     "data": {
      "image/png": "[encoded data removed]",
      "text/plain": [
       "<Figure size 576x396 with 1 Axes>"
      ]
     },
     "metadata": {},
     "output_type": "display_data"
    }
   ],
   "source": [
    "# plotting\n",
    "_, ax = plt.subplots()\n",
    "ax.plot(clusters, k_calinski_harabasz, '-o', color='black')\n",
    "ax.set(title='Calinski Harabaz Score over k clusters', \n",
    "       xlabel='number of clusters', \n",
    "       ylabel='Calinski Harabaz Score');"
   ]
  }
 ],
 "metadata": {
  "kernelspec": {
   "display_name": "Python 3",
   "language": "python",
   "name": "python3"
  },
  "language_info": {
   "codemirror_mode": {
    "name": "ipython",
    "version": 3
   },
   "file_extension": ".py",
   "mimetype": "text/x-python",
   "name": "python",
   "nbconvert_exporter": "python",
   "pygments_lexer": "ipython3",
   "version": "3.7.6"
  },
  "toc": {
   "base_numbering": 1,
   "nav_menu": {},
   "number_sections": true,
   "sideBar": true,
   "skip_h1_title": false,
   "title_cell": "Table of Contents",
   "title_sidebar": "Contents",
   "toc_cell": false,
   "toc_position": {
    "height": "calc(100% - 180px)",
    "left": "10px",
    "top": "150px",
    "width": "287px"
   },
   "toc_section_display": true,
   "toc_window_display": true
  }
 },
 "nbformat": 4,
 "nbformat_minor": 2
}
