{
 "cells": [
  {
   "cell_type": "markdown",
   "metadata": {},
   "source": [
    "## DS4A: MinJusticia\n",
    "### Reducing the recidivim risk for people released from jail between 2010 and 2019 <br> \n",
    "\n",
    "\n",
    "Laura A Goyeneche <br>"
   ]
  },
  {
   "cell_type": "code",
   "execution_count": 1,
   "metadata": {},
   "outputs": [],
   "source": [
    "# Libraries\n",
    "import numpy as np\n",
    "import pandas as pd\n",
    "import matplotlib.pyplot as plt\n",
    "\n",
    "%matplotlib inline\n",
    "plt.style.use('seaborn')"
   ]
  },
  {
   "cell_type": "code",
   "execution_count": null,
   "metadata": {},
   "outputs": [],
   "source": [
    "# Import data\n",
    "inmate     = pd.read_csv('data/ReincidenciaPospenadosNal26Mayo2020Rev.csv', sep = ';', skiprows = 5, encoding= 'unicode_escape')\n",
    "inmatevars = pd.read_excel('data/ReincidenciaPospenadosNal2010-31Mayo2020Rev_con variables demograficas.xlsx', skiprows = 6) "
   ]
  },
  {
   "cell_type": "code",
   "execution_count": null,
   "metadata": {},
   "outputs": [],
   "source": [
    "# Data sample\n",
    "inmatevars.head(3)"
   ]
  },
  {
   "cell_type": "code",
   "execution_count": null,
   "metadata": {},
   "outputs": [],
   "source": [
    "# Feature changes\n",
    "inmatevars.FECHA_INGRESO = pd.to_datetime(inmatevars.FECHA_INGRESO)\n",
    "inmatevars.FECHA_SALIDA  = pd.to_datetime(inmatevars.FECHA_SALIDA)\n",
    "inmatevars.FECHA_CAPTURA = pd.to_datetime(inmatevars.FECHA_CAPTURA)"
   ]
  },
  {
   "cell_type": "code",
   "execution_count": null,
   "metadata": {},
   "outputs": [],
   "source": [
    "# Data columns\n",
    "list(inmatevars.columns)"
   ]
  },
  {
   "cell_type": "code",
   "execution_count": null,
   "metadata": {},
   "outputs": [],
   "source": [
    "# Basic information\n",
    "print(\n",
    "'''\n",
    "Number of records (inmates, booking date): {} \n",
    "Number of variables                      : {} \n",
    "Number of inmates                        : {}\n",
    "Number of crime types                    : {}\n",
    "Start and end capture date               : {} and {}\n",
    "Start and end booking date               : {} and {}\n",
    "Start and end release date               : {} and {}\n",
    "'''\n",
    ".format(inmatevars.shape[0], \n",
    "        inmatevars.shape[1], \n",
    "        inmatevars.INTERNOEN.unique().shape[0], \n",
    "        inmatevars.DELITO.unique().shape[0],\n",
    "        inmatevars.FECHA_CAPTURA.min(), inmatevars.FECHA_CAPTURA.max(),\n",
    "        inmatevars.FECHA_INGRESO.min(), inmatevars.FECHA_INGRESO.max(),\n",
    "        inmatevars.FECHA_SALIDA.dropna().min(), inmatevars.FECHA_SALIDA.dropna().max())\n",
    ")"
   ]
  },
  {
   "cell_type": "code",
   "execution_count": null,
   "metadata": {},
   "outputs": [],
   "source": [
    "plt.figure(figsize = (13,5))\n",
    "plt.plot(inmatevars.FECHA_CAPTURA.dt.year.value_counts().to_frame().sort_index()        , label = 'Capture Date', color = '#98c1d9', alpha = 0.7)\n",
    "plt.plot(inmatevars.FECHA_SALIDA.dropna().dt.year.value_counts().to_frame().sort_index(), label = 'Release Date', color = '#118ab2', alpha = 0.7)\n",
    "plt.plot(inmatevars.FECHA_INGRESO.dt.year.value_counts().to_frame().sort_index()        , label = 'Booking Date', color = '#faa307', alpha = 0.7)\n",
    "plt.title('Frequency of captures, bookings and release\\n', fontsize = 14)\n",
    "plt.ylabel('Frequency\\n')\n",
    "plt.xlabel('\\nYear')\n",
    "#plt.xlim(2000,2020)\n",
    "plt.legend(loc = 'upper left', fontsize = 12)\n",
    "plt.show()"
   ]
  },
  {
   "cell_type": "code",
   "execution_count": null,
   "metadata": {},
   "outputs": [],
   "source": [
    "temp               = inmatevars.DELITO.str.title().value_counts().to_frame().reset_index().rename(columns = {'index':'DELITONAME'})\n",
    "temp['DELITO_PER'] = round(temp.DELITO*100/temp.DELITO.sum(),2)\n",
    "temp               = temp.head(10).sort_values(by = 'DELITO', ascending = True)\n",
    "temp.DELITONAME    = temp.DELITONAME.apply(lambda x: x[:int(len(x)/2 + 2)] + '\\n' + x[int(len(x)/2 + 2):] if len(x) > 20 else x)\n",
    "\n",
    "plt.figure(figsize = (10,5))\n",
    "plt.barh(temp.DELITONAME, temp.DELITO)\n",
    "plt.xticks(rotation = 90)\n",
    "plt.title('Top crime types (%.2f %%)\\n' % (temp.DELITO.sum()*100/inmatevars.shape[0]), fontsize = 15)\n",
    "\n",
    "for i in range(len(temp)):\n",
    "    plt.text(1.01*temp.DELITO[i], temp.DELITONAME[i], str(temp.DELITO_PER[i]) + '%', fontweight = 'bold')\n",
    "\n",
    "plt.ylabel('Crime Type\\n')\n",
    "plt.xlabel('\\nFrequency')\n",
    "plt.show()"
   ]
  },
  {
   "cell_type": "code",
   "execution_count": null,
   "metadata": {},
   "outputs": [],
   "source": [
    "plt.figure(figsize = (13,5))\n",
    "plt.hist(inmatevars.EDAD, bins = 20, label = 'Capture Date', color = '#98c1d9')\n",
    "plt.vlines(inmatevars.EDAD.mean(), 0, 30000, color = '#d00000')\n",
    "plt.title('Age distribution\\n', fontsize = 14)\n",
    "plt.ylabel('Frequency\\n')\n",
    "plt.xlabel('\\Age')\n",
    "plt.show()"
   ]
  },
  {
   "cell_type": "code",
   "execution_count": null,
   "metadata": {},
   "outputs": [],
   "source": []
  }
 ],
 "metadata": {
  "kernelspec": {
   "display_name": "Python 3",
   "language": "python",
   "name": "python3"
  },
  "language_info": {
   "codemirror_mode": {
    "name": "ipython",
    "version": 3
   },
   "file_extension": ".py",
   "mimetype": "text/x-python",
   "name": "python",
   "nbconvert_exporter": "python",
   "pygments_lexer": "ipython3",
   "version": "3.7.1"
  }
 },
 "nbformat": 4,
 "nbformat_minor": 2
}
